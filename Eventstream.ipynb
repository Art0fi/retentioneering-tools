{
 "cells": [
  {
   "cell_type": "markdown",
   "metadata": {
    "id": "vtGqS-SRKnlx"
   },
   "source": [
    "## Prerequisites\n",
    "\n",
    "Run this cell to prepare the environment. This step is obligatory."
   ]
  },
  {
   "cell_type": "code",
   "execution_count": 3,
   "metadata": {},
   "outputs": [
    {
     "data": {
      "text/plain": [
       "{'a': [3, 2]}"
      ]
     },
     "execution_count": 3,
     "metadata": {},
     "output_type": "execute_result"
    }
   ],
   "source": [
    "import json\n",
    "\n",
    "json.dumps({ \"a\": (3, 2) })\n",
    "json.loads('{\"a\": [3, 2]}')"
   ]
  },
  {
   "cell_type": "code",
   "execution_count": 3,
   "metadata": {},
   "outputs": [
    {
     "name": "stdout",
     "output_type": "stream",
     "text": [
      "fdfdfdf\n",
      "False\n"
     ]
    },
    {
     "name": "stderr",
     "output_type": "stream",
     "text": [
      "<>:12: SyntaxWarning: \"is\" with a literal. Did you mean \"==\"?\n",
      "<>:12: SyntaxWarning: \"is\" with a literal. Did you mean \"==\"?\n",
      "/var/folders/px/wdj66lm50gd8sq7mqv0mcy9c0000gn/T/ipykernel_48413/868818844.py:12: SyntaxWarning: \"is\" with a literal. Did you mean \"==\"?\n",
      "  print(\"tttt\" is str)\n"
     ]
    }
   ],
   "source": [
    "d = {\n",
    "    \"a\": 'fdfdfdf',\n",
    "    \"b\": None,\n",
    "}\n",
    "\n",
    "if d[\"a\"]:\n",
    "    print(d[\"a\"])\n",
    "\n",
    "if d[\"b\"]:\n",
    "    print(d[\"b\"])\n",
    "\n",
    "print(isinstance(\"fsdfsfsd\", str))"
   ]
  },
  {
   "cell_type": "code",
   "execution_count": null,
   "metadata": {},
   "outputs": [],
   "source": [
    "# Configuration for using Retentioneering library \n",
    "\n",
    "# get link to the Rete repository\n",
    "import pandas as pd\n",
    "LINKS = pd.read_csv(\n",
    "    'https://spreadsheets.google.com/feeds/download/spreadsheets/Export?key=1Wd5A24EoankWRVX3klL3TN4smal4yXf0mgSNj_2Aymw&exportFormat=csv', \n",
    "    index_col='title'\n",
    ")\n",
    "RETE_ID = LINKS.link.rete_repository.split('/')[-2]\n",
    "\n",
    "# download the required packages \n",
    "!pip install umap-learn \n",
    "\n",
    "# import system packages\n",
    "from google_drive_downloader import GoogleDriveDownloader as gdd\n",
    "import os\n",
    "import sys\n",
    "import shutil\n",
    "\n",
    "os.chdir('/content/')\n",
    "if os.path.exists('/content/retentioneering-tools-new-arch.zip'):\n",
    "    os.remove('/content/retentioneering-tools-new-arch.zip')\n",
    "if os.path.exists('/content/retentioneering-tools-new-arch/'):\n",
    "    shutil.rmtree('/content/retentioneering-tools-new-arch/', ignore_errors=True)\n",
    "\n",
    "# download library\n",
    "gdd.download_file_from_google_drive(file_id=RETE_ID,\n",
    "                                    dest_path='./retentioneering-tools-new-arch.zip',\n",
    "                                    unzip=True) \n",
    "\n",
    "# setup environment\n",
    "sys.path.insert(0, '..')\n",
    "sys.path.insert(1, '/content/retentioneering-tools-new-arch/')\n",
    "# change working direcory to /content/retentioneering-tools-new-arch\n",
    "os.chdir('/content/retentioneering-tools-new-arch/')"
   ]
  },
  {
   "cell_type": "markdown",
   "metadata": {
    "id": "C8xXiYls32co"
   },
   "source": [
    "# Eventstream concept"
   ]
  },
  {
   "cell_type": "markdown",
   "metadata": {
    "id": "UfAb00OP32cr"
   },
   "source": [
    "Install retentioneering if running from google.colab or for the first time:"
   ]
  },
  {
   "cell_type": "code",
   "execution_count": null,
   "metadata": {
    "id": "3ZzgA52232cs"
   },
   "outputs": [],
   "source": [
    "# !pip install retentioneering"
   ]
  },
  {
   "cell_type": "code",
   "execution_count": 4,
   "metadata": {
    "id": "jZnpohr-32ct"
   },
   "outputs": [],
   "source": [
    "import pandas as pd"
   ]
  },
  {
   "cell_type": "markdown",
   "metadata": {
    "id": "uIShirnE32ct"
   },
   "source": [
    "``Eventstream`` - is a core data type, which is used in rete library.\n",
    "We need such a type in order to processed clickstream data, create tools which take into account its specifics."
   ]
  },
  {
   "cell_type": "markdown",
   "metadata": {
    "id": "a_3idxT832ct"
   },
   "source": [
    "First of all let's download small dataset."
   ]
  },
  {
   "cell_type": "code",
   "execution_count": 5,
   "metadata": {
    "id": "tcxLNoxH32cu"
   },
   "outputs": [],
   "source": [
    "df = pd.read_csv(\"src/datasets/data/simple-onlineshop.csv\")"
   ]
  },
  {
   "cell_type": "code",
   "execution_count": 6,
   "metadata": {
    "colab": {
     "base_uri": "https://localhost:8080/"
    },
    "id": "ij9awGeg32cu",
    "outputId": "75aa13c1-d535-4b5f-d4df-c1148df58c2a"
   },
   "outputs": [
    {
     "name": "stdout",
     "output_type": "stream",
     "text": [
      "<class 'pandas.core.frame.DataFrame'>\n",
      "RangeIndex: 35381 entries, 0 to 35380\n",
      "Data columns (total 3 columns):\n",
      " #   Column     Non-Null Count  Dtype \n",
      "---  ------     --------------  ----- \n",
      " 0   user_id    35381 non-null  int64 \n",
      " 1   event      35381 non-null  object\n",
      " 2   timestamp  35381 non-null  object\n",
      "dtypes: int64(1), object(2)\n",
      "memory usage: 829.4+ KB\n"
     ]
    }
   ],
   "source": [
    "df.info()"
   ]
  },
  {
   "cell_type": "markdown",
   "metadata": {
    "id": "j2co8P-D32cv"
   },
   "source": [
    "## Eventstream creation"
   ]
  },
  {
   "cell_type": "markdown",
   "metadata": {
    "id": "-uZ_j6vU32cv"
   },
   "source": [
    "To create an ``Eventstream`` we need at least 3 columns:\n",
    "- ``user_id``\n",
    "- ``event_name``\n",
    "- ``event_timestamp``\n",
    "\n",
    "If columns in our df have names like in the default ``RawDataSchema`` - all we need is to import ``Eventstream`` and create it from input pd.Dataframe."
   ]
  },
  {
   "cell_type": "code",
   "execution_count": 7,
   "metadata": {
    "colab": {
     "base_uri": "https://localhost:8080/"
    },
    "id": "cfcgdZW-32cw",
    "outputId": "2942b458-5593-40a3-f0b0-635d49df29eb"
   },
   "outputs": [
    {
     "name": "stderr",
     "output_type": "stream",
     "text": [
      "C:\\python_projects\\retentioneering-tools-new-arch\\src\\params_model\\params_model.py:68: UserWarning: Callable func was excluded from schema since JSON schema has no equivalent type.\n",
      "  params_schema: dict[str, Any] = cls.schema()\n",
      "C:\\Users\\58\\AppData\\Local\\pypoetry\\Cache\\virtualenvs\\retentioneering-tools-new-arch-WF98u1OB-py3.9\\lib\\site-packages\\tqdm\\auto.py:22: TqdmWarning: IProgress not found. Please update jupyter and ipywidgets. See https://ipywidgets.readthedocs.io/en/stable/user_install.html\n",
      "  from .autonotebook import tqdm as notebook_tqdm\n"
     ]
    }
   ],
   "source": [
    "from retentioneering.eventstream import Eventstream\n",
    "stream = Eventstream(df)"
   ]
  },
  {
   "cell_type": "markdown",
   "metadata": {
    "id": "_xAMEOPx32cw"
   },
   "source": [
    "We can't directly display eventstream data, but we can convert it to pd.Dataframe:"
   ]
  },
  {
   "cell_type": "code",
   "execution_count": 8,
   "metadata": {
    "colab": {
     "base_uri": "https://localhost:8080/",
     "height": 424
    },
    "id": "Mn6WK1Rd32cw",
    "outputId": "42b45743-a8d3-4787-efc2-92a194ae7ed1"
   },
   "outputs": [
    {
     "data": {
      "text/html": [
       "<div>\n",
       "<style scoped>\n",
       "    .dataframe tbody tr th:only-of-type {\n",
       "        vertical-align: middle;\n",
       "    }\n",
       "\n",
       "    .dataframe tbody tr th {\n",
       "        vertical-align: top;\n",
       "    }\n",
       "\n",
       "    .dataframe thead th {\n",
       "        text-align: right;\n",
       "    }\n",
       "</style>\n",
       "<table border=\"1\" class=\"dataframe\">\n",
       "  <thead>\n",
       "    <tr style=\"text-align: right;\">\n",
       "      <th></th>\n",
       "      <th>event_id</th>\n",
       "      <th>event_type</th>\n",
       "      <th>event_index</th>\n",
       "      <th>event</th>\n",
       "      <th>timestamp</th>\n",
       "      <th>user_id</th>\n",
       "    </tr>\n",
       "  </thead>\n",
       "  <tbody>\n",
       "    <tr>\n",
       "      <th>0</th>\n",
       "      <td>bc1e2b89-826c-41ef-b16b-cc65a33295d1</td>\n",
       "      <td>raw</td>\n",
       "      <td>0</td>\n",
       "      <td>catalog</td>\n",
       "      <td>2019-11-01 17:59:13.273932</td>\n",
       "      <td>219483890</td>\n",
       "    </tr>\n",
       "    <tr>\n",
       "      <th>1</th>\n",
       "      <td>80cacfcd-2679-4c4f-8113-83a1b968f38e</td>\n",
       "      <td>raw</td>\n",
       "      <td>1</td>\n",
       "      <td>product1</td>\n",
       "      <td>2019-11-01 17:59:28.459271</td>\n",
       "      <td>219483890</td>\n",
       "    </tr>\n",
       "    <tr>\n",
       "      <th>2</th>\n",
       "      <td>f57ef553-4ae5-41d2-9bd9-2d76bb8181f7</td>\n",
       "      <td>raw</td>\n",
       "      <td>2</td>\n",
       "      <td>cart</td>\n",
       "      <td>2019-11-01 17:59:29.502214</td>\n",
       "      <td>219483890</td>\n",
       "    </tr>\n",
       "    <tr>\n",
       "      <th>3</th>\n",
       "      <td>d752445e-e117-4a2c-a650-711f703b6e3e</td>\n",
       "      <td>raw</td>\n",
       "      <td>3</td>\n",
       "      <td>catalog</td>\n",
       "      <td>2019-11-01 17:59:32.557029</td>\n",
       "      <td>219483890</td>\n",
       "    </tr>\n",
       "    <tr>\n",
       "      <th>4</th>\n",
       "      <td>24af774e-ee69-443a-84e6-bc97ae374c93</td>\n",
       "      <td>raw</td>\n",
       "      <td>4</td>\n",
       "      <td>catalog</td>\n",
       "      <td>2019-11-01 21:38:19.283663</td>\n",
       "      <td>964964743</td>\n",
       "    </tr>\n",
       "    <tr>\n",
       "      <th>...</th>\n",
       "      <td>...</td>\n",
       "      <td>...</td>\n",
       "      <td>...</td>\n",
       "      <td>...</td>\n",
       "      <td>...</td>\n",
       "      <td>...</td>\n",
       "    </tr>\n",
       "    <tr>\n",
       "      <th>35376</th>\n",
       "      <td>585e7dc0-9c7a-426a-9a45-67a6df09951d</td>\n",
       "      <td>raw</td>\n",
       "      <td>35376</td>\n",
       "      <td>catalog</td>\n",
       "      <td>2020-04-29 12:47:40.975732</td>\n",
       "      <td>501098384</td>\n",
       "    </tr>\n",
       "    <tr>\n",
       "      <th>35377</th>\n",
       "      <td>32f21c28-0a95-4b9f-9de0-214b32da776b</td>\n",
       "      <td>raw</td>\n",
       "      <td>35377</td>\n",
       "      <td>catalog</td>\n",
       "      <td>2020-04-29 12:48:01.809577</td>\n",
       "      <td>501098384</td>\n",
       "    </tr>\n",
       "    <tr>\n",
       "      <th>35378</th>\n",
       "      <td>eed32e3c-9e8c-409b-a59b-549f8b2344eb</td>\n",
       "      <td>raw</td>\n",
       "      <td>35378</td>\n",
       "      <td>main</td>\n",
       "      <td>2020-04-29 12:48:01.938488</td>\n",
       "      <td>501098384</td>\n",
       "    </tr>\n",
       "    <tr>\n",
       "      <th>35379</th>\n",
       "      <td>28dc2d3e-fe0b-40c2-9b0a-47e02b8a01d0</td>\n",
       "      <td>raw</td>\n",
       "      <td>35379</td>\n",
       "      <td>catalog</td>\n",
       "      <td>2020-04-29 12:48:06.595390</td>\n",
       "      <td>501098384</td>\n",
       "    </tr>\n",
       "    <tr>\n",
       "      <th>35380</th>\n",
       "      <td>268d7efa-58f8-486d-ba07-c39ff91d2544</td>\n",
       "      <td>raw</td>\n",
       "      <td>35380</td>\n",
       "      <td>lost</td>\n",
       "      <td>2020-04-29 12:48:07.595390</td>\n",
       "      <td>501098384</td>\n",
       "    </tr>\n",
       "  </tbody>\n",
       "</table>\n",
       "<p>35381 rows × 6 columns</p>\n",
       "</div>"
      ],
      "text/plain": [
       "                                   event_id event_type  event_index     event  \\\n",
       "0      bc1e2b89-826c-41ef-b16b-cc65a33295d1        raw            0   catalog   \n",
       "1      80cacfcd-2679-4c4f-8113-83a1b968f38e        raw            1  product1   \n",
       "2      f57ef553-4ae5-41d2-9bd9-2d76bb8181f7        raw            2      cart   \n",
       "3      d752445e-e117-4a2c-a650-711f703b6e3e        raw            3   catalog   \n",
       "4      24af774e-ee69-443a-84e6-bc97ae374c93        raw            4   catalog   \n",
       "...                                     ...        ...          ...       ...   \n",
       "35376  585e7dc0-9c7a-426a-9a45-67a6df09951d        raw        35376   catalog   \n",
       "35377  32f21c28-0a95-4b9f-9de0-214b32da776b        raw        35377   catalog   \n",
       "35378  eed32e3c-9e8c-409b-a59b-549f8b2344eb        raw        35378      main   \n",
       "35379  28dc2d3e-fe0b-40c2-9b0a-47e02b8a01d0        raw        35379   catalog   \n",
       "35380  268d7efa-58f8-486d-ba07-c39ff91d2544        raw        35380      lost   \n",
       "\n",
       "                       timestamp    user_id  \n",
       "0     2019-11-01 17:59:13.273932  219483890  \n",
       "1     2019-11-01 17:59:28.459271  219483890  \n",
       "2     2019-11-01 17:59:29.502214  219483890  \n",
       "3     2019-11-01 17:59:32.557029  219483890  \n",
       "4     2019-11-01 21:38:19.283663  964964743  \n",
       "...                          ...        ...  \n",
       "35376 2020-04-29 12:47:40.975732  501098384  \n",
       "35377 2020-04-29 12:48:01.809577  501098384  \n",
       "35378 2020-04-29 12:48:01.938488  501098384  \n",
       "35379 2020-04-29 12:48:06.595390  501098384  \n",
       "35380 2020-04-29 12:48:07.595390  501098384  \n",
       "\n",
       "[35381 rows x 6 columns]"
      ]
     },
     "execution_count": 8,
     "metadata": {},
     "output_type": "execute_result"
    }
   ],
   "source": [
    "stream.to_dataframe()"
   ]
  },
  {
   "cell_type": "markdown",
   "metadata": {
    "id": "WJ7YfryQ32cw"
   },
   "source": [
    "Let's have a look on more complex example - if columns names are different from the default ``RawDataSchema``."
   ]
  },
  {
   "cell_type": "code",
   "execution_count": 9,
   "metadata": {
    "colab": {
     "base_uri": "https://localhost:8080/",
     "height": 206
    },
    "id": "Nb30IaUI32cx",
    "outputId": "05b9e605-10fd-4774-c128-a1e5291c7f65"
   },
   "outputs": [
    {
     "data": {
      "text/html": [
       "<div>\n",
       "<style scoped>\n",
       "    .dataframe tbody tr th:only-of-type {\n",
       "        vertical-align: middle;\n",
       "    }\n",
       "\n",
       "    .dataframe tbody tr th {\n",
       "        vertical-align: top;\n",
       "    }\n",
       "\n",
       "    .dataframe thead th {\n",
       "        text-align: right;\n",
       "    }\n",
       "</style>\n",
       "<table border=\"1\" class=\"dataframe\">\n",
       "  <thead>\n",
       "    <tr style=\"text-align: right;\">\n",
       "      <th></th>\n",
       "      <th>uid</th>\n",
       "      <th>action_name</th>\n",
       "      <th>datetime</th>\n",
       "    </tr>\n",
       "  </thead>\n",
       "  <tbody>\n",
       "    <tr>\n",
       "      <th>0</th>\n",
       "      <td>219483890</td>\n",
       "      <td>catalog</td>\n",
       "      <td>2019-11-01 17:59:13.273932</td>\n",
       "    </tr>\n",
       "    <tr>\n",
       "      <th>1</th>\n",
       "      <td>219483890</td>\n",
       "      <td>product1</td>\n",
       "      <td>2019-11-01 17:59:28.459271</td>\n",
       "    </tr>\n",
       "    <tr>\n",
       "      <th>2</th>\n",
       "      <td>219483890</td>\n",
       "      <td>cart</td>\n",
       "      <td>2019-11-01 17:59:29.502214</td>\n",
       "    </tr>\n",
       "    <tr>\n",
       "      <th>3</th>\n",
       "      <td>219483890</td>\n",
       "      <td>catalog</td>\n",
       "      <td>2019-11-01 17:59:32.557029</td>\n",
       "    </tr>\n",
       "    <tr>\n",
       "      <th>4</th>\n",
       "      <td>964964743</td>\n",
       "      <td>catalog</td>\n",
       "      <td>2019-11-01 21:38:19.283663</td>\n",
       "    </tr>\n",
       "  </tbody>\n",
       "</table>\n",
       "</div>"
      ],
      "text/plain": [
       "         uid action_name                    datetime\n",
       "0  219483890     catalog  2019-11-01 17:59:13.273932\n",
       "1  219483890    product1  2019-11-01 17:59:28.459271\n",
       "2  219483890        cart  2019-11-01 17:59:29.502214\n",
       "3  219483890     catalog  2019-11-01 17:59:32.557029\n",
       "4  964964743     catalog  2019-11-01 21:38:19.283663"
      ]
     },
     "execution_count": 9,
     "metadata": {},
     "output_type": "execute_result"
    }
   ],
   "source": [
    "df.columns = ['uid', 'action_name', 'datetime']\n",
    "df.head()"
   ]
  },
  {
   "cell_type": "markdown",
   "metadata": {
    "id": "SqSrC-Gh32cx"
   },
   "source": [
    "There are 2 ways how to deal with that problem:\n",
    "1) Rename columns\n",
    "2) Change RawDataSchema\n",
    "\n",
    "Let's have a look on how to create a custom ``RawDataSchema``"
   ]
  },
  {
   "cell_type": "code",
   "execution_count": 10,
   "metadata": {
    "id": "4wNFbpsx32cx"
   },
   "outputs": [],
   "source": [
    "from retentioneering.eventstream import Eventstream, RawDataSchema\n",
    "raw_data_schema=RawDataSchema(\n",
    "                user_id=\"uid\",\n",
    "                event_name=\"action_name\",\n",
    "                event_timestamp=\"datetime\",\n",
    "                )\n",
    "stream2 = Eventstream(\n",
    "            raw_data_schema=raw_data_schema,\n",
    "            raw_data=df)"
   ]
  },
  {
   "cell_type": "code",
   "execution_count": 11,
   "metadata": {
    "colab": {
     "base_uri": "https://localhost:8080/",
     "height": 206
    },
    "id": "zFVy3epi32cx",
    "outputId": "f9ffdd39-1b06-4ca2-ae57-24a301fee1a5"
   },
   "outputs": [
    {
     "data": {
      "text/html": [
       "<div>\n",
       "<style scoped>\n",
       "    .dataframe tbody tr th:only-of-type {\n",
       "        vertical-align: middle;\n",
       "    }\n",
       "\n",
       "    .dataframe tbody tr th {\n",
       "        vertical-align: top;\n",
       "    }\n",
       "\n",
       "    .dataframe thead th {\n",
       "        text-align: right;\n",
       "    }\n",
       "</style>\n",
       "<table border=\"1\" class=\"dataframe\">\n",
       "  <thead>\n",
       "    <tr style=\"text-align: right;\">\n",
       "      <th></th>\n",
       "      <th>event_id</th>\n",
       "      <th>event_type</th>\n",
       "      <th>event_index</th>\n",
       "      <th>event</th>\n",
       "      <th>timestamp</th>\n",
       "      <th>user_id</th>\n",
       "    </tr>\n",
       "  </thead>\n",
       "  <tbody>\n",
       "    <tr>\n",
       "      <th>0</th>\n",
       "      <td>90414b3a-8c7a-4813-a710-a1f348bb9d36</td>\n",
       "      <td>raw</td>\n",
       "      <td>0</td>\n",
       "      <td>catalog</td>\n",
       "      <td>2019-11-01 17:59:13.273932</td>\n",
       "      <td>219483890</td>\n",
       "    </tr>\n",
       "    <tr>\n",
       "      <th>1</th>\n",
       "      <td>45f93d65-d19d-4d96-a84a-fe9917cc9308</td>\n",
       "      <td>raw</td>\n",
       "      <td>1</td>\n",
       "      <td>product1</td>\n",
       "      <td>2019-11-01 17:59:28.459271</td>\n",
       "      <td>219483890</td>\n",
       "    </tr>\n",
       "    <tr>\n",
       "      <th>2</th>\n",
       "      <td>d4a7d1d4-9112-49a1-b56b-7ed9eae1ab90</td>\n",
       "      <td>raw</td>\n",
       "      <td>2</td>\n",
       "      <td>cart</td>\n",
       "      <td>2019-11-01 17:59:29.502214</td>\n",
       "      <td>219483890</td>\n",
       "    </tr>\n",
       "    <tr>\n",
       "      <th>3</th>\n",
       "      <td>b116ae61-2d7d-43eb-adc4-e2e79fb7156f</td>\n",
       "      <td>raw</td>\n",
       "      <td>3</td>\n",
       "      <td>catalog</td>\n",
       "      <td>2019-11-01 17:59:32.557029</td>\n",
       "      <td>219483890</td>\n",
       "    </tr>\n",
       "    <tr>\n",
       "      <th>4</th>\n",
       "      <td>4d6a775a-03ab-4175-9138-8a539c6f202b</td>\n",
       "      <td>raw</td>\n",
       "      <td>4</td>\n",
       "      <td>catalog</td>\n",
       "      <td>2019-11-01 21:38:19.283663</td>\n",
       "      <td>964964743</td>\n",
       "    </tr>\n",
       "  </tbody>\n",
       "</table>\n",
       "</div>"
      ],
      "text/plain": [
       "                               event_id event_type  event_index     event  \\\n",
       "0  90414b3a-8c7a-4813-a710-a1f348bb9d36        raw            0   catalog   \n",
       "1  45f93d65-d19d-4d96-a84a-fe9917cc9308        raw            1  product1   \n",
       "2  d4a7d1d4-9112-49a1-b56b-7ed9eae1ab90        raw            2      cart   \n",
       "3  b116ae61-2d7d-43eb-adc4-e2e79fb7156f        raw            3   catalog   \n",
       "4  4d6a775a-03ab-4175-9138-8a539c6f202b        raw            4   catalog   \n",
       "\n",
       "                   timestamp    user_id  \n",
       "0 2019-11-01 17:59:13.273932  219483890  \n",
       "1 2019-11-01 17:59:28.459271  219483890  \n",
       "2 2019-11-01 17:59:29.502214  219483890  \n",
       "3 2019-11-01 17:59:32.557029  219483890  \n",
       "4 2019-11-01 21:38:19.283663  964964743  "
      ]
     },
     "execution_count": 11,
     "metadata": {},
     "output_type": "execute_result"
    }
   ],
   "source": [
    "stream2.to_dataframe().head()"
   ]
  },
  {
   "cell_type": "markdown",
   "metadata": {
    "id": "eeMnWWGU32cy"
   },
   "source": [
    "One more point, which we need to explore - how we can define some custom columns.\n",
    "Let's add one in order to demonstrate such functionality."
   ]
  },
  {
   "cell_type": "code",
   "execution_count": 12,
   "metadata": {
    "colab": {
     "base_uri": "https://localhost:8080/",
     "height": 206
    },
    "id": "Yc3biNVp32cy",
    "outputId": "4b5794e5-a84c-4aea-c298-cd655683cd8f"
   },
   "outputs": [
    {
     "data": {
      "text/html": [
       "<div>\n",
       "<style scoped>\n",
       "    .dataframe tbody tr th:only-of-type {\n",
       "        vertical-align: middle;\n",
       "    }\n",
       "\n",
       "    .dataframe tbody tr th {\n",
       "        vertical-align: top;\n",
       "    }\n",
       "\n",
       "    .dataframe thead th {\n",
       "        text-align: right;\n",
       "    }\n",
       "</style>\n",
       "<table border=\"1\" class=\"dataframe\">\n",
       "  <thead>\n",
       "    <tr style=\"text-align: right;\">\n",
       "      <th></th>\n",
       "      <th>uid</th>\n",
       "      <th>action_name</th>\n",
       "      <th>datetime</th>\n",
       "      <th>user_type</th>\n",
       "    </tr>\n",
       "  </thead>\n",
       "  <tbody>\n",
       "    <tr>\n",
       "      <th>0</th>\n",
       "      <td>219483890</td>\n",
       "      <td>catalog</td>\n",
       "      <td>2019-11-01 17:59:13.273932</td>\n",
       "      <td>non_conv</td>\n",
       "    </tr>\n",
       "    <tr>\n",
       "      <th>1</th>\n",
       "      <td>219483890</td>\n",
       "      <td>product1</td>\n",
       "      <td>2019-11-01 17:59:28.459271</td>\n",
       "      <td>non_conv</td>\n",
       "    </tr>\n",
       "    <tr>\n",
       "      <th>2</th>\n",
       "      <td>219483890</td>\n",
       "      <td>cart</td>\n",
       "      <td>2019-11-01 17:59:29.502214</td>\n",
       "      <td>non_conv</td>\n",
       "    </tr>\n",
       "    <tr>\n",
       "      <th>3</th>\n",
       "      <td>219483890</td>\n",
       "      <td>catalog</td>\n",
       "      <td>2019-11-01 17:59:32.557029</td>\n",
       "      <td>non_conv</td>\n",
       "    </tr>\n",
       "    <tr>\n",
       "      <th>4</th>\n",
       "      <td>964964743</td>\n",
       "      <td>catalog</td>\n",
       "      <td>2019-11-01 21:38:19.283663</td>\n",
       "      <td>non_conv</td>\n",
       "    </tr>\n",
       "  </tbody>\n",
       "</table>\n",
       "</div>"
      ],
      "text/plain": [
       "         uid action_name                    datetime user_type\n",
       "0  219483890     catalog  2019-11-01 17:59:13.273932  non_conv\n",
       "1  219483890    product1  2019-11-01 17:59:28.459271  non_conv\n",
       "2  219483890        cart  2019-11-01 17:59:29.502214  non_conv\n",
       "3  219483890     catalog  2019-11-01 17:59:32.557029  non_conv\n",
       "4  964964743     catalog  2019-11-01 21:38:19.283663  non_conv"
      ]
     },
     "execution_count": 12,
     "metadata": {},
     "output_type": "execute_result"
    }
   ],
   "source": [
    "conv_users = df[df['action_name'] == 'payment_done']['uid'].unique()\n",
    "df['user_type'] = 'non_conv'\n",
    "df.loc[df['uid'].isin(conv_users),'user_type'] = 'conv'\n",
    "df.head()"
   ]
  },
  {
   "cell_type": "code",
   "execution_count": 13,
   "metadata": {
    "colab": {
     "base_uri": "https://localhost:8080/"
    },
    "id": "4gH8JAZH32cy",
    "outputId": "12381ee2-a651-4135-da64-3ecc5ed6525a"
   },
   "outputs": [
    {
     "data": {
      "text/plain": [
       "non_conv    24038\n",
       "conv        11343\n",
       "Name: user_type, dtype: int64"
      ]
     },
     "execution_count": 13,
     "metadata": {},
     "output_type": "execute_result"
    }
   ],
   "source": [
    "df.user_type.value_counts()"
   ]
  },
  {
   "cell_type": "code",
   "execution_count": 14,
   "metadata": {
    "id": "ttSEGk5P32cy"
   },
   "outputs": [],
   "source": [
    "raw_data_schema=RawDataSchema(\n",
    "                user_id=\"uid\",\n",
    "                event_name=\"action_name\",\n",
    "                event_timestamp=\"datetime\",\n",
    "                custom_cols = [{\"custom_col\": 'user_type_col',\n",
    "                                 \"raw_data_col\": \"user_type\"}]\n",
    "                )\n",
    "stream3 = Eventstream(\n",
    "            raw_data_schema=raw_data_schema,\n",
    "            raw_data=df)"
   ]
  },
  {
   "cell_type": "code",
   "execution_count": 15,
   "metadata": {
    "colab": {
     "base_uri": "https://localhost:8080/",
     "height": 206
    },
    "id": "bGjHaj_I32cz",
    "outputId": "55d0131e-88ab-4e99-e767-5e92e25ae170"
   },
   "outputs": [
    {
     "data": {
      "text/html": [
       "<div>\n",
       "<style scoped>\n",
       "    .dataframe tbody tr th:only-of-type {\n",
       "        vertical-align: middle;\n",
       "    }\n",
       "\n",
       "    .dataframe tbody tr th {\n",
       "        vertical-align: top;\n",
       "    }\n",
       "\n",
       "    .dataframe thead th {\n",
       "        text-align: right;\n",
       "    }\n",
       "</style>\n",
       "<table border=\"1\" class=\"dataframe\">\n",
       "  <thead>\n",
       "    <tr style=\"text-align: right;\">\n",
       "      <th></th>\n",
       "      <th>event_id</th>\n",
       "      <th>event_type</th>\n",
       "      <th>event_index</th>\n",
       "      <th>event</th>\n",
       "      <th>timestamp</th>\n",
       "      <th>user_id</th>\n",
       "      <th>user_type_col</th>\n",
       "    </tr>\n",
       "  </thead>\n",
       "  <tbody>\n",
       "    <tr>\n",
       "      <th>0</th>\n",
       "      <td>9bcd7226-9c21-46ab-94d7-1ba4a22a5657</td>\n",
       "      <td>raw</td>\n",
       "      <td>0</td>\n",
       "      <td>catalog</td>\n",
       "      <td>2019-11-01 17:59:13.273932</td>\n",
       "      <td>219483890</td>\n",
       "      <td>non_conv</td>\n",
       "    </tr>\n",
       "    <tr>\n",
       "      <th>1</th>\n",
       "      <td>d8cecc45-b600-4373-8713-5de974c035c2</td>\n",
       "      <td>raw</td>\n",
       "      <td>1</td>\n",
       "      <td>product1</td>\n",
       "      <td>2019-11-01 17:59:28.459271</td>\n",
       "      <td>219483890</td>\n",
       "      <td>non_conv</td>\n",
       "    </tr>\n",
       "    <tr>\n",
       "      <th>2</th>\n",
       "      <td>f3995812-3ad9-4662-842c-1666491ffa5b</td>\n",
       "      <td>raw</td>\n",
       "      <td>2</td>\n",
       "      <td>cart</td>\n",
       "      <td>2019-11-01 17:59:29.502214</td>\n",
       "      <td>219483890</td>\n",
       "      <td>non_conv</td>\n",
       "    </tr>\n",
       "    <tr>\n",
       "      <th>3</th>\n",
       "      <td>61a4c749-31c2-4cce-9758-e8f207e1413f</td>\n",
       "      <td>raw</td>\n",
       "      <td>3</td>\n",
       "      <td>catalog</td>\n",
       "      <td>2019-11-01 17:59:32.557029</td>\n",
       "      <td>219483890</td>\n",
       "      <td>non_conv</td>\n",
       "    </tr>\n",
       "    <tr>\n",
       "      <th>4</th>\n",
       "      <td>01287fe9-d269-49a5-9a4e-e53fd403ecac</td>\n",
       "      <td>raw</td>\n",
       "      <td>4</td>\n",
       "      <td>catalog</td>\n",
       "      <td>2019-11-01 21:38:19.283663</td>\n",
       "      <td>964964743</td>\n",
       "      <td>non_conv</td>\n",
       "    </tr>\n",
       "  </tbody>\n",
       "</table>\n",
       "</div>"
      ],
      "text/plain": [
       "                               event_id event_type  event_index     event  \\\n",
       "0  9bcd7226-9c21-46ab-94d7-1ba4a22a5657        raw            0   catalog   \n",
       "1  d8cecc45-b600-4373-8713-5de974c035c2        raw            1  product1   \n",
       "2  f3995812-3ad9-4662-842c-1666491ffa5b        raw            2      cart   \n",
       "3  61a4c749-31c2-4cce-9758-e8f207e1413f        raw            3   catalog   \n",
       "4  01287fe9-d269-49a5-9a4e-e53fd403ecac        raw            4   catalog   \n",
       "\n",
       "                   timestamp    user_id user_type_col  \n",
       "0 2019-11-01 17:59:13.273932  219483890      non_conv  \n",
       "1 2019-11-01 17:59:28.459271  219483890      non_conv  \n",
       "2 2019-11-01 17:59:29.502214  219483890      non_conv  \n",
       "3 2019-11-01 17:59:32.557029  219483890      non_conv  \n",
       "4 2019-11-01 21:38:19.283663  964964743      non_conv  "
      ]
     },
     "execution_count": 15,
     "metadata": {},
     "output_type": "execute_result"
    }
   ],
   "source": [
    "stream3.to_dataframe().head()"
   ]
  },
  {
   "cell_type": "markdown",
   "metadata": {
    "id": "vlPxlzQE32cz"
   },
   "source": [
    "## Add custom column"
   ]
  },
  {
   "cell_type": "markdown",
   "metadata": {
    "id": "NNjWqR3c32cz"
   },
   "source": [
    "If we have an ``eventstream`` and would like to add any custom column without additional convertations."
   ]
  },
  {
   "cell_type": "code",
   "execution_count": 16,
   "metadata": {
    "colab": {
     "base_uri": "https://localhost:8080/",
     "height": 206
    },
    "id": "abRJloMw32cz",
    "outputId": "b2abef63-b2b4-435a-c1aa-cd1ac2852198"
   },
   "outputs": [
    {
     "data": {
      "text/html": [
       "<div>\n",
       "<style scoped>\n",
       "    .dataframe tbody tr th:only-of-type {\n",
       "        vertical-align: middle;\n",
       "    }\n",
       "\n",
       "    .dataframe tbody tr th {\n",
       "        vertical-align: top;\n",
       "    }\n",
       "\n",
       "    .dataframe thead th {\n",
       "        text-align: right;\n",
       "    }\n",
       "</style>\n",
       "<table border=\"1\" class=\"dataframe\">\n",
       "  <thead>\n",
       "    <tr style=\"text-align: right;\">\n",
       "      <th></th>\n",
       "      <th>event_id</th>\n",
       "      <th>event_type</th>\n",
       "      <th>event_index</th>\n",
       "      <th>event</th>\n",
       "      <th>timestamp</th>\n",
       "      <th>user_id</th>\n",
       "    </tr>\n",
       "  </thead>\n",
       "  <tbody>\n",
       "    <tr>\n",
       "      <th>0</th>\n",
       "      <td>bc1e2b89-826c-41ef-b16b-cc65a33295d1</td>\n",
       "      <td>raw</td>\n",
       "      <td>0</td>\n",
       "      <td>catalog</td>\n",
       "      <td>2019-11-01 17:59:13.273932</td>\n",
       "      <td>219483890</td>\n",
       "    </tr>\n",
       "    <tr>\n",
       "      <th>1</th>\n",
       "      <td>80cacfcd-2679-4c4f-8113-83a1b968f38e</td>\n",
       "      <td>raw</td>\n",
       "      <td>1</td>\n",
       "      <td>product1</td>\n",
       "      <td>2019-11-01 17:59:28.459271</td>\n",
       "      <td>219483890</td>\n",
       "    </tr>\n",
       "    <tr>\n",
       "      <th>2</th>\n",
       "      <td>f57ef553-4ae5-41d2-9bd9-2d76bb8181f7</td>\n",
       "      <td>raw</td>\n",
       "      <td>2</td>\n",
       "      <td>cart</td>\n",
       "      <td>2019-11-01 17:59:29.502214</td>\n",
       "      <td>219483890</td>\n",
       "    </tr>\n",
       "    <tr>\n",
       "      <th>3</th>\n",
       "      <td>d752445e-e117-4a2c-a650-711f703b6e3e</td>\n",
       "      <td>raw</td>\n",
       "      <td>3</td>\n",
       "      <td>catalog</td>\n",
       "      <td>2019-11-01 17:59:32.557029</td>\n",
       "      <td>219483890</td>\n",
       "    </tr>\n",
       "    <tr>\n",
       "      <th>4</th>\n",
       "      <td>24af774e-ee69-443a-84e6-bc97ae374c93</td>\n",
       "      <td>raw</td>\n",
       "      <td>4</td>\n",
       "      <td>catalog</td>\n",
       "      <td>2019-11-01 21:38:19.283663</td>\n",
       "      <td>964964743</td>\n",
       "    </tr>\n",
       "  </tbody>\n",
       "</table>\n",
       "</div>"
      ],
      "text/plain": [
       "                               event_id event_type  event_index     event  \\\n",
       "0  bc1e2b89-826c-41ef-b16b-cc65a33295d1        raw            0   catalog   \n",
       "1  80cacfcd-2679-4c4f-8113-83a1b968f38e        raw            1  product1   \n",
       "2  f57ef553-4ae5-41d2-9bd9-2d76bb8181f7        raw            2      cart   \n",
       "3  d752445e-e117-4a2c-a650-711f703b6e3e        raw            3   catalog   \n",
       "4  24af774e-ee69-443a-84e6-bc97ae374c93        raw            4   catalog   \n",
       "\n",
       "                   timestamp    user_id  \n",
       "0 2019-11-01 17:59:13.273932  219483890  \n",
       "1 2019-11-01 17:59:28.459271  219483890  \n",
       "2 2019-11-01 17:59:29.502214  219483890  \n",
       "3 2019-11-01 17:59:32.557029  219483890  \n",
       "4 2019-11-01 21:38:19.283663  964964743  "
      ]
     },
     "execution_count": 16,
     "metadata": {},
     "output_type": "execute_result"
    }
   ],
   "source": [
    "stream.to_dataframe().head()"
   ]
  },
  {
   "cell_type": "code",
   "execution_count": 17,
   "metadata": {
    "id": "LZvx9zh332cz"
   },
   "outputs": [],
   "source": [
    "stream.add_custom_col('user_type', df['user_type'])"
   ]
  },
  {
   "cell_type": "code",
   "execution_count": 18,
   "metadata": {
    "colab": {
     "base_uri": "https://localhost:8080/",
     "height": 206
    },
    "id": "aXd5aVfP32cz",
    "outputId": "0643257a-6bb7-4d77-c0b3-b32292bfb96a"
   },
   "outputs": [
    {
     "data": {
      "text/html": [
       "<div>\n",
       "<style scoped>\n",
       "    .dataframe tbody tr th:only-of-type {\n",
       "        vertical-align: middle;\n",
       "    }\n",
       "\n",
       "    .dataframe tbody tr th {\n",
       "        vertical-align: top;\n",
       "    }\n",
       "\n",
       "    .dataframe thead th {\n",
       "        text-align: right;\n",
       "    }\n",
       "</style>\n",
       "<table border=\"1\" class=\"dataframe\">\n",
       "  <thead>\n",
       "    <tr style=\"text-align: right;\">\n",
       "      <th></th>\n",
       "      <th>event_id</th>\n",
       "      <th>event_type</th>\n",
       "      <th>event_index</th>\n",
       "      <th>event</th>\n",
       "      <th>timestamp</th>\n",
       "      <th>user_id</th>\n",
       "      <th>user_type</th>\n",
       "    </tr>\n",
       "  </thead>\n",
       "  <tbody>\n",
       "    <tr>\n",
       "      <th>0</th>\n",
       "      <td>bc1e2b89-826c-41ef-b16b-cc65a33295d1</td>\n",
       "      <td>raw</td>\n",
       "      <td>0</td>\n",
       "      <td>catalog</td>\n",
       "      <td>2019-11-01 17:59:13.273932</td>\n",
       "      <td>219483890</td>\n",
       "      <td>non_conv</td>\n",
       "    </tr>\n",
       "    <tr>\n",
       "      <th>1</th>\n",
       "      <td>80cacfcd-2679-4c4f-8113-83a1b968f38e</td>\n",
       "      <td>raw</td>\n",
       "      <td>1</td>\n",
       "      <td>product1</td>\n",
       "      <td>2019-11-01 17:59:28.459271</td>\n",
       "      <td>219483890</td>\n",
       "      <td>non_conv</td>\n",
       "    </tr>\n",
       "    <tr>\n",
       "      <th>2</th>\n",
       "      <td>f57ef553-4ae5-41d2-9bd9-2d76bb8181f7</td>\n",
       "      <td>raw</td>\n",
       "      <td>2</td>\n",
       "      <td>cart</td>\n",
       "      <td>2019-11-01 17:59:29.502214</td>\n",
       "      <td>219483890</td>\n",
       "      <td>non_conv</td>\n",
       "    </tr>\n",
       "    <tr>\n",
       "      <th>3</th>\n",
       "      <td>d752445e-e117-4a2c-a650-711f703b6e3e</td>\n",
       "      <td>raw</td>\n",
       "      <td>3</td>\n",
       "      <td>catalog</td>\n",
       "      <td>2019-11-01 17:59:32.557029</td>\n",
       "      <td>219483890</td>\n",
       "      <td>non_conv</td>\n",
       "    </tr>\n",
       "    <tr>\n",
       "      <th>4</th>\n",
       "      <td>24af774e-ee69-443a-84e6-bc97ae374c93</td>\n",
       "      <td>raw</td>\n",
       "      <td>4</td>\n",
       "      <td>catalog</td>\n",
       "      <td>2019-11-01 21:38:19.283663</td>\n",
       "      <td>964964743</td>\n",
       "      <td>non_conv</td>\n",
       "    </tr>\n",
       "  </tbody>\n",
       "</table>\n",
       "</div>"
      ],
      "text/plain": [
       "                               event_id event_type  event_index     event  \\\n",
       "0  bc1e2b89-826c-41ef-b16b-cc65a33295d1        raw            0   catalog   \n",
       "1  80cacfcd-2679-4c4f-8113-83a1b968f38e        raw            1  product1   \n",
       "2  f57ef553-4ae5-41d2-9bd9-2d76bb8181f7        raw            2      cart   \n",
       "3  d752445e-e117-4a2c-a650-711f703b6e3e        raw            3   catalog   \n",
       "4  24af774e-ee69-443a-84e6-bc97ae374c93        raw            4   catalog   \n",
       "\n",
       "                   timestamp    user_id user_type  \n",
       "0 2019-11-01 17:59:13.273932  219483890  non_conv  \n",
       "1 2019-11-01 17:59:28.459271  219483890  non_conv  \n",
       "2 2019-11-01 17:59:29.502214  219483890  non_conv  \n",
       "3 2019-11-01 17:59:32.557029  219483890  non_conv  \n",
       "4 2019-11-01 21:38:19.283663  964964743  non_conv  "
      ]
     },
     "execution_count": 18,
     "metadata": {},
     "output_type": "execute_result"
    }
   ],
   "source": [
    "stream.to_dataframe().head()"
   ]
  },
  {
   "cell_type": "markdown",
   "metadata": {
    "id": "38kXKppn32c0"
   },
   "source": [
    "We can see, stream schema also have changed"
   ]
  },
  {
   "cell_type": "code",
   "execution_count": 19,
   "metadata": {
    "colab": {
     "base_uri": "https://localhost:8080/"
    },
    "id": "BUKEbQFd32c0",
    "outputId": "3b1730d6-ee18-44c8-a96a-0709608854da"
   },
   "outputs": [
    {
     "data": {
      "text/plain": [
       "EventstreamSchema(event_id='event_id', event_type='event_type', event_index='event_index', event_name='event', event_timestamp='timestamp', user_id='user_id', custom_cols=['user_type'])"
      ]
     },
     "execution_count": 19,
     "metadata": {},
     "output_type": "execute_result"
    }
   ],
   "source": [
    "stream.schema"
   ]
  },
  {
   "cell_type": "markdown",
   "metadata": {
    "id": "AuuyAFru32c0"
   },
   "source": [
    "## Custom index order"
   ]
  },
  {
   "cell_type": "markdown",
   "metadata": {
    "id": "eH0kwiJj32c0"
   },
   "source": [
    "``eventstream.index_order`` -  attribute that stores rules of the events sorting depends on their ``event_type``. It's nedeed when we start preprocessing process and add synthetic events in users trajectories.\n",
    "Actual ``index_order``:"
   ]
  },
  {
   "cell_type": "code",
   "execution_count": 20,
   "metadata": {
    "colab": {
     "base_uri": "https://localhost:8080/"
    },
    "id": "mEwboYn432c0",
    "outputId": "d56eba6f-6893-4c96-927b-5609d6cd519e"
   },
   "outputs": [
    {
     "data": {
      "text/plain": [
       "['profile',\n",
       " 'path_start',\n",
       " 'new_user',\n",
       " 'existing_user',\n",
       " 'truncated_left',\n",
       " 'session_start',\n",
       " 'session_start_truncated',\n",
       " 'group_alias',\n",
       " 'raw',\n",
       " 'raw_sleep',\n",
       " None,\n",
       " 'synthetic',\n",
       " 'synthetic_sleep',\n",
       " 'positive_target',\n",
       " 'negative_target',\n",
       " 'session_end_truncated',\n",
       " 'session_end',\n",
       " 'session_sleep',\n",
       " 'truncated_right',\n",
       " 'absent_user',\n",
       " 'lost_user',\n",
       " 'path_end']"
      ]
     },
     "execution_count": 20,
     "metadata": {},
     "output_type": "execute_result"
    }
   ],
   "source": [
    "stream.index_order"
   ]
  },
  {
   "cell_type": "markdown",
   "metadata": {
    "id": "JxJLbp6Y32c1"
   },
   "source": [
    "In order to change index_order we can put it in the variable and make some corrections. For example we add custom ``event_type`` - ``loop`` and would like to put it after ``group_alias`` type."
   ]
  },
  {
   "cell_type": "code",
   "execution_count": 21,
   "metadata": {
    "id": "C3lT-TIP32c1"
   },
   "outputs": [],
   "source": [
    "index_list = stream.index_order.copy()"
   ]
  },
  {
   "cell_type": "code",
   "execution_count": 22,
   "metadata": {
    "id": "KiQFOid732c1"
   },
   "outputs": [],
   "source": [
    "place_at = index_list.index('group_alias') + 1"
   ]
  },
  {
   "cell_type": "code",
   "execution_count": 23,
   "metadata": {
    "id": "QxVGFOkQ32c1"
   },
   "outputs": [],
   "source": [
    "index_list[place_at:place_at] = ['loop']"
   ]
  },
  {
   "cell_type": "code",
   "execution_count": 24,
   "metadata": {
    "colab": {
     "base_uri": "https://localhost:8080/"
    },
    "id": "K4rn1jR532c1",
    "outputId": "f39acc38-04a7-403e-d91d-e5882fd7fd39"
   },
   "outputs": [
    {
     "data": {
      "text/plain": [
       "['profile',\n",
       " 'path_start',\n",
       " 'new_user',\n",
       " 'existing_user',\n",
       " 'truncated_left',\n",
       " 'session_start',\n",
       " 'session_start_truncated',\n",
       " 'group_alias',\n",
       " 'loop',\n",
       " 'raw',\n",
       " 'raw_sleep',\n",
       " None,\n",
       " 'synthetic',\n",
       " 'synthetic_sleep',\n",
       " 'positive_target',\n",
       " 'negative_target',\n",
       " 'session_end_truncated',\n",
       " 'session_end',\n",
       " 'session_sleep',\n",
       " 'truncated_right',\n",
       " 'absent_user',\n",
       " 'lost_user',\n",
       " 'path_end']"
      ]
     },
     "execution_count": 24,
     "metadata": {},
     "output_type": "execute_result"
    }
   ],
   "source": [
    "stream.index_order = index_list\n",
    "stream.index_order"
   ]
  },
  {
   "cell_type": "markdown",
   "metadata": {
    "id": "x3oxB8tg32c1"
   },
   "source": [
    "## Copy"
   ]
  },
  {
   "cell_type": "code",
   "execution_count": 25,
   "metadata": {
    "colab": {
     "base_uri": "https://localhost:8080/",
     "height": 206
    },
    "id": "EBLcjj_D32c1",
    "outputId": "0c635f15-1806-48c8-b510-8b7c945f39e9"
   },
   "outputs": [
    {
     "data": {
      "text/html": [
       "<div>\n",
       "<style scoped>\n",
       "    .dataframe tbody tr th:only-of-type {\n",
       "        vertical-align: middle;\n",
       "    }\n",
       "\n",
       "    .dataframe tbody tr th {\n",
       "        vertical-align: top;\n",
       "    }\n",
       "\n",
       "    .dataframe thead th {\n",
       "        text-align: right;\n",
       "    }\n",
       "</style>\n",
       "<table border=\"1\" class=\"dataframe\">\n",
       "  <thead>\n",
       "    <tr style=\"text-align: right;\">\n",
       "      <th></th>\n",
       "      <th>event_id</th>\n",
       "      <th>event_type</th>\n",
       "      <th>event_index</th>\n",
       "      <th>event</th>\n",
       "      <th>timestamp</th>\n",
       "      <th>user_id</th>\n",
       "      <th>user_type</th>\n",
       "    </tr>\n",
       "  </thead>\n",
       "  <tbody>\n",
       "    <tr>\n",
       "      <th>0</th>\n",
       "      <td>bc1e2b89-826c-41ef-b16b-cc65a33295d1</td>\n",
       "      <td>raw</td>\n",
       "      <td>0</td>\n",
       "      <td>catalog</td>\n",
       "      <td>2019-11-01 17:59:13.273932</td>\n",
       "      <td>219483890</td>\n",
       "      <td>non_conv</td>\n",
       "    </tr>\n",
       "    <tr>\n",
       "      <th>1</th>\n",
       "      <td>80cacfcd-2679-4c4f-8113-83a1b968f38e</td>\n",
       "      <td>raw</td>\n",
       "      <td>1</td>\n",
       "      <td>product1</td>\n",
       "      <td>2019-11-01 17:59:28.459271</td>\n",
       "      <td>219483890</td>\n",
       "      <td>non_conv</td>\n",
       "    </tr>\n",
       "    <tr>\n",
       "      <th>2</th>\n",
       "      <td>f57ef553-4ae5-41d2-9bd9-2d76bb8181f7</td>\n",
       "      <td>raw</td>\n",
       "      <td>2</td>\n",
       "      <td>cart</td>\n",
       "      <td>2019-11-01 17:59:29.502214</td>\n",
       "      <td>219483890</td>\n",
       "      <td>non_conv</td>\n",
       "    </tr>\n",
       "    <tr>\n",
       "      <th>3</th>\n",
       "      <td>d752445e-e117-4a2c-a650-711f703b6e3e</td>\n",
       "      <td>raw</td>\n",
       "      <td>3</td>\n",
       "      <td>catalog</td>\n",
       "      <td>2019-11-01 17:59:32.557029</td>\n",
       "      <td>219483890</td>\n",
       "      <td>non_conv</td>\n",
       "    </tr>\n",
       "    <tr>\n",
       "      <th>4</th>\n",
       "      <td>24af774e-ee69-443a-84e6-bc97ae374c93</td>\n",
       "      <td>raw</td>\n",
       "      <td>4</td>\n",
       "      <td>catalog</td>\n",
       "      <td>2019-11-01 21:38:19.283663</td>\n",
       "      <td>964964743</td>\n",
       "      <td>non_conv</td>\n",
       "    </tr>\n",
       "  </tbody>\n",
       "</table>\n",
       "</div>"
      ],
      "text/plain": [
       "                               event_id event_type  event_index     event  \\\n",
       "0  bc1e2b89-826c-41ef-b16b-cc65a33295d1        raw            0   catalog   \n",
       "1  80cacfcd-2679-4c4f-8113-83a1b968f38e        raw            1  product1   \n",
       "2  f57ef553-4ae5-41d2-9bd9-2d76bb8181f7        raw            2      cart   \n",
       "3  d752445e-e117-4a2c-a650-711f703b6e3e        raw            3   catalog   \n",
       "4  24af774e-ee69-443a-84e6-bc97ae374c93        raw            4   catalog   \n",
       "\n",
       "                   timestamp    user_id user_type  \n",
       "0 2019-11-01 17:59:13.273932  219483890  non_conv  \n",
       "1 2019-11-01 17:59:28.459271  219483890  non_conv  \n",
       "2 2019-11-01 17:59:29.502214  219483890  non_conv  \n",
       "3 2019-11-01 17:59:32.557029  219483890  non_conv  \n",
       "4 2019-11-01 21:38:19.283663  964964743  non_conv  "
      ]
     },
     "execution_count": 25,
     "metadata": {},
     "output_type": "execute_result"
    }
   ],
   "source": [
    "stream4 = stream.copy()\n",
    "stream4.to_dataframe().head()"
   ]
  },
  {
   "cell_type": "markdown",
   "metadata": {
    "id": "3fQ5hLRt32c2"
   },
   "source": [
    "## Nodes and PGraph creation"
   ]
  },
  {
   "cell_type": "markdown",
   "metadata": {
    "id": "RqVevr6R32c2"
   },
   "source": [
    "In that guide we are not going to concentrate on preprocessing or tooling, there are special guides for these themes.\n",
    "But let's have a look on ``PGraph`` construction."
   ]
  },
  {
   "cell_type": "markdown",
   "metadata": {
    "id": "RV3kB09h32c2"
   },
   "source": [
    "First of all let's create 2 nodes: ``start_end_node`` and ``lost_node``:"
   ]
  },
  {
   "cell_type": "code",
   "execution_count": 26,
   "metadata": {
    "id": "qAZJXQ0R32c2"
   },
   "outputs": [],
   "source": [
    "from retentioneering.graph.p_graph import PGraph, EventsNode\n",
    "from retentioneering.data_processors_lib import StartEndEvents, StartEndEventsParams\n",
    "from retentioneering.data_processors_lib import LostUsersEvents, LostUsersParams\n",
    "\n",
    "start_end_node = EventsNode(\n",
    "    StartEndEvents(params=StartEndEventsParams(**{}))\n",
    ")\n",
    "\n",
    "params_lost ={'lost_cutoff' : (3000, 's')}\n",
    "\n",
    "lost_node = EventsNode(\n",
    "    LostUsersEvents(params=LostUsersParams(**params_lost)))"
   ]
  },
  {
   "cell_type": "markdown",
   "metadata": {
    "id": "x6ZDxevt32c2"
   },
   "source": [
    "Then we create instance of preprocessing graph:"
   ]
  },
  {
   "cell_type": "code",
   "execution_count": 27,
   "metadata": {
    "id": "KgYB20ft32c2"
   },
   "outputs": [],
   "source": [
    "graph = PGraph(stream2)"
   ]
  },
  {
   "cell_type": "markdown",
   "metadata": {
    "id": "GJuSoeI932c2"
   },
   "source": [
    "And lastly add two nodes: source - start_end_node - lost_node.\n",
    "It's important to mention, that we don't start any calculations right now."
   ]
  },
  {
   "cell_type": "code",
   "execution_count": 28,
   "metadata": {
    "id": "FcSnXzRh32c3"
   },
   "outputs": [],
   "source": [
    "graph.add_node(node=start_end_node, parents=[graph.root])\n",
    "graph.add_node(lost_node, parents=[start_end_node])"
   ]
  },
  {
   "cell_type": "code",
   "execution_count": 29,
   "metadata": {
    "colab": {
     "base_uri": "https://localhost:8080/"
    },
    "id": "Kl4vPxLB32c3",
    "outputId": "c53d72e0-b1b2-4d21-87f7-dd741d0ccd02"
   },
   "outputs": [
    {
     "data": {
      "text/plain": [
       "[{'name': 'EventsNode', 'pk': '9daa7572-4bd2-447f-b516-e5720365b9aa'}]"
      ]
     },
     "execution_count": 29,
     "metadata": {},
     "output_type": "execute_result"
    }
   ],
   "source": [
    "graph.get_parents(lost_node)"
   ]
  },
  {
   "cell_type": "markdown",
   "metadata": {},
   "source": [
    "## timedelta_hist"
   ]
  },
  {
   "cell_type": "markdown",
   "metadata": {},
   "source": []
  },
  {
   "cell_type": "code",
   "execution_count": null,
   "metadata": {},
   "outputs": [],
   "source": []
  },
  {
   "cell_type": "code",
   "execution_count": null,
   "metadata": {},
   "outputs": [],
   "source": []
  },
  {
   "cell_type": "code",
   "execution_count": null,
   "metadata": {},
   "outputs": [],
   "source": []
  },
  {
   "cell_type": "markdown",
   "metadata": {},
   "source": [
    "## user_lifetime_hist"
   ]
  },
  {
   "cell_type": "markdown",
   "metadata": {},
   "source": []
  },
  {
   "cell_type": "code",
   "execution_count": null,
   "metadata": {},
   "outputs": [],
   "source": []
  },
  {
   "cell_type": "code",
   "execution_count": null,
   "metadata": {},
   "outputs": [],
   "source": []
  },
  {
   "cell_type": "code",
   "execution_count": null,
   "metadata": {},
   "outputs": [],
   "source": []
  },
  {
   "cell_type": "markdown",
   "metadata": {},
   "source": [
    "## event_timestamp_hist"
   ]
  },
  {
   "cell_type": "markdown",
   "metadata": {},
   "source": []
  },
  {
   "cell_type": "code",
   "execution_count": null,
   "metadata": {},
   "outputs": [],
   "source": []
  },
  {
   "cell_type": "code",
   "execution_count": null,
   "metadata": {},
   "outputs": [],
   "source": []
  },
  {
   "cell_type": "code",
   "execution_count": null,
   "metadata": {},
   "outputs": [],
   "source": []
  },
  {
   "cell_type": "markdown",
   "metadata": {},
   "source": [
    "## describe"
   ]
  },
  {
   "cell_type": "markdown",
   "metadata": {},
   "source": []
  },
  {
   "cell_type": "code",
   "execution_count": null,
   "metadata": {},
   "outputs": [],
   "source": []
  },
  {
   "cell_type": "code",
   "execution_count": null,
   "metadata": {},
   "outputs": [],
   "source": []
  },
  {
   "cell_type": "code",
   "execution_count": null,
   "metadata": {},
   "outputs": [],
   "source": []
  },
  {
   "cell_type": "markdown",
   "metadata": {},
   "source": [
    "## describe_events"
   ]
  },
  {
   "cell_type": "markdown",
   "metadata": {},
   "source": []
  },
  {
   "cell_type": "code",
   "execution_count": null,
   "metadata": {},
   "outputs": [],
   "source": []
  },
  {
   "cell_type": "code",
   "execution_count": null,
   "metadata": {},
   "outputs": [],
   "source": []
  },
  {
   "cell_type": "code",
   "execution_count": null,
   "metadata": {},
   "outputs": [],
   "source": []
  },
  {
   "cell_type": "markdown",
   "metadata": {
    "id": "zXaaTjRF32c3"
   },
   "source": [
    "# @TODO add explanation. dpanina"
   ]
  },
  {
   "cell_type": "code",
   "execution_count": 30,
   "metadata": {
    "colab": {
     "base_uri": "https://localhost:8080/",
     "height": 960
    },
    "id": "OuF1LzV032c3",
    "outputId": "17d0252a-6695-4bde-de8a-1adcaeb747b3"
   },
   "outputs": [
    {
     "name": "stderr",
     "output_type": "stream",
     "text": [
      "C:\\Users\\58\\AppData\\Local\\pypoetry\\Cache\\virtualenvs\\retentioneering-tools-new-arch-WF98u1OB-py3.9\\lib\\site-packages\\IPython\\core\\display.py:431: UserWarning: Consider using IPython.display.IFrame instead\n",
      "  warnings.warn(\"Consider using IPython.display.IFrame instead\")\n"
     ]
    },
    {
     "data": {
      "text/html": [
       "<iframe  src=\"about:blank\" width=\"960\" height=\"900\">\n",
       "  <!DOCTYPE html>\n",
       "  <html lang=\"en\">\n",
       "  <head>\n",
       "    <meta charset=\"utf-8\">\n",
       "    <title>Rete Preprocessing Graph</title>\n",
       "    <meta name=\"viewport\" content=\"width=device-width, initial-scale=1\">\n",
       "  </head>\n",
       "  <body>\n",
       "    <div id=\"root\"></div>\n",
       "  </body>\n",
       "  <script>\n",
       "     init({\n",
       "          serverId: \"b3350b5c-cf84-477b-bcea-62b12ea44ffc\",\n",
       "          env: \"classic\",\n",
       "     })\n",
       "  </script>\n",
       "  </html>\n",
       "</iframe>"
      ],
      "text/plain": [
       "<IPython.core.display.HTML object>"
      ]
     },
     "metadata": {},
     "output_type": "display_data"
    }
   ],
   "source": [
    "graph.display()"
   ]
  },
  {
   "cell_type": "code",
   "execution_count": 31,
   "metadata": {
    "colab": {
     "base_uri": "https://localhost:8080/"
    },
    "id": "KtZFfJtS32c3",
    "outputId": "879b7cc2-c392-464e-a87d-63641d4b36ba"
   },
   "outputs": [
    {
     "data": {
      "text/plain": [
       "{'directed': True,\n",
       " 'nodes': [{'name': 'SourceNode',\n",
       "   'pk': '9972b672-ff64-4104-9c97-9aa23f252de1'},\n",
       "  {'name': 'EventsNode',\n",
       "   'pk': '9daa7572-4bd2-447f-b516-e5720365b9aa',\n",
       "   'processor': {'values': {}, 'name': 'StartEndEvents'}},\n",
       "  {'name': 'EventsNode',\n",
       "   'pk': 'e163e588-bec3-40ef-94dd-a3c0210e7869',\n",
       "   'processor': {'values': {'lost_cutoff': '3000.0,s',\n",
       "     'lost_users_list': None},\n",
       "    'name': 'LostUsersEvents'}}],\n",
       " 'links': [{'source': '9972b672-ff64-4104-9c97-9aa23f252de1',\n",
       "   'target': '9daa7572-4bd2-447f-b516-e5720365b9aa'},\n",
       "  {'source': '9daa7572-4bd2-447f-b516-e5720365b9aa',\n",
       "   'target': 'e163e588-bec3-40ef-94dd-a3c0210e7869'}]}"
      ]
     },
     "execution_count": 31,
     "metadata": {},
     "output_type": "execute_result"
    }
   ],
   "source": [
    "graph.export(payload=dict())"
   ]
  },
  {
   "cell_type": "markdown",
   "metadata": {
    "id": "UmEOgy4p32c3"
   },
   "source": [
    "In order to start calculations we need to use ``combine`` method.\n",
    "Which return new eventstream after processing."
   ]
  },
  {
   "cell_type": "code",
   "execution_count": 32,
   "metadata": {
    "id": "ccOyZCZV32c3"
   },
   "outputs": [
    {
     "name": "stderr",
     "output_type": "stream",
     "text": [
      "C:\\python_projects\\retentioneering-tools-new-arch\\src\\eventstream\\eventstream.py:335: FutureWarning: In a future version, object-dtype columns with all-bool values will not be included in reductions with bool_only=True. Explicitly cast to bool dtype instead.\n",
      "  self.__events = pd.concat([result_left_part, result_right_part, result_deleted_events])\n"
     ]
    }
   ],
   "source": [
    "result = graph.combine(node=start_end_node)"
   ]
  },
  {
   "cell_type": "code",
   "execution_count": 33,
   "metadata": {
    "colab": {
     "base_uri": "https://localhost:8080/",
     "height": 424
    },
    "id": "YJp3mMIE32c3",
    "outputId": "a28d7a35-4788-4b7a-8169-ab3dc240e1d8"
   },
   "outputs": [
    {
     "data": {
      "text/html": [
       "<div>\n",
       "<style scoped>\n",
       "    .dataframe tbody tr th:only-of-type {\n",
       "        vertical-align: middle;\n",
       "    }\n",
       "\n",
       "    .dataframe tbody tr th {\n",
       "        vertical-align: top;\n",
       "    }\n",
       "\n",
       "    .dataframe thead th {\n",
       "        text-align: right;\n",
       "    }\n",
       "</style>\n",
       "<table border=\"1\" class=\"dataframe\">\n",
       "  <thead>\n",
       "    <tr style=\"text-align: right;\">\n",
       "      <th></th>\n",
       "      <th>event_id</th>\n",
       "      <th>event_type</th>\n",
       "      <th>event_index</th>\n",
       "      <th>event</th>\n",
       "      <th>timestamp</th>\n",
       "      <th>user_id</th>\n",
       "    </tr>\n",
       "  </thead>\n",
       "  <tbody>\n",
       "    <tr>\n",
       "      <th>0</th>\n",
       "      <td>6d375ae7-7be7-4de8-9c3b-7663409cfb4d</td>\n",
       "      <td>path_start</td>\n",
       "      <td>0</td>\n",
       "      <td>path_start</td>\n",
       "      <td>2019-11-01 17:59:13.273932</td>\n",
       "      <td>219483890</td>\n",
       "    </tr>\n",
       "    <tr>\n",
       "      <th>1</th>\n",
       "      <td>90414b3a-8c7a-4813-a710-a1f348bb9d36</td>\n",
       "      <td>raw</td>\n",
       "      <td>1</td>\n",
       "      <td>catalog</td>\n",
       "      <td>2019-11-01 17:59:13.273932</td>\n",
       "      <td>219483890</td>\n",
       "    </tr>\n",
       "    <tr>\n",
       "      <th>2</th>\n",
       "      <td>45f93d65-d19d-4d96-a84a-fe9917cc9308</td>\n",
       "      <td>raw</td>\n",
       "      <td>2</td>\n",
       "      <td>product1</td>\n",
       "      <td>2019-11-01 17:59:28.459271</td>\n",
       "      <td>219483890</td>\n",
       "    </tr>\n",
       "    <tr>\n",
       "      <th>3</th>\n",
       "      <td>d4a7d1d4-9112-49a1-b56b-7ed9eae1ab90</td>\n",
       "      <td>raw</td>\n",
       "      <td>3</td>\n",
       "      <td>cart</td>\n",
       "      <td>2019-11-01 17:59:29.502214</td>\n",
       "      <td>219483890</td>\n",
       "    </tr>\n",
       "    <tr>\n",
       "      <th>4</th>\n",
       "      <td>b116ae61-2d7d-43eb-adc4-e2e79fb7156f</td>\n",
       "      <td>raw</td>\n",
       "      <td>4</td>\n",
       "      <td>catalog</td>\n",
       "      <td>2019-11-01 17:59:32.557029</td>\n",
       "      <td>219483890</td>\n",
       "    </tr>\n",
       "    <tr>\n",
       "      <th>...</th>\n",
       "      <td>...</td>\n",
       "      <td>...</td>\n",
       "      <td>...</td>\n",
       "      <td>...</td>\n",
       "      <td>...</td>\n",
       "      <td>...</td>\n",
       "    </tr>\n",
       "    <tr>\n",
       "      <th>42878</th>\n",
       "      <td>d88814b3-8091-43c4-b561-0c19d8acb6f2</td>\n",
       "      <td>raw</td>\n",
       "      <td>42878</td>\n",
       "      <td>catalog</td>\n",
       "      <td>2020-04-29 12:48:01.809577</td>\n",
       "      <td>501098384</td>\n",
       "    </tr>\n",
       "    <tr>\n",
       "      <th>42879</th>\n",
       "      <td>e11135eb-036f-4d40-88ee-b10b6a71d1dd</td>\n",
       "      <td>raw</td>\n",
       "      <td>42879</td>\n",
       "      <td>main</td>\n",
       "      <td>2020-04-29 12:48:01.938488</td>\n",
       "      <td>501098384</td>\n",
       "    </tr>\n",
       "    <tr>\n",
       "      <th>42880</th>\n",
       "      <td>34c478e1-da4e-4163-ae55-2fb101d843f1</td>\n",
       "      <td>raw</td>\n",
       "      <td>42880</td>\n",
       "      <td>catalog</td>\n",
       "      <td>2020-04-29 12:48:06.595390</td>\n",
       "      <td>501098384</td>\n",
       "    </tr>\n",
       "    <tr>\n",
       "      <th>42881</th>\n",
       "      <td>7095357a-ff3c-47d0-950b-7c4145670424</td>\n",
       "      <td>raw</td>\n",
       "      <td>42881</td>\n",
       "      <td>lost</td>\n",
       "      <td>2020-04-29 12:48:07.595390</td>\n",
       "      <td>501098384</td>\n",
       "    </tr>\n",
       "    <tr>\n",
       "      <th>42882</th>\n",
       "      <td>623c3e27-a167-4538-885b-895f074e7e93</td>\n",
       "      <td>path_end</td>\n",
       "      <td>42882</td>\n",
       "      <td>path_end</td>\n",
       "      <td>2020-04-29 12:48:07.595390</td>\n",
       "      <td>501098384</td>\n",
       "    </tr>\n",
       "  </tbody>\n",
       "</table>\n",
       "<p>42883 rows × 6 columns</p>\n",
       "</div>"
      ],
      "text/plain": [
       "                                   event_id  event_type  event_index  \\\n",
       "0      6d375ae7-7be7-4de8-9c3b-7663409cfb4d  path_start            0   \n",
       "1      90414b3a-8c7a-4813-a710-a1f348bb9d36         raw            1   \n",
       "2      45f93d65-d19d-4d96-a84a-fe9917cc9308         raw            2   \n",
       "3      d4a7d1d4-9112-49a1-b56b-7ed9eae1ab90         raw            3   \n",
       "4      b116ae61-2d7d-43eb-adc4-e2e79fb7156f         raw            4   \n",
       "...                                     ...         ...          ...   \n",
       "42878  d88814b3-8091-43c4-b561-0c19d8acb6f2         raw        42878   \n",
       "42879  e11135eb-036f-4d40-88ee-b10b6a71d1dd         raw        42879   \n",
       "42880  34c478e1-da4e-4163-ae55-2fb101d843f1         raw        42880   \n",
       "42881  7095357a-ff3c-47d0-950b-7c4145670424         raw        42881   \n",
       "42882  623c3e27-a167-4538-885b-895f074e7e93    path_end        42882   \n",
       "\n",
       "            event                  timestamp    user_id  \n",
       "0      path_start 2019-11-01 17:59:13.273932  219483890  \n",
       "1         catalog 2019-11-01 17:59:13.273932  219483890  \n",
       "2        product1 2019-11-01 17:59:28.459271  219483890  \n",
       "3            cart 2019-11-01 17:59:29.502214  219483890  \n",
       "4         catalog 2019-11-01 17:59:32.557029  219483890  \n",
       "...           ...                        ...        ...  \n",
       "42878     catalog 2020-04-29 12:48:01.809577  501098384  \n",
       "42879        main 2020-04-29 12:48:01.938488  501098384  \n",
       "42880     catalog 2020-04-29 12:48:06.595390  501098384  \n",
       "42881        lost 2020-04-29 12:48:07.595390  501098384  \n",
       "42882    path_end 2020-04-29 12:48:07.595390  501098384  \n",
       "\n",
       "[42883 rows x 6 columns]"
      ]
     },
     "execution_count": 33,
     "metadata": {},
     "output_type": "execute_result"
    }
   ],
   "source": [
    "result.to_dataframe()"
   ]
  },
  {
   "cell_type": "code",
   "execution_count": null,
   "metadata": {
    "id": "hH8Wn4Pb32c4"
   },
   "outputs": [],
   "source": []
  },
  {
   "cell_type": "code",
   "execution_count": null,
   "metadata": {
    "id": "czAYFfFQ32c4"
   },
   "outputs": [],
   "source": []
  },
  {
   "cell_type": "code",
   "execution_count": null,
   "metadata": {
    "id": "uNYacPRm32c4"
   },
   "outputs": [],
   "source": []
  }
 ],
 "metadata": {
  "colab": {
   "provenance": []
  },
  "kernelspec": {
   "display_name": "Python 3",
   "language": "python",
   "name": "python3"
  },
  "language_info": {
   "codemirror_mode": {
    "name": "ipython",
    "version": 3
   },
   "file_extension": ".py",
   "mimetype": "text/x-python",
   "name": "python",
   "nbconvert_exporter": "python",
   "pygments_lexer": "ipython3",
   "version": "3.10.8"
  },
  "vscode": {
   "interpreter": {
    "hash": "b0fa6594d8f4cbf19f97940f81e996739fb7646882a419484c72d19e05852a7e"
   }
  }
 },
 "nbformat": 4,
 "nbformat_minor": 1
}
