{
 "cells": [
  {
   "cell_type": "code",
   "execution_count": 1,
   "metadata": {
    "collapsed": true
   },
   "outputs": [],
   "source": [
    "import pandas as pd"
   ]
  },
  {
   "cell_type": "code",
   "execution_count": 2,
   "outputs": [],
   "source": [
    "import sys\n",
    "sys.path.insert(0, '..')"
   ],
   "metadata": {
    "collapsed": false
   }
  },
  {
   "cell_type": "code",
   "execution_count": 3,
   "outputs": [],
   "source": [
    "df = pd.read_csv(\"../src/datasets/data/simple-onlineshop.csv\")"
   ],
   "metadata": {
    "collapsed": false
   }
  },
  {
   "cell_type": "code",
   "execution_count": 4,
   "outputs": [
    {
     "name": "stdout",
     "output_type": "stream",
     "text": [
      "<class 'pandas.core.frame.DataFrame'>\n",
      "RangeIndex: 35381 entries, 0 to 35380\n",
      "Data columns (total 3 columns):\n",
      " #   Column     Non-Null Count  Dtype \n",
      "---  ------     --------------  ----- \n",
      " 0   user_id    35381 non-null  int64 \n",
      " 1   event      35381 non-null  object\n",
      " 2   timestamp  35381 non-null  object\n",
      "dtypes: int64(1), object(2)\n",
      "memory usage: 829.4+ KB\n"
     ]
    }
   ],
   "source": [
    "df.info()"
   ],
   "metadata": {
    "collapsed": false
   }
  },
  {
   "cell_type": "code",
   "execution_count": 5,
   "outputs": [
    {
     "name": "stderr",
     "output_type": "stream",
     "text": [
      "/opt/homebrew/Caskroom/miniforge/base/envs/rete_pycharm/lib/python3.8/site-packages/tqdm/auto.py:22: TqdmWarning: IProgress not found. Please update jupyter and ipywidgets. See https://ipywidgets.readthedocs.io/en/stable/user_install.html\n",
      "  from .autonotebook import tqdm as notebook_tqdm\n"
     ]
    }
   ],
   "source": [
    "from src.eventstream import Eventstream, EventstreamSchema, RawDataSchema"
   ],
   "metadata": {
    "collapsed": false
   }
  },
  {
   "cell_type": "code",
   "execution_count": 6,
   "outputs": [],
   "source": [
    "df['country'] = 'USA'\n",
    "users = df['user_id'].unique()[:1500]\n",
    "df.loc[df['user_id'].isin(users),'country'] = 'UK'"
   ],
   "metadata": {
    "collapsed": false
   }
  },
  {
   "cell_type": "code",
   "execution_count": 7,
   "outputs": [
    {
     "data": {
      "text/plain": "USA    18200\nUK     17181\nName: country, dtype: int64"
     },
     "execution_count": 7,
     "metadata": {},
     "output_type": "execute_result"
    }
   ],
   "source": [
    "df.country.value_counts()"
   ],
   "metadata": {
    "collapsed": false
   }
  },
  {
   "cell_type": "code",
   "execution_count": 8,
   "outputs": [
    {
     "data": {
      "text/plain": "     user_id     event                   timestamp country\n0  219483890   catalog  2019-11-01 17:59:13.273932      UK\n1  219483890  product1  2019-11-01 17:59:28.459271      UK\n2  219483890      cart  2019-11-01 17:59:29.502214      UK\n3  219483890   catalog  2019-11-01 17:59:32.557029      UK\n4  964964743   catalog  2019-11-01 21:38:19.283663      UK",
      "text/html": "<div>\n<style scoped>\n    .dataframe tbody tr th:only-of-type {\n        vertical-align: middle;\n    }\n\n    .dataframe tbody tr th {\n        vertical-align: top;\n    }\n\n    .dataframe thead th {\n        text-align: right;\n    }\n</style>\n<table border=\"1\" class=\"dataframe\">\n  <thead>\n    <tr style=\"text-align: right;\">\n      <th></th>\n      <th>user_id</th>\n      <th>event</th>\n      <th>timestamp</th>\n      <th>country</th>\n    </tr>\n  </thead>\n  <tbody>\n    <tr>\n      <th>0</th>\n      <td>219483890</td>\n      <td>catalog</td>\n      <td>2019-11-01 17:59:13.273932</td>\n      <td>UK</td>\n    </tr>\n    <tr>\n      <th>1</th>\n      <td>219483890</td>\n      <td>product1</td>\n      <td>2019-11-01 17:59:28.459271</td>\n      <td>UK</td>\n    </tr>\n    <tr>\n      <th>2</th>\n      <td>219483890</td>\n      <td>cart</td>\n      <td>2019-11-01 17:59:29.502214</td>\n      <td>UK</td>\n    </tr>\n    <tr>\n      <th>3</th>\n      <td>219483890</td>\n      <td>catalog</td>\n      <td>2019-11-01 17:59:32.557029</td>\n      <td>UK</td>\n    </tr>\n    <tr>\n      <th>4</th>\n      <td>964964743</td>\n      <td>catalog</td>\n      <td>2019-11-01 21:38:19.283663</td>\n      <td>UK</td>\n    </tr>\n  </tbody>\n</table>\n</div>"
     },
     "execution_count": 8,
     "metadata": {},
     "output_type": "execute_result"
    }
   ],
   "source": [
    "df.head()"
   ],
   "metadata": {
    "collapsed": false
   }
  },
  {
   "cell_type": "code",
   "execution_count": 9,
   "outputs": [],
   "source": [
    "raw_data_schema=RawDataSchema(\n",
    "                event_name=\"event\",\n",
    "                event_timestamp=\"timestamp\",\n",
    "                user_id=\"user_id\",\n",
    "                # custom_cols = [{\"custom_col\": 'country',\n",
    "                #                  \"raw_data_col\": \"country\"}]\n",
    "            )"
   ],
   "metadata": {
    "collapsed": false
   }
  },
  {
   "cell_type": "code",
   "execution_count": 10,
   "outputs": [
    {
     "data": {
      "text/plain": "     user_id     event                   timestamp country\n0  219483890   catalog  2019-11-01 17:59:13.273932      UK\n1  219483890  product1  2019-11-01 17:59:28.459271      UK\n2  219483890      cart  2019-11-01 17:59:29.502214      UK\n3  219483890   catalog  2019-11-01 17:59:32.557029      UK\n4  964964743   catalog  2019-11-01 21:38:19.283663      UK",
      "text/html": "<div>\n<style scoped>\n    .dataframe tbody tr th:only-of-type {\n        vertical-align: middle;\n    }\n\n    .dataframe tbody tr th {\n        vertical-align: top;\n    }\n\n    .dataframe thead th {\n        text-align: right;\n    }\n</style>\n<table border=\"1\" class=\"dataframe\">\n  <thead>\n    <tr style=\"text-align: right;\">\n      <th></th>\n      <th>user_id</th>\n      <th>event</th>\n      <th>timestamp</th>\n      <th>country</th>\n    </tr>\n  </thead>\n  <tbody>\n    <tr>\n      <th>0</th>\n      <td>219483890</td>\n      <td>catalog</td>\n      <td>2019-11-01 17:59:13.273932</td>\n      <td>UK</td>\n    </tr>\n    <tr>\n      <th>1</th>\n      <td>219483890</td>\n      <td>product1</td>\n      <td>2019-11-01 17:59:28.459271</td>\n      <td>UK</td>\n    </tr>\n    <tr>\n      <th>2</th>\n      <td>219483890</td>\n      <td>cart</td>\n      <td>2019-11-01 17:59:29.502214</td>\n      <td>UK</td>\n    </tr>\n    <tr>\n      <th>3</th>\n      <td>219483890</td>\n      <td>catalog</td>\n      <td>2019-11-01 17:59:32.557029</td>\n      <td>UK</td>\n    </tr>\n    <tr>\n      <th>4</th>\n      <td>964964743</td>\n      <td>catalog</td>\n      <td>2019-11-01 21:38:19.283663</td>\n      <td>UK</td>\n    </tr>\n  </tbody>\n</table>\n</div>"
     },
     "execution_count": 10,
     "metadata": {},
     "output_type": "execute_result"
    }
   ],
   "source": [
    "df.head()"
   ],
   "metadata": {
    "collapsed": false
   }
  },
  {
   "cell_type": "code",
   "execution_count": 13,
   "outputs": [
    {
     "data": {
      "text/plain": "                                   event_id event_type  event_index     event  \\\n0      e66f40b1-1af8-4684-b6f8-a4fa1ad6a11d        raw            0   catalog   \n1      e5431281-ce4c-4f54-b82b-82a9f8480aa6        raw            1  product1   \n2      916fc1cf-5c33-4654-b6ee-36064e13e5e1        raw            2      cart   \n3      5264b2e1-60c6-4634-a76f-784eed4a9f78        raw            3   catalog   \n4      06103e2e-0b4b-4b22-84b0-bf8ae4e67553        raw            4   catalog   \n...                                     ...        ...          ...       ...   \n35376  2dfaf927-0d99-4369-923a-c1fa6a7829bd        raw        35376   catalog   \n35377  063c10c1-62b7-428f-af5b-66e9e92623a4        raw        35377   catalog   \n35378  3c3621e8-277b-4f5f-8cb2-474b243d3393        raw        35378      main   \n35379  00f1fc04-d41b-4c4f-9a70-691f9899c474        raw        35379   catalog   \n35380  90515da6-7fe6-4b08-bf2b-d264f095ac65        raw        35380      lost   \n\n                       timestamp    user_id  raw_user_id raw_event  \\\n0     2019-11-01 17:59:13.273932  219483890    219483890   catalog   \n1     2019-11-01 17:59:28.459271  219483890    219483890  product1   \n2     2019-11-01 17:59:29.502214  219483890    219483890      cart   \n3     2019-11-01 17:59:32.557029  219483890    219483890   catalog   \n4     2019-11-01 21:38:19.283663  964964743    964964743   catalog   \n...                          ...        ...          ...       ...   \n35376 2020-04-29 12:47:40.975732  501098384    501098384   catalog   \n35377 2020-04-29 12:48:01.809577  501098384    501098384   catalog   \n35378 2020-04-29 12:48:01.938488  501098384    501098384      main   \n35379 2020-04-29 12:48:06.595390  501098384    501098384   catalog   \n35380 2020-04-29 12:48:07.595390  501098384    501098384      lost   \n\n                    raw_timestamp raw_country  \n0      2019-11-01 17:59:13.273932          UK  \n1      2019-11-01 17:59:28.459271          UK  \n2      2019-11-01 17:59:29.502214          UK  \n3      2019-11-01 17:59:32.557029          UK  \n4      2019-11-01 21:38:19.283663          UK  \n...                           ...         ...  \n35376  2020-04-29 12:47:40.975732          UK  \n35377  2020-04-29 12:48:01.809577          UK  \n35378  2020-04-29 12:48:01.938488          UK  \n35379  2020-04-29 12:48:06.595390          UK  \n35380  2020-04-29 12:48:07.595390          UK  \n\n[35381 rows x 10 columns]",
      "text/html": "<div>\n<style scoped>\n    .dataframe tbody tr th:only-of-type {\n        vertical-align: middle;\n    }\n\n    .dataframe tbody tr th {\n        vertical-align: top;\n    }\n\n    .dataframe thead th {\n        text-align: right;\n    }\n</style>\n<table border=\"1\" class=\"dataframe\">\n  <thead>\n    <tr style=\"text-align: right;\">\n      <th></th>\n      <th>event_id</th>\n      <th>event_type</th>\n      <th>event_index</th>\n      <th>event</th>\n      <th>timestamp</th>\n      <th>user_id</th>\n      <th>raw_user_id</th>\n      <th>raw_event</th>\n      <th>raw_timestamp</th>\n      <th>raw_country</th>\n    </tr>\n  </thead>\n  <tbody>\n    <tr>\n      <th>0</th>\n      <td>e66f40b1-1af8-4684-b6f8-a4fa1ad6a11d</td>\n      <td>raw</td>\n      <td>0</td>\n      <td>catalog</td>\n      <td>2019-11-01 17:59:13.273932</td>\n      <td>219483890</td>\n      <td>219483890</td>\n      <td>catalog</td>\n      <td>2019-11-01 17:59:13.273932</td>\n      <td>UK</td>\n    </tr>\n    <tr>\n      <th>1</th>\n      <td>e5431281-ce4c-4f54-b82b-82a9f8480aa6</td>\n      <td>raw</td>\n      <td>1</td>\n      <td>product1</td>\n      <td>2019-11-01 17:59:28.459271</td>\n      <td>219483890</td>\n      <td>219483890</td>\n      <td>product1</td>\n      <td>2019-11-01 17:59:28.459271</td>\n      <td>UK</td>\n    </tr>\n    <tr>\n      <th>2</th>\n      <td>916fc1cf-5c33-4654-b6ee-36064e13e5e1</td>\n      <td>raw</td>\n      <td>2</td>\n      <td>cart</td>\n      <td>2019-11-01 17:59:29.502214</td>\n      <td>219483890</td>\n      <td>219483890</td>\n      <td>cart</td>\n      <td>2019-11-01 17:59:29.502214</td>\n      <td>UK</td>\n    </tr>\n    <tr>\n      <th>3</th>\n      <td>5264b2e1-60c6-4634-a76f-784eed4a9f78</td>\n      <td>raw</td>\n      <td>3</td>\n      <td>catalog</td>\n      <td>2019-11-01 17:59:32.557029</td>\n      <td>219483890</td>\n      <td>219483890</td>\n      <td>catalog</td>\n      <td>2019-11-01 17:59:32.557029</td>\n      <td>UK</td>\n    </tr>\n    <tr>\n      <th>4</th>\n      <td>06103e2e-0b4b-4b22-84b0-bf8ae4e67553</td>\n      <td>raw</td>\n      <td>4</td>\n      <td>catalog</td>\n      <td>2019-11-01 21:38:19.283663</td>\n      <td>964964743</td>\n      <td>964964743</td>\n      <td>catalog</td>\n      <td>2019-11-01 21:38:19.283663</td>\n      <td>UK</td>\n    </tr>\n    <tr>\n      <th>...</th>\n      <td>...</td>\n      <td>...</td>\n      <td>...</td>\n      <td>...</td>\n      <td>...</td>\n      <td>...</td>\n      <td>...</td>\n      <td>...</td>\n      <td>...</td>\n      <td>...</td>\n    </tr>\n    <tr>\n      <th>35376</th>\n      <td>2dfaf927-0d99-4369-923a-c1fa6a7829bd</td>\n      <td>raw</td>\n      <td>35376</td>\n      <td>catalog</td>\n      <td>2020-04-29 12:47:40.975732</td>\n      <td>501098384</td>\n      <td>501098384</td>\n      <td>catalog</td>\n      <td>2020-04-29 12:47:40.975732</td>\n      <td>UK</td>\n    </tr>\n    <tr>\n      <th>35377</th>\n      <td>063c10c1-62b7-428f-af5b-66e9e92623a4</td>\n      <td>raw</td>\n      <td>35377</td>\n      <td>catalog</td>\n      <td>2020-04-29 12:48:01.809577</td>\n      <td>501098384</td>\n      <td>501098384</td>\n      <td>catalog</td>\n      <td>2020-04-29 12:48:01.809577</td>\n      <td>UK</td>\n    </tr>\n    <tr>\n      <th>35378</th>\n      <td>3c3621e8-277b-4f5f-8cb2-474b243d3393</td>\n      <td>raw</td>\n      <td>35378</td>\n      <td>main</td>\n      <td>2020-04-29 12:48:01.938488</td>\n      <td>501098384</td>\n      <td>501098384</td>\n      <td>main</td>\n      <td>2020-04-29 12:48:01.938488</td>\n      <td>UK</td>\n    </tr>\n    <tr>\n      <th>35379</th>\n      <td>00f1fc04-d41b-4c4f-9a70-691f9899c474</td>\n      <td>raw</td>\n      <td>35379</td>\n      <td>catalog</td>\n      <td>2020-04-29 12:48:06.595390</td>\n      <td>501098384</td>\n      <td>501098384</td>\n      <td>catalog</td>\n      <td>2020-04-29 12:48:06.595390</td>\n      <td>UK</td>\n    </tr>\n    <tr>\n      <th>35380</th>\n      <td>90515da6-7fe6-4b08-bf2b-d264f095ac65</td>\n      <td>raw</td>\n      <td>35380</td>\n      <td>lost</td>\n      <td>2020-04-29 12:48:07.595390</td>\n      <td>501098384</td>\n      <td>501098384</td>\n      <td>lost</td>\n      <td>2020-04-29 12:48:07.595390</td>\n      <td>UK</td>\n    </tr>\n  </tbody>\n</table>\n<p>35381 rows × 10 columns</p>\n</div>"
     },
     "execution_count": 13,
     "metadata": {},
     "output_type": "execute_result"
    }
   ],
   "source": [
    "source = Eventstream(\n",
    "            raw_data_schema=raw_data_schema,\n",
    "            raw_data=df)\n",
    "source.to_dataframe(raw_cols=True)"
   ],
   "metadata": {
    "collapsed": false
   }
  },
  {
   "cell_type": "code",
   "execution_count": 5,
   "outputs": [],
   "source": [],
   "metadata": {
    "collapsed": false
   }
  },
  {
   "cell_type": "code",
   "execution_count": 14,
   "outputs": [],
   "source": [],
   "metadata": {
    "collapsed": false
   }
  },
  {
   "cell_type": "code",
   "execution_count": 15,
   "outputs": [],
   "source": [],
   "metadata": {
    "collapsed": false
   }
  },
  {
   "cell_type": "code",
   "execution_count": 35,
   "outputs": [],
   "source": [],
   "metadata": {
    "collapsed": false
   }
  },
  {
   "cell_type": "code",
   "execution_count": 17,
   "outputs": [],
   "source": [],
   "metadata": {
    "collapsed": false
   }
  },
  {
   "cell_type": "code",
   "execution_count": 35,
   "outputs": [],
   "source": [],
   "metadata": {
    "collapsed": false
   }
  },
  {
   "cell_type": "code",
   "execution_count": null,
   "outputs": [],
   "source": [],
   "metadata": {
    "collapsed": false
   }
  }
 ],
 "metadata": {
  "kernelspec": {
   "display_name": "Python 3",
   "language": "python",
   "name": "python3"
  },
  "language_info": {
   "codemirror_mode": {
    "name": "ipython",
    "version": 2
   },
   "file_extension": ".py",
   "mimetype": "text/x-python",
   "name": "python",
   "nbconvert_exporter": "python",
   "pygments_lexer": "ipython2",
   "version": "2.7.6"
  }
 },
 "nbformat": 4,
 "nbformat_minor": 0
}
