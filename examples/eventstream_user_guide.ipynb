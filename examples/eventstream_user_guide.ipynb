{
 "cells": [
  {
   "cell_type": "code",
   "execution_count": 1,
   "metadata": {
    "collapsed": true
   },
   "outputs": [],
   "source": [
    "import pandas as pd"
   ]
  },
  {
   "cell_type": "code",
   "execution_count": 2,
   "outputs": [],
   "source": [
    "import sys\n",
    "sys.path.insert(0, '..')"
   ],
   "metadata": {
    "collapsed": false
   }
  },
  {
   "cell_type": "code",
   "execution_count": 3,
   "outputs": [],
   "source": [
    "df = pd.read_csv(\"../src/datasets/data/simple-onlineshop.csv\")"
   ],
   "metadata": {
    "collapsed": false
   }
  },
  {
   "cell_type": "code",
   "execution_count": 8,
   "outputs": [
    {
     "name": "stdout",
     "output_type": "stream",
     "text": [
      "<class 'pandas.core.frame.DataFrame'>\n",
      "RangeIndex: 35381 entries, 0 to 35380\n",
      "Data columns (total 3 columns):\n",
      " #   Column     Non-Null Count  Dtype \n",
      "---  ------     --------------  ----- \n",
      " 0   user_id    35381 non-null  int64 \n",
      " 1   event      35381 non-null  object\n",
      " 2   timestamp  35381 non-null  object\n",
      "dtypes: int64(1), object(2)\n",
      "memory usage: 829.4+ KB\n"
     ]
    }
   ],
   "source": [
    "df.info()"
   ],
   "metadata": {
    "collapsed": false
   }
  },
  {
   "cell_type": "code",
   "execution_count": 19,
   "outputs": [],
   "source": [
    "from src.eventstream import Eventstream, EventstreamSchema, RawDataSchema"
   ],
   "metadata": {
    "collapsed": false
   }
  },
  {
   "cell_type": "code",
   "execution_count": 33,
   "outputs": [],
   "source": [
    "df['country'] = 'USA'\n",
    "users = df['user_id'].unique()[:1500]\n",
    "df.loc[df['user_id'].isin(users),'country'] = 'UK'"
   ],
   "metadata": {
    "collapsed": false
   }
  },
  {
   "cell_type": "code",
   "execution_count": 34,
   "outputs": [
    {
     "data": {
      "text/plain": "USA    18200\nUK     17181\nName: country, dtype: int64"
     },
     "execution_count": 34,
     "metadata": {},
     "output_type": "execute_result"
    }
   ],
   "source": [
    "df.country.value_counts()"
   ],
   "metadata": {
    "collapsed": false
   }
  },
  {
   "cell_type": "code",
   "execution_count": 35,
   "outputs": [
    {
     "data": {
      "text/plain": "     user_id     event                   timestamp country\n0  219483890   catalog  2019-11-01 17:59:13.273932      UK\n1  219483890  product1  2019-11-01 17:59:28.459271      UK\n2  219483890      cart  2019-11-01 17:59:29.502214      UK\n3  219483890   catalog  2019-11-01 17:59:32.557029      UK\n4  964964743   catalog  2019-11-01 21:38:19.283663      UK",
      "text/html": "<div>\n<style scoped>\n    .dataframe tbody tr th:only-of-type {\n        vertical-align: middle;\n    }\n\n    .dataframe tbody tr th {\n        vertical-align: top;\n    }\n\n    .dataframe thead th {\n        text-align: right;\n    }\n</style>\n<table border=\"1\" class=\"dataframe\">\n  <thead>\n    <tr style=\"text-align: right;\">\n      <th></th>\n      <th>user_id</th>\n      <th>event</th>\n      <th>timestamp</th>\n      <th>country</th>\n    </tr>\n  </thead>\n  <tbody>\n    <tr>\n      <th>0</th>\n      <td>219483890</td>\n      <td>catalog</td>\n      <td>2019-11-01 17:59:13.273932</td>\n      <td>UK</td>\n    </tr>\n    <tr>\n      <th>1</th>\n      <td>219483890</td>\n      <td>product1</td>\n      <td>2019-11-01 17:59:28.459271</td>\n      <td>UK</td>\n    </tr>\n    <tr>\n      <th>2</th>\n      <td>219483890</td>\n      <td>cart</td>\n      <td>2019-11-01 17:59:29.502214</td>\n      <td>UK</td>\n    </tr>\n    <tr>\n      <th>3</th>\n      <td>219483890</td>\n      <td>catalog</td>\n      <td>2019-11-01 17:59:32.557029</td>\n      <td>UK</td>\n    </tr>\n    <tr>\n      <th>4</th>\n      <td>964964743</td>\n      <td>catalog</td>\n      <td>2019-11-01 21:38:19.283663</td>\n      <td>UK</td>\n    </tr>\n  </tbody>\n</table>\n</div>"
     },
     "execution_count": 35,
     "metadata": {},
     "output_type": "execute_result"
    }
   ],
   "source": [
    "df.head()"
   ],
   "metadata": {
    "collapsed": false
   }
  },
  {
   "cell_type": "code",
   "execution_count": 47,
   "outputs": [],
   "source": [
    "raw_data_schema=RawDataSchema(\n",
    "                event_name=\"event\",\n",
    "                event_timestamp=\"timestamp\",\n",
    "                user_id=\"user_id\",\n",
    "                # custom_cols = [{\"custom_col\": 'country',\n",
    "                #                  \"raw_data_col\": \"country\"}]\n",
    "            )"
   ],
   "metadata": {
    "collapsed": false
   }
  },
  {
   "cell_type": "code",
   "execution_count": 48,
   "outputs": [
    {
     "data": {
      "text/plain": "     user_id     event                   timestamp country\n0  219483890   catalog  2019-11-01 17:59:13.273932      UK\n1  219483890  product1  2019-11-01 17:59:28.459271      UK\n2  219483890      cart  2019-11-01 17:59:29.502214      UK\n3  219483890   catalog  2019-11-01 17:59:32.557029      UK\n4  964964743   catalog  2019-11-01 21:38:19.283663      UK",
      "text/html": "<div>\n<style scoped>\n    .dataframe tbody tr th:only-of-type {\n        vertical-align: middle;\n    }\n\n    .dataframe tbody tr th {\n        vertical-align: top;\n    }\n\n    .dataframe thead th {\n        text-align: right;\n    }\n</style>\n<table border=\"1\" class=\"dataframe\">\n  <thead>\n    <tr style=\"text-align: right;\">\n      <th></th>\n      <th>user_id</th>\n      <th>event</th>\n      <th>timestamp</th>\n      <th>country</th>\n    </tr>\n  </thead>\n  <tbody>\n    <tr>\n      <th>0</th>\n      <td>219483890</td>\n      <td>catalog</td>\n      <td>2019-11-01 17:59:13.273932</td>\n      <td>UK</td>\n    </tr>\n    <tr>\n      <th>1</th>\n      <td>219483890</td>\n      <td>product1</td>\n      <td>2019-11-01 17:59:28.459271</td>\n      <td>UK</td>\n    </tr>\n    <tr>\n      <th>2</th>\n      <td>219483890</td>\n      <td>cart</td>\n      <td>2019-11-01 17:59:29.502214</td>\n      <td>UK</td>\n    </tr>\n    <tr>\n      <th>3</th>\n      <td>219483890</td>\n      <td>catalog</td>\n      <td>2019-11-01 17:59:32.557029</td>\n      <td>UK</td>\n    </tr>\n    <tr>\n      <th>4</th>\n      <td>964964743</td>\n      <td>catalog</td>\n      <td>2019-11-01 21:38:19.283663</td>\n      <td>UK</td>\n    </tr>\n  </tbody>\n</table>\n</div>"
     },
     "execution_count": 48,
     "metadata": {},
     "output_type": "execute_result"
    }
   ],
   "source": [
    "df.head()"
   ],
   "metadata": {
    "collapsed": false
   }
  },
  {
   "cell_type": "code",
   "execution_count": 49,
   "outputs": [
    {
     "data": {
      "text/plain": "                                   event_id event_type  event_index     event  \\\n0      824a00fe-fa80-4fb1-bfe1-bf0c0fef9282        raw            0   catalog   \n1      77e89715-66cf-41ec-bce9-e6d5dc9729b1        raw            1  product1   \n2      7f3fe0ce-2da2-4d42-8009-d879e316a2cb        raw            2      cart   \n3      6a7285f4-d07d-4848-aa96-e10e27dbea9d        raw            3   catalog   \n4      2927fc95-8e9c-4c06-ace3-fbc18d2fbba3        raw            4   catalog   \n...                                     ...        ...          ...       ...   \n35376  5723398b-0984-461f-8190-fb175bcc9af7        raw        35376   catalog   \n35377  824551fb-64df-435b-8472-d7b3bdd6123a        raw        35377   catalog   \n35378  30426c82-0231-4123-98f4-deeea45fbad3        raw        35378      main   \n35379  b784bd8c-8930-43c6-b85d-d46078f9ced8        raw        35379   catalog   \n35380  fd45694f-7000-4924-ac25-fa525602ebfa        raw        35380      lost   \n\n                       timestamp    user_id  \n0     2019-11-01 17:59:13.273932  219483890  \n1     2019-11-01 17:59:28.459271  219483890  \n2     2019-11-01 17:59:29.502214  219483890  \n3     2019-11-01 17:59:32.557029  219483890  \n4     2019-11-01 21:38:19.283663  964964743  \n...                          ...        ...  \n35376 2020-04-29 12:47:40.975732  501098384  \n35377 2020-04-29 12:48:01.809577  501098384  \n35378 2020-04-29 12:48:01.938488  501098384  \n35379 2020-04-29 12:48:06.595390  501098384  \n35380 2020-04-29 12:48:07.595390  501098384  \n\n[35381 rows x 6 columns]",
      "text/html": "<div>\n<style scoped>\n    .dataframe tbody tr th:only-of-type {\n        vertical-align: middle;\n    }\n\n    .dataframe tbody tr th {\n        vertical-align: top;\n    }\n\n    .dataframe thead th {\n        text-align: right;\n    }\n</style>\n<table border=\"1\" class=\"dataframe\">\n  <thead>\n    <tr style=\"text-align: right;\">\n      <th></th>\n      <th>event_id</th>\n      <th>event_type</th>\n      <th>event_index</th>\n      <th>event</th>\n      <th>timestamp</th>\n      <th>user_id</th>\n    </tr>\n  </thead>\n  <tbody>\n    <tr>\n      <th>0</th>\n      <td>824a00fe-fa80-4fb1-bfe1-bf0c0fef9282</td>\n      <td>raw</td>\n      <td>0</td>\n      <td>catalog</td>\n      <td>2019-11-01 17:59:13.273932</td>\n      <td>219483890</td>\n    </tr>\n    <tr>\n      <th>1</th>\n      <td>77e89715-66cf-41ec-bce9-e6d5dc9729b1</td>\n      <td>raw</td>\n      <td>1</td>\n      <td>product1</td>\n      <td>2019-11-01 17:59:28.459271</td>\n      <td>219483890</td>\n    </tr>\n    <tr>\n      <th>2</th>\n      <td>7f3fe0ce-2da2-4d42-8009-d879e316a2cb</td>\n      <td>raw</td>\n      <td>2</td>\n      <td>cart</td>\n      <td>2019-11-01 17:59:29.502214</td>\n      <td>219483890</td>\n    </tr>\n    <tr>\n      <th>3</th>\n      <td>6a7285f4-d07d-4848-aa96-e10e27dbea9d</td>\n      <td>raw</td>\n      <td>3</td>\n      <td>catalog</td>\n      <td>2019-11-01 17:59:32.557029</td>\n      <td>219483890</td>\n    </tr>\n    <tr>\n      <th>4</th>\n      <td>2927fc95-8e9c-4c06-ace3-fbc18d2fbba3</td>\n      <td>raw</td>\n      <td>4</td>\n      <td>catalog</td>\n      <td>2019-11-01 21:38:19.283663</td>\n      <td>964964743</td>\n    </tr>\n    <tr>\n      <th>...</th>\n      <td>...</td>\n      <td>...</td>\n      <td>...</td>\n      <td>...</td>\n      <td>...</td>\n      <td>...</td>\n    </tr>\n    <tr>\n      <th>35376</th>\n      <td>5723398b-0984-461f-8190-fb175bcc9af7</td>\n      <td>raw</td>\n      <td>35376</td>\n      <td>catalog</td>\n      <td>2020-04-29 12:47:40.975732</td>\n      <td>501098384</td>\n    </tr>\n    <tr>\n      <th>35377</th>\n      <td>824551fb-64df-435b-8472-d7b3bdd6123a</td>\n      <td>raw</td>\n      <td>35377</td>\n      <td>catalog</td>\n      <td>2020-04-29 12:48:01.809577</td>\n      <td>501098384</td>\n    </tr>\n    <tr>\n      <th>35378</th>\n      <td>30426c82-0231-4123-98f4-deeea45fbad3</td>\n      <td>raw</td>\n      <td>35378</td>\n      <td>main</td>\n      <td>2020-04-29 12:48:01.938488</td>\n      <td>501098384</td>\n    </tr>\n    <tr>\n      <th>35379</th>\n      <td>b784bd8c-8930-43c6-b85d-d46078f9ced8</td>\n      <td>raw</td>\n      <td>35379</td>\n      <td>catalog</td>\n      <td>2020-04-29 12:48:06.595390</td>\n      <td>501098384</td>\n    </tr>\n    <tr>\n      <th>35380</th>\n      <td>fd45694f-7000-4924-ac25-fa525602ebfa</td>\n      <td>raw</td>\n      <td>35380</td>\n      <td>lost</td>\n      <td>2020-04-29 12:48:07.595390</td>\n      <td>501098384</td>\n    </tr>\n  </tbody>\n</table>\n<p>35381 rows × 6 columns</p>\n</div>"
     },
     "execution_count": 49,
     "metadata": {},
     "output_type": "execute_result"
    }
   ],
   "source": [
    "source = Eventstream(\n",
    "            raw_data_schema=raw_data_schema,\n",
    "            raw_data=df)\n",
    "source.to_dataframe()"
   ],
   "metadata": {
    "collapsed": false
   }
  },
  {
   "cell_type": "code",
   "execution_count": 5,
   "outputs": [],
   "source": [],
   "metadata": {
    "collapsed": false
   }
  },
  {
   "cell_type": "code",
   "execution_count": 14,
   "outputs": [],
   "source": [],
   "metadata": {
    "collapsed": false
   }
  },
  {
   "cell_type": "code",
   "execution_count": 15,
   "outputs": [],
   "source": [],
   "metadata": {
    "collapsed": false
   }
  },
  {
   "cell_type": "code",
   "execution_count": 35,
   "outputs": [],
   "source": [],
   "metadata": {
    "collapsed": false
   }
  },
  {
   "cell_type": "code",
   "execution_count": 17,
   "outputs": [],
   "source": [],
   "metadata": {
    "collapsed": false
   }
  },
  {
   "cell_type": "code",
   "execution_count": 35,
   "outputs": [],
   "source": [],
   "metadata": {
    "collapsed": false
   }
  },
  {
   "cell_type": "code",
   "execution_count": null,
   "outputs": [],
   "source": [],
   "metadata": {
    "collapsed": false
   }
  }
 ],
 "metadata": {
  "kernelspec": {
   "display_name": "Python 3",
   "language": "python",
   "name": "python3"
  },
  "language_info": {
   "codemirror_mode": {
    "name": "ipython",
    "version": 2
   },
   "file_extension": ".py",
   "mimetype": "text/x-python",
   "name": "python",
   "nbconvert_exporter": "python",
   "pygments_lexer": "ipython2",
   "version": "2.7.6"
  }
 },
 "nbformat": 4,
 "nbformat_minor": 0
}
