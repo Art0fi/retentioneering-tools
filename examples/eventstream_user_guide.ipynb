{
 "cells": [
  {
   "cell_type": "markdown",
   "source": [
    "# Eventstream concept"
   ],
   "metadata": {
    "collapsed": false
   }
  },
  {
   "cell_type": "markdown",
   "source": [
    "Install retentioneering if running from google.colab or for the first time:"
   ],
   "metadata": {
    "collapsed": false
   }
  },
  {
   "cell_type": "code",
   "execution_count": 1,
   "outputs": [],
   "source": [
    "# !pip install retentioneering"
   ],
   "metadata": {
    "collapsed": false
   }
  },
  {
   "cell_type": "code",
   "execution_count": 1,
   "outputs": [],
   "source": [
    "import pandas as pd\n",
    "import sys\n",
    "sys.path.insert(0, '..')"
   ],
   "metadata": {
    "collapsed": false
   }
  },
  {
   "cell_type": "markdown",
   "source": [
    "``Eventstream`` - is a core data type, which is used in rete library.\n",
    "We need such a type in order to processed clickstream data, create tools which take into account its specifics."
   ],
   "metadata": {
    "collapsed": false
   }
  },
  {
   "cell_type": "markdown",
   "source": [
    "First of all let's download small dataset."
   ],
   "metadata": {
    "collapsed": false
   }
  },
  {
   "cell_type": "code",
   "execution_count": 3,
   "outputs": [],
   "source": [
    "df = pd.read_csv(\"../src/datasets/data/simple-onlineshop.csv\")"
   ],
   "metadata": {
    "collapsed": false
   }
  },
  {
   "cell_type": "code",
   "execution_count": 4,
   "outputs": [
    {
     "name": "stdout",
     "output_type": "stream",
     "text": [
      "<class 'pandas.core.frame.DataFrame'>\n",
      "RangeIndex: 35381 entries, 0 to 35380\n",
      "Data columns (total 3 columns):\n",
      " #   Column     Non-Null Count  Dtype \n",
      "---  ------     --------------  ----- \n",
      " 0   user_id    35381 non-null  int64 \n",
      " 1   event      35381 non-null  object\n",
      " 2   timestamp  35381 non-null  object\n",
      "dtypes: int64(1), object(2)\n",
      "memory usage: 829.4+ KB\n"
     ]
    }
   ],
   "source": [
    "df.info()"
   ],
   "metadata": {
    "collapsed": false
   }
  },
  {
   "cell_type": "markdown",
   "source": [
    "## Eventstream creation"
   ],
   "metadata": {
    "collapsed": false
   }
  },
  {
   "cell_type": "markdown",
   "source": [
    "To create an ``Eventstream`` we need at least 3 columns:\n",
    "- ``user_id``\n",
    "- ``event_name``\n",
    "- ``event_timestamp``\n",
    "\n",
    "If columns in our df have names like in the default ``RawDataSchema`` - all we need is to import ``Eventstream`` and create it from input pd.Dataframe."
   ],
   "metadata": {
    "collapsed": false
   }
  },
  {
   "cell_type": "code",
   "execution_count": 5,
   "outputs": [
    {
     "name": "stderr",
     "output_type": "stream",
     "text": [
      "/opt/homebrew/Caskroom/miniforge/base/envs/rete_pycharm/lib/python3.8/site-packages/tqdm/auto.py:22: TqdmWarning: IProgress not found. Please update jupyter and ipywidgets. See https://ipywidgets.readthedocs.io/en/stable/user_install.html\n",
      "  from .autonotebook import tqdm as notebook_tqdm\n"
     ]
    }
   ],
   "source": [
    "from src.eventstream import Eventstream\n",
    "stream = Eventstream(df)"
   ],
   "metadata": {
    "collapsed": false
   }
  },
  {
   "cell_type": "markdown",
   "source": [
    "We can't directly display eventstream data, but we can convert it to pd.Dataframe:"
   ],
   "metadata": {
    "collapsed": false
   }
  },
  {
   "cell_type": "code",
   "execution_count": 6,
   "outputs": [
    {
     "data": {
      "text/plain": "                                   event_id event_type  event_index     event  \\\n0      37fdfcb9-f411-4873-97dd-67b898be206a        raw            0   catalog   \n1      511ab593-6311-40b4-adf8-f3ae443fc8d4        raw            1  product1   \n2      6885a9d6-b04c-46d4-b1b8-cc9819eadb64        raw            2      cart   \n3      a8ca40c2-e161-447c-9548-48a0da74e241        raw            3   catalog   \n4      b807d2f9-4a18-4da6-a4b6-9a37a0d945f0        raw            4   catalog   \n...                                     ...        ...          ...       ...   \n35376  d0e348af-8ca1-4c68-8c79-73200f22aa8d        raw        35376   catalog   \n35377  67f0c278-d0ca-4544-82b8-4fd257a57992        raw        35377   catalog   \n35378  6162bd14-1d83-48d7-a42d-501481585224        raw        35378      main   \n35379  580a49cb-3cf9-4915-a067-af216a13012a        raw        35379   catalog   \n35380  ec945fce-6e4d-4f33-b216-0ab754452454        raw        35380      lost   \n\n                       timestamp    user_id  \n0     2019-11-01 17:59:13.273932  219483890  \n1     2019-11-01 17:59:28.459271  219483890  \n2     2019-11-01 17:59:29.502214  219483890  \n3     2019-11-01 17:59:32.557029  219483890  \n4     2019-11-01 21:38:19.283663  964964743  \n...                          ...        ...  \n35376 2020-04-29 12:47:40.975732  501098384  \n35377 2020-04-29 12:48:01.809577  501098384  \n35378 2020-04-29 12:48:01.938488  501098384  \n35379 2020-04-29 12:48:06.595390  501098384  \n35380 2020-04-29 12:48:07.595390  501098384  \n\n[35381 rows x 6 columns]",
      "text/html": "<div>\n<style scoped>\n    .dataframe tbody tr th:only-of-type {\n        vertical-align: middle;\n    }\n\n    .dataframe tbody tr th {\n        vertical-align: top;\n    }\n\n    .dataframe thead th {\n        text-align: right;\n    }\n</style>\n<table border=\"1\" class=\"dataframe\">\n  <thead>\n    <tr style=\"text-align: right;\">\n      <th></th>\n      <th>event_id</th>\n      <th>event_type</th>\n      <th>event_index</th>\n      <th>event</th>\n      <th>timestamp</th>\n      <th>user_id</th>\n    </tr>\n  </thead>\n  <tbody>\n    <tr>\n      <th>0</th>\n      <td>37fdfcb9-f411-4873-97dd-67b898be206a</td>\n      <td>raw</td>\n      <td>0</td>\n      <td>catalog</td>\n      <td>2019-11-01 17:59:13.273932</td>\n      <td>219483890</td>\n    </tr>\n    <tr>\n      <th>1</th>\n      <td>511ab593-6311-40b4-adf8-f3ae443fc8d4</td>\n      <td>raw</td>\n      <td>1</td>\n      <td>product1</td>\n      <td>2019-11-01 17:59:28.459271</td>\n      <td>219483890</td>\n    </tr>\n    <tr>\n      <th>2</th>\n      <td>6885a9d6-b04c-46d4-b1b8-cc9819eadb64</td>\n      <td>raw</td>\n      <td>2</td>\n      <td>cart</td>\n      <td>2019-11-01 17:59:29.502214</td>\n      <td>219483890</td>\n    </tr>\n    <tr>\n      <th>3</th>\n      <td>a8ca40c2-e161-447c-9548-48a0da74e241</td>\n      <td>raw</td>\n      <td>3</td>\n      <td>catalog</td>\n      <td>2019-11-01 17:59:32.557029</td>\n      <td>219483890</td>\n    </tr>\n    <tr>\n      <th>4</th>\n      <td>b807d2f9-4a18-4da6-a4b6-9a37a0d945f0</td>\n      <td>raw</td>\n      <td>4</td>\n      <td>catalog</td>\n      <td>2019-11-01 21:38:19.283663</td>\n      <td>964964743</td>\n    </tr>\n    <tr>\n      <th>...</th>\n      <td>...</td>\n      <td>...</td>\n      <td>...</td>\n      <td>...</td>\n      <td>...</td>\n      <td>...</td>\n    </tr>\n    <tr>\n      <th>35376</th>\n      <td>d0e348af-8ca1-4c68-8c79-73200f22aa8d</td>\n      <td>raw</td>\n      <td>35376</td>\n      <td>catalog</td>\n      <td>2020-04-29 12:47:40.975732</td>\n      <td>501098384</td>\n    </tr>\n    <tr>\n      <th>35377</th>\n      <td>67f0c278-d0ca-4544-82b8-4fd257a57992</td>\n      <td>raw</td>\n      <td>35377</td>\n      <td>catalog</td>\n      <td>2020-04-29 12:48:01.809577</td>\n      <td>501098384</td>\n    </tr>\n    <tr>\n      <th>35378</th>\n      <td>6162bd14-1d83-48d7-a42d-501481585224</td>\n      <td>raw</td>\n      <td>35378</td>\n      <td>main</td>\n      <td>2020-04-29 12:48:01.938488</td>\n      <td>501098384</td>\n    </tr>\n    <tr>\n      <th>35379</th>\n      <td>580a49cb-3cf9-4915-a067-af216a13012a</td>\n      <td>raw</td>\n      <td>35379</td>\n      <td>catalog</td>\n      <td>2020-04-29 12:48:06.595390</td>\n      <td>501098384</td>\n    </tr>\n    <tr>\n      <th>35380</th>\n      <td>ec945fce-6e4d-4f33-b216-0ab754452454</td>\n      <td>raw</td>\n      <td>35380</td>\n      <td>lost</td>\n      <td>2020-04-29 12:48:07.595390</td>\n      <td>501098384</td>\n    </tr>\n  </tbody>\n</table>\n<p>35381 rows × 6 columns</p>\n</div>"
     },
     "execution_count": 6,
     "metadata": {},
     "output_type": "execute_result"
    }
   ],
   "source": [
    "stream.to_dataframe()"
   ],
   "metadata": {
    "collapsed": false
   }
  },
  {
   "cell_type": "markdown",
   "source": [
    "Let's have a look on more complex example - if columns names are different from the default ``RawDataSchema``."
   ],
   "metadata": {
    "collapsed": false
   }
  },
  {
   "cell_type": "code",
   "execution_count": 7,
   "outputs": [
    {
     "data": {
      "text/plain": "         uid action_name                    datetime\n0  219483890     catalog  2019-11-01 17:59:13.273932\n1  219483890    product1  2019-11-01 17:59:28.459271\n2  219483890        cart  2019-11-01 17:59:29.502214\n3  219483890     catalog  2019-11-01 17:59:32.557029\n4  964964743     catalog  2019-11-01 21:38:19.283663",
      "text/html": "<div>\n<style scoped>\n    .dataframe tbody tr th:only-of-type {\n        vertical-align: middle;\n    }\n\n    .dataframe tbody tr th {\n        vertical-align: top;\n    }\n\n    .dataframe thead th {\n        text-align: right;\n    }\n</style>\n<table border=\"1\" class=\"dataframe\">\n  <thead>\n    <tr style=\"text-align: right;\">\n      <th></th>\n      <th>uid</th>\n      <th>action_name</th>\n      <th>datetime</th>\n    </tr>\n  </thead>\n  <tbody>\n    <tr>\n      <th>0</th>\n      <td>219483890</td>\n      <td>catalog</td>\n      <td>2019-11-01 17:59:13.273932</td>\n    </tr>\n    <tr>\n      <th>1</th>\n      <td>219483890</td>\n      <td>product1</td>\n      <td>2019-11-01 17:59:28.459271</td>\n    </tr>\n    <tr>\n      <th>2</th>\n      <td>219483890</td>\n      <td>cart</td>\n      <td>2019-11-01 17:59:29.502214</td>\n    </tr>\n    <tr>\n      <th>3</th>\n      <td>219483890</td>\n      <td>catalog</td>\n      <td>2019-11-01 17:59:32.557029</td>\n    </tr>\n    <tr>\n      <th>4</th>\n      <td>964964743</td>\n      <td>catalog</td>\n      <td>2019-11-01 21:38:19.283663</td>\n    </tr>\n  </tbody>\n</table>\n</div>"
     },
     "execution_count": 7,
     "metadata": {},
     "output_type": "execute_result"
    }
   ],
   "source": [
    "df.columns = ['uid', 'action_name', 'datetime']\n",
    "df.head()"
   ],
   "metadata": {
    "collapsed": false
   }
  },
  {
   "cell_type": "markdown",
   "source": [
    "There are 2 ways how to deal with that problem:\n",
    "1) Rename columns\n",
    "2) Change RawDataSchema\n",
    "\n",
    "Let's have a look on how to create a custom ``RawDataSchema``"
   ],
   "metadata": {
    "collapsed": false
   }
  },
  {
   "cell_type": "code",
   "execution_count": 8,
   "outputs": [],
   "source": [
    "from src.eventstream import Eventstream, RawDataSchema\n",
    "raw_data_schema=RawDataSchema(\n",
    "                user_id=\"uid\",\n",
    "                event_name=\"action_name\",\n",
    "                event_timestamp=\"datetime\",\n",
    "                )\n",
    "stream2 = Eventstream(\n",
    "            raw_data_schema=raw_data_schema,\n",
    "            raw_data=df)"
   ],
   "metadata": {
    "collapsed": false
   }
  },
  {
   "cell_type": "code",
   "execution_count": 9,
   "outputs": [
    {
     "data": {
      "text/plain": "                               event_id event_type  event_index     event  \\\n0  96850d03-b5a4-4bfd-8b00-2b5e83c2176c        raw            0   catalog   \n1  26a7f996-0d34-465b-a136-470ca3f37f72        raw            1  product1   \n2  09a08046-9eb6-4b81-ad26-c6823ff36e53        raw            2      cart   \n3  1e815908-db2f-4ebb-a230-7aeee43929df        raw            3   catalog   \n4  319b62dd-142e-45f1-807b-89a7451a56b8        raw            4   catalog   \n\n                   timestamp    user_id  \n0 2019-11-01 17:59:13.273932  219483890  \n1 2019-11-01 17:59:28.459271  219483890  \n2 2019-11-01 17:59:29.502214  219483890  \n3 2019-11-01 17:59:32.557029  219483890  \n4 2019-11-01 21:38:19.283663  964964743  ",
      "text/html": "<div>\n<style scoped>\n    .dataframe tbody tr th:only-of-type {\n        vertical-align: middle;\n    }\n\n    .dataframe tbody tr th {\n        vertical-align: top;\n    }\n\n    .dataframe thead th {\n        text-align: right;\n    }\n</style>\n<table border=\"1\" class=\"dataframe\">\n  <thead>\n    <tr style=\"text-align: right;\">\n      <th></th>\n      <th>event_id</th>\n      <th>event_type</th>\n      <th>event_index</th>\n      <th>event</th>\n      <th>timestamp</th>\n      <th>user_id</th>\n    </tr>\n  </thead>\n  <tbody>\n    <tr>\n      <th>0</th>\n      <td>96850d03-b5a4-4bfd-8b00-2b5e83c2176c</td>\n      <td>raw</td>\n      <td>0</td>\n      <td>catalog</td>\n      <td>2019-11-01 17:59:13.273932</td>\n      <td>219483890</td>\n    </tr>\n    <tr>\n      <th>1</th>\n      <td>26a7f996-0d34-465b-a136-470ca3f37f72</td>\n      <td>raw</td>\n      <td>1</td>\n      <td>product1</td>\n      <td>2019-11-01 17:59:28.459271</td>\n      <td>219483890</td>\n    </tr>\n    <tr>\n      <th>2</th>\n      <td>09a08046-9eb6-4b81-ad26-c6823ff36e53</td>\n      <td>raw</td>\n      <td>2</td>\n      <td>cart</td>\n      <td>2019-11-01 17:59:29.502214</td>\n      <td>219483890</td>\n    </tr>\n    <tr>\n      <th>3</th>\n      <td>1e815908-db2f-4ebb-a230-7aeee43929df</td>\n      <td>raw</td>\n      <td>3</td>\n      <td>catalog</td>\n      <td>2019-11-01 17:59:32.557029</td>\n      <td>219483890</td>\n    </tr>\n    <tr>\n      <th>4</th>\n      <td>319b62dd-142e-45f1-807b-89a7451a56b8</td>\n      <td>raw</td>\n      <td>4</td>\n      <td>catalog</td>\n      <td>2019-11-01 21:38:19.283663</td>\n      <td>964964743</td>\n    </tr>\n  </tbody>\n</table>\n</div>"
     },
     "execution_count": 9,
     "metadata": {},
     "output_type": "execute_result"
    }
   ],
   "source": [
    "stream2.to_dataframe().head()"
   ],
   "metadata": {
    "collapsed": false
   }
  },
  {
   "cell_type": "markdown",
   "source": [
    "One more point, which we need to explore - how we can define some custom columns.\n",
    "Let's add one in order to demonstrate such functionality."
   ],
   "metadata": {
    "collapsed": false
   }
  },
  {
   "cell_type": "code",
   "execution_count": 10,
   "outputs": [
    {
     "data": {
      "text/plain": "         uid action_name                    datetime user_type\n0  219483890     catalog  2019-11-01 17:59:13.273932  non_conv\n1  219483890    product1  2019-11-01 17:59:28.459271  non_conv\n2  219483890        cart  2019-11-01 17:59:29.502214  non_conv\n3  219483890     catalog  2019-11-01 17:59:32.557029  non_conv\n4  964964743     catalog  2019-11-01 21:38:19.283663  non_conv",
      "text/html": "<div>\n<style scoped>\n    .dataframe tbody tr th:only-of-type {\n        vertical-align: middle;\n    }\n\n    .dataframe tbody tr th {\n        vertical-align: top;\n    }\n\n    .dataframe thead th {\n        text-align: right;\n    }\n</style>\n<table border=\"1\" class=\"dataframe\">\n  <thead>\n    <tr style=\"text-align: right;\">\n      <th></th>\n      <th>uid</th>\n      <th>action_name</th>\n      <th>datetime</th>\n      <th>user_type</th>\n    </tr>\n  </thead>\n  <tbody>\n    <tr>\n      <th>0</th>\n      <td>219483890</td>\n      <td>catalog</td>\n      <td>2019-11-01 17:59:13.273932</td>\n      <td>non_conv</td>\n    </tr>\n    <tr>\n      <th>1</th>\n      <td>219483890</td>\n      <td>product1</td>\n      <td>2019-11-01 17:59:28.459271</td>\n      <td>non_conv</td>\n    </tr>\n    <tr>\n      <th>2</th>\n      <td>219483890</td>\n      <td>cart</td>\n      <td>2019-11-01 17:59:29.502214</td>\n      <td>non_conv</td>\n    </tr>\n    <tr>\n      <th>3</th>\n      <td>219483890</td>\n      <td>catalog</td>\n      <td>2019-11-01 17:59:32.557029</td>\n      <td>non_conv</td>\n    </tr>\n    <tr>\n      <th>4</th>\n      <td>964964743</td>\n      <td>catalog</td>\n      <td>2019-11-01 21:38:19.283663</td>\n      <td>non_conv</td>\n    </tr>\n  </tbody>\n</table>\n</div>"
     },
     "execution_count": 10,
     "metadata": {},
     "output_type": "execute_result"
    }
   ],
   "source": [
    "conv_users = df[df['action_name'] == 'payment_done']['uid'].unique()\n",
    "df['user_type'] = 'non_conv'\n",
    "df.loc[df['uid'].isin(conv_users),'user_type'] = 'conv'\n",
    "df.head()"
   ],
   "metadata": {
    "collapsed": false
   }
  },
  {
   "cell_type": "code",
   "execution_count": 11,
   "outputs": [
    {
     "data": {
      "text/plain": "non_conv    24038\nconv        11343\nName: user_type, dtype: int64"
     },
     "execution_count": 11,
     "metadata": {},
     "output_type": "execute_result"
    }
   ],
   "source": [
    "df.user_type.value_counts()"
   ],
   "metadata": {
    "collapsed": false
   }
  },
  {
   "cell_type": "code",
   "execution_count": 12,
   "outputs": [],
   "source": [
    "raw_data_schema=RawDataSchema(\n",
    "                user_id=\"uid\",\n",
    "                event_name=\"action_name\",\n",
    "                event_timestamp=\"datetime\",\n",
    "                custom_cols = [{\"custom_col\": 'user_type_col',\n",
    "                                 \"raw_data_col\": \"user_type\"}]\n",
    "                )\n",
    "stream3 = Eventstream(\n",
    "            raw_data_schema=raw_data_schema,\n",
    "            raw_data=df)"
   ],
   "metadata": {
    "collapsed": false
   }
  },
  {
   "cell_type": "code",
   "execution_count": 13,
   "outputs": [
    {
     "data": {
      "text/plain": "                               event_id event_type  event_index     event  \\\n0  0f15dccc-a8ce-4997-bfda-aaac1c0a60d1        raw            0   catalog   \n1  d43a3ba3-6ec9-4058-9303-8d77fbb1aa12        raw            1  product1   \n2  9aca87b2-7a19-448e-834b-5a78a1353f91        raw            2      cart   \n3  227d1a91-a8e0-4fd5-84ca-00526b3d2964        raw            3   catalog   \n4  a5394dd8-4f0b-485c-b801-5ab66c33095c        raw            4   catalog   \n\n                   timestamp    user_id user_type_col  \n0 2019-11-01 17:59:13.273932  219483890      non_conv  \n1 2019-11-01 17:59:28.459271  219483890      non_conv  \n2 2019-11-01 17:59:29.502214  219483890      non_conv  \n3 2019-11-01 17:59:32.557029  219483890      non_conv  \n4 2019-11-01 21:38:19.283663  964964743      non_conv  ",
      "text/html": "<div>\n<style scoped>\n    .dataframe tbody tr th:only-of-type {\n        vertical-align: middle;\n    }\n\n    .dataframe tbody tr th {\n        vertical-align: top;\n    }\n\n    .dataframe thead th {\n        text-align: right;\n    }\n</style>\n<table border=\"1\" class=\"dataframe\">\n  <thead>\n    <tr style=\"text-align: right;\">\n      <th></th>\n      <th>event_id</th>\n      <th>event_type</th>\n      <th>event_index</th>\n      <th>event</th>\n      <th>timestamp</th>\n      <th>user_id</th>\n      <th>user_type_col</th>\n    </tr>\n  </thead>\n  <tbody>\n    <tr>\n      <th>0</th>\n      <td>0f15dccc-a8ce-4997-bfda-aaac1c0a60d1</td>\n      <td>raw</td>\n      <td>0</td>\n      <td>catalog</td>\n      <td>2019-11-01 17:59:13.273932</td>\n      <td>219483890</td>\n      <td>non_conv</td>\n    </tr>\n    <tr>\n      <th>1</th>\n      <td>d43a3ba3-6ec9-4058-9303-8d77fbb1aa12</td>\n      <td>raw</td>\n      <td>1</td>\n      <td>product1</td>\n      <td>2019-11-01 17:59:28.459271</td>\n      <td>219483890</td>\n      <td>non_conv</td>\n    </tr>\n    <tr>\n      <th>2</th>\n      <td>9aca87b2-7a19-448e-834b-5a78a1353f91</td>\n      <td>raw</td>\n      <td>2</td>\n      <td>cart</td>\n      <td>2019-11-01 17:59:29.502214</td>\n      <td>219483890</td>\n      <td>non_conv</td>\n    </tr>\n    <tr>\n      <th>3</th>\n      <td>227d1a91-a8e0-4fd5-84ca-00526b3d2964</td>\n      <td>raw</td>\n      <td>3</td>\n      <td>catalog</td>\n      <td>2019-11-01 17:59:32.557029</td>\n      <td>219483890</td>\n      <td>non_conv</td>\n    </tr>\n    <tr>\n      <th>4</th>\n      <td>a5394dd8-4f0b-485c-b801-5ab66c33095c</td>\n      <td>raw</td>\n      <td>4</td>\n      <td>catalog</td>\n      <td>2019-11-01 21:38:19.283663</td>\n      <td>964964743</td>\n      <td>non_conv</td>\n    </tr>\n  </tbody>\n</table>\n</div>"
     },
     "execution_count": 13,
     "metadata": {},
     "output_type": "execute_result"
    }
   ],
   "source": [
    "stream3.to_dataframe().head()"
   ],
   "metadata": {
    "collapsed": false
   }
  },
  {
   "cell_type": "markdown",
   "source": [
    "## Add custom column"
   ],
   "metadata": {
    "collapsed": false
   }
  },
  {
   "cell_type": "markdown",
   "source": [
    "If we have an ``eventstream`` and would like to add any custom column without additional convertations."
   ],
   "metadata": {
    "collapsed": false
   }
  },
  {
   "cell_type": "code",
   "execution_count": 14,
   "outputs": [
    {
     "data": {
      "text/plain": "                               event_id event_type  event_index     event  \\\n0  37fdfcb9-f411-4873-97dd-67b898be206a        raw            0   catalog   \n1  511ab593-6311-40b4-adf8-f3ae443fc8d4        raw            1  product1   \n2  6885a9d6-b04c-46d4-b1b8-cc9819eadb64        raw            2      cart   \n3  a8ca40c2-e161-447c-9548-48a0da74e241        raw            3   catalog   \n4  b807d2f9-4a18-4da6-a4b6-9a37a0d945f0        raw            4   catalog   \n\n                   timestamp    user_id  \n0 2019-11-01 17:59:13.273932  219483890  \n1 2019-11-01 17:59:28.459271  219483890  \n2 2019-11-01 17:59:29.502214  219483890  \n3 2019-11-01 17:59:32.557029  219483890  \n4 2019-11-01 21:38:19.283663  964964743  ",
      "text/html": "<div>\n<style scoped>\n    .dataframe tbody tr th:only-of-type {\n        vertical-align: middle;\n    }\n\n    .dataframe tbody tr th {\n        vertical-align: top;\n    }\n\n    .dataframe thead th {\n        text-align: right;\n    }\n</style>\n<table border=\"1\" class=\"dataframe\">\n  <thead>\n    <tr style=\"text-align: right;\">\n      <th></th>\n      <th>event_id</th>\n      <th>event_type</th>\n      <th>event_index</th>\n      <th>event</th>\n      <th>timestamp</th>\n      <th>user_id</th>\n    </tr>\n  </thead>\n  <tbody>\n    <tr>\n      <th>0</th>\n      <td>37fdfcb9-f411-4873-97dd-67b898be206a</td>\n      <td>raw</td>\n      <td>0</td>\n      <td>catalog</td>\n      <td>2019-11-01 17:59:13.273932</td>\n      <td>219483890</td>\n    </tr>\n    <tr>\n      <th>1</th>\n      <td>511ab593-6311-40b4-adf8-f3ae443fc8d4</td>\n      <td>raw</td>\n      <td>1</td>\n      <td>product1</td>\n      <td>2019-11-01 17:59:28.459271</td>\n      <td>219483890</td>\n    </tr>\n    <tr>\n      <th>2</th>\n      <td>6885a9d6-b04c-46d4-b1b8-cc9819eadb64</td>\n      <td>raw</td>\n      <td>2</td>\n      <td>cart</td>\n      <td>2019-11-01 17:59:29.502214</td>\n      <td>219483890</td>\n    </tr>\n    <tr>\n      <th>3</th>\n      <td>a8ca40c2-e161-447c-9548-48a0da74e241</td>\n      <td>raw</td>\n      <td>3</td>\n      <td>catalog</td>\n      <td>2019-11-01 17:59:32.557029</td>\n      <td>219483890</td>\n    </tr>\n    <tr>\n      <th>4</th>\n      <td>b807d2f9-4a18-4da6-a4b6-9a37a0d945f0</td>\n      <td>raw</td>\n      <td>4</td>\n      <td>catalog</td>\n      <td>2019-11-01 21:38:19.283663</td>\n      <td>964964743</td>\n    </tr>\n  </tbody>\n</table>\n</div>"
     },
     "execution_count": 14,
     "metadata": {},
     "output_type": "execute_result"
    }
   ],
   "source": [
    "stream.to_dataframe().head()"
   ],
   "metadata": {
    "collapsed": false
   }
  },
  {
   "cell_type": "code",
   "execution_count": 15,
   "outputs": [],
   "source": [
    "stream.add_custom_col('user_type', df['user_type'])"
   ],
   "metadata": {
    "collapsed": false
   }
  },
  {
   "cell_type": "code",
   "execution_count": 16,
   "outputs": [
    {
     "data": {
      "text/plain": "                               event_id event_type  event_index     event  \\\n0  37fdfcb9-f411-4873-97dd-67b898be206a        raw            0   catalog   \n1  511ab593-6311-40b4-adf8-f3ae443fc8d4        raw            1  product1   \n2  6885a9d6-b04c-46d4-b1b8-cc9819eadb64        raw            2      cart   \n3  a8ca40c2-e161-447c-9548-48a0da74e241        raw            3   catalog   \n4  b807d2f9-4a18-4da6-a4b6-9a37a0d945f0        raw            4   catalog   \n\n                   timestamp    user_id user_type  \n0 2019-11-01 17:59:13.273932  219483890  non_conv  \n1 2019-11-01 17:59:28.459271  219483890  non_conv  \n2 2019-11-01 17:59:29.502214  219483890  non_conv  \n3 2019-11-01 17:59:32.557029  219483890  non_conv  \n4 2019-11-01 21:38:19.283663  964964743  non_conv  ",
      "text/html": "<div>\n<style scoped>\n    .dataframe tbody tr th:only-of-type {\n        vertical-align: middle;\n    }\n\n    .dataframe tbody tr th {\n        vertical-align: top;\n    }\n\n    .dataframe thead th {\n        text-align: right;\n    }\n</style>\n<table border=\"1\" class=\"dataframe\">\n  <thead>\n    <tr style=\"text-align: right;\">\n      <th></th>\n      <th>event_id</th>\n      <th>event_type</th>\n      <th>event_index</th>\n      <th>event</th>\n      <th>timestamp</th>\n      <th>user_id</th>\n      <th>user_type</th>\n    </tr>\n  </thead>\n  <tbody>\n    <tr>\n      <th>0</th>\n      <td>37fdfcb9-f411-4873-97dd-67b898be206a</td>\n      <td>raw</td>\n      <td>0</td>\n      <td>catalog</td>\n      <td>2019-11-01 17:59:13.273932</td>\n      <td>219483890</td>\n      <td>non_conv</td>\n    </tr>\n    <tr>\n      <th>1</th>\n      <td>511ab593-6311-40b4-adf8-f3ae443fc8d4</td>\n      <td>raw</td>\n      <td>1</td>\n      <td>product1</td>\n      <td>2019-11-01 17:59:28.459271</td>\n      <td>219483890</td>\n      <td>non_conv</td>\n    </tr>\n    <tr>\n      <th>2</th>\n      <td>6885a9d6-b04c-46d4-b1b8-cc9819eadb64</td>\n      <td>raw</td>\n      <td>2</td>\n      <td>cart</td>\n      <td>2019-11-01 17:59:29.502214</td>\n      <td>219483890</td>\n      <td>non_conv</td>\n    </tr>\n    <tr>\n      <th>3</th>\n      <td>a8ca40c2-e161-447c-9548-48a0da74e241</td>\n      <td>raw</td>\n      <td>3</td>\n      <td>catalog</td>\n      <td>2019-11-01 17:59:32.557029</td>\n      <td>219483890</td>\n      <td>non_conv</td>\n    </tr>\n    <tr>\n      <th>4</th>\n      <td>b807d2f9-4a18-4da6-a4b6-9a37a0d945f0</td>\n      <td>raw</td>\n      <td>4</td>\n      <td>catalog</td>\n      <td>2019-11-01 21:38:19.283663</td>\n      <td>964964743</td>\n      <td>non_conv</td>\n    </tr>\n  </tbody>\n</table>\n</div>"
     },
     "execution_count": 16,
     "metadata": {},
     "output_type": "execute_result"
    }
   ],
   "source": [
    "stream.to_dataframe().head()"
   ],
   "metadata": {
    "collapsed": false
   }
  },
  {
   "cell_type": "markdown",
   "source": [
    "We can see, stream schema also have changed"
   ],
   "metadata": {
    "collapsed": false
   }
  },
  {
   "cell_type": "code",
   "execution_count": 17,
   "outputs": [
    {
     "data": {
      "text/plain": "EventstreamSchema(event_id='event_id', event_type='event_type', event_index='event_index', event_name='event', event_timestamp='timestamp', user_id='user_id', custom_cols=['user_type'])"
     },
     "execution_count": 17,
     "metadata": {},
     "output_type": "execute_result"
    }
   ],
   "source": [
    "stream.schema"
   ],
   "metadata": {
    "collapsed": false
   }
  },
  {
   "cell_type": "markdown",
   "source": [
    "## Custom index order"
   ],
   "metadata": {
    "collapsed": false
   }
  },
  {
   "cell_type": "markdown",
   "source": [
    "``eventstream.index_order`` -  attribute that stores rules of the events sorting depends on their ``event_type``. It's nedeed when we start preprocessing process and add synthetic events in users trajectories.\n",
    "Actual ``index_order``:"
   ],
   "metadata": {
    "collapsed": false
   }
  },
  {
   "cell_type": "code",
   "execution_count": 18,
   "outputs": [
    {
     "data": {
      "text/plain": "['profile',\n 'path_start',\n 'new_user',\n 'existing_user',\n 'truncated_left',\n 'session_start',\n 'session_start_truncated',\n 'group_alias',\n 'raw',\n 'raw_sleep',\n None,\n 'synthetic',\n 'synthetic_sleep',\n 'positive_target',\n 'negative_target',\n 'session_end_truncated',\n 'session_end',\n 'session_sleep',\n 'truncated_right',\n 'absent_user',\n 'lost_user',\n 'path_end']"
     },
     "execution_count": 18,
     "metadata": {},
     "output_type": "execute_result"
    }
   ],
   "source": [
    "stream.index_order"
   ],
   "metadata": {
    "collapsed": false
   }
  },
  {
   "cell_type": "markdown",
   "source": [
    "In order to change index_order we can put it in the variable and make some corrections. For example we add custom ``event_type`` - ``loop`` and would like to put it after ``group_alias`` type."
   ],
   "metadata": {
    "collapsed": false
   }
  },
  {
   "cell_type": "code",
   "execution_count": 19,
   "outputs": [],
   "source": [
    "index_list = stream.index_order.copy()"
   ],
   "metadata": {
    "collapsed": false
   }
  },
  {
   "cell_type": "code",
   "execution_count": 20,
   "outputs": [],
   "source": [
    "place_at = index_list.index('group_alias') + 1"
   ],
   "metadata": {
    "collapsed": false
   }
  },
  {
   "cell_type": "code",
   "execution_count": 21,
   "outputs": [],
   "source": [
    "index_list[place_at:place_at] = ['loop']"
   ],
   "metadata": {
    "collapsed": false
   }
  },
  {
   "cell_type": "code",
   "execution_count": 22,
   "outputs": [
    {
     "data": {
      "text/plain": "['profile',\n 'path_start',\n 'new_user',\n 'existing_user',\n 'truncated_left',\n 'session_start',\n 'session_start_truncated',\n 'group_alias',\n 'loop',\n 'raw',\n 'raw_sleep',\n None,\n 'synthetic',\n 'synthetic_sleep',\n 'positive_target',\n 'negative_target',\n 'session_end_truncated',\n 'session_end',\n 'session_sleep',\n 'truncated_right',\n 'absent_user',\n 'lost_user',\n 'path_end']"
     },
     "execution_count": 22,
     "metadata": {},
     "output_type": "execute_result"
    }
   ],
   "source": [
    "stream.index_order = index_list\n",
    "stream.index_order"
   ],
   "metadata": {
    "collapsed": false
   }
  },
  {
   "cell_type": "markdown",
   "source": [
    "## Copy"
   ],
   "metadata": {
    "collapsed": false
   }
  },
  {
   "cell_type": "code",
   "execution_count": 23,
   "outputs": [
    {
     "data": {
      "text/plain": "                               event_id event_type  event_index     event  \\\n0  37fdfcb9-f411-4873-97dd-67b898be206a        raw            0   catalog   \n1  511ab593-6311-40b4-adf8-f3ae443fc8d4        raw            1  product1   \n2  6885a9d6-b04c-46d4-b1b8-cc9819eadb64        raw            2      cart   \n3  a8ca40c2-e161-447c-9548-48a0da74e241        raw            3   catalog   \n4  b807d2f9-4a18-4da6-a4b6-9a37a0d945f0        raw            4   catalog   \n\n                   timestamp    user_id user_type  \n0 2019-11-01 17:59:13.273932  219483890  non_conv  \n1 2019-11-01 17:59:28.459271  219483890  non_conv  \n2 2019-11-01 17:59:29.502214  219483890  non_conv  \n3 2019-11-01 17:59:32.557029  219483890  non_conv  \n4 2019-11-01 21:38:19.283663  964964743  non_conv  ",
      "text/html": "<div>\n<style scoped>\n    .dataframe tbody tr th:only-of-type {\n        vertical-align: middle;\n    }\n\n    .dataframe tbody tr th {\n        vertical-align: top;\n    }\n\n    .dataframe thead th {\n        text-align: right;\n    }\n</style>\n<table border=\"1\" class=\"dataframe\">\n  <thead>\n    <tr style=\"text-align: right;\">\n      <th></th>\n      <th>event_id</th>\n      <th>event_type</th>\n      <th>event_index</th>\n      <th>event</th>\n      <th>timestamp</th>\n      <th>user_id</th>\n      <th>user_type</th>\n    </tr>\n  </thead>\n  <tbody>\n    <tr>\n      <th>0</th>\n      <td>37fdfcb9-f411-4873-97dd-67b898be206a</td>\n      <td>raw</td>\n      <td>0</td>\n      <td>catalog</td>\n      <td>2019-11-01 17:59:13.273932</td>\n      <td>219483890</td>\n      <td>non_conv</td>\n    </tr>\n    <tr>\n      <th>1</th>\n      <td>511ab593-6311-40b4-adf8-f3ae443fc8d4</td>\n      <td>raw</td>\n      <td>1</td>\n      <td>product1</td>\n      <td>2019-11-01 17:59:28.459271</td>\n      <td>219483890</td>\n      <td>non_conv</td>\n    </tr>\n    <tr>\n      <th>2</th>\n      <td>6885a9d6-b04c-46d4-b1b8-cc9819eadb64</td>\n      <td>raw</td>\n      <td>2</td>\n      <td>cart</td>\n      <td>2019-11-01 17:59:29.502214</td>\n      <td>219483890</td>\n      <td>non_conv</td>\n    </tr>\n    <tr>\n      <th>3</th>\n      <td>a8ca40c2-e161-447c-9548-48a0da74e241</td>\n      <td>raw</td>\n      <td>3</td>\n      <td>catalog</td>\n      <td>2019-11-01 17:59:32.557029</td>\n      <td>219483890</td>\n      <td>non_conv</td>\n    </tr>\n    <tr>\n      <th>4</th>\n      <td>b807d2f9-4a18-4da6-a4b6-9a37a0d945f0</td>\n      <td>raw</td>\n      <td>4</td>\n      <td>catalog</td>\n      <td>2019-11-01 21:38:19.283663</td>\n      <td>964964743</td>\n      <td>non_conv</td>\n    </tr>\n  </tbody>\n</table>\n</div>"
     },
     "execution_count": 23,
     "metadata": {},
     "output_type": "execute_result"
    }
   ],
   "source": [
    "stream4 = stream.copy()\n",
    "stream4.to_dataframe().head()"
   ],
   "metadata": {
    "collapsed": false
   }
  },
  {
   "cell_type": "markdown",
   "source": [
    "## Nodes and PGraph creation"
   ],
   "metadata": {
    "collapsed": false
   }
  },
  {
   "cell_type": "markdown",
   "source": [
    "In that guide we are not going to concentrate on preprocessing or tooling, there are special guides for these themes.\n",
    "But let's have a look on ``PGraph`` construction."
   ],
   "metadata": {
    "collapsed": false
   }
  },
  {
   "cell_type": "markdown",
   "source": [
    "First of all let's create 2 nodes: ``start_end_node`` and ``lost_node``:"
   ],
   "metadata": {
    "collapsed": false
   }
  },
  {
   "cell_type": "code",
   "execution_count": 24,
   "outputs": [
    {
     "name": "stderr",
     "output_type": "stream",
     "text": [
      "/Users/Daria/Dev/Retentioneering/retentioneering-tools-new-arch/examples/../src/params_model/params_model.py:68: UserWarning: Callable filter was excluded from schema since JSON schema has no equivalent type.\n",
      "  params_schema: dict[str, Any] = cls.schema()\n",
      "/Users/Daria/Dev/Retentioneering/retentioneering-tools-new-arch/examples/../src/params_model/params_model.py:68: UserWarning: Callable negative_function was excluded from schema since JSON schema has no equivalent type.\n",
      "  params_schema: dict[str, Any] = cls.schema()\n",
      "/Users/Daria/Dev/Retentioneering/retentioneering-tools-new-arch/examples/../src/params_model/params_model.py:68: UserWarning: Callable positive_function was excluded from schema since JSON schema has no equivalent type.\n",
      "  params_schema: dict[str, Any] = cls.schema()\n"
     ]
    }
   ],
   "source": [
    "from src.graph.p_graph import PGraph, EventsNode\n",
    "from src.data_processors_lib import StartEndEvents, StartEndEventsParams\n",
    "from src.data_processors_lib import LostUsersEvents, LostUsersParams\n",
    "\n",
    "start_end_node = EventsNode(\n",
    "    StartEndEvents(params=StartEndEventsParams(**{}))\n",
    ")\n",
    "\n",
    "params_lost ={'lost_cutoff' : (3000, 's')}\n",
    "\n",
    "lost_node = EventsNode(\n",
    "    LostUsersEvents(params=LostUsersParams(**params_lost)))"
   ],
   "metadata": {
    "collapsed": false
   }
  },
  {
   "cell_type": "markdown",
   "source": [
    "Then we create instance of preprocessing graph:"
   ],
   "metadata": {
    "collapsed": false
   }
  },
  {
   "cell_type": "code",
   "execution_count": 25,
   "outputs": [],
   "source": [
    "graph = PGraph(stream2)"
   ],
   "metadata": {
    "collapsed": false
   }
  },
  {
   "cell_type": "markdown",
   "source": [
    "And lastly add two nodes: source - start_end_node - lost_node.\n",
    "It's important to mention, that we don't start any calculations right now."
   ],
   "metadata": {
    "collapsed": false
   }
  },
  {
   "cell_type": "code",
   "execution_count": 26,
   "outputs": [],
   "source": [
    "graph.add_node(node=start_end_node, parents=[graph.root])\n",
    "graph.add_node(lost_node, parents=[start_end_node])"
   ],
   "metadata": {
    "collapsed": false
   }
  },
  {
   "cell_type": "code",
   "execution_count": 27,
   "outputs": [
    {
     "data": {
      "text/plain": "[{'name': 'EventsNode', 'pk': '27580143-270d-405e-a566-155e9fff0761'}]"
     },
     "execution_count": 27,
     "metadata": {},
     "output_type": "execute_result"
    }
   ],
   "source": [
    "graph.get_parents(lost_node)"
   ],
   "metadata": {
    "collapsed": false
   }
  },
  {
   "cell_type": "markdown",
   "source": [
    "# @TODO add explanation. dpanina"
   ],
   "metadata": {
    "collapsed": false
   }
  },
  {
   "cell_type": "code",
   "execution_count": 2,
   "outputs": [],
   "source": [
    "# graph.display()"
   ],
   "metadata": {
    "collapsed": false
   }
  },
  {
   "cell_type": "code",
   "execution_count": 32,
   "outputs": [
    {
     "data": {
      "text/plain": "{'directed': True,\n 'nodes': [{'name': 'SourceNode',\n   'pk': 'eeb52ecf-b880-45a9-a36f-56a7467a155f'},\n  {'name': 'EventsNode',\n   'pk': '27580143-270d-405e-a566-155e9fff0761',\n   'processor': {'values': {}, 'name': 'StartEndEvents'}},\n  {'name': 'EventsNode',\n   'pk': '2f87f833-e23c-4358-a3d0-2d9af3dff639',\n   'processor': {'values': {'lost_cutoff': '3000.0,s',\n     'lost_users_list': None},\n    'name': 'LostUsersEvents'}}],\n 'links': [{'source': 'eeb52ecf-b880-45a9-a36f-56a7467a155f',\n   'target': '27580143-270d-405e-a566-155e9fff0761'},\n  {'source': '27580143-270d-405e-a566-155e9fff0761',\n   'target': '2f87f833-e23c-4358-a3d0-2d9af3dff639'}]}"
     },
     "execution_count": 32,
     "metadata": {},
     "output_type": "execute_result"
    }
   ],
   "source": [
    "graph.export(payload=dict())"
   ],
   "metadata": {
    "collapsed": false
   }
  },
  {
   "cell_type": "markdown",
   "source": [
    "In order to start calculations we need to use ``combine`` method.\n",
    "Which return new eventstream after processing."
   ],
   "metadata": {
    "collapsed": false
   }
  },
  {
   "cell_type": "code",
   "execution_count": 29,
   "outputs": [
    {
     "name": "stderr",
     "output_type": "stream",
     "text": [
      "/Users/Daria/Dev/Retentioneering/retentioneering-tools-new-arch/examples/../src/eventstream/eventstream.py:322: FutureWarning: In a future version, object-dtype columns with all-bool values will not be included in reductions with bool_only=True. Explicitly cast to bool dtype instead.\n",
      "  self.__events = pd.concat([result_left_part, result_right_part, result_deleted_events])\n"
     ]
    }
   ],
   "source": [
    "result = graph.combine(node=start_end_node)"
   ],
   "metadata": {
    "collapsed": false
   }
  },
  {
   "cell_type": "code",
   "execution_count": 30,
   "outputs": [
    {
     "data": {
      "text/plain": "                                   event_id  event_type  event_index  \\\n0      20966df0-2c97-40cd-be52-5df6a1ffc2c3  path_start            0   \n1      96850d03-b5a4-4bfd-8b00-2b5e83c2176c         raw            1   \n2      26a7f996-0d34-465b-a136-470ca3f37f72         raw            2   \n3      09a08046-9eb6-4b81-ad26-c6823ff36e53         raw            3   \n4      1e815908-db2f-4ebb-a230-7aeee43929df         raw            4   \n...                                     ...         ...          ...   \n42878  ac8be4db-ee2b-49bf-b938-0694aab32efe         raw        42878   \n42879  627bbbda-6c08-4ad8-81e4-65c412b0762a         raw        42879   \n42880  94dbc15e-aad8-44a2-9f23-480effde990e         raw        42880   \n42881  9b80356d-fdfe-4b37-ad94-6ceebcca5931         raw        42881   \n42882  588ba803-849a-403e-b533-76de4fe8e766    path_end        42882   \n\n            event                  timestamp      user_id  \n0      path_start 2019-11-01 17:59:13.273932  219483890.0  \n1         catalog 2019-11-01 17:59:13.273932  219483890.0  \n2        product1 2019-11-01 17:59:28.459271  219483890.0  \n3            cart 2019-11-01 17:59:29.502214  219483890.0  \n4         catalog 2019-11-01 17:59:32.557029  219483890.0  \n...           ...                        ...          ...  \n42878     catalog 2020-04-29 12:48:01.809577  501098384.0  \n42879        main 2020-04-29 12:48:01.938488  501098384.0  \n42880     catalog 2020-04-29 12:48:06.595390  501098384.0  \n42881        lost 2020-04-29 12:48:07.595390  501098384.0  \n42882    path_end 2020-04-29 12:48:07.595390  501098384.0  \n\n[42883 rows x 6 columns]",
      "text/html": "<div>\n<style scoped>\n    .dataframe tbody tr th:only-of-type {\n        vertical-align: middle;\n    }\n\n    .dataframe tbody tr th {\n        vertical-align: top;\n    }\n\n    .dataframe thead th {\n        text-align: right;\n    }\n</style>\n<table border=\"1\" class=\"dataframe\">\n  <thead>\n    <tr style=\"text-align: right;\">\n      <th></th>\n      <th>event_id</th>\n      <th>event_type</th>\n      <th>event_index</th>\n      <th>event</th>\n      <th>timestamp</th>\n      <th>user_id</th>\n    </tr>\n  </thead>\n  <tbody>\n    <tr>\n      <th>0</th>\n      <td>20966df0-2c97-40cd-be52-5df6a1ffc2c3</td>\n      <td>path_start</td>\n      <td>0</td>\n      <td>path_start</td>\n      <td>2019-11-01 17:59:13.273932</td>\n      <td>219483890.0</td>\n    </tr>\n    <tr>\n      <th>1</th>\n      <td>96850d03-b5a4-4bfd-8b00-2b5e83c2176c</td>\n      <td>raw</td>\n      <td>1</td>\n      <td>catalog</td>\n      <td>2019-11-01 17:59:13.273932</td>\n      <td>219483890.0</td>\n    </tr>\n    <tr>\n      <th>2</th>\n      <td>26a7f996-0d34-465b-a136-470ca3f37f72</td>\n      <td>raw</td>\n      <td>2</td>\n      <td>product1</td>\n      <td>2019-11-01 17:59:28.459271</td>\n      <td>219483890.0</td>\n    </tr>\n    <tr>\n      <th>3</th>\n      <td>09a08046-9eb6-4b81-ad26-c6823ff36e53</td>\n      <td>raw</td>\n      <td>3</td>\n      <td>cart</td>\n      <td>2019-11-01 17:59:29.502214</td>\n      <td>219483890.0</td>\n    </tr>\n    <tr>\n      <th>4</th>\n      <td>1e815908-db2f-4ebb-a230-7aeee43929df</td>\n      <td>raw</td>\n      <td>4</td>\n      <td>catalog</td>\n      <td>2019-11-01 17:59:32.557029</td>\n      <td>219483890.0</td>\n    </tr>\n    <tr>\n      <th>...</th>\n      <td>...</td>\n      <td>...</td>\n      <td>...</td>\n      <td>...</td>\n      <td>...</td>\n      <td>...</td>\n    </tr>\n    <tr>\n      <th>42878</th>\n      <td>ac8be4db-ee2b-49bf-b938-0694aab32efe</td>\n      <td>raw</td>\n      <td>42878</td>\n      <td>catalog</td>\n      <td>2020-04-29 12:48:01.809577</td>\n      <td>501098384.0</td>\n    </tr>\n    <tr>\n      <th>42879</th>\n      <td>627bbbda-6c08-4ad8-81e4-65c412b0762a</td>\n      <td>raw</td>\n      <td>42879</td>\n      <td>main</td>\n      <td>2020-04-29 12:48:01.938488</td>\n      <td>501098384.0</td>\n    </tr>\n    <tr>\n      <th>42880</th>\n      <td>94dbc15e-aad8-44a2-9f23-480effde990e</td>\n      <td>raw</td>\n      <td>42880</td>\n      <td>catalog</td>\n      <td>2020-04-29 12:48:06.595390</td>\n      <td>501098384.0</td>\n    </tr>\n    <tr>\n      <th>42881</th>\n      <td>9b80356d-fdfe-4b37-ad94-6ceebcca5931</td>\n      <td>raw</td>\n      <td>42881</td>\n      <td>lost</td>\n      <td>2020-04-29 12:48:07.595390</td>\n      <td>501098384.0</td>\n    </tr>\n    <tr>\n      <th>42882</th>\n      <td>588ba803-849a-403e-b533-76de4fe8e766</td>\n      <td>path_end</td>\n      <td>42882</td>\n      <td>path_end</td>\n      <td>2020-04-29 12:48:07.595390</td>\n      <td>501098384.0</td>\n    </tr>\n  </tbody>\n</table>\n<p>42883 rows × 6 columns</p>\n</div>"
     },
     "execution_count": 30,
     "metadata": {},
     "output_type": "execute_result"
    }
   ],
   "source": [
    "result.to_dataframe()"
   ],
   "metadata": {
    "collapsed": false
   }
  },
  {
   "cell_type": "code",
   "execution_count": 30,
   "outputs": [],
   "source": [],
   "metadata": {
    "collapsed": false
   }
  },
  {
   "cell_type": "code",
   "execution_count": 30,
   "outputs": [],
   "source": [],
   "metadata": {
    "collapsed": false
   }
  },
  {
   "cell_type": "code",
   "execution_count": 30,
   "outputs": [],
   "source": [],
   "metadata": {
    "collapsed": false
   }
  }
 ],
 "metadata": {
  "kernelspec": {
   "display_name": "Python 3",
   "language": "python",
   "name": "python3"
  },
  "language_info": {
   "codemirror_mode": {
    "name": "ipython",
    "version": 2
   },
   "file_extension": ".py",
   "mimetype": "text/x-python",
   "name": "python",
   "nbconvert_exporter": "python",
   "pygments_lexer": "ipython2",
   "version": "2.7.6"
  }
 },
 "nbformat": 4,
 "nbformat_minor": 0
}
