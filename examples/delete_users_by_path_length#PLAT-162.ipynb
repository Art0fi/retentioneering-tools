{
 "cells": [
  {
   "cell_type": "code",
   "execution_count": 1,
   "metadata": {
    "collapsed": true
   },
   "outputs": [],
   "source": [
    "import sys\n",
    "sys.path.insert(0, '..')"
   ]
  },
  {
   "cell_type": "markdown",
   "source": [
    "# Граф"
   ],
   "metadata": {
    "collapsed": false
   }
  },
  {
   "cell_type": "code",
   "execution_count": 24,
   "outputs": [],
   "source": [
    "import pandas as pd\n",
    "\n",
    "from src.eventstream.eventstream import Eventstream\n",
    "from src.eventstream.schema import RawDataSchema, EventstreamSchema\n",
    "from src.graph.p_graph import PGraph, EventsNode\n",
    "\n",
    "raw_data = pd.read_csv('simple-onlineshop.csv')\n",
    "\n",
    "raw_data_schema = RawDataSchema(\n",
    "                            event_name=\"event\",\n",
    "                            event_timestamp=\"timestamp\",\n",
    "                            user_id=\"user_id\")\n",
    "\n",
    "source = Eventstream(\n",
    "    raw_data=raw_data,\n",
    "    raw_data_schema=raw_data_schema,\n",
    "    schema=EventstreamSchema()\n",
    ")\n",
    "\n",
    "graph = PGraph(source_stream=source)"
   ],
   "metadata": {
    "collapsed": false
   }
  },
  {
   "cell_type": "code",
   "execution_count": 25,
   "outputs": [
    {
     "data": {
      "text/plain": "catalog             14518\nmain                 5635\nlost                 3098\ncart                 2842\nproduct2             2172\ndelivery_choice      1686\nproduct1             1515\npayment_choice       1107\ndelivery_courier      834\npayment_done          706\npayment_card          565\ndelivery_pickup       506\npayment_cash          197\nName: event_name, dtype: int64"
     },
     "execution_count": 25,
     "metadata": {},
     "output_type": "execute_result"
    }
   ],
   "source": [
    "source_df = source.to_dataframe()\n",
    "source_df['event_name'].value_counts()"
   ],
   "metadata": {
    "collapsed": false
   }
  },
  {
   "cell_type": "markdown",
   "source": [
    "# Описание работы функции"
   ],
   "metadata": {
    "collapsed": false
   }
  },
  {
   "cell_type": "markdown",
   "source": [
    "Датапроцессор удаляет траектории пользователей, длина которого меньше заданных параметрами\n",
    "\n",
    "\n",
    "Параметры:\n",
    "```events_num``` - количество событий с которым сравнивается длина траектории каждого пользователя.\n",
    "Длина траектории в этом случае - количество уникальных timestamp (так как мы считаем, что с одинаковым timestamp могут быть только синтетические события).\n",
    "Удаляются траектории, длина которых строго меньше events_num\n",
    "```cutoff``` - отсечка по времени с которой сравнивается длина траектории каждого пользователя.\n",
    "Длина траектории в этом случае - разность между последним и первым событием для каждого пользователя, рассчитанная в заданных единицах времени.\n",
    "Удаляются траектории, длина которых строго меньше cutoff\n"
   ],
   "metadata": {
    "collapsed": false
   }
  },
  {
   "cell_type": "code",
   "execution_count": 34,
   "outputs": [
    {
     "name": "stdout",
     "output_type": "stream",
     "text": [
      "CPU times: user 300 ms, sys: 26.3 ms, total: 327 ms\n",
      "Wall time: 359 ms\n"
     ]
    },
    {
     "data": {
      "text/plain": "                                   event_id event_type  event_index  \\\n0      6eada169-3300-45ec-b278-4a2b9873f135        raw            0   \n1      db355dbf-fba6-46af-8263-8f97c291fc78        raw            1   \n2      f0a46610-d4ce-4835-b8ce-d93b92571efb        raw            2   \n3      a7eb71b2-41c9-4320-af0c-cba61bddfa8d        raw            3   \n4      ff877727-799d-43eb-aa2d-bef004ce526e        raw            4   \n...                                     ...        ...          ...   \n54615  ccc9e3ea-284c-4f71-8301-46eb61e08de2        raw        54615   \n54616  ad291878-86ae-4a54-b928-ca13c9aa032b        raw        54616   \n54617  7fc78139-3914-4600-9106-88cc0a94dae8        raw        54617   \n54618  758bc0d3-1443-41d4-a5d9-59dd08f6c8d4        raw        54618   \n54619  fae3b317-bb49-4321-abd0-ccb7701f3511        raw        54619   \n\n      event_name            event_timestamp      user_id  \n0        catalog 2019-11-01 17:59:13.273932  219483890.0  \n1       product1 2019-11-01 17:59:28.459271  219483890.0  \n2           cart 2019-11-01 17:59:29.502214  219483890.0  \n3        catalog 2019-11-01 17:59:32.557029  219483890.0  \n4        catalog 2019-11-01 21:38:19.283663  964964743.0  \n...          ...                        ...          ...  \n54615    catalog 2020-04-29 12:47:40.975732  501098384.0  \n54616    catalog 2020-04-29 12:48:01.809577  501098384.0  \n54617       main 2020-04-29 12:48:01.938488  501098384.0  \n54618    catalog 2020-04-29 12:48:06.595390  501098384.0  \n54619       lost 2020-04-29 12:48:07.595390  501098384.0  \n\n[16142 rows x 6 columns]",
      "text/html": "<div>\n<style scoped>\n    .dataframe tbody tr th:only-of-type {\n        vertical-align: middle;\n    }\n\n    .dataframe tbody tr th {\n        vertical-align: top;\n    }\n\n    .dataframe thead th {\n        text-align: right;\n    }\n</style>\n<table border=\"1\" class=\"dataframe\">\n  <thead>\n    <tr style=\"text-align: right;\">\n      <th></th>\n      <th>event_id</th>\n      <th>event_type</th>\n      <th>event_index</th>\n      <th>event_name</th>\n      <th>event_timestamp</th>\n      <th>user_id</th>\n    </tr>\n  </thead>\n  <tbody>\n    <tr>\n      <th>0</th>\n      <td>6eada169-3300-45ec-b278-4a2b9873f135</td>\n      <td>raw</td>\n      <td>0</td>\n      <td>catalog</td>\n      <td>2019-11-01 17:59:13.273932</td>\n      <td>219483890.0</td>\n    </tr>\n    <tr>\n      <th>1</th>\n      <td>db355dbf-fba6-46af-8263-8f97c291fc78</td>\n      <td>raw</td>\n      <td>1</td>\n      <td>product1</td>\n      <td>2019-11-01 17:59:28.459271</td>\n      <td>219483890.0</td>\n    </tr>\n    <tr>\n      <th>2</th>\n      <td>f0a46610-d4ce-4835-b8ce-d93b92571efb</td>\n      <td>raw</td>\n      <td>2</td>\n      <td>cart</td>\n      <td>2019-11-01 17:59:29.502214</td>\n      <td>219483890.0</td>\n    </tr>\n    <tr>\n      <th>3</th>\n      <td>a7eb71b2-41c9-4320-af0c-cba61bddfa8d</td>\n      <td>raw</td>\n      <td>3</td>\n      <td>catalog</td>\n      <td>2019-11-01 17:59:32.557029</td>\n      <td>219483890.0</td>\n    </tr>\n    <tr>\n      <th>4</th>\n      <td>ff877727-799d-43eb-aa2d-bef004ce526e</td>\n      <td>raw</td>\n      <td>4</td>\n      <td>catalog</td>\n      <td>2019-11-01 21:38:19.283663</td>\n      <td>964964743.0</td>\n    </tr>\n    <tr>\n      <th>...</th>\n      <td>...</td>\n      <td>...</td>\n      <td>...</td>\n      <td>...</td>\n      <td>...</td>\n      <td>...</td>\n    </tr>\n    <tr>\n      <th>54615</th>\n      <td>ccc9e3ea-284c-4f71-8301-46eb61e08de2</td>\n      <td>raw</td>\n      <td>54615</td>\n      <td>catalog</td>\n      <td>2020-04-29 12:47:40.975732</td>\n      <td>501098384.0</td>\n    </tr>\n    <tr>\n      <th>54616</th>\n      <td>ad291878-86ae-4a54-b928-ca13c9aa032b</td>\n      <td>raw</td>\n      <td>54616</td>\n      <td>catalog</td>\n      <td>2020-04-29 12:48:01.809577</td>\n      <td>501098384.0</td>\n    </tr>\n    <tr>\n      <th>54617</th>\n      <td>7fc78139-3914-4600-9106-88cc0a94dae8</td>\n      <td>raw</td>\n      <td>54617</td>\n      <td>main</td>\n      <td>2020-04-29 12:48:01.938488</td>\n      <td>501098384.0</td>\n    </tr>\n    <tr>\n      <th>54618</th>\n      <td>758bc0d3-1443-41d4-a5d9-59dd08f6c8d4</td>\n      <td>raw</td>\n      <td>54618</td>\n      <td>catalog</td>\n      <td>2020-04-29 12:48:06.595390</td>\n      <td>501098384.0</td>\n    </tr>\n    <tr>\n      <th>54619</th>\n      <td>fae3b317-bb49-4321-abd0-ccb7701f3511</td>\n      <td>raw</td>\n      <td>54619</td>\n      <td>lost</td>\n      <td>2020-04-29 12:48:07.595390</td>\n      <td>501098384.0</td>\n    </tr>\n  </tbody>\n</table>\n<p>16142 rows × 6 columns</p>\n</div>"
     },
     "execution_count": 34,
     "metadata": {},
     "output_type": "execute_result"
    }
   ],
   "source": [
    "%%time\n",
    "from src.data_processors_lib.rete import DeleteUsersByPathLength, DeleteUsersByPathLengthParams\n",
    "\n",
    "params = {'cutoff': (10000, 'D')\n",
    "\n",
    "}\n",
    "\n",
    "graph = PGraph(source_stream=source)\n",
    "delete_short_paths = EventsNode(\n",
    "    DeleteUsersByPathLength(params=DeleteUsersByPathLengthParams(**params)))\n",
    "\n",
    "graph.add_node(\n",
    "    node=delete_short_paths,\n",
    "    parents=[graph.root]\n",
    ")\n",
    "\n",
    "result = graph.combine(\n",
    "    node=delete_short_paths\n",
    ")\n",
    "result.to_dataframe()"
   ],
   "metadata": {
    "collapsed": false
   }
  },
  {
   "cell_type": "code",
   "execution_count": 22,
   "outputs": [],
   "source": [],
   "metadata": {
    "collapsed": false
   }
  }
 ],
 "metadata": {
  "kernelspec": {
   "display_name": "Python 3",
   "language": "python",
   "name": "python3"
  },
  "language_info": {
   "codemirror_mode": {
    "name": "ipython",
    "version": 2
   },
   "file_extension": ".py",
   "mimetype": "text/x-python",
   "name": "python",
   "nbconvert_exporter": "python",
   "pygments_lexer": "ipython2",
   "version": "2.7.6"
  }
 },
 "nbformat": 4,
 "nbformat_minor": 0
}
