{
 "cells": [
  {
   "cell_type": "code",
   "execution_count": 1,
   "outputs": [],
   "source": [
    "import pandas as pd\n",
    "\n",
    "from src.eventstream.eventstream import Eventstream\n",
    "from src.eventstream.schema import RawDataSchema, EventstreamSchema\n",
    "from src.graph.p_graph import PGraph, EventsNode\n",
    "\n",
    "raw_data = pd.read_csv('simple-onlineshop.csv')\n",
    "\n",
    "raw_data_schema = RawDataSchema(\n",
    "    event_name=\"event\", event_timestamp=\"timestamp\", user_id=\"user_id\")\n",
    "\n",
    "source = Eventstream(\n",
    "    raw_data=raw_data,\n",
    "    raw_data_schema=raw_data_schema,\n",
    "    schema=EventstreamSchema()\n",
    ")\n",
    "\n",
    "graph = PGraph(source_stream=source)"
   ],
   "metadata": {
    "collapsed": false,
    "pycharm": {
     "name": "#%%\n"
    }
   }
  },
  {
   "cell_type": "code",
   "execution_count": 2,
   "outputs": [],
   "source": [
    "# Add simple group\n",
    "from src.data_processors_lib.simple_processors import SimpleGroup\n",
    "\n",
    "cart_events = EventsNode(\n",
    "    SimpleGroup({\n",
    "        \"event_name\": \"add_to_cart\",\n",
    "        \"filter\": lambda df, schema: df[schema.event_name].isin([\"cart\"]),\n",
    "    })\n",
    ")\n",
    "graph.add_node(\n",
    "    node=cart_events,\n",
    "    parents=[graph.root]\n",
    ")\n",
    "# result = graph.combine(cart_events)\n",
    "# result.to_dataframe().head()"
   ],
   "metadata": {
    "collapsed": false,
    "pycharm": {
     "name": "#%%\n"
    }
   }
  },
  {
   "cell_type": "code",
   "execution_count": 5,
   "outputs": [
    {
     "name": "stderr",
     "output_type": "stream",
     "text": [
      "/home/vladimir/Workspace/retentioneering/retentioneering-tools-new-arch/src/eventstream/eventstream.py:216: FutureWarning: The frame.append method is deprecated and will be removed from pandas in a future version. Use pandas.concat instead.\n",
      "  self.__events = result_left_part.append(\n",
      "/home/vladimir/Workspace/retentioneering/retentioneering-tools-new-arch/src/eventstream/eventstream.py:216: FutureWarning: The frame.append method is deprecated and will be removed from pandas in a future version. Use pandas.concat instead.\n",
      "  self.__events = result_left_part.append(\n",
      "/home/vladimir/Workspace/retentioneering/retentioneering-tools-new-arch/src/eventstream/eventstream.py:216: FutureWarning: The frame.append method is deprecated and will be removed from pandas in a future version. Use pandas.concat instead.\n",
      "  self.__events = result_left_part.append(\n",
      "/home/vladimir/Workspace/retentioneering/retentioneering-tools-new-arch/src/eventstream/eventstream.py:216: FutureWarning: The frame.append method is deprecated and will be removed from pandas in a future version. Use pandas.concat instead.\n",
      "  self.__events = result_left_part.append(\n"
     ]
    },
    {
     "data": {
      "text/plain": "                                event_id   event_type  event_index  \\\n0   23a49677-bdbf-45f7-bf73-a5c19f29dc0d        start            0   \n2   eb4085d0-3239-42d3-8d40-5303d5c737ff          raw            2   \n3   ba1feff9-0779-4684-ae8c-34f9bf85718d  group_alias            3   \n5   6acb50c3-7467-4310-8cca-ba60a0784e00          raw            5   \n6   31b515f0-4732-45c9-9911-5a847805afb1        start            6   \n8   ed7db420-1052-43f7-a14b-3e74ac3ac2fc  group_alias            8   \n10  d60fb190-c874-4d42-b59b-a6299d17fbf0          raw           10   \n11  1be0b193-a601-40ba-923c-09ace1441828        start           11   \n12  8f2b2c0e-c24d-4e30-9b63-2a2ffcfff244        start           12   \n15  dcfd1e5a-fd8d-417e-bd90-7c120d485350          raw           15   \n16  91d1bc2e-c921-4a87-b01f-da51bfdd83c3          raw           16   \n17  09820087-ec9a-4e69-9a4e-81de3cbfeb06          raw           17   \n18  2ff3bc0a-0d32-44ba-bd4b-87612ccb7bd9          raw           18   \n19  5f502fab-16d6-4284-bf26-d288262e21e5          raw           19   \n20  502b7707-40bc-471f-8c0f-9462569b388b          raw           20   \n21  0f16524c-1b27-490d-8fa2-c380b01c3b57          raw           21   \n22  24f646aa-c3d7-4753-9c6a-33cda0242e96          raw           22   \n23  7176720d-7ade-4600-96b9-71ac53a3cfe6          raw           23   \n24  00cb09b3-7f2a-480f-87cf-519138d41f2f          raw           24   \n25  30f0bc80-d324-4674-a039-5180a87564f4          raw           25   \n\n         event_name            event_timestamp      user_id  \n0             start 2019-11-01 17:59:13.273932  219483890.0  \n2          product1 2019-11-01 17:59:28.459271  219483890.0  \n3       add_to_cart 2019-11-01 17:59:29.502214  219483890.0  \n5           catalog 2019-11-01 17:59:32.557029  219483890.0  \n6             start 2019-11-01 21:38:19.283663  964964743.0  \n8       add_to_cart 2019-11-01 21:38:36.761221  964964743.0  \n10  delivery_choice 2019-11-01 21:38:37.564693  964964743.0  \n11            start 2019-11-01 22:28:54.791683  629881394.0  \n12            start 2019-11-01 22:28:54.791683  629881395.0  \n15          catalog 2019-11-01 22:29:01.049513  629881394.0  \n16          catalog 2019-11-01 22:29:01.049513  629881395.0  \n17          catalog 2019-11-01 22:29:32.322458  629881394.0  \n18          catalog 2019-11-01 22:29:32.322458  629881395.0  \n19          catalog 2019-11-01 22:30:09.450839  629881394.0  \n20          catalog 2019-11-01 22:31:05.565762  629881394.0  \n21             main 2019-11-01 22:31:08.333560  629881394.0  \n22          catalog 2019-11-01 22:31:09.010626  629881394.0  \n23         product1 2019-11-01 22:31:10.416231  629881394.0  \n24          catalog 2019-11-01 22:31:43.019527  629881394.0  \n25          catalog 2019-11-01 22:32:01.596163  629881394.0  ",
      "text/html": "<div>\n<style scoped>\n    .dataframe tbody tr th:only-of-type {\n        vertical-align: middle;\n    }\n\n    .dataframe tbody tr th {\n        vertical-align: top;\n    }\n\n    .dataframe thead th {\n        text-align: right;\n    }\n</style>\n<table border=\"1\" class=\"dataframe\">\n  <thead>\n    <tr style=\"text-align: right;\">\n      <th></th>\n      <th>event_id</th>\n      <th>event_type</th>\n      <th>event_index</th>\n      <th>event_name</th>\n      <th>event_timestamp</th>\n      <th>user_id</th>\n    </tr>\n  </thead>\n  <tbody>\n    <tr>\n      <th>0</th>\n      <td>23a49677-bdbf-45f7-bf73-a5c19f29dc0d</td>\n      <td>start</td>\n      <td>0</td>\n      <td>start</td>\n      <td>2019-11-01 17:59:13.273932</td>\n      <td>219483890.0</td>\n    </tr>\n    <tr>\n      <th>2</th>\n      <td>eb4085d0-3239-42d3-8d40-5303d5c737ff</td>\n      <td>raw</td>\n      <td>2</td>\n      <td>product1</td>\n      <td>2019-11-01 17:59:28.459271</td>\n      <td>219483890.0</td>\n    </tr>\n    <tr>\n      <th>3</th>\n      <td>ba1feff9-0779-4684-ae8c-34f9bf85718d</td>\n      <td>group_alias</td>\n      <td>3</td>\n      <td>add_to_cart</td>\n      <td>2019-11-01 17:59:29.502214</td>\n      <td>219483890.0</td>\n    </tr>\n    <tr>\n      <th>5</th>\n      <td>6acb50c3-7467-4310-8cca-ba60a0784e00</td>\n      <td>raw</td>\n      <td>5</td>\n      <td>catalog</td>\n      <td>2019-11-01 17:59:32.557029</td>\n      <td>219483890.0</td>\n    </tr>\n    <tr>\n      <th>6</th>\n      <td>31b515f0-4732-45c9-9911-5a847805afb1</td>\n      <td>start</td>\n      <td>6</td>\n      <td>start</td>\n      <td>2019-11-01 21:38:19.283663</td>\n      <td>964964743.0</td>\n    </tr>\n    <tr>\n      <th>8</th>\n      <td>ed7db420-1052-43f7-a14b-3e74ac3ac2fc</td>\n      <td>group_alias</td>\n      <td>8</td>\n      <td>add_to_cart</td>\n      <td>2019-11-01 21:38:36.761221</td>\n      <td>964964743.0</td>\n    </tr>\n    <tr>\n      <th>10</th>\n      <td>d60fb190-c874-4d42-b59b-a6299d17fbf0</td>\n      <td>raw</td>\n      <td>10</td>\n      <td>delivery_choice</td>\n      <td>2019-11-01 21:38:37.564693</td>\n      <td>964964743.0</td>\n    </tr>\n    <tr>\n      <th>11</th>\n      <td>1be0b193-a601-40ba-923c-09ace1441828</td>\n      <td>start</td>\n      <td>11</td>\n      <td>start</td>\n      <td>2019-11-01 22:28:54.791683</td>\n      <td>629881394.0</td>\n    </tr>\n    <tr>\n      <th>12</th>\n      <td>8f2b2c0e-c24d-4e30-9b63-2a2ffcfff244</td>\n      <td>start</td>\n      <td>12</td>\n      <td>start</td>\n      <td>2019-11-01 22:28:54.791683</td>\n      <td>629881395.0</td>\n    </tr>\n    <tr>\n      <th>15</th>\n      <td>dcfd1e5a-fd8d-417e-bd90-7c120d485350</td>\n      <td>raw</td>\n      <td>15</td>\n      <td>catalog</td>\n      <td>2019-11-01 22:29:01.049513</td>\n      <td>629881394.0</td>\n    </tr>\n    <tr>\n      <th>16</th>\n      <td>91d1bc2e-c921-4a87-b01f-da51bfdd83c3</td>\n      <td>raw</td>\n      <td>16</td>\n      <td>catalog</td>\n      <td>2019-11-01 22:29:01.049513</td>\n      <td>629881395.0</td>\n    </tr>\n    <tr>\n      <th>17</th>\n      <td>09820087-ec9a-4e69-9a4e-81de3cbfeb06</td>\n      <td>raw</td>\n      <td>17</td>\n      <td>catalog</td>\n      <td>2019-11-01 22:29:32.322458</td>\n      <td>629881394.0</td>\n    </tr>\n    <tr>\n      <th>18</th>\n      <td>2ff3bc0a-0d32-44ba-bd4b-87612ccb7bd9</td>\n      <td>raw</td>\n      <td>18</td>\n      <td>catalog</td>\n      <td>2019-11-01 22:29:32.322458</td>\n      <td>629881395.0</td>\n    </tr>\n    <tr>\n      <th>19</th>\n      <td>5f502fab-16d6-4284-bf26-d288262e21e5</td>\n      <td>raw</td>\n      <td>19</td>\n      <td>catalog</td>\n      <td>2019-11-01 22:30:09.450839</td>\n      <td>629881394.0</td>\n    </tr>\n    <tr>\n      <th>20</th>\n      <td>502b7707-40bc-471f-8c0f-9462569b388b</td>\n      <td>raw</td>\n      <td>20</td>\n      <td>catalog</td>\n      <td>2019-11-01 22:31:05.565762</td>\n      <td>629881394.0</td>\n    </tr>\n    <tr>\n      <th>21</th>\n      <td>0f16524c-1b27-490d-8fa2-c380b01c3b57</td>\n      <td>raw</td>\n      <td>21</td>\n      <td>main</td>\n      <td>2019-11-01 22:31:08.333560</td>\n      <td>629881394.0</td>\n    </tr>\n    <tr>\n      <th>22</th>\n      <td>24f646aa-c3d7-4753-9c6a-33cda0242e96</td>\n      <td>raw</td>\n      <td>22</td>\n      <td>catalog</td>\n      <td>2019-11-01 22:31:09.010626</td>\n      <td>629881394.0</td>\n    </tr>\n    <tr>\n      <th>23</th>\n      <td>7176720d-7ade-4600-96b9-71ac53a3cfe6</td>\n      <td>raw</td>\n      <td>23</td>\n      <td>product1</td>\n      <td>2019-11-01 22:31:10.416231</td>\n      <td>629881394.0</td>\n    </tr>\n    <tr>\n      <th>24</th>\n      <td>00cb09b3-7f2a-480f-87cf-519138d41f2f</td>\n      <td>raw</td>\n      <td>24</td>\n      <td>catalog</td>\n      <td>2019-11-01 22:31:43.019527</td>\n      <td>629881394.0</td>\n    </tr>\n    <tr>\n      <th>25</th>\n      <td>30f0bc80-d324-4674-a039-5180a87564f4</td>\n      <td>raw</td>\n      <td>25</td>\n      <td>catalog</td>\n      <td>2019-11-01 22:32:01.596163</td>\n      <td>629881394.0</td>\n    </tr>\n  </tbody>\n</table>\n</div>"
     },
     "execution_count": 5,
     "metadata": {},
     "output_type": "execute_result"
    }
   ],
   "source": [
    "from src.data_processors_lib.simple_processors import StartEndEvents\n",
    "\n",
    "start_end_events = EventsNode(\n",
    "    StartEndEvents()\n",
    ")\n",
    "\n",
    "graph.add_node(\n",
    "    node=start_end_events,\n",
    "    parents=[cart_events]\n",
    ")\n",
    "\n",
    "result = graph.combine(\n",
    "    node=start_end_events\n",
    ")\n",
    "result.to_dataframe().head(n=20)"
   ],
   "metadata": {
    "collapsed": false,
    "pycharm": {
     "name": "#%%\n"
    }
   }
  }
 ],
 "metadata": {
  "kernelspec": {
   "display_name": "Python 3",
   "language": "python",
   "name": "python3"
  },
  "language_info": {
   "codemirror_mode": {
    "name": "ipython",
    "version": 2
   },
   "file_extension": ".py",
   "mimetype": "text/x-python",
   "name": "python",
   "nbconvert_exporter": "python",
   "pygments_lexer": "ipython2",
   "version": "2.7.6"
  }
 },
 "nbformat": 4,
 "nbformat_minor": 0
}