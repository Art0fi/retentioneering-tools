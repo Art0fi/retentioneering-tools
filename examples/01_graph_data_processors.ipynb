{
 "cells": [
  {
   "cell_type": "code",
   "execution_count": 1,
   "outputs": [],
   "source": [
    "import pandas as pd\n",
    "\n",
    "from src.eventstream.eventstream import Eventstream\n",
    "from src.eventstream.schema import RawDataSchema, EventstreamSchema\n",
    "from src.graph.p_graph import PGraph, EventsNode\n",
    "\n",
    "raw_data = pd.read_csv('simple-onlineshop.csv')\n",
    "\n",
    "raw_data_schema = RawDataSchema(\n",
    "    event_name=\"event\", event_timestamp=\"timestamp\", user_id=\"user_id\")\n",
    "\n",
    "source = Eventstream(\n",
    "    raw_data=raw_data,\n",
    "    raw_data_schema=raw_data_schema,\n",
    "    schema=EventstreamSchema()\n",
    ")\n",
    "\n",
    "graph = PGraph(source_stream=source)"
   ],
   "metadata": {
    "collapsed": false,
    "pycharm": {
     "name": "#%%\n"
    }
   }
  },
  {
   "cell_type": "code",
   "execution_count": 11,
   "outputs": [
    {
     "name": "stdout",
     "output_type": "stream",
     "text": [
      "issubclass(type(params), ParamsModel)=True\n"
     ]
    }
   ],
   "source": [
    "# Add simple group\n",
    "from src.data_processors_lib.simple_processors import SimpleGroup, SimpleGroupParams\n",
    "\n",
    "cart_events = EventsNode(\n",
    "    SimpleGroup(params=SimpleGroupParams(**{\n",
    "        \"event_name\": \"add_to_cart\",\n",
    "        \"filter\": lambda df, schema: df[schema.event_name].isin([\"cart\"]),\n",
    "    }))\n",
    ")\n",
    "graph.add_node(\n",
    "    node=cart_events,\n",
    "    parents=[graph.root]\n",
    ")\n",
    "# result = graph.combine(cart_events)\n",
    "# result.to_dataframe().head()"
   ],
   "metadata": {
    "collapsed": false,
    "pycharm": {
     "name": "#%%\n"
    }
   }
  },
  {
   "cell_type": "code",
   "execution_count": 10,
   "outputs": [
    {
     "name": "stdout",
     "output_type": "stream",
     "text": [
      "issubclass(type(params), ParamsModel)=True\n"
     ]
    },
    {
     "data": {
      "text/plain": "                                event_id   event_type  event_index  \\\n0   c6726e6d-7d5b-4575-b3f3-5c005fce40b4        start            0   \n2   d4bef0e4-7a8d-4431-af48-8f9ba39dc731          raw            2   \n3   ff686709-9211-4568-8e1f-67401673317a  group_alias            3   \n5   a00e9fbe-3329-427b-bc4c-6ea701c6a2d0          raw            5   \n6   73838923-156b-4484-87cd-3c883e8caaa8        start            6   \n8   a569e3e7-8ccf-4c4b-a079-eeb7e751a881  group_alias            8   \n10  99400137-034f-4cda-b356-9c96153901b9          raw           10   \n11  c5e2c497-bb38-4033-948a-742545ea5c5f        start           11   \n12  66776ba3-8ca5-4acd-92dc-3dba24589a5d        start           12   \n15  a4080225-0cb9-4c01-ab7c-17d969224e28          raw           15   \n16  516e2e56-97c8-48d6-8cc0-84d8812cc4d9          raw           16   \n17  bd5a783e-d37c-4876-9f6d-bf98f37432b9          raw           17   \n18  07d2d30a-a6a3-4d7c-b2c3-d829f6d8d1b9          raw           18   \n19  16d27c0e-a7b4-45f6-9210-f2de2fd7591a          raw           19   \n20  bdb8d2c2-08e2-44cc-876e-0d9f3247c402          raw           20   \n21  96ff5408-cff8-40a7-893e-2c4cc4f80878          raw           21   \n22  1531c4fc-3227-48c6-9fdc-59968d059185          raw           22   \n23  35c64f7c-4403-447c-9cd6-a346ce84c48d          raw           23   \n24  364b1007-d529-41cc-9887-fc25861f550d          raw           24   \n25  63d285bd-35b1-482f-8171-13c1fa43b52f          raw           25   \n\n         event_name            event_timestamp      user_id  \n0             start 2019-11-01 17:59:13.273932  219483890.0  \n2          product1 2019-11-01 17:59:28.459271  219483890.0  \n3       add_to_cart 2019-11-01 17:59:29.502214  219483890.0  \n5           catalog 2019-11-01 17:59:32.557029  219483890.0  \n6             start 2019-11-01 21:38:19.283663  964964743.0  \n8       add_to_cart 2019-11-01 21:38:36.761221  964964743.0  \n10  delivery_choice 2019-11-01 21:38:37.564693  964964743.0  \n11            start 2019-11-01 22:28:54.791683  629881394.0  \n12            start 2019-11-01 22:28:54.791683  629881395.0  \n15          catalog 2019-11-01 22:29:01.049513  629881394.0  \n16          catalog 2019-11-01 22:29:01.049513  629881395.0  \n17          catalog 2019-11-01 22:29:32.322458  629881394.0  \n18          catalog 2019-11-01 22:29:32.322458  629881395.0  \n19          catalog 2019-11-01 22:30:09.450839  629881394.0  \n20          catalog 2019-11-01 22:31:05.565762  629881394.0  \n21             main 2019-11-01 22:31:08.333560  629881394.0  \n22          catalog 2019-11-01 22:31:09.010626  629881394.0  \n23         product1 2019-11-01 22:31:10.416231  629881394.0  \n24          catalog 2019-11-01 22:31:43.019527  629881394.0  \n25          catalog 2019-11-01 22:32:01.596163  629881394.0  ",
      "text/html": "<div>\n<style scoped>\n    .dataframe tbody tr th:only-of-type {\n        vertical-align: middle;\n    }\n\n    .dataframe tbody tr th {\n        vertical-align: top;\n    }\n\n    .dataframe thead th {\n        text-align: right;\n    }\n</style>\n<table border=\"1\" class=\"dataframe\">\n  <thead>\n    <tr style=\"text-align: right;\">\n      <th></th>\n      <th>event_id</th>\n      <th>event_type</th>\n      <th>event_index</th>\n      <th>event_name</th>\n      <th>event_timestamp</th>\n      <th>user_id</th>\n    </tr>\n  </thead>\n  <tbody>\n    <tr>\n      <th>0</th>\n      <td>c6726e6d-7d5b-4575-b3f3-5c005fce40b4</td>\n      <td>start</td>\n      <td>0</td>\n      <td>start</td>\n      <td>2019-11-01 17:59:13.273932</td>\n      <td>219483890.0</td>\n    </tr>\n    <tr>\n      <th>2</th>\n      <td>d4bef0e4-7a8d-4431-af48-8f9ba39dc731</td>\n      <td>raw</td>\n      <td>2</td>\n      <td>product1</td>\n      <td>2019-11-01 17:59:28.459271</td>\n      <td>219483890.0</td>\n    </tr>\n    <tr>\n      <th>3</th>\n      <td>ff686709-9211-4568-8e1f-67401673317a</td>\n      <td>group_alias</td>\n      <td>3</td>\n      <td>add_to_cart</td>\n      <td>2019-11-01 17:59:29.502214</td>\n      <td>219483890.0</td>\n    </tr>\n    <tr>\n      <th>5</th>\n      <td>a00e9fbe-3329-427b-bc4c-6ea701c6a2d0</td>\n      <td>raw</td>\n      <td>5</td>\n      <td>catalog</td>\n      <td>2019-11-01 17:59:32.557029</td>\n      <td>219483890.0</td>\n    </tr>\n    <tr>\n      <th>6</th>\n      <td>73838923-156b-4484-87cd-3c883e8caaa8</td>\n      <td>start</td>\n      <td>6</td>\n      <td>start</td>\n      <td>2019-11-01 21:38:19.283663</td>\n      <td>964964743.0</td>\n    </tr>\n    <tr>\n      <th>8</th>\n      <td>a569e3e7-8ccf-4c4b-a079-eeb7e751a881</td>\n      <td>group_alias</td>\n      <td>8</td>\n      <td>add_to_cart</td>\n      <td>2019-11-01 21:38:36.761221</td>\n      <td>964964743.0</td>\n    </tr>\n    <tr>\n      <th>10</th>\n      <td>99400137-034f-4cda-b356-9c96153901b9</td>\n      <td>raw</td>\n      <td>10</td>\n      <td>delivery_choice</td>\n      <td>2019-11-01 21:38:37.564693</td>\n      <td>964964743.0</td>\n    </tr>\n    <tr>\n      <th>11</th>\n      <td>c5e2c497-bb38-4033-948a-742545ea5c5f</td>\n      <td>start</td>\n      <td>11</td>\n      <td>start</td>\n      <td>2019-11-01 22:28:54.791683</td>\n      <td>629881394.0</td>\n    </tr>\n    <tr>\n      <th>12</th>\n      <td>66776ba3-8ca5-4acd-92dc-3dba24589a5d</td>\n      <td>start</td>\n      <td>12</td>\n      <td>start</td>\n      <td>2019-11-01 22:28:54.791683</td>\n      <td>629881395.0</td>\n    </tr>\n    <tr>\n      <th>15</th>\n      <td>a4080225-0cb9-4c01-ab7c-17d969224e28</td>\n      <td>raw</td>\n      <td>15</td>\n      <td>catalog</td>\n      <td>2019-11-01 22:29:01.049513</td>\n      <td>629881394.0</td>\n    </tr>\n    <tr>\n      <th>16</th>\n      <td>516e2e56-97c8-48d6-8cc0-84d8812cc4d9</td>\n      <td>raw</td>\n      <td>16</td>\n      <td>catalog</td>\n      <td>2019-11-01 22:29:01.049513</td>\n      <td>629881395.0</td>\n    </tr>\n    <tr>\n      <th>17</th>\n      <td>bd5a783e-d37c-4876-9f6d-bf98f37432b9</td>\n      <td>raw</td>\n      <td>17</td>\n      <td>catalog</td>\n      <td>2019-11-01 22:29:32.322458</td>\n      <td>629881394.0</td>\n    </tr>\n    <tr>\n      <th>18</th>\n      <td>07d2d30a-a6a3-4d7c-b2c3-d829f6d8d1b9</td>\n      <td>raw</td>\n      <td>18</td>\n      <td>catalog</td>\n      <td>2019-11-01 22:29:32.322458</td>\n      <td>629881395.0</td>\n    </tr>\n    <tr>\n      <th>19</th>\n      <td>16d27c0e-a7b4-45f6-9210-f2de2fd7591a</td>\n      <td>raw</td>\n      <td>19</td>\n      <td>catalog</td>\n      <td>2019-11-01 22:30:09.450839</td>\n      <td>629881394.0</td>\n    </tr>\n    <tr>\n      <th>20</th>\n      <td>bdb8d2c2-08e2-44cc-876e-0d9f3247c402</td>\n      <td>raw</td>\n      <td>20</td>\n      <td>catalog</td>\n      <td>2019-11-01 22:31:05.565762</td>\n      <td>629881394.0</td>\n    </tr>\n    <tr>\n      <th>21</th>\n      <td>96ff5408-cff8-40a7-893e-2c4cc4f80878</td>\n      <td>raw</td>\n      <td>21</td>\n      <td>main</td>\n      <td>2019-11-01 22:31:08.333560</td>\n      <td>629881394.0</td>\n    </tr>\n    <tr>\n      <th>22</th>\n      <td>1531c4fc-3227-48c6-9fdc-59968d059185</td>\n      <td>raw</td>\n      <td>22</td>\n      <td>catalog</td>\n      <td>2019-11-01 22:31:09.010626</td>\n      <td>629881394.0</td>\n    </tr>\n    <tr>\n      <th>23</th>\n      <td>35c64f7c-4403-447c-9cd6-a346ce84c48d</td>\n      <td>raw</td>\n      <td>23</td>\n      <td>product1</td>\n      <td>2019-11-01 22:31:10.416231</td>\n      <td>629881394.0</td>\n    </tr>\n    <tr>\n      <th>24</th>\n      <td>364b1007-d529-41cc-9887-fc25861f550d</td>\n      <td>raw</td>\n      <td>24</td>\n      <td>catalog</td>\n      <td>2019-11-01 22:31:43.019527</td>\n      <td>629881394.0</td>\n    </tr>\n    <tr>\n      <th>25</th>\n      <td>63d285bd-35b1-482f-8171-13c1fa43b52f</td>\n      <td>raw</td>\n      <td>25</td>\n      <td>catalog</td>\n      <td>2019-11-01 22:32:01.596163</td>\n      <td>629881394.0</td>\n    </tr>\n  </tbody>\n</table>\n</div>"
     },
     "execution_count": 10,
     "metadata": {},
     "output_type": "execute_result"
    }
   ],
   "source": [
    "from src.data_processors_lib.rete import StartEndEvents, StartEndEventsParams\n",
    "\n",
    "start_end_events = EventsNode(\n",
    "    StartEndEvents(params=StartEndEventsParams(**{}))\n",
    ")\n",
    "\n",
    "graph.add_node(\n",
    "    node=start_end_events,\n",
    "    parents=[cart_events]\n",
    ")\n",
    "\n",
    "result = graph.combine(\n",
    "    node=start_end_events\n",
    ")\n",
    "result.to_dataframe().head(n=20)"
   ],
   "metadata": {
    "collapsed": false,
    "pycharm": {
     "name": "#%%\n"
    }
   }
  }
 ],
 "metadata": {
  "kernelspec": {
   "display_name": "Python 3",
   "language": "python",
   "name": "python3"
  },
  "language_info": {
   "codemirror_mode": {
    "name": "ipython",
    "version": 2
   },
   "file_extension": ".py",
   "mimetype": "text/x-python",
   "name": "python",
   "nbconvert_exporter": "python",
   "pygments_lexer": "ipython2",
   "version": "2.7.6"
  }
 },
 "nbformat": 4,
 "nbformat_minor": 0
}