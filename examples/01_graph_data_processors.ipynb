{
 "cells": [
  {
   "cell_type": "code",
   "execution_count": 5,
   "metadata": {
    "pycharm": {
     "name": "#%%\n"
    }
   },
   "outputs": [],
   "source": [
    "# При запуске ноутбука рабочей директорией ставится не папка проекта, а папка examples, а в ней нет src, \n",
    "# соответственно импорты не работают. Эта строчка фиксит такое поведение для тестирования, у пользователей будет\n",
    "# свой путь установки, в котором этой проблемы не будет. \n",
    "import sys\n",
    "sys.path.insert(0, '..')"
   ]
  },
  {
   "cell_type": "code",
   "execution_count": 6,
   "metadata": {
    "pycharm": {
     "name": "#%%\n"
    }
   },
   "outputs": [],
   "source": [
    "import pandas as pd\n",
    "\n",
    "from src.eventstream.eventstream import Eventstream\n",
    "from src.eventstream.schema import RawDataSchema, EventstreamSchema\n",
    "from src.graph.p_graph import PGraph, EventsNode\n",
    "\n",
    "raw_data = pd.read_csv('simple-onlineshop.csv')\n",
    "\n",
    "raw_data_schema = RawDataSchema(\n",
    "    event_name=\"event\", event_timestamp=\"timestamp\", user_id=\"user_id\")\n",
    "\n",
    "source = Eventstream(\n",
    "    raw_data=raw_data,\n",
    "    raw_data_schema=raw_data_schema,\n",
    "    schema=EventstreamSchema()\n",
    ")\n",
    "\n",
    "graph = PGraph(source_stream=source)"
   ]
  },
  {
   "cell_type": "code",
   "execution_count": 7,
   "metadata": {
    "pycharm": {
     "name": "#%%\n"
    }
   },
   "outputs": [],
   "source": [
    "# Add simple group\n",
    "from src.data_processors_lib.simple_processors import SimpleGroup, SimpleGroupParams\n",
    "\n",
    "cart_events = EventsNode(\n",
    "    SimpleGroup(params=SimpleGroupParams(**{\n",
    "        \"event_name\": \"add_to_cart\",\n",
    "        \"filter\": lambda df, schema: df[schema.event_name].isin([\"cart\"]),\n",
    "    }))\n",
    ")\n",
    "graph.add_node(\n",
    "    node=cart_events,\n",
    "    parents=[graph.root]\n",
    ")"
   ]
  },
  {
   "cell_type": "code",
   "execution_count": 8,
   "metadata": {
    "pycharm": {
     "name": "#%%\n"
    }
   },
   "outputs": [
    {
     "data": {
      "text/plain": "                                event_id   event_type  event_index  \\\n0   05e3d74c-875b-43ac-8934-5a0640f299fb        start            0   \n2   ebfec27d-3ca2-4a6f-821f-3ce75ed97252          raw            2   \n3   a0bcbff7-28cd-437d-aa75-b5de99c1460c  group_alias            3   \n5   09d869fa-357f-49e3-b2ce-decd8bde77ef          raw            5   \n6   de326d44-6f9e-449f-b536-3b72e58a7f2f        start            6   \n8   6674e956-25ff-4065-b538-45a55873f06b  group_alias            8   \n10  9c2b5a57-2985-46f6-a8cf-b2e6891cd6a7          raw           10   \n11  1cf55233-7d23-4805-80ec-ee9756df5ce0        start           11   \n12  decd4149-b621-456e-81b0-cb2a99c52815        start           12   \n15  35922af0-c921-4fa2-b37c-1cc7fb768cf6          raw           15   \n16  6e2eb4ca-10c0-4034-a1e2-0efa2eb01475          raw           16   \n17  9018030a-8238-4f12-a342-a027c2dd77c0          raw           17   \n18  60ed6f5c-6efb-4095-b191-a5bf552c1288          raw           18   \n19  83437965-2411-4793-88f3-1d19aea1dc99          raw           19   \n20  04889344-7473-40ba-b931-23de657b08a8          raw           20   \n21  fefe1c19-cb2d-4c86-9bd2-baedb5cdd19a          raw           21   \n22  c71d2bb1-22e6-402a-bbc1-78ca7e56cb95          raw           22   \n23  614c4821-3e20-4f84-ada8-52fd3aba6a20          raw           23   \n24  fe568582-a85b-4fa5-a854-df17c351b03c          raw           24   \n25  43313f2a-65bb-412a-8cbf-1f2a83226bcf          raw           25   \n\n         event_name            event_timestamp      user_id  \n0             start 2019-11-01 17:59:13.273932  219483890.0  \n2          product1 2019-11-01 17:59:28.459271  219483890.0  \n3       add_to_cart 2019-11-01 17:59:29.502214  219483890.0  \n5           catalog 2019-11-01 17:59:32.557029  219483890.0  \n6             start 2019-11-01 21:38:19.283663  964964743.0  \n8       add_to_cart 2019-11-01 21:38:36.761221  964964743.0  \n10  delivery_choice 2019-11-01 21:38:37.564693  964964743.0  \n11            start 2019-11-01 22:28:54.791683  629881394.0  \n12            start 2019-11-01 22:28:54.791683  629881395.0  \n15          catalog 2019-11-01 22:29:01.049513  629881394.0  \n16          catalog 2019-11-01 22:29:01.049513  629881395.0  \n17          catalog 2019-11-01 22:29:32.322458  629881394.0  \n18          catalog 2019-11-01 22:29:32.322458  629881395.0  \n19          catalog 2019-11-01 22:30:09.450839  629881394.0  \n20          catalog 2019-11-01 22:31:05.565762  629881394.0  \n21             main 2019-11-01 22:31:08.333560  629881394.0  \n22          catalog 2019-11-01 22:31:09.010626  629881394.0  \n23         product1 2019-11-01 22:31:10.416231  629881394.0  \n24          catalog 2019-11-01 22:31:43.019527  629881394.0  \n25          catalog 2019-11-01 22:32:01.596163  629881394.0  ",
      "text/html": "<div>\n<style scoped>\n    .dataframe tbody tr th:only-of-type {\n        vertical-align: middle;\n    }\n\n    .dataframe tbody tr th {\n        vertical-align: top;\n    }\n\n    .dataframe thead th {\n        text-align: right;\n    }\n</style>\n<table border=\"1\" class=\"dataframe\">\n  <thead>\n    <tr style=\"text-align: right;\">\n      <th></th>\n      <th>event_id</th>\n      <th>event_type</th>\n      <th>event_index</th>\n      <th>event_name</th>\n      <th>event_timestamp</th>\n      <th>user_id</th>\n    </tr>\n  </thead>\n  <tbody>\n    <tr>\n      <th>0</th>\n      <td>05e3d74c-875b-43ac-8934-5a0640f299fb</td>\n      <td>start</td>\n      <td>0</td>\n      <td>start</td>\n      <td>2019-11-01 17:59:13.273932</td>\n      <td>219483890.0</td>\n    </tr>\n    <tr>\n      <th>2</th>\n      <td>ebfec27d-3ca2-4a6f-821f-3ce75ed97252</td>\n      <td>raw</td>\n      <td>2</td>\n      <td>product1</td>\n      <td>2019-11-01 17:59:28.459271</td>\n      <td>219483890.0</td>\n    </tr>\n    <tr>\n      <th>3</th>\n      <td>a0bcbff7-28cd-437d-aa75-b5de99c1460c</td>\n      <td>group_alias</td>\n      <td>3</td>\n      <td>add_to_cart</td>\n      <td>2019-11-01 17:59:29.502214</td>\n      <td>219483890.0</td>\n    </tr>\n    <tr>\n      <th>5</th>\n      <td>09d869fa-357f-49e3-b2ce-decd8bde77ef</td>\n      <td>raw</td>\n      <td>5</td>\n      <td>catalog</td>\n      <td>2019-11-01 17:59:32.557029</td>\n      <td>219483890.0</td>\n    </tr>\n    <tr>\n      <th>6</th>\n      <td>de326d44-6f9e-449f-b536-3b72e58a7f2f</td>\n      <td>start</td>\n      <td>6</td>\n      <td>start</td>\n      <td>2019-11-01 21:38:19.283663</td>\n      <td>964964743.0</td>\n    </tr>\n    <tr>\n      <th>8</th>\n      <td>6674e956-25ff-4065-b538-45a55873f06b</td>\n      <td>group_alias</td>\n      <td>8</td>\n      <td>add_to_cart</td>\n      <td>2019-11-01 21:38:36.761221</td>\n      <td>964964743.0</td>\n    </tr>\n    <tr>\n      <th>10</th>\n      <td>9c2b5a57-2985-46f6-a8cf-b2e6891cd6a7</td>\n      <td>raw</td>\n      <td>10</td>\n      <td>delivery_choice</td>\n      <td>2019-11-01 21:38:37.564693</td>\n      <td>964964743.0</td>\n    </tr>\n    <tr>\n      <th>11</th>\n      <td>1cf55233-7d23-4805-80ec-ee9756df5ce0</td>\n      <td>start</td>\n      <td>11</td>\n      <td>start</td>\n      <td>2019-11-01 22:28:54.791683</td>\n      <td>629881394.0</td>\n    </tr>\n    <tr>\n      <th>12</th>\n      <td>decd4149-b621-456e-81b0-cb2a99c52815</td>\n      <td>start</td>\n      <td>12</td>\n      <td>start</td>\n      <td>2019-11-01 22:28:54.791683</td>\n      <td>629881395.0</td>\n    </tr>\n    <tr>\n      <th>15</th>\n      <td>35922af0-c921-4fa2-b37c-1cc7fb768cf6</td>\n      <td>raw</td>\n      <td>15</td>\n      <td>catalog</td>\n      <td>2019-11-01 22:29:01.049513</td>\n      <td>629881394.0</td>\n    </tr>\n    <tr>\n      <th>16</th>\n      <td>6e2eb4ca-10c0-4034-a1e2-0efa2eb01475</td>\n      <td>raw</td>\n      <td>16</td>\n      <td>catalog</td>\n      <td>2019-11-01 22:29:01.049513</td>\n      <td>629881395.0</td>\n    </tr>\n    <tr>\n      <th>17</th>\n      <td>9018030a-8238-4f12-a342-a027c2dd77c0</td>\n      <td>raw</td>\n      <td>17</td>\n      <td>catalog</td>\n      <td>2019-11-01 22:29:32.322458</td>\n      <td>629881394.0</td>\n    </tr>\n    <tr>\n      <th>18</th>\n      <td>60ed6f5c-6efb-4095-b191-a5bf552c1288</td>\n      <td>raw</td>\n      <td>18</td>\n      <td>catalog</td>\n      <td>2019-11-01 22:29:32.322458</td>\n      <td>629881395.0</td>\n    </tr>\n    <tr>\n      <th>19</th>\n      <td>83437965-2411-4793-88f3-1d19aea1dc99</td>\n      <td>raw</td>\n      <td>19</td>\n      <td>catalog</td>\n      <td>2019-11-01 22:30:09.450839</td>\n      <td>629881394.0</td>\n    </tr>\n    <tr>\n      <th>20</th>\n      <td>04889344-7473-40ba-b931-23de657b08a8</td>\n      <td>raw</td>\n      <td>20</td>\n      <td>catalog</td>\n      <td>2019-11-01 22:31:05.565762</td>\n      <td>629881394.0</td>\n    </tr>\n    <tr>\n      <th>21</th>\n      <td>fefe1c19-cb2d-4c86-9bd2-baedb5cdd19a</td>\n      <td>raw</td>\n      <td>21</td>\n      <td>main</td>\n      <td>2019-11-01 22:31:08.333560</td>\n      <td>629881394.0</td>\n    </tr>\n    <tr>\n      <th>22</th>\n      <td>c71d2bb1-22e6-402a-bbc1-78ca7e56cb95</td>\n      <td>raw</td>\n      <td>22</td>\n      <td>catalog</td>\n      <td>2019-11-01 22:31:09.010626</td>\n      <td>629881394.0</td>\n    </tr>\n    <tr>\n      <th>23</th>\n      <td>614c4821-3e20-4f84-ada8-52fd3aba6a20</td>\n      <td>raw</td>\n      <td>23</td>\n      <td>product1</td>\n      <td>2019-11-01 22:31:10.416231</td>\n      <td>629881394.0</td>\n    </tr>\n    <tr>\n      <th>24</th>\n      <td>fe568582-a85b-4fa5-a854-df17c351b03c</td>\n      <td>raw</td>\n      <td>24</td>\n      <td>catalog</td>\n      <td>2019-11-01 22:31:43.019527</td>\n      <td>629881394.0</td>\n    </tr>\n    <tr>\n      <th>25</th>\n      <td>43313f2a-65bb-412a-8cbf-1f2a83226bcf</td>\n      <td>raw</td>\n      <td>25</td>\n      <td>catalog</td>\n      <td>2019-11-01 22:32:01.596163</td>\n      <td>629881394.0</td>\n    </tr>\n  </tbody>\n</table>\n</div>"
     },
     "execution_count": 8,
     "metadata": {},
     "output_type": "execute_result"
    }
   ],
   "source": [
    "from src.data_processors_lib.rete import StartEndEvents, StartEndEventsParams\n",
    "\n",
    "start_end_events = EventsNode(\n",
    "    StartEndEvents(params=StartEndEventsParams(**{}))\n",
    ")\n",
    "\n",
    "graph.add_node(\n",
    "    node=start_end_events,\n",
    "    parents=[cart_events]\n",
    ")\n",
    "\n",
    "result = graph.combine(\n",
    "    node=start_end_events\n",
    ")\n",
    "result.to_dataframe().head(n=20)\n"
   ]
  }
 ],
 "metadata": {
  "kernelspec": {
   "display_name": "Python 3 (ipykernel)",
   "language": "python",
   "name": "python3"
  },
  "language_info": {
   "codemirror_mode": {
    "name": "ipython",
    "version": 3
   },
   "file_extension": ".py",
   "mimetype": "text/x-python",
   "name": "python",
   "nbconvert_exporter": "python",
   "pygments_lexer": "ipython3",
   "version": "3.8.13"
  }
 },
 "nbformat": 4,
 "nbformat_minor": 1
}
