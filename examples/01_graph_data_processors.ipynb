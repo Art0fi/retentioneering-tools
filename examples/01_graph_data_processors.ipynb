{
 "cells": [
  {
   "cell_type": "code",
   "execution_count": 1,
   "outputs": [],
   "source": [
    "import pandas as pd\n",
    "\n",
    "from src.eventstream.eventstream import Eventstream\n",
    "from src.eventstream.schema import RawDataSchema, EventstreamSchema\n",
    "from src.graph.p_graph import PGraph, EventsNode\n",
    "\n",
    "raw_data = pd.read_csv('simple-onlineshop.csv')\n",
    "\n",
    "raw_data_schema = RawDataSchema(\n",
    "    event_name=\"event\", event_timestamp=\"timestamp\", user_id=\"user_id\")\n",
    "\n",
    "source = Eventstream(\n",
    "    raw_data=raw_data,\n",
    "    raw_data_schema=raw_data_schema,\n",
    "    schema=EventstreamSchema()\n",
    ")\n",
    "\n",
    "graph = PGraph(source_stream=source)"
   ],
   "metadata": {
    "collapsed": false,
    "pycharm": {
     "name": "#%%\n"
    }
   }
  },
  {
   "cell_type": "code",
   "execution_count": 2,
   "outputs": [],
   "source": [
    "# Add simple group\n",
    "from src.data_processors_lib.simple_processors import SimpleGroup\n",
    "\n",
    "cart_events = EventsNode(\n",
    "    SimpleGroup({\n",
    "        \"event_name\": \"add_to_cart\",\n",
    "        \"filter\": lambda df, schema: df[schema.event_name].isin([\"cart\"]),\n",
    "    })\n",
    ")\n",
    "graph.add_node(\n",
    "    node=cart_events,\n",
    "    parents=[graph.root]\n",
    ")\n",
    "# result = graph.combine(cart_events)\n",
    "# result.to_dataframe().head()"
   ],
   "metadata": {
    "collapsed": false,
    "pycharm": {
     "name": "#%%\n"
    }
   }
  },
  {
   "cell_type": "code",
   "execution_count": 4,
   "outputs": [
    {
     "name": "stderr",
     "output_type": "stream",
     "text": [
      "/home/vladimir/Workspace/retentioneering/retentioneering-tools-new-arch/src/eventstream/eventstream.py:216: FutureWarning: The frame.append method is deprecated and will be removed from pandas in a future version. Use pandas.concat instead.\n",
      "  self.__events = result_left_part.append(\n",
      "/home/vladimir/Workspace/retentioneering/retentioneering-tools-new-arch/src/eventstream/eventstream.py:216: FutureWarning: The frame.append method is deprecated and will be removed from pandas in a future version. Use pandas.concat instead.\n",
      "  self.__events = result_left_part.append(\n",
      "/home/vladimir/Workspace/retentioneering/retentioneering-tools-new-arch/src/eventstream/eventstream.py:216: FutureWarning: The frame.append method is deprecated and will be removed from pandas in a future version. Use pandas.concat instead.\n",
      "  self.__events = result_left_part.append(\n",
      "/home/vladimir/Workspace/retentioneering/retentioneering-tools-new-arch/src/eventstream/eventstream.py:216: FutureWarning: The frame.append method is deprecated and will be removed from pandas in a future version. Use pandas.concat instead.\n",
      "  self.__events = result_left_part.append(\n"
     ]
    },
    {
     "data": {
      "text/plain": "                                   event_id   event_type  event_index  \\\n0      bc7bb3d8-2e78-4e10-b40e-87be85598fd8        start            0   \n2      8af8001f-6327-492c-94d2-8550fa2ff782          raw            2   \n3      9491057d-392d-4d2c-ae44-cb6e4a858813  group_alias            3   \n5      3ca3b4f6-8f41-406e-9d9f-102cbf9dfeef          raw            5   \n6      989a2a8d-7421-4fd2-9c0c-a60b3df63cce        start            6   \n...                                     ...          ...          ...   \n45719  9eb195a5-ef6a-43e7-b346-8a54a68f904d          raw        45719   \n45720  68ceb511-78f5-491a-8bfa-e5710ed13d94          raw        45720   \n45721  92212279-af10-4b3b-be2c-f87491e699e1          raw        45721   \n45722  62766dd1-e4c7-4602-86cc-e76a9c009d5e          raw        45722   \n45724  5aacf1e3-26d9-4961-ae53-183159d66817          end        45724   \n\n        event_name            event_timestamp      user_id  \n0            start 2019-11-01 17:59:13.273932  219483890.0  \n2         product1 2019-11-01 17:59:28.459271  219483890.0  \n3      add_to_cart 2019-11-01 17:59:29.502214  219483890.0  \n5          catalog 2019-11-01 17:59:32.557029  219483890.0  \n6            start 2019-11-01 21:38:19.283663  964964743.0  \n...            ...                        ...          ...  \n45719      catalog 2020-04-29 12:47:40.975732  501098384.0  \n45720      catalog 2020-04-29 12:48:01.809577  501098384.0  \n45721         main 2020-04-29 12:48:01.938488  501098384.0  \n45722      catalog 2020-04-29 12:48:06.595390  501098384.0  \n45724          end 2020-04-29 12:48:07.595390  501098384.0  \n\n[35381 rows x 6 columns]",
      "text/html": "<div>\n<style scoped>\n    .dataframe tbody tr th:only-of-type {\n        vertical-align: middle;\n    }\n\n    .dataframe tbody tr th {\n        vertical-align: top;\n    }\n\n    .dataframe thead th {\n        text-align: right;\n    }\n</style>\n<table border=\"1\" class=\"dataframe\">\n  <thead>\n    <tr style=\"text-align: right;\">\n      <th></th>\n      <th>event_id</th>\n      <th>event_type</th>\n      <th>event_index</th>\n      <th>event_name</th>\n      <th>event_timestamp</th>\n      <th>user_id</th>\n    </tr>\n  </thead>\n  <tbody>\n    <tr>\n      <th>0</th>\n      <td>bc7bb3d8-2e78-4e10-b40e-87be85598fd8</td>\n      <td>start</td>\n      <td>0</td>\n      <td>start</td>\n      <td>2019-11-01 17:59:13.273932</td>\n      <td>219483890.0</td>\n    </tr>\n    <tr>\n      <th>2</th>\n      <td>8af8001f-6327-492c-94d2-8550fa2ff782</td>\n      <td>raw</td>\n      <td>2</td>\n      <td>product1</td>\n      <td>2019-11-01 17:59:28.459271</td>\n      <td>219483890.0</td>\n    </tr>\n    <tr>\n      <th>3</th>\n      <td>9491057d-392d-4d2c-ae44-cb6e4a858813</td>\n      <td>group_alias</td>\n      <td>3</td>\n      <td>add_to_cart</td>\n      <td>2019-11-01 17:59:29.502214</td>\n      <td>219483890.0</td>\n    </tr>\n    <tr>\n      <th>5</th>\n      <td>3ca3b4f6-8f41-406e-9d9f-102cbf9dfeef</td>\n      <td>raw</td>\n      <td>5</td>\n      <td>catalog</td>\n      <td>2019-11-01 17:59:32.557029</td>\n      <td>219483890.0</td>\n    </tr>\n    <tr>\n      <th>6</th>\n      <td>989a2a8d-7421-4fd2-9c0c-a60b3df63cce</td>\n      <td>start</td>\n      <td>6</td>\n      <td>start</td>\n      <td>2019-11-01 21:38:19.283663</td>\n      <td>964964743.0</td>\n    </tr>\n    <tr>\n      <th>...</th>\n      <td>...</td>\n      <td>...</td>\n      <td>...</td>\n      <td>...</td>\n      <td>...</td>\n      <td>...</td>\n    </tr>\n    <tr>\n      <th>45719</th>\n      <td>9eb195a5-ef6a-43e7-b346-8a54a68f904d</td>\n      <td>raw</td>\n      <td>45719</td>\n      <td>catalog</td>\n      <td>2020-04-29 12:47:40.975732</td>\n      <td>501098384.0</td>\n    </tr>\n    <tr>\n      <th>45720</th>\n      <td>68ceb511-78f5-491a-8bfa-e5710ed13d94</td>\n      <td>raw</td>\n      <td>45720</td>\n      <td>catalog</td>\n      <td>2020-04-29 12:48:01.809577</td>\n      <td>501098384.0</td>\n    </tr>\n    <tr>\n      <th>45721</th>\n      <td>92212279-af10-4b3b-be2c-f87491e699e1</td>\n      <td>raw</td>\n      <td>45721</td>\n      <td>main</td>\n      <td>2020-04-29 12:48:01.938488</td>\n      <td>501098384.0</td>\n    </tr>\n    <tr>\n      <th>45722</th>\n      <td>62766dd1-e4c7-4602-86cc-e76a9c009d5e</td>\n      <td>raw</td>\n      <td>45722</td>\n      <td>catalog</td>\n      <td>2020-04-29 12:48:06.595390</td>\n      <td>501098384.0</td>\n    </tr>\n    <tr>\n      <th>45724</th>\n      <td>5aacf1e3-26d9-4961-ae53-183159d66817</td>\n      <td>end</td>\n      <td>45724</td>\n      <td>end</td>\n      <td>2020-04-29 12:48:07.595390</td>\n      <td>501098384.0</td>\n    </tr>\n  </tbody>\n</table>\n<p>35381 rows × 6 columns</p>\n</div>"
     },
     "execution_count": 4,
     "metadata": {},
     "output_type": "execute_result"
    }
   ],
   "source": [
    "from src.data_processors_lib.simple_processors import StartEndEvents\n",
    "\n",
    "start_end_events = EventsNode(\n",
    "    StartEndEvents(\n",
    "        {\n",
    "            'user_col': 'user_id',\n",
    "            'event_col': 'event_name',\n",
    "            'time_col': 'event_timestamp',\n",
    "            'type_col': 'event_type'\n",
    "        })\n",
    ")\n",
    "\n",
    "graph.add_node(\n",
    "    node=start_end_events,\n",
    "    parents=[cart_events]\n",
    ")\n",
    "\n",
    "# from src.graph.p_graph import MergeNode\n",
    "# merge = MergeNode()\n",
    "\n",
    "\n",
    "result = graph.combine(\n",
    "    node=start_end_events\n",
    ")\n",
    "result.to_dataframe()"
   ],
   "metadata": {
    "collapsed": false,
    "pycharm": {
     "name": "#%%\n"
    }
   }
  }
 ],
 "metadata": {
  "kernelspec": {
   "display_name": "Python 3",
   "language": "python",
   "name": "python3"
  },
  "language_info": {
   "codemirror_mode": {
    "name": "ipython",
    "version": 2
   },
   "file_extension": ".py",
   "mimetype": "text/x-python",
   "name": "python",
   "nbconvert_exporter": "python",
   "pygments_lexer": "ipython2",
   "version": "2.7.6"
  }
 },
 "nbformat": 4,
 "nbformat_minor": 0
}