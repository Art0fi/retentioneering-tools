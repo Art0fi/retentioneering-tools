{
 "cells": [
  {
   "cell_type": "code",
   "execution_count": 1,
   "id": "70596279",
   "metadata": {},
   "outputs": [],
   "source": [
    "import sys\n",
    "sys.path.insert(0, '..')"
   ]
  },
  {
   "cell_type": "code",
   "execution_count": 2,
   "id": "72df8b2e",
   "metadata": {},
   "outputs": [
    {
     "name": "stderr",
     "output_type": "stream",
     "text": [
      "/home/vladimir/.pyenv/versions/3.9.14/envs/eering-private-3.9/lib/python3.9/site-packages/tqdm/auto.py:22: TqdmWarning: IProgress not found. Please update jupyter and ipywidgets. See https://ipywidgets.readthedocs.io/en/stable/user_install.html\n",
      "  from .autonotebook import tqdm as notebook_tqdm\n"
     ]
    }
   ],
   "source": [
    "from src import datasets\n",
    "stream = datasets.load_simple_shop()"
   ]
  },
  {
   "cell_type": "code",
   "execution_count": 3,
   "id": "3234ecbb",
   "metadata": {},
   "outputs": [],
   "source": [
    "from src.transition_graph import TransitionGraph\n",
    "\n",
    "graph = TransitionGraph(\n",
    "    eventstream=stream,\n",
    "    graph_settings={},\n",
    "    positive_target_event=None,\n",
    "    negative_target_event=None,\n",
    "    source_event=None,\n",
    "    edgelist_default_col=\"edge_weight\",\n",
    "    nodelist_default_col=\"number_of_events\",\n",
    "    norm_type=None\n",
    ")"
   ]
  },
  {
   "cell_type": "code",
   "execution_count": 4,
   "id": "b51d3709",
   "metadata": {
    "scrolled": true
   },
   "outputs": [
    {
     "data": {
      "text/html": [
       "<iframe id=\"el9ENIOV\" src=\"about:blank\" width=\"960\" height=\"900\" onload=\"window.reteLoadedIframes = window.reteLoadedIframes || []; window.reteLoadedIframes.push('el9ENIOV')\">\n",
       "</iframe>\n",
       "<script>\n",
       "    (function () {\n",
       "        console.log('init graph iframe')\n",
       "        const iframe = document.getElementById(\"el9ENIOV\")\n",
       "        const iframeLoaded = window.reteLoadedIframes && window.reteLoadedIframes.includes(\"el9ENIOV\")\n",
       "        const init = () => {\n",
       "            console.log('graph iframe loaded')\n",
       "            const iframeDocument = document.getElementById(\"el9ENIOV\").contentDocument\n",
       "            iframeDocument.body.innerHTML = '<div id=\"root\"></div>'\n",
       "            const styles = iframeDocument.createElement(\"style\")\n",
       "            styles.innerHTML = `\n",
       ".svg-watermark {\n",
       "  width: 100%;\n",
       "  font-size: 80px;\n",
       "  fill: #c2c2c2;\n",
       "  opacity: 0.3;\n",
       "  font-family: Arial;\n",
       "}\n",
       ".link {\n",
       "  fill: none;\n",
       "  stroke: #666;\n",
       "  stroke-opacity: 0.7;\n",
       "}\n",
       "text {\n",
       "  font: 12px sans-serif;\n",
       "  pointer-events: none;\n",
       "}\n",
       "circle {\n",
       "  fill: #ccc;\n",
       "  stroke: #333;\n",
       "  stroke-width: 1.5px;\n",
       "}\n",
       ".selected-node {\n",
       "  stroke: blue;\n",
       "  stroke-width: 3px;\n",
       "}\n",
       ".circle.source_node {\n",
       "  fill: #f3f310;\n",
       "}\n",
       ".circle.nice_node {\n",
       "  fill: green;\n",
       "}\n",
       ".circle.bad_node {\n",
       "  fill: red;\n",
       "}\n",
       ".link.source {\n",
       "  stroke: #f3f310;\n",
       "}\n",
       ".link.nice {\n",
       "  stroke: green;\n",
       "}\n",
       ".link.bad {\n",
       "  stroke: red;\n",
       "}\n",
       "`\n",
       "            const graphScript = iframeDocument.createElement(\"script\")\n",
       "            graphScript.src = `https://static.server.retentioneering.com/viztools/graph/rete-graph.js`\n",
       "            graphScript.addEventListener(\"load\", () => {\n",
       "                console.log('graph lib loaded')\n",
       "                const initGraph = iframeDocument.createElement(\"script\")\n",
       "                initGraph.innerHTML = `\n",
       "            initialize({\n",
       "              serverId: '8474f90c-29a0-480d-af65-d9f97b3cdbf2',\n",
       "              env: 'classic',\n",
       "              configNodes: [{\"index\": 0, \"name\": \"main\", \"degree\": {\"number_of_events\": {\"degree\": 15.644165863066538, \"source\": 5635}}, \"type\": \"suit_node\", \"active\": true, \"alias\": false, \"parent\": null, \"changed_name\": null, \"x\": 714.7917316474181, \"y\": 218.1069317062539}, {\"index\": 1, \"name\": \"cart\", \"degree\": {\"number_of_events\": {\"degree\": 9.872709739633558, \"source\": 2842}}, \"type\": \"suit_node\", \"active\": true, \"alias\": false, \"parent\": null, \"changed_name\": null, \"x\": 620.5656391010086, \"y\": 311.16973915949796}, {\"index\": 2, \"name\": \"delivery_courier\", \"degree\": {\"number_of_events\": {\"degree\": 5.72337787574046, \"source\": 834}}, \"type\": \"suit_node\", \"active\": true, \"alias\": false, \"parent\": null, \"changed_name\": null, \"x\": 885.0, \"y\": 50.0}, {\"index\": 3, \"name\": \"payment_cash\", \"degree\": {\"number_of_events\": {\"degree\": 4.407080865132938, \"source\": 197}}, \"type\": \"suit_node\", \"active\": true, \"alias\": false, \"parent\": null, \"changed_name\": null, \"x\": 626.3748821692716, \"y\": 305.4322151414599}, {\"index\": 4, \"name\": \"product1\", \"degree\": {\"number_of_events\": {\"degree\": 7.13059650089544, \"source\": 1515}}, \"type\": \"suit_node\", \"active\": true, \"alias\": false, \"parent\": null, \"changed_name\": null, \"x\": 535.8928350031869, \"y\": 394.797199996853}, {\"index\": 5, \"name\": \"lost\", \"degree\": {\"number_of_events\": {\"degree\": 10.401708224273316, \"source\": 3098}}, \"type\": \"suit_node\", \"active\": true, \"alias\": false, \"parent\": null, \"changed_name\": null, \"x\": 75.0, \"y\": 850.0}, {\"index\": 6, \"name\": \"delivery_choice\", \"degree\": {\"number_of_events\": {\"degree\": 7.483950957432153, \"source\": 1686}}, \"type\": \"suit_node\", \"active\": true, \"alias\": false, \"parent\": null, \"changed_name\": null, \"x\": 737.8439854404983, \"y\": 195.3392736390137}, {\"index\": 7, \"name\": \"delivery_pickup\", \"degree\": {\"number_of_events\": {\"degree\": 5.045598567295771, \"source\": 506}}, \"type\": \"suit_node\", \"active\": true, \"alias\": false, \"parent\": null, \"changed_name\": null, \"x\": 575.854384389989, \"y\": 355.3290030716161}, {\"index\": 8, \"name\": \"catalog\", \"degree\": {\"number_of_events\": {\"degree\": 34.0, \"source\": 14518}}, \"type\": \"suit_node\", \"active\": true, \"alias\": false, \"parent\": null, \"changed_name\": null, \"x\": 507.73870494889906, \"y\": 422.60374819861875}, {\"index\": 9, \"name\": \"payment_done\", \"degree\": {\"number_of_events\": {\"degree\": 5.458878633420581, \"source\": 706}}, \"type\": \"suit_node\", \"active\": true, \"alias\": false, \"parent\": null, \"changed_name\": null, \"x\": 816.8020777630908, \"y\": 117.3559725796653}, {\"index\": 10, \"name\": \"payment_choice\", \"degree\": {\"number_of_events\": {\"degree\": 6.287505166000827, \"source\": 1107}}, \"type\": \"suit_node\", \"active\": true, \"alias\": false, \"parent\": null, \"changed_name\": null, \"x\": 716.6680955741265, \"y\": 216.2537327662953}, {\"index\": 11, \"name\": \"payment_card\", \"degree\": {\"number_of_events\": {\"degree\": 5.16751618680259, \"source\": 565}}, \"type\": \"suit_node\", \"active\": true, \"alias\": false, \"parent\": null, \"changed_name\": null, \"x\": 782.7794953844847, \"y\": 150.95852307705255}, {\"index\": 12, \"name\": \"product2\", \"degree\": {\"number_of_events\": {\"degree\": 8.488221518115443, \"source\": 2172}}, \"type\": \"suit_node\", \"active\": true, \"alias\": false, \"parent\": null, \"changed_name\": null, \"x\": 551.0718657149505, \"y\": 379.8055647259759}],\n",
       "              configLinks: [{\"sourceIndex\": 1, \"targetIndex\": 1, \"weights\": {\"number_of_events\": {\"weight_norm\": 0.00020588840848260242, \"weight\": 1}}, \"type\": \"suit\"}, {\"sourceIndex\": 1, \"targetIndex\": 8, \"weights\": {\"number_of_events\": {\"weight_norm\": 0.11756228124356599, \"weight\": 571}}, \"type\": \"suit\"}, {\"sourceIndex\": 1, \"targetIndex\": 6, \"weights\": {\"number_of_events\": {\"weight_norm\": 0.3471278567016677, \"weight\": 1686}}, \"type\": \"suit\"}, {\"sourceIndex\": 1, \"targetIndex\": 5, \"weights\": {\"number_of_events\": {\"weight_norm\": 0.06794317479925881, \"weight\": 330}}, \"type\": \"suit\"}, {\"sourceIndex\": 1, \"targetIndex\": 0, \"weights\": {\"number_of_events\": {\"weight_norm\": 0.047971999176446366, \"weight\": 233}}, \"type\": \"suit\"}, {\"sourceIndex\": 8, \"targetIndex\": 1, \"weights\": {\"number_of_events\": {\"weight_norm\": 0.35186329009676753, \"weight\": 1709}}, \"type\": \"suit\"}, {\"sourceIndex\": 8, \"targetIndex\": 8, \"weights\": {\"number_of_events\": {\"weight_norm\": 1.0, \"weight\": 4857}}, \"type\": \"suit\"}, {\"sourceIndex\": 8, \"targetIndex\": 5, \"weights\": {\"number_of_events\": {\"weight_norm\": 0.3304508956145769, \"weight\": 1605}}, \"type\": \"suit\"}, {\"sourceIndex\": 8, \"targetIndex\": 0, \"weights\": {\"number_of_events\": {\"weight_norm\": 0.5239859995882232, \"weight\": 2545}}, \"type\": \"suit\"}, {\"sourceIndex\": 8, \"targetIndex\": 4, \"weights\": {\"number_of_events\": {\"weight_norm\": 0.3119209388511427, \"weight\": 1515}}, \"type\": \"suit\"}, {\"sourceIndex\": 8, \"targetIndex\": 12, \"weights\": {\"number_of_events\": {\"weight_norm\": 0.44718962322421246, \"weight\": 2172}}, \"type\": \"suit\"}, {\"sourceIndex\": 6, \"targetIndex\": 8, \"weights\": {\"number_of_events\": {\"weight_norm\": 0.03664813670990323, \"weight\": 178}}, \"type\": \"suit\"}, {\"sourceIndex\": 6, \"targetIndex\": 2, \"weights\": {\"number_of_events\": {\"weight_norm\": 0.17171093267449042, \"weight\": 834}}, \"type\": \"suit\"}, {\"sourceIndex\": 6, \"targetIndex\": 7, \"weights\": {\"number_of_events\": {\"weight_norm\": 0.10417953469219683, \"weight\": 506}}, \"type\": \"suit\"}, {\"sourceIndex\": 6, \"targetIndex\": 5, \"weights\": {\"number_of_events\": {\"weight_norm\": 0.018941733580399425, \"weight\": 92}}, \"type\": \"suit\"}, {\"sourceIndex\": 6, \"targetIndex\": 0, \"weights\": {\"number_of_events\": {\"weight_norm\": 0.014618077002264772, \"weight\": 71}}, \"type\": \"suit\"}, {\"sourceIndex\": 2, \"targetIndex\": 5, \"weights\": {\"number_of_events\": {\"weight_norm\": 0.009470866790199713, \"weight\": 46}}, \"type\": \"suit\"}, {\"sourceIndex\": 2, \"targetIndex\": 0, \"weights\": {\"number_of_events\": {\"weight_norm\": 0.007000205888408483, \"weight\": 34}}, \"type\": \"suit\"}, {\"sourceIndex\": 2, \"targetIndex\": 10, \"weights\": {\"number_of_events\": {\"weight_norm\": 0.15482808317891703, \"weight\": 752}}, \"type\": \"suit\"}, {\"sourceIndex\": 7, \"targetIndex\": 5, \"weights\": {\"number_of_events\": {\"weight_norm\": 0.018941733580399425, \"weight\": 92}}, \"type\": \"suit\"}, {\"sourceIndex\": 7, \"targetIndex\": 0, \"weights\": {\"number_of_events\": {\"weight_norm\": 0.011529750875025736, \"weight\": 56}}, \"type\": \"suit\"}, {\"sourceIndex\": 7, \"targetIndex\": 10, \"weights\": {\"number_of_events\": {\"weight_norm\": 0.07309038501132387, \"weight\": 355}}, \"type\": \"suit\"}, {\"sourceIndex\": 0, \"targetIndex\": 8, \"weights\": {\"number_of_events\": {\"weight_norm\": 0.8367304920732963, \"weight\": 4064}}, \"type\": \"suit\"}, {\"sourceIndex\": 0, \"targetIndex\": 5, \"weights\": {\"number_of_events\": {\"weight_norm\": 0.10047354333950999, \"weight\": 488}}, \"type\": \"suit\"}, {\"sourceIndex\": 0, \"targetIndex\": 0, \"weights\": {\"number_of_events\": {\"weight_norm\": 0.21453572163887172, \"weight\": 1042}}, \"type\": \"suit\"}, {\"sourceIndex\": 11, \"targetIndex\": 5, \"weights\": {\"number_of_events\": {\"weight_norm\": 0.0067943174799258805, \"weight\": 33}}, \"type\": \"suit\"}, {\"sourceIndex\": 11, \"targetIndex\": 0, \"weights\": {\"number_of_events\": {\"weight_norm\": 0.0041177681696520484, \"weight\": 20}}, \"type\": \"suit\"}, {\"sourceIndex\": 11, \"targetIndex\": 9, \"weights\": {\"number_of_events\": {\"weight_norm\": 0.10438542310067943, \"weight\": 507}}, \"type\": \"suit\"}, {\"sourceIndex\": 3, \"targetIndex\": 5, \"weights\": {\"number_of_events\": {\"weight_norm\": 0.009059089973234506, \"weight\": 44}}, \"type\": \"suit\"}, {\"sourceIndex\": 3, \"targetIndex\": 0, \"weights\": {\"number_of_events\": {\"weight_norm\": 0.009676755198682314, \"weight\": 47}}, \"type\": \"suit\"}, {\"sourceIndex\": 3, \"targetIndex\": 9, \"weights\": {\"number_of_events\": {\"weight_norm\": 0.021412394482190653, \"weight\": 104}}, \"type\": \"suit\"}, {\"sourceIndex\": 10, \"targetIndex\": 8, \"weights\": {\"number_of_events\": {\"weight_norm\": 0.02347127856701668, \"weight\": 114}}, \"type\": \"suit\"}, {\"sourceIndex\": 10, \"targetIndex\": 5, \"weights\": {\"number_of_events\": {\"weight_norm\": 0.018324068354951616, \"weight\": 89}}, \"type\": \"suit\"}, {\"sourceIndex\": 10, \"targetIndex\": 0, \"weights\": {\"number_of_events\": {\"weight_norm\": 0.008647313156269302, \"weight\": 42}}, \"type\": \"suit\"}, {\"sourceIndex\": 10, \"targetIndex\": 11, \"weights\": {\"number_of_events\": {\"weight_norm\": 0.11632695079267037, \"weight\": 565}}, \"type\": \"suit\"}, {\"sourceIndex\": 10, \"targetIndex\": 3, \"weights\": {\"number_of_events\": {\"weight_norm\": 0.04056001647107268, \"weight\": 197}}, \"type\": \"suit\"}, {\"sourceIndex\": 10, \"targetIndex\": 9, \"weights\": {\"number_of_events\": {\"weight_norm\": 0.01955939880584723, \"weight\": 95}}, \"type\": \"suit\"}, {\"sourceIndex\": 9, \"targetIndex\": 0, \"weights\": {\"number_of_events\": {\"weight_norm\": 0.05538398188182005, \"weight\": 269}}, \"type\": \"suit\"}, {\"sourceIndex\": 4, \"targetIndex\": 1, \"weights\": {\"number_of_events\": {\"weight_norm\": 0.09717932880378835, \"weight\": 472}}, \"type\": \"suit\"}, {\"sourceIndex\": 4, \"targetIndex\": 8, \"weights\": {\"number_of_events\": {\"weight_norm\": 0.15441630636195183, \"weight\": 750}}, \"type\": \"suit\"}, {\"sourceIndex\": 4, \"targetIndex\": 5, \"weights\": {\"number_of_events\": {\"weight_norm\": 0.0335598105826642, \"weight\": 163}}, \"type\": \"suit\"}, {\"sourceIndex\": 4, \"targetIndex\": 0, \"weights\": {\"number_of_events\": {\"weight_norm\": 0.02470660901791229, \"weight\": 120}}, \"type\": \"suit\"}, {\"sourceIndex\": 12, \"targetIndex\": 1, \"weights\": {\"number_of_events\": {\"weight_norm\": 0.13588634959851761, \"weight\": 660}}, \"type\": \"suit\"}, {\"sourceIndex\": 12, \"targetIndex\": 8, \"weights\": {\"number_of_events\": {\"weight_norm\": 0.26724315421041794, \"weight\": 1298}}, \"type\": \"suit\"}, {\"sourceIndex\": 12, \"targetIndex\": 5, \"weights\": {\"number_of_events\": {\"weight_norm\": 0.02388305538398188, \"weight\": 116}}, \"type\": \"suit\"}, {\"sourceIndex\": 12, \"targetIndex\": 0, \"weights\": {\"number_of_events\": {\"weight_norm\": 0.018735845171916822, \"weight\": 91}}, \"type\": \"suit\"}],\n",
       "              nodesColsNames: ['number_of_events'],\n",
       "              linksWeightsNames: ['number_of_events'],\n",
       "              nodesThreshold: undefined,\n",
       "              linksThreshold: undefined,\n",
       "              showWeights: undefined,\n",
       "              showPercents: undefined,\n",
       "              showNodesNames: undefined,\n",
       "              showAllEdgesForTargets: undefined,\n",
       "              showNodesWithoutLinks: undefined,\n",
       "              useLayoutDump: Boolean(0),\n",
       "              weightTemplate: undefined,\n",
       "            })\n",
       "        `\n",
       "                iframeDocument.body.appendChild(initGraph)\n",
       "            })\n",
       "            iframeDocument.head.appendChild(styles)\n",
       "            iframeDocument.head.appendChild(graphScript)\n",
       "            iframeDocument.body.dataset.templateId = \"el9ENIOV_template\"\n",
       "            console.log('init graph iframe end')\n",
       "        }\n",
       "        console.log(`iframe loaded: ` + iframeLoaded)\n",
       "        if (iframeLoaded) {\n",
       "            init()\n",
       "            return\n",
       "        }\n",
       "        iframe.onload = () => {\n",
       "            init()\n",
       "            window.reteLoadedIframes.push(\"el9ENIOV\")\n",
       "        }\n",
       "    })()\n",
       "</script>\n",
       "<template id=\"el9ENIOV_template\">\n",
       "    \n",
       "</template>"
      ],
      "text/plain": [
       "<IPython.core.display.HTML object>"
      ]
     },
     "metadata": {},
     "output_type": "display_data"
    }
   ],
   "source": [
    "tmp_data = graph.plot_graph(links_threshold=None, nodes_threshold=None, targets=None)"
   ]
  },
  {
   "cell_type": "code",
   "execution_count": 5,
   "id": "afb6c7de",
   "metadata": {
    "scrolled": false
   },
   "outputs": [],
   "source": [
    "tmp_data"
   ]
  }
 ],
 "metadata": {
  "kernelspec": {
   "display_name": "Python 3 (ipykernel)",
   "language": "python",
   "name": "python3"
  },
  "language_info": {
   "codemirror_mode": {
    "name": "ipython",
    "version": 3
   },
   "file_extension": ".py",
   "mimetype": "text/x-python",
   "name": "python",
   "nbconvert_exporter": "python",
   "pygments_lexer": "ipython3",
   "version": "3.9.14"
  }
 },
 "nbformat": 4,
 "nbformat_minor": 5
}
