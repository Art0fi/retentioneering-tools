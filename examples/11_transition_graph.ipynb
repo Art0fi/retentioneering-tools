{
 "cells": [
  {
   "cell_type": "code",
   "execution_count": 1,
   "id": "70596279",
   "metadata": {},
   "outputs": [],
   "source": [
    "import sys\n",
    "sys.path.insert(0, '..')"
   ]
  },
  {
   "cell_type": "code",
   "execution_count": null,
   "outputs": [],
   "source": [],
   "metadata": {
    "collapsed": false
   }
  },
  {
   "cell_type": "code",
   "execution_count": 2,
   "id": "72df8b2e",
   "metadata": {},
   "outputs": [],
   "source": [
    "from retentioneering import datasets\n",
    "stream = datasets.load_simple_shop()"
   ]
  },
  {
   "cell_type": "code",
   "execution_count": 3,
   "outputs": [
    {
     "data": {
      "text/plain": "                    cart  catalog  delivery_choice    lost    main  product1  \\\ncart                 1.0    571.0           1686.0   330.0   233.0       0.0   \ncatalog           1709.0   4857.0              0.0  1605.0  2545.0    1515.0   \ndelivery_choice      0.0    178.0              0.0    92.0    71.0       0.0   \nlost                 0.0      0.0              0.0     0.0     0.0       0.0   \nmain                 0.0   4064.0              0.0   488.0  1042.0       0.0   \nproduct1           472.0    750.0              0.0   163.0   120.0       0.0   \nproduct2           660.0   1298.0              0.0   116.0    91.0       0.0   \ndelivery_courier     0.0      0.0              0.0    46.0    34.0       0.0   \ndelivery_pickup      0.0      0.0              0.0    92.0    56.0       0.0   \npayment_choice       0.0    114.0              0.0    89.0    42.0       0.0   \npayment_card         0.0      0.0              0.0    33.0    20.0       0.0   \npayment_done         0.0      0.0              0.0     0.0   269.0       0.0   \npayment_cash         0.0      0.0              0.0    44.0    47.0       0.0   \n\n                  product2  delivery_courier  delivery_pickup  payment_choice  \\\ncart                   0.0               0.0              0.0             0.0   \ncatalog             2172.0               0.0              0.0             0.0   \ndelivery_choice        0.0             834.0            506.0             0.0   \nlost                   0.0               0.0              0.0             0.0   \nmain                   0.0               0.0              0.0             0.0   \nproduct1               0.0               0.0              0.0             0.0   \nproduct2               0.0               0.0              0.0             0.0   \ndelivery_courier       0.0               0.0              0.0           752.0   \ndelivery_pickup        0.0               0.0              0.0           355.0   \npayment_choice         0.0               0.0              0.0             0.0   \npayment_card           0.0               0.0              0.0             0.0   \npayment_done           0.0               0.0              0.0             0.0   \npayment_cash           0.0               0.0              0.0             0.0   \n\n                  payment_card  payment_done  payment_cash  \ncart                       0.0           0.0           0.0  \ncatalog                    0.0           0.0           0.0  \ndelivery_choice            0.0           0.0           0.0  \nlost                       0.0           0.0           0.0  \nmain                       0.0           0.0           0.0  \nproduct1                   0.0           0.0           0.0  \nproduct2                   0.0           0.0           0.0  \ndelivery_courier           0.0           0.0           0.0  \ndelivery_pickup            0.0           0.0           0.0  \npayment_choice           565.0          95.0         197.0  \npayment_card               0.0         507.0           0.0  \npayment_done               0.0           0.0           0.0  \npayment_cash               0.0         104.0           0.0  ",
      "text/html": "<div>\n<style scoped>\n    .dataframe tbody tr th:only-of-type {\n        vertical-align: middle;\n    }\n\n    .dataframe tbody tr th {\n        vertical-align: top;\n    }\n\n    .dataframe thead th {\n        text-align: right;\n    }\n</style>\n<table border=\"1\" class=\"dataframe\">\n  <thead>\n    <tr style=\"text-align: right;\">\n      <th></th>\n      <th>cart</th>\n      <th>catalog</th>\n      <th>delivery_choice</th>\n      <th>lost</th>\n      <th>main</th>\n      <th>product1</th>\n      <th>product2</th>\n      <th>delivery_courier</th>\n      <th>delivery_pickup</th>\n      <th>payment_choice</th>\n      <th>payment_card</th>\n      <th>payment_done</th>\n      <th>payment_cash</th>\n    </tr>\n  </thead>\n  <tbody>\n    <tr>\n      <th>cart</th>\n      <td>1.0</td>\n      <td>571.0</td>\n      <td>1686.0</td>\n      <td>330.0</td>\n      <td>233.0</td>\n      <td>0.0</td>\n      <td>0.0</td>\n      <td>0.0</td>\n      <td>0.0</td>\n      <td>0.0</td>\n      <td>0.0</td>\n      <td>0.0</td>\n      <td>0.0</td>\n    </tr>\n    <tr>\n      <th>catalog</th>\n      <td>1709.0</td>\n      <td>4857.0</td>\n      <td>0.0</td>\n      <td>1605.0</td>\n      <td>2545.0</td>\n      <td>1515.0</td>\n      <td>2172.0</td>\n      <td>0.0</td>\n      <td>0.0</td>\n      <td>0.0</td>\n      <td>0.0</td>\n      <td>0.0</td>\n      <td>0.0</td>\n    </tr>\n    <tr>\n      <th>delivery_choice</th>\n      <td>0.0</td>\n      <td>178.0</td>\n      <td>0.0</td>\n      <td>92.0</td>\n      <td>71.0</td>\n      <td>0.0</td>\n      <td>0.0</td>\n      <td>834.0</td>\n      <td>506.0</td>\n      <td>0.0</td>\n      <td>0.0</td>\n      <td>0.0</td>\n      <td>0.0</td>\n    </tr>\n    <tr>\n      <th>lost</th>\n      <td>0.0</td>\n      <td>0.0</td>\n      <td>0.0</td>\n      <td>0.0</td>\n      <td>0.0</td>\n      <td>0.0</td>\n      <td>0.0</td>\n      <td>0.0</td>\n      <td>0.0</td>\n      <td>0.0</td>\n      <td>0.0</td>\n      <td>0.0</td>\n      <td>0.0</td>\n    </tr>\n    <tr>\n      <th>main</th>\n      <td>0.0</td>\n      <td>4064.0</td>\n      <td>0.0</td>\n      <td>488.0</td>\n      <td>1042.0</td>\n      <td>0.0</td>\n      <td>0.0</td>\n      <td>0.0</td>\n      <td>0.0</td>\n      <td>0.0</td>\n      <td>0.0</td>\n      <td>0.0</td>\n      <td>0.0</td>\n    </tr>\n    <tr>\n      <th>product1</th>\n      <td>472.0</td>\n      <td>750.0</td>\n      <td>0.0</td>\n      <td>163.0</td>\n      <td>120.0</td>\n      <td>0.0</td>\n      <td>0.0</td>\n      <td>0.0</td>\n      <td>0.0</td>\n      <td>0.0</td>\n      <td>0.0</td>\n      <td>0.0</td>\n      <td>0.0</td>\n    </tr>\n    <tr>\n      <th>product2</th>\n      <td>660.0</td>\n      <td>1298.0</td>\n      <td>0.0</td>\n      <td>116.0</td>\n      <td>91.0</td>\n      <td>0.0</td>\n      <td>0.0</td>\n      <td>0.0</td>\n      <td>0.0</td>\n      <td>0.0</td>\n      <td>0.0</td>\n      <td>0.0</td>\n      <td>0.0</td>\n    </tr>\n    <tr>\n      <th>delivery_courier</th>\n      <td>0.0</td>\n      <td>0.0</td>\n      <td>0.0</td>\n      <td>46.0</td>\n      <td>34.0</td>\n      <td>0.0</td>\n      <td>0.0</td>\n      <td>0.0</td>\n      <td>0.0</td>\n      <td>752.0</td>\n      <td>0.0</td>\n      <td>0.0</td>\n      <td>0.0</td>\n    </tr>\n    <tr>\n      <th>delivery_pickup</th>\n      <td>0.0</td>\n      <td>0.0</td>\n      <td>0.0</td>\n      <td>92.0</td>\n      <td>56.0</td>\n      <td>0.0</td>\n      <td>0.0</td>\n      <td>0.0</td>\n      <td>0.0</td>\n      <td>355.0</td>\n      <td>0.0</td>\n      <td>0.0</td>\n      <td>0.0</td>\n    </tr>\n    <tr>\n      <th>payment_choice</th>\n      <td>0.0</td>\n      <td>114.0</td>\n      <td>0.0</td>\n      <td>89.0</td>\n      <td>42.0</td>\n      <td>0.0</td>\n      <td>0.0</td>\n      <td>0.0</td>\n      <td>0.0</td>\n      <td>0.0</td>\n      <td>565.0</td>\n      <td>95.0</td>\n      <td>197.0</td>\n    </tr>\n    <tr>\n      <th>payment_card</th>\n      <td>0.0</td>\n      <td>0.0</td>\n      <td>0.0</td>\n      <td>33.0</td>\n      <td>20.0</td>\n      <td>0.0</td>\n      <td>0.0</td>\n      <td>0.0</td>\n      <td>0.0</td>\n      <td>0.0</td>\n      <td>0.0</td>\n      <td>507.0</td>\n      <td>0.0</td>\n    </tr>\n    <tr>\n      <th>payment_done</th>\n      <td>0.0</td>\n      <td>0.0</td>\n      <td>0.0</td>\n      <td>0.0</td>\n      <td>269.0</td>\n      <td>0.0</td>\n      <td>0.0</td>\n      <td>0.0</td>\n      <td>0.0</td>\n      <td>0.0</td>\n      <td>0.0</td>\n      <td>0.0</td>\n      <td>0.0</td>\n    </tr>\n    <tr>\n      <th>payment_cash</th>\n      <td>0.0</td>\n      <td>0.0</td>\n      <td>0.0</td>\n      <td>44.0</td>\n      <td>47.0</td>\n      <td>0.0</td>\n      <td>0.0</td>\n      <td>0.0</td>\n      <td>0.0</td>\n      <td>0.0</td>\n      <td>0.0</td>\n      <td>104.0</td>\n      <td>0.0</td>\n    </tr>\n  </tbody>\n</table>\n</div>"
     },
     "metadata": {},
     "output_type": "display_data"
    },
    {
     "data": {
      "text/plain": "<retentioneering.tooling.adjacency_matrix.adjacency_matrix.AdjacencyMatrix at 0x7f3565433d30>"
     },
     "execution_count": 3,
     "metadata": {},
     "output_type": "execute_result"
    }
   ],
   "source": [
    "stream.transition_adjacency()"
   ],
   "metadata": {
    "collapsed": false
   }
  },
  {
   "cell_type": "code",
   "execution_count": 8,
   "id": "9731e408",
   "metadata": {
    "scrolled": false
   },
   "outputs": [
    {
     "data": {
      "text/plain": [
       "'number_of_events'"
      ]
     },
     "metadata": {},
     "output_type": "display_data"
    },
    {
     "data": {
      "text/html": [
       "<div>\n",
       "<style scoped>\n",
       "    .dataframe tbody tr th:only-of-type {\n",
       "        vertical-align: middle;\n",
       "    }\n",
       "\n",
       "    .dataframe tbody tr th {\n",
       "        vertical-align: top;\n",
       "    }\n",
       "\n",
       "    .dataframe thead th {\n",
       "        text-align: right;\n",
       "    }\n",
       "</style>\n",
       "<table border=\"1\" class=\"dataframe\">\n",
       "  <thead>\n",
       "    <tr style=\"text-align: right;\">\n",
       "      <th></th>\n",
       "      <th>event</th>\n",
       "      <th>number_of_events</th>\n",
       "    </tr>\n",
       "  </thead>\n",
       "  <tbody>\n",
       "    <tr>\n",
       "      <th>1</th>\n",
       "      <td>catalog</td>\n",
       "      <td>14518</td>\n",
       "    </tr>\n",
       "    <tr>\n",
       "      <th>6</th>\n",
       "      <td>main</td>\n",
       "      <td>5635</td>\n",
       "    </tr>\n",
       "    <tr>\n",
       "      <th>5</th>\n",
       "      <td>lost</td>\n",
       "      <td>3098</td>\n",
       "    </tr>\n",
       "    <tr>\n",
       "      <th>0</th>\n",
       "      <td>cart</td>\n",
       "      <td>2842</td>\n",
       "    </tr>\n",
       "    <tr>\n",
       "      <th>12</th>\n",
       "      <td>product2</td>\n",
       "      <td>2172</td>\n",
       "    </tr>\n",
       "    <tr>\n",
       "      <th>2</th>\n",
       "      <td>delivery_choice</td>\n",
       "      <td>1686</td>\n",
       "    </tr>\n",
       "    <tr>\n",
       "      <th>11</th>\n",
       "      <td>product1</td>\n",
       "      <td>1515</td>\n",
       "    </tr>\n",
       "    <tr>\n",
       "      <th>9</th>\n",
       "      <td>payment_choice</td>\n",
       "      <td>1107</td>\n",
       "    </tr>\n",
       "    <tr>\n",
       "      <th>3</th>\n",
       "      <td>delivery_courier</td>\n",
       "      <td>834</td>\n",
       "    </tr>\n",
       "    <tr>\n",
       "      <th>10</th>\n",
       "      <td>payment_done</td>\n",
       "      <td>706</td>\n",
       "    </tr>\n",
       "    <tr>\n",
       "      <th>7</th>\n",
       "      <td>payment_card</td>\n",
       "      <td>565</td>\n",
       "    </tr>\n",
       "    <tr>\n",
       "      <th>4</th>\n",
       "      <td>delivery_pickup</td>\n",
       "      <td>506</td>\n",
       "    </tr>\n",
       "    <tr>\n",
       "      <th>8</th>\n",
       "      <td>payment_cash</td>\n",
       "      <td>197</td>\n",
       "    </tr>\n",
       "  </tbody>\n",
       "</table>\n",
       "</div>"
      ],
      "text/plain": [
       "               event  number_of_events\n",
       "1            catalog             14518\n",
       "6               main              5635\n",
       "5               lost              3098\n",
       "0               cart              2842\n",
       "12          product2              2172\n",
       "2    delivery_choice              1686\n",
       "11          product1              1515\n",
       "9     payment_choice              1107\n",
       "3   delivery_courier               834\n",
       "10      payment_done               706\n",
       "7       payment_card               565\n",
       "4    delivery_pickup               506\n",
       "8       payment_cash               197"
      ]
     },
     "metadata": {},
     "output_type": "display_data"
    },
    {
     "data": {
      "text/plain": [
       "{'number_of_events': 0.9}"
      ]
     },
     "metadata": {},
     "output_type": "display_data"
    },
    {
     "data": {
      "text/html": [
       "<iframe id=\"elYCY16V\" src=\"about:blank\" width=\"800\" height=\"500\"\n",
       "        onload=\"window.reteLoadedIframes = window.reteLoadedIframes || []; window.reteLoadedIframes.push('elYCY16V')\">\n",
       "</iframe>\n",
       "\n",
       "<script>\n",
       "  (function() {\n",
       "    console.info('Initialize graph IFRAME')\n",
       "\n",
       "    const iframe = document.getElementById('elYCY16V')\n",
       "    const iframeLoaded = window.reteLoadedIframes && window.reteLoadedIframes.includes('elYCY16V')\n",
       "\n",
       "    const init = () => {\n",
       "      console.info('Graph IFRAME loaded')\n",
       "\n",
       "      const iframeDocument = document.getElementById('elYCY16V').contentDocument\n",
       "\n",
       "      iframeDocument.body.innerHTML = '<div id=\"root\"></div>'\n",
       "\n",
       "      const graphScript = iframeDocument.createElement('script')\n",
       "\n",
       "      graphScript.src = `https://static.server.retentioneering.com/viztools/transition-graph/v3/transition-graph.umd.js?id=elBJ3MI4`\n",
       "\n",
       "      graphScript.addEventListener('load', () => {\n",
       "        console.info('JavaScript library loaded')\n",
       "\n",
       "        const initGraph = iframeDocument.createElement('script')\n",
       "\n",
       "        initGraph.innerHTML = `\n",
       "    initialize({\n",
       "    serverId: 'e22ddd1a-4702-4d85-aa67-fc45da749a81',\n",
       "    env: 'classic',\n",
       "    configNodes: [{\"index\": 0, \"name\": \"lost\", \"degree\": {\"number_of_events\": {\"degree\": 10.401708224273316, \"source\": 3098}}, \"type\": \"suit_node\", \"active\": true, \"alias\": false, \"parent\": null, \"changed_name\": null, \"x\": 86.30521962342803, \"y\": 450.0}, {\"index\": 1, \"name\": \"payment_cash\", \"degree\": {\"number_of_events\": {\"degree\": 4.407080865132938, \"source\": 197}}, \"type\": \"suit_node\", \"active\": true, \"alias\": false, \"parent\": null, \"changed_name\": null, \"x\": 75.0, \"y\": 100.960014887715}, {\"index\": 2, \"name\": \"delivery_choice\", \"degree\": {\"number_of_events\": {\"degree\": 7.483950957432153, \"source\": 1686}}, \"type\": \"suit_node\", \"active\": true, \"alias\": false, \"parent\": null, \"changed_name\": null, \"x\": 299.8013114659381, \"y\": 176.06100085031153}, {\"index\": 3, \"name\": \"delivery_pickup\", \"degree\": {\"number_of_events\": {\"degree\": 5.045598567295771, \"source\": 506}}, \"type\": \"suit_node\", \"active\": true, \"alias\": false, \"parent\": null, \"changed_name\": null, \"x\": 182.4414413454718, \"y\": 185.13171250417423}, {\"index\": 4, \"name\": \"product1\", \"degree\": {\"number_of_events\": {\"degree\": 7.13059650089544, \"source\": 1515}}, \"type\": \"suit_node\", \"active\": true, \"alias\": false, \"parent\": null, \"changed_name\": null, \"x\": 376.3102833244192, \"y\": 290.97161137553576}, {\"index\": 5, \"name\": \"main\", \"degree\": {\"number_of_events\": {\"degree\": 15.644165863066538, \"source\": 5635}}, \"type\": \"suit_node\", \"active\": true, \"alias\": false, \"parent\": null, \"changed_name\": null, \"x\": 273.7264358065559, \"y\": 322.6075391861849}, {\"index\": 6, \"name\": \"cart\", \"degree\": {\"number_of_events\": {\"degree\": 9.872709739633558, \"source\": 2842}}, \"type\": \"suit_node\", \"active\": true, \"alias\": false, \"parent\": null, \"changed_name\": null, \"x\": 242.46851247427674, \"y\": 250.9191802946452}, {\"index\": 7, \"name\": \"payment_choice\", \"degree\": {\"number_of_events\": {\"degree\": 6.287505166000827, \"source\": 1107}}, \"type\": \"suit_node\", \"active\": true, \"alias\": false, \"parent\": null, \"changed_name\": null, \"x\": 471.38341046121803, \"y\": 110.42821479093935}, {\"index\": 8, \"name\": \"delivery_courier\", \"degree\": {\"number_of_events\": {\"degree\": 5.72337787574046, \"source\": 834}}, \"type\": \"suit_node\", \"active\": true, \"alias\": false, \"parent\": null, \"changed_name\": null, \"x\": 331.8627920466434, \"y\": 98.67046604742083}, {\"index\": 9, \"name\": \"product2\", \"degree\": {\"number_of_events\": {\"degree\": 8.488221518115443, \"source\": 2172}}, \"type\": \"suit_node\", \"active\": true, \"alias\": false, \"parent\": null, \"changed_name\": null, \"x\": 91.66824450528723, \"y\": 294.38702996897416}, {\"index\": 10, \"name\": \"payment_card\", \"degree\": {\"number_of_events\": {\"degree\": 5.16751618680259, \"source\": 565}}, \"type\": \"suit_node\", \"active\": true, \"alias\": false, \"parent\": null, \"changed_name\": null, \"x\": 725.0, \"y\": 50.0}, {\"index\": 11, \"name\": \"payment_done\", \"degree\": {\"number_of_events\": {\"degree\": 5.458878633420581, \"source\": 706}}, \"type\": \"suit_node\", \"active\": true, \"alias\": false, \"parent\": null, \"changed_name\": null, \"x\": 566.1347500454161, \"y\": 77.903558898379}, {\"index\": 12, \"name\": \"catalog\", \"degree\": {\"number_of_events\": {\"degree\": 34.0, \"source\": 14518}}, \"type\": \"suit_node\", \"active\": true, \"alias\": false, \"parent\": null, \"changed_name\": null, \"x\": 198.44754894248763, \"y\": 323.9495355461268}],\n",
       "    configLinks: [{\"sourceIndex\": 6, \"targetIndex\": 6, \"weights\": {\"number_of_events\": {\"weight_norm\": 0.00020588840848260242, \"weight\": 3.161555485298767e-05}}, \"type\": \"suit\"}, {\"sourceIndex\": 6, \"targetIndex\": 12, \"weights\": {\"number_of_events\": {\"weight_norm\": 0.11756228124356598, \"weight\": 0.018052481821055958}}, \"type\": \"suit\"}, {\"sourceIndex\": 6, \"targetIndex\": 2, \"weights\": {\"number_of_events\": {\"weight_norm\": 0.34712785670166774, \"weight\": 0.05330382548213721}}, \"type\": \"suit\"}, {\"sourceIndex\": 6, \"targetIndex\": 0, \"weights\": {\"number_of_events\": {\"weight_norm\": 0.06794317479925881, \"weight\": 0.010433133101485931}}, \"type\": \"suit\"}, {\"sourceIndex\": 6, \"targetIndex\": 5, \"weights\": {\"number_of_events\": {\"weight_norm\": 0.047971999176446366, \"weight\": 0.007366424280746127}}, \"type\": \"suit\"}, {\"sourceIndex\": 12, \"targetIndex\": 6, \"weights\": {\"number_of_events\": {\"weight_norm\": 0.3518632900967676, \"weight\": 0.05403098324375593}}, \"type\": \"suit\"}, {\"sourceIndex\": 12, \"targetIndex\": 12, \"weights\": {\"number_of_events\": {\"weight_norm\": 1.0, \"weight\": 0.1535567499209611}}, \"type\": \"suit\"}, {\"sourceIndex\": 12, \"targetIndex\": 0, \"weights\": {\"number_of_events\": {\"weight_norm\": 0.3304508956145769, \"weight\": 0.05074296553904521}}, \"type\": \"suit\"}, {\"sourceIndex\": 12, \"targetIndex\": 5, \"weights\": {\"number_of_events\": {\"weight_norm\": 0.5239859995882232, \"weight\": 0.08046158710085362}}, \"type\": \"suit\"}, {\"sourceIndex\": 12, \"targetIndex\": 4, \"weights\": {\"number_of_events\": {\"weight_norm\": 0.3119209388511427, \"weight\": 0.04789756560227632}}, \"type\": \"suit\"}, {\"sourceIndex\": 12, \"targetIndex\": 9, \"weights\": {\"number_of_events\": {\"weight_norm\": 0.4471896232242125, \"weight\": 0.06866898514068923}}, \"type\": \"suit\"}, {\"sourceIndex\": 2, \"targetIndex\": 12, \"weights\": {\"number_of_events\": {\"weight_norm\": 0.03664813670990324, \"weight\": 0.005627568763831805}}, \"type\": \"suit\"}, {\"sourceIndex\": 2, \"targetIndex\": 8, \"weights\": {\"number_of_events\": {\"weight_norm\": 0.17171093267449045, \"weight\": 0.026367372747391718}}, \"type\": \"suit\"}, {\"sourceIndex\": 2, \"targetIndex\": 3, \"weights\": {\"number_of_events\": {\"weight_norm\": 0.10417953469219683, \"weight\": 0.01599747075561176}}, \"type\": \"suit\"}, {\"sourceIndex\": 2, \"targetIndex\": 0, \"weights\": {\"number_of_events\": {\"weight_norm\": 0.018941733580399425, \"weight\": 0.0029086310464748657}}, \"type\": \"suit\"}, {\"sourceIndex\": 2, \"targetIndex\": 5, \"weights\": {\"number_of_events\": {\"weight_norm\": 0.014618077002264772, \"weight\": 0.0022447043945621244}}, \"type\": \"suit\"}, {\"sourceIndex\": 8, \"targetIndex\": 0, \"weights\": {\"number_of_events\": {\"weight_norm\": 0.009470866790199713, \"weight\": 0.0014543155232374328}}, \"type\": \"suit\"}, {\"sourceIndex\": 8, \"targetIndex\": 5, \"weights\": {\"number_of_events\": {\"weight_norm\": 0.007000205888408483, \"weight\": 0.0010749288650015807}}, \"type\": \"suit\"}, {\"sourceIndex\": 8, \"targetIndex\": 7, \"weights\": {\"number_of_events\": {\"weight_norm\": 0.15482808317891703, \"weight\": 0.023774897249446727}}, \"type\": \"suit\"}, {\"sourceIndex\": 3, \"targetIndex\": 0, \"weights\": {\"number_of_events\": {\"weight_norm\": 0.018941733580399425, \"weight\": 0.0029086310464748657}}, \"type\": \"suit\"}, {\"sourceIndex\": 3, \"targetIndex\": 5, \"weights\": {\"number_of_events\": {\"weight_norm\": 0.011529750875025738, \"weight\": 0.0017704710717673096}}, \"type\": \"suit\"}, {\"sourceIndex\": 3, \"targetIndex\": 7, \"weights\": {\"number_of_events\": {\"weight_norm\": 0.07309038501132387, \"weight\": 0.011223521972810622}}, \"type\": \"suit\"}, {\"sourceIndex\": 5, \"targetIndex\": 12, \"weights\": {\"number_of_events\": {\"weight_norm\": 0.8367304920732964, \"weight\": 0.1284856149225419}}, \"type\": \"suit\"}, {\"sourceIndex\": 5, \"targetIndex\": 0, \"weights\": {\"number_of_events\": {\"weight_norm\": 0.10047354333950999, \"weight\": 0.015428390768257983}}, \"type\": \"suit\"}, {\"sourceIndex\": 5, \"targetIndex\": 5, \"weights\": {\"number_of_events\": {\"weight_norm\": 0.21453572163887175, \"weight\": 0.03294340815681315}}, \"type\": \"suit\"}, {\"sourceIndex\": 10, \"targetIndex\": 0, \"weights\": {\"number_of_events\": {\"weight_norm\": 0.0067943174799258805, \"weight\": 0.0010433133101485931}}, \"type\": \"suit\"}, {\"sourceIndex\": 10, \"targetIndex\": 5, \"weights\": {\"number_of_events\": {\"weight_norm\": 0.004117768169652049, \"weight\": 0.0006323110970597534}}, \"type\": \"suit\"}, {\"sourceIndex\": 10, \"targetIndex\": 11, \"weights\": {\"number_of_events\": {\"weight_norm\": 0.10438542310067944, \"weight\": 0.01602908631046475}}, \"type\": \"suit\"}, {\"sourceIndex\": 1, \"targetIndex\": 0, \"weights\": {\"number_of_events\": {\"weight_norm\": 0.009059089973234508, \"weight\": 0.0013910844135314575}}, \"type\": \"suit\"}, {\"sourceIndex\": 1, \"targetIndex\": 5, \"weights\": {\"number_of_events\": {\"weight_norm\": 0.009676755198682314, \"weight\": 0.0014859310780904204}}, \"type\": \"suit\"}, {\"sourceIndex\": 1, \"targetIndex\": 11, \"weights\": {\"number_of_events\": {\"weight_norm\": 0.021412394482190653, \"weight\": 0.0032880177047107176}}, \"type\": \"suit\"}, {\"sourceIndex\": 7, \"targetIndex\": 12, \"weights\": {\"number_of_events\": {\"weight_norm\": 0.02347127856701668, \"weight\": 0.0036041732532405943}}, \"type\": \"suit\"}, {\"sourceIndex\": 7, \"targetIndex\": 0, \"weights\": {\"number_of_events\": {\"weight_norm\": 0.01832406835495162, \"weight\": 0.0028137843819159027}}, \"type\": \"suit\"}, {\"sourceIndex\": 7, \"targetIndex\": 5, \"weights\": {\"number_of_events\": {\"weight_norm\": 0.008647313156269302, \"weight\": 0.001327853303825482}}, \"type\": \"suit\"}, {\"sourceIndex\": 7, \"targetIndex\": 10, \"weights\": {\"number_of_events\": {\"weight_norm\": 0.11632695079267037, \"weight\": 0.017862788491938033}}, \"type\": \"suit\"}, {\"sourceIndex\": 7, \"targetIndex\": 1, \"weights\": {\"number_of_events\": {\"weight_norm\": 0.04056001647107268, \"weight\": 0.006228264306038571}}, \"type\": \"suit\"}, {\"sourceIndex\": 7, \"targetIndex\": 11, \"weights\": {\"number_of_events\": {\"weight_norm\": 0.01955939880584723, \"weight\": 0.0030034777110338287}}, \"type\": \"suit\"}, {\"sourceIndex\": 11, \"targetIndex\": 5, \"weights\": {\"number_of_events\": {\"weight_norm\": 0.05538398188182006, \"weight\": 0.008504584255453683}}, \"type\": \"suit\"}, {\"sourceIndex\": 4, \"targetIndex\": 6, \"weights\": {\"number_of_events\": {\"weight_norm\": 0.09717932880378835, \"weight\": 0.01492254189061018}}, \"type\": \"suit\"}, {\"sourceIndex\": 4, \"targetIndex\": 12, \"weights\": {\"number_of_events\": {\"weight_norm\": 0.15441630636195183, \"weight\": 0.023711666139740753}}, \"type\": \"suit\"}, {\"sourceIndex\": 4, \"targetIndex\": 0, \"weights\": {\"number_of_events\": {\"weight_norm\": 0.0335598105826642, \"weight\": 0.00515333544103699}}, \"type\": \"suit\"}, {\"sourceIndex\": 4, \"targetIndex\": 5, \"weights\": {\"number_of_events\": {\"weight_norm\": 0.02470660901791229, \"weight\": 0.0037938665823585203}}, \"type\": \"suit\"}, {\"sourceIndex\": 9, \"targetIndex\": 6, \"weights\": {\"number_of_events\": {\"weight_norm\": 0.13588634959851761, \"weight\": 0.020866266202971863}}, \"type\": \"suit\"}, {\"sourceIndex\": 9, \"targetIndex\": 12, \"weights\": {\"number_of_events\": {\"weight_norm\": 0.26724315421041794, \"weight\": 0.041036990199177996}}, \"type\": \"suit\"}, {\"sourceIndex\": 9, \"targetIndex\": 0, \"weights\": {\"number_of_events\": {\"weight_norm\": 0.023883055383981885, \"weight\": 0.00366740436294657}}, \"type\": \"suit\"}, {\"sourceIndex\": 9, \"targetIndex\": 5, \"weights\": {\"number_of_events\": {\"weight_norm\": 0.018735845171916822, \"weight\": 0.002877015491621878}}, \"type\": \"suit\"}],\n",
       "    nodesColsNames: ['number_of_events'],\n",
       "    linksWeightsNames: ['number_of_events'],\n",
       "    nodesThreshold: {\"number_of_events\": 0.9},\n",
       "    linksThreshold: undefined,\n",
       "    showWeights: undefined,\n",
       "    showPercents: undefined,\n",
       "    showNodesNames: undefined,\n",
       "    showAllEdgesForTargets: undefined,\n",
       "    showNodesWithoutLinks: undefined,\n",
       "    useLayoutDump: Boolean(0),\n",
       "    weightTemplate: undefined\n",
       "})\n",
       "`\n",
       "        iframeDocument.body.appendChild(initGraph)\n",
       "      })\n",
       "\n",
       "      iframeDocument.head.appendChild(graphScript)\n",
       "      iframeDocument.body.dataset.templateId = 'elYCY16V_template'\n",
       "\n",
       "      console.info('Graph IFRAME initialized')\n",
       "    }\n",
       "\n",
       "    console.log(`Graph IFRAME loaded: ` + iframeLoaded)\n",
       "\n",
       "    if (iframeLoaded) {\n",
       "      init()\n",
       "      return\n",
       "    }\n",
       "\n",
       "    iframe.onload = () => {\n",
       "      init()\n",
       "      window.reteLoadedIframes.push('elYCY16V')\n",
       "    }\n",
       "  })()\n",
       "</script>\n",
       "\n",
       "<template id=\"elYCY16V_template\">\n",
       "    <!DOCTYPE html>\n",
       "<html lang=\"en\">\n",
       "<head>\n",
       "    <meta charset=\"UTF-8\"/>\n",
       "    <meta name=\"viewport\" content=\"width=device-width, initial-scale=1.0, maximum-scale=1.0, user-scalable=no\"/>\n",
       "    <meta name=\"theme-color\" content=\"#000000\"/>\n",
       "    <link rel=\"preconnect\" href=\"https://fonts.googleapis.com\"/>\n",
       "    <link crossorigin rel=\"preconnect\" href=\"https://fonts.gstatic.com\"/>\n",
       "    <link\n",
       "            crossorigin\n",
       "            href=\"https://fonts.googleapis.com/css2?family=Open+Sans:wght@400;600&display=swap\"\n",
       "            rel=\"stylesheet\"\n",
       "    />\n",
       "    <title>Retentioneering Transition Graph Application</title>\n",
       "</head>\n",
       "\n",
       "<body>\n",
       "<noscript>You need to enable JavaScript to run this app.</noscript>\n",
       "{content}\n",
       "</body>\n",
       "</html>\n",
       "</template>"
      ],
      "text/plain": [
       "<IPython.core.display.HTML object>"
      ]
     },
     "metadata": {},
     "output_type": "display_data"
    },
    {
     "data": {
      "text/plain": [
       "<src.transition_graph.transition_graph.TransitionGraph at 0x7f940d0e28b0>"
      ]
     },
     "execution_count": 8,
     "metadata": {},
     "output_type": "execute_result"
    }
   ],
   "source": [
    "stream.transition_graph(thresholds={'nodes': {'number_of_events': 0.9}}, norm_type=\"full\")\n",
    "# stream.transition_graph(norm_type=\"full\")\n",
    "\n",
    "# stream.transition_graph()"
   ]
  },
  {
   "cell_type": "code",
   "execution_count": 4,
   "id": "3234ecbb",
   "metadata": {},
   "outputs": [
    {
     "data": {
      "text/plain": [
       "'number_of_events'"
      ]
     },
     "metadata": {},
     "output_type": "display_data"
    },
    {
     "data": {
      "text/html": [
       "<div>\n",
       "<style scoped>\n",
       "    .dataframe tbody tr th:only-of-type {\n",
       "        vertical-align: middle;\n",
       "    }\n",
       "\n",
       "    .dataframe tbody tr th {\n",
       "        vertical-align: top;\n",
       "    }\n",
       "\n",
       "    .dataframe thead th {\n",
       "        text-align: right;\n",
       "    }\n",
       "</style>\n",
       "<table border=\"1\" class=\"dataframe\">\n",
       "  <thead>\n",
       "    <tr style=\"text-align: right;\">\n",
       "      <th></th>\n",
       "      <th>event</th>\n",
       "      <th>number_of_events</th>\n",
       "    </tr>\n",
       "  </thead>\n",
       "  <tbody>\n",
       "    <tr>\n",
       "      <th>1</th>\n",
       "      <td>catalog</td>\n",
       "      <td>14518</td>\n",
       "    </tr>\n",
       "    <tr>\n",
       "      <th>6</th>\n",
       "      <td>main</td>\n",
       "      <td>5635</td>\n",
       "    </tr>\n",
       "    <tr>\n",
       "      <th>5</th>\n",
       "      <td>lost</td>\n",
       "      <td>3098</td>\n",
       "    </tr>\n",
       "    <tr>\n",
       "      <th>0</th>\n",
       "      <td>cart</td>\n",
       "      <td>2842</td>\n",
       "    </tr>\n",
       "    <tr>\n",
       "      <th>12</th>\n",
       "      <td>product2</td>\n",
       "      <td>2172</td>\n",
       "    </tr>\n",
       "    <tr>\n",
       "      <th>2</th>\n",
       "      <td>delivery_choice</td>\n",
       "      <td>1686</td>\n",
       "    </tr>\n",
       "    <tr>\n",
       "      <th>11</th>\n",
       "      <td>product1</td>\n",
       "      <td>1515</td>\n",
       "    </tr>\n",
       "    <tr>\n",
       "      <th>9</th>\n",
       "      <td>payment_choice</td>\n",
       "      <td>1107</td>\n",
       "    </tr>\n",
       "    <tr>\n",
       "      <th>3</th>\n",
       "      <td>delivery_courier</td>\n",
       "      <td>834</td>\n",
       "    </tr>\n",
       "    <tr>\n",
       "      <th>10</th>\n",
       "      <td>payment_done</td>\n",
       "      <td>706</td>\n",
       "    </tr>\n",
       "    <tr>\n",
       "      <th>7</th>\n",
       "      <td>payment_card</td>\n",
       "      <td>565</td>\n",
       "    </tr>\n",
       "    <tr>\n",
       "      <th>4</th>\n",
       "      <td>delivery_pickup</td>\n",
       "      <td>506</td>\n",
       "    </tr>\n",
       "    <tr>\n",
       "      <th>8</th>\n",
       "      <td>payment_cash</td>\n",
       "      <td>197</td>\n",
       "    </tr>\n",
       "  </tbody>\n",
       "</table>\n",
       "</div>"
      ],
      "text/plain": [
       "               event  number_of_events\n",
       "1            catalog             14518\n",
       "6               main              5635\n",
       "5               lost              3098\n",
       "0               cart              2842\n",
       "12          product2              2172\n",
       "2    delivery_choice              1686\n",
       "11          product1              1515\n",
       "9     payment_choice              1107\n",
       "3   delivery_courier               834\n",
       "10      payment_done               706\n",
       "7       payment_card               565\n",
       "4    delivery_pickup               506\n",
       "8       payment_cash               197"
      ]
     },
     "metadata": {},
     "output_type": "display_data"
    }
   ],
   "source": [
    "from src.transition_graph import TransitionGraph\n",
    "\n",
    "graph = TransitionGraph(\n",
    "    eventstream=stream,\n",
    "    graph_settings={},\n",
    "    norm_type=None,\n",
    "    thresholds={'nodes': {'number_of_events': 0.9}}\n",
    ")"
   ]
  },
  {
   "cell_type": "code",
   "execution_count": 5,
   "id": "afb6c7de",
   "metadata": {
    "scrolled": false
   },
   "outputs": [
    {
     "data": {
      "text/plain": [
       "{'number_of_events': 0.9}"
      ]
     },
     "metadata": {},
     "output_type": "display_data"
    },
    {
     "data": {
      "text/html": [
       "<iframe id=\"elD0UYC1\" src=\"about:blank\" width=\"960\" height=\"900\"\n",
       "        onload=\"window.reteLoadedIframes = window.reteLoadedIframes || []; window.reteLoadedIframes.push('elD0UYC1')\">\n",
       "</iframe>\n",
       "\n",
       "<script>\n",
       "  (function() {\n",
       "    console.info('Initialize graph IFRAME')\n",
       "\n",
       "    const iframe = document.getElementById('elD0UYC1')\n",
       "    const iframeLoaded = window.reteLoadedIframes && window.reteLoadedIframes.includes('elD0UYC1')\n",
       "\n",
       "    const init = () => {\n",
       "      console.info('Graph IFRAME loaded')\n",
       "\n",
       "      const iframeDocument = document.getElementById('elD0UYC1').contentDocument\n",
       "\n",
       "      iframeDocument.body.innerHTML = '<div id=\"root\"></div>'\n",
       "\n",
       "      const graphScript = iframeDocument.createElement('script')\n",
       "\n",
       "      graphScript.src = `https://static.server.retentioneering.com/viztools/transition-graph/v3/transition-graph.umd.js?id=elSOPSIA`\n",
       "\n",
       "      graphScript.addEventListener('load', () => {\n",
       "        console.info('JavaScript library loaded')\n",
       "\n",
       "        const initGraph = iframeDocument.createElement('script')\n",
       "\n",
       "        initGraph.innerHTML = `\n",
       "    initialize({\n",
       "    serverId: 'b0fb2f3c-6a2b-4db5-a0c5-4a5e02d2ad59',\n",
       "    env: 'classic',\n",
       "    configNodes: [{\"index\": 0, \"name\": \"lost\", \"degree\": {\"number_of_events\": {\"degree\": 10.401708224273316, \"source\": 3098}}, \"type\": \"suit_node\", \"active\": true, \"alias\": false, \"parent\": null, \"changed_name\": null, \"x\": 75.0, \"y\": 850.0}, {\"index\": 1, \"name\": \"payment_cash\", \"degree\": {\"number_of_events\": {\"degree\": 4.407080865132938, \"source\": 197}}, \"type\": \"suit_node\", \"active\": true, \"alias\": false, \"parent\": null, \"changed_name\": null, \"x\": 626.3748821692716, \"y\": 305.4322151414599}, {\"index\": 2, \"name\": \"delivery_choice\", \"degree\": {\"number_of_events\": {\"degree\": 7.483950957432153, \"source\": 1686}}, \"type\": \"suit_node\", \"active\": true, \"alias\": false, \"parent\": null, \"changed_name\": null, \"x\": 737.8439854404983, \"y\": 195.3392736390137}, {\"index\": 3, \"name\": \"delivery_pickup\", \"degree\": {\"number_of_events\": {\"degree\": 5.045598567295771, \"source\": 506}}, \"type\": \"suit_node\", \"active\": true, \"alias\": false, \"parent\": null, \"changed_name\": null, \"x\": 575.854384389989, \"y\": 355.3290030716161}, {\"index\": 4, \"name\": \"product1\", \"degree\": {\"number_of_events\": {\"degree\": 7.13059650089544, \"source\": 1515}}, \"type\": \"suit_node\", \"active\": true, \"alias\": false, \"parent\": null, \"changed_name\": null, \"x\": 535.8928350031869, \"y\": 394.797199996853}, {\"index\": 5, \"name\": \"main\", \"degree\": {\"number_of_events\": {\"degree\": 15.644165863066538, \"source\": 5635}}, \"type\": \"suit_node\", \"active\": true, \"alias\": false, \"parent\": null, \"changed_name\": null, \"x\": 714.7917316474181, \"y\": 218.1069317062539}, {\"index\": 6, \"name\": \"cart\", \"degree\": {\"number_of_events\": {\"degree\": 9.872709739633558, \"source\": 2842}}, \"type\": \"suit_node\", \"active\": true, \"alias\": false, \"parent\": null, \"changed_name\": null, \"x\": 620.5656391010086, \"y\": 311.16973915949796}, {\"index\": 7, \"name\": \"payment_choice\", \"degree\": {\"number_of_events\": {\"degree\": 6.287505166000827, \"source\": 1107}}, \"type\": \"suit_node\", \"active\": true, \"alias\": false, \"parent\": null, \"changed_name\": null, \"x\": 716.6680955741265, \"y\": 216.2537327662953}, {\"index\": 8, \"name\": \"delivery_courier\", \"degree\": {\"number_of_events\": {\"degree\": 5.72337787574046, \"source\": 834}}, \"type\": \"suit_node\", \"active\": true, \"alias\": false, \"parent\": null, \"changed_name\": null, \"x\": 885.0, \"y\": 50.0}, {\"index\": 9, \"name\": \"product2\", \"degree\": {\"number_of_events\": {\"degree\": 8.488221518115443, \"source\": 2172}}, \"type\": \"suit_node\", \"active\": true, \"alias\": false, \"parent\": null, \"changed_name\": null, \"x\": 551.0718657149505, \"y\": 379.8055647259759}, {\"index\": 10, \"name\": \"payment_card\", \"degree\": {\"number_of_events\": {\"degree\": 5.16751618680259, \"source\": 565}}, \"type\": \"suit_node\", \"active\": true, \"alias\": false, \"parent\": null, \"changed_name\": null, \"x\": 782.7794953844847, \"y\": 150.95852307705255}, {\"index\": 11, \"name\": \"payment_done\", \"degree\": {\"number_of_events\": {\"degree\": 5.458878633420581, \"source\": 706}}, \"type\": \"suit_node\", \"active\": true, \"alias\": false, \"parent\": null, \"changed_name\": null, \"x\": 816.8020777630908, \"y\": 117.3559725796653}, {\"index\": 12, \"name\": \"catalog\", \"degree\": {\"number_of_events\": {\"degree\": 34.0, \"source\": 14518}}, \"type\": \"suit_node\", \"active\": true, \"alias\": false, \"parent\": null, \"changed_name\": null, \"x\": 507.73870494889906, \"y\": 422.60374819861875}],\n",
       "    configLinks: [{\"sourceIndex\": 6, \"targetIndex\": 6, \"weights\": {\"number_of_events\": {\"weight_norm\": 0.00020588840848260242, \"weight\": 1}}, \"type\": \"suit\"}, {\"sourceIndex\": 6, \"targetIndex\": 12, \"weights\": {\"number_of_events\": {\"weight_norm\": 0.11756228124356599, \"weight\": 571}}, \"type\": \"suit\"}, {\"sourceIndex\": 6, \"targetIndex\": 2, \"weights\": {\"number_of_events\": {\"weight_norm\": 0.3471278567016677, \"weight\": 1686}}, \"type\": \"suit\"}, {\"sourceIndex\": 6, \"targetIndex\": 0, \"weights\": {\"number_of_events\": {\"weight_norm\": 0.06794317479925881, \"weight\": 330}}, \"type\": \"suit\"}, {\"sourceIndex\": 6, \"targetIndex\": 5, \"weights\": {\"number_of_events\": {\"weight_norm\": 0.047971999176446366, \"weight\": 233}}, \"type\": \"suit\"}, {\"sourceIndex\": 12, \"targetIndex\": 6, \"weights\": {\"number_of_events\": {\"weight_norm\": 0.35186329009676753, \"weight\": 1709}}, \"type\": \"suit\"}, {\"sourceIndex\": 12, \"targetIndex\": 12, \"weights\": {\"number_of_events\": {\"weight_norm\": 1.0, \"weight\": 4857}}, \"type\": \"suit\"}, {\"sourceIndex\": 12, \"targetIndex\": 0, \"weights\": {\"number_of_events\": {\"weight_norm\": 0.3304508956145769, \"weight\": 1605}}, \"type\": \"suit\"}, {\"sourceIndex\": 12, \"targetIndex\": 5, \"weights\": {\"number_of_events\": {\"weight_norm\": 0.5239859995882232, \"weight\": 2545}}, \"type\": \"suit\"}, {\"sourceIndex\": 12, \"targetIndex\": 4, \"weights\": {\"number_of_events\": {\"weight_norm\": 0.3119209388511427, \"weight\": 1515}}, \"type\": \"suit\"}, {\"sourceIndex\": 12, \"targetIndex\": 9, \"weights\": {\"number_of_events\": {\"weight_norm\": 0.44718962322421246, \"weight\": 2172}}, \"type\": \"suit\"}, {\"sourceIndex\": 2, \"targetIndex\": 12, \"weights\": {\"number_of_events\": {\"weight_norm\": 0.03664813670990323, \"weight\": 178}}, \"type\": \"suit\"}, {\"sourceIndex\": 2, \"targetIndex\": 8, \"weights\": {\"number_of_events\": {\"weight_norm\": 0.17171093267449042, \"weight\": 834}}, \"type\": \"suit\"}, {\"sourceIndex\": 2, \"targetIndex\": 3, \"weights\": {\"number_of_events\": {\"weight_norm\": 0.10417953469219683, \"weight\": 506}}, \"type\": \"suit\"}, {\"sourceIndex\": 2, \"targetIndex\": 0, \"weights\": {\"number_of_events\": {\"weight_norm\": 0.018941733580399425, \"weight\": 92}}, \"type\": \"suit\"}, {\"sourceIndex\": 2, \"targetIndex\": 5, \"weights\": {\"number_of_events\": {\"weight_norm\": 0.014618077002264772, \"weight\": 71}}, \"type\": \"suit\"}, {\"sourceIndex\": 8, \"targetIndex\": 0, \"weights\": {\"number_of_events\": {\"weight_norm\": 0.009470866790199713, \"weight\": 46}}, \"type\": \"suit\"}, {\"sourceIndex\": 8, \"targetIndex\": 5, \"weights\": {\"number_of_events\": {\"weight_norm\": 0.007000205888408483, \"weight\": 34}}, \"type\": \"suit\"}, {\"sourceIndex\": 8, \"targetIndex\": 7, \"weights\": {\"number_of_events\": {\"weight_norm\": 0.15482808317891703, \"weight\": 752}}, \"type\": \"suit\"}, {\"sourceIndex\": 3, \"targetIndex\": 0, \"weights\": {\"number_of_events\": {\"weight_norm\": 0.018941733580399425, \"weight\": 92}}, \"type\": \"suit\"}, {\"sourceIndex\": 3, \"targetIndex\": 5, \"weights\": {\"number_of_events\": {\"weight_norm\": 0.011529750875025736, \"weight\": 56}}, \"type\": \"suit\"}, {\"sourceIndex\": 3, \"targetIndex\": 7, \"weights\": {\"number_of_events\": {\"weight_norm\": 0.07309038501132387, \"weight\": 355}}, \"type\": \"suit\"}, {\"sourceIndex\": 5, \"targetIndex\": 12, \"weights\": {\"number_of_events\": {\"weight_norm\": 0.8367304920732963, \"weight\": 4064}}, \"type\": \"suit\"}, {\"sourceIndex\": 5, \"targetIndex\": 0, \"weights\": {\"number_of_events\": {\"weight_norm\": 0.10047354333950999, \"weight\": 488}}, \"type\": \"suit\"}, {\"sourceIndex\": 5, \"targetIndex\": 5, \"weights\": {\"number_of_events\": {\"weight_norm\": 0.21453572163887172, \"weight\": 1042}}, \"type\": \"suit\"}, {\"sourceIndex\": 10, \"targetIndex\": 0, \"weights\": {\"number_of_events\": {\"weight_norm\": 0.0067943174799258805, \"weight\": 33}}, \"type\": \"suit\"}, {\"sourceIndex\": 10, \"targetIndex\": 5, \"weights\": {\"number_of_events\": {\"weight_norm\": 0.0041177681696520484, \"weight\": 20}}, \"type\": \"suit\"}, {\"sourceIndex\": 10, \"targetIndex\": 11, \"weights\": {\"number_of_events\": {\"weight_norm\": 0.10438542310067943, \"weight\": 507}}, \"type\": \"suit\"}, {\"sourceIndex\": 1, \"targetIndex\": 0, \"weights\": {\"number_of_events\": {\"weight_norm\": 0.009059089973234506, \"weight\": 44}}, \"type\": \"suit\"}, {\"sourceIndex\": 1, \"targetIndex\": 5, \"weights\": {\"number_of_events\": {\"weight_norm\": 0.009676755198682314, \"weight\": 47}}, \"type\": \"suit\"}, {\"sourceIndex\": 1, \"targetIndex\": 11, \"weights\": {\"number_of_events\": {\"weight_norm\": 0.021412394482190653, \"weight\": 104}}, \"type\": \"suit\"}, {\"sourceIndex\": 7, \"targetIndex\": 12, \"weights\": {\"number_of_events\": {\"weight_norm\": 0.02347127856701668, \"weight\": 114}}, \"type\": \"suit\"}, {\"sourceIndex\": 7, \"targetIndex\": 0, \"weights\": {\"number_of_events\": {\"weight_norm\": 0.018324068354951616, \"weight\": 89}}, \"type\": \"suit\"}, {\"sourceIndex\": 7, \"targetIndex\": 5, \"weights\": {\"number_of_events\": {\"weight_norm\": 0.008647313156269302, \"weight\": 42}}, \"type\": \"suit\"}, {\"sourceIndex\": 7, \"targetIndex\": 10, \"weights\": {\"number_of_events\": {\"weight_norm\": 0.11632695079267037, \"weight\": 565}}, \"type\": \"suit\"}, {\"sourceIndex\": 7, \"targetIndex\": 1, \"weights\": {\"number_of_events\": {\"weight_norm\": 0.04056001647107268, \"weight\": 197}}, \"type\": \"suit\"}, {\"sourceIndex\": 7, \"targetIndex\": 11, \"weights\": {\"number_of_events\": {\"weight_norm\": 0.01955939880584723, \"weight\": 95}}, \"type\": \"suit\"}, {\"sourceIndex\": 11, \"targetIndex\": 5, \"weights\": {\"number_of_events\": {\"weight_norm\": 0.05538398188182005, \"weight\": 269}}, \"type\": \"suit\"}, {\"sourceIndex\": 4, \"targetIndex\": 6, \"weights\": {\"number_of_events\": {\"weight_norm\": 0.09717932880378835, \"weight\": 472}}, \"type\": \"suit\"}, {\"sourceIndex\": 4, \"targetIndex\": 12, \"weights\": {\"number_of_events\": {\"weight_norm\": 0.15441630636195183, \"weight\": 750}}, \"type\": \"suit\"}, {\"sourceIndex\": 4, \"targetIndex\": 0, \"weights\": {\"number_of_events\": {\"weight_norm\": 0.0335598105826642, \"weight\": 163}}, \"type\": \"suit\"}, {\"sourceIndex\": 4, \"targetIndex\": 5, \"weights\": {\"number_of_events\": {\"weight_norm\": 0.02470660901791229, \"weight\": 120}}, \"type\": \"suit\"}, {\"sourceIndex\": 9, \"targetIndex\": 6, \"weights\": {\"number_of_events\": {\"weight_norm\": 0.13588634959851761, \"weight\": 660}}, \"type\": \"suit\"}, {\"sourceIndex\": 9, \"targetIndex\": 12, \"weights\": {\"number_of_events\": {\"weight_norm\": 0.26724315421041794, \"weight\": 1298}}, \"type\": \"suit\"}, {\"sourceIndex\": 9, \"targetIndex\": 0, \"weights\": {\"number_of_events\": {\"weight_norm\": 0.02388305538398188, \"weight\": 116}}, \"type\": \"suit\"}, {\"sourceIndex\": 9, \"targetIndex\": 5, \"weights\": {\"number_of_events\": {\"weight_norm\": 0.018735845171916822, \"weight\": 91}}, \"type\": \"suit\"}],\n",
       "    nodesColsNames: ['number_of_events'],\n",
       "    linksWeightsNames: ['number_of_events'],\n",
       "    nodesThreshold: {\"number_of_events\": 0.9},\n",
       "    linksThreshold: undefined,\n",
       "    showWeights: undefined,\n",
       "    showPercents: undefined,\n",
       "    showNodesNames: undefined,\n",
       "    showAllEdgesForTargets: undefined,\n",
       "    showNodesWithoutLinks: undefined,\n",
       "    useLayoutDump: Boolean(0),\n",
       "    weightTemplate: undefined\n",
       "})\n",
       "`\n",
       "        iframeDocument.body.appendChild(initGraph)\n",
       "      })\n",
       "\n",
       "      iframeDocument.head.appendChild(graphScript)\n",
       "      iframeDocument.body.dataset.templateId = 'elD0UYC1_template'\n",
       "\n",
       "      console.info('Graph IFRAME initialized')\n",
       "    }\n",
       "\n",
       "    console.log(`Graph IFRAME loaded: ` + iframeLoaded)\n",
       "\n",
       "    if (iframeLoaded) {\n",
       "      init()\n",
       "      return\n",
       "    }\n",
       "\n",
       "    iframe.onload = () => {\n",
       "      init()\n",
       "      window.reteLoadedIframes.push('elD0UYC1')\n",
       "    }\n",
       "  })()\n",
       "</script>\n",
       "\n",
       "<template id=\"elD0UYC1_template\">\n",
       "    <!DOCTYPE html>\n",
       "<html lang=\"en\">\n",
       "<head>\n",
       "    <meta charset=\"UTF-8\"/>\n",
       "    <meta name=\"viewport\" content=\"width=device-width, initial-scale=1.0, maximum-scale=1.0, user-scalable=no\"/>\n",
       "    <meta name=\"theme-color\" content=\"#000000\"/>\n",
       "    <link rel=\"preconnect\" href=\"https://fonts.googleapis.com\"/>\n",
       "    <link crossorigin rel=\"preconnect\" href=\"https://fonts.gstatic.com\"/>\n",
       "    <link\n",
       "            crossorigin\n",
       "            href=\"https://fonts.googleapis.com/css2?family=Open+Sans:wght@400;600&display=swap\"\n",
       "            rel=\"stylesheet\"\n",
       "    />\n",
       "    <title>Retentioneering Transition Graph Application</title>\n",
       "</head>\n",
       "\n",
       "<body>\n",
       "<noscript>You need to enable JavaScript to run this app.</noscript>\n",
       "{content}\n",
       "</body>\n",
       "</html>\n",
       "</template>"
      ],
      "text/plain": [
       "<IPython.core.display.HTML object>"
      ]
     },
     "metadata": {},
     "output_type": "display_data"
    }
   ],
   "source": [
    "graph.plot_graph(norm_type=None, thresholds={'nodes': {'number_of_events': 0.9}})"
   ]
  }
 ],
 "metadata": {
  "kernelspec": {
   "display_name": "Python 3 (ipykernel)",
   "language": "python",
   "name": "python3"
  },
  "language_info": {
   "codemirror_mode": {
    "name": "ipython",
    "version": 3
   },
   "file_extension": ".py",
   "mimetype": "text/x-python",
   "name": "python",
   "nbconvert_exporter": "python",
   "pygments_lexer": "ipython3",
   "version": "3.8.13"
  }
 },
 "nbformat": 4,
 "nbformat_minor": 5
}
