{
 "cells": [
  {
   "cell_type": "code",
   "execution_count": 1,
   "id": "70596279",
   "metadata": {},
   "outputs": [],
   "source": [
    "import sys\n",
    "sys.path.insert(0, '..')"
   ]
  },
  {
   "cell_type": "code",
   "execution_count": null,
   "id": "72df8b2e",
   "metadata": {},
   "outputs": [],
   "source": [
    "from src import datasets\n",
    "stream = datasets.load_simple_shop()"
   ]
  },
  {
   "cell_type": "code",
   "execution_count": 3,
   "id": "389ae9db",
   "metadata": {},
   "outputs": [
    {
     "name": "stderr",
     "output_type": "stream",
     "text": [
      "/Users/alexeyavramenko/projects/rete/retentioneering-tools-new-arch/examples/../src/params_model/params_model.py:68: UserWarning: Callable filter was excluded from schema since JSON schema has no equivalent type.\n",
      "  params_schema: dict[str, Any] = cls.schema()\n",
      "/Users/alexeyavramenko/projects/rete/retentioneering-tools-new-arch/examples/../src/params_model/params_model.py:68: UserWarning: Callable negative_function was excluded from schema since JSON schema has no equivalent type.\n",
      "  params_schema: dict[str, Any] = cls.schema()\n",
      "/Users/alexeyavramenko/projects/rete/retentioneering-tools-new-arch/examples/../src/params_model/params_model.py:68: UserWarning: Callable positive_function was excluded from schema since JSON schema has no equivalent type.\n",
      "  params_schema: dict[str, Any] = cls.schema()\n"
     ]
    }
   ],
   "source": [
    "stream = stream.split_sessions(session_cutoff=(1, \"h\"), session_col=\"session_id\")"
   ]
  },
  {
   "cell_type": "code",
   "execution_count": 4,
   "id": "3234ecbb",
   "metadata": {},
   "outputs": [],
   "source": [
    "from src.transition_graph import TransitionGraph\n",
    "\n",
    "graph = TransitionGraph(\n",
    "    eventstream=stream,\n",
    "    graph_settings={},\n",
    "    positive_target_event=None,\n",
    "    negative_target_event=None,\n",
    "    source_event=None,\n",
    "    edgelist_default_col=\"edge_weight\",\n",
    "    nodelist_default_col=\"number_of_events\",\n",
    "    norm_type=None\n",
    ")"
   ]
  },
  {
   "cell_type": "code",
   "execution_count": 5,
   "id": "b51d3709",
   "metadata": {
    "scrolled": false
   },
   "outputs": [
    {
     "data": {
      "text/html": [
       "<iframe id=\"elB21AU2\" src=\"about:blank\" width=\"960\" height=\"900\" onload=\"window.reteLoadedIframes = window.reteLoadedIframes || []; window.reteLoadedIframes.push('elB21AU2')\">\n",
       "</iframe>\n",
       "<script>\n",
       "    (function () {\n",
       "        console.log('init graph iframe')\n",
       "        const iframe = document.getElementById(\"elB21AU2\")\n",
       "        const iframeLoaded = window.reteLoadedIframes && window.reteLoadedIframes.includes(\"elB21AU2\")\n",
       "        const init = () => {\n",
       "            console.log('graph iframe loaded')\n",
       "            const iframeDocument = document.getElementById(\"elB21AU2\").contentDocument\n",
       "            iframeDocument.body.innerHTML = '<div id=\"root\"></div>'\n",
       "            const styles = iframeDocument.createElement(\"style\")\n",
       "            styles.innerHTML = `\n",
       ".svg-watermark {\n",
       "  width: 100%;\n",
       "  font-size: 80px;\n",
       "  fill: #c2c2c2;\n",
       "  opacity: 0.3;\n",
       "  font-family: Arial;\n",
       "}\n",
       ".link {\n",
       "  fill: none;\n",
       "  stroke: #666;\n",
       "  stroke-opacity: 0.7;\n",
       "}\n",
       "text {\n",
       "  font: 12px sans-serif;\n",
       "  pointer-events: none;\n",
       "}\n",
       "circle {\n",
       "  fill: #ccc;\n",
       "  stroke: #333;\n",
       "  stroke-width: 1.5px;\n",
       "}\n",
       ".selected-node {\n",
       "  stroke: blue;\n",
       "  stroke-width: 3px;\n",
       "}\n",
       ".circle.source_node {\n",
       "  fill: #f3f310;\n",
       "}\n",
       ".circle.nice_node {\n",
       "  fill: green;\n",
       "}\n",
       ".circle.bad_node {\n",
       "  fill: red;\n",
       "}\n",
       ".link.source {\n",
       "  stroke: #f3f310;\n",
       "}\n",
       ".link.nice {\n",
       "  stroke: green;\n",
       "}\n",
       ".link.bad {\n",
       "  stroke: red;\n",
       "}\n",
       "`\n",
       "            const graphScript = iframeDocument.createElement(\"script\")\n",
       "            graphScript.src = `https://static.server.retentioneering.com/viztools/transition-graph/v3/transition-graph.umd.js`\n",
       "            graphScript.addEventListener(\"load\", () => {\n",
       "                console.log('graph lib loaded')\n",
       "                const initGraph = iframeDocument.createElement(\"script\")\n",
       "                initGraph.innerHTML = `\n",
       "    initalize({\n",
       "    serverId: 'df3b9765-f62c-4108-9b4b-9862de63fc8e',\n",
       "    env: 'classic',\n",
       "    configNodes: [{\"index\": 0, \"name\": \"session_start\", \"degree\": {\"number_of_events\": {\"degree\": 17.330348532855766, \"source\": 6451}, \"session_id\": {\"degree\": 34.0, \"source\": 6451}}, \"type\": \"suit_node\", \"active\": true, \"alias\": false, \"parent\": null, \"changed_name\": null, \"x\": 328.4631083016764, \"y\": 165.1413242430356}, {\"index\": 1, \"name\": \"main\", \"degree\": {\"number_of_events\": {\"degree\": 15.644165863066538, \"source\": 5635}, \"session_id\": {\"degree\": 24.15966516819098, \"source\": 4335}}, \"type\": \"suit_node\", \"active\": true, \"alias\": false, \"parent\": null, \"changed_name\": null, \"x\": 297.2949090031311, \"y\": 167.6288502296946}, {\"index\": 2, \"name\": \"cart\", \"degree\": {\"number_of_events\": {\"degree\": 9.872709739633558, \"source\": 2842}, \"session_id\": {\"degree\": 15.416834599286933, \"source\": 2455}}, \"type\": \"suit_node\", \"active\": true, \"alias\": false, \"parent\": null, \"changed_name\": null, \"x\": 538.8700773349466, \"y\": 394.5133257857548}, {\"index\": 3, \"name\": \"session_end\", \"degree\": {\"number_of_events\": {\"degree\": 17.330348532855766, \"source\": 6451}, \"session_id\": {\"degree\": 34.0, \"source\": 6451}}, \"type\": \"suit_node\", \"active\": true, \"alias\": false, \"parent\": null, \"changed_name\": null, \"x\": 199.74524894002366, \"y\": 76.44828660559558}, {\"index\": 4, \"name\": \"payment_choice\", \"degree\": {\"number_of_events\": {\"degree\": 6.287505166000827, \"source\": 1107}, \"session_id\": {\"degree\": 9.017826693535886, \"source\": 1079}}, \"type\": \"suit_node\", \"active\": true, \"alias\": false, \"parent\": null, \"changed_name\": null, \"x\": 538.8074361828199, \"y\": 719.9881217381633}, {\"index\": 5, \"name\": \"delivery_courier\", \"degree\": {\"number_of_events\": {\"degree\": 5.72337787574046, \"source\": 834}, \"session_id\": {\"degree\": 7.836614478375445, \"source\": 825}}, \"type\": \"suit_node\", \"active\": true, \"alias\": false, \"parent\": null, \"changed_name\": null, \"x\": 885.0, \"y\": 701.6436050700473}, {\"index\": 6, \"name\": \"delivery_choice\", \"degree\": {\"number_of_events\": {\"degree\": 7.483950957432153, \"source\": 1686}, \"session_id\": {\"degree\": 11.477910401488142, \"source\": 1608}}, \"type\": \"suit_node\", \"active\": true, \"alias\": false, \"parent\": null, \"changed_name\": null, \"x\": 699.3821979211825, \"y\": 562.5245467387489}, {\"index\": 7, \"name\": \"catalog\", \"degree\": {\"number_of_events\": {\"degree\": 34.0, \"source\": 14518}, \"session_id\": {\"degree\": 29.754146643931172, \"source\": 5538}}, \"type\": \"suit_node\", \"active\": true, \"alias\": false, \"parent\": null, \"changed_name\": null, \"x\": 390.8706596441751, \"y\": 205.2141622290466}, {\"index\": 8, \"name\": \"delivery_pickup\", \"degree\": {\"number_of_events\": {\"degree\": 5.045598567295771, \"source\": 506}, \"session_id\": {\"degree\": 6.334521779569059, \"source\": 502}}, \"type\": \"suit_node\", \"active\": true, \"alias\": false, \"parent\": null, \"changed_name\": null, \"x\": 489.23872749104254, \"y\": 835.5774642627847}, {\"index\": 9, \"name\": \"product2\", \"degree\": {\"number_of_events\": {\"degree\": 8.488221518115443, \"source\": 2172}, \"session_id\": {\"degree\": 11.989458998604867, \"source\": 1718}}, \"type\": \"suit_node\", \"active\": true, \"alias\": false, \"parent\": null, \"changed_name\": null, \"x\": 606.2639079590407, \"y\": 199.0350032462999}, {\"index\": 10, \"name\": \"payment_card\", \"degree\": {\"number_of_events\": {\"degree\": 5.16751618680259, \"source\": 565}, \"session_id\": {\"degree\": 6.627499612463184, \"source\": 565}}, \"type\": \"suit_node\", \"active\": true, \"alias\": false, \"parent\": null, \"changed_name\": null, \"x\": 617.7871885515632, \"y\": 651.3331555053848}, {\"index\": 11, \"name\": \"payment_cash\", \"degree\": {\"number_of_events\": {\"degree\": 4.407080865132938, \"source\": 197}, \"session_id\": {\"degree\": 4.916137033018137, \"source\": 197}}, \"type\": \"suit_node\", \"active\": true, \"alias\": false, \"parent\": null, \"changed_name\": null, \"x\": 832.9301568270479, \"y\": 850.0}, {\"index\": 12, \"name\": \"lost\", \"degree\": {\"number_of_events\": {\"degree\": 10.401708224273316, \"source\": 3098}, \"session_id\": {\"degree\": 18.407068671523795, \"source\": 3098}}, \"type\": \"suit_node\", \"active\": true, \"alias\": false, \"parent\": null, \"changed_name\": null, \"x\": 75.0, \"y\": 214.99217697294327}, {\"index\": 13, \"name\": \"product1\", \"degree\": {\"number_of_events\": {\"degree\": 7.13059650089544, \"source\": 1515}, \"session_id\": {\"degree\": 10.050224771353278, \"source\": 1301}}, \"type\": \"suit_node\", \"active\": true, \"alias\": false, \"parent\": null, \"changed_name\": null, \"x\": 501.5006005650359, \"y\": 50.0}, {\"index\": 14, \"name\": \"payment_done\", \"degree\": {\"number_of_events\": {\"degree\": 5.458878633420581, \"source\": 706}, \"session_id\": {\"degree\": 7.283211905130988, \"source\": 706}}, \"type\": \"suit_node\", \"active\": true, \"alias\": false, \"parent\": null, \"changed_name\": null, \"x\": 149.33071494746585, \"y\": 464.61744032394074}],\n",
       "    configLinks: [{\"sourceIndex\": 2, \"targetIndex\": 2, \"weights\": {\"number_of_events\": {\"weight_norm\": 0.00020588840848260242, \"weight\": 1}, \"session_id\": {\"weight_norm\": 0.0002656042496679947, \"weight\": 1}}, \"type\": \"suit\"}, {\"sourceIndex\": 2, \"targetIndex\": 7, \"weights\": {\"number_of_events\": {\"weight_norm\": 0.11756228124356599, \"weight\": 571}, \"session_id\": {\"weight_norm\": 0.13678618857901725, \"weight\": 515}}, \"type\": \"suit\"}, {\"sourceIndex\": 2, \"targetIndex\": 6, \"weights\": {\"number_of_events\": {\"weight_norm\": 0.3471278567016677, \"weight\": 1686}, \"session_id\": {\"weight_norm\": 0.42709163346613543, \"weight\": 1608}}, \"type\": \"suit\"}, {\"sourceIndex\": 2, \"targetIndex\": 12, \"weights\": {\"number_of_events\": {\"weight_norm\": 0.06794317479925881, \"weight\": 330}, \"session_id\": {\"weight_norm\": 0.08764940239043825, \"weight\": 330}}, \"type\": \"suit\"}, {\"sourceIndex\": 2, \"targetIndex\": 3, \"weights\": {\"number_of_events\": {\"weight_norm\": 0.05229565575458102, \"weight\": 254}, \"session_id\": {\"weight_norm\": 0.06746347941567066, \"weight\": 254}}, \"type\": \"suit\"}, {\"sourceIndex\": 7, \"targetIndex\": 2, \"weights\": {\"number_of_events\": {\"weight_norm\": 0.35186329009676753, \"weight\": 1709}, \"session_id\": {\"weight_norm\": 0.4156706507304117, \"weight\": 1565}}, \"type\": \"suit\"}, {\"sourceIndex\": 7, \"targetIndex\": 7, \"weights\": {\"number_of_events\": {\"weight_norm\": 1.0, \"weight\": 4857}, \"session_id\": {\"weight_norm\": 0.6775564409030544, \"weight\": 2551}}, \"type\": \"suit\"}, {\"sourceIndex\": 7, \"targetIndex\": 12, \"weights\": {\"number_of_events\": {\"weight_norm\": 0.3304508956145769, \"weight\": 1605}, \"session_id\": {\"weight_norm\": 0.4262948207171315, \"weight\": 1605}}, \"type\": \"suit\"}, {\"sourceIndex\": 7, \"targetIndex\": 1, \"weights\": {\"number_of_events\": {\"weight_norm\": 0.29112620959439983, \"weight\": 1414}, \"session_id\": {\"weight_norm\": 0.3046480743691899, \"weight\": 1147}}, \"type\": \"suit\"}, {\"sourceIndex\": 7, \"targetIndex\": 13, \"weights\": {\"number_of_events\": {\"weight_norm\": 0.3119209388511427, \"weight\": 1515}, \"session_id\": {\"weight_norm\": 0.3455511288180611, \"weight\": 1301}}, \"type\": \"suit\"}, {\"sourceIndex\": 7, \"targetIndex\": 9, \"weights\": {\"number_of_events\": {\"weight_norm\": 0.44718962322421246, \"weight\": 2172}, \"session_id\": {\"weight_norm\": 0.4563081009296149, \"weight\": 1718}}, \"type\": \"suit\"}, {\"sourceIndex\": 7, \"targetIndex\": 3, \"weights\": {\"number_of_events\": {\"weight_norm\": 0.2565369569693226, \"weight\": 1246}, \"session_id\": {\"weight_norm\": 0.33094289508632135, \"weight\": 1246}}, \"type\": \"suit\"}, {\"sourceIndex\": 6, \"targetIndex\": 7, \"weights\": {\"number_of_events\": {\"weight_norm\": 0.03664813670990323, \"weight\": 178}, \"session_id\": {\"weight_norm\": 0.04674634794156707, \"weight\": 176}}, \"type\": \"suit\"}, {\"sourceIndex\": 6, \"targetIndex\": 5, \"weights\": {\"number_of_events\": {\"weight_norm\": 0.17171093267449042, \"weight\": 834}, \"session_id\": {\"weight_norm\": 0.21912350597609562, \"weight\": 825}}, \"type\": \"suit\"}, {\"sourceIndex\": 6, \"targetIndex\": 8, \"weights\": {\"number_of_events\": {\"weight_norm\": 0.10417953469219683, \"weight\": 506}, \"session_id\": {\"weight_norm\": 0.13333333333333333, \"weight\": 502}}, \"type\": \"suit\"}, {\"sourceIndex\": 6, \"targetIndex\": 12, \"weights\": {\"number_of_events\": {\"weight_norm\": 0.018941733580399425, \"weight\": 92}, \"session_id\": {\"weight_norm\": 0.024435590969455512, \"weight\": 92}}, \"type\": \"suit\"}, {\"sourceIndex\": 6, \"targetIndex\": 3, \"weights\": {\"number_of_events\": {\"weight_norm\": 0.015647519044677784, \"weight\": 76}, \"session_id\": {\"weight_norm\": 0.020185922974767595, \"weight\": 76}}, \"type\": \"suit\"}, {\"sourceIndex\": 5, \"targetIndex\": 12, \"weights\": {\"number_of_events\": {\"weight_norm\": 0.009470866790199713, \"weight\": 46}, \"session_id\": {\"weight_norm\": 0.012217795484727756, \"weight\": 46}}, \"type\": \"suit\"}, {\"sourceIndex\": 5, \"targetIndex\": 1, \"weights\": {\"number_of_events\": {\"weight_norm\": 0.00020588840848260242, \"weight\": 1}, \"session_id\": {\"weight_norm\": 0.0002656042496679947, \"weight\": 1}}, \"type\": \"suit\"}, {\"sourceIndex\": 5, \"targetIndex\": 4, \"weights\": {\"number_of_events\": {\"weight_norm\": 0.15482808317891703, \"weight\": 752}, \"session_id\": {\"weight_norm\": 0.19760956175298805, \"weight\": 744}}, \"type\": \"suit\"}, {\"sourceIndex\": 5, \"targetIndex\": 3, \"weights\": {\"number_of_events\": {\"weight_norm\": 0.007206094296891085, \"weight\": 35}, \"session_id\": {\"weight_norm\": 0.009296148738379814, \"weight\": 35}}, \"type\": \"suit\"}, {\"sourceIndex\": 8, \"targetIndex\": 12, \"weights\": {\"number_of_events\": {\"weight_norm\": 0.018941733580399425, \"weight\": 92}, \"session_id\": {\"weight_norm\": 0.024435590969455512, \"weight\": 92}}, \"type\": \"suit\"}, {\"sourceIndex\": 8, \"targetIndex\": 4, \"weights\": {\"number_of_events\": {\"weight_norm\": 0.07309038501132387, \"weight\": 355}, \"session_id\": {\"weight_norm\": 0.09322709163346614, \"weight\": 351}}, \"type\": \"suit\"}, {\"sourceIndex\": 8, \"targetIndex\": 3, \"weights\": {\"number_of_events\": {\"weight_norm\": 0.012147416100473544, \"weight\": 59}, \"session_id\": {\"weight_norm\": 0.015670650730411687, \"weight\": 59}}, \"type\": \"suit\"}, {\"sourceIndex\": 12, \"targetIndex\": 3, \"weights\": {\"number_of_events\": {\"weight_norm\": 0.6378422894791024, \"weight\": 3098}, \"session_id\": {\"weight_norm\": 0.8228419654714475, \"weight\": 3098}}, \"type\": \"suit\"}, {\"sourceIndex\": 1, \"targetIndex\": 7, \"weights\": {\"number_of_events\": {\"weight_norm\": 0.8367304920732963, \"weight\": 4064}, \"session_id\": {\"weight_norm\": 0.8810092961487384, \"weight\": 3317}}, \"type\": \"suit\"}, {\"sourceIndex\": 1, \"targetIndex\": 12, \"weights\": {\"number_of_events\": {\"weight_norm\": 0.10047354333950999, \"weight\": 488}, \"session_id\": {\"weight_norm\": 0.1296148738379814, \"weight\": 488}}, \"type\": \"suit\"}, {\"sourceIndex\": 1, \"targetIndex\": 1, \"weights\": {\"number_of_events\": {\"weight_norm\": 0.0932674490426189, \"weight\": 453}, \"session_id\": {\"weight_norm\": 0.10624169986719788, \"weight\": 400}}, \"type\": \"suit\"}, {\"sourceIndex\": 1, \"targetIndex\": 3, \"weights\": {\"number_of_events\": {\"weight_norm\": 0.12970969734403953, \"weight\": 630}, \"session_id\": {\"weight_norm\": 0.16733067729083664, \"weight\": 630}}, \"type\": \"suit\"}, {\"sourceIndex\": 10, \"targetIndex\": 12, \"weights\": {\"number_of_events\": {\"weight_norm\": 0.0067943174799258805, \"weight\": 33}, \"session_id\": {\"weight_norm\": 0.008764940239043825, \"weight\": 33}}, \"type\": \"suit\"}, {\"sourceIndex\": 10, \"targetIndex\": 14, \"weights\": {\"number_of_events\": {\"weight_norm\": 0.10438542310067943, \"weight\": 507}, \"session_id\": {\"weight_norm\": 0.1346613545816733, \"weight\": 507}}, \"type\": \"suit\"}, {\"sourceIndex\": 10, \"targetIndex\": 3, \"weights\": {\"number_of_events\": {\"weight_norm\": 0.005147210212065061, \"weight\": 25}, \"session_id\": {\"weight_norm\": 0.006640106241699867, \"weight\": 25}}, \"type\": \"suit\"}, {\"sourceIndex\": 11, \"targetIndex\": 12, \"weights\": {\"number_of_events\": {\"weight_norm\": 0.009059089973234506, \"weight\": 44}, \"session_id\": {\"weight_norm\": 0.011686586985391767, \"weight\": 44}}, \"type\": \"suit\"}, {\"sourceIndex\": 11, \"targetIndex\": 14, \"weights\": {\"number_of_events\": {\"weight_norm\": 0.021412394482190653, \"weight\": 104}, \"session_id\": {\"weight_norm\": 0.027622841965471448, \"weight\": 104}}, \"type\": \"suit\"}, {\"sourceIndex\": 11, \"targetIndex\": 3, \"weights\": {\"number_of_events\": {\"weight_norm\": 0.010088532015647519, \"weight\": 49}, \"session_id\": {\"weight_norm\": 0.01301460823373174, \"weight\": 49}}, \"type\": \"suit\"}, {\"sourceIndex\": 4, \"targetIndex\": 7, \"weights\": {\"number_of_events\": {\"weight_norm\": 0.02347127856701668, \"weight\": 114}, \"session_id\": {\"weight_norm\": 0.029216467463479414, \"weight\": 110}}, \"type\": \"suit\"}, {\"sourceIndex\": 4, \"targetIndex\": 12, \"weights\": {\"number_of_events\": {\"weight_norm\": 0.018324068354951616, \"weight\": 89}, \"session_id\": {\"weight_norm\": 0.023638778220451528, \"weight\": 89}}, \"type\": \"suit\"}, {\"sourceIndex\": 4, \"targetIndex\": 10, \"weights\": {\"number_of_events\": {\"weight_norm\": 0.11632695079267037, \"weight\": 565}, \"session_id\": {\"weight_norm\": 0.150066401062417, \"weight\": 565}}, \"type\": \"suit\"}, {\"sourceIndex\": 4, \"targetIndex\": 11, \"weights\": {\"number_of_events\": {\"weight_norm\": 0.04056001647107268, \"weight\": 197}, \"session_id\": {\"weight_norm\": 0.052324037184594954, \"weight\": 197}}, \"type\": \"suit\"}, {\"sourceIndex\": 4, \"targetIndex\": 14, \"weights\": {\"number_of_events\": {\"weight_norm\": 0.01955939880584723, \"weight\": 95}, \"session_id\": {\"weight_norm\": 0.025232403718459494, \"weight\": 95}}, \"type\": \"suit\"}, {\"sourceIndex\": 4, \"targetIndex\": 3, \"weights\": {\"number_of_events\": {\"weight_norm\": 0.009676755198682314, \"weight\": 47}, \"session_id\": {\"weight_norm\": 0.01248339973439575, \"weight\": 47}}, \"type\": \"suit\"}, {\"sourceIndex\": 14, \"targetIndex\": 1, \"weights\": {\"number_of_events\": {\"weight_norm\": 0.00020588840848260242, \"weight\": 1}, \"session_id\": {\"weight_norm\": 0.0002656042496679947, \"weight\": 1}}, \"type\": \"suit\"}, {\"sourceIndex\": 14, \"targetIndex\": 3, \"weights\": {\"number_of_events\": {\"weight_norm\": 0.14515132798023472, \"weight\": 705}, \"session_id\": {\"weight_norm\": 0.18725099601593626, \"weight\": 705}}, \"type\": \"suit\"}, {\"sourceIndex\": 13, \"targetIndex\": 2, \"weights\": {\"number_of_events\": {\"weight_norm\": 0.09717932880378835, \"weight\": 472}, \"session_id\": {\"weight_norm\": 0.12084993359893759, \"weight\": 455}}, \"type\": \"suit\"}, {\"sourceIndex\": 13, \"targetIndex\": 7, \"weights\": {\"number_of_events\": {\"weight_norm\": 0.15441630636195183, \"weight\": 750}, \"session_id\": {\"weight_norm\": 0.17636122177954847, \"weight\": 664}}, \"type\": \"suit\"}, {\"sourceIndex\": 13, \"targetIndex\": 12, \"weights\": {\"number_of_events\": {\"weight_norm\": 0.0335598105826642, \"weight\": 163}, \"session_id\": {\"weight_norm\": 0.04329349269588313, \"weight\": 163}}, \"type\": \"suit\"}, {\"sourceIndex\": 13, \"targetIndex\": 1, \"weights\": {\"number_of_events\": {\"weight_norm\": 0.00020588840848260242, \"weight\": 1}, \"session_id\": {\"weight_norm\": 0.0002656042496679947, \"weight\": 1}}, \"type\": \"suit\"}, {\"sourceIndex\": 13, \"targetIndex\": 3, \"weights\": {\"number_of_events\": {\"weight_norm\": 0.026559604694255712, \"weight\": 129}, \"session_id\": {\"weight_norm\": 0.034262948207171316, \"weight\": 129}}, \"type\": \"suit\"}, {\"sourceIndex\": 9, \"targetIndex\": 2, \"weights\": {\"number_of_events\": {\"weight_norm\": 0.13588634959851761, \"weight\": 660}, \"session_id\": {\"weight_norm\": 0.16653386454183267, \"weight\": 627}}, \"type\": \"suit\"}, {\"sourceIndex\": 9, \"targetIndex\": 7, \"weights\": {\"number_of_events\": {\"weight_norm\": 0.26724315421041794, \"weight\": 1298}, \"session_id\": {\"weight_norm\": 0.28233731739707835, \"weight\": 1063}}, \"type\": \"suit\"}, {\"sourceIndex\": 9, \"targetIndex\": 12, \"weights\": {\"number_of_events\": {\"weight_norm\": 0.02388305538398188, \"weight\": 116}, \"session_id\": {\"weight_norm\": 0.030810092961487383, \"weight\": 116}}, \"type\": \"suit\"}, {\"sourceIndex\": 9, \"targetIndex\": 3, \"weights\": {\"number_of_events\": {\"weight_norm\": 0.020177064031295038, \"weight\": 98}, \"session_id\": {\"weight_norm\": 0.02602921646746348, \"weight\": 98}}, \"type\": \"suit\"}, {\"sourceIndex\": 3, \"targetIndex\": 0, \"weights\": {\"number_of_events\": {\"weight_norm\": 0.5558987029030266, \"weight\": 2700}, \"session_id\": {\"weight_norm\": 0.7171314741035857, \"weight\": 2700}}, \"type\": \"suit\"}, {\"sourceIndex\": 0, \"targetIndex\": 7, \"weights\": {\"number_of_events\": {\"weight_norm\": 0.5530162651842702, \"weight\": 2686}, \"session_id\": {\"weight_norm\": 0.7134130146082337, \"weight\": 2686}}, \"type\": \"suit\"}, {\"sourceIndex\": 0, \"targetIndex\": 1, \"weights\": {\"number_of_events\": {\"weight_norm\": 0.7751698579369981, \"weight\": 3765}, \"session_id\": {\"weight_norm\": 1.0, \"weight\": 3765}}, \"type\": \"suit\"}],\n",
       "    nodesColsNames: ['number_of_events', 'session_id'],\n",
       "    linksWeightsNames: ['number_of_events', 'session_id'],\n",
       "    nodesThreshold: undefined,\n",
       "    linksThreshold: undefined,\n",
       "    showWeights: undefined,\n",
       "    showPercents: undefined,\n",
       "    showNodesNames: undefined,\n",
       "    showAllEdgesForTargets: undefined,\n",
       "    showNodesWithoutLinks: undefined,\n",
       "    useLayoutDump: Boolean(0),\n",
       "    weightTemplate: undefined\n",
       "})\n",
       "`\n",
       "                iframeDocument.body.appendChild(initGraph)\n",
       "            })\n",
       "            iframeDocument.head.appendChild(styles)\n",
       "            iframeDocument.head.appendChild(graphScript)\n",
       "            iframeDocument.body.dataset.templateId = \"elB21AU2_template\"\n",
       "            console.log('init graph iframe end')\n",
       "        }\n",
       "        console.log(`iframe loaded: ` + iframeLoaded)\n",
       "        if (iframeLoaded) {\n",
       "            init()\n",
       "            return\n",
       "        }\n",
       "        iframe.onload = () => {\n",
       "            init()\n",
       "            window.reteLoadedIframes.push(\"elB21AU2\")\n",
       "        }\n",
       "    })()\n",
       "</script>\n",
       "<template id=\"elB21AU2_template\">\n",
       "    <!DOCTYPE html>\n",
       "<html lang=\"en\">\n",
       "<head>\n",
       "    <meta charset=\"utf-8\">\n",
       "    <title>Rete graph</title>\n",
       "    <meta name=\"viewport\" content=\"width=device-width, initial-scale=1\">\n",
       "</head>\n",
       "<body>\n",
       "{content}\n",
       "</body>\n",
       "</html>\n",
       "</template>"
      ],
      "text/plain": [
       "<IPython.core.display.HTML object>"
      ]
     },
     "metadata": {},
     "output_type": "display_data"
    }
   ],
   "source": [
    "graph.plot_graph(links_threshold=None, nodes_threshold=None, targets=None)"
   ]
  },
  {
   "cell_type": "code",
   "execution_count": 5,
   "id": "afb6c7de",
   "metadata": {
    "scrolled": false
   },
   "outputs": [],
   "source": [
    "tmp_data"
   ]
  }
 ],
 "metadata": {
  "kernelspec": {
   "display_name": "Python 3 (ipykernel)",
   "language": "python",
   "name": "python3"
  },
  "language_info": {
   "codemirror_mode": {
    "name": "ipython",
    "version": 3
   },
   "file_extension": ".py",
   "mimetype": "text/x-python",
   "name": "python",
   "nbconvert_exporter": "python",
   "pygments_lexer": "ipython3",
   "version": "3.10.8"
  }
 },
 "nbformat": 4,
 "nbformat_minor": 5
}
