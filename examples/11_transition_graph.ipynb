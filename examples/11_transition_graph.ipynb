{
   "cells": [
      {
         "cell_type": "code",
         "execution_count": 1,
         "id": "70596279",
         "metadata": {},
         "outputs": [],
         "source": [
            "import sys\n",
            "sys.path.insert(0, '..')"
         ]
      },
      {
         "cell_type": "code",
         "execution_count": null,
         "outputs": [],
         "source": [],
         "metadata": {
            "collapsed": false
         }
      },
      {
         "cell_type": "code",
         "execution_count": 2,
         "id": "72df8b2e",
         "metadata": {},
         "outputs": [],
         "source": [
            "from retentioneering import datasets\n",
            "stream = datasets.load_simple_shop()"
         ]
      },
      {
         "cell_type": "code",
         "execution_count": 3,
         "outputs": [
            {
               "data": {
                  "text/plain": "                    cart  catalog  delivery_choice    lost    main  product1  \\\ncart                 1.0    571.0           1686.0   330.0   233.0       0.0   \ncatalog           1709.0   4857.0              0.0  1605.0  2545.0    1515.0   \ndelivery_choice      0.0    178.0              0.0    92.0    71.0       0.0   \nlost                 0.0      0.0              0.0     0.0     0.0       0.0   \nmain                 0.0   4064.0              0.0   488.0  1042.0       0.0   \nproduct1           472.0    750.0              0.0   163.0   120.0       0.0   \nproduct2           660.0   1298.0              0.0   116.0    91.0       0.0   \ndelivery_courier     0.0      0.0              0.0    46.0    34.0       0.0   \ndelivery_pickup      0.0      0.0              0.0    92.0    56.0       0.0   \npayment_choice       0.0    114.0              0.0    89.0    42.0       0.0   \npayment_card         0.0      0.0              0.0    33.0    20.0       0.0   \npayment_done         0.0      0.0              0.0     0.0   269.0       0.0   \npayment_cash         0.0      0.0              0.0    44.0    47.0       0.0   \n\n                  product2  delivery_courier  delivery_pickup  payment_choice  \\\ncart                   0.0               0.0              0.0             0.0   \ncatalog             2172.0               0.0              0.0             0.0   \ndelivery_choice        0.0             834.0            506.0             0.0   \nlost                   0.0               0.0              0.0             0.0   \nmain                   0.0               0.0              0.0             0.0   \nproduct1               0.0               0.0              0.0             0.0   \nproduct2               0.0               0.0              0.0             0.0   \ndelivery_courier       0.0               0.0              0.0           752.0   \ndelivery_pickup        0.0               0.0              0.0           355.0   \npayment_choice         0.0               0.0              0.0             0.0   \npayment_card           0.0               0.0              0.0             0.0   \npayment_done           0.0               0.0              0.0             0.0   \npayment_cash           0.0               0.0              0.0             0.0   \n\n                  payment_card  payment_done  payment_cash  \ncart                       0.0           0.0           0.0  \ncatalog                    0.0           0.0           0.0  \ndelivery_choice            0.0           0.0           0.0  \nlost                       0.0           0.0           0.0  \nmain                       0.0           0.0           0.0  \nproduct1                   0.0           0.0           0.0  \nproduct2                   0.0           0.0           0.0  \ndelivery_courier           0.0           0.0           0.0  \ndelivery_pickup            0.0           0.0           0.0  \npayment_choice           565.0          95.0         197.0  \npayment_card               0.0         507.0           0.0  \npayment_done               0.0           0.0           0.0  \npayment_cash               0.0         104.0           0.0  ",
                  "text/html": "<div>\n<style scoped>\n    .dataframe tbody tr th:only-of-type {\n        vertical-align: middle;\n    }\n\n    .dataframe tbody tr th {\n        vertical-align: top;\n    }\n\n    .dataframe thead th {\n        text-align: right;\n    }\n</style>\n<table border=\"1\" class=\"dataframe\">\n  <thead>\n    <tr style=\"text-align: right;\">\n      <th></th>\n      <th>cart</th>\n      <th>catalog</th>\n      <th>delivery_choice</th>\n      <th>lost</th>\n      <th>main</th>\n      <th>product1</th>\n      <th>product2</th>\n      <th>delivery_courier</th>\n      <th>delivery_pickup</th>\n      <th>payment_choice</th>\n      <th>payment_card</th>\n      <th>payment_done</th>\n      <th>payment_cash</th>\n    </tr>\n  </thead>\n  <tbody>\n    <tr>\n      <th>cart</th>\n      <td>1.0</td>\n      <td>571.0</td>\n      <td>1686.0</td>\n      <td>330.0</td>\n      <td>233.0</td>\n      <td>0.0</td>\n      <td>0.0</td>\n      <td>0.0</td>\n      <td>0.0</td>\n      <td>0.0</td>\n      <td>0.0</td>\n      <td>0.0</td>\n      <td>0.0</td>\n    </tr>\n    <tr>\n      <th>catalog</th>\n      <td>1709.0</td>\n      <td>4857.0</td>\n      <td>0.0</td>\n      <td>1605.0</td>\n      <td>2545.0</td>\n      <td>1515.0</td>\n      <td>2172.0</td>\n      <td>0.0</td>\n      <td>0.0</td>\n      <td>0.0</td>\n      <td>0.0</td>\n      <td>0.0</td>\n      <td>0.0</td>\n    </tr>\n    <tr>\n      <th>delivery_choice</th>\n      <td>0.0</td>\n      <td>178.0</td>\n      <td>0.0</td>\n      <td>92.0</td>\n      <td>71.0</td>\n      <td>0.0</td>\n      <td>0.0</td>\n      <td>834.0</td>\n      <td>506.0</td>\n      <td>0.0</td>\n      <td>0.0</td>\n      <td>0.0</td>\n      <td>0.0</td>\n    </tr>\n    <tr>\n      <th>lost</th>\n      <td>0.0</td>\n      <td>0.0</td>\n      <td>0.0</td>\n      <td>0.0</td>\n      <td>0.0</td>\n      <td>0.0</td>\n      <td>0.0</td>\n      <td>0.0</td>\n      <td>0.0</td>\n      <td>0.0</td>\n      <td>0.0</td>\n      <td>0.0</td>\n      <td>0.0</td>\n    </tr>\n    <tr>\n      <th>main</th>\n      <td>0.0</td>\n      <td>4064.0</td>\n      <td>0.0</td>\n      <td>488.0</td>\n      <td>1042.0</td>\n      <td>0.0</td>\n      <td>0.0</td>\n      <td>0.0</td>\n      <td>0.0</td>\n      <td>0.0</td>\n      <td>0.0</td>\n      <td>0.0</td>\n      <td>0.0</td>\n    </tr>\n    <tr>\n      <th>product1</th>\n      <td>472.0</td>\n      <td>750.0</td>\n      <td>0.0</td>\n      <td>163.0</td>\n      <td>120.0</td>\n      <td>0.0</td>\n      <td>0.0</td>\n      <td>0.0</td>\n      <td>0.0</td>\n      <td>0.0</td>\n      <td>0.0</td>\n      <td>0.0</td>\n      <td>0.0</td>\n    </tr>\n    <tr>\n      <th>product2</th>\n      <td>660.0</td>\n      <td>1298.0</td>\n      <td>0.0</td>\n      <td>116.0</td>\n      <td>91.0</td>\n      <td>0.0</td>\n      <td>0.0</td>\n      <td>0.0</td>\n      <td>0.0</td>\n      <td>0.0</td>\n      <td>0.0</td>\n      <td>0.0</td>\n      <td>0.0</td>\n    </tr>\n    <tr>\n      <th>delivery_courier</th>\n      <td>0.0</td>\n      <td>0.0</td>\n      <td>0.0</td>\n      <td>46.0</td>\n      <td>34.0</td>\n      <td>0.0</td>\n      <td>0.0</td>\n      <td>0.0</td>\n      <td>0.0</td>\n      <td>752.0</td>\n      <td>0.0</td>\n      <td>0.0</td>\n      <td>0.0</td>\n    </tr>\n    <tr>\n      <th>delivery_pickup</th>\n      <td>0.0</td>\n      <td>0.0</td>\n      <td>0.0</td>\n      <td>92.0</td>\n      <td>56.0</td>\n      <td>0.0</td>\n      <td>0.0</td>\n      <td>0.0</td>\n      <td>0.0</td>\n      <td>355.0</td>\n      <td>0.0</td>\n      <td>0.0</td>\n      <td>0.0</td>\n    </tr>\n    <tr>\n      <th>payment_choice</th>\n      <td>0.0</td>\n      <td>114.0</td>\n      <td>0.0</td>\n      <td>89.0</td>\n      <td>42.0</td>\n      <td>0.0</td>\n      <td>0.0</td>\n      <td>0.0</td>\n      <td>0.0</td>\n      <td>0.0</td>\n      <td>565.0</td>\n      <td>95.0</td>\n      <td>197.0</td>\n    </tr>\n    <tr>\n      <th>payment_card</th>\n      <td>0.0</td>\n      <td>0.0</td>\n      <td>0.0</td>\n      <td>33.0</td>\n      <td>20.0</td>\n      <td>0.0</td>\n      <td>0.0</td>\n      <td>0.0</td>\n      <td>0.0</td>\n      <td>0.0</td>\n      <td>0.0</td>\n      <td>507.0</td>\n      <td>0.0</td>\n    </tr>\n    <tr>\n      <th>payment_done</th>\n      <td>0.0</td>\n      <td>0.0</td>\n      <td>0.0</td>\n      <td>0.0</td>\n      <td>269.0</td>\n      <td>0.0</td>\n      <td>0.0</td>\n      <td>0.0</td>\n      <td>0.0</td>\n      <td>0.0</td>\n      <td>0.0</td>\n      <td>0.0</td>\n      <td>0.0</td>\n    </tr>\n    <tr>\n      <th>payment_cash</th>\n      <td>0.0</td>\n      <td>0.0</td>\n      <td>0.0</td>\n      <td>44.0</td>\n      <td>47.0</td>\n      <td>0.0</td>\n      <td>0.0</td>\n      <td>0.0</td>\n      <td>0.0</td>\n      <td>0.0</td>\n      <td>0.0</td>\n      <td>104.0</td>\n      <td>0.0</td>\n    </tr>\n  </tbody>\n</table>\n</div>"
               },
               "metadata": {},
               "output_type": "display_data"
            },
            {
               "data": {
                  "text/plain": "<retentioneering.tooling.adjacency_matrix.adjacency_matrix.AdjacencyMatrix at 0x7f3565433d30>"
               },
               "execution_count": 3,
               "metadata": {},
               "output_type": "execute_result"
            }
         ],
         "source": [
            "stream.transition_adjacency()"
         ],
         "metadata": {
            "collapsed": false
         }
      },
      {
         "cell_type": "code",
         "execution_count": 3,
         "outputs": [
            {
               "data": {
                  "text/plain": "                    cart  catalog  delivery_choice    lost    main  product1  \\\ncart                 1.0    571.0           1686.0   330.0   233.0       0.0   \ncatalog           1709.0   4857.0              0.0  1605.0  2545.0    1515.0   \ndelivery_choice      0.0    178.0              0.0    92.0    71.0       0.0   \nlost                 0.0      0.0              0.0     0.0     0.0       0.0   \nmain                 0.0   4064.0              0.0   488.0  1042.0       0.0   \nproduct1           472.0    750.0              0.0   163.0   120.0       0.0   \nproduct2           660.0   1298.0              0.0   116.0    91.0       0.0   \ndelivery_courier     0.0      0.0              0.0    46.0    34.0       0.0   \ndelivery_pickup      0.0      0.0              0.0    92.0    56.0       0.0   \npayment_choice       0.0    114.0              0.0    89.0    42.0       0.0   \npayment_card         0.0      0.0              0.0    33.0    20.0       0.0   \npayment_done         0.0      0.0              0.0     0.0   269.0       0.0   \npayment_cash         0.0      0.0              0.0    44.0    47.0       0.0   \n\n                  product2  delivery_courier  delivery_pickup  payment_choice  \\\ncart                   0.0               0.0              0.0             0.0   \ncatalog             2172.0               0.0              0.0             0.0   \ndelivery_choice        0.0             834.0            506.0             0.0   \nlost                   0.0               0.0              0.0             0.0   \nmain                   0.0               0.0              0.0             0.0   \nproduct1               0.0               0.0              0.0             0.0   \nproduct2               0.0               0.0              0.0             0.0   \ndelivery_courier       0.0               0.0              0.0           752.0   \ndelivery_pickup        0.0               0.0              0.0           355.0   \npayment_choice         0.0               0.0              0.0             0.0   \npayment_card           0.0               0.0              0.0             0.0   \npayment_done           0.0               0.0              0.0             0.0   \npayment_cash           0.0               0.0              0.0             0.0   \n\n                  payment_card  payment_done  payment_cash  \ncart                       0.0           0.0           0.0  \ncatalog                    0.0           0.0           0.0  \ndelivery_choice            0.0           0.0           0.0  \nlost                       0.0           0.0           0.0  \nmain                       0.0           0.0           0.0  \nproduct1                   0.0           0.0           0.0  \nproduct2                   0.0           0.0           0.0  \ndelivery_courier           0.0           0.0           0.0  \ndelivery_pickup            0.0           0.0           0.0  \npayment_choice           565.0          95.0         197.0  \npayment_card               0.0         507.0           0.0  \npayment_done               0.0           0.0           0.0  \npayment_cash               0.0         104.0           0.0  ",
                  "text/html": "<div>\n<style scoped>\n    .dataframe tbody tr th:only-of-type {\n        vertical-align: middle;\n    }\n\n    .dataframe tbody tr th {\n        vertical-align: top;\n    }\n\n    .dataframe thead th {\n        text-align: right;\n    }\n</style>\n<table border=\"1\" class=\"dataframe\">\n  <thead>\n    <tr style=\"text-align: right;\">\n      <th></th>\n      <th>cart</th>\n      <th>catalog</th>\n      <th>delivery_choice</th>\n      <th>lost</th>\n      <th>main</th>\n      <th>product1</th>\n      <th>product2</th>\n      <th>delivery_courier</th>\n      <th>delivery_pickup</th>\n      <th>payment_choice</th>\n      <th>payment_card</th>\n      <th>payment_done</th>\n      <th>payment_cash</th>\n    </tr>\n  </thead>\n  <tbody>\n    <tr>\n      <th>cart</th>\n      <td>1.0</td>\n      <td>571.0</td>\n      <td>1686.0</td>\n      <td>330.0</td>\n      <td>233.0</td>\n      <td>0.0</td>\n      <td>0.0</td>\n      <td>0.0</td>\n      <td>0.0</td>\n      <td>0.0</td>\n      <td>0.0</td>\n      <td>0.0</td>\n      <td>0.0</td>\n    </tr>\n    <tr>\n      <th>catalog</th>\n      <td>1709.0</td>\n      <td>4857.0</td>\n      <td>0.0</td>\n      <td>1605.0</td>\n      <td>2545.0</td>\n      <td>1515.0</td>\n      <td>2172.0</td>\n      <td>0.0</td>\n      <td>0.0</td>\n      <td>0.0</td>\n      <td>0.0</td>\n      <td>0.0</td>\n      <td>0.0</td>\n    </tr>\n    <tr>\n      <th>delivery_choice</th>\n      <td>0.0</td>\n      <td>178.0</td>\n      <td>0.0</td>\n      <td>92.0</td>\n      <td>71.0</td>\n      <td>0.0</td>\n      <td>0.0</td>\n      <td>834.0</td>\n      <td>506.0</td>\n      <td>0.0</td>\n      <td>0.0</td>\n      <td>0.0</td>\n      <td>0.0</td>\n    </tr>\n    <tr>\n      <th>lost</th>\n      <td>0.0</td>\n      <td>0.0</td>\n      <td>0.0</td>\n      <td>0.0</td>\n      <td>0.0</td>\n      <td>0.0</td>\n      <td>0.0</td>\n      <td>0.0</td>\n      <td>0.0</td>\n      <td>0.0</td>\n      <td>0.0</td>\n      <td>0.0</td>\n      <td>0.0</td>\n    </tr>\n    <tr>\n      <th>main</th>\n      <td>0.0</td>\n      <td>4064.0</td>\n      <td>0.0</td>\n      <td>488.0</td>\n      <td>1042.0</td>\n      <td>0.0</td>\n      <td>0.0</td>\n      <td>0.0</td>\n      <td>0.0</td>\n      <td>0.0</td>\n      <td>0.0</td>\n      <td>0.0</td>\n      <td>0.0</td>\n    </tr>\n    <tr>\n      <th>product1</th>\n      <td>472.0</td>\n      <td>750.0</td>\n      <td>0.0</td>\n      <td>163.0</td>\n      <td>120.0</td>\n      <td>0.0</td>\n      <td>0.0</td>\n      <td>0.0</td>\n      <td>0.0</td>\n      <td>0.0</td>\n      <td>0.0</td>\n      <td>0.0</td>\n      <td>0.0</td>\n    </tr>\n    <tr>\n      <th>product2</th>\n      <td>660.0</td>\n      <td>1298.0</td>\n      <td>0.0</td>\n      <td>116.0</td>\n      <td>91.0</td>\n      <td>0.0</td>\n      <td>0.0</td>\n      <td>0.0</td>\n      <td>0.0</td>\n      <td>0.0</td>\n      <td>0.0</td>\n      <td>0.0</td>\n      <td>0.0</td>\n    </tr>\n    <tr>\n      <th>delivery_courier</th>\n      <td>0.0</td>\n      <td>0.0</td>\n      <td>0.0</td>\n      <td>46.0</td>\n      <td>34.0</td>\n      <td>0.0</td>\n      <td>0.0</td>\n      <td>0.0</td>\n      <td>0.0</td>\n      <td>752.0</td>\n      <td>0.0</td>\n      <td>0.0</td>\n      <td>0.0</td>\n    </tr>\n    <tr>\n      <th>delivery_pickup</th>\n      <td>0.0</td>\n      <td>0.0</td>\n      <td>0.0</td>\n      <td>92.0</td>\n      <td>56.0</td>\n      <td>0.0</td>\n      <td>0.0</td>\n      <td>0.0</td>\n      <td>0.0</td>\n      <td>355.0</td>\n      <td>0.0</td>\n      <td>0.0</td>\n      <td>0.0</td>\n    </tr>\n    <tr>\n      <th>payment_choice</th>\n      <td>0.0</td>\n      <td>114.0</td>\n      <td>0.0</td>\n      <td>89.0</td>\n      <td>42.0</td>\n      <td>0.0</td>\n      <td>0.0</td>\n      <td>0.0</td>\n      <td>0.0</td>\n      <td>0.0</td>\n      <td>565.0</td>\n      <td>95.0</td>\n      <td>197.0</td>\n    </tr>\n    <tr>\n      <th>payment_card</th>\n      <td>0.0</td>\n      <td>0.0</td>\n      <td>0.0</td>\n      <td>33.0</td>\n      <td>20.0</td>\n      <td>0.0</td>\n      <td>0.0</td>\n      <td>0.0</td>\n      <td>0.0</td>\n      <td>0.0</td>\n      <td>0.0</td>\n      <td>507.0</td>\n      <td>0.0</td>\n    </tr>\n    <tr>\n      <th>payment_done</th>\n      <td>0.0</td>\n      <td>0.0</td>\n      <td>0.0</td>\n      <td>0.0</td>\n      <td>269.0</td>\n      <td>0.0</td>\n      <td>0.0</td>\n      <td>0.0</td>\n      <td>0.0</td>\n      <td>0.0</td>\n      <td>0.0</td>\n      <td>0.0</td>\n      <td>0.0</td>\n    </tr>\n    <tr>\n      <th>payment_cash</th>\n      <td>0.0</td>\n      <td>0.0</td>\n      <td>0.0</td>\n      <td>44.0</td>\n      <td>47.0</td>\n      <td>0.0</td>\n      <td>0.0</td>\n      <td>0.0</td>\n      <td>0.0</td>\n      <td>0.0</td>\n      <td>0.0</td>\n      <td>104.0</td>\n      <td>0.0</td>\n    </tr>\n  </tbody>\n</table>\n</div>"
               },
               "metadata": {},
               "output_type": "display_data"
            },
            {
               "data": {
                  "text/plain": "<retentioneering.tooling.adjacency_matrix.adjacency_matrix.AdjacencyMatrix at 0x7f3565433d30>"
               },
               "execution_count": 3,
               "metadata": {},
               "output_type": "execute_result"
            }
         ],
         "source": [
            "stream.transition_adjacency()"
         ],
         "metadata": {
            "collapsed": false
         }
      },
      {
         "cell_type": "code",
         "execution_count": 3,
         "id": "9731e408",
         "metadata": {
            "scrolled": false
         },
         "outputs": [
            {
               "data": {
                  "text/plain": "<IPython.core.display.HTML object>",
                  "text/html": "<iframe id=\"elDSA7CX\" src=\"about:blank\" width=\"960\" height=\"900\"\n        onload=\"window.reteLoadedIframes = window.reteLoadedIframes || []; window.reteLoadedIframes.push('elDSA7CX')\">\n</iframe>\n\n<script>\n  (function() {\n    console.info('Initialize graph IFRAME')\n\n    const iframe = document.getElementById('elDSA7CX')\n    const iframeLoaded = window.reteLoadedIframes && window.reteLoadedIframes.includes('elDSA7CX')\n\n    const init = () => {\n      console.info('Graph IFRAME loaded')\n\n      const iframeDocument = document.getElementById('elDSA7CX').contentDocument\n\n      iframeDocument.body.innerHTML = '<div id=\"root\"></div>'\n\n      const graphScript = iframeDocument.createElement('script')\n\n      graphScript.src = `https://static.server.retentioneering.com/viztools/transition-graph/v3/transition-graph.umd.js?id=elQPMOLD`\n\n      graphScript.addEventListener('load', () => {\n        console.info('JavaScript library loaded')\n\n        const initGraph = iframeDocument.createElement('script')\n\n        initGraph.innerHTML = `\n    initialize({\n    serverId: '8b15fef1-73ae-48f2-ad1e-955644570043',\n    env: 'classic',\n    selectedNormalizationType: node,\n    configNodes: [{\"index\": 0, \"name\": \"payment_card\", \"degree\": {\"events\": {\"degree\": 5.16751618680259, \"source\": 565}}, \"type\": \"suit_node\", \"active\": true, \"alias\": false, \"parent\": null, \"changed_name\": null, \"x\": 181.90504973967353, \"y\": 111.2045194056306}, {\"index\": 1, \"name\": \"delivery_choice\", \"degree\": {\"events\": {\"degree\": 7.483950957432153, \"source\": 1686}}, \"type\": \"suit_node\", \"active\": true, \"alias\": false, \"parent\": null, \"changed_name\": null, \"x\": 481.04353445874114, \"y\": 190.98337384240835}, {\"index\": 2, \"name\": \"catalog\", \"degree\": {\"events\": {\"degree\": 34.0, \"source\": 14518}}, \"type\": \"suit_node\", \"active\": true, \"alias\": false, \"parent\": null, \"changed_name\": null, \"x\": 326.933233670411, \"y\": 379.9430647639135}, {\"index\": 3, \"name\": \"delivery_pickup\", \"degree\": {\"events\": {\"degree\": 5.045598567295771, \"source\": 506}}, \"type\": \"suit_node\", \"active\": true, \"alias\": false, \"parent\": null, \"changed_name\": null, \"x\": 427.2351971172487, \"y\": 499.2906388283174}, {\"index\": 4, \"name\": \"cart\", \"degree\": {\"events\": {\"degree\": 9.872709739633558, \"source\": 2842}}, \"type\": \"suit_node\", \"active\": true, \"alias\": false, \"parent\": null, \"changed_name\": null, \"x\": 553.0888383976803, \"y\": 428.4048343156548}, {\"index\": 5, \"name\": \"product1\", \"degree\": {\"events\": {\"degree\": 7.13059650089544, \"source\": 1515}}, \"type\": \"suit_node\", \"active\": true, \"alias\": false, \"parent\": null, \"changed_name\": null, \"x\": 446.53164073656666, \"y\": 435.73212910353146}, {\"index\": 6, \"name\": \"payment_done\", \"degree\": {\"events\": {\"degree\": 5.458878633420581, \"source\": 706}}, \"type\": \"suit_node\", \"active\": true, \"alias\": false, \"parent\": null, \"changed_name\": null, \"x\": 75.0, \"y\": 50.0}, {\"index\": 7, \"name\": \"main\", \"degree\": {\"events\": {\"degree\": 15.644165863066538, \"source\": 5635}}, \"type\": \"suit_node\", \"active\": true, \"alias\": false, \"parent\": null, \"changed_name\": null, \"x\": 251.8524374601188, \"y\": 263.09502003978287}, {\"index\": 8, \"name\": \"payment_choice\", \"degree\": {\"events\": {\"degree\": 6.287505166000827, \"source\": 1107}}, \"type\": \"suit_node\", \"active\": true, \"alias\": false, \"parent\": null, \"changed_name\": null, \"x\": 334.018549547979, \"y\": 209.7504851672739}, {\"index\": 9, \"name\": \"product2\", \"degree\": {\"events\": {\"degree\": 8.488221518115443, \"source\": 2172}}, \"type\": \"suit_node\", \"active\": true, \"alias\": false, \"parent\": null, \"changed_name\": null, \"x\": 451.05507010134517, \"y\": 332.2146678769414}, {\"index\": 10, \"name\": \"payment_cash\", \"degree\": {\"events\": {\"degree\": 4.407080865132938, \"source\": 197}}, \"type\": \"suit_node\", \"active\": true, \"alias\": false, \"parent\": null, \"changed_name\": null, \"x\": 371.61383328795, \"y\": 364.5313268925226}, {\"index\": 11, \"name\": \"lost\", \"degree\": {\"events\": {\"degree\": 10.401708224273316, \"source\": 3098}}, \"type\": \"suit_node\", \"active\": true, \"alias\": false, \"parent\": null, \"changed_name\": null, \"x\": 885.0, \"y\": 850.0}, {\"index\": 12, \"name\": \"delivery_courier\", \"degree\": {\"events\": {\"degree\": 5.72337787574046, \"source\": 834}}, \"type\": \"suit_node\", \"active\": true, \"alias\": false, \"parent\": null, \"changed_name\": null, \"x\": 418.82878968374666, \"y\": 90.17387089409209}],\n    configLinks: [{\"sourceIndex\": 4, \"targetIndex\": 4, \"weights\": {\"events\": {\"weight_norm\": 0.0003544842254519674, \"weight\": 0.0003544842254519674}}, \"type\": \"suit\"}, {\"sourceIndex\": 4, \"targetIndex\": 2, \"weights\": {\"events\": {\"weight_norm\": 0.20241049273307338, \"weight\": 0.20241049273307338}}, \"type\": \"suit\"}, {\"sourceIndex\": 4, \"targetIndex\": 1, \"weights\": {\"events\": {\"weight_norm\": 0.597660404112017, \"weight\": 0.597660404112017}}, \"type\": \"suit\"}, {\"sourceIndex\": 4, \"targetIndex\": 11, \"weights\": {\"events\": {\"weight_norm\": 0.11697979439914924, \"weight\": 0.11697979439914924}}, \"type\": \"suit\"}, {\"sourceIndex\": 4, \"targetIndex\": 7, \"weights\": {\"events\": {\"weight_norm\": 0.0825948245303084, \"weight\": 0.0825948245303084}}, \"type\": \"suit\"}, {\"sourceIndex\": 2, \"targetIndex\": 4, \"weights\": {\"events\": {\"weight_norm\": 0.11865583558980768, \"weight\": 0.11865583558980768}}, \"type\": \"suit\"}, {\"sourceIndex\": 2, \"targetIndex\": 2, \"weights\": {\"events\": {\"weight_norm\": 0.33722141220579044, \"weight\": 0.33722141220579044}}, \"type\": \"suit\"}, {\"sourceIndex\": 2, \"targetIndex\": 11, \"weights\": {\"events\": {\"weight_norm\": 0.11143511768381587, \"weight\": 0.11143511768381587}}, \"type\": \"suit\"}, {\"sourceIndex\": 2, \"targetIndex\": 7, \"weights\": {\"events\": {\"weight_norm\": 0.17669929875720336, \"weight\": 0.17669929875720336}}, \"type\": \"suit\"}, {\"sourceIndex\": 2, \"targetIndex\": 5, \"weights\": {\"events\": {\"weight_norm\": 0.10518641949593835, \"weight\": 0.10518641949593835}}, \"type\": \"suit\"}, {\"sourceIndex\": 2, \"targetIndex\": 9, \"weights\": {\"events\": {\"weight_norm\": 0.15080191626744427, \"weight\": 0.15080191626744427}}, \"type\": \"suit\"}, {\"sourceIndex\": 1, \"targetIndex\": 2, \"weights\": {\"events\": {\"weight_norm\": 0.1058893515764426, \"weight\": 0.1058893515764426}}, \"type\": \"suit\"}, {\"sourceIndex\": 1, \"targetIndex\": 12, \"weights\": {\"events\": {\"weight_norm\": 0.496133254015467, \"weight\": 0.496133254015467}}, \"type\": \"suit\"}, {\"sourceIndex\": 1, \"targetIndex\": 3, \"weights\": {\"events\": {\"weight_norm\": 0.3010113027959548, \"weight\": 0.3010113027959548}}, \"type\": \"suit\"}, {\"sourceIndex\": 1, \"targetIndex\": 11, \"weights\": {\"events\": {\"weight_norm\": 0.054729327781082686, \"weight\": 0.054729327781082686}}, \"type\": \"suit\"}, {\"sourceIndex\": 1, \"targetIndex\": 7, \"weights\": {\"events\": {\"weight_norm\": 0.042236763831052945, \"weight\": 0.042236763831052945}}, \"type\": \"suit\"}, {\"sourceIndex\": 12, \"targetIndex\": 11, \"weights\": {\"events\": {\"weight_norm\": 0.055288461538461536, \"weight\": 0.055288461538461536}}, \"type\": \"suit\"}, {\"sourceIndex\": 12, \"targetIndex\": 7, \"weights\": {\"events\": {\"weight_norm\": 0.040865384615384616, \"weight\": 0.040865384615384616}}, \"type\": \"suit\"}, {\"sourceIndex\": 12, \"targetIndex\": 8, \"weights\": {\"events\": {\"weight_norm\": 0.9038461538461539, \"weight\": 0.9038461538461539}}, \"type\": \"suit\"}, {\"sourceIndex\": 3, \"targetIndex\": 11, \"weights\": {\"events\": {\"weight_norm\": 0.18290258449304175, \"weight\": 0.18290258449304175}}, \"type\": \"suit\"}, {\"sourceIndex\": 3, \"targetIndex\": 7, \"weights\": {\"events\": {\"weight_norm\": 0.11133200795228629, \"weight\": 0.11133200795228629}}, \"type\": \"suit\"}, {\"sourceIndex\": 3, \"targetIndex\": 8, \"weights\": {\"events\": {\"weight_norm\": 0.705765407554672, \"weight\": 0.705765407554672}}, \"type\": \"suit\"}, {\"sourceIndex\": 7, \"targetIndex\": 2, \"weights\": {\"events\": {\"weight_norm\": 0.7264926707186271, \"weight\": 0.7264926707186271}}, \"type\": \"suit\"}, {\"sourceIndex\": 7, \"targetIndex\": 11, \"weights\": {\"events\": {\"weight_norm\": 0.08723632463353594, \"weight\": 0.08723632463353594}}, \"type\": \"suit\"}, {\"sourceIndex\": 7, \"targetIndex\": 7, \"weights\": {\"events\": {\"weight_norm\": 0.18627100464783697, \"weight\": 0.18627100464783697}}, \"type\": \"suit\"}, {\"sourceIndex\": 0, \"targetIndex\": 11, \"weights\": {\"events\": {\"weight_norm\": 0.05892857142857143, \"weight\": 0.05892857142857143}}, \"type\": \"suit\"}, {\"sourceIndex\": 0, \"targetIndex\": 7, \"weights\": {\"events\": {\"weight_norm\": 0.03571428571428571, \"weight\": 0.03571428571428571}}, \"type\": \"suit\"}, {\"sourceIndex\": 0, \"targetIndex\": 6, \"weights\": {\"events\": {\"weight_norm\": 0.9053571428571429, \"weight\": 0.9053571428571429}}, \"type\": \"suit\"}, {\"sourceIndex\": 10, \"targetIndex\": 11, \"weights\": {\"events\": {\"weight_norm\": 0.22564102564102564, \"weight\": 0.22564102564102564}}, \"type\": \"suit\"}, {\"sourceIndex\": 10, \"targetIndex\": 7, \"weights\": {\"events\": {\"weight_norm\": 0.24102564102564103, \"weight\": 0.24102564102564103}}, \"type\": \"suit\"}, {\"sourceIndex\": 10, \"targetIndex\": 6, \"weights\": {\"events\": {\"weight_norm\": 0.5333333333333333, \"weight\": 0.5333333333333333}}, \"type\": \"suit\"}, {\"sourceIndex\": 8, \"targetIndex\": 2, \"weights\": {\"events\": {\"weight_norm\": 0.10344827586206896, \"weight\": 0.10344827586206896}}, \"type\": \"suit\"}, {\"sourceIndex\": 8, \"targetIndex\": 11, \"weights\": {\"events\": {\"weight_norm\": 0.08076225045372051, \"weight\": 0.08076225045372051}}, \"type\": \"suit\"}, {\"sourceIndex\": 8, \"targetIndex\": 7, \"weights\": {\"events\": {\"weight_norm\": 0.038112522686025406, \"weight\": 0.038112522686025406}}, \"type\": \"suit\"}, {\"sourceIndex\": 8, \"targetIndex\": 0, \"weights\": {\"events\": {\"weight_norm\": 0.5127041742286751, \"weight\": 0.5127041742286751}}, \"type\": \"suit\"}, {\"sourceIndex\": 8, \"targetIndex\": 10, \"weights\": {\"events\": {\"weight_norm\": 0.17876588021778583, \"weight\": 0.17876588021778583}}, \"type\": \"suit\"}, {\"sourceIndex\": 8, \"targetIndex\": 6, \"weights\": {\"events\": {\"weight_norm\": 0.08620689655172414, \"weight\": 0.08620689655172414}}, \"type\": \"suit\"}, {\"sourceIndex\": 6, \"targetIndex\": 7, \"weights\": {\"events\": {\"weight_norm\": 1.0, \"weight\": 1.0}}, \"type\": \"suit\"}, {\"sourceIndex\": 5, \"targetIndex\": 4, \"weights\": {\"events\": {\"weight_norm\": 0.3136212624584718, \"weight\": 0.3136212624584718}}, \"type\": \"suit\"}, {\"sourceIndex\": 5, \"targetIndex\": 2, \"weights\": {\"events\": {\"weight_norm\": 0.4983388704318937, \"weight\": 0.4983388704318937}}, \"type\": \"suit\"}, {\"sourceIndex\": 5, \"targetIndex\": 11, \"weights\": {\"events\": {\"weight_norm\": 0.10830564784053157, \"weight\": 0.10830564784053157}}, \"type\": \"suit\"}, {\"sourceIndex\": 5, \"targetIndex\": 7, \"weights\": {\"events\": {\"weight_norm\": 0.07973421926910298, \"weight\": 0.07973421926910298}}, \"type\": \"suit\"}, {\"sourceIndex\": 9, \"targetIndex\": 4, \"weights\": {\"events\": {\"weight_norm\": 0.30484988452655887, \"weight\": 0.30484988452655887}}, \"type\": \"suit\"}, {\"sourceIndex\": 9, \"targetIndex\": 2, \"weights\": {\"events\": {\"weight_norm\": 0.5995381062355658, \"weight\": 0.5995381062355658}}, \"type\": \"suit\"}, {\"sourceIndex\": 9, \"targetIndex\": 11, \"weights\": {\"events\": {\"weight_norm\": 0.0535796766743649, \"weight\": 0.0535796766743649}}, \"type\": \"suit\"}, {\"sourceIndex\": 9, \"targetIndex\": 7, \"weights\": {\"events\": {\"weight_norm\": 0.04203233256351039, \"weight\": 0.04203233256351039}}, \"type\": \"suit\"}],\n    nodesColsNames: ['events'],\n    linksWeightsNames: ['events'],\n    nodesThreshold: {\"number_of_events\": 0.9},\n    linksThreshold: undefined,\n    showWeights: undefined,\n    showPercents: undefined,\n    showNodesNames: undefined,\n    showAllEdgesForTargets: undefined,\n    showNodesWithoutLinks: undefined,\n    useLayoutDump: Boolean(0),\n    weightTemplate: undefined\n})\n`\n        iframeDocument.body.appendChild(initGraph)\n      })\n\n      iframeDocument.head.appendChild(graphScript)\n      iframeDocument.body.dataset.templateId = 'elDSA7CX_template'\n\n      console.info('Graph IFRAME initialized')\n    }\n\n    console.log(`Graph IFRAME loaded: ` + iframeLoaded)\n\n    if (iframeLoaded) {\n      init()\n      return\n    }\n\n    iframe.onload = () => {\n      init()\n      window.reteLoadedIframes.push('elDSA7CX')\n    }\n  })()\n</script>\n\n<template id=\"elDSA7CX_template\">\n    <!DOCTYPE html>\n<html lang=\"en\">\n<head>\n    <meta charset=\"UTF-8\"/>\n    <meta name=\"viewport\" content=\"width=device-width, initial-scale=1.0, maximum-scale=1.0, user-scalable=no\"/>\n    <meta name=\"theme-color\" content=\"#000000\"/>\n    <link rel=\"preconnect\" href=\"https://fonts.googleapis.com\"/>\n    <link crossorigin rel=\"preconnect\" href=\"https://fonts.gstatic.com\"/>\n    <link\n            crossorigin\n            href=\"https://fonts.googleapis.com/css2?family=Open+Sans:wght@400;600&display=swap\"\n            rel=\"stylesheet\"\n    />\n    <title>Retentioneering Transition Graph Application</title>\n</head>\n\n<body>\n<noscript>You need to enable JavaScript to run this app.</noscript>\n<iframe id=\"el9PD9RK\" src=\"about:blank\" width=\"960\" height=\"900\"\n        onload=\"window.reteLoadedIframes = window.reteLoadedIframes || []; window.reteLoadedIframes.push('el9PD9RK')\">\n</iframe>\n\n<script>\n  (function() {\n    console.info('Initialize graph IFRAME')\n\n    const iframe = document.getElementById('el9PD9RK')\n    const iframeLoaded = window.reteLoadedIframes && window.reteLoadedIframes.includes('el9PD9RK')\n\n    const init = () => {\n      console.info('Graph IFRAME loaded')\n\n      const iframeDocument = document.getElementById('el9PD9RK').contentDocument\n\n      iframeDocument.body.innerHTML = '<div id=\"root\"></div>'\n\n      const graphScript = iframeDocument.createElement('script')\n\n      graphScript.src = `https://static.server.retentioneering.com/viztools/transition-graph/v3/transition-graph.umd.js?id=elQPMOLD`\n\n      graphScript.addEventListener('load', () => {\n        console.info('JavaScript library loaded')\n\n        const initGraph = iframeDocument.createElement('script')\n\n        initGraph.innerHTML = `\n    initialize({\n    serverId: '8b15fef1-73ae-48f2-ad1e-955644570043',\n    env: 'classic',\n    selectedNormalizationType: node,\n    configNodes: <%= nodes %>,\n    configLinks: <%= links %>,\n    nodesColsNames: ['events'],\n    linksWeightsNames: ['events'],\n    nodesThreshold: <%= nodes_threshold %>,\n    linksThreshold: <%= links_threshold %>,\n    showWeights: <%= show_weights %>,\n    showPercents: <%= show_percents %>,\n    showNodesNames: <%= show_nodes_names %>,\n    showAllEdgesForTargets: <%= show_all_edges_for_targets %>,\n    showNodesWithoutLinks: <%= show_nodes_without_links %>,\n    useLayoutDump: Boolean(1),\n    weightTemplate: undefined\n})\n`\n        iframeDocument.body.appendChild(initGraph)\n      })\n\n      iframeDocument.head.appendChild(graphScript)\n      iframeDocument.body.dataset.templateId = 'el9PD9RK_template'\n\n      console.info('Graph IFRAME initialized')\n    }\n\n    console.log(`Graph IFRAME loaded: ` + iframeLoaded)\n\n    if (iframeLoaded) {\n      init()\n      return\n    }\n\n    iframe.onload = () => {\n      init()\n      window.reteLoadedIframes.push('el9PD9RK')\n    }\n  })()\n</script>\n\n<template id=\"el9PD9RK_template\">\n    \n</template>\n</body>\n</html>\n</template>"
               },
               "metadata": {},
               "output_type": "display_data"
            },
            {
               "data": {
                  "text/plain": "<retentioneering.transition_graph.transition_graph.TransitionGraph at 0x7f18614f7d30>"
               },
               "execution_count": 3,
               "metadata": {},
               "output_type": "execute_result"
            }
         ],
         "source": [
            "stream.transition_graph(thresholds={'nodes': {'number_of_events': 0.9}}, norm_type=\"node\")\n",
            "# stream.transition_graph(norm_type=\"full\")\n",
            "\n",
            "# stream.transition_graph()"
         ]
      },
      {
         "cell_type": "code",
         "execution_count": 4,
         "id": "3234ecbb",
         "metadata": {},
         "outputs": [
            {
               "data": {
                  "text/plain": [
                     "'number_of_events'"
                  ]
               },
               "metadata": {},
               "output_type": "display_data"
            },
            {
               "data": {
                  "text/html": [
                     "<div>\n",
                     "<style scoped>\n",
                     "    .dataframe tbody tr th:only-of-type {\n",
                     "        vertical-align: middle;\n",
                     "    }\n",
                     "\n",
                     "    .dataframe tbody tr th {\n",
                     "        vertical-align: top;\n",
                     "    }\n",
                     "\n",
                     "    .dataframe thead th {\n",
                     "        text-align: right;\n",
                     "    }\n",
                     "</style>\n",
                     "<table border=\"1\" class=\"dataframe\">\n",
                     "  <thead>\n",
                     "    <tr style=\"text-align: right;\">\n",
                     "      <th></th>\n",
                     "      <th>event</th>\n",
                     "      <th>number_of_events</th>\n",
                     "    </tr>\n",
                     "  </thead>\n",
                     "  <tbody>\n",
                     "    <tr>\n",
                     "      <th>1</th>\n",
                     "      <td>catalog</td>\n",
                     "      <td>14518</td>\n",
                     "    </tr>\n",
                     "    <tr>\n",
                     "      <th>6</th>\n",
                     "      <td>main</td>\n",
                     "      <td>5635</td>\n",
                     "    </tr>\n",
                     "    <tr>\n",
                     "      <th>5</th>\n",
                     "      <td>lost</td>\n",
                     "      <td>3098</td>\n",
                     "    </tr>\n",
                     "    <tr>\n",
                     "      <th>0</th>\n",
                     "      <td>cart</td>\n",
                     "      <td>2842</td>\n",
                     "    </tr>\n",
                     "    <tr>\n",
                     "      <th>12</th>\n",
                     "      <td>product2</td>\n",
                     "      <td>2172</td>\n",
                     "    </tr>\n",
                     "    <tr>\n",
                     "      <th>2</th>\n",
                     "      <td>delivery_choice</td>\n",
                     "      <td>1686</td>\n",
                     "    </tr>\n",
                     "    <tr>\n",
                     "      <th>11</th>\n",
                     "      <td>product1</td>\n",
                     "      <td>1515</td>\n",
                     "    </tr>\n",
                     "    <tr>\n",
                     "      <th>9</th>\n",
                     "      <td>payment_choice</td>\n",
                     "      <td>1107</td>\n",
                     "    </tr>\n",
                     "    <tr>\n",
                     "      <th>3</th>\n",
                     "      <td>delivery_courier</td>\n",
                     "      <td>834</td>\n",
                     "    </tr>\n",
                     "    <tr>\n",
                     "      <th>10</th>\n",
                     "      <td>payment_done</td>\n",
                     "      <td>706</td>\n",
                     "    </tr>\n",
                     "    <tr>\n",
                     "      <th>7</th>\n",
                     "      <td>payment_card</td>\n",
                     "      <td>565</td>\n",
                     "    </tr>\n",
                     "    <tr>\n",
                     "      <th>4</th>\n",
                     "      <td>delivery_pickup</td>\n",
                     "      <td>506</td>\n",
                     "    </tr>\n",
                     "    <tr>\n",
                     "      <th>8</th>\n",
                     "      <td>payment_cash</td>\n",
                     "      <td>197</td>\n",
                     "    </tr>\n",
                     "  </tbody>\n",
                     "</table>\n",
                     "</div>"
                  ],
                  "text/plain": [
                     "               event  number_of_events\n",
                     "1            catalog             14518\n",
                     "6               main              5635\n",
                     "5               lost              3098\n",
                     "0               cart              2842\n",
                     "12          product2              2172\n",
                     "2    delivery_choice              1686\n",
                     "11          product1              1515\n",
                     "9     payment_choice              1107\n",
                     "3   delivery_courier               834\n",
                     "10      payment_done               706\n",
                     "7       payment_card               565\n",
                     "4    delivery_pickup               506\n",
                     "8       payment_cash               197"
                  ]
               },
               "metadata": {},
               "output_type": "display_data"
            }
         ],
         "source": [
            "from src.transition_graph import TransitionGraph\n",
            "\n",
            "graph = TransitionGraph(\n",
            "    eventstream=stream,\n",
            "    graph_settings={},\n",
            "    norm_type=None,\n",
            "    thresholds={'nodes': {'number_of_events': 0.9}}\n",
            ")"
         ]
      },
      {
         "cell_type": "code",
         "execution_count": 5,
         "id": "afb6c7de",
         "metadata": {
            "scrolled": false
         },
         "outputs": [
            {
               "data": {
                  "text/plain": [
                     "{'number_of_events': 0.9}"
                  ]
               },
               "metadata": {},
               "output_type": "display_data"
            },
            {
               "data": {
                  "text/html": [
                     "<iframe id=\"elD0UYC1\" src=\"about:blank\" width=\"960\" height=\"900\"\n",
                     "        onload=\"window.reteLoadedIframes = window.reteLoadedIframes || []; window.reteLoadedIframes.push('elD0UYC1')\">\n",
                     "</iframe>\n",
                     "\n",
                     "<script>\n",
                     "  (function() {\n",
                     "    console.info('Initialize graph IFRAME')\n",
                     "\n",
                     "    const iframe = document.getElementById('elD0UYC1')\n",
                     "    const iframeLoaded = window.reteLoadedIframes && window.reteLoadedIframes.includes('elD0UYC1')\n",
                     "\n",
                     "    const init = () => {\n",
                     "      console.info('Graph IFRAME loaded')\n",
                     "\n",
                     "      const iframeDocument = document.getElementById('elD0UYC1').contentDocument\n",
                     "\n",
                     "      iframeDocument.body.innerHTML = '<div id=\"root\"></div>'\n",
                     "\n",
                     "      const graphScript = iframeDocument.createElement('script')\n",
                     "\n",
                     "      graphScript.src = `https://static.server.retentioneering.com/viztools/transition-graph/v3/transition-graph.umd.js?id=elSOPSIA`\n",
                     "\n",
                     "      graphScript.addEventListener('load', () => {\n",
                     "        console.info('JavaScript library loaded')\n",
                     "\n",
                     "        const initGraph = iframeDocument.createElement('script')\n",
                     "\n",
                     "        initGraph.innerHTML = `\n",
                     "    initialize({\n",
                     "    serverId: 'b0fb2f3c-6a2b-4db5-a0c5-4a5e02d2ad59',\n",
                     "    env: 'classic',\n",
                     "    configNodes: [{\"index\": 0, \"name\": \"lost\", \"degree\": {\"number_of_events\": {\"degree\": 10.401708224273316, \"source\": 3098}}, \"type\": \"suit_node\", \"active\": true, \"alias\": false, \"parent\": null, \"changed_name\": null, \"x\": 75.0, \"y\": 850.0}, {\"index\": 1, \"name\": \"payment_cash\", \"degree\": {\"number_of_events\": {\"degree\": 4.407080865132938, \"source\": 197}}, \"type\": \"suit_node\", \"active\": true, \"alias\": false, \"parent\": null, \"changed_name\": null, \"x\": 626.3748821692716, \"y\": 305.4322151414599}, {\"index\": 2, \"name\": \"delivery_choice\", \"degree\": {\"number_of_events\": {\"degree\": 7.483950957432153, \"source\": 1686}}, \"type\": \"suit_node\", \"active\": true, \"alias\": false, \"parent\": null, \"changed_name\": null, \"x\": 737.8439854404983, \"y\": 195.3392736390137}, {\"index\": 3, \"name\": \"delivery_pickup\", \"degree\": {\"number_of_events\": {\"degree\": 5.045598567295771, \"source\": 506}}, \"type\": \"suit_node\", \"active\": true, \"alias\": false, \"parent\": null, \"changed_name\": null, \"x\": 575.854384389989, \"y\": 355.3290030716161}, {\"index\": 4, \"name\": \"product1\", \"degree\": {\"number_of_events\": {\"degree\": 7.13059650089544, \"source\": 1515}}, \"type\": \"suit_node\", \"active\": true, \"alias\": false, \"parent\": null, \"changed_name\": null, \"x\": 535.8928350031869, \"y\": 394.797199996853}, {\"index\": 5, \"name\": \"main\", \"degree\": {\"number_of_events\": {\"degree\": 15.644165863066538, \"source\": 5635}}, \"type\": \"suit_node\", \"active\": true, \"alias\": false, \"parent\": null, \"changed_name\": null, \"x\": 714.7917316474181, \"y\": 218.1069317062539}, {\"index\": 6, \"name\": \"cart\", \"degree\": {\"number_of_events\": {\"degree\": 9.872709739633558, \"source\": 2842}}, \"type\": \"suit_node\", \"active\": true, \"alias\": false, \"parent\": null, \"changed_name\": null, \"x\": 620.5656391010086, \"y\": 311.16973915949796}, {\"index\": 7, \"name\": \"payment_choice\", \"degree\": {\"number_of_events\": {\"degree\": 6.287505166000827, \"source\": 1107}}, \"type\": \"suit_node\", \"active\": true, \"alias\": false, \"parent\": null, \"changed_name\": null, \"x\": 716.6680955741265, \"y\": 216.2537327662953}, {\"index\": 8, \"name\": \"delivery_courier\", \"degree\": {\"number_of_events\": {\"degree\": 5.72337787574046, \"source\": 834}}, \"type\": \"suit_node\", \"active\": true, \"alias\": false, \"parent\": null, \"changed_name\": null, \"x\": 885.0, \"y\": 50.0}, {\"index\": 9, \"name\": \"product2\", \"degree\": {\"number_of_events\": {\"degree\": 8.488221518115443, \"source\": 2172}}, \"type\": \"suit_node\", \"active\": true, \"alias\": false, \"parent\": null, \"changed_name\": null, \"x\": 551.0718657149505, \"y\": 379.8055647259759}, {\"index\": 10, \"name\": \"payment_card\", \"degree\": {\"number_of_events\": {\"degree\": 5.16751618680259, \"source\": 565}}, \"type\": \"suit_node\", \"active\": true, \"alias\": false, \"parent\": null, \"changed_name\": null, \"x\": 782.7794953844847, \"y\": 150.95852307705255}, {\"index\": 11, \"name\": \"payment_done\", \"degree\": {\"number_of_events\": {\"degree\": 5.458878633420581, \"source\": 706}}, \"type\": \"suit_node\", \"active\": true, \"alias\": false, \"parent\": null, \"changed_name\": null, \"x\": 816.8020777630908, \"y\": 117.3559725796653}, {\"index\": 12, \"name\": \"catalog\", \"degree\": {\"number_of_events\": {\"degree\": 34.0, \"source\": 14518}}, \"type\": \"suit_node\", \"active\": true, \"alias\": false, \"parent\": null, \"changed_name\": null, \"x\": 507.73870494889906, \"y\": 422.60374819861875}],\n",
                     "    configLinks: [{\"sourceIndex\": 6, \"targetIndex\": 6, \"weights\": {\"number_of_events\": {\"weight_norm\": 0.00020588840848260242, \"weight\": 1}}, \"type\": \"suit\"}, {\"sourceIndex\": 6, \"targetIndex\": 12, \"weights\": {\"number_of_events\": {\"weight_norm\": 0.11756228124356599, \"weight\": 571}}, \"type\": \"suit\"}, {\"sourceIndex\": 6, \"targetIndex\": 2, \"weights\": {\"number_of_events\": {\"weight_norm\": 0.3471278567016677, \"weight\": 1686}}, \"type\": \"suit\"}, {\"sourceIndex\": 6, \"targetIndex\": 0, \"weights\": {\"number_of_events\": {\"weight_norm\": 0.06794317479925881, \"weight\": 330}}, \"type\": \"suit\"}, {\"sourceIndex\": 6, \"targetIndex\": 5, \"weights\": {\"number_of_events\": {\"weight_norm\": 0.047971999176446366, \"weight\": 233}}, \"type\": \"suit\"}, {\"sourceIndex\": 12, \"targetIndex\": 6, \"weights\": {\"number_of_events\": {\"weight_norm\": 0.35186329009676753, \"weight\": 1709}}, \"type\": \"suit\"}, {\"sourceIndex\": 12, \"targetIndex\": 12, \"weights\": {\"number_of_events\": {\"weight_norm\": 1.0, \"weight\": 4857}}, \"type\": \"suit\"}, {\"sourceIndex\": 12, \"targetIndex\": 0, \"weights\": {\"number_of_events\": {\"weight_norm\": 0.3304508956145769, \"weight\": 1605}}, \"type\": \"suit\"}, {\"sourceIndex\": 12, \"targetIndex\": 5, \"weights\": {\"number_of_events\": {\"weight_norm\": 0.5239859995882232, \"weight\": 2545}}, \"type\": \"suit\"}, {\"sourceIndex\": 12, \"targetIndex\": 4, \"weights\": {\"number_of_events\": {\"weight_norm\": 0.3119209388511427, \"weight\": 1515}}, \"type\": \"suit\"}, {\"sourceIndex\": 12, \"targetIndex\": 9, \"weights\": {\"number_of_events\": {\"weight_norm\": 0.44718962322421246, \"weight\": 2172}}, \"type\": \"suit\"}, {\"sourceIndex\": 2, \"targetIndex\": 12, \"weights\": {\"number_of_events\": {\"weight_norm\": 0.03664813670990323, \"weight\": 178}}, \"type\": \"suit\"}, {\"sourceIndex\": 2, \"targetIndex\": 8, \"weights\": {\"number_of_events\": {\"weight_norm\": 0.17171093267449042, \"weight\": 834}}, \"type\": \"suit\"}, {\"sourceIndex\": 2, \"targetIndex\": 3, \"weights\": {\"number_of_events\": {\"weight_norm\": 0.10417953469219683, \"weight\": 506}}, \"type\": \"suit\"}, {\"sourceIndex\": 2, \"targetIndex\": 0, \"weights\": {\"number_of_events\": {\"weight_norm\": 0.018941733580399425, \"weight\": 92}}, \"type\": \"suit\"}, {\"sourceIndex\": 2, \"targetIndex\": 5, \"weights\": {\"number_of_events\": {\"weight_norm\": 0.014618077002264772, \"weight\": 71}}, \"type\": \"suit\"}, {\"sourceIndex\": 8, \"targetIndex\": 0, \"weights\": {\"number_of_events\": {\"weight_norm\": 0.009470866790199713, \"weight\": 46}}, \"type\": \"suit\"}, {\"sourceIndex\": 8, \"targetIndex\": 5, \"weights\": {\"number_of_events\": {\"weight_norm\": 0.007000205888408483, \"weight\": 34}}, \"type\": \"suit\"}, {\"sourceIndex\": 8, \"targetIndex\": 7, \"weights\": {\"number_of_events\": {\"weight_norm\": 0.15482808317891703, \"weight\": 752}}, \"type\": \"suit\"}, {\"sourceIndex\": 3, \"targetIndex\": 0, \"weights\": {\"number_of_events\": {\"weight_norm\": 0.018941733580399425, \"weight\": 92}}, \"type\": \"suit\"}, {\"sourceIndex\": 3, \"targetIndex\": 5, \"weights\": {\"number_of_events\": {\"weight_norm\": 0.011529750875025736, \"weight\": 56}}, \"type\": \"suit\"}, {\"sourceIndex\": 3, \"targetIndex\": 7, \"weights\": {\"number_of_events\": {\"weight_norm\": 0.07309038501132387, \"weight\": 355}}, \"type\": \"suit\"}, {\"sourceIndex\": 5, \"targetIndex\": 12, \"weights\": {\"number_of_events\": {\"weight_norm\": 0.8367304920732963, \"weight\": 4064}}, \"type\": \"suit\"}, {\"sourceIndex\": 5, \"targetIndex\": 0, \"weights\": {\"number_of_events\": {\"weight_norm\": 0.10047354333950999, \"weight\": 488}}, \"type\": \"suit\"}, {\"sourceIndex\": 5, \"targetIndex\": 5, \"weights\": {\"number_of_events\": {\"weight_norm\": 0.21453572163887172, \"weight\": 1042}}, \"type\": \"suit\"}, {\"sourceIndex\": 10, \"targetIndex\": 0, \"weights\": {\"number_of_events\": {\"weight_norm\": 0.0067943174799258805, \"weight\": 33}}, \"type\": \"suit\"}, {\"sourceIndex\": 10, \"targetIndex\": 5, \"weights\": {\"number_of_events\": {\"weight_norm\": 0.0041177681696520484, \"weight\": 20}}, \"type\": \"suit\"}, {\"sourceIndex\": 10, \"targetIndex\": 11, \"weights\": {\"number_of_events\": {\"weight_norm\": 0.10438542310067943, \"weight\": 507}}, \"type\": \"suit\"}, {\"sourceIndex\": 1, \"targetIndex\": 0, \"weights\": {\"number_of_events\": {\"weight_norm\": 0.009059089973234506, \"weight\": 44}}, \"type\": \"suit\"}, {\"sourceIndex\": 1, \"targetIndex\": 5, \"weights\": {\"number_of_events\": {\"weight_norm\": 0.009676755198682314, \"weight\": 47}}, \"type\": \"suit\"}, {\"sourceIndex\": 1, \"targetIndex\": 11, \"weights\": {\"number_of_events\": {\"weight_norm\": 0.021412394482190653, \"weight\": 104}}, \"type\": \"suit\"}, {\"sourceIndex\": 7, \"targetIndex\": 12, \"weights\": {\"number_of_events\": {\"weight_norm\": 0.02347127856701668, \"weight\": 114}}, \"type\": \"suit\"}, {\"sourceIndex\": 7, \"targetIndex\": 0, \"weights\": {\"number_of_events\": {\"weight_norm\": 0.018324068354951616, \"weight\": 89}}, \"type\": \"suit\"}, {\"sourceIndex\": 7, \"targetIndex\": 5, \"weights\": {\"number_of_events\": {\"weight_norm\": 0.008647313156269302, \"weight\": 42}}, \"type\": \"suit\"}, {\"sourceIndex\": 7, \"targetIndex\": 10, \"weights\": {\"number_of_events\": {\"weight_norm\": 0.11632695079267037, \"weight\": 565}}, \"type\": \"suit\"}, {\"sourceIndex\": 7, \"targetIndex\": 1, \"weights\": {\"number_of_events\": {\"weight_norm\": 0.04056001647107268, \"weight\": 197}}, \"type\": \"suit\"}, {\"sourceIndex\": 7, \"targetIndex\": 11, \"weights\": {\"number_of_events\": {\"weight_norm\": 0.01955939880584723, \"weight\": 95}}, \"type\": \"suit\"}, {\"sourceIndex\": 11, \"targetIndex\": 5, \"weights\": {\"number_of_events\": {\"weight_norm\": 0.05538398188182005, \"weight\": 269}}, \"type\": \"suit\"}, {\"sourceIndex\": 4, \"targetIndex\": 6, \"weights\": {\"number_of_events\": {\"weight_norm\": 0.09717932880378835, \"weight\": 472}}, \"type\": \"suit\"}, {\"sourceIndex\": 4, \"targetIndex\": 12, \"weights\": {\"number_of_events\": {\"weight_norm\": 0.15441630636195183, \"weight\": 750}}, \"type\": \"suit\"}, {\"sourceIndex\": 4, \"targetIndex\": 0, \"weights\": {\"number_of_events\": {\"weight_norm\": 0.0335598105826642, \"weight\": 163}}, \"type\": \"suit\"}, {\"sourceIndex\": 4, \"targetIndex\": 5, \"weights\": {\"number_of_events\": {\"weight_norm\": 0.02470660901791229, \"weight\": 120}}, \"type\": \"suit\"}, {\"sourceIndex\": 9, \"targetIndex\": 6, \"weights\": {\"number_of_events\": {\"weight_norm\": 0.13588634959851761, \"weight\": 660}}, \"type\": \"suit\"}, {\"sourceIndex\": 9, \"targetIndex\": 12, \"weights\": {\"number_of_events\": {\"weight_norm\": 0.26724315421041794, \"weight\": 1298}}, \"type\": \"suit\"}, {\"sourceIndex\": 9, \"targetIndex\": 0, \"weights\": {\"number_of_events\": {\"weight_norm\": 0.02388305538398188, \"weight\": 116}}, \"type\": \"suit\"}, {\"sourceIndex\": 9, \"targetIndex\": 5, \"weights\": {\"number_of_events\": {\"weight_norm\": 0.018735845171916822, \"weight\": 91}}, \"type\": \"suit\"}],\n",
                     "    nodesColsNames: ['number_of_events'],\n",
                     "    linksWeightsNames: ['number_of_events'],\n",
                     "    nodesThreshold: {\"number_of_events\": 0.9},\n",
                     "    linksThreshold: undefined,\n",
                     "    showWeights: undefined,\n",
                     "    showPercents: undefined,\n",
                     "    showNodesNames: undefined,\n",
                     "    showAllEdgesForTargets: undefined,\n",
                     "    showNodesWithoutLinks: undefined,\n",
                     "    useLayoutDump: Boolean(0),\n",
                     "    weightTemplate: undefined\n",
                     "})\n",
                     "`\n",
                     "        iframeDocument.body.appendChild(initGraph)\n",
                     "      })\n",
                     "\n",
                     "      iframeDocument.head.appendChild(graphScript)\n",
                     "      iframeDocument.body.dataset.templateId = 'elD0UYC1_template'\n",
                     "\n",
                     "      console.info('Graph IFRAME initialized')\n",
                     "    }\n",
                     "\n",
                     "    console.log(`Graph IFRAME loaded: ` + iframeLoaded)\n",
                     "\n",
                     "    if (iframeLoaded) {\n",
                     "      init()\n",
                     "      return\n",
                     "    }\n",
                     "\n",
                     "    iframe.onload = () => {\n",
                     "      init()\n",
                     "      window.reteLoadedIframes.push('elD0UYC1')\n",
                     "    }\n",
                     "  })()\n",
                     "</script>\n",
                     "\n",
                     "<template id=\"elD0UYC1_template\">\n",
                     "    <!DOCTYPE html>\n",
                     "<html lang=\"en\">\n",
                     "<head>\n",
                     "    <meta charset=\"UTF-8\"/>\n",
                     "    <meta name=\"viewport\" content=\"width=device-width, initial-scale=1.0, maximum-scale=1.0, user-scalable=no\"/>\n",
                     "    <meta name=\"theme-color\" content=\"#000000\"/>\n",
                     "    <link rel=\"preconnect\" href=\"https://fonts.googleapis.com\"/>\n",
                     "    <link crossorigin rel=\"preconnect\" href=\"https://fonts.gstatic.com\"/>\n",
                     "    <link\n",
                     "            crossorigin\n",
                     "            href=\"https://fonts.googleapis.com/css2?family=Open+Sans:wght@400;600&display=swap\"\n",
                     "            rel=\"stylesheet\"\n",
                     "    />\n",
                     "    <title>Retentioneering Transition Graph Application</title>\n",
                     "</head>\n",
                     "\n",
                     "<body>\n",
                     "<noscript>You need to enable JavaScript to run this app.</noscript>\n",
                     "{content}\n",
                     "</body>\n",
                     "</html>\n",
                     "</template>"
                  ],
                  "text/plain": [
                     "<IPython.core.display.HTML object>"
                  ]
               },
               "metadata": {},
               "output_type": "display_data"
            }
         ],
         "source": [
            "graph.plot_graph(norm_type=None, thresholds={'nodes': {'number_of_events': 0.9}})"
         ]
      }
   ],
   "metadata": {
      "kernelspec": {
         "display_name": "Python 3 (ipykernel)",
         "language": "python",
         "name": "python3"
      },
      "language_info": {
         "codemirror_mode": {
            "name": "ipython",
            "version": 3
         },
         "file_extension": ".py",
         "mimetype": "text/x-python",
         "name": "python",
         "nbconvert_exporter": "python",
         "pygments_lexer": "ipython3",
         "version": "3.8.13"
      }
   },
   "nbformat": 4,
   "nbformat_minor": 5
}