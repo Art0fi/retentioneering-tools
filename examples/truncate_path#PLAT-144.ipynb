{
 "cells": [
  {
   "cell_type": "code",
   "execution_count": 1,
   "metadata": {
    "collapsed": true
   },
   "outputs": [],
   "source": [
    "import sys\n",
    "sys.path.insert(0, '..')"
   ]
  },
  {
   "cell_type": "markdown",
   "source": [
    "# Граф"
   ],
   "metadata": {
    "collapsed": false
   }
  },
  {
   "cell_type": "code",
   "execution_count": 2,
   "outputs": [],
   "source": [
    "import pandas as pd\n",
    "\n",
    "from src.eventstream.eventstream import Eventstream\n",
    "from src.eventstream.schema import RawDataSchema, EventstreamSchema\n",
    "from src.graph.p_graph import PGraph, EventsNode\n",
    "\n",
    "raw_data = pd.read_csv('simple-onlineshop.csv')\n",
    "\n",
    "raw_data_schema = RawDataSchema(\n",
    "                            event_name=\"event\",\n",
    "                            event_timestamp=\"timestamp\",\n",
    "                            user_id=\"user_id\")\n",
    "\n",
    "source = Eventstream(\n",
    "    raw_data=raw_data,\n",
    "    raw_data_schema=raw_data_schema,\n",
    "    schema=EventstreamSchema()\n",
    ")\n",
    "\n",
    "graph = PGraph(source_stream=source)"
   ],
   "metadata": {
    "collapsed": false
   }
  },
  {
   "cell_type": "code",
   "execution_count": 3,
   "outputs": [
    {
     "data": {
      "text/plain": "catalog             14518\nmain                 5635\nlost                 3098\ncart                 2842\nproduct2             2172\ndelivery_choice      1686\nproduct1             1515\npayment_choice       1107\ndelivery_courier      834\npayment_done          706\npayment_card          565\ndelivery_pickup       506\npayment_cash          197\nName: event_name, dtype: int64"
     },
     "execution_count": 3,
     "metadata": {},
     "output_type": "execute_result"
    }
   ],
   "source": [
    "source_df = source.to_dataframe()\n",
    "source_df['event_name'].value_counts()"
   ],
   "metadata": {
    "collapsed": false
   }
  },
  {
   "cell_type": "code",
   "execution_count": 22,
   "outputs": [
    {
     "data": {
      "text/plain": "'user_id'"
     },
     "execution_count": 22,
     "metadata": {},
     "output_type": "execute_result"
    }
   ],
   "source": [
    "all(i in source_df.columns for i in ['event_id', 'ccc'])\n",
    "source_df.columns[-1]"
   ],
   "metadata": {
    "collapsed": false
   }
  },
  {
   "cell_type": "code",
   "execution_count": 14,
   "outputs": [
    {
     "data": {
      "text/plain": "Index(['event_id', 'event_type', 'event_index', 'event_name',\n       'event_timestamp', 'user_id'],\n      dtype='object')"
     },
     "execution_count": 14,
     "metadata": {},
     "output_type": "execute_result"
    }
   ],
   "source": [
    "source_df.columns"
   ],
   "metadata": {
    "collapsed": false
   }
  },
  {
   "cell_type": "markdown",
   "source": [
    "# truncate path"
   ],
   "metadata": {
    "collapsed": false
   }
  },
  {
   "cell_type": "markdown",
   "source": [
    "## Описание работы функции"
   ],
   "metadata": {
    "collapsed": false
   }
  },
  {
   "cell_type": "markdown",
   "source": [
    "Датапроцессор удаляет часть траектории относительно заданного события\n",
    "Параметры:\n",
    "```drop_before``` - событие, до которого удаляется часть траектории пользователя (само событие остается)\n",
    "```drop_after``` -событие, после которого удаляется часть траектории пользователя (само событие остается)\n",
    "```occurrence_before``` и ```occurrence_after``` - Будет применяться, если в траектории несколько событий, которые мы выбрали как целевые для обрезки. Принимают значение first (обрезка проведется по событию с минимальным timestamp в траектории пользователя) или last (по событию с максимальным timestamp в траектории пользователя).\n",
    "```shift_before``` и ```shift_after``` - задается целым числом, обозначает сдвиг на заданное количество шагов относительного события из параметра \"drop_*\" для каждого типа обрезки\n",
    "(по дефолту - 0, отрицательное - сдвиг влево по оси времени, положительное - сдвиг вправо по оси времени)\n"
   ],
   "metadata": {
    "collapsed": false
   }
  },
  {
   "cell_type": "code",
   "execution_count": 7,
   "outputs": [
    {
     "data": {
      "text/plain": "                                   event_id event_type  event_index  \\\n0      aae373f5-587a-4cbc-86f1-0d1b1daad436        raw            0   \n1      2a273dd5-2d4d-49c4-a8b9-6631faf7594f        raw            1   \n2      27919e26-9063-4e1a-bd44-9b7fa579baae        raw            2   \n3      2349d3f5-e7b8-4a1b-aae4-4d0dffbd955c        raw            3   \n44     3def435d-66b0-49ab-95c6-f4aa3ccb3fef        raw           44   \n...                                     ...        ...          ...   \n44417  c708c296-8853-42bb-b119-12dee7cd6e56        raw        44417   \n44418  ada68fcc-8b0a-45b1-a8cd-ddda1bc8cd73        raw        44418   \n44419  a44fcc6f-41cb-4568-97b7-157cab796296        raw        44419   \n44420  f54ceb51-68f2-46d9-8015-bc5139a0a2ca        raw        44420   \n44421  e408b973-9385-4d8c-83ae-806a4a05e0e8        raw        44421   \n\n      event_name            event_timestamp      user_id  \n0        catalog 2019-11-01 17:59:13.273932  219483890.0  \n1       product1 2019-11-01 17:59:28.459271  219483890.0  \n2           cart 2019-11-01 17:59:29.502214  219483890.0  \n3        catalog 2019-11-01 17:59:32.557029  219483890.0  \n44      product1 2019-11-01 22:33:19.961115  629881394.0  \n...          ...                        ...          ...  \n44417    catalog 2020-04-29 12:47:40.975732  501098384.0  \n44418    catalog 2020-04-29 12:48:01.809577  501098384.0  \n44419       main 2020-04-29 12:48:01.938488  501098384.0  \n44420    catalog 2020-04-29 12:48:06.595390  501098384.0  \n44421       lost 2020-04-29 12:48:07.595390  501098384.0  \n\n[26340 rows x 6 columns]",
      "text/html": "<div>\n<style scoped>\n    .dataframe tbody tr th:only-of-type {\n        vertical-align: middle;\n    }\n\n    .dataframe tbody tr th {\n        vertical-align: top;\n    }\n\n    .dataframe thead th {\n        text-align: right;\n    }\n</style>\n<table border=\"1\" class=\"dataframe\">\n  <thead>\n    <tr style=\"text-align: right;\">\n      <th></th>\n      <th>event_id</th>\n      <th>event_type</th>\n      <th>event_index</th>\n      <th>event_name</th>\n      <th>event_timestamp</th>\n      <th>user_id</th>\n    </tr>\n  </thead>\n  <tbody>\n    <tr>\n      <th>0</th>\n      <td>aae373f5-587a-4cbc-86f1-0d1b1daad436</td>\n      <td>raw</td>\n      <td>0</td>\n      <td>catalog</td>\n      <td>2019-11-01 17:59:13.273932</td>\n      <td>219483890.0</td>\n    </tr>\n    <tr>\n      <th>1</th>\n      <td>2a273dd5-2d4d-49c4-a8b9-6631faf7594f</td>\n      <td>raw</td>\n      <td>1</td>\n      <td>product1</td>\n      <td>2019-11-01 17:59:28.459271</td>\n      <td>219483890.0</td>\n    </tr>\n    <tr>\n      <th>2</th>\n      <td>27919e26-9063-4e1a-bd44-9b7fa579baae</td>\n      <td>raw</td>\n      <td>2</td>\n      <td>cart</td>\n      <td>2019-11-01 17:59:29.502214</td>\n      <td>219483890.0</td>\n    </tr>\n    <tr>\n      <th>3</th>\n      <td>2349d3f5-e7b8-4a1b-aae4-4d0dffbd955c</td>\n      <td>raw</td>\n      <td>3</td>\n      <td>catalog</td>\n      <td>2019-11-01 17:59:32.557029</td>\n      <td>219483890.0</td>\n    </tr>\n    <tr>\n      <th>44</th>\n      <td>3def435d-66b0-49ab-95c6-f4aa3ccb3fef</td>\n      <td>raw</td>\n      <td>44</td>\n      <td>product1</td>\n      <td>2019-11-01 22:33:19.961115</td>\n      <td>629881394.0</td>\n    </tr>\n    <tr>\n      <th>...</th>\n      <td>...</td>\n      <td>...</td>\n      <td>...</td>\n      <td>...</td>\n      <td>...</td>\n      <td>...</td>\n    </tr>\n    <tr>\n      <th>44417</th>\n      <td>c708c296-8853-42bb-b119-12dee7cd6e56</td>\n      <td>raw</td>\n      <td>44417</td>\n      <td>catalog</td>\n      <td>2020-04-29 12:47:40.975732</td>\n      <td>501098384.0</td>\n    </tr>\n    <tr>\n      <th>44418</th>\n      <td>ada68fcc-8b0a-45b1-a8cd-ddda1bc8cd73</td>\n      <td>raw</td>\n      <td>44418</td>\n      <td>catalog</td>\n      <td>2020-04-29 12:48:01.809577</td>\n      <td>501098384.0</td>\n    </tr>\n    <tr>\n      <th>44419</th>\n      <td>a44fcc6f-41cb-4568-97b7-157cab796296</td>\n      <td>raw</td>\n      <td>44419</td>\n      <td>main</td>\n      <td>2020-04-29 12:48:01.938488</td>\n      <td>501098384.0</td>\n    </tr>\n    <tr>\n      <th>44420</th>\n      <td>f54ceb51-68f2-46d9-8015-bc5139a0a2ca</td>\n      <td>raw</td>\n      <td>44420</td>\n      <td>catalog</td>\n      <td>2020-04-29 12:48:06.595390</td>\n      <td>501098384.0</td>\n    </tr>\n    <tr>\n      <th>44421</th>\n      <td>e408b973-9385-4d8c-83ae-806a4a05e0e8</td>\n      <td>raw</td>\n      <td>44421</td>\n      <td>lost</td>\n      <td>2020-04-29 12:48:07.595390</td>\n      <td>501098384.0</td>\n    </tr>\n  </tbody>\n</table>\n<p>26340 rows × 6 columns</p>\n</div>"
     },
     "execution_count": 7,
     "metadata": {},
     "output_type": "execute_result"
    }
   ],
   "source": [
    "%%time\n",
    "from src.data_processors_lib.rete import TruncatePath, TruncatePathParams\n",
    "params = {\n",
    "            'drop_before' : 'product2',\n",
    "            'drop_after' : None,\n",
    "            'occurrence_before' : 'first',\n",
    "            'occurrence_after' : 'last',\n",
    "            'shift_before' : 0,\n",
    "            'shift_after' : 0\n",
    "}\n",
    "\n",
    "truncate_path = EventsNode(\n",
    "    TruncatePath(params=TruncatePathParams(**params)))\n",
    "\n",
    "graph.add_node(\n",
    "    node=truncate_path,\n",
    "    parents=[graph.root]\n",
    ")\n",
    "\n",
    "result = graph.combine(\n",
    "    node=truncate_path\n",
    ")\n",
    "result.to_dataframe()"
   ],
   "metadata": {
    "collapsed": false
   }
  },
  {
   "cell_type": "code",
   "execution_count": 5,
   "outputs": [
    {
     "name": "stderr",
     "output_type": "stream",
     "text": [
      "/Users/Daria/Dev/Retentioneering/retentioneering-tools-new-arch/examples/../src/data_processors_lib/rete/cut_path_before_event.py:44: SettingWithCopyWarning: \n",
      "A value is trying to be set on a copy of a slice from a DataFrame.\n",
      "Try using .loc[row_indexer,col_indexer] = value instead\n",
      "\n",
      "See the caveats in the documentation: https://pandas.pydata.org/pandas-docs/stable/user_guide/indexing.html#returning-a-view-versus-a-copy\n",
      "  df_cut[\"num_groups\"] = df_cut.groupby([user_col])[time_col].transform(\n",
      "/Users/Daria/Dev/Retentioneering/retentioneering-tools-new-arch/examples/../src/data_processors_lib/rete/cut_path_before_event.py:60: SettingWithCopyWarning: \n",
      "A value is trying to be set on a copy of a slice from a DataFrame.\n",
      "Try using .loc[row_indexer,col_indexer] = value instead\n",
      "\n",
      "See the caveats in the documentation: https://pandas.pydata.org/pandas-docs/stable/user_guide/indexing.html#returning-a-view-versus-a-copy\n",
      "  df_to_del[\"ref\"] = df_to_del[eventstream.schema.event_id]\n"
     ]
    },
    {
     "name": "stdout",
     "output_type": "stream",
     "text": [
      "CPU times: user 44.6 s, sys: 190 ms, total: 44.8 s\n",
      "Wall time: 45.5 s\n"
     ]
    }
   ],
   "source": [
    "# %%time\n",
    "# from src.data_processors_lib.rete import CutPathBeforeEvent, CutPathBeforeEventParams\n",
    "# params = {\n",
    "#     'cutoff_events': ['product2'],\n",
    "#     'cut_shift': 0,\n",
    "#     'min_cjm': 0\n",
    "# }\n",
    "#\n",
    "# cut_before = EventsNode(\n",
    "#     CutPathBeforeEvent(params=CutPathBeforeEventParams(**params)))\n",
    "#\n",
    "# graph.add_node(\n",
    "#     node=cut_before,\n",
    "#     parents=[graph.root]\n",
    "# )\n",
    "#\n",
    "# result = graph.combine(\n",
    "#     node=cut_before\n",
    "# )\n"
   ],
   "metadata": {
    "collapsed": false
   }
  },
  {
   "cell_type": "code",
   "execution_count": 23,
   "outputs": [
    {
     "data": {
      "text/plain": "True"
     },
     "execution_count": 23,
     "metadata": {},
     "output_type": "execute_result"
    }
   ],
   "source": [
    "occurrence_before = 0\n",
    "not occurrence_before"
   ],
   "metadata": {
    "collapsed": false
   }
  },
  {
   "cell_type": "code",
   "execution_count": null,
   "outputs": [],
   "source": [],
   "metadata": {
    "collapsed": false
   }
  }
 ],
 "metadata": {
  "kernelspec": {
   "display_name": "Python 3",
   "language": "python",
   "name": "python3"
  },
  "language_info": {
   "codemirror_mode": {
    "name": "ipython",
    "version": 2
   },
   "file_extension": ".py",
   "mimetype": "text/x-python",
   "name": "python",
   "nbconvert_exporter": "python",
   "pygments_lexer": "ipython2",
   "version": "2.7.6"
  }
 },
 "nbformat": 4,
 "nbformat_minor": 0
}
