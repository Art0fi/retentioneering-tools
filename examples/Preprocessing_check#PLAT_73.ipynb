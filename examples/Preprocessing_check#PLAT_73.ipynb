{
 "cells": [
  {
   "cell_type": "code",
   "execution_count": 1,
   "id": "597ffbc8-15f0-4702-91c7-0586f52fd3f3",
   "metadata": {
    "pycharm": {
     "name": "#%%\n"
    }
   },
   "outputs": [],
   "source": [
    "# path = '/home/dpanina/share/rete_tools/examples/'\n",
    "# path = '/Users/Daria/Dev/Retentioneering/retentioneering-tools-new-arch/'"
   ]
  },
  {
   "cell_type": "code",
   "execution_count": 2,
   "id": "3df56cd0-429b-4027-82dd-69fb29456a22",
   "metadata": {
    "pycharm": {
     "name": "#%%\n"
    }
   },
   "outputs": [],
   "source": [
    "import sys\n",
    "# # sys.path.insert(0, '/home/dpanina/retentioneering-tools-new-arch/')\n",
    "#\n",
    "sys.path.insert(0, '..')"
   ]
  },
  {
   "cell_type": "markdown",
   "source": [
    "# Инициация графа"
   ],
   "metadata": {
    "collapsed": false,
    "pycharm": {
     "name": "#%% md\n"
    }
   }
  },
  {
   "cell_type": "code",
   "execution_count": 3,
   "id": "a8390b4d-ac4a-4b66-960b-915ded3e4037",
   "metadata": {
    "pycharm": {
     "name": "#%%\n"
    }
   },
   "outputs": [],
   "source": [
    "import pandas as pd\n",
    "\n",
    "from src.eventstream.eventstream import Eventstream\n",
    "from src.eventstream.schema import RawDataSchema, EventstreamSchema\n",
    "from src.graph.p_graph import PGraph, EventsNode\n",
    "\n",
    "raw_data = pd.read_csv( 'simple-onlineshop.csv')\n",
    "\n",
    "raw_data_schema = RawDataSchema(\n",
    "                            event_name=\"event\", \n",
    "                            event_timestamp=\"timestamp\", \n",
    "                            user_id=\"user_id\")\n",
    "\n",
    "source = Eventstream(\n",
    "    raw_data=raw_data,\n",
    "    raw_data_schema=raw_data_schema,\n",
    "    schema=EventstreamSchema()\n",
    ")\n",
    "\n",
    "graph = PGraph(source_stream=source)\n"
   ]
  },
  {
   "cell_type": "code",
   "execution_count": 4,
   "id": "ab3f2193-2feb-47ba-bd67-fc312559055d",
   "metadata": {
    "pycharm": {
     "name": "#%%\n"
    }
   },
   "outputs": [
    {
     "data": {
      "text/plain": "RawDataSchema(event_name='event', event_timestamp='timestamp', user_id='user_id', event_type=None, custom_cols=[])"
     },
     "execution_count": 4,
     "metadata": {},
     "output_type": "execute_result"
    }
   ],
   "source": [
    "raw_data_schema"
   ]
  },
  {
   "cell_type": "code",
   "execution_count": 5,
   "id": "03c31511-5ac8-4c25-ae0a-999e8e543683",
   "metadata": {
    "pycharm": {
     "name": "#%%\n"
    }
   },
   "outputs": [
    {
     "data": {
      "text/plain": "     user_id            event                   timestamp\n0  219483890          catalog  2019-11-01 17:59:13.273932\n1  219483890         product1  2019-11-01 17:59:28.459271\n2  219483890             cart  2019-11-01 17:59:29.502214\n3  219483890          catalog  2019-11-01 17:59:32.557029\n4  964964743          catalog  2019-11-01 21:38:19.283663\n5  964964743             cart  2019-11-01 21:38:36.761221\n6  964964743  delivery_choice  2019-11-01 21:38:37.564693\n7  629881394             main  2019-11-01 22:28:54.791683",
      "text/html": "<div>\n<style scoped>\n    .dataframe tbody tr th:only-of-type {\n        vertical-align: middle;\n    }\n\n    .dataframe tbody tr th {\n        vertical-align: top;\n    }\n\n    .dataframe thead th {\n        text-align: right;\n    }\n</style>\n<table border=\"1\" class=\"dataframe\">\n  <thead>\n    <tr style=\"text-align: right;\">\n      <th></th>\n      <th>user_id</th>\n      <th>event</th>\n      <th>timestamp</th>\n    </tr>\n  </thead>\n  <tbody>\n    <tr>\n      <th>0</th>\n      <td>219483890</td>\n      <td>catalog</td>\n      <td>2019-11-01 17:59:13.273932</td>\n    </tr>\n    <tr>\n      <th>1</th>\n      <td>219483890</td>\n      <td>product1</td>\n      <td>2019-11-01 17:59:28.459271</td>\n    </tr>\n    <tr>\n      <th>2</th>\n      <td>219483890</td>\n      <td>cart</td>\n      <td>2019-11-01 17:59:29.502214</td>\n    </tr>\n    <tr>\n      <th>3</th>\n      <td>219483890</td>\n      <td>catalog</td>\n      <td>2019-11-01 17:59:32.557029</td>\n    </tr>\n    <tr>\n      <th>4</th>\n      <td>964964743</td>\n      <td>catalog</td>\n      <td>2019-11-01 21:38:19.283663</td>\n    </tr>\n    <tr>\n      <th>5</th>\n      <td>964964743</td>\n      <td>cart</td>\n      <td>2019-11-01 21:38:36.761221</td>\n    </tr>\n    <tr>\n      <th>6</th>\n      <td>964964743</td>\n      <td>delivery_choice</td>\n      <td>2019-11-01 21:38:37.564693</td>\n    </tr>\n    <tr>\n      <th>7</th>\n      <td>629881394</td>\n      <td>main</td>\n      <td>2019-11-01 22:28:54.791683</td>\n    </tr>\n  </tbody>\n</table>\n</div>"
     },
     "execution_count": 5,
     "metadata": {},
     "output_type": "execute_result"
    }
   ],
   "source": [
    "raw_data.head(8)"
   ]
  },
  {
   "cell_type": "code",
   "execution_count": 6,
   "outputs": [
    {
     "data": {
      "text/plain": "                               event_id event_type  event_index  \\\n0  59a69b9b-91e6-4ea6-b338-2d50e9b465f5        raw            0   \n1  072c19d0-427b-4278-809b-c509e52cee4a        raw            1   \n2  1692b904-c338-473e-b00b-5b16d5c79d67        raw            2   \n3  56a76f25-ed9d-46de-8a4f-235bf534f770        raw            3   \n4  78809682-25ea-4d09-b8fb-008c6da653e1        raw            4   \n5  94c484be-8f3e-4578-b43c-ef62184132ca        raw            5   \n6  9930949d-a839-4358-863d-f3e16d77f02b        raw            6   \n7  56c73621-a726-43fc-b1e5-a286c93afd85        raw            7   \n\n        event_name            event_timestamp    user_id  \n0          catalog 2019-11-01 17:59:13.273932  219483890  \n1         product1 2019-11-01 17:59:28.459271  219483890  \n2             cart 2019-11-01 17:59:29.502214  219483890  \n3          catalog 2019-11-01 17:59:32.557029  219483890  \n4          catalog 2019-11-01 21:38:19.283663  964964743  \n5             cart 2019-11-01 21:38:36.761221  964964743  \n6  delivery_choice 2019-11-01 21:38:37.564693  964964743  \n7             main 2019-11-01 22:28:54.791683  629881394  ",
      "text/html": "<div>\n<style scoped>\n    .dataframe tbody tr th:only-of-type {\n        vertical-align: middle;\n    }\n\n    .dataframe tbody tr th {\n        vertical-align: top;\n    }\n\n    .dataframe thead th {\n        text-align: right;\n    }\n</style>\n<table border=\"1\" class=\"dataframe\">\n  <thead>\n    <tr style=\"text-align: right;\">\n      <th></th>\n      <th>event_id</th>\n      <th>event_type</th>\n      <th>event_index</th>\n      <th>event_name</th>\n      <th>event_timestamp</th>\n      <th>user_id</th>\n    </tr>\n  </thead>\n  <tbody>\n    <tr>\n      <th>0</th>\n      <td>59a69b9b-91e6-4ea6-b338-2d50e9b465f5</td>\n      <td>raw</td>\n      <td>0</td>\n      <td>catalog</td>\n      <td>2019-11-01 17:59:13.273932</td>\n      <td>219483890</td>\n    </tr>\n    <tr>\n      <th>1</th>\n      <td>072c19d0-427b-4278-809b-c509e52cee4a</td>\n      <td>raw</td>\n      <td>1</td>\n      <td>product1</td>\n      <td>2019-11-01 17:59:28.459271</td>\n      <td>219483890</td>\n    </tr>\n    <tr>\n      <th>2</th>\n      <td>1692b904-c338-473e-b00b-5b16d5c79d67</td>\n      <td>raw</td>\n      <td>2</td>\n      <td>cart</td>\n      <td>2019-11-01 17:59:29.502214</td>\n      <td>219483890</td>\n    </tr>\n    <tr>\n      <th>3</th>\n      <td>56a76f25-ed9d-46de-8a4f-235bf534f770</td>\n      <td>raw</td>\n      <td>3</td>\n      <td>catalog</td>\n      <td>2019-11-01 17:59:32.557029</td>\n      <td>219483890</td>\n    </tr>\n    <tr>\n      <th>4</th>\n      <td>78809682-25ea-4d09-b8fb-008c6da653e1</td>\n      <td>raw</td>\n      <td>4</td>\n      <td>catalog</td>\n      <td>2019-11-01 21:38:19.283663</td>\n      <td>964964743</td>\n    </tr>\n    <tr>\n      <th>5</th>\n      <td>94c484be-8f3e-4578-b43c-ef62184132ca</td>\n      <td>raw</td>\n      <td>5</td>\n      <td>cart</td>\n      <td>2019-11-01 21:38:36.761221</td>\n      <td>964964743</td>\n    </tr>\n    <tr>\n      <th>6</th>\n      <td>9930949d-a839-4358-863d-f3e16d77f02b</td>\n      <td>raw</td>\n      <td>6</td>\n      <td>delivery_choice</td>\n      <td>2019-11-01 21:38:37.564693</td>\n      <td>964964743</td>\n    </tr>\n    <tr>\n      <th>7</th>\n      <td>56c73621-a726-43fc-b1e5-a286c93afd85</td>\n      <td>raw</td>\n      <td>7</td>\n      <td>main</td>\n      <td>2019-11-01 22:28:54.791683</td>\n      <td>629881394</td>\n    </tr>\n  </tbody>\n</table>\n</div>"
     },
     "execution_count": 6,
     "metadata": {},
     "output_type": "execute_result"
    }
   ],
   "source": [
    "source.to_dataframe().head(8)"
   ],
   "metadata": {
    "collapsed": false,
    "pycharm": {
     "name": "#%%\n"
    }
   }
  },
  {
   "cell_type": "code",
   "execution_count": 7,
   "outputs": [],
   "source": [
    "source_df = source.to_dataframe()"
   ],
   "metadata": {
    "collapsed": false,
    "pycharm": {
     "name": "#%%\n"
    }
   }
  },
  {
   "cell_type": "code",
   "execution_count": 8,
   "outputs": [
    {
     "name": "stdout",
     "output_type": "stream",
     "text": [
      "<class 'pandas.core.frame.DataFrame'>\n",
      "Int64Index: 35381 entries, 0 to 35380\n",
      "Data columns (total 6 columns):\n",
      " #   Column           Non-Null Count  Dtype         \n",
      "---  ------           --------------  -----         \n",
      " 0   event_id         35381 non-null  object        \n",
      " 1   event_type       35381 non-null  object        \n",
      " 2   event_index      35381 non-null  int64         \n",
      " 3   event_name       35381 non-null  object        \n",
      " 4   event_timestamp  35381 non-null  datetime64[ns]\n",
      " 5   user_id          35381 non-null  int64         \n",
      "dtypes: datetime64[ns](1), int64(2), object(3)\n",
      "memory usage: 1.9+ MB\n"
     ]
    }
   ],
   "source": [
    "source_df.info()"
   ],
   "metadata": {
    "collapsed": false,
    "pycharm": {
     "name": "#%%\n"
    }
   }
  },
  {
   "cell_type": "markdown",
   "source": [
    "## Результат - тут все общие вопросы"
   ],
   "metadata": {
    "collapsed": false,
    "pycharm": {
     "name": "#%% md\n"
    }
   }
  },
  {
   "cell_type": "markdown",
   "source": [
    "user_id должен быть int\n",
    "можем ли задавать эту схему типов?\n",
    "Почему каждая функция - это отдельный класс?\n",
    "Почему это не может быть класс препроцессинга?\n",
    "- get_parents() - выдача не оч информативная\n",
    "    - [<src.graph.p_graph.EventsNode at 0x7f3892298160>]\n",
    "- как можно посмотреть все предыдущие ноды до корня?"
   ],
   "metadata": {
    "collapsed": false,
    "pycharm": {
     "name": "#%% md\n"
    }
   }
  },
  {
   "cell_type": "markdown",
   "id": "971a15e0-cf10-43b0-ae6e-1285b21b9c7b",
   "metadata": {
    "pycharm": {
     "name": "#%% md\n"
    }
   },
   "source": [
    " # Добавление синтетических событий"
   ]
  },
  {
   "cell_type": "markdown",
   "source": [
    "## StartEnd"
   ],
   "metadata": {
    "collapsed": false,
    "pycharm": {
     "name": "#%% md\n"
    }
   }
  },
  {
   "cell_type": "code",
   "execution_count": 9,
   "id": "da0ec4ab-309b-4144-93c6-613300ee3bc7",
   "metadata": {
    "pycharm": {
     "name": "#%%\n"
    }
   },
   "outputs": [],
   "source": [
    "from src.data_processors_lib.rete import StartEndEvents, StartEndEventsParams"
   ]
  },
  {
   "cell_type": "code",
   "execution_count": 10,
   "id": "5e8d665b-b917-4b8e-8da0-42eee854ccd4",
   "metadata": {
    "pycharm": {
     "name": "#%%\n"
    }
   },
   "outputs": [
    {
     "data": {
      "text/plain": "                               event_id event_type  event_index event_name  \\\n0  0246ba24-8115-47e0-8d7c-4b3339987e6a      start            0      start   \n1  59a69b9b-91e6-4ea6-b338-2d50e9b465f5        raw            1    catalog   \n2  072c19d0-427b-4278-809b-c509e52cee4a        raw            2   product1   \n3  1692b904-c338-473e-b00b-5b16d5c79d67        raw            3       cart   \n4  56a76f25-ed9d-46de-8a4f-235bf534f770        raw            4    catalog   \n5  f2506613-b1d8-4eed-a98e-f99f6bc019e9      start            5      start   \n6  78809682-25ea-4d09-b8fb-008c6da653e1        raw            6    catalog   \n7  94c484be-8f3e-4578-b43c-ef62184132ca        raw            7       cart   \n\n             event_timestamp      user_id  \n0 2019-11-01 17:59:13.273932  219483890.0  \n1 2019-11-01 17:59:13.273932  219483890.0  \n2 2019-11-01 17:59:28.459271  219483890.0  \n3 2019-11-01 17:59:29.502214  219483890.0  \n4 2019-11-01 17:59:32.557029  219483890.0  \n5 2019-11-01 21:38:19.283663  964964743.0  \n6 2019-11-01 21:38:19.283663  964964743.0  \n7 2019-11-01 21:38:36.761221  964964743.0  ",
      "text/html": "<div>\n<style scoped>\n    .dataframe tbody tr th:only-of-type {\n        vertical-align: middle;\n    }\n\n    .dataframe tbody tr th {\n        vertical-align: top;\n    }\n\n    .dataframe thead th {\n        text-align: right;\n    }\n</style>\n<table border=\"1\" class=\"dataframe\">\n  <thead>\n    <tr style=\"text-align: right;\">\n      <th></th>\n      <th>event_id</th>\n      <th>event_type</th>\n      <th>event_index</th>\n      <th>event_name</th>\n      <th>event_timestamp</th>\n      <th>user_id</th>\n    </tr>\n  </thead>\n  <tbody>\n    <tr>\n      <th>0</th>\n      <td>0246ba24-8115-47e0-8d7c-4b3339987e6a</td>\n      <td>start</td>\n      <td>0</td>\n      <td>start</td>\n      <td>2019-11-01 17:59:13.273932</td>\n      <td>219483890.0</td>\n    </tr>\n    <tr>\n      <th>1</th>\n      <td>59a69b9b-91e6-4ea6-b338-2d50e9b465f5</td>\n      <td>raw</td>\n      <td>1</td>\n      <td>catalog</td>\n      <td>2019-11-01 17:59:13.273932</td>\n      <td>219483890.0</td>\n    </tr>\n    <tr>\n      <th>2</th>\n      <td>072c19d0-427b-4278-809b-c509e52cee4a</td>\n      <td>raw</td>\n      <td>2</td>\n      <td>product1</td>\n      <td>2019-11-01 17:59:28.459271</td>\n      <td>219483890.0</td>\n    </tr>\n    <tr>\n      <th>3</th>\n      <td>1692b904-c338-473e-b00b-5b16d5c79d67</td>\n      <td>raw</td>\n      <td>3</td>\n      <td>cart</td>\n      <td>2019-11-01 17:59:29.502214</td>\n      <td>219483890.0</td>\n    </tr>\n    <tr>\n      <th>4</th>\n      <td>56a76f25-ed9d-46de-8a4f-235bf534f770</td>\n      <td>raw</td>\n      <td>4</td>\n      <td>catalog</td>\n      <td>2019-11-01 17:59:32.557029</td>\n      <td>219483890.0</td>\n    </tr>\n    <tr>\n      <th>5</th>\n      <td>f2506613-b1d8-4eed-a98e-f99f6bc019e9</td>\n      <td>start</td>\n      <td>5</td>\n      <td>start</td>\n      <td>2019-11-01 21:38:19.283663</td>\n      <td>964964743.0</td>\n    </tr>\n    <tr>\n      <th>6</th>\n      <td>78809682-25ea-4d09-b8fb-008c6da653e1</td>\n      <td>raw</td>\n      <td>6</td>\n      <td>catalog</td>\n      <td>2019-11-01 21:38:19.283663</td>\n      <td>964964743.0</td>\n    </tr>\n    <tr>\n      <th>7</th>\n      <td>94c484be-8f3e-4578-b43c-ef62184132ca</td>\n      <td>raw</td>\n      <td>7</td>\n      <td>cart</td>\n      <td>2019-11-01 21:38:36.761221</td>\n      <td>964964743.0</td>\n    </tr>\n  </tbody>\n</table>\n</div>"
     },
     "execution_count": 10,
     "metadata": {},
     "output_type": "execute_result"
    }
   ],
   "source": [
    "start_end_events = EventsNode(\n",
    "    StartEndEvents(params=StartEndEventsParams(**{}))\n",
    ")\n",
    "\n",
    "graph.add_node(\n",
    "    node=start_end_events,\n",
    "    parents=[graph.root]\n",
    ")\n",
    "\n",
    "result = graph.combine(\n",
    "    node=start_end_events\n",
    ")\n",
    "result.to_dataframe().head(8)"
   ]
  },
  {
   "cell_type": "code",
   "execution_count": 11,
   "id": "033e5033-28d9-443e-8ae0-7ec320b1f213",
   "metadata": {
    "pycharm": {
     "name": "#%%\n"
    }
   },
   "outputs": [
    {
     "name": "stdout",
     "output_type": "stream",
     "text": [
      "<class 'pandas.core.frame.DataFrame'>\n",
      "Int64Index: 42883 entries, 0 to 42882\n",
      "Data columns (total 6 columns):\n",
      " #   Column           Non-Null Count  Dtype         \n",
      "---  ------           --------------  -----         \n",
      " 0   event_id         42883 non-null  object        \n",
      " 1   event_type       42883 non-null  object        \n",
      " 2   event_index      42883 non-null  int64         \n",
      " 3   event_name       42883 non-null  object        \n",
      " 4   event_timestamp  42883 non-null  datetime64[ns]\n",
      " 5   user_id          42883 non-null  float64       \n",
      "dtypes: datetime64[ns](1), float64(1), int64(1), object(3)\n",
      "memory usage: 2.3+ MB\n"
     ]
    }
   ],
   "source": [
    "df = result.to_dataframe()\n",
    "df.info()"
   ]
  },
  {
   "cell_type": "code",
   "execution_count": 12,
   "id": "60dab57a-2df1-46f1-82f7-53e57e0e7132",
   "metadata": {
    "pycharm": {
     "name": "#%%\n"
    }
   },
   "outputs": [
    {
     "name": "stdout",
     "output_type": "stream",
     "text": [
      "19\n"
     ]
    },
    {
     "data": {
      "text/plain": "                                   event_id event_type  event_index  \\\n0      0246ba24-8115-47e0-8d7c-4b3339987e6a      start            0   \n1      59a69b9b-91e6-4ea6-b338-2d50e9b465f5        raw            1   \n2      072c19d0-427b-4278-809b-c509e52cee4a        raw            2   \n3      1692b904-c338-473e-b00b-5b16d5c79d67        raw            3   \n4      56a76f25-ed9d-46de-8a4f-235bf534f770        raw            4   \n2715   b2f9c0a1-904a-4dff-90e1-37be04986437        raw         2715   \n2716   1436f264-7a18-46b6-a732-60201d8b56d8        raw         2716   \n2717   7019613a-00ba-4aa8-b08d-3118638d9c02        raw         2717   \n5721   ebdfbd61-4fcd-44ff-b562-649e3efc76f8        raw         5721   \n5722   a927160b-96ce-4c89-bd53-d79a37bdd1b6        raw         5722   \n5723   2fa7934a-4e76-4018-994e-1dac03a4464f        raw         5723   \n5724   0adbd015-e172-47da-89c1-326b326ed4ad        raw         5724   \n5725   490137f7-c5c2-4387-a94b-2d8db537aa8c        raw         5725   \n5726   aca98f1b-a878-4ad5-8bb6-aec03effbb8d        raw         5726   \n5727   7b0fa9c4-bd8c-432b-8422-0074ab7994ff        raw         5727   \n10210  de8d92d7-80b0-496c-b020-e8354deb3f52        raw        10210   \n10211  803dfc1a-ebf3-4197-a012-8a2bc50eb1fa        raw        10211   \n10212  788d8821-41a3-4ffb-9712-3a9c97cf631d        raw        10212   \n10213  f96e931e-0e0c-42b5-b617-22bcb14ab7ac        end        10213   \n\n      event_name            event_timestamp      user_id  \n0          start 2019-11-01 17:59:13.273932  219483890.0  \n1        catalog 2019-11-01 17:59:13.273932  219483890.0  \n2       product1 2019-11-01 17:59:28.459271  219483890.0  \n3           cart 2019-11-01 17:59:29.502214  219483890.0  \n4        catalog 2019-11-01 17:59:32.557029  219483890.0  \n2715        main 2019-12-06 16:22:57.484842  219483890.0  \n2716     catalog 2019-12-06 16:23:01.331109  219483890.0  \n2717     catalog 2019-12-06 16:23:48.116617  219483890.0  \n5721        main 2020-01-06 22:10:13.635011  219483890.0  \n5722     catalog 2020-01-06 22:10:15.228575  219483890.0  \n5723        cart 2020-01-06 22:10:42.309028  219483890.0  \n5724     catalog 2020-01-06 22:10:52.255859  219483890.0  \n5725    product1 2020-01-06 22:11:01.709800  219483890.0  \n5726     catalog 2020-01-06 22:11:02.899490  219483890.0  \n5727     catalog 2020-01-06 22:11:28.271366  219483890.0  \n10210       main 2020-02-14 21:04:49.450696  219483890.0  \n10211    catalog 2020-02-14 21:04:51.717127  219483890.0  \n10212       lost 2020-02-14 21:04:52.717127  219483890.0  \n10213        end 2020-02-14 21:04:52.717127  219483890.0  ",
      "text/html": "<div>\n<style scoped>\n    .dataframe tbody tr th:only-of-type {\n        vertical-align: middle;\n    }\n\n    .dataframe tbody tr th {\n        vertical-align: top;\n    }\n\n    .dataframe thead th {\n        text-align: right;\n    }\n</style>\n<table border=\"1\" class=\"dataframe\">\n  <thead>\n    <tr style=\"text-align: right;\">\n      <th></th>\n      <th>event_id</th>\n      <th>event_type</th>\n      <th>event_index</th>\n      <th>event_name</th>\n      <th>event_timestamp</th>\n      <th>user_id</th>\n    </tr>\n  </thead>\n  <tbody>\n    <tr>\n      <th>0</th>\n      <td>0246ba24-8115-47e0-8d7c-4b3339987e6a</td>\n      <td>start</td>\n      <td>0</td>\n      <td>start</td>\n      <td>2019-11-01 17:59:13.273932</td>\n      <td>219483890.0</td>\n    </tr>\n    <tr>\n      <th>1</th>\n      <td>59a69b9b-91e6-4ea6-b338-2d50e9b465f5</td>\n      <td>raw</td>\n      <td>1</td>\n      <td>catalog</td>\n      <td>2019-11-01 17:59:13.273932</td>\n      <td>219483890.0</td>\n    </tr>\n    <tr>\n      <th>2</th>\n      <td>072c19d0-427b-4278-809b-c509e52cee4a</td>\n      <td>raw</td>\n      <td>2</td>\n      <td>product1</td>\n      <td>2019-11-01 17:59:28.459271</td>\n      <td>219483890.0</td>\n    </tr>\n    <tr>\n      <th>3</th>\n      <td>1692b904-c338-473e-b00b-5b16d5c79d67</td>\n      <td>raw</td>\n      <td>3</td>\n      <td>cart</td>\n      <td>2019-11-01 17:59:29.502214</td>\n      <td>219483890.0</td>\n    </tr>\n    <tr>\n      <th>4</th>\n      <td>56a76f25-ed9d-46de-8a4f-235bf534f770</td>\n      <td>raw</td>\n      <td>4</td>\n      <td>catalog</td>\n      <td>2019-11-01 17:59:32.557029</td>\n      <td>219483890.0</td>\n    </tr>\n    <tr>\n      <th>2715</th>\n      <td>b2f9c0a1-904a-4dff-90e1-37be04986437</td>\n      <td>raw</td>\n      <td>2715</td>\n      <td>main</td>\n      <td>2019-12-06 16:22:57.484842</td>\n      <td>219483890.0</td>\n    </tr>\n    <tr>\n      <th>2716</th>\n      <td>1436f264-7a18-46b6-a732-60201d8b56d8</td>\n      <td>raw</td>\n      <td>2716</td>\n      <td>catalog</td>\n      <td>2019-12-06 16:23:01.331109</td>\n      <td>219483890.0</td>\n    </tr>\n    <tr>\n      <th>2717</th>\n      <td>7019613a-00ba-4aa8-b08d-3118638d9c02</td>\n      <td>raw</td>\n      <td>2717</td>\n      <td>catalog</td>\n      <td>2019-12-06 16:23:48.116617</td>\n      <td>219483890.0</td>\n    </tr>\n    <tr>\n      <th>5721</th>\n      <td>ebdfbd61-4fcd-44ff-b562-649e3efc76f8</td>\n      <td>raw</td>\n      <td>5721</td>\n      <td>main</td>\n      <td>2020-01-06 22:10:13.635011</td>\n      <td>219483890.0</td>\n    </tr>\n    <tr>\n      <th>5722</th>\n      <td>a927160b-96ce-4c89-bd53-d79a37bdd1b6</td>\n      <td>raw</td>\n      <td>5722</td>\n      <td>catalog</td>\n      <td>2020-01-06 22:10:15.228575</td>\n      <td>219483890.0</td>\n    </tr>\n    <tr>\n      <th>5723</th>\n      <td>2fa7934a-4e76-4018-994e-1dac03a4464f</td>\n      <td>raw</td>\n      <td>5723</td>\n      <td>cart</td>\n      <td>2020-01-06 22:10:42.309028</td>\n      <td>219483890.0</td>\n    </tr>\n    <tr>\n      <th>5724</th>\n      <td>0adbd015-e172-47da-89c1-326b326ed4ad</td>\n      <td>raw</td>\n      <td>5724</td>\n      <td>catalog</td>\n      <td>2020-01-06 22:10:52.255859</td>\n      <td>219483890.0</td>\n    </tr>\n    <tr>\n      <th>5725</th>\n      <td>490137f7-c5c2-4387-a94b-2d8db537aa8c</td>\n      <td>raw</td>\n      <td>5725</td>\n      <td>product1</td>\n      <td>2020-01-06 22:11:01.709800</td>\n      <td>219483890.0</td>\n    </tr>\n    <tr>\n      <th>5726</th>\n      <td>aca98f1b-a878-4ad5-8bb6-aec03effbb8d</td>\n      <td>raw</td>\n      <td>5726</td>\n      <td>catalog</td>\n      <td>2020-01-06 22:11:02.899490</td>\n      <td>219483890.0</td>\n    </tr>\n    <tr>\n      <th>5727</th>\n      <td>7b0fa9c4-bd8c-432b-8422-0074ab7994ff</td>\n      <td>raw</td>\n      <td>5727</td>\n      <td>catalog</td>\n      <td>2020-01-06 22:11:28.271366</td>\n      <td>219483890.0</td>\n    </tr>\n    <tr>\n      <th>10210</th>\n      <td>de8d92d7-80b0-496c-b020-e8354deb3f52</td>\n      <td>raw</td>\n      <td>10210</td>\n      <td>main</td>\n      <td>2020-02-14 21:04:49.450696</td>\n      <td>219483890.0</td>\n    </tr>\n    <tr>\n      <th>10211</th>\n      <td>803dfc1a-ebf3-4197-a012-8a2bc50eb1fa</td>\n      <td>raw</td>\n      <td>10211</td>\n      <td>catalog</td>\n      <td>2020-02-14 21:04:51.717127</td>\n      <td>219483890.0</td>\n    </tr>\n    <tr>\n      <th>10212</th>\n      <td>788d8821-41a3-4ffb-9712-3a9c97cf631d</td>\n      <td>raw</td>\n      <td>10212</td>\n      <td>lost</td>\n      <td>2020-02-14 21:04:52.717127</td>\n      <td>219483890.0</td>\n    </tr>\n    <tr>\n      <th>10213</th>\n      <td>f96e931e-0e0c-42b5-b617-22bcb14ab7ac</td>\n      <td>end</td>\n      <td>10213</td>\n      <td>end</td>\n      <td>2020-02-14 21:04:52.717127</td>\n      <td>219483890.0</td>\n    </tr>\n  </tbody>\n</table>\n</div>"
     },
     "execution_count": 12,
     "metadata": {},
     "output_type": "execute_result"
    }
   ],
   "source": [
    "print(len(df[df['user_id'] == 219483890]))\n",
    "df[df['user_id'] == 219483890]"
   ]
  },
  {
   "cell_type": "code",
   "execution_count": 13,
   "outputs": [
    {
     "name": "stdout",
     "output_type": "stream",
     "text": [
      "17\n"
     ]
    },
    {
     "data": {
      "text/plain": "                                  event_id event_type  event_index event_name  \\\n0     59a69b9b-91e6-4ea6-b338-2d50e9b465f5        raw            0    catalog   \n1     072c19d0-427b-4278-809b-c509e52cee4a        raw            1   product1   \n2     1692b904-c338-473e-b00b-5b16d5c79d67        raw            2       cart   \n3     56a76f25-ed9d-46de-8a4f-235bf534f770        raw            3    catalog   \n2245  b2f9c0a1-904a-4dff-90e1-37be04986437        raw         2245       main   \n2246  1436f264-7a18-46b6-a732-60201d8b56d8        raw         2246    catalog   \n2247  7019613a-00ba-4aa8-b08d-3118638d9c02        raw         2247    catalog   \n4836  ebdfbd61-4fcd-44ff-b562-649e3efc76f8        raw         4836       main   \n4837  a927160b-96ce-4c89-bd53-d79a37bdd1b6        raw         4837    catalog   \n4838  2fa7934a-4e76-4018-994e-1dac03a4464f        raw         4838       cart   \n4839  0adbd015-e172-47da-89c1-326b326ed4ad        raw         4839    catalog   \n4840  490137f7-c5c2-4387-a94b-2d8db537aa8c        raw         4840   product1   \n4841  aca98f1b-a878-4ad5-8bb6-aec03effbb8d        raw         4841    catalog   \n4842  7b0fa9c4-bd8c-432b-8422-0074ab7994ff        raw         4842    catalog   \n8736  de8d92d7-80b0-496c-b020-e8354deb3f52        raw         8736       main   \n8737  803dfc1a-ebf3-4197-a012-8a2bc50eb1fa        raw         8737    catalog   \n8738  788d8821-41a3-4ffb-9712-3a9c97cf631d        raw         8738       lost   \n\n                event_timestamp    user_id  \n0    2019-11-01 17:59:13.273932  219483890  \n1    2019-11-01 17:59:28.459271  219483890  \n2    2019-11-01 17:59:29.502214  219483890  \n3    2019-11-01 17:59:32.557029  219483890  \n2245 2019-12-06 16:22:57.484842  219483890  \n2246 2019-12-06 16:23:01.331109  219483890  \n2247 2019-12-06 16:23:48.116617  219483890  \n4836 2020-01-06 22:10:13.635011  219483890  \n4837 2020-01-06 22:10:15.228575  219483890  \n4838 2020-01-06 22:10:42.309028  219483890  \n4839 2020-01-06 22:10:52.255859  219483890  \n4840 2020-01-06 22:11:01.709800  219483890  \n4841 2020-01-06 22:11:02.899490  219483890  \n4842 2020-01-06 22:11:28.271366  219483890  \n8736 2020-02-14 21:04:49.450696  219483890  \n8737 2020-02-14 21:04:51.717127  219483890  \n8738 2020-02-14 21:04:52.717127  219483890  ",
      "text/html": "<div>\n<style scoped>\n    .dataframe tbody tr th:only-of-type {\n        vertical-align: middle;\n    }\n\n    .dataframe tbody tr th {\n        vertical-align: top;\n    }\n\n    .dataframe thead th {\n        text-align: right;\n    }\n</style>\n<table border=\"1\" class=\"dataframe\">\n  <thead>\n    <tr style=\"text-align: right;\">\n      <th></th>\n      <th>event_id</th>\n      <th>event_type</th>\n      <th>event_index</th>\n      <th>event_name</th>\n      <th>event_timestamp</th>\n      <th>user_id</th>\n    </tr>\n  </thead>\n  <tbody>\n    <tr>\n      <th>0</th>\n      <td>59a69b9b-91e6-4ea6-b338-2d50e9b465f5</td>\n      <td>raw</td>\n      <td>0</td>\n      <td>catalog</td>\n      <td>2019-11-01 17:59:13.273932</td>\n      <td>219483890</td>\n    </tr>\n    <tr>\n      <th>1</th>\n      <td>072c19d0-427b-4278-809b-c509e52cee4a</td>\n      <td>raw</td>\n      <td>1</td>\n      <td>product1</td>\n      <td>2019-11-01 17:59:28.459271</td>\n      <td>219483890</td>\n    </tr>\n    <tr>\n      <th>2</th>\n      <td>1692b904-c338-473e-b00b-5b16d5c79d67</td>\n      <td>raw</td>\n      <td>2</td>\n      <td>cart</td>\n      <td>2019-11-01 17:59:29.502214</td>\n      <td>219483890</td>\n    </tr>\n    <tr>\n      <th>3</th>\n      <td>56a76f25-ed9d-46de-8a4f-235bf534f770</td>\n      <td>raw</td>\n      <td>3</td>\n      <td>catalog</td>\n      <td>2019-11-01 17:59:32.557029</td>\n      <td>219483890</td>\n    </tr>\n    <tr>\n      <th>2245</th>\n      <td>b2f9c0a1-904a-4dff-90e1-37be04986437</td>\n      <td>raw</td>\n      <td>2245</td>\n      <td>main</td>\n      <td>2019-12-06 16:22:57.484842</td>\n      <td>219483890</td>\n    </tr>\n    <tr>\n      <th>2246</th>\n      <td>1436f264-7a18-46b6-a732-60201d8b56d8</td>\n      <td>raw</td>\n      <td>2246</td>\n      <td>catalog</td>\n      <td>2019-12-06 16:23:01.331109</td>\n      <td>219483890</td>\n    </tr>\n    <tr>\n      <th>2247</th>\n      <td>7019613a-00ba-4aa8-b08d-3118638d9c02</td>\n      <td>raw</td>\n      <td>2247</td>\n      <td>catalog</td>\n      <td>2019-12-06 16:23:48.116617</td>\n      <td>219483890</td>\n    </tr>\n    <tr>\n      <th>4836</th>\n      <td>ebdfbd61-4fcd-44ff-b562-649e3efc76f8</td>\n      <td>raw</td>\n      <td>4836</td>\n      <td>main</td>\n      <td>2020-01-06 22:10:13.635011</td>\n      <td>219483890</td>\n    </tr>\n    <tr>\n      <th>4837</th>\n      <td>a927160b-96ce-4c89-bd53-d79a37bdd1b6</td>\n      <td>raw</td>\n      <td>4837</td>\n      <td>catalog</td>\n      <td>2020-01-06 22:10:15.228575</td>\n      <td>219483890</td>\n    </tr>\n    <tr>\n      <th>4838</th>\n      <td>2fa7934a-4e76-4018-994e-1dac03a4464f</td>\n      <td>raw</td>\n      <td>4838</td>\n      <td>cart</td>\n      <td>2020-01-06 22:10:42.309028</td>\n      <td>219483890</td>\n    </tr>\n    <tr>\n      <th>4839</th>\n      <td>0adbd015-e172-47da-89c1-326b326ed4ad</td>\n      <td>raw</td>\n      <td>4839</td>\n      <td>catalog</td>\n      <td>2020-01-06 22:10:52.255859</td>\n      <td>219483890</td>\n    </tr>\n    <tr>\n      <th>4840</th>\n      <td>490137f7-c5c2-4387-a94b-2d8db537aa8c</td>\n      <td>raw</td>\n      <td>4840</td>\n      <td>product1</td>\n      <td>2020-01-06 22:11:01.709800</td>\n      <td>219483890</td>\n    </tr>\n    <tr>\n      <th>4841</th>\n      <td>aca98f1b-a878-4ad5-8bb6-aec03effbb8d</td>\n      <td>raw</td>\n      <td>4841</td>\n      <td>catalog</td>\n      <td>2020-01-06 22:11:02.899490</td>\n      <td>219483890</td>\n    </tr>\n    <tr>\n      <th>4842</th>\n      <td>7b0fa9c4-bd8c-432b-8422-0074ab7994ff</td>\n      <td>raw</td>\n      <td>4842</td>\n      <td>catalog</td>\n      <td>2020-01-06 22:11:28.271366</td>\n      <td>219483890</td>\n    </tr>\n    <tr>\n      <th>8736</th>\n      <td>de8d92d7-80b0-496c-b020-e8354deb3f52</td>\n      <td>raw</td>\n      <td>8736</td>\n      <td>main</td>\n      <td>2020-02-14 21:04:49.450696</td>\n      <td>219483890</td>\n    </tr>\n    <tr>\n      <th>8737</th>\n      <td>803dfc1a-ebf3-4197-a012-8a2bc50eb1fa</td>\n      <td>raw</td>\n      <td>8737</td>\n      <td>catalog</td>\n      <td>2020-02-14 21:04:51.717127</td>\n      <td>219483890</td>\n    </tr>\n    <tr>\n      <th>8738</th>\n      <td>788d8821-41a3-4ffb-9712-3a9c97cf631d</td>\n      <td>raw</td>\n      <td>8738</td>\n      <td>lost</td>\n      <td>2020-02-14 21:04:52.717127</td>\n      <td>219483890</td>\n    </tr>\n  </tbody>\n</table>\n</div>"
     },
     "execution_count": 13,
     "metadata": {},
     "output_type": "execute_result"
    }
   ],
   "source": [
    "print(len(source_df[source_df['user_id'] == 219483890]))\n",
    "source_df[source_df['user_id'] == 219483890].sort_values('event_timestamp')"
   ],
   "metadata": {
    "collapsed": false,
    "pycharm": {
     "name": "#%%\n"
    }
   }
  },
  {
   "cell_type": "code",
   "execution_count": 14,
   "outputs": [
    {
     "data": {
      "text/plain": "                               event_id event_type  event_index event_name  \\\n1  59a69b9b-91e6-4ea6-b338-2d50e9b465f5        raw            1    catalog   \n\n             event_timestamp      user_id  \n1 2019-11-01 17:59:13.273932  219483890.0  ",
      "text/html": "<div>\n<style scoped>\n    .dataframe tbody tr th:only-of-type {\n        vertical-align: middle;\n    }\n\n    .dataframe tbody tr th {\n        vertical-align: top;\n    }\n\n    .dataframe thead th {\n        text-align: right;\n    }\n</style>\n<table border=\"1\" class=\"dataframe\">\n  <thead>\n    <tr style=\"text-align: right;\">\n      <th></th>\n      <th>event_id</th>\n      <th>event_type</th>\n      <th>event_index</th>\n      <th>event_name</th>\n      <th>event_timestamp</th>\n      <th>user_id</th>\n    </tr>\n  </thead>\n  <tbody>\n    <tr>\n      <th>1</th>\n      <td>59a69b9b-91e6-4ea6-b338-2d50e9b465f5</td>\n      <td>raw</td>\n      <td>1</td>\n      <td>catalog</td>\n      <td>2019-11-01 17:59:13.273932</td>\n      <td>219483890.0</td>\n    </tr>\n  </tbody>\n</table>\n</div>"
     },
     "execution_count": 14,
     "metadata": {},
     "output_type": "execute_result"
    }
   ],
   "source": [
    "check_id = source_df[source_df['user_id'] == 219483890]['event_id'][0]\n",
    "df[df['event_id'] == check_id]"
   ],
   "metadata": {
    "collapsed": false,
    "pycharm": {
     "name": "#%%\n"
    }
   }
  },
  {
   "cell_type": "code",
   "execution_count": 15,
   "outputs": [
    {
     "data": {
      "text/plain": "                               event_id event_type  event_index event_name  \\\n0  59a69b9b-91e6-4ea6-b338-2d50e9b465f5        raw            0    catalog   \n\n             event_timestamp    user_id  \n0 2019-11-01 17:59:13.273932  219483890  ",
      "text/html": "<div>\n<style scoped>\n    .dataframe tbody tr th:only-of-type {\n        vertical-align: middle;\n    }\n\n    .dataframe tbody tr th {\n        vertical-align: top;\n    }\n\n    .dataframe thead th {\n        text-align: right;\n    }\n</style>\n<table border=\"1\" class=\"dataframe\">\n  <thead>\n    <tr style=\"text-align: right;\">\n      <th></th>\n      <th>event_id</th>\n      <th>event_type</th>\n      <th>event_index</th>\n      <th>event_name</th>\n      <th>event_timestamp</th>\n      <th>user_id</th>\n    </tr>\n  </thead>\n  <tbody>\n    <tr>\n      <th>0</th>\n      <td>59a69b9b-91e6-4ea6-b338-2d50e9b465f5</td>\n      <td>raw</td>\n      <td>0</td>\n      <td>catalog</td>\n      <td>2019-11-01 17:59:13.273932</td>\n      <td>219483890</td>\n    </tr>\n  </tbody>\n</table>\n</div>"
     },
     "execution_count": 15,
     "metadata": {},
     "output_type": "execute_result"
    }
   ],
   "source": [
    "source_df[source_df['event_id'] == check_id]"
   ],
   "metadata": {
    "collapsed": false,
    "pycharm": {
     "name": "#%%\n"
    }
   }
  },
  {
   "cell_type": "code",
   "execution_count": 16,
   "outputs": [
    {
     "data": {
      "text/plain": "(3751, 3751)"
     },
     "execution_count": 16,
     "metadata": {},
     "output_type": "execute_result"
    }
   ],
   "source": [
    "source_df['user_id'].nunique(), df['user_id'].nunique()"
   ],
   "metadata": {
    "collapsed": false,
    "pycharm": {
     "name": "#%%\n"
    }
   }
  },
  {
   "cell_type": "code",
   "execution_count": 17,
   "outputs": [
    {
     "data": {
      "text/plain": "(3751, 3751)"
     },
     "execution_count": 17,
     "metadata": {},
     "output_type": "execute_result"
    }
   ],
   "source": [
    "df[df['event_type'] == 'start']['event_type'].count(), df[df['event_type'] == 'end']['event_type'].count()"
   ],
   "metadata": {
    "collapsed": false,
    "pycharm": {
     "name": "#%%\n"
    }
   }
  },
  {
   "cell_type": "code",
   "execution_count": 18,
   "outputs": [
    {
     "data": {
      "text/plain": "(35381, 35381)"
     },
     "execution_count": 18,
     "metadata": {},
     "output_type": "execute_result"
    }
   ],
   "source": [
    "df[df['event_type'] == 'raw']['event_type'].count(), source.to_dataframe()['event_type'].count()"
   ],
   "metadata": {
    "collapsed": false,
    "pycharm": {
     "name": "#%%\n"
    }
   }
  },
  {
   "cell_type": "code",
   "execution_count": 19,
   "outputs": [
    {
     "data": {
      "text/plain": "raw    35381\nName: event_type, dtype: int64"
     },
     "execution_count": 19,
     "metadata": {},
     "output_type": "execute_result"
    }
   ],
   "source": [
    "source_df['event_type'].value_counts()"
   ],
   "metadata": {
    "collapsed": false,
    "pycharm": {
     "name": "#%%\n"
    }
   }
  },
  {
   "cell_type": "code",
   "execution_count": 20,
   "outputs": [
    {
     "data": {
      "text/plain": "raw      35381\nstart     3751\nend       3751\nName: event_type, dtype: int64"
     },
     "execution_count": 20,
     "metadata": {},
     "output_type": "execute_result"
    }
   ],
   "source": [
    "df['event_type'].value_counts()"
   ],
   "metadata": {
    "collapsed": false,
    "pycharm": {
     "name": "#%%\n"
    }
   }
  },
  {
   "cell_type": "code",
   "execution_count": 21,
   "outputs": [
    {
     "data": {
      "text/plain": "(35381, 42883)"
     },
     "execution_count": 21,
     "metadata": {},
     "output_type": "execute_result"
    }
   ],
   "source": [
    "len(source_df), len(df)"
   ],
   "metadata": {
    "collapsed": false,
    "pycharm": {
     "name": "#%%\n"
    }
   }
  },
  {
   "cell_type": "markdown",
   "source": [
    "### Результат"
   ],
   "metadata": {
    "collapsed": false,
    "pycharm": {
     "name": "#%% md\n"
    }
   }
  },
  {
   "cell_type": "markdown",
   "source": [
    "1) [поправила] Исчезло событие, которое до этого было первым с event_id = '556697a2-7439-45c1-bd70-8d970ab7ef61'\n",
    "Тоже самое произошло с событием End\n",
    "result.to_dataframe(show_deleted=True) - то все нормально\n",
    "\n",
    "2) [поправила] Количество raw событий после combine уменьшилось ровно на кол-во пользователей*2\n",
    "Общая длина eventstream при этом не изменилась\n",
    "3) [TODO] #params - не должно быть обязательных параметров"
   ],
   "metadata": {
    "collapsed": false,
    "pycharm": {
     "name": "#%% md\n"
    }
   }
  },
  {
   "cell_type": "markdown",
   "source": [
    "## NewResume"
   ],
   "metadata": {
    "collapsed": false,
    "pycharm": {
     "name": "#%% md\n"
    }
   }
  },
  {
   "cell_type": "code",
   "execution_count": 22,
   "outputs": [
    {
     "data": {
      "text/plain": "                               event_id event_type  event_index event_name  \\\n0  561fd68b-240d-462c-9b4f-6154afc31f5c   new_user            0   new_user   \n1  59a69b9b-91e6-4ea6-b338-2d50e9b465f5        raw            1    catalog   \n2  072c19d0-427b-4278-809b-c509e52cee4a        raw            2   product1   \n3  1692b904-c338-473e-b00b-5b16d5c79d67        raw            3       cart   \n4  56a76f25-ed9d-46de-8a4f-235bf534f770        raw            4    catalog   \n5  e9181881-4906-4349-b2c5-073141943245   new_user            5   new_user   \n6  78809682-25ea-4d09-b8fb-008c6da653e1        raw            6    catalog   \n7  94c484be-8f3e-4578-b43c-ef62184132ca        raw            7       cart   \n\n             event_timestamp      user_id  \n0 2019-11-01 17:59:13.273932  219483890.0  \n1 2019-11-01 17:59:13.273932  219483890.0  \n2 2019-11-01 17:59:28.459271  219483890.0  \n3 2019-11-01 17:59:29.502214  219483890.0  \n4 2019-11-01 17:59:32.557029  219483890.0  \n5 2019-11-01 21:38:19.283663  964964743.0  \n6 2019-11-01 21:38:19.283663  964964743.0  \n7 2019-11-01 21:38:36.761221  964964743.0  ",
      "text/html": "<div>\n<style scoped>\n    .dataframe tbody tr th:only-of-type {\n        vertical-align: middle;\n    }\n\n    .dataframe tbody tr th {\n        vertical-align: top;\n    }\n\n    .dataframe thead th {\n        text-align: right;\n    }\n</style>\n<table border=\"1\" class=\"dataframe\">\n  <thead>\n    <tr style=\"text-align: right;\">\n      <th></th>\n      <th>event_id</th>\n      <th>event_type</th>\n      <th>event_index</th>\n      <th>event_name</th>\n      <th>event_timestamp</th>\n      <th>user_id</th>\n    </tr>\n  </thead>\n  <tbody>\n    <tr>\n      <th>0</th>\n      <td>561fd68b-240d-462c-9b4f-6154afc31f5c</td>\n      <td>new_user</td>\n      <td>0</td>\n      <td>new_user</td>\n      <td>2019-11-01 17:59:13.273932</td>\n      <td>219483890.0</td>\n    </tr>\n    <tr>\n      <th>1</th>\n      <td>59a69b9b-91e6-4ea6-b338-2d50e9b465f5</td>\n      <td>raw</td>\n      <td>1</td>\n      <td>catalog</td>\n      <td>2019-11-01 17:59:13.273932</td>\n      <td>219483890.0</td>\n    </tr>\n    <tr>\n      <th>2</th>\n      <td>072c19d0-427b-4278-809b-c509e52cee4a</td>\n      <td>raw</td>\n      <td>2</td>\n      <td>product1</td>\n      <td>2019-11-01 17:59:28.459271</td>\n      <td>219483890.0</td>\n    </tr>\n    <tr>\n      <th>3</th>\n      <td>1692b904-c338-473e-b00b-5b16d5c79d67</td>\n      <td>raw</td>\n      <td>3</td>\n      <td>cart</td>\n      <td>2019-11-01 17:59:29.502214</td>\n      <td>219483890.0</td>\n    </tr>\n    <tr>\n      <th>4</th>\n      <td>56a76f25-ed9d-46de-8a4f-235bf534f770</td>\n      <td>raw</td>\n      <td>4</td>\n      <td>catalog</td>\n      <td>2019-11-01 17:59:32.557029</td>\n      <td>219483890.0</td>\n    </tr>\n    <tr>\n      <th>5</th>\n      <td>e9181881-4906-4349-b2c5-073141943245</td>\n      <td>new_user</td>\n      <td>5</td>\n      <td>new_user</td>\n      <td>2019-11-01 21:38:19.283663</td>\n      <td>964964743.0</td>\n    </tr>\n    <tr>\n      <th>6</th>\n      <td>78809682-25ea-4d09-b8fb-008c6da653e1</td>\n      <td>raw</td>\n      <td>6</td>\n      <td>catalog</td>\n      <td>2019-11-01 21:38:19.283663</td>\n      <td>964964743.0</td>\n    </tr>\n    <tr>\n      <th>7</th>\n      <td>94c484be-8f3e-4578-b43c-ef62184132ca</td>\n      <td>raw</td>\n      <td>7</td>\n      <td>cart</td>\n      <td>2019-11-01 21:38:36.761221</td>\n      <td>964964743.0</td>\n    </tr>\n  </tbody>\n</table>\n</div>"
     },
     "execution_count": 22,
     "metadata": {},
     "output_type": "execute_result"
    }
   ],
   "source": [
    "from src.data_processors_lib.rete import NewResumeEvents, NewResumeParams\n",
    "\n",
    "# new_user_list = [219483890]\n",
    "new_user_list = 'all'\n",
    "new_resume_events = EventsNode(\n",
    "    NewResumeEvents(params=NewResumeParams(new_users_list=new_user_list)))\n",
    "\n",
    "\n",
    "graph.add_node(\n",
    "    node=new_resume_events,\n",
    "    parents=[graph.root]\n",
    ")\n",
    "\n",
    "result = graph.combine(\n",
    "    node=new_resume_events\n",
    ")\n",
    "result.to_dataframe().head(8)"
   ],
   "metadata": {
    "collapsed": false,
    "pycharm": {
     "name": "#%%\n"
    }
   }
  },
  {
   "cell_type": "code",
   "execution_count": 23,
   "outputs": [],
   "source": [
    "df1 = result.to_dataframe()"
   ],
   "metadata": {
    "collapsed": false,
    "pycharm": {
     "name": "#%%\n"
    }
   }
  },
  {
   "cell_type": "code",
   "execution_count": 24,
   "outputs": [
    {
     "data": {
      "text/plain": "raw    35381\nName: event_type, dtype: int64"
     },
     "execution_count": 24,
     "metadata": {},
     "output_type": "execute_result"
    }
   ],
   "source": [
    "source_df['event_type'].value_counts()"
   ],
   "metadata": {
    "collapsed": false,
    "pycharm": {
     "name": "#%%\n"
    }
   }
  },
  {
   "cell_type": "code",
   "execution_count": 25,
   "outputs": [
    {
     "data": {
      "text/plain": "raw         35381\nnew_user     3751\nName: event_type, dtype: int64"
     },
     "execution_count": 25,
     "metadata": {},
     "output_type": "execute_result"
    }
   ],
   "source": [
    "df1['event_type'].value_counts()"
   ],
   "metadata": {
    "collapsed": false,
    "pycharm": {
     "name": "#%%\n"
    }
   }
  },
  {
   "cell_type": "code",
   "execution_count": 26,
   "outputs": [
    {
     "data": {
      "text/plain": "(39132, 35381)"
     },
     "execution_count": 26,
     "metadata": {},
     "output_type": "execute_result"
    }
   ],
   "source": [
    "len(df1), len(source_df)"
   ],
   "metadata": {
    "collapsed": false,
    "pycharm": {
     "name": "#%%\n"
    }
   }
  },
  {
   "cell_type": "code",
   "execution_count": 27,
   "outputs": [
    {
     "data": {
      "text/plain": "3751"
     },
     "execution_count": 27,
     "metadata": {},
     "output_type": "execute_result"
    }
   ],
   "source": [
    "len(df1) - len(source_df)"
   ],
   "metadata": {
    "collapsed": false,
    "pycharm": {
     "name": "#%%\n"
    }
   }
  },
  {
   "cell_type": "code",
   "execution_count": 28,
   "outputs": [
    {
     "data": {
      "text/plain": "[<src.graph.p_graph.SourceNode at 0x1069220a0>]"
     },
     "execution_count": 28,
     "metadata": {},
     "output_type": "execute_result"
    }
   ],
   "source": [
    "graph.get_parents(new_resume_events)"
   ],
   "metadata": {
    "collapsed": false,
    "pycharm": {
     "name": "#%%\n"
    }
   }
  },
  {
   "cell_type": "code",
   "execution_count": 29,
   "outputs": [
    {
     "name": "stdout",
     "output_type": "stream",
     "text": [
      "17\n"
     ]
    },
    {
     "data": {
      "text/plain": "                                  event_id event_type  event_index event_name  \\\n0     59a69b9b-91e6-4ea6-b338-2d50e9b465f5        raw            0    catalog   \n1     072c19d0-427b-4278-809b-c509e52cee4a        raw            1   product1   \n2     1692b904-c338-473e-b00b-5b16d5c79d67        raw            2       cart   \n3     56a76f25-ed9d-46de-8a4f-235bf534f770        raw            3    catalog   \n2245  b2f9c0a1-904a-4dff-90e1-37be04986437        raw         2245       main   \n2246  1436f264-7a18-46b6-a732-60201d8b56d8        raw         2246    catalog   \n2247  7019613a-00ba-4aa8-b08d-3118638d9c02        raw         2247    catalog   \n4836  ebdfbd61-4fcd-44ff-b562-649e3efc76f8        raw         4836       main   \n4837  a927160b-96ce-4c89-bd53-d79a37bdd1b6        raw         4837    catalog   \n4838  2fa7934a-4e76-4018-994e-1dac03a4464f        raw         4838       cart   \n4839  0adbd015-e172-47da-89c1-326b326ed4ad        raw         4839    catalog   \n4840  490137f7-c5c2-4387-a94b-2d8db537aa8c        raw         4840   product1   \n4841  aca98f1b-a878-4ad5-8bb6-aec03effbb8d        raw         4841    catalog   \n4842  7b0fa9c4-bd8c-432b-8422-0074ab7994ff        raw         4842    catalog   \n8736  de8d92d7-80b0-496c-b020-e8354deb3f52        raw         8736       main   \n8737  803dfc1a-ebf3-4197-a012-8a2bc50eb1fa        raw         8737    catalog   \n8738  788d8821-41a3-4ffb-9712-3a9c97cf631d        raw         8738       lost   \n\n                event_timestamp    user_id  \n0    2019-11-01 17:59:13.273932  219483890  \n1    2019-11-01 17:59:28.459271  219483890  \n2    2019-11-01 17:59:29.502214  219483890  \n3    2019-11-01 17:59:32.557029  219483890  \n2245 2019-12-06 16:22:57.484842  219483890  \n2246 2019-12-06 16:23:01.331109  219483890  \n2247 2019-12-06 16:23:48.116617  219483890  \n4836 2020-01-06 22:10:13.635011  219483890  \n4837 2020-01-06 22:10:15.228575  219483890  \n4838 2020-01-06 22:10:42.309028  219483890  \n4839 2020-01-06 22:10:52.255859  219483890  \n4840 2020-01-06 22:11:01.709800  219483890  \n4841 2020-01-06 22:11:02.899490  219483890  \n4842 2020-01-06 22:11:28.271366  219483890  \n8736 2020-02-14 21:04:49.450696  219483890  \n8737 2020-02-14 21:04:51.717127  219483890  \n8738 2020-02-14 21:04:52.717127  219483890  ",
      "text/html": "<div>\n<style scoped>\n    .dataframe tbody tr th:only-of-type {\n        vertical-align: middle;\n    }\n\n    .dataframe tbody tr th {\n        vertical-align: top;\n    }\n\n    .dataframe thead th {\n        text-align: right;\n    }\n</style>\n<table border=\"1\" class=\"dataframe\">\n  <thead>\n    <tr style=\"text-align: right;\">\n      <th></th>\n      <th>event_id</th>\n      <th>event_type</th>\n      <th>event_index</th>\n      <th>event_name</th>\n      <th>event_timestamp</th>\n      <th>user_id</th>\n    </tr>\n  </thead>\n  <tbody>\n    <tr>\n      <th>0</th>\n      <td>59a69b9b-91e6-4ea6-b338-2d50e9b465f5</td>\n      <td>raw</td>\n      <td>0</td>\n      <td>catalog</td>\n      <td>2019-11-01 17:59:13.273932</td>\n      <td>219483890</td>\n    </tr>\n    <tr>\n      <th>1</th>\n      <td>072c19d0-427b-4278-809b-c509e52cee4a</td>\n      <td>raw</td>\n      <td>1</td>\n      <td>product1</td>\n      <td>2019-11-01 17:59:28.459271</td>\n      <td>219483890</td>\n    </tr>\n    <tr>\n      <th>2</th>\n      <td>1692b904-c338-473e-b00b-5b16d5c79d67</td>\n      <td>raw</td>\n      <td>2</td>\n      <td>cart</td>\n      <td>2019-11-01 17:59:29.502214</td>\n      <td>219483890</td>\n    </tr>\n    <tr>\n      <th>3</th>\n      <td>56a76f25-ed9d-46de-8a4f-235bf534f770</td>\n      <td>raw</td>\n      <td>3</td>\n      <td>catalog</td>\n      <td>2019-11-01 17:59:32.557029</td>\n      <td>219483890</td>\n    </tr>\n    <tr>\n      <th>2245</th>\n      <td>b2f9c0a1-904a-4dff-90e1-37be04986437</td>\n      <td>raw</td>\n      <td>2245</td>\n      <td>main</td>\n      <td>2019-12-06 16:22:57.484842</td>\n      <td>219483890</td>\n    </tr>\n    <tr>\n      <th>2246</th>\n      <td>1436f264-7a18-46b6-a732-60201d8b56d8</td>\n      <td>raw</td>\n      <td>2246</td>\n      <td>catalog</td>\n      <td>2019-12-06 16:23:01.331109</td>\n      <td>219483890</td>\n    </tr>\n    <tr>\n      <th>2247</th>\n      <td>7019613a-00ba-4aa8-b08d-3118638d9c02</td>\n      <td>raw</td>\n      <td>2247</td>\n      <td>catalog</td>\n      <td>2019-12-06 16:23:48.116617</td>\n      <td>219483890</td>\n    </tr>\n    <tr>\n      <th>4836</th>\n      <td>ebdfbd61-4fcd-44ff-b562-649e3efc76f8</td>\n      <td>raw</td>\n      <td>4836</td>\n      <td>main</td>\n      <td>2020-01-06 22:10:13.635011</td>\n      <td>219483890</td>\n    </tr>\n    <tr>\n      <th>4837</th>\n      <td>a927160b-96ce-4c89-bd53-d79a37bdd1b6</td>\n      <td>raw</td>\n      <td>4837</td>\n      <td>catalog</td>\n      <td>2020-01-06 22:10:15.228575</td>\n      <td>219483890</td>\n    </tr>\n    <tr>\n      <th>4838</th>\n      <td>2fa7934a-4e76-4018-994e-1dac03a4464f</td>\n      <td>raw</td>\n      <td>4838</td>\n      <td>cart</td>\n      <td>2020-01-06 22:10:42.309028</td>\n      <td>219483890</td>\n    </tr>\n    <tr>\n      <th>4839</th>\n      <td>0adbd015-e172-47da-89c1-326b326ed4ad</td>\n      <td>raw</td>\n      <td>4839</td>\n      <td>catalog</td>\n      <td>2020-01-06 22:10:52.255859</td>\n      <td>219483890</td>\n    </tr>\n    <tr>\n      <th>4840</th>\n      <td>490137f7-c5c2-4387-a94b-2d8db537aa8c</td>\n      <td>raw</td>\n      <td>4840</td>\n      <td>product1</td>\n      <td>2020-01-06 22:11:01.709800</td>\n      <td>219483890</td>\n    </tr>\n    <tr>\n      <th>4841</th>\n      <td>aca98f1b-a878-4ad5-8bb6-aec03effbb8d</td>\n      <td>raw</td>\n      <td>4841</td>\n      <td>catalog</td>\n      <td>2020-01-06 22:11:02.899490</td>\n      <td>219483890</td>\n    </tr>\n    <tr>\n      <th>4842</th>\n      <td>7b0fa9c4-bd8c-432b-8422-0074ab7994ff</td>\n      <td>raw</td>\n      <td>4842</td>\n      <td>catalog</td>\n      <td>2020-01-06 22:11:28.271366</td>\n      <td>219483890</td>\n    </tr>\n    <tr>\n      <th>8736</th>\n      <td>de8d92d7-80b0-496c-b020-e8354deb3f52</td>\n      <td>raw</td>\n      <td>8736</td>\n      <td>main</td>\n      <td>2020-02-14 21:04:49.450696</td>\n      <td>219483890</td>\n    </tr>\n    <tr>\n      <th>8737</th>\n      <td>803dfc1a-ebf3-4197-a012-8a2bc50eb1fa</td>\n      <td>raw</td>\n      <td>8737</td>\n      <td>catalog</td>\n      <td>2020-02-14 21:04:51.717127</td>\n      <td>219483890</td>\n    </tr>\n    <tr>\n      <th>8738</th>\n      <td>788d8821-41a3-4ffb-9712-3a9c97cf631d</td>\n      <td>raw</td>\n      <td>8738</td>\n      <td>lost</td>\n      <td>2020-02-14 21:04:52.717127</td>\n      <td>219483890</td>\n    </tr>\n  </tbody>\n</table>\n</div>"
     },
     "execution_count": 29,
     "metadata": {},
     "output_type": "execute_result"
    }
   ],
   "source": [
    "print(len(source_df[source_df['user_id'] == 219483890]))\n",
    "source_df[source_df['user_id'] == 219483890].sort_values('event_timestamp')"
   ],
   "metadata": {
    "collapsed": false,
    "pycharm": {
     "name": "#%%\n"
    }
   }
  },
  {
   "cell_type": "code",
   "execution_count": 30,
   "outputs": [
    {
     "name": "stdout",
     "output_type": "stream",
     "text": [
      "18\n"
     ]
    },
    {
     "data": {
      "text/plain": "                                  event_id event_type  event_index event_name  \\\n0     561fd68b-240d-462c-9b4f-6154afc31f5c   new_user            0   new_user   \n1     59a69b9b-91e6-4ea6-b338-2d50e9b465f5        raw            1    catalog   \n2     072c19d0-427b-4278-809b-c509e52cee4a        raw            2   product1   \n3     1692b904-c338-473e-b00b-5b16d5c79d67        raw            3       cart   \n4     56a76f25-ed9d-46de-8a4f-235bf534f770        raw            4    catalog   \n2553  b2f9c0a1-904a-4dff-90e1-37be04986437        raw         2553       main   \n2554  1436f264-7a18-46b6-a732-60201d8b56d8        raw         2554    catalog   \n2555  7019613a-00ba-4aa8-b08d-3118638d9c02        raw         2555    catalog   \n5388  ebdfbd61-4fcd-44ff-b562-649e3efc76f8        raw         5388       main   \n5389  a927160b-96ce-4c89-bd53-d79a37bdd1b6        raw         5389    catalog   \n5390  2fa7934a-4e76-4018-994e-1dac03a4464f        raw         5390       cart   \n5391  0adbd015-e172-47da-89c1-326b326ed4ad        raw         5391    catalog   \n5392  490137f7-c5c2-4387-a94b-2d8db537aa8c        raw         5392   product1   \n5393  aca98f1b-a878-4ad5-8bb6-aec03effbb8d        raw         5393    catalog   \n5394  7b0fa9c4-bd8c-432b-8422-0074ab7994ff        raw         5394    catalog   \n9617  de8d92d7-80b0-496c-b020-e8354deb3f52        raw         9617       main   \n9618  803dfc1a-ebf3-4197-a012-8a2bc50eb1fa        raw         9618    catalog   \n9619  788d8821-41a3-4ffb-9712-3a9c97cf631d        raw         9619       lost   \n\n                event_timestamp      user_id  \n0    2019-11-01 17:59:13.273932  219483890.0  \n1    2019-11-01 17:59:13.273932  219483890.0  \n2    2019-11-01 17:59:28.459271  219483890.0  \n3    2019-11-01 17:59:29.502214  219483890.0  \n4    2019-11-01 17:59:32.557029  219483890.0  \n2553 2019-12-06 16:22:57.484842  219483890.0  \n2554 2019-12-06 16:23:01.331109  219483890.0  \n2555 2019-12-06 16:23:48.116617  219483890.0  \n5388 2020-01-06 22:10:13.635011  219483890.0  \n5389 2020-01-06 22:10:15.228575  219483890.0  \n5390 2020-01-06 22:10:42.309028  219483890.0  \n5391 2020-01-06 22:10:52.255859  219483890.0  \n5392 2020-01-06 22:11:01.709800  219483890.0  \n5393 2020-01-06 22:11:02.899490  219483890.0  \n5394 2020-01-06 22:11:28.271366  219483890.0  \n9617 2020-02-14 21:04:49.450696  219483890.0  \n9618 2020-02-14 21:04:51.717127  219483890.0  \n9619 2020-02-14 21:04:52.717127  219483890.0  ",
      "text/html": "<div>\n<style scoped>\n    .dataframe tbody tr th:only-of-type {\n        vertical-align: middle;\n    }\n\n    .dataframe tbody tr th {\n        vertical-align: top;\n    }\n\n    .dataframe thead th {\n        text-align: right;\n    }\n</style>\n<table border=\"1\" class=\"dataframe\">\n  <thead>\n    <tr style=\"text-align: right;\">\n      <th></th>\n      <th>event_id</th>\n      <th>event_type</th>\n      <th>event_index</th>\n      <th>event_name</th>\n      <th>event_timestamp</th>\n      <th>user_id</th>\n    </tr>\n  </thead>\n  <tbody>\n    <tr>\n      <th>0</th>\n      <td>561fd68b-240d-462c-9b4f-6154afc31f5c</td>\n      <td>new_user</td>\n      <td>0</td>\n      <td>new_user</td>\n      <td>2019-11-01 17:59:13.273932</td>\n      <td>219483890.0</td>\n    </tr>\n    <tr>\n      <th>1</th>\n      <td>59a69b9b-91e6-4ea6-b338-2d50e9b465f5</td>\n      <td>raw</td>\n      <td>1</td>\n      <td>catalog</td>\n      <td>2019-11-01 17:59:13.273932</td>\n      <td>219483890.0</td>\n    </tr>\n    <tr>\n      <th>2</th>\n      <td>072c19d0-427b-4278-809b-c509e52cee4a</td>\n      <td>raw</td>\n      <td>2</td>\n      <td>product1</td>\n      <td>2019-11-01 17:59:28.459271</td>\n      <td>219483890.0</td>\n    </tr>\n    <tr>\n      <th>3</th>\n      <td>1692b904-c338-473e-b00b-5b16d5c79d67</td>\n      <td>raw</td>\n      <td>3</td>\n      <td>cart</td>\n      <td>2019-11-01 17:59:29.502214</td>\n      <td>219483890.0</td>\n    </tr>\n    <tr>\n      <th>4</th>\n      <td>56a76f25-ed9d-46de-8a4f-235bf534f770</td>\n      <td>raw</td>\n      <td>4</td>\n      <td>catalog</td>\n      <td>2019-11-01 17:59:32.557029</td>\n      <td>219483890.0</td>\n    </tr>\n    <tr>\n      <th>2553</th>\n      <td>b2f9c0a1-904a-4dff-90e1-37be04986437</td>\n      <td>raw</td>\n      <td>2553</td>\n      <td>main</td>\n      <td>2019-12-06 16:22:57.484842</td>\n      <td>219483890.0</td>\n    </tr>\n    <tr>\n      <th>2554</th>\n      <td>1436f264-7a18-46b6-a732-60201d8b56d8</td>\n      <td>raw</td>\n      <td>2554</td>\n      <td>catalog</td>\n      <td>2019-12-06 16:23:01.331109</td>\n      <td>219483890.0</td>\n    </tr>\n    <tr>\n      <th>2555</th>\n      <td>7019613a-00ba-4aa8-b08d-3118638d9c02</td>\n      <td>raw</td>\n      <td>2555</td>\n      <td>catalog</td>\n      <td>2019-12-06 16:23:48.116617</td>\n      <td>219483890.0</td>\n    </tr>\n    <tr>\n      <th>5388</th>\n      <td>ebdfbd61-4fcd-44ff-b562-649e3efc76f8</td>\n      <td>raw</td>\n      <td>5388</td>\n      <td>main</td>\n      <td>2020-01-06 22:10:13.635011</td>\n      <td>219483890.0</td>\n    </tr>\n    <tr>\n      <th>5389</th>\n      <td>a927160b-96ce-4c89-bd53-d79a37bdd1b6</td>\n      <td>raw</td>\n      <td>5389</td>\n      <td>catalog</td>\n      <td>2020-01-06 22:10:15.228575</td>\n      <td>219483890.0</td>\n    </tr>\n    <tr>\n      <th>5390</th>\n      <td>2fa7934a-4e76-4018-994e-1dac03a4464f</td>\n      <td>raw</td>\n      <td>5390</td>\n      <td>cart</td>\n      <td>2020-01-06 22:10:42.309028</td>\n      <td>219483890.0</td>\n    </tr>\n    <tr>\n      <th>5391</th>\n      <td>0adbd015-e172-47da-89c1-326b326ed4ad</td>\n      <td>raw</td>\n      <td>5391</td>\n      <td>catalog</td>\n      <td>2020-01-06 22:10:52.255859</td>\n      <td>219483890.0</td>\n    </tr>\n    <tr>\n      <th>5392</th>\n      <td>490137f7-c5c2-4387-a94b-2d8db537aa8c</td>\n      <td>raw</td>\n      <td>5392</td>\n      <td>product1</td>\n      <td>2020-01-06 22:11:01.709800</td>\n      <td>219483890.0</td>\n    </tr>\n    <tr>\n      <th>5393</th>\n      <td>aca98f1b-a878-4ad5-8bb6-aec03effbb8d</td>\n      <td>raw</td>\n      <td>5393</td>\n      <td>catalog</td>\n      <td>2020-01-06 22:11:02.899490</td>\n      <td>219483890.0</td>\n    </tr>\n    <tr>\n      <th>5394</th>\n      <td>7b0fa9c4-bd8c-432b-8422-0074ab7994ff</td>\n      <td>raw</td>\n      <td>5394</td>\n      <td>catalog</td>\n      <td>2020-01-06 22:11:28.271366</td>\n      <td>219483890.0</td>\n    </tr>\n    <tr>\n      <th>9617</th>\n      <td>de8d92d7-80b0-496c-b020-e8354deb3f52</td>\n      <td>raw</td>\n      <td>9617</td>\n      <td>main</td>\n      <td>2020-02-14 21:04:49.450696</td>\n      <td>219483890.0</td>\n    </tr>\n    <tr>\n      <th>9618</th>\n      <td>803dfc1a-ebf3-4197-a012-8a2bc50eb1fa</td>\n      <td>raw</td>\n      <td>9618</td>\n      <td>catalog</td>\n      <td>2020-02-14 21:04:51.717127</td>\n      <td>219483890.0</td>\n    </tr>\n    <tr>\n      <th>9619</th>\n      <td>788d8821-41a3-4ffb-9712-3a9c97cf631d</td>\n      <td>raw</td>\n      <td>9619</td>\n      <td>lost</td>\n      <td>2020-02-14 21:04:52.717127</td>\n      <td>219483890.0</td>\n    </tr>\n  </tbody>\n</table>\n</div>"
     },
     "execution_count": 30,
     "metadata": {},
     "output_type": "execute_result"
    }
   ],
   "source": [
    "print(len(df1[df1['user_id'] == 219483890]))\n",
    "df1[df1['user_id'] == 219483890].sort_values('event_timestamp')"
   ],
   "metadata": {
    "collapsed": false,
    "pycharm": {
     "name": "#%%\n"
    }
   }
  },
  {
   "cell_type": "code",
   "execution_count": 31,
   "outputs": [
    {
     "data": {
      "text/plain": "                               event_id event_type  event_index event_name  \\\n1  59a69b9b-91e6-4ea6-b338-2d50e9b465f5        raw            1    catalog   \n\n             event_timestamp      user_id  \n1 2019-11-01 17:59:13.273932  219483890.0  ",
      "text/html": "<div>\n<style scoped>\n    .dataframe tbody tr th:only-of-type {\n        vertical-align: middle;\n    }\n\n    .dataframe tbody tr th {\n        vertical-align: top;\n    }\n\n    .dataframe thead th {\n        text-align: right;\n    }\n</style>\n<table border=\"1\" class=\"dataframe\">\n  <thead>\n    <tr style=\"text-align: right;\">\n      <th></th>\n      <th>event_id</th>\n      <th>event_type</th>\n      <th>event_index</th>\n      <th>event_name</th>\n      <th>event_timestamp</th>\n      <th>user_id</th>\n    </tr>\n  </thead>\n  <tbody>\n    <tr>\n      <th>1</th>\n      <td>59a69b9b-91e6-4ea6-b338-2d50e9b465f5</td>\n      <td>raw</td>\n      <td>1</td>\n      <td>catalog</td>\n      <td>2019-11-01 17:59:13.273932</td>\n      <td>219483890.0</td>\n    </tr>\n  </tbody>\n</table>\n</div>"
     },
     "execution_count": 31,
     "metadata": {},
     "output_type": "execute_result"
    }
   ],
   "source": [
    "check_id = source_df[source_df['user_id'] == 219483890]['event_id'][0]\n",
    "df1[df1['event_id'] == check_id]"
   ],
   "metadata": {
    "collapsed": false,
    "pycharm": {
     "name": "#%%\n"
    }
   }
  },
  {
   "cell_type": "code",
   "execution_count": 32,
   "outputs": [
    {
     "name": "stdout",
     "output_type": "stream",
     "text": [
      "13\n"
     ]
    },
    {
     "data": {
      "text/plain": "                                  event_id event_type  event_index  \\\n4     78809682-25ea-4d09-b8fb-008c6da653e1        raw            4   \n5     94c484be-8f3e-4578-b43c-ef62184132ca        raw            5   \n6     9930949d-a839-4358-863d-f3e16d77f02b        raw            6   \n2439  eff948e1-e0e8-4afb-b52f-08936264a027        raw         2439   \n2440  46834714-9baf-45b4-9be2-0604ae8a93bb        raw         2440   \n2441  323eaaa9-f74c-4b27-8f53-215ac900ac43        raw         2441   \n2442  a7137007-a5d6-43af-9461-d28828bee74e        raw         2442   \n2443  44d254c7-3f8f-45a0-9348-42865bc01961        raw         2443   \n2444  dc6ba294-693e-499d-810f-8b37e8704856        raw         2444   \n2445  9405e65d-7c43-4473-b1ae-1f38550976f2        raw         2445   \n2446  641ae88d-a77d-455e-b151-fcf929ed29da        raw         2446   \n2447  b5e525c2-1c35-4cd9-8a55-a2181dc6ed0b        raw         2447   \n2448  cc735c4c-7a5b-4f8f-a3fa-08fd004f7fe9        raw         2448   \n\n           event_name            event_timestamp    user_id  \n4             catalog 2019-11-01 21:38:19.283663  964964743  \n5                cart 2019-11-01 21:38:36.761221  964964743  \n6     delivery_choice 2019-11-01 21:38:37.564693  964964743  \n2439             main 2019-12-09 01:42:22.801831  964964743  \n2440          catalog 2019-12-09 01:42:23.617764  964964743  \n2441         product2 2019-12-09 01:42:56.877340  964964743  \n2442          catalog 2019-12-09 01:43:05.436223  964964743  \n2443          catalog 2019-12-09 01:43:36.923178  964964743  \n2444         product2 2019-12-09 01:43:41.174195  964964743  \n2445             cart 2019-12-09 01:43:57.325569  964964743  \n2446  delivery_choice 2019-12-09 01:43:57.486518  964964743  \n2447  delivery_pickup 2019-12-09 01:43:57.766850  964964743  \n2448             lost 2019-12-09 01:43:58.766850  964964743  ",
      "text/html": "<div>\n<style scoped>\n    .dataframe tbody tr th:only-of-type {\n        vertical-align: middle;\n    }\n\n    .dataframe tbody tr th {\n        vertical-align: top;\n    }\n\n    .dataframe thead th {\n        text-align: right;\n    }\n</style>\n<table border=\"1\" class=\"dataframe\">\n  <thead>\n    <tr style=\"text-align: right;\">\n      <th></th>\n      <th>event_id</th>\n      <th>event_type</th>\n      <th>event_index</th>\n      <th>event_name</th>\n      <th>event_timestamp</th>\n      <th>user_id</th>\n    </tr>\n  </thead>\n  <tbody>\n    <tr>\n      <th>4</th>\n      <td>78809682-25ea-4d09-b8fb-008c6da653e1</td>\n      <td>raw</td>\n      <td>4</td>\n      <td>catalog</td>\n      <td>2019-11-01 21:38:19.283663</td>\n      <td>964964743</td>\n    </tr>\n    <tr>\n      <th>5</th>\n      <td>94c484be-8f3e-4578-b43c-ef62184132ca</td>\n      <td>raw</td>\n      <td>5</td>\n      <td>cart</td>\n      <td>2019-11-01 21:38:36.761221</td>\n      <td>964964743</td>\n    </tr>\n    <tr>\n      <th>6</th>\n      <td>9930949d-a839-4358-863d-f3e16d77f02b</td>\n      <td>raw</td>\n      <td>6</td>\n      <td>delivery_choice</td>\n      <td>2019-11-01 21:38:37.564693</td>\n      <td>964964743</td>\n    </tr>\n    <tr>\n      <th>2439</th>\n      <td>eff948e1-e0e8-4afb-b52f-08936264a027</td>\n      <td>raw</td>\n      <td>2439</td>\n      <td>main</td>\n      <td>2019-12-09 01:42:22.801831</td>\n      <td>964964743</td>\n    </tr>\n    <tr>\n      <th>2440</th>\n      <td>46834714-9baf-45b4-9be2-0604ae8a93bb</td>\n      <td>raw</td>\n      <td>2440</td>\n      <td>catalog</td>\n      <td>2019-12-09 01:42:23.617764</td>\n      <td>964964743</td>\n    </tr>\n    <tr>\n      <th>2441</th>\n      <td>323eaaa9-f74c-4b27-8f53-215ac900ac43</td>\n      <td>raw</td>\n      <td>2441</td>\n      <td>product2</td>\n      <td>2019-12-09 01:42:56.877340</td>\n      <td>964964743</td>\n    </tr>\n    <tr>\n      <th>2442</th>\n      <td>a7137007-a5d6-43af-9461-d28828bee74e</td>\n      <td>raw</td>\n      <td>2442</td>\n      <td>catalog</td>\n      <td>2019-12-09 01:43:05.436223</td>\n      <td>964964743</td>\n    </tr>\n    <tr>\n      <th>2443</th>\n      <td>44d254c7-3f8f-45a0-9348-42865bc01961</td>\n      <td>raw</td>\n      <td>2443</td>\n      <td>catalog</td>\n      <td>2019-12-09 01:43:36.923178</td>\n      <td>964964743</td>\n    </tr>\n    <tr>\n      <th>2444</th>\n      <td>dc6ba294-693e-499d-810f-8b37e8704856</td>\n      <td>raw</td>\n      <td>2444</td>\n      <td>product2</td>\n      <td>2019-12-09 01:43:41.174195</td>\n      <td>964964743</td>\n    </tr>\n    <tr>\n      <th>2445</th>\n      <td>9405e65d-7c43-4473-b1ae-1f38550976f2</td>\n      <td>raw</td>\n      <td>2445</td>\n      <td>cart</td>\n      <td>2019-12-09 01:43:57.325569</td>\n      <td>964964743</td>\n    </tr>\n    <tr>\n      <th>2446</th>\n      <td>641ae88d-a77d-455e-b151-fcf929ed29da</td>\n      <td>raw</td>\n      <td>2446</td>\n      <td>delivery_choice</td>\n      <td>2019-12-09 01:43:57.486518</td>\n      <td>964964743</td>\n    </tr>\n    <tr>\n      <th>2447</th>\n      <td>b5e525c2-1c35-4cd9-8a55-a2181dc6ed0b</td>\n      <td>raw</td>\n      <td>2447</td>\n      <td>delivery_pickup</td>\n      <td>2019-12-09 01:43:57.766850</td>\n      <td>964964743</td>\n    </tr>\n    <tr>\n      <th>2448</th>\n      <td>cc735c4c-7a5b-4f8f-a3fa-08fd004f7fe9</td>\n      <td>raw</td>\n      <td>2448</td>\n      <td>lost</td>\n      <td>2019-12-09 01:43:58.766850</td>\n      <td>964964743</td>\n    </tr>\n  </tbody>\n</table>\n</div>"
     },
     "execution_count": 32,
     "metadata": {},
     "output_type": "execute_result"
    }
   ],
   "source": [
    "print(len(source_df[source_df['user_id'] == 964964743]))\n",
    "source_df[source_df['user_id'] == 964964743].sort_values('event_timestamp')"
   ],
   "metadata": {
    "collapsed": false,
    "pycharm": {
     "name": "#%%\n"
    }
   }
  },
  {
   "cell_type": "code",
   "execution_count": 33,
   "outputs": [
    {
     "name": "stdout",
     "output_type": "stream",
     "text": [
      "14\n"
     ]
    },
    {
     "data": {
      "text/plain": "                                  event_id event_type  event_index  \\\n5     e9181881-4906-4349-b2c5-073141943245   new_user            5   \n6     78809682-25ea-4d09-b8fb-008c6da653e1        raw            6   \n7     94c484be-8f3e-4578-b43c-ef62184132ca        raw            7   \n8     9930949d-a839-4358-863d-f3e16d77f02b        raw            8   \n2768  eff948e1-e0e8-4afb-b52f-08936264a027        raw         2768   \n2769  46834714-9baf-45b4-9be2-0604ae8a93bb        raw         2769   \n2770  323eaaa9-f74c-4b27-8f53-215ac900ac43        raw         2770   \n2771  a7137007-a5d6-43af-9461-d28828bee74e        raw         2771   \n2772  44d254c7-3f8f-45a0-9348-42865bc01961        raw         2772   \n2773  dc6ba294-693e-499d-810f-8b37e8704856        raw         2773   \n2774  9405e65d-7c43-4473-b1ae-1f38550976f2        raw         2774   \n2775  641ae88d-a77d-455e-b151-fcf929ed29da        raw         2775   \n2776  b5e525c2-1c35-4cd9-8a55-a2181dc6ed0b        raw         2776   \n2777  cc735c4c-7a5b-4f8f-a3fa-08fd004f7fe9        raw         2777   \n\n           event_name            event_timestamp      user_id  \n5            new_user 2019-11-01 21:38:19.283663  964964743.0  \n6             catalog 2019-11-01 21:38:19.283663  964964743.0  \n7                cart 2019-11-01 21:38:36.761221  964964743.0  \n8     delivery_choice 2019-11-01 21:38:37.564693  964964743.0  \n2768             main 2019-12-09 01:42:22.801831  964964743.0  \n2769          catalog 2019-12-09 01:42:23.617764  964964743.0  \n2770         product2 2019-12-09 01:42:56.877340  964964743.0  \n2771          catalog 2019-12-09 01:43:05.436223  964964743.0  \n2772          catalog 2019-12-09 01:43:36.923178  964964743.0  \n2773         product2 2019-12-09 01:43:41.174195  964964743.0  \n2774             cart 2019-12-09 01:43:57.325569  964964743.0  \n2775  delivery_choice 2019-12-09 01:43:57.486518  964964743.0  \n2776  delivery_pickup 2019-12-09 01:43:57.766850  964964743.0  \n2777             lost 2019-12-09 01:43:58.766850  964964743.0  ",
      "text/html": "<div>\n<style scoped>\n    .dataframe tbody tr th:only-of-type {\n        vertical-align: middle;\n    }\n\n    .dataframe tbody tr th {\n        vertical-align: top;\n    }\n\n    .dataframe thead th {\n        text-align: right;\n    }\n</style>\n<table border=\"1\" class=\"dataframe\">\n  <thead>\n    <tr style=\"text-align: right;\">\n      <th></th>\n      <th>event_id</th>\n      <th>event_type</th>\n      <th>event_index</th>\n      <th>event_name</th>\n      <th>event_timestamp</th>\n      <th>user_id</th>\n    </tr>\n  </thead>\n  <tbody>\n    <tr>\n      <th>5</th>\n      <td>e9181881-4906-4349-b2c5-073141943245</td>\n      <td>new_user</td>\n      <td>5</td>\n      <td>new_user</td>\n      <td>2019-11-01 21:38:19.283663</td>\n      <td>964964743.0</td>\n    </tr>\n    <tr>\n      <th>6</th>\n      <td>78809682-25ea-4d09-b8fb-008c6da653e1</td>\n      <td>raw</td>\n      <td>6</td>\n      <td>catalog</td>\n      <td>2019-11-01 21:38:19.283663</td>\n      <td>964964743.0</td>\n    </tr>\n    <tr>\n      <th>7</th>\n      <td>94c484be-8f3e-4578-b43c-ef62184132ca</td>\n      <td>raw</td>\n      <td>7</td>\n      <td>cart</td>\n      <td>2019-11-01 21:38:36.761221</td>\n      <td>964964743.0</td>\n    </tr>\n    <tr>\n      <th>8</th>\n      <td>9930949d-a839-4358-863d-f3e16d77f02b</td>\n      <td>raw</td>\n      <td>8</td>\n      <td>delivery_choice</td>\n      <td>2019-11-01 21:38:37.564693</td>\n      <td>964964743.0</td>\n    </tr>\n    <tr>\n      <th>2768</th>\n      <td>eff948e1-e0e8-4afb-b52f-08936264a027</td>\n      <td>raw</td>\n      <td>2768</td>\n      <td>main</td>\n      <td>2019-12-09 01:42:22.801831</td>\n      <td>964964743.0</td>\n    </tr>\n    <tr>\n      <th>2769</th>\n      <td>46834714-9baf-45b4-9be2-0604ae8a93bb</td>\n      <td>raw</td>\n      <td>2769</td>\n      <td>catalog</td>\n      <td>2019-12-09 01:42:23.617764</td>\n      <td>964964743.0</td>\n    </tr>\n    <tr>\n      <th>2770</th>\n      <td>323eaaa9-f74c-4b27-8f53-215ac900ac43</td>\n      <td>raw</td>\n      <td>2770</td>\n      <td>product2</td>\n      <td>2019-12-09 01:42:56.877340</td>\n      <td>964964743.0</td>\n    </tr>\n    <tr>\n      <th>2771</th>\n      <td>a7137007-a5d6-43af-9461-d28828bee74e</td>\n      <td>raw</td>\n      <td>2771</td>\n      <td>catalog</td>\n      <td>2019-12-09 01:43:05.436223</td>\n      <td>964964743.0</td>\n    </tr>\n    <tr>\n      <th>2772</th>\n      <td>44d254c7-3f8f-45a0-9348-42865bc01961</td>\n      <td>raw</td>\n      <td>2772</td>\n      <td>catalog</td>\n      <td>2019-12-09 01:43:36.923178</td>\n      <td>964964743.0</td>\n    </tr>\n    <tr>\n      <th>2773</th>\n      <td>dc6ba294-693e-499d-810f-8b37e8704856</td>\n      <td>raw</td>\n      <td>2773</td>\n      <td>product2</td>\n      <td>2019-12-09 01:43:41.174195</td>\n      <td>964964743.0</td>\n    </tr>\n    <tr>\n      <th>2774</th>\n      <td>9405e65d-7c43-4473-b1ae-1f38550976f2</td>\n      <td>raw</td>\n      <td>2774</td>\n      <td>cart</td>\n      <td>2019-12-09 01:43:57.325569</td>\n      <td>964964743.0</td>\n    </tr>\n    <tr>\n      <th>2775</th>\n      <td>641ae88d-a77d-455e-b151-fcf929ed29da</td>\n      <td>raw</td>\n      <td>2775</td>\n      <td>delivery_choice</td>\n      <td>2019-12-09 01:43:57.486518</td>\n      <td>964964743.0</td>\n    </tr>\n    <tr>\n      <th>2776</th>\n      <td>b5e525c2-1c35-4cd9-8a55-a2181dc6ed0b</td>\n      <td>raw</td>\n      <td>2776</td>\n      <td>delivery_pickup</td>\n      <td>2019-12-09 01:43:57.766850</td>\n      <td>964964743.0</td>\n    </tr>\n    <tr>\n      <th>2777</th>\n      <td>cc735c4c-7a5b-4f8f-a3fa-08fd004f7fe9</td>\n      <td>raw</td>\n      <td>2777</td>\n      <td>lost</td>\n      <td>2019-12-09 01:43:58.766850</td>\n      <td>964964743.0</td>\n    </tr>\n  </tbody>\n</table>\n</div>"
     },
     "execution_count": 33,
     "metadata": {},
     "output_type": "execute_result"
    }
   ],
   "source": [
    "print(len(df1[df1['user_id'] == 964964743]))\n",
    "df1[df1['user_id'] == 964964743].sort_values('event_timestamp')"
   ],
   "metadata": {
    "collapsed": false,
    "pycharm": {
     "name": "#%%\n"
    }
   }
  },
  {
   "cell_type": "markdown",
   "source": [
    "### зададим ноды последовательно"
   ],
   "metadata": {
    "collapsed": false,
    "pycharm": {
     "name": "#%% md\n"
    }
   }
  },
  {
   "cell_type": "code",
   "execution_count": 34,
   "outputs": [
    {
     "data": {
      "text/plain": "                               event_id event_type  event_index event_name  \\\n0  05b47748-3954-44f4-a6fa-0df1e8ce61e4      start            0      start   \n1  24502e81-6b73-426c-ac86-70bc5a1e66a9   new_user            1   new_user   \n2  59a69b9b-91e6-4ea6-b338-2d50e9b465f5        raw            2    catalog   \n3  072c19d0-427b-4278-809b-c509e52cee4a        raw            3   product1   \n4  1692b904-c338-473e-b00b-5b16d5c79d67        raw            4       cart   \n5  56a76f25-ed9d-46de-8a4f-235bf534f770        raw            5    catalog   \n6  eba8ed4a-26b1-4aec-9b07-45a5f847ac62      start            6      start   \n7  5d4f5c59-6244-4d15-9e92-7456fa79b257     resume            7     resume   \n\n             event_timestamp      user_id  \n0 2019-11-01 17:59:13.273932  219483890.0  \n1 2019-11-01 17:59:13.273932  219483890.0  \n2 2019-11-01 17:59:13.273932  219483890.0  \n3 2019-11-01 17:59:28.459271  219483890.0  \n4 2019-11-01 17:59:29.502214  219483890.0  \n5 2019-11-01 17:59:32.557029  219483890.0  \n6 2019-11-01 21:38:19.283663  964964743.0  \n7 2019-11-01 21:38:19.283663  964964743.0  ",
      "text/html": "<div>\n<style scoped>\n    .dataframe tbody tr th:only-of-type {\n        vertical-align: middle;\n    }\n\n    .dataframe tbody tr th {\n        vertical-align: top;\n    }\n\n    .dataframe thead th {\n        text-align: right;\n    }\n</style>\n<table border=\"1\" class=\"dataframe\">\n  <thead>\n    <tr style=\"text-align: right;\">\n      <th></th>\n      <th>event_id</th>\n      <th>event_type</th>\n      <th>event_index</th>\n      <th>event_name</th>\n      <th>event_timestamp</th>\n      <th>user_id</th>\n    </tr>\n  </thead>\n  <tbody>\n    <tr>\n      <th>0</th>\n      <td>05b47748-3954-44f4-a6fa-0df1e8ce61e4</td>\n      <td>start</td>\n      <td>0</td>\n      <td>start</td>\n      <td>2019-11-01 17:59:13.273932</td>\n      <td>219483890.0</td>\n    </tr>\n    <tr>\n      <th>1</th>\n      <td>24502e81-6b73-426c-ac86-70bc5a1e66a9</td>\n      <td>new_user</td>\n      <td>1</td>\n      <td>new_user</td>\n      <td>2019-11-01 17:59:13.273932</td>\n      <td>219483890.0</td>\n    </tr>\n    <tr>\n      <th>2</th>\n      <td>59a69b9b-91e6-4ea6-b338-2d50e9b465f5</td>\n      <td>raw</td>\n      <td>2</td>\n      <td>catalog</td>\n      <td>2019-11-01 17:59:13.273932</td>\n      <td>219483890.0</td>\n    </tr>\n    <tr>\n      <th>3</th>\n      <td>072c19d0-427b-4278-809b-c509e52cee4a</td>\n      <td>raw</td>\n      <td>3</td>\n      <td>product1</td>\n      <td>2019-11-01 17:59:28.459271</td>\n      <td>219483890.0</td>\n    </tr>\n    <tr>\n      <th>4</th>\n      <td>1692b904-c338-473e-b00b-5b16d5c79d67</td>\n      <td>raw</td>\n      <td>4</td>\n      <td>cart</td>\n      <td>2019-11-01 17:59:29.502214</td>\n      <td>219483890.0</td>\n    </tr>\n    <tr>\n      <th>5</th>\n      <td>56a76f25-ed9d-46de-8a4f-235bf534f770</td>\n      <td>raw</td>\n      <td>5</td>\n      <td>catalog</td>\n      <td>2019-11-01 17:59:32.557029</td>\n      <td>219483890.0</td>\n    </tr>\n    <tr>\n      <th>6</th>\n      <td>eba8ed4a-26b1-4aec-9b07-45a5f847ac62</td>\n      <td>start</td>\n      <td>6</td>\n      <td>start</td>\n      <td>2019-11-01 21:38:19.283663</td>\n      <td>964964743.0</td>\n    </tr>\n    <tr>\n      <th>7</th>\n      <td>5d4f5c59-6244-4d15-9e92-7456fa79b257</td>\n      <td>resume</td>\n      <td>7</td>\n      <td>resume</td>\n      <td>2019-11-01 21:38:19.283663</td>\n      <td>964964743.0</td>\n    </tr>\n  </tbody>\n</table>\n</div>"
     },
     "execution_count": 34,
     "metadata": {},
     "output_type": "execute_result"
    }
   ],
   "source": [
    "new_user_list = [219483890]\n",
    "\n",
    "new_resume_events1 = EventsNode(\n",
    "    NewResumeEvents(params=NewResumeParams(new_users_list=new_user_list)))\n",
    "\n",
    "\n",
    "graph.add_node(\n",
    "    node=new_resume_events1,\n",
    "    parents=[start_end_events]\n",
    ")\n",
    "\n",
    "result_seq = graph.combine(\n",
    "    node=new_resume_events1\n",
    ")\n",
    "result_seq.to_dataframe().head(8)"
   ],
   "metadata": {
    "collapsed": false,
    "pycharm": {
     "name": "#%%\n"
    }
   }
  },
  {
   "cell_type": "code",
   "execution_count": 35,
   "outputs": [
    {
     "data": {
      "text/plain": "(46634, 35381)"
     },
     "execution_count": 35,
     "metadata": {},
     "output_type": "execute_result"
    }
   ],
   "source": [
    "len(result_seq.to_dataframe()), len(source_df)"
   ],
   "metadata": {
    "collapsed": false,
    "pycharm": {
     "name": "#%%\n"
    }
   }
  },
  {
   "cell_type": "code",
   "execution_count": 36,
   "outputs": [
    {
     "data": {
      "text/plain": "raw         35381\nstart        3751\nend          3751\nresume       3750\nnew_user        1\nName: event_type, dtype: int64"
     },
     "execution_count": 36,
     "metadata": {},
     "output_type": "execute_result"
    }
   ],
   "source": [
    "result_seq.to_dataframe()['event_type'].value_counts()"
   ],
   "metadata": {
    "collapsed": false,
    "pycharm": {
     "name": "#%%\n"
    }
   }
  },
  {
   "cell_type": "code",
   "execution_count": 37,
   "outputs": [
    {
     "data": {
      "text/plain": "raw         35381\nnew_user     3751\nName: event_type, dtype: int64"
     },
     "execution_count": 37,
     "metadata": {},
     "output_type": "execute_result"
    }
   ],
   "source": [
    "result.to_dataframe()['event_type'].value_counts()"
   ],
   "metadata": {
    "collapsed": false,
    "pycharm": {
     "name": "#%%\n"
    }
   }
  },
  {
   "cell_type": "code",
   "execution_count": 38,
   "outputs": [
    {
     "data": {
      "text/plain": "raw    35381\nName: event_type, dtype: int64"
     },
     "execution_count": 38,
     "metadata": {},
     "output_type": "execute_result"
    }
   ],
   "source": [
    "source_df['event_type'].value_counts()"
   ],
   "metadata": {
    "collapsed": false,
    "pycharm": {
     "name": "#%%\n"
    }
   }
  },
  {
   "cell_type": "code",
   "execution_count": 39,
   "outputs": [],
   "source": [
    "df2 = result_seq.to_dataframe()"
   ],
   "metadata": {
    "collapsed": false,
    "pycharm": {
     "name": "#%%\n"
    }
   }
  },
  {
   "cell_type": "code",
   "execution_count": 40,
   "outputs": [
    {
     "name": "stdout",
     "output_type": "stream",
     "text": [
      "20\n"
     ]
    },
    {
     "data": {
      "text/plain": "                                   event_id event_type  event_index  \\\n0      05b47748-3954-44f4-a6fa-0df1e8ce61e4      start            0   \n1      24502e81-6b73-426c-ac86-70bc5a1e66a9   new_user            1   \n2      59a69b9b-91e6-4ea6-b338-2d50e9b465f5        raw            2   \n3      072c19d0-427b-4278-809b-c509e52cee4a        raw            3   \n4      1692b904-c338-473e-b00b-5b16d5c79d67        raw            4   \n5      56a76f25-ed9d-46de-8a4f-235bf534f770        raw            5   \n3023   b2f9c0a1-904a-4dff-90e1-37be04986437        raw         3023   \n3024   1436f264-7a18-46b6-a732-60201d8b56d8        raw         3024   \n3025   7019613a-00ba-4aa8-b08d-3118638d9c02        raw         3025   \n6273   ebdfbd61-4fcd-44ff-b562-649e3efc76f8        raw         6273   \n6274   a927160b-96ce-4c89-bd53-d79a37bdd1b6        raw         6274   \n6275   2fa7934a-4e76-4018-994e-1dac03a4464f        raw         6275   \n6276   0adbd015-e172-47da-89c1-326b326ed4ad        raw         6276   \n6277   490137f7-c5c2-4387-a94b-2d8db537aa8c        raw         6277   \n6278   aca98f1b-a878-4ad5-8bb6-aec03effbb8d        raw         6278   \n6279   7b0fa9c4-bd8c-432b-8422-0074ab7994ff        raw         6279   \n11091  de8d92d7-80b0-496c-b020-e8354deb3f52        raw        11091   \n11092  803dfc1a-ebf3-4197-a012-8a2bc50eb1fa        raw        11092   \n11093  788d8821-41a3-4ffb-9712-3a9c97cf631d        raw        11093   \n11094  7a0ab04f-f2c2-4834-be10-8cfcecf54329        end        11094   \n\n      event_name            event_timestamp      user_id  \n0          start 2019-11-01 17:59:13.273932  219483890.0  \n1       new_user 2019-11-01 17:59:13.273932  219483890.0  \n2        catalog 2019-11-01 17:59:13.273932  219483890.0  \n3       product1 2019-11-01 17:59:28.459271  219483890.0  \n4           cart 2019-11-01 17:59:29.502214  219483890.0  \n5        catalog 2019-11-01 17:59:32.557029  219483890.0  \n3023        main 2019-12-06 16:22:57.484842  219483890.0  \n3024     catalog 2019-12-06 16:23:01.331109  219483890.0  \n3025     catalog 2019-12-06 16:23:48.116617  219483890.0  \n6273        main 2020-01-06 22:10:13.635011  219483890.0  \n6274     catalog 2020-01-06 22:10:15.228575  219483890.0  \n6275        cart 2020-01-06 22:10:42.309028  219483890.0  \n6276     catalog 2020-01-06 22:10:52.255859  219483890.0  \n6277    product1 2020-01-06 22:11:01.709800  219483890.0  \n6278     catalog 2020-01-06 22:11:02.899490  219483890.0  \n6279     catalog 2020-01-06 22:11:28.271366  219483890.0  \n11091       main 2020-02-14 21:04:49.450696  219483890.0  \n11092    catalog 2020-02-14 21:04:51.717127  219483890.0  \n11093       lost 2020-02-14 21:04:52.717127  219483890.0  \n11094        end 2020-02-14 21:04:52.717127  219483890.0  ",
      "text/html": "<div>\n<style scoped>\n    .dataframe tbody tr th:only-of-type {\n        vertical-align: middle;\n    }\n\n    .dataframe tbody tr th {\n        vertical-align: top;\n    }\n\n    .dataframe thead th {\n        text-align: right;\n    }\n</style>\n<table border=\"1\" class=\"dataframe\">\n  <thead>\n    <tr style=\"text-align: right;\">\n      <th></th>\n      <th>event_id</th>\n      <th>event_type</th>\n      <th>event_index</th>\n      <th>event_name</th>\n      <th>event_timestamp</th>\n      <th>user_id</th>\n    </tr>\n  </thead>\n  <tbody>\n    <tr>\n      <th>0</th>\n      <td>05b47748-3954-44f4-a6fa-0df1e8ce61e4</td>\n      <td>start</td>\n      <td>0</td>\n      <td>start</td>\n      <td>2019-11-01 17:59:13.273932</td>\n      <td>219483890.0</td>\n    </tr>\n    <tr>\n      <th>1</th>\n      <td>24502e81-6b73-426c-ac86-70bc5a1e66a9</td>\n      <td>new_user</td>\n      <td>1</td>\n      <td>new_user</td>\n      <td>2019-11-01 17:59:13.273932</td>\n      <td>219483890.0</td>\n    </tr>\n    <tr>\n      <th>2</th>\n      <td>59a69b9b-91e6-4ea6-b338-2d50e9b465f5</td>\n      <td>raw</td>\n      <td>2</td>\n      <td>catalog</td>\n      <td>2019-11-01 17:59:13.273932</td>\n      <td>219483890.0</td>\n    </tr>\n    <tr>\n      <th>3</th>\n      <td>072c19d0-427b-4278-809b-c509e52cee4a</td>\n      <td>raw</td>\n      <td>3</td>\n      <td>product1</td>\n      <td>2019-11-01 17:59:28.459271</td>\n      <td>219483890.0</td>\n    </tr>\n    <tr>\n      <th>4</th>\n      <td>1692b904-c338-473e-b00b-5b16d5c79d67</td>\n      <td>raw</td>\n      <td>4</td>\n      <td>cart</td>\n      <td>2019-11-01 17:59:29.502214</td>\n      <td>219483890.0</td>\n    </tr>\n    <tr>\n      <th>5</th>\n      <td>56a76f25-ed9d-46de-8a4f-235bf534f770</td>\n      <td>raw</td>\n      <td>5</td>\n      <td>catalog</td>\n      <td>2019-11-01 17:59:32.557029</td>\n      <td>219483890.0</td>\n    </tr>\n    <tr>\n      <th>3023</th>\n      <td>b2f9c0a1-904a-4dff-90e1-37be04986437</td>\n      <td>raw</td>\n      <td>3023</td>\n      <td>main</td>\n      <td>2019-12-06 16:22:57.484842</td>\n      <td>219483890.0</td>\n    </tr>\n    <tr>\n      <th>3024</th>\n      <td>1436f264-7a18-46b6-a732-60201d8b56d8</td>\n      <td>raw</td>\n      <td>3024</td>\n      <td>catalog</td>\n      <td>2019-12-06 16:23:01.331109</td>\n      <td>219483890.0</td>\n    </tr>\n    <tr>\n      <th>3025</th>\n      <td>7019613a-00ba-4aa8-b08d-3118638d9c02</td>\n      <td>raw</td>\n      <td>3025</td>\n      <td>catalog</td>\n      <td>2019-12-06 16:23:48.116617</td>\n      <td>219483890.0</td>\n    </tr>\n    <tr>\n      <th>6273</th>\n      <td>ebdfbd61-4fcd-44ff-b562-649e3efc76f8</td>\n      <td>raw</td>\n      <td>6273</td>\n      <td>main</td>\n      <td>2020-01-06 22:10:13.635011</td>\n      <td>219483890.0</td>\n    </tr>\n    <tr>\n      <th>6274</th>\n      <td>a927160b-96ce-4c89-bd53-d79a37bdd1b6</td>\n      <td>raw</td>\n      <td>6274</td>\n      <td>catalog</td>\n      <td>2020-01-06 22:10:15.228575</td>\n      <td>219483890.0</td>\n    </tr>\n    <tr>\n      <th>6275</th>\n      <td>2fa7934a-4e76-4018-994e-1dac03a4464f</td>\n      <td>raw</td>\n      <td>6275</td>\n      <td>cart</td>\n      <td>2020-01-06 22:10:42.309028</td>\n      <td>219483890.0</td>\n    </tr>\n    <tr>\n      <th>6276</th>\n      <td>0adbd015-e172-47da-89c1-326b326ed4ad</td>\n      <td>raw</td>\n      <td>6276</td>\n      <td>catalog</td>\n      <td>2020-01-06 22:10:52.255859</td>\n      <td>219483890.0</td>\n    </tr>\n    <tr>\n      <th>6277</th>\n      <td>490137f7-c5c2-4387-a94b-2d8db537aa8c</td>\n      <td>raw</td>\n      <td>6277</td>\n      <td>product1</td>\n      <td>2020-01-06 22:11:01.709800</td>\n      <td>219483890.0</td>\n    </tr>\n    <tr>\n      <th>6278</th>\n      <td>aca98f1b-a878-4ad5-8bb6-aec03effbb8d</td>\n      <td>raw</td>\n      <td>6278</td>\n      <td>catalog</td>\n      <td>2020-01-06 22:11:02.899490</td>\n      <td>219483890.0</td>\n    </tr>\n    <tr>\n      <th>6279</th>\n      <td>7b0fa9c4-bd8c-432b-8422-0074ab7994ff</td>\n      <td>raw</td>\n      <td>6279</td>\n      <td>catalog</td>\n      <td>2020-01-06 22:11:28.271366</td>\n      <td>219483890.0</td>\n    </tr>\n    <tr>\n      <th>11091</th>\n      <td>de8d92d7-80b0-496c-b020-e8354deb3f52</td>\n      <td>raw</td>\n      <td>11091</td>\n      <td>main</td>\n      <td>2020-02-14 21:04:49.450696</td>\n      <td>219483890.0</td>\n    </tr>\n    <tr>\n      <th>11092</th>\n      <td>803dfc1a-ebf3-4197-a012-8a2bc50eb1fa</td>\n      <td>raw</td>\n      <td>11092</td>\n      <td>catalog</td>\n      <td>2020-02-14 21:04:51.717127</td>\n      <td>219483890.0</td>\n    </tr>\n    <tr>\n      <th>11093</th>\n      <td>788d8821-41a3-4ffb-9712-3a9c97cf631d</td>\n      <td>raw</td>\n      <td>11093</td>\n      <td>lost</td>\n      <td>2020-02-14 21:04:52.717127</td>\n      <td>219483890.0</td>\n    </tr>\n    <tr>\n      <th>11094</th>\n      <td>7a0ab04f-f2c2-4834-be10-8cfcecf54329</td>\n      <td>end</td>\n      <td>11094</td>\n      <td>end</td>\n      <td>2020-02-14 21:04:52.717127</td>\n      <td>219483890.0</td>\n    </tr>\n  </tbody>\n</table>\n</div>"
     },
     "execution_count": 40,
     "metadata": {},
     "output_type": "execute_result"
    }
   ],
   "source": [
    "print(len(df2[df2['user_id'] == 219483890]))\n",
    "df2[df2['user_id'] == 219483890].sort_values('event_timestamp')"
   ],
   "metadata": {
    "collapsed": false,
    "pycharm": {
     "name": "#%%\n"
    }
   }
  },
  {
   "cell_type": "code",
   "execution_count": 41,
   "outputs": [
    {
     "data": {
      "text/plain": "[<src.graph.p_graph.EventsNode at 0x117b53100>]"
     },
     "execution_count": 41,
     "metadata": {},
     "output_type": "execute_result"
    }
   ],
   "source": [
    "graph.get_parents(new_resume_events1)"
   ],
   "metadata": {
    "collapsed": false,
    "pycharm": {
     "name": "#%%\n"
    }
   }
  },
  {
   "cell_type": "code",
   "execution_count": 41,
   "outputs": [],
   "source": [],
   "metadata": {
    "collapsed": false,
    "pycharm": {
     "name": "#%%\n"
    }
   }
  },
  {
   "cell_type": "markdown",
   "source": [
    "### Результат"
   ],
   "metadata": {
    "collapsed": false,
    "pycharm": {
     "name": "#%% md\n"
    }
   }
  },
  {
   "cell_type": "markdown",
   "source": [
    "1) [Поправила] Обсуждали, что можно задать вот так тип new_users_list: List[int] | str\n",
    "у меня это не сработало\n",
    "В итоге поправила - new_users_list: Union[str, List[int]]\n",
    "2) [TODO] Можно ли как-то проставить конкретное значение \"all\"?\n",
    "Пока добавила отбивку\n",
    "3) [Поправила] combiner\n",
    "    - Задвоились все raw события, кроме первого,\n",
    "    - Первое событие удалилось по аналогии со start_end_events, проверила по id\n",
    "    -new_user и resume проставился правильно c правильным timestamp\n",
    "\n",
    "- Обсудить с Володей\n",
    "При задании new_resume_events, должна быть возможность задать параметр \"all\" - чтобы всем проставить new_user - нужен он такой? нужен ли такой для resume?"
   ],
   "metadata": {
    "collapsed": false,
    "pycharm": {
     "name": "#%% md\n"
    }
   }
  },
  {
   "cell_type": "markdown",
   "source": [
    "## LostPause"
   ],
   "metadata": {
    "collapsed": false,
    "pycharm": {
     "name": "#%% md\n"
    }
   }
  },
  {
   "cell_type": "code",
   "execution_count": 42,
   "outputs": [
    {
     "data": {
      "text/plain": "                               event_id event_type  event_index  \\\n0  59a69b9b-91e6-4ea6-b338-2d50e9b465f5        raw            0   \n1  072c19d0-427b-4278-809b-c509e52cee4a        raw            1   \n2  1692b904-c338-473e-b00b-5b16d5c79d67        raw            2   \n3  56a76f25-ed9d-46de-8a4f-235bf534f770        raw            3   \n4  78809682-25ea-4d09-b8fb-008c6da653e1        raw            4   \n5  94c484be-8f3e-4578-b43c-ef62184132ca        raw            5   \n6  9930949d-a839-4358-863d-f3e16d77f02b        raw            6   \n7  56c73621-a726-43fc-b1e5-a286c93afd85        raw            7   \n\n        event_name            event_timestamp      user_id  \n0          catalog 2019-11-01 17:59:13.273932  219483890.0  \n1         product1 2019-11-01 17:59:28.459271  219483890.0  \n2             cart 2019-11-01 17:59:29.502214  219483890.0  \n3          catalog 2019-11-01 17:59:32.557029  219483890.0  \n4          catalog 2019-11-01 21:38:19.283663  964964743.0  \n5             cart 2019-11-01 21:38:36.761221  964964743.0  \n6  delivery_choice 2019-11-01 21:38:37.564693  964964743.0  \n7             main 2019-11-01 22:28:54.791683  629881394.0  ",
      "text/html": "<div>\n<style scoped>\n    .dataframe tbody tr th:only-of-type {\n        vertical-align: middle;\n    }\n\n    .dataframe tbody tr th {\n        vertical-align: top;\n    }\n\n    .dataframe thead th {\n        text-align: right;\n    }\n</style>\n<table border=\"1\" class=\"dataframe\">\n  <thead>\n    <tr style=\"text-align: right;\">\n      <th></th>\n      <th>event_id</th>\n      <th>event_type</th>\n      <th>event_index</th>\n      <th>event_name</th>\n      <th>event_timestamp</th>\n      <th>user_id</th>\n    </tr>\n  </thead>\n  <tbody>\n    <tr>\n      <th>0</th>\n      <td>59a69b9b-91e6-4ea6-b338-2d50e9b465f5</td>\n      <td>raw</td>\n      <td>0</td>\n      <td>catalog</td>\n      <td>2019-11-01 17:59:13.273932</td>\n      <td>219483890.0</td>\n    </tr>\n    <tr>\n      <th>1</th>\n      <td>072c19d0-427b-4278-809b-c509e52cee4a</td>\n      <td>raw</td>\n      <td>1</td>\n      <td>product1</td>\n      <td>2019-11-01 17:59:28.459271</td>\n      <td>219483890.0</td>\n    </tr>\n    <tr>\n      <th>2</th>\n      <td>1692b904-c338-473e-b00b-5b16d5c79d67</td>\n      <td>raw</td>\n      <td>2</td>\n      <td>cart</td>\n      <td>2019-11-01 17:59:29.502214</td>\n      <td>219483890.0</td>\n    </tr>\n    <tr>\n      <th>3</th>\n      <td>56a76f25-ed9d-46de-8a4f-235bf534f770</td>\n      <td>raw</td>\n      <td>3</td>\n      <td>catalog</td>\n      <td>2019-11-01 17:59:32.557029</td>\n      <td>219483890.0</td>\n    </tr>\n    <tr>\n      <th>4</th>\n      <td>78809682-25ea-4d09-b8fb-008c6da653e1</td>\n      <td>raw</td>\n      <td>4</td>\n      <td>catalog</td>\n      <td>2019-11-01 21:38:19.283663</td>\n      <td>964964743.0</td>\n    </tr>\n    <tr>\n      <th>5</th>\n      <td>94c484be-8f3e-4578-b43c-ef62184132ca</td>\n      <td>raw</td>\n      <td>5</td>\n      <td>cart</td>\n      <td>2019-11-01 21:38:36.761221</td>\n      <td>964964743.0</td>\n    </tr>\n    <tr>\n      <th>6</th>\n      <td>9930949d-a839-4358-863d-f3e16d77f02b</td>\n      <td>raw</td>\n      <td>6</td>\n      <td>delivery_choice</td>\n      <td>2019-11-01 21:38:37.564693</td>\n      <td>964964743.0</td>\n    </tr>\n    <tr>\n      <th>7</th>\n      <td>56c73621-a726-43fc-b1e5-a286c93afd85</td>\n      <td>raw</td>\n      <td>7</td>\n      <td>main</td>\n      <td>2019-11-01 22:28:54.791683</td>\n      <td>629881394.0</td>\n    </tr>\n  </tbody>\n</table>\n</div>"
     },
     "execution_count": 42,
     "metadata": {},
     "output_type": "execute_result"
    }
   ],
   "source": [
    "from src.data_processors_lib.rete import LostPauseEvents, LostPauseParams\n",
    "\n",
    "lost_users_list_ = [964964743]\n",
    "\n",
    "lost_pause_events = EventsNode(\n",
    "    LostPauseEvents(params=LostPauseParams(lost_users_list=lost_users_list_)))\n",
    "\n",
    "graph.add_node(\n",
    "    node=lost_pause_events,\n",
    "    parents=[graph.root]\n",
    ")\n",
    "\n",
    "\n",
    "result = graph.combine(\n",
    "    node=lost_pause_events\n",
    ")\n",
    "\n",
    "\n",
    "result.to_dataframe().head(8)"
   ],
   "metadata": {
    "collapsed": false,
    "pycharm": {
     "name": "#%%\n"
    }
   }
  },
  {
   "cell_type": "code",
   "execution_count": 43,
   "outputs": [
    {
     "name": "stdout",
     "output_type": "stream",
     "text": [
      "0\n",
      "0\n"
     ]
    }
   ],
   "source": [
    "df3 = result.to_dataframe()\n",
    "print(source_df.duplicated(['event_name', 'event_timestamp', 'user_id']).sum())\n",
    "print(df3.duplicated(['event_name', 'event_timestamp', 'user_id']).sum())"
   ],
   "metadata": {
    "collapsed": false,
    "pycharm": {
     "name": "#%%\n"
    }
   }
  },
  {
   "cell_type": "code",
   "execution_count": 44,
   "outputs": [
    {
     "name": "stdout",
     "output_type": "stream",
     "text": [
      "14\n"
     ]
    },
    {
     "data": {
      "text/plain": "                                  event_id event_type  event_index  \\\n4     78809682-25ea-4d09-b8fb-008c6da653e1        raw            4   \n5     94c484be-8f3e-4578-b43c-ef62184132ca        raw            5   \n6     9930949d-a839-4358-863d-f3e16d77f02b        raw            6   \n2618  eff948e1-e0e8-4afb-b52f-08936264a027        raw         2618   \n2619  46834714-9baf-45b4-9be2-0604ae8a93bb        raw         2619   \n2620  323eaaa9-f74c-4b27-8f53-215ac900ac43        raw         2620   \n2621  a7137007-a5d6-43af-9461-d28828bee74e        raw         2621   \n2622  44d254c7-3f8f-45a0-9348-42865bc01961        raw         2622   \n2623  dc6ba294-693e-499d-810f-8b37e8704856        raw         2623   \n2624  9405e65d-7c43-4473-b1ae-1f38550976f2        raw         2624   \n2625  641ae88d-a77d-455e-b151-fcf929ed29da        raw         2625   \n2626  b5e525c2-1c35-4cd9-8a55-a2181dc6ed0b        raw         2626   \n2627  cc735c4c-7a5b-4f8f-a3fa-08fd004f7fe9        raw         2627   \n2628  4538e019-a839-4e41-8f1b-7ddfc62155b6      pause         2628   \n\n           event_name            event_timestamp      user_id  \n4             catalog 2019-11-01 21:38:19.283663  964964743.0  \n5                cart 2019-11-01 21:38:36.761221  964964743.0  \n6     delivery_choice 2019-11-01 21:38:37.564693  964964743.0  \n2618             main 2019-12-09 01:42:22.801831  964964743.0  \n2619          catalog 2019-12-09 01:42:23.617764  964964743.0  \n2620         product2 2019-12-09 01:42:56.877340  964964743.0  \n2621          catalog 2019-12-09 01:43:05.436223  964964743.0  \n2622          catalog 2019-12-09 01:43:36.923178  964964743.0  \n2623         product2 2019-12-09 01:43:41.174195  964964743.0  \n2624             cart 2019-12-09 01:43:57.325569  964964743.0  \n2625  delivery_choice 2019-12-09 01:43:57.486518  964964743.0  \n2626  delivery_pickup 2019-12-09 01:43:57.766850  964964743.0  \n2627             lost 2019-12-09 01:43:58.766850  964964743.0  \n2628            pause 2019-12-09 01:43:58.766850  964964743.0  ",
      "text/html": "<div>\n<style scoped>\n    .dataframe tbody tr th:only-of-type {\n        vertical-align: middle;\n    }\n\n    .dataframe tbody tr th {\n        vertical-align: top;\n    }\n\n    .dataframe thead th {\n        text-align: right;\n    }\n</style>\n<table border=\"1\" class=\"dataframe\">\n  <thead>\n    <tr style=\"text-align: right;\">\n      <th></th>\n      <th>event_id</th>\n      <th>event_type</th>\n      <th>event_index</th>\n      <th>event_name</th>\n      <th>event_timestamp</th>\n      <th>user_id</th>\n    </tr>\n  </thead>\n  <tbody>\n    <tr>\n      <th>4</th>\n      <td>78809682-25ea-4d09-b8fb-008c6da653e1</td>\n      <td>raw</td>\n      <td>4</td>\n      <td>catalog</td>\n      <td>2019-11-01 21:38:19.283663</td>\n      <td>964964743.0</td>\n    </tr>\n    <tr>\n      <th>5</th>\n      <td>94c484be-8f3e-4578-b43c-ef62184132ca</td>\n      <td>raw</td>\n      <td>5</td>\n      <td>cart</td>\n      <td>2019-11-01 21:38:36.761221</td>\n      <td>964964743.0</td>\n    </tr>\n    <tr>\n      <th>6</th>\n      <td>9930949d-a839-4358-863d-f3e16d77f02b</td>\n      <td>raw</td>\n      <td>6</td>\n      <td>delivery_choice</td>\n      <td>2019-11-01 21:38:37.564693</td>\n      <td>964964743.0</td>\n    </tr>\n    <tr>\n      <th>2618</th>\n      <td>eff948e1-e0e8-4afb-b52f-08936264a027</td>\n      <td>raw</td>\n      <td>2618</td>\n      <td>main</td>\n      <td>2019-12-09 01:42:22.801831</td>\n      <td>964964743.0</td>\n    </tr>\n    <tr>\n      <th>2619</th>\n      <td>46834714-9baf-45b4-9be2-0604ae8a93bb</td>\n      <td>raw</td>\n      <td>2619</td>\n      <td>catalog</td>\n      <td>2019-12-09 01:42:23.617764</td>\n      <td>964964743.0</td>\n    </tr>\n    <tr>\n      <th>2620</th>\n      <td>323eaaa9-f74c-4b27-8f53-215ac900ac43</td>\n      <td>raw</td>\n      <td>2620</td>\n      <td>product2</td>\n      <td>2019-12-09 01:42:56.877340</td>\n      <td>964964743.0</td>\n    </tr>\n    <tr>\n      <th>2621</th>\n      <td>a7137007-a5d6-43af-9461-d28828bee74e</td>\n      <td>raw</td>\n      <td>2621</td>\n      <td>catalog</td>\n      <td>2019-12-09 01:43:05.436223</td>\n      <td>964964743.0</td>\n    </tr>\n    <tr>\n      <th>2622</th>\n      <td>44d254c7-3f8f-45a0-9348-42865bc01961</td>\n      <td>raw</td>\n      <td>2622</td>\n      <td>catalog</td>\n      <td>2019-12-09 01:43:36.923178</td>\n      <td>964964743.0</td>\n    </tr>\n    <tr>\n      <th>2623</th>\n      <td>dc6ba294-693e-499d-810f-8b37e8704856</td>\n      <td>raw</td>\n      <td>2623</td>\n      <td>product2</td>\n      <td>2019-12-09 01:43:41.174195</td>\n      <td>964964743.0</td>\n    </tr>\n    <tr>\n      <th>2624</th>\n      <td>9405e65d-7c43-4473-b1ae-1f38550976f2</td>\n      <td>raw</td>\n      <td>2624</td>\n      <td>cart</td>\n      <td>2019-12-09 01:43:57.325569</td>\n      <td>964964743.0</td>\n    </tr>\n    <tr>\n      <th>2625</th>\n      <td>641ae88d-a77d-455e-b151-fcf929ed29da</td>\n      <td>raw</td>\n      <td>2625</td>\n      <td>delivery_choice</td>\n      <td>2019-12-09 01:43:57.486518</td>\n      <td>964964743.0</td>\n    </tr>\n    <tr>\n      <th>2626</th>\n      <td>b5e525c2-1c35-4cd9-8a55-a2181dc6ed0b</td>\n      <td>raw</td>\n      <td>2626</td>\n      <td>delivery_pickup</td>\n      <td>2019-12-09 01:43:57.766850</td>\n      <td>964964743.0</td>\n    </tr>\n    <tr>\n      <th>2627</th>\n      <td>cc735c4c-7a5b-4f8f-a3fa-08fd004f7fe9</td>\n      <td>raw</td>\n      <td>2627</td>\n      <td>lost</td>\n      <td>2019-12-09 01:43:58.766850</td>\n      <td>964964743.0</td>\n    </tr>\n    <tr>\n      <th>2628</th>\n      <td>4538e019-a839-4e41-8f1b-7ddfc62155b6</td>\n      <td>pause</td>\n      <td>2628</td>\n      <td>pause</td>\n      <td>2019-12-09 01:43:58.766850</td>\n      <td>964964743.0</td>\n    </tr>\n  </tbody>\n</table>\n</div>"
     },
     "execution_count": 44,
     "metadata": {},
     "output_type": "execute_result"
    }
   ],
   "source": [
    "print(len(df3[df3['user_id'] == 964964743]))\n",
    "df3[df3['user_id'] == 964964743]"
   ],
   "metadata": {
    "collapsed": false,
    "pycharm": {
     "name": "#%%\n"
    }
   }
  },
  {
   "cell_type": "code",
   "execution_count": 45,
   "outputs": [
    {
     "name": "stdout",
     "output_type": "stream",
     "text": [
      "13\n"
     ]
    },
    {
     "data": {
      "text/plain": "                                  event_id event_type  event_index  \\\n4     78809682-25ea-4d09-b8fb-008c6da653e1        raw            4   \n5     94c484be-8f3e-4578-b43c-ef62184132ca        raw            5   \n6     9930949d-a839-4358-863d-f3e16d77f02b        raw            6   \n2439  eff948e1-e0e8-4afb-b52f-08936264a027        raw         2439   \n2440  46834714-9baf-45b4-9be2-0604ae8a93bb        raw         2440   \n2441  323eaaa9-f74c-4b27-8f53-215ac900ac43        raw         2441   \n2442  a7137007-a5d6-43af-9461-d28828bee74e        raw         2442   \n2443  44d254c7-3f8f-45a0-9348-42865bc01961        raw         2443   \n2444  dc6ba294-693e-499d-810f-8b37e8704856        raw         2444   \n2445  9405e65d-7c43-4473-b1ae-1f38550976f2        raw         2445   \n2446  641ae88d-a77d-455e-b151-fcf929ed29da        raw         2446   \n2447  b5e525c2-1c35-4cd9-8a55-a2181dc6ed0b        raw         2447   \n2448  cc735c4c-7a5b-4f8f-a3fa-08fd004f7fe9        raw         2448   \n\n           event_name            event_timestamp    user_id  \n4             catalog 2019-11-01 21:38:19.283663  964964743  \n5                cart 2019-11-01 21:38:36.761221  964964743  \n6     delivery_choice 2019-11-01 21:38:37.564693  964964743  \n2439             main 2019-12-09 01:42:22.801831  964964743  \n2440          catalog 2019-12-09 01:42:23.617764  964964743  \n2441         product2 2019-12-09 01:42:56.877340  964964743  \n2442          catalog 2019-12-09 01:43:05.436223  964964743  \n2443          catalog 2019-12-09 01:43:36.923178  964964743  \n2444         product2 2019-12-09 01:43:41.174195  964964743  \n2445             cart 2019-12-09 01:43:57.325569  964964743  \n2446  delivery_choice 2019-12-09 01:43:57.486518  964964743  \n2447  delivery_pickup 2019-12-09 01:43:57.766850  964964743  \n2448             lost 2019-12-09 01:43:58.766850  964964743  ",
      "text/html": "<div>\n<style scoped>\n    .dataframe tbody tr th:only-of-type {\n        vertical-align: middle;\n    }\n\n    .dataframe tbody tr th {\n        vertical-align: top;\n    }\n\n    .dataframe thead th {\n        text-align: right;\n    }\n</style>\n<table border=\"1\" class=\"dataframe\">\n  <thead>\n    <tr style=\"text-align: right;\">\n      <th></th>\n      <th>event_id</th>\n      <th>event_type</th>\n      <th>event_index</th>\n      <th>event_name</th>\n      <th>event_timestamp</th>\n      <th>user_id</th>\n    </tr>\n  </thead>\n  <tbody>\n    <tr>\n      <th>4</th>\n      <td>78809682-25ea-4d09-b8fb-008c6da653e1</td>\n      <td>raw</td>\n      <td>4</td>\n      <td>catalog</td>\n      <td>2019-11-01 21:38:19.283663</td>\n      <td>964964743</td>\n    </tr>\n    <tr>\n      <th>5</th>\n      <td>94c484be-8f3e-4578-b43c-ef62184132ca</td>\n      <td>raw</td>\n      <td>5</td>\n      <td>cart</td>\n      <td>2019-11-01 21:38:36.761221</td>\n      <td>964964743</td>\n    </tr>\n    <tr>\n      <th>6</th>\n      <td>9930949d-a839-4358-863d-f3e16d77f02b</td>\n      <td>raw</td>\n      <td>6</td>\n      <td>delivery_choice</td>\n      <td>2019-11-01 21:38:37.564693</td>\n      <td>964964743</td>\n    </tr>\n    <tr>\n      <th>2439</th>\n      <td>eff948e1-e0e8-4afb-b52f-08936264a027</td>\n      <td>raw</td>\n      <td>2439</td>\n      <td>main</td>\n      <td>2019-12-09 01:42:22.801831</td>\n      <td>964964743</td>\n    </tr>\n    <tr>\n      <th>2440</th>\n      <td>46834714-9baf-45b4-9be2-0604ae8a93bb</td>\n      <td>raw</td>\n      <td>2440</td>\n      <td>catalog</td>\n      <td>2019-12-09 01:42:23.617764</td>\n      <td>964964743</td>\n    </tr>\n    <tr>\n      <th>2441</th>\n      <td>323eaaa9-f74c-4b27-8f53-215ac900ac43</td>\n      <td>raw</td>\n      <td>2441</td>\n      <td>product2</td>\n      <td>2019-12-09 01:42:56.877340</td>\n      <td>964964743</td>\n    </tr>\n    <tr>\n      <th>2442</th>\n      <td>a7137007-a5d6-43af-9461-d28828bee74e</td>\n      <td>raw</td>\n      <td>2442</td>\n      <td>catalog</td>\n      <td>2019-12-09 01:43:05.436223</td>\n      <td>964964743</td>\n    </tr>\n    <tr>\n      <th>2443</th>\n      <td>44d254c7-3f8f-45a0-9348-42865bc01961</td>\n      <td>raw</td>\n      <td>2443</td>\n      <td>catalog</td>\n      <td>2019-12-09 01:43:36.923178</td>\n      <td>964964743</td>\n    </tr>\n    <tr>\n      <th>2444</th>\n      <td>dc6ba294-693e-499d-810f-8b37e8704856</td>\n      <td>raw</td>\n      <td>2444</td>\n      <td>product2</td>\n      <td>2019-12-09 01:43:41.174195</td>\n      <td>964964743</td>\n    </tr>\n    <tr>\n      <th>2445</th>\n      <td>9405e65d-7c43-4473-b1ae-1f38550976f2</td>\n      <td>raw</td>\n      <td>2445</td>\n      <td>cart</td>\n      <td>2019-12-09 01:43:57.325569</td>\n      <td>964964743</td>\n    </tr>\n    <tr>\n      <th>2446</th>\n      <td>641ae88d-a77d-455e-b151-fcf929ed29da</td>\n      <td>raw</td>\n      <td>2446</td>\n      <td>delivery_choice</td>\n      <td>2019-12-09 01:43:57.486518</td>\n      <td>964964743</td>\n    </tr>\n    <tr>\n      <th>2447</th>\n      <td>b5e525c2-1c35-4cd9-8a55-a2181dc6ed0b</td>\n      <td>raw</td>\n      <td>2447</td>\n      <td>delivery_pickup</td>\n      <td>2019-12-09 01:43:57.766850</td>\n      <td>964964743</td>\n    </tr>\n    <tr>\n      <th>2448</th>\n      <td>cc735c4c-7a5b-4f8f-a3fa-08fd004f7fe9</td>\n      <td>raw</td>\n      <td>2448</td>\n      <td>lost</td>\n      <td>2019-12-09 01:43:58.766850</td>\n      <td>964964743</td>\n    </tr>\n  </tbody>\n</table>\n</div>"
     },
     "execution_count": 45,
     "metadata": {},
     "output_type": "execute_result"
    }
   ],
   "source": [
    "print(len(source_df[source_df['user_id'] == 964964743]))\n",
    "source_df[source_df['user_id'] == 964964743]"
   ],
   "metadata": {
    "collapsed": false,
    "pycharm": {
     "name": "#%%\n"
    }
   }
  },
  {
   "cell_type": "code",
   "execution_count": 46,
   "outputs": [
    {
     "name": "stdout",
     "output_type": "stream",
     "text": [
      "48\n",
      "49\n"
     ]
    },
    {
     "data": {
      "text/plain": "                                   event_id event_type  event_index  \\\n7      56c73621-a726-43fc-b1e5-a286c93afd85        raw            7   \n9      a445bdd8-3c0d-4b0b-b894-a692f45fbbe0        raw            9   \n11     1170cc7c-64d4-49cf-abeb-32b78a595f19        raw           11   \n13     c1f3b671-ca82-4770-b9b8-3faae2c2e76a        raw           13   \n14     c54f2fcc-2fca-4323-8a54-779fdcdaa11d        raw           14   \n15     3217c680-2e11-47c1-bf45-dabb92c8ab65        raw           15   \n16     66df2664-a3a3-48fe-abe9-2a2d4e85a62c        raw           16   \n17     b2689f02-542c-4390-8733-7c701afaac0d        raw           17   \n18     b4aaf294-9600-432a-8561-bdebd55d49b3        raw           18   \n19     89e3522e-f8b0-4529-ad5e-dc8ae2021d3b        raw           19   \n20     22da408e-a1cf-4868-911d-796a8ff02b12        raw           20   \n21     8165a0d3-a7cb-46c4-8f33-ec738224f55a        raw           21   \n22     0c6794e4-e411-445d-8253-6e96965911c5        raw           22   \n23     86a3faf0-20d1-4a82-9024-21e87cdb906d        raw           23   \n24     1e74c380-6b5b-4120-81c6-d08d08dca4be        raw           24   \n25     7f4d4626-c0e8-445d-9df1-600e647a183a        raw           25   \n27     18f54d48-a79b-44c8-a2d0-29f41f9e393f        raw           27   \n29     4f4f3d30-e76b-4917-9e20-15212e25dda1        raw           29   \n31     9f73b5ce-b9c7-4362-b279-679abb3c7d69        raw           31   \n33     0d872d70-81c9-430f-8439-bea3821bf15b        raw           33   \n36     6c144c55-211e-460f-a8f8-9b1aa07b6c48        raw           36   \n38     cc9bdaa5-2387-413e-8f6a-58d8e62aa022        raw           38   \n39     534e1e19-9227-4028-b27e-b4cf1470fa52        raw           39   \n42     ffd7c91f-08bd-4060-b3e6-31f69aac8d60        raw           42   \n44     8d894636-fca6-4fb9-9acc-4e83041b434b        raw           44   \n45     ff2f175c-da0d-4c1a-97cf-2c504017193a        raw           45   \n365    61793ac0-40d4-4dbe-af83-e270ea99d40e        raw          365   \n367    0932b6b1-57fe-45bb-9df2-140989d598b7        raw          367   \n370    e96996f5-b5f3-42c7-af24-a4ad89c754c8        raw          370   \n1436   24c6e604-5f37-4531-b840-91fe8d2148d3        raw         1436   \n1437   5e961b35-508d-4170-8868-546409271878        raw         1437   \n1438   ab6ffdbd-04e5-41bd-8037-20931dc7f797        raw         1438   \n6720   6bb501d4-bc30-40a8-9684-985beae80382        raw         6720   \n6721   b4807ddd-675a-442e-846c-0f6a34417382        raw         6721   \n11405  c4f83f1f-f4b9-4047-b549-48a5a7d51239        raw        11405   \n11406  a1f7a9ab-6d14-4bfd-baf2-cde49bdaad96        raw        11406   \n11407  bae24e0a-b9df-4229-9e09-976eec6fa439        raw        11407   \n12268  423a463a-bec4-420d-a3d7-76b46bb7b825        raw        12268   \n12269  30aee28f-8bdd-427f-875d-d2b03009a418        raw        12269   \n15010  7ab49288-4d14-4d92-9f01-10bf267facb3        raw        15010   \n15011  cdd7763f-b393-4c94-8e1b-29c6a9c42746        raw        15011   \n15688  aa2814e4-283a-4ded-ad3d-82ca733a8e45        raw        15688   \n15715  ed4d48bf-5b2c-481f-8e1a-4869ed5c9eaf        raw        15715   \n15716  40e11ebb-ba9c-43f5-954e-ad47163f29a5        raw        15716   \n15717  ff91b451-0eac-4afc-b152-d19d85b00ab4        raw        15717   \n15718  469ed230-1093-4fc8-8858-b27213b15cf4        raw        15718   \n15719  c2a4ca64-4b50-4e40-8855-098047463f51        raw        15719   \n15720  bd2be00e-4ab4-48f4-8b21-ff1aaec27e7b        raw        15720   \n15721  7569cae3-a8c0-43db-9dd3-c23913e3ff06      pause        15721   \n\n             event_name            event_timestamp      user_id  \n7                  main 2019-11-01 22:28:54.791683  629881394.0  \n9               catalog 2019-11-01 22:29:01.049513  629881394.0  \n11              catalog 2019-11-01 22:29:32.322458  629881394.0  \n13              catalog 2019-11-01 22:30:09.450839  629881394.0  \n14              catalog 2019-11-01 22:31:05.565762  629881394.0  \n15                 main 2019-11-01 22:31:08.333560  629881394.0  \n16              catalog 2019-11-01 22:31:09.010626  629881394.0  \n17             product1 2019-11-01 22:31:10.416231  629881394.0  \n18              catalog 2019-11-01 22:31:43.019527  629881394.0  \n19              catalog 2019-11-01 22:32:01.596163  629881394.0  \n20             product1 2019-11-01 22:32:07.348536  629881394.0  \n21              catalog 2019-11-01 22:32:10.165568  629881394.0  \n22             product2 2019-11-01 22:32:16.496241  629881394.0  \n23              catalog 2019-11-01 22:33:17.682468  629881394.0  \n24             product1 2019-11-01 22:33:19.961115  629881394.0  \n25              catalog 2019-11-01 22:33:35.460345  629881394.0  \n27              catalog 2019-11-01 22:34:02.301293  629881394.0  \n29             product2 2019-11-01 22:34:32.362386  629881394.0  \n31              catalog 2019-11-01 22:35:01.462515  629881394.0  \n33             product2 2019-11-01 22:35:33.142711  629881394.0  \n36                 cart 2019-11-01 22:35:50.437706  629881394.0  \n38      delivery_choice 2019-11-01 22:35:57.649549  629881394.0  \n39     delivery_courier 2019-11-01 22:36:02.009271  629881394.0  \n42       payment_choice 2019-11-01 22:36:02.243274  629881394.0  \n44         payment_cash 2019-11-01 22:36:03.415201  629881394.0  \n45         payment_done 2019-11-01 22:36:03.999697  629881394.0  \n365                main 2019-11-07 12:40:46.004674  629881394.0  \n367             catalog 2019-11-07 12:40:55.724185  629881394.0  \n370                cart 2019-11-07 12:41:04.107187  629881394.0  \n1436               main 2019-11-25 23:16:56.317624  629881394.0  \n1437            catalog 2019-11-25 23:17:16.266242  629881394.0  \n1438            catalog 2019-11-25 23:17:48.747304  629881394.0  \n6720               main 2020-01-23 18:56:23.445236  629881394.0  \n6721            catalog 2020-01-23 18:56:30.461624  629881394.0  \n11405              main 2020-03-01 23:23:43.392597  629881394.0  \n11406           catalog 2020-03-01 23:23:44.755693  629881394.0  \n11407              main 2020-03-01 23:23:51.625991  629881394.0  \n12268              main 2020-03-07 12:05:23.938242  629881394.0  \n12269           catalog 2020-03-07 12:05:32.476046  629881394.0  \n15010              main 2020-03-26 13:00:47.844886  629881394.0  \n15011           catalog 2020-03-26 13:00:49.531644  629881394.0  \n15688              main 2020-03-30 00:11:47.920536  629881394.0  \n15715              main 2020-03-30 03:17:46.909845  629881394.0  \n15716           catalog 2020-03-30 03:17:49.918774  629881394.0  \n15717           catalog 2020-03-30 03:18:17.835191  629881394.0  \n15718           catalog 2020-03-30 03:18:53.715887  629881394.0  \n15719           catalog 2020-03-30 03:19:36.034262  629881394.0  \n15720           catalog 2020-03-30 03:19:59.515094  629881394.0  \n15721             pause 2020-03-30 03:19:59.515094  629881394.0  ",
      "text/html": "<div>\n<style scoped>\n    .dataframe tbody tr th:only-of-type {\n        vertical-align: middle;\n    }\n\n    .dataframe tbody tr th {\n        vertical-align: top;\n    }\n\n    .dataframe thead th {\n        text-align: right;\n    }\n</style>\n<table border=\"1\" class=\"dataframe\">\n  <thead>\n    <tr style=\"text-align: right;\">\n      <th></th>\n      <th>event_id</th>\n      <th>event_type</th>\n      <th>event_index</th>\n      <th>event_name</th>\n      <th>event_timestamp</th>\n      <th>user_id</th>\n    </tr>\n  </thead>\n  <tbody>\n    <tr>\n      <th>7</th>\n      <td>56c73621-a726-43fc-b1e5-a286c93afd85</td>\n      <td>raw</td>\n      <td>7</td>\n      <td>main</td>\n      <td>2019-11-01 22:28:54.791683</td>\n      <td>629881394.0</td>\n    </tr>\n    <tr>\n      <th>9</th>\n      <td>a445bdd8-3c0d-4b0b-b894-a692f45fbbe0</td>\n      <td>raw</td>\n      <td>9</td>\n      <td>catalog</td>\n      <td>2019-11-01 22:29:01.049513</td>\n      <td>629881394.0</td>\n    </tr>\n    <tr>\n      <th>11</th>\n      <td>1170cc7c-64d4-49cf-abeb-32b78a595f19</td>\n      <td>raw</td>\n      <td>11</td>\n      <td>catalog</td>\n      <td>2019-11-01 22:29:32.322458</td>\n      <td>629881394.0</td>\n    </tr>\n    <tr>\n      <th>13</th>\n      <td>c1f3b671-ca82-4770-b9b8-3faae2c2e76a</td>\n      <td>raw</td>\n      <td>13</td>\n      <td>catalog</td>\n      <td>2019-11-01 22:30:09.450839</td>\n      <td>629881394.0</td>\n    </tr>\n    <tr>\n      <th>14</th>\n      <td>c54f2fcc-2fca-4323-8a54-779fdcdaa11d</td>\n      <td>raw</td>\n      <td>14</td>\n      <td>catalog</td>\n      <td>2019-11-01 22:31:05.565762</td>\n      <td>629881394.0</td>\n    </tr>\n    <tr>\n      <th>15</th>\n      <td>3217c680-2e11-47c1-bf45-dabb92c8ab65</td>\n      <td>raw</td>\n      <td>15</td>\n      <td>main</td>\n      <td>2019-11-01 22:31:08.333560</td>\n      <td>629881394.0</td>\n    </tr>\n    <tr>\n      <th>16</th>\n      <td>66df2664-a3a3-48fe-abe9-2a2d4e85a62c</td>\n      <td>raw</td>\n      <td>16</td>\n      <td>catalog</td>\n      <td>2019-11-01 22:31:09.010626</td>\n      <td>629881394.0</td>\n    </tr>\n    <tr>\n      <th>17</th>\n      <td>b2689f02-542c-4390-8733-7c701afaac0d</td>\n      <td>raw</td>\n      <td>17</td>\n      <td>product1</td>\n      <td>2019-11-01 22:31:10.416231</td>\n      <td>629881394.0</td>\n    </tr>\n    <tr>\n      <th>18</th>\n      <td>b4aaf294-9600-432a-8561-bdebd55d49b3</td>\n      <td>raw</td>\n      <td>18</td>\n      <td>catalog</td>\n      <td>2019-11-01 22:31:43.019527</td>\n      <td>629881394.0</td>\n    </tr>\n    <tr>\n      <th>19</th>\n      <td>89e3522e-f8b0-4529-ad5e-dc8ae2021d3b</td>\n      <td>raw</td>\n      <td>19</td>\n      <td>catalog</td>\n      <td>2019-11-01 22:32:01.596163</td>\n      <td>629881394.0</td>\n    </tr>\n    <tr>\n      <th>20</th>\n      <td>22da408e-a1cf-4868-911d-796a8ff02b12</td>\n      <td>raw</td>\n      <td>20</td>\n      <td>product1</td>\n      <td>2019-11-01 22:32:07.348536</td>\n      <td>629881394.0</td>\n    </tr>\n    <tr>\n      <th>21</th>\n      <td>8165a0d3-a7cb-46c4-8f33-ec738224f55a</td>\n      <td>raw</td>\n      <td>21</td>\n      <td>catalog</td>\n      <td>2019-11-01 22:32:10.165568</td>\n      <td>629881394.0</td>\n    </tr>\n    <tr>\n      <th>22</th>\n      <td>0c6794e4-e411-445d-8253-6e96965911c5</td>\n      <td>raw</td>\n      <td>22</td>\n      <td>product2</td>\n      <td>2019-11-01 22:32:16.496241</td>\n      <td>629881394.0</td>\n    </tr>\n    <tr>\n      <th>23</th>\n      <td>86a3faf0-20d1-4a82-9024-21e87cdb906d</td>\n      <td>raw</td>\n      <td>23</td>\n      <td>catalog</td>\n      <td>2019-11-01 22:33:17.682468</td>\n      <td>629881394.0</td>\n    </tr>\n    <tr>\n      <th>24</th>\n      <td>1e74c380-6b5b-4120-81c6-d08d08dca4be</td>\n      <td>raw</td>\n      <td>24</td>\n      <td>product1</td>\n      <td>2019-11-01 22:33:19.961115</td>\n      <td>629881394.0</td>\n    </tr>\n    <tr>\n      <th>25</th>\n      <td>7f4d4626-c0e8-445d-9df1-600e647a183a</td>\n      <td>raw</td>\n      <td>25</td>\n      <td>catalog</td>\n      <td>2019-11-01 22:33:35.460345</td>\n      <td>629881394.0</td>\n    </tr>\n    <tr>\n      <th>27</th>\n      <td>18f54d48-a79b-44c8-a2d0-29f41f9e393f</td>\n      <td>raw</td>\n      <td>27</td>\n      <td>catalog</td>\n      <td>2019-11-01 22:34:02.301293</td>\n      <td>629881394.0</td>\n    </tr>\n    <tr>\n      <th>29</th>\n      <td>4f4f3d30-e76b-4917-9e20-15212e25dda1</td>\n      <td>raw</td>\n      <td>29</td>\n      <td>product2</td>\n      <td>2019-11-01 22:34:32.362386</td>\n      <td>629881394.0</td>\n    </tr>\n    <tr>\n      <th>31</th>\n      <td>9f73b5ce-b9c7-4362-b279-679abb3c7d69</td>\n      <td>raw</td>\n      <td>31</td>\n      <td>catalog</td>\n      <td>2019-11-01 22:35:01.462515</td>\n      <td>629881394.0</td>\n    </tr>\n    <tr>\n      <th>33</th>\n      <td>0d872d70-81c9-430f-8439-bea3821bf15b</td>\n      <td>raw</td>\n      <td>33</td>\n      <td>product2</td>\n      <td>2019-11-01 22:35:33.142711</td>\n      <td>629881394.0</td>\n    </tr>\n    <tr>\n      <th>36</th>\n      <td>6c144c55-211e-460f-a8f8-9b1aa07b6c48</td>\n      <td>raw</td>\n      <td>36</td>\n      <td>cart</td>\n      <td>2019-11-01 22:35:50.437706</td>\n      <td>629881394.0</td>\n    </tr>\n    <tr>\n      <th>38</th>\n      <td>cc9bdaa5-2387-413e-8f6a-58d8e62aa022</td>\n      <td>raw</td>\n      <td>38</td>\n      <td>delivery_choice</td>\n      <td>2019-11-01 22:35:57.649549</td>\n      <td>629881394.0</td>\n    </tr>\n    <tr>\n      <th>39</th>\n      <td>534e1e19-9227-4028-b27e-b4cf1470fa52</td>\n      <td>raw</td>\n      <td>39</td>\n      <td>delivery_courier</td>\n      <td>2019-11-01 22:36:02.009271</td>\n      <td>629881394.0</td>\n    </tr>\n    <tr>\n      <th>42</th>\n      <td>ffd7c91f-08bd-4060-b3e6-31f69aac8d60</td>\n      <td>raw</td>\n      <td>42</td>\n      <td>payment_choice</td>\n      <td>2019-11-01 22:36:02.243274</td>\n      <td>629881394.0</td>\n    </tr>\n    <tr>\n      <th>44</th>\n      <td>8d894636-fca6-4fb9-9acc-4e83041b434b</td>\n      <td>raw</td>\n      <td>44</td>\n      <td>payment_cash</td>\n      <td>2019-11-01 22:36:03.415201</td>\n      <td>629881394.0</td>\n    </tr>\n    <tr>\n      <th>45</th>\n      <td>ff2f175c-da0d-4c1a-97cf-2c504017193a</td>\n      <td>raw</td>\n      <td>45</td>\n      <td>payment_done</td>\n      <td>2019-11-01 22:36:03.999697</td>\n      <td>629881394.0</td>\n    </tr>\n    <tr>\n      <th>365</th>\n      <td>61793ac0-40d4-4dbe-af83-e270ea99d40e</td>\n      <td>raw</td>\n      <td>365</td>\n      <td>main</td>\n      <td>2019-11-07 12:40:46.004674</td>\n      <td>629881394.0</td>\n    </tr>\n    <tr>\n      <th>367</th>\n      <td>0932b6b1-57fe-45bb-9df2-140989d598b7</td>\n      <td>raw</td>\n      <td>367</td>\n      <td>catalog</td>\n      <td>2019-11-07 12:40:55.724185</td>\n      <td>629881394.0</td>\n    </tr>\n    <tr>\n      <th>370</th>\n      <td>e96996f5-b5f3-42c7-af24-a4ad89c754c8</td>\n      <td>raw</td>\n      <td>370</td>\n      <td>cart</td>\n      <td>2019-11-07 12:41:04.107187</td>\n      <td>629881394.0</td>\n    </tr>\n    <tr>\n      <th>1436</th>\n      <td>24c6e604-5f37-4531-b840-91fe8d2148d3</td>\n      <td>raw</td>\n      <td>1436</td>\n      <td>main</td>\n      <td>2019-11-25 23:16:56.317624</td>\n      <td>629881394.0</td>\n    </tr>\n    <tr>\n      <th>1437</th>\n      <td>5e961b35-508d-4170-8868-546409271878</td>\n      <td>raw</td>\n      <td>1437</td>\n      <td>catalog</td>\n      <td>2019-11-25 23:17:16.266242</td>\n      <td>629881394.0</td>\n    </tr>\n    <tr>\n      <th>1438</th>\n      <td>ab6ffdbd-04e5-41bd-8037-20931dc7f797</td>\n      <td>raw</td>\n      <td>1438</td>\n      <td>catalog</td>\n      <td>2019-11-25 23:17:48.747304</td>\n      <td>629881394.0</td>\n    </tr>\n    <tr>\n      <th>6720</th>\n      <td>6bb501d4-bc30-40a8-9684-985beae80382</td>\n      <td>raw</td>\n      <td>6720</td>\n      <td>main</td>\n      <td>2020-01-23 18:56:23.445236</td>\n      <td>629881394.0</td>\n    </tr>\n    <tr>\n      <th>6721</th>\n      <td>b4807ddd-675a-442e-846c-0f6a34417382</td>\n      <td>raw</td>\n      <td>6721</td>\n      <td>catalog</td>\n      <td>2020-01-23 18:56:30.461624</td>\n      <td>629881394.0</td>\n    </tr>\n    <tr>\n      <th>11405</th>\n      <td>c4f83f1f-f4b9-4047-b549-48a5a7d51239</td>\n      <td>raw</td>\n      <td>11405</td>\n      <td>main</td>\n      <td>2020-03-01 23:23:43.392597</td>\n      <td>629881394.0</td>\n    </tr>\n    <tr>\n      <th>11406</th>\n      <td>a1f7a9ab-6d14-4bfd-baf2-cde49bdaad96</td>\n      <td>raw</td>\n      <td>11406</td>\n      <td>catalog</td>\n      <td>2020-03-01 23:23:44.755693</td>\n      <td>629881394.0</td>\n    </tr>\n    <tr>\n      <th>11407</th>\n      <td>bae24e0a-b9df-4229-9e09-976eec6fa439</td>\n      <td>raw</td>\n      <td>11407</td>\n      <td>main</td>\n      <td>2020-03-01 23:23:51.625991</td>\n      <td>629881394.0</td>\n    </tr>\n    <tr>\n      <th>12268</th>\n      <td>423a463a-bec4-420d-a3d7-76b46bb7b825</td>\n      <td>raw</td>\n      <td>12268</td>\n      <td>main</td>\n      <td>2020-03-07 12:05:23.938242</td>\n      <td>629881394.0</td>\n    </tr>\n    <tr>\n      <th>12269</th>\n      <td>30aee28f-8bdd-427f-875d-d2b03009a418</td>\n      <td>raw</td>\n      <td>12269</td>\n      <td>catalog</td>\n      <td>2020-03-07 12:05:32.476046</td>\n      <td>629881394.0</td>\n    </tr>\n    <tr>\n      <th>15010</th>\n      <td>7ab49288-4d14-4d92-9f01-10bf267facb3</td>\n      <td>raw</td>\n      <td>15010</td>\n      <td>main</td>\n      <td>2020-03-26 13:00:47.844886</td>\n      <td>629881394.0</td>\n    </tr>\n    <tr>\n      <th>15011</th>\n      <td>cdd7763f-b393-4c94-8e1b-29c6a9c42746</td>\n      <td>raw</td>\n      <td>15011</td>\n      <td>catalog</td>\n      <td>2020-03-26 13:00:49.531644</td>\n      <td>629881394.0</td>\n    </tr>\n    <tr>\n      <th>15688</th>\n      <td>aa2814e4-283a-4ded-ad3d-82ca733a8e45</td>\n      <td>raw</td>\n      <td>15688</td>\n      <td>main</td>\n      <td>2020-03-30 00:11:47.920536</td>\n      <td>629881394.0</td>\n    </tr>\n    <tr>\n      <th>15715</th>\n      <td>ed4d48bf-5b2c-481f-8e1a-4869ed5c9eaf</td>\n      <td>raw</td>\n      <td>15715</td>\n      <td>main</td>\n      <td>2020-03-30 03:17:46.909845</td>\n      <td>629881394.0</td>\n    </tr>\n    <tr>\n      <th>15716</th>\n      <td>40e11ebb-ba9c-43f5-954e-ad47163f29a5</td>\n      <td>raw</td>\n      <td>15716</td>\n      <td>catalog</td>\n      <td>2020-03-30 03:17:49.918774</td>\n      <td>629881394.0</td>\n    </tr>\n    <tr>\n      <th>15717</th>\n      <td>ff91b451-0eac-4afc-b152-d19d85b00ab4</td>\n      <td>raw</td>\n      <td>15717</td>\n      <td>catalog</td>\n      <td>2020-03-30 03:18:17.835191</td>\n      <td>629881394.0</td>\n    </tr>\n    <tr>\n      <th>15718</th>\n      <td>469ed230-1093-4fc8-8858-b27213b15cf4</td>\n      <td>raw</td>\n      <td>15718</td>\n      <td>catalog</td>\n      <td>2020-03-30 03:18:53.715887</td>\n      <td>629881394.0</td>\n    </tr>\n    <tr>\n      <th>15719</th>\n      <td>c2a4ca64-4b50-4e40-8855-098047463f51</td>\n      <td>raw</td>\n      <td>15719</td>\n      <td>catalog</td>\n      <td>2020-03-30 03:19:36.034262</td>\n      <td>629881394.0</td>\n    </tr>\n    <tr>\n      <th>15720</th>\n      <td>bd2be00e-4ab4-48f4-8b21-ff1aaec27e7b</td>\n      <td>raw</td>\n      <td>15720</td>\n      <td>catalog</td>\n      <td>2020-03-30 03:19:59.515094</td>\n      <td>629881394.0</td>\n    </tr>\n    <tr>\n      <th>15721</th>\n      <td>7569cae3-a8c0-43db-9dd3-c23913e3ff06</td>\n      <td>pause</td>\n      <td>15721</td>\n      <td>pause</td>\n      <td>2020-03-30 03:19:59.515094</td>\n      <td>629881394.0</td>\n    </tr>\n  </tbody>\n</table>\n</div>"
     },
     "execution_count": 46,
     "metadata": {},
     "output_type": "execute_result"
    }
   ],
   "source": [
    "print(len(source_df[source_df['user_id'] == 629881394]))\n",
    "# source_df[source_df['user_id'] == 629881394]\n",
    "print(len(df3[df3['user_id'] == 629881394]))\n",
    "df3[df3['user_id'] == 629881394]"
   ],
   "metadata": {
    "collapsed": false,
    "pycharm": {
     "name": "#%%\n"
    }
   }
  },
  {
   "cell_type": "code",
   "execution_count": 47,
   "outputs": [
    {
     "data": {
      "text/plain": "(35381, 39132)"
     },
     "execution_count": 47,
     "metadata": {},
     "output_type": "execute_result"
    }
   ],
   "source": [
    "len(source_df), len(df3)"
   ],
   "metadata": {
    "collapsed": false,
    "pycharm": {
     "name": "#%%\n"
    }
   }
  },
  {
   "cell_type": "code",
   "execution_count": 48,
   "outputs": [
    {
     "data": {
      "text/plain": "raw    35381\nName: event_type, dtype: int64"
     },
     "execution_count": 48,
     "metadata": {},
     "output_type": "execute_result"
    }
   ],
   "source": [
    "source_df['event_type'].value_counts()"
   ],
   "metadata": {
    "collapsed": false,
    "pycharm": {
     "name": "#%%\n"
    }
   }
  },
  {
   "cell_type": "code",
   "execution_count": 49,
   "outputs": [
    {
     "data": {
      "text/plain": "event_type\nraw           35381\npause          3751\ndtype: int64"
     },
     "execution_count": 49,
     "metadata": {},
     "output_type": "execute_result"
    }
   ],
   "source": [
    "df3.value_counts(['event_type'])"
   ],
   "metadata": {
    "collapsed": false,
    "pycharm": {
     "name": "#%%\n"
    }
   }
  },
  {
   "cell_type": "code",
   "execution_count": 50,
   "outputs": [
    {
     "name": "stdout",
     "output_type": "stream",
     "text": [
      "18\n"
     ]
    },
    {
     "data": {
      "text/plain": "                                  event_id event_type  event_index event_name  \\\n0     59a69b9b-91e6-4ea6-b338-2d50e9b465f5        raw            0    catalog   \n1     072c19d0-427b-4278-809b-c509e52cee4a        raw            1   product1   \n2     1692b904-c338-473e-b00b-5b16d5c79d67        raw            2       cart   \n3     56a76f25-ed9d-46de-8a4f-235bf534f770        raw            3    catalog   \n2407  b2f9c0a1-904a-4dff-90e1-37be04986437        raw         2407       main   \n2408  1436f264-7a18-46b6-a732-60201d8b56d8        raw         2408    catalog   \n2409  7019613a-00ba-4aa8-b08d-3118638d9c02        raw         2409    catalog   \n5169  ebdfbd61-4fcd-44ff-b562-649e3efc76f8        raw         5169       main   \n5170  a927160b-96ce-4c89-bd53-d79a37bdd1b6        raw         5170    catalog   \n5171  2fa7934a-4e76-4018-994e-1dac03a4464f        raw         5171       cart   \n5172  0adbd015-e172-47da-89c1-326b326ed4ad        raw         5172    catalog   \n5173  490137f7-c5c2-4387-a94b-2d8db537aa8c        raw         5173   product1   \n5174  aca98f1b-a878-4ad5-8bb6-aec03effbb8d        raw         5174    catalog   \n5175  7b0fa9c4-bd8c-432b-8422-0074ab7994ff        raw         5175    catalog   \n9329  de8d92d7-80b0-496c-b020-e8354deb3f52        raw         9329       main   \n9330  803dfc1a-ebf3-4197-a012-8a2bc50eb1fa        raw         9330    catalog   \n9331  788d8821-41a3-4ffb-9712-3a9c97cf631d        raw         9331       lost   \n9332  1604538c-b2f5-4af0-b59f-d2a3240f8c20      pause         9332      pause   \n\n                event_timestamp      user_id  \n0    2019-11-01 17:59:13.273932  219483890.0  \n1    2019-11-01 17:59:28.459271  219483890.0  \n2    2019-11-01 17:59:29.502214  219483890.0  \n3    2019-11-01 17:59:32.557029  219483890.0  \n2407 2019-12-06 16:22:57.484842  219483890.0  \n2408 2019-12-06 16:23:01.331109  219483890.0  \n2409 2019-12-06 16:23:48.116617  219483890.0  \n5169 2020-01-06 22:10:13.635011  219483890.0  \n5170 2020-01-06 22:10:15.228575  219483890.0  \n5171 2020-01-06 22:10:42.309028  219483890.0  \n5172 2020-01-06 22:10:52.255859  219483890.0  \n5173 2020-01-06 22:11:01.709800  219483890.0  \n5174 2020-01-06 22:11:02.899490  219483890.0  \n5175 2020-01-06 22:11:28.271366  219483890.0  \n9329 2020-02-14 21:04:49.450696  219483890.0  \n9330 2020-02-14 21:04:51.717127  219483890.0  \n9331 2020-02-14 21:04:52.717127  219483890.0  \n9332 2020-02-14 21:04:52.717127  219483890.0  ",
      "text/html": "<div>\n<style scoped>\n    .dataframe tbody tr th:only-of-type {\n        vertical-align: middle;\n    }\n\n    .dataframe tbody tr th {\n        vertical-align: top;\n    }\n\n    .dataframe thead th {\n        text-align: right;\n    }\n</style>\n<table border=\"1\" class=\"dataframe\">\n  <thead>\n    <tr style=\"text-align: right;\">\n      <th></th>\n      <th>event_id</th>\n      <th>event_type</th>\n      <th>event_index</th>\n      <th>event_name</th>\n      <th>event_timestamp</th>\n      <th>user_id</th>\n    </tr>\n  </thead>\n  <tbody>\n    <tr>\n      <th>0</th>\n      <td>59a69b9b-91e6-4ea6-b338-2d50e9b465f5</td>\n      <td>raw</td>\n      <td>0</td>\n      <td>catalog</td>\n      <td>2019-11-01 17:59:13.273932</td>\n      <td>219483890.0</td>\n    </tr>\n    <tr>\n      <th>1</th>\n      <td>072c19d0-427b-4278-809b-c509e52cee4a</td>\n      <td>raw</td>\n      <td>1</td>\n      <td>product1</td>\n      <td>2019-11-01 17:59:28.459271</td>\n      <td>219483890.0</td>\n    </tr>\n    <tr>\n      <th>2</th>\n      <td>1692b904-c338-473e-b00b-5b16d5c79d67</td>\n      <td>raw</td>\n      <td>2</td>\n      <td>cart</td>\n      <td>2019-11-01 17:59:29.502214</td>\n      <td>219483890.0</td>\n    </tr>\n    <tr>\n      <th>3</th>\n      <td>56a76f25-ed9d-46de-8a4f-235bf534f770</td>\n      <td>raw</td>\n      <td>3</td>\n      <td>catalog</td>\n      <td>2019-11-01 17:59:32.557029</td>\n      <td>219483890.0</td>\n    </tr>\n    <tr>\n      <th>2407</th>\n      <td>b2f9c0a1-904a-4dff-90e1-37be04986437</td>\n      <td>raw</td>\n      <td>2407</td>\n      <td>main</td>\n      <td>2019-12-06 16:22:57.484842</td>\n      <td>219483890.0</td>\n    </tr>\n    <tr>\n      <th>2408</th>\n      <td>1436f264-7a18-46b6-a732-60201d8b56d8</td>\n      <td>raw</td>\n      <td>2408</td>\n      <td>catalog</td>\n      <td>2019-12-06 16:23:01.331109</td>\n      <td>219483890.0</td>\n    </tr>\n    <tr>\n      <th>2409</th>\n      <td>7019613a-00ba-4aa8-b08d-3118638d9c02</td>\n      <td>raw</td>\n      <td>2409</td>\n      <td>catalog</td>\n      <td>2019-12-06 16:23:48.116617</td>\n      <td>219483890.0</td>\n    </tr>\n    <tr>\n      <th>5169</th>\n      <td>ebdfbd61-4fcd-44ff-b562-649e3efc76f8</td>\n      <td>raw</td>\n      <td>5169</td>\n      <td>main</td>\n      <td>2020-01-06 22:10:13.635011</td>\n      <td>219483890.0</td>\n    </tr>\n    <tr>\n      <th>5170</th>\n      <td>a927160b-96ce-4c89-bd53-d79a37bdd1b6</td>\n      <td>raw</td>\n      <td>5170</td>\n      <td>catalog</td>\n      <td>2020-01-06 22:10:15.228575</td>\n      <td>219483890.0</td>\n    </tr>\n    <tr>\n      <th>5171</th>\n      <td>2fa7934a-4e76-4018-994e-1dac03a4464f</td>\n      <td>raw</td>\n      <td>5171</td>\n      <td>cart</td>\n      <td>2020-01-06 22:10:42.309028</td>\n      <td>219483890.0</td>\n    </tr>\n    <tr>\n      <th>5172</th>\n      <td>0adbd015-e172-47da-89c1-326b326ed4ad</td>\n      <td>raw</td>\n      <td>5172</td>\n      <td>catalog</td>\n      <td>2020-01-06 22:10:52.255859</td>\n      <td>219483890.0</td>\n    </tr>\n    <tr>\n      <th>5173</th>\n      <td>490137f7-c5c2-4387-a94b-2d8db537aa8c</td>\n      <td>raw</td>\n      <td>5173</td>\n      <td>product1</td>\n      <td>2020-01-06 22:11:01.709800</td>\n      <td>219483890.0</td>\n    </tr>\n    <tr>\n      <th>5174</th>\n      <td>aca98f1b-a878-4ad5-8bb6-aec03effbb8d</td>\n      <td>raw</td>\n      <td>5174</td>\n      <td>catalog</td>\n      <td>2020-01-06 22:11:02.899490</td>\n      <td>219483890.0</td>\n    </tr>\n    <tr>\n      <th>5175</th>\n      <td>7b0fa9c4-bd8c-432b-8422-0074ab7994ff</td>\n      <td>raw</td>\n      <td>5175</td>\n      <td>catalog</td>\n      <td>2020-01-06 22:11:28.271366</td>\n      <td>219483890.0</td>\n    </tr>\n    <tr>\n      <th>9329</th>\n      <td>de8d92d7-80b0-496c-b020-e8354deb3f52</td>\n      <td>raw</td>\n      <td>9329</td>\n      <td>main</td>\n      <td>2020-02-14 21:04:49.450696</td>\n      <td>219483890.0</td>\n    </tr>\n    <tr>\n      <th>9330</th>\n      <td>803dfc1a-ebf3-4197-a012-8a2bc50eb1fa</td>\n      <td>raw</td>\n      <td>9330</td>\n      <td>catalog</td>\n      <td>2020-02-14 21:04:51.717127</td>\n      <td>219483890.0</td>\n    </tr>\n    <tr>\n      <th>9331</th>\n      <td>788d8821-41a3-4ffb-9712-3a9c97cf631d</td>\n      <td>raw</td>\n      <td>9331</td>\n      <td>lost</td>\n      <td>2020-02-14 21:04:52.717127</td>\n      <td>219483890.0</td>\n    </tr>\n    <tr>\n      <th>9332</th>\n      <td>1604538c-b2f5-4af0-b59f-d2a3240f8c20</td>\n      <td>pause</td>\n      <td>9332</td>\n      <td>pause</td>\n      <td>2020-02-14 21:04:52.717127</td>\n      <td>219483890.0</td>\n    </tr>\n  </tbody>\n</table>\n</div>"
     },
     "execution_count": 50,
     "metadata": {},
     "output_type": "execute_result"
    }
   ],
   "source": [
    "print(len(df3[df3['user_id'] == 219483890]))\n",
    "df3[df3['user_id'] == 219483890].sort_values('event_timestamp')"
   ],
   "metadata": {
    "collapsed": false,
    "pycharm": {
     "name": "#%%\n"
    }
   }
  },
  {
   "cell_type": "code",
   "execution_count": 51,
   "outputs": [
    {
     "name": "stdout",
     "output_type": "stream",
     "text": [
      "17\n"
     ]
    },
    {
     "data": {
      "text/plain": "                                  event_id event_type  event_index event_name  \\\n0     59a69b9b-91e6-4ea6-b338-2d50e9b465f5        raw            0    catalog   \n1     072c19d0-427b-4278-809b-c509e52cee4a        raw            1   product1   \n2     1692b904-c338-473e-b00b-5b16d5c79d67        raw            2       cart   \n3     56a76f25-ed9d-46de-8a4f-235bf534f770        raw            3    catalog   \n2245  b2f9c0a1-904a-4dff-90e1-37be04986437        raw         2245       main   \n2246  1436f264-7a18-46b6-a732-60201d8b56d8        raw         2246    catalog   \n2247  7019613a-00ba-4aa8-b08d-3118638d9c02        raw         2247    catalog   \n4836  ebdfbd61-4fcd-44ff-b562-649e3efc76f8        raw         4836       main   \n4837  a927160b-96ce-4c89-bd53-d79a37bdd1b6        raw         4837    catalog   \n4838  2fa7934a-4e76-4018-994e-1dac03a4464f        raw         4838       cart   \n4839  0adbd015-e172-47da-89c1-326b326ed4ad        raw         4839    catalog   \n4840  490137f7-c5c2-4387-a94b-2d8db537aa8c        raw         4840   product1   \n4841  aca98f1b-a878-4ad5-8bb6-aec03effbb8d        raw         4841    catalog   \n4842  7b0fa9c4-bd8c-432b-8422-0074ab7994ff        raw         4842    catalog   \n8736  de8d92d7-80b0-496c-b020-e8354deb3f52        raw         8736       main   \n8737  803dfc1a-ebf3-4197-a012-8a2bc50eb1fa        raw         8737    catalog   \n8738  788d8821-41a3-4ffb-9712-3a9c97cf631d        raw         8738       lost   \n\n                event_timestamp    user_id  \n0    2019-11-01 17:59:13.273932  219483890  \n1    2019-11-01 17:59:28.459271  219483890  \n2    2019-11-01 17:59:29.502214  219483890  \n3    2019-11-01 17:59:32.557029  219483890  \n2245 2019-12-06 16:22:57.484842  219483890  \n2246 2019-12-06 16:23:01.331109  219483890  \n2247 2019-12-06 16:23:48.116617  219483890  \n4836 2020-01-06 22:10:13.635011  219483890  \n4837 2020-01-06 22:10:15.228575  219483890  \n4838 2020-01-06 22:10:42.309028  219483890  \n4839 2020-01-06 22:10:52.255859  219483890  \n4840 2020-01-06 22:11:01.709800  219483890  \n4841 2020-01-06 22:11:02.899490  219483890  \n4842 2020-01-06 22:11:28.271366  219483890  \n8736 2020-02-14 21:04:49.450696  219483890  \n8737 2020-02-14 21:04:51.717127  219483890  \n8738 2020-02-14 21:04:52.717127  219483890  ",
      "text/html": "<div>\n<style scoped>\n    .dataframe tbody tr th:only-of-type {\n        vertical-align: middle;\n    }\n\n    .dataframe tbody tr th {\n        vertical-align: top;\n    }\n\n    .dataframe thead th {\n        text-align: right;\n    }\n</style>\n<table border=\"1\" class=\"dataframe\">\n  <thead>\n    <tr style=\"text-align: right;\">\n      <th></th>\n      <th>event_id</th>\n      <th>event_type</th>\n      <th>event_index</th>\n      <th>event_name</th>\n      <th>event_timestamp</th>\n      <th>user_id</th>\n    </tr>\n  </thead>\n  <tbody>\n    <tr>\n      <th>0</th>\n      <td>59a69b9b-91e6-4ea6-b338-2d50e9b465f5</td>\n      <td>raw</td>\n      <td>0</td>\n      <td>catalog</td>\n      <td>2019-11-01 17:59:13.273932</td>\n      <td>219483890</td>\n    </tr>\n    <tr>\n      <th>1</th>\n      <td>072c19d0-427b-4278-809b-c509e52cee4a</td>\n      <td>raw</td>\n      <td>1</td>\n      <td>product1</td>\n      <td>2019-11-01 17:59:28.459271</td>\n      <td>219483890</td>\n    </tr>\n    <tr>\n      <th>2</th>\n      <td>1692b904-c338-473e-b00b-5b16d5c79d67</td>\n      <td>raw</td>\n      <td>2</td>\n      <td>cart</td>\n      <td>2019-11-01 17:59:29.502214</td>\n      <td>219483890</td>\n    </tr>\n    <tr>\n      <th>3</th>\n      <td>56a76f25-ed9d-46de-8a4f-235bf534f770</td>\n      <td>raw</td>\n      <td>3</td>\n      <td>catalog</td>\n      <td>2019-11-01 17:59:32.557029</td>\n      <td>219483890</td>\n    </tr>\n    <tr>\n      <th>2245</th>\n      <td>b2f9c0a1-904a-4dff-90e1-37be04986437</td>\n      <td>raw</td>\n      <td>2245</td>\n      <td>main</td>\n      <td>2019-12-06 16:22:57.484842</td>\n      <td>219483890</td>\n    </tr>\n    <tr>\n      <th>2246</th>\n      <td>1436f264-7a18-46b6-a732-60201d8b56d8</td>\n      <td>raw</td>\n      <td>2246</td>\n      <td>catalog</td>\n      <td>2019-12-06 16:23:01.331109</td>\n      <td>219483890</td>\n    </tr>\n    <tr>\n      <th>2247</th>\n      <td>7019613a-00ba-4aa8-b08d-3118638d9c02</td>\n      <td>raw</td>\n      <td>2247</td>\n      <td>catalog</td>\n      <td>2019-12-06 16:23:48.116617</td>\n      <td>219483890</td>\n    </tr>\n    <tr>\n      <th>4836</th>\n      <td>ebdfbd61-4fcd-44ff-b562-649e3efc76f8</td>\n      <td>raw</td>\n      <td>4836</td>\n      <td>main</td>\n      <td>2020-01-06 22:10:13.635011</td>\n      <td>219483890</td>\n    </tr>\n    <tr>\n      <th>4837</th>\n      <td>a927160b-96ce-4c89-bd53-d79a37bdd1b6</td>\n      <td>raw</td>\n      <td>4837</td>\n      <td>catalog</td>\n      <td>2020-01-06 22:10:15.228575</td>\n      <td>219483890</td>\n    </tr>\n    <tr>\n      <th>4838</th>\n      <td>2fa7934a-4e76-4018-994e-1dac03a4464f</td>\n      <td>raw</td>\n      <td>4838</td>\n      <td>cart</td>\n      <td>2020-01-06 22:10:42.309028</td>\n      <td>219483890</td>\n    </tr>\n    <tr>\n      <th>4839</th>\n      <td>0adbd015-e172-47da-89c1-326b326ed4ad</td>\n      <td>raw</td>\n      <td>4839</td>\n      <td>catalog</td>\n      <td>2020-01-06 22:10:52.255859</td>\n      <td>219483890</td>\n    </tr>\n    <tr>\n      <th>4840</th>\n      <td>490137f7-c5c2-4387-a94b-2d8db537aa8c</td>\n      <td>raw</td>\n      <td>4840</td>\n      <td>product1</td>\n      <td>2020-01-06 22:11:01.709800</td>\n      <td>219483890</td>\n    </tr>\n    <tr>\n      <th>4841</th>\n      <td>aca98f1b-a878-4ad5-8bb6-aec03effbb8d</td>\n      <td>raw</td>\n      <td>4841</td>\n      <td>catalog</td>\n      <td>2020-01-06 22:11:02.899490</td>\n      <td>219483890</td>\n    </tr>\n    <tr>\n      <th>4842</th>\n      <td>7b0fa9c4-bd8c-432b-8422-0074ab7994ff</td>\n      <td>raw</td>\n      <td>4842</td>\n      <td>catalog</td>\n      <td>2020-01-06 22:11:28.271366</td>\n      <td>219483890</td>\n    </tr>\n    <tr>\n      <th>8736</th>\n      <td>de8d92d7-80b0-496c-b020-e8354deb3f52</td>\n      <td>raw</td>\n      <td>8736</td>\n      <td>main</td>\n      <td>2020-02-14 21:04:49.450696</td>\n      <td>219483890</td>\n    </tr>\n    <tr>\n      <th>8737</th>\n      <td>803dfc1a-ebf3-4197-a012-8a2bc50eb1fa</td>\n      <td>raw</td>\n      <td>8737</td>\n      <td>catalog</td>\n      <td>2020-02-14 21:04:51.717127</td>\n      <td>219483890</td>\n    </tr>\n    <tr>\n      <th>8738</th>\n      <td>788d8821-41a3-4ffb-9712-3a9c97cf631d</td>\n      <td>raw</td>\n      <td>8738</td>\n      <td>lost</td>\n      <td>2020-02-14 21:04:52.717127</td>\n      <td>219483890</td>\n    </tr>\n  </tbody>\n</table>\n</div>"
     },
     "execution_count": 51,
     "metadata": {},
     "output_type": "execute_result"
    }
   ],
   "source": [
    "print(len(source_df[source_df['user_id'] == 219483890]))\n",
    "source_df[source_df['user_id'] == 219483890]"
   ],
   "metadata": {
    "collapsed": false,
    "pycharm": {
     "name": "#%%\n"
    }
   }
  },
  {
   "cell_type": "markdown",
   "source": [
    "## Lost_pause_cutoff"
   ],
   "metadata": {
    "collapsed": false,
    "pycharm": {
     "name": "#%% md\n"
    }
   }
  },
  {
   "cell_type": "code",
   "execution_count": 52,
   "outputs": [
    {
     "data": {
      "text/plain": "                               event_id event_type  event_index  \\\n0  59a69b9b-91e6-4ea6-b338-2d50e9b465f5        raw            0   \n1  072c19d0-427b-4278-809b-c509e52cee4a        raw            1   \n2  1692b904-c338-473e-b00b-5b16d5c79d67        raw            2   \n3  56a76f25-ed9d-46de-8a4f-235bf534f770        raw            3   \n4  78809682-25ea-4d09-b8fb-008c6da653e1        raw            4   \n5  94c484be-8f3e-4578-b43c-ef62184132ca        raw            5   \n6  9930949d-a839-4358-863d-f3e16d77f02b        raw            6   \n7  56c73621-a726-43fc-b1e5-a286c93afd85        raw            7   \n\n        event_name            event_timestamp      user_id  \n0          catalog 2019-11-01 17:59:13.273932  219483890.0  \n1         product1 2019-11-01 17:59:28.459271  219483890.0  \n2             cart 2019-11-01 17:59:29.502214  219483890.0  \n3          catalog 2019-11-01 17:59:32.557029  219483890.0  \n4          catalog 2019-11-01 21:38:19.283663  964964743.0  \n5             cart 2019-11-01 21:38:36.761221  964964743.0  \n6  delivery_choice 2019-11-01 21:38:37.564693  964964743.0  \n7             main 2019-11-01 22:28:54.791683  629881394.0  ",
      "text/html": "<div>\n<style scoped>\n    .dataframe tbody tr th:only-of-type {\n        vertical-align: middle;\n    }\n\n    .dataframe tbody tr th {\n        vertical-align: top;\n    }\n\n    .dataframe thead th {\n        text-align: right;\n    }\n</style>\n<table border=\"1\" class=\"dataframe\">\n  <thead>\n    <tr style=\"text-align: right;\">\n      <th></th>\n      <th>event_id</th>\n      <th>event_type</th>\n      <th>event_index</th>\n      <th>event_name</th>\n      <th>event_timestamp</th>\n      <th>user_id</th>\n    </tr>\n  </thead>\n  <tbody>\n    <tr>\n      <th>0</th>\n      <td>59a69b9b-91e6-4ea6-b338-2d50e9b465f5</td>\n      <td>raw</td>\n      <td>0</td>\n      <td>catalog</td>\n      <td>2019-11-01 17:59:13.273932</td>\n      <td>219483890.0</td>\n    </tr>\n    <tr>\n      <th>1</th>\n      <td>072c19d0-427b-4278-809b-c509e52cee4a</td>\n      <td>raw</td>\n      <td>1</td>\n      <td>product1</td>\n      <td>2019-11-01 17:59:28.459271</td>\n      <td>219483890.0</td>\n    </tr>\n    <tr>\n      <th>2</th>\n      <td>1692b904-c338-473e-b00b-5b16d5c79d67</td>\n      <td>raw</td>\n      <td>2</td>\n      <td>cart</td>\n      <td>2019-11-01 17:59:29.502214</td>\n      <td>219483890.0</td>\n    </tr>\n    <tr>\n      <th>3</th>\n      <td>56a76f25-ed9d-46de-8a4f-235bf534f770</td>\n      <td>raw</td>\n      <td>3</td>\n      <td>catalog</td>\n      <td>2019-11-01 17:59:32.557029</td>\n      <td>219483890.0</td>\n    </tr>\n    <tr>\n      <th>4</th>\n      <td>78809682-25ea-4d09-b8fb-008c6da653e1</td>\n      <td>raw</td>\n      <td>4</td>\n      <td>catalog</td>\n      <td>2019-11-01 21:38:19.283663</td>\n      <td>964964743.0</td>\n    </tr>\n    <tr>\n      <th>5</th>\n      <td>94c484be-8f3e-4578-b43c-ef62184132ca</td>\n      <td>raw</td>\n      <td>5</td>\n      <td>cart</td>\n      <td>2019-11-01 21:38:36.761221</td>\n      <td>964964743.0</td>\n    </tr>\n    <tr>\n      <th>6</th>\n      <td>9930949d-a839-4358-863d-f3e16d77f02b</td>\n      <td>raw</td>\n      <td>6</td>\n      <td>delivery_choice</td>\n      <td>2019-11-01 21:38:37.564693</td>\n      <td>964964743.0</td>\n    </tr>\n    <tr>\n      <th>7</th>\n      <td>56c73621-a726-43fc-b1e5-a286c93afd85</td>\n      <td>raw</td>\n      <td>7</td>\n      <td>main</td>\n      <td>2019-11-01 22:28:54.791683</td>\n      <td>629881394.0</td>\n    </tr>\n  </tbody>\n</table>\n</div>"
     },
     "execution_count": 52,
     "metadata": {},
     "output_type": "execute_result"
    }
   ],
   "source": [
    "from src.data_processors_lib.rete import LostPauseEvents, LostPauseParams\n",
    "\n",
    "lost_cutoff_ = (3000, 's')\n",
    "\n",
    "lost_pause_events_cutoff = EventsNode(\n",
    "    LostPauseEvents(params=LostPauseParams(lost_cutoff=lost_cutoff_)))\n",
    "\n",
    "graph.add_node(\n",
    "    node=lost_pause_events_cutoff,\n",
    "    parents=[graph.root]\n",
    ")\n",
    "\n",
    "result_cutoff = graph.combine(\n",
    "    node=lost_pause_events_cutoff\n",
    ")\n",
    "\n",
    "result_cutoff.to_dataframe().head(8)"
   ],
   "metadata": {
    "collapsed": false,
    "pycharm": {
     "name": "#%%\n"
    }
   }
  },
  {
   "cell_type": "code",
   "execution_count": 53,
   "outputs": [
    {
     "name": "stdout",
     "output_type": "stream",
     "text": [
      "0\n",
      "3092\n"
     ]
    }
   ],
   "source": [
    "df4 = result_cutoff.to_dataframe()\n",
    "print(source_df.duplicated(['event_name', 'event_timestamp', 'user_id']).sum())\n",
    "print(df4.duplicated(['event_name', 'event_timestamp', 'user_id']).sum())"
   ],
   "metadata": {
    "collapsed": false,
    "pycharm": {
     "name": "#%%\n"
    }
   }
  },
  {
   "cell_type": "code",
   "execution_count": 54,
   "outputs": [
    {
     "name": "stdout",
     "output_type": "stream",
     "text": [
      "14\n"
     ]
    },
    {
     "data": {
      "text/plain": "                                  event_id event_type  event_index  \\\n4     78809682-25ea-4d09-b8fb-008c6da653e1        raw            4   \n5     94c484be-8f3e-4578-b43c-ef62184132ca        raw            5   \n6     9930949d-a839-4358-863d-f3e16d77f02b        raw            6   \n2618  eff948e1-e0e8-4afb-b52f-08936264a027        raw         2618   \n2619  46834714-9baf-45b4-9be2-0604ae8a93bb        raw         2619   \n2620  323eaaa9-f74c-4b27-8f53-215ac900ac43        raw         2620   \n2621  a7137007-a5d6-43af-9461-d28828bee74e        raw         2621   \n2622  44d254c7-3f8f-45a0-9348-42865bc01961        raw         2622   \n2623  dc6ba294-693e-499d-810f-8b37e8704856        raw         2623   \n2624  9405e65d-7c43-4473-b1ae-1f38550976f2        raw         2624   \n2625  641ae88d-a77d-455e-b151-fcf929ed29da        raw         2625   \n2626  b5e525c2-1c35-4cd9-8a55-a2181dc6ed0b        raw         2626   \n2627  cc735c4c-7a5b-4f8f-a3fa-08fd004f7fe9        raw         2627   \n2628  4a8f60bc-b712-44d4-a030-e657dee4bdcd       lost         2628   \n\n           event_name            event_timestamp      user_id  \n4             catalog 2019-11-01 21:38:19.283663  964964743.0  \n5                cart 2019-11-01 21:38:36.761221  964964743.0  \n6     delivery_choice 2019-11-01 21:38:37.564693  964964743.0  \n2618             main 2019-12-09 01:42:22.801831  964964743.0  \n2619          catalog 2019-12-09 01:42:23.617764  964964743.0  \n2620         product2 2019-12-09 01:42:56.877340  964964743.0  \n2621          catalog 2019-12-09 01:43:05.436223  964964743.0  \n2622          catalog 2019-12-09 01:43:36.923178  964964743.0  \n2623         product2 2019-12-09 01:43:41.174195  964964743.0  \n2624             cart 2019-12-09 01:43:57.325569  964964743.0  \n2625  delivery_choice 2019-12-09 01:43:57.486518  964964743.0  \n2626  delivery_pickup 2019-12-09 01:43:57.766850  964964743.0  \n2627             lost 2019-12-09 01:43:58.766850  964964743.0  \n2628             lost 2019-12-09 01:43:58.766850  964964743.0  ",
      "text/html": "<div>\n<style scoped>\n    .dataframe tbody tr th:only-of-type {\n        vertical-align: middle;\n    }\n\n    .dataframe tbody tr th {\n        vertical-align: top;\n    }\n\n    .dataframe thead th {\n        text-align: right;\n    }\n</style>\n<table border=\"1\" class=\"dataframe\">\n  <thead>\n    <tr style=\"text-align: right;\">\n      <th></th>\n      <th>event_id</th>\n      <th>event_type</th>\n      <th>event_index</th>\n      <th>event_name</th>\n      <th>event_timestamp</th>\n      <th>user_id</th>\n    </tr>\n  </thead>\n  <tbody>\n    <tr>\n      <th>4</th>\n      <td>78809682-25ea-4d09-b8fb-008c6da653e1</td>\n      <td>raw</td>\n      <td>4</td>\n      <td>catalog</td>\n      <td>2019-11-01 21:38:19.283663</td>\n      <td>964964743.0</td>\n    </tr>\n    <tr>\n      <th>5</th>\n      <td>94c484be-8f3e-4578-b43c-ef62184132ca</td>\n      <td>raw</td>\n      <td>5</td>\n      <td>cart</td>\n      <td>2019-11-01 21:38:36.761221</td>\n      <td>964964743.0</td>\n    </tr>\n    <tr>\n      <th>6</th>\n      <td>9930949d-a839-4358-863d-f3e16d77f02b</td>\n      <td>raw</td>\n      <td>6</td>\n      <td>delivery_choice</td>\n      <td>2019-11-01 21:38:37.564693</td>\n      <td>964964743.0</td>\n    </tr>\n    <tr>\n      <th>2618</th>\n      <td>eff948e1-e0e8-4afb-b52f-08936264a027</td>\n      <td>raw</td>\n      <td>2618</td>\n      <td>main</td>\n      <td>2019-12-09 01:42:22.801831</td>\n      <td>964964743.0</td>\n    </tr>\n    <tr>\n      <th>2619</th>\n      <td>46834714-9baf-45b4-9be2-0604ae8a93bb</td>\n      <td>raw</td>\n      <td>2619</td>\n      <td>catalog</td>\n      <td>2019-12-09 01:42:23.617764</td>\n      <td>964964743.0</td>\n    </tr>\n    <tr>\n      <th>2620</th>\n      <td>323eaaa9-f74c-4b27-8f53-215ac900ac43</td>\n      <td>raw</td>\n      <td>2620</td>\n      <td>product2</td>\n      <td>2019-12-09 01:42:56.877340</td>\n      <td>964964743.0</td>\n    </tr>\n    <tr>\n      <th>2621</th>\n      <td>a7137007-a5d6-43af-9461-d28828bee74e</td>\n      <td>raw</td>\n      <td>2621</td>\n      <td>catalog</td>\n      <td>2019-12-09 01:43:05.436223</td>\n      <td>964964743.0</td>\n    </tr>\n    <tr>\n      <th>2622</th>\n      <td>44d254c7-3f8f-45a0-9348-42865bc01961</td>\n      <td>raw</td>\n      <td>2622</td>\n      <td>catalog</td>\n      <td>2019-12-09 01:43:36.923178</td>\n      <td>964964743.0</td>\n    </tr>\n    <tr>\n      <th>2623</th>\n      <td>dc6ba294-693e-499d-810f-8b37e8704856</td>\n      <td>raw</td>\n      <td>2623</td>\n      <td>product2</td>\n      <td>2019-12-09 01:43:41.174195</td>\n      <td>964964743.0</td>\n    </tr>\n    <tr>\n      <th>2624</th>\n      <td>9405e65d-7c43-4473-b1ae-1f38550976f2</td>\n      <td>raw</td>\n      <td>2624</td>\n      <td>cart</td>\n      <td>2019-12-09 01:43:57.325569</td>\n      <td>964964743.0</td>\n    </tr>\n    <tr>\n      <th>2625</th>\n      <td>641ae88d-a77d-455e-b151-fcf929ed29da</td>\n      <td>raw</td>\n      <td>2625</td>\n      <td>delivery_choice</td>\n      <td>2019-12-09 01:43:57.486518</td>\n      <td>964964743.0</td>\n    </tr>\n    <tr>\n      <th>2626</th>\n      <td>b5e525c2-1c35-4cd9-8a55-a2181dc6ed0b</td>\n      <td>raw</td>\n      <td>2626</td>\n      <td>delivery_pickup</td>\n      <td>2019-12-09 01:43:57.766850</td>\n      <td>964964743.0</td>\n    </tr>\n    <tr>\n      <th>2627</th>\n      <td>cc735c4c-7a5b-4f8f-a3fa-08fd004f7fe9</td>\n      <td>raw</td>\n      <td>2627</td>\n      <td>lost</td>\n      <td>2019-12-09 01:43:58.766850</td>\n      <td>964964743.0</td>\n    </tr>\n    <tr>\n      <th>2628</th>\n      <td>4a8f60bc-b712-44d4-a030-e657dee4bdcd</td>\n      <td>lost</td>\n      <td>2628</td>\n      <td>lost</td>\n      <td>2019-12-09 01:43:58.766850</td>\n      <td>964964743.0</td>\n    </tr>\n  </tbody>\n</table>\n</div>"
     },
     "execution_count": 54,
     "metadata": {},
     "output_type": "execute_result"
    }
   ],
   "source": [
    "print(len(df4[df4['user_id'] == 964964743]))\n",
    "df4[df4['user_id'] == 964964743]"
   ],
   "metadata": {
    "collapsed": false,
    "pycharm": {
     "name": "#%%\n"
    }
   }
  },
  {
   "cell_type": "code",
   "execution_count": 55,
   "outputs": [
    {
     "name": "stdout",
     "output_type": "stream",
     "text": [
      "13\n"
     ]
    },
    {
     "data": {
      "text/plain": "                                  event_id event_type  event_index  \\\n4     78809682-25ea-4d09-b8fb-008c6da653e1        raw            4   \n5     94c484be-8f3e-4578-b43c-ef62184132ca        raw            5   \n6     9930949d-a839-4358-863d-f3e16d77f02b        raw            6   \n2439  eff948e1-e0e8-4afb-b52f-08936264a027        raw         2439   \n2440  46834714-9baf-45b4-9be2-0604ae8a93bb        raw         2440   \n2441  323eaaa9-f74c-4b27-8f53-215ac900ac43        raw         2441   \n2442  a7137007-a5d6-43af-9461-d28828bee74e        raw         2442   \n2443  44d254c7-3f8f-45a0-9348-42865bc01961        raw         2443   \n2444  dc6ba294-693e-499d-810f-8b37e8704856        raw         2444   \n2445  9405e65d-7c43-4473-b1ae-1f38550976f2        raw         2445   \n2446  641ae88d-a77d-455e-b151-fcf929ed29da        raw         2446   \n2447  b5e525c2-1c35-4cd9-8a55-a2181dc6ed0b        raw         2447   \n2448  cc735c4c-7a5b-4f8f-a3fa-08fd004f7fe9        raw         2448   \n\n           event_name            event_timestamp    user_id  \n4             catalog 2019-11-01 21:38:19.283663  964964743  \n5                cart 2019-11-01 21:38:36.761221  964964743  \n6     delivery_choice 2019-11-01 21:38:37.564693  964964743  \n2439             main 2019-12-09 01:42:22.801831  964964743  \n2440          catalog 2019-12-09 01:42:23.617764  964964743  \n2441         product2 2019-12-09 01:42:56.877340  964964743  \n2442          catalog 2019-12-09 01:43:05.436223  964964743  \n2443          catalog 2019-12-09 01:43:36.923178  964964743  \n2444         product2 2019-12-09 01:43:41.174195  964964743  \n2445             cart 2019-12-09 01:43:57.325569  964964743  \n2446  delivery_choice 2019-12-09 01:43:57.486518  964964743  \n2447  delivery_pickup 2019-12-09 01:43:57.766850  964964743  \n2448             lost 2019-12-09 01:43:58.766850  964964743  ",
      "text/html": "<div>\n<style scoped>\n    .dataframe tbody tr th:only-of-type {\n        vertical-align: middle;\n    }\n\n    .dataframe tbody tr th {\n        vertical-align: top;\n    }\n\n    .dataframe thead th {\n        text-align: right;\n    }\n</style>\n<table border=\"1\" class=\"dataframe\">\n  <thead>\n    <tr style=\"text-align: right;\">\n      <th></th>\n      <th>event_id</th>\n      <th>event_type</th>\n      <th>event_index</th>\n      <th>event_name</th>\n      <th>event_timestamp</th>\n      <th>user_id</th>\n    </tr>\n  </thead>\n  <tbody>\n    <tr>\n      <th>4</th>\n      <td>78809682-25ea-4d09-b8fb-008c6da653e1</td>\n      <td>raw</td>\n      <td>4</td>\n      <td>catalog</td>\n      <td>2019-11-01 21:38:19.283663</td>\n      <td>964964743</td>\n    </tr>\n    <tr>\n      <th>5</th>\n      <td>94c484be-8f3e-4578-b43c-ef62184132ca</td>\n      <td>raw</td>\n      <td>5</td>\n      <td>cart</td>\n      <td>2019-11-01 21:38:36.761221</td>\n      <td>964964743</td>\n    </tr>\n    <tr>\n      <th>6</th>\n      <td>9930949d-a839-4358-863d-f3e16d77f02b</td>\n      <td>raw</td>\n      <td>6</td>\n      <td>delivery_choice</td>\n      <td>2019-11-01 21:38:37.564693</td>\n      <td>964964743</td>\n    </tr>\n    <tr>\n      <th>2439</th>\n      <td>eff948e1-e0e8-4afb-b52f-08936264a027</td>\n      <td>raw</td>\n      <td>2439</td>\n      <td>main</td>\n      <td>2019-12-09 01:42:22.801831</td>\n      <td>964964743</td>\n    </tr>\n    <tr>\n      <th>2440</th>\n      <td>46834714-9baf-45b4-9be2-0604ae8a93bb</td>\n      <td>raw</td>\n      <td>2440</td>\n      <td>catalog</td>\n      <td>2019-12-09 01:42:23.617764</td>\n      <td>964964743</td>\n    </tr>\n    <tr>\n      <th>2441</th>\n      <td>323eaaa9-f74c-4b27-8f53-215ac900ac43</td>\n      <td>raw</td>\n      <td>2441</td>\n      <td>product2</td>\n      <td>2019-12-09 01:42:56.877340</td>\n      <td>964964743</td>\n    </tr>\n    <tr>\n      <th>2442</th>\n      <td>a7137007-a5d6-43af-9461-d28828bee74e</td>\n      <td>raw</td>\n      <td>2442</td>\n      <td>catalog</td>\n      <td>2019-12-09 01:43:05.436223</td>\n      <td>964964743</td>\n    </tr>\n    <tr>\n      <th>2443</th>\n      <td>44d254c7-3f8f-45a0-9348-42865bc01961</td>\n      <td>raw</td>\n      <td>2443</td>\n      <td>catalog</td>\n      <td>2019-12-09 01:43:36.923178</td>\n      <td>964964743</td>\n    </tr>\n    <tr>\n      <th>2444</th>\n      <td>dc6ba294-693e-499d-810f-8b37e8704856</td>\n      <td>raw</td>\n      <td>2444</td>\n      <td>product2</td>\n      <td>2019-12-09 01:43:41.174195</td>\n      <td>964964743</td>\n    </tr>\n    <tr>\n      <th>2445</th>\n      <td>9405e65d-7c43-4473-b1ae-1f38550976f2</td>\n      <td>raw</td>\n      <td>2445</td>\n      <td>cart</td>\n      <td>2019-12-09 01:43:57.325569</td>\n      <td>964964743</td>\n    </tr>\n    <tr>\n      <th>2446</th>\n      <td>641ae88d-a77d-455e-b151-fcf929ed29da</td>\n      <td>raw</td>\n      <td>2446</td>\n      <td>delivery_choice</td>\n      <td>2019-12-09 01:43:57.486518</td>\n      <td>964964743</td>\n    </tr>\n    <tr>\n      <th>2447</th>\n      <td>b5e525c2-1c35-4cd9-8a55-a2181dc6ed0b</td>\n      <td>raw</td>\n      <td>2447</td>\n      <td>delivery_pickup</td>\n      <td>2019-12-09 01:43:57.766850</td>\n      <td>964964743</td>\n    </tr>\n    <tr>\n      <th>2448</th>\n      <td>cc735c4c-7a5b-4f8f-a3fa-08fd004f7fe9</td>\n      <td>raw</td>\n      <td>2448</td>\n      <td>lost</td>\n      <td>2019-12-09 01:43:58.766850</td>\n      <td>964964743</td>\n    </tr>\n  </tbody>\n</table>\n</div>"
     },
     "execution_count": 55,
     "metadata": {},
     "output_type": "execute_result"
    }
   ],
   "source": [
    "print(len(source_df[source_df['user_id'] == 964964743]))\n",
    "source_df[source_df['user_id'] == 964964743]"
   ],
   "metadata": {
    "collapsed": false,
    "pycharm": {
     "name": "#%%\n"
    }
   }
  },
  {
   "cell_type": "code",
   "execution_count": 56,
   "outputs": [
    {
     "name": "stdout",
     "output_type": "stream",
     "text": [
      "48\n",
      "49\n"
     ]
    },
    {
     "data": {
      "text/plain": "                                   event_id event_type  event_index  \\\n7      56c73621-a726-43fc-b1e5-a286c93afd85        raw            7   \n9      a445bdd8-3c0d-4b0b-b894-a692f45fbbe0        raw            9   \n11     1170cc7c-64d4-49cf-abeb-32b78a595f19        raw           11   \n13     c1f3b671-ca82-4770-b9b8-3faae2c2e76a        raw           13   \n14     c54f2fcc-2fca-4323-8a54-779fdcdaa11d        raw           14   \n15     3217c680-2e11-47c1-bf45-dabb92c8ab65        raw           15   \n16     66df2664-a3a3-48fe-abe9-2a2d4e85a62c        raw           16   \n17     b2689f02-542c-4390-8733-7c701afaac0d        raw           17   \n18     b4aaf294-9600-432a-8561-bdebd55d49b3        raw           18   \n19     89e3522e-f8b0-4529-ad5e-dc8ae2021d3b        raw           19   \n20     22da408e-a1cf-4868-911d-796a8ff02b12        raw           20   \n21     8165a0d3-a7cb-46c4-8f33-ec738224f55a        raw           21   \n22     0c6794e4-e411-445d-8253-6e96965911c5        raw           22   \n23     86a3faf0-20d1-4a82-9024-21e87cdb906d        raw           23   \n24     1e74c380-6b5b-4120-81c6-d08d08dca4be        raw           24   \n25     7f4d4626-c0e8-445d-9df1-600e647a183a        raw           25   \n27     18f54d48-a79b-44c8-a2d0-29f41f9e393f        raw           27   \n29     4f4f3d30-e76b-4917-9e20-15212e25dda1        raw           29   \n31     9f73b5ce-b9c7-4362-b279-679abb3c7d69        raw           31   \n33     0d872d70-81c9-430f-8439-bea3821bf15b        raw           33   \n36     6c144c55-211e-460f-a8f8-9b1aa07b6c48        raw           36   \n38     cc9bdaa5-2387-413e-8f6a-58d8e62aa022        raw           38   \n39     534e1e19-9227-4028-b27e-b4cf1470fa52        raw           39   \n42     ffd7c91f-08bd-4060-b3e6-31f69aac8d60        raw           42   \n44     8d894636-fca6-4fb9-9acc-4e83041b434b        raw           44   \n45     ff2f175c-da0d-4c1a-97cf-2c504017193a        raw           45   \n365    61793ac0-40d4-4dbe-af83-e270ea99d40e        raw          365   \n367    0932b6b1-57fe-45bb-9df2-140989d598b7        raw          367   \n370    e96996f5-b5f3-42c7-af24-a4ad89c754c8        raw          370   \n1436   24c6e604-5f37-4531-b840-91fe8d2148d3        raw         1436   \n1437   5e961b35-508d-4170-8868-546409271878        raw         1437   \n1438   ab6ffdbd-04e5-41bd-8037-20931dc7f797        raw         1438   \n6720   6bb501d4-bc30-40a8-9684-985beae80382        raw         6720   \n6721   b4807ddd-675a-442e-846c-0f6a34417382        raw         6721   \n11405  c4f83f1f-f4b9-4047-b549-48a5a7d51239        raw        11405   \n11406  a1f7a9ab-6d14-4bfd-baf2-cde49bdaad96        raw        11406   \n11407  bae24e0a-b9df-4229-9e09-976eec6fa439        raw        11407   \n12268  423a463a-bec4-420d-a3d7-76b46bb7b825        raw        12268   \n12269  30aee28f-8bdd-427f-875d-d2b03009a418        raw        12269   \n15010  7ab49288-4d14-4d92-9f01-10bf267facb3        raw        15010   \n15011  cdd7763f-b393-4c94-8e1b-29c6a9c42746        raw        15011   \n15688  aa2814e4-283a-4ded-ad3d-82ca733a8e45        raw        15688   \n15715  ed4d48bf-5b2c-481f-8e1a-4869ed5c9eaf        raw        15715   \n15716  40e11ebb-ba9c-43f5-954e-ad47163f29a5        raw        15716   \n15717  ff91b451-0eac-4afc-b152-d19d85b00ab4        raw        15717   \n15718  469ed230-1093-4fc8-8858-b27213b15cf4        raw        15718   \n15719  c2a4ca64-4b50-4e40-8855-098047463f51        raw        15719   \n15720  bd2be00e-4ab4-48f4-8b21-ff1aaec27e7b        raw        15720   \n15721  ffbed63d-2163-4689-84aa-cfabfa05261a       lost        15721   \n\n             event_name            event_timestamp      user_id  \n7                  main 2019-11-01 22:28:54.791683  629881394.0  \n9               catalog 2019-11-01 22:29:01.049513  629881394.0  \n11              catalog 2019-11-01 22:29:32.322458  629881394.0  \n13              catalog 2019-11-01 22:30:09.450839  629881394.0  \n14              catalog 2019-11-01 22:31:05.565762  629881394.0  \n15                 main 2019-11-01 22:31:08.333560  629881394.0  \n16              catalog 2019-11-01 22:31:09.010626  629881394.0  \n17             product1 2019-11-01 22:31:10.416231  629881394.0  \n18              catalog 2019-11-01 22:31:43.019527  629881394.0  \n19              catalog 2019-11-01 22:32:01.596163  629881394.0  \n20             product1 2019-11-01 22:32:07.348536  629881394.0  \n21              catalog 2019-11-01 22:32:10.165568  629881394.0  \n22             product2 2019-11-01 22:32:16.496241  629881394.0  \n23              catalog 2019-11-01 22:33:17.682468  629881394.0  \n24             product1 2019-11-01 22:33:19.961115  629881394.0  \n25              catalog 2019-11-01 22:33:35.460345  629881394.0  \n27              catalog 2019-11-01 22:34:02.301293  629881394.0  \n29             product2 2019-11-01 22:34:32.362386  629881394.0  \n31              catalog 2019-11-01 22:35:01.462515  629881394.0  \n33             product2 2019-11-01 22:35:33.142711  629881394.0  \n36                 cart 2019-11-01 22:35:50.437706  629881394.0  \n38      delivery_choice 2019-11-01 22:35:57.649549  629881394.0  \n39     delivery_courier 2019-11-01 22:36:02.009271  629881394.0  \n42       payment_choice 2019-11-01 22:36:02.243274  629881394.0  \n44         payment_cash 2019-11-01 22:36:03.415201  629881394.0  \n45         payment_done 2019-11-01 22:36:03.999697  629881394.0  \n365                main 2019-11-07 12:40:46.004674  629881394.0  \n367             catalog 2019-11-07 12:40:55.724185  629881394.0  \n370                cart 2019-11-07 12:41:04.107187  629881394.0  \n1436               main 2019-11-25 23:16:56.317624  629881394.0  \n1437            catalog 2019-11-25 23:17:16.266242  629881394.0  \n1438            catalog 2019-11-25 23:17:48.747304  629881394.0  \n6720               main 2020-01-23 18:56:23.445236  629881394.0  \n6721            catalog 2020-01-23 18:56:30.461624  629881394.0  \n11405              main 2020-03-01 23:23:43.392597  629881394.0  \n11406           catalog 2020-03-01 23:23:44.755693  629881394.0  \n11407              main 2020-03-01 23:23:51.625991  629881394.0  \n12268              main 2020-03-07 12:05:23.938242  629881394.0  \n12269           catalog 2020-03-07 12:05:32.476046  629881394.0  \n15010              main 2020-03-26 13:00:47.844886  629881394.0  \n15011           catalog 2020-03-26 13:00:49.531644  629881394.0  \n15688              main 2020-03-30 00:11:47.920536  629881394.0  \n15715              main 2020-03-30 03:17:46.909845  629881394.0  \n15716           catalog 2020-03-30 03:17:49.918774  629881394.0  \n15717           catalog 2020-03-30 03:18:17.835191  629881394.0  \n15718           catalog 2020-03-30 03:18:53.715887  629881394.0  \n15719           catalog 2020-03-30 03:19:36.034262  629881394.0  \n15720           catalog 2020-03-30 03:19:59.515094  629881394.0  \n15721              lost 2020-03-30 03:19:59.515094  629881394.0  ",
      "text/html": "<div>\n<style scoped>\n    .dataframe tbody tr th:only-of-type {\n        vertical-align: middle;\n    }\n\n    .dataframe tbody tr th {\n        vertical-align: top;\n    }\n\n    .dataframe thead th {\n        text-align: right;\n    }\n</style>\n<table border=\"1\" class=\"dataframe\">\n  <thead>\n    <tr style=\"text-align: right;\">\n      <th></th>\n      <th>event_id</th>\n      <th>event_type</th>\n      <th>event_index</th>\n      <th>event_name</th>\n      <th>event_timestamp</th>\n      <th>user_id</th>\n    </tr>\n  </thead>\n  <tbody>\n    <tr>\n      <th>7</th>\n      <td>56c73621-a726-43fc-b1e5-a286c93afd85</td>\n      <td>raw</td>\n      <td>7</td>\n      <td>main</td>\n      <td>2019-11-01 22:28:54.791683</td>\n      <td>629881394.0</td>\n    </tr>\n    <tr>\n      <th>9</th>\n      <td>a445bdd8-3c0d-4b0b-b894-a692f45fbbe0</td>\n      <td>raw</td>\n      <td>9</td>\n      <td>catalog</td>\n      <td>2019-11-01 22:29:01.049513</td>\n      <td>629881394.0</td>\n    </tr>\n    <tr>\n      <th>11</th>\n      <td>1170cc7c-64d4-49cf-abeb-32b78a595f19</td>\n      <td>raw</td>\n      <td>11</td>\n      <td>catalog</td>\n      <td>2019-11-01 22:29:32.322458</td>\n      <td>629881394.0</td>\n    </tr>\n    <tr>\n      <th>13</th>\n      <td>c1f3b671-ca82-4770-b9b8-3faae2c2e76a</td>\n      <td>raw</td>\n      <td>13</td>\n      <td>catalog</td>\n      <td>2019-11-01 22:30:09.450839</td>\n      <td>629881394.0</td>\n    </tr>\n    <tr>\n      <th>14</th>\n      <td>c54f2fcc-2fca-4323-8a54-779fdcdaa11d</td>\n      <td>raw</td>\n      <td>14</td>\n      <td>catalog</td>\n      <td>2019-11-01 22:31:05.565762</td>\n      <td>629881394.0</td>\n    </tr>\n    <tr>\n      <th>15</th>\n      <td>3217c680-2e11-47c1-bf45-dabb92c8ab65</td>\n      <td>raw</td>\n      <td>15</td>\n      <td>main</td>\n      <td>2019-11-01 22:31:08.333560</td>\n      <td>629881394.0</td>\n    </tr>\n    <tr>\n      <th>16</th>\n      <td>66df2664-a3a3-48fe-abe9-2a2d4e85a62c</td>\n      <td>raw</td>\n      <td>16</td>\n      <td>catalog</td>\n      <td>2019-11-01 22:31:09.010626</td>\n      <td>629881394.0</td>\n    </tr>\n    <tr>\n      <th>17</th>\n      <td>b2689f02-542c-4390-8733-7c701afaac0d</td>\n      <td>raw</td>\n      <td>17</td>\n      <td>product1</td>\n      <td>2019-11-01 22:31:10.416231</td>\n      <td>629881394.0</td>\n    </tr>\n    <tr>\n      <th>18</th>\n      <td>b4aaf294-9600-432a-8561-bdebd55d49b3</td>\n      <td>raw</td>\n      <td>18</td>\n      <td>catalog</td>\n      <td>2019-11-01 22:31:43.019527</td>\n      <td>629881394.0</td>\n    </tr>\n    <tr>\n      <th>19</th>\n      <td>89e3522e-f8b0-4529-ad5e-dc8ae2021d3b</td>\n      <td>raw</td>\n      <td>19</td>\n      <td>catalog</td>\n      <td>2019-11-01 22:32:01.596163</td>\n      <td>629881394.0</td>\n    </tr>\n    <tr>\n      <th>20</th>\n      <td>22da408e-a1cf-4868-911d-796a8ff02b12</td>\n      <td>raw</td>\n      <td>20</td>\n      <td>product1</td>\n      <td>2019-11-01 22:32:07.348536</td>\n      <td>629881394.0</td>\n    </tr>\n    <tr>\n      <th>21</th>\n      <td>8165a0d3-a7cb-46c4-8f33-ec738224f55a</td>\n      <td>raw</td>\n      <td>21</td>\n      <td>catalog</td>\n      <td>2019-11-01 22:32:10.165568</td>\n      <td>629881394.0</td>\n    </tr>\n    <tr>\n      <th>22</th>\n      <td>0c6794e4-e411-445d-8253-6e96965911c5</td>\n      <td>raw</td>\n      <td>22</td>\n      <td>product2</td>\n      <td>2019-11-01 22:32:16.496241</td>\n      <td>629881394.0</td>\n    </tr>\n    <tr>\n      <th>23</th>\n      <td>86a3faf0-20d1-4a82-9024-21e87cdb906d</td>\n      <td>raw</td>\n      <td>23</td>\n      <td>catalog</td>\n      <td>2019-11-01 22:33:17.682468</td>\n      <td>629881394.0</td>\n    </tr>\n    <tr>\n      <th>24</th>\n      <td>1e74c380-6b5b-4120-81c6-d08d08dca4be</td>\n      <td>raw</td>\n      <td>24</td>\n      <td>product1</td>\n      <td>2019-11-01 22:33:19.961115</td>\n      <td>629881394.0</td>\n    </tr>\n    <tr>\n      <th>25</th>\n      <td>7f4d4626-c0e8-445d-9df1-600e647a183a</td>\n      <td>raw</td>\n      <td>25</td>\n      <td>catalog</td>\n      <td>2019-11-01 22:33:35.460345</td>\n      <td>629881394.0</td>\n    </tr>\n    <tr>\n      <th>27</th>\n      <td>18f54d48-a79b-44c8-a2d0-29f41f9e393f</td>\n      <td>raw</td>\n      <td>27</td>\n      <td>catalog</td>\n      <td>2019-11-01 22:34:02.301293</td>\n      <td>629881394.0</td>\n    </tr>\n    <tr>\n      <th>29</th>\n      <td>4f4f3d30-e76b-4917-9e20-15212e25dda1</td>\n      <td>raw</td>\n      <td>29</td>\n      <td>product2</td>\n      <td>2019-11-01 22:34:32.362386</td>\n      <td>629881394.0</td>\n    </tr>\n    <tr>\n      <th>31</th>\n      <td>9f73b5ce-b9c7-4362-b279-679abb3c7d69</td>\n      <td>raw</td>\n      <td>31</td>\n      <td>catalog</td>\n      <td>2019-11-01 22:35:01.462515</td>\n      <td>629881394.0</td>\n    </tr>\n    <tr>\n      <th>33</th>\n      <td>0d872d70-81c9-430f-8439-bea3821bf15b</td>\n      <td>raw</td>\n      <td>33</td>\n      <td>product2</td>\n      <td>2019-11-01 22:35:33.142711</td>\n      <td>629881394.0</td>\n    </tr>\n    <tr>\n      <th>36</th>\n      <td>6c144c55-211e-460f-a8f8-9b1aa07b6c48</td>\n      <td>raw</td>\n      <td>36</td>\n      <td>cart</td>\n      <td>2019-11-01 22:35:50.437706</td>\n      <td>629881394.0</td>\n    </tr>\n    <tr>\n      <th>38</th>\n      <td>cc9bdaa5-2387-413e-8f6a-58d8e62aa022</td>\n      <td>raw</td>\n      <td>38</td>\n      <td>delivery_choice</td>\n      <td>2019-11-01 22:35:57.649549</td>\n      <td>629881394.0</td>\n    </tr>\n    <tr>\n      <th>39</th>\n      <td>534e1e19-9227-4028-b27e-b4cf1470fa52</td>\n      <td>raw</td>\n      <td>39</td>\n      <td>delivery_courier</td>\n      <td>2019-11-01 22:36:02.009271</td>\n      <td>629881394.0</td>\n    </tr>\n    <tr>\n      <th>42</th>\n      <td>ffd7c91f-08bd-4060-b3e6-31f69aac8d60</td>\n      <td>raw</td>\n      <td>42</td>\n      <td>payment_choice</td>\n      <td>2019-11-01 22:36:02.243274</td>\n      <td>629881394.0</td>\n    </tr>\n    <tr>\n      <th>44</th>\n      <td>8d894636-fca6-4fb9-9acc-4e83041b434b</td>\n      <td>raw</td>\n      <td>44</td>\n      <td>payment_cash</td>\n      <td>2019-11-01 22:36:03.415201</td>\n      <td>629881394.0</td>\n    </tr>\n    <tr>\n      <th>45</th>\n      <td>ff2f175c-da0d-4c1a-97cf-2c504017193a</td>\n      <td>raw</td>\n      <td>45</td>\n      <td>payment_done</td>\n      <td>2019-11-01 22:36:03.999697</td>\n      <td>629881394.0</td>\n    </tr>\n    <tr>\n      <th>365</th>\n      <td>61793ac0-40d4-4dbe-af83-e270ea99d40e</td>\n      <td>raw</td>\n      <td>365</td>\n      <td>main</td>\n      <td>2019-11-07 12:40:46.004674</td>\n      <td>629881394.0</td>\n    </tr>\n    <tr>\n      <th>367</th>\n      <td>0932b6b1-57fe-45bb-9df2-140989d598b7</td>\n      <td>raw</td>\n      <td>367</td>\n      <td>catalog</td>\n      <td>2019-11-07 12:40:55.724185</td>\n      <td>629881394.0</td>\n    </tr>\n    <tr>\n      <th>370</th>\n      <td>e96996f5-b5f3-42c7-af24-a4ad89c754c8</td>\n      <td>raw</td>\n      <td>370</td>\n      <td>cart</td>\n      <td>2019-11-07 12:41:04.107187</td>\n      <td>629881394.0</td>\n    </tr>\n    <tr>\n      <th>1436</th>\n      <td>24c6e604-5f37-4531-b840-91fe8d2148d3</td>\n      <td>raw</td>\n      <td>1436</td>\n      <td>main</td>\n      <td>2019-11-25 23:16:56.317624</td>\n      <td>629881394.0</td>\n    </tr>\n    <tr>\n      <th>1437</th>\n      <td>5e961b35-508d-4170-8868-546409271878</td>\n      <td>raw</td>\n      <td>1437</td>\n      <td>catalog</td>\n      <td>2019-11-25 23:17:16.266242</td>\n      <td>629881394.0</td>\n    </tr>\n    <tr>\n      <th>1438</th>\n      <td>ab6ffdbd-04e5-41bd-8037-20931dc7f797</td>\n      <td>raw</td>\n      <td>1438</td>\n      <td>catalog</td>\n      <td>2019-11-25 23:17:48.747304</td>\n      <td>629881394.0</td>\n    </tr>\n    <tr>\n      <th>6720</th>\n      <td>6bb501d4-bc30-40a8-9684-985beae80382</td>\n      <td>raw</td>\n      <td>6720</td>\n      <td>main</td>\n      <td>2020-01-23 18:56:23.445236</td>\n      <td>629881394.0</td>\n    </tr>\n    <tr>\n      <th>6721</th>\n      <td>b4807ddd-675a-442e-846c-0f6a34417382</td>\n      <td>raw</td>\n      <td>6721</td>\n      <td>catalog</td>\n      <td>2020-01-23 18:56:30.461624</td>\n      <td>629881394.0</td>\n    </tr>\n    <tr>\n      <th>11405</th>\n      <td>c4f83f1f-f4b9-4047-b549-48a5a7d51239</td>\n      <td>raw</td>\n      <td>11405</td>\n      <td>main</td>\n      <td>2020-03-01 23:23:43.392597</td>\n      <td>629881394.0</td>\n    </tr>\n    <tr>\n      <th>11406</th>\n      <td>a1f7a9ab-6d14-4bfd-baf2-cde49bdaad96</td>\n      <td>raw</td>\n      <td>11406</td>\n      <td>catalog</td>\n      <td>2020-03-01 23:23:44.755693</td>\n      <td>629881394.0</td>\n    </tr>\n    <tr>\n      <th>11407</th>\n      <td>bae24e0a-b9df-4229-9e09-976eec6fa439</td>\n      <td>raw</td>\n      <td>11407</td>\n      <td>main</td>\n      <td>2020-03-01 23:23:51.625991</td>\n      <td>629881394.0</td>\n    </tr>\n    <tr>\n      <th>12268</th>\n      <td>423a463a-bec4-420d-a3d7-76b46bb7b825</td>\n      <td>raw</td>\n      <td>12268</td>\n      <td>main</td>\n      <td>2020-03-07 12:05:23.938242</td>\n      <td>629881394.0</td>\n    </tr>\n    <tr>\n      <th>12269</th>\n      <td>30aee28f-8bdd-427f-875d-d2b03009a418</td>\n      <td>raw</td>\n      <td>12269</td>\n      <td>catalog</td>\n      <td>2020-03-07 12:05:32.476046</td>\n      <td>629881394.0</td>\n    </tr>\n    <tr>\n      <th>15010</th>\n      <td>7ab49288-4d14-4d92-9f01-10bf267facb3</td>\n      <td>raw</td>\n      <td>15010</td>\n      <td>main</td>\n      <td>2020-03-26 13:00:47.844886</td>\n      <td>629881394.0</td>\n    </tr>\n    <tr>\n      <th>15011</th>\n      <td>cdd7763f-b393-4c94-8e1b-29c6a9c42746</td>\n      <td>raw</td>\n      <td>15011</td>\n      <td>catalog</td>\n      <td>2020-03-26 13:00:49.531644</td>\n      <td>629881394.0</td>\n    </tr>\n    <tr>\n      <th>15688</th>\n      <td>aa2814e4-283a-4ded-ad3d-82ca733a8e45</td>\n      <td>raw</td>\n      <td>15688</td>\n      <td>main</td>\n      <td>2020-03-30 00:11:47.920536</td>\n      <td>629881394.0</td>\n    </tr>\n    <tr>\n      <th>15715</th>\n      <td>ed4d48bf-5b2c-481f-8e1a-4869ed5c9eaf</td>\n      <td>raw</td>\n      <td>15715</td>\n      <td>main</td>\n      <td>2020-03-30 03:17:46.909845</td>\n      <td>629881394.0</td>\n    </tr>\n    <tr>\n      <th>15716</th>\n      <td>40e11ebb-ba9c-43f5-954e-ad47163f29a5</td>\n      <td>raw</td>\n      <td>15716</td>\n      <td>catalog</td>\n      <td>2020-03-30 03:17:49.918774</td>\n      <td>629881394.0</td>\n    </tr>\n    <tr>\n      <th>15717</th>\n      <td>ff91b451-0eac-4afc-b152-d19d85b00ab4</td>\n      <td>raw</td>\n      <td>15717</td>\n      <td>catalog</td>\n      <td>2020-03-30 03:18:17.835191</td>\n      <td>629881394.0</td>\n    </tr>\n    <tr>\n      <th>15718</th>\n      <td>469ed230-1093-4fc8-8858-b27213b15cf4</td>\n      <td>raw</td>\n      <td>15718</td>\n      <td>catalog</td>\n      <td>2020-03-30 03:18:53.715887</td>\n      <td>629881394.0</td>\n    </tr>\n    <tr>\n      <th>15719</th>\n      <td>c2a4ca64-4b50-4e40-8855-098047463f51</td>\n      <td>raw</td>\n      <td>15719</td>\n      <td>catalog</td>\n      <td>2020-03-30 03:19:36.034262</td>\n      <td>629881394.0</td>\n    </tr>\n    <tr>\n      <th>15720</th>\n      <td>bd2be00e-4ab4-48f4-8b21-ff1aaec27e7b</td>\n      <td>raw</td>\n      <td>15720</td>\n      <td>catalog</td>\n      <td>2020-03-30 03:19:59.515094</td>\n      <td>629881394.0</td>\n    </tr>\n    <tr>\n      <th>15721</th>\n      <td>ffbed63d-2163-4689-84aa-cfabfa05261a</td>\n      <td>lost</td>\n      <td>15721</td>\n      <td>lost</td>\n      <td>2020-03-30 03:19:59.515094</td>\n      <td>629881394.0</td>\n    </tr>\n  </tbody>\n</table>\n</div>"
     },
     "execution_count": 56,
     "metadata": {},
     "output_type": "execute_result"
    }
   ],
   "source": [
    "print(len(source_df[source_df['user_id'] == 629881394]))\n",
    "# source_df[source_df['user_id'] == 629881394]\n",
    "print(len(df4[df4['user_id'] == 629881394]))\n",
    "df4[df4['user_id'] == 629881394]"
   ],
   "metadata": {
    "collapsed": false,
    "pycharm": {
     "name": "#%%\n"
    }
   }
  },
  {
   "cell_type": "code",
   "execution_count": 57,
   "outputs": [
    {
     "data": {
      "text/plain": "(35381, 39132)"
     },
     "execution_count": 57,
     "metadata": {},
     "output_type": "execute_result"
    }
   ],
   "source": [
    "len(source_df), len(df4)"
   ],
   "metadata": {
    "collapsed": false,
    "pycharm": {
     "name": "#%%\n"
    }
   }
  },
  {
   "cell_type": "code",
   "execution_count": 58,
   "outputs": [
    {
     "data": {
      "text/plain": "raw    35381\nName: event_type, dtype: int64"
     },
     "execution_count": 58,
     "metadata": {},
     "output_type": "execute_result"
    }
   ],
   "source": [
    "source_df['event_type'].value_counts()"
   ],
   "metadata": {
    "collapsed": false,
    "pycharm": {
     "name": "#%%\n"
    }
   }
  },
  {
   "cell_type": "code",
   "execution_count": 59,
   "outputs": [
    {
     "data": {
      "text/plain": "event_type\nraw           35381\nlost           3744\npause             7\ndtype: int64"
     },
     "execution_count": 59,
     "metadata": {},
     "output_type": "execute_result"
    }
   ],
   "source": [
    "df4.value_counts(['event_type'])"
   ],
   "metadata": {
    "collapsed": false,
    "pycharm": {
     "name": "#%%\n"
    }
   }
  },
  {
   "cell_type": "code",
   "execution_count": 60,
   "outputs": [
    {
     "name": "stdout",
     "output_type": "stream",
     "text": [
      "18\n"
     ]
    },
    {
     "data": {
      "text/plain": "                                  event_id event_type  event_index event_name  \\\n0     59a69b9b-91e6-4ea6-b338-2d50e9b465f5        raw            0    catalog   \n1     072c19d0-427b-4278-809b-c509e52cee4a        raw            1   product1   \n2     1692b904-c338-473e-b00b-5b16d5c79d67        raw            2       cart   \n3     56a76f25-ed9d-46de-8a4f-235bf534f770        raw            3    catalog   \n2407  b2f9c0a1-904a-4dff-90e1-37be04986437        raw         2407       main   \n2408  1436f264-7a18-46b6-a732-60201d8b56d8        raw         2408    catalog   \n2409  7019613a-00ba-4aa8-b08d-3118638d9c02        raw         2409    catalog   \n5169  ebdfbd61-4fcd-44ff-b562-649e3efc76f8        raw         5169       main   \n5170  a927160b-96ce-4c89-bd53-d79a37bdd1b6        raw         5170    catalog   \n5171  2fa7934a-4e76-4018-994e-1dac03a4464f        raw         5171       cart   \n5172  0adbd015-e172-47da-89c1-326b326ed4ad        raw         5172    catalog   \n5173  490137f7-c5c2-4387-a94b-2d8db537aa8c        raw         5173   product1   \n5174  aca98f1b-a878-4ad5-8bb6-aec03effbb8d        raw         5174    catalog   \n5175  7b0fa9c4-bd8c-432b-8422-0074ab7994ff        raw         5175    catalog   \n9329  de8d92d7-80b0-496c-b020-e8354deb3f52        raw         9329       main   \n9330  803dfc1a-ebf3-4197-a012-8a2bc50eb1fa        raw         9330    catalog   \n9331  788d8821-41a3-4ffb-9712-3a9c97cf631d        raw         9331       lost   \n9332  600541a6-2e6f-443b-bcf3-b62758e9413e       lost         9332       lost   \n\n                event_timestamp      user_id  \n0    2019-11-01 17:59:13.273932  219483890.0  \n1    2019-11-01 17:59:28.459271  219483890.0  \n2    2019-11-01 17:59:29.502214  219483890.0  \n3    2019-11-01 17:59:32.557029  219483890.0  \n2407 2019-12-06 16:22:57.484842  219483890.0  \n2408 2019-12-06 16:23:01.331109  219483890.0  \n2409 2019-12-06 16:23:48.116617  219483890.0  \n5169 2020-01-06 22:10:13.635011  219483890.0  \n5170 2020-01-06 22:10:15.228575  219483890.0  \n5171 2020-01-06 22:10:42.309028  219483890.0  \n5172 2020-01-06 22:10:52.255859  219483890.0  \n5173 2020-01-06 22:11:01.709800  219483890.0  \n5174 2020-01-06 22:11:02.899490  219483890.0  \n5175 2020-01-06 22:11:28.271366  219483890.0  \n9329 2020-02-14 21:04:49.450696  219483890.0  \n9330 2020-02-14 21:04:51.717127  219483890.0  \n9331 2020-02-14 21:04:52.717127  219483890.0  \n9332 2020-02-14 21:04:52.717127  219483890.0  ",
      "text/html": "<div>\n<style scoped>\n    .dataframe tbody tr th:only-of-type {\n        vertical-align: middle;\n    }\n\n    .dataframe tbody tr th {\n        vertical-align: top;\n    }\n\n    .dataframe thead th {\n        text-align: right;\n    }\n</style>\n<table border=\"1\" class=\"dataframe\">\n  <thead>\n    <tr style=\"text-align: right;\">\n      <th></th>\n      <th>event_id</th>\n      <th>event_type</th>\n      <th>event_index</th>\n      <th>event_name</th>\n      <th>event_timestamp</th>\n      <th>user_id</th>\n    </tr>\n  </thead>\n  <tbody>\n    <tr>\n      <th>0</th>\n      <td>59a69b9b-91e6-4ea6-b338-2d50e9b465f5</td>\n      <td>raw</td>\n      <td>0</td>\n      <td>catalog</td>\n      <td>2019-11-01 17:59:13.273932</td>\n      <td>219483890.0</td>\n    </tr>\n    <tr>\n      <th>1</th>\n      <td>072c19d0-427b-4278-809b-c509e52cee4a</td>\n      <td>raw</td>\n      <td>1</td>\n      <td>product1</td>\n      <td>2019-11-01 17:59:28.459271</td>\n      <td>219483890.0</td>\n    </tr>\n    <tr>\n      <th>2</th>\n      <td>1692b904-c338-473e-b00b-5b16d5c79d67</td>\n      <td>raw</td>\n      <td>2</td>\n      <td>cart</td>\n      <td>2019-11-01 17:59:29.502214</td>\n      <td>219483890.0</td>\n    </tr>\n    <tr>\n      <th>3</th>\n      <td>56a76f25-ed9d-46de-8a4f-235bf534f770</td>\n      <td>raw</td>\n      <td>3</td>\n      <td>catalog</td>\n      <td>2019-11-01 17:59:32.557029</td>\n      <td>219483890.0</td>\n    </tr>\n    <tr>\n      <th>2407</th>\n      <td>b2f9c0a1-904a-4dff-90e1-37be04986437</td>\n      <td>raw</td>\n      <td>2407</td>\n      <td>main</td>\n      <td>2019-12-06 16:22:57.484842</td>\n      <td>219483890.0</td>\n    </tr>\n    <tr>\n      <th>2408</th>\n      <td>1436f264-7a18-46b6-a732-60201d8b56d8</td>\n      <td>raw</td>\n      <td>2408</td>\n      <td>catalog</td>\n      <td>2019-12-06 16:23:01.331109</td>\n      <td>219483890.0</td>\n    </tr>\n    <tr>\n      <th>2409</th>\n      <td>7019613a-00ba-4aa8-b08d-3118638d9c02</td>\n      <td>raw</td>\n      <td>2409</td>\n      <td>catalog</td>\n      <td>2019-12-06 16:23:48.116617</td>\n      <td>219483890.0</td>\n    </tr>\n    <tr>\n      <th>5169</th>\n      <td>ebdfbd61-4fcd-44ff-b562-649e3efc76f8</td>\n      <td>raw</td>\n      <td>5169</td>\n      <td>main</td>\n      <td>2020-01-06 22:10:13.635011</td>\n      <td>219483890.0</td>\n    </tr>\n    <tr>\n      <th>5170</th>\n      <td>a927160b-96ce-4c89-bd53-d79a37bdd1b6</td>\n      <td>raw</td>\n      <td>5170</td>\n      <td>catalog</td>\n      <td>2020-01-06 22:10:15.228575</td>\n      <td>219483890.0</td>\n    </tr>\n    <tr>\n      <th>5171</th>\n      <td>2fa7934a-4e76-4018-994e-1dac03a4464f</td>\n      <td>raw</td>\n      <td>5171</td>\n      <td>cart</td>\n      <td>2020-01-06 22:10:42.309028</td>\n      <td>219483890.0</td>\n    </tr>\n    <tr>\n      <th>5172</th>\n      <td>0adbd015-e172-47da-89c1-326b326ed4ad</td>\n      <td>raw</td>\n      <td>5172</td>\n      <td>catalog</td>\n      <td>2020-01-06 22:10:52.255859</td>\n      <td>219483890.0</td>\n    </tr>\n    <tr>\n      <th>5173</th>\n      <td>490137f7-c5c2-4387-a94b-2d8db537aa8c</td>\n      <td>raw</td>\n      <td>5173</td>\n      <td>product1</td>\n      <td>2020-01-06 22:11:01.709800</td>\n      <td>219483890.0</td>\n    </tr>\n    <tr>\n      <th>5174</th>\n      <td>aca98f1b-a878-4ad5-8bb6-aec03effbb8d</td>\n      <td>raw</td>\n      <td>5174</td>\n      <td>catalog</td>\n      <td>2020-01-06 22:11:02.899490</td>\n      <td>219483890.0</td>\n    </tr>\n    <tr>\n      <th>5175</th>\n      <td>7b0fa9c4-bd8c-432b-8422-0074ab7994ff</td>\n      <td>raw</td>\n      <td>5175</td>\n      <td>catalog</td>\n      <td>2020-01-06 22:11:28.271366</td>\n      <td>219483890.0</td>\n    </tr>\n    <tr>\n      <th>9329</th>\n      <td>de8d92d7-80b0-496c-b020-e8354deb3f52</td>\n      <td>raw</td>\n      <td>9329</td>\n      <td>main</td>\n      <td>2020-02-14 21:04:49.450696</td>\n      <td>219483890.0</td>\n    </tr>\n    <tr>\n      <th>9330</th>\n      <td>803dfc1a-ebf3-4197-a012-8a2bc50eb1fa</td>\n      <td>raw</td>\n      <td>9330</td>\n      <td>catalog</td>\n      <td>2020-02-14 21:04:51.717127</td>\n      <td>219483890.0</td>\n    </tr>\n    <tr>\n      <th>9331</th>\n      <td>788d8821-41a3-4ffb-9712-3a9c97cf631d</td>\n      <td>raw</td>\n      <td>9331</td>\n      <td>lost</td>\n      <td>2020-02-14 21:04:52.717127</td>\n      <td>219483890.0</td>\n    </tr>\n    <tr>\n      <th>9332</th>\n      <td>600541a6-2e6f-443b-bcf3-b62758e9413e</td>\n      <td>lost</td>\n      <td>9332</td>\n      <td>lost</td>\n      <td>2020-02-14 21:04:52.717127</td>\n      <td>219483890.0</td>\n    </tr>\n  </tbody>\n</table>\n</div>"
     },
     "execution_count": 60,
     "metadata": {},
     "output_type": "execute_result"
    }
   ],
   "source": [
    "print(len(df4[df4['user_id'] == 219483890]))\n",
    "df4[df4['user_id'] == 219483890].sort_values('event_timestamp')"
   ],
   "metadata": {
    "collapsed": false,
    "pycharm": {
     "name": "#%%\n"
    }
   }
  },
  {
   "cell_type": "code",
   "execution_count": 61,
   "outputs": [
    {
     "name": "stdout",
     "output_type": "stream",
     "text": [
      "17\n"
     ]
    },
    {
     "data": {
      "text/plain": "                                  event_id event_type  event_index event_name  \\\n0     59a69b9b-91e6-4ea6-b338-2d50e9b465f5        raw            0    catalog   \n1     072c19d0-427b-4278-809b-c509e52cee4a        raw            1   product1   \n2     1692b904-c338-473e-b00b-5b16d5c79d67        raw            2       cart   \n3     56a76f25-ed9d-46de-8a4f-235bf534f770        raw            3    catalog   \n2245  b2f9c0a1-904a-4dff-90e1-37be04986437        raw         2245       main   \n2246  1436f264-7a18-46b6-a732-60201d8b56d8        raw         2246    catalog   \n2247  7019613a-00ba-4aa8-b08d-3118638d9c02        raw         2247    catalog   \n4836  ebdfbd61-4fcd-44ff-b562-649e3efc76f8        raw         4836       main   \n4837  a927160b-96ce-4c89-bd53-d79a37bdd1b6        raw         4837    catalog   \n4838  2fa7934a-4e76-4018-994e-1dac03a4464f        raw         4838       cart   \n4839  0adbd015-e172-47da-89c1-326b326ed4ad        raw         4839    catalog   \n4840  490137f7-c5c2-4387-a94b-2d8db537aa8c        raw         4840   product1   \n4841  aca98f1b-a878-4ad5-8bb6-aec03effbb8d        raw         4841    catalog   \n4842  7b0fa9c4-bd8c-432b-8422-0074ab7994ff        raw         4842    catalog   \n8736  de8d92d7-80b0-496c-b020-e8354deb3f52        raw         8736       main   \n8737  803dfc1a-ebf3-4197-a012-8a2bc50eb1fa        raw         8737    catalog   \n8738  788d8821-41a3-4ffb-9712-3a9c97cf631d        raw         8738       lost   \n\n                event_timestamp    user_id  \n0    2019-11-01 17:59:13.273932  219483890  \n1    2019-11-01 17:59:28.459271  219483890  \n2    2019-11-01 17:59:29.502214  219483890  \n3    2019-11-01 17:59:32.557029  219483890  \n2245 2019-12-06 16:22:57.484842  219483890  \n2246 2019-12-06 16:23:01.331109  219483890  \n2247 2019-12-06 16:23:48.116617  219483890  \n4836 2020-01-06 22:10:13.635011  219483890  \n4837 2020-01-06 22:10:15.228575  219483890  \n4838 2020-01-06 22:10:42.309028  219483890  \n4839 2020-01-06 22:10:52.255859  219483890  \n4840 2020-01-06 22:11:01.709800  219483890  \n4841 2020-01-06 22:11:02.899490  219483890  \n4842 2020-01-06 22:11:28.271366  219483890  \n8736 2020-02-14 21:04:49.450696  219483890  \n8737 2020-02-14 21:04:51.717127  219483890  \n8738 2020-02-14 21:04:52.717127  219483890  ",
      "text/html": "<div>\n<style scoped>\n    .dataframe tbody tr th:only-of-type {\n        vertical-align: middle;\n    }\n\n    .dataframe tbody tr th {\n        vertical-align: top;\n    }\n\n    .dataframe thead th {\n        text-align: right;\n    }\n</style>\n<table border=\"1\" class=\"dataframe\">\n  <thead>\n    <tr style=\"text-align: right;\">\n      <th></th>\n      <th>event_id</th>\n      <th>event_type</th>\n      <th>event_index</th>\n      <th>event_name</th>\n      <th>event_timestamp</th>\n      <th>user_id</th>\n    </tr>\n  </thead>\n  <tbody>\n    <tr>\n      <th>0</th>\n      <td>59a69b9b-91e6-4ea6-b338-2d50e9b465f5</td>\n      <td>raw</td>\n      <td>0</td>\n      <td>catalog</td>\n      <td>2019-11-01 17:59:13.273932</td>\n      <td>219483890</td>\n    </tr>\n    <tr>\n      <th>1</th>\n      <td>072c19d0-427b-4278-809b-c509e52cee4a</td>\n      <td>raw</td>\n      <td>1</td>\n      <td>product1</td>\n      <td>2019-11-01 17:59:28.459271</td>\n      <td>219483890</td>\n    </tr>\n    <tr>\n      <th>2</th>\n      <td>1692b904-c338-473e-b00b-5b16d5c79d67</td>\n      <td>raw</td>\n      <td>2</td>\n      <td>cart</td>\n      <td>2019-11-01 17:59:29.502214</td>\n      <td>219483890</td>\n    </tr>\n    <tr>\n      <th>3</th>\n      <td>56a76f25-ed9d-46de-8a4f-235bf534f770</td>\n      <td>raw</td>\n      <td>3</td>\n      <td>catalog</td>\n      <td>2019-11-01 17:59:32.557029</td>\n      <td>219483890</td>\n    </tr>\n    <tr>\n      <th>2245</th>\n      <td>b2f9c0a1-904a-4dff-90e1-37be04986437</td>\n      <td>raw</td>\n      <td>2245</td>\n      <td>main</td>\n      <td>2019-12-06 16:22:57.484842</td>\n      <td>219483890</td>\n    </tr>\n    <tr>\n      <th>2246</th>\n      <td>1436f264-7a18-46b6-a732-60201d8b56d8</td>\n      <td>raw</td>\n      <td>2246</td>\n      <td>catalog</td>\n      <td>2019-12-06 16:23:01.331109</td>\n      <td>219483890</td>\n    </tr>\n    <tr>\n      <th>2247</th>\n      <td>7019613a-00ba-4aa8-b08d-3118638d9c02</td>\n      <td>raw</td>\n      <td>2247</td>\n      <td>catalog</td>\n      <td>2019-12-06 16:23:48.116617</td>\n      <td>219483890</td>\n    </tr>\n    <tr>\n      <th>4836</th>\n      <td>ebdfbd61-4fcd-44ff-b562-649e3efc76f8</td>\n      <td>raw</td>\n      <td>4836</td>\n      <td>main</td>\n      <td>2020-01-06 22:10:13.635011</td>\n      <td>219483890</td>\n    </tr>\n    <tr>\n      <th>4837</th>\n      <td>a927160b-96ce-4c89-bd53-d79a37bdd1b6</td>\n      <td>raw</td>\n      <td>4837</td>\n      <td>catalog</td>\n      <td>2020-01-06 22:10:15.228575</td>\n      <td>219483890</td>\n    </tr>\n    <tr>\n      <th>4838</th>\n      <td>2fa7934a-4e76-4018-994e-1dac03a4464f</td>\n      <td>raw</td>\n      <td>4838</td>\n      <td>cart</td>\n      <td>2020-01-06 22:10:42.309028</td>\n      <td>219483890</td>\n    </tr>\n    <tr>\n      <th>4839</th>\n      <td>0adbd015-e172-47da-89c1-326b326ed4ad</td>\n      <td>raw</td>\n      <td>4839</td>\n      <td>catalog</td>\n      <td>2020-01-06 22:10:52.255859</td>\n      <td>219483890</td>\n    </tr>\n    <tr>\n      <th>4840</th>\n      <td>490137f7-c5c2-4387-a94b-2d8db537aa8c</td>\n      <td>raw</td>\n      <td>4840</td>\n      <td>product1</td>\n      <td>2020-01-06 22:11:01.709800</td>\n      <td>219483890</td>\n    </tr>\n    <tr>\n      <th>4841</th>\n      <td>aca98f1b-a878-4ad5-8bb6-aec03effbb8d</td>\n      <td>raw</td>\n      <td>4841</td>\n      <td>catalog</td>\n      <td>2020-01-06 22:11:02.899490</td>\n      <td>219483890</td>\n    </tr>\n    <tr>\n      <th>4842</th>\n      <td>7b0fa9c4-bd8c-432b-8422-0074ab7994ff</td>\n      <td>raw</td>\n      <td>4842</td>\n      <td>catalog</td>\n      <td>2020-01-06 22:11:28.271366</td>\n      <td>219483890</td>\n    </tr>\n    <tr>\n      <th>8736</th>\n      <td>de8d92d7-80b0-496c-b020-e8354deb3f52</td>\n      <td>raw</td>\n      <td>8736</td>\n      <td>main</td>\n      <td>2020-02-14 21:04:49.450696</td>\n      <td>219483890</td>\n    </tr>\n    <tr>\n      <th>8737</th>\n      <td>803dfc1a-ebf3-4197-a012-8a2bc50eb1fa</td>\n      <td>raw</td>\n      <td>8737</td>\n      <td>catalog</td>\n      <td>2020-02-14 21:04:51.717127</td>\n      <td>219483890</td>\n    </tr>\n    <tr>\n      <th>8738</th>\n      <td>788d8821-41a3-4ffb-9712-3a9c97cf631d</td>\n      <td>raw</td>\n      <td>8738</td>\n      <td>lost</td>\n      <td>2020-02-14 21:04:52.717127</td>\n      <td>219483890</td>\n    </tr>\n  </tbody>\n</table>\n</div>"
     },
     "execution_count": 61,
     "metadata": {},
     "output_type": "execute_result"
    }
   ],
   "source": [
    "print(len(source_df[source_df['user_id'] == 219483890]))\n",
    "source_df[source_df['user_id'] == 219483890]"
   ],
   "metadata": {
    "collapsed": false,
    "pycharm": {
     "name": "#%%\n"
    }
   }
  },
  {
   "cell_type": "code",
   "execution_count": 61,
   "outputs": [],
   "source": [],
   "metadata": {
    "collapsed": false,
    "pycharm": {
     "name": "#%%\n"
    }
   }
  },
  {
   "cell_type": "code",
   "execution_count": 61,
   "outputs": [],
   "source": [],
   "metadata": {
    "collapsed": false,
    "pycharm": {
     "name": "#%%\n"
    }
   }
  },
  {
   "cell_type": "markdown",
   "source": [
    "### Результат"
   ],
   "metadata": {
    "collapsed": false,
    "pycharm": {
     "name": "#%% md\n"
    }
   }
  },
  {
   "cell_type": "markdown",
   "source": [
    "1) [поправила] Нельзя задать единицу измерения отсечки, сейчас тип - lost_cutoff: Optional[List[int]]\n",
    "2) [не работает] - ломается на этапе импорта из-за параметра функции, если\n",
    "3) [закомментировала] Общая логика работы такая, что можно проставить lost/pause или по отсечке, или по списку и функции. И то и другое задавать нельзя. Надо допридумать тут логику\n",
    "    - По отсечке - Если от последнего события в траектории прошло больше времени отсечки, то добавляется событие lost, если меньше - pause\n",
    "    - lost_users_list - список юзеров, которым проставляется событие lost, остальным - pause, Сейчас по списку проставляется - pause\n",
    "4) [поправила] Combine - часть событий задваивается, но не очень понятно по какой логике\n",
    "5) Само событие и timestamp проставляются корректно"
   ],
   "metadata": {
    "collapsed": false,
    "pycharm": {
     "name": "#%% md\n"
    }
   }
  },
  {
   "cell_type": "markdown",
   "source": [
    "## Truncated"
   ],
   "metadata": {
    "collapsed": false,
    "pycharm": {
     "name": "#%% md\n"
    }
   }
  },
  {
   "cell_type": "code",
   "execution_count": 62,
   "outputs": [
    {
     "data": {
      "text/plain": "                               event_id event_type  event_index  \\\n0  59a69b9b-91e6-4ea6-b338-2d50e9b465f5        raw            0   \n1  072c19d0-427b-4278-809b-c509e52cee4a        raw            1   \n2  1692b904-c338-473e-b00b-5b16d5c79d67        raw            2   \n3  56a76f25-ed9d-46de-8a4f-235bf534f770        raw            3   \n4  78809682-25ea-4d09-b8fb-008c6da653e1        raw            4   \n5  94c484be-8f3e-4578-b43c-ef62184132ca        raw            5   \n6  9930949d-a839-4358-863d-f3e16d77f02b        raw            6   \n7  56c73621-a726-43fc-b1e5-a286c93afd85        raw            7   \n\n        event_name            event_timestamp      user_id  \n0          catalog 2019-11-01 17:59:13.273932  219483890.0  \n1         product1 2019-11-01 17:59:28.459271  219483890.0  \n2             cart 2019-11-01 17:59:29.502214  219483890.0  \n3          catalog 2019-11-01 17:59:32.557029  219483890.0  \n4          catalog 2019-11-01 21:38:19.283663  964964743.0  \n5             cart 2019-11-01 21:38:36.761221  964964743.0  \n6  delivery_choice 2019-11-01 21:38:37.564693  964964743.0  \n7             main 2019-11-01 22:28:54.791683  629881394.0  ",
      "text/html": "<div>\n<style scoped>\n    .dataframe tbody tr th:only-of-type {\n        vertical-align: middle;\n    }\n\n    .dataframe tbody tr th {\n        vertical-align: top;\n    }\n\n    .dataframe thead th {\n        text-align: right;\n    }\n</style>\n<table border=\"1\" class=\"dataframe\">\n  <thead>\n    <tr style=\"text-align: right;\">\n      <th></th>\n      <th>event_id</th>\n      <th>event_type</th>\n      <th>event_index</th>\n      <th>event_name</th>\n      <th>event_timestamp</th>\n      <th>user_id</th>\n    </tr>\n  </thead>\n  <tbody>\n    <tr>\n      <th>0</th>\n      <td>59a69b9b-91e6-4ea6-b338-2d50e9b465f5</td>\n      <td>raw</td>\n      <td>0</td>\n      <td>catalog</td>\n      <td>2019-11-01 17:59:13.273932</td>\n      <td>219483890.0</td>\n    </tr>\n    <tr>\n      <th>1</th>\n      <td>072c19d0-427b-4278-809b-c509e52cee4a</td>\n      <td>raw</td>\n      <td>1</td>\n      <td>product1</td>\n      <td>2019-11-01 17:59:28.459271</td>\n      <td>219483890.0</td>\n    </tr>\n    <tr>\n      <th>2</th>\n      <td>1692b904-c338-473e-b00b-5b16d5c79d67</td>\n      <td>raw</td>\n      <td>2</td>\n      <td>cart</td>\n      <td>2019-11-01 17:59:29.502214</td>\n      <td>219483890.0</td>\n    </tr>\n    <tr>\n      <th>3</th>\n      <td>56a76f25-ed9d-46de-8a4f-235bf534f770</td>\n      <td>raw</td>\n      <td>3</td>\n      <td>catalog</td>\n      <td>2019-11-01 17:59:32.557029</td>\n      <td>219483890.0</td>\n    </tr>\n    <tr>\n      <th>4</th>\n      <td>78809682-25ea-4d09-b8fb-008c6da653e1</td>\n      <td>raw</td>\n      <td>4</td>\n      <td>catalog</td>\n      <td>2019-11-01 21:38:19.283663</td>\n      <td>964964743.0</td>\n    </tr>\n    <tr>\n      <th>5</th>\n      <td>94c484be-8f3e-4578-b43c-ef62184132ca</td>\n      <td>raw</td>\n      <td>5</td>\n      <td>cart</td>\n      <td>2019-11-01 21:38:36.761221</td>\n      <td>964964743.0</td>\n    </tr>\n    <tr>\n      <th>6</th>\n      <td>9930949d-a839-4358-863d-f3e16d77f02b</td>\n      <td>raw</td>\n      <td>6</td>\n      <td>delivery_choice</td>\n      <td>2019-11-01 21:38:37.564693</td>\n      <td>964964743.0</td>\n    </tr>\n    <tr>\n      <th>7</th>\n      <td>56c73621-a726-43fc-b1e5-a286c93afd85</td>\n      <td>raw</td>\n      <td>7</td>\n      <td>main</td>\n      <td>2019-11-01 22:28:54.791683</td>\n      <td>629881394.0</td>\n    </tr>\n  </tbody>\n</table>\n</div>"
     },
     "execution_count": 62,
     "metadata": {},
     "output_type": "execute_result"
    }
   ],
   "source": [
    "from src.data_processors_lib.rete import TruncatedEvents, TruncatedParams\n",
    "params = {\n",
    "    'left_truncated_cutoff': (10000, 'm'),\n",
    "    'right_truncated_cutoff': (10000, 'm')\n",
    "}\n",
    "\n",
    "truncated_events = EventsNode(\n",
    "    TruncatedEvents(params=TruncatedParams(**params)))\n",
    "\n",
    "\n",
    "graph.add_node(\n",
    "    node=truncated_events,\n",
    "    parents=[graph.root]\n",
    ")\n",
    "\n",
    "result = graph.combine(\n",
    "    node=truncated_events\n",
    ")\n",
    "result.to_dataframe().head(8)"
   ],
   "metadata": {
    "collapsed": false,
    "pycharm": {
     "name": "#%%\n"
    }
   }
  },
  {
   "cell_type": "code",
   "execution_count": 63,
   "outputs": [
    {
     "name": "stdout",
     "output_type": "stream",
     "text": [
      "0\n"
     ]
    },
    {
     "data": {
      "text/plain": "0"
     },
     "execution_count": 63,
     "metadata": {},
     "output_type": "execute_result"
    }
   ],
   "source": [
    "df5 = result.to_dataframe()\n",
    "print(source_df.duplicated(['event_name', 'event_timestamp', 'user_id']).sum())\n",
    "df5.duplicated(['event_name', 'event_timestamp', 'user_id']).sum()"
   ],
   "metadata": {
    "collapsed": false,
    "pycharm": {
     "name": "#%%\n"
    }
   }
  },
  {
   "cell_type": "code",
   "execution_count": 64,
   "outputs": [
    {
     "data": {
      "text/plain": "event_type\nraw                35381\ntruncated_right     3688\ntruncated_left      2883\ndtype: int64"
     },
     "execution_count": 64,
     "metadata": {},
     "output_type": "execute_result"
    }
   ],
   "source": [
    "df5.value_counts('event_type')"
   ],
   "metadata": {
    "collapsed": false,
    "pycharm": {
     "name": "#%%\n"
    }
   }
  },
  {
   "cell_type": "code",
   "execution_count": 65,
   "outputs": [
    {
     "name": "stdout",
     "output_type": "stream",
     "text": [
      "14\n"
     ]
    },
    {
     "data": {
      "text/plain": "                                  event_id      event_type  event_index  \\\n4     78809682-25ea-4d09-b8fb-008c6da653e1             raw            4   \n5     94c484be-8f3e-4578-b43c-ef62184132ca             raw            5   \n6     9930949d-a839-4358-863d-f3e16d77f02b             raw            6   \n2884  eff948e1-e0e8-4afb-b52f-08936264a027             raw         2884   \n2885  46834714-9baf-45b4-9be2-0604ae8a93bb             raw         2885   \n2886  323eaaa9-f74c-4b27-8f53-215ac900ac43             raw         2886   \n2887  a7137007-a5d6-43af-9461-d28828bee74e             raw         2887   \n2888  44d254c7-3f8f-45a0-9348-42865bc01961             raw         2888   \n2889  dc6ba294-693e-499d-810f-8b37e8704856             raw         2889   \n2890  9405e65d-7c43-4473-b1ae-1f38550976f2             raw         2890   \n2891  641ae88d-a77d-455e-b151-fcf929ed29da             raw         2891   \n2892  b5e525c2-1c35-4cd9-8a55-a2181dc6ed0b             raw         2892   \n2893  cc735c4c-7a5b-4f8f-a3fa-08fd004f7fe9             raw         2893   \n2894  cfd2c2f7-fb2e-401a-b3ac-3d8718a2cb59  truncated_left         2894   \n\n           event_name            event_timestamp      user_id  \n4             catalog 2019-11-01 21:38:19.283663  964964743.0  \n5                cart 2019-11-01 21:38:36.761221  964964743.0  \n6     delivery_choice 2019-11-01 21:38:37.564693  964964743.0  \n2884             main 2019-12-09 01:42:22.801831  964964743.0  \n2885          catalog 2019-12-09 01:42:23.617764  964964743.0  \n2886         product2 2019-12-09 01:42:56.877340  964964743.0  \n2887          catalog 2019-12-09 01:43:05.436223  964964743.0  \n2888          catalog 2019-12-09 01:43:36.923178  964964743.0  \n2889         product2 2019-12-09 01:43:41.174195  964964743.0  \n2890             cart 2019-12-09 01:43:57.325569  964964743.0  \n2891  delivery_choice 2019-12-09 01:43:57.486518  964964743.0  \n2892  delivery_pickup 2019-12-09 01:43:57.766850  964964743.0  \n2893             lost 2019-12-09 01:43:58.766850  964964743.0  \n2894   truncated_left 2019-12-09 01:43:58.766850  964964743.0  ",
      "text/html": "<div>\n<style scoped>\n    .dataframe tbody tr th:only-of-type {\n        vertical-align: middle;\n    }\n\n    .dataframe tbody tr th {\n        vertical-align: top;\n    }\n\n    .dataframe thead th {\n        text-align: right;\n    }\n</style>\n<table border=\"1\" class=\"dataframe\">\n  <thead>\n    <tr style=\"text-align: right;\">\n      <th></th>\n      <th>event_id</th>\n      <th>event_type</th>\n      <th>event_index</th>\n      <th>event_name</th>\n      <th>event_timestamp</th>\n      <th>user_id</th>\n    </tr>\n  </thead>\n  <tbody>\n    <tr>\n      <th>4</th>\n      <td>78809682-25ea-4d09-b8fb-008c6da653e1</td>\n      <td>raw</td>\n      <td>4</td>\n      <td>catalog</td>\n      <td>2019-11-01 21:38:19.283663</td>\n      <td>964964743.0</td>\n    </tr>\n    <tr>\n      <th>5</th>\n      <td>94c484be-8f3e-4578-b43c-ef62184132ca</td>\n      <td>raw</td>\n      <td>5</td>\n      <td>cart</td>\n      <td>2019-11-01 21:38:36.761221</td>\n      <td>964964743.0</td>\n    </tr>\n    <tr>\n      <th>6</th>\n      <td>9930949d-a839-4358-863d-f3e16d77f02b</td>\n      <td>raw</td>\n      <td>6</td>\n      <td>delivery_choice</td>\n      <td>2019-11-01 21:38:37.564693</td>\n      <td>964964743.0</td>\n    </tr>\n    <tr>\n      <th>2884</th>\n      <td>eff948e1-e0e8-4afb-b52f-08936264a027</td>\n      <td>raw</td>\n      <td>2884</td>\n      <td>main</td>\n      <td>2019-12-09 01:42:22.801831</td>\n      <td>964964743.0</td>\n    </tr>\n    <tr>\n      <th>2885</th>\n      <td>46834714-9baf-45b4-9be2-0604ae8a93bb</td>\n      <td>raw</td>\n      <td>2885</td>\n      <td>catalog</td>\n      <td>2019-12-09 01:42:23.617764</td>\n      <td>964964743.0</td>\n    </tr>\n    <tr>\n      <th>2886</th>\n      <td>323eaaa9-f74c-4b27-8f53-215ac900ac43</td>\n      <td>raw</td>\n      <td>2886</td>\n      <td>product2</td>\n      <td>2019-12-09 01:42:56.877340</td>\n      <td>964964743.0</td>\n    </tr>\n    <tr>\n      <th>2887</th>\n      <td>a7137007-a5d6-43af-9461-d28828bee74e</td>\n      <td>raw</td>\n      <td>2887</td>\n      <td>catalog</td>\n      <td>2019-12-09 01:43:05.436223</td>\n      <td>964964743.0</td>\n    </tr>\n    <tr>\n      <th>2888</th>\n      <td>44d254c7-3f8f-45a0-9348-42865bc01961</td>\n      <td>raw</td>\n      <td>2888</td>\n      <td>catalog</td>\n      <td>2019-12-09 01:43:36.923178</td>\n      <td>964964743.0</td>\n    </tr>\n    <tr>\n      <th>2889</th>\n      <td>dc6ba294-693e-499d-810f-8b37e8704856</td>\n      <td>raw</td>\n      <td>2889</td>\n      <td>product2</td>\n      <td>2019-12-09 01:43:41.174195</td>\n      <td>964964743.0</td>\n    </tr>\n    <tr>\n      <th>2890</th>\n      <td>9405e65d-7c43-4473-b1ae-1f38550976f2</td>\n      <td>raw</td>\n      <td>2890</td>\n      <td>cart</td>\n      <td>2019-12-09 01:43:57.325569</td>\n      <td>964964743.0</td>\n    </tr>\n    <tr>\n      <th>2891</th>\n      <td>641ae88d-a77d-455e-b151-fcf929ed29da</td>\n      <td>raw</td>\n      <td>2891</td>\n      <td>delivery_choice</td>\n      <td>2019-12-09 01:43:57.486518</td>\n      <td>964964743.0</td>\n    </tr>\n    <tr>\n      <th>2892</th>\n      <td>b5e525c2-1c35-4cd9-8a55-a2181dc6ed0b</td>\n      <td>raw</td>\n      <td>2892</td>\n      <td>delivery_pickup</td>\n      <td>2019-12-09 01:43:57.766850</td>\n      <td>964964743.0</td>\n    </tr>\n    <tr>\n      <th>2893</th>\n      <td>cc735c4c-7a5b-4f8f-a3fa-08fd004f7fe9</td>\n      <td>raw</td>\n      <td>2893</td>\n      <td>lost</td>\n      <td>2019-12-09 01:43:58.766850</td>\n      <td>964964743.0</td>\n    </tr>\n    <tr>\n      <th>2894</th>\n      <td>cfd2c2f7-fb2e-401a-b3ac-3d8718a2cb59</td>\n      <td>truncated_left</td>\n      <td>2894</td>\n      <td>truncated_left</td>\n      <td>2019-12-09 01:43:58.766850</td>\n      <td>964964743.0</td>\n    </tr>\n  </tbody>\n</table>\n</div>"
     },
     "execution_count": 65,
     "metadata": {},
     "output_type": "execute_result"
    }
   ],
   "source": [
    "print(len(df5[df5['user_id'] == 964964743]))\n",
    "df5[df5['user_id'] == 964964743]"
   ],
   "metadata": {
    "collapsed": false,
    "pycharm": {
     "name": "#%%\n"
    }
   }
  },
  {
   "cell_type": "code",
   "execution_count": 66,
   "outputs": [
    {
     "name": "stdout",
     "output_type": "stream",
     "text": [
      "13\n"
     ]
    },
    {
     "data": {
      "text/plain": "                                  event_id event_type  event_index  \\\n4     78809682-25ea-4d09-b8fb-008c6da653e1        raw            4   \n5     94c484be-8f3e-4578-b43c-ef62184132ca        raw            5   \n6     9930949d-a839-4358-863d-f3e16d77f02b        raw            6   \n2439  eff948e1-e0e8-4afb-b52f-08936264a027        raw         2439   \n2440  46834714-9baf-45b4-9be2-0604ae8a93bb        raw         2440   \n2441  323eaaa9-f74c-4b27-8f53-215ac900ac43        raw         2441   \n2442  a7137007-a5d6-43af-9461-d28828bee74e        raw         2442   \n2443  44d254c7-3f8f-45a0-9348-42865bc01961        raw         2443   \n2444  dc6ba294-693e-499d-810f-8b37e8704856        raw         2444   \n2445  9405e65d-7c43-4473-b1ae-1f38550976f2        raw         2445   \n2446  641ae88d-a77d-455e-b151-fcf929ed29da        raw         2446   \n2447  b5e525c2-1c35-4cd9-8a55-a2181dc6ed0b        raw         2447   \n2448  cc735c4c-7a5b-4f8f-a3fa-08fd004f7fe9        raw         2448   \n\n           event_name            event_timestamp    user_id  \n4             catalog 2019-11-01 21:38:19.283663  964964743  \n5                cart 2019-11-01 21:38:36.761221  964964743  \n6     delivery_choice 2019-11-01 21:38:37.564693  964964743  \n2439             main 2019-12-09 01:42:22.801831  964964743  \n2440          catalog 2019-12-09 01:42:23.617764  964964743  \n2441         product2 2019-12-09 01:42:56.877340  964964743  \n2442          catalog 2019-12-09 01:43:05.436223  964964743  \n2443          catalog 2019-12-09 01:43:36.923178  964964743  \n2444         product2 2019-12-09 01:43:41.174195  964964743  \n2445             cart 2019-12-09 01:43:57.325569  964964743  \n2446  delivery_choice 2019-12-09 01:43:57.486518  964964743  \n2447  delivery_pickup 2019-12-09 01:43:57.766850  964964743  \n2448             lost 2019-12-09 01:43:58.766850  964964743  ",
      "text/html": "<div>\n<style scoped>\n    .dataframe tbody tr th:only-of-type {\n        vertical-align: middle;\n    }\n\n    .dataframe tbody tr th {\n        vertical-align: top;\n    }\n\n    .dataframe thead th {\n        text-align: right;\n    }\n</style>\n<table border=\"1\" class=\"dataframe\">\n  <thead>\n    <tr style=\"text-align: right;\">\n      <th></th>\n      <th>event_id</th>\n      <th>event_type</th>\n      <th>event_index</th>\n      <th>event_name</th>\n      <th>event_timestamp</th>\n      <th>user_id</th>\n    </tr>\n  </thead>\n  <tbody>\n    <tr>\n      <th>4</th>\n      <td>78809682-25ea-4d09-b8fb-008c6da653e1</td>\n      <td>raw</td>\n      <td>4</td>\n      <td>catalog</td>\n      <td>2019-11-01 21:38:19.283663</td>\n      <td>964964743</td>\n    </tr>\n    <tr>\n      <th>5</th>\n      <td>94c484be-8f3e-4578-b43c-ef62184132ca</td>\n      <td>raw</td>\n      <td>5</td>\n      <td>cart</td>\n      <td>2019-11-01 21:38:36.761221</td>\n      <td>964964743</td>\n    </tr>\n    <tr>\n      <th>6</th>\n      <td>9930949d-a839-4358-863d-f3e16d77f02b</td>\n      <td>raw</td>\n      <td>6</td>\n      <td>delivery_choice</td>\n      <td>2019-11-01 21:38:37.564693</td>\n      <td>964964743</td>\n    </tr>\n    <tr>\n      <th>2439</th>\n      <td>eff948e1-e0e8-4afb-b52f-08936264a027</td>\n      <td>raw</td>\n      <td>2439</td>\n      <td>main</td>\n      <td>2019-12-09 01:42:22.801831</td>\n      <td>964964743</td>\n    </tr>\n    <tr>\n      <th>2440</th>\n      <td>46834714-9baf-45b4-9be2-0604ae8a93bb</td>\n      <td>raw</td>\n      <td>2440</td>\n      <td>catalog</td>\n      <td>2019-12-09 01:42:23.617764</td>\n      <td>964964743</td>\n    </tr>\n    <tr>\n      <th>2441</th>\n      <td>323eaaa9-f74c-4b27-8f53-215ac900ac43</td>\n      <td>raw</td>\n      <td>2441</td>\n      <td>product2</td>\n      <td>2019-12-09 01:42:56.877340</td>\n      <td>964964743</td>\n    </tr>\n    <tr>\n      <th>2442</th>\n      <td>a7137007-a5d6-43af-9461-d28828bee74e</td>\n      <td>raw</td>\n      <td>2442</td>\n      <td>catalog</td>\n      <td>2019-12-09 01:43:05.436223</td>\n      <td>964964743</td>\n    </tr>\n    <tr>\n      <th>2443</th>\n      <td>44d254c7-3f8f-45a0-9348-42865bc01961</td>\n      <td>raw</td>\n      <td>2443</td>\n      <td>catalog</td>\n      <td>2019-12-09 01:43:36.923178</td>\n      <td>964964743</td>\n    </tr>\n    <tr>\n      <th>2444</th>\n      <td>dc6ba294-693e-499d-810f-8b37e8704856</td>\n      <td>raw</td>\n      <td>2444</td>\n      <td>product2</td>\n      <td>2019-12-09 01:43:41.174195</td>\n      <td>964964743</td>\n    </tr>\n    <tr>\n      <th>2445</th>\n      <td>9405e65d-7c43-4473-b1ae-1f38550976f2</td>\n      <td>raw</td>\n      <td>2445</td>\n      <td>cart</td>\n      <td>2019-12-09 01:43:57.325569</td>\n      <td>964964743</td>\n    </tr>\n    <tr>\n      <th>2446</th>\n      <td>641ae88d-a77d-455e-b151-fcf929ed29da</td>\n      <td>raw</td>\n      <td>2446</td>\n      <td>delivery_choice</td>\n      <td>2019-12-09 01:43:57.486518</td>\n      <td>964964743</td>\n    </tr>\n    <tr>\n      <th>2447</th>\n      <td>b5e525c2-1c35-4cd9-8a55-a2181dc6ed0b</td>\n      <td>raw</td>\n      <td>2447</td>\n      <td>delivery_pickup</td>\n      <td>2019-12-09 01:43:57.766850</td>\n      <td>964964743</td>\n    </tr>\n    <tr>\n      <th>2448</th>\n      <td>cc735c4c-7a5b-4f8f-a3fa-08fd004f7fe9</td>\n      <td>raw</td>\n      <td>2448</td>\n      <td>lost</td>\n      <td>2019-12-09 01:43:58.766850</td>\n      <td>964964743</td>\n    </tr>\n  </tbody>\n</table>\n</div>"
     },
     "execution_count": 66,
     "metadata": {},
     "output_type": "execute_result"
    }
   ],
   "source": [
    "print(len(source_df[source_df['user_id'] == 964964743]))\n",
    "source_df[source_df['user_id'] == 964964743]"
   ],
   "metadata": {
    "collapsed": false,
    "pycharm": {
     "name": "#%%\n"
    }
   }
  },
  {
   "cell_type": "markdown",
   "source": [
    "### Результат"
   ],
   "metadata": {
    "collapsed": false,
    "pycharm": {
     "name": "#%% md\n"
    }
   }
  },
  {
   "cell_type": "markdown",
   "source": [
    "1) [Поправила] Дубликаты - 27880\n",
    "2) [TODO_analytics] перепутаны местами truncated_left и truncated_right\n",
    "3) [TODO_analytics] проверить расчет более детально\n",
    "4) [Поправила] Неправильно проставляются truncated события - для всех юзеров"
   ],
   "metadata": {
    "collapsed": false,
    "pycharm": {
     "name": "#%% md\n"
    }
   }
  },
  {
   "cell_type": "code",
   "execution_count": 66,
   "outputs": [],
   "source": [],
   "metadata": {
    "collapsed": false,
    "pycharm": {
     "name": "#%%\n"
    }
   }
  },
  {
   "cell_type": "markdown",
   "source": [
    "## PositiveTarget"
   ],
   "metadata": {
    "collapsed": false,
    "pycharm": {
     "name": "#%% md\n"
    }
   }
  },
  {
   "cell_type": "code",
   "execution_count": 68,
   "outputs": [
    {
     "ename": "TypeError",
     "evalue": "_default_func_positive() takes 2 positional arguments but 3 were given",
     "output_type": "error",
     "traceback": [
      "\u001B[0;31m---------------------------------------------------------------------------\u001B[0m",
      "\u001B[0;31mTypeError\u001B[0m                                 Traceback (most recent call last)",
      "Input \u001B[0;32mIn [68]\u001B[0m, in \u001B[0;36m<cell line: 14>\u001B[0;34m()\u001B[0m\n\u001B[1;32m      6\u001B[0m positive_targets \u001B[38;5;241m=\u001B[39m EventsNode(\n\u001B[1;32m      7\u001B[0m     PositiveTarget(params\u001B[38;5;241m=\u001B[39mPositiveTargetParams(\u001B[38;5;241m*\u001B[39m\u001B[38;5;241m*\u001B[39mparams)))\n\u001B[1;32m      9\u001B[0m graph\u001B[38;5;241m.\u001B[39madd_node(\n\u001B[1;32m     10\u001B[0m     node\u001B[38;5;241m=\u001B[39mpositive_targets,\n\u001B[1;32m     11\u001B[0m     parents\u001B[38;5;241m=\u001B[39m[graph\u001B[38;5;241m.\u001B[39mroot]\n\u001B[1;32m     12\u001B[0m )\n\u001B[0;32m---> 14\u001B[0m result \u001B[38;5;241m=\u001B[39m \u001B[43mgraph\u001B[49m\u001B[38;5;241;43m.\u001B[39;49m\u001B[43mcombine\u001B[49m\u001B[43m(\u001B[49m\n\u001B[1;32m     15\u001B[0m \u001B[43m    \u001B[49m\u001B[43mnode\u001B[49m\u001B[38;5;241;43m=\u001B[39;49m\u001B[43mpositive_targets\u001B[49m\n\u001B[1;32m     16\u001B[0m \u001B[43m)\u001B[49m\n\u001B[1;32m     17\u001B[0m result\u001B[38;5;241m.\u001B[39mto_dataframe()\u001B[38;5;241m.\u001B[39mhead(\u001B[38;5;241m8\u001B[39m)\n",
      "File \u001B[0;32m~/Dev/Retentioneering/retentioneering-tools-new-arch/examples/../src/graph/p_graph.py:70\u001B[0m, in \u001B[0;36mPGraph.combine\u001B[0;34m(self, node)\u001B[0m\n\u001B[1;32m     67\u001B[0m     \u001B[38;5;28;01mreturn\u001B[39;00m node\u001B[38;5;241m.\u001B[39mevents\u001B[38;5;241m.\u001B[39mcopy()\n\u001B[1;32m     69\u001B[0m \u001B[38;5;28;01mif\u001B[39;00m \u001B[38;5;28misinstance\u001B[39m(node, EventsNode):\n\u001B[0;32m---> 70\u001B[0m     \u001B[38;5;28;01mreturn\u001B[39;00m \u001B[38;5;28;43mself\u001B[39;49m\u001B[38;5;241;43m.\u001B[39;49m\u001B[43mcombine_events_node\u001B[49m\u001B[43m(\u001B[49m\u001B[43mnode\u001B[49m\u001B[43m)\u001B[49m\n\u001B[1;32m     72\u001B[0m \u001B[38;5;28;01mreturn\u001B[39;00m \u001B[38;5;28mself\u001B[39m\u001B[38;5;241m.\u001B[39mcombine_merge_node(node)\n",
      "File \u001B[0;32m~/Dev/Retentioneering/retentioneering-tools-new-arch/examples/../src/graph/p_graph.py:77\u001B[0m, in \u001B[0;36mPGraph.combine_events_node\u001B[0;34m(self, node)\u001B[0m\n\u001B[1;32m     75\u001B[0m parent \u001B[38;5;241m=\u001B[39m \u001B[38;5;28mself\u001B[39m\u001B[38;5;241m.\u001B[39mget_events_node_parent(node)\n\u001B[1;32m     76\u001B[0m parent_events \u001B[38;5;241m=\u001B[39m \u001B[38;5;28mself\u001B[39m\u001B[38;5;241m.\u001B[39mcombine(parent)\n\u001B[0;32m---> 77\u001B[0m events \u001B[38;5;241m=\u001B[39m \u001B[43mnode\u001B[49m\u001B[38;5;241;43m.\u001B[39;49m\u001B[43mprocessor\u001B[49m\u001B[38;5;241;43m.\u001B[39;49m\u001B[43mapply\u001B[49m\u001B[43m(\u001B[49m\u001B[43mparent_events\u001B[49m\u001B[43m)\u001B[49m\n\u001B[1;32m     78\u001B[0m parent_events\u001B[38;5;241m.\u001B[39mjoin_eventstream(events)\n\u001B[1;32m     79\u001B[0m \u001B[38;5;66;03m# parent_events.append_eventstream(events)\u001B[39;00m\n",
      "File \u001B[0;32m~/Dev/Retentioneering/retentioneering-tools-new-arch/examples/../src/data_processors_lib/rete/positive_target.py:50\u001B[0m, in \u001B[0;36mPositiveTarget.apply\u001B[0;34m(self, eventstream)\u001B[0m\n\u001B[1;32m     46\u001B[0m positive_target_events \u001B[38;5;241m=\u001B[39m \u001B[38;5;28mself\u001B[39m\u001B[38;5;241m.\u001B[39mparams\u001B[38;5;241m.\u001B[39mpositive_target_events\n\u001B[1;32m     48\u001B[0m df \u001B[38;5;241m=\u001B[39m eventstream\u001B[38;5;241m.\u001B[39mto_dataframe()\n\u001B[0;32m---> 50\u001B[0m positive_targets \u001B[38;5;241m=\u001B[39m \u001B[43mpositive_function\u001B[49m\u001B[43m(\u001B[49m\u001B[43meventstream\u001B[49m\u001B[43m,\u001B[49m\u001B[43m \u001B[49m\u001B[43mpositive_target_events\u001B[49m\u001B[43m)\u001B[49m\n\u001B[1;32m     51\u001B[0m positive_targets[type_col] \u001B[38;5;241m=\u001B[39m \u001B[38;5;124m'\u001B[39m\u001B[38;5;124mpositive_target\u001B[39m\u001B[38;5;124m'\u001B[39m\n\u001B[1;32m     52\u001B[0m positive_targets[event_col] \u001B[38;5;241m=\u001B[39m \u001B[38;5;124m'\u001B[39m\u001B[38;5;124mpositive_target_\u001B[39m\u001B[38;5;124m'\u001B[39m \u001B[38;5;241m+\u001B[39m positive_targets[event_col]\n",
      "\u001B[0;31mTypeError\u001B[0m: _default_func_positive() takes 2 positional arguments but 3 were given"
     ]
    }
   ],
   "source": [
    "from src.data_processors_lib.rete import PositiveTarget, PositiveTargetParams\n",
    "params = {\n",
    "    'positive_target_events': ['payment_done']\n",
    "}\n",
    "\n",
    "positive_targets = EventsNode(\n",
    "    PositiveTarget(params=PositiveTargetParams(**params)))\n",
    "\n",
    "graph.add_node(\n",
    "    node=positive_targets,\n",
    "    parents=[graph.root]\n",
    ")\n",
    "\n",
    "result = graph.combine(\n",
    "    node=positive_targets\n",
    ")\n",
    "result.to_dataframe().head(8)"
   ],
   "metadata": {
    "collapsed": false,
    "pycharm": {
     "name": "#%%\n"
    }
   }
  },
  {
   "cell_type": "code",
   "execution_count": 69,
   "outputs": [
    {
     "name": "stdout",
     "output_type": "stream",
     "text": [
      "0\n"
     ]
    },
    {
     "data": {
      "text/plain": "0"
     },
     "execution_count": 69,
     "metadata": {},
     "output_type": "execute_result"
    }
   ],
   "source": [
    "df6 = result.to_dataframe()\n",
    "print(source_df.duplicated(['event_name', 'event_timestamp', 'user_id']).sum())\n",
    "df6.duplicated(['event_name', 'event_timestamp', 'user_id']).sum()"
   ],
   "metadata": {
    "collapsed": false,
    "pycharm": {
     "name": "#%%\n"
    }
   }
  },
  {
   "cell_type": "code",
   "execution_count": null,
   "outputs": [],
   "source": [
    "df6['event_type'].value_counts()"
   ],
   "metadata": {
    "collapsed": false,
    "pycharm": {
     "name": "#%%\n"
    }
   }
  },
  {
   "cell_type": "code",
   "execution_count": null,
   "outputs": [],
   "source": [
    "source_df['event_type'].value_counts()"
   ],
   "metadata": {
    "collapsed": false,
    "pycharm": {
     "name": "#%%\n"
    }
   }
  },
  {
   "cell_type": "code",
   "execution_count": null,
   "outputs": [],
   "source": [
    "source_df[source_df['event_name'] == 'payment_done']['user_id'].nunique()"
   ],
   "metadata": {
    "collapsed": false,
    "pycharm": {
     "name": "#%%\n"
    }
   }
  },
  {
   "cell_type": "code",
   "execution_count": null,
   "outputs": [],
   "source": [
    "print(len(df6[df6['user_id'] == 629881394]))\n",
    "df6[df6['user_id'] == 629881394]"
   ],
   "metadata": {
    "collapsed": false,
    "pycharm": {
     "name": "#%%\n"
    }
   }
  },
  {
   "cell_type": "code",
   "execution_count": null,
   "outputs": [],
   "source": [
    "print(len(source_df[source_df['user_id'] == 629881394]))\n",
    "source_df[source_df['user_id'] == 629881394]"
   ],
   "metadata": {
    "collapsed": false,
    "pycharm": {
     "name": "#%%\n"
    }
   }
  },
  {
   "cell_type": "code",
   "execution_count": null,
   "outputs": [],
   "source": [
    "source_df[source_df['event_name'] == 'payment_done']"
   ],
   "metadata": {
    "collapsed": false,
    "pycharm": {
     "name": "#%%\n"
    }
   }
  },
  {
   "cell_type": "code",
   "execution_count": null,
   "outputs": [],
   "source": [],
   "metadata": {
    "collapsed": false,
    "pycharm": {
     "name": "#%%\n"
    }
   }
  },
  {
   "cell_type": "code",
   "execution_count": null,
   "outputs": [],
   "source": [],
   "metadata": {
    "collapsed": false,
    "pycharm": {
     "name": "#%%\n"
    }
   }
  },
  {
   "cell_type": "markdown",
   "source": [
    "### Результат"
   ],
   "metadata": {
    "collapsed": false,
    "pycharm": {
     "name": "#%% md\n"
    }
   }
  },
  {
   "cell_type": "markdown",
   "source": [
    "1) [Поправила] Дубликаты (Но из-за следующей ошибки еще не тестила)\n",
    "2) [Не работает] TypeError: _default_func_positive() takes 2 positional arguments but 3 were given\n",
    "3) [TODO] Нужен кейс по тестированию 2 событий\n",
    "4) [TODO] Нужен кейс по тестированию пользовательской функции"
   ],
   "metadata": {
    "collapsed": false,
    "pycharm": {
     "name": "#%% md\n"
    }
   }
  },
  {
   "cell_type": "code",
   "execution_count": null,
   "outputs": [],
   "source": [],
   "metadata": {
    "collapsed": false,
    "pycharm": {
     "name": "#%%\n"
    }
   }
  },
  {
   "cell_type": "code",
   "execution_count": null,
   "outputs": [],
   "source": [],
   "metadata": {
    "collapsed": false,
    "pycharm": {
     "name": "#%%\n"
    }
   }
  },
  {
   "cell_type": "markdown",
   "source": [
    "## NegativeTarget"
   ],
   "metadata": {
    "collapsed": false,
    "pycharm": {
     "name": "#%% md\n"
    }
   }
  },
  {
   "cell_type": "code",
   "execution_count": 70,
   "outputs": [
    {
     "ename": "TypeError",
     "evalue": "_default_func_negative() takes 2 positional arguments but 3 were given",
     "output_type": "error",
     "traceback": [
      "\u001B[0;31m---------------------------------------------------------------------------\u001B[0m",
      "\u001B[0;31mTypeError\u001B[0m                                 Traceback (most recent call last)",
      "Input \u001B[0;32mIn [70]\u001B[0m, in \u001B[0;36m<cell line: 14>\u001B[0;34m()\u001B[0m\n\u001B[1;32m      6\u001B[0m negative_targets \u001B[38;5;241m=\u001B[39m EventsNode(\n\u001B[1;32m      7\u001B[0m     NegativeTarget(params\u001B[38;5;241m=\u001B[39mNegativeTargetParams(\u001B[38;5;241m*\u001B[39m\u001B[38;5;241m*\u001B[39mparams)))\n\u001B[1;32m      9\u001B[0m graph\u001B[38;5;241m.\u001B[39madd_node(\n\u001B[1;32m     10\u001B[0m     node\u001B[38;5;241m=\u001B[39mnegative_targets,\n\u001B[1;32m     11\u001B[0m     parents\u001B[38;5;241m=\u001B[39m[graph\u001B[38;5;241m.\u001B[39mroot]\n\u001B[1;32m     12\u001B[0m )\n\u001B[0;32m---> 14\u001B[0m result \u001B[38;5;241m=\u001B[39m \u001B[43mgraph\u001B[49m\u001B[38;5;241;43m.\u001B[39;49m\u001B[43mcombine\u001B[49m\u001B[43m(\u001B[49m\n\u001B[1;32m     15\u001B[0m \u001B[43m    \u001B[49m\u001B[43mnode\u001B[49m\u001B[38;5;241;43m=\u001B[39;49m\u001B[43mnegative_targets\u001B[49m\n\u001B[1;32m     16\u001B[0m \u001B[43m)\u001B[49m\n",
      "File \u001B[0;32m~/Dev/Retentioneering/retentioneering-tools-new-arch/examples/../src/graph/p_graph.py:70\u001B[0m, in \u001B[0;36mPGraph.combine\u001B[0;34m(self, node)\u001B[0m\n\u001B[1;32m     67\u001B[0m     \u001B[38;5;28;01mreturn\u001B[39;00m node\u001B[38;5;241m.\u001B[39mevents\u001B[38;5;241m.\u001B[39mcopy()\n\u001B[1;32m     69\u001B[0m \u001B[38;5;28;01mif\u001B[39;00m \u001B[38;5;28misinstance\u001B[39m(node, EventsNode):\n\u001B[0;32m---> 70\u001B[0m     \u001B[38;5;28;01mreturn\u001B[39;00m \u001B[38;5;28;43mself\u001B[39;49m\u001B[38;5;241;43m.\u001B[39;49m\u001B[43mcombine_events_node\u001B[49m\u001B[43m(\u001B[49m\u001B[43mnode\u001B[49m\u001B[43m)\u001B[49m\n\u001B[1;32m     72\u001B[0m \u001B[38;5;28;01mreturn\u001B[39;00m \u001B[38;5;28mself\u001B[39m\u001B[38;5;241m.\u001B[39mcombine_merge_node(node)\n",
      "File \u001B[0;32m~/Dev/Retentioneering/retentioneering-tools-new-arch/examples/../src/graph/p_graph.py:77\u001B[0m, in \u001B[0;36mPGraph.combine_events_node\u001B[0;34m(self, node)\u001B[0m\n\u001B[1;32m     75\u001B[0m parent \u001B[38;5;241m=\u001B[39m \u001B[38;5;28mself\u001B[39m\u001B[38;5;241m.\u001B[39mget_events_node_parent(node)\n\u001B[1;32m     76\u001B[0m parent_events \u001B[38;5;241m=\u001B[39m \u001B[38;5;28mself\u001B[39m\u001B[38;5;241m.\u001B[39mcombine(parent)\n\u001B[0;32m---> 77\u001B[0m events \u001B[38;5;241m=\u001B[39m \u001B[43mnode\u001B[49m\u001B[38;5;241;43m.\u001B[39;49m\u001B[43mprocessor\u001B[49m\u001B[38;5;241;43m.\u001B[39;49m\u001B[43mapply\u001B[49m\u001B[43m(\u001B[49m\u001B[43mparent_events\u001B[49m\u001B[43m)\u001B[49m\n\u001B[1;32m     78\u001B[0m parent_events\u001B[38;5;241m.\u001B[39mjoin_eventstream(events)\n\u001B[1;32m     79\u001B[0m \u001B[38;5;66;03m# parent_events.append_eventstream(events)\u001B[39;00m\n",
      "File \u001B[0;32m~/Dev/Retentioneering/retentioneering-tools-new-arch/examples/../src/data_processors_lib/rete/negative_target.py:54\u001B[0m, in \u001B[0;36mNegativeTarget.apply\u001B[0;34m(self, eventstream)\u001B[0m\n\u001B[1;32m     50\u001B[0m negative_target_events \u001B[38;5;241m=\u001B[39m \u001B[38;5;28mself\u001B[39m\u001B[38;5;241m.\u001B[39mparams\u001B[38;5;241m.\u001B[39mnegative_target_events\n\u001B[1;32m     52\u001B[0m df \u001B[38;5;241m=\u001B[39m eventstream\u001B[38;5;241m.\u001B[39mto_dataframe()\n\u001B[0;32m---> 54\u001B[0m negative_targets \u001B[38;5;241m=\u001B[39m \u001B[43mnegative_function\u001B[49m\u001B[43m(\u001B[49m\u001B[43meventstream\u001B[49m\u001B[43m,\u001B[49m\u001B[43m \u001B[49m\u001B[43mnegative_target_events\u001B[49m\u001B[43m)\u001B[49m\n\u001B[1;32m     55\u001B[0m negative_targets[type_col] \u001B[38;5;241m=\u001B[39m \u001B[38;5;124m'\u001B[39m\u001B[38;5;124mnegative_target\u001B[39m\u001B[38;5;124m'\u001B[39m\n\u001B[1;32m     56\u001B[0m negative_targets[event_col] \u001B[38;5;241m=\u001B[39m \u001B[38;5;124m'\u001B[39m\u001B[38;5;124mnegative_target_\u001B[39m\u001B[38;5;124m'\u001B[39m \u001B[38;5;241m+\u001B[39m negative_targets[event_col]\n",
      "\u001B[0;31mTypeError\u001B[0m: _default_func_negative() takes 2 positional arguments but 3 were given"
     ]
    }
   ],
   "source": [
    "from src.data_processors_lib.rete import NegativeTarget, NegativeTargetParams\n",
    "params = {\n",
    "    'negative_target_events': ['payment_cash']\n",
    "}\n",
    "\n",
    "negative_targets = EventsNode(\n",
    "    NegativeTarget(params=NegativeTargetParams(**params)))\n",
    "\n",
    "graph.add_node(\n",
    "    node=negative_targets,\n",
    "    parents=[graph.root]\n",
    ")\n",
    "\n",
    "result = graph.combine(\n",
    "    node=negative_targets\n",
    ")\n"
   ],
   "metadata": {
    "collapsed": false,
    "pycharm": {
     "name": "#%%\n"
    }
   }
  },
  {
   "cell_type": "code",
   "execution_count": 71,
   "outputs": [
    {
     "name": "stdout",
     "output_type": "stream",
     "text": [
      "0\n"
     ]
    },
    {
     "data": {
      "text/plain": "0"
     },
     "execution_count": 71,
     "metadata": {},
     "output_type": "execute_result"
    }
   ],
   "source": [
    "df7 = result.to_dataframe()\n",
    "print(source_df.duplicated(['event_name', 'event_timestamp', 'user_id']).sum())\n",
    "df6.duplicated(['event_name', 'event_timestamp', 'user_id']).sum()"
   ],
   "metadata": {
    "collapsed": false,
    "pycharm": {
     "name": "#%%\n"
    }
   }
  },
  {
   "cell_type": "code",
   "execution_count": null,
   "outputs": [],
   "source": [
    "df7['event_type'].value_counts()"
   ],
   "metadata": {
    "collapsed": false,
    "pycharm": {
     "name": "#%%\n"
    }
   }
  },
  {
   "cell_type": "code",
   "execution_count": null,
   "outputs": [],
   "source": [
    "source_df['event_type'].value_counts()"
   ],
   "metadata": {
    "collapsed": false,
    "pycharm": {
     "name": "#%%\n"
    }
   }
  },
  {
   "cell_type": "code",
   "execution_count": null,
   "outputs": [],
   "source": [
    "source_df[source_df['event_name'] == 'payment_cash']['user_id'].nunique()"
   ],
   "metadata": {
    "collapsed": false,
    "pycharm": {
     "name": "#%%\n"
    }
   }
  },
  {
   "cell_type": "code",
   "execution_count": null,
   "outputs": [],
   "source": [
    "print(len(df7[df7['user_id'] == 629881394]))\n",
    "df7[df7['user_id'] == 629881394]"
   ],
   "metadata": {
    "collapsed": false,
    "pycharm": {
     "name": "#%%\n"
    }
   }
  },
  {
   "cell_type": "code",
   "execution_count": null,
   "outputs": [],
   "source": [
    "print(len(source_df[source_df['user_id'] == 629881394]))\n",
    "source_df[source_df['user_id'] == 629881394]"
   ],
   "metadata": {
    "collapsed": false,
    "pycharm": {
     "name": "#%%\n"
    }
   }
  },
  {
   "cell_type": "code",
   "execution_count": null,
   "outputs": [],
   "source": [
    "source_df[source_df['event_name'] == 'payment_cash']"
   ],
   "metadata": {
    "collapsed": false,
    "pycharm": {
     "name": "#%%\n"
    }
   }
  },
  {
   "cell_type": "code",
   "execution_count": null,
   "outputs": [],
   "source": [],
   "metadata": {
    "collapsed": false,
    "pycharm": {
     "name": "#%%\n"
    }
   }
  },
  {
   "cell_type": "code",
   "execution_count": null,
   "outputs": [],
   "source": [],
   "metadata": {
    "collapsed": false,
    "pycharm": {
     "name": "#%%\n"
    }
   }
  },
  {
   "cell_type": "code",
   "execution_count": null,
   "outputs": [],
   "source": [],
   "metadata": {
    "collapsed": false,
    "pycharm": {
     "name": "#%%\n"
    }
   }
  },
  {
   "cell_type": "code",
   "execution_count": null,
   "outputs": [],
   "source": [],
   "metadata": {
    "collapsed": false,
    "pycharm": {
     "name": "#%%\n"
    }
   }
  },
  {
   "cell_type": "markdown",
   "source": [
    "### Результат"
   ],
   "metadata": {
    "collapsed": false,
    "pycharm": {
     "name": "#%% md\n"
    }
   }
  },
  {
   "cell_type": "markdown",
   "source": [
    "1) [Поправила] Дубликаты (Но из-за следующей ошибки еще не тестила)\n",
    "2) [Не работает] TypeError: _default_func_negative() takes 2 positional arguments but 3 were given\n",
    "3) [TODO] Нужен кейс по тестированию 2 событий\n",
    "4) [TODO] Нужен кейс по тестированию пользовательской функции"
   ],
   "metadata": {
    "collapsed": false,
    "pycharm": {
     "name": "#%% md\n"
    }
   }
  },
  {
   "cell_type": "markdown",
   "source": [
    "## CutPathAfter"
   ],
   "metadata": {
    "collapsed": false,
    "pycharm": {
     "name": "#%% md\n"
    }
   }
  },
  {
   "cell_type": "code",
   "execution_count": null,
   "outputs": [],
   "source": [
    "from src.data_processors_lib.rete import CutPathAfterEvent, CutPathAfterEventParams\n",
    "params = {\n",
    "    'cutoff_events': ['payment_done'],\n",
    "    'cut_shift': 0,\n",
    "    'min_cjm': 0\n",
    "}\n",
    "\n",
    "cut_after = EventsNode(\n",
    "    CutPathAfterEvent(params=CutPathAfterEventParams(**params)))\n",
    "\n",
    "graph.add_node(\n",
    "    node=cut_after,\n",
    "    parents=[graph.root]\n",
    ")\n",
    "\n",
    "result = graph.combine(\n",
    "    node=cut_after\n",
    ")\n"
   ],
   "metadata": {
    "collapsed": false,
    "pycharm": {
     "name": "#%%\n"
    }
   }
  },
  {
   "cell_type": "code",
   "execution_count": null,
   "outputs": [],
   "source": [
    "df8 = result.to_dataframe()\n",
    "print(source_df.duplicated(['event_name', 'event_timestamp', 'user_id']).sum())\n",
    "df8.duplicated(['event_name', 'event_timestamp', 'user_id']).sum()"
   ],
   "metadata": {
    "collapsed": false,
    "pycharm": {
     "name": "#%%\n"
    }
   }
  },
  {
   "cell_type": "code",
   "execution_count": null,
   "outputs": [],
   "source": [
    "df8['event_type'].value_counts()"
   ],
   "metadata": {
    "collapsed": false,
    "pycharm": {
     "name": "#%%\n"
    }
   }
  },
  {
   "cell_type": "code",
   "execution_count": null,
   "outputs": [],
   "source": [
    "source_df['event_type'].value_counts()"
   ],
   "metadata": {
    "collapsed": false,
    "pycharm": {
     "name": "#%%\n"
    }
   }
  },
  {
   "cell_type": "code",
   "execution_count": null,
   "outputs": [],
   "source": [
    "source_df[source_df['event_name'] == 'payment_cash']['user_id'].nunique()"
   ],
   "metadata": {
    "collapsed": false,
    "pycharm": {
     "name": "#%%\n"
    }
   }
  },
  {
   "cell_type": "code",
   "execution_count": null,
   "outputs": [],
   "source": [
    "print(len(df8[df8['user_id'] == 629881394]))\n",
    "df8[df8['user_id'] == 629881394]"
   ],
   "metadata": {
    "collapsed": false,
    "pycharm": {
     "name": "#%%\n"
    }
   }
  },
  {
   "cell_type": "code",
   "execution_count": null,
   "outputs": [],
   "source": [
    "print(len(source_df[source_df['user_id'] == 629881394]))\n",
    "source_df[source_df['user_id'] == 629881394]"
   ],
   "metadata": {
    "collapsed": false,
    "pycharm": {
     "name": "#%%\n"
    }
   }
  },
  {
   "cell_type": "code",
   "execution_count": null,
   "outputs": [],
   "source": [
    "source_df[source_df['event_name'] == 'payment_cash']"
   ],
   "metadata": {
    "collapsed": false,
    "pycharm": {
     "name": "#%%\n"
    }
   }
  },
  {
   "cell_type": "code",
   "execution_count": null,
   "outputs": [],
   "source": [],
   "metadata": {
    "collapsed": false,
    "pycharm": {
     "name": "#%%\n"
    }
   }
  },
  {
   "cell_type": "code",
   "execution_count": null,
   "outputs": [],
   "source": [],
   "metadata": {
    "collapsed": false,
    "pycharm": {
     "name": "#%%\n"
    }
   }
  },
  {
   "cell_type": "markdown",
   "source": [
    "### Результат"
   ],
   "metadata": {
    "collapsed": false,
    "pycharm": {
     "name": "#%% md\n"
    }
   }
  },
  {
   "cell_type": "markdown",
   "source": [
    "1) Ворнинги при отработке функции\n",
    "2) Не работает"
   ],
   "metadata": {
    "collapsed": false,
    "pycharm": {
     "name": "#%% md\n"
    }
   }
  },
  {
   "cell_type": "code",
   "execution_count": null,
   "outputs": [],
   "source": [],
   "metadata": {
    "collapsed": false,
    "pycharm": {
     "name": "#%%\n"
    }
   }
  },
  {
   "cell_type": "code",
   "execution_count": null,
   "outputs": [],
   "source": [],
   "metadata": {
    "collapsed": false,
    "pycharm": {
     "name": "#%%\n"
    }
   }
  },
  {
   "cell_type": "markdown",
   "source": [
    "## CutPathBefore"
   ],
   "metadata": {
    "collapsed": false,
    "pycharm": {
     "name": "#%% md\n"
    }
   }
  },
  {
   "cell_type": "code",
   "execution_count": null,
   "outputs": [],
   "source": [],
   "metadata": {
    "collapsed": false,
    "pycharm": {
     "name": "#%%\n"
    }
   }
  },
  {
   "cell_type": "code",
   "execution_count": null,
   "outputs": [],
   "source": [
    "from src.data_processors_lib.rete import CutPathBeforeEvent, CutPathBeforeEventParams\n",
    "params = {\n",
    "    'cutoff_events': ['product2'],\n",
    "    'cut_shift': 0,\n",
    "    'min_cjm': 0\n",
    "}\n",
    "\n",
    "cut_before = EventsNode(\n",
    "    CutPathAfterEvent(params=CutPathAfterEventParams(**params)))\n",
    "\n",
    "graph.add_node(\n",
    "    node=cut_before,\n",
    "    parents=[graph.root]\n",
    ")\n",
    "\n",
    "result = graph.combine(\n",
    "    node=cut_before\n",
    ")\n"
   ],
   "metadata": {
    "collapsed": false,
    "pycharm": {
     "name": "#%%\n"
    }
   }
  },
  {
   "cell_type": "code",
   "execution_count": null,
   "outputs": [],
   "source": [
    "df9 = result.to_dataframe()\n",
    "print(source_df.duplicated(['event_name', 'event_timestamp', 'user_id']).sum())\n",
    "df9.duplicated(['event_name', 'event_timestamp', 'user_id']).sum()"
   ],
   "metadata": {
    "collapsed": false,
    "pycharm": {
     "name": "#%%\n"
    }
   }
  },
  {
   "cell_type": "code",
   "execution_count": null,
   "outputs": [],
   "source": [
    "df9['event_type'].value_counts()"
   ],
   "metadata": {
    "collapsed": false,
    "pycharm": {
     "name": "#%%\n"
    }
   }
  },
  {
   "cell_type": "code",
   "execution_count": null,
   "outputs": [],
   "source": [
    "source_df['event_type'].value_counts()"
   ],
   "metadata": {
    "collapsed": false,
    "pycharm": {
     "name": "#%%\n"
    }
   }
  },
  {
   "cell_type": "code",
   "execution_count": null,
   "outputs": [],
   "source": [
    "source_df[source_df['event_name'] == 'payment_cash']['user_id'].nunique()"
   ],
   "metadata": {
    "collapsed": false,
    "pycharm": {
     "name": "#%%\n"
    }
   }
  },
  {
   "cell_type": "code",
   "execution_count": null,
   "outputs": [],
   "source": [
    "print(len(df9[df9['user_id'] == 629881394]))\n",
    "df9[df9['user_id'] == 629881394]"
   ],
   "metadata": {
    "collapsed": false,
    "pycharm": {
     "name": "#%%\n"
    }
   }
  },
  {
   "cell_type": "code",
   "execution_count": null,
   "outputs": [],
   "source": [
    "print(len(source_df[source_df['user_id'] == 629881394]))\n",
    "source_df[source_df['user_id'] == 629881394]"
   ],
   "metadata": {
    "collapsed": false,
    "pycharm": {
     "name": "#%%\n"
    }
   }
  },
  {
   "cell_type": "code",
   "execution_count": null,
   "outputs": [],
   "source": [
    "source_df[source_df['event_name'] == 'payment_cash']"
   ],
   "metadata": {
    "collapsed": false,
    "pycharm": {
     "name": "#%%\n"
    }
   }
  },
  {
   "cell_type": "code",
   "execution_count": null,
   "outputs": [],
   "source": [],
   "metadata": {
    "collapsed": false,
    "pycharm": {
     "name": "#%%\n"
    }
   }
  },
  {
   "cell_type": "markdown",
   "source": [
    "### Результаты"
   ],
   "metadata": {
    "collapsed": false,
    "pycharm": {
     "name": "#%% md\n"
    }
   }
  },
  {
   "cell_type": "markdown",
   "source": [
    "1) ВОрнинги\n",
    "2) Не работает"
   ],
   "metadata": {
    "collapsed": false,
    "pycharm": {
     "name": "#%% md\n"
    }
   }
  },
  {
   "cell_type": "markdown",
   "source": [
    "## SplitSessions"
   ],
   "metadata": {
    "collapsed": false,
    "pycharm": {
     "name": "#%% md\n"
    }
   }
  },
  {
   "cell_type": "code",
   "execution_count": null,
   "outputs": [],
   "source": [
    "from src.data_processors_lib.rete import SplitSessions, SplitSessionsParams\n",
    "params = {\n",
    "    'session_cutoff': (3000, 's'),\n",
    "    'mark_truncated': True,\n",
    "    'session_col': 'session_id'\n",
    "}\n",
    "\n",
    "split_sessions = EventsNode(\n",
    "    SplitSessions(params=SplitSessionsParams(**params)))\n",
    "\n",
    "graph.add_node(\n",
    "    node=split_sessions,\n",
    "    parents=[graph.root]\n",
    ")\n",
    "\n",
    "result = graph.combine(\n",
    "    node=split_sessions\n",
    ")\n"
   ],
   "metadata": {
    "collapsed": false,
    "pycharm": {
     "name": "#%%\n"
    }
   }
  },
  {
   "cell_type": "code",
   "execution_count": null,
   "outputs": [],
   "source": [
    "df10 = result.to_dataframe()\n",
    "print(source_df.duplicated(['event_name', 'event_timestamp', 'user_id']).sum())\n",
    "df10.duplicated(['event_name', 'event_timestamp', 'user_id']).sum()"
   ],
   "metadata": {
    "collapsed": false,
    "pycharm": {
     "name": "#%%\n"
    }
   }
  },
  {
   "cell_type": "code",
   "execution_count": null,
   "outputs": [],
   "source": [
    "df10['event_type'].value_counts()"
   ],
   "metadata": {
    "collapsed": false,
    "pycharm": {
     "name": "#%%\n"
    }
   }
  },
  {
   "cell_type": "code",
   "execution_count": null,
   "outputs": [],
   "source": [
    "source_df['event_type'].value_counts()"
   ],
   "metadata": {
    "collapsed": false,
    "pycharm": {
     "name": "#%%\n"
    }
   }
  },
  {
   "cell_type": "code",
   "execution_count": null,
   "outputs": [],
   "source": [
    "source_df[source_df['event_name'] == 'payment_cash']['user_id'].nunique()"
   ],
   "metadata": {
    "collapsed": false,
    "pycharm": {
     "name": "#%%\n"
    }
   }
  },
  {
   "cell_type": "code",
   "execution_count": null,
   "outputs": [],
   "source": [
    "print(len(df10[df10['user_id'] == 629881394]))\n",
    "df10[df10['user_id'] == 629881394]"
   ],
   "metadata": {
    "collapsed": false,
    "pycharm": {
     "name": "#%%\n"
    }
   }
  },
  {
   "cell_type": "code",
   "execution_count": null,
   "outputs": [],
   "source": [
    "print(len(source_df[source_df['user_id'] == 629881394]))\n",
    "source_df[source_df['user_id'] == 629881394]"
   ],
   "metadata": {
    "collapsed": false,
    "pycharm": {
     "name": "#%%\n"
    }
   }
  },
  {
   "cell_type": "code",
   "execution_count": null,
   "outputs": [],
   "source": [
    "source_df[source_df['event_name'] == 'payment_cash']"
   ],
   "metadata": {
    "collapsed": false,
    "pycharm": {
     "name": "#%%\n"
    }
   }
  },
  {
   "cell_type": "code",
   "execution_count": null,
   "outputs": [],
   "source": [],
   "metadata": {
    "collapsed": false,
    "pycharm": {
     "name": "#%%\n"
    }
   }
  },
  {
   "cell_type": "code",
   "execution_count": null,
   "outputs": [],
   "source": [],
   "metadata": {
    "collapsed": false,
    "pycharm": {
     "name": "#%%\n"
    }
   }
  },
  {
   "cell_type": "markdown",
   "source": [
    "### Результат"
   ],
   "metadata": {
    "collapsed": false,
    "pycharm": {
     "name": "#%% md\n"
    }
   }
  },
  {
   "cell_type": "markdown",
   "source": [],
   "metadata": {
    "collapsed": false,
    "pycharm": {
     "name": "#%% md\n"
    }
   }
  },
  {
   "cell_type": "code",
   "execution_count": null,
   "outputs": [],
   "source": [],
   "metadata": {
    "collapsed": false,
    "pycharm": {
     "name": "#%%\n"
    }
   }
  },
  {
   "cell_type": "markdown",
   "source": [
    "## Grouping"
   ],
   "metadata": {
    "collapsed": false,
    "pycharm": {
     "name": "#%% md\n"
    }
   }
  },
  {
   "cell_type": "code",
   "execution_count": null,
   "id": "3ef8ffde-356b-4122-96db-aac66289b925",
   "metadata": {
    "pycharm": {
     "name": "#%%\n"
    }
   },
   "outputs": [],
   "source": [
    "from src.data_processors_lib.simple_processors import SimpleGroup\n",
    "\n",
    "cart_events = EventsNode(\n",
    "    SimpleGroup({\n",
    "        \"event_name\": \"add_to_cart\",\n",
    "        \"filter\": lambda df, schema: df[schema.event_name].isin([\"cart\"]),\n",
    "    })\n",
    ")\n",
    "graph.add_node(\n",
    "    node=cart_events,\n",
    "    parents=[graph.root]\n",
    ")"
   ]
  },
  {
   "cell_type": "code",
   "execution_count": null,
   "outputs": [],
   "source": [],
   "metadata": {
    "collapsed": false,
    "pycharm": {
     "name": "#%%\n"
    }
   }
  },
  {
   "cell_type": "code",
   "execution_count": null,
   "outputs": [],
   "source": [],
   "metadata": {
    "collapsed": false,
    "pycharm": {
     "name": "#%%\n"
    }
   }
  },
  {
   "cell_type": "code",
   "execution_count": null,
   "outputs": [],
   "source": [],
   "metadata": {
    "collapsed": false,
    "pycharm": {
     "name": "#%%\n"
    }
   }
  },
  {
   "cell_type": "code",
   "execution_count": null,
   "outputs": [],
   "source": [],
   "metadata": {
    "collapsed": false,
    "pycharm": {
     "name": "#%%\n"
    }
   }
  },
  {
   "cell_type": "code",
   "execution_count": null,
   "outputs": [],
   "source": [],
   "metadata": {
    "collapsed": false,
    "pycharm": {
     "name": "#%%\n"
    }
   }
  },
  {
   "cell_type": "code",
   "execution_count": null,
   "outputs": [],
   "source": [],
   "metadata": {
    "collapsed": false,
    "pycharm": {
     "name": "#%%\n"
    }
   }
  },
  {
   "cell_type": "code",
   "execution_count": null,
   "id": "cfb34890-afca-497a-a308-9b12b511920a",
   "metadata": {
    "pycharm": {
     "name": "#%%\n"
    }
   },
   "outputs": [],
   "source": []
  }
 ],
 "metadata": {
  "kernelspec": {
   "display_name": "Python 3 (ipykernel)",
   "language": "python",
   "name": "python3"
  },
  "language_info": {
   "codemirror_mode": {
    "name": "ipython",
    "version": 3
   },
   "file_extension": ".py",
   "mimetype": "text/x-python",
   "name": "python",
   "nbconvert_exporter": "python",
   "pygments_lexer": "ipython3",
   "version": "3.8.10"
  }
 },
 "nbformat": 4,
 "nbformat_minor": 5
}