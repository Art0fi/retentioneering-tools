{
 "cells": [
  {
   "cell_type": "code",
   "execution_count": 1,
   "id": "597ffbc8-15f0-4702-91c7-0586f52fd3f3",
   "metadata": {
    "pycharm": {
     "name": "#%%\n"
    }
   },
   "outputs": [],
   "source": [
    "# path = '/home/dpanina/share/rete_tools/examples/'\n",
    "# path = '/Users/Daria/Dev/Retentioneering/retentioneering-tools-new-arch/'"
   ]
  },
  {
   "cell_type": "code",
   "execution_count": 1,
   "id": "3df56cd0-429b-4027-82dd-69fb29456a22",
   "metadata": {
    "pycharm": {
     "name": "#%%\n"
    }
   },
   "outputs": [],
   "source": [
    "import sys\n",
    "# # sys.path.insert(0, '/home/dpanina/retentioneering-tools-new-arch/')\n",
    "#\n",
    "sys.path.insert(0, '..')"
   ]
  },
  {
   "cell_type": "markdown",
   "source": [
    "# Инициация графа"
   ],
   "metadata": {
    "collapsed": false,
    "pycharm": {
     "name": "#%% md\n"
    }
   }
  },
  {
   "cell_type": "code",
   "execution_count": 2,
   "id": "a8390b4d-ac4a-4b66-960b-915ded3e4037",
   "metadata": {
    "pycharm": {
     "name": "#%%\n"
    }
   },
   "outputs": [],
   "source": [
    "import pandas as pd\n",
    "\n",
    "from src.eventstream.eventstream import Eventstream\n",
    "from src.eventstream.schema import RawDataSchema, EventstreamSchema\n",
    "from src.graph.p_graph import PGraph, EventsNode\n",
    "\n",
    "raw_data = pd.read_csv( 'simple-onlineshop.csv')\n",
    "\n",
    "raw_data_schema = RawDataSchema(\n",
    "                            event_name=\"event\", \n",
    "                            event_timestamp=\"timestamp\", \n",
    "                            user_id=\"user_id\")\n",
    "\n",
    "source = Eventstream(\n",
    "    raw_data=raw_data,\n",
    "    raw_data_schema=raw_data_schema,\n",
    "    schema=EventstreamSchema()\n",
    ")\n",
    "\n",
    "graph = PGraph(source_stream=source)\n"
   ]
  },
  {
   "cell_type": "code",
   "execution_count": 3,
   "id": "ab3f2193-2feb-47ba-bd67-fc312559055d",
   "metadata": {
    "pycharm": {
     "name": "#%%\n"
    }
   },
   "outputs": [
    {
     "data": {
      "text/plain": "RawDataSchema(event_name='event', event_timestamp='timestamp', user_id='user_id', event_type=None, custom_cols=[])"
     },
     "execution_count": 3,
     "metadata": {},
     "output_type": "execute_result"
    }
   ],
   "source": [
    "raw_data_schema"
   ]
  },
  {
   "cell_type": "code",
   "execution_count": 4,
   "id": "03c31511-5ac8-4c25-ae0a-999e8e543683",
   "metadata": {
    "pycharm": {
     "name": "#%%\n"
    }
   },
   "outputs": [
    {
     "data": {
      "text/plain": "     user_id            event                   timestamp\n0  219483890          catalog  2019-11-01 17:59:13.273932\n1  219483890         product1  2019-11-01 17:59:28.459271\n2  219483890             cart  2019-11-01 17:59:29.502214\n3  219483890          catalog  2019-11-01 17:59:32.557029\n4  964964743          catalog  2019-11-01 21:38:19.283663\n5  964964743             cart  2019-11-01 21:38:36.761221\n6  964964743  delivery_choice  2019-11-01 21:38:37.564693\n7  629881394             main  2019-11-01 22:28:54.791683",
      "text/html": "<div>\n<style scoped>\n    .dataframe tbody tr th:only-of-type {\n        vertical-align: middle;\n    }\n\n    .dataframe tbody tr th {\n        vertical-align: top;\n    }\n\n    .dataframe thead th {\n        text-align: right;\n    }\n</style>\n<table border=\"1\" class=\"dataframe\">\n  <thead>\n    <tr style=\"text-align: right;\">\n      <th></th>\n      <th>user_id</th>\n      <th>event</th>\n      <th>timestamp</th>\n    </tr>\n  </thead>\n  <tbody>\n    <tr>\n      <th>0</th>\n      <td>219483890</td>\n      <td>catalog</td>\n      <td>2019-11-01 17:59:13.273932</td>\n    </tr>\n    <tr>\n      <th>1</th>\n      <td>219483890</td>\n      <td>product1</td>\n      <td>2019-11-01 17:59:28.459271</td>\n    </tr>\n    <tr>\n      <th>2</th>\n      <td>219483890</td>\n      <td>cart</td>\n      <td>2019-11-01 17:59:29.502214</td>\n    </tr>\n    <tr>\n      <th>3</th>\n      <td>219483890</td>\n      <td>catalog</td>\n      <td>2019-11-01 17:59:32.557029</td>\n    </tr>\n    <tr>\n      <th>4</th>\n      <td>964964743</td>\n      <td>catalog</td>\n      <td>2019-11-01 21:38:19.283663</td>\n    </tr>\n    <tr>\n      <th>5</th>\n      <td>964964743</td>\n      <td>cart</td>\n      <td>2019-11-01 21:38:36.761221</td>\n    </tr>\n    <tr>\n      <th>6</th>\n      <td>964964743</td>\n      <td>delivery_choice</td>\n      <td>2019-11-01 21:38:37.564693</td>\n    </tr>\n    <tr>\n      <th>7</th>\n      <td>629881394</td>\n      <td>main</td>\n      <td>2019-11-01 22:28:54.791683</td>\n    </tr>\n  </tbody>\n</table>\n</div>"
     },
     "execution_count": 4,
     "metadata": {},
     "output_type": "execute_result"
    }
   ],
   "source": [
    "raw_data.head(8)"
   ]
  },
  {
   "cell_type": "code",
   "execution_count": 5,
   "outputs": [
    {
     "data": {
      "text/plain": "                               event_id event_type  event_index  \\\n0  217e0c97-fa1e-4b07-b26d-bf63f59c3aef        raw            0   \n1  ddf423f0-2cd8-4897-bbb4-ed37662dac3d        raw            1   \n2  a2fd316a-7479-4281-8c4b-b20381ffe03d        raw            2   \n3  c77bc89d-5029-43b2-8251-8473a6946e69        raw            3   \n4  d40bf9df-2d1c-4aa3-a803-192e16b8a016        raw            4   \n5  dbfc2883-4ed1-404f-84a1-8c5b390926c5        raw            5   \n6  8b1cd3d3-4d88-4dec-b278-6c22d5beed9e        raw            6   \n7  0658536e-424a-4810-8636-d8f385cbb851        raw            7   \n\n        event_name            event_timestamp    user_id  \n0          catalog 2019-11-01 17:59:13.273932  219483890  \n1         product1 2019-11-01 17:59:28.459271  219483890  \n2             cart 2019-11-01 17:59:29.502214  219483890  \n3          catalog 2019-11-01 17:59:32.557029  219483890  \n4          catalog 2019-11-01 21:38:19.283663  964964743  \n5             cart 2019-11-01 21:38:36.761221  964964743  \n6  delivery_choice 2019-11-01 21:38:37.564693  964964743  \n7             main 2019-11-01 22:28:54.791683  629881394  ",
      "text/html": "<div>\n<style scoped>\n    .dataframe tbody tr th:only-of-type {\n        vertical-align: middle;\n    }\n\n    .dataframe tbody tr th {\n        vertical-align: top;\n    }\n\n    .dataframe thead th {\n        text-align: right;\n    }\n</style>\n<table border=\"1\" class=\"dataframe\">\n  <thead>\n    <tr style=\"text-align: right;\">\n      <th></th>\n      <th>event_id</th>\n      <th>event_type</th>\n      <th>event_index</th>\n      <th>event_name</th>\n      <th>event_timestamp</th>\n      <th>user_id</th>\n    </tr>\n  </thead>\n  <tbody>\n    <tr>\n      <th>0</th>\n      <td>217e0c97-fa1e-4b07-b26d-bf63f59c3aef</td>\n      <td>raw</td>\n      <td>0</td>\n      <td>catalog</td>\n      <td>2019-11-01 17:59:13.273932</td>\n      <td>219483890</td>\n    </tr>\n    <tr>\n      <th>1</th>\n      <td>ddf423f0-2cd8-4897-bbb4-ed37662dac3d</td>\n      <td>raw</td>\n      <td>1</td>\n      <td>product1</td>\n      <td>2019-11-01 17:59:28.459271</td>\n      <td>219483890</td>\n    </tr>\n    <tr>\n      <th>2</th>\n      <td>a2fd316a-7479-4281-8c4b-b20381ffe03d</td>\n      <td>raw</td>\n      <td>2</td>\n      <td>cart</td>\n      <td>2019-11-01 17:59:29.502214</td>\n      <td>219483890</td>\n    </tr>\n    <tr>\n      <th>3</th>\n      <td>c77bc89d-5029-43b2-8251-8473a6946e69</td>\n      <td>raw</td>\n      <td>3</td>\n      <td>catalog</td>\n      <td>2019-11-01 17:59:32.557029</td>\n      <td>219483890</td>\n    </tr>\n    <tr>\n      <th>4</th>\n      <td>d40bf9df-2d1c-4aa3-a803-192e16b8a016</td>\n      <td>raw</td>\n      <td>4</td>\n      <td>catalog</td>\n      <td>2019-11-01 21:38:19.283663</td>\n      <td>964964743</td>\n    </tr>\n    <tr>\n      <th>5</th>\n      <td>dbfc2883-4ed1-404f-84a1-8c5b390926c5</td>\n      <td>raw</td>\n      <td>5</td>\n      <td>cart</td>\n      <td>2019-11-01 21:38:36.761221</td>\n      <td>964964743</td>\n    </tr>\n    <tr>\n      <th>6</th>\n      <td>8b1cd3d3-4d88-4dec-b278-6c22d5beed9e</td>\n      <td>raw</td>\n      <td>6</td>\n      <td>delivery_choice</td>\n      <td>2019-11-01 21:38:37.564693</td>\n      <td>964964743</td>\n    </tr>\n    <tr>\n      <th>7</th>\n      <td>0658536e-424a-4810-8636-d8f385cbb851</td>\n      <td>raw</td>\n      <td>7</td>\n      <td>main</td>\n      <td>2019-11-01 22:28:54.791683</td>\n      <td>629881394</td>\n    </tr>\n  </tbody>\n</table>\n</div>"
     },
     "execution_count": 5,
     "metadata": {},
     "output_type": "execute_result"
    }
   ],
   "source": [
    "source.to_dataframe().head(8)"
   ],
   "metadata": {
    "collapsed": false,
    "pycharm": {
     "name": "#%%\n"
    }
   }
  },
  {
   "cell_type": "code",
   "execution_count": 6,
   "outputs": [],
   "source": [
    "source_df = source.to_dataframe()"
   ],
   "metadata": {
    "collapsed": false,
    "pycharm": {
     "name": "#%%\n"
    }
   }
  },
  {
   "cell_type": "code",
   "execution_count": 7,
   "outputs": [
    {
     "name": "stdout",
     "output_type": "stream",
     "text": [
      "<class 'pandas.core.frame.DataFrame'>\n",
      "Int64Index: 35381 entries, 0 to 35380\n",
      "Data columns (total 6 columns):\n",
      " #   Column           Non-Null Count  Dtype         \n",
      "---  ------           --------------  -----         \n",
      " 0   event_id         35381 non-null  object        \n",
      " 1   event_type       35381 non-null  object        \n",
      " 2   event_index      35381 non-null  int64         \n",
      " 3   event_name       35381 non-null  object        \n",
      " 4   event_timestamp  35381 non-null  datetime64[ns]\n",
      " 5   user_id          35381 non-null  int64         \n",
      "dtypes: datetime64[ns](1), int64(2), object(3)\n",
      "memory usage: 1.9+ MB\n"
     ]
    }
   ],
   "source": [
    "source_df.info()"
   ],
   "metadata": {
    "collapsed": false,
    "pycharm": {
     "name": "#%%\n"
    }
   }
  },
  {
   "cell_type": "markdown",
   "source": [
    "## Результат - общие вопросы"
   ],
   "metadata": {
    "collapsed": false,
    "pycharm": {
     "name": "#%% md\n"
    }
   }
  },
  {
   "cell_type": "markdown",
   "source": [
    "1) Конструкция вызовов довольно тяжеловесная, на каждую функцию надо вызвать 2 импорта, задать 2 инстанса и передать параметры словарем. Для аналитиков выглядит не слишком удобно\n",
    "\n",
    "2)  get_parents() - выдача не оч информативная, есть сейчас возможность посмотреть, какие ноды до текущей?     - [<src.graph.p_graph.EventsNode at 0x7f3892298160>]\n",
    "\n",
    "3) Можем ли задавать эту схему типов при создании eventstream?"
   ],
   "metadata": {
    "collapsed": false,
    "pycharm": {
     "name": "#%% md\n"
    }
   }
  },
  {
   "cell_type": "markdown",
   "id": "971a15e0-cf10-43b0-ae6e-1285b21b9c7b",
   "metadata": {
    "pycharm": {
     "name": "#%% md\n"
    }
   },
   "source": [
    " # Добавление синтетических событий"
   ]
  },
  {
   "cell_type": "markdown",
   "source": [
    "## StartEnd"
   ],
   "metadata": {
    "collapsed": false,
    "pycharm": {
     "name": "#%% md\n"
    }
   }
  },
  {
   "cell_type": "markdown",
   "source": [
    "### Описание работы функции"
   ],
   "metadata": {
    "collapsed": false,
    "pycharm": {
     "name": "#%% md\n"
    }
   }
  },
  {
   "cell_type": "markdown",
   "source": [
    "Для каждого пользователя добавляются события\n",
    "```event_type = start, event = start, timestamp = timestamp(first_event)```\n",
    "```event_type = end, event = end, timestamp = timestamp(end_event)```"
   ],
   "metadata": {
    "collapsed": false,
    "pycharm": {
     "name": "#%% md\n"
    }
   }
  },
  {
   "cell_type": "code",
   "execution_count": 9,
   "id": "da0ec4ab-309b-4144-93c6-613300ee3bc7",
   "metadata": {
    "pycharm": {
     "name": "#%%\n"
    }
   },
   "outputs": [],
   "source": [
    "from src.data_processors_lib.rete import StartEndEvents, StartEndEventsParams"
   ]
  },
  {
   "cell_type": "code",
   "execution_count": 10,
   "id": "5e8d665b-b917-4b8e-8da0-42eee854ccd4",
   "metadata": {
    "pycharm": {
     "name": "#%%\n"
    }
   },
   "outputs": [
    {
     "data": {
      "text/plain": "                               event_id event_type  event_index event_name  \\\n0  471f400b-1451-4d93-b66c-9909e00751e6      start            0      start   \n1  ee8dc3b4-53f8-4f26-84a7-9a3d4b24dd2d        raw            1    catalog   \n2  73126e06-f817-470e-a397-0cf844023720        raw            2   product1   \n3  11bf77c7-7fd8-4b6d-a3aa-89bc8f833c4e        raw            3       cart   \n4  c633b530-c6f7-4e88-aca1-4b8ac61e0ced        raw            4    catalog   \n5  b62f26b4-8d12-448f-994e-42748ffc1b7a      start            5      start   \n6  1dd47e39-bcd0-4a11-9970-66c3ddaace26        raw            6    catalog   \n7  e41dd2c3-f09b-467a-b714-626efa161922        raw            7       cart   \n\n             event_timestamp      user_id  \n0 2019-11-01 17:59:13.273932  219483890.0  \n1 2019-11-01 17:59:13.273932  219483890.0  \n2 2019-11-01 17:59:28.459271  219483890.0  \n3 2019-11-01 17:59:29.502214  219483890.0  \n4 2019-11-01 17:59:32.557029  219483890.0  \n5 2019-11-01 21:38:19.283663  964964743.0  \n6 2019-11-01 21:38:19.283663  964964743.0  \n7 2019-11-01 21:38:36.761221  964964743.0  ",
      "text/html": "<div>\n<style scoped>\n    .dataframe tbody tr th:only-of-type {\n        vertical-align: middle;\n    }\n\n    .dataframe tbody tr th {\n        vertical-align: top;\n    }\n\n    .dataframe thead th {\n        text-align: right;\n    }\n</style>\n<table border=\"1\" class=\"dataframe\">\n  <thead>\n    <tr style=\"text-align: right;\">\n      <th></th>\n      <th>event_id</th>\n      <th>event_type</th>\n      <th>event_index</th>\n      <th>event_name</th>\n      <th>event_timestamp</th>\n      <th>user_id</th>\n    </tr>\n  </thead>\n  <tbody>\n    <tr>\n      <th>0</th>\n      <td>471f400b-1451-4d93-b66c-9909e00751e6</td>\n      <td>start</td>\n      <td>0</td>\n      <td>start</td>\n      <td>2019-11-01 17:59:13.273932</td>\n      <td>219483890.0</td>\n    </tr>\n    <tr>\n      <th>1</th>\n      <td>ee8dc3b4-53f8-4f26-84a7-9a3d4b24dd2d</td>\n      <td>raw</td>\n      <td>1</td>\n      <td>catalog</td>\n      <td>2019-11-01 17:59:13.273932</td>\n      <td>219483890.0</td>\n    </tr>\n    <tr>\n      <th>2</th>\n      <td>73126e06-f817-470e-a397-0cf844023720</td>\n      <td>raw</td>\n      <td>2</td>\n      <td>product1</td>\n      <td>2019-11-01 17:59:28.459271</td>\n      <td>219483890.0</td>\n    </tr>\n    <tr>\n      <th>3</th>\n      <td>11bf77c7-7fd8-4b6d-a3aa-89bc8f833c4e</td>\n      <td>raw</td>\n      <td>3</td>\n      <td>cart</td>\n      <td>2019-11-01 17:59:29.502214</td>\n      <td>219483890.0</td>\n    </tr>\n    <tr>\n      <th>4</th>\n      <td>c633b530-c6f7-4e88-aca1-4b8ac61e0ced</td>\n      <td>raw</td>\n      <td>4</td>\n      <td>catalog</td>\n      <td>2019-11-01 17:59:32.557029</td>\n      <td>219483890.0</td>\n    </tr>\n    <tr>\n      <th>5</th>\n      <td>b62f26b4-8d12-448f-994e-42748ffc1b7a</td>\n      <td>start</td>\n      <td>5</td>\n      <td>start</td>\n      <td>2019-11-01 21:38:19.283663</td>\n      <td>964964743.0</td>\n    </tr>\n    <tr>\n      <th>6</th>\n      <td>1dd47e39-bcd0-4a11-9970-66c3ddaace26</td>\n      <td>raw</td>\n      <td>6</td>\n      <td>catalog</td>\n      <td>2019-11-01 21:38:19.283663</td>\n      <td>964964743.0</td>\n    </tr>\n    <tr>\n      <th>7</th>\n      <td>e41dd2c3-f09b-467a-b714-626efa161922</td>\n      <td>raw</td>\n      <td>7</td>\n      <td>cart</td>\n      <td>2019-11-01 21:38:36.761221</td>\n      <td>964964743.0</td>\n    </tr>\n  </tbody>\n</table>\n</div>"
     },
     "execution_count": 10,
     "metadata": {},
     "output_type": "execute_result"
    }
   ],
   "source": [
    "start_end_events = EventsNode(\n",
    "    StartEndEvents(params=StartEndEventsParams(**{}))\n",
    ")\n",
    "\n",
    "graph.add_node(\n",
    "    node=start_end_events,\n",
    "    parents=[graph.root]\n",
    ")\n",
    "\n",
    "result = graph.combine(\n",
    "    node=start_end_events\n",
    ")\n",
    "result.to_dataframe().head(8)"
   ]
  },
  {
   "cell_type": "code",
   "execution_count": 11,
   "id": "033e5033-28d9-443e-8ae0-7ec320b1f213",
   "metadata": {
    "pycharm": {
     "name": "#%%\n"
    }
   },
   "outputs": [
    {
     "name": "stdout",
     "output_type": "stream",
     "text": [
      "<class 'pandas.core.frame.DataFrame'>\n",
      "Int64Index: 42883 entries, 0 to 42882\n",
      "Data columns (total 6 columns):\n",
      " #   Column           Non-Null Count  Dtype         \n",
      "---  ------           --------------  -----         \n",
      " 0   event_id         42883 non-null  object        \n",
      " 1   event_type       42883 non-null  object        \n",
      " 2   event_index      42883 non-null  int64         \n",
      " 3   event_name       42883 non-null  object        \n",
      " 4   event_timestamp  42883 non-null  datetime64[ns]\n",
      " 5   user_id          42883 non-null  float64       \n",
      "dtypes: datetime64[ns](1), float64(1), int64(1), object(3)\n",
      "memory usage: 2.3+ MB\n"
     ]
    }
   ],
   "source": [
    "df = result.to_dataframe()\n",
    "df.info()"
   ]
  },
  {
   "cell_type": "code",
   "execution_count": 12,
   "id": "60dab57a-2df1-46f1-82f7-53e57e0e7132",
   "metadata": {
    "pycharm": {
     "name": "#%%\n"
    }
   },
   "outputs": [
    {
     "name": "stdout",
     "output_type": "stream",
     "text": [
      "19\n"
     ]
    },
    {
     "data": {
      "text/plain": "                                   event_id event_type  event_index  \\\n0      471f400b-1451-4d93-b66c-9909e00751e6      start            0   \n1      ee8dc3b4-53f8-4f26-84a7-9a3d4b24dd2d        raw            1   \n2      73126e06-f817-470e-a397-0cf844023720        raw            2   \n3      11bf77c7-7fd8-4b6d-a3aa-89bc8f833c4e        raw            3   \n4      c633b530-c6f7-4e88-aca1-4b8ac61e0ced        raw            4   \n2715   93386e57-8d24-443d-b8a4-3d6589043a04        raw         2715   \n2716   f41a1a8c-6505-467f-be21-a7fc4e801c63        raw         2716   \n2717   d0e89d8a-2880-44be-8fa6-c599d320e2ed        raw         2717   \n5721   2b36ef36-da8e-45ee-98cf-d1d6eb310258        raw         5721   \n5722   ab011b28-76c6-479d-84ca-0ac7eccfd1d9        raw         5722   \n5723   c46c026c-38cb-4194-bfb9-f4b592bd85f6        raw         5723   \n5724   e404482e-a597-4ab1-9910-c9ba0e72f4e1        raw         5724   \n5725   345c7a61-216d-458c-ac36-55649bfa4cfb        raw         5725   \n5726   2e1f0d7c-3bdf-4d5d-a0e9-d77c52cb9318        raw         5726   \n5727   2d07ecd1-6c76-446e-93ed-267a07b217dd        raw         5727   \n10210  ed61f4ff-430a-4df1-92c9-4b63c5928fea        raw        10210   \n10211  b95b3ad7-8088-46a7-9019-5ce5bfe2d709        raw        10211   \n10212  394d4b4f-e220-4205-947f-db1a568336d5        raw        10212   \n10213  c09c6aea-6031-4393-a9a3-2010c9966ca0        end        10213   \n\n      event_name            event_timestamp      user_id  \n0          start 2019-11-01 17:59:13.273932  219483890.0  \n1        catalog 2019-11-01 17:59:13.273932  219483890.0  \n2       product1 2019-11-01 17:59:28.459271  219483890.0  \n3           cart 2019-11-01 17:59:29.502214  219483890.0  \n4        catalog 2019-11-01 17:59:32.557029  219483890.0  \n2715        main 2019-12-06 16:22:57.484842  219483890.0  \n2716     catalog 2019-12-06 16:23:01.331109  219483890.0  \n2717     catalog 2019-12-06 16:23:48.116617  219483890.0  \n5721        main 2020-01-06 22:10:13.635011  219483890.0  \n5722     catalog 2020-01-06 22:10:15.228575  219483890.0  \n5723        cart 2020-01-06 22:10:42.309028  219483890.0  \n5724     catalog 2020-01-06 22:10:52.255859  219483890.0  \n5725    product1 2020-01-06 22:11:01.709800  219483890.0  \n5726     catalog 2020-01-06 22:11:02.899490  219483890.0  \n5727     catalog 2020-01-06 22:11:28.271366  219483890.0  \n10210       main 2020-02-14 21:04:49.450696  219483890.0  \n10211    catalog 2020-02-14 21:04:51.717127  219483890.0  \n10212       lost 2020-02-14 21:04:52.717127  219483890.0  \n10213        end 2020-02-14 21:04:52.717127  219483890.0  ",
      "text/html": "<div>\n<style scoped>\n    .dataframe tbody tr th:only-of-type {\n        vertical-align: middle;\n    }\n\n    .dataframe tbody tr th {\n        vertical-align: top;\n    }\n\n    .dataframe thead th {\n        text-align: right;\n    }\n</style>\n<table border=\"1\" class=\"dataframe\">\n  <thead>\n    <tr style=\"text-align: right;\">\n      <th></th>\n      <th>event_id</th>\n      <th>event_type</th>\n      <th>event_index</th>\n      <th>event_name</th>\n      <th>event_timestamp</th>\n      <th>user_id</th>\n    </tr>\n  </thead>\n  <tbody>\n    <tr>\n      <th>0</th>\n      <td>471f400b-1451-4d93-b66c-9909e00751e6</td>\n      <td>start</td>\n      <td>0</td>\n      <td>start</td>\n      <td>2019-11-01 17:59:13.273932</td>\n      <td>219483890.0</td>\n    </tr>\n    <tr>\n      <th>1</th>\n      <td>ee8dc3b4-53f8-4f26-84a7-9a3d4b24dd2d</td>\n      <td>raw</td>\n      <td>1</td>\n      <td>catalog</td>\n      <td>2019-11-01 17:59:13.273932</td>\n      <td>219483890.0</td>\n    </tr>\n    <tr>\n      <th>2</th>\n      <td>73126e06-f817-470e-a397-0cf844023720</td>\n      <td>raw</td>\n      <td>2</td>\n      <td>product1</td>\n      <td>2019-11-01 17:59:28.459271</td>\n      <td>219483890.0</td>\n    </tr>\n    <tr>\n      <th>3</th>\n      <td>11bf77c7-7fd8-4b6d-a3aa-89bc8f833c4e</td>\n      <td>raw</td>\n      <td>3</td>\n      <td>cart</td>\n      <td>2019-11-01 17:59:29.502214</td>\n      <td>219483890.0</td>\n    </tr>\n    <tr>\n      <th>4</th>\n      <td>c633b530-c6f7-4e88-aca1-4b8ac61e0ced</td>\n      <td>raw</td>\n      <td>4</td>\n      <td>catalog</td>\n      <td>2019-11-01 17:59:32.557029</td>\n      <td>219483890.0</td>\n    </tr>\n    <tr>\n      <th>2715</th>\n      <td>93386e57-8d24-443d-b8a4-3d6589043a04</td>\n      <td>raw</td>\n      <td>2715</td>\n      <td>main</td>\n      <td>2019-12-06 16:22:57.484842</td>\n      <td>219483890.0</td>\n    </tr>\n    <tr>\n      <th>2716</th>\n      <td>f41a1a8c-6505-467f-be21-a7fc4e801c63</td>\n      <td>raw</td>\n      <td>2716</td>\n      <td>catalog</td>\n      <td>2019-12-06 16:23:01.331109</td>\n      <td>219483890.0</td>\n    </tr>\n    <tr>\n      <th>2717</th>\n      <td>d0e89d8a-2880-44be-8fa6-c599d320e2ed</td>\n      <td>raw</td>\n      <td>2717</td>\n      <td>catalog</td>\n      <td>2019-12-06 16:23:48.116617</td>\n      <td>219483890.0</td>\n    </tr>\n    <tr>\n      <th>5721</th>\n      <td>2b36ef36-da8e-45ee-98cf-d1d6eb310258</td>\n      <td>raw</td>\n      <td>5721</td>\n      <td>main</td>\n      <td>2020-01-06 22:10:13.635011</td>\n      <td>219483890.0</td>\n    </tr>\n    <tr>\n      <th>5722</th>\n      <td>ab011b28-76c6-479d-84ca-0ac7eccfd1d9</td>\n      <td>raw</td>\n      <td>5722</td>\n      <td>catalog</td>\n      <td>2020-01-06 22:10:15.228575</td>\n      <td>219483890.0</td>\n    </tr>\n    <tr>\n      <th>5723</th>\n      <td>c46c026c-38cb-4194-bfb9-f4b592bd85f6</td>\n      <td>raw</td>\n      <td>5723</td>\n      <td>cart</td>\n      <td>2020-01-06 22:10:42.309028</td>\n      <td>219483890.0</td>\n    </tr>\n    <tr>\n      <th>5724</th>\n      <td>e404482e-a597-4ab1-9910-c9ba0e72f4e1</td>\n      <td>raw</td>\n      <td>5724</td>\n      <td>catalog</td>\n      <td>2020-01-06 22:10:52.255859</td>\n      <td>219483890.0</td>\n    </tr>\n    <tr>\n      <th>5725</th>\n      <td>345c7a61-216d-458c-ac36-55649bfa4cfb</td>\n      <td>raw</td>\n      <td>5725</td>\n      <td>product1</td>\n      <td>2020-01-06 22:11:01.709800</td>\n      <td>219483890.0</td>\n    </tr>\n    <tr>\n      <th>5726</th>\n      <td>2e1f0d7c-3bdf-4d5d-a0e9-d77c52cb9318</td>\n      <td>raw</td>\n      <td>5726</td>\n      <td>catalog</td>\n      <td>2020-01-06 22:11:02.899490</td>\n      <td>219483890.0</td>\n    </tr>\n    <tr>\n      <th>5727</th>\n      <td>2d07ecd1-6c76-446e-93ed-267a07b217dd</td>\n      <td>raw</td>\n      <td>5727</td>\n      <td>catalog</td>\n      <td>2020-01-06 22:11:28.271366</td>\n      <td>219483890.0</td>\n    </tr>\n    <tr>\n      <th>10210</th>\n      <td>ed61f4ff-430a-4df1-92c9-4b63c5928fea</td>\n      <td>raw</td>\n      <td>10210</td>\n      <td>main</td>\n      <td>2020-02-14 21:04:49.450696</td>\n      <td>219483890.0</td>\n    </tr>\n    <tr>\n      <th>10211</th>\n      <td>b95b3ad7-8088-46a7-9019-5ce5bfe2d709</td>\n      <td>raw</td>\n      <td>10211</td>\n      <td>catalog</td>\n      <td>2020-02-14 21:04:51.717127</td>\n      <td>219483890.0</td>\n    </tr>\n    <tr>\n      <th>10212</th>\n      <td>394d4b4f-e220-4205-947f-db1a568336d5</td>\n      <td>raw</td>\n      <td>10212</td>\n      <td>lost</td>\n      <td>2020-02-14 21:04:52.717127</td>\n      <td>219483890.0</td>\n    </tr>\n    <tr>\n      <th>10213</th>\n      <td>c09c6aea-6031-4393-a9a3-2010c9966ca0</td>\n      <td>end</td>\n      <td>10213</td>\n      <td>end</td>\n      <td>2020-02-14 21:04:52.717127</td>\n      <td>219483890.0</td>\n    </tr>\n  </tbody>\n</table>\n</div>"
     },
     "execution_count": 12,
     "metadata": {},
     "output_type": "execute_result"
    }
   ],
   "source": [
    "print(len(df[df['user_id'] == 219483890]))\n",
    "df[df['user_id'] == 219483890]"
   ]
  },
  {
   "cell_type": "code",
   "execution_count": 13,
   "outputs": [
    {
     "name": "stdout",
     "output_type": "stream",
     "text": [
      "17\n"
     ]
    },
    {
     "data": {
      "text/plain": "                                  event_id event_type  event_index event_name  \\\n0     ee8dc3b4-53f8-4f26-84a7-9a3d4b24dd2d        raw            0    catalog   \n1     73126e06-f817-470e-a397-0cf844023720        raw            1   product1   \n2     11bf77c7-7fd8-4b6d-a3aa-89bc8f833c4e        raw            2       cart   \n3     c633b530-c6f7-4e88-aca1-4b8ac61e0ced        raw            3    catalog   \n2245  93386e57-8d24-443d-b8a4-3d6589043a04        raw         2245       main   \n2246  f41a1a8c-6505-467f-be21-a7fc4e801c63        raw         2246    catalog   \n2247  d0e89d8a-2880-44be-8fa6-c599d320e2ed        raw         2247    catalog   \n4836  2b36ef36-da8e-45ee-98cf-d1d6eb310258        raw         4836       main   \n4837  ab011b28-76c6-479d-84ca-0ac7eccfd1d9        raw         4837    catalog   \n4838  c46c026c-38cb-4194-bfb9-f4b592bd85f6        raw         4838       cart   \n4839  e404482e-a597-4ab1-9910-c9ba0e72f4e1        raw         4839    catalog   \n4840  345c7a61-216d-458c-ac36-55649bfa4cfb        raw         4840   product1   \n4841  2e1f0d7c-3bdf-4d5d-a0e9-d77c52cb9318        raw         4841    catalog   \n4842  2d07ecd1-6c76-446e-93ed-267a07b217dd        raw         4842    catalog   \n8736  ed61f4ff-430a-4df1-92c9-4b63c5928fea        raw         8736       main   \n8737  b95b3ad7-8088-46a7-9019-5ce5bfe2d709        raw         8737    catalog   \n8738  394d4b4f-e220-4205-947f-db1a568336d5        raw         8738       lost   \n\n                event_timestamp    user_id  \n0    2019-11-01 17:59:13.273932  219483890  \n1    2019-11-01 17:59:28.459271  219483890  \n2    2019-11-01 17:59:29.502214  219483890  \n3    2019-11-01 17:59:32.557029  219483890  \n2245 2019-12-06 16:22:57.484842  219483890  \n2246 2019-12-06 16:23:01.331109  219483890  \n2247 2019-12-06 16:23:48.116617  219483890  \n4836 2020-01-06 22:10:13.635011  219483890  \n4837 2020-01-06 22:10:15.228575  219483890  \n4838 2020-01-06 22:10:42.309028  219483890  \n4839 2020-01-06 22:10:52.255859  219483890  \n4840 2020-01-06 22:11:01.709800  219483890  \n4841 2020-01-06 22:11:02.899490  219483890  \n4842 2020-01-06 22:11:28.271366  219483890  \n8736 2020-02-14 21:04:49.450696  219483890  \n8737 2020-02-14 21:04:51.717127  219483890  \n8738 2020-02-14 21:04:52.717127  219483890  ",
      "text/html": "<div>\n<style scoped>\n    .dataframe tbody tr th:only-of-type {\n        vertical-align: middle;\n    }\n\n    .dataframe tbody tr th {\n        vertical-align: top;\n    }\n\n    .dataframe thead th {\n        text-align: right;\n    }\n</style>\n<table border=\"1\" class=\"dataframe\">\n  <thead>\n    <tr style=\"text-align: right;\">\n      <th></th>\n      <th>event_id</th>\n      <th>event_type</th>\n      <th>event_index</th>\n      <th>event_name</th>\n      <th>event_timestamp</th>\n      <th>user_id</th>\n    </tr>\n  </thead>\n  <tbody>\n    <tr>\n      <th>0</th>\n      <td>ee8dc3b4-53f8-4f26-84a7-9a3d4b24dd2d</td>\n      <td>raw</td>\n      <td>0</td>\n      <td>catalog</td>\n      <td>2019-11-01 17:59:13.273932</td>\n      <td>219483890</td>\n    </tr>\n    <tr>\n      <th>1</th>\n      <td>73126e06-f817-470e-a397-0cf844023720</td>\n      <td>raw</td>\n      <td>1</td>\n      <td>product1</td>\n      <td>2019-11-01 17:59:28.459271</td>\n      <td>219483890</td>\n    </tr>\n    <tr>\n      <th>2</th>\n      <td>11bf77c7-7fd8-4b6d-a3aa-89bc8f833c4e</td>\n      <td>raw</td>\n      <td>2</td>\n      <td>cart</td>\n      <td>2019-11-01 17:59:29.502214</td>\n      <td>219483890</td>\n    </tr>\n    <tr>\n      <th>3</th>\n      <td>c633b530-c6f7-4e88-aca1-4b8ac61e0ced</td>\n      <td>raw</td>\n      <td>3</td>\n      <td>catalog</td>\n      <td>2019-11-01 17:59:32.557029</td>\n      <td>219483890</td>\n    </tr>\n    <tr>\n      <th>2245</th>\n      <td>93386e57-8d24-443d-b8a4-3d6589043a04</td>\n      <td>raw</td>\n      <td>2245</td>\n      <td>main</td>\n      <td>2019-12-06 16:22:57.484842</td>\n      <td>219483890</td>\n    </tr>\n    <tr>\n      <th>2246</th>\n      <td>f41a1a8c-6505-467f-be21-a7fc4e801c63</td>\n      <td>raw</td>\n      <td>2246</td>\n      <td>catalog</td>\n      <td>2019-12-06 16:23:01.331109</td>\n      <td>219483890</td>\n    </tr>\n    <tr>\n      <th>2247</th>\n      <td>d0e89d8a-2880-44be-8fa6-c599d320e2ed</td>\n      <td>raw</td>\n      <td>2247</td>\n      <td>catalog</td>\n      <td>2019-12-06 16:23:48.116617</td>\n      <td>219483890</td>\n    </tr>\n    <tr>\n      <th>4836</th>\n      <td>2b36ef36-da8e-45ee-98cf-d1d6eb310258</td>\n      <td>raw</td>\n      <td>4836</td>\n      <td>main</td>\n      <td>2020-01-06 22:10:13.635011</td>\n      <td>219483890</td>\n    </tr>\n    <tr>\n      <th>4837</th>\n      <td>ab011b28-76c6-479d-84ca-0ac7eccfd1d9</td>\n      <td>raw</td>\n      <td>4837</td>\n      <td>catalog</td>\n      <td>2020-01-06 22:10:15.228575</td>\n      <td>219483890</td>\n    </tr>\n    <tr>\n      <th>4838</th>\n      <td>c46c026c-38cb-4194-bfb9-f4b592bd85f6</td>\n      <td>raw</td>\n      <td>4838</td>\n      <td>cart</td>\n      <td>2020-01-06 22:10:42.309028</td>\n      <td>219483890</td>\n    </tr>\n    <tr>\n      <th>4839</th>\n      <td>e404482e-a597-4ab1-9910-c9ba0e72f4e1</td>\n      <td>raw</td>\n      <td>4839</td>\n      <td>catalog</td>\n      <td>2020-01-06 22:10:52.255859</td>\n      <td>219483890</td>\n    </tr>\n    <tr>\n      <th>4840</th>\n      <td>345c7a61-216d-458c-ac36-55649bfa4cfb</td>\n      <td>raw</td>\n      <td>4840</td>\n      <td>product1</td>\n      <td>2020-01-06 22:11:01.709800</td>\n      <td>219483890</td>\n    </tr>\n    <tr>\n      <th>4841</th>\n      <td>2e1f0d7c-3bdf-4d5d-a0e9-d77c52cb9318</td>\n      <td>raw</td>\n      <td>4841</td>\n      <td>catalog</td>\n      <td>2020-01-06 22:11:02.899490</td>\n      <td>219483890</td>\n    </tr>\n    <tr>\n      <th>4842</th>\n      <td>2d07ecd1-6c76-446e-93ed-267a07b217dd</td>\n      <td>raw</td>\n      <td>4842</td>\n      <td>catalog</td>\n      <td>2020-01-06 22:11:28.271366</td>\n      <td>219483890</td>\n    </tr>\n    <tr>\n      <th>8736</th>\n      <td>ed61f4ff-430a-4df1-92c9-4b63c5928fea</td>\n      <td>raw</td>\n      <td>8736</td>\n      <td>main</td>\n      <td>2020-02-14 21:04:49.450696</td>\n      <td>219483890</td>\n    </tr>\n    <tr>\n      <th>8737</th>\n      <td>b95b3ad7-8088-46a7-9019-5ce5bfe2d709</td>\n      <td>raw</td>\n      <td>8737</td>\n      <td>catalog</td>\n      <td>2020-02-14 21:04:51.717127</td>\n      <td>219483890</td>\n    </tr>\n    <tr>\n      <th>8738</th>\n      <td>394d4b4f-e220-4205-947f-db1a568336d5</td>\n      <td>raw</td>\n      <td>8738</td>\n      <td>lost</td>\n      <td>2020-02-14 21:04:52.717127</td>\n      <td>219483890</td>\n    </tr>\n  </tbody>\n</table>\n</div>"
     },
     "execution_count": 13,
     "metadata": {},
     "output_type": "execute_result"
    }
   ],
   "source": [
    "print(len(source_df[source_df['user_id'] == 219483890]))\n",
    "source_df[source_df['user_id'] == 219483890].sort_values('event_timestamp')"
   ],
   "metadata": {
    "collapsed": false,
    "pycharm": {
     "name": "#%%\n"
    }
   }
  },
  {
   "cell_type": "code",
   "execution_count": 14,
   "outputs": [
    {
     "data": {
      "text/plain": "                               event_id event_type  event_index event_name  \\\n1  ee8dc3b4-53f8-4f26-84a7-9a3d4b24dd2d        raw            1    catalog   \n\n             event_timestamp      user_id  \n1 2019-11-01 17:59:13.273932  219483890.0  ",
      "text/html": "<div>\n<style scoped>\n    .dataframe tbody tr th:only-of-type {\n        vertical-align: middle;\n    }\n\n    .dataframe tbody tr th {\n        vertical-align: top;\n    }\n\n    .dataframe thead th {\n        text-align: right;\n    }\n</style>\n<table border=\"1\" class=\"dataframe\">\n  <thead>\n    <tr style=\"text-align: right;\">\n      <th></th>\n      <th>event_id</th>\n      <th>event_type</th>\n      <th>event_index</th>\n      <th>event_name</th>\n      <th>event_timestamp</th>\n      <th>user_id</th>\n    </tr>\n  </thead>\n  <tbody>\n    <tr>\n      <th>1</th>\n      <td>ee8dc3b4-53f8-4f26-84a7-9a3d4b24dd2d</td>\n      <td>raw</td>\n      <td>1</td>\n      <td>catalog</td>\n      <td>2019-11-01 17:59:13.273932</td>\n      <td>219483890.0</td>\n    </tr>\n  </tbody>\n</table>\n</div>"
     },
     "execution_count": 14,
     "metadata": {},
     "output_type": "execute_result"
    }
   ],
   "source": [
    "check_id = source_df[source_df['user_id'] == 219483890]['event_id'][0]\n",
    "df[df['event_id'] == check_id]"
   ],
   "metadata": {
    "collapsed": false,
    "pycharm": {
     "name": "#%%\n"
    }
   }
  },
  {
   "cell_type": "code",
   "execution_count": 15,
   "outputs": [
    {
     "data": {
      "text/plain": "                               event_id event_type  event_index event_name  \\\n0  ee8dc3b4-53f8-4f26-84a7-9a3d4b24dd2d        raw            0    catalog   \n\n             event_timestamp    user_id  \n0 2019-11-01 17:59:13.273932  219483890  ",
      "text/html": "<div>\n<style scoped>\n    .dataframe tbody tr th:only-of-type {\n        vertical-align: middle;\n    }\n\n    .dataframe tbody tr th {\n        vertical-align: top;\n    }\n\n    .dataframe thead th {\n        text-align: right;\n    }\n</style>\n<table border=\"1\" class=\"dataframe\">\n  <thead>\n    <tr style=\"text-align: right;\">\n      <th></th>\n      <th>event_id</th>\n      <th>event_type</th>\n      <th>event_index</th>\n      <th>event_name</th>\n      <th>event_timestamp</th>\n      <th>user_id</th>\n    </tr>\n  </thead>\n  <tbody>\n    <tr>\n      <th>0</th>\n      <td>ee8dc3b4-53f8-4f26-84a7-9a3d4b24dd2d</td>\n      <td>raw</td>\n      <td>0</td>\n      <td>catalog</td>\n      <td>2019-11-01 17:59:13.273932</td>\n      <td>219483890</td>\n    </tr>\n  </tbody>\n</table>\n</div>"
     },
     "execution_count": 15,
     "metadata": {},
     "output_type": "execute_result"
    }
   ],
   "source": [
    "source_df[source_df['event_id'] == check_id]"
   ],
   "metadata": {
    "collapsed": false,
    "pycharm": {
     "name": "#%%\n"
    }
   }
  },
  {
   "cell_type": "code",
   "execution_count": 16,
   "outputs": [
    {
     "data": {
      "text/plain": "(3751, 3751)"
     },
     "execution_count": 16,
     "metadata": {},
     "output_type": "execute_result"
    }
   ],
   "source": [
    "source_df['user_id'].nunique(), df['user_id'].nunique()"
   ],
   "metadata": {
    "collapsed": false,
    "pycharm": {
     "name": "#%%\n"
    }
   }
  },
  {
   "cell_type": "code",
   "execution_count": 17,
   "outputs": [
    {
     "data": {
      "text/plain": "(3751, 3751)"
     },
     "execution_count": 17,
     "metadata": {},
     "output_type": "execute_result"
    }
   ],
   "source": [
    "df[df['event_type'] == 'start']['event_type'].count(), df[df['event_type'] == 'end']['event_type'].count()"
   ],
   "metadata": {
    "collapsed": false,
    "pycharm": {
     "name": "#%%\n"
    }
   }
  },
  {
   "cell_type": "code",
   "execution_count": 18,
   "outputs": [
    {
     "data": {
      "text/plain": "(35381, 35381)"
     },
     "execution_count": 18,
     "metadata": {},
     "output_type": "execute_result"
    }
   ],
   "source": [
    "df[df['event_type'] == 'raw']['event_type'].count(), source.to_dataframe()['event_type'].count()"
   ],
   "metadata": {
    "collapsed": false,
    "pycharm": {
     "name": "#%%\n"
    }
   }
  },
  {
   "cell_type": "code",
   "execution_count": 19,
   "outputs": [
    {
     "data": {
      "text/plain": "raw    35381\nName: event_type, dtype: int64"
     },
     "execution_count": 19,
     "metadata": {},
     "output_type": "execute_result"
    }
   ],
   "source": [
    "source_df['event_type'].value_counts()"
   ],
   "metadata": {
    "collapsed": false,
    "pycharm": {
     "name": "#%%\n"
    }
   }
  },
  {
   "cell_type": "code",
   "execution_count": 20,
   "outputs": [
    {
     "data": {
      "text/plain": "raw      35381\nstart     3751\nend       3751\nName: event_type, dtype: int64"
     },
     "execution_count": 20,
     "metadata": {},
     "output_type": "execute_result"
    }
   ],
   "source": [
    "df['event_type'].value_counts()"
   ],
   "metadata": {
    "collapsed": false,
    "pycharm": {
     "name": "#%%\n"
    }
   }
  },
  {
   "cell_type": "code",
   "execution_count": 21,
   "outputs": [
    {
     "data": {
      "text/plain": "(35381, 42883)"
     },
     "execution_count": 21,
     "metadata": {},
     "output_type": "execute_result"
    }
   ],
   "source": [
    "len(source_df), len(df)"
   ],
   "metadata": {
    "collapsed": false,
    "pycharm": {
     "name": "#%%\n"
    }
   }
  },
  {
   "cell_type": "markdown",
   "source": [
    "### Результат"
   ],
   "metadata": {
    "collapsed": false,
    "pycharm": {
     "name": "#%% md\n"
    }
   }
  },
  {
   "cell_type": "markdown",
   "source": [
    "1) [DONE] Исчезло событие, которое до этого было первым с event_id = '556697a2-7439-45c1-bd70-8d970ab7ef61'\n",
    "Тоже самое произошло с событием End\n",
    "result.to_dataframe(show_deleted=True) - то все нормально\n",
    "2) [DONE] Количество raw событий после combine уменьшилось ровно на кол-во пользователей*2\n",
    "Общая длина eventstream при этом не изменилась\n",
    "3) [TODO] #params - не должно быть обязательных параметров"
   ],
   "metadata": {
    "collapsed": false,
    "pycharm": {
     "name": "#%% md\n"
    }
   }
  },
  {
   "cell_type": "markdown",
   "source": [
    "## NewResume"
   ],
   "metadata": {
    "collapsed": false,
    "pycharm": {
     "name": "#%% md\n"
    }
   }
  },
  {
   "cell_type": "markdown",
   "source": [
    "### Описание работы функции"
   ],
   "metadata": {
    "collapsed": false,
    "pycharm": {
     "name": "#%% md\n"
    }
   }
  },
  {
   "cell_type": "markdown",
   "source": [
    "Добавляются события new_user/resume_user\n",
    "\n",
    "Это можно сделать двумя способами:\n",
    "1) В параметр ```new_users_list = []``` передать список новых пользователей, для них добавятся события:\n",
    "```event_type = new_user, event = new_user, timestamp = timestamp(first_event)```\n",
    "При этом для всех остальных, добавятся события:\n",
    "```event_type = resume, event = resume, timestamp = timestamp(first_event)```\n",
    "<br>\n",
    "\n",
    "2) Если параметр ```new_users_list = 'all'```\n",
    "То всем пользователям добавятся события:\n",
    "```event_type = new_user, event = new_user, timestamp = timestamp(first_event)```\n"
   ],
   "metadata": {
    "collapsed": false,
    "pycharm": {
     "name": "#%% md\n"
    }
   }
  },
  {
   "cell_type": "code",
   "execution_count": 22,
   "outputs": [
    {
     "data": {
      "text/plain": "                               event_id event_type  event_index event_name  \\\n0  a79291d0-2d08-4e79-957f-9bb5d2943ab3   new_user            0   new_user   \n1  ee8dc3b4-53f8-4f26-84a7-9a3d4b24dd2d        raw            1    catalog   \n2  73126e06-f817-470e-a397-0cf844023720        raw            2   product1   \n3  11bf77c7-7fd8-4b6d-a3aa-89bc8f833c4e        raw            3       cart   \n4  c633b530-c6f7-4e88-aca1-4b8ac61e0ced        raw            4    catalog   \n5  d238ef36-a22c-415d-be4b-4ece3edffd18   new_user            5   new_user   \n6  1dd47e39-bcd0-4a11-9970-66c3ddaace26        raw            6    catalog   \n7  e41dd2c3-f09b-467a-b714-626efa161922        raw            7       cart   \n\n             event_timestamp      user_id  \n0 2019-11-01 17:59:13.273932  219483890.0  \n1 2019-11-01 17:59:13.273932  219483890.0  \n2 2019-11-01 17:59:28.459271  219483890.0  \n3 2019-11-01 17:59:29.502214  219483890.0  \n4 2019-11-01 17:59:32.557029  219483890.0  \n5 2019-11-01 21:38:19.283663  964964743.0  \n6 2019-11-01 21:38:19.283663  964964743.0  \n7 2019-11-01 21:38:36.761221  964964743.0  ",
      "text/html": "<div>\n<style scoped>\n    .dataframe tbody tr th:only-of-type {\n        vertical-align: middle;\n    }\n\n    .dataframe tbody tr th {\n        vertical-align: top;\n    }\n\n    .dataframe thead th {\n        text-align: right;\n    }\n</style>\n<table border=\"1\" class=\"dataframe\">\n  <thead>\n    <tr style=\"text-align: right;\">\n      <th></th>\n      <th>event_id</th>\n      <th>event_type</th>\n      <th>event_index</th>\n      <th>event_name</th>\n      <th>event_timestamp</th>\n      <th>user_id</th>\n    </tr>\n  </thead>\n  <tbody>\n    <tr>\n      <th>0</th>\n      <td>a79291d0-2d08-4e79-957f-9bb5d2943ab3</td>\n      <td>new_user</td>\n      <td>0</td>\n      <td>new_user</td>\n      <td>2019-11-01 17:59:13.273932</td>\n      <td>219483890.0</td>\n    </tr>\n    <tr>\n      <th>1</th>\n      <td>ee8dc3b4-53f8-4f26-84a7-9a3d4b24dd2d</td>\n      <td>raw</td>\n      <td>1</td>\n      <td>catalog</td>\n      <td>2019-11-01 17:59:13.273932</td>\n      <td>219483890.0</td>\n    </tr>\n    <tr>\n      <th>2</th>\n      <td>73126e06-f817-470e-a397-0cf844023720</td>\n      <td>raw</td>\n      <td>2</td>\n      <td>product1</td>\n      <td>2019-11-01 17:59:28.459271</td>\n      <td>219483890.0</td>\n    </tr>\n    <tr>\n      <th>3</th>\n      <td>11bf77c7-7fd8-4b6d-a3aa-89bc8f833c4e</td>\n      <td>raw</td>\n      <td>3</td>\n      <td>cart</td>\n      <td>2019-11-01 17:59:29.502214</td>\n      <td>219483890.0</td>\n    </tr>\n    <tr>\n      <th>4</th>\n      <td>c633b530-c6f7-4e88-aca1-4b8ac61e0ced</td>\n      <td>raw</td>\n      <td>4</td>\n      <td>catalog</td>\n      <td>2019-11-01 17:59:32.557029</td>\n      <td>219483890.0</td>\n    </tr>\n    <tr>\n      <th>5</th>\n      <td>d238ef36-a22c-415d-be4b-4ece3edffd18</td>\n      <td>new_user</td>\n      <td>5</td>\n      <td>new_user</td>\n      <td>2019-11-01 21:38:19.283663</td>\n      <td>964964743.0</td>\n    </tr>\n    <tr>\n      <th>6</th>\n      <td>1dd47e39-bcd0-4a11-9970-66c3ddaace26</td>\n      <td>raw</td>\n      <td>6</td>\n      <td>catalog</td>\n      <td>2019-11-01 21:38:19.283663</td>\n      <td>964964743.0</td>\n    </tr>\n    <tr>\n      <th>7</th>\n      <td>e41dd2c3-f09b-467a-b714-626efa161922</td>\n      <td>raw</td>\n      <td>7</td>\n      <td>cart</td>\n      <td>2019-11-01 21:38:36.761221</td>\n      <td>964964743.0</td>\n    </tr>\n  </tbody>\n</table>\n</div>"
     },
     "execution_count": 22,
     "metadata": {},
     "output_type": "execute_result"
    }
   ],
   "source": [
    "from src.data_processors_lib.rete import NewResumeEvents, NewResumeParams\n",
    "\n",
    "# new_user_list = [219483890]\n",
    "new_user_list = 'all'\n",
    "new_resume_events = EventsNode(\n",
    "    NewResumeEvents(params=NewResumeParams(new_users_list=new_user_list)))\n",
    "\n",
    "\n",
    "graph.add_node(\n",
    "    node=new_resume_events,\n",
    "    parents=[graph.root]\n",
    ")\n",
    "\n",
    "result = graph.combine(\n",
    "    node=new_resume_events\n",
    ")\n",
    "result.to_dataframe().head(8)"
   ],
   "metadata": {
    "collapsed": false,
    "pycharm": {
     "name": "#%%\n"
    }
   }
  },
  {
   "cell_type": "code",
   "execution_count": 23,
   "outputs": [],
   "source": [
    "df1 = result.to_dataframe()"
   ],
   "metadata": {
    "collapsed": false,
    "pycharm": {
     "name": "#%%\n"
    }
   }
  },
  {
   "cell_type": "code",
   "execution_count": 24,
   "outputs": [
    {
     "data": {
      "text/plain": "raw    35381\nName: event_type, dtype: int64"
     },
     "execution_count": 24,
     "metadata": {},
     "output_type": "execute_result"
    }
   ],
   "source": [
    "source_df['event_type'].value_counts()"
   ],
   "metadata": {
    "collapsed": false,
    "pycharm": {
     "name": "#%%\n"
    }
   }
  },
  {
   "cell_type": "code",
   "execution_count": 25,
   "outputs": [
    {
     "data": {
      "text/plain": "raw         35381\nnew_user     3751\nName: event_type, dtype: int64"
     },
     "execution_count": 25,
     "metadata": {},
     "output_type": "execute_result"
    }
   ],
   "source": [
    "df1['event_type'].value_counts()"
   ],
   "metadata": {
    "collapsed": false,
    "pycharm": {
     "name": "#%%\n"
    }
   }
  },
  {
   "cell_type": "code",
   "execution_count": 26,
   "outputs": [
    {
     "data": {
      "text/plain": "(39132, 35381)"
     },
     "execution_count": 26,
     "metadata": {},
     "output_type": "execute_result"
    }
   ],
   "source": [
    "len(df1), len(source_df)"
   ],
   "metadata": {
    "collapsed": false,
    "pycharm": {
     "name": "#%%\n"
    }
   }
  },
  {
   "cell_type": "code",
   "execution_count": 27,
   "outputs": [
    {
     "data": {
      "text/plain": "3751"
     },
     "execution_count": 27,
     "metadata": {},
     "output_type": "execute_result"
    }
   ],
   "source": [
    "len(df1) - len(source_df)"
   ],
   "metadata": {
    "collapsed": false,
    "pycharm": {
     "name": "#%%\n"
    }
   }
  },
  {
   "cell_type": "code",
   "execution_count": 28,
   "outputs": [
    {
     "data": {
      "text/plain": "[<src.graph.p_graph.SourceNode at 0x148b25610>]"
     },
     "execution_count": 28,
     "metadata": {},
     "output_type": "execute_result"
    }
   ],
   "source": [
    "graph.get_parents(new_resume_events)"
   ],
   "metadata": {
    "collapsed": false,
    "pycharm": {
     "name": "#%%\n"
    }
   }
  },
  {
   "cell_type": "code",
   "execution_count": 29,
   "outputs": [
    {
     "name": "stdout",
     "output_type": "stream",
     "text": [
      "17\n"
     ]
    },
    {
     "data": {
      "text/plain": "                                  event_id event_type  event_index event_name  \\\n0     ee8dc3b4-53f8-4f26-84a7-9a3d4b24dd2d        raw            0    catalog   \n1     73126e06-f817-470e-a397-0cf844023720        raw            1   product1   \n2     11bf77c7-7fd8-4b6d-a3aa-89bc8f833c4e        raw            2       cart   \n3     c633b530-c6f7-4e88-aca1-4b8ac61e0ced        raw            3    catalog   \n2245  93386e57-8d24-443d-b8a4-3d6589043a04        raw         2245       main   \n2246  f41a1a8c-6505-467f-be21-a7fc4e801c63        raw         2246    catalog   \n2247  d0e89d8a-2880-44be-8fa6-c599d320e2ed        raw         2247    catalog   \n4836  2b36ef36-da8e-45ee-98cf-d1d6eb310258        raw         4836       main   \n4837  ab011b28-76c6-479d-84ca-0ac7eccfd1d9        raw         4837    catalog   \n4838  c46c026c-38cb-4194-bfb9-f4b592bd85f6        raw         4838       cart   \n4839  e404482e-a597-4ab1-9910-c9ba0e72f4e1        raw         4839    catalog   \n4840  345c7a61-216d-458c-ac36-55649bfa4cfb        raw         4840   product1   \n4841  2e1f0d7c-3bdf-4d5d-a0e9-d77c52cb9318        raw         4841    catalog   \n4842  2d07ecd1-6c76-446e-93ed-267a07b217dd        raw         4842    catalog   \n8736  ed61f4ff-430a-4df1-92c9-4b63c5928fea        raw         8736       main   \n8737  b95b3ad7-8088-46a7-9019-5ce5bfe2d709        raw         8737    catalog   \n8738  394d4b4f-e220-4205-947f-db1a568336d5        raw         8738       lost   \n\n                event_timestamp    user_id  \n0    2019-11-01 17:59:13.273932  219483890  \n1    2019-11-01 17:59:28.459271  219483890  \n2    2019-11-01 17:59:29.502214  219483890  \n3    2019-11-01 17:59:32.557029  219483890  \n2245 2019-12-06 16:22:57.484842  219483890  \n2246 2019-12-06 16:23:01.331109  219483890  \n2247 2019-12-06 16:23:48.116617  219483890  \n4836 2020-01-06 22:10:13.635011  219483890  \n4837 2020-01-06 22:10:15.228575  219483890  \n4838 2020-01-06 22:10:42.309028  219483890  \n4839 2020-01-06 22:10:52.255859  219483890  \n4840 2020-01-06 22:11:01.709800  219483890  \n4841 2020-01-06 22:11:02.899490  219483890  \n4842 2020-01-06 22:11:28.271366  219483890  \n8736 2020-02-14 21:04:49.450696  219483890  \n8737 2020-02-14 21:04:51.717127  219483890  \n8738 2020-02-14 21:04:52.717127  219483890  ",
      "text/html": "<div>\n<style scoped>\n    .dataframe tbody tr th:only-of-type {\n        vertical-align: middle;\n    }\n\n    .dataframe tbody tr th {\n        vertical-align: top;\n    }\n\n    .dataframe thead th {\n        text-align: right;\n    }\n</style>\n<table border=\"1\" class=\"dataframe\">\n  <thead>\n    <tr style=\"text-align: right;\">\n      <th></th>\n      <th>event_id</th>\n      <th>event_type</th>\n      <th>event_index</th>\n      <th>event_name</th>\n      <th>event_timestamp</th>\n      <th>user_id</th>\n    </tr>\n  </thead>\n  <tbody>\n    <tr>\n      <th>0</th>\n      <td>ee8dc3b4-53f8-4f26-84a7-9a3d4b24dd2d</td>\n      <td>raw</td>\n      <td>0</td>\n      <td>catalog</td>\n      <td>2019-11-01 17:59:13.273932</td>\n      <td>219483890</td>\n    </tr>\n    <tr>\n      <th>1</th>\n      <td>73126e06-f817-470e-a397-0cf844023720</td>\n      <td>raw</td>\n      <td>1</td>\n      <td>product1</td>\n      <td>2019-11-01 17:59:28.459271</td>\n      <td>219483890</td>\n    </tr>\n    <tr>\n      <th>2</th>\n      <td>11bf77c7-7fd8-4b6d-a3aa-89bc8f833c4e</td>\n      <td>raw</td>\n      <td>2</td>\n      <td>cart</td>\n      <td>2019-11-01 17:59:29.502214</td>\n      <td>219483890</td>\n    </tr>\n    <tr>\n      <th>3</th>\n      <td>c633b530-c6f7-4e88-aca1-4b8ac61e0ced</td>\n      <td>raw</td>\n      <td>3</td>\n      <td>catalog</td>\n      <td>2019-11-01 17:59:32.557029</td>\n      <td>219483890</td>\n    </tr>\n    <tr>\n      <th>2245</th>\n      <td>93386e57-8d24-443d-b8a4-3d6589043a04</td>\n      <td>raw</td>\n      <td>2245</td>\n      <td>main</td>\n      <td>2019-12-06 16:22:57.484842</td>\n      <td>219483890</td>\n    </tr>\n    <tr>\n      <th>2246</th>\n      <td>f41a1a8c-6505-467f-be21-a7fc4e801c63</td>\n      <td>raw</td>\n      <td>2246</td>\n      <td>catalog</td>\n      <td>2019-12-06 16:23:01.331109</td>\n      <td>219483890</td>\n    </tr>\n    <tr>\n      <th>2247</th>\n      <td>d0e89d8a-2880-44be-8fa6-c599d320e2ed</td>\n      <td>raw</td>\n      <td>2247</td>\n      <td>catalog</td>\n      <td>2019-12-06 16:23:48.116617</td>\n      <td>219483890</td>\n    </tr>\n    <tr>\n      <th>4836</th>\n      <td>2b36ef36-da8e-45ee-98cf-d1d6eb310258</td>\n      <td>raw</td>\n      <td>4836</td>\n      <td>main</td>\n      <td>2020-01-06 22:10:13.635011</td>\n      <td>219483890</td>\n    </tr>\n    <tr>\n      <th>4837</th>\n      <td>ab011b28-76c6-479d-84ca-0ac7eccfd1d9</td>\n      <td>raw</td>\n      <td>4837</td>\n      <td>catalog</td>\n      <td>2020-01-06 22:10:15.228575</td>\n      <td>219483890</td>\n    </tr>\n    <tr>\n      <th>4838</th>\n      <td>c46c026c-38cb-4194-bfb9-f4b592bd85f6</td>\n      <td>raw</td>\n      <td>4838</td>\n      <td>cart</td>\n      <td>2020-01-06 22:10:42.309028</td>\n      <td>219483890</td>\n    </tr>\n    <tr>\n      <th>4839</th>\n      <td>e404482e-a597-4ab1-9910-c9ba0e72f4e1</td>\n      <td>raw</td>\n      <td>4839</td>\n      <td>catalog</td>\n      <td>2020-01-06 22:10:52.255859</td>\n      <td>219483890</td>\n    </tr>\n    <tr>\n      <th>4840</th>\n      <td>345c7a61-216d-458c-ac36-55649bfa4cfb</td>\n      <td>raw</td>\n      <td>4840</td>\n      <td>product1</td>\n      <td>2020-01-06 22:11:01.709800</td>\n      <td>219483890</td>\n    </tr>\n    <tr>\n      <th>4841</th>\n      <td>2e1f0d7c-3bdf-4d5d-a0e9-d77c52cb9318</td>\n      <td>raw</td>\n      <td>4841</td>\n      <td>catalog</td>\n      <td>2020-01-06 22:11:02.899490</td>\n      <td>219483890</td>\n    </tr>\n    <tr>\n      <th>4842</th>\n      <td>2d07ecd1-6c76-446e-93ed-267a07b217dd</td>\n      <td>raw</td>\n      <td>4842</td>\n      <td>catalog</td>\n      <td>2020-01-06 22:11:28.271366</td>\n      <td>219483890</td>\n    </tr>\n    <tr>\n      <th>8736</th>\n      <td>ed61f4ff-430a-4df1-92c9-4b63c5928fea</td>\n      <td>raw</td>\n      <td>8736</td>\n      <td>main</td>\n      <td>2020-02-14 21:04:49.450696</td>\n      <td>219483890</td>\n    </tr>\n    <tr>\n      <th>8737</th>\n      <td>b95b3ad7-8088-46a7-9019-5ce5bfe2d709</td>\n      <td>raw</td>\n      <td>8737</td>\n      <td>catalog</td>\n      <td>2020-02-14 21:04:51.717127</td>\n      <td>219483890</td>\n    </tr>\n    <tr>\n      <th>8738</th>\n      <td>394d4b4f-e220-4205-947f-db1a568336d5</td>\n      <td>raw</td>\n      <td>8738</td>\n      <td>lost</td>\n      <td>2020-02-14 21:04:52.717127</td>\n      <td>219483890</td>\n    </tr>\n  </tbody>\n</table>\n</div>"
     },
     "execution_count": 29,
     "metadata": {},
     "output_type": "execute_result"
    }
   ],
   "source": [
    "print(len(source_df[source_df['user_id'] == 219483890]))\n",
    "source_df[source_df['user_id'] == 219483890].sort_values('event_timestamp')"
   ],
   "metadata": {
    "collapsed": false,
    "pycharm": {
     "name": "#%%\n"
    }
   }
  },
  {
   "cell_type": "code",
   "execution_count": 30,
   "outputs": [
    {
     "name": "stdout",
     "output_type": "stream",
     "text": [
      "18\n"
     ]
    },
    {
     "data": {
      "text/plain": "                                  event_id event_type  event_index event_name  \\\n0     a79291d0-2d08-4e79-957f-9bb5d2943ab3   new_user            0   new_user   \n1     ee8dc3b4-53f8-4f26-84a7-9a3d4b24dd2d        raw            1    catalog   \n2     73126e06-f817-470e-a397-0cf844023720        raw            2   product1   \n3     11bf77c7-7fd8-4b6d-a3aa-89bc8f833c4e        raw            3       cart   \n4     c633b530-c6f7-4e88-aca1-4b8ac61e0ced        raw            4    catalog   \n2553  93386e57-8d24-443d-b8a4-3d6589043a04        raw         2553       main   \n2554  f41a1a8c-6505-467f-be21-a7fc4e801c63        raw         2554    catalog   \n2555  d0e89d8a-2880-44be-8fa6-c599d320e2ed        raw         2555    catalog   \n5388  2b36ef36-da8e-45ee-98cf-d1d6eb310258        raw         5388       main   \n5389  ab011b28-76c6-479d-84ca-0ac7eccfd1d9        raw         5389    catalog   \n5390  c46c026c-38cb-4194-bfb9-f4b592bd85f6        raw         5390       cart   \n5391  e404482e-a597-4ab1-9910-c9ba0e72f4e1        raw         5391    catalog   \n5392  345c7a61-216d-458c-ac36-55649bfa4cfb        raw         5392   product1   \n5393  2e1f0d7c-3bdf-4d5d-a0e9-d77c52cb9318        raw         5393    catalog   \n5394  2d07ecd1-6c76-446e-93ed-267a07b217dd        raw         5394    catalog   \n9617  ed61f4ff-430a-4df1-92c9-4b63c5928fea        raw         9617       main   \n9618  b95b3ad7-8088-46a7-9019-5ce5bfe2d709        raw         9618    catalog   \n9619  394d4b4f-e220-4205-947f-db1a568336d5        raw         9619       lost   \n\n                event_timestamp      user_id  \n0    2019-11-01 17:59:13.273932  219483890.0  \n1    2019-11-01 17:59:13.273932  219483890.0  \n2    2019-11-01 17:59:28.459271  219483890.0  \n3    2019-11-01 17:59:29.502214  219483890.0  \n4    2019-11-01 17:59:32.557029  219483890.0  \n2553 2019-12-06 16:22:57.484842  219483890.0  \n2554 2019-12-06 16:23:01.331109  219483890.0  \n2555 2019-12-06 16:23:48.116617  219483890.0  \n5388 2020-01-06 22:10:13.635011  219483890.0  \n5389 2020-01-06 22:10:15.228575  219483890.0  \n5390 2020-01-06 22:10:42.309028  219483890.0  \n5391 2020-01-06 22:10:52.255859  219483890.0  \n5392 2020-01-06 22:11:01.709800  219483890.0  \n5393 2020-01-06 22:11:02.899490  219483890.0  \n5394 2020-01-06 22:11:28.271366  219483890.0  \n9617 2020-02-14 21:04:49.450696  219483890.0  \n9618 2020-02-14 21:04:51.717127  219483890.0  \n9619 2020-02-14 21:04:52.717127  219483890.0  ",
      "text/html": "<div>\n<style scoped>\n    .dataframe tbody tr th:only-of-type {\n        vertical-align: middle;\n    }\n\n    .dataframe tbody tr th {\n        vertical-align: top;\n    }\n\n    .dataframe thead th {\n        text-align: right;\n    }\n</style>\n<table border=\"1\" class=\"dataframe\">\n  <thead>\n    <tr style=\"text-align: right;\">\n      <th></th>\n      <th>event_id</th>\n      <th>event_type</th>\n      <th>event_index</th>\n      <th>event_name</th>\n      <th>event_timestamp</th>\n      <th>user_id</th>\n    </tr>\n  </thead>\n  <tbody>\n    <tr>\n      <th>0</th>\n      <td>a79291d0-2d08-4e79-957f-9bb5d2943ab3</td>\n      <td>new_user</td>\n      <td>0</td>\n      <td>new_user</td>\n      <td>2019-11-01 17:59:13.273932</td>\n      <td>219483890.0</td>\n    </tr>\n    <tr>\n      <th>1</th>\n      <td>ee8dc3b4-53f8-4f26-84a7-9a3d4b24dd2d</td>\n      <td>raw</td>\n      <td>1</td>\n      <td>catalog</td>\n      <td>2019-11-01 17:59:13.273932</td>\n      <td>219483890.0</td>\n    </tr>\n    <tr>\n      <th>2</th>\n      <td>73126e06-f817-470e-a397-0cf844023720</td>\n      <td>raw</td>\n      <td>2</td>\n      <td>product1</td>\n      <td>2019-11-01 17:59:28.459271</td>\n      <td>219483890.0</td>\n    </tr>\n    <tr>\n      <th>3</th>\n      <td>11bf77c7-7fd8-4b6d-a3aa-89bc8f833c4e</td>\n      <td>raw</td>\n      <td>3</td>\n      <td>cart</td>\n      <td>2019-11-01 17:59:29.502214</td>\n      <td>219483890.0</td>\n    </tr>\n    <tr>\n      <th>4</th>\n      <td>c633b530-c6f7-4e88-aca1-4b8ac61e0ced</td>\n      <td>raw</td>\n      <td>4</td>\n      <td>catalog</td>\n      <td>2019-11-01 17:59:32.557029</td>\n      <td>219483890.0</td>\n    </tr>\n    <tr>\n      <th>2553</th>\n      <td>93386e57-8d24-443d-b8a4-3d6589043a04</td>\n      <td>raw</td>\n      <td>2553</td>\n      <td>main</td>\n      <td>2019-12-06 16:22:57.484842</td>\n      <td>219483890.0</td>\n    </tr>\n    <tr>\n      <th>2554</th>\n      <td>f41a1a8c-6505-467f-be21-a7fc4e801c63</td>\n      <td>raw</td>\n      <td>2554</td>\n      <td>catalog</td>\n      <td>2019-12-06 16:23:01.331109</td>\n      <td>219483890.0</td>\n    </tr>\n    <tr>\n      <th>2555</th>\n      <td>d0e89d8a-2880-44be-8fa6-c599d320e2ed</td>\n      <td>raw</td>\n      <td>2555</td>\n      <td>catalog</td>\n      <td>2019-12-06 16:23:48.116617</td>\n      <td>219483890.0</td>\n    </tr>\n    <tr>\n      <th>5388</th>\n      <td>2b36ef36-da8e-45ee-98cf-d1d6eb310258</td>\n      <td>raw</td>\n      <td>5388</td>\n      <td>main</td>\n      <td>2020-01-06 22:10:13.635011</td>\n      <td>219483890.0</td>\n    </tr>\n    <tr>\n      <th>5389</th>\n      <td>ab011b28-76c6-479d-84ca-0ac7eccfd1d9</td>\n      <td>raw</td>\n      <td>5389</td>\n      <td>catalog</td>\n      <td>2020-01-06 22:10:15.228575</td>\n      <td>219483890.0</td>\n    </tr>\n    <tr>\n      <th>5390</th>\n      <td>c46c026c-38cb-4194-bfb9-f4b592bd85f6</td>\n      <td>raw</td>\n      <td>5390</td>\n      <td>cart</td>\n      <td>2020-01-06 22:10:42.309028</td>\n      <td>219483890.0</td>\n    </tr>\n    <tr>\n      <th>5391</th>\n      <td>e404482e-a597-4ab1-9910-c9ba0e72f4e1</td>\n      <td>raw</td>\n      <td>5391</td>\n      <td>catalog</td>\n      <td>2020-01-06 22:10:52.255859</td>\n      <td>219483890.0</td>\n    </tr>\n    <tr>\n      <th>5392</th>\n      <td>345c7a61-216d-458c-ac36-55649bfa4cfb</td>\n      <td>raw</td>\n      <td>5392</td>\n      <td>product1</td>\n      <td>2020-01-06 22:11:01.709800</td>\n      <td>219483890.0</td>\n    </tr>\n    <tr>\n      <th>5393</th>\n      <td>2e1f0d7c-3bdf-4d5d-a0e9-d77c52cb9318</td>\n      <td>raw</td>\n      <td>5393</td>\n      <td>catalog</td>\n      <td>2020-01-06 22:11:02.899490</td>\n      <td>219483890.0</td>\n    </tr>\n    <tr>\n      <th>5394</th>\n      <td>2d07ecd1-6c76-446e-93ed-267a07b217dd</td>\n      <td>raw</td>\n      <td>5394</td>\n      <td>catalog</td>\n      <td>2020-01-06 22:11:28.271366</td>\n      <td>219483890.0</td>\n    </tr>\n    <tr>\n      <th>9617</th>\n      <td>ed61f4ff-430a-4df1-92c9-4b63c5928fea</td>\n      <td>raw</td>\n      <td>9617</td>\n      <td>main</td>\n      <td>2020-02-14 21:04:49.450696</td>\n      <td>219483890.0</td>\n    </tr>\n    <tr>\n      <th>9618</th>\n      <td>b95b3ad7-8088-46a7-9019-5ce5bfe2d709</td>\n      <td>raw</td>\n      <td>9618</td>\n      <td>catalog</td>\n      <td>2020-02-14 21:04:51.717127</td>\n      <td>219483890.0</td>\n    </tr>\n    <tr>\n      <th>9619</th>\n      <td>394d4b4f-e220-4205-947f-db1a568336d5</td>\n      <td>raw</td>\n      <td>9619</td>\n      <td>lost</td>\n      <td>2020-02-14 21:04:52.717127</td>\n      <td>219483890.0</td>\n    </tr>\n  </tbody>\n</table>\n</div>"
     },
     "execution_count": 30,
     "metadata": {},
     "output_type": "execute_result"
    }
   ],
   "source": [
    "print(len(df1[df1['user_id'] == 219483890]))\n",
    "df1[df1['user_id'] == 219483890].sort_values('event_timestamp')"
   ],
   "metadata": {
    "collapsed": false,
    "pycharm": {
     "name": "#%%\n"
    }
   }
  },
  {
   "cell_type": "code",
   "execution_count": 31,
   "outputs": [
    {
     "data": {
      "text/plain": "                               event_id event_type  event_index event_name  \\\n1  ee8dc3b4-53f8-4f26-84a7-9a3d4b24dd2d        raw            1    catalog   \n\n             event_timestamp      user_id  \n1 2019-11-01 17:59:13.273932  219483890.0  ",
      "text/html": "<div>\n<style scoped>\n    .dataframe tbody tr th:only-of-type {\n        vertical-align: middle;\n    }\n\n    .dataframe tbody tr th {\n        vertical-align: top;\n    }\n\n    .dataframe thead th {\n        text-align: right;\n    }\n</style>\n<table border=\"1\" class=\"dataframe\">\n  <thead>\n    <tr style=\"text-align: right;\">\n      <th></th>\n      <th>event_id</th>\n      <th>event_type</th>\n      <th>event_index</th>\n      <th>event_name</th>\n      <th>event_timestamp</th>\n      <th>user_id</th>\n    </tr>\n  </thead>\n  <tbody>\n    <tr>\n      <th>1</th>\n      <td>ee8dc3b4-53f8-4f26-84a7-9a3d4b24dd2d</td>\n      <td>raw</td>\n      <td>1</td>\n      <td>catalog</td>\n      <td>2019-11-01 17:59:13.273932</td>\n      <td>219483890.0</td>\n    </tr>\n  </tbody>\n</table>\n</div>"
     },
     "execution_count": 31,
     "metadata": {},
     "output_type": "execute_result"
    }
   ],
   "source": [
    "check_id = source_df[source_df['user_id'] == 219483890]['event_id'][0]\n",
    "df1[df1['event_id'] == check_id]"
   ],
   "metadata": {
    "collapsed": false,
    "pycharm": {
     "name": "#%%\n"
    }
   }
  },
  {
   "cell_type": "code",
   "execution_count": 32,
   "outputs": [
    {
     "name": "stdout",
     "output_type": "stream",
     "text": [
      "13\n"
     ]
    },
    {
     "data": {
      "text/plain": "                                  event_id event_type  event_index  \\\n4     1dd47e39-bcd0-4a11-9970-66c3ddaace26        raw            4   \n5     e41dd2c3-f09b-467a-b714-626efa161922        raw            5   \n6     9842ecfe-6246-4073-89a6-7996a7e61190        raw            6   \n2439  64e3b5d4-fbf3-45ed-be1b-e428e6a2eb87        raw         2439   \n2440  41961e8a-9a91-4af9-8a98-8c52a7ea22f0        raw         2440   \n2441  bbe2ee2e-21fe-469e-b26f-d0a399eec37c        raw         2441   \n2442  6f651ba6-fff4-4bfd-adeb-e2a762e93f1c        raw         2442   \n2443  0d6812eb-b8e1-4d7d-ba04-62f61d2074d1        raw         2443   \n2444  71f430ce-4fc8-468d-83ff-611096d0e6b9        raw         2444   \n2445  06992a83-86d8-40dc-b01d-800f96cc9a1f        raw         2445   \n2446  ea2f200d-c18c-481d-bfea-c3c38a853bb5        raw         2446   \n2447  22b06c06-32a2-4b5b-8d01-596703a5a0df        raw         2447   \n2448  79552656-f08f-4bda-afd9-fb526cd48b92        raw         2448   \n\n           event_name            event_timestamp    user_id  \n4             catalog 2019-11-01 21:38:19.283663  964964743  \n5                cart 2019-11-01 21:38:36.761221  964964743  \n6     delivery_choice 2019-11-01 21:38:37.564693  964964743  \n2439             main 2019-12-09 01:42:22.801831  964964743  \n2440          catalog 2019-12-09 01:42:23.617764  964964743  \n2441         product2 2019-12-09 01:42:56.877340  964964743  \n2442          catalog 2019-12-09 01:43:05.436223  964964743  \n2443          catalog 2019-12-09 01:43:36.923178  964964743  \n2444         product2 2019-12-09 01:43:41.174195  964964743  \n2445             cart 2019-12-09 01:43:57.325569  964964743  \n2446  delivery_choice 2019-12-09 01:43:57.486518  964964743  \n2447  delivery_pickup 2019-12-09 01:43:57.766850  964964743  \n2448             lost 2019-12-09 01:43:58.766850  964964743  ",
      "text/html": "<div>\n<style scoped>\n    .dataframe tbody tr th:only-of-type {\n        vertical-align: middle;\n    }\n\n    .dataframe tbody tr th {\n        vertical-align: top;\n    }\n\n    .dataframe thead th {\n        text-align: right;\n    }\n</style>\n<table border=\"1\" class=\"dataframe\">\n  <thead>\n    <tr style=\"text-align: right;\">\n      <th></th>\n      <th>event_id</th>\n      <th>event_type</th>\n      <th>event_index</th>\n      <th>event_name</th>\n      <th>event_timestamp</th>\n      <th>user_id</th>\n    </tr>\n  </thead>\n  <tbody>\n    <tr>\n      <th>4</th>\n      <td>1dd47e39-bcd0-4a11-9970-66c3ddaace26</td>\n      <td>raw</td>\n      <td>4</td>\n      <td>catalog</td>\n      <td>2019-11-01 21:38:19.283663</td>\n      <td>964964743</td>\n    </tr>\n    <tr>\n      <th>5</th>\n      <td>e41dd2c3-f09b-467a-b714-626efa161922</td>\n      <td>raw</td>\n      <td>5</td>\n      <td>cart</td>\n      <td>2019-11-01 21:38:36.761221</td>\n      <td>964964743</td>\n    </tr>\n    <tr>\n      <th>6</th>\n      <td>9842ecfe-6246-4073-89a6-7996a7e61190</td>\n      <td>raw</td>\n      <td>6</td>\n      <td>delivery_choice</td>\n      <td>2019-11-01 21:38:37.564693</td>\n      <td>964964743</td>\n    </tr>\n    <tr>\n      <th>2439</th>\n      <td>64e3b5d4-fbf3-45ed-be1b-e428e6a2eb87</td>\n      <td>raw</td>\n      <td>2439</td>\n      <td>main</td>\n      <td>2019-12-09 01:42:22.801831</td>\n      <td>964964743</td>\n    </tr>\n    <tr>\n      <th>2440</th>\n      <td>41961e8a-9a91-4af9-8a98-8c52a7ea22f0</td>\n      <td>raw</td>\n      <td>2440</td>\n      <td>catalog</td>\n      <td>2019-12-09 01:42:23.617764</td>\n      <td>964964743</td>\n    </tr>\n    <tr>\n      <th>2441</th>\n      <td>bbe2ee2e-21fe-469e-b26f-d0a399eec37c</td>\n      <td>raw</td>\n      <td>2441</td>\n      <td>product2</td>\n      <td>2019-12-09 01:42:56.877340</td>\n      <td>964964743</td>\n    </tr>\n    <tr>\n      <th>2442</th>\n      <td>6f651ba6-fff4-4bfd-adeb-e2a762e93f1c</td>\n      <td>raw</td>\n      <td>2442</td>\n      <td>catalog</td>\n      <td>2019-12-09 01:43:05.436223</td>\n      <td>964964743</td>\n    </tr>\n    <tr>\n      <th>2443</th>\n      <td>0d6812eb-b8e1-4d7d-ba04-62f61d2074d1</td>\n      <td>raw</td>\n      <td>2443</td>\n      <td>catalog</td>\n      <td>2019-12-09 01:43:36.923178</td>\n      <td>964964743</td>\n    </tr>\n    <tr>\n      <th>2444</th>\n      <td>71f430ce-4fc8-468d-83ff-611096d0e6b9</td>\n      <td>raw</td>\n      <td>2444</td>\n      <td>product2</td>\n      <td>2019-12-09 01:43:41.174195</td>\n      <td>964964743</td>\n    </tr>\n    <tr>\n      <th>2445</th>\n      <td>06992a83-86d8-40dc-b01d-800f96cc9a1f</td>\n      <td>raw</td>\n      <td>2445</td>\n      <td>cart</td>\n      <td>2019-12-09 01:43:57.325569</td>\n      <td>964964743</td>\n    </tr>\n    <tr>\n      <th>2446</th>\n      <td>ea2f200d-c18c-481d-bfea-c3c38a853bb5</td>\n      <td>raw</td>\n      <td>2446</td>\n      <td>delivery_choice</td>\n      <td>2019-12-09 01:43:57.486518</td>\n      <td>964964743</td>\n    </tr>\n    <tr>\n      <th>2447</th>\n      <td>22b06c06-32a2-4b5b-8d01-596703a5a0df</td>\n      <td>raw</td>\n      <td>2447</td>\n      <td>delivery_pickup</td>\n      <td>2019-12-09 01:43:57.766850</td>\n      <td>964964743</td>\n    </tr>\n    <tr>\n      <th>2448</th>\n      <td>79552656-f08f-4bda-afd9-fb526cd48b92</td>\n      <td>raw</td>\n      <td>2448</td>\n      <td>lost</td>\n      <td>2019-12-09 01:43:58.766850</td>\n      <td>964964743</td>\n    </tr>\n  </tbody>\n</table>\n</div>"
     },
     "execution_count": 32,
     "metadata": {},
     "output_type": "execute_result"
    }
   ],
   "source": [
    "print(len(source_df[source_df['user_id'] == 964964743]))\n",
    "source_df[source_df['user_id'] == 964964743].sort_values('event_timestamp')"
   ],
   "metadata": {
    "collapsed": false,
    "pycharm": {
     "name": "#%%\n"
    }
   }
  },
  {
   "cell_type": "code",
   "execution_count": 33,
   "outputs": [
    {
     "name": "stdout",
     "output_type": "stream",
     "text": [
      "14\n"
     ]
    },
    {
     "data": {
      "text/plain": "                                  event_id event_type  event_index  \\\n5     d238ef36-a22c-415d-be4b-4ece3edffd18   new_user            5   \n6     1dd47e39-bcd0-4a11-9970-66c3ddaace26        raw            6   \n7     e41dd2c3-f09b-467a-b714-626efa161922        raw            7   \n8     9842ecfe-6246-4073-89a6-7996a7e61190        raw            8   \n2768  64e3b5d4-fbf3-45ed-be1b-e428e6a2eb87        raw         2768   \n2769  41961e8a-9a91-4af9-8a98-8c52a7ea22f0        raw         2769   \n2770  bbe2ee2e-21fe-469e-b26f-d0a399eec37c        raw         2770   \n2771  6f651ba6-fff4-4bfd-adeb-e2a762e93f1c        raw         2771   \n2772  0d6812eb-b8e1-4d7d-ba04-62f61d2074d1        raw         2772   \n2773  71f430ce-4fc8-468d-83ff-611096d0e6b9        raw         2773   \n2774  06992a83-86d8-40dc-b01d-800f96cc9a1f        raw         2774   \n2775  ea2f200d-c18c-481d-bfea-c3c38a853bb5        raw         2775   \n2776  22b06c06-32a2-4b5b-8d01-596703a5a0df        raw         2776   \n2777  79552656-f08f-4bda-afd9-fb526cd48b92        raw         2777   \n\n           event_name            event_timestamp      user_id  \n5            new_user 2019-11-01 21:38:19.283663  964964743.0  \n6             catalog 2019-11-01 21:38:19.283663  964964743.0  \n7                cart 2019-11-01 21:38:36.761221  964964743.0  \n8     delivery_choice 2019-11-01 21:38:37.564693  964964743.0  \n2768             main 2019-12-09 01:42:22.801831  964964743.0  \n2769          catalog 2019-12-09 01:42:23.617764  964964743.0  \n2770         product2 2019-12-09 01:42:56.877340  964964743.0  \n2771          catalog 2019-12-09 01:43:05.436223  964964743.0  \n2772          catalog 2019-12-09 01:43:36.923178  964964743.0  \n2773         product2 2019-12-09 01:43:41.174195  964964743.0  \n2774             cart 2019-12-09 01:43:57.325569  964964743.0  \n2775  delivery_choice 2019-12-09 01:43:57.486518  964964743.0  \n2776  delivery_pickup 2019-12-09 01:43:57.766850  964964743.0  \n2777             lost 2019-12-09 01:43:58.766850  964964743.0  ",
      "text/html": "<div>\n<style scoped>\n    .dataframe tbody tr th:only-of-type {\n        vertical-align: middle;\n    }\n\n    .dataframe tbody tr th {\n        vertical-align: top;\n    }\n\n    .dataframe thead th {\n        text-align: right;\n    }\n</style>\n<table border=\"1\" class=\"dataframe\">\n  <thead>\n    <tr style=\"text-align: right;\">\n      <th></th>\n      <th>event_id</th>\n      <th>event_type</th>\n      <th>event_index</th>\n      <th>event_name</th>\n      <th>event_timestamp</th>\n      <th>user_id</th>\n    </tr>\n  </thead>\n  <tbody>\n    <tr>\n      <th>5</th>\n      <td>d238ef36-a22c-415d-be4b-4ece3edffd18</td>\n      <td>new_user</td>\n      <td>5</td>\n      <td>new_user</td>\n      <td>2019-11-01 21:38:19.283663</td>\n      <td>964964743.0</td>\n    </tr>\n    <tr>\n      <th>6</th>\n      <td>1dd47e39-bcd0-4a11-9970-66c3ddaace26</td>\n      <td>raw</td>\n      <td>6</td>\n      <td>catalog</td>\n      <td>2019-11-01 21:38:19.283663</td>\n      <td>964964743.0</td>\n    </tr>\n    <tr>\n      <th>7</th>\n      <td>e41dd2c3-f09b-467a-b714-626efa161922</td>\n      <td>raw</td>\n      <td>7</td>\n      <td>cart</td>\n      <td>2019-11-01 21:38:36.761221</td>\n      <td>964964743.0</td>\n    </tr>\n    <tr>\n      <th>8</th>\n      <td>9842ecfe-6246-4073-89a6-7996a7e61190</td>\n      <td>raw</td>\n      <td>8</td>\n      <td>delivery_choice</td>\n      <td>2019-11-01 21:38:37.564693</td>\n      <td>964964743.0</td>\n    </tr>\n    <tr>\n      <th>2768</th>\n      <td>64e3b5d4-fbf3-45ed-be1b-e428e6a2eb87</td>\n      <td>raw</td>\n      <td>2768</td>\n      <td>main</td>\n      <td>2019-12-09 01:42:22.801831</td>\n      <td>964964743.0</td>\n    </tr>\n    <tr>\n      <th>2769</th>\n      <td>41961e8a-9a91-4af9-8a98-8c52a7ea22f0</td>\n      <td>raw</td>\n      <td>2769</td>\n      <td>catalog</td>\n      <td>2019-12-09 01:42:23.617764</td>\n      <td>964964743.0</td>\n    </tr>\n    <tr>\n      <th>2770</th>\n      <td>bbe2ee2e-21fe-469e-b26f-d0a399eec37c</td>\n      <td>raw</td>\n      <td>2770</td>\n      <td>product2</td>\n      <td>2019-12-09 01:42:56.877340</td>\n      <td>964964743.0</td>\n    </tr>\n    <tr>\n      <th>2771</th>\n      <td>6f651ba6-fff4-4bfd-adeb-e2a762e93f1c</td>\n      <td>raw</td>\n      <td>2771</td>\n      <td>catalog</td>\n      <td>2019-12-09 01:43:05.436223</td>\n      <td>964964743.0</td>\n    </tr>\n    <tr>\n      <th>2772</th>\n      <td>0d6812eb-b8e1-4d7d-ba04-62f61d2074d1</td>\n      <td>raw</td>\n      <td>2772</td>\n      <td>catalog</td>\n      <td>2019-12-09 01:43:36.923178</td>\n      <td>964964743.0</td>\n    </tr>\n    <tr>\n      <th>2773</th>\n      <td>71f430ce-4fc8-468d-83ff-611096d0e6b9</td>\n      <td>raw</td>\n      <td>2773</td>\n      <td>product2</td>\n      <td>2019-12-09 01:43:41.174195</td>\n      <td>964964743.0</td>\n    </tr>\n    <tr>\n      <th>2774</th>\n      <td>06992a83-86d8-40dc-b01d-800f96cc9a1f</td>\n      <td>raw</td>\n      <td>2774</td>\n      <td>cart</td>\n      <td>2019-12-09 01:43:57.325569</td>\n      <td>964964743.0</td>\n    </tr>\n    <tr>\n      <th>2775</th>\n      <td>ea2f200d-c18c-481d-bfea-c3c38a853bb5</td>\n      <td>raw</td>\n      <td>2775</td>\n      <td>delivery_choice</td>\n      <td>2019-12-09 01:43:57.486518</td>\n      <td>964964743.0</td>\n    </tr>\n    <tr>\n      <th>2776</th>\n      <td>22b06c06-32a2-4b5b-8d01-596703a5a0df</td>\n      <td>raw</td>\n      <td>2776</td>\n      <td>delivery_pickup</td>\n      <td>2019-12-09 01:43:57.766850</td>\n      <td>964964743.0</td>\n    </tr>\n    <tr>\n      <th>2777</th>\n      <td>79552656-f08f-4bda-afd9-fb526cd48b92</td>\n      <td>raw</td>\n      <td>2777</td>\n      <td>lost</td>\n      <td>2019-12-09 01:43:58.766850</td>\n      <td>964964743.0</td>\n    </tr>\n  </tbody>\n</table>\n</div>"
     },
     "execution_count": 33,
     "metadata": {},
     "output_type": "execute_result"
    }
   ],
   "source": [
    "print(len(df1[df1['user_id'] == 964964743]))\n",
    "df1[df1['user_id'] == 964964743].sort_values('event_timestamp')"
   ],
   "metadata": {
    "collapsed": false,
    "pycharm": {
     "name": "#%%\n"
    }
   }
  },
  {
   "cell_type": "markdown",
   "source": [
    "### зададим ноды последовательно"
   ],
   "metadata": {
    "collapsed": false,
    "pycharm": {
     "name": "#%% md\n"
    }
   }
  },
  {
   "cell_type": "code",
   "execution_count": 34,
   "outputs": [
    {
     "data": {
      "text/plain": "                               event_id event_type  event_index event_name  \\\n0  d5d013d7-c5f4-424c-83f1-a260ecc198ea      start            0      start   \n1  92c3542f-7c7d-4a8b-9d36-0d74dd028619   new_user            1   new_user   \n2  ee8dc3b4-53f8-4f26-84a7-9a3d4b24dd2d        raw            2    catalog   \n3  73126e06-f817-470e-a397-0cf844023720        raw            3   product1   \n4  11bf77c7-7fd8-4b6d-a3aa-89bc8f833c4e        raw            4       cart   \n5  c633b530-c6f7-4e88-aca1-4b8ac61e0ced        raw            5    catalog   \n6  248f873d-878d-419e-9d6b-89936b34a55f      start            6      start   \n7  6d4882cb-8661-4d95-8777-19651b1a3e80     resume            7     resume   \n\n             event_timestamp      user_id  \n0 2019-11-01 17:59:13.273932  219483890.0  \n1 2019-11-01 17:59:13.273932  219483890.0  \n2 2019-11-01 17:59:13.273932  219483890.0  \n3 2019-11-01 17:59:28.459271  219483890.0  \n4 2019-11-01 17:59:29.502214  219483890.0  \n5 2019-11-01 17:59:32.557029  219483890.0  \n6 2019-11-01 21:38:19.283663  964964743.0  \n7 2019-11-01 21:38:19.283663  964964743.0  ",
      "text/html": "<div>\n<style scoped>\n    .dataframe tbody tr th:only-of-type {\n        vertical-align: middle;\n    }\n\n    .dataframe tbody tr th {\n        vertical-align: top;\n    }\n\n    .dataframe thead th {\n        text-align: right;\n    }\n</style>\n<table border=\"1\" class=\"dataframe\">\n  <thead>\n    <tr style=\"text-align: right;\">\n      <th></th>\n      <th>event_id</th>\n      <th>event_type</th>\n      <th>event_index</th>\n      <th>event_name</th>\n      <th>event_timestamp</th>\n      <th>user_id</th>\n    </tr>\n  </thead>\n  <tbody>\n    <tr>\n      <th>0</th>\n      <td>d5d013d7-c5f4-424c-83f1-a260ecc198ea</td>\n      <td>start</td>\n      <td>0</td>\n      <td>start</td>\n      <td>2019-11-01 17:59:13.273932</td>\n      <td>219483890.0</td>\n    </tr>\n    <tr>\n      <th>1</th>\n      <td>92c3542f-7c7d-4a8b-9d36-0d74dd028619</td>\n      <td>new_user</td>\n      <td>1</td>\n      <td>new_user</td>\n      <td>2019-11-01 17:59:13.273932</td>\n      <td>219483890.0</td>\n    </tr>\n    <tr>\n      <th>2</th>\n      <td>ee8dc3b4-53f8-4f26-84a7-9a3d4b24dd2d</td>\n      <td>raw</td>\n      <td>2</td>\n      <td>catalog</td>\n      <td>2019-11-01 17:59:13.273932</td>\n      <td>219483890.0</td>\n    </tr>\n    <tr>\n      <th>3</th>\n      <td>73126e06-f817-470e-a397-0cf844023720</td>\n      <td>raw</td>\n      <td>3</td>\n      <td>product1</td>\n      <td>2019-11-01 17:59:28.459271</td>\n      <td>219483890.0</td>\n    </tr>\n    <tr>\n      <th>4</th>\n      <td>11bf77c7-7fd8-4b6d-a3aa-89bc8f833c4e</td>\n      <td>raw</td>\n      <td>4</td>\n      <td>cart</td>\n      <td>2019-11-01 17:59:29.502214</td>\n      <td>219483890.0</td>\n    </tr>\n    <tr>\n      <th>5</th>\n      <td>c633b530-c6f7-4e88-aca1-4b8ac61e0ced</td>\n      <td>raw</td>\n      <td>5</td>\n      <td>catalog</td>\n      <td>2019-11-01 17:59:32.557029</td>\n      <td>219483890.0</td>\n    </tr>\n    <tr>\n      <th>6</th>\n      <td>248f873d-878d-419e-9d6b-89936b34a55f</td>\n      <td>start</td>\n      <td>6</td>\n      <td>start</td>\n      <td>2019-11-01 21:38:19.283663</td>\n      <td>964964743.0</td>\n    </tr>\n    <tr>\n      <th>7</th>\n      <td>6d4882cb-8661-4d95-8777-19651b1a3e80</td>\n      <td>resume</td>\n      <td>7</td>\n      <td>resume</td>\n      <td>2019-11-01 21:38:19.283663</td>\n      <td>964964743.0</td>\n    </tr>\n  </tbody>\n</table>\n</div>"
     },
     "execution_count": 34,
     "metadata": {},
     "output_type": "execute_result"
    }
   ],
   "source": [
    "new_user_list = [219483890]\n",
    "\n",
    "new_resume_events1 = EventsNode(\n",
    "    NewResumeEvents(params=NewResumeParams(new_users_list=new_user_list)))\n",
    "\n",
    "\n",
    "graph.add_node(\n",
    "    node=new_resume_events1,\n",
    "    parents=[start_end_events]\n",
    ")\n",
    "\n",
    "result_seq = graph.combine(\n",
    "    node=new_resume_events1\n",
    ")\n",
    "result_seq.to_dataframe().head(8)"
   ],
   "metadata": {
    "collapsed": false,
    "pycharm": {
     "name": "#%%\n"
    }
   }
  },
  {
   "cell_type": "code",
   "execution_count": 35,
   "outputs": [
    {
     "data": {
      "text/plain": "(46634, 35381)"
     },
     "execution_count": 35,
     "metadata": {},
     "output_type": "execute_result"
    }
   ],
   "source": [
    "len(result_seq.to_dataframe()), len(source_df)"
   ],
   "metadata": {
    "collapsed": false,
    "pycharm": {
     "name": "#%%\n"
    }
   }
  },
  {
   "cell_type": "code",
   "execution_count": 36,
   "outputs": [
    {
     "data": {
      "text/plain": "raw         35381\nstart        3751\nend          3751\nresume       3750\nnew_user        1\nName: event_type, dtype: int64"
     },
     "execution_count": 36,
     "metadata": {},
     "output_type": "execute_result"
    }
   ],
   "source": [
    "result_seq.to_dataframe()['event_type'].value_counts()"
   ],
   "metadata": {
    "collapsed": false,
    "pycharm": {
     "name": "#%%\n"
    }
   }
  },
  {
   "cell_type": "code",
   "execution_count": 37,
   "outputs": [
    {
     "data": {
      "text/plain": "raw         35381\nnew_user     3751\nName: event_type, dtype: int64"
     },
     "execution_count": 37,
     "metadata": {},
     "output_type": "execute_result"
    }
   ],
   "source": [
    "result.to_dataframe()['event_type'].value_counts()"
   ],
   "metadata": {
    "collapsed": false,
    "pycharm": {
     "name": "#%%\n"
    }
   }
  },
  {
   "cell_type": "code",
   "execution_count": 38,
   "outputs": [
    {
     "data": {
      "text/plain": "raw    35381\nName: event_type, dtype: int64"
     },
     "execution_count": 38,
     "metadata": {},
     "output_type": "execute_result"
    }
   ],
   "source": [
    "source_df['event_type'].value_counts()"
   ],
   "metadata": {
    "collapsed": false,
    "pycharm": {
     "name": "#%%\n"
    }
   }
  },
  {
   "cell_type": "code",
   "execution_count": 39,
   "outputs": [],
   "source": [
    "df2 = result_seq.to_dataframe()"
   ],
   "metadata": {
    "collapsed": false,
    "pycharm": {
     "name": "#%%\n"
    }
   }
  },
  {
   "cell_type": "code",
   "execution_count": 40,
   "outputs": [
    {
     "name": "stdout",
     "output_type": "stream",
     "text": [
      "20\n"
     ]
    },
    {
     "data": {
      "text/plain": "                                   event_id event_type  event_index  \\\n0      d5d013d7-c5f4-424c-83f1-a260ecc198ea      start            0   \n1      92c3542f-7c7d-4a8b-9d36-0d74dd028619   new_user            1   \n2      ee8dc3b4-53f8-4f26-84a7-9a3d4b24dd2d        raw            2   \n3      73126e06-f817-470e-a397-0cf844023720        raw            3   \n4      11bf77c7-7fd8-4b6d-a3aa-89bc8f833c4e        raw            4   \n5      c633b530-c6f7-4e88-aca1-4b8ac61e0ced        raw            5   \n3023   93386e57-8d24-443d-b8a4-3d6589043a04        raw         3023   \n3024   f41a1a8c-6505-467f-be21-a7fc4e801c63        raw         3024   \n3025   d0e89d8a-2880-44be-8fa6-c599d320e2ed        raw         3025   \n6273   2b36ef36-da8e-45ee-98cf-d1d6eb310258        raw         6273   \n6274   ab011b28-76c6-479d-84ca-0ac7eccfd1d9        raw         6274   \n6275   c46c026c-38cb-4194-bfb9-f4b592bd85f6        raw         6275   \n6276   e404482e-a597-4ab1-9910-c9ba0e72f4e1        raw         6276   \n6277   345c7a61-216d-458c-ac36-55649bfa4cfb        raw         6277   \n6278   2e1f0d7c-3bdf-4d5d-a0e9-d77c52cb9318        raw         6278   \n6279   2d07ecd1-6c76-446e-93ed-267a07b217dd        raw         6279   \n11091  ed61f4ff-430a-4df1-92c9-4b63c5928fea        raw        11091   \n11092  b95b3ad7-8088-46a7-9019-5ce5bfe2d709        raw        11092   \n11093  394d4b4f-e220-4205-947f-db1a568336d5        raw        11093   \n11094  9ef475d4-9983-4d8e-b6ed-3812319c2581        end        11094   \n\n      event_name            event_timestamp      user_id  \n0          start 2019-11-01 17:59:13.273932  219483890.0  \n1       new_user 2019-11-01 17:59:13.273932  219483890.0  \n2        catalog 2019-11-01 17:59:13.273932  219483890.0  \n3       product1 2019-11-01 17:59:28.459271  219483890.0  \n4           cart 2019-11-01 17:59:29.502214  219483890.0  \n5        catalog 2019-11-01 17:59:32.557029  219483890.0  \n3023        main 2019-12-06 16:22:57.484842  219483890.0  \n3024     catalog 2019-12-06 16:23:01.331109  219483890.0  \n3025     catalog 2019-12-06 16:23:48.116617  219483890.0  \n6273        main 2020-01-06 22:10:13.635011  219483890.0  \n6274     catalog 2020-01-06 22:10:15.228575  219483890.0  \n6275        cart 2020-01-06 22:10:42.309028  219483890.0  \n6276     catalog 2020-01-06 22:10:52.255859  219483890.0  \n6277    product1 2020-01-06 22:11:01.709800  219483890.0  \n6278     catalog 2020-01-06 22:11:02.899490  219483890.0  \n6279     catalog 2020-01-06 22:11:28.271366  219483890.0  \n11091       main 2020-02-14 21:04:49.450696  219483890.0  \n11092    catalog 2020-02-14 21:04:51.717127  219483890.0  \n11093       lost 2020-02-14 21:04:52.717127  219483890.0  \n11094        end 2020-02-14 21:04:52.717127  219483890.0  ",
      "text/html": "<div>\n<style scoped>\n    .dataframe tbody tr th:only-of-type {\n        vertical-align: middle;\n    }\n\n    .dataframe tbody tr th {\n        vertical-align: top;\n    }\n\n    .dataframe thead th {\n        text-align: right;\n    }\n</style>\n<table border=\"1\" class=\"dataframe\">\n  <thead>\n    <tr style=\"text-align: right;\">\n      <th></th>\n      <th>event_id</th>\n      <th>event_type</th>\n      <th>event_index</th>\n      <th>event_name</th>\n      <th>event_timestamp</th>\n      <th>user_id</th>\n    </tr>\n  </thead>\n  <tbody>\n    <tr>\n      <th>0</th>\n      <td>d5d013d7-c5f4-424c-83f1-a260ecc198ea</td>\n      <td>start</td>\n      <td>0</td>\n      <td>start</td>\n      <td>2019-11-01 17:59:13.273932</td>\n      <td>219483890.0</td>\n    </tr>\n    <tr>\n      <th>1</th>\n      <td>92c3542f-7c7d-4a8b-9d36-0d74dd028619</td>\n      <td>new_user</td>\n      <td>1</td>\n      <td>new_user</td>\n      <td>2019-11-01 17:59:13.273932</td>\n      <td>219483890.0</td>\n    </tr>\n    <tr>\n      <th>2</th>\n      <td>ee8dc3b4-53f8-4f26-84a7-9a3d4b24dd2d</td>\n      <td>raw</td>\n      <td>2</td>\n      <td>catalog</td>\n      <td>2019-11-01 17:59:13.273932</td>\n      <td>219483890.0</td>\n    </tr>\n    <tr>\n      <th>3</th>\n      <td>73126e06-f817-470e-a397-0cf844023720</td>\n      <td>raw</td>\n      <td>3</td>\n      <td>product1</td>\n      <td>2019-11-01 17:59:28.459271</td>\n      <td>219483890.0</td>\n    </tr>\n    <tr>\n      <th>4</th>\n      <td>11bf77c7-7fd8-4b6d-a3aa-89bc8f833c4e</td>\n      <td>raw</td>\n      <td>4</td>\n      <td>cart</td>\n      <td>2019-11-01 17:59:29.502214</td>\n      <td>219483890.0</td>\n    </tr>\n    <tr>\n      <th>5</th>\n      <td>c633b530-c6f7-4e88-aca1-4b8ac61e0ced</td>\n      <td>raw</td>\n      <td>5</td>\n      <td>catalog</td>\n      <td>2019-11-01 17:59:32.557029</td>\n      <td>219483890.0</td>\n    </tr>\n    <tr>\n      <th>3023</th>\n      <td>93386e57-8d24-443d-b8a4-3d6589043a04</td>\n      <td>raw</td>\n      <td>3023</td>\n      <td>main</td>\n      <td>2019-12-06 16:22:57.484842</td>\n      <td>219483890.0</td>\n    </tr>\n    <tr>\n      <th>3024</th>\n      <td>f41a1a8c-6505-467f-be21-a7fc4e801c63</td>\n      <td>raw</td>\n      <td>3024</td>\n      <td>catalog</td>\n      <td>2019-12-06 16:23:01.331109</td>\n      <td>219483890.0</td>\n    </tr>\n    <tr>\n      <th>3025</th>\n      <td>d0e89d8a-2880-44be-8fa6-c599d320e2ed</td>\n      <td>raw</td>\n      <td>3025</td>\n      <td>catalog</td>\n      <td>2019-12-06 16:23:48.116617</td>\n      <td>219483890.0</td>\n    </tr>\n    <tr>\n      <th>6273</th>\n      <td>2b36ef36-da8e-45ee-98cf-d1d6eb310258</td>\n      <td>raw</td>\n      <td>6273</td>\n      <td>main</td>\n      <td>2020-01-06 22:10:13.635011</td>\n      <td>219483890.0</td>\n    </tr>\n    <tr>\n      <th>6274</th>\n      <td>ab011b28-76c6-479d-84ca-0ac7eccfd1d9</td>\n      <td>raw</td>\n      <td>6274</td>\n      <td>catalog</td>\n      <td>2020-01-06 22:10:15.228575</td>\n      <td>219483890.0</td>\n    </tr>\n    <tr>\n      <th>6275</th>\n      <td>c46c026c-38cb-4194-bfb9-f4b592bd85f6</td>\n      <td>raw</td>\n      <td>6275</td>\n      <td>cart</td>\n      <td>2020-01-06 22:10:42.309028</td>\n      <td>219483890.0</td>\n    </tr>\n    <tr>\n      <th>6276</th>\n      <td>e404482e-a597-4ab1-9910-c9ba0e72f4e1</td>\n      <td>raw</td>\n      <td>6276</td>\n      <td>catalog</td>\n      <td>2020-01-06 22:10:52.255859</td>\n      <td>219483890.0</td>\n    </tr>\n    <tr>\n      <th>6277</th>\n      <td>345c7a61-216d-458c-ac36-55649bfa4cfb</td>\n      <td>raw</td>\n      <td>6277</td>\n      <td>product1</td>\n      <td>2020-01-06 22:11:01.709800</td>\n      <td>219483890.0</td>\n    </tr>\n    <tr>\n      <th>6278</th>\n      <td>2e1f0d7c-3bdf-4d5d-a0e9-d77c52cb9318</td>\n      <td>raw</td>\n      <td>6278</td>\n      <td>catalog</td>\n      <td>2020-01-06 22:11:02.899490</td>\n      <td>219483890.0</td>\n    </tr>\n    <tr>\n      <th>6279</th>\n      <td>2d07ecd1-6c76-446e-93ed-267a07b217dd</td>\n      <td>raw</td>\n      <td>6279</td>\n      <td>catalog</td>\n      <td>2020-01-06 22:11:28.271366</td>\n      <td>219483890.0</td>\n    </tr>\n    <tr>\n      <th>11091</th>\n      <td>ed61f4ff-430a-4df1-92c9-4b63c5928fea</td>\n      <td>raw</td>\n      <td>11091</td>\n      <td>main</td>\n      <td>2020-02-14 21:04:49.450696</td>\n      <td>219483890.0</td>\n    </tr>\n    <tr>\n      <th>11092</th>\n      <td>b95b3ad7-8088-46a7-9019-5ce5bfe2d709</td>\n      <td>raw</td>\n      <td>11092</td>\n      <td>catalog</td>\n      <td>2020-02-14 21:04:51.717127</td>\n      <td>219483890.0</td>\n    </tr>\n    <tr>\n      <th>11093</th>\n      <td>394d4b4f-e220-4205-947f-db1a568336d5</td>\n      <td>raw</td>\n      <td>11093</td>\n      <td>lost</td>\n      <td>2020-02-14 21:04:52.717127</td>\n      <td>219483890.0</td>\n    </tr>\n    <tr>\n      <th>11094</th>\n      <td>9ef475d4-9983-4d8e-b6ed-3812319c2581</td>\n      <td>end</td>\n      <td>11094</td>\n      <td>end</td>\n      <td>2020-02-14 21:04:52.717127</td>\n      <td>219483890.0</td>\n    </tr>\n  </tbody>\n</table>\n</div>"
     },
     "execution_count": 40,
     "metadata": {},
     "output_type": "execute_result"
    }
   ],
   "source": [
    "print(len(df2[df2['user_id'] == 219483890]))\n",
    "df2[df2['user_id'] == 219483890].sort_values('event_timestamp')"
   ],
   "metadata": {
    "collapsed": false,
    "pycharm": {
     "name": "#%%\n"
    }
   }
  },
  {
   "cell_type": "code",
   "execution_count": 41,
   "outputs": [
    {
     "data": {
      "text/plain": "[<src.graph.p_graph.EventsNode at 0x1498133d0>]"
     },
     "execution_count": 41,
     "metadata": {},
     "output_type": "execute_result"
    }
   ],
   "source": [
    "graph.get_parents(new_resume_events1)"
   ],
   "metadata": {
    "collapsed": false,
    "pycharm": {
     "name": "#%%\n"
    }
   }
  },
  {
   "cell_type": "code",
   "execution_count": 41,
   "outputs": [],
   "source": [],
   "metadata": {
    "collapsed": false,
    "pycharm": {
     "name": "#%%\n"
    }
   }
  },
  {
   "cell_type": "markdown",
   "source": [
    "### Результат"
   ],
   "metadata": {
    "collapsed": false,
    "pycharm": {
     "name": "#%% md\n"
    }
   }
  },
  {
   "cell_type": "markdown",
   "source": [
    "1) [DONE] Обсуждали, что можно задать вот так тип new_users_list: List[int] | str\n",
    "у меня это не сработало\n",
    "В итоге поправила - new_users_list: Union[str, List[int]]\n",
    "2) [TODO] Можно ли как-то проставить конкретное значение \"all\"?\n",
    "Пока добавила отбивку\n",
    "3) [DONE] Дубликаты\n",
    "    - Задвоились все raw события, кроме первого,\n",
    "    - Первое событие удалилось по аналогии со start_end_events, проверила по id\n",
    "    -new_user и resume проставился правильно c правильным timestamp\n",
    "4) [TODO_analytics]\n",
    "При задании new_resume_events, должна быть возможность задать параметр \"all\" - чтобы всем проставить new_user - нужен он такой? нужен ли такой для resume?"
   ],
   "metadata": {
    "collapsed": false,
    "pycharm": {
     "name": "#%% md\n"
    }
   }
  },
  {
   "cell_type": "markdown",
   "source": [
    "## LostPause"
   ],
   "metadata": {
    "collapsed": false,
    "pycharm": {
     "name": "#%% md\n"
    }
   }
  },
  {
   "cell_type": "markdown",
   "source": [
    "### Описание работы функции"
   ],
   "metadata": {
    "collapsed": false,
    "pycharm": {
     "name": "#%% md\n"
    }
   }
  },
  {
   "cell_type": "markdown",
   "source": [
    "Добавлять события lost/pause можно двумя способами:\n",
    "\n",
    "1) В параметр ```lost_users_list = []``` передать список пользователей, которые ушли из продукта, для них добавятся события:\n",
    "```event_type = lost, event = lost, timestamp = timestamp(last_raw_event)```\n",
    "При этом для всех остальных, добавятся события:\n",
    "```event_type = pause, event = pause, timestamp = timestamp(last_raw_event)```\n",
    "Здесь можно опционально изменить дефолтную функцию, чтобы регулировать ```timestamp``` с которым будет добавлено синтетическое событие ```lost```\n",
    "\n",
    "<br>\n",
    "\n",
    "2) Или можно задать отсечку с помощью параметра ```lost_cutoff = [Tuple[float, str]]```\n",
    "И тогда всем юзерам, у которых время между последним событием в его траектории и окончанием всего датасета - больше заданной отсечки, мы проставляем:\n",
    "```event_type = lost, event = lost, timestamp = timestamp(last_raw_event)```\n",
    "При этом для всех остальных, добавятся события:\n",
    "```event_type = pause, event = pause, timestamp = timestamp(last_raw_event)```"
   ],
   "metadata": {
    "collapsed": false,
    "pycharm": {
     "name": "#%% md\n"
    }
   }
  },
  {
   "cell_type": "markdown",
   "source": [
    "### list"
   ],
   "metadata": {
    "collapsed": false,
    "pycharm": {
     "name": "#%% md\n"
    }
   }
  },
  {
   "cell_type": "code",
   "execution_count": 7,
   "outputs": [
    {
     "ename": "TypeError",
     "evalue": "_custom_func_lost() takes 0 positional arguments but 1 was given",
     "output_type": "error",
     "traceback": [
      "\u001B[0;31m---------------------------------------------------------------------------\u001B[0m",
      "\u001B[0;31mTypeError\u001B[0m                                 Traceback (most recent call last)",
      "Input \u001B[0;32mIn [7]\u001B[0m, in \u001B[0;36m<cell line: 14>\u001B[0;34m()\u001B[0m\n\u001B[1;32m      5\u001B[0m lost_pause_events \u001B[38;5;241m=\u001B[39m EventsNode(\n\u001B[1;32m      6\u001B[0m     LostPauseEvents(params\u001B[38;5;241m=\u001B[39mLostPauseParams(lost_users_list\u001B[38;5;241m=\u001B[39mlost_users_list_)))\n\u001B[1;32m      8\u001B[0m graph\u001B[38;5;241m.\u001B[39madd_node(\n\u001B[1;32m      9\u001B[0m     node\u001B[38;5;241m=\u001B[39mlost_pause_events,\n\u001B[1;32m     10\u001B[0m     parents\u001B[38;5;241m=\u001B[39m[graph\u001B[38;5;241m.\u001B[39mroot]\n\u001B[1;32m     11\u001B[0m )\n\u001B[0;32m---> 14\u001B[0m result \u001B[38;5;241m=\u001B[39m \u001B[43mgraph\u001B[49m\u001B[38;5;241;43m.\u001B[39;49m\u001B[43mcombine\u001B[49m\u001B[43m(\u001B[49m\n\u001B[1;32m     15\u001B[0m \u001B[43m    \u001B[49m\u001B[43mnode\u001B[49m\u001B[38;5;241;43m=\u001B[39;49m\u001B[43mlost_pause_events\u001B[49m\n\u001B[1;32m     16\u001B[0m \u001B[43m)\u001B[49m\n\u001B[1;32m     19\u001B[0m result\u001B[38;5;241m.\u001B[39mto_dataframe()\u001B[38;5;241m.\u001B[39mhead(\u001B[38;5;241m8\u001B[39m)\n",
      "File \u001B[0;32m~/Dev/Retentioneering/retentioneering-tools-new-arch/examples/../src/graph/p_graph.py:70\u001B[0m, in \u001B[0;36mPGraph.combine\u001B[0;34m(self, node)\u001B[0m\n\u001B[1;32m     67\u001B[0m     \u001B[38;5;28;01mreturn\u001B[39;00m node\u001B[38;5;241m.\u001B[39mevents\u001B[38;5;241m.\u001B[39mcopy()\n\u001B[1;32m     69\u001B[0m \u001B[38;5;28;01mif\u001B[39;00m \u001B[38;5;28misinstance\u001B[39m(node, EventsNode):\n\u001B[0;32m---> 70\u001B[0m     \u001B[38;5;28;01mreturn\u001B[39;00m \u001B[38;5;28;43mself\u001B[39;49m\u001B[38;5;241;43m.\u001B[39;49m\u001B[43mcombine_events_node\u001B[49m\u001B[43m(\u001B[49m\u001B[43mnode\u001B[49m\u001B[43m)\u001B[49m\n\u001B[1;32m     72\u001B[0m \u001B[38;5;28;01mreturn\u001B[39;00m \u001B[38;5;28mself\u001B[39m\u001B[38;5;241m.\u001B[39mcombine_merge_node(node)\n",
      "File \u001B[0;32m~/Dev/Retentioneering/retentioneering-tools-new-arch/examples/../src/graph/p_graph.py:77\u001B[0m, in \u001B[0;36mPGraph.combine_events_node\u001B[0;34m(self, node)\u001B[0m\n\u001B[1;32m     75\u001B[0m parent \u001B[38;5;241m=\u001B[39m \u001B[38;5;28mself\u001B[39m\u001B[38;5;241m.\u001B[39mget_events_node_parent(node)\n\u001B[1;32m     76\u001B[0m parent_events \u001B[38;5;241m=\u001B[39m \u001B[38;5;28mself\u001B[39m\u001B[38;5;241m.\u001B[39mcombine(parent)\n\u001B[0;32m---> 77\u001B[0m events \u001B[38;5;241m=\u001B[39m \u001B[43mnode\u001B[49m\u001B[38;5;241;43m.\u001B[39;49m\u001B[43mprocessor\u001B[49m\u001B[38;5;241;43m.\u001B[39;49m\u001B[43mapply\u001B[49m\u001B[43m(\u001B[49m\u001B[43mparent_events\u001B[49m\u001B[43m)\u001B[49m\n\u001B[1;32m     78\u001B[0m parent_events\u001B[38;5;241m.\u001B[39mjoin_eventstream(events)\n\u001B[1;32m     79\u001B[0m \u001B[38;5;28;01mreturn\u001B[39;00m parent_events\n",
      "File \u001B[0;32m~/Dev/Retentioneering/retentioneering-tools-new-arch/examples/../src/data_processors_lib/rete/lost_pause_events.py:78\u001B[0m, in \u001B[0;36mLostPauseEvents.apply\u001B[0;34m(self, eventstream)\u001B[0m\n\u001B[1;32m     76\u001B[0m \u001B[38;5;66;03m# TODO dasha определиться с условиями\u001B[39;00m\n\u001B[1;32m     77\u001B[0m \u001B[38;5;28;01melif\u001B[39;00m func \u001B[38;5;129;01mor\u001B[39;00m lost_users_list:\n\u001B[0;32m---> 78\u001B[0m     data_lost \u001B[38;5;241m=\u001B[39m \u001B[43mfunc\u001B[49m\u001B[43m(\u001B[49m\u001B[43mkwargs\u001B[49m\u001B[38;5;241;43m=\u001B[39;49m\u001B[38;5;28;43mdict\u001B[39;49m\u001B[43m(\u001B[49m\u001B[43meventstream\u001B[49m\u001B[38;5;241;43m=\u001B[39;49m\u001B[43meventstream\u001B[49m\u001B[43m,\u001B[49m\u001B[43m \u001B[49m\u001B[43mlost_users_list\u001B[49m\u001B[38;5;241;43m=\u001B[39;49m\u001B[43mlost_users_list\u001B[49m\u001B[43m)\u001B[49m\u001B[43m)\u001B[49m\n\u001B[1;32m     79\u001B[0m     \u001B[38;5;66;03m# TODO dasha добавить в пример пользоват функции, чтобы добавлялись только lost?\u001B[39;00m\n\u001B[1;32m     80\u001B[0m     data_lost[type_col] \u001B[38;5;241m=\u001B[39m \u001B[38;5;124m'\u001B[39m\u001B[38;5;124mlost\u001B[39m\u001B[38;5;124m'\u001B[39m\n",
      "\u001B[0;31mTypeError\u001B[0m: _custom_func_lost() takes 0 positional arguments but 1 was given"
     ]
    }
   ],
   "source": [
    "from src.data_processors_lib.rete import LostPauseEvents, LostPauseParams\n",
    "\n",
    "lost_users_list_ = [964964743]\n",
    "\n",
    "lost_pause_events = EventsNode(\n",
    "    LostPauseEvents(params=LostPauseParams(lost_users_list=lost_users_list_)))\n",
    "\n",
    "graph.add_node(\n",
    "    node=lost_pause_events,\n",
    "    parents=[graph.root]\n",
    ")\n",
    "\n",
    "\n",
    "result = graph.combine(\n",
    "    node=lost_pause_events\n",
    ")"
   ],
   "metadata": {
    "collapsed": false,
    "pycharm": {
     "name": "#%%\n"
    }
   }
  },
  {
   "cell_type": "code",
   "execution_count": null,
   "outputs": [],
   "source": [
    "df3 = result.to_dataframe()\n",
    "print(source_df.duplicated(['event_name', 'event_timestamp', 'user_id']).sum())\n",
    "print(df3.duplicated(['event_name', 'event_timestamp', 'user_id']).sum())"
   ],
   "metadata": {
    "collapsed": false,
    "pycharm": {
     "name": "#%%\n"
    }
   }
  },
  {
   "cell_type": "code",
   "execution_count": 10,
   "outputs": [
    {
     "ename": "NameError",
     "evalue": "name 'df3' is not defined",
     "output_type": "error",
     "traceback": [
      "\u001B[0;31m---------------------------------------------------------------------------\u001B[0m",
      "\u001B[0;31mNameError\u001B[0m                                 Traceback (most recent call last)",
      "Input \u001B[0;32mIn [10]\u001B[0m, in \u001B[0;36m<cell line: 1>\u001B[0;34m()\u001B[0m\n\u001B[0;32m----> 1\u001B[0m \u001B[38;5;28mprint\u001B[39m(\u001B[38;5;28mlen\u001B[39m(\u001B[43mdf3\u001B[49m[df3[\u001B[38;5;124m'\u001B[39m\u001B[38;5;124muser_id\u001B[39m\u001B[38;5;124m'\u001B[39m] \u001B[38;5;241m==\u001B[39m \u001B[38;5;241m964964743\u001B[39m]))\n\u001B[1;32m      2\u001B[0m df3[df3[\u001B[38;5;124m'\u001B[39m\u001B[38;5;124muser_id\u001B[39m\u001B[38;5;124m'\u001B[39m] \u001B[38;5;241m==\u001B[39m \u001B[38;5;241m964964743\u001B[39m]\n",
      "\u001B[0;31mNameError\u001B[0m: name 'df3' is not defined"
     ]
    }
   ],
   "source": [
    "print(len(df3[df3['user_id'] == 964964743]))\n",
    "df3[df3['user_id'] == 964964743]"
   ],
   "metadata": {
    "collapsed": false,
    "pycharm": {
     "name": "#%%\n"
    }
   }
  },
  {
   "cell_type": "code",
   "execution_count": 45,
   "outputs": [
    {
     "name": "stdout",
     "output_type": "stream",
     "text": [
      "13\n"
     ]
    },
    {
     "data": {
      "text/plain": "                                  event_id event_type  event_index  \\\n4     1dd47e39-bcd0-4a11-9970-66c3ddaace26        raw            4   \n5     e41dd2c3-f09b-467a-b714-626efa161922        raw            5   \n6     9842ecfe-6246-4073-89a6-7996a7e61190        raw            6   \n2439  64e3b5d4-fbf3-45ed-be1b-e428e6a2eb87        raw         2439   \n2440  41961e8a-9a91-4af9-8a98-8c52a7ea22f0        raw         2440   \n2441  bbe2ee2e-21fe-469e-b26f-d0a399eec37c        raw         2441   \n2442  6f651ba6-fff4-4bfd-adeb-e2a762e93f1c        raw         2442   \n2443  0d6812eb-b8e1-4d7d-ba04-62f61d2074d1        raw         2443   \n2444  71f430ce-4fc8-468d-83ff-611096d0e6b9        raw         2444   \n2445  06992a83-86d8-40dc-b01d-800f96cc9a1f        raw         2445   \n2446  ea2f200d-c18c-481d-bfea-c3c38a853bb5        raw         2446   \n2447  22b06c06-32a2-4b5b-8d01-596703a5a0df        raw         2447   \n2448  79552656-f08f-4bda-afd9-fb526cd48b92        raw         2448   \n\n           event_name            event_timestamp    user_id  \n4             catalog 2019-11-01 21:38:19.283663  964964743  \n5                cart 2019-11-01 21:38:36.761221  964964743  \n6     delivery_choice 2019-11-01 21:38:37.564693  964964743  \n2439             main 2019-12-09 01:42:22.801831  964964743  \n2440          catalog 2019-12-09 01:42:23.617764  964964743  \n2441         product2 2019-12-09 01:42:56.877340  964964743  \n2442          catalog 2019-12-09 01:43:05.436223  964964743  \n2443          catalog 2019-12-09 01:43:36.923178  964964743  \n2444         product2 2019-12-09 01:43:41.174195  964964743  \n2445             cart 2019-12-09 01:43:57.325569  964964743  \n2446  delivery_choice 2019-12-09 01:43:57.486518  964964743  \n2447  delivery_pickup 2019-12-09 01:43:57.766850  964964743  \n2448             lost 2019-12-09 01:43:58.766850  964964743  ",
      "text/html": "<div>\n<style scoped>\n    .dataframe tbody tr th:only-of-type {\n        vertical-align: middle;\n    }\n\n    .dataframe tbody tr th {\n        vertical-align: top;\n    }\n\n    .dataframe thead th {\n        text-align: right;\n    }\n</style>\n<table border=\"1\" class=\"dataframe\">\n  <thead>\n    <tr style=\"text-align: right;\">\n      <th></th>\n      <th>event_id</th>\n      <th>event_type</th>\n      <th>event_index</th>\n      <th>event_name</th>\n      <th>event_timestamp</th>\n      <th>user_id</th>\n    </tr>\n  </thead>\n  <tbody>\n    <tr>\n      <th>4</th>\n      <td>1dd47e39-bcd0-4a11-9970-66c3ddaace26</td>\n      <td>raw</td>\n      <td>4</td>\n      <td>catalog</td>\n      <td>2019-11-01 21:38:19.283663</td>\n      <td>964964743</td>\n    </tr>\n    <tr>\n      <th>5</th>\n      <td>e41dd2c3-f09b-467a-b714-626efa161922</td>\n      <td>raw</td>\n      <td>5</td>\n      <td>cart</td>\n      <td>2019-11-01 21:38:36.761221</td>\n      <td>964964743</td>\n    </tr>\n    <tr>\n      <th>6</th>\n      <td>9842ecfe-6246-4073-89a6-7996a7e61190</td>\n      <td>raw</td>\n      <td>6</td>\n      <td>delivery_choice</td>\n      <td>2019-11-01 21:38:37.564693</td>\n      <td>964964743</td>\n    </tr>\n    <tr>\n      <th>2439</th>\n      <td>64e3b5d4-fbf3-45ed-be1b-e428e6a2eb87</td>\n      <td>raw</td>\n      <td>2439</td>\n      <td>main</td>\n      <td>2019-12-09 01:42:22.801831</td>\n      <td>964964743</td>\n    </tr>\n    <tr>\n      <th>2440</th>\n      <td>41961e8a-9a91-4af9-8a98-8c52a7ea22f0</td>\n      <td>raw</td>\n      <td>2440</td>\n      <td>catalog</td>\n      <td>2019-12-09 01:42:23.617764</td>\n      <td>964964743</td>\n    </tr>\n    <tr>\n      <th>2441</th>\n      <td>bbe2ee2e-21fe-469e-b26f-d0a399eec37c</td>\n      <td>raw</td>\n      <td>2441</td>\n      <td>product2</td>\n      <td>2019-12-09 01:42:56.877340</td>\n      <td>964964743</td>\n    </tr>\n    <tr>\n      <th>2442</th>\n      <td>6f651ba6-fff4-4bfd-adeb-e2a762e93f1c</td>\n      <td>raw</td>\n      <td>2442</td>\n      <td>catalog</td>\n      <td>2019-12-09 01:43:05.436223</td>\n      <td>964964743</td>\n    </tr>\n    <tr>\n      <th>2443</th>\n      <td>0d6812eb-b8e1-4d7d-ba04-62f61d2074d1</td>\n      <td>raw</td>\n      <td>2443</td>\n      <td>catalog</td>\n      <td>2019-12-09 01:43:36.923178</td>\n      <td>964964743</td>\n    </tr>\n    <tr>\n      <th>2444</th>\n      <td>71f430ce-4fc8-468d-83ff-611096d0e6b9</td>\n      <td>raw</td>\n      <td>2444</td>\n      <td>product2</td>\n      <td>2019-12-09 01:43:41.174195</td>\n      <td>964964743</td>\n    </tr>\n    <tr>\n      <th>2445</th>\n      <td>06992a83-86d8-40dc-b01d-800f96cc9a1f</td>\n      <td>raw</td>\n      <td>2445</td>\n      <td>cart</td>\n      <td>2019-12-09 01:43:57.325569</td>\n      <td>964964743</td>\n    </tr>\n    <tr>\n      <th>2446</th>\n      <td>ea2f200d-c18c-481d-bfea-c3c38a853bb5</td>\n      <td>raw</td>\n      <td>2446</td>\n      <td>delivery_choice</td>\n      <td>2019-12-09 01:43:57.486518</td>\n      <td>964964743</td>\n    </tr>\n    <tr>\n      <th>2447</th>\n      <td>22b06c06-32a2-4b5b-8d01-596703a5a0df</td>\n      <td>raw</td>\n      <td>2447</td>\n      <td>delivery_pickup</td>\n      <td>2019-12-09 01:43:57.766850</td>\n      <td>964964743</td>\n    </tr>\n    <tr>\n      <th>2448</th>\n      <td>79552656-f08f-4bda-afd9-fb526cd48b92</td>\n      <td>raw</td>\n      <td>2448</td>\n      <td>lost</td>\n      <td>2019-12-09 01:43:58.766850</td>\n      <td>964964743</td>\n    </tr>\n  </tbody>\n</table>\n</div>"
     },
     "execution_count": 45,
     "metadata": {},
     "output_type": "execute_result"
    }
   ],
   "source": [
    "print(len(source_df[source_df['user_id'] == 964964743]))\n",
    "source_df[source_df['user_id'] == 964964743]"
   ],
   "metadata": {
    "collapsed": false,
    "pycharm": {
     "name": "#%%\n"
    }
   }
  },
  {
   "cell_type": "code",
   "execution_count": 46,
   "outputs": [
    {
     "name": "stdout",
     "output_type": "stream",
     "text": [
      "48\n",
      "49\n"
     ]
    },
    {
     "data": {
      "text/plain": "                                   event_id event_type  event_index  \\\n7      f4f84e3b-de9a-4e64-9313-81dd01f69413        raw            7   \n9      181a835b-641f-45c0-9831-259ccc30278e        raw            9   \n11     897d1105-0281-4040-940c-5c4e1b4945d2        raw           11   \n13     03fd3903-24b6-477f-b2c4-2ffa8e83b881        raw           13   \n14     6c9ceeb9-da22-4899-9801-1adce18549a4        raw           14   \n15     0d1b9fbf-19d8-43fa-ad79-2f8d6b043409        raw           15   \n16     0ea75b5f-ea1d-403a-bc5a-98a70775d7ee        raw           16   \n17     51b23cd2-b4ed-4de0-a4d6-2a9a112167c5        raw           17   \n18     124e3f21-8985-4821-8e43-8d5f9de4de31        raw           18   \n19     5a06869f-0423-42ad-9252-6cff3d953e50        raw           19   \n20     e1728b6a-837f-4847-843d-9d3cc300a4c9        raw           20   \n21     01781105-e774-4bd5-b409-c74450d5e967        raw           21   \n22     06125ac0-0aa0-4d68-8cfd-cc40a89112d8        raw           22   \n23     3e24fb27-bb80-41d2-ba93-49b6b6f24a6d        raw           23   \n24     c0697fb0-17cd-4cc3-8e87-ca78fe23a161        raw           24   \n25     56ce9c0a-3f6c-46aa-ac3e-e60afcd7b9df        raw           25   \n27     05b86326-f47d-40ca-9445-1974567c60ea        raw           27   \n29     61cdc66c-a03d-4f10-8704-449e2bbb68c8        raw           29   \n31     c4a4a900-19b2-448c-8bb9-e8936dffecbb        raw           31   \n33     a4fe3a3f-4a48-414f-b9d8-025777b502b0        raw           33   \n36     dfe5cfe4-15e6-49ef-9e09-e7e5397c9ba3        raw           36   \n38     3c3b5fae-a42f-4e11-a0df-85025874fac8        raw           38   \n39     63a02d33-6033-4d8f-b79e-35b236c8028a        raw           39   \n42     a78ad962-120f-4848-a406-6b5fbdc46203        raw           42   \n44     f902eacf-cf8a-4a64-904e-909c72245df2        raw           44   \n45     b1cfcc10-c698-473d-9625-dbdd670332a6        raw           45   \n365    beff50bd-2a56-4122-8c20-1aa81fcad2ad        raw          365   \n367    471b9dd3-579a-423a-9302-5ca7645b2e69        raw          367   \n370    01acc7de-4867-44d0-88e3-97dbe5bb2c7c        raw          370   \n1436   edc017cb-a392-428b-bad5-92ad246d265f        raw         1436   \n1437   8499d79f-9bf0-4233-acfe-232af7b61bd3        raw         1437   \n1438   abf5b992-0af0-431e-a5c0-51e17010034e        raw         1438   \n6720   f450405c-2efb-4009-b485-2dacf8a19a86        raw         6720   \n6721   0fe6f9c6-120f-4633-aea2-280fe3fe2e66        raw         6721   \n11405  a383386f-833e-4a0d-83d1-244b847faa9c        raw        11405   \n11406  9b05d087-1e36-4549-971f-0a3836fb2343        raw        11406   \n11407  47768e24-eb5c-4598-8953-1952ed474eee        raw        11407   \n12268  8267a586-ee78-4494-af4f-c78812174729        raw        12268   \n12269  75963516-27d2-406e-a4f2-b9edbbb92512        raw        12269   \n15010  1259ac1d-abf0-4632-b6cd-8b07874a5a33        raw        15010   \n15011  d9225c5a-eeb6-421b-8f50-fdfed2832ee9        raw        15011   \n15688  1fdd18d9-9ae6-46c6-a897-ac68d14e2141        raw        15688   \n15715  ac991ece-ea20-4141-9874-39aff1fe6a54        raw        15715   \n15716  097876fc-1d20-4d23-bd0f-7c42db261a52        raw        15716   \n15717  05fc12ed-520c-406a-bdc4-93ae1d06e08e        raw        15717   \n15718  fa71c442-d552-4f80-a9b9-e9b53aac43d3        raw        15718   \n15719  89d72912-827e-4313-874e-2d71c69c1b92        raw        15719   \n15720  6b6d8f89-456a-421b-b09c-e7db9a56b7d5        raw        15720   \n15721  14560c5e-a5c5-478d-941c-f5c6c11a737e      pause        15721   \n\n             event_name            event_timestamp      user_id  \n7                  main 2019-11-01 22:28:54.791683  629881394.0  \n9               catalog 2019-11-01 22:29:01.049513  629881394.0  \n11              catalog 2019-11-01 22:29:32.322458  629881394.0  \n13              catalog 2019-11-01 22:30:09.450839  629881394.0  \n14              catalog 2019-11-01 22:31:05.565762  629881394.0  \n15                 main 2019-11-01 22:31:08.333560  629881394.0  \n16              catalog 2019-11-01 22:31:09.010626  629881394.0  \n17             product1 2019-11-01 22:31:10.416231  629881394.0  \n18              catalog 2019-11-01 22:31:43.019527  629881394.0  \n19              catalog 2019-11-01 22:32:01.596163  629881394.0  \n20             product1 2019-11-01 22:32:07.348536  629881394.0  \n21              catalog 2019-11-01 22:32:10.165568  629881394.0  \n22             product2 2019-11-01 22:32:16.496241  629881394.0  \n23              catalog 2019-11-01 22:33:17.682468  629881394.0  \n24             product1 2019-11-01 22:33:19.961115  629881394.0  \n25              catalog 2019-11-01 22:33:35.460345  629881394.0  \n27              catalog 2019-11-01 22:34:02.301293  629881394.0  \n29             product2 2019-11-01 22:34:32.362386  629881394.0  \n31              catalog 2019-11-01 22:35:01.462515  629881394.0  \n33             product2 2019-11-01 22:35:33.142711  629881394.0  \n36                 cart 2019-11-01 22:35:50.437706  629881394.0  \n38      delivery_choice 2019-11-01 22:35:57.649549  629881394.0  \n39     delivery_courier 2019-11-01 22:36:02.009271  629881394.0  \n42       payment_choice 2019-11-01 22:36:02.243274  629881394.0  \n44         payment_cash 2019-11-01 22:36:03.415201  629881394.0  \n45         payment_done 2019-11-01 22:36:03.999697  629881394.0  \n365                main 2019-11-07 12:40:46.004674  629881394.0  \n367             catalog 2019-11-07 12:40:55.724185  629881394.0  \n370                cart 2019-11-07 12:41:04.107187  629881394.0  \n1436               main 2019-11-25 23:16:56.317624  629881394.0  \n1437            catalog 2019-11-25 23:17:16.266242  629881394.0  \n1438            catalog 2019-11-25 23:17:48.747304  629881394.0  \n6720               main 2020-01-23 18:56:23.445236  629881394.0  \n6721            catalog 2020-01-23 18:56:30.461624  629881394.0  \n11405              main 2020-03-01 23:23:43.392597  629881394.0  \n11406           catalog 2020-03-01 23:23:44.755693  629881394.0  \n11407              main 2020-03-01 23:23:51.625991  629881394.0  \n12268              main 2020-03-07 12:05:23.938242  629881394.0  \n12269           catalog 2020-03-07 12:05:32.476046  629881394.0  \n15010              main 2020-03-26 13:00:47.844886  629881394.0  \n15011           catalog 2020-03-26 13:00:49.531644  629881394.0  \n15688              main 2020-03-30 00:11:47.920536  629881394.0  \n15715              main 2020-03-30 03:17:46.909845  629881394.0  \n15716           catalog 2020-03-30 03:17:49.918774  629881394.0  \n15717           catalog 2020-03-30 03:18:17.835191  629881394.0  \n15718           catalog 2020-03-30 03:18:53.715887  629881394.0  \n15719           catalog 2020-03-30 03:19:36.034262  629881394.0  \n15720           catalog 2020-03-30 03:19:59.515094  629881394.0  \n15721             pause 2020-03-30 03:19:59.515094  629881394.0  ",
      "text/html": "<div>\n<style scoped>\n    .dataframe tbody tr th:only-of-type {\n        vertical-align: middle;\n    }\n\n    .dataframe tbody tr th {\n        vertical-align: top;\n    }\n\n    .dataframe thead th {\n        text-align: right;\n    }\n</style>\n<table border=\"1\" class=\"dataframe\">\n  <thead>\n    <tr style=\"text-align: right;\">\n      <th></th>\n      <th>event_id</th>\n      <th>event_type</th>\n      <th>event_index</th>\n      <th>event_name</th>\n      <th>event_timestamp</th>\n      <th>user_id</th>\n    </tr>\n  </thead>\n  <tbody>\n    <tr>\n      <th>7</th>\n      <td>f4f84e3b-de9a-4e64-9313-81dd01f69413</td>\n      <td>raw</td>\n      <td>7</td>\n      <td>main</td>\n      <td>2019-11-01 22:28:54.791683</td>\n      <td>629881394.0</td>\n    </tr>\n    <tr>\n      <th>9</th>\n      <td>181a835b-641f-45c0-9831-259ccc30278e</td>\n      <td>raw</td>\n      <td>9</td>\n      <td>catalog</td>\n      <td>2019-11-01 22:29:01.049513</td>\n      <td>629881394.0</td>\n    </tr>\n    <tr>\n      <th>11</th>\n      <td>897d1105-0281-4040-940c-5c4e1b4945d2</td>\n      <td>raw</td>\n      <td>11</td>\n      <td>catalog</td>\n      <td>2019-11-01 22:29:32.322458</td>\n      <td>629881394.0</td>\n    </tr>\n    <tr>\n      <th>13</th>\n      <td>03fd3903-24b6-477f-b2c4-2ffa8e83b881</td>\n      <td>raw</td>\n      <td>13</td>\n      <td>catalog</td>\n      <td>2019-11-01 22:30:09.450839</td>\n      <td>629881394.0</td>\n    </tr>\n    <tr>\n      <th>14</th>\n      <td>6c9ceeb9-da22-4899-9801-1adce18549a4</td>\n      <td>raw</td>\n      <td>14</td>\n      <td>catalog</td>\n      <td>2019-11-01 22:31:05.565762</td>\n      <td>629881394.0</td>\n    </tr>\n    <tr>\n      <th>15</th>\n      <td>0d1b9fbf-19d8-43fa-ad79-2f8d6b043409</td>\n      <td>raw</td>\n      <td>15</td>\n      <td>main</td>\n      <td>2019-11-01 22:31:08.333560</td>\n      <td>629881394.0</td>\n    </tr>\n    <tr>\n      <th>16</th>\n      <td>0ea75b5f-ea1d-403a-bc5a-98a70775d7ee</td>\n      <td>raw</td>\n      <td>16</td>\n      <td>catalog</td>\n      <td>2019-11-01 22:31:09.010626</td>\n      <td>629881394.0</td>\n    </tr>\n    <tr>\n      <th>17</th>\n      <td>51b23cd2-b4ed-4de0-a4d6-2a9a112167c5</td>\n      <td>raw</td>\n      <td>17</td>\n      <td>product1</td>\n      <td>2019-11-01 22:31:10.416231</td>\n      <td>629881394.0</td>\n    </tr>\n    <tr>\n      <th>18</th>\n      <td>124e3f21-8985-4821-8e43-8d5f9de4de31</td>\n      <td>raw</td>\n      <td>18</td>\n      <td>catalog</td>\n      <td>2019-11-01 22:31:43.019527</td>\n      <td>629881394.0</td>\n    </tr>\n    <tr>\n      <th>19</th>\n      <td>5a06869f-0423-42ad-9252-6cff3d953e50</td>\n      <td>raw</td>\n      <td>19</td>\n      <td>catalog</td>\n      <td>2019-11-01 22:32:01.596163</td>\n      <td>629881394.0</td>\n    </tr>\n    <tr>\n      <th>20</th>\n      <td>e1728b6a-837f-4847-843d-9d3cc300a4c9</td>\n      <td>raw</td>\n      <td>20</td>\n      <td>product1</td>\n      <td>2019-11-01 22:32:07.348536</td>\n      <td>629881394.0</td>\n    </tr>\n    <tr>\n      <th>21</th>\n      <td>01781105-e774-4bd5-b409-c74450d5e967</td>\n      <td>raw</td>\n      <td>21</td>\n      <td>catalog</td>\n      <td>2019-11-01 22:32:10.165568</td>\n      <td>629881394.0</td>\n    </tr>\n    <tr>\n      <th>22</th>\n      <td>06125ac0-0aa0-4d68-8cfd-cc40a89112d8</td>\n      <td>raw</td>\n      <td>22</td>\n      <td>product2</td>\n      <td>2019-11-01 22:32:16.496241</td>\n      <td>629881394.0</td>\n    </tr>\n    <tr>\n      <th>23</th>\n      <td>3e24fb27-bb80-41d2-ba93-49b6b6f24a6d</td>\n      <td>raw</td>\n      <td>23</td>\n      <td>catalog</td>\n      <td>2019-11-01 22:33:17.682468</td>\n      <td>629881394.0</td>\n    </tr>\n    <tr>\n      <th>24</th>\n      <td>c0697fb0-17cd-4cc3-8e87-ca78fe23a161</td>\n      <td>raw</td>\n      <td>24</td>\n      <td>product1</td>\n      <td>2019-11-01 22:33:19.961115</td>\n      <td>629881394.0</td>\n    </tr>\n    <tr>\n      <th>25</th>\n      <td>56ce9c0a-3f6c-46aa-ac3e-e60afcd7b9df</td>\n      <td>raw</td>\n      <td>25</td>\n      <td>catalog</td>\n      <td>2019-11-01 22:33:35.460345</td>\n      <td>629881394.0</td>\n    </tr>\n    <tr>\n      <th>27</th>\n      <td>05b86326-f47d-40ca-9445-1974567c60ea</td>\n      <td>raw</td>\n      <td>27</td>\n      <td>catalog</td>\n      <td>2019-11-01 22:34:02.301293</td>\n      <td>629881394.0</td>\n    </tr>\n    <tr>\n      <th>29</th>\n      <td>61cdc66c-a03d-4f10-8704-449e2bbb68c8</td>\n      <td>raw</td>\n      <td>29</td>\n      <td>product2</td>\n      <td>2019-11-01 22:34:32.362386</td>\n      <td>629881394.0</td>\n    </tr>\n    <tr>\n      <th>31</th>\n      <td>c4a4a900-19b2-448c-8bb9-e8936dffecbb</td>\n      <td>raw</td>\n      <td>31</td>\n      <td>catalog</td>\n      <td>2019-11-01 22:35:01.462515</td>\n      <td>629881394.0</td>\n    </tr>\n    <tr>\n      <th>33</th>\n      <td>a4fe3a3f-4a48-414f-b9d8-025777b502b0</td>\n      <td>raw</td>\n      <td>33</td>\n      <td>product2</td>\n      <td>2019-11-01 22:35:33.142711</td>\n      <td>629881394.0</td>\n    </tr>\n    <tr>\n      <th>36</th>\n      <td>dfe5cfe4-15e6-49ef-9e09-e7e5397c9ba3</td>\n      <td>raw</td>\n      <td>36</td>\n      <td>cart</td>\n      <td>2019-11-01 22:35:50.437706</td>\n      <td>629881394.0</td>\n    </tr>\n    <tr>\n      <th>38</th>\n      <td>3c3b5fae-a42f-4e11-a0df-85025874fac8</td>\n      <td>raw</td>\n      <td>38</td>\n      <td>delivery_choice</td>\n      <td>2019-11-01 22:35:57.649549</td>\n      <td>629881394.0</td>\n    </tr>\n    <tr>\n      <th>39</th>\n      <td>63a02d33-6033-4d8f-b79e-35b236c8028a</td>\n      <td>raw</td>\n      <td>39</td>\n      <td>delivery_courier</td>\n      <td>2019-11-01 22:36:02.009271</td>\n      <td>629881394.0</td>\n    </tr>\n    <tr>\n      <th>42</th>\n      <td>a78ad962-120f-4848-a406-6b5fbdc46203</td>\n      <td>raw</td>\n      <td>42</td>\n      <td>payment_choice</td>\n      <td>2019-11-01 22:36:02.243274</td>\n      <td>629881394.0</td>\n    </tr>\n    <tr>\n      <th>44</th>\n      <td>f902eacf-cf8a-4a64-904e-909c72245df2</td>\n      <td>raw</td>\n      <td>44</td>\n      <td>payment_cash</td>\n      <td>2019-11-01 22:36:03.415201</td>\n      <td>629881394.0</td>\n    </tr>\n    <tr>\n      <th>45</th>\n      <td>b1cfcc10-c698-473d-9625-dbdd670332a6</td>\n      <td>raw</td>\n      <td>45</td>\n      <td>payment_done</td>\n      <td>2019-11-01 22:36:03.999697</td>\n      <td>629881394.0</td>\n    </tr>\n    <tr>\n      <th>365</th>\n      <td>beff50bd-2a56-4122-8c20-1aa81fcad2ad</td>\n      <td>raw</td>\n      <td>365</td>\n      <td>main</td>\n      <td>2019-11-07 12:40:46.004674</td>\n      <td>629881394.0</td>\n    </tr>\n    <tr>\n      <th>367</th>\n      <td>471b9dd3-579a-423a-9302-5ca7645b2e69</td>\n      <td>raw</td>\n      <td>367</td>\n      <td>catalog</td>\n      <td>2019-11-07 12:40:55.724185</td>\n      <td>629881394.0</td>\n    </tr>\n    <tr>\n      <th>370</th>\n      <td>01acc7de-4867-44d0-88e3-97dbe5bb2c7c</td>\n      <td>raw</td>\n      <td>370</td>\n      <td>cart</td>\n      <td>2019-11-07 12:41:04.107187</td>\n      <td>629881394.0</td>\n    </tr>\n    <tr>\n      <th>1436</th>\n      <td>edc017cb-a392-428b-bad5-92ad246d265f</td>\n      <td>raw</td>\n      <td>1436</td>\n      <td>main</td>\n      <td>2019-11-25 23:16:56.317624</td>\n      <td>629881394.0</td>\n    </tr>\n    <tr>\n      <th>1437</th>\n      <td>8499d79f-9bf0-4233-acfe-232af7b61bd3</td>\n      <td>raw</td>\n      <td>1437</td>\n      <td>catalog</td>\n      <td>2019-11-25 23:17:16.266242</td>\n      <td>629881394.0</td>\n    </tr>\n    <tr>\n      <th>1438</th>\n      <td>abf5b992-0af0-431e-a5c0-51e17010034e</td>\n      <td>raw</td>\n      <td>1438</td>\n      <td>catalog</td>\n      <td>2019-11-25 23:17:48.747304</td>\n      <td>629881394.0</td>\n    </tr>\n    <tr>\n      <th>6720</th>\n      <td>f450405c-2efb-4009-b485-2dacf8a19a86</td>\n      <td>raw</td>\n      <td>6720</td>\n      <td>main</td>\n      <td>2020-01-23 18:56:23.445236</td>\n      <td>629881394.0</td>\n    </tr>\n    <tr>\n      <th>6721</th>\n      <td>0fe6f9c6-120f-4633-aea2-280fe3fe2e66</td>\n      <td>raw</td>\n      <td>6721</td>\n      <td>catalog</td>\n      <td>2020-01-23 18:56:30.461624</td>\n      <td>629881394.0</td>\n    </tr>\n    <tr>\n      <th>11405</th>\n      <td>a383386f-833e-4a0d-83d1-244b847faa9c</td>\n      <td>raw</td>\n      <td>11405</td>\n      <td>main</td>\n      <td>2020-03-01 23:23:43.392597</td>\n      <td>629881394.0</td>\n    </tr>\n    <tr>\n      <th>11406</th>\n      <td>9b05d087-1e36-4549-971f-0a3836fb2343</td>\n      <td>raw</td>\n      <td>11406</td>\n      <td>catalog</td>\n      <td>2020-03-01 23:23:44.755693</td>\n      <td>629881394.0</td>\n    </tr>\n    <tr>\n      <th>11407</th>\n      <td>47768e24-eb5c-4598-8953-1952ed474eee</td>\n      <td>raw</td>\n      <td>11407</td>\n      <td>main</td>\n      <td>2020-03-01 23:23:51.625991</td>\n      <td>629881394.0</td>\n    </tr>\n    <tr>\n      <th>12268</th>\n      <td>8267a586-ee78-4494-af4f-c78812174729</td>\n      <td>raw</td>\n      <td>12268</td>\n      <td>main</td>\n      <td>2020-03-07 12:05:23.938242</td>\n      <td>629881394.0</td>\n    </tr>\n    <tr>\n      <th>12269</th>\n      <td>75963516-27d2-406e-a4f2-b9edbbb92512</td>\n      <td>raw</td>\n      <td>12269</td>\n      <td>catalog</td>\n      <td>2020-03-07 12:05:32.476046</td>\n      <td>629881394.0</td>\n    </tr>\n    <tr>\n      <th>15010</th>\n      <td>1259ac1d-abf0-4632-b6cd-8b07874a5a33</td>\n      <td>raw</td>\n      <td>15010</td>\n      <td>main</td>\n      <td>2020-03-26 13:00:47.844886</td>\n      <td>629881394.0</td>\n    </tr>\n    <tr>\n      <th>15011</th>\n      <td>d9225c5a-eeb6-421b-8f50-fdfed2832ee9</td>\n      <td>raw</td>\n      <td>15011</td>\n      <td>catalog</td>\n      <td>2020-03-26 13:00:49.531644</td>\n      <td>629881394.0</td>\n    </tr>\n    <tr>\n      <th>15688</th>\n      <td>1fdd18d9-9ae6-46c6-a897-ac68d14e2141</td>\n      <td>raw</td>\n      <td>15688</td>\n      <td>main</td>\n      <td>2020-03-30 00:11:47.920536</td>\n      <td>629881394.0</td>\n    </tr>\n    <tr>\n      <th>15715</th>\n      <td>ac991ece-ea20-4141-9874-39aff1fe6a54</td>\n      <td>raw</td>\n      <td>15715</td>\n      <td>main</td>\n      <td>2020-03-30 03:17:46.909845</td>\n      <td>629881394.0</td>\n    </tr>\n    <tr>\n      <th>15716</th>\n      <td>097876fc-1d20-4d23-bd0f-7c42db261a52</td>\n      <td>raw</td>\n      <td>15716</td>\n      <td>catalog</td>\n      <td>2020-03-30 03:17:49.918774</td>\n      <td>629881394.0</td>\n    </tr>\n    <tr>\n      <th>15717</th>\n      <td>05fc12ed-520c-406a-bdc4-93ae1d06e08e</td>\n      <td>raw</td>\n      <td>15717</td>\n      <td>catalog</td>\n      <td>2020-03-30 03:18:17.835191</td>\n      <td>629881394.0</td>\n    </tr>\n    <tr>\n      <th>15718</th>\n      <td>fa71c442-d552-4f80-a9b9-e9b53aac43d3</td>\n      <td>raw</td>\n      <td>15718</td>\n      <td>catalog</td>\n      <td>2020-03-30 03:18:53.715887</td>\n      <td>629881394.0</td>\n    </tr>\n    <tr>\n      <th>15719</th>\n      <td>89d72912-827e-4313-874e-2d71c69c1b92</td>\n      <td>raw</td>\n      <td>15719</td>\n      <td>catalog</td>\n      <td>2020-03-30 03:19:36.034262</td>\n      <td>629881394.0</td>\n    </tr>\n    <tr>\n      <th>15720</th>\n      <td>6b6d8f89-456a-421b-b09c-e7db9a56b7d5</td>\n      <td>raw</td>\n      <td>15720</td>\n      <td>catalog</td>\n      <td>2020-03-30 03:19:59.515094</td>\n      <td>629881394.0</td>\n    </tr>\n    <tr>\n      <th>15721</th>\n      <td>14560c5e-a5c5-478d-941c-f5c6c11a737e</td>\n      <td>pause</td>\n      <td>15721</td>\n      <td>pause</td>\n      <td>2020-03-30 03:19:59.515094</td>\n      <td>629881394.0</td>\n    </tr>\n  </tbody>\n</table>\n</div>"
     },
     "execution_count": 46,
     "metadata": {},
     "output_type": "execute_result"
    }
   ],
   "source": [
    "print(len(source_df[source_df['user_id'] == 629881394]))\n",
    "print(len(df3[df3['user_id'] == 629881394]))\n",
    "df3[df3['user_id'] == 629881394]"
   ],
   "metadata": {
    "collapsed": false,
    "pycharm": {
     "name": "#%%\n"
    }
   }
  },
  {
   "cell_type": "code",
   "execution_count": 47,
   "outputs": [
    {
     "data": {
      "text/plain": "(35381, 39132)"
     },
     "execution_count": 47,
     "metadata": {},
     "output_type": "execute_result"
    }
   ],
   "source": [
    "len(source_df), len(df3)"
   ],
   "metadata": {
    "collapsed": false,
    "pycharm": {
     "name": "#%%\n"
    }
   }
  },
  {
   "cell_type": "code",
   "execution_count": 48,
   "outputs": [
    {
     "data": {
      "text/plain": "raw    35381\nName: event_type, dtype: int64"
     },
     "execution_count": 48,
     "metadata": {},
     "output_type": "execute_result"
    }
   ],
   "source": [
    "source_df['event_type'].value_counts()"
   ],
   "metadata": {
    "collapsed": false,
    "pycharm": {
     "name": "#%%\n"
    }
   }
  },
  {
   "cell_type": "code",
   "execution_count": 49,
   "outputs": [
    {
     "data": {
      "text/plain": "event_type\nraw           35381\npause          3751\ndtype: int64"
     },
     "execution_count": 49,
     "metadata": {},
     "output_type": "execute_result"
    }
   ],
   "source": [
    "df3.value_counts(['event_type'])"
   ],
   "metadata": {
    "collapsed": false,
    "pycharm": {
     "name": "#%%\n"
    }
   }
  },
  {
   "cell_type": "code",
   "execution_count": 50,
   "outputs": [
    {
     "name": "stdout",
     "output_type": "stream",
     "text": [
      "18\n"
     ]
    },
    {
     "data": {
      "text/plain": "                                  event_id event_type  event_index event_name  \\\n0     ee8dc3b4-53f8-4f26-84a7-9a3d4b24dd2d        raw            0    catalog   \n1     73126e06-f817-470e-a397-0cf844023720        raw            1   product1   \n2     11bf77c7-7fd8-4b6d-a3aa-89bc8f833c4e        raw            2       cart   \n3     c633b530-c6f7-4e88-aca1-4b8ac61e0ced        raw            3    catalog   \n2407  93386e57-8d24-443d-b8a4-3d6589043a04        raw         2407       main   \n2408  f41a1a8c-6505-467f-be21-a7fc4e801c63        raw         2408    catalog   \n2409  d0e89d8a-2880-44be-8fa6-c599d320e2ed        raw         2409    catalog   \n5169  2b36ef36-da8e-45ee-98cf-d1d6eb310258        raw         5169       main   \n5170  ab011b28-76c6-479d-84ca-0ac7eccfd1d9        raw         5170    catalog   \n5171  c46c026c-38cb-4194-bfb9-f4b592bd85f6        raw         5171       cart   \n5172  e404482e-a597-4ab1-9910-c9ba0e72f4e1        raw         5172    catalog   \n5173  345c7a61-216d-458c-ac36-55649bfa4cfb        raw         5173   product1   \n5174  2e1f0d7c-3bdf-4d5d-a0e9-d77c52cb9318        raw         5174    catalog   \n5175  2d07ecd1-6c76-446e-93ed-267a07b217dd        raw         5175    catalog   \n9329  ed61f4ff-430a-4df1-92c9-4b63c5928fea        raw         9329       main   \n9330  b95b3ad7-8088-46a7-9019-5ce5bfe2d709        raw         9330    catalog   \n9331  394d4b4f-e220-4205-947f-db1a568336d5        raw         9331       lost   \n9332  64bb34cc-1c95-4166-b32c-d77e00987cf9      pause         9332      pause   \n\n                event_timestamp      user_id  \n0    2019-11-01 17:59:13.273932  219483890.0  \n1    2019-11-01 17:59:28.459271  219483890.0  \n2    2019-11-01 17:59:29.502214  219483890.0  \n3    2019-11-01 17:59:32.557029  219483890.0  \n2407 2019-12-06 16:22:57.484842  219483890.0  \n2408 2019-12-06 16:23:01.331109  219483890.0  \n2409 2019-12-06 16:23:48.116617  219483890.0  \n5169 2020-01-06 22:10:13.635011  219483890.0  \n5170 2020-01-06 22:10:15.228575  219483890.0  \n5171 2020-01-06 22:10:42.309028  219483890.0  \n5172 2020-01-06 22:10:52.255859  219483890.0  \n5173 2020-01-06 22:11:01.709800  219483890.0  \n5174 2020-01-06 22:11:02.899490  219483890.0  \n5175 2020-01-06 22:11:28.271366  219483890.0  \n9329 2020-02-14 21:04:49.450696  219483890.0  \n9330 2020-02-14 21:04:51.717127  219483890.0  \n9331 2020-02-14 21:04:52.717127  219483890.0  \n9332 2020-02-14 21:04:52.717127  219483890.0  ",
      "text/html": "<div>\n<style scoped>\n    .dataframe tbody tr th:only-of-type {\n        vertical-align: middle;\n    }\n\n    .dataframe tbody tr th {\n        vertical-align: top;\n    }\n\n    .dataframe thead th {\n        text-align: right;\n    }\n</style>\n<table border=\"1\" class=\"dataframe\">\n  <thead>\n    <tr style=\"text-align: right;\">\n      <th></th>\n      <th>event_id</th>\n      <th>event_type</th>\n      <th>event_index</th>\n      <th>event_name</th>\n      <th>event_timestamp</th>\n      <th>user_id</th>\n    </tr>\n  </thead>\n  <tbody>\n    <tr>\n      <th>0</th>\n      <td>ee8dc3b4-53f8-4f26-84a7-9a3d4b24dd2d</td>\n      <td>raw</td>\n      <td>0</td>\n      <td>catalog</td>\n      <td>2019-11-01 17:59:13.273932</td>\n      <td>219483890.0</td>\n    </tr>\n    <tr>\n      <th>1</th>\n      <td>73126e06-f817-470e-a397-0cf844023720</td>\n      <td>raw</td>\n      <td>1</td>\n      <td>product1</td>\n      <td>2019-11-01 17:59:28.459271</td>\n      <td>219483890.0</td>\n    </tr>\n    <tr>\n      <th>2</th>\n      <td>11bf77c7-7fd8-4b6d-a3aa-89bc8f833c4e</td>\n      <td>raw</td>\n      <td>2</td>\n      <td>cart</td>\n      <td>2019-11-01 17:59:29.502214</td>\n      <td>219483890.0</td>\n    </tr>\n    <tr>\n      <th>3</th>\n      <td>c633b530-c6f7-4e88-aca1-4b8ac61e0ced</td>\n      <td>raw</td>\n      <td>3</td>\n      <td>catalog</td>\n      <td>2019-11-01 17:59:32.557029</td>\n      <td>219483890.0</td>\n    </tr>\n    <tr>\n      <th>2407</th>\n      <td>93386e57-8d24-443d-b8a4-3d6589043a04</td>\n      <td>raw</td>\n      <td>2407</td>\n      <td>main</td>\n      <td>2019-12-06 16:22:57.484842</td>\n      <td>219483890.0</td>\n    </tr>\n    <tr>\n      <th>2408</th>\n      <td>f41a1a8c-6505-467f-be21-a7fc4e801c63</td>\n      <td>raw</td>\n      <td>2408</td>\n      <td>catalog</td>\n      <td>2019-12-06 16:23:01.331109</td>\n      <td>219483890.0</td>\n    </tr>\n    <tr>\n      <th>2409</th>\n      <td>d0e89d8a-2880-44be-8fa6-c599d320e2ed</td>\n      <td>raw</td>\n      <td>2409</td>\n      <td>catalog</td>\n      <td>2019-12-06 16:23:48.116617</td>\n      <td>219483890.0</td>\n    </tr>\n    <tr>\n      <th>5169</th>\n      <td>2b36ef36-da8e-45ee-98cf-d1d6eb310258</td>\n      <td>raw</td>\n      <td>5169</td>\n      <td>main</td>\n      <td>2020-01-06 22:10:13.635011</td>\n      <td>219483890.0</td>\n    </tr>\n    <tr>\n      <th>5170</th>\n      <td>ab011b28-76c6-479d-84ca-0ac7eccfd1d9</td>\n      <td>raw</td>\n      <td>5170</td>\n      <td>catalog</td>\n      <td>2020-01-06 22:10:15.228575</td>\n      <td>219483890.0</td>\n    </tr>\n    <tr>\n      <th>5171</th>\n      <td>c46c026c-38cb-4194-bfb9-f4b592bd85f6</td>\n      <td>raw</td>\n      <td>5171</td>\n      <td>cart</td>\n      <td>2020-01-06 22:10:42.309028</td>\n      <td>219483890.0</td>\n    </tr>\n    <tr>\n      <th>5172</th>\n      <td>e404482e-a597-4ab1-9910-c9ba0e72f4e1</td>\n      <td>raw</td>\n      <td>5172</td>\n      <td>catalog</td>\n      <td>2020-01-06 22:10:52.255859</td>\n      <td>219483890.0</td>\n    </tr>\n    <tr>\n      <th>5173</th>\n      <td>345c7a61-216d-458c-ac36-55649bfa4cfb</td>\n      <td>raw</td>\n      <td>5173</td>\n      <td>product1</td>\n      <td>2020-01-06 22:11:01.709800</td>\n      <td>219483890.0</td>\n    </tr>\n    <tr>\n      <th>5174</th>\n      <td>2e1f0d7c-3bdf-4d5d-a0e9-d77c52cb9318</td>\n      <td>raw</td>\n      <td>5174</td>\n      <td>catalog</td>\n      <td>2020-01-06 22:11:02.899490</td>\n      <td>219483890.0</td>\n    </tr>\n    <tr>\n      <th>5175</th>\n      <td>2d07ecd1-6c76-446e-93ed-267a07b217dd</td>\n      <td>raw</td>\n      <td>5175</td>\n      <td>catalog</td>\n      <td>2020-01-06 22:11:28.271366</td>\n      <td>219483890.0</td>\n    </tr>\n    <tr>\n      <th>9329</th>\n      <td>ed61f4ff-430a-4df1-92c9-4b63c5928fea</td>\n      <td>raw</td>\n      <td>9329</td>\n      <td>main</td>\n      <td>2020-02-14 21:04:49.450696</td>\n      <td>219483890.0</td>\n    </tr>\n    <tr>\n      <th>9330</th>\n      <td>b95b3ad7-8088-46a7-9019-5ce5bfe2d709</td>\n      <td>raw</td>\n      <td>9330</td>\n      <td>catalog</td>\n      <td>2020-02-14 21:04:51.717127</td>\n      <td>219483890.0</td>\n    </tr>\n    <tr>\n      <th>9331</th>\n      <td>394d4b4f-e220-4205-947f-db1a568336d5</td>\n      <td>raw</td>\n      <td>9331</td>\n      <td>lost</td>\n      <td>2020-02-14 21:04:52.717127</td>\n      <td>219483890.0</td>\n    </tr>\n    <tr>\n      <th>9332</th>\n      <td>64bb34cc-1c95-4166-b32c-d77e00987cf9</td>\n      <td>pause</td>\n      <td>9332</td>\n      <td>pause</td>\n      <td>2020-02-14 21:04:52.717127</td>\n      <td>219483890.0</td>\n    </tr>\n  </tbody>\n</table>\n</div>"
     },
     "execution_count": 50,
     "metadata": {},
     "output_type": "execute_result"
    }
   ],
   "source": [
    "print(len(df3[df3['user_id'] == 219483890]))\n",
    "df3[df3['user_id'] == 219483890].sort_values('event_timestamp')"
   ],
   "metadata": {
    "collapsed": false,
    "pycharm": {
     "name": "#%%\n"
    }
   }
  },
  {
   "cell_type": "code",
   "execution_count": 51,
   "outputs": [
    {
     "name": "stdout",
     "output_type": "stream",
     "text": [
      "17\n"
     ]
    },
    {
     "data": {
      "text/plain": "                                  event_id event_type  event_index event_name  \\\n0     ee8dc3b4-53f8-4f26-84a7-9a3d4b24dd2d        raw            0    catalog   \n1     73126e06-f817-470e-a397-0cf844023720        raw            1   product1   \n2     11bf77c7-7fd8-4b6d-a3aa-89bc8f833c4e        raw            2       cart   \n3     c633b530-c6f7-4e88-aca1-4b8ac61e0ced        raw            3    catalog   \n2245  93386e57-8d24-443d-b8a4-3d6589043a04        raw         2245       main   \n2246  f41a1a8c-6505-467f-be21-a7fc4e801c63        raw         2246    catalog   \n2247  d0e89d8a-2880-44be-8fa6-c599d320e2ed        raw         2247    catalog   \n4836  2b36ef36-da8e-45ee-98cf-d1d6eb310258        raw         4836       main   \n4837  ab011b28-76c6-479d-84ca-0ac7eccfd1d9        raw         4837    catalog   \n4838  c46c026c-38cb-4194-bfb9-f4b592bd85f6        raw         4838       cart   \n4839  e404482e-a597-4ab1-9910-c9ba0e72f4e1        raw         4839    catalog   \n4840  345c7a61-216d-458c-ac36-55649bfa4cfb        raw         4840   product1   \n4841  2e1f0d7c-3bdf-4d5d-a0e9-d77c52cb9318        raw         4841    catalog   \n4842  2d07ecd1-6c76-446e-93ed-267a07b217dd        raw         4842    catalog   \n8736  ed61f4ff-430a-4df1-92c9-4b63c5928fea        raw         8736       main   \n8737  b95b3ad7-8088-46a7-9019-5ce5bfe2d709        raw         8737    catalog   \n8738  394d4b4f-e220-4205-947f-db1a568336d5        raw         8738       lost   \n\n                event_timestamp    user_id  \n0    2019-11-01 17:59:13.273932  219483890  \n1    2019-11-01 17:59:28.459271  219483890  \n2    2019-11-01 17:59:29.502214  219483890  \n3    2019-11-01 17:59:32.557029  219483890  \n2245 2019-12-06 16:22:57.484842  219483890  \n2246 2019-12-06 16:23:01.331109  219483890  \n2247 2019-12-06 16:23:48.116617  219483890  \n4836 2020-01-06 22:10:13.635011  219483890  \n4837 2020-01-06 22:10:15.228575  219483890  \n4838 2020-01-06 22:10:42.309028  219483890  \n4839 2020-01-06 22:10:52.255859  219483890  \n4840 2020-01-06 22:11:01.709800  219483890  \n4841 2020-01-06 22:11:02.899490  219483890  \n4842 2020-01-06 22:11:28.271366  219483890  \n8736 2020-02-14 21:04:49.450696  219483890  \n8737 2020-02-14 21:04:51.717127  219483890  \n8738 2020-02-14 21:04:52.717127  219483890  ",
      "text/html": "<div>\n<style scoped>\n    .dataframe tbody tr th:only-of-type {\n        vertical-align: middle;\n    }\n\n    .dataframe tbody tr th {\n        vertical-align: top;\n    }\n\n    .dataframe thead th {\n        text-align: right;\n    }\n</style>\n<table border=\"1\" class=\"dataframe\">\n  <thead>\n    <tr style=\"text-align: right;\">\n      <th></th>\n      <th>event_id</th>\n      <th>event_type</th>\n      <th>event_index</th>\n      <th>event_name</th>\n      <th>event_timestamp</th>\n      <th>user_id</th>\n    </tr>\n  </thead>\n  <tbody>\n    <tr>\n      <th>0</th>\n      <td>ee8dc3b4-53f8-4f26-84a7-9a3d4b24dd2d</td>\n      <td>raw</td>\n      <td>0</td>\n      <td>catalog</td>\n      <td>2019-11-01 17:59:13.273932</td>\n      <td>219483890</td>\n    </tr>\n    <tr>\n      <th>1</th>\n      <td>73126e06-f817-470e-a397-0cf844023720</td>\n      <td>raw</td>\n      <td>1</td>\n      <td>product1</td>\n      <td>2019-11-01 17:59:28.459271</td>\n      <td>219483890</td>\n    </tr>\n    <tr>\n      <th>2</th>\n      <td>11bf77c7-7fd8-4b6d-a3aa-89bc8f833c4e</td>\n      <td>raw</td>\n      <td>2</td>\n      <td>cart</td>\n      <td>2019-11-01 17:59:29.502214</td>\n      <td>219483890</td>\n    </tr>\n    <tr>\n      <th>3</th>\n      <td>c633b530-c6f7-4e88-aca1-4b8ac61e0ced</td>\n      <td>raw</td>\n      <td>3</td>\n      <td>catalog</td>\n      <td>2019-11-01 17:59:32.557029</td>\n      <td>219483890</td>\n    </tr>\n    <tr>\n      <th>2245</th>\n      <td>93386e57-8d24-443d-b8a4-3d6589043a04</td>\n      <td>raw</td>\n      <td>2245</td>\n      <td>main</td>\n      <td>2019-12-06 16:22:57.484842</td>\n      <td>219483890</td>\n    </tr>\n    <tr>\n      <th>2246</th>\n      <td>f41a1a8c-6505-467f-be21-a7fc4e801c63</td>\n      <td>raw</td>\n      <td>2246</td>\n      <td>catalog</td>\n      <td>2019-12-06 16:23:01.331109</td>\n      <td>219483890</td>\n    </tr>\n    <tr>\n      <th>2247</th>\n      <td>d0e89d8a-2880-44be-8fa6-c599d320e2ed</td>\n      <td>raw</td>\n      <td>2247</td>\n      <td>catalog</td>\n      <td>2019-12-06 16:23:48.116617</td>\n      <td>219483890</td>\n    </tr>\n    <tr>\n      <th>4836</th>\n      <td>2b36ef36-da8e-45ee-98cf-d1d6eb310258</td>\n      <td>raw</td>\n      <td>4836</td>\n      <td>main</td>\n      <td>2020-01-06 22:10:13.635011</td>\n      <td>219483890</td>\n    </tr>\n    <tr>\n      <th>4837</th>\n      <td>ab011b28-76c6-479d-84ca-0ac7eccfd1d9</td>\n      <td>raw</td>\n      <td>4837</td>\n      <td>catalog</td>\n      <td>2020-01-06 22:10:15.228575</td>\n      <td>219483890</td>\n    </tr>\n    <tr>\n      <th>4838</th>\n      <td>c46c026c-38cb-4194-bfb9-f4b592bd85f6</td>\n      <td>raw</td>\n      <td>4838</td>\n      <td>cart</td>\n      <td>2020-01-06 22:10:42.309028</td>\n      <td>219483890</td>\n    </tr>\n    <tr>\n      <th>4839</th>\n      <td>e404482e-a597-4ab1-9910-c9ba0e72f4e1</td>\n      <td>raw</td>\n      <td>4839</td>\n      <td>catalog</td>\n      <td>2020-01-06 22:10:52.255859</td>\n      <td>219483890</td>\n    </tr>\n    <tr>\n      <th>4840</th>\n      <td>345c7a61-216d-458c-ac36-55649bfa4cfb</td>\n      <td>raw</td>\n      <td>4840</td>\n      <td>product1</td>\n      <td>2020-01-06 22:11:01.709800</td>\n      <td>219483890</td>\n    </tr>\n    <tr>\n      <th>4841</th>\n      <td>2e1f0d7c-3bdf-4d5d-a0e9-d77c52cb9318</td>\n      <td>raw</td>\n      <td>4841</td>\n      <td>catalog</td>\n      <td>2020-01-06 22:11:02.899490</td>\n      <td>219483890</td>\n    </tr>\n    <tr>\n      <th>4842</th>\n      <td>2d07ecd1-6c76-446e-93ed-267a07b217dd</td>\n      <td>raw</td>\n      <td>4842</td>\n      <td>catalog</td>\n      <td>2020-01-06 22:11:28.271366</td>\n      <td>219483890</td>\n    </tr>\n    <tr>\n      <th>8736</th>\n      <td>ed61f4ff-430a-4df1-92c9-4b63c5928fea</td>\n      <td>raw</td>\n      <td>8736</td>\n      <td>main</td>\n      <td>2020-02-14 21:04:49.450696</td>\n      <td>219483890</td>\n    </tr>\n    <tr>\n      <th>8737</th>\n      <td>b95b3ad7-8088-46a7-9019-5ce5bfe2d709</td>\n      <td>raw</td>\n      <td>8737</td>\n      <td>catalog</td>\n      <td>2020-02-14 21:04:51.717127</td>\n      <td>219483890</td>\n    </tr>\n    <tr>\n      <th>8738</th>\n      <td>394d4b4f-e220-4205-947f-db1a568336d5</td>\n      <td>raw</td>\n      <td>8738</td>\n      <td>lost</td>\n      <td>2020-02-14 21:04:52.717127</td>\n      <td>219483890</td>\n    </tr>\n  </tbody>\n</table>\n</div>"
     },
     "execution_count": 51,
     "metadata": {},
     "output_type": "execute_result"
    }
   ],
   "source": [
    "print(len(source_df[source_df['user_id'] == 219483890]))\n",
    "source_df[source_df['user_id'] == 219483890]"
   ],
   "metadata": {
    "collapsed": false,
    "pycharm": {
     "name": "#%%\n"
    }
   }
  },
  {
   "cell_type": "markdown",
   "source": [
    "### cutoff"
   ],
   "metadata": {
    "collapsed": false,
    "pycharm": {
     "name": "#%% md\n"
    }
   }
  },
  {
   "cell_type": "code",
   "execution_count": 52,
   "outputs": [
    {
     "data": {
      "text/plain": "                               event_id event_type  event_index  \\\n0  ee8dc3b4-53f8-4f26-84a7-9a3d4b24dd2d        raw            0   \n1  73126e06-f817-470e-a397-0cf844023720        raw            1   \n2  11bf77c7-7fd8-4b6d-a3aa-89bc8f833c4e        raw            2   \n3  c633b530-c6f7-4e88-aca1-4b8ac61e0ced        raw            3   \n4  1dd47e39-bcd0-4a11-9970-66c3ddaace26        raw            4   \n5  e41dd2c3-f09b-467a-b714-626efa161922        raw            5   \n6  9842ecfe-6246-4073-89a6-7996a7e61190        raw            6   \n7  f4f84e3b-de9a-4e64-9313-81dd01f69413        raw            7   \n\n        event_name            event_timestamp      user_id  \n0          catalog 2019-11-01 17:59:13.273932  219483890.0  \n1         product1 2019-11-01 17:59:28.459271  219483890.0  \n2             cart 2019-11-01 17:59:29.502214  219483890.0  \n3          catalog 2019-11-01 17:59:32.557029  219483890.0  \n4          catalog 2019-11-01 21:38:19.283663  964964743.0  \n5             cart 2019-11-01 21:38:36.761221  964964743.0  \n6  delivery_choice 2019-11-01 21:38:37.564693  964964743.0  \n7             main 2019-11-01 22:28:54.791683  629881394.0  ",
      "text/html": "<div>\n<style scoped>\n    .dataframe tbody tr th:only-of-type {\n        vertical-align: middle;\n    }\n\n    .dataframe tbody tr th {\n        vertical-align: top;\n    }\n\n    .dataframe thead th {\n        text-align: right;\n    }\n</style>\n<table border=\"1\" class=\"dataframe\">\n  <thead>\n    <tr style=\"text-align: right;\">\n      <th></th>\n      <th>event_id</th>\n      <th>event_type</th>\n      <th>event_index</th>\n      <th>event_name</th>\n      <th>event_timestamp</th>\n      <th>user_id</th>\n    </tr>\n  </thead>\n  <tbody>\n    <tr>\n      <th>0</th>\n      <td>ee8dc3b4-53f8-4f26-84a7-9a3d4b24dd2d</td>\n      <td>raw</td>\n      <td>0</td>\n      <td>catalog</td>\n      <td>2019-11-01 17:59:13.273932</td>\n      <td>219483890.0</td>\n    </tr>\n    <tr>\n      <th>1</th>\n      <td>73126e06-f817-470e-a397-0cf844023720</td>\n      <td>raw</td>\n      <td>1</td>\n      <td>product1</td>\n      <td>2019-11-01 17:59:28.459271</td>\n      <td>219483890.0</td>\n    </tr>\n    <tr>\n      <th>2</th>\n      <td>11bf77c7-7fd8-4b6d-a3aa-89bc8f833c4e</td>\n      <td>raw</td>\n      <td>2</td>\n      <td>cart</td>\n      <td>2019-11-01 17:59:29.502214</td>\n      <td>219483890.0</td>\n    </tr>\n    <tr>\n      <th>3</th>\n      <td>c633b530-c6f7-4e88-aca1-4b8ac61e0ced</td>\n      <td>raw</td>\n      <td>3</td>\n      <td>catalog</td>\n      <td>2019-11-01 17:59:32.557029</td>\n      <td>219483890.0</td>\n    </tr>\n    <tr>\n      <th>4</th>\n      <td>1dd47e39-bcd0-4a11-9970-66c3ddaace26</td>\n      <td>raw</td>\n      <td>4</td>\n      <td>catalog</td>\n      <td>2019-11-01 21:38:19.283663</td>\n      <td>964964743.0</td>\n    </tr>\n    <tr>\n      <th>5</th>\n      <td>e41dd2c3-f09b-467a-b714-626efa161922</td>\n      <td>raw</td>\n      <td>5</td>\n      <td>cart</td>\n      <td>2019-11-01 21:38:36.761221</td>\n      <td>964964743.0</td>\n    </tr>\n    <tr>\n      <th>6</th>\n      <td>9842ecfe-6246-4073-89a6-7996a7e61190</td>\n      <td>raw</td>\n      <td>6</td>\n      <td>delivery_choice</td>\n      <td>2019-11-01 21:38:37.564693</td>\n      <td>964964743.0</td>\n    </tr>\n    <tr>\n      <th>7</th>\n      <td>f4f84e3b-de9a-4e64-9313-81dd01f69413</td>\n      <td>raw</td>\n      <td>7</td>\n      <td>main</td>\n      <td>2019-11-01 22:28:54.791683</td>\n      <td>629881394.0</td>\n    </tr>\n  </tbody>\n</table>\n</div>"
     },
     "execution_count": 52,
     "metadata": {},
     "output_type": "execute_result"
    }
   ],
   "source": [
    "from src.data_processors_lib.rete import LostPauseEvents, LostPauseParams\n",
    "\n",
    "lost_cutoff_ = (3000, 's')\n",
    "\n",
    "lost_pause_events_cutoff = EventsNode(\n",
    "    LostPauseEvents(params=LostPauseParams(lost_cutoff=lost_cutoff_)))\n",
    "\n",
    "graph.add_node(\n",
    "    node=lost_pause_events_cutoff,\n",
    "    parents=[graph.root]\n",
    ")\n",
    "\n",
    "result_cutoff = graph.combine(\n",
    "    node=lost_pause_events_cutoff\n",
    ")"
   ],
   "metadata": {
    "collapsed": false,
    "pycharm": {
     "name": "#%%\n"
    }
   }
  },
  {
   "cell_type": "code",
   "execution_count": 53,
   "outputs": [
    {
     "name": "stdout",
     "output_type": "stream",
     "text": [
      "0\n",
      "3092\n"
     ]
    }
   ],
   "source": [
    "df4 = result_cutoff.to_dataframe()\n",
    "print(source_df.duplicated(['event_name', 'event_timestamp', 'user_id']).sum())\n",
    "print(df4.duplicated(['event_name', 'event_timestamp', 'user_id']).sum())"
   ],
   "metadata": {
    "collapsed": false,
    "pycharm": {
     "name": "#%%\n"
    }
   }
  },
  {
   "cell_type": "code",
   "execution_count": 54,
   "outputs": [
    {
     "name": "stdout",
     "output_type": "stream",
     "text": [
      "14\n"
     ]
    },
    {
     "data": {
      "text/plain": "                                  event_id event_type  event_index  \\\n4     1dd47e39-bcd0-4a11-9970-66c3ddaace26        raw            4   \n5     e41dd2c3-f09b-467a-b714-626efa161922        raw            5   \n6     9842ecfe-6246-4073-89a6-7996a7e61190        raw            6   \n2618  64e3b5d4-fbf3-45ed-be1b-e428e6a2eb87        raw         2618   \n2619  41961e8a-9a91-4af9-8a98-8c52a7ea22f0        raw         2619   \n2620  bbe2ee2e-21fe-469e-b26f-d0a399eec37c        raw         2620   \n2621  6f651ba6-fff4-4bfd-adeb-e2a762e93f1c        raw         2621   \n2622  0d6812eb-b8e1-4d7d-ba04-62f61d2074d1        raw         2622   \n2623  71f430ce-4fc8-468d-83ff-611096d0e6b9        raw         2623   \n2624  06992a83-86d8-40dc-b01d-800f96cc9a1f        raw         2624   \n2625  ea2f200d-c18c-481d-bfea-c3c38a853bb5        raw         2625   \n2626  22b06c06-32a2-4b5b-8d01-596703a5a0df        raw         2626   \n2627  79552656-f08f-4bda-afd9-fb526cd48b92        raw         2627   \n2628  4a35b780-39bb-404e-837a-8dae8056e5b8       lost         2628   \n\n           event_name            event_timestamp      user_id  \n4             catalog 2019-11-01 21:38:19.283663  964964743.0  \n5                cart 2019-11-01 21:38:36.761221  964964743.0  \n6     delivery_choice 2019-11-01 21:38:37.564693  964964743.0  \n2618             main 2019-12-09 01:42:22.801831  964964743.0  \n2619          catalog 2019-12-09 01:42:23.617764  964964743.0  \n2620         product2 2019-12-09 01:42:56.877340  964964743.0  \n2621          catalog 2019-12-09 01:43:05.436223  964964743.0  \n2622          catalog 2019-12-09 01:43:36.923178  964964743.0  \n2623         product2 2019-12-09 01:43:41.174195  964964743.0  \n2624             cart 2019-12-09 01:43:57.325569  964964743.0  \n2625  delivery_choice 2019-12-09 01:43:57.486518  964964743.0  \n2626  delivery_pickup 2019-12-09 01:43:57.766850  964964743.0  \n2627             lost 2019-12-09 01:43:58.766850  964964743.0  \n2628             lost 2019-12-09 01:43:58.766850  964964743.0  ",
      "text/html": "<div>\n<style scoped>\n    .dataframe tbody tr th:only-of-type {\n        vertical-align: middle;\n    }\n\n    .dataframe tbody tr th {\n        vertical-align: top;\n    }\n\n    .dataframe thead th {\n        text-align: right;\n    }\n</style>\n<table border=\"1\" class=\"dataframe\">\n  <thead>\n    <tr style=\"text-align: right;\">\n      <th></th>\n      <th>event_id</th>\n      <th>event_type</th>\n      <th>event_index</th>\n      <th>event_name</th>\n      <th>event_timestamp</th>\n      <th>user_id</th>\n    </tr>\n  </thead>\n  <tbody>\n    <tr>\n      <th>4</th>\n      <td>1dd47e39-bcd0-4a11-9970-66c3ddaace26</td>\n      <td>raw</td>\n      <td>4</td>\n      <td>catalog</td>\n      <td>2019-11-01 21:38:19.283663</td>\n      <td>964964743.0</td>\n    </tr>\n    <tr>\n      <th>5</th>\n      <td>e41dd2c3-f09b-467a-b714-626efa161922</td>\n      <td>raw</td>\n      <td>5</td>\n      <td>cart</td>\n      <td>2019-11-01 21:38:36.761221</td>\n      <td>964964743.0</td>\n    </tr>\n    <tr>\n      <th>6</th>\n      <td>9842ecfe-6246-4073-89a6-7996a7e61190</td>\n      <td>raw</td>\n      <td>6</td>\n      <td>delivery_choice</td>\n      <td>2019-11-01 21:38:37.564693</td>\n      <td>964964743.0</td>\n    </tr>\n    <tr>\n      <th>2618</th>\n      <td>64e3b5d4-fbf3-45ed-be1b-e428e6a2eb87</td>\n      <td>raw</td>\n      <td>2618</td>\n      <td>main</td>\n      <td>2019-12-09 01:42:22.801831</td>\n      <td>964964743.0</td>\n    </tr>\n    <tr>\n      <th>2619</th>\n      <td>41961e8a-9a91-4af9-8a98-8c52a7ea22f0</td>\n      <td>raw</td>\n      <td>2619</td>\n      <td>catalog</td>\n      <td>2019-12-09 01:42:23.617764</td>\n      <td>964964743.0</td>\n    </tr>\n    <tr>\n      <th>2620</th>\n      <td>bbe2ee2e-21fe-469e-b26f-d0a399eec37c</td>\n      <td>raw</td>\n      <td>2620</td>\n      <td>product2</td>\n      <td>2019-12-09 01:42:56.877340</td>\n      <td>964964743.0</td>\n    </tr>\n    <tr>\n      <th>2621</th>\n      <td>6f651ba6-fff4-4bfd-adeb-e2a762e93f1c</td>\n      <td>raw</td>\n      <td>2621</td>\n      <td>catalog</td>\n      <td>2019-12-09 01:43:05.436223</td>\n      <td>964964743.0</td>\n    </tr>\n    <tr>\n      <th>2622</th>\n      <td>0d6812eb-b8e1-4d7d-ba04-62f61d2074d1</td>\n      <td>raw</td>\n      <td>2622</td>\n      <td>catalog</td>\n      <td>2019-12-09 01:43:36.923178</td>\n      <td>964964743.0</td>\n    </tr>\n    <tr>\n      <th>2623</th>\n      <td>71f430ce-4fc8-468d-83ff-611096d0e6b9</td>\n      <td>raw</td>\n      <td>2623</td>\n      <td>product2</td>\n      <td>2019-12-09 01:43:41.174195</td>\n      <td>964964743.0</td>\n    </tr>\n    <tr>\n      <th>2624</th>\n      <td>06992a83-86d8-40dc-b01d-800f96cc9a1f</td>\n      <td>raw</td>\n      <td>2624</td>\n      <td>cart</td>\n      <td>2019-12-09 01:43:57.325569</td>\n      <td>964964743.0</td>\n    </tr>\n    <tr>\n      <th>2625</th>\n      <td>ea2f200d-c18c-481d-bfea-c3c38a853bb5</td>\n      <td>raw</td>\n      <td>2625</td>\n      <td>delivery_choice</td>\n      <td>2019-12-09 01:43:57.486518</td>\n      <td>964964743.0</td>\n    </tr>\n    <tr>\n      <th>2626</th>\n      <td>22b06c06-32a2-4b5b-8d01-596703a5a0df</td>\n      <td>raw</td>\n      <td>2626</td>\n      <td>delivery_pickup</td>\n      <td>2019-12-09 01:43:57.766850</td>\n      <td>964964743.0</td>\n    </tr>\n    <tr>\n      <th>2627</th>\n      <td>79552656-f08f-4bda-afd9-fb526cd48b92</td>\n      <td>raw</td>\n      <td>2627</td>\n      <td>lost</td>\n      <td>2019-12-09 01:43:58.766850</td>\n      <td>964964743.0</td>\n    </tr>\n    <tr>\n      <th>2628</th>\n      <td>4a35b780-39bb-404e-837a-8dae8056e5b8</td>\n      <td>lost</td>\n      <td>2628</td>\n      <td>lost</td>\n      <td>2019-12-09 01:43:58.766850</td>\n      <td>964964743.0</td>\n    </tr>\n  </tbody>\n</table>\n</div>"
     },
     "execution_count": 54,
     "metadata": {},
     "output_type": "execute_result"
    }
   ],
   "source": [
    "print(len(df4[df4['user_id'] == 964964743]))\n",
    "df4[df4['user_id'] == 964964743]"
   ],
   "metadata": {
    "collapsed": false,
    "pycharm": {
     "name": "#%%\n"
    }
   }
  },
  {
   "cell_type": "code",
   "execution_count": 55,
   "outputs": [
    {
     "name": "stdout",
     "output_type": "stream",
     "text": [
      "13\n"
     ]
    },
    {
     "data": {
      "text/plain": "                                  event_id event_type  event_index  \\\n4     1dd47e39-bcd0-4a11-9970-66c3ddaace26        raw            4   \n5     e41dd2c3-f09b-467a-b714-626efa161922        raw            5   \n6     9842ecfe-6246-4073-89a6-7996a7e61190        raw            6   \n2439  64e3b5d4-fbf3-45ed-be1b-e428e6a2eb87        raw         2439   \n2440  41961e8a-9a91-4af9-8a98-8c52a7ea22f0        raw         2440   \n2441  bbe2ee2e-21fe-469e-b26f-d0a399eec37c        raw         2441   \n2442  6f651ba6-fff4-4bfd-adeb-e2a762e93f1c        raw         2442   \n2443  0d6812eb-b8e1-4d7d-ba04-62f61d2074d1        raw         2443   \n2444  71f430ce-4fc8-468d-83ff-611096d0e6b9        raw         2444   \n2445  06992a83-86d8-40dc-b01d-800f96cc9a1f        raw         2445   \n2446  ea2f200d-c18c-481d-bfea-c3c38a853bb5        raw         2446   \n2447  22b06c06-32a2-4b5b-8d01-596703a5a0df        raw         2447   \n2448  79552656-f08f-4bda-afd9-fb526cd48b92        raw         2448   \n\n           event_name            event_timestamp    user_id  \n4             catalog 2019-11-01 21:38:19.283663  964964743  \n5                cart 2019-11-01 21:38:36.761221  964964743  \n6     delivery_choice 2019-11-01 21:38:37.564693  964964743  \n2439             main 2019-12-09 01:42:22.801831  964964743  \n2440          catalog 2019-12-09 01:42:23.617764  964964743  \n2441         product2 2019-12-09 01:42:56.877340  964964743  \n2442          catalog 2019-12-09 01:43:05.436223  964964743  \n2443          catalog 2019-12-09 01:43:36.923178  964964743  \n2444         product2 2019-12-09 01:43:41.174195  964964743  \n2445             cart 2019-12-09 01:43:57.325569  964964743  \n2446  delivery_choice 2019-12-09 01:43:57.486518  964964743  \n2447  delivery_pickup 2019-12-09 01:43:57.766850  964964743  \n2448             lost 2019-12-09 01:43:58.766850  964964743  ",
      "text/html": "<div>\n<style scoped>\n    .dataframe tbody tr th:only-of-type {\n        vertical-align: middle;\n    }\n\n    .dataframe tbody tr th {\n        vertical-align: top;\n    }\n\n    .dataframe thead th {\n        text-align: right;\n    }\n</style>\n<table border=\"1\" class=\"dataframe\">\n  <thead>\n    <tr style=\"text-align: right;\">\n      <th></th>\n      <th>event_id</th>\n      <th>event_type</th>\n      <th>event_index</th>\n      <th>event_name</th>\n      <th>event_timestamp</th>\n      <th>user_id</th>\n    </tr>\n  </thead>\n  <tbody>\n    <tr>\n      <th>4</th>\n      <td>1dd47e39-bcd0-4a11-9970-66c3ddaace26</td>\n      <td>raw</td>\n      <td>4</td>\n      <td>catalog</td>\n      <td>2019-11-01 21:38:19.283663</td>\n      <td>964964743</td>\n    </tr>\n    <tr>\n      <th>5</th>\n      <td>e41dd2c3-f09b-467a-b714-626efa161922</td>\n      <td>raw</td>\n      <td>5</td>\n      <td>cart</td>\n      <td>2019-11-01 21:38:36.761221</td>\n      <td>964964743</td>\n    </tr>\n    <tr>\n      <th>6</th>\n      <td>9842ecfe-6246-4073-89a6-7996a7e61190</td>\n      <td>raw</td>\n      <td>6</td>\n      <td>delivery_choice</td>\n      <td>2019-11-01 21:38:37.564693</td>\n      <td>964964743</td>\n    </tr>\n    <tr>\n      <th>2439</th>\n      <td>64e3b5d4-fbf3-45ed-be1b-e428e6a2eb87</td>\n      <td>raw</td>\n      <td>2439</td>\n      <td>main</td>\n      <td>2019-12-09 01:42:22.801831</td>\n      <td>964964743</td>\n    </tr>\n    <tr>\n      <th>2440</th>\n      <td>41961e8a-9a91-4af9-8a98-8c52a7ea22f0</td>\n      <td>raw</td>\n      <td>2440</td>\n      <td>catalog</td>\n      <td>2019-12-09 01:42:23.617764</td>\n      <td>964964743</td>\n    </tr>\n    <tr>\n      <th>2441</th>\n      <td>bbe2ee2e-21fe-469e-b26f-d0a399eec37c</td>\n      <td>raw</td>\n      <td>2441</td>\n      <td>product2</td>\n      <td>2019-12-09 01:42:56.877340</td>\n      <td>964964743</td>\n    </tr>\n    <tr>\n      <th>2442</th>\n      <td>6f651ba6-fff4-4bfd-adeb-e2a762e93f1c</td>\n      <td>raw</td>\n      <td>2442</td>\n      <td>catalog</td>\n      <td>2019-12-09 01:43:05.436223</td>\n      <td>964964743</td>\n    </tr>\n    <tr>\n      <th>2443</th>\n      <td>0d6812eb-b8e1-4d7d-ba04-62f61d2074d1</td>\n      <td>raw</td>\n      <td>2443</td>\n      <td>catalog</td>\n      <td>2019-12-09 01:43:36.923178</td>\n      <td>964964743</td>\n    </tr>\n    <tr>\n      <th>2444</th>\n      <td>71f430ce-4fc8-468d-83ff-611096d0e6b9</td>\n      <td>raw</td>\n      <td>2444</td>\n      <td>product2</td>\n      <td>2019-12-09 01:43:41.174195</td>\n      <td>964964743</td>\n    </tr>\n    <tr>\n      <th>2445</th>\n      <td>06992a83-86d8-40dc-b01d-800f96cc9a1f</td>\n      <td>raw</td>\n      <td>2445</td>\n      <td>cart</td>\n      <td>2019-12-09 01:43:57.325569</td>\n      <td>964964743</td>\n    </tr>\n    <tr>\n      <th>2446</th>\n      <td>ea2f200d-c18c-481d-bfea-c3c38a853bb5</td>\n      <td>raw</td>\n      <td>2446</td>\n      <td>delivery_choice</td>\n      <td>2019-12-09 01:43:57.486518</td>\n      <td>964964743</td>\n    </tr>\n    <tr>\n      <th>2447</th>\n      <td>22b06c06-32a2-4b5b-8d01-596703a5a0df</td>\n      <td>raw</td>\n      <td>2447</td>\n      <td>delivery_pickup</td>\n      <td>2019-12-09 01:43:57.766850</td>\n      <td>964964743</td>\n    </tr>\n    <tr>\n      <th>2448</th>\n      <td>79552656-f08f-4bda-afd9-fb526cd48b92</td>\n      <td>raw</td>\n      <td>2448</td>\n      <td>lost</td>\n      <td>2019-12-09 01:43:58.766850</td>\n      <td>964964743</td>\n    </tr>\n  </tbody>\n</table>\n</div>"
     },
     "execution_count": 55,
     "metadata": {},
     "output_type": "execute_result"
    }
   ],
   "source": [
    "print(len(source_df[source_df['user_id'] == 964964743]))\n",
    "source_df[source_df['user_id'] == 964964743]"
   ],
   "metadata": {
    "collapsed": false,
    "pycharm": {
     "name": "#%%\n"
    }
   }
  },
  {
   "cell_type": "code",
   "execution_count": 56,
   "outputs": [
    {
     "name": "stdout",
     "output_type": "stream",
     "text": [
      "48\n",
      "49\n"
     ]
    },
    {
     "data": {
      "text/plain": "                                   event_id event_type  event_index  \\\n7      f4f84e3b-de9a-4e64-9313-81dd01f69413        raw            7   \n9      181a835b-641f-45c0-9831-259ccc30278e        raw            9   \n11     897d1105-0281-4040-940c-5c4e1b4945d2        raw           11   \n13     03fd3903-24b6-477f-b2c4-2ffa8e83b881        raw           13   \n14     6c9ceeb9-da22-4899-9801-1adce18549a4        raw           14   \n15     0d1b9fbf-19d8-43fa-ad79-2f8d6b043409        raw           15   \n16     0ea75b5f-ea1d-403a-bc5a-98a70775d7ee        raw           16   \n17     51b23cd2-b4ed-4de0-a4d6-2a9a112167c5        raw           17   \n18     124e3f21-8985-4821-8e43-8d5f9de4de31        raw           18   \n19     5a06869f-0423-42ad-9252-6cff3d953e50        raw           19   \n20     e1728b6a-837f-4847-843d-9d3cc300a4c9        raw           20   \n21     01781105-e774-4bd5-b409-c74450d5e967        raw           21   \n22     06125ac0-0aa0-4d68-8cfd-cc40a89112d8        raw           22   \n23     3e24fb27-bb80-41d2-ba93-49b6b6f24a6d        raw           23   \n24     c0697fb0-17cd-4cc3-8e87-ca78fe23a161        raw           24   \n25     56ce9c0a-3f6c-46aa-ac3e-e60afcd7b9df        raw           25   \n27     05b86326-f47d-40ca-9445-1974567c60ea        raw           27   \n29     61cdc66c-a03d-4f10-8704-449e2bbb68c8        raw           29   \n31     c4a4a900-19b2-448c-8bb9-e8936dffecbb        raw           31   \n33     a4fe3a3f-4a48-414f-b9d8-025777b502b0        raw           33   \n36     dfe5cfe4-15e6-49ef-9e09-e7e5397c9ba3        raw           36   \n38     3c3b5fae-a42f-4e11-a0df-85025874fac8        raw           38   \n39     63a02d33-6033-4d8f-b79e-35b236c8028a        raw           39   \n42     a78ad962-120f-4848-a406-6b5fbdc46203        raw           42   \n44     f902eacf-cf8a-4a64-904e-909c72245df2        raw           44   \n45     b1cfcc10-c698-473d-9625-dbdd670332a6        raw           45   \n365    beff50bd-2a56-4122-8c20-1aa81fcad2ad        raw          365   \n367    471b9dd3-579a-423a-9302-5ca7645b2e69        raw          367   \n370    01acc7de-4867-44d0-88e3-97dbe5bb2c7c        raw          370   \n1436   edc017cb-a392-428b-bad5-92ad246d265f        raw         1436   \n1437   8499d79f-9bf0-4233-acfe-232af7b61bd3        raw         1437   \n1438   abf5b992-0af0-431e-a5c0-51e17010034e        raw         1438   \n6720   f450405c-2efb-4009-b485-2dacf8a19a86        raw         6720   \n6721   0fe6f9c6-120f-4633-aea2-280fe3fe2e66        raw         6721   \n11405  a383386f-833e-4a0d-83d1-244b847faa9c        raw        11405   \n11406  9b05d087-1e36-4549-971f-0a3836fb2343        raw        11406   \n11407  47768e24-eb5c-4598-8953-1952ed474eee        raw        11407   \n12268  8267a586-ee78-4494-af4f-c78812174729        raw        12268   \n12269  75963516-27d2-406e-a4f2-b9edbbb92512        raw        12269   \n15010  1259ac1d-abf0-4632-b6cd-8b07874a5a33        raw        15010   \n15011  d9225c5a-eeb6-421b-8f50-fdfed2832ee9        raw        15011   \n15688  1fdd18d9-9ae6-46c6-a897-ac68d14e2141        raw        15688   \n15715  ac991ece-ea20-4141-9874-39aff1fe6a54        raw        15715   \n15716  097876fc-1d20-4d23-bd0f-7c42db261a52        raw        15716   \n15717  05fc12ed-520c-406a-bdc4-93ae1d06e08e        raw        15717   \n15718  fa71c442-d552-4f80-a9b9-e9b53aac43d3        raw        15718   \n15719  89d72912-827e-4313-874e-2d71c69c1b92        raw        15719   \n15720  6b6d8f89-456a-421b-b09c-e7db9a56b7d5        raw        15720   \n15721  f8e1b486-eaac-4823-aa5b-d1f4869e4cfd       lost        15721   \n\n             event_name            event_timestamp      user_id  \n7                  main 2019-11-01 22:28:54.791683  629881394.0  \n9               catalog 2019-11-01 22:29:01.049513  629881394.0  \n11              catalog 2019-11-01 22:29:32.322458  629881394.0  \n13              catalog 2019-11-01 22:30:09.450839  629881394.0  \n14              catalog 2019-11-01 22:31:05.565762  629881394.0  \n15                 main 2019-11-01 22:31:08.333560  629881394.0  \n16              catalog 2019-11-01 22:31:09.010626  629881394.0  \n17             product1 2019-11-01 22:31:10.416231  629881394.0  \n18              catalog 2019-11-01 22:31:43.019527  629881394.0  \n19              catalog 2019-11-01 22:32:01.596163  629881394.0  \n20             product1 2019-11-01 22:32:07.348536  629881394.0  \n21              catalog 2019-11-01 22:32:10.165568  629881394.0  \n22             product2 2019-11-01 22:32:16.496241  629881394.0  \n23              catalog 2019-11-01 22:33:17.682468  629881394.0  \n24             product1 2019-11-01 22:33:19.961115  629881394.0  \n25              catalog 2019-11-01 22:33:35.460345  629881394.0  \n27              catalog 2019-11-01 22:34:02.301293  629881394.0  \n29             product2 2019-11-01 22:34:32.362386  629881394.0  \n31              catalog 2019-11-01 22:35:01.462515  629881394.0  \n33             product2 2019-11-01 22:35:33.142711  629881394.0  \n36                 cart 2019-11-01 22:35:50.437706  629881394.0  \n38      delivery_choice 2019-11-01 22:35:57.649549  629881394.0  \n39     delivery_courier 2019-11-01 22:36:02.009271  629881394.0  \n42       payment_choice 2019-11-01 22:36:02.243274  629881394.0  \n44         payment_cash 2019-11-01 22:36:03.415201  629881394.0  \n45         payment_done 2019-11-01 22:36:03.999697  629881394.0  \n365                main 2019-11-07 12:40:46.004674  629881394.0  \n367             catalog 2019-11-07 12:40:55.724185  629881394.0  \n370                cart 2019-11-07 12:41:04.107187  629881394.0  \n1436               main 2019-11-25 23:16:56.317624  629881394.0  \n1437            catalog 2019-11-25 23:17:16.266242  629881394.0  \n1438            catalog 2019-11-25 23:17:48.747304  629881394.0  \n6720               main 2020-01-23 18:56:23.445236  629881394.0  \n6721            catalog 2020-01-23 18:56:30.461624  629881394.0  \n11405              main 2020-03-01 23:23:43.392597  629881394.0  \n11406           catalog 2020-03-01 23:23:44.755693  629881394.0  \n11407              main 2020-03-01 23:23:51.625991  629881394.0  \n12268              main 2020-03-07 12:05:23.938242  629881394.0  \n12269           catalog 2020-03-07 12:05:32.476046  629881394.0  \n15010              main 2020-03-26 13:00:47.844886  629881394.0  \n15011           catalog 2020-03-26 13:00:49.531644  629881394.0  \n15688              main 2020-03-30 00:11:47.920536  629881394.0  \n15715              main 2020-03-30 03:17:46.909845  629881394.0  \n15716           catalog 2020-03-30 03:17:49.918774  629881394.0  \n15717           catalog 2020-03-30 03:18:17.835191  629881394.0  \n15718           catalog 2020-03-30 03:18:53.715887  629881394.0  \n15719           catalog 2020-03-30 03:19:36.034262  629881394.0  \n15720           catalog 2020-03-30 03:19:59.515094  629881394.0  \n15721              lost 2020-03-30 03:19:59.515094  629881394.0  ",
      "text/html": "<div>\n<style scoped>\n    .dataframe tbody tr th:only-of-type {\n        vertical-align: middle;\n    }\n\n    .dataframe tbody tr th {\n        vertical-align: top;\n    }\n\n    .dataframe thead th {\n        text-align: right;\n    }\n</style>\n<table border=\"1\" class=\"dataframe\">\n  <thead>\n    <tr style=\"text-align: right;\">\n      <th></th>\n      <th>event_id</th>\n      <th>event_type</th>\n      <th>event_index</th>\n      <th>event_name</th>\n      <th>event_timestamp</th>\n      <th>user_id</th>\n    </tr>\n  </thead>\n  <tbody>\n    <tr>\n      <th>7</th>\n      <td>f4f84e3b-de9a-4e64-9313-81dd01f69413</td>\n      <td>raw</td>\n      <td>7</td>\n      <td>main</td>\n      <td>2019-11-01 22:28:54.791683</td>\n      <td>629881394.0</td>\n    </tr>\n    <tr>\n      <th>9</th>\n      <td>181a835b-641f-45c0-9831-259ccc30278e</td>\n      <td>raw</td>\n      <td>9</td>\n      <td>catalog</td>\n      <td>2019-11-01 22:29:01.049513</td>\n      <td>629881394.0</td>\n    </tr>\n    <tr>\n      <th>11</th>\n      <td>897d1105-0281-4040-940c-5c4e1b4945d2</td>\n      <td>raw</td>\n      <td>11</td>\n      <td>catalog</td>\n      <td>2019-11-01 22:29:32.322458</td>\n      <td>629881394.0</td>\n    </tr>\n    <tr>\n      <th>13</th>\n      <td>03fd3903-24b6-477f-b2c4-2ffa8e83b881</td>\n      <td>raw</td>\n      <td>13</td>\n      <td>catalog</td>\n      <td>2019-11-01 22:30:09.450839</td>\n      <td>629881394.0</td>\n    </tr>\n    <tr>\n      <th>14</th>\n      <td>6c9ceeb9-da22-4899-9801-1adce18549a4</td>\n      <td>raw</td>\n      <td>14</td>\n      <td>catalog</td>\n      <td>2019-11-01 22:31:05.565762</td>\n      <td>629881394.0</td>\n    </tr>\n    <tr>\n      <th>15</th>\n      <td>0d1b9fbf-19d8-43fa-ad79-2f8d6b043409</td>\n      <td>raw</td>\n      <td>15</td>\n      <td>main</td>\n      <td>2019-11-01 22:31:08.333560</td>\n      <td>629881394.0</td>\n    </tr>\n    <tr>\n      <th>16</th>\n      <td>0ea75b5f-ea1d-403a-bc5a-98a70775d7ee</td>\n      <td>raw</td>\n      <td>16</td>\n      <td>catalog</td>\n      <td>2019-11-01 22:31:09.010626</td>\n      <td>629881394.0</td>\n    </tr>\n    <tr>\n      <th>17</th>\n      <td>51b23cd2-b4ed-4de0-a4d6-2a9a112167c5</td>\n      <td>raw</td>\n      <td>17</td>\n      <td>product1</td>\n      <td>2019-11-01 22:31:10.416231</td>\n      <td>629881394.0</td>\n    </tr>\n    <tr>\n      <th>18</th>\n      <td>124e3f21-8985-4821-8e43-8d5f9de4de31</td>\n      <td>raw</td>\n      <td>18</td>\n      <td>catalog</td>\n      <td>2019-11-01 22:31:43.019527</td>\n      <td>629881394.0</td>\n    </tr>\n    <tr>\n      <th>19</th>\n      <td>5a06869f-0423-42ad-9252-6cff3d953e50</td>\n      <td>raw</td>\n      <td>19</td>\n      <td>catalog</td>\n      <td>2019-11-01 22:32:01.596163</td>\n      <td>629881394.0</td>\n    </tr>\n    <tr>\n      <th>20</th>\n      <td>e1728b6a-837f-4847-843d-9d3cc300a4c9</td>\n      <td>raw</td>\n      <td>20</td>\n      <td>product1</td>\n      <td>2019-11-01 22:32:07.348536</td>\n      <td>629881394.0</td>\n    </tr>\n    <tr>\n      <th>21</th>\n      <td>01781105-e774-4bd5-b409-c74450d5e967</td>\n      <td>raw</td>\n      <td>21</td>\n      <td>catalog</td>\n      <td>2019-11-01 22:32:10.165568</td>\n      <td>629881394.0</td>\n    </tr>\n    <tr>\n      <th>22</th>\n      <td>06125ac0-0aa0-4d68-8cfd-cc40a89112d8</td>\n      <td>raw</td>\n      <td>22</td>\n      <td>product2</td>\n      <td>2019-11-01 22:32:16.496241</td>\n      <td>629881394.0</td>\n    </tr>\n    <tr>\n      <th>23</th>\n      <td>3e24fb27-bb80-41d2-ba93-49b6b6f24a6d</td>\n      <td>raw</td>\n      <td>23</td>\n      <td>catalog</td>\n      <td>2019-11-01 22:33:17.682468</td>\n      <td>629881394.0</td>\n    </tr>\n    <tr>\n      <th>24</th>\n      <td>c0697fb0-17cd-4cc3-8e87-ca78fe23a161</td>\n      <td>raw</td>\n      <td>24</td>\n      <td>product1</td>\n      <td>2019-11-01 22:33:19.961115</td>\n      <td>629881394.0</td>\n    </tr>\n    <tr>\n      <th>25</th>\n      <td>56ce9c0a-3f6c-46aa-ac3e-e60afcd7b9df</td>\n      <td>raw</td>\n      <td>25</td>\n      <td>catalog</td>\n      <td>2019-11-01 22:33:35.460345</td>\n      <td>629881394.0</td>\n    </tr>\n    <tr>\n      <th>27</th>\n      <td>05b86326-f47d-40ca-9445-1974567c60ea</td>\n      <td>raw</td>\n      <td>27</td>\n      <td>catalog</td>\n      <td>2019-11-01 22:34:02.301293</td>\n      <td>629881394.0</td>\n    </tr>\n    <tr>\n      <th>29</th>\n      <td>61cdc66c-a03d-4f10-8704-449e2bbb68c8</td>\n      <td>raw</td>\n      <td>29</td>\n      <td>product2</td>\n      <td>2019-11-01 22:34:32.362386</td>\n      <td>629881394.0</td>\n    </tr>\n    <tr>\n      <th>31</th>\n      <td>c4a4a900-19b2-448c-8bb9-e8936dffecbb</td>\n      <td>raw</td>\n      <td>31</td>\n      <td>catalog</td>\n      <td>2019-11-01 22:35:01.462515</td>\n      <td>629881394.0</td>\n    </tr>\n    <tr>\n      <th>33</th>\n      <td>a4fe3a3f-4a48-414f-b9d8-025777b502b0</td>\n      <td>raw</td>\n      <td>33</td>\n      <td>product2</td>\n      <td>2019-11-01 22:35:33.142711</td>\n      <td>629881394.0</td>\n    </tr>\n    <tr>\n      <th>36</th>\n      <td>dfe5cfe4-15e6-49ef-9e09-e7e5397c9ba3</td>\n      <td>raw</td>\n      <td>36</td>\n      <td>cart</td>\n      <td>2019-11-01 22:35:50.437706</td>\n      <td>629881394.0</td>\n    </tr>\n    <tr>\n      <th>38</th>\n      <td>3c3b5fae-a42f-4e11-a0df-85025874fac8</td>\n      <td>raw</td>\n      <td>38</td>\n      <td>delivery_choice</td>\n      <td>2019-11-01 22:35:57.649549</td>\n      <td>629881394.0</td>\n    </tr>\n    <tr>\n      <th>39</th>\n      <td>63a02d33-6033-4d8f-b79e-35b236c8028a</td>\n      <td>raw</td>\n      <td>39</td>\n      <td>delivery_courier</td>\n      <td>2019-11-01 22:36:02.009271</td>\n      <td>629881394.0</td>\n    </tr>\n    <tr>\n      <th>42</th>\n      <td>a78ad962-120f-4848-a406-6b5fbdc46203</td>\n      <td>raw</td>\n      <td>42</td>\n      <td>payment_choice</td>\n      <td>2019-11-01 22:36:02.243274</td>\n      <td>629881394.0</td>\n    </tr>\n    <tr>\n      <th>44</th>\n      <td>f902eacf-cf8a-4a64-904e-909c72245df2</td>\n      <td>raw</td>\n      <td>44</td>\n      <td>payment_cash</td>\n      <td>2019-11-01 22:36:03.415201</td>\n      <td>629881394.0</td>\n    </tr>\n    <tr>\n      <th>45</th>\n      <td>b1cfcc10-c698-473d-9625-dbdd670332a6</td>\n      <td>raw</td>\n      <td>45</td>\n      <td>payment_done</td>\n      <td>2019-11-01 22:36:03.999697</td>\n      <td>629881394.0</td>\n    </tr>\n    <tr>\n      <th>365</th>\n      <td>beff50bd-2a56-4122-8c20-1aa81fcad2ad</td>\n      <td>raw</td>\n      <td>365</td>\n      <td>main</td>\n      <td>2019-11-07 12:40:46.004674</td>\n      <td>629881394.0</td>\n    </tr>\n    <tr>\n      <th>367</th>\n      <td>471b9dd3-579a-423a-9302-5ca7645b2e69</td>\n      <td>raw</td>\n      <td>367</td>\n      <td>catalog</td>\n      <td>2019-11-07 12:40:55.724185</td>\n      <td>629881394.0</td>\n    </tr>\n    <tr>\n      <th>370</th>\n      <td>01acc7de-4867-44d0-88e3-97dbe5bb2c7c</td>\n      <td>raw</td>\n      <td>370</td>\n      <td>cart</td>\n      <td>2019-11-07 12:41:04.107187</td>\n      <td>629881394.0</td>\n    </tr>\n    <tr>\n      <th>1436</th>\n      <td>edc017cb-a392-428b-bad5-92ad246d265f</td>\n      <td>raw</td>\n      <td>1436</td>\n      <td>main</td>\n      <td>2019-11-25 23:16:56.317624</td>\n      <td>629881394.0</td>\n    </tr>\n    <tr>\n      <th>1437</th>\n      <td>8499d79f-9bf0-4233-acfe-232af7b61bd3</td>\n      <td>raw</td>\n      <td>1437</td>\n      <td>catalog</td>\n      <td>2019-11-25 23:17:16.266242</td>\n      <td>629881394.0</td>\n    </tr>\n    <tr>\n      <th>1438</th>\n      <td>abf5b992-0af0-431e-a5c0-51e17010034e</td>\n      <td>raw</td>\n      <td>1438</td>\n      <td>catalog</td>\n      <td>2019-11-25 23:17:48.747304</td>\n      <td>629881394.0</td>\n    </tr>\n    <tr>\n      <th>6720</th>\n      <td>f450405c-2efb-4009-b485-2dacf8a19a86</td>\n      <td>raw</td>\n      <td>6720</td>\n      <td>main</td>\n      <td>2020-01-23 18:56:23.445236</td>\n      <td>629881394.0</td>\n    </tr>\n    <tr>\n      <th>6721</th>\n      <td>0fe6f9c6-120f-4633-aea2-280fe3fe2e66</td>\n      <td>raw</td>\n      <td>6721</td>\n      <td>catalog</td>\n      <td>2020-01-23 18:56:30.461624</td>\n      <td>629881394.0</td>\n    </tr>\n    <tr>\n      <th>11405</th>\n      <td>a383386f-833e-4a0d-83d1-244b847faa9c</td>\n      <td>raw</td>\n      <td>11405</td>\n      <td>main</td>\n      <td>2020-03-01 23:23:43.392597</td>\n      <td>629881394.0</td>\n    </tr>\n    <tr>\n      <th>11406</th>\n      <td>9b05d087-1e36-4549-971f-0a3836fb2343</td>\n      <td>raw</td>\n      <td>11406</td>\n      <td>catalog</td>\n      <td>2020-03-01 23:23:44.755693</td>\n      <td>629881394.0</td>\n    </tr>\n    <tr>\n      <th>11407</th>\n      <td>47768e24-eb5c-4598-8953-1952ed474eee</td>\n      <td>raw</td>\n      <td>11407</td>\n      <td>main</td>\n      <td>2020-03-01 23:23:51.625991</td>\n      <td>629881394.0</td>\n    </tr>\n    <tr>\n      <th>12268</th>\n      <td>8267a586-ee78-4494-af4f-c78812174729</td>\n      <td>raw</td>\n      <td>12268</td>\n      <td>main</td>\n      <td>2020-03-07 12:05:23.938242</td>\n      <td>629881394.0</td>\n    </tr>\n    <tr>\n      <th>12269</th>\n      <td>75963516-27d2-406e-a4f2-b9edbbb92512</td>\n      <td>raw</td>\n      <td>12269</td>\n      <td>catalog</td>\n      <td>2020-03-07 12:05:32.476046</td>\n      <td>629881394.0</td>\n    </tr>\n    <tr>\n      <th>15010</th>\n      <td>1259ac1d-abf0-4632-b6cd-8b07874a5a33</td>\n      <td>raw</td>\n      <td>15010</td>\n      <td>main</td>\n      <td>2020-03-26 13:00:47.844886</td>\n      <td>629881394.0</td>\n    </tr>\n    <tr>\n      <th>15011</th>\n      <td>d9225c5a-eeb6-421b-8f50-fdfed2832ee9</td>\n      <td>raw</td>\n      <td>15011</td>\n      <td>catalog</td>\n      <td>2020-03-26 13:00:49.531644</td>\n      <td>629881394.0</td>\n    </tr>\n    <tr>\n      <th>15688</th>\n      <td>1fdd18d9-9ae6-46c6-a897-ac68d14e2141</td>\n      <td>raw</td>\n      <td>15688</td>\n      <td>main</td>\n      <td>2020-03-30 00:11:47.920536</td>\n      <td>629881394.0</td>\n    </tr>\n    <tr>\n      <th>15715</th>\n      <td>ac991ece-ea20-4141-9874-39aff1fe6a54</td>\n      <td>raw</td>\n      <td>15715</td>\n      <td>main</td>\n      <td>2020-03-30 03:17:46.909845</td>\n      <td>629881394.0</td>\n    </tr>\n    <tr>\n      <th>15716</th>\n      <td>097876fc-1d20-4d23-bd0f-7c42db261a52</td>\n      <td>raw</td>\n      <td>15716</td>\n      <td>catalog</td>\n      <td>2020-03-30 03:17:49.918774</td>\n      <td>629881394.0</td>\n    </tr>\n    <tr>\n      <th>15717</th>\n      <td>05fc12ed-520c-406a-bdc4-93ae1d06e08e</td>\n      <td>raw</td>\n      <td>15717</td>\n      <td>catalog</td>\n      <td>2020-03-30 03:18:17.835191</td>\n      <td>629881394.0</td>\n    </tr>\n    <tr>\n      <th>15718</th>\n      <td>fa71c442-d552-4f80-a9b9-e9b53aac43d3</td>\n      <td>raw</td>\n      <td>15718</td>\n      <td>catalog</td>\n      <td>2020-03-30 03:18:53.715887</td>\n      <td>629881394.0</td>\n    </tr>\n    <tr>\n      <th>15719</th>\n      <td>89d72912-827e-4313-874e-2d71c69c1b92</td>\n      <td>raw</td>\n      <td>15719</td>\n      <td>catalog</td>\n      <td>2020-03-30 03:19:36.034262</td>\n      <td>629881394.0</td>\n    </tr>\n    <tr>\n      <th>15720</th>\n      <td>6b6d8f89-456a-421b-b09c-e7db9a56b7d5</td>\n      <td>raw</td>\n      <td>15720</td>\n      <td>catalog</td>\n      <td>2020-03-30 03:19:59.515094</td>\n      <td>629881394.0</td>\n    </tr>\n    <tr>\n      <th>15721</th>\n      <td>f8e1b486-eaac-4823-aa5b-d1f4869e4cfd</td>\n      <td>lost</td>\n      <td>15721</td>\n      <td>lost</td>\n      <td>2020-03-30 03:19:59.515094</td>\n      <td>629881394.0</td>\n    </tr>\n  </tbody>\n</table>\n</div>"
     },
     "execution_count": 56,
     "metadata": {},
     "output_type": "execute_result"
    }
   ],
   "source": [
    "print(len(source_df[source_df['user_id'] == 629881394]))\n",
    "# source_df[source_df['user_id'] == 629881394]\n",
    "print(len(df4[df4['user_id'] == 629881394]))\n",
    "df4[df4['user_id'] == 629881394]"
   ],
   "metadata": {
    "collapsed": false,
    "pycharm": {
     "name": "#%%\n"
    }
   }
  },
  {
   "cell_type": "code",
   "execution_count": 57,
   "outputs": [
    {
     "data": {
      "text/plain": "(35381, 39132)"
     },
     "execution_count": 57,
     "metadata": {},
     "output_type": "execute_result"
    }
   ],
   "source": [
    "len(source_df), len(df4)"
   ],
   "metadata": {
    "collapsed": false,
    "pycharm": {
     "name": "#%%\n"
    }
   }
  },
  {
   "cell_type": "code",
   "execution_count": 58,
   "outputs": [
    {
     "data": {
      "text/plain": "raw    35381\nName: event_type, dtype: int64"
     },
     "execution_count": 58,
     "metadata": {},
     "output_type": "execute_result"
    }
   ],
   "source": [
    "source_df['event_type'].value_counts()"
   ],
   "metadata": {
    "collapsed": false,
    "pycharm": {
     "name": "#%%\n"
    }
   }
  },
  {
   "cell_type": "code",
   "execution_count": 59,
   "outputs": [
    {
     "data": {
      "text/plain": "event_type\nraw           35381\nlost           3744\npause             7\ndtype: int64"
     },
     "execution_count": 59,
     "metadata": {},
     "output_type": "execute_result"
    }
   ],
   "source": [
    "df4.value_counts(['event_type'])"
   ],
   "metadata": {
    "collapsed": false,
    "pycharm": {
     "name": "#%%\n"
    }
   }
  },
  {
   "cell_type": "code",
   "execution_count": 60,
   "outputs": [
    {
     "name": "stdout",
     "output_type": "stream",
     "text": [
      "18\n"
     ]
    },
    {
     "data": {
      "text/plain": "                                  event_id event_type  event_index event_name  \\\n0     ee8dc3b4-53f8-4f26-84a7-9a3d4b24dd2d        raw            0    catalog   \n1     73126e06-f817-470e-a397-0cf844023720        raw            1   product1   \n2     11bf77c7-7fd8-4b6d-a3aa-89bc8f833c4e        raw            2       cart   \n3     c633b530-c6f7-4e88-aca1-4b8ac61e0ced        raw            3    catalog   \n2407  93386e57-8d24-443d-b8a4-3d6589043a04        raw         2407       main   \n2408  f41a1a8c-6505-467f-be21-a7fc4e801c63        raw         2408    catalog   \n2409  d0e89d8a-2880-44be-8fa6-c599d320e2ed        raw         2409    catalog   \n5169  2b36ef36-da8e-45ee-98cf-d1d6eb310258        raw         5169       main   \n5170  ab011b28-76c6-479d-84ca-0ac7eccfd1d9        raw         5170    catalog   \n5171  c46c026c-38cb-4194-bfb9-f4b592bd85f6        raw         5171       cart   \n5172  e404482e-a597-4ab1-9910-c9ba0e72f4e1        raw         5172    catalog   \n5173  345c7a61-216d-458c-ac36-55649bfa4cfb        raw         5173   product1   \n5174  2e1f0d7c-3bdf-4d5d-a0e9-d77c52cb9318        raw         5174    catalog   \n5175  2d07ecd1-6c76-446e-93ed-267a07b217dd        raw         5175    catalog   \n9329  ed61f4ff-430a-4df1-92c9-4b63c5928fea        raw         9329       main   \n9330  b95b3ad7-8088-46a7-9019-5ce5bfe2d709        raw         9330    catalog   \n9331  394d4b4f-e220-4205-947f-db1a568336d5        raw         9331       lost   \n9332  acf85d3b-ba13-47a1-8ece-dd874d32a40d       lost         9332       lost   \n\n                event_timestamp      user_id  \n0    2019-11-01 17:59:13.273932  219483890.0  \n1    2019-11-01 17:59:28.459271  219483890.0  \n2    2019-11-01 17:59:29.502214  219483890.0  \n3    2019-11-01 17:59:32.557029  219483890.0  \n2407 2019-12-06 16:22:57.484842  219483890.0  \n2408 2019-12-06 16:23:01.331109  219483890.0  \n2409 2019-12-06 16:23:48.116617  219483890.0  \n5169 2020-01-06 22:10:13.635011  219483890.0  \n5170 2020-01-06 22:10:15.228575  219483890.0  \n5171 2020-01-06 22:10:42.309028  219483890.0  \n5172 2020-01-06 22:10:52.255859  219483890.0  \n5173 2020-01-06 22:11:01.709800  219483890.0  \n5174 2020-01-06 22:11:02.899490  219483890.0  \n5175 2020-01-06 22:11:28.271366  219483890.0  \n9329 2020-02-14 21:04:49.450696  219483890.0  \n9330 2020-02-14 21:04:51.717127  219483890.0  \n9331 2020-02-14 21:04:52.717127  219483890.0  \n9332 2020-02-14 21:04:52.717127  219483890.0  ",
      "text/html": "<div>\n<style scoped>\n    .dataframe tbody tr th:only-of-type {\n        vertical-align: middle;\n    }\n\n    .dataframe tbody tr th {\n        vertical-align: top;\n    }\n\n    .dataframe thead th {\n        text-align: right;\n    }\n</style>\n<table border=\"1\" class=\"dataframe\">\n  <thead>\n    <tr style=\"text-align: right;\">\n      <th></th>\n      <th>event_id</th>\n      <th>event_type</th>\n      <th>event_index</th>\n      <th>event_name</th>\n      <th>event_timestamp</th>\n      <th>user_id</th>\n    </tr>\n  </thead>\n  <tbody>\n    <tr>\n      <th>0</th>\n      <td>ee8dc3b4-53f8-4f26-84a7-9a3d4b24dd2d</td>\n      <td>raw</td>\n      <td>0</td>\n      <td>catalog</td>\n      <td>2019-11-01 17:59:13.273932</td>\n      <td>219483890.0</td>\n    </tr>\n    <tr>\n      <th>1</th>\n      <td>73126e06-f817-470e-a397-0cf844023720</td>\n      <td>raw</td>\n      <td>1</td>\n      <td>product1</td>\n      <td>2019-11-01 17:59:28.459271</td>\n      <td>219483890.0</td>\n    </tr>\n    <tr>\n      <th>2</th>\n      <td>11bf77c7-7fd8-4b6d-a3aa-89bc8f833c4e</td>\n      <td>raw</td>\n      <td>2</td>\n      <td>cart</td>\n      <td>2019-11-01 17:59:29.502214</td>\n      <td>219483890.0</td>\n    </tr>\n    <tr>\n      <th>3</th>\n      <td>c633b530-c6f7-4e88-aca1-4b8ac61e0ced</td>\n      <td>raw</td>\n      <td>3</td>\n      <td>catalog</td>\n      <td>2019-11-01 17:59:32.557029</td>\n      <td>219483890.0</td>\n    </tr>\n    <tr>\n      <th>2407</th>\n      <td>93386e57-8d24-443d-b8a4-3d6589043a04</td>\n      <td>raw</td>\n      <td>2407</td>\n      <td>main</td>\n      <td>2019-12-06 16:22:57.484842</td>\n      <td>219483890.0</td>\n    </tr>\n    <tr>\n      <th>2408</th>\n      <td>f41a1a8c-6505-467f-be21-a7fc4e801c63</td>\n      <td>raw</td>\n      <td>2408</td>\n      <td>catalog</td>\n      <td>2019-12-06 16:23:01.331109</td>\n      <td>219483890.0</td>\n    </tr>\n    <tr>\n      <th>2409</th>\n      <td>d0e89d8a-2880-44be-8fa6-c599d320e2ed</td>\n      <td>raw</td>\n      <td>2409</td>\n      <td>catalog</td>\n      <td>2019-12-06 16:23:48.116617</td>\n      <td>219483890.0</td>\n    </tr>\n    <tr>\n      <th>5169</th>\n      <td>2b36ef36-da8e-45ee-98cf-d1d6eb310258</td>\n      <td>raw</td>\n      <td>5169</td>\n      <td>main</td>\n      <td>2020-01-06 22:10:13.635011</td>\n      <td>219483890.0</td>\n    </tr>\n    <tr>\n      <th>5170</th>\n      <td>ab011b28-76c6-479d-84ca-0ac7eccfd1d9</td>\n      <td>raw</td>\n      <td>5170</td>\n      <td>catalog</td>\n      <td>2020-01-06 22:10:15.228575</td>\n      <td>219483890.0</td>\n    </tr>\n    <tr>\n      <th>5171</th>\n      <td>c46c026c-38cb-4194-bfb9-f4b592bd85f6</td>\n      <td>raw</td>\n      <td>5171</td>\n      <td>cart</td>\n      <td>2020-01-06 22:10:42.309028</td>\n      <td>219483890.0</td>\n    </tr>\n    <tr>\n      <th>5172</th>\n      <td>e404482e-a597-4ab1-9910-c9ba0e72f4e1</td>\n      <td>raw</td>\n      <td>5172</td>\n      <td>catalog</td>\n      <td>2020-01-06 22:10:52.255859</td>\n      <td>219483890.0</td>\n    </tr>\n    <tr>\n      <th>5173</th>\n      <td>345c7a61-216d-458c-ac36-55649bfa4cfb</td>\n      <td>raw</td>\n      <td>5173</td>\n      <td>product1</td>\n      <td>2020-01-06 22:11:01.709800</td>\n      <td>219483890.0</td>\n    </tr>\n    <tr>\n      <th>5174</th>\n      <td>2e1f0d7c-3bdf-4d5d-a0e9-d77c52cb9318</td>\n      <td>raw</td>\n      <td>5174</td>\n      <td>catalog</td>\n      <td>2020-01-06 22:11:02.899490</td>\n      <td>219483890.0</td>\n    </tr>\n    <tr>\n      <th>5175</th>\n      <td>2d07ecd1-6c76-446e-93ed-267a07b217dd</td>\n      <td>raw</td>\n      <td>5175</td>\n      <td>catalog</td>\n      <td>2020-01-06 22:11:28.271366</td>\n      <td>219483890.0</td>\n    </tr>\n    <tr>\n      <th>9329</th>\n      <td>ed61f4ff-430a-4df1-92c9-4b63c5928fea</td>\n      <td>raw</td>\n      <td>9329</td>\n      <td>main</td>\n      <td>2020-02-14 21:04:49.450696</td>\n      <td>219483890.0</td>\n    </tr>\n    <tr>\n      <th>9330</th>\n      <td>b95b3ad7-8088-46a7-9019-5ce5bfe2d709</td>\n      <td>raw</td>\n      <td>9330</td>\n      <td>catalog</td>\n      <td>2020-02-14 21:04:51.717127</td>\n      <td>219483890.0</td>\n    </tr>\n    <tr>\n      <th>9331</th>\n      <td>394d4b4f-e220-4205-947f-db1a568336d5</td>\n      <td>raw</td>\n      <td>9331</td>\n      <td>lost</td>\n      <td>2020-02-14 21:04:52.717127</td>\n      <td>219483890.0</td>\n    </tr>\n    <tr>\n      <th>9332</th>\n      <td>acf85d3b-ba13-47a1-8ece-dd874d32a40d</td>\n      <td>lost</td>\n      <td>9332</td>\n      <td>lost</td>\n      <td>2020-02-14 21:04:52.717127</td>\n      <td>219483890.0</td>\n    </tr>\n  </tbody>\n</table>\n</div>"
     },
     "execution_count": 60,
     "metadata": {},
     "output_type": "execute_result"
    }
   ],
   "source": [
    "print(len(df4[df4['user_id'] == 219483890]))\n",
    "df4[df4['user_id'] == 219483890].sort_values('event_timestamp')"
   ],
   "metadata": {
    "collapsed": false,
    "pycharm": {
     "name": "#%%\n"
    }
   }
  },
  {
   "cell_type": "code",
   "execution_count": 61,
   "outputs": [
    {
     "name": "stdout",
     "output_type": "stream",
     "text": [
      "17\n"
     ]
    },
    {
     "data": {
      "text/plain": "                                  event_id event_type  event_index event_name  \\\n0     ee8dc3b4-53f8-4f26-84a7-9a3d4b24dd2d        raw            0    catalog   \n1     73126e06-f817-470e-a397-0cf844023720        raw            1   product1   \n2     11bf77c7-7fd8-4b6d-a3aa-89bc8f833c4e        raw            2       cart   \n3     c633b530-c6f7-4e88-aca1-4b8ac61e0ced        raw            3    catalog   \n2245  93386e57-8d24-443d-b8a4-3d6589043a04        raw         2245       main   \n2246  f41a1a8c-6505-467f-be21-a7fc4e801c63        raw         2246    catalog   \n2247  d0e89d8a-2880-44be-8fa6-c599d320e2ed        raw         2247    catalog   \n4836  2b36ef36-da8e-45ee-98cf-d1d6eb310258        raw         4836       main   \n4837  ab011b28-76c6-479d-84ca-0ac7eccfd1d9        raw         4837    catalog   \n4838  c46c026c-38cb-4194-bfb9-f4b592bd85f6        raw         4838       cart   \n4839  e404482e-a597-4ab1-9910-c9ba0e72f4e1        raw         4839    catalog   \n4840  345c7a61-216d-458c-ac36-55649bfa4cfb        raw         4840   product1   \n4841  2e1f0d7c-3bdf-4d5d-a0e9-d77c52cb9318        raw         4841    catalog   \n4842  2d07ecd1-6c76-446e-93ed-267a07b217dd        raw         4842    catalog   \n8736  ed61f4ff-430a-4df1-92c9-4b63c5928fea        raw         8736       main   \n8737  b95b3ad7-8088-46a7-9019-5ce5bfe2d709        raw         8737    catalog   \n8738  394d4b4f-e220-4205-947f-db1a568336d5        raw         8738       lost   \n\n                event_timestamp    user_id  \n0    2019-11-01 17:59:13.273932  219483890  \n1    2019-11-01 17:59:28.459271  219483890  \n2    2019-11-01 17:59:29.502214  219483890  \n3    2019-11-01 17:59:32.557029  219483890  \n2245 2019-12-06 16:22:57.484842  219483890  \n2246 2019-12-06 16:23:01.331109  219483890  \n2247 2019-12-06 16:23:48.116617  219483890  \n4836 2020-01-06 22:10:13.635011  219483890  \n4837 2020-01-06 22:10:15.228575  219483890  \n4838 2020-01-06 22:10:42.309028  219483890  \n4839 2020-01-06 22:10:52.255859  219483890  \n4840 2020-01-06 22:11:01.709800  219483890  \n4841 2020-01-06 22:11:02.899490  219483890  \n4842 2020-01-06 22:11:28.271366  219483890  \n8736 2020-02-14 21:04:49.450696  219483890  \n8737 2020-02-14 21:04:51.717127  219483890  \n8738 2020-02-14 21:04:52.717127  219483890  ",
      "text/html": "<div>\n<style scoped>\n    .dataframe tbody tr th:only-of-type {\n        vertical-align: middle;\n    }\n\n    .dataframe tbody tr th {\n        vertical-align: top;\n    }\n\n    .dataframe thead th {\n        text-align: right;\n    }\n</style>\n<table border=\"1\" class=\"dataframe\">\n  <thead>\n    <tr style=\"text-align: right;\">\n      <th></th>\n      <th>event_id</th>\n      <th>event_type</th>\n      <th>event_index</th>\n      <th>event_name</th>\n      <th>event_timestamp</th>\n      <th>user_id</th>\n    </tr>\n  </thead>\n  <tbody>\n    <tr>\n      <th>0</th>\n      <td>ee8dc3b4-53f8-4f26-84a7-9a3d4b24dd2d</td>\n      <td>raw</td>\n      <td>0</td>\n      <td>catalog</td>\n      <td>2019-11-01 17:59:13.273932</td>\n      <td>219483890</td>\n    </tr>\n    <tr>\n      <th>1</th>\n      <td>73126e06-f817-470e-a397-0cf844023720</td>\n      <td>raw</td>\n      <td>1</td>\n      <td>product1</td>\n      <td>2019-11-01 17:59:28.459271</td>\n      <td>219483890</td>\n    </tr>\n    <tr>\n      <th>2</th>\n      <td>11bf77c7-7fd8-4b6d-a3aa-89bc8f833c4e</td>\n      <td>raw</td>\n      <td>2</td>\n      <td>cart</td>\n      <td>2019-11-01 17:59:29.502214</td>\n      <td>219483890</td>\n    </tr>\n    <tr>\n      <th>3</th>\n      <td>c633b530-c6f7-4e88-aca1-4b8ac61e0ced</td>\n      <td>raw</td>\n      <td>3</td>\n      <td>catalog</td>\n      <td>2019-11-01 17:59:32.557029</td>\n      <td>219483890</td>\n    </tr>\n    <tr>\n      <th>2245</th>\n      <td>93386e57-8d24-443d-b8a4-3d6589043a04</td>\n      <td>raw</td>\n      <td>2245</td>\n      <td>main</td>\n      <td>2019-12-06 16:22:57.484842</td>\n      <td>219483890</td>\n    </tr>\n    <tr>\n      <th>2246</th>\n      <td>f41a1a8c-6505-467f-be21-a7fc4e801c63</td>\n      <td>raw</td>\n      <td>2246</td>\n      <td>catalog</td>\n      <td>2019-12-06 16:23:01.331109</td>\n      <td>219483890</td>\n    </tr>\n    <tr>\n      <th>2247</th>\n      <td>d0e89d8a-2880-44be-8fa6-c599d320e2ed</td>\n      <td>raw</td>\n      <td>2247</td>\n      <td>catalog</td>\n      <td>2019-12-06 16:23:48.116617</td>\n      <td>219483890</td>\n    </tr>\n    <tr>\n      <th>4836</th>\n      <td>2b36ef36-da8e-45ee-98cf-d1d6eb310258</td>\n      <td>raw</td>\n      <td>4836</td>\n      <td>main</td>\n      <td>2020-01-06 22:10:13.635011</td>\n      <td>219483890</td>\n    </tr>\n    <tr>\n      <th>4837</th>\n      <td>ab011b28-76c6-479d-84ca-0ac7eccfd1d9</td>\n      <td>raw</td>\n      <td>4837</td>\n      <td>catalog</td>\n      <td>2020-01-06 22:10:15.228575</td>\n      <td>219483890</td>\n    </tr>\n    <tr>\n      <th>4838</th>\n      <td>c46c026c-38cb-4194-bfb9-f4b592bd85f6</td>\n      <td>raw</td>\n      <td>4838</td>\n      <td>cart</td>\n      <td>2020-01-06 22:10:42.309028</td>\n      <td>219483890</td>\n    </tr>\n    <tr>\n      <th>4839</th>\n      <td>e404482e-a597-4ab1-9910-c9ba0e72f4e1</td>\n      <td>raw</td>\n      <td>4839</td>\n      <td>catalog</td>\n      <td>2020-01-06 22:10:52.255859</td>\n      <td>219483890</td>\n    </tr>\n    <tr>\n      <th>4840</th>\n      <td>345c7a61-216d-458c-ac36-55649bfa4cfb</td>\n      <td>raw</td>\n      <td>4840</td>\n      <td>product1</td>\n      <td>2020-01-06 22:11:01.709800</td>\n      <td>219483890</td>\n    </tr>\n    <tr>\n      <th>4841</th>\n      <td>2e1f0d7c-3bdf-4d5d-a0e9-d77c52cb9318</td>\n      <td>raw</td>\n      <td>4841</td>\n      <td>catalog</td>\n      <td>2020-01-06 22:11:02.899490</td>\n      <td>219483890</td>\n    </tr>\n    <tr>\n      <th>4842</th>\n      <td>2d07ecd1-6c76-446e-93ed-267a07b217dd</td>\n      <td>raw</td>\n      <td>4842</td>\n      <td>catalog</td>\n      <td>2020-01-06 22:11:28.271366</td>\n      <td>219483890</td>\n    </tr>\n    <tr>\n      <th>8736</th>\n      <td>ed61f4ff-430a-4df1-92c9-4b63c5928fea</td>\n      <td>raw</td>\n      <td>8736</td>\n      <td>main</td>\n      <td>2020-02-14 21:04:49.450696</td>\n      <td>219483890</td>\n    </tr>\n    <tr>\n      <th>8737</th>\n      <td>b95b3ad7-8088-46a7-9019-5ce5bfe2d709</td>\n      <td>raw</td>\n      <td>8737</td>\n      <td>catalog</td>\n      <td>2020-02-14 21:04:51.717127</td>\n      <td>219483890</td>\n    </tr>\n    <tr>\n      <th>8738</th>\n      <td>394d4b4f-e220-4205-947f-db1a568336d5</td>\n      <td>raw</td>\n      <td>8738</td>\n      <td>lost</td>\n      <td>2020-02-14 21:04:52.717127</td>\n      <td>219483890</td>\n    </tr>\n  </tbody>\n</table>\n</div>"
     },
     "execution_count": 61,
     "metadata": {},
     "output_type": "execute_result"
    }
   ],
   "source": [
    "print(len(source_df[source_df['user_id'] == 219483890]))\n",
    "source_df[source_df['user_id'] == 219483890]"
   ],
   "metadata": {
    "collapsed": false,
    "pycharm": {
     "name": "#%%\n"
    }
   }
  },
  {
   "cell_type": "code",
   "execution_count": 61,
   "outputs": [],
   "source": [],
   "metadata": {
    "collapsed": false,
    "pycharm": {
     "name": "#%%\n"
    }
   }
  },
  {
   "cell_type": "code",
   "execution_count": 61,
   "outputs": [],
   "source": [],
   "metadata": {
    "collapsed": false,
    "pycharm": {
     "name": "#%%\n"
    }
   }
  },
  {
   "cell_type": "markdown",
   "source": [
    "### Результат"
   ],
   "metadata": {
    "collapsed": false,
    "pycharm": {
     "name": "#%% md\n"
    }
   }
  },
  {
   "cell_type": "markdown",
   "source": [
    "1) [DONE] Нельзя задать единицу измерения отсечки, сейчас тип - lost_cutoff: Optional[List[int]]\n",
    "2) [DONE] - ломается на этапе импорта из-за параметра функции, если\n",
    "3) [DONE] Combine - часть событий задваивается, но не очень понятно по какой логике\n",
    "4) [TODO] Локально возникает ошибка TypeError: _default_func_positive() takes 2 positional arguments but 3 were given\n",
    "5) [TODO_analytics] Продумать общую логику работы - сейчас можно проставить lost/pause или по отсечке, или по списку и функции. И то и другое задавать нельзя.\n",
    "    - По отсечке - Если от последнего события в траектории прошло больше времени отсечки, то добавляется событие lost, если меньше - pause\n",
    "    - lost_users_list - список юзеров, которым проставляется событие lost, остальным - pause, Сейчас по списку проставляется - pause"
   ],
   "metadata": {
    "collapsed": false,
    "pycharm": {
     "name": "#%% md\n"
    }
   }
  },
  {
   "cell_type": "markdown",
   "source": [
    "## Truncated"
   ],
   "metadata": {
    "collapsed": false,
    "pycharm": {
     "name": "#%% md\n"
    }
   }
  },
  {
   "cell_type": "markdown",
   "source": [
    "### Описание работы функции"
   ],
   "metadata": {
    "collapsed": false,
    "pycharm": {
     "name": "#%% md\n"
    }
   }
  },
  {
   "cell_type": "markdown",
   "source": [
    "Для ```left_truncated_cutoff``` добавляет событие ```event_type=truncated_left, event=truncated_left``` в начало траектории пользователя, если последнее событие пользователя отстоит от конца датасета больше, чем на ```left_truncated_cutoff```.\n",
    " <br>\n",
    "Для ```right_truncated_cutoff``` добавляет события ```event_type=truncated_right, event=truncated_right``` в конец траектории пользователя, если первое событие пользователя отстоит от начала датасета больше, чем на ```right_truncated_cutoff```.\n",
    " <br>\n",
    "Отсечки удобно определять с помощью гистограмм ```preprocessing.plot_time_delta```"
   ],
   "metadata": {
    "collapsed": false,
    "pycharm": {
     "name": "#%% md\n"
    }
   }
  },
  {
   "cell_type": "code",
   "execution_count": 62,
   "outputs": [],
   "source": [
    "import seaborn as sns\n",
    "import matplotlib.pyplot as plt\n",
    "import pandas as pd\n",
    "from datetime import datetime as dt\n",
    "import time\n",
    "\n",
    "def plot_time_delta(df: pd.DataFrame,\n",
    "                    dataset_event='start', #'dataset_users_diff=('start', 'end')\n",
    "                    users_event='end',\n",
    "                    cutoff=None,\n",
    "                    uom='s',\n",
    "                    bins='auto',\n",
    "                    log_scale=(False, False),\n",
    "                    figsize=(15,10),\n",
    "                    l_bound = 1,\n",
    "                    r_bound = None,\n",
    "                    alpha: float = 0.4\n",
    "                    ):\n",
    "\n",
    "    uom_dict = {'s': 1,\n",
    "                'm': 60,\n",
    "                'h': 3600,\n",
    "                 'd': 24*3600}\n",
    "\n",
    "    user_col = 'user_id'\n",
    "    time_col = 'event_timestamp'\n",
    "\n",
    "    df_time = df.groupby(user_col)[[time_col]].agg({min, max})\n",
    "    df_time.columns = df_time.columns.get_level_values(1)\n",
    "    df_time = df_time.reset_index()\n",
    "\n",
    "    if dataset_event == 'start' and  users_event == 'start':\n",
    "    #'start_start'\n",
    "        df_time['time_diff'] = (df_time['min'] - df_time['min'].min())\n",
    "\n",
    "    elif dataset_event == 'end' and  users_event == 'end':\n",
    "    #'end_end'\n",
    "        df_time['time_diff'] = (df_time['max'].max() - df_time['max'])\n",
    "\n",
    "    elif dataset_event == 'start' and  users_event == 'end':\n",
    "    #'start_endu'\n",
    "        df_time['time_diff'] = (df_time['max'] - df_time['min'].min())\n",
    "\n",
    "    elif dataset_event == 'end' and  users_event == 'start':\n",
    "    #'end_startu'\n",
    "        df_time['time_diff'] = (df_time['max'].max() - df_time['min'])\n",
    "\n",
    "    df_time = df_time[df_time['time_diff'] != 0]\n",
    "    df_time['time_diff'] = df_time['time_diff'].dt.total_seconds()\n",
    "\n",
    "    if uom!= 's':\n",
    "        df_time['time_diff'] = df_time['time_diff']/uom_dict[uom]\n",
    "\n",
    "    df_time = df_time[(df_time['time_diff'] > l_bound)]\n",
    "\n",
    "    if r_bound != None:\n",
    "        df_time = df_time[(df_time['time_diff'] < r_bound)]\n",
    "\n",
    "    plt.figure(figsize=figsize)\n",
    "\n",
    "    ax = sns.histplot(x=df_time['time_diff'],\n",
    "             bins=bins, #'auto',\n",
    "             log_scale=log_scale,\n",
    "             color='tab:blue',\n",
    "             alpha = alpha, # прозрачность\n",
    "             edgecolor='black',\n",
    "                     )\n",
    "\n",
    "    if log_scale[0]:\n",
    "        plt.xlabel(f'time, {uom}, log_scale ')\n",
    "    else:\n",
    "        plt.xlabel(f'time, {uom}')\n",
    "\n",
    "    if log_scale[1]:\n",
    "        plt.ylabel('Count users, log_scale ')\n",
    "    else:\n",
    "        plt.ylabel('Count users')\n",
    "    if cutoff:\n",
    "        plt.axvline(x=cutoff, linewidth=1, color = 'r', linestyle='--', label = 'cutoff')\n",
    "    plt.title(f'Time between {dataset_event} event of full dataset and {users_event} event of each user')\n",
    "    plt.show()"
   ],
   "metadata": {
    "collapsed": false,
    "pycharm": {
     "name": "#%%\n"
    }
   }
  },
  {
   "cell_type": "code",
   "execution_count": 63,
   "outputs": [
    {
     "data": {
      "text/plain": "                               event_id event_type  event_index event_name  \\\n0  ee8dc3b4-53f8-4f26-84a7-9a3d4b24dd2d        raw            0    catalog   \n\n             event_timestamp    user_id  \n0 2019-11-01 17:59:13.273932  219483890  ",
      "text/html": "<div>\n<style scoped>\n    .dataframe tbody tr th:only-of-type {\n        vertical-align: middle;\n    }\n\n    .dataframe tbody tr th {\n        vertical-align: top;\n    }\n\n    .dataframe thead th {\n        text-align: right;\n    }\n</style>\n<table border=\"1\" class=\"dataframe\">\n  <thead>\n    <tr style=\"text-align: right;\">\n      <th></th>\n      <th>event_id</th>\n      <th>event_type</th>\n      <th>event_index</th>\n      <th>event_name</th>\n      <th>event_timestamp</th>\n      <th>user_id</th>\n    </tr>\n  </thead>\n  <tbody>\n    <tr>\n      <th>0</th>\n      <td>ee8dc3b4-53f8-4f26-84a7-9a3d4b24dd2d</td>\n      <td>raw</td>\n      <td>0</td>\n      <td>catalog</td>\n      <td>2019-11-01 17:59:13.273932</td>\n      <td>219483890</td>\n    </tr>\n  </tbody>\n</table>\n</div>"
     },
     "execution_count": 63,
     "metadata": {},
     "output_type": "execute_result"
    }
   ],
   "source": [
    "source_df.head(1)"
   ],
   "metadata": {
    "collapsed": false,
    "pycharm": {
     "name": "#%%\n"
    }
   }
  },
  {
   "cell_type": "code",
   "execution_count": 64,
   "outputs": [
    {
     "data": {
      "text/plain": "<Figure size 720x360 with 1 Axes>",
      "image/png": "[encoded data removed]"
     },
     "metadata": {
      "needs_background": "light"
     },
     "output_type": "display_data"
    }
   ],
   "source": [
    "# задавать с какой стороны отсчитывать отсечку - справа или слева\n",
    "\n",
    "plot_time_delta(source_df,\n",
    "                    dataset_event='start', #'dataset_users_diff=('start', 'end')\n",
    "                    users_event='start',\n",
    "                    cutoff=4500,\n",
    "                    uom='h',\n",
    "                    bins=40,\n",
    "                    log_scale=(False, False),\n",
    "                    figsize=(10,5),\n",
    "                    l_bound = 1,\n",
    "                    r_bound = None\n",
    "                    )"
   ],
   "metadata": {
    "collapsed": false,
    "pycharm": {
     "name": "#%%\n"
    }
   }
  },
  {
   "cell_type": "code",
   "execution_count": 65,
   "outputs": [
    {
     "data": {
      "text/plain": "                               event_id      event_type  event_index  \\\n0  ee8dc3b4-53f8-4f26-84a7-9a3d4b24dd2d             raw            0   \n1  2a8c4b7a-4178-4f3b-ae41-b40efe49f4c1  truncated_left            1   \n2  73126e06-f817-470e-a397-0cf844023720             raw            2   \n3  11bf77c7-7fd8-4b6d-a3aa-89bc8f833c4e             raw            3   \n4  c633b530-c6f7-4e88-aca1-4b8ac61e0ced             raw            4   \n5  1dd47e39-bcd0-4a11-9970-66c3ddaace26             raw            5   \n6  368d793c-7fb9-46a0-9683-2f1dc2a73da8  truncated_left            6   \n7  e41dd2c3-f09b-467a-b714-626efa161922             raw            7   \n\n       event_name            event_timestamp      user_id  \n0         catalog 2019-11-01 17:59:13.273932  219483890.0  \n1  truncated_left 2019-11-01 17:59:13.273932  219483890.0  \n2        product1 2019-11-01 17:59:28.459271  219483890.0  \n3            cart 2019-11-01 17:59:29.502214  219483890.0  \n4         catalog 2019-11-01 17:59:32.557029  219483890.0  \n5         catalog 2019-11-01 21:38:19.283663  964964743.0  \n6  truncated_left 2019-11-01 21:38:19.283663  964964743.0  \n7            cart 2019-11-01 21:38:36.761221  964964743.0  ",
      "text/html": "<div>\n<style scoped>\n    .dataframe tbody tr th:only-of-type {\n        vertical-align: middle;\n    }\n\n    .dataframe tbody tr th {\n        vertical-align: top;\n    }\n\n    .dataframe thead th {\n        text-align: right;\n    }\n</style>\n<table border=\"1\" class=\"dataframe\">\n  <thead>\n    <tr style=\"text-align: right;\">\n      <th></th>\n      <th>event_id</th>\n      <th>event_type</th>\n      <th>event_index</th>\n      <th>event_name</th>\n      <th>event_timestamp</th>\n      <th>user_id</th>\n    </tr>\n  </thead>\n  <tbody>\n    <tr>\n      <th>0</th>\n      <td>ee8dc3b4-53f8-4f26-84a7-9a3d4b24dd2d</td>\n      <td>raw</td>\n      <td>0</td>\n      <td>catalog</td>\n      <td>2019-11-01 17:59:13.273932</td>\n      <td>219483890.0</td>\n    </tr>\n    <tr>\n      <th>1</th>\n      <td>2a8c4b7a-4178-4f3b-ae41-b40efe49f4c1</td>\n      <td>truncated_left</td>\n      <td>1</td>\n      <td>truncated_left</td>\n      <td>2019-11-01 17:59:13.273932</td>\n      <td>219483890.0</td>\n    </tr>\n    <tr>\n      <th>2</th>\n      <td>73126e06-f817-470e-a397-0cf844023720</td>\n      <td>raw</td>\n      <td>2</td>\n      <td>product1</td>\n      <td>2019-11-01 17:59:28.459271</td>\n      <td>219483890.0</td>\n    </tr>\n    <tr>\n      <th>3</th>\n      <td>11bf77c7-7fd8-4b6d-a3aa-89bc8f833c4e</td>\n      <td>raw</td>\n      <td>3</td>\n      <td>cart</td>\n      <td>2019-11-01 17:59:29.502214</td>\n      <td>219483890.0</td>\n    </tr>\n    <tr>\n      <th>4</th>\n      <td>c633b530-c6f7-4e88-aca1-4b8ac61e0ced</td>\n      <td>raw</td>\n      <td>4</td>\n      <td>catalog</td>\n      <td>2019-11-01 17:59:32.557029</td>\n      <td>219483890.0</td>\n    </tr>\n    <tr>\n      <th>5</th>\n      <td>1dd47e39-bcd0-4a11-9970-66c3ddaace26</td>\n      <td>raw</td>\n      <td>5</td>\n      <td>catalog</td>\n      <td>2019-11-01 21:38:19.283663</td>\n      <td>964964743.0</td>\n    </tr>\n    <tr>\n      <th>6</th>\n      <td>368d793c-7fb9-46a0-9683-2f1dc2a73da8</td>\n      <td>truncated_left</td>\n      <td>6</td>\n      <td>truncated_left</td>\n      <td>2019-11-01 21:38:19.283663</td>\n      <td>964964743.0</td>\n    </tr>\n    <tr>\n      <th>7</th>\n      <td>e41dd2c3-f09b-467a-b714-626efa161922</td>\n      <td>raw</td>\n      <td>7</td>\n      <td>cart</td>\n      <td>2019-11-01 21:38:36.761221</td>\n      <td>964964743.0</td>\n    </tr>\n  </tbody>\n</table>\n</div>"
     },
     "execution_count": 65,
     "metadata": {},
     "output_type": "execute_result"
    }
   ],
   "source": [
    "from src.data_processors_lib.rete import TruncatedEvents, TruncatedParams\n",
    "params = {\n",
    "    'left_truncated_cutoff': (1000, 'h'),\n",
    "    'right_truncated_cutoff': (4000, 'h')\n",
    "}\n",
    "\n",
    "truncated_events = EventsNode(\n",
    "    TruncatedEvents(params=TruncatedParams(**params)))\n",
    "\n",
    "\n",
    "graph.add_node(\n",
    "    node=truncated_events,\n",
    "    parents=[graph.root]\n",
    ")\n",
    "\n",
    "result = graph.combine(\n",
    "    node=truncated_events\n",
    ")\n",
    "result.to_dataframe().head(8)"
   ],
   "metadata": {
    "collapsed": false,
    "pycharm": {
     "name": "#%%\n"
    }
   }
  },
  {
   "cell_type": "code",
   "execution_count": 66,
   "outputs": [
    {
     "name": "stdout",
     "output_type": "stream",
     "text": [
      "0\n"
     ]
    },
    {
     "data": {
      "text/plain": "0"
     },
     "execution_count": 66,
     "metadata": {},
     "output_type": "execute_result"
    }
   ],
   "source": [
    "df5 = result.to_dataframe()\n",
    "print(source_df.duplicated(['event_name', 'event_timestamp', 'user_id']).sum())\n",
    "df5.duplicated(['event_name', 'event_timestamp', 'user_id']).sum()"
   ],
   "metadata": {
    "collapsed": false,
    "pycharm": {
     "name": "#%%\n"
    }
   }
  },
  {
   "cell_type": "code",
   "execution_count": 67,
   "outputs": [
    {
     "data": {
      "text/plain": "3751"
     },
     "execution_count": 67,
     "metadata": {},
     "output_type": "execute_result"
    }
   ],
   "source": [
    "df5['user_id'].nunique()"
   ],
   "metadata": {
    "collapsed": false,
    "pycharm": {
     "name": "#%%\n"
    }
   }
  },
  {
   "cell_type": "code",
   "execution_count": 68,
   "outputs": [
    {
     "data": {
      "text/plain": "event_type\nraw                35381\ntruncated_right     1080\ntruncated_left       967\ndtype: int64"
     },
     "execution_count": 68,
     "metadata": {},
     "output_type": "execute_result"
    }
   ],
   "source": [
    "df5.value_counts('event_type')"
   ],
   "metadata": {
    "collapsed": false,
    "pycharm": {
     "name": "#%%\n"
    }
   }
  },
  {
   "cell_type": "code",
   "execution_count": 69,
   "outputs": [
    {
     "data": {
      "text/plain": "25577    973860052.0\n25599    102919503.0\n25625    146993449.0\n25633    169208046.0\n25644    147898568.0\n            ...     \n37383    125426031.0\n37391     26773318.0\n37396    965024600.0\n37403    831491833.0\n37419    962761227.0\nName: user_id, Length: 1080, dtype: float64"
     },
     "execution_count": 69,
     "metadata": {},
     "output_type": "execute_result"
    }
   ],
   "source": [
    "df5[df5['event_type'] == 'truncated_right']['user_id']"
   ],
   "metadata": {
    "collapsed": false,
    "pycharm": {
     "name": "#%%\n"
    }
   }
  },
  {
   "cell_type": "code",
   "execution_count": 70,
   "outputs": [
    {
     "name": "stdout",
     "output_type": "stream",
     "text": [
      "9\n"
     ]
    },
    {
     "data": {
      "text/plain": "                                   event_id       event_type  event_index  \\\n25569  d4feb630-9dfc-4c53-80ce-1a0efd109fc4              raw        25569   \n25570  c9c00270-46c4-4dab-8b93-abcef1f7d6db              raw        25570   \n25571  32477b72-37bd-436e-9c5d-31fb4ef2969d              raw        25571   \n25572  3a8e04f4-dc78-419e-b1d9-a9ae60873d25              raw        25572   \n25573  c443b211-03df-4885-9dce-ef3c8141ff99              raw        25573   \n25574  827268e2-f7ae-4652-9521-9eb208476d34              raw        25574   \n25575  fd15dd5f-45b5-4e93-9f03-f4f885ed08e6              raw        25575   \n25576  56d7ed98-180e-4c19-a464-5434a8ad44bd              raw        25576   \n25577  904864a9-e97c-45a5-9b52-d1888492843e  truncated_right        25577   \n\n             event_name            event_timestamp      user_id  \n25569              main 2020-04-16 10:01:27.881445  973860052.0  \n25570           catalog 2020-04-16 10:01:32.436962  973860052.0  \n25571          product2 2020-04-16 10:01:35.561178  973860052.0  \n25572              cart 2020-04-16 10:01:51.293357  973860052.0  \n25573   delivery_choice 2020-04-16 10:01:58.276434  973860052.0  \n25574  delivery_courier 2020-04-16 10:01:59.070049  973860052.0  \n25575    payment_choice 2020-04-16 10:01:59.221387  973860052.0  \n25576      payment_done 2020-04-16 10:02:00.771862  973860052.0  \n25577   truncated_right 2020-04-16 10:02:00.771862  973860052.0  ",
      "text/html": "<div>\n<style scoped>\n    .dataframe tbody tr th:only-of-type {\n        vertical-align: middle;\n    }\n\n    .dataframe tbody tr th {\n        vertical-align: top;\n    }\n\n    .dataframe thead th {\n        text-align: right;\n    }\n</style>\n<table border=\"1\" class=\"dataframe\">\n  <thead>\n    <tr style=\"text-align: right;\">\n      <th></th>\n      <th>event_id</th>\n      <th>event_type</th>\n      <th>event_index</th>\n      <th>event_name</th>\n      <th>event_timestamp</th>\n      <th>user_id</th>\n    </tr>\n  </thead>\n  <tbody>\n    <tr>\n      <th>25569</th>\n      <td>d4feb630-9dfc-4c53-80ce-1a0efd109fc4</td>\n      <td>raw</td>\n      <td>25569</td>\n      <td>main</td>\n      <td>2020-04-16 10:01:27.881445</td>\n      <td>973860052.0</td>\n    </tr>\n    <tr>\n      <th>25570</th>\n      <td>c9c00270-46c4-4dab-8b93-abcef1f7d6db</td>\n      <td>raw</td>\n      <td>25570</td>\n      <td>catalog</td>\n      <td>2020-04-16 10:01:32.436962</td>\n      <td>973860052.0</td>\n    </tr>\n    <tr>\n      <th>25571</th>\n      <td>32477b72-37bd-436e-9c5d-31fb4ef2969d</td>\n      <td>raw</td>\n      <td>25571</td>\n      <td>product2</td>\n      <td>2020-04-16 10:01:35.561178</td>\n      <td>973860052.0</td>\n    </tr>\n    <tr>\n      <th>25572</th>\n      <td>3a8e04f4-dc78-419e-b1d9-a9ae60873d25</td>\n      <td>raw</td>\n      <td>25572</td>\n      <td>cart</td>\n      <td>2020-04-16 10:01:51.293357</td>\n      <td>973860052.0</td>\n    </tr>\n    <tr>\n      <th>25573</th>\n      <td>c443b211-03df-4885-9dce-ef3c8141ff99</td>\n      <td>raw</td>\n      <td>25573</td>\n      <td>delivery_choice</td>\n      <td>2020-04-16 10:01:58.276434</td>\n      <td>973860052.0</td>\n    </tr>\n    <tr>\n      <th>25574</th>\n      <td>827268e2-f7ae-4652-9521-9eb208476d34</td>\n      <td>raw</td>\n      <td>25574</td>\n      <td>delivery_courier</td>\n      <td>2020-04-16 10:01:59.070049</td>\n      <td>973860052.0</td>\n    </tr>\n    <tr>\n      <th>25575</th>\n      <td>fd15dd5f-45b5-4e93-9f03-f4f885ed08e6</td>\n      <td>raw</td>\n      <td>25575</td>\n      <td>payment_choice</td>\n      <td>2020-04-16 10:01:59.221387</td>\n      <td>973860052.0</td>\n    </tr>\n    <tr>\n      <th>25576</th>\n      <td>56d7ed98-180e-4c19-a464-5434a8ad44bd</td>\n      <td>raw</td>\n      <td>25576</td>\n      <td>payment_done</td>\n      <td>2020-04-16 10:02:00.771862</td>\n      <td>973860052.0</td>\n    </tr>\n    <tr>\n      <th>25577</th>\n      <td>904864a9-e97c-45a5-9b52-d1888492843e</td>\n      <td>truncated_right</td>\n      <td>25577</td>\n      <td>truncated_right</td>\n      <td>2020-04-16 10:02:00.771862</td>\n      <td>973860052.0</td>\n    </tr>\n  </tbody>\n</table>\n</div>"
     },
     "execution_count": 70,
     "metadata": {},
     "output_type": "execute_result"
    }
   ],
   "source": [
    "print(len(df5[df5['user_id'] == 973860052]))\n",
    "df5[df5['user_id'] == 973860052]"
   ],
   "metadata": {
    "collapsed": false,
    "pycharm": {
     "name": "#%%\n"
    }
   }
  },
  {
   "cell_type": "code",
   "execution_count": 71,
   "outputs": [
    {
     "name": "stdout",
     "output_type": "stream",
     "text": [
      "8\n"
     ]
    },
    {
     "data": {
      "text/plain": "                                   event_id event_type  event_index  \\\n24602  d4feb630-9dfc-4c53-80ce-1a0efd109fc4        raw        24602   \n24603  c9c00270-46c4-4dab-8b93-abcef1f7d6db        raw        24603   \n24604  32477b72-37bd-436e-9c5d-31fb4ef2969d        raw        24604   \n24605  3a8e04f4-dc78-419e-b1d9-a9ae60873d25        raw        24605   \n24606  c443b211-03df-4885-9dce-ef3c8141ff99        raw        24606   \n24607  827268e2-f7ae-4652-9521-9eb208476d34        raw        24607   \n24608  fd15dd5f-45b5-4e93-9f03-f4f885ed08e6        raw        24608   \n24609  56d7ed98-180e-4c19-a464-5434a8ad44bd        raw        24609   \n\n             event_name            event_timestamp    user_id  \n24602              main 2020-04-16 10:01:27.881445  973860052  \n24603           catalog 2020-04-16 10:01:32.436962  973860052  \n24604          product2 2020-04-16 10:01:35.561178  973860052  \n24605              cart 2020-04-16 10:01:51.293357  973860052  \n24606   delivery_choice 2020-04-16 10:01:58.276434  973860052  \n24607  delivery_courier 2020-04-16 10:01:59.070049  973860052  \n24608    payment_choice 2020-04-16 10:01:59.221387  973860052  \n24609      payment_done 2020-04-16 10:02:00.771862  973860052  ",
      "text/html": "<div>\n<style scoped>\n    .dataframe tbody tr th:only-of-type {\n        vertical-align: middle;\n    }\n\n    .dataframe tbody tr th {\n        vertical-align: top;\n    }\n\n    .dataframe thead th {\n        text-align: right;\n    }\n</style>\n<table border=\"1\" class=\"dataframe\">\n  <thead>\n    <tr style=\"text-align: right;\">\n      <th></th>\n      <th>event_id</th>\n      <th>event_type</th>\n      <th>event_index</th>\n      <th>event_name</th>\n      <th>event_timestamp</th>\n      <th>user_id</th>\n    </tr>\n  </thead>\n  <tbody>\n    <tr>\n      <th>24602</th>\n      <td>d4feb630-9dfc-4c53-80ce-1a0efd109fc4</td>\n      <td>raw</td>\n      <td>24602</td>\n      <td>main</td>\n      <td>2020-04-16 10:01:27.881445</td>\n      <td>973860052</td>\n    </tr>\n    <tr>\n      <th>24603</th>\n      <td>c9c00270-46c4-4dab-8b93-abcef1f7d6db</td>\n      <td>raw</td>\n      <td>24603</td>\n      <td>catalog</td>\n      <td>2020-04-16 10:01:32.436962</td>\n      <td>973860052</td>\n    </tr>\n    <tr>\n      <th>24604</th>\n      <td>32477b72-37bd-436e-9c5d-31fb4ef2969d</td>\n      <td>raw</td>\n      <td>24604</td>\n      <td>product2</td>\n      <td>2020-04-16 10:01:35.561178</td>\n      <td>973860052</td>\n    </tr>\n    <tr>\n      <th>24605</th>\n      <td>3a8e04f4-dc78-419e-b1d9-a9ae60873d25</td>\n      <td>raw</td>\n      <td>24605</td>\n      <td>cart</td>\n      <td>2020-04-16 10:01:51.293357</td>\n      <td>973860052</td>\n    </tr>\n    <tr>\n      <th>24606</th>\n      <td>c443b211-03df-4885-9dce-ef3c8141ff99</td>\n      <td>raw</td>\n      <td>24606</td>\n      <td>delivery_choice</td>\n      <td>2020-04-16 10:01:58.276434</td>\n      <td>973860052</td>\n    </tr>\n    <tr>\n      <th>24607</th>\n      <td>827268e2-f7ae-4652-9521-9eb208476d34</td>\n      <td>raw</td>\n      <td>24607</td>\n      <td>delivery_courier</td>\n      <td>2020-04-16 10:01:59.070049</td>\n      <td>973860052</td>\n    </tr>\n    <tr>\n      <th>24608</th>\n      <td>fd15dd5f-45b5-4e93-9f03-f4f885ed08e6</td>\n      <td>raw</td>\n      <td>24608</td>\n      <td>payment_choice</td>\n      <td>2020-04-16 10:01:59.221387</td>\n      <td>973860052</td>\n    </tr>\n    <tr>\n      <th>24609</th>\n      <td>56d7ed98-180e-4c19-a464-5434a8ad44bd</td>\n      <td>raw</td>\n      <td>24609</td>\n      <td>payment_done</td>\n      <td>2020-04-16 10:02:00.771862</td>\n      <td>973860052</td>\n    </tr>\n  </tbody>\n</table>\n</div>"
     },
     "execution_count": 71,
     "metadata": {},
     "output_type": "execute_result"
    }
   ],
   "source": [
    "print(len(source_df[source_df['user_id'] == 973860052]))\n",
    "source_df[source_df['user_id'] == 973860052]"
   ],
   "metadata": {
    "collapsed": false,
    "pycharm": {
     "name": "#%%\n"
    }
   }
  },
  {
   "cell_type": "code",
   "execution_count": 72,
   "outputs": [
    {
     "data": {
      "text/plain": "4000.037390975833"
     },
     "execution_count": 72,
     "metadata": {},
     "output_type": "execute_result"
    }
   ],
   "source": [
    "df5['event_timestamp'].min(), df5[df5['user_id'] == 973860052]['event_timestamp'].min()\n",
    "(df5[df5['user_id'] == 973860052]['event_timestamp'].min() - df5['event_timestamp'].min()).total_seconds()/3600"
   ],
   "metadata": {
    "collapsed": false,
    "pycharm": {
     "name": "#%%\n"
    }
   }
  },
  {
   "cell_type": "code",
   "execution_count": 73,
   "outputs": [
    {
     "data": {
      "text/plain": "15.999999984"
     },
     "execution_count": 73,
     "metadata": {},
     "output_type": "execute_result"
    }
   ],
   "source": [
    "24*0.666666666"
   ],
   "metadata": {
    "collapsed": false,
    "pycharm": {
     "name": "#%%\n"
    }
   }
  },
  {
   "cell_type": "code",
   "execution_count": 74,
   "outputs": [
    {
     "data": {
      "text/plain": "166.66666666666666"
     },
     "execution_count": 74,
     "metadata": {},
     "output_type": "execute_result"
    }
   ],
   "source": [
    "4000/24"
   ],
   "metadata": {
    "collapsed": false,
    "pycharm": {
     "name": "#%%\n"
    }
   }
  },
  {
   "cell_type": "code",
   "execution_count": 75,
   "outputs": [
    {
     "name": "stdout",
     "output_type": "stream",
     "text": [
      "14\n"
     ]
    },
    {
     "data": {
      "text/plain": "                                  event_id      event_type  event_index  \\\n5     1dd47e39-bcd0-4a11-9970-66c3ddaace26             raw            5   \n6     368d793c-7fb9-46a0-9683-2f1dc2a73da8  truncated_left            6   \n7     e41dd2c3-f09b-467a-b714-626efa161922             raw            7   \n8     9842ecfe-6246-4073-89a6-7996a7e61190             raw            8   \n2728  64e3b5d4-fbf3-45ed-be1b-e428e6a2eb87             raw         2728   \n2729  41961e8a-9a91-4af9-8a98-8c52a7ea22f0             raw         2729   \n2730  bbe2ee2e-21fe-469e-b26f-d0a399eec37c             raw         2730   \n2731  6f651ba6-fff4-4bfd-adeb-e2a762e93f1c             raw         2731   \n2732  0d6812eb-b8e1-4d7d-ba04-62f61d2074d1             raw         2732   \n2733  71f430ce-4fc8-468d-83ff-611096d0e6b9             raw         2733   \n2734  06992a83-86d8-40dc-b01d-800f96cc9a1f             raw         2734   \n2735  ea2f200d-c18c-481d-bfea-c3c38a853bb5             raw         2735   \n2736  22b06c06-32a2-4b5b-8d01-596703a5a0df             raw         2736   \n2737  79552656-f08f-4bda-afd9-fb526cd48b92             raw         2737   \n\n           event_name            event_timestamp      user_id  \n5             catalog 2019-11-01 21:38:19.283663  964964743.0  \n6      truncated_left 2019-11-01 21:38:19.283663  964964743.0  \n7                cart 2019-11-01 21:38:36.761221  964964743.0  \n8     delivery_choice 2019-11-01 21:38:37.564693  964964743.0  \n2728             main 2019-12-09 01:42:22.801831  964964743.0  \n2729          catalog 2019-12-09 01:42:23.617764  964964743.0  \n2730         product2 2019-12-09 01:42:56.877340  964964743.0  \n2731          catalog 2019-12-09 01:43:05.436223  964964743.0  \n2732          catalog 2019-12-09 01:43:36.923178  964964743.0  \n2733         product2 2019-12-09 01:43:41.174195  964964743.0  \n2734             cart 2019-12-09 01:43:57.325569  964964743.0  \n2735  delivery_choice 2019-12-09 01:43:57.486518  964964743.0  \n2736  delivery_pickup 2019-12-09 01:43:57.766850  964964743.0  \n2737             lost 2019-12-09 01:43:58.766850  964964743.0  ",
      "text/html": "<div>\n<style scoped>\n    .dataframe tbody tr th:only-of-type {\n        vertical-align: middle;\n    }\n\n    .dataframe tbody tr th {\n        vertical-align: top;\n    }\n\n    .dataframe thead th {\n        text-align: right;\n    }\n</style>\n<table border=\"1\" class=\"dataframe\">\n  <thead>\n    <tr style=\"text-align: right;\">\n      <th></th>\n      <th>event_id</th>\n      <th>event_type</th>\n      <th>event_index</th>\n      <th>event_name</th>\n      <th>event_timestamp</th>\n      <th>user_id</th>\n    </tr>\n  </thead>\n  <tbody>\n    <tr>\n      <th>5</th>\n      <td>1dd47e39-bcd0-4a11-9970-66c3ddaace26</td>\n      <td>raw</td>\n      <td>5</td>\n      <td>catalog</td>\n      <td>2019-11-01 21:38:19.283663</td>\n      <td>964964743.0</td>\n    </tr>\n    <tr>\n      <th>6</th>\n      <td>368d793c-7fb9-46a0-9683-2f1dc2a73da8</td>\n      <td>truncated_left</td>\n      <td>6</td>\n      <td>truncated_left</td>\n      <td>2019-11-01 21:38:19.283663</td>\n      <td>964964743.0</td>\n    </tr>\n    <tr>\n      <th>7</th>\n      <td>e41dd2c3-f09b-467a-b714-626efa161922</td>\n      <td>raw</td>\n      <td>7</td>\n      <td>cart</td>\n      <td>2019-11-01 21:38:36.761221</td>\n      <td>964964743.0</td>\n    </tr>\n    <tr>\n      <th>8</th>\n      <td>9842ecfe-6246-4073-89a6-7996a7e61190</td>\n      <td>raw</td>\n      <td>8</td>\n      <td>delivery_choice</td>\n      <td>2019-11-01 21:38:37.564693</td>\n      <td>964964743.0</td>\n    </tr>\n    <tr>\n      <th>2728</th>\n      <td>64e3b5d4-fbf3-45ed-be1b-e428e6a2eb87</td>\n      <td>raw</td>\n      <td>2728</td>\n      <td>main</td>\n      <td>2019-12-09 01:42:22.801831</td>\n      <td>964964743.0</td>\n    </tr>\n    <tr>\n      <th>2729</th>\n      <td>41961e8a-9a91-4af9-8a98-8c52a7ea22f0</td>\n      <td>raw</td>\n      <td>2729</td>\n      <td>catalog</td>\n      <td>2019-12-09 01:42:23.617764</td>\n      <td>964964743.0</td>\n    </tr>\n    <tr>\n      <th>2730</th>\n      <td>bbe2ee2e-21fe-469e-b26f-d0a399eec37c</td>\n      <td>raw</td>\n      <td>2730</td>\n      <td>product2</td>\n      <td>2019-12-09 01:42:56.877340</td>\n      <td>964964743.0</td>\n    </tr>\n    <tr>\n      <th>2731</th>\n      <td>6f651ba6-fff4-4bfd-adeb-e2a762e93f1c</td>\n      <td>raw</td>\n      <td>2731</td>\n      <td>catalog</td>\n      <td>2019-12-09 01:43:05.436223</td>\n      <td>964964743.0</td>\n    </tr>\n    <tr>\n      <th>2732</th>\n      <td>0d6812eb-b8e1-4d7d-ba04-62f61d2074d1</td>\n      <td>raw</td>\n      <td>2732</td>\n      <td>catalog</td>\n      <td>2019-12-09 01:43:36.923178</td>\n      <td>964964743.0</td>\n    </tr>\n    <tr>\n      <th>2733</th>\n      <td>71f430ce-4fc8-468d-83ff-611096d0e6b9</td>\n      <td>raw</td>\n      <td>2733</td>\n      <td>product2</td>\n      <td>2019-12-09 01:43:41.174195</td>\n      <td>964964743.0</td>\n    </tr>\n    <tr>\n      <th>2734</th>\n      <td>06992a83-86d8-40dc-b01d-800f96cc9a1f</td>\n      <td>raw</td>\n      <td>2734</td>\n      <td>cart</td>\n      <td>2019-12-09 01:43:57.325569</td>\n      <td>964964743.0</td>\n    </tr>\n    <tr>\n      <th>2735</th>\n      <td>ea2f200d-c18c-481d-bfea-c3c38a853bb5</td>\n      <td>raw</td>\n      <td>2735</td>\n      <td>delivery_choice</td>\n      <td>2019-12-09 01:43:57.486518</td>\n      <td>964964743.0</td>\n    </tr>\n    <tr>\n      <th>2736</th>\n      <td>22b06c06-32a2-4b5b-8d01-596703a5a0df</td>\n      <td>raw</td>\n      <td>2736</td>\n      <td>delivery_pickup</td>\n      <td>2019-12-09 01:43:57.766850</td>\n      <td>964964743.0</td>\n    </tr>\n    <tr>\n      <th>2737</th>\n      <td>79552656-f08f-4bda-afd9-fb526cd48b92</td>\n      <td>raw</td>\n      <td>2737</td>\n      <td>lost</td>\n      <td>2019-12-09 01:43:58.766850</td>\n      <td>964964743.0</td>\n    </tr>\n  </tbody>\n</table>\n</div>"
     },
     "execution_count": 75,
     "metadata": {},
     "output_type": "execute_result"
    }
   ],
   "source": [
    "print(len(df5[df5['user_id'] == 964964743]))\n",
    "df5[df5['user_id'] == 964964743]"
   ],
   "metadata": {
    "collapsed": false,
    "pycharm": {
     "name": "#%%\n"
    }
   }
  },
  {
   "cell_type": "code",
   "execution_count": 76,
   "outputs": [
    {
     "name": "stdout",
     "output_type": "stream",
     "text": [
      "142 days 11:04:08.828540\n"
     ]
    }
   ],
   "source": [
    "df5['event_timestamp'].max(), df5[df5['user_id'] == 964964743]['event_timestamp'].max()\n",
    "print(df5['event_timestamp'].max() - df5[df5['user_id'] == 964964743]['event_timestamp'].max())"
   ],
   "metadata": {
    "collapsed": false,
    "pycharm": {
     "name": "#%%\n"
    }
   }
  },
  {
   "cell_type": "code",
   "execution_count": 77,
   "outputs": [
    {
     "data": {
      "text/plain": "Timedelta('179 days 18:48:54.321458')"
     },
     "execution_count": 77,
     "metadata": {},
     "output_type": "execute_result"
    }
   ],
   "source": [
    "df5['event_timestamp'].max() - df5['event_timestamp'].min()"
   ],
   "metadata": {
    "collapsed": false,
    "pycharm": {
     "name": "#%%\n"
    }
   }
  },
  {
   "cell_type": "code",
   "execution_count": 78,
   "outputs": [
    {
     "data": {
      "text/plain": "41.666666666666664"
     },
     "execution_count": 78,
     "metadata": {},
     "output_type": "execute_result"
    }
   ],
   "source": [
    "# отсечка 1000 часов\n",
    "1000/24"
   ],
   "metadata": {
    "collapsed": false,
    "pycharm": {
     "name": "#%%\n"
    }
   }
  },
  {
   "cell_type": "code",
   "execution_count": 79,
   "outputs": [
    {
     "name": "stdout",
     "output_type": "stream",
     "text": [
      "13\n"
     ]
    },
    {
     "data": {
      "text/plain": "                                  event_id event_type  event_index  \\\n4     1dd47e39-bcd0-4a11-9970-66c3ddaace26        raw            4   \n5     e41dd2c3-f09b-467a-b714-626efa161922        raw            5   \n6     9842ecfe-6246-4073-89a6-7996a7e61190        raw            6   \n2439  64e3b5d4-fbf3-45ed-be1b-e428e6a2eb87        raw         2439   \n2440  41961e8a-9a91-4af9-8a98-8c52a7ea22f0        raw         2440   \n2441  bbe2ee2e-21fe-469e-b26f-d0a399eec37c        raw         2441   \n2442  6f651ba6-fff4-4bfd-adeb-e2a762e93f1c        raw         2442   \n2443  0d6812eb-b8e1-4d7d-ba04-62f61d2074d1        raw         2443   \n2444  71f430ce-4fc8-468d-83ff-611096d0e6b9        raw         2444   \n2445  06992a83-86d8-40dc-b01d-800f96cc9a1f        raw         2445   \n2446  ea2f200d-c18c-481d-bfea-c3c38a853bb5        raw         2446   \n2447  22b06c06-32a2-4b5b-8d01-596703a5a0df        raw         2447   \n2448  79552656-f08f-4bda-afd9-fb526cd48b92        raw         2448   \n\n           event_name            event_timestamp    user_id  \n4             catalog 2019-11-01 21:38:19.283663  964964743  \n5                cart 2019-11-01 21:38:36.761221  964964743  \n6     delivery_choice 2019-11-01 21:38:37.564693  964964743  \n2439             main 2019-12-09 01:42:22.801831  964964743  \n2440          catalog 2019-12-09 01:42:23.617764  964964743  \n2441         product2 2019-12-09 01:42:56.877340  964964743  \n2442          catalog 2019-12-09 01:43:05.436223  964964743  \n2443          catalog 2019-12-09 01:43:36.923178  964964743  \n2444         product2 2019-12-09 01:43:41.174195  964964743  \n2445             cart 2019-12-09 01:43:57.325569  964964743  \n2446  delivery_choice 2019-12-09 01:43:57.486518  964964743  \n2447  delivery_pickup 2019-12-09 01:43:57.766850  964964743  \n2448             lost 2019-12-09 01:43:58.766850  964964743  ",
      "text/html": "<div>\n<style scoped>\n    .dataframe tbody tr th:only-of-type {\n        vertical-align: middle;\n    }\n\n    .dataframe tbody tr th {\n        vertical-align: top;\n    }\n\n    .dataframe thead th {\n        text-align: right;\n    }\n</style>\n<table border=\"1\" class=\"dataframe\">\n  <thead>\n    <tr style=\"text-align: right;\">\n      <th></th>\n      <th>event_id</th>\n      <th>event_type</th>\n      <th>event_index</th>\n      <th>event_name</th>\n      <th>event_timestamp</th>\n      <th>user_id</th>\n    </tr>\n  </thead>\n  <tbody>\n    <tr>\n      <th>4</th>\n      <td>1dd47e39-bcd0-4a11-9970-66c3ddaace26</td>\n      <td>raw</td>\n      <td>4</td>\n      <td>catalog</td>\n      <td>2019-11-01 21:38:19.283663</td>\n      <td>964964743</td>\n    </tr>\n    <tr>\n      <th>5</th>\n      <td>e41dd2c3-f09b-467a-b714-626efa161922</td>\n      <td>raw</td>\n      <td>5</td>\n      <td>cart</td>\n      <td>2019-11-01 21:38:36.761221</td>\n      <td>964964743</td>\n    </tr>\n    <tr>\n      <th>6</th>\n      <td>9842ecfe-6246-4073-89a6-7996a7e61190</td>\n      <td>raw</td>\n      <td>6</td>\n      <td>delivery_choice</td>\n      <td>2019-11-01 21:38:37.564693</td>\n      <td>964964743</td>\n    </tr>\n    <tr>\n      <th>2439</th>\n      <td>64e3b5d4-fbf3-45ed-be1b-e428e6a2eb87</td>\n      <td>raw</td>\n      <td>2439</td>\n      <td>main</td>\n      <td>2019-12-09 01:42:22.801831</td>\n      <td>964964743</td>\n    </tr>\n    <tr>\n      <th>2440</th>\n      <td>41961e8a-9a91-4af9-8a98-8c52a7ea22f0</td>\n      <td>raw</td>\n      <td>2440</td>\n      <td>catalog</td>\n      <td>2019-12-09 01:42:23.617764</td>\n      <td>964964743</td>\n    </tr>\n    <tr>\n      <th>2441</th>\n      <td>bbe2ee2e-21fe-469e-b26f-d0a399eec37c</td>\n      <td>raw</td>\n      <td>2441</td>\n      <td>product2</td>\n      <td>2019-12-09 01:42:56.877340</td>\n      <td>964964743</td>\n    </tr>\n    <tr>\n      <th>2442</th>\n      <td>6f651ba6-fff4-4bfd-adeb-e2a762e93f1c</td>\n      <td>raw</td>\n      <td>2442</td>\n      <td>catalog</td>\n      <td>2019-12-09 01:43:05.436223</td>\n      <td>964964743</td>\n    </tr>\n    <tr>\n      <th>2443</th>\n      <td>0d6812eb-b8e1-4d7d-ba04-62f61d2074d1</td>\n      <td>raw</td>\n      <td>2443</td>\n      <td>catalog</td>\n      <td>2019-12-09 01:43:36.923178</td>\n      <td>964964743</td>\n    </tr>\n    <tr>\n      <th>2444</th>\n      <td>71f430ce-4fc8-468d-83ff-611096d0e6b9</td>\n      <td>raw</td>\n      <td>2444</td>\n      <td>product2</td>\n      <td>2019-12-09 01:43:41.174195</td>\n      <td>964964743</td>\n    </tr>\n    <tr>\n      <th>2445</th>\n      <td>06992a83-86d8-40dc-b01d-800f96cc9a1f</td>\n      <td>raw</td>\n      <td>2445</td>\n      <td>cart</td>\n      <td>2019-12-09 01:43:57.325569</td>\n      <td>964964743</td>\n    </tr>\n    <tr>\n      <th>2446</th>\n      <td>ea2f200d-c18c-481d-bfea-c3c38a853bb5</td>\n      <td>raw</td>\n      <td>2446</td>\n      <td>delivery_choice</td>\n      <td>2019-12-09 01:43:57.486518</td>\n      <td>964964743</td>\n    </tr>\n    <tr>\n      <th>2447</th>\n      <td>22b06c06-32a2-4b5b-8d01-596703a5a0df</td>\n      <td>raw</td>\n      <td>2447</td>\n      <td>delivery_pickup</td>\n      <td>2019-12-09 01:43:57.766850</td>\n      <td>964964743</td>\n    </tr>\n    <tr>\n      <th>2448</th>\n      <td>79552656-f08f-4bda-afd9-fb526cd48b92</td>\n      <td>raw</td>\n      <td>2448</td>\n      <td>lost</td>\n      <td>2019-12-09 01:43:58.766850</td>\n      <td>964964743</td>\n    </tr>\n  </tbody>\n</table>\n</div>"
     },
     "execution_count": 79,
     "metadata": {},
     "output_type": "execute_result"
    }
   ],
   "source": [
    "print(len(source_df[source_df['user_id'] == 964964743]))\n",
    "source_df[source_df['user_id'] == 964964743]"
   ],
   "metadata": {
    "collapsed": false,
    "pycharm": {
     "name": "#%%\n"
    }
   }
  },
  {
   "cell_type": "code",
   "execution_count": 80,
   "outputs": [
    {
     "data": {
      "text/plain": "                                  event_id      event_type  event_index  \\\n5     1dd47e39-bcd0-4a11-9970-66c3ddaace26             raw            5   \n6     368d793c-7fb9-46a0-9683-2f1dc2a73da8  truncated_left            6   \n7     e41dd2c3-f09b-467a-b714-626efa161922             raw            7   \n8     9842ecfe-6246-4073-89a6-7996a7e61190             raw            8   \n2728  64e3b5d4-fbf3-45ed-be1b-e428e6a2eb87             raw         2728   \n2729  41961e8a-9a91-4af9-8a98-8c52a7ea22f0             raw         2729   \n2730  bbe2ee2e-21fe-469e-b26f-d0a399eec37c             raw         2730   \n2731  6f651ba6-fff4-4bfd-adeb-e2a762e93f1c             raw         2731   \n2732  0d6812eb-b8e1-4d7d-ba04-62f61d2074d1             raw         2732   \n2733  71f430ce-4fc8-468d-83ff-611096d0e6b9             raw         2733   \n2734  06992a83-86d8-40dc-b01d-800f96cc9a1f             raw         2734   \n2735  ea2f200d-c18c-481d-bfea-c3c38a853bb5             raw         2735   \n2736  22b06c06-32a2-4b5b-8d01-596703a5a0df             raw         2736   \n2737  79552656-f08f-4bda-afd9-fb526cd48b92             raw         2737   \n\n           event_name            event_timestamp      user_id  \n5             catalog 2019-11-01 21:38:19.283663  964964743.0  \n6      truncated_left 2019-11-01 21:38:19.283663  964964743.0  \n7                cart 2019-11-01 21:38:36.761221  964964743.0  \n8     delivery_choice 2019-11-01 21:38:37.564693  964964743.0  \n2728             main 2019-12-09 01:42:22.801831  964964743.0  \n2729          catalog 2019-12-09 01:42:23.617764  964964743.0  \n2730         product2 2019-12-09 01:42:56.877340  964964743.0  \n2731          catalog 2019-12-09 01:43:05.436223  964964743.0  \n2732          catalog 2019-12-09 01:43:36.923178  964964743.0  \n2733         product2 2019-12-09 01:43:41.174195  964964743.0  \n2734             cart 2019-12-09 01:43:57.325569  964964743.0  \n2735  delivery_choice 2019-12-09 01:43:57.486518  964964743.0  \n2736  delivery_pickup 2019-12-09 01:43:57.766850  964964743.0  \n2737             lost 2019-12-09 01:43:58.766850  964964743.0  ",
      "text/html": "<div>\n<style scoped>\n    .dataframe tbody tr th:only-of-type {\n        vertical-align: middle;\n    }\n\n    .dataframe tbody tr th {\n        vertical-align: top;\n    }\n\n    .dataframe thead th {\n        text-align: right;\n    }\n</style>\n<table border=\"1\" class=\"dataframe\">\n  <thead>\n    <tr style=\"text-align: right;\">\n      <th></th>\n      <th>event_id</th>\n      <th>event_type</th>\n      <th>event_index</th>\n      <th>event_name</th>\n      <th>event_timestamp</th>\n      <th>user_id</th>\n    </tr>\n  </thead>\n  <tbody>\n    <tr>\n      <th>5</th>\n      <td>1dd47e39-bcd0-4a11-9970-66c3ddaace26</td>\n      <td>raw</td>\n      <td>5</td>\n      <td>catalog</td>\n      <td>2019-11-01 21:38:19.283663</td>\n      <td>964964743.0</td>\n    </tr>\n    <tr>\n      <th>6</th>\n      <td>368d793c-7fb9-46a0-9683-2f1dc2a73da8</td>\n      <td>truncated_left</td>\n      <td>6</td>\n      <td>truncated_left</td>\n      <td>2019-11-01 21:38:19.283663</td>\n      <td>964964743.0</td>\n    </tr>\n    <tr>\n      <th>7</th>\n      <td>e41dd2c3-f09b-467a-b714-626efa161922</td>\n      <td>raw</td>\n      <td>7</td>\n      <td>cart</td>\n      <td>2019-11-01 21:38:36.761221</td>\n      <td>964964743.0</td>\n    </tr>\n    <tr>\n      <th>8</th>\n      <td>9842ecfe-6246-4073-89a6-7996a7e61190</td>\n      <td>raw</td>\n      <td>8</td>\n      <td>delivery_choice</td>\n      <td>2019-11-01 21:38:37.564693</td>\n      <td>964964743.0</td>\n    </tr>\n    <tr>\n      <th>2728</th>\n      <td>64e3b5d4-fbf3-45ed-be1b-e428e6a2eb87</td>\n      <td>raw</td>\n      <td>2728</td>\n      <td>main</td>\n      <td>2019-12-09 01:42:22.801831</td>\n      <td>964964743.0</td>\n    </tr>\n    <tr>\n      <th>2729</th>\n      <td>41961e8a-9a91-4af9-8a98-8c52a7ea22f0</td>\n      <td>raw</td>\n      <td>2729</td>\n      <td>catalog</td>\n      <td>2019-12-09 01:42:23.617764</td>\n      <td>964964743.0</td>\n    </tr>\n    <tr>\n      <th>2730</th>\n      <td>bbe2ee2e-21fe-469e-b26f-d0a399eec37c</td>\n      <td>raw</td>\n      <td>2730</td>\n      <td>product2</td>\n      <td>2019-12-09 01:42:56.877340</td>\n      <td>964964743.0</td>\n    </tr>\n    <tr>\n      <th>2731</th>\n      <td>6f651ba6-fff4-4bfd-adeb-e2a762e93f1c</td>\n      <td>raw</td>\n      <td>2731</td>\n      <td>catalog</td>\n      <td>2019-12-09 01:43:05.436223</td>\n      <td>964964743.0</td>\n    </tr>\n    <tr>\n      <th>2732</th>\n      <td>0d6812eb-b8e1-4d7d-ba04-62f61d2074d1</td>\n      <td>raw</td>\n      <td>2732</td>\n      <td>catalog</td>\n      <td>2019-12-09 01:43:36.923178</td>\n      <td>964964743.0</td>\n    </tr>\n    <tr>\n      <th>2733</th>\n      <td>71f430ce-4fc8-468d-83ff-611096d0e6b9</td>\n      <td>raw</td>\n      <td>2733</td>\n      <td>product2</td>\n      <td>2019-12-09 01:43:41.174195</td>\n      <td>964964743.0</td>\n    </tr>\n    <tr>\n      <th>2734</th>\n      <td>06992a83-86d8-40dc-b01d-800f96cc9a1f</td>\n      <td>raw</td>\n      <td>2734</td>\n      <td>cart</td>\n      <td>2019-12-09 01:43:57.325569</td>\n      <td>964964743.0</td>\n    </tr>\n    <tr>\n      <th>2735</th>\n      <td>ea2f200d-c18c-481d-bfea-c3c38a853bb5</td>\n      <td>raw</td>\n      <td>2735</td>\n      <td>delivery_choice</td>\n      <td>2019-12-09 01:43:57.486518</td>\n      <td>964964743.0</td>\n    </tr>\n    <tr>\n      <th>2736</th>\n      <td>22b06c06-32a2-4b5b-8d01-596703a5a0df</td>\n      <td>raw</td>\n      <td>2736</td>\n      <td>delivery_pickup</td>\n      <td>2019-12-09 01:43:57.766850</td>\n      <td>964964743.0</td>\n    </tr>\n    <tr>\n      <th>2737</th>\n      <td>79552656-f08f-4bda-afd9-fb526cd48b92</td>\n      <td>raw</td>\n      <td>2737</td>\n      <td>lost</td>\n      <td>2019-12-09 01:43:58.766850</td>\n      <td>964964743.0</td>\n    </tr>\n  </tbody>\n</table>\n</div>"
     },
     "execution_count": 80,
     "metadata": {},
     "output_type": "execute_result"
    }
   ],
   "source": [
    "df5[df5['user_id'] == 964964743]"
   ],
   "metadata": {
    "collapsed": false,
    "pycharm": {
     "name": "#%%\n"
    }
   }
  },
  {
   "cell_type": "markdown",
   "source": [
    "### Результат"
   ],
   "metadata": {
    "collapsed": false,
    "pycharm": {
     "name": "#%% md\n"
    }
   }
  },
  {
   "cell_type": "markdown",
   "source": [
    "1) [DONE] Дубликаты - 27880\n",
    "2) [DONE] перепутаны местами truncated_left и truncated_right\n",
    "3) [DONE] проверить расчет более детально\n",
    "4) [DONE] Неправильно проставляются truncated события - для всех юзеров\n",
    "5) [TODO_analytics] DEFAULT_INDEX_ORDER нет типа события truncated_left и  truncated_right\n",
    "6) [TODO_analytics] строгое/не строгое сравнение с отсечкой"
   ],
   "metadata": {
    "collapsed": false,
    "pycharm": {
     "name": "#%% md\n"
    }
   }
  },
  {
   "cell_type": "markdown",
   "source": [
    "## PositiveTarget"
   ],
   "metadata": {
    "collapsed": false,
    "pycharm": {
     "name": "#%% md\n"
    }
   }
  },
  {
   "cell_type": "markdown",
   "source": [
    "### Описание работы функции"
   ],
   "metadata": {
    "collapsed": false,
    "pycharm": {
     "name": "#%% md\n"
    }
   }
  },
  {
   "cell_type": "markdown",
   "source": [
    "Принимает на вход список событий ```positive_target_events``` и приклеивает к этим событиям в ивентстриме синтетическое событие\n",
    "```event_type=positive_target, event=positive_target_ORIGINAL_EVENT_NAME```.\n",
    "Если в ивентстриме пользователя встречается более, чем одно таргетное событие, то positive_target по дефолту приклеивается к первому из встреченных событий.\n",
    "\n",
    "Также в параметры можно передать кастомную функцию для определения positive\n",
    "\n",
    "В кастомную функцию передается ивентстрим и список событий, на выходе датафрейм с новым таргетным событием и timestamp.\n",
    "type_col и event_col проставляются уже внутри функции\n"
   ],
   "metadata": {
    "collapsed": false,
    "pycharm": {
     "name": "#%% md\n"
    }
   }
  },
  {
   "cell_type": "code",
   "execution_count": 81,
   "outputs": [
    {
     "ename": "TypeError",
     "evalue": "_default_func_positive() takes 2 positional arguments but 3 were given",
     "output_type": "error",
     "traceback": [
      "\u001B[0;31m---------------------------------------------------------------------------\u001B[0m",
      "\u001B[0;31mTypeError\u001B[0m                                 Traceback (most recent call last)",
      "Input \u001B[0;32mIn [81]\u001B[0m, in \u001B[0;36m<cell line: 14>\u001B[0;34m()\u001B[0m\n\u001B[1;32m      6\u001B[0m positive_targets \u001B[38;5;241m=\u001B[39m EventsNode(\n\u001B[1;32m      7\u001B[0m     PositiveTarget(params\u001B[38;5;241m=\u001B[39mPositiveTargetParams(\u001B[38;5;241m*\u001B[39m\u001B[38;5;241m*\u001B[39mparams)))\n\u001B[1;32m      9\u001B[0m graph\u001B[38;5;241m.\u001B[39madd_node(\n\u001B[1;32m     10\u001B[0m     node\u001B[38;5;241m=\u001B[39mpositive_targets,\n\u001B[1;32m     11\u001B[0m     parents\u001B[38;5;241m=\u001B[39m[graph\u001B[38;5;241m.\u001B[39mroot]\n\u001B[1;32m     12\u001B[0m )\n\u001B[0;32m---> 14\u001B[0m result \u001B[38;5;241m=\u001B[39m \u001B[43mgraph\u001B[49m\u001B[38;5;241;43m.\u001B[39;49m\u001B[43mcombine\u001B[49m\u001B[43m(\u001B[49m\n\u001B[1;32m     15\u001B[0m \u001B[43m    \u001B[49m\u001B[43mnode\u001B[49m\u001B[38;5;241;43m=\u001B[39;49m\u001B[43mpositive_targets\u001B[49m\n\u001B[1;32m     16\u001B[0m \u001B[43m)\u001B[49m\n\u001B[1;32m     17\u001B[0m result\u001B[38;5;241m.\u001B[39mto_dataframe()\u001B[38;5;241m.\u001B[39mhead(\u001B[38;5;241m8\u001B[39m)\n",
      "File \u001B[0;32m~/Dev/Retentioneering/retentioneering-tools-new-arch/examples/../src/graph/p_graph.py:70\u001B[0m, in \u001B[0;36mPGraph.combine\u001B[0;34m(self, node)\u001B[0m\n\u001B[1;32m     67\u001B[0m     \u001B[38;5;28;01mreturn\u001B[39;00m node\u001B[38;5;241m.\u001B[39mevents\u001B[38;5;241m.\u001B[39mcopy()\n\u001B[1;32m     69\u001B[0m \u001B[38;5;28;01mif\u001B[39;00m \u001B[38;5;28misinstance\u001B[39m(node, EventsNode):\n\u001B[0;32m---> 70\u001B[0m     \u001B[38;5;28;01mreturn\u001B[39;00m \u001B[38;5;28;43mself\u001B[39;49m\u001B[38;5;241;43m.\u001B[39;49m\u001B[43mcombine_events_node\u001B[49m\u001B[43m(\u001B[49m\u001B[43mnode\u001B[49m\u001B[43m)\u001B[49m\n\u001B[1;32m     72\u001B[0m \u001B[38;5;28;01mreturn\u001B[39;00m \u001B[38;5;28mself\u001B[39m\u001B[38;5;241m.\u001B[39mcombine_merge_node(node)\n",
      "File \u001B[0;32m~/Dev/Retentioneering/retentioneering-tools-new-arch/examples/../src/graph/p_graph.py:77\u001B[0m, in \u001B[0;36mPGraph.combine_events_node\u001B[0;34m(self, node)\u001B[0m\n\u001B[1;32m     75\u001B[0m parent \u001B[38;5;241m=\u001B[39m \u001B[38;5;28mself\u001B[39m\u001B[38;5;241m.\u001B[39mget_events_node_parent(node)\n\u001B[1;32m     76\u001B[0m parent_events \u001B[38;5;241m=\u001B[39m \u001B[38;5;28mself\u001B[39m\u001B[38;5;241m.\u001B[39mcombine(parent)\n\u001B[0;32m---> 77\u001B[0m events \u001B[38;5;241m=\u001B[39m \u001B[43mnode\u001B[49m\u001B[38;5;241;43m.\u001B[39;49m\u001B[43mprocessor\u001B[49m\u001B[38;5;241;43m.\u001B[39;49m\u001B[43mapply\u001B[49m\u001B[43m(\u001B[49m\u001B[43mparent_events\u001B[49m\u001B[43m)\u001B[49m\n\u001B[1;32m     78\u001B[0m parent_events\u001B[38;5;241m.\u001B[39mjoin_eventstream(events)\n\u001B[1;32m     79\u001B[0m \u001B[38;5;28;01mreturn\u001B[39;00m parent_events\n",
      "File \u001B[0;32m~/Dev/Retentioneering/retentioneering-tools-new-arch/examples/../src/data_processors_lib/rete/positive_target.py:50\u001B[0m, in \u001B[0;36mPositiveTarget.apply\u001B[0;34m(self, eventstream)\u001B[0m\n\u001B[1;32m     46\u001B[0m positive_target_events \u001B[38;5;241m=\u001B[39m \u001B[38;5;28mself\u001B[39m\u001B[38;5;241m.\u001B[39mparams\u001B[38;5;241m.\u001B[39mpositive_target_events\n\u001B[1;32m     48\u001B[0m df \u001B[38;5;241m=\u001B[39m eventstream\u001B[38;5;241m.\u001B[39mto_dataframe()\n\u001B[0;32m---> 50\u001B[0m positive_targets \u001B[38;5;241m=\u001B[39m \u001B[43mpositive_function\u001B[49m\u001B[43m(\u001B[49m\u001B[43meventstream\u001B[49m\u001B[43m,\u001B[49m\u001B[43m \u001B[49m\u001B[43mpositive_target_events\u001B[49m\u001B[43m)\u001B[49m\n\u001B[1;32m     51\u001B[0m positive_targets[type_col] \u001B[38;5;241m=\u001B[39m \u001B[38;5;124m'\u001B[39m\u001B[38;5;124mpositive_target\u001B[39m\u001B[38;5;124m'\u001B[39m\n\u001B[1;32m     52\u001B[0m positive_targets[event_col] \u001B[38;5;241m=\u001B[39m \u001B[38;5;124m'\u001B[39m\u001B[38;5;124mpositive_target_\u001B[39m\u001B[38;5;124m'\u001B[39m \u001B[38;5;241m+\u001B[39m positive_targets[event_col]\n",
      "\u001B[0;31mTypeError\u001B[0m: _default_func_positive() takes 2 positional arguments but 3 were given"
     ]
    }
   ],
   "source": [
    "from src.data_processors_lib.rete import PositiveTarget, PositiveTargetParams\n",
    "params = {\n",
    "    'positive_target_events': ['payment_done']\n",
    "}\n",
    "\n",
    "positive_targets = EventsNode(\n",
    "    PositiveTarget(params=PositiveTargetParams(**params)))\n",
    "\n",
    "graph.add_node(\n",
    "    node=positive_targets,\n",
    "    parents=[graph.root]\n",
    ")\n",
    "\n",
    "result = graph.combine(\n",
    "    node=positive_targets\n",
    ")\n",
    "result.to_dataframe().head(8)"
   ],
   "metadata": {
    "collapsed": false,
    "pycharm": {
     "name": "#%%\n"
    }
   }
  },
  {
   "cell_type": "code",
   "execution_count": null,
   "outputs": [],
   "source": [
    "df6 = result.to_dataframe()\n",
    "print(source_df.duplicated(['event_name', 'event_timestamp', 'user_id']).sum())\n",
    "df6.duplicated(['event_name', 'event_timestamp', 'user_id']).sum()"
   ],
   "metadata": {
    "collapsed": false,
    "pycharm": {
     "name": "#%%\n"
    }
   }
  },
  {
   "cell_type": "code",
   "execution_count": null,
   "outputs": [],
   "source": [
    "df6['event_type'].value_counts()"
   ],
   "metadata": {
    "collapsed": false,
    "pycharm": {
     "name": "#%%\n"
    }
   }
  },
  {
   "cell_type": "code",
   "execution_count": null,
   "outputs": [],
   "source": [
    "source_df['event_type'].value_counts()"
   ],
   "metadata": {
    "collapsed": false,
    "pycharm": {
     "name": "#%%\n"
    }
   }
  },
  {
   "cell_type": "code",
   "execution_count": null,
   "outputs": [],
   "source": [
    "source_df[source_df['event_name'] == 'payment_done']['user_id'].nunique()"
   ],
   "metadata": {
    "collapsed": false,
    "pycharm": {
     "name": "#%%\n"
    }
   }
  },
  {
   "cell_type": "code",
   "execution_count": null,
   "outputs": [],
   "source": [
    "print(len(df6[df6['user_id'] == 629881394]))\n",
    "df6[df6['user_id'] == 629881394]"
   ],
   "metadata": {
    "collapsed": false,
    "pycharm": {
     "name": "#%%\n"
    }
   }
  },
  {
   "cell_type": "code",
   "execution_count": null,
   "outputs": [],
   "source": [
    "print(len(source_df[source_df['user_id'] == 629881394]))\n"
   ],
   "metadata": {
    "collapsed": false,
    "pycharm": {
     "name": "#%%\n"
    }
   }
  },
  {
   "cell_type": "markdown",
   "source": [
    "### Несколько событий"
   ],
   "metadata": {
    "collapsed": false,
    "pycharm": {
     "name": "#%% md\n"
    }
   }
  },
  {
   "cell_type": "code",
   "execution_count": null,
   "outputs": [],
   "source": [
    "from src.data_processors_lib.rete import PositiveTarget, PositiveTargetParams\n",
    "params = {\n",
    "    'positive_target_events': ['payment_done', 'payment_cash']\n",
    "}\n",
    "\n",
    "positive_targets = EventsNode(\n",
    "    PositiveTarget(params=PositiveTargetParams(**params)))\n",
    "\n",
    "graph.add_node(\n",
    "    node=positive_targets,\n",
    "    parents=[graph.root]\n",
    ")\n",
    "\n",
    "result = graph.combine(\n",
    "    node=positive_targets\n",
    ")"
   ],
   "metadata": {
    "collapsed": false,
    "pycharm": {
     "name": "#%%\n"
    }
   }
  },
  {
   "cell_type": "code",
   "execution_count": null,
   "outputs": [],
   "source": [
    "df61 = result.to_dataframe()\n",
    "print(source_df.duplicated(['event_name', 'event_timestamp', 'user_id']).sum())\n",
    "df61.duplicated(['event_name', 'event_timestamp', 'user_id']).sum()"
   ],
   "metadata": {
    "collapsed": false,
    "pycharm": {
     "name": "#%%\n"
    }
   }
  },
  {
   "cell_type": "code",
   "execution_count": null,
   "outputs": [],
   "source": [
    "df61['event_type'].value_counts()"
   ],
   "metadata": {
    "collapsed": false,
    "pycharm": {
     "name": "#%%\n"
    }
   }
  },
  {
   "cell_type": "code",
   "execution_count": null,
   "outputs": [],
   "source": [
    "source_df['event_type'].value_counts()"
   ],
   "metadata": {
    "collapsed": false,
    "pycharm": {
     "name": "#%%\n"
    }
   }
  },
  {
   "cell_type": "code",
   "execution_count": null,
   "outputs": [],
   "source": [
    "source_df[(source_df['event_name'] == 'payment_done') |\n",
    "          (source_df['event_name'] == 'payment_cash')\n",
    "         ]['user_id'].nunique()"
   ],
   "metadata": {
    "collapsed": false,
    "pycharm": {
     "name": "#%%\n"
    }
   }
  },
  {
   "cell_type": "code",
   "execution_count": null,
   "outputs": [],
   "source": [
    "print(len(df61[df61['user_id'] == 629881394]))\n",
    "df61[df61['user_id'] == 629881394]"
   ],
   "metadata": {
    "collapsed": false,
    "pycharm": {
     "name": "#%%\n"
    }
   }
  },
  {
   "cell_type": "code",
   "execution_count": null,
   "outputs": [],
   "source": [],
   "metadata": {
    "collapsed": false,
    "pycharm": {
     "name": "#%%\n"
    }
   }
  },
  {
   "cell_type": "code",
   "execution_count": null,
   "outputs": [],
   "source": [],
   "metadata": {
    "collapsed": false,
    "pycharm": {
     "name": "#%%\n"
    }
   }
  },
  {
   "cell_type": "markdown",
   "source": [
    "### Результат"
   ],
   "metadata": {
    "collapsed": false,
    "pycharm": {
     "name": "#%% md\n"
    }
   }
  },
  {
   "cell_type": "markdown",
   "source": [
    "1) [DONE] Дубликаты\n",
    "2) [TODO] Локально возникает ошибка TypeError: _default_func_positive() takes 2 positional arguments but 3 were given\n",
    "3) [DONE] Нужен кейс по тестированию 2 событий\n",
    "4) [TODO] Нужен кейс по тестированию пользовательской функции, продумать какие они вообще могут быть"
   ],
   "metadata": {
    "collapsed": false,
    "pycharm": {
     "name": "#%% md\n"
    }
   }
  },
  {
   "cell_type": "code",
   "execution_count": null,
   "outputs": [],
   "source": [],
   "metadata": {
    "collapsed": false,
    "pycharm": {
     "name": "#%%\n"
    }
   }
  },
  {
   "cell_type": "markdown",
   "source": [
    "## NegativeTarget"
   ],
   "metadata": {
    "collapsed": false,
    "pycharm": {
     "name": "#%% md\n"
    }
   }
  },
  {
   "cell_type": "markdown",
   "source": [
    "### Описание работы функции"
   ],
   "metadata": {
    "collapsed": false,
    "pycharm": {
     "name": "#%% md\n"
    }
   }
  },
  {
   "cell_type": "markdown",
   "source": [
    "Принимает на вход список событий ```negative_target_events``` и приклеивает к этим событиям в ивентстриме синтетическое событие\n",
    "```event_type=negative_target, event=negative_target_ORIGINAL_EVENT_NAME```.\n",
    "Если в траектории пользователя встречается более, чем одно таргетное событие, то negative_target по дефолту приклеивается к первому из встреченных событий.\n",
    "\n",
    "Также в параметры можно передать кастомную функцию для определения negative\n",
    "\n",
    "В кастомную функцию передаётся eventstream и список событий, на выходе - датафрейм с новым таргетным событием и timestamp.\n",
    "type_col и event_col проставляются уже внутри функции"
   ],
   "metadata": {
    "collapsed": false,
    "pycharm": {
     "name": "#%% md\n"
    }
   }
  },
  {
   "cell_type": "code",
   "execution_count": null,
   "outputs": [],
   "source": [
    "from src.data_processors_lib.rete import NegativeTarget, NegativeTargetParams\n",
    "params = {\n",
    "    'negative_target_events': ['payment_cash']\n",
    "}\n",
    "\n",
    "negative_targets = EventsNode(\n",
    "    NegativeTarget(params=NegativeTargetParams(**params)))\n",
    "\n",
    "graph.add_node(\n",
    "    node=negative_targets,\n",
    "    parents=[graph.root]\n",
    ")\n",
    "\n",
    "result = graph.combine(\n",
    "    node=negative_targets\n",
    ")\n"
   ],
   "metadata": {
    "collapsed": false,
    "pycharm": {
     "name": "#%%\n"
    }
   }
  },
  {
   "cell_type": "code",
   "execution_count": null,
   "outputs": [],
   "source": [
    "df7 = result.to_dataframe()\n",
    "print(source_df.duplicated(['event_name', 'event_timestamp', 'user_id']).sum())\n",
    "df6.duplicated(['event_name', 'event_timestamp', 'user_id']).sum()"
   ],
   "metadata": {
    "collapsed": false,
    "pycharm": {
     "name": "#%%\n"
    }
   }
  },
  {
   "cell_type": "code",
   "execution_count": null,
   "outputs": [],
   "source": [
    "df7['event_type'].value_counts()"
   ],
   "metadata": {
    "collapsed": false,
    "pycharm": {
     "name": "#%%\n"
    }
   }
  },
  {
   "cell_type": "code",
   "execution_count": null,
   "outputs": [],
   "source": [
    "source_df['event_type'].value_counts()"
   ],
   "metadata": {
    "collapsed": false,
    "pycharm": {
     "name": "#%%\n"
    }
   }
  },
  {
   "cell_type": "code",
   "execution_count": null,
   "outputs": [],
   "source": [
    "source_df[source_df['event_name'] == 'payment_cash']['user_id'].nunique()"
   ],
   "metadata": {
    "collapsed": false,
    "pycharm": {
     "name": "#%%\n"
    }
   }
  },
  {
   "cell_type": "code",
   "execution_count": null,
   "outputs": [],
   "source": [
    "print(len(df7[df7['user_id'] == 629881394]))\n",
    "df7[df7['user_id'] == 629881394]"
   ],
   "metadata": {
    "collapsed": false,
    "pycharm": {
     "name": "#%%\n"
    }
   }
  },
  {
   "cell_type": "code",
   "execution_count": null,
   "outputs": [],
   "source": [
    "print(len(source_df[source_df['user_id'] == 629881394]))\n",
    "source_df[source_df['user_id'] == 629881394]"
   ],
   "metadata": {
    "collapsed": false,
    "pycharm": {
     "name": "#%%\n"
    }
   }
  },
  {
   "cell_type": "markdown",
   "source": [
    "### Несколько событий"
   ],
   "metadata": {
    "collapsed": false,
    "pycharm": {
     "name": "#%% md\n"
    }
   }
  },
  {
   "cell_type": "code",
   "execution_count": null,
   "outputs": [],
   "source": [
    "from src.data_processors_lib.rete import NegativeTarget, NegativeTargetParams\n",
    "params = {\n",
    "    'negative_target_events': ['payment_cash', 'product2']\n",
    "}\n",
    "\n",
    "negative_targets = EventsNode(\n",
    "    NegativeTarget(params=NegativeTargetParams(**params)))\n",
    "\n",
    "graph.add_node(\n",
    "    node=negative_targets,\n",
    "    parents=[graph.root]\n",
    ")\n",
    "\n",
    "result = graph.combine(\n",
    "    node=negative_targets\n",
    ")"
   ],
   "metadata": {
    "collapsed": false,
    "pycharm": {
     "name": "#%%\n"
    }
   }
  },
  {
   "cell_type": "code",
   "execution_count": null,
   "outputs": [],
   "source": [
    "df71 = result.to_dataframe()\n",
    "print(source_df.duplicated(['event_name', 'event_timestamp', 'user_id']).sum())\n",
    "df6.duplicated(['event_name', 'event_timestamp', 'user_id']).sum()"
   ],
   "metadata": {
    "collapsed": false,
    "pycharm": {
     "name": "#%%\n"
    }
   }
  },
  {
   "cell_type": "code",
   "execution_count": null,
   "outputs": [],
   "source": [
    "df71['event_type'].value_counts()"
   ],
   "metadata": {
    "collapsed": false,
    "pycharm": {
     "name": "#%%\n"
    }
   }
  },
  {
   "cell_type": "code",
   "execution_count": null,
   "outputs": [],
   "source": [
    "source_df['event_type'].value_counts()"
   ],
   "metadata": {
    "collapsed": false,
    "pycharm": {
     "name": "#%%\n"
    }
   }
  },
  {
   "cell_type": "code",
   "execution_count": null,
   "outputs": [],
   "source": [
    "source_df[(source_df['event_name'] == 'payment_cash') |\n",
    "         (source_df['event_name'] == 'product2')\n",
    "         ]['user_id'].nunique()"
   ],
   "metadata": {
    "collapsed": false,
    "pycharm": {
     "name": "#%%\n"
    }
   }
  },
  {
   "cell_type": "code",
   "execution_count": null,
   "outputs": [],
   "source": [
    "print(len(df71[df71['user_id'] == 629881394]))\n",
    "df71[df71['user_id'] == 629881394]"
   ],
   "metadata": {
    "collapsed": false,
    "pycharm": {
     "name": "#%%\n"
    }
   }
  },
  {
   "cell_type": "code",
   "execution_count": null,
   "outputs": [],
   "source": [
    "print(len(source_df[source_df['user_id'] == 629881394]))\n",
    "source_df[source_df['user_id'] == 629881394]"
   ],
   "metadata": {
    "collapsed": false,
    "pycharm": {
     "name": "#%%\n"
    }
   }
  },
  {
   "cell_type": "code",
   "execution_count": null,
   "outputs": [],
   "source": [],
   "metadata": {
    "collapsed": false,
    "pycharm": {
     "name": "#%%\n"
    }
   }
  },
  {
   "cell_type": "markdown",
   "source": [
    "### Результат"
   ],
   "metadata": {
    "collapsed": false,
    "pycharm": {
     "name": "#%% md\n"
    }
   }
  },
  {
   "cell_type": "markdown",
   "source": [
    "1) [DONE] Дубликаты\n",
    "2) [TODO] Локально возникает ошибка TypeError: _default_func_negative() takes 2 positional arguments but 3 were given\n",
    "3) [DONE] Нужен кейс по тестированию 2 событий\n",
    "4) [TODO] Нужен кейс по тестированию пользовательской функции"
   ],
   "metadata": {
    "collapsed": false,
    "pycharm": {
     "name": "#%% md\n"
    }
   }
  },
  {
   "cell_type": "code",
   "execution_count": null,
   "outputs": [],
   "source": [],
   "metadata": {
    "collapsed": false,
    "pycharm": {
     "name": "#%%\n"
    }
   }
  },
  {
   "cell_type": "markdown",
   "source": [],
   "metadata": {
    "collapsed": false,
    "pycharm": {
     "name": "#%% md\n"
    }
   }
  },
  {
   "cell_type": "markdown",
   "source": [
    "## Grouping"
   ],
   "metadata": {
    "collapsed": false,
    "pycharm": {
     "name": "#%% md\n"
    }
   }
  },
  {
   "cell_type": "code",
   "execution_count": null,
   "id": "3ef8ffde-356b-4122-96db-aac66289b925",
   "metadata": {
    "pycharm": {
     "name": "#%%\n"
    }
   },
   "outputs": [],
   "source": [
    "from src.data_processors_lib.simple_processors import SimpleGroup\n",
    "\n",
    "cart_events = EventsNode(\n",
    "    SimpleGroup({\n",
    "        \"event_name\": \"add_to_cart\",\n",
    "        \"filter\": lambda df, schema: df[schema.event_name].isin([\"cart\"]),\n",
    "    })\n",
    ")\n",
    "graph.add_node(\n",
    "    node=cart_events,\n",
    "    parents=[graph.root]\n",
    ")"
   ]
  },
  {
   "cell_type": "code",
   "execution_count": null,
   "outputs": [],
   "source": [],
   "metadata": {
    "collapsed": false,
    "pycharm": {
     "name": "#%%\n"
    }
   }
  },
  {
   "cell_type": "code",
   "execution_count": null,
   "outputs": [],
   "source": [],
   "metadata": {
    "collapsed": false,
    "pycharm": {
     "name": "#%%\n"
    }
   }
  },
  {
   "cell_type": "code",
   "execution_count": null,
   "outputs": [],
   "source": [],
   "metadata": {
    "collapsed": false,
    "pycharm": {
     "name": "#%%\n"
    }
   }
  },
  {
   "cell_type": "code",
   "execution_count": null,
   "outputs": [],
   "source": [],
   "metadata": {
    "collapsed": false,
    "pycharm": {
     "name": "#%%\n"
    }
   }
  },
  {
   "cell_type": "code",
   "execution_count": null,
   "outputs": [],
   "source": [],
   "metadata": {
    "collapsed": false,
    "pycharm": {
     "name": "#%%\n"
    }
   }
  },
  {
   "cell_type": "code",
   "execution_count": null,
   "outputs": [],
   "source": [],
   "metadata": {
    "collapsed": false,
    "pycharm": {
     "name": "#%%\n"
    }
   }
  },
  {
   "cell_type": "code",
   "execution_count": null,
   "id": "cfb34890-afca-497a-a308-9b12b511920a",
   "metadata": {
    "pycharm": {
     "name": "#%%\n"
    }
   },
   "outputs": [],
   "source": []
  }
 ],
 "metadata": {
  "kernelspec": {
   "name": "rete_pycharm",
   "language": "python",
   "display_name": "rete_pycharm"
  },
  "language_info": {
   "codemirror_mode": {
    "name": "ipython",
    "version": 3
   },
   "file_extension": ".py",
   "mimetype": "text/x-python",
   "name": "python",
   "nbconvert_exporter": "python",
   "pygments_lexer": "ipython3",
   "version": "3.8.10"
  }
 },
 "nbformat": 4,
 "nbformat_minor": 5
}