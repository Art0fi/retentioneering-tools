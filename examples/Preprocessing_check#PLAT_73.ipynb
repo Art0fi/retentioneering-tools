{
 "cells": [
  {
   "cell_type": "code",
   "execution_count": 1,
   "id": "597ffbc8-15f0-4702-91c7-0586f52fd3f3",
   "metadata": {
    "pycharm": {
     "name": "#%%\n"
    }
   },
   "outputs": [],
   "source": [
    "# path = '/home/dpanina/share/rete_tools/examples/'\n",
    "# path = '/Users/Daria/Dev/Retentioneering/retentioneering-tools-new-arch/'"
   ]
  },
  {
   "cell_type": "code",
   "execution_count": 2,
   "id": "3df56cd0-429b-4027-82dd-69fb29456a22",
   "metadata": {
    "pycharm": {
     "name": "#%%\n"
    }
   },
   "outputs": [],
   "source": [
    "import sys\n",
    "# # sys.path.insert(0, '/home/dpanina/retentioneering-tools-new-arch/')\n",
    "#\n",
    "sys.path.insert(0, '..')"
   ]
  },
  {
   "cell_type": "markdown",
   "source": [
    "# Инициация графа"
   ],
   "metadata": {
    "collapsed": false,
    "pycharm": {
     "name": "#%% md\n"
    }
   }
  },
  {
   "cell_type": "code",
   "execution_count": 3,
   "id": "a8390b4d-ac4a-4b66-960b-915ded3e4037",
   "metadata": {
    "pycharm": {
     "name": "#%%\n"
    }
   },
   "outputs": [],
   "source": [
    "import pandas as pd\n",
    "\n",
    "from src.eventstream.eventstream import Eventstream\n",
    "from src.eventstream.schema import RawDataSchema, EventstreamSchema\n",
    "from src.graph.p_graph import PGraph, EventsNode\n",
    "\n",
    "raw_data = pd.read_csv( 'simple-onlineshop.csv')\n",
    "\n",
    "raw_data_schema = RawDataSchema(\n",
    "                            event_name=\"event\", \n",
    "                            event_timestamp=\"timestamp\", \n",
    "                            user_id=\"user_id\")\n",
    "\n",
    "source = Eventstream(\n",
    "    raw_data=raw_data,\n",
    "    raw_data_schema=raw_data_schema,\n",
    "    schema=EventstreamSchema()\n",
    ")\n",
    "\n",
    "graph = PGraph(source_stream=source)\n"
   ]
  },
  {
   "cell_type": "code",
   "execution_count": 4,
   "id": "ab3f2193-2feb-47ba-bd67-fc312559055d",
   "metadata": {
    "pycharm": {
     "name": "#%%\n"
    }
   },
   "outputs": [
    {
     "data": {
      "text/plain": "RawDataSchema(event_name='event', event_timestamp='timestamp', user_id='user_id', event_type=None, custom_cols=[])"
     },
     "execution_count": 4,
     "metadata": {},
     "output_type": "execute_result"
    }
   ],
   "source": [
    "raw_data_schema"
   ]
  },
  {
   "cell_type": "code",
   "execution_count": 5,
   "id": "03c31511-5ac8-4c25-ae0a-999e8e543683",
   "metadata": {
    "pycharm": {
     "name": "#%%\n"
    }
   },
   "outputs": [
    {
     "data": {
      "text/plain": "     user_id            event                   timestamp\n0  219483890          catalog  2019-11-01 17:59:13.273932\n1  219483890         product1  2019-11-01 17:59:28.459271\n2  219483890             cart  2019-11-01 17:59:29.502214\n3  219483890          catalog  2019-11-01 17:59:32.557029\n4  964964743          catalog  2019-11-01 21:38:19.283663\n5  964964743             cart  2019-11-01 21:38:36.761221\n6  964964743  delivery_choice  2019-11-01 21:38:37.564693\n7  629881394             main  2019-11-01 22:28:54.791683",
      "text/html": "<div>\n<style scoped>\n    .dataframe tbody tr th:only-of-type {\n        vertical-align: middle;\n    }\n\n    .dataframe tbody tr th {\n        vertical-align: top;\n    }\n\n    .dataframe thead th {\n        text-align: right;\n    }\n</style>\n<table border=\"1\" class=\"dataframe\">\n  <thead>\n    <tr style=\"text-align: right;\">\n      <th></th>\n      <th>user_id</th>\n      <th>event</th>\n      <th>timestamp</th>\n    </tr>\n  </thead>\n  <tbody>\n    <tr>\n      <th>0</th>\n      <td>219483890</td>\n      <td>catalog</td>\n      <td>2019-11-01 17:59:13.273932</td>\n    </tr>\n    <tr>\n      <th>1</th>\n      <td>219483890</td>\n      <td>product1</td>\n      <td>2019-11-01 17:59:28.459271</td>\n    </tr>\n    <tr>\n      <th>2</th>\n      <td>219483890</td>\n      <td>cart</td>\n      <td>2019-11-01 17:59:29.502214</td>\n    </tr>\n    <tr>\n      <th>3</th>\n      <td>219483890</td>\n      <td>catalog</td>\n      <td>2019-11-01 17:59:32.557029</td>\n    </tr>\n    <tr>\n      <th>4</th>\n      <td>964964743</td>\n      <td>catalog</td>\n      <td>2019-11-01 21:38:19.283663</td>\n    </tr>\n    <tr>\n      <th>5</th>\n      <td>964964743</td>\n      <td>cart</td>\n      <td>2019-11-01 21:38:36.761221</td>\n    </tr>\n    <tr>\n      <th>6</th>\n      <td>964964743</td>\n      <td>delivery_choice</td>\n      <td>2019-11-01 21:38:37.564693</td>\n    </tr>\n    <tr>\n      <th>7</th>\n      <td>629881394</td>\n      <td>main</td>\n      <td>2019-11-01 22:28:54.791683</td>\n    </tr>\n  </tbody>\n</table>\n</div>"
     },
     "execution_count": 5,
     "metadata": {},
     "output_type": "execute_result"
    }
   ],
   "source": [
    "raw_data.head(8)"
   ]
  },
  {
   "cell_type": "code",
   "execution_count": 6,
   "outputs": [
    {
     "data": {
      "text/plain": "                               event_id event_type  event_index  \\\n0  30da1d31-8f65-4bf1-86c9-aaa1a47e8a71        raw            0   \n1  6f2c3bf9-69db-4ffb-81ba-1b051271c3c9        raw            1   \n2  349c1446-7269-45ab-9244-684fc1964aca        raw            2   \n3  1ffa7501-52c2-46de-bdd2-41ad74e1c82d        raw            3   \n4  15adbed9-861d-44b7-9ed9-ee039b82774c        raw            4   \n5  502b9da4-9fb2-49c0-a26b-b8fce7a4a7d4        raw            5   \n6  b69c702b-2856-45c8-aa60-013eb6743217        raw            6   \n7  7a389bd2-7b5c-4cf0-b365-70142206e0e4        raw            7   \n\n        event_name            event_timestamp    user_id  \n0          catalog 2019-11-01 17:59:13.273932  219483890  \n1         product1 2019-11-01 17:59:28.459271  219483890  \n2             cart 2019-11-01 17:59:29.502214  219483890  \n3          catalog 2019-11-01 17:59:32.557029  219483890  \n4          catalog 2019-11-01 21:38:19.283663  964964743  \n5             cart 2019-11-01 21:38:36.761221  964964743  \n6  delivery_choice 2019-11-01 21:38:37.564693  964964743  \n7             main 2019-11-01 22:28:54.791683  629881394  ",
      "text/html": "<div>\n<style scoped>\n    .dataframe tbody tr th:only-of-type {\n        vertical-align: middle;\n    }\n\n    .dataframe tbody tr th {\n        vertical-align: top;\n    }\n\n    .dataframe thead th {\n        text-align: right;\n    }\n</style>\n<table border=\"1\" class=\"dataframe\">\n  <thead>\n    <tr style=\"text-align: right;\">\n      <th></th>\n      <th>event_id</th>\n      <th>event_type</th>\n      <th>event_index</th>\n      <th>event_name</th>\n      <th>event_timestamp</th>\n      <th>user_id</th>\n    </tr>\n  </thead>\n  <tbody>\n    <tr>\n      <th>0</th>\n      <td>30da1d31-8f65-4bf1-86c9-aaa1a47e8a71</td>\n      <td>raw</td>\n      <td>0</td>\n      <td>catalog</td>\n      <td>2019-11-01 17:59:13.273932</td>\n      <td>219483890</td>\n    </tr>\n    <tr>\n      <th>1</th>\n      <td>6f2c3bf9-69db-4ffb-81ba-1b051271c3c9</td>\n      <td>raw</td>\n      <td>1</td>\n      <td>product1</td>\n      <td>2019-11-01 17:59:28.459271</td>\n      <td>219483890</td>\n    </tr>\n    <tr>\n      <th>2</th>\n      <td>349c1446-7269-45ab-9244-684fc1964aca</td>\n      <td>raw</td>\n      <td>2</td>\n      <td>cart</td>\n      <td>2019-11-01 17:59:29.502214</td>\n      <td>219483890</td>\n    </tr>\n    <tr>\n      <th>3</th>\n      <td>1ffa7501-52c2-46de-bdd2-41ad74e1c82d</td>\n      <td>raw</td>\n      <td>3</td>\n      <td>catalog</td>\n      <td>2019-11-01 17:59:32.557029</td>\n      <td>219483890</td>\n    </tr>\n    <tr>\n      <th>4</th>\n      <td>15adbed9-861d-44b7-9ed9-ee039b82774c</td>\n      <td>raw</td>\n      <td>4</td>\n      <td>catalog</td>\n      <td>2019-11-01 21:38:19.283663</td>\n      <td>964964743</td>\n    </tr>\n    <tr>\n      <th>5</th>\n      <td>502b9da4-9fb2-49c0-a26b-b8fce7a4a7d4</td>\n      <td>raw</td>\n      <td>5</td>\n      <td>cart</td>\n      <td>2019-11-01 21:38:36.761221</td>\n      <td>964964743</td>\n    </tr>\n    <tr>\n      <th>6</th>\n      <td>b69c702b-2856-45c8-aa60-013eb6743217</td>\n      <td>raw</td>\n      <td>6</td>\n      <td>delivery_choice</td>\n      <td>2019-11-01 21:38:37.564693</td>\n      <td>964964743</td>\n    </tr>\n    <tr>\n      <th>7</th>\n      <td>7a389bd2-7b5c-4cf0-b365-70142206e0e4</td>\n      <td>raw</td>\n      <td>7</td>\n      <td>main</td>\n      <td>2019-11-01 22:28:54.791683</td>\n      <td>629881394</td>\n    </tr>\n  </tbody>\n</table>\n</div>"
     },
     "execution_count": 6,
     "metadata": {},
     "output_type": "execute_result"
    }
   ],
   "source": [
    "source.to_dataframe().head(8)"
   ],
   "metadata": {
    "collapsed": false,
    "pycharm": {
     "name": "#%%\n"
    }
   }
  },
  {
   "cell_type": "code",
   "execution_count": 7,
   "outputs": [],
   "source": [
    "source_df = source.to_dataframe()"
   ],
   "metadata": {
    "collapsed": false,
    "pycharm": {
     "name": "#%%\n"
    }
   }
  },
  {
   "cell_type": "code",
   "execution_count": 8,
   "outputs": [
    {
     "name": "stdout",
     "output_type": "stream",
     "text": [
      "<class 'pandas.core.frame.DataFrame'>\n",
      "Int64Index: 35381 entries, 0 to 35380\n",
      "Data columns (total 6 columns):\n",
      " #   Column           Non-Null Count  Dtype         \n",
      "---  ------           --------------  -----         \n",
      " 0   event_id         35381 non-null  object        \n",
      " 1   event_type       35381 non-null  object        \n",
      " 2   event_index      35381 non-null  int64         \n",
      " 3   event_name       35381 non-null  object        \n",
      " 4   event_timestamp  35381 non-null  datetime64[ns]\n",
      " 5   user_id          35381 non-null  int64         \n",
      "dtypes: datetime64[ns](1), int64(2), object(3)\n",
      "memory usage: 1.9+ MB\n"
     ]
    }
   ],
   "source": [
    "source_df.info()"
   ],
   "metadata": {
    "collapsed": false,
    "pycharm": {
     "name": "#%%\n"
    }
   }
  },
  {
   "cell_type": "markdown",
   "source": [
    "## Результат - общие вопросы"
   ],
   "metadata": {
    "collapsed": false,
    "pycharm": {
     "name": "#%% md\n"
    }
   }
  },
  {
   "cell_type": "markdown",
   "source": [
    "1) Конструкция вызовов довольно тяжеловесная, на каждую функцию надо вызвать 2 импорта, задать 2 инстанса и передать параметры словарем. Для аналитиков выглядит не слишком удобно\n",
    "\n",
    "2)  get_parents() - выдача не оч информативная, есть сейчас возможность посмотреть, какие ноды до текущей?     - [<src.graph.p_graph.EventsNode at 0x7f3892298160>]\n",
    "\n",
    "3) Можем ли задавать эту схему типов при создании eventstream?"
   ],
   "metadata": {
    "collapsed": false,
    "pycharm": {
     "name": "#%% md\n"
    }
   }
  },
  {
   "cell_type": "markdown",
   "id": "971a15e0-cf10-43b0-ae6e-1285b21b9c7b",
   "metadata": {
    "pycharm": {
     "name": "#%% md\n"
    }
   },
   "source": [
    " # Добавление синтетических событий"
   ]
  },
  {
   "cell_type": "markdown",
   "source": [
    "## StartEnd"
   ],
   "metadata": {
    "collapsed": false,
    "pycharm": {
     "name": "#%% md\n"
    }
   }
  },
  {
   "cell_type": "markdown",
   "source": [
    "### Описание работы функции"
   ],
   "metadata": {
    "collapsed": false,
    "pycharm": {
     "name": "#%% md\n"
    }
   }
  },
  {
   "cell_type": "markdown",
   "source": [
    "Для каждого пользователя добавляются события\n",
    "```event_type = start, event = start, timestamp = timestamp(first_event)```\n",
    "```event_type = end, event = end, timestamp = timestamp(end_event)```"
   ],
   "metadata": {
    "collapsed": false,
    "pycharm": {
     "name": "#%% md\n"
    }
   }
  },
  {
   "cell_type": "code",
   "execution_count": 9,
   "id": "da0ec4ab-309b-4144-93c6-613300ee3bc7",
   "metadata": {
    "pycharm": {
     "name": "#%%\n"
    }
   },
   "outputs": [],
   "source": [
    "from src.data_processors_lib.rete import StartEndEvents, StartEndEventsParams"
   ]
  },
  {
   "cell_type": "code",
   "execution_count": 10,
   "id": "5e8d665b-b917-4b8e-8da0-42eee854ccd4",
   "metadata": {
    "pycharm": {
     "name": "#%%\n"
    }
   },
   "outputs": [
    {
     "data": {
      "text/plain": "                               event_id event_type  event_index event_name  \\\n0  b283dcfa-c621-44dc-b63c-f464b78b1f55      start            0      start   \n1  30da1d31-8f65-4bf1-86c9-aaa1a47e8a71        raw            1    catalog   \n2  6f2c3bf9-69db-4ffb-81ba-1b051271c3c9        raw            2   product1   \n3  349c1446-7269-45ab-9244-684fc1964aca        raw            3       cart   \n4  1ffa7501-52c2-46de-bdd2-41ad74e1c82d        raw            4    catalog   \n5  f7e9abdc-e478-4e13-b242-1c9f7fd55f9e      start            5      start   \n6  15adbed9-861d-44b7-9ed9-ee039b82774c        raw            6    catalog   \n7  502b9da4-9fb2-49c0-a26b-b8fce7a4a7d4        raw            7       cart   \n\n             event_timestamp      user_id  \n0 2019-11-01 17:59:13.273932  219483890.0  \n1 2019-11-01 17:59:13.273932  219483890.0  \n2 2019-11-01 17:59:28.459271  219483890.0  \n3 2019-11-01 17:59:29.502214  219483890.0  \n4 2019-11-01 17:59:32.557029  219483890.0  \n5 2019-11-01 21:38:19.283663  964964743.0  \n6 2019-11-01 21:38:19.283663  964964743.0  \n7 2019-11-01 21:38:36.761221  964964743.0  ",
      "text/html": "<div>\n<style scoped>\n    .dataframe tbody tr th:only-of-type {\n        vertical-align: middle;\n    }\n\n    .dataframe tbody tr th {\n        vertical-align: top;\n    }\n\n    .dataframe thead th {\n        text-align: right;\n    }\n</style>\n<table border=\"1\" class=\"dataframe\">\n  <thead>\n    <tr style=\"text-align: right;\">\n      <th></th>\n      <th>event_id</th>\n      <th>event_type</th>\n      <th>event_index</th>\n      <th>event_name</th>\n      <th>event_timestamp</th>\n      <th>user_id</th>\n    </tr>\n  </thead>\n  <tbody>\n    <tr>\n      <th>0</th>\n      <td>b283dcfa-c621-44dc-b63c-f464b78b1f55</td>\n      <td>start</td>\n      <td>0</td>\n      <td>start</td>\n      <td>2019-11-01 17:59:13.273932</td>\n      <td>219483890.0</td>\n    </tr>\n    <tr>\n      <th>1</th>\n      <td>30da1d31-8f65-4bf1-86c9-aaa1a47e8a71</td>\n      <td>raw</td>\n      <td>1</td>\n      <td>catalog</td>\n      <td>2019-11-01 17:59:13.273932</td>\n      <td>219483890.0</td>\n    </tr>\n    <tr>\n      <th>2</th>\n      <td>6f2c3bf9-69db-4ffb-81ba-1b051271c3c9</td>\n      <td>raw</td>\n      <td>2</td>\n      <td>product1</td>\n      <td>2019-11-01 17:59:28.459271</td>\n      <td>219483890.0</td>\n    </tr>\n    <tr>\n      <th>3</th>\n      <td>349c1446-7269-45ab-9244-684fc1964aca</td>\n      <td>raw</td>\n      <td>3</td>\n      <td>cart</td>\n      <td>2019-11-01 17:59:29.502214</td>\n      <td>219483890.0</td>\n    </tr>\n    <tr>\n      <th>4</th>\n      <td>1ffa7501-52c2-46de-bdd2-41ad74e1c82d</td>\n      <td>raw</td>\n      <td>4</td>\n      <td>catalog</td>\n      <td>2019-11-01 17:59:32.557029</td>\n      <td>219483890.0</td>\n    </tr>\n    <tr>\n      <th>5</th>\n      <td>f7e9abdc-e478-4e13-b242-1c9f7fd55f9e</td>\n      <td>start</td>\n      <td>5</td>\n      <td>start</td>\n      <td>2019-11-01 21:38:19.283663</td>\n      <td>964964743.0</td>\n    </tr>\n    <tr>\n      <th>6</th>\n      <td>15adbed9-861d-44b7-9ed9-ee039b82774c</td>\n      <td>raw</td>\n      <td>6</td>\n      <td>catalog</td>\n      <td>2019-11-01 21:38:19.283663</td>\n      <td>964964743.0</td>\n    </tr>\n    <tr>\n      <th>7</th>\n      <td>502b9da4-9fb2-49c0-a26b-b8fce7a4a7d4</td>\n      <td>raw</td>\n      <td>7</td>\n      <td>cart</td>\n      <td>2019-11-01 21:38:36.761221</td>\n      <td>964964743.0</td>\n    </tr>\n  </tbody>\n</table>\n</div>"
     },
     "execution_count": 10,
     "metadata": {},
     "output_type": "execute_result"
    }
   ],
   "source": [
    "start_end_events = EventsNode(\n",
    "    StartEndEvents(params=StartEndEventsParams(**{}))\n",
    ")\n",
    "\n",
    "graph.add_node(\n",
    "    node=start_end_events,\n",
    "    parents=[graph.root]\n",
    ")\n",
    "\n",
    "result = graph.combine(\n",
    "    node=start_end_events\n",
    ")\n",
    "result.to_dataframe().head(8)"
   ]
  },
  {
   "cell_type": "code",
   "execution_count": 11,
   "id": "033e5033-28d9-443e-8ae0-7ec320b1f213",
   "metadata": {
    "pycharm": {
     "name": "#%%\n"
    }
   },
   "outputs": [
    {
     "name": "stdout",
     "output_type": "stream",
     "text": [
      "<class 'pandas.core.frame.DataFrame'>\n",
      "Int64Index: 42883 entries, 0 to 42882\n",
      "Data columns (total 6 columns):\n",
      " #   Column           Non-Null Count  Dtype         \n",
      "---  ------           --------------  -----         \n",
      " 0   event_id         42883 non-null  object        \n",
      " 1   event_type       42883 non-null  object        \n",
      " 2   event_index      42883 non-null  int64         \n",
      " 3   event_name       42883 non-null  object        \n",
      " 4   event_timestamp  42883 non-null  datetime64[ns]\n",
      " 5   user_id          42883 non-null  float64       \n",
      "dtypes: datetime64[ns](1), float64(1), int64(1), object(3)\n",
      "memory usage: 2.3+ MB\n"
     ]
    }
   ],
   "source": [
    "df = result.to_dataframe()\n",
    "df.info()"
   ]
  },
  {
   "cell_type": "code",
   "execution_count": 12,
   "id": "60dab57a-2df1-46f1-82f7-53e57e0e7132",
   "metadata": {
    "pycharm": {
     "name": "#%%\n"
    }
   },
   "outputs": [
    {
     "name": "stdout",
     "output_type": "stream",
     "text": [
      "19\n"
     ]
    },
    {
     "data": {
      "text/plain": "                                   event_id event_type  event_index  \\\n0      b283dcfa-c621-44dc-b63c-f464b78b1f55      start            0   \n1      30da1d31-8f65-4bf1-86c9-aaa1a47e8a71        raw            1   \n2      6f2c3bf9-69db-4ffb-81ba-1b051271c3c9        raw            2   \n3      349c1446-7269-45ab-9244-684fc1964aca        raw            3   \n4      1ffa7501-52c2-46de-bdd2-41ad74e1c82d        raw            4   \n2715   ffded02c-06f9-4ea3-9b70-56a0da773386        raw         2715   \n2716   637903fe-65bf-44fc-889c-85d762779ed8        raw         2716   \n2717   0d68bc03-1973-4da4-98ed-6b2e8dc6e7cc        raw         2717   \n5721   2c0113a6-b8ca-4642-9f35-db788b230514        raw         5721   \n5722   50bed9be-5a02-40d0-ae5f-608d24f429ff        raw         5722   \n5723   172510a1-d8ca-4c5b-a4d9-888b94ba01c4        raw         5723   \n5724   9fb29db5-3b10-4add-b15c-2fa513e303dc        raw         5724   \n5725   80b614e4-5702-4199-a185-07f94f689492        raw         5725   \n5726   38c0a788-2200-4a5a-83b9-0453aaef1748        raw         5726   \n5727   c2daea87-2f32-4ec9-96c8-888bf6d3e03c        raw         5727   \n10210  7de17d66-9c1c-4ad8-88cb-33345fe23785        raw        10210   \n10211  7a723d01-ac10-40a7-ab25-8023d0c62664        raw        10211   \n10212  838d02ed-7c72-444b-bb14-a4426c9f41b9        raw        10212   \n10213  1d5812c5-41f1-4cd7-afbc-f37214b865fd        end        10213   \n\n      event_name            event_timestamp      user_id  \n0          start 2019-11-01 17:59:13.273932  219483890.0  \n1        catalog 2019-11-01 17:59:13.273932  219483890.0  \n2       product1 2019-11-01 17:59:28.459271  219483890.0  \n3           cart 2019-11-01 17:59:29.502214  219483890.0  \n4        catalog 2019-11-01 17:59:32.557029  219483890.0  \n2715        main 2019-12-06 16:22:57.484842  219483890.0  \n2716     catalog 2019-12-06 16:23:01.331109  219483890.0  \n2717     catalog 2019-12-06 16:23:48.116617  219483890.0  \n5721        main 2020-01-06 22:10:13.635011  219483890.0  \n5722     catalog 2020-01-06 22:10:15.228575  219483890.0  \n5723        cart 2020-01-06 22:10:42.309028  219483890.0  \n5724     catalog 2020-01-06 22:10:52.255859  219483890.0  \n5725    product1 2020-01-06 22:11:01.709800  219483890.0  \n5726     catalog 2020-01-06 22:11:02.899490  219483890.0  \n5727     catalog 2020-01-06 22:11:28.271366  219483890.0  \n10210       main 2020-02-14 21:04:49.450696  219483890.0  \n10211    catalog 2020-02-14 21:04:51.717127  219483890.0  \n10212       lost 2020-02-14 21:04:52.717127  219483890.0  \n10213        end 2020-02-14 21:04:52.717127  219483890.0  ",
      "text/html": "<div>\n<style scoped>\n    .dataframe tbody tr th:only-of-type {\n        vertical-align: middle;\n    }\n\n    .dataframe tbody tr th {\n        vertical-align: top;\n    }\n\n    .dataframe thead th {\n        text-align: right;\n    }\n</style>\n<table border=\"1\" class=\"dataframe\">\n  <thead>\n    <tr style=\"text-align: right;\">\n      <th></th>\n      <th>event_id</th>\n      <th>event_type</th>\n      <th>event_index</th>\n      <th>event_name</th>\n      <th>event_timestamp</th>\n      <th>user_id</th>\n    </tr>\n  </thead>\n  <tbody>\n    <tr>\n      <th>0</th>\n      <td>b283dcfa-c621-44dc-b63c-f464b78b1f55</td>\n      <td>start</td>\n      <td>0</td>\n      <td>start</td>\n      <td>2019-11-01 17:59:13.273932</td>\n      <td>219483890.0</td>\n    </tr>\n    <tr>\n      <th>1</th>\n      <td>30da1d31-8f65-4bf1-86c9-aaa1a47e8a71</td>\n      <td>raw</td>\n      <td>1</td>\n      <td>catalog</td>\n      <td>2019-11-01 17:59:13.273932</td>\n      <td>219483890.0</td>\n    </tr>\n    <tr>\n      <th>2</th>\n      <td>6f2c3bf9-69db-4ffb-81ba-1b051271c3c9</td>\n      <td>raw</td>\n      <td>2</td>\n      <td>product1</td>\n      <td>2019-11-01 17:59:28.459271</td>\n      <td>219483890.0</td>\n    </tr>\n    <tr>\n      <th>3</th>\n      <td>349c1446-7269-45ab-9244-684fc1964aca</td>\n      <td>raw</td>\n      <td>3</td>\n      <td>cart</td>\n      <td>2019-11-01 17:59:29.502214</td>\n      <td>219483890.0</td>\n    </tr>\n    <tr>\n      <th>4</th>\n      <td>1ffa7501-52c2-46de-bdd2-41ad74e1c82d</td>\n      <td>raw</td>\n      <td>4</td>\n      <td>catalog</td>\n      <td>2019-11-01 17:59:32.557029</td>\n      <td>219483890.0</td>\n    </tr>\n    <tr>\n      <th>2715</th>\n      <td>ffded02c-06f9-4ea3-9b70-56a0da773386</td>\n      <td>raw</td>\n      <td>2715</td>\n      <td>main</td>\n      <td>2019-12-06 16:22:57.484842</td>\n      <td>219483890.0</td>\n    </tr>\n    <tr>\n      <th>2716</th>\n      <td>637903fe-65bf-44fc-889c-85d762779ed8</td>\n      <td>raw</td>\n      <td>2716</td>\n      <td>catalog</td>\n      <td>2019-12-06 16:23:01.331109</td>\n      <td>219483890.0</td>\n    </tr>\n    <tr>\n      <th>2717</th>\n      <td>0d68bc03-1973-4da4-98ed-6b2e8dc6e7cc</td>\n      <td>raw</td>\n      <td>2717</td>\n      <td>catalog</td>\n      <td>2019-12-06 16:23:48.116617</td>\n      <td>219483890.0</td>\n    </tr>\n    <tr>\n      <th>5721</th>\n      <td>2c0113a6-b8ca-4642-9f35-db788b230514</td>\n      <td>raw</td>\n      <td>5721</td>\n      <td>main</td>\n      <td>2020-01-06 22:10:13.635011</td>\n      <td>219483890.0</td>\n    </tr>\n    <tr>\n      <th>5722</th>\n      <td>50bed9be-5a02-40d0-ae5f-608d24f429ff</td>\n      <td>raw</td>\n      <td>5722</td>\n      <td>catalog</td>\n      <td>2020-01-06 22:10:15.228575</td>\n      <td>219483890.0</td>\n    </tr>\n    <tr>\n      <th>5723</th>\n      <td>172510a1-d8ca-4c5b-a4d9-888b94ba01c4</td>\n      <td>raw</td>\n      <td>5723</td>\n      <td>cart</td>\n      <td>2020-01-06 22:10:42.309028</td>\n      <td>219483890.0</td>\n    </tr>\n    <tr>\n      <th>5724</th>\n      <td>9fb29db5-3b10-4add-b15c-2fa513e303dc</td>\n      <td>raw</td>\n      <td>5724</td>\n      <td>catalog</td>\n      <td>2020-01-06 22:10:52.255859</td>\n      <td>219483890.0</td>\n    </tr>\n    <tr>\n      <th>5725</th>\n      <td>80b614e4-5702-4199-a185-07f94f689492</td>\n      <td>raw</td>\n      <td>5725</td>\n      <td>product1</td>\n      <td>2020-01-06 22:11:01.709800</td>\n      <td>219483890.0</td>\n    </tr>\n    <tr>\n      <th>5726</th>\n      <td>38c0a788-2200-4a5a-83b9-0453aaef1748</td>\n      <td>raw</td>\n      <td>5726</td>\n      <td>catalog</td>\n      <td>2020-01-06 22:11:02.899490</td>\n      <td>219483890.0</td>\n    </tr>\n    <tr>\n      <th>5727</th>\n      <td>c2daea87-2f32-4ec9-96c8-888bf6d3e03c</td>\n      <td>raw</td>\n      <td>5727</td>\n      <td>catalog</td>\n      <td>2020-01-06 22:11:28.271366</td>\n      <td>219483890.0</td>\n    </tr>\n    <tr>\n      <th>10210</th>\n      <td>7de17d66-9c1c-4ad8-88cb-33345fe23785</td>\n      <td>raw</td>\n      <td>10210</td>\n      <td>main</td>\n      <td>2020-02-14 21:04:49.450696</td>\n      <td>219483890.0</td>\n    </tr>\n    <tr>\n      <th>10211</th>\n      <td>7a723d01-ac10-40a7-ab25-8023d0c62664</td>\n      <td>raw</td>\n      <td>10211</td>\n      <td>catalog</td>\n      <td>2020-02-14 21:04:51.717127</td>\n      <td>219483890.0</td>\n    </tr>\n    <tr>\n      <th>10212</th>\n      <td>838d02ed-7c72-444b-bb14-a4426c9f41b9</td>\n      <td>raw</td>\n      <td>10212</td>\n      <td>lost</td>\n      <td>2020-02-14 21:04:52.717127</td>\n      <td>219483890.0</td>\n    </tr>\n    <tr>\n      <th>10213</th>\n      <td>1d5812c5-41f1-4cd7-afbc-f37214b865fd</td>\n      <td>end</td>\n      <td>10213</td>\n      <td>end</td>\n      <td>2020-02-14 21:04:52.717127</td>\n      <td>219483890.0</td>\n    </tr>\n  </tbody>\n</table>\n</div>"
     },
     "execution_count": 12,
     "metadata": {},
     "output_type": "execute_result"
    }
   ],
   "source": [
    "print(len(df[df['user_id'] == 219483890]))\n",
    "df[df['user_id'] == 219483890]"
   ]
  },
  {
   "cell_type": "code",
   "execution_count": 13,
   "outputs": [
    {
     "name": "stdout",
     "output_type": "stream",
     "text": [
      "17\n"
     ]
    },
    {
     "data": {
      "text/plain": "                                  event_id event_type  event_index event_name  \\\n0     30da1d31-8f65-4bf1-86c9-aaa1a47e8a71        raw            0    catalog   \n1     6f2c3bf9-69db-4ffb-81ba-1b051271c3c9        raw            1   product1   \n2     349c1446-7269-45ab-9244-684fc1964aca        raw            2       cart   \n3     1ffa7501-52c2-46de-bdd2-41ad74e1c82d        raw            3    catalog   \n2245  ffded02c-06f9-4ea3-9b70-56a0da773386        raw         2245       main   \n2246  637903fe-65bf-44fc-889c-85d762779ed8        raw         2246    catalog   \n2247  0d68bc03-1973-4da4-98ed-6b2e8dc6e7cc        raw         2247    catalog   \n4836  2c0113a6-b8ca-4642-9f35-db788b230514        raw         4836       main   \n4837  50bed9be-5a02-40d0-ae5f-608d24f429ff        raw         4837    catalog   \n4838  172510a1-d8ca-4c5b-a4d9-888b94ba01c4        raw         4838       cart   \n4839  9fb29db5-3b10-4add-b15c-2fa513e303dc        raw         4839    catalog   \n4840  80b614e4-5702-4199-a185-07f94f689492        raw         4840   product1   \n4841  38c0a788-2200-4a5a-83b9-0453aaef1748        raw         4841    catalog   \n4842  c2daea87-2f32-4ec9-96c8-888bf6d3e03c        raw         4842    catalog   \n8736  7de17d66-9c1c-4ad8-88cb-33345fe23785        raw         8736       main   \n8737  7a723d01-ac10-40a7-ab25-8023d0c62664        raw         8737    catalog   \n8738  838d02ed-7c72-444b-bb14-a4426c9f41b9        raw         8738       lost   \n\n                event_timestamp    user_id  \n0    2019-11-01 17:59:13.273932  219483890  \n1    2019-11-01 17:59:28.459271  219483890  \n2    2019-11-01 17:59:29.502214  219483890  \n3    2019-11-01 17:59:32.557029  219483890  \n2245 2019-12-06 16:22:57.484842  219483890  \n2246 2019-12-06 16:23:01.331109  219483890  \n2247 2019-12-06 16:23:48.116617  219483890  \n4836 2020-01-06 22:10:13.635011  219483890  \n4837 2020-01-06 22:10:15.228575  219483890  \n4838 2020-01-06 22:10:42.309028  219483890  \n4839 2020-01-06 22:10:52.255859  219483890  \n4840 2020-01-06 22:11:01.709800  219483890  \n4841 2020-01-06 22:11:02.899490  219483890  \n4842 2020-01-06 22:11:28.271366  219483890  \n8736 2020-02-14 21:04:49.450696  219483890  \n8737 2020-02-14 21:04:51.717127  219483890  \n8738 2020-02-14 21:04:52.717127  219483890  ",
      "text/html": "<div>\n<style scoped>\n    .dataframe tbody tr th:only-of-type {\n        vertical-align: middle;\n    }\n\n    .dataframe tbody tr th {\n        vertical-align: top;\n    }\n\n    .dataframe thead th {\n        text-align: right;\n    }\n</style>\n<table border=\"1\" class=\"dataframe\">\n  <thead>\n    <tr style=\"text-align: right;\">\n      <th></th>\n      <th>event_id</th>\n      <th>event_type</th>\n      <th>event_index</th>\n      <th>event_name</th>\n      <th>event_timestamp</th>\n      <th>user_id</th>\n    </tr>\n  </thead>\n  <tbody>\n    <tr>\n      <th>0</th>\n      <td>30da1d31-8f65-4bf1-86c9-aaa1a47e8a71</td>\n      <td>raw</td>\n      <td>0</td>\n      <td>catalog</td>\n      <td>2019-11-01 17:59:13.273932</td>\n      <td>219483890</td>\n    </tr>\n    <tr>\n      <th>1</th>\n      <td>6f2c3bf9-69db-4ffb-81ba-1b051271c3c9</td>\n      <td>raw</td>\n      <td>1</td>\n      <td>product1</td>\n      <td>2019-11-01 17:59:28.459271</td>\n      <td>219483890</td>\n    </tr>\n    <tr>\n      <th>2</th>\n      <td>349c1446-7269-45ab-9244-684fc1964aca</td>\n      <td>raw</td>\n      <td>2</td>\n      <td>cart</td>\n      <td>2019-11-01 17:59:29.502214</td>\n      <td>219483890</td>\n    </tr>\n    <tr>\n      <th>3</th>\n      <td>1ffa7501-52c2-46de-bdd2-41ad74e1c82d</td>\n      <td>raw</td>\n      <td>3</td>\n      <td>catalog</td>\n      <td>2019-11-01 17:59:32.557029</td>\n      <td>219483890</td>\n    </tr>\n    <tr>\n      <th>2245</th>\n      <td>ffded02c-06f9-4ea3-9b70-56a0da773386</td>\n      <td>raw</td>\n      <td>2245</td>\n      <td>main</td>\n      <td>2019-12-06 16:22:57.484842</td>\n      <td>219483890</td>\n    </tr>\n    <tr>\n      <th>2246</th>\n      <td>637903fe-65bf-44fc-889c-85d762779ed8</td>\n      <td>raw</td>\n      <td>2246</td>\n      <td>catalog</td>\n      <td>2019-12-06 16:23:01.331109</td>\n      <td>219483890</td>\n    </tr>\n    <tr>\n      <th>2247</th>\n      <td>0d68bc03-1973-4da4-98ed-6b2e8dc6e7cc</td>\n      <td>raw</td>\n      <td>2247</td>\n      <td>catalog</td>\n      <td>2019-12-06 16:23:48.116617</td>\n      <td>219483890</td>\n    </tr>\n    <tr>\n      <th>4836</th>\n      <td>2c0113a6-b8ca-4642-9f35-db788b230514</td>\n      <td>raw</td>\n      <td>4836</td>\n      <td>main</td>\n      <td>2020-01-06 22:10:13.635011</td>\n      <td>219483890</td>\n    </tr>\n    <tr>\n      <th>4837</th>\n      <td>50bed9be-5a02-40d0-ae5f-608d24f429ff</td>\n      <td>raw</td>\n      <td>4837</td>\n      <td>catalog</td>\n      <td>2020-01-06 22:10:15.228575</td>\n      <td>219483890</td>\n    </tr>\n    <tr>\n      <th>4838</th>\n      <td>172510a1-d8ca-4c5b-a4d9-888b94ba01c4</td>\n      <td>raw</td>\n      <td>4838</td>\n      <td>cart</td>\n      <td>2020-01-06 22:10:42.309028</td>\n      <td>219483890</td>\n    </tr>\n    <tr>\n      <th>4839</th>\n      <td>9fb29db5-3b10-4add-b15c-2fa513e303dc</td>\n      <td>raw</td>\n      <td>4839</td>\n      <td>catalog</td>\n      <td>2020-01-06 22:10:52.255859</td>\n      <td>219483890</td>\n    </tr>\n    <tr>\n      <th>4840</th>\n      <td>80b614e4-5702-4199-a185-07f94f689492</td>\n      <td>raw</td>\n      <td>4840</td>\n      <td>product1</td>\n      <td>2020-01-06 22:11:01.709800</td>\n      <td>219483890</td>\n    </tr>\n    <tr>\n      <th>4841</th>\n      <td>38c0a788-2200-4a5a-83b9-0453aaef1748</td>\n      <td>raw</td>\n      <td>4841</td>\n      <td>catalog</td>\n      <td>2020-01-06 22:11:02.899490</td>\n      <td>219483890</td>\n    </tr>\n    <tr>\n      <th>4842</th>\n      <td>c2daea87-2f32-4ec9-96c8-888bf6d3e03c</td>\n      <td>raw</td>\n      <td>4842</td>\n      <td>catalog</td>\n      <td>2020-01-06 22:11:28.271366</td>\n      <td>219483890</td>\n    </tr>\n    <tr>\n      <th>8736</th>\n      <td>7de17d66-9c1c-4ad8-88cb-33345fe23785</td>\n      <td>raw</td>\n      <td>8736</td>\n      <td>main</td>\n      <td>2020-02-14 21:04:49.450696</td>\n      <td>219483890</td>\n    </tr>\n    <tr>\n      <th>8737</th>\n      <td>7a723d01-ac10-40a7-ab25-8023d0c62664</td>\n      <td>raw</td>\n      <td>8737</td>\n      <td>catalog</td>\n      <td>2020-02-14 21:04:51.717127</td>\n      <td>219483890</td>\n    </tr>\n    <tr>\n      <th>8738</th>\n      <td>838d02ed-7c72-444b-bb14-a4426c9f41b9</td>\n      <td>raw</td>\n      <td>8738</td>\n      <td>lost</td>\n      <td>2020-02-14 21:04:52.717127</td>\n      <td>219483890</td>\n    </tr>\n  </tbody>\n</table>\n</div>"
     },
     "execution_count": 13,
     "metadata": {},
     "output_type": "execute_result"
    }
   ],
   "source": [
    "print(len(source_df[source_df['user_id'] == 219483890]))\n",
    "source_df[source_df['user_id'] == 219483890].sort_values('event_timestamp')"
   ],
   "metadata": {
    "collapsed": false,
    "pycharm": {
     "name": "#%%\n"
    }
   }
  },
  {
   "cell_type": "code",
   "execution_count": 14,
   "outputs": [
    {
     "data": {
      "text/plain": "                               event_id event_type  event_index event_name  \\\n1  30da1d31-8f65-4bf1-86c9-aaa1a47e8a71        raw            1    catalog   \n\n             event_timestamp      user_id  \n1 2019-11-01 17:59:13.273932  219483890.0  ",
      "text/html": "<div>\n<style scoped>\n    .dataframe tbody tr th:only-of-type {\n        vertical-align: middle;\n    }\n\n    .dataframe tbody tr th {\n        vertical-align: top;\n    }\n\n    .dataframe thead th {\n        text-align: right;\n    }\n</style>\n<table border=\"1\" class=\"dataframe\">\n  <thead>\n    <tr style=\"text-align: right;\">\n      <th></th>\n      <th>event_id</th>\n      <th>event_type</th>\n      <th>event_index</th>\n      <th>event_name</th>\n      <th>event_timestamp</th>\n      <th>user_id</th>\n    </tr>\n  </thead>\n  <tbody>\n    <tr>\n      <th>1</th>\n      <td>30da1d31-8f65-4bf1-86c9-aaa1a47e8a71</td>\n      <td>raw</td>\n      <td>1</td>\n      <td>catalog</td>\n      <td>2019-11-01 17:59:13.273932</td>\n      <td>219483890.0</td>\n    </tr>\n  </tbody>\n</table>\n</div>"
     },
     "execution_count": 14,
     "metadata": {},
     "output_type": "execute_result"
    }
   ],
   "source": [
    "check_id = source_df[source_df['user_id'] == 219483890]['event_id'][0]\n",
    "df[df['event_id'] == check_id]"
   ],
   "metadata": {
    "collapsed": false,
    "pycharm": {
     "name": "#%%\n"
    }
   }
  },
  {
   "cell_type": "code",
   "execution_count": 15,
   "outputs": [
    {
     "data": {
      "text/plain": "                               event_id event_type  event_index event_name  \\\n0  30da1d31-8f65-4bf1-86c9-aaa1a47e8a71        raw            0    catalog   \n\n             event_timestamp    user_id  \n0 2019-11-01 17:59:13.273932  219483890  ",
      "text/html": "<div>\n<style scoped>\n    .dataframe tbody tr th:only-of-type {\n        vertical-align: middle;\n    }\n\n    .dataframe tbody tr th {\n        vertical-align: top;\n    }\n\n    .dataframe thead th {\n        text-align: right;\n    }\n</style>\n<table border=\"1\" class=\"dataframe\">\n  <thead>\n    <tr style=\"text-align: right;\">\n      <th></th>\n      <th>event_id</th>\n      <th>event_type</th>\n      <th>event_index</th>\n      <th>event_name</th>\n      <th>event_timestamp</th>\n      <th>user_id</th>\n    </tr>\n  </thead>\n  <tbody>\n    <tr>\n      <th>0</th>\n      <td>30da1d31-8f65-4bf1-86c9-aaa1a47e8a71</td>\n      <td>raw</td>\n      <td>0</td>\n      <td>catalog</td>\n      <td>2019-11-01 17:59:13.273932</td>\n      <td>219483890</td>\n    </tr>\n  </tbody>\n</table>\n</div>"
     },
     "execution_count": 15,
     "metadata": {},
     "output_type": "execute_result"
    }
   ],
   "source": [
    "source_df[source_df['event_id'] == check_id]"
   ],
   "metadata": {
    "collapsed": false,
    "pycharm": {
     "name": "#%%\n"
    }
   }
  },
  {
   "cell_type": "code",
   "execution_count": 16,
   "outputs": [
    {
     "data": {
      "text/plain": "(3751, 3751)"
     },
     "execution_count": 16,
     "metadata": {},
     "output_type": "execute_result"
    }
   ],
   "source": [
    "source_df['user_id'].nunique(), df['user_id'].nunique()"
   ],
   "metadata": {
    "collapsed": false,
    "pycharm": {
     "name": "#%%\n"
    }
   }
  },
  {
   "cell_type": "code",
   "execution_count": 17,
   "outputs": [
    {
     "data": {
      "text/plain": "(3751, 3751)"
     },
     "execution_count": 17,
     "metadata": {},
     "output_type": "execute_result"
    }
   ],
   "source": [
    "df[df['event_type'] == 'start']['event_type'].count(), df[df['event_type'] == 'end']['event_type'].count()"
   ],
   "metadata": {
    "collapsed": false,
    "pycharm": {
     "name": "#%%\n"
    }
   }
  },
  {
   "cell_type": "code",
   "execution_count": 18,
   "outputs": [
    {
     "data": {
      "text/plain": "(35381, 35381)"
     },
     "execution_count": 18,
     "metadata": {},
     "output_type": "execute_result"
    }
   ],
   "source": [
    "df[df['event_type'] == 'raw']['event_type'].count(), source.to_dataframe()['event_type'].count()"
   ],
   "metadata": {
    "collapsed": false,
    "pycharm": {
     "name": "#%%\n"
    }
   }
  },
  {
   "cell_type": "code",
   "execution_count": 19,
   "outputs": [
    {
     "data": {
      "text/plain": "raw    35381\nName: event_type, dtype: int64"
     },
     "execution_count": 19,
     "metadata": {},
     "output_type": "execute_result"
    }
   ],
   "source": [
    "source_df['event_type'].value_counts()"
   ],
   "metadata": {
    "collapsed": false,
    "pycharm": {
     "name": "#%%\n"
    }
   }
  },
  {
   "cell_type": "code",
   "execution_count": 20,
   "outputs": [
    {
     "data": {
      "text/plain": "raw      35381\nstart     3751\nend       3751\nName: event_type, dtype: int64"
     },
     "execution_count": 20,
     "metadata": {},
     "output_type": "execute_result"
    }
   ],
   "source": [
    "df['event_type'].value_counts()"
   ],
   "metadata": {
    "collapsed": false,
    "pycharm": {
     "name": "#%%\n"
    }
   }
  },
  {
   "cell_type": "code",
   "execution_count": 21,
   "outputs": [
    {
     "data": {
      "text/plain": "(35381, 42883)"
     },
     "execution_count": 21,
     "metadata": {},
     "output_type": "execute_result"
    }
   ],
   "source": [
    "len(source_df), len(df)"
   ],
   "metadata": {
    "collapsed": false,
    "pycharm": {
     "name": "#%%\n"
    }
   }
  },
  {
   "cell_type": "markdown",
   "source": [
    "### Результат"
   ],
   "metadata": {
    "collapsed": false,
    "pycharm": {
     "name": "#%% md\n"
    }
   }
  },
  {
   "cell_type": "markdown",
   "source": [
    "1) [DONE] Исчезло событие, которое до этого было первым с event_id = '556697a2-7439-45c1-bd70-8d970ab7ef61'\n",
    "Тоже самое произошло с событием End\n",
    "result.to_dataframe(show_deleted=True) - то все нормально\n",
    "2) [DONE] Количество raw событий после combine уменьшилось ровно на кол-во пользователей*2\n",
    "Общая длина eventstream при этом не изменилась\n",
    "3) [TODO] #params - не должно быть обязательных параметров"
   ],
   "metadata": {
    "collapsed": false,
    "pycharm": {
     "name": "#%% md\n"
    }
   }
  },
  {
   "cell_type": "markdown",
   "source": [
    "## NewResume"
   ],
   "metadata": {
    "collapsed": false,
    "pycharm": {
     "name": "#%% md\n"
    }
   }
  },
  {
   "cell_type": "markdown",
   "source": [
    "### Описание работы функции"
   ],
   "metadata": {
    "collapsed": false,
    "pycharm": {
     "name": "#%% md\n"
    }
   }
  },
  {
   "cell_type": "markdown",
   "source": [
    "Добавляются события new_user/resume_user\n",
    "\n",
    "Это можно сделать двумя способами:\n",
    "1) В параметр ```new_users_list = []``` передать список новых пользователей, для них добавятся события:\n",
    "```event_type = new_user, event = new_user, timestamp = timestamp(first_event)```\n",
    "При этом для всех остальных, добавятся события:\n",
    "```event_type = resume, event = resume, timestamp = timestamp(first_event)```\n",
    "<br>\n",
    "\n",
    "2) Если параметр ```new_users_list = 'all'```\n",
    "То всем пользователям добавятся события:\n",
    "```event_type = new_user, event = new_user, timestamp = timestamp(first_event)```\n"
   ],
   "metadata": {
    "collapsed": false,
    "pycharm": {
     "name": "#%% md\n"
    }
   }
  },
  {
   "cell_type": "code",
   "execution_count": 22,
   "outputs": [
    {
     "data": {
      "text/plain": "                               event_id event_type  event_index event_name  \\\n0  ddaae3a1-54dd-42bb-8af0-b664aac23692   new_user            0   new_user   \n1  30da1d31-8f65-4bf1-86c9-aaa1a47e8a71        raw            1    catalog   \n2  6f2c3bf9-69db-4ffb-81ba-1b051271c3c9        raw            2   product1   \n3  349c1446-7269-45ab-9244-684fc1964aca        raw            3       cart   \n4  1ffa7501-52c2-46de-bdd2-41ad74e1c82d        raw            4    catalog   \n5  797a7b41-6432-4de4-a22c-f7b5e71178e3     resume            5     resume   \n6  15adbed9-861d-44b7-9ed9-ee039b82774c        raw            6    catalog   \n7  502b9da4-9fb2-49c0-a26b-b8fce7a4a7d4        raw            7       cart   \n\n             event_timestamp      user_id  \n0 2019-11-01 17:59:13.273932  219483890.0  \n1 2019-11-01 17:59:13.273932  219483890.0  \n2 2019-11-01 17:59:28.459271  219483890.0  \n3 2019-11-01 17:59:29.502214  219483890.0  \n4 2019-11-01 17:59:32.557029  219483890.0  \n5 2019-11-01 21:38:19.283663  964964743.0  \n6 2019-11-01 21:38:19.283663  964964743.0  \n7 2019-11-01 21:38:36.761221  964964743.0  ",
      "text/html": "<div>\n<style scoped>\n    .dataframe tbody tr th:only-of-type {\n        vertical-align: middle;\n    }\n\n    .dataframe tbody tr th {\n        vertical-align: top;\n    }\n\n    .dataframe thead th {\n        text-align: right;\n    }\n</style>\n<table border=\"1\" class=\"dataframe\">\n  <thead>\n    <tr style=\"text-align: right;\">\n      <th></th>\n      <th>event_id</th>\n      <th>event_type</th>\n      <th>event_index</th>\n      <th>event_name</th>\n      <th>event_timestamp</th>\n      <th>user_id</th>\n    </tr>\n  </thead>\n  <tbody>\n    <tr>\n      <th>0</th>\n      <td>ddaae3a1-54dd-42bb-8af0-b664aac23692</td>\n      <td>new_user</td>\n      <td>0</td>\n      <td>new_user</td>\n      <td>2019-11-01 17:59:13.273932</td>\n      <td>219483890.0</td>\n    </tr>\n    <tr>\n      <th>1</th>\n      <td>30da1d31-8f65-4bf1-86c9-aaa1a47e8a71</td>\n      <td>raw</td>\n      <td>1</td>\n      <td>catalog</td>\n      <td>2019-11-01 17:59:13.273932</td>\n      <td>219483890.0</td>\n    </tr>\n    <tr>\n      <th>2</th>\n      <td>6f2c3bf9-69db-4ffb-81ba-1b051271c3c9</td>\n      <td>raw</td>\n      <td>2</td>\n      <td>product1</td>\n      <td>2019-11-01 17:59:28.459271</td>\n      <td>219483890.0</td>\n    </tr>\n    <tr>\n      <th>3</th>\n      <td>349c1446-7269-45ab-9244-684fc1964aca</td>\n      <td>raw</td>\n      <td>3</td>\n      <td>cart</td>\n      <td>2019-11-01 17:59:29.502214</td>\n      <td>219483890.0</td>\n    </tr>\n    <tr>\n      <th>4</th>\n      <td>1ffa7501-52c2-46de-bdd2-41ad74e1c82d</td>\n      <td>raw</td>\n      <td>4</td>\n      <td>catalog</td>\n      <td>2019-11-01 17:59:32.557029</td>\n      <td>219483890.0</td>\n    </tr>\n    <tr>\n      <th>5</th>\n      <td>797a7b41-6432-4de4-a22c-f7b5e71178e3</td>\n      <td>resume</td>\n      <td>5</td>\n      <td>resume</td>\n      <td>2019-11-01 21:38:19.283663</td>\n      <td>964964743.0</td>\n    </tr>\n    <tr>\n      <th>6</th>\n      <td>15adbed9-861d-44b7-9ed9-ee039b82774c</td>\n      <td>raw</td>\n      <td>6</td>\n      <td>catalog</td>\n      <td>2019-11-01 21:38:19.283663</td>\n      <td>964964743.0</td>\n    </tr>\n    <tr>\n      <th>7</th>\n      <td>502b9da4-9fb2-49c0-a26b-b8fce7a4a7d4</td>\n      <td>raw</td>\n      <td>7</td>\n      <td>cart</td>\n      <td>2019-11-01 21:38:36.761221</td>\n      <td>964964743.0</td>\n    </tr>\n  </tbody>\n</table>\n</div>"
     },
     "execution_count": 22,
     "metadata": {},
     "output_type": "execute_result"
    }
   ],
   "source": [
    "from src.data_processors_lib.rete import NewResumeEvents, NewResumeParams\n",
    "\n",
    "new_user_list = [219483890]\n",
    "# new_user_list = 'all'\n",
    "new_resume_events = EventsNode(\n",
    "    NewResumeEvents(params=NewResumeParams(new_users_list=new_user_list)))\n",
    "\n",
    "\n",
    "graph.add_node(\n",
    "    node=new_resume_events,\n",
    "    parents=[graph.root]\n",
    ")\n",
    "\n",
    "result = graph.combine(\n",
    "    node=new_resume_events\n",
    ")\n",
    "result.to_dataframe().head(8)"
   ],
   "metadata": {
    "collapsed": false,
    "pycharm": {
     "name": "#%%\n"
    }
   }
  },
  {
   "cell_type": "code",
   "execution_count": 23,
   "outputs": [],
   "source": [
    "df1 = result.to_dataframe()"
   ],
   "metadata": {
    "collapsed": false,
    "pycharm": {
     "name": "#%%\n"
    }
   }
  },
  {
   "cell_type": "code",
   "execution_count": 24,
   "outputs": [
    {
     "data": {
      "text/plain": "raw    35381\nName: event_type, dtype: int64"
     },
     "execution_count": 24,
     "metadata": {},
     "output_type": "execute_result"
    }
   ],
   "source": [
    "source_df['event_type'].value_counts()"
   ],
   "metadata": {
    "collapsed": false,
    "pycharm": {
     "name": "#%%\n"
    }
   }
  },
  {
   "cell_type": "code",
   "execution_count": 25,
   "outputs": [
    {
     "data": {
      "text/plain": "raw         35381\nresume       3750\nnew_user        1\nName: event_type, dtype: int64"
     },
     "execution_count": 25,
     "metadata": {},
     "output_type": "execute_result"
    }
   ],
   "source": [
    "df1['event_type'].value_counts()"
   ],
   "metadata": {
    "collapsed": false,
    "pycharm": {
     "name": "#%%\n"
    }
   }
  },
  {
   "cell_type": "code",
   "execution_count": 26,
   "outputs": [
    {
     "data": {
      "text/plain": "(39132, 35381)"
     },
     "execution_count": 26,
     "metadata": {},
     "output_type": "execute_result"
    }
   ],
   "source": [
    "len(df1), len(source_df)"
   ],
   "metadata": {
    "collapsed": false,
    "pycharm": {
     "name": "#%%\n"
    }
   }
  },
  {
   "cell_type": "code",
   "execution_count": 27,
   "outputs": [
    {
     "data": {
      "text/plain": "3751"
     },
     "execution_count": 27,
     "metadata": {},
     "output_type": "execute_result"
    }
   ],
   "source": [
    "len(df1) - len(source_df)"
   ],
   "metadata": {
    "collapsed": false,
    "pycharm": {
     "name": "#%%\n"
    }
   }
  },
  {
   "cell_type": "code",
   "execution_count": 28,
   "outputs": [
    {
     "data": {
      "text/plain": "[<src.graph.p_graph.SourceNode at 0x1373d3130>]"
     },
     "execution_count": 28,
     "metadata": {},
     "output_type": "execute_result"
    }
   ],
   "source": [
    "graph.get_parents(new_resume_events)"
   ],
   "metadata": {
    "collapsed": false,
    "pycharm": {
     "name": "#%%\n"
    }
   }
  },
  {
   "cell_type": "code",
   "execution_count": 29,
   "outputs": [
    {
     "name": "stdout",
     "output_type": "stream",
     "text": [
      "17\n"
     ]
    },
    {
     "data": {
      "text/plain": "                                  event_id event_type  event_index event_name  \\\n0     30da1d31-8f65-4bf1-86c9-aaa1a47e8a71        raw            0    catalog   \n1     6f2c3bf9-69db-4ffb-81ba-1b051271c3c9        raw            1   product1   \n2     349c1446-7269-45ab-9244-684fc1964aca        raw            2       cart   \n3     1ffa7501-52c2-46de-bdd2-41ad74e1c82d        raw            3    catalog   \n2245  ffded02c-06f9-4ea3-9b70-56a0da773386        raw         2245       main   \n2246  637903fe-65bf-44fc-889c-85d762779ed8        raw         2246    catalog   \n2247  0d68bc03-1973-4da4-98ed-6b2e8dc6e7cc        raw         2247    catalog   \n4836  2c0113a6-b8ca-4642-9f35-db788b230514        raw         4836       main   \n4837  50bed9be-5a02-40d0-ae5f-608d24f429ff        raw         4837    catalog   \n4838  172510a1-d8ca-4c5b-a4d9-888b94ba01c4        raw         4838       cart   \n4839  9fb29db5-3b10-4add-b15c-2fa513e303dc        raw         4839    catalog   \n4840  80b614e4-5702-4199-a185-07f94f689492        raw         4840   product1   \n4841  38c0a788-2200-4a5a-83b9-0453aaef1748        raw         4841    catalog   \n4842  c2daea87-2f32-4ec9-96c8-888bf6d3e03c        raw         4842    catalog   \n8736  7de17d66-9c1c-4ad8-88cb-33345fe23785        raw         8736       main   \n8737  7a723d01-ac10-40a7-ab25-8023d0c62664        raw         8737    catalog   \n8738  838d02ed-7c72-444b-bb14-a4426c9f41b9        raw         8738       lost   \n\n                event_timestamp    user_id  \n0    2019-11-01 17:59:13.273932  219483890  \n1    2019-11-01 17:59:28.459271  219483890  \n2    2019-11-01 17:59:29.502214  219483890  \n3    2019-11-01 17:59:32.557029  219483890  \n2245 2019-12-06 16:22:57.484842  219483890  \n2246 2019-12-06 16:23:01.331109  219483890  \n2247 2019-12-06 16:23:48.116617  219483890  \n4836 2020-01-06 22:10:13.635011  219483890  \n4837 2020-01-06 22:10:15.228575  219483890  \n4838 2020-01-06 22:10:42.309028  219483890  \n4839 2020-01-06 22:10:52.255859  219483890  \n4840 2020-01-06 22:11:01.709800  219483890  \n4841 2020-01-06 22:11:02.899490  219483890  \n4842 2020-01-06 22:11:28.271366  219483890  \n8736 2020-02-14 21:04:49.450696  219483890  \n8737 2020-02-14 21:04:51.717127  219483890  \n8738 2020-02-14 21:04:52.717127  219483890  ",
      "text/html": "<div>\n<style scoped>\n    .dataframe tbody tr th:only-of-type {\n        vertical-align: middle;\n    }\n\n    .dataframe tbody tr th {\n        vertical-align: top;\n    }\n\n    .dataframe thead th {\n        text-align: right;\n    }\n</style>\n<table border=\"1\" class=\"dataframe\">\n  <thead>\n    <tr style=\"text-align: right;\">\n      <th></th>\n      <th>event_id</th>\n      <th>event_type</th>\n      <th>event_index</th>\n      <th>event_name</th>\n      <th>event_timestamp</th>\n      <th>user_id</th>\n    </tr>\n  </thead>\n  <tbody>\n    <tr>\n      <th>0</th>\n      <td>30da1d31-8f65-4bf1-86c9-aaa1a47e8a71</td>\n      <td>raw</td>\n      <td>0</td>\n      <td>catalog</td>\n      <td>2019-11-01 17:59:13.273932</td>\n      <td>219483890</td>\n    </tr>\n    <tr>\n      <th>1</th>\n      <td>6f2c3bf9-69db-4ffb-81ba-1b051271c3c9</td>\n      <td>raw</td>\n      <td>1</td>\n      <td>product1</td>\n      <td>2019-11-01 17:59:28.459271</td>\n      <td>219483890</td>\n    </tr>\n    <tr>\n      <th>2</th>\n      <td>349c1446-7269-45ab-9244-684fc1964aca</td>\n      <td>raw</td>\n      <td>2</td>\n      <td>cart</td>\n      <td>2019-11-01 17:59:29.502214</td>\n      <td>219483890</td>\n    </tr>\n    <tr>\n      <th>3</th>\n      <td>1ffa7501-52c2-46de-bdd2-41ad74e1c82d</td>\n      <td>raw</td>\n      <td>3</td>\n      <td>catalog</td>\n      <td>2019-11-01 17:59:32.557029</td>\n      <td>219483890</td>\n    </tr>\n    <tr>\n      <th>2245</th>\n      <td>ffded02c-06f9-4ea3-9b70-56a0da773386</td>\n      <td>raw</td>\n      <td>2245</td>\n      <td>main</td>\n      <td>2019-12-06 16:22:57.484842</td>\n      <td>219483890</td>\n    </tr>\n    <tr>\n      <th>2246</th>\n      <td>637903fe-65bf-44fc-889c-85d762779ed8</td>\n      <td>raw</td>\n      <td>2246</td>\n      <td>catalog</td>\n      <td>2019-12-06 16:23:01.331109</td>\n      <td>219483890</td>\n    </tr>\n    <tr>\n      <th>2247</th>\n      <td>0d68bc03-1973-4da4-98ed-6b2e8dc6e7cc</td>\n      <td>raw</td>\n      <td>2247</td>\n      <td>catalog</td>\n      <td>2019-12-06 16:23:48.116617</td>\n      <td>219483890</td>\n    </tr>\n    <tr>\n      <th>4836</th>\n      <td>2c0113a6-b8ca-4642-9f35-db788b230514</td>\n      <td>raw</td>\n      <td>4836</td>\n      <td>main</td>\n      <td>2020-01-06 22:10:13.635011</td>\n      <td>219483890</td>\n    </tr>\n    <tr>\n      <th>4837</th>\n      <td>50bed9be-5a02-40d0-ae5f-608d24f429ff</td>\n      <td>raw</td>\n      <td>4837</td>\n      <td>catalog</td>\n      <td>2020-01-06 22:10:15.228575</td>\n      <td>219483890</td>\n    </tr>\n    <tr>\n      <th>4838</th>\n      <td>172510a1-d8ca-4c5b-a4d9-888b94ba01c4</td>\n      <td>raw</td>\n      <td>4838</td>\n      <td>cart</td>\n      <td>2020-01-06 22:10:42.309028</td>\n      <td>219483890</td>\n    </tr>\n    <tr>\n      <th>4839</th>\n      <td>9fb29db5-3b10-4add-b15c-2fa513e303dc</td>\n      <td>raw</td>\n      <td>4839</td>\n      <td>catalog</td>\n      <td>2020-01-06 22:10:52.255859</td>\n      <td>219483890</td>\n    </tr>\n    <tr>\n      <th>4840</th>\n      <td>80b614e4-5702-4199-a185-07f94f689492</td>\n      <td>raw</td>\n      <td>4840</td>\n      <td>product1</td>\n      <td>2020-01-06 22:11:01.709800</td>\n      <td>219483890</td>\n    </tr>\n    <tr>\n      <th>4841</th>\n      <td>38c0a788-2200-4a5a-83b9-0453aaef1748</td>\n      <td>raw</td>\n      <td>4841</td>\n      <td>catalog</td>\n      <td>2020-01-06 22:11:02.899490</td>\n      <td>219483890</td>\n    </tr>\n    <tr>\n      <th>4842</th>\n      <td>c2daea87-2f32-4ec9-96c8-888bf6d3e03c</td>\n      <td>raw</td>\n      <td>4842</td>\n      <td>catalog</td>\n      <td>2020-01-06 22:11:28.271366</td>\n      <td>219483890</td>\n    </tr>\n    <tr>\n      <th>8736</th>\n      <td>7de17d66-9c1c-4ad8-88cb-33345fe23785</td>\n      <td>raw</td>\n      <td>8736</td>\n      <td>main</td>\n      <td>2020-02-14 21:04:49.450696</td>\n      <td>219483890</td>\n    </tr>\n    <tr>\n      <th>8737</th>\n      <td>7a723d01-ac10-40a7-ab25-8023d0c62664</td>\n      <td>raw</td>\n      <td>8737</td>\n      <td>catalog</td>\n      <td>2020-02-14 21:04:51.717127</td>\n      <td>219483890</td>\n    </tr>\n    <tr>\n      <th>8738</th>\n      <td>838d02ed-7c72-444b-bb14-a4426c9f41b9</td>\n      <td>raw</td>\n      <td>8738</td>\n      <td>lost</td>\n      <td>2020-02-14 21:04:52.717127</td>\n      <td>219483890</td>\n    </tr>\n  </tbody>\n</table>\n</div>"
     },
     "execution_count": 29,
     "metadata": {},
     "output_type": "execute_result"
    }
   ],
   "source": [
    "print(len(source_df[source_df['user_id'] == 219483890]))\n",
    "source_df[source_df['user_id'] == 219483890].sort_values('event_timestamp')"
   ],
   "metadata": {
    "collapsed": false,
    "pycharm": {
     "name": "#%%\n"
    }
   }
  },
  {
   "cell_type": "code",
   "execution_count": 30,
   "outputs": [
    {
     "name": "stdout",
     "output_type": "stream",
     "text": [
      "18\n"
     ]
    },
    {
     "data": {
      "text/plain": "                                  event_id event_type  event_index event_name  \\\n0     ddaae3a1-54dd-42bb-8af0-b664aac23692   new_user            0   new_user   \n1     30da1d31-8f65-4bf1-86c9-aaa1a47e8a71        raw            1    catalog   \n2     6f2c3bf9-69db-4ffb-81ba-1b051271c3c9        raw            2   product1   \n3     349c1446-7269-45ab-9244-684fc1964aca        raw            3       cart   \n4     1ffa7501-52c2-46de-bdd2-41ad74e1c82d        raw            4    catalog   \n2553  ffded02c-06f9-4ea3-9b70-56a0da773386        raw         2553       main   \n2554  637903fe-65bf-44fc-889c-85d762779ed8        raw         2554    catalog   \n2555  0d68bc03-1973-4da4-98ed-6b2e8dc6e7cc        raw         2555    catalog   \n5388  2c0113a6-b8ca-4642-9f35-db788b230514        raw         5388       main   \n5389  50bed9be-5a02-40d0-ae5f-608d24f429ff        raw         5389    catalog   \n5390  172510a1-d8ca-4c5b-a4d9-888b94ba01c4        raw         5390       cart   \n5391  9fb29db5-3b10-4add-b15c-2fa513e303dc        raw         5391    catalog   \n5392  80b614e4-5702-4199-a185-07f94f689492        raw         5392   product1   \n5393  38c0a788-2200-4a5a-83b9-0453aaef1748        raw         5393    catalog   \n5394  c2daea87-2f32-4ec9-96c8-888bf6d3e03c        raw         5394    catalog   \n9617  7de17d66-9c1c-4ad8-88cb-33345fe23785        raw         9617       main   \n9618  7a723d01-ac10-40a7-ab25-8023d0c62664        raw         9618    catalog   \n9619  838d02ed-7c72-444b-bb14-a4426c9f41b9        raw         9619       lost   \n\n                event_timestamp      user_id  \n0    2019-11-01 17:59:13.273932  219483890.0  \n1    2019-11-01 17:59:13.273932  219483890.0  \n2    2019-11-01 17:59:28.459271  219483890.0  \n3    2019-11-01 17:59:29.502214  219483890.0  \n4    2019-11-01 17:59:32.557029  219483890.0  \n2553 2019-12-06 16:22:57.484842  219483890.0  \n2554 2019-12-06 16:23:01.331109  219483890.0  \n2555 2019-12-06 16:23:48.116617  219483890.0  \n5388 2020-01-06 22:10:13.635011  219483890.0  \n5389 2020-01-06 22:10:15.228575  219483890.0  \n5390 2020-01-06 22:10:42.309028  219483890.0  \n5391 2020-01-06 22:10:52.255859  219483890.0  \n5392 2020-01-06 22:11:01.709800  219483890.0  \n5393 2020-01-06 22:11:02.899490  219483890.0  \n5394 2020-01-06 22:11:28.271366  219483890.0  \n9617 2020-02-14 21:04:49.450696  219483890.0  \n9618 2020-02-14 21:04:51.717127  219483890.0  \n9619 2020-02-14 21:04:52.717127  219483890.0  ",
      "text/html": "<div>\n<style scoped>\n    .dataframe tbody tr th:only-of-type {\n        vertical-align: middle;\n    }\n\n    .dataframe tbody tr th {\n        vertical-align: top;\n    }\n\n    .dataframe thead th {\n        text-align: right;\n    }\n</style>\n<table border=\"1\" class=\"dataframe\">\n  <thead>\n    <tr style=\"text-align: right;\">\n      <th></th>\n      <th>event_id</th>\n      <th>event_type</th>\n      <th>event_index</th>\n      <th>event_name</th>\n      <th>event_timestamp</th>\n      <th>user_id</th>\n    </tr>\n  </thead>\n  <tbody>\n    <tr>\n      <th>0</th>\n      <td>ddaae3a1-54dd-42bb-8af0-b664aac23692</td>\n      <td>new_user</td>\n      <td>0</td>\n      <td>new_user</td>\n      <td>2019-11-01 17:59:13.273932</td>\n      <td>219483890.0</td>\n    </tr>\n    <tr>\n      <th>1</th>\n      <td>30da1d31-8f65-4bf1-86c9-aaa1a47e8a71</td>\n      <td>raw</td>\n      <td>1</td>\n      <td>catalog</td>\n      <td>2019-11-01 17:59:13.273932</td>\n      <td>219483890.0</td>\n    </tr>\n    <tr>\n      <th>2</th>\n      <td>6f2c3bf9-69db-4ffb-81ba-1b051271c3c9</td>\n      <td>raw</td>\n      <td>2</td>\n      <td>product1</td>\n      <td>2019-11-01 17:59:28.459271</td>\n      <td>219483890.0</td>\n    </tr>\n    <tr>\n      <th>3</th>\n      <td>349c1446-7269-45ab-9244-684fc1964aca</td>\n      <td>raw</td>\n      <td>3</td>\n      <td>cart</td>\n      <td>2019-11-01 17:59:29.502214</td>\n      <td>219483890.0</td>\n    </tr>\n    <tr>\n      <th>4</th>\n      <td>1ffa7501-52c2-46de-bdd2-41ad74e1c82d</td>\n      <td>raw</td>\n      <td>4</td>\n      <td>catalog</td>\n      <td>2019-11-01 17:59:32.557029</td>\n      <td>219483890.0</td>\n    </tr>\n    <tr>\n      <th>2553</th>\n      <td>ffded02c-06f9-4ea3-9b70-56a0da773386</td>\n      <td>raw</td>\n      <td>2553</td>\n      <td>main</td>\n      <td>2019-12-06 16:22:57.484842</td>\n      <td>219483890.0</td>\n    </tr>\n    <tr>\n      <th>2554</th>\n      <td>637903fe-65bf-44fc-889c-85d762779ed8</td>\n      <td>raw</td>\n      <td>2554</td>\n      <td>catalog</td>\n      <td>2019-12-06 16:23:01.331109</td>\n      <td>219483890.0</td>\n    </tr>\n    <tr>\n      <th>2555</th>\n      <td>0d68bc03-1973-4da4-98ed-6b2e8dc6e7cc</td>\n      <td>raw</td>\n      <td>2555</td>\n      <td>catalog</td>\n      <td>2019-12-06 16:23:48.116617</td>\n      <td>219483890.0</td>\n    </tr>\n    <tr>\n      <th>5388</th>\n      <td>2c0113a6-b8ca-4642-9f35-db788b230514</td>\n      <td>raw</td>\n      <td>5388</td>\n      <td>main</td>\n      <td>2020-01-06 22:10:13.635011</td>\n      <td>219483890.0</td>\n    </tr>\n    <tr>\n      <th>5389</th>\n      <td>50bed9be-5a02-40d0-ae5f-608d24f429ff</td>\n      <td>raw</td>\n      <td>5389</td>\n      <td>catalog</td>\n      <td>2020-01-06 22:10:15.228575</td>\n      <td>219483890.0</td>\n    </tr>\n    <tr>\n      <th>5390</th>\n      <td>172510a1-d8ca-4c5b-a4d9-888b94ba01c4</td>\n      <td>raw</td>\n      <td>5390</td>\n      <td>cart</td>\n      <td>2020-01-06 22:10:42.309028</td>\n      <td>219483890.0</td>\n    </tr>\n    <tr>\n      <th>5391</th>\n      <td>9fb29db5-3b10-4add-b15c-2fa513e303dc</td>\n      <td>raw</td>\n      <td>5391</td>\n      <td>catalog</td>\n      <td>2020-01-06 22:10:52.255859</td>\n      <td>219483890.0</td>\n    </tr>\n    <tr>\n      <th>5392</th>\n      <td>80b614e4-5702-4199-a185-07f94f689492</td>\n      <td>raw</td>\n      <td>5392</td>\n      <td>product1</td>\n      <td>2020-01-06 22:11:01.709800</td>\n      <td>219483890.0</td>\n    </tr>\n    <tr>\n      <th>5393</th>\n      <td>38c0a788-2200-4a5a-83b9-0453aaef1748</td>\n      <td>raw</td>\n      <td>5393</td>\n      <td>catalog</td>\n      <td>2020-01-06 22:11:02.899490</td>\n      <td>219483890.0</td>\n    </tr>\n    <tr>\n      <th>5394</th>\n      <td>c2daea87-2f32-4ec9-96c8-888bf6d3e03c</td>\n      <td>raw</td>\n      <td>5394</td>\n      <td>catalog</td>\n      <td>2020-01-06 22:11:28.271366</td>\n      <td>219483890.0</td>\n    </tr>\n    <tr>\n      <th>9617</th>\n      <td>7de17d66-9c1c-4ad8-88cb-33345fe23785</td>\n      <td>raw</td>\n      <td>9617</td>\n      <td>main</td>\n      <td>2020-02-14 21:04:49.450696</td>\n      <td>219483890.0</td>\n    </tr>\n    <tr>\n      <th>9618</th>\n      <td>7a723d01-ac10-40a7-ab25-8023d0c62664</td>\n      <td>raw</td>\n      <td>9618</td>\n      <td>catalog</td>\n      <td>2020-02-14 21:04:51.717127</td>\n      <td>219483890.0</td>\n    </tr>\n    <tr>\n      <th>9619</th>\n      <td>838d02ed-7c72-444b-bb14-a4426c9f41b9</td>\n      <td>raw</td>\n      <td>9619</td>\n      <td>lost</td>\n      <td>2020-02-14 21:04:52.717127</td>\n      <td>219483890.0</td>\n    </tr>\n  </tbody>\n</table>\n</div>"
     },
     "execution_count": 30,
     "metadata": {},
     "output_type": "execute_result"
    }
   ],
   "source": [
    "print(len(df1[df1['user_id'] == 219483890]))\n",
    "df1[df1['user_id'] == 219483890].sort_values('event_timestamp')"
   ],
   "metadata": {
    "collapsed": false,
    "pycharm": {
     "name": "#%%\n"
    }
   }
  },
  {
   "cell_type": "code",
   "execution_count": 31,
   "outputs": [
    {
     "data": {
      "text/plain": "                               event_id event_type  event_index event_name  \\\n1  30da1d31-8f65-4bf1-86c9-aaa1a47e8a71        raw            1    catalog   \n\n             event_timestamp      user_id  \n1 2019-11-01 17:59:13.273932  219483890.0  ",
      "text/html": "<div>\n<style scoped>\n    .dataframe tbody tr th:only-of-type {\n        vertical-align: middle;\n    }\n\n    .dataframe tbody tr th {\n        vertical-align: top;\n    }\n\n    .dataframe thead th {\n        text-align: right;\n    }\n</style>\n<table border=\"1\" class=\"dataframe\">\n  <thead>\n    <tr style=\"text-align: right;\">\n      <th></th>\n      <th>event_id</th>\n      <th>event_type</th>\n      <th>event_index</th>\n      <th>event_name</th>\n      <th>event_timestamp</th>\n      <th>user_id</th>\n    </tr>\n  </thead>\n  <tbody>\n    <tr>\n      <th>1</th>\n      <td>30da1d31-8f65-4bf1-86c9-aaa1a47e8a71</td>\n      <td>raw</td>\n      <td>1</td>\n      <td>catalog</td>\n      <td>2019-11-01 17:59:13.273932</td>\n      <td>219483890.0</td>\n    </tr>\n  </tbody>\n</table>\n</div>"
     },
     "execution_count": 31,
     "metadata": {},
     "output_type": "execute_result"
    }
   ],
   "source": [
    "check_id = source_df[source_df['user_id'] == 219483890]['event_id'][0]\n",
    "df1[df1['event_id'] == check_id]"
   ],
   "metadata": {
    "collapsed": false,
    "pycharm": {
     "name": "#%%\n"
    }
   }
  },
  {
   "cell_type": "code",
   "execution_count": 32,
   "outputs": [
    {
     "name": "stdout",
     "output_type": "stream",
     "text": [
      "13\n"
     ]
    },
    {
     "data": {
      "text/plain": "                                  event_id event_type  event_index  \\\n4     15adbed9-861d-44b7-9ed9-ee039b82774c        raw            4   \n5     502b9da4-9fb2-49c0-a26b-b8fce7a4a7d4        raw            5   \n6     b69c702b-2856-45c8-aa60-013eb6743217        raw            6   \n2439  2fe1838a-4876-418b-bd15-9ed67896529f        raw         2439   \n2440  df188c43-ff63-4113-95f4-6ba2d9bfc03c        raw         2440   \n2441  45fb4377-11f4-4eb3-b71b-8c42e3eac81b        raw         2441   \n2442  33554711-cd56-4af8-b242-53b521232a63        raw         2442   \n2443  60fe9b0e-03ac-487b-8b4a-e7566ca93187        raw         2443   \n2444  b4609a5f-7662-4048-98fa-b03191a30d64        raw         2444   \n2445  e50da712-8b2a-464a-b5e7-9ef59834c43b        raw         2445   \n2446  496c384d-3cee-4aff-aab4-2e8d58d4e01c        raw         2446   \n2447  cf4e8d54-dcb3-48de-998a-ac8002d2c104        raw         2447   \n2448  2ff9dcd0-30c0-4e84-bb8b-e0040d245e2d        raw         2448   \n\n           event_name            event_timestamp    user_id  \n4             catalog 2019-11-01 21:38:19.283663  964964743  \n5                cart 2019-11-01 21:38:36.761221  964964743  \n6     delivery_choice 2019-11-01 21:38:37.564693  964964743  \n2439             main 2019-12-09 01:42:22.801831  964964743  \n2440          catalog 2019-12-09 01:42:23.617764  964964743  \n2441         product2 2019-12-09 01:42:56.877340  964964743  \n2442          catalog 2019-12-09 01:43:05.436223  964964743  \n2443          catalog 2019-12-09 01:43:36.923178  964964743  \n2444         product2 2019-12-09 01:43:41.174195  964964743  \n2445             cart 2019-12-09 01:43:57.325569  964964743  \n2446  delivery_choice 2019-12-09 01:43:57.486518  964964743  \n2447  delivery_pickup 2019-12-09 01:43:57.766850  964964743  \n2448             lost 2019-12-09 01:43:58.766850  964964743  ",
      "text/html": "<div>\n<style scoped>\n    .dataframe tbody tr th:only-of-type {\n        vertical-align: middle;\n    }\n\n    .dataframe tbody tr th {\n        vertical-align: top;\n    }\n\n    .dataframe thead th {\n        text-align: right;\n    }\n</style>\n<table border=\"1\" class=\"dataframe\">\n  <thead>\n    <tr style=\"text-align: right;\">\n      <th></th>\n      <th>event_id</th>\n      <th>event_type</th>\n      <th>event_index</th>\n      <th>event_name</th>\n      <th>event_timestamp</th>\n      <th>user_id</th>\n    </tr>\n  </thead>\n  <tbody>\n    <tr>\n      <th>4</th>\n      <td>15adbed9-861d-44b7-9ed9-ee039b82774c</td>\n      <td>raw</td>\n      <td>4</td>\n      <td>catalog</td>\n      <td>2019-11-01 21:38:19.283663</td>\n      <td>964964743</td>\n    </tr>\n    <tr>\n      <th>5</th>\n      <td>502b9da4-9fb2-49c0-a26b-b8fce7a4a7d4</td>\n      <td>raw</td>\n      <td>5</td>\n      <td>cart</td>\n      <td>2019-11-01 21:38:36.761221</td>\n      <td>964964743</td>\n    </tr>\n    <tr>\n      <th>6</th>\n      <td>b69c702b-2856-45c8-aa60-013eb6743217</td>\n      <td>raw</td>\n      <td>6</td>\n      <td>delivery_choice</td>\n      <td>2019-11-01 21:38:37.564693</td>\n      <td>964964743</td>\n    </tr>\n    <tr>\n      <th>2439</th>\n      <td>2fe1838a-4876-418b-bd15-9ed67896529f</td>\n      <td>raw</td>\n      <td>2439</td>\n      <td>main</td>\n      <td>2019-12-09 01:42:22.801831</td>\n      <td>964964743</td>\n    </tr>\n    <tr>\n      <th>2440</th>\n      <td>df188c43-ff63-4113-95f4-6ba2d9bfc03c</td>\n      <td>raw</td>\n      <td>2440</td>\n      <td>catalog</td>\n      <td>2019-12-09 01:42:23.617764</td>\n      <td>964964743</td>\n    </tr>\n    <tr>\n      <th>2441</th>\n      <td>45fb4377-11f4-4eb3-b71b-8c42e3eac81b</td>\n      <td>raw</td>\n      <td>2441</td>\n      <td>product2</td>\n      <td>2019-12-09 01:42:56.877340</td>\n      <td>964964743</td>\n    </tr>\n    <tr>\n      <th>2442</th>\n      <td>33554711-cd56-4af8-b242-53b521232a63</td>\n      <td>raw</td>\n      <td>2442</td>\n      <td>catalog</td>\n      <td>2019-12-09 01:43:05.436223</td>\n      <td>964964743</td>\n    </tr>\n    <tr>\n      <th>2443</th>\n      <td>60fe9b0e-03ac-487b-8b4a-e7566ca93187</td>\n      <td>raw</td>\n      <td>2443</td>\n      <td>catalog</td>\n      <td>2019-12-09 01:43:36.923178</td>\n      <td>964964743</td>\n    </tr>\n    <tr>\n      <th>2444</th>\n      <td>b4609a5f-7662-4048-98fa-b03191a30d64</td>\n      <td>raw</td>\n      <td>2444</td>\n      <td>product2</td>\n      <td>2019-12-09 01:43:41.174195</td>\n      <td>964964743</td>\n    </tr>\n    <tr>\n      <th>2445</th>\n      <td>e50da712-8b2a-464a-b5e7-9ef59834c43b</td>\n      <td>raw</td>\n      <td>2445</td>\n      <td>cart</td>\n      <td>2019-12-09 01:43:57.325569</td>\n      <td>964964743</td>\n    </tr>\n    <tr>\n      <th>2446</th>\n      <td>496c384d-3cee-4aff-aab4-2e8d58d4e01c</td>\n      <td>raw</td>\n      <td>2446</td>\n      <td>delivery_choice</td>\n      <td>2019-12-09 01:43:57.486518</td>\n      <td>964964743</td>\n    </tr>\n    <tr>\n      <th>2447</th>\n      <td>cf4e8d54-dcb3-48de-998a-ac8002d2c104</td>\n      <td>raw</td>\n      <td>2447</td>\n      <td>delivery_pickup</td>\n      <td>2019-12-09 01:43:57.766850</td>\n      <td>964964743</td>\n    </tr>\n    <tr>\n      <th>2448</th>\n      <td>2ff9dcd0-30c0-4e84-bb8b-e0040d245e2d</td>\n      <td>raw</td>\n      <td>2448</td>\n      <td>lost</td>\n      <td>2019-12-09 01:43:58.766850</td>\n      <td>964964743</td>\n    </tr>\n  </tbody>\n</table>\n</div>"
     },
     "execution_count": 32,
     "metadata": {},
     "output_type": "execute_result"
    }
   ],
   "source": [
    "print(len(source_df[source_df['user_id'] == 964964743]))\n",
    "source_df[source_df['user_id'] == 964964743].sort_values('event_timestamp')"
   ],
   "metadata": {
    "collapsed": false,
    "pycharm": {
     "name": "#%%\n"
    }
   }
  },
  {
   "cell_type": "code",
   "execution_count": 33,
   "outputs": [
    {
     "name": "stdout",
     "output_type": "stream",
     "text": [
      "14\n"
     ]
    },
    {
     "data": {
      "text/plain": "                                  event_id event_type  event_index  \\\n5     797a7b41-6432-4de4-a22c-f7b5e71178e3     resume            5   \n6     15adbed9-861d-44b7-9ed9-ee039b82774c        raw            6   \n7     502b9da4-9fb2-49c0-a26b-b8fce7a4a7d4        raw            7   \n8     b69c702b-2856-45c8-aa60-013eb6743217        raw            8   \n2768  2fe1838a-4876-418b-bd15-9ed67896529f        raw         2768   \n2769  df188c43-ff63-4113-95f4-6ba2d9bfc03c        raw         2769   \n2770  45fb4377-11f4-4eb3-b71b-8c42e3eac81b        raw         2770   \n2771  33554711-cd56-4af8-b242-53b521232a63        raw         2771   \n2772  60fe9b0e-03ac-487b-8b4a-e7566ca93187        raw         2772   \n2773  b4609a5f-7662-4048-98fa-b03191a30d64        raw         2773   \n2774  e50da712-8b2a-464a-b5e7-9ef59834c43b        raw         2774   \n2775  496c384d-3cee-4aff-aab4-2e8d58d4e01c        raw         2775   \n2776  cf4e8d54-dcb3-48de-998a-ac8002d2c104        raw         2776   \n2777  2ff9dcd0-30c0-4e84-bb8b-e0040d245e2d        raw         2777   \n\n           event_name            event_timestamp      user_id  \n5              resume 2019-11-01 21:38:19.283663  964964743.0  \n6             catalog 2019-11-01 21:38:19.283663  964964743.0  \n7                cart 2019-11-01 21:38:36.761221  964964743.0  \n8     delivery_choice 2019-11-01 21:38:37.564693  964964743.0  \n2768             main 2019-12-09 01:42:22.801831  964964743.0  \n2769          catalog 2019-12-09 01:42:23.617764  964964743.0  \n2770         product2 2019-12-09 01:42:56.877340  964964743.0  \n2771          catalog 2019-12-09 01:43:05.436223  964964743.0  \n2772          catalog 2019-12-09 01:43:36.923178  964964743.0  \n2773         product2 2019-12-09 01:43:41.174195  964964743.0  \n2774             cart 2019-12-09 01:43:57.325569  964964743.0  \n2775  delivery_choice 2019-12-09 01:43:57.486518  964964743.0  \n2776  delivery_pickup 2019-12-09 01:43:57.766850  964964743.0  \n2777             lost 2019-12-09 01:43:58.766850  964964743.0  ",
      "text/html": "<div>\n<style scoped>\n    .dataframe tbody tr th:only-of-type {\n        vertical-align: middle;\n    }\n\n    .dataframe tbody tr th {\n        vertical-align: top;\n    }\n\n    .dataframe thead th {\n        text-align: right;\n    }\n</style>\n<table border=\"1\" class=\"dataframe\">\n  <thead>\n    <tr style=\"text-align: right;\">\n      <th></th>\n      <th>event_id</th>\n      <th>event_type</th>\n      <th>event_index</th>\n      <th>event_name</th>\n      <th>event_timestamp</th>\n      <th>user_id</th>\n    </tr>\n  </thead>\n  <tbody>\n    <tr>\n      <th>5</th>\n      <td>797a7b41-6432-4de4-a22c-f7b5e71178e3</td>\n      <td>resume</td>\n      <td>5</td>\n      <td>resume</td>\n      <td>2019-11-01 21:38:19.283663</td>\n      <td>964964743.0</td>\n    </tr>\n    <tr>\n      <th>6</th>\n      <td>15adbed9-861d-44b7-9ed9-ee039b82774c</td>\n      <td>raw</td>\n      <td>6</td>\n      <td>catalog</td>\n      <td>2019-11-01 21:38:19.283663</td>\n      <td>964964743.0</td>\n    </tr>\n    <tr>\n      <th>7</th>\n      <td>502b9da4-9fb2-49c0-a26b-b8fce7a4a7d4</td>\n      <td>raw</td>\n      <td>7</td>\n      <td>cart</td>\n      <td>2019-11-01 21:38:36.761221</td>\n      <td>964964743.0</td>\n    </tr>\n    <tr>\n      <th>8</th>\n      <td>b69c702b-2856-45c8-aa60-013eb6743217</td>\n      <td>raw</td>\n      <td>8</td>\n      <td>delivery_choice</td>\n      <td>2019-11-01 21:38:37.564693</td>\n      <td>964964743.0</td>\n    </tr>\n    <tr>\n      <th>2768</th>\n      <td>2fe1838a-4876-418b-bd15-9ed67896529f</td>\n      <td>raw</td>\n      <td>2768</td>\n      <td>main</td>\n      <td>2019-12-09 01:42:22.801831</td>\n      <td>964964743.0</td>\n    </tr>\n    <tr>\n      <th>2769</th>\n      <td>df188c43-ff63-4113-95f4-6ba2d9bfc03c</td>\n      <td>raw</td>\n      <td>2769</td>\n      <td>catalog</td>\n      <td>2019-12-09 01:42:23.617764</td>\n      <td>964964743.0</td>\n    </tr>\n    <tr>\n      <th>2770</th>\n      <td>45fb4377-11f4-4eb3-b71b-8c42e3eac81b</td>\n      <td>raw</td>\n      <td>2770</td>\n      <td>product2</td>\n      <td>2019-12-09 01:42:56.877340</td>\n      <td>964964743.0</td>\n    </tr>\n    <tr>\n      <th>2771</th>\n      <td>33554711-cd56-4af8-b242-53b521232a63</td>\n      <td>raw</td>\n      <td>2771</td>\n      <td>catalog</td>\n      <td>2019-12-09 01:43:05.436223</td>\n      <td>964964743.0</td>\n    </tr>\n    <tr>\n      <th>2772</th>\n      <td>60fe9b0e-03ac-487b-8b4a-e7566ca93187</td>\n      <td>raw</td>\n      <td>2772</td>\n      <td>catalog</td>\n      <td>2019-12-09 01:43:36.923178</td>\n      <td>964964743.0</td>\n    </tr>\n    <tr>\n      <th>2773</th>\n      <td>b4609a5f-7662-4048-98fa-b03191a30d64</td>\n      <td>raw</td>\n      <td>2773</td>\n      <td>product2</td>\n      <td>2019-12-09 01:43:41.174195</td>\n      <td>964964743.0</td>\n    </tr>\n    <tr>\n      <th>2774</th>\n      <td>e50da712-8b2a-464a-b5e7-9ef59834c43b</td>\n      <td>raw</td>\n      <td>2774</td>\n      <td>cart</td>\n      <td>2019-12-09 01:43:57.325569</td>\n      <td>964964743.0</td>\n    </tr>\n    <tr>\n      <th>2775</th>\n      <td>496c384d-3cee-4aff-aab4-2e8d58d4e01c</td>\n      <td>raw</td>\n      <td>2775</td>\n      <td>delivery_choice</td>\n      <td>2019-12-09 01:43:57.486518</td>\n      <td>964964743.0</td>\n    </tr>\n    <tr>\n      <th>2776</th>\n      <td>cf4e8d54-dcb3-48de-998a-ac8002d2c104</td>\n      <td>raw</td>\n      <td>2776</td>\n      <td>delivery_pickup</td>\n      <td>2019-12-09 01:43:57.766850</td>\n      <td>964964743.0</td>\n    </tr>\n    <tr>\n      <th>2777</th>\n      <td>2ff9dcd0-30c0-4e84-bb8b-e0040d245e2d</td>\n      <td>raw</td>\n      <td>2777</td>\n      <td>lost</td>\n      <td>2019-12-09 01:43:58.766850</td>\n      <td>964964743.0</td>\n    </tr>\n  </tbody>\n</table>\n</div>"
     },
     "execution_count": 33,
     "metadata": {},
     "output_type": "execute_result"
    }
   ],
   "source": [
    "print(len(df1[df1['user_id'] == 964964743]))\n",
    "df1[df1['user_id'] == 964964743].sort_values('event_timestamp')"
   ],
   "metadata": {
    "collapsed": false,
    "pycharm": {
     "name": "#%%\n"
    }
   }
  },
  {
   "cell_type": "markdown",
   "source": [
    "### зададим ноды последовательно"
   ],
   "metadata": {
    "collapsed": false,
    "pycharm": {
     "name": "#%% md\n"
    }
   }
  },
  {
   "cell_type": "code",
   "execution_count": 34,
   "outputs": [
    {
     "data": {
      "text/plain": "                               event_id event_type  event_index event_name  \\\n0  6df4f244-c84c-405f-80a2-be677284d884      start            0      start   \n1  4048d289-e71a-4415-9cf7-13fbee40da48   new_user            1   new_user   \n2  30da1d31-8f65-4bf1-86c9-aaa1a47e8a71        raw            2    catalog   \n3  6f2c3bf9-69db-4ffb-81ba-1b051271c3c9        raw            3   product1   \n4  349c1446-7269-45ab-9244-684fc1964aca        raw            4       cart   \n5  1ffa7501-52c2-46de-bdd2-41ad74e1c82d        raw            5    catalog   \n6  592995d8-b640-4994-878f-0dd163b5c8a6      start            6      start   \n7  77fdf991-794a-43d1-8199-da6fc564df9d     resume            7     resume   \n\n             event_timestamp      user_id  \n0 2019-11-01 17:59:13.273932  219483890.0  \n1 2019-11-01 17:59:13.273932  219483890.0  \n2 2019-11-01 17:59:13.273932  219483890.0  \n3 2019-11-01 17:59:28.459271  219483890.0  \n4 2019-11-01 17:59:29.502214  219483890.0  \n5 2019-11-01 17:59:32.557029  219483890.0  \n6 2019-11-01 21:38:19.283663  964964743.0  \n7 2019-11-01 21:38:19.283663  964964743.0  ",
      "text/html": "<div>\n<style scoped>\n    .dataframe tbody tr th:only-of-type {\n        vertical-align: middle;\n    }\n\n    .dataframe tbody tr th {\n        vertical-align: top;\n    }\n\n    .dataframe thead th {\n        text-align: right;\n    }\n</style>\n<table border=\"1\" class=\"dataframe\">\n  <thead>\n    <tr style=\"text-align: right;\">\n      <th></th>\n      <th>event_id</th>\n      <th>event_type</th>\n      <th>event_index</th>\n      <th>event_name</th>\n      <th>event_timestamp</th>\n      <th>user_id</th>\n    </tr>\n  </thead>\n  <tbody>\n    <tr>\n      <th>0</th>\n      <td>6df4f244-c84c-405f-80a2-be677284d884</td>\n      <td>start</td>\n      <td>0</td>\n      <td>start</td>\n      <td>2019-11-01 17:59:13.273932</td>\n      <td>219483890.0</td>\n    </tr>\n    <tr>\n      <th>1</th>\n      <td>4048d289-e71a-4415-9cf7-13fbee40da48</td>\n      <td>new_user</td>\n      <td>1</td>\n      <td>new_user</td>\n      <td>2019-11-01 17:59:13.273932</td>\n      <td>219483890.0</td>\n    </tr>\n    <tr>\n      <th>2</th>\n      <td>30da1d31-8f65-4bf1-86c9-aaa1a47e8a71</td>\n      <td>raw</td>\n      <td>2</td>\n      <td>catalog</td>\n      <td>2019-11-01 17:59:13.273932</td>\n      <td>219483890.0</td>\n    </tr>\n    <tr>\n      <th>3</th>\n      <td>6f2c3bf9-69db-4ffb-81ba-1b051271c3c9</td>\n      <td>raw</td>\n      <td>3</td>\n      <td>product1</td>\n      <td>2019-11-01 17:59:28.459271</td>\n      <td>219483890.0</td>\n    </tr>\n    <tr>\n      <th>4</th>\n      <td>349c1446-7269-45ab-9244-684fc1964aca</td>\n      <td>raw</td>\n      <td>4</td>\n      <td>cart</td>\n      <td>2019-11-01 17:59:29.502214</td>\n      <td>219483890.0</td>\n    </tr>\n    <tr>\n      <th>5</th>\n      <td>1ffa7501-52c2-46de-bdd2-41ad74e1c82d</td>\n      <td>raw</td>\n      <td>5</td>\n      <td>catalog</td>\n      <td>2019-11-01 17:59:32.557029</td>\n      <td>219483890.0</td>\n    </tr>\n    <tr>\n      <th>6</th>\n      <td>592995d8-b640-4994-878f-0dd163b5c8a6</td>\n      <td>start</td>\n      <td>6</td>\n      <td>start</td>\n      <td>2019-11-01 21:38:19.283663</td>\n      <td>964964743.0</td>\n    </tr>\n    <tr>\n      <th>7</th>\n      <td>77fdf991-794a-43d1-8199-da6fc564df9d</td>\n      <td>resume</td>\n      <td>7</td>\n      <td>resume</td>\n      <td>2019-11-01 21:38:19.283663</td>\n      <td>964964743.0</td>\n    </tr>\n  </tbody>\n</table>\n</div>"
     },
     "execution_count": 34,
     "metadata": {},
     "output_type": "execute_result"
    }
   ],
   "source": [
    "new_user_list = [219483890]\n",
    "\n",
    "new_resume_events1 = EventsNode(\n",
    "    NewResumeEvents(params=NewResumeParams(new_users_list=new_user_list)))\n",
    "\n",
    "\n",
    "graph.add_node(\n",
    "    node=new_resume_events1,\n",
    "    parents=[start_end_events]\n",
    ")\n",
    "\n",
    "result_seq = graph.combine(\n",
    "    node=new_resume_events1\n",
    ")\n",
    "result_seq.to_dataframe().head(8)"
   ],
   "metadata": {
    "collapsed": false,
    "pycharm": {
     "name": "#%%\n"
    }
   }
  },
  {
   "cell_type": "code",
   "execution_count": 35,
   "outputs": [
    {
     "data": {
      "text/plain": "(46634, 35381)"
     },
     "execution_count": 35,
     "metadata": {},
     "output_type": "execute_result"
    }
   ],
   "source": [
    "len(result_seq.to_dataframe()), len(source_df)"
   ],
   "metadata": {
    "collapsed": false,
    "pycharm": {
     "name": "#%%\n"
    }
   }
  },
  {
   "cell_type": "code",
   "execution_count": 36,
   "outputs": [
    {
     "data": {
      "text/plain": "raw         35381\nstart        3751\nend          3751\nresume       3750\nnew_user        1\nName: event_type, dtype: int64"
     },
     "execution_count": 36,
     "metadata": {},
     "output_type": "execute_result"
    }
   ],
   "source": [
    "result_seq.to_dataframe()['event_type'].value_counts()"
   ],
   "metadata": {
    "collapsed": false,
    "pycharm": {
     "name": "#%%\n"
    }
   }
  },
  {
   "cell_type": "code",
   "execution_count": 37,
   "outputs": [
    {
     "data": {
      "text/plain": "raw         35381\nresume       3750\nnew_user        1\nName: event_type, dtype: int64"
     },
     "execution_count": 37,
     "metadata": {},
     "output_type": "execute_result"
    }
   ],
   "source": [
    "result.to_dataframe()['event_type'].value_counts()"
   ],
   "metadata": {
    "collapsed": false,
    "pycharm": {
     "name": "#%%\n"
    }
   }
  },
  {
   "cell_type": "code",
   "execution_count": 38,
   "outputs": [
    {
     "data": {
      "text/plain": "raw    35381\nName: event_type, dtype: int64"
     },
     "execution_count": 38,
     "metadata": {},
     "output_type": "execute_result"
    }
   ],
   "source": [
    "source_df['event_type'].value_counts()"
   ],
   "metadata": {
    "collapsed": false,
    "pycharm": {
     "name": "#%%\n"
    }
   }
  },
  {
   "cell_type": "code",
   "execution_count": 39,
   "outputs": [],
   "source": [
    "df2 = result_seq.to_dataframe()"
   ],
   "metadata": {
    "collapsed": false,
    "pycharm": {
     "name": "#%%\n"
    }
   }
  },
  {
   "cell_type": "code",
   "execution_count": 40,
   "outputs": [
    {
     "name": "stdout",
     "output_type": "stream",
     "text": [
      "20\n"
     ]
    },
    {
     "data": {
      "text/plain": "                                   event_id event_type  event_index  \\\n0      6df4f244-c84c-405f-80a2-be677284d884      start            0   \n1      4048d289-e71a-4415-9cf7-13fbee40da48   new_user            1   \n2      30da1d31-8f65-4bf1-86c9-aaa1a47e8a71        raw            2   \n3      6f2c3bf9-69db-4ffb-81ba-1b051271c3c9        raw            3   \n4      349c1446-7269-45ab-9244-684fc1964aca        raw            4   \n5      1ffa7501-52c2-46de-bdd2-41ad74e1c82d        raw            5   \n3023   ffded02c-06f9-4ea3-9b70-56a0da773386        raw         3023   \n3024   637903fe-65bf-44fc-889c-85d762779ed8        raw         3024   \n3025   0d68bc03-1973-4da4-98ed-6b2e8dc6e7cc        raw         3025   \n6273   2c0113a6-b8ca-4642-9f35-db788b230514        raw         6273   \n6274   50bed9be-5a02-40d0-ae5f-608d24f429ff        raw         6274   \n6275   172510a1-d8ca-4c5b-a4d9-888b94ba01c4        raw         6275   \n6276   9fb29db5-3b10-4add-b15c-2fa513e303dc        raw         6276   \n6277   80b614e4-5702-4199-a185-07f94f689492        raw         6277   \n6278   38c0a788-2200-4a5a-83b9-0453aaef1748        raw         6278   \n6279   c2daea87-2f32-4ec9-96c8-888bf6d3e03c        raw         6279   \n11091  7de17d66-9c1c-4ad8-88cb-33345fe23785        raw        11091   \n11092  7a723d01-ac10-40a7-ab25-8023d0c62664        raw        11092   \n11093  838d02ed-7c72-444b-bb14-a4426c9f41b9        raw        11093   \n11094  ee87b953-5611-4903-90f8-061324467ed1        end        11094   \n\n      event_name            event_timestamp      user_id  \n0          start 2019-11-01 17:59:13.273932  219483890.0  \n1       new_user 2019-11-01 17:59:13.273932  219483890.0  \n2        catalog 2019-11-01 17:59:13.273932  219483890.0  \n3       product1 2019-11-01 17:59:28.459271  219483890.0  \n4           cart 2019-11-01 17:59:29.502214  219483890.0  \n5        catalog 2019-11-01 17:59:32.557029  219483890.0  \n3023        main 2019-12-06 16:22:57.484842  219483890.0  \n3024     catalog 2019-12-06 16:23:01.331109  219483890.0  \n3025     catalog 2019-12-06 16:23:48.116617  219483890.0  \n6273        main 2020-01-06 22:10:13.635011  219483890.0  \n6274     catalog 2020-01-06 22:10:15.228575  219483890.0  \n6275        cart 2020-01-06 22:10:42.309028  219483890.0  \n6276     catalog 2020-01-06 22:10:52.255859  219483890.0  \n6277    product1 2020-01-06 22:11:01.709800  219483890.0  \n6278     catalog 2020-01-06 22:11:02.899490  219483890.0  \n6279     catalog 2020-01-06 22:11:28.271366  219483890.0  \n11091       main 2020-02-14 21:04:49.450696  219483890.0  \n11092    catalog 2020-02-14 21:04:51.717127  219483890.0  \n11093       lost 2020-02-14 21:04:52.717127  219483890.0  \n11094        end 2020-02-14 21:04:52.717127  219483890.0  ",
      "text/html": "<div>\n<style scoped>\n    .dataframe tbody tr th:only-of-type {\n        vertical-align: middle;\n    }\n\n    .dataframe tbody tr th {\n        vertical-align: top;\n    }\n\n    .dataframe thead th {\n        text-align: right;\n    }\n</style>\n<table border=\"1\" class=\"dataframe\">\n  <thead>\n    <tr style=\"text-align: right;\">\n      <th></th>\n      <th>event_id</th>\n      <th>event_type</th>\n      <th>event_index</th>\n      <th>event_name</th>\n      <th>event_timestamp</th>\n      <th>user_id</th>\n    </tr>\n  </thead>\n  <tbody>\n    <tr>\n      <th>0</th>\n      <td>6df4f244-c84c-405f-80a2-be677284d884</td>\n      <td>start</td>\n      <td>0</td>\n      <td>start</td>\n      <td>2019-11-01 17:59:13.273932</td>\n      <td>219483890.0</td>\n    </tr>\n    <tr>\n      <th>1</th>\n      <td>4048d289-e71a-4415-9cf7-13fbee40da48</td>\n      <td>new_user</td>\n      <td>1</td>\n      <td>new_user</td>\n      <td>2019-11-01 17:59:13.273932</td>\n      <td>219483890.0</td>\n    </tr>\n    <tr>\n      <th>2</th>\n      <td>30da1d31-8f65-4bf1-86c9-aaa1a47e8a71</td>\n      <td>raw</td>\n      <td>2</td>\n      <td>catalog</td>\n      <td>2019-11-01 17:59:13.273932</td>\n      <td>219483890.0</td>\n    </tr>\n    <tr>\n      <th>3</th>\n      <td>6f2c3bf9-69db-4ffb-81ba-1b051271c3c9</td>\n      <td>raw</td>\n      <td>3</td>\n      <td>product1</td>\n      <td>2019-11-01 17:59:28.459271</td>\n      <td>219483890.0</td>\n    </tr>\n    <tr>\n      <th>4</th>\n      <td>349c1446-7269-45ab-9244-684fc1964aca</td>\n      <td>raw</td>\n      <td>4</td>\n      <td>cart</td>\n      <td>2019-11-01 17:59:29.502214</td>\n      <td>219483890.0</td>\n    </tr>\n    <tr>\n      <th>5</th>\n      <td>1ffa7501-52c2-46de-bdd2-41ad74e1c82d</td>\n      <td>raw</td>\n      <td>5</td>\n      <td>catalog</td>\n      <td>2019-11-01 17:59:32.557029</td>\n      <td>219483890.0</td>\n    </tr>\n    <tr>\n      <th>3023</th>\n      <td>ffded02c-06f9-4ea3-9b70-56a0da773386</td>\n      <td>raw</td>\n      <td>3023</td>\n      <td>main</td>\n      <td>2019-12-06 16:22:57.484842</td>\n      <td>219483890.0</td>\n    </tr>\n    <tr>\n      <th>3024</th>\n      <td>637903fe-65bf-44fc-889c-85d762779ed8</td>\n      <td>raw</td>\n      <td>3024</td>\n      <td>catalog</td>\n      <td>2019-12-06 16:23:01.331109</td>\n      <td>219483890.0</td>\n    </tr>\n    <tr>\n      <th>3025</th>\n      <td>0d68bc03-1973-4da4-98ed-6b2e8dc6e7cc</td>\n      <td>raw</td>\n      <td>3025</td>\n      <td>catalog</td>\n      <td>2019-12-06 16:23:48.116617</td>\n      <td>219483890.0</td>\n    </tr>\n    <tr>\n      <th>6273</th>\n      <td>2c0113a6-b8ca-4642-9f35-db788b230514</td>\n      <td>raw</td>\n      <td>6273</td>\n      <td>main</td>\n      <td>2020-01-06 22:10:13.635011</td>\n      <td>219483890.0</td>\n    </tr>\n    <tr>\n      <th>6274</th>\n      <td>50bed9be-5a02-40d0-ae5f-608d24f429ff</td>\n      <td>raw</td>\n      <td>6274</td>\n      <td>catalog</td>\n      <td>2020-01-06 22:10:15.228575</td>\n      <td>219483890.0</td>\n    </tr>\n    <tr>\n      <th>6275</th>\n      <td>172510a1-d8ca-4c5b-a4d9-888b94ba01c4</td>\n      <td>raw</td>\n      <td>6275</td>\n      <td>cart</td>\n      <td>2020-01-06 22:10:42.309028</td>\n      <td>219483890.0</td>\n    </tr>\n    <tr>\n      <th>6276</th>\n      <td>9fb29db5-3b10-4add-b15c-2fa513e303dc</td>\n      <td>raw</td>\n      <td>6276</td>\n      <td>catalog</td>\n      <td>2020-01-06 22:10:52.255859</td>\n      <td>219483890.0</td>\n    </tr>\n    <tr>\n      <th>6277</th>\n      <td>80b614e4-5702-4199-a185-07f94f689492</td>\n      <td>raw</td>\n      <td>6277</td>\n      <td>product1</td>\n      <td>2020-01-06 22:11:01.709800</td>\n      <td>219483890.0</td>\n    </tr>\n    <tr>\n      <th>6278</th>\n      <td>38c0a788-2200-4a5a-83b9-0453aaef1748</td>\n      <td>raw</td>\n      <td>6278</td>\n      <td>catalog</td>\n      <td>2020-01-06 22:11:02.899490</td>\n      <td>219483890.0</td>\n    </tr>\n    <tr>\n      <th>6279</th>\n      <td>c2daea87-2f32-4ec9-96c8-888bf6d3e03c</td>\n      <td>raw</td>\n      <td>6279</td>\n      <td>catalog</td>\n      <td>2020-01-06 22:11:28.271366</td>\n      <td>219483890.0</td>\n    </tr>\n    <tr>\n      <th>11091</th>\n      <td>7de17d66-9c1c-4ad8-88cb-33345fe23785</td>\n      <td>raw</td>\n      <td>11091</td>\n      <td>main</td>\n      <td>2020-02-14 21:04:49.450696</td>\n      <td>219483890.0</td>\n    </tr>\n    <tr>\n      <th>11092</th>\n      <td>7a723d01-ac10-40a7-ab25-8023d0c62664</td>\n      <td>raw</td>\n      <td>11092</td>\n      <td>catalog</td>\n      <td>2020-02-14 21:04:51.717127</td>\n      <td>219483890.0</td>\n    </tr>\n    <tr>\n      <th>11093</th>\n      <td>838d02ed-7c72-444b-bb14-a4426c9f41b9</td>\n      <td>raw</td>\n      <td>11093</td>\n      <td>lost</td>\n      <td>2020-02-14 21:04:52.717127</td>\n      <td>219483890.0</td>\n    </tr>\n    <tr>\n      <th>11094</th>\n      <td>ee87b953-5611-4903-90f8-061324467ed1</td>\n      <td>end</td>\n      <td>11094</td>\n      <td>end</td>\n      <td>2020-02-14 21:04:52.717127</td>\n      <td>219483890.0</td>\n    </tr>\n  </tbody>\n</table>\n</div>"
     },
     "execution_count": 40,
     "metadata": {},
     "output_type": "execute_result"
    }
   ],
   "source": [
    "print(len(df2[df2['user_id'] == 219483890]))\n",
    "df2[df2['user_id'] == 219483890].sort_values('event_timestamp')"
   ],
   "metadata": {
    "collapsed": false,
    "pycharm": {
     "name": "#%%\n"
    }
   }
  },
  {
   "cell_type": "code",
   "execution_count": 41,
   "outputs": [
    {
     "data": {
      "text/plain": "[<src.graph.p_graph.EventsNode at 0x137f97580>]"
     },
     "execution_count": 41,
     "metadata": {},
     "output_type": "execute_result"
    }
   ],
   "source": [
    "graph.get_parents(new_resume_events1)"
   ],
   "metadata": {
    "collapsed": false,
    "pycharm": {
     "name": "#%%\n"
    }
   }
  },
  {
   "cell_type": "code",
   "execution_count": 41,
   "outputs": [],
   "source": [],
   "metadata": {
    "collapsed": false,
    "pycharm": {
     "name": "#%%\n"
    }
   }
  },
  {
   "cell_type": "markdown",
   "source": [
    "### Результат"
   ],
   "metadata": {
    "collapsed": false,
    "pycharm": {
     "name": "#%% md\n"
    }
   }
  },
  {
   "cell_type": "markdown",
   "source": [
    "1) [DONE] Обсуждали, что можно задать вот так тип new_users_list: List[int] | str\n",
    "у меня это не сработало\n",
    "В итоге поправила - new_users_list: Union[str, List[int]]\n",
    "2) [TODO] Можно ли как-то проставить конкретное значение \"all\"?\n",
    "Пока добавила отбивку\n",
    "3) [DONE] Дубликаты\n",
    "    - Задвоились все raw события, кроме первого,\n",
    "    - Первое событие удалилось по аналогии со start_end_events, проверила по id\n",
    "    -new_user и resume проставился правильно c правильным timestamp\n",
    "4) [TODO_analytics]\n",
    "При задании new_resume_events, должна быть возможность задать параметр \"all\" - чтобы всем проставить new_user - нужен он такой? нужен ли такой для resume?"
   ],
   "metadata": {
    "collapsed": false,
    "pycharm": {
     "name": "#%% md\n"
    }
   }
  },
  {
   "cell_type": "markdown",
   "source": [
    "## LostPause"
   ],
   "metadata": {
    "collapsed": false,
    "pycharm": {
     "name": "#%% md\n"
    }
   }
  },
  {
   "cell_type": "markdown",
   "source": [
    "### Описание работы функции"
   ],
   "metadata": {
    "collapsed": false,
    "pycharm": {
     "name": "#%% md\n"
    }
   }
  },
  {
   "cell_type": "markdown",
   "source": [
    "Добавлять события lost/pause можно двумя способами:\n",
    "\n",
    "1) В параметр ```lost_users_list = []``` передать список пользователей, которые ушли из продукта, для них добавятся события:\n",
    "```event_type = lost, event = lost, timestamp = timestamp(last_raw_event)```\n",
    "При этом для всех остальных, добавятся события:\n",
    "```event_type = pause, event = pause, timestamp = timestamp(last_raw_event)```\n",
    "\n",
    "<br>\n",
    "\n",
    "2) Или можно задать отсечку с помощью параметра ```lost_cutoff = [Tuple[float, str]]```\n",
    "И тогда всем юзерам, у которых время между последним событием в его траектории и окончанием всего датасета - больше заданной отсечки, мы проставляем:\n",
    "```event_type = lost, event = lost, timestamp = timestamp(last_raw_event)```\n",
    "При этом для всех остальных, добавятся события:\n",
    "```event_type = pause, event = pause, timestamp = timestamp(last_raw_event)```"
   ],
   "metadata": {
    "collapsed": false,
    "pycharm": {
     "name": "#%% md\n"
    }
   }
  },
  {
   "cell_type": "markdown",
   "source": [
    "### list"
   ],
   "metadata": {
    "collapsed": false,
    "pycharm": {
     "name": "#%% md\n"
    }
   }
  },
  {
   "cell_type": "code",
   "execution_count": 42,
   "outputs": [],
   "source": [
    "from src.data_processors_lib.rete import LostPauseEvents, LostPauseParams\n",
    "\n",
    "lost_users_list_ = [964964743]\n",
    "\n",
    "lost_pause_events = EventsNode(\n",
    "    LostPauseEvents(params=LostPauseParams(lost_users_list=lost_users_list_)))\n",
    "\n",
    "graph.add_node(\n",
    "    node=lost_pause_events,\n",
    "    parents=[graph.root]\n",
    ")\n",
    "\n",
    "\n",
    "result = graph.combine(\n",
    "    node=lost_pause_events\n",
    ")"
   ],
   "metadata": {
    "collapsed": false,
    "pycharm": {
     "name": "#%%\n"
    }
   }
  },
  {
   "cell_type": "code",
   "execution_count": 43,
   "outputs": [
    {
     "name": "stdout",
     "output_type": "stream",
     "text": [
      "0\n",
      "0\n"
     ]
    }
   ],
   "source": [
    "df3 = result.to_dataframe()\n",
    "print(source_df.duplicated(['event_name', 'event_timestamp', 'user_id']).sum())\n",
    "print(df3.duplicated().sum())"
   ],
   "metadata": {
    "collapsed": false,
    "pycharm": {
     "name": "#%%\n"
    }
   }
  },
  {
   "cell_type": "code",
   "execution_count": 44,
   "outputs": [
    {
     "name": "stdout",
     "output_type": "stream",
     "text": [
      "14\n"
     ]
    },
    {
     "data": {
      "text/plain": "                                  event_id event_type  event_index  \\\n4     15adbed9-861d-44b7-9ed9-ee039b82774c        raw            4   \n5     502b9da4-9fb2-49c0-a26b-b8fce7a4a7d4        raw            5   \n6     b69c702b-2856-45c8-aa60-013eb6743217        raw            6   \n2618  2fe1838a-4876-418b-bd15-9ed67896529f        raw         2618   \n2619  df188c43-ff63-4113-95f4-6ba2d9bfc03c        raw         2619   \n2620  45fb4377-11f4-4eb3-b71b-8c42e3eac81b        raw         2620   \n2621  33554711-cd56-4af8-b242-53b521232a63        raw         2621   \n2622  60fe9b0e-03ac-487b-8b4a-e7566ca93187        raw         2622   \n2623  b4609a5f-7662-4048-98fa-b03191a30d64        raw         2623   \n2624  e50da712-8b2a-464a-b5e7-9ef59834c43b        raw         2624   \n2625  496c384d-3cee-4aff-aab4-2e8d58d4e01c        raw         2625   \n2626  cf4e8d54-dcb3-48de-998a-ac8002d2c104        raw         2626   \n2627  2ff9dcd0-30c0-4e84-bb8b-e0040d245e2d        raw         2627   \n2628  58528084-12f3-4763-be83-128b3c865e52       lost         2628   \n\n           event_name            event_timestamp      user_id  \n4             catalog 2019-11-01 21:38:19.283663  964964743.0  \n5                cart 2019-11-01 21:38:36.761221  964964743.0  \n6     delivery_choice 2019-11-01 21:38:37.564693  964964743.0  \n2618             main 2019-12-09 01:42:22.801831  964964743.0  \n2619          catalog 2019-12-09 01:42:23.617764  964964743.0  \n2620         product2 2019-12-09 01:42:56.877340  964964743.0  \n2621          catalog 2019-12-09 01:43:05.436223  964964743.0  \n2622          catalog 2019-12-09 01:43:36.923178  964964743.0  \n2623         product2 2019-12-09 01:43:41.174195  964964743.0  \n2624             cart 2019-12-09 01:43:57.325569  964964743.0  \n2625  delivery_choice 2019-12-09 01:43:57.486518  964964743.0  \n2626  delivery_pickup 2019-12-09 01:43:57.766850  964964743.0  \n2627             lost 2019-12-09 01:43:58.766850  964964743.0  \n2628             lost 2019-12-09 01:43:58.766850  964964743.0  ",
      "text/html": "<div>\n<style scoped>\n    .dataframe tbody tr th:only-of-type {\n        vertical-align: middle;\n    }\n\n    .dataframe tbody tr th {\n        vertical-align: top;\n    }\n\n    .dataframe thead th {\n        text-align: right;\n    }\n</style>\n<table border=\"1\" class=\"dataframe\">\n  <thead>\n    <tr style=\"text-align: right;\">\n      <th></th>\n      <th>event_id</th>\n      <th>event_type</th>\n      <th>event_index</th>\n      <th>event_name</th>\n      <th>event_timestamp</th>\n      <th>user_id</th>\n    </tr>\n  </thead>\n  <tbody>\n    <tr>\n      <th>4</th>\n      <td>15adbed9-861d-44b7-9ed9-ee039b82774c</td>\n      <td>raw</td>\n      <td>4</td>\n      <td>catalog</td>\n      <td>2019-11-01 21:38:19.283663</td>\n      <td>964964743.0</td>\n    </tr>\n    <tr>\n      <th>5</th>\n      <td>502b9da4-9fb2-49c0-a26b-b8fce7a4a7d4</td>\n      <td>raw</td>\n      <td>5</td>\n      <td>cart</td>\n      <td>2019-11-01 21:38:36.761221</td>\n      <td>964964743.0</td>\n    </tr>\n    <tr>\n      <th>6</th>\n      <td>b69c702b-2856-45c8-aa60-013eb6743217</td>\n      <td>raw</td>\n      <td>6</td>\n      <td>delivery_choice</td>\n      <td>2019-11-01 21:38:37.564693</td>\n      <td>964964743.0</td>\n    </tr>\n    <tr>\n      <th>2618</th>\n      <td>2fe1838a-4876-418b-bd15-9ed67896529f</td>\n      <td>raw</td>\n      <td>2618</td>\n      <td>main</td>\n      <td>2019-12-09 01:42:22.801831</td>\n      <td>964964743.0</td>\n    </tr>\n    <tr>\n      <th>2619</th>\n      <td>df188c43-ff63-4113-95f4-6ba2d9bfc03c</td>\n      <td>raw</td>\n      <td>2619</td>\n      <td>catalog</td>\n      <td>2019-12-09 01:42:23.617764</td>\n      <td>964964743.0</td>\n    </tr>\n    <tr>\n      <th>2620</th>\n      <td>45fb4377-11f4-4eb3-b71b-8c42e3eac81b</td>\n      <td>raw</td>\n      <td>2620</td>\n      <td>product2</td>\n      <td>2019-12-09 01:42:56.877340</td>\n      <td>964964743.0</td>\n    </tr>\n    <tr>\n      <th>2621</th>\n      <td>33554711-cd56-4af8-b242-53b521232a63</td>\n      <td>raw</td>\n      <td>2621</td>\n      <td>catalog</td>\n      <td>2019-12-09 01:43:05.436223</td>\n      <td>964964743.0</td>\n    </tr>\n    <tr>\n      <th>2622</th>\n      <td>60fe9b0e-03ac-487b-8b4a-e7566ca93187</td>\n      <td>raw</td>\n      <td>2622</td>\n      <td>catalog</td>\n      <td>2019-12-09 01:43:36.923178</td>\n      <td>964964743.0</td>\n    </tr>\n    <tr>\n      <th>2623</th>\n      <td>b4609a5f-7662-4048-98fa-b03191a30d64</td>\n      <td>raw</td>\n      <td>2623</td>\n      <td>product2</td>\n      <td>2019-12-09 01:43:41.174195</td>\n      <td>964964743.0</td>\n    </tr>\n    <tr>\n      <th>2624</th>\n      <td>e50da712-8b2a-464a-b5e7-9ef59834c43b</td>\n      <td>raw</td>\n      <td>2624</td>\n      <td>cart</td>\n      <td>2019-12-09 01:43:57.325569</td>\n      <td>964964743.0</td>\n    </tr>\n    <tr>\n      <th>2625</th>\n      <td>496c384d-3cee-4aff-aab4-2e8d58d4e01c</td>\n      <td>raw</td>\n      <td>2625</td>\n      <td>delivery_choice</td>\n      <td>2019-12-09 01:43:57.486518</td>\n      <td>964964743.0</td>\n    </tr>\n    <tr>\n      <th>2626</th>\n      <td>cf4e8d54-dcb3-48de-998a-ac8002d2c104</td>\n      <td>raw</td>\n      <td>2626</td>\n      <td>delivery_pickup</td>\n      <td>2019-12-09 01:43:57.766850</td>\n      <td>964964743.0</td>\n    </tr>\n    <tr>\n      <th>2627</th>\n      <td>2ff9dcd0-30c0-4e84-bb8b-e0040d245e2d</td>\n      <td>raw</td>\n      <td>2627</td>\n      <td>lost</td>\n      <td>2019-12-09 01:43:58.766850</td>\n      <td>964964743.0</td>\n    </tr>\n    <tr>\n      <th>2628</th>\n      <td>58528084-12f3-4763-be83-128b3c865e52</td>\n      <td>lost</td>\n      <td>2628</td>\n      <td>lost</td>\n      <td>2019-12-09 01:43:58.766850</td>\n      <td>964964743.0</td>\n    </tr>\n  </tbody>\n</table>\n</div>"
     },
     "execution_count": 44,
     "metadata": {},
     "output_type": "execute_result"
    }
   ],
   "source": [
    "print(len(df3[df3['user_id'] == 964964743]))\n",
    "df3[df3['user_id'] == 964964743]"
   ],
   "metadata": {
    "collapsed": false,
    "pycharm": {
     "name": "#%%\n"
    }
   }
  },
  {
   "cell_type": "code",
   "execution_count": 45,
   "outputs": [
    {
     "name": "stdout",
     "output_type": "stream",
     "text": [
      "13\n"
     ]
    },
    {
     "data": {
      "text/plain": "                                  event_id event_type  event_index  \\\n4     15adbed9-861d-44b7-9ed9-ee039b82774c        raw            4   \n5     502b9da4-9fb2-49c0-a26b-b8fce7a4a7d4        raw            5   \n6     b69c702b-2856-45c8-aa60-013eb6743217        raw            6   \n2439  2fe1838a-4876-418b-bd15-9ed67896529f        raw         2439   \n2440  df188c43-ff63-4113-95f4-6ba2d9bfc03c        raw         2440   \n2441  45fb4377-11f4-4eb3-b71b-8c42e3eac81b        raw         2441   \n2442  33554711-cd56-4af8-b242-53b521232a63        raw         2442   \n2443  60fe9b0e-03ac-487b-8b4a-e7566ca93187        raw         2443   \n2444  b4609a5f-7662-4048-98fa-b03191a30d64        raw         2444   \n2445  e50da712-8b2a-464a-b5e7-9ef59834c43b        raw         2445   \n2446  496c384d-3cee-4aff-aab4-2e8d58d4e01c        raw         2446   \n2447  cf4e8d54-dcb3-48de-998a-ac8002d2c104        raw         2447   \n2448  2ff9dcd0-30c0-4e84-bb8b-e0040d245e2d        raw         2448   \n\n           event_name            event_timestamp    user_id  \n4             catalog 2019-11-01 21:38:19.283663  964964743  \n5                cart 2019-11-01 21:38:36.761221  964964743  \n6     delivery_choice 2019-11-01 21:38:37.564693  964964743  \n2439             main 2019-12-09 01:42:22.801831  964964743  \n2440          catalog 2019-12-09 01:42:23.617764  964964743  \n2441         product2 2019-12-09 01:42:56.877340  964964743  \n2442          catalog 2019-12-09 01:43:05.436223  964964743  \n2443          catalog 2019-12-09 01:43:36.923178  964964743  \n2444         product2 2019-12-09 01:43:41.174195  964964743  \n2445             cart 2019-12-09 01:43:57.325569  964964743  \n2446  delivery_choice 2019-12-09 01:43:57.486518  964964743  \n2447  delivery_pickup 2019-12-09 01:43:57.766850  964964743  \n2448             lost 2019-12-09 01:43:58.766850  964964743  ",
      "text/html": "<div>\n<style scoped>\n    .dataframe tbody tr th:only-of-type {\n        vertical-align: middle;\n    }\n\n    .dataframe tbody tr th {\n        vertical-align: top;\n    }\n\n    .dataframe thead th {\n        text-align: right;\n    }\n</style>\n<table border=\"1\" class=\"dataframe\">\n  <thead>\n    <tr style=\"text-align: right;\">\n      <th></th>\n      <th>event_id</th>\n      <th>event_type</th>\n      <th>event_index</th>\n      <th>event_name</th>\n      <th>event_timestamp</th>\n      <th>user_id</th>\n    </tr>\n  </thead>\n  <tbody>\n    <tr>\n      <th>4</th>\n      <td>15adbed9-861d-44b7-9ed9-ee039b82774c</td>\n      <td>raw</td>\n      <td>4</td>\n      <td>catalog</td>\n      <td>2019-11-01 21:38:19.283663</td>\n      <td>964964743</td>\n    </tr>\n    <tr>\n      <th>5</th>\n      <td>502b9da4-9fb2-49c0-a26b-b8fce7a4a7d4</td>\n      <td>raw</td>\n      <td>5</td>\n      <td>cart</td>\n      <td>2019-11-01 21:38:36.761221</td>\n      <td>964964743</td>\n    </tr>\n    <tr>\n      <th>6</th>\n      <td>b69c702b-2856-45c8-aa60-013eb6743217</td>\n      <td>raw</td>\n      <td>6</td>\n      <td>delivery_choice</td>\n      <td>2019-11-01 21:38:37.564693</td>\n      <td>964964743</td>\n    </tr>\n    <tr>\n      <th>2439</th>\n      <td>2fe1838a-4876-418b-bd15-9ed67896529f</td>\n      <td>raw</td>\n      <td>2439</td>\n      <td>main</td>\n      <td>2019-12-09 01:42:22.801831</td>\n      <td>964964743</td>\n    </tr>\n    <tr>\n      <th>2440</th>\n      <td>df188c43-ff63-4113-95f4-6ba2d9bfc03c</td>\n      <td>raw</td>\n      <td>2440</td>\n      <td>catalog</td>\n      <td>2019-12-09 01:42:23.617764</td>\n      <td>964964743</td>\n    </tr>\n    <tr>\n      <th>2441</th>\n      <td>45fb4377-11f4-4eb3-b71b-8c42e3eac81b</td>\n      <td>raw</td>\n      <td>2441</td>\n      <td>product2</td>\n      <td>2019-12-09 01:42:56.877340</td>\n      <td>964964743</td>\n    </tr>\n    <tr>\n      <th>2442</th>\n      <td>33554711-cd56-4af8-b242-53b521232a63</td>\n      <td>raw</td>\n      <td>2442</td>\n      <td>catalog</td>\n      <td>2019-12-09 01:43:05.436223</td>\n      <td>964964743</td>\n    </tr>\n    <tr>\n      <th>2443</th>\n      <td>60fe9b0e-03ac-487b-8b4a-e7566ca93187</td>\n      <td>raw</td>\n      <td>2443</td>\n      <td>catalog</td>\n      <td>2019-12-09 01:43:36.923178</td>\n      <td>964964743</td>\n    </tr>\n    <tr>\n      <th>2444</th>\n      <td>b4609a5f-7662-4048-98fa-b03191a30d64</td>\n      <td>raw</td>\n      <td>2444</td>\n      <td>product2</td>\n      <td>2019-12-09 01:43:41.174195</td>\n      <td>964964743</td>\n    </tr>\n    <tr>\n      <th>2445</th>\n      <td>e50da712-8b2a-464a-b5e7-9ef59834c43b</td>\n      <td>raw</td>\n      <td>2445</td>\n      <td>cart</td>\n      <td>2019-12-09 01:43:57.325569</td>\n      <td>964964743</td>\n    </tr>\n    <tr>\n      <th>2446</th>\n      <td>496c384d-3cee-4aff-aab4-2e8d58d4e01c</td>\n      <td>raw</td>\n      <td>2446</td>\n      <td>delivery_choice</td>\n      <td>2019-12-09 01:43:57.486518</td>\n      <td>964964743</td>\n    </tr>\n    <tr>\n      <th>2447</th>\n      <td>cf4e8d54-dcb3-48de-998a-ac8002d2c104</td>\n      <td>raw</td>\n      <td>2447</td>\n      <td>delivery_pickup</td>\n      <td>2019-12-09 01:43:57.766850</td>\n      <td>964964743</td>\n    </tr>\n    <tr>\n      <th>2448</th>\n      <td>2ff9dcd0-30c0-4e84-bb8b-e0040d245e2d</td>\n      <td>raw</td>\n      <td>2448</td>\n      <td>lost</td>\n      <td>2019-12-09 01:43:58.766850</td>\n      <td>964964743</td>\n    </tr>\n  </tbody>\n</table>\n</div>"
     },
     "execution_count": 45,
     "metadata": {},
     "output_type": "execute_result"
    }
   ],
   "source": [
    "print(len(source_df[source_df['user_id'] == 964964743]))\n",
    "source_df[source_df['user_id'] == 964964743]"
   ],
   "metadata": {
    "collapsed": false,
    "pycharm": {
     "name": "#%%\n"
    }
   }
  },
  {
   "cell_type": "code",
   "execution_count": 46,
   "outputs": [
    {
     "name": "stdout",
     "output_type": "stream",
     "text": [
      "48\n",
      "49\n"
     ]
    },
    {
     "data": {
      "text/plain": "                                   event_id event_type  event_index  \\\n7      7a389bd2-7b5c-4cf0-b365-70142206e0e4        raw            7   \n9      455e891e-10df-4944-914a-7a297ce2ca92        raw            9   \n11     dc5cde8f-1a46-452a-ba0b-2cbd2fbde31d        raw           11   \n13     44be1b16-584b-42a0-b403-6d7b0b723589        raw           13   \n14     a2580166-2c15-4369-ad25-1cb60f254d17        raw           14   \n15     51cbfd8d-5226-4926-8033-6c3e18c3d342        raw           15   \n16     7360850e-da7e-40f1-8c2a-d08d964559ba        raw           16   \n17     edcf275b-2fca-4a42-81fb-3c7050f7aaa7        raw           17   \n18     1d29c4bf-90f3-4497-bd4f-2a75ac532258        raw           18   \n19     586f4b40-268b-4835-a63e-a947e26d3847        raw           19   \n20     39a65d24-17d1-482c-908e-3d9b11cf5d51        raw           20   \n21     8ccab9d0-f768-479a-8379-1abb5a26d412        raw           21   \n22     68448bb0-8a99-4e60-bb4b-c8ccc621fbe9        raw           22   \n23     99219a78-a28b-4337-9162-50c62fd60d3a        raw           23   \n24     b5642490-32b7-421b-9d87-11c25f689e92        raw           24   \n25     5e25b9df-c033-4d33-b683-36d2e1418921        raw           25   \n27     48c0bd0d-a51d-4f5b-95f2-3d3ea3d41d65        raw           27   \n29     d163087a-86e2-4582-87b2-937b08b19750        raw           29   \n31     f190503c-49ea-4f1e-a942-afc7ae7a1932        raw           31   \n33     deb386c9-272e-4fa4-9290-7323bdd87301        raw           33   \n36     66e50d9d-396d-4e1e-8114-1b6b839054b6        raw           36   \n38     75883115-b1ab-4d54-bde4-eff16b79c7df        raw           38   \n39     68461009-edaf-429b-928f-20feec66e30d        raw           39   \n42     a5c770f9-af16-43a0-9d7c-c503c6518c80        raw           42   \n44     b0c1c171-8158-41ff-ba8f-b79c9e4f5f4a        raw           44   \n45     46b2fd2d-5ab2-4843-ae58-30b538369bb5        raw           45   \n365    624d7f0c-f8d8-4624-bfa7-27cc1f601247        raw          365   \n367    a0359799-cd9a-4058-933f-c812ef8b77db        raw          367   \n370    51483b62-05a2-4c24-aa33-80557562151c        raw          370   \n1436   3749eebe-4e88-4674-809d-eb7c1d99742b        raw         1436   \n1437   9b85cdbd-3f0a-4ab7-9f9d-1c2de77fb518        raw         1437   \n1438   7b0d3a5b-fa68-4cc8-8fb8-707954eb026a        raw         1438   \n6720   023282c5-4848-4986-bba0-0a2797537df2        raw         6720   \n6721   c1482d19-9c06-4840-a6a3-f55933237bbf        raw         6721   \n11405  5293da84-b29c-4329-b9a1-50ebb14d7e2f        raw        11405   \n11406  5ea2a796-409b-4818-8ac2-66e2af58e00b        raw        11406   \n11407  0eefad2b-4161-41ea-a330-f107939bebce        raw        11407   \n12268  40bed4a9-ad36-429a-a9bc-078e578bef8c        raw        12268   \n12269  1fe940b3-a3c4-4001-9908-667fbe220fb2        raw        12269   \n15010  c28a513d-1fc3-415c-bbb2-e32d5e16d162        raw        15010   \n15011  73cfb7e5-b284-4e6a-91d9-ad5780e4ffab        raw        15011   \n15688  343f89ce-e6d7-46e7-9c6b-46f2cbcb695e        raw        15688   \n15715  90248bab-19bf-41d8-b969-8393e56b5b04        raw        15715   \n15716  545b8093-39f9-4d35-9945-79a6ec35b6fa        raw        15716   \n15717  38b7f0d2-0eee-404c-980a-f46705c9c33d        raw        15717   \n15718  9c61945b-559e-4338-ab34-2fdf0213ee15        raw        15718   \n15719  d6fd28f5-fabf-4481-b4bf-b8b945043777        raw        15719   \n15720  09f9a2be-14bd-4322-8193-41f74957ceaa        raw        15720   \n15721  401ddad5-a7f6-46c8-9820-09efc817773a      pause        15721   \n\n             event_name            event_timestamp      user_id  \n7                  main 2019-11-01 22:28:54.791683  629881394.0  \n9               catalog 2019-11-01 22:29:01.049513  629881394.0  \n11              catalog 2019-11-01 22:29:32.322458  629881394.0  \n13              catalog 2019-11-01 22:30:09.450839  629881394.0  \n14              catalog 2019-11-01 22:31:05.565762  629881394.0  \n15                 main 2019-11-01 22:31:08.333560  629881394.0  \n16              catalog 2019-11-01 22:31:09.010626  629881394.0  \n17             product1 2019-11-01 22:31:10.416231  629881394.0  \n18              catalog 2019-11-01 22:31:43.019527  629881394.0  \n19              catalog 2019-11-01 22:32:01.596163  629881394.0  \n20             product1 2019-11-01 22:32:07.348536  629881394.0  \n21              catalog 2019-11-01 22:32:10.165568  629881394.0  \n22             product2 2019-11-01 22:32:16.496241  629881394.0  \n23              catalog 2019-11-01 22:33:17.682468  629881394.0  \n24             product1 2019-11-01 22:33:19.961115  629881394.0  \n25              catalog 2019-11-01 22:33:35.460345  629881394.0  \n27              catalog 2019-11-01 22:34:02.301293  629881394.0  \n29             product2 2019-11-01 22:34:32.362386  629881394.0  \n31              catalog 2019-11-01 22:35:01.462515  629881394.0  \n33             product2 2019-11-01 22:35:33.142711  629881394.0  \n36                 cart 2019-11-01 22:35:50.437706  629881394.0  \n38      delivery_choice 2019-11-01 22:35:57.649549  629881394.0  \n39     delivery_courier 2019-11-01 22:36:02.009271  629881394.0  \n42       payment_choice 2019-11-01 22:36:02.243274  629881394.0  \n44         payment_cash 2019-11-01 22:36:03.415201  629881394.0  \n45         payment_done 2019-11-01 22:36:03.999697  629881394.0  \n365                main 2019-11-07 12:40:46.004674  629881394.0  \n367             catalog 2019-11-07 12:40:55.724185  629881394.0  \n370                cart 2019-11-07 12:41:04.107187  629881394.0  \n1436               main 2019-11-25 23:16:56.317624  629881394.0  \n1437            catalog 2019-11-25 23:17:16.266242  629881394.0  \n1438            catalog 2019-11-25 23:17:48.747304  629881394.0  \n6720               main 2020-01-23 18:56:23.445236  629881394.0  \n6721            catalog 2020-01-23 18:56:30.461624  629881394.0  \n11405              main 2020-03-01 23:23:43.392597  629881394.0  \n11406           catalog 2020-03-01 23:23:44.755693  629881394.0  \n11407              main 2020-03-01 23:23:51.625991  629881394.0  \n12268              main 2020-03-07 12:05:23.938242  629881394.0  \n12269           catalog 2020-03-07 12:05:32.476046  629881394.0  \n15010              main 2020-03-26 13:00:47.844886  629881394.0  \n15011           catalog 2020-03-26 13:00:49.531644  629881394.0  \n15688              main 2020-03-30 00:11:47.920536  629881394.0  \n15715              main 2020-03-30 03:17:46.909845  629881394.0  \n15716           catalog 2020-03-30 03:17:49.918774  629881394.0  \n15717           catalog 2020-03-30 03:18:17.835191  629881394.0  \n15718           catalog 2020-03-30 03:18:53.715887  629881394.0  \n15719           catalog 2020-03-30 03:19:36.034262  629881394.0  \n15720           catalog 2020-03-30 03:19:59.515094  629881394.0  \n15721             pause 2020-03-30 03:19:59.515094  629881394.0  ",
      "text/html": "<div>\n<style scoped>\n    .dataframe tbody tr th:only-of-type {\n        vertical-align: middle;\n    }\n\n    .dataframe tbody tr th {\n        vertical-align: top;\n    }\n\n    .dataframe thead th {\n        text-align: right;\n    }\n</style>\n<table border=\"1\" class=\"dataframe\">\n  <thead>\n    <tr style=\"text-align: right;\">\n      <th></th>\n      <th>event_id</th>\n      <th>event_type</th>\n      <th>event_index</th>\n      <th>event_name</th>\n      <th>event_timestamp</th>\n      <th>user_id</th>\n    </tr>\n  </thead>\n  <tbody>\n    <tr>\n      <th>7</th>\n      <td>7a389bd2-7b5c-4cf0-b365-70142206e0e4</td>\n      <td>raw</td>\n      <td>7</td>\n      <td>main</td>\n      <td>2019-11-01 22:28:54.791683</td>\n      <td>629881394.0</td>\n    </tr>\n    <tr>\n      <th>9</th>\n      <td>455e891e-10df-4944-914a-7a297ce2ca92</td>\n      <td>raw</td>\n      <td>9</td>\n      <td>catalog</td>\n      <td>2019-11-01 22:29:01.049513</td>\n      <td>629881394.0</td>\n    </tr>\n    <tr>\n      <th>11</th>\n      <td>dc5cde8f-1a46-452a-ba0b-2cbd2fbde31d</td>\n      <td>raw</td>\n      <td>11</td>\n      <td>catalog</td>\n      <td>2019-11-01 22:29:32.322458</td>\n      <td>629881394.0</td>\n    </tr>\n    <tr>\n      <th>13</th>\n      <td>44be1b16-584b-42a0-b403-6d7b0b723589</td>\n      <td>raw</td>\n      <td>13</td>\n      <td>catalog</td>\n      <td>2019-11-01 22:30:09.450839</td>\n      <td>629881394.0</td>\n    </tr>\n    <tr>\n      <th>14</th>\n      <td>a2580166-2c15-4369-ad25-1cb60f254d17</td>\n      <td>raw</td>\n      <td>14</td>\n      <td>catalog</td>\n      <td>2019-11-01 22:31:05.565762</td>\n      <td>629881394.0</td>\n    </tr>\n    <tr>\n      <th>15</th>\n      <td>51cbfd8d-5226-4926-8033-6c3e18c3d342</td>\n      <td>raw</td>\n      <td>15</td>\n      <td>main</td>\n      <td>2019-11-01 22:31:08.333560</td>\n      <td>629881394.0</td>\n    </tr>\n    <tr>\n      <th>16</th>\n      <td>7360850e-da7e-40f1-8c2a-d08d964559ba</td>\n      <td>raw</td>\n      <td>16</td>\n      <td>catalog</td>\n      <td>2019-11-01 22:31:09.010626</td>\n      <td>629881394.0</td>\n    </tr>\n    <tr>\n      <th>17</th>\n      <td>edcf275b-2fca-4a42-81fb-3c7050f7aaa7</td>\n      <td>raw</td>\n      <td>17</td>\n      <td>product1</td>\n      <td>2019-11-01 22:31:10.416231</td>\n      <td>629881394.0</td>\n    </tr>\n    <tr>\n      <th>18</th>\n      <td>1d29c4bf-90f3-4497-bd4f-2a75ac532258</td>\n      <td>raw</td>\n      <td>18</td>\n      <td>catalog</td>\n      <td>2019-11-01 22:31:43.019527</td>\n      <td>629881394.0</td>\n    </tr>\n    <tr>\n      <th>19</th>\n      <td>586f4b40-268b-4835-a63e-a947e26d3847</td>\n      <td>raw</td>\n      <td>19</td>\n      <td>catalog</td>\n      <td>2019-11-01 22:32:01.596163</td>\n      <td>629881394.0</td>\n    </tr>\n    <tr>\n      <th>20</th>\n      <td>39a65d24-17d1-482c-908e-3d9b11cf5d51</td>\n      <td>raw</td>\n      <td>20</td>\n      <td>product1</td>\n      <td>2019-11-01 22:32:07.348536</td>\n      <td>629881394.0</td>\n    </tr>\n    <tr>\n      <th>21</th>\n      <td>8ccab9d0-f768-479a-8379-1abb5a26d412</td>\n      <td>raw</td>\n      <td>21</td>\n      <td>catalog</td>\n      <td>2019-11-01 22:32:10.165568</td>\n      <td>629881394.0</td>\n    </tr>\n    <tr>\n      <th>22</th>\n      <td>68448bb0-8a99-4e60-bb4b-c8ccc621fbe9</td>\n      <td>raw</td>\n      <td>22</td>\n      <td>product2</td>\n      <td>2019-11-01 22:32:16.496241</td>\n      <td>629881394.0</td>\n    </tr>\n    <tr>\n      <th>23</th>\n      <td>99219a78-a28b-4337-9162-50c62fd60d3a</td>\n      <td>raw</td>\n      <td>23</td>\n      <td>catalog</td>\n      <td>2019-11-01 22:33:17.682468</td>\n      <td>629881394.0</td>\n    </tr>\n    <tr>\n      <th>24</th>\n      <td>b5642490-32b7-421b-9d87-11c25f689e92</td>\n      <td>raw</td>\n      <td>24</td>\n      <td>product1</td>\n      <td>2019-11-01 22:33:19.961115</td>\n      <td>629881394.0</td>\n    </tr>\n    <tr>\n      <th>25</th>\n      <td>5e25b9df-c033-4d33-b683-36d2e1418921</td>\n      <td>raw</td>\n      <td>25</td>\n      <td>catalog</td>\n      <td>2019-11-01 22:33:35.460345</td>\n      <td>629881394.0</td>\n    </tr>\n    <tr>\n      <th>27</th>\n      <td>48c0bd0d-a51d-4f5b-95f2-3d3ea3d41d65</td>\n      <td>raw</td>\n      <td>27</td>\n      <td>catalog</td>\n      <td>2019-11-01 22:34:02.301293</td>\n      <td>629881394.0</td>\n    </tr>\n    <tr>\n      <th>29</th>\n      <td>d163087a-86e2-4582-87b2-937b08b19750</td>\n      <td>raw</td>\n      <td>29</td>\n      <td>product2</td>\n      <td>2019-11-01 22:34:32.362386</td>\n      <td>629881394.0</td>\n    </tr>\n    <tr>\n      <th>31</th>\n      <td>f190503c-49ea-4f1e-a942-afc7ae7a1932</td>\n      <td>raw</td>\n      <td>31</td>\n      <td>catalog</td>\n      <td>2019-11-01 22:35:01.462515</td>\n      <td>629881394.0</td>\n    </tr>\n    <tr>\n      <th>33</th>\n      <td>deb386c9-272e-4fa4-9290-7323bdd87301</td>\n      <td>raw</td>\n      <td>33</td>\n      <td>product2</td>\n      <td>2019-11-01 22:35:33.142711</td>\n      <td>629881394.0</td>\n    </tr>\n    <tr>\n      <th>36</th>\n      <td>66e50d9d-396d-4e1e-8114-1b6b839054b6</td>\n      <td>raw</td>\n      <td>36</td>\n      <td>cart</td>\n      <td>2019-11-01 22:35:50.437706</td>\n      <td>629881394.0</td>\n    </tr>\n    <tr>\n      <th>38</th>\n      <td>75883115-b1ab-4d54-bde4-eff16b79c7df</td>\n      <td>raw</td>\n      <td>38</td>\n      <td>delivery_choice</td>\n      <td>2019-11-01 22:35:57.649549</td>\n      <td>629881394.0</td>\n    </tr>\n    <tr>\n      <th>39</th>\n      <td>68461009-edaf-429b-928f-20feec66e30d</td>\n      <td>raw</td>\n      <td>39</td>\n      <td>delivery_courier</td>\n      <td>2019-11-01 22:36:02.009271</td>\n      <td>629881394.0</td>\n    </tr>\n    <tr>\n      <th>42</th>\n      <td>a5c770f9-af16-43a0-9d7c-c503c6518c80</td>\n      <td>raw</td>\n      <td>42</td>\n      <td>payment_choice</td>\n      <td>2019-11-01 22:36:02.243274</td>\n      <td>629881394.0</td>\n    </tr>\n    <tr>\n      <th>44</th>\n      <td>b0c1c171-8158-41ff-ba8f-b79c9e4f5f4a</td>\n      <td>raw</td>\n      <td>44</td>\n      <td>payment_cash</td>\n      <td>2019-11-01 22:36:03.415201</td>\n      <td>629881394.0</td>\n    </tr>\n    <tr>\n      <th>45</th>\n      <td>46b2fd2d-5ab2-4843-ae58-30b538369bb5</td>\n      <td>raw</td>\n      <td>45</td>\n      <td>payment_done</td>\n      <td>2019-11-01 22:36:03.999697</td>\n      <td>629881394.0</td>\n    </tr>\n    <tr>\n      <th>365</th>\n      <td>624d7f0c-f8d8-4624-bfa7-27cc1f601247</td>\n      <td>raw</td>\n      <td>365</td>\n      <td>main</td>\n      <td>2019-11-07 12:40:46.004674</td>\n      <td>629881394.0</td>\n    </tr>\n    <tr>\n      <th>367</th>\n      <td>a0359799-cd9a-4058-933f-c812ef8b77db</td>\n      <td>raw</td>\n      <td>367</td>\n      <td>catalog</td>\n      <td>2019-11-07 12:40:55.724185</td>\n      <td>629881394.0</td>\n    </tr>\n    <tr>\n      <th>370</th>\n      <td>51483b62-05a2-4c24-aa33-80557562151c</td>\n      <td>raw</td>\n      <td>370</td>\n      <td>cart</td>\n      <td>2019-11-07 12:41:04.107187</td>\n      <td>629881394.0</td>\n    </tr>\n    <tr>\n      <th>1436</th>\n      <td>3749eebe-4e88-4674-809d-eb7c1d99742b</td>\n      <td>raw</td>\n      <td>1436</td>\n      <td>main</td>\n      <td>2019-11-25 23:16:56.317624</td>\n      <td>629881394.0</td>\n    </tr>\n    <tr>\n      <th>1437</th>\n      <td>9b85cdbd-3f0a-4ab7-9f9d-1c2de77fb518</td>\n      <td>raw</td>\n      <td>1437</td>\n      <td>catalog</td>\n      <td>2019-11-25 23:17:16.266242</td>\n      <td>629881394.0</td>\n    </tr>\n    <tr>\n      <th>1438</th>\n      <td>7b0d3a5b-fa68-4cc8-8fb8-707954eb026a</td>\n      <td>raw</td>\n      <td>1438</td>\n      <td>catalog</td>\n      <td>2019-11-25 23:17:48.747304</td>\n      <td>629881394.0</td>\n    </tr>\n    <tr>\n      <th>6720</th>\n      <td>023282c5-4848-4986-bba0-0a2797537df2</td>\n      <td>raw</td>\n      <td>6720</td>\n      <td>main</td>\n      <td>2020-01-23 18:56:23.445236</td>\n      <td>629881394.0</td>\n    </tr>\n    <tr>\n      <th>6721</th>\n      <td>c1482d19-9c06-4840-a6a3-f55933237bbf</td>\n      <td>raw</td>\n      <td>6721</td>\n      <td>catalog</td>\n      <td>2020-01-23 18:56:30.461624</td>\n      <td>629881394.0</td>\n    </tr>\n    <tr>\n      <th>11405</th>\n      <td>5293da84-b29c-4329-b9a1-50ebb14d7e2f</td>\n      <td>raw</td>\n      <td>11405</td>\n      <td>main</td>\n      <td>2020-03-01 23:23:43.392597</td>\n      <td>629881394.0</td>\n    </tr>\n    <tr>\n      <th>11406</th>\n      <td>5ea2a796-409b-4818-8ac2-66e2af58e00b</td>\n      <td>raw</td>\n      <td>11406</td>\n      <td>catalog</td>\n      <td>2020-03-01 23:23:44.755693</td>\n      <td>629881394.0</td>\n    </tr>\n    <tr>\n      <th>11407</th>\n      <td>0eefad2b-4161-41ea-a330-f107939bebce</td>\n      <td>raw</td>\n      <td>11407</td>\n      <td>main</td>\n      <td>2020-03-01 23:23:51.625991</td>\n      <td>629881394.0</td>\n    </tr>\n    <tr>\n      <th>12268</th>\n      <td>40bed4a9-ad36-429a-a9bc-078e578bef8c</td>\n      <td>raw</td>\n      <td>12268</td>\n      <td>main</td>\n      <td>2020-03-07 12:05:23.938242</td>\n      <td>629881394.0</td>\n    </tr>\n    <tr>\n      <th>12269</th>\n      <td>1fe940b3-a3c4-4001-9908-667fbe220fb2</td>\n      <td>raw</td>\n      <td>12269</td>\n      <td>catalog</td>\n      <td>2020-03-07 12:05:32.476046</td>\n      <td>629881394.0</td>\n    </tr>\n    <tr>\n      <th>15010</th>\n      <td>c28a513d-1fc3-415c-bbb2-e32d5e16d162</td>\n      <td>raw</td>\n      <td>15010</td>\n      <td>main</td>\n      <td>2020-03-26 13:00:47.844886</td>\n      <td>629881394.0</td>\n    </tr>\n    <tr>\n      <th>15011</th>\n      <td>73cfb7e5-b284-4e6a-91d9-ad5780e4ffab</td>\n      <td>raw</td>\n      <td>15011</td>\n      <td>catalog</td>\n      <td>2020-03-26 13:00:49.531644</td>\n      <td>629881394.0</td>\n    </tr>\n    <tr>\n      <th>15688</th>\n      <td>343f89ce-e6d7-46e7-9c6b-46f2cbcb695e</td>\n      <td>raw</td>\n      <td>15688</td>\n      <td>main</td>\n      <td>2020-03-30 00:11:47.920536</td>\n      <td>629881394.0</td>\n    </tr>\n    <tr>\n      <th>15715</th>\n      <td>90248bab-19bf-41d8-b969-8393e56b5b04</td>\n      <td>raw</td>\n      <td>15715</td>\n      <td>main</td>\n      <td>2020-03-30 03:17:46.909845</td>\n      <td>629881394.0</td>\n    </tr>\n    <tr>\n      <th>15716</th>\n      <td>545b8093-39f9-4d35-9945-79a6ec35b6fa</td>\n      <td>raw</td>\n      <td>15716</td>\n      <td>catalog</td>\n      <td>2020-03-30 03:17:49.918774</td>\n      <td>629881394.0</td>\n    </tr>\n    <tr>\n      <th>15717</th>\n      <td>38b7f0d2-0eee-404c-980a-f46705c9c33d</td>\n      <td>raw</td>\n      <td>15717</td>\n      <td>catalog</td>\n      <td>2020-03-30 03:18:17.835191</td>\n      <td>629881394.0</td>\n    </tr>\n    <tr>\n      <th>15718</th>\n      <td>9c61945b-559e-4338-ab34-2fdf0213ee15</td>\n      <td>raw</td>\n      <td>15718</td>\n      <td>catalog</td>\n      <td>2020-03-30 03:18:53.715887</td>\n      <td>629881394.0</td>\n    </tr>\n    <tr>\n      <th>15719</th>\n      <td>d6fd28f5-fabf-4481-b4bf-b8b945043777</td>\n      <td>raw</td>\n      <td>15719</td>\n      <td>catalog</td>\n      <td>2020-03-30 03:19:36.034262</td>\n      <td>629881394.0</td>\n    </tr>\n    <tr>\n      <th>15720</th>\n      <td>09f9a2be-14bd-4322-8193-41f74957ceaa</td>\n      <td>raw</td>\n      <td>15720</td>\n      <td>catalog</td>\n      <td>2020-03-30 03:19:59.515094</td>\n      <td>629881394.0</td>\n    </tr>\n    <tr>\n      <th>15721</th>\n      <td>401ddad5-a7f6-46c8-9820-09efc817773a</td>\n      <td>pause</td>\n      <td>15721</td>\n      <td>pause</td>\n      <td>2020-03-30 03:19:59.515094</td>\n      <td>629881394.0</td>\n    </tr>\n  </tbody>\n</table>\n</div>"
     },
     "execution_count": 46,
     "metadata": {},
     "output_type": "execute_result"
    }
   ],
   "source": [
    "print(len(source_df[source_df['user_id'] == 629881394]))\n",
    "print(len(df3[df3['user_id'] == 629881394]))\n",
    "df3[df3['user_id'] == 629881394]"
   ],
   "metadata": {
    "collapsed": false,
    "pycharm": {
     "name": "#%%\n"
    }
   }
  },
  {
   "cell_type": "code",
   "execution_count": 47,
   "outputs": [
    {
     "data": {
      "text/plain": "(35381, 39131)"
     },
     "execution_count": 47,
     "metadata": {},
     "output_type": "execute_result"
    }
   ],
   "source": [
    "len(source_df), len(df3)"
   ],
   "metadata": {
    "collapsed": false,
    "pycharm": {
     "name": "#%%\n"
    }
   }
  },
  {
   "cell_type": "code",
   "execution_count": 48,
   "outputs": [
    {
     "data": {
      "text/plain": "raw    35381\nName: event_type, dtype: int64"
     },
     "execution_count": 48,
     "metadata": {},
     "output_type": "execute_result"
    }
   ],
   "source": [
    "source_df['event_type'].value_counts()"
   ],
   "metadata": {
    "collapsed": false,
    "pycharm": {
     "name": "#%%\n"
    }
   }
  },
  {
   "cell_type": "code",
   "execution_count": 49,
   "outputs": [
    {
     "data": {
      "text/plain": "event_type\nraw           35380\npause          3750\nlost              1\ndtype: int64"
     },
     "execution_count": 49,
     "metadata": {},
     "output_type": "execute_result"
    }
   ],
   "source": [
    "df3.value_counts(['event_type'])"
   ],
   "metadata": {
    "collapsed": false,
    "pycharm": {
     "name": "#%%\n"
    }
   }
  },
  {
   "cell_type": "code",
   "execution_count": 50,
   "outputs": [
    {
     "name": "stdout",
     "output_type": "stream",
     "text": [
      "17\n"
     ]
    },
    {
     "data": {
      "text/plain": "                                  event_id event_type  event_index event_name  \\\n1     6f2c3bf9-69db-4ffb-81ba-1b051271c3c9        raw            1   product1   \n2     349c1446-7269-45ab-9244-684fc1964aca        raw            2       cart   \n3     1ffa7501-52c2-46de-bdd2-41ad74e1c82d        raw            3    catalog   \n2407  ffded02c-06f9-4ea3-9b70-56a0da773386        raw         2407       main   \n2408  637903fe-65bf-44fc-889c-85d762779ed8        raw         2408    catalog   \n2409  0d68bc03-1973-4da4-98ed-6b2e8dc6e7cc        raw         2409    catalog   \n5169  2c0113a6-b8ca-4642-9f35-db788b230514        raw         5169       main   \n5170  50bed9be-5a02-40d0-ae5f-608d24f429ff        raw         5170    catalog   \n5171  172510a1-d8ca-4c5b-a4d9-888b94ba01c4        raw         5171       cart   \n5172  9fb29db5-3b10-4add-b15c-2fa513e303dc        raw         5172    catalog   \n5173  80b614e4-5702-4199-a185-07f94f689492        raw         5173   product1   \n5174  38c0a788-2200-4a5a-83b9-0453aaef1748        raw         5174    catalog   \n5175  c2daea87-2f32-4ec9-96c8-888bf6d3e03c        raw         5175    catalog   \n9329  7de17d66-9c1c-4ad8-88cb-33345fe23785        raw         9329       main   \n9330  7a723d01-ac10-40a7-ab25-8023d0c62664        raw         9330    catalog   \n9331  838d02ed-7c72-444b-bb14-a4426c9f41b9        raw         9331       lost   \n9332  1c299c72-5244-4594-bd4f-21c4a8b4f7ae      pause         9332      pause   \n\n                event_timestamp      user_id  \n1    2019-11-01 17:59:28.459271  219483890.0  \n2    2019-11-01 17:59:29.502214  219483890.0  \n3    2019-11-01 17:59:32.557029  219483890.0  \n2407 2019-12-06 16:22:57.484842  219483890.0  \n2408 2019-12-06 16:23:01.331109  219483890.0  \n2409 2019-12-06 16:23:48.116617  219483890.0  \n5169 2020-01-06 22:10:13.635011  219483890.0  \n5170 2020-01-06 22:10:15.228575  219483890.0  \n5171 2020-01-06 22:10:42.309028  219483890.0  \n5172 2020-01-06 22:10:52.255859  219483890.0  \n5173 2020-01-06 22:11:01.709800  219483890.0  \n5174 2020-01-06 22:11:02.899490  219483890.0  \n5175 2020-01-06 22:11:28.271366  219483890.0  \n9329 2020-02-14 21:04:49.450696  219483890.0  \n9330 2020-02-14 21:04:51.717127  219483890.0  \n9331 2020-02-14 21:04:52.717127  219483890.0  \n9332 2020-02-14 21:04:52.717127  219483890.0  ",
      "text/html": "<div>\n<style scoped>\n    .dataframe tbody tr th:only-of-type {\n        vertical-align: middle;\n    }\n\n    .dataframe tbody tr th {\n        vertical-align: top;\n    }\n\n    .dataframe thead th {\n        text-align: right;\n    }\n</style>\n<table border=\"1\" class=\"dataframe\">\n  <thead>\n    <tr style=\"text-align: right;\">\n      <th></th>\n      <th>event_id</th>\n      <th>event_type</th>\n      <th>event_index</th>\n      <th>event_name</th>\n      <th>event_timestamp</th>\n      <th>user_id</th>\n    </tr>\n  </thead>\n  <tbody>\n    <tr>\n      <th>1</th>\n      <td>6f2c3bf9-69db-4ffb-81ba-1b051271c3c9</td>\n      <td>raw</td>\n      <td>1</td>\n      <td>product1</td>\n      <td>2019-11-01 17:59:28.459271</td>\n      <td>219483890.0</td>\n    </tr>\n    <tr>\n      <th>2</th>\n      <td>349c1446-7269-45ab-9244-684fc1964aca</td>\n      <td>raw</td>\n      <td>2</td>\n      <td>cart</td>\n      <td>2019-11-01 17:59:29.502214</td>\n      <td>219483890.0</td>\n    </tr>\n    <tr>\n      <th>3</th>\n      <td>1ffa7501-52c2-46de-bdd2-41ad74e1c82d</td>\n      <td>raw</td>\n      <td>3</td>\n      <td>catalog</td>\n      <td>2019-11-01 17:59:32.557029</td>\n      <td>219483890.0</td>\n    </tr>\n    <tr>\n      <th>2407</th>\n      <td>ffded02c-06f9-4ea3-9b70-56a0da773386</td>\n      <td>raw</td>\n      <td>2407</td>\n      <td>main</td>\n      <td>2019-12-06 16:22:57.484842</td>\n      <td>219483890.0</td>\n    </tr>\n    <tr>\n      <th>2408</th>\n      <td>637903fe-65bf-44fc-889c-85d762779ed8</td>\n      <td>raw</td>\n      <td>2408</td>\n      <td>catalog</td>\n      <td>2019-12-06 16:23:01.331109</td>\n      <td>219483890.0</td>\n    </tr>\n    <tr>\n      <th>2409</th>\n      <td>0d68bc03-1973-4da4-98ed-6b2e8dc6e7cc</td>\n      <td>raw</td>\n      <td>2409</td>\n      <td>catalog</td>\n      <td>2019-12-06 16:23:48.116617</td>\n      <td>219483890.0</td>\n    </tr>\n    <tr>\n      <th>5169</th>\n      <td>2c0113a6-b8ca-4642-9f35-db788b230514</td>\n      <td>raw</td>\n      <td>5169</td>\n      <td>main</td>\n      <td>2020-01-06 22:10:13.635011</td>\n      <td>219483890.0</td>\n    </tr>\n    <tr>\n      <th>5170</th>\n      <td>50bed9be-5a02-40d0-ae5f-608d24f429ff</td>\n      <td>raw</td>\n      <td>5170</td>\n      <td>catalog</td>\n      <td>2020-01-06 22:10:15.228575</td>\n      <td>219483890.0</td>\n    </tr>\n    <tr>\n      <th>5171</th>\n      <td>172510a1-d8ca-4c5b-a4d9-888b94ba01c4</td>\n      <td>raw</td>\n      <td>5171</td>\n      <td>cart</td>\n      <td>2020-01-06 22:10:42.309028</td>\n      <td>219483890.0</td>\n    </tr>\n    <tr>\n      <th>5172</th>\n      <td>9fb29db5-3b10-4add-b15c-2fa513e303dc</td>\n      <td>raw</td>\n      <td>5172</td>\n      <td>catalog</td>\n      <td>2020-01-06 22:10:52.255859</td>\n      <td>219483890.0</td>\n    </tr>\n    <tr>\n      <th>5173</th>\n      <td>80b614e4-5702-4199-a185-07f94f689492</td>\n      <td>raw</td>\n      <td>5173</td>\n      <td>product1</td>\n      <td>2020-01-06 22:11:01.709800</td>\n      <td>219483890.0</td>\n    </tr>\n    <tr>\n      <th>5174</th>\n      <td>38c0a788-2200-4a5a-83b9-0453aaef1748</td>\n      <td>raw</td>\n      <td>5174</td>\n      <td>catalog</td>\n      <td>2020-01-06 22:11:02.899490</td>\n      <td>219483890.0</td>\n    </tr>\n    <tr>\n      <th>5175</th>\n      <td>c2daea87-2f32-4ec9-96c8-888bf6d3e03c</td>\n      <td>raw</td>\n      <td>5175</td>\n      <td>catalog</td>\n      <td>2020-01-06 22:11:28.271366</td>\n      <td>219483890.0</td>\n    </tr>\n    <tr>\n      <th>9329</th>\n      <td>7de17d66-9c1c-4ad8-88cb-33345fe23785</td>\n      <td>raw</td>\n      <td>9329</td>\n      <td>main</td>\n      <td>2020-02-14 21:04:49.450696</td>\n      <td>219483890.0</td>\n    </tr>\n    <tr>\n      <th>9330</th>\n      <td>7a723d01-ac10-40a7-ab25-8023d0c62664</td>\n      <td>raw</td>\n      <td>9330</td>\n      <td>catalog</td>\n      <td>2020-02-14 21:04:51.717127</td>\n      <td>219483890.0</td>\n    </tr>\n    <tr>\n      <th>9331</th>\n      <td>838d02ed-7c72-444b-bb14-a4426c9f41b9</td>\n      <td>raw</td>\n      <td>9331</td>\n      <td>lost</td>\n      <td>2020-02-14 21:04:52.717127</td>\n      <td>219483890.0</td>\n    </tr>\n    <tr>\n      <th>9332</th>\n      <td>1c299c72-5244-4594-bd4f-21c4a8b4f7ae</td>\n      <td>pause</td>\n      <td>9332</td>\n      <td>pause</td>\n      <td>2020-02-14 21:04:52.717127</td>\n      <td>219483890.0</td>\n    </tr>\n  </tbody>\n</table>\n</div>"
     },
     "execution_count": 50,
     "metadata": {},
     "output_type": "execute_result"
    }
   ],
   "source": [
    "print(len(df3[df3['user_id'] == 219483890]))\n",
    "df3[df3['user_id'] == 219483890].sort_values('event_timestamp')"
   ],
   "metadata": {
    "collapsed": false,
    "pycharm": {
     "name": "#%%\n"
    }
   }
  },
  {
   "cell_type": "code",
   "execution_count": 51,
   "outputs": [
    {
     "name": "stdout",
     "output_type": "stream",
     "text": [
      "17\n"
     ]
    },
    {
     "data": {
      "text/plain": "                                  event_id event_type  event_index event_name  \\\n0     30da1d31-8f65-4bf1-86c9-aaa1a47e8a71        raw            0    catalog   \n1     6f2c3bf9-69db-4ffb-81ba-1b051271c3c9        raw            1   product1   \n2     349c1446-7269-45ab-9244-684fc1964aca        raw            2       cart   \n3     1ffa7501-52c2-46de-bdd2-41ad74e1c82d        raw            3    catalog   \n2245  ffded02c-06f9-4ea3-9b70-56a0da773386        raw         2245       main   \n2246  637903fe-65bf-44fc-889c-85d762779ed8        raw         2246    catalog   \n2247  0d68bc03-1973-4da4-98ed-6b2e8dc6e7cc        raw         2247    catalog   \n4836  2c0113a6-b8ca-4642-9f35-db788b230514        raw         4836       main   \n4837  50bed9be-5a02-40d0-ae5f-608d24f429ff        raw         4837    catalog   \n4838  172510a1-d8ca-4c5b-a4d9-888b94ba01c4        raw         4838       cart   \n4839  9fb29db5-3b10-4add-b15c-2fa513e303dc        raw         4839    catalog   \n4840  80b614e4-5702-4199-a185-07f94f689492        raw         4840   product1   \n4841  38c0a788-2200-4a5a-83b9-0453aaef1748        raw         4841    catalog   \n4842  c2daea87-2f32-4ec9-96c8-888bf6d3e03c        raw         4842    catalog   \n8736  7de17d66-9c1c-4ad8-88cb-33345fe23785        raw         8736       main   \n8737  7a723d01-ac10-40a7-ab25-8023d0c62664        raw         8737    catalog   \n8738  838d02ed-7c72-444b-bb14-a4426c9f41b9        raw         8738       lost   \n\n                event_timestamp    user_id  \n0    2019-11-01 17:59:13.273932  219483890  \n1    2019-11-01 17:59:28.459271  219483890  \n2    2019-11-01 17:59:29.502214  219483890  \n3    2019-11-01 17:59:32.557029  219483890  \n2245 2019-12-06 16:22:57.484842  219483890  \n2246 2019-12-06 16:23:01.331109  219483890  \n2247 2019-12-06 16:23:48.116617  219483890  \n4836 2020-01-06 22:10:13.635011  219483890  \n4837 2020-01-06 22:10:15.228575  219483890  \n4838 2020-01-06 22:10:42.309028  219483890  \n4839 2020-01-06 22:10:52.255859  219483890  \n4840 2020-01-06 22:11:01.709800  219483890  \n4841 2020-01-06 22:11:02.899490  219483890  \n4842 2020-01-06 22:11:28.271366  219483890  \n8736 2020-02-14 21:04:49.450696  219483890  \n8737 2020-02-14 21:04:51.717127  219483890  \n8738 2020-02-14 21:04:52.717127  219483890  ",
      "text/html": "<div>\n<style scoped>\n    .dataframe tbody tr th:only-of-type {\n        vertical-align: middle;\n    }\n\n    .dataframe tbody tr th {\n        vertical-align: top;\n    }\n\n    .dataframe thead th {\n        text-align: right;\n    }\n</style>\n<table border=\"1\" class=\"dataframe\">\n  <thead>\n    <tr style=\"text-align: right;\">\n      <th></th>\n      <th>event_id</th>\n      <th>event_type</th>\n      <th>event_index</th>\n      <th>event_name</th>\n      <th>event_timestamp</th>\n      <th>user_id</th>\n    </tr>\n  </thead>\n  <tbody>\n    <tr>\n      <th>0</th>\n      <td>30da1d31-8f65-4bf1-86c9-aaa1a47e8a71</td>\n      <td>raw</td>\n      <td>0</td>\n      <td>catalog</td>\n      <td>2019-11-01 17:59:13.273932</td>\n      <td>219483890</td>\n    </tr>\n    <tr>\n      <th>1</th>\n      <td>6f2c3bf9-69db-4ffb-81ba-1b051271c3c9</td>\n      <td>raw</td>\n      <td>1</td>\n      <td>product1</td>\n      <td>2019-11-01 17:59:28.459271</td>\n      <td>219483890</td>\n    </tr>\n    <tr>\n      <th>2</th>\n      <td>349c1446-7269-45ab-9244-684fc1964aca</td>\n      <td>raw</td>\n      <td>2</td>\n      <td>cart</td>\n      <td>2019-11-01 17:59:29.502214</td>\n      <td>219483890</td>\n    </tr>\n    <tr>\n      <th>3</th>\n      <td>1ffa7501-52c2-46de-bdd2-41ad74e1c82d</td>\n      <td>raw</td>\n      <td>3</td>\n      <td>catalog</td>\n      <td>2019-11-01 17:59:32.557029</td>\n      <td>219483890</td>\n    </tr>\n    <tr>\n      <th>2245</th>\n      <td>ffded02c-06f9-4ea3-9b70-56a0da773386</td>\n      <td>raw</td>\n      <td>2245</td>\n      <td>main</td>\n      <td>2019-12-06 16:22:57.484842</td>\n      <td>219483890</td>\n    </tr>\n    <tr>\n      <th>2246</th>\n      <td>637903fe-65bf-44fc-889c-85d762779ed8</td>\n      <td>raw</td>\n      <td>2246</td>\n      <td>catalog</td>\n      <td>2019-12-06 16:23:01.331109</td>\n      <td>219483890</td>\n    </tr>\n    <tr>\n      <th>2247</th>\n      <td>0d68bc03-1973-4da4-98ed-6b2e8dc6e7cc</td>\n      <td>raw</td>\n      <td>2247</td>\n      <td>catalog</td>\n      <td>2019-12-06 16:23:48.116617</td>\n      <td>219483890</td>\n    </tr>\n    <tr>\n      <th>4836</th>\n      <td>2c0113a6-b8ca-4642-9f35-db788b230514</td>\n      <td>raw</td>\n      <td>4836</td>\n      <td>main</td>\n      <td>2020-01-06 22:10:13.635011</td>\n      <td>219483890</td>\n    </tr>\n    <tr>\n      <th>4837</th>\n      <td>50bed9be-5a02-40d0-ae5f-608d24f429ff</td>\n      <td>raw</td>\n      <td>4837</td>\n      <td>catalog</td>\n      <td>2020-01-06 22:10:15.228575</td>\n      <td>219483890</td>\n    </tr>\n    <tr>\n      <th>4838</th>\n      <td>172510a1-d8ca-4c5b-a4d9-888b94ba01c4</td>\n      <td>raw</td>\n      <td>4838</td>\n      <td>cart</td>\n      <td>2020-01-06 22:10:42.309028</td>\n      <td>219483890</td>\n    </tr>\n    <tr>\n      <th>4839</th>\n      <td>9fb29db5-3b10-4add-b15c-2fa513e303dc</td>\n      <td>raw</td>\n      <td>4839</td>\n      <td>catalog</td>\n      <td>2020-01-06 22:10:52.255859</td>\n      <td>219483890</td>\n    </tr>\n    <tr>\n      <th>4840</th>\n      <td>80b614e4-5702-4199-a185-07f94f689492</td>\n      <td>raw</td>\n      <td>4840</td>\n      <td>product1</td>\n      <td>2020-01-06 22:11:01.709800</td>\n      <td>219483890</td>\n    </tr>\n    <tr>\n      <th>4841</th>\n      <td>38c0a788-2200-4a5a-83b9-0453aaef1748</td>\n      <td>raw</td>\n      <td>4841</td>\n      <td>catalog</td>\n      <td>2020-01-06 22:11:02.899490</td>\n      <td>219483890</td>\n    </tr>\n    <tr>\n      <th>4842</th>\n      <td>c2daea87-2f32-4ec9-96c8-888bf6d3e03c</td>\n      <td>raw</td>\n      <td>4842</td>\n      <td>catalog</td>\n      <td>2020-01-06 22:11:28.271366</td>\n      <td>219483890</td>\n    </tr>\n    <tr>\n      <th>8736</th>\n      <td>7de17d66-9c1c-4ad8-88cb-33345fe23785</td>\n      <td>raw</td>\n      <td>8736</td>\n      <td>main</td>\n      <td>2020-02-14 21:04:49.450696</td>\n      <td>219483890</td>\n    </tr>\n    <tr>\n      <th>8737</th>\n      <td>7a723d01-ac10-40a7-ab25-8023d0c62664</td>\n      <td>raw</td>\n      <td>8737</td>\n      <td>catalog</td>\n      <td>2020-02-14 21:04:51.717127</td>\n      <td>219483890</td>\n    </tr>\n    <tr>\n      <th>8738</th>\n      <td>838d02ed-7c72-444b-bb14-a4426c9f41b9</td>\n      <td>raw</td>\n      <td>8738</td>\n      <td>lost</td>\n      <td>2020-02-14 21:04:52.717127</td>\n      <td>219483890</td>\n    </tr>\n  </tbody>\n</table>\n</div>"
     },
     "execution_count": 51,
     "metadata": {},
     "output_type": "execute_result"
    }
   ],
   "source": [
    "print(len(source_df[source_df['user_id'] == 219483890]))\n",
    "source_df[source_df['user_id'] == 219483890]"
   ],
   "metadata": {
    "collapsed": false,
    "pycharm": {
     "name": "#%%\n"
    }
   }
  },
  {
   "cell_type": "markdown",
   "source": [
    "### cutoff"
   ],
   "metadata": {
    "collapsed": false,
    "pycharm": {
     "name": "#%% md\n"
    }
   }
  },
  {
   "cell_type": "code",
   "execution_count": 52,
   "outputs": [],
   "source": [
    "from src.data_processors_lib.rete import LostPauseEvents, LostPauseParams\n",
    "\n",
    "lost_cutoff_ = (3000, 's')\n",
    "\n",
    "lost_pause_events_cutoff = EventsNode(\n",
    "    LostPauseEvents(params=LostPauseParams(lost_cutoff=lost_cutoff_)))\n",
    "\n",
    "graph.add_node(\n",
    "    node=lost_pause_events_cutoff,\n",
    "    parents=[graph.root]\n",
    ")\n",
    "\n",
    "result_cutoff = graph.combine(\n",
    "    node=lost_pause_events_cutoff\n",
    ")"
   ],
   "metadata": {
    "collapsed": false,
    "pycharm": {
     "name": "#%%\n"
    }
   }
  },
  {
   "cell_type": "code",
   "execution_count": 53,
   "outputs": [
    {
     "name": "stdout",
     "output_type": "stream",
     "text": [
      "0\n",
      "3092\n"
     ]
    }
   ],
   "source": [
    "df4 = result_cutoff.to_dataframe()\n",
    "print(source_df.duplicated(['event_name', 'event_timestamp', 'user_id']).sum())\n",
    "print(df4.duplicated(['event_name', 'event_timestamp', 'user_id']).sum())"
   ],
   "metadata": {
    "collapsed": false,
    "pycharm": {
     "name": "#%%\n"
    }
   }
  },
  {
   "cell_type": "code",
   "execution_count": 54,
   "outputs": [
    {
     "name": "stdout",
     "output_type": "stream",
     "text": [
      "14\n"
     ]
    },
    {
     "data": {
      "text/plain": "                                  event_id event_type  event_index  \\\n4     15adbed9-861d-44b7-9ed9-ee039b82774c        raw            4   \n5     502b9da4-9fb2-49c0-a26b-b8fce7a4a7d4        raw            5   \n6     b69c702b-2856-45c8-aa60-013eb6743217        raw            6   \n2618  2fe1838a-4876-418b-bd15-9ed67896529f        raw         2618   \n2619  df188c43-ff63-4113-95f4-6ba2d9bfc03c        raw         2619   \n2620  45fb4377-11f4-4eb3-b71b-8c42e3eac81b        raw         2620   \n2621  33554711-cd56-4af8-b242-53b521232a63        raw         2621   \n2622  60fe9b0e-03ac-487b-8b4a-e7566ca93187        raw         2622   \n2623  b4609a5f-7662-4048-98fa-b03191a30d64        raw         2623   \n2624  e50da712-8b2a-464a-b5e7-9ef59834c43b        raw         2624   \n2625  496c384d-3cee-4aff-aab4-2e8d58d4e01c        raw         2625   \n2626  cf4e8d54-dcb3-48de-998a-ac8002d2c104        raw         2626   \n2627  2ff9dcd0-30c0-4e84-bb8b-e0040d245e2d        raw         2627   \n2628  b51e5761-edc0-47a4-aec2-275f46234d34       lost         2628   \n\n           event_name            event_timestamp      user_id  \n4             catalog 2019-11-01 21:38:19.283663  964964743.0  \n5                cart 2019-11-01 21:38:36.761221  964964743.0  \n6     delivery_choice 2019-11-01 21:38:37.564693  964964743.0  \n2618             main 2019-12-09 01:42:22.801831  964964743.0  \n2619          catalog 2019-12-09 01:42:23.617764  964964743.0  \n2620         product2 2019-12-09 01:42:56.877340  964964743.0  \n2621          catalog 2019-12-09 01:43:05.436223  964964743.0  \n2622          catalog 2019-12-09 01:43:36.923178  964964743.0  \n2623         product2 2019-12-09 01:43:41.174195  964964743.0  \n2624             cart 2019-12-09 01:43:57.325569  964964743.0  \n2625  delivery_choice 2019-12-09 01:43:57.486518  964964743.0  \n2626  delivery_pickup 2019-12-09 01:43:57.766850  964964743.0  \n2627             lost 2019-12-09 01:43:58.766850  964964743.0  \n2628             lost 2019-12-09 01:43:58.766850  964964743.0  ",
      "text/html": "<div>\n<style scoped>\n    .dataframe tbody tr th:only-of-type {\n        vertical-align: middle;\n    }\n\n    .dataframe tbody tr th {\n        vertical-align: top;\n    }\n\n    .dataframe thead th {\n        text-align: right;\n    }\n</style>\n<table border=\"1\" class=\"dataframe\">\n  <thead>\n    <tr style=\"text-align: right;\">\n      <th></th>\n      <th>event_id</th>\n      <th>event_type</th>\n      <th>event_index</th>\n      <th>event_name</th>\n      <th>event_timestamp</th>\n      <th>user_id</th>\n    </tr>\n  </thead>\n  <tbody>\n    <tr>\n      <th>4</th>\n      <td>15adbed9-861d-44b7-9ed9-ee039b82774c</td>\n      <td>raw</td>\n      <td>4</td>\n      <td>catalog</td>\n      <td>2019-11-01 21:38:19.283663</td>\n      <td>964964743.0</td>\n    </tr>\n    <tr>\n      <th>5</th>\n      <td>502b9da4-9fb2-49c0-a26b-b8fce7a4a7d4</td>\n      <td>raw</td>\n      <td>5</td>\n      <td>cart</td>\n      <td>2019-11-01 21:38:36.761221</td>\n      <td>964964743.0</td>\n    </tr>\n    <tr>\n      <th>6</th>\n      <td>b69c702b-2856-45c8-aa60-013eb6743217</td>\n      <td>raw</td>\n      <td>6</td>\n      <td>delivery_choice</td>\n      <td>2019-11-01 21:38:37.564693</td>\n      <td>964964743.0</td>\n    </tr>\n    <tr>\n      <th>2618</th>\n      <td>2fe1838a-4876-418b-bd15-9ed67896529f</td>\n      <td>raw</td>\n      <td>2618</td>\n      <td>main</td>\n      <td>2019-12-09 01:42:22.801831</td>\n      <td>964964743.0</td>\n    </tr>\n    <tr>\n      <th>2619</th>\n      <td>df188c43-ff63-4113-95f4-6ba2d9bfc03c</td>\n      <td>raw</td>\n      <td>2619</td>\n      <td>catalog</td>\n      <td>2019-12-09 01:42:23.617764</td>\n      <td>964964743.0</td>\n    </tr>\n    <tr>\n      <th>2620</th>\n      <td>45fb4377-11f4-4eb3-b71b-8c42e3eac81b</td>\n      <td>raw</td>\n      <td>2620</td>\n      <td>product2</td>\n      <td>2019-12-09 01:42:56.877340</td>\n      <td>964964743.0</td>\n    </tr>\n    <tr>\n      <th>2621</th>\n      <td>33554711-cd56-4af8-b242-53b521232a63</td>\n      <td>raw</td>\n      <td>2621</td>\n      <td>catalog</td>\n      <td>2019-12-09 01:43:05.436223</td>\n      <td>964964743.0</td>\n    </tr>\n    <tr>\n      <th>2622</th>\n      <td>60fe9b0e-03ac-487b-8b4a-e7566ca93187</td>\n      <td>raw</td>\n      <td>2622</td>\n      <td>catalog</td>\n      <td>2019-12-09 01:43:36.923178</td>\n      <td>964964743.0</td>\n    </tr>\n    <tr>\n      <th>2623</th>\n      <td>b4609a5f-7662-4048-98fa-b03191a30d64</td>\n      <td>raw</td>\n      <td>2623</td>\n      <td>product2</td>\n      <td>2019-12-09 01:43:41.174195</td>\n      <td>964964743.0</td>\n    </tr>\n    <tr>\n      <th>2624</th>\n      <td>e50da712-8b2a-464a-b5e7-9ef59834c43b</td>\n      <td>raw</td>\n      <td>2624</td>\n      <td>cart</td>\n      <td>2019-12-09 01:43:57.325569</td>\n      <td>964964743.0</td>\n    </tr>\n    <tr>\n      <th>2625</th>\n      <td>496c384d-3cee-4aff-aab4-2e8d58d4e01c</td>\n      <td>raw</td>\n      <td>2625</td>\n      <td>delivery_choice</td>\n      <td>2019-12-09 01:43:57.486518</td>\n      <td>964964743.0</td>\n    </tr>\n    <tr>\n      <th>2626</th>\n      <td>cf4e8d54-dcb3-48de-998a-ac8002d2c104</td>\n      <td>raw</td>\n      <td>2626</td>\n      <td>delivery_pickup</td>\n      <td>2019-12-09 01:43:57.766850</td>\n      <td>964964743.0</td>\n    </tr>\n    <tr>\n      <th>2627</th>\n      <td>2ff9dcd0-30c0-4e84-bb8b-e0040d245e2d</td>\n      <td>raw</td>\n      <td>2627</td>\n      <td>lost</td>\n      <td>2019-12-09 01:43:58.766850</td>\n      <td>964964743.0</td>\n    </tr>\n    <tr>\n      <th>2628</th>\n      <td>b51e5761-edc0-47a4-aec2-275f46234d34</td>\n      <td>lost</td>\n      <td>2628</td>\n      <td>lost</td>\n      <td>2019-12-09 01:43:58.766850</td>\n      <td>964964743.0</td>\n    </tr>\n  </tbody>\n</table>\n</div>"
     },
     "execution_count": 54,
     "metadata": {},
     "output_type": "execute_result"
    }
   ],
   "source": [
    "print(len(df4[df4['user_id'] == 964964743]))\n",
    "df4[df4['user_id'] == 964964743]"
   ],
   "metadata": {
    "collapsed": false,
    "pycharm": {
     "name": "#%%\n"
    }
   }
  },
  {
   "cell_type": "code",
   "execution_count": 55,
   "outputs": [
    {
     "name": "stdout",
     "output_type": "stream",
     "text": [
      "13\n"
     ]
    },
    {
     "data": {
      "text/plain": "                                  event_id event_type  event_index  \\\n4     15adbed9-861d-44b7-9ed9-ee039b82774c        raw            4   \n5     502b9da4-9fb2-49c0-a26b-b8fce7a4a7d4        raw            5   \n6     b69c702b-2856-45c8-aa60-013eb6743217        raw            6   \n2439  2fe1838a-4876-418b-bd15-9ed67896529f        raw         2439   \n2440  df188c43-ff63-4113-95f4-6ba2d9bfc03c        raw         2440   \n2441  45fb4377-11f4-4eb3-b71b-8c42e3eac81b        raw         2441   \n2442  33554711-cd56-4af8-b242-53b521232a63        raw         2442   \n2443  60fe9b0e-03ac-487b-8b4a-e7566ca93187        raw         2443   \n2444  b4609a5f-7662-4048-98fa-b03191a30d64        raw         2444   \n2445  e50da712-8b2a-464a-b5e7-9ef59834c43b        raw         2445   \n2446  496c384d-3cee-4aff-aab4-2e8d58d4e01c        raw         2446   \n2447  cf4e8d54-dcb3-48de-998a-ac8002d2c104        raw         2447   \n2448  2ff9dcd0-30c0-4e84-bb8b-e0040d245e2d        raw         2448   \n\n           event_name            event_timestamp    user_id  \n4             catalog 2019-11-01 21:38:19.283663  964964743  \n5                cart 2019-11-01 21:38:36.761221  964964743  \n6     delivery_choice 2019-11-01 21:38:37.564693  964964743  \n2439             main 2019-12-09 01:42:22.801831  964964743  \n2440          catalog 2019-12-09 01:42:23.617764  964964743  \n2441         product2 2019-12-09 01:42:56.877340  964964743  \n2442          catalog 2019-12-09 01:43:05.436223  964964743  \n2443          catalog 2019-12-09 01:43:36.923178  964964743  \n2444         product2 2019-12-09 01:43:41.174195  964964743  \n2445             cart 2019-12-09 01:43:57.325569  964964743  \n2446  delivery_choice 2019-12-09 01:43:57.486518  964964743  \n2447  delivery_pickup 2019-12-09 01:43:57.766850  964964743  \n2448             lost 2019-12-09 01:43:58.766850  964964743  ",
      "text/html": "<div>\n<style scoped>\n    .dataframe tbody tr th:only-of-type {\n        vertical-align: middle;\n    }\n\n    .dataframe tbody tr th {\n        vertical-align: top;\n    }\n\n    .dataframe thead th {\n        text-align: right;\n    }\n</style>\n<table border=\"1\" class=\"dataframe\">\n  <thead>\n    <tr style=\"text-align: right;\">\n      <th></th>\n      <th>event_id</th>\n      <th>event_type</th>\n      <th>event_index</th>\n      <th>event_name</th>\n      <th>event_timestamp</th>\n      <th>user_id</th>\n    </tr>\n  </thead>\n  <tbody>\n    <tr>\n      <th>4</th>\n      <td>15adbed9-861d-44b7-9ed9-ee039b82774c</td>\n      <td>raw</td>\n      <td>4</td>\n      <td>catalog</td>\n      <td>2019-11-01 21:38:19.283663</td>\n      <td>964964743</td>\n    </tr>\n    <tr>\n      <th>5</th>\n      <td>502b9da4-9fb2-49c0-a26b-b8fce7a4a7d4</td>\n      <td>raw</td>\n      <td>5</td>\n      <td>cart</td>\n      <td>2019-11-01 21:38:36.761221</td>\n      <td>964964743</td>\n    </tr>\n    <tr>\n      <th>6</th>\n      <td>b69c702b-2856-45c8-aa60-013eb6743217</td>\n      <td>raw</td>\n      <td>6</td>\n      <td>delivery_choice</td>\n      <td>2019-11-01 21:38:37.564693</td>\n      <td>964964743</td>\n    </tr>\n    <tr>\n      <th>2439</th>\n      <td>2fe1838a-4876-418b-bd15-9ed67896529f</td>\n      <td>raw</td>\n      <td>2439</td>\n      <td>main</td>\n      <td>2019-12-09 01:42:22.801831</td>\n      <td>964964743</td>\n    </tr>\n    <tr>\n      <th>2440</th>\n      <td>df188c43-ff63-4113-95f4-6ba2d9bfc03c</td>\n      <td>raw</td>\n      <td>2440</td>\n      <td>catalog</td>\n      <td>2019-12-09 01:42:23.617764</td>\n      <td>964964743</td>\n    </tr>\n    <tr>\n      <th>2441</th>\n      <td>45fb4377-11f4-4eb3-b71b-8c42e3eac81b</td>\n      <td>raw</td>\n      <td>2441</td>\n      <td>product2</td>\n      <td>2019-12-09 01:42:56.877340</td>\n      <td>964964743</td>\n    </tr>\n    <tr>\n      <th>2442</th>\n      <td>33554711-cd56-4af8-b242-53b521232a63</td>\n      <td>raw</td>\n      <td>2442</td>\n      <td>catalog</td>\n      <td>2019-12-09 01:43:05.436223</td>\n      <td>964964743</td>\n    </tr>\n    <tr>\n      <th>2443</th>\n      <td>60fe9b0e-03ac-487b-8b4a-e7566ca93187</td>\n      <td>raw</td>\n      <td>2443</td>\n      <td>catalog</td>\n      <td>2019-12-09 01:43:36.923178</td>\n      <td>964964743</td>\n    </tr>\n    <tr>\n      <th>2444</th>\n      <td>b4609a5f-7662-4048-98fa-b03191a30d64</td>\n      <td>raw</td>\n      <td>2444</td>\n      <td>product2</td>\n      <td>2019-12-09 01:43:41.174195</td>\n      <td>964964743</td>\n    </tr>\n    <tr>\n      <th>2445</th>\n      <td>e50da712-8b2a-464a-b5e7-9ef59834c43b</td>\n      <td>raw</td>\n      <td>2445</td>\n      <td>cart</td>\n      <td>2019-12-09 01:43:57.325569</td>\n      <td>964964743</td>\n    </tr>\n    <tr>\n      <th>2446</th>\n      <td>496c384d-3cee-4aff-aab4-2e8d58d4e01c</td>\n      <td>raw</td>\n      <td>2446</td>\n      <td>delivery_choice</td>\n      <td>2019-12-09 01:43:57.486518</td>\n      <td>964964743</td>\n    </tr>\n    <tr>\n      <th>2447</th>\n      <td>cf4e8d54-dcb3-48de-998a-ac8002d2c104</td>\n      <td>raw</td>\n      <td>2447</td>\n      <td>delivery_pickup</td>\n      <td>2019-12-09 01:43:57.766850</td>\n      <td>964964743</td>\n    </tr>\n    <tr>\n      <th>2448</th>\n      <td>2ff9dcd0-30c0-4e84-bb8b-e0040d245e2d</td>\n      <td>raw</td>\n      <td>2448</td>\n      <td>lost</td>\n      <td>2019-12-09 01:43:58.766850</td>\n      <td>964964743</td>\n    </tr>\n  </tbody>\n</table>\n</div>"
     },
     "execution_count": 55,
     "metadata": {},
     "output_type": "execute_result"
    }
   ],
   "source": [
    "print(len(source_df[source_df['user_id'] == 964964743]))\n",
    "source_df[source_df['user_id'] == 964964743]"
   ],
   "metadata": {
    "collapsed": false,
    "pycharm": {
     "name": "#%%\n"
    }
   }
  },
  {
   "cell_type": "code",
   "execution_count": 56,
   "outputs": [
    {
     "name": "stdout",
     "output_type": "stream",
     "text": [
      "48\n",
      "49\n"
     ]
    },
    {
     "data": {
      "text/plain": "                                   event_id event_type  event_index  \\\n7      7a389bd2-7b5c-4cf0-b365-70142206e0e4        raw            7   \n9      455e891e-10df-4944-914a-7a297ce2ca92        raw            9   \n11     dc5cde8f-1a46-452a-ba0b-2cbd2fbde31d        raw           11   \n13     44be1b16-584b-42a0-b403-6d7b0b723589        raw           13   \n14     a2580166-2c15-4369-ad25-1cb60f254d17        raw           14   \n15     51cbfd8d-5226-4926-8033-6c3e18c3d342        raw           15   \n16     7360850e-da7e-40f1-8c2a-d08d964559ba        raw           16   \n17     edcf275b-2fca-4a42-81fb-3c7050f7aaa7        raw           17   \n18     1d29c4bf-90f3-4497-bd4f-2a75ac532258        raw           18   \n19     586f4b40-268b-4835-a63e-a947e26d3847        raw           19   \n20     39a65d24-17d1-482c-908e-3d9b11cf5d51        raw           20   \n21     8ccab9d0-f768-479a-8379-1abb5a26d412        raw           21   \n22     68448bb0-8a99-4e60-bb4b-c8ccc621fbe9        raw           22   \n23     99219a78-a28b-4337-9162-50c62fd60d3a        raw           23   \n24     b5642490-32b7-421b-9d87-11c25f689e92        raw           24   \n25     5e25b9df-c033-4d33-b683-36d2e1418921        raw           25   \n27     48c0bd0d-a51d-4f5b-95f2-3d3ea3d41d65        raw           27   \n29     d163087a-86e2-4582-87b2-937b08b19750        raw           29   \n31     f190503c-49ea-4f1e-a942-afc7ae7a1932        raw           31   \n33     deb386c9-272e-4fa4-9290-7323bdd87301        raw           33   \n36     66e50d9d-396d-4e1e-8114-1b6b839054b6        raw           36   \n38     75883115-b1ab-4d54-bde4-eff16b79c7df        raw           38   \n39     68461009-edaf-429b-928f-20feec66e30d        raw           39   \n42     a5c770f9-af16-43a0-9d7c-c503c6518c80        raw           42   \n44     b0c1c171-8158-41ff-ba8f-b79c9e4f5f4a        raw           44   \n45     46b2fd2d-5ab2-4843-ae58-30b538369bb5        raw           45   \n365    624d7f0c-f8d8-4624-bfa7-27cc1f601247        raw          365   \n367    a0359799-cd9a-4058-933f-c812ef8b77db        raw          367   \n370    51483b62-05a2-4c24-aa33-80557562151c        raw          370   \n1436   3749eebe-4e88-4674-809d-eb7c1d99742b        raw         1436   \n1437   9b85cdbd-3f0a-4ab7-9f9d-1c2de77fb518        raw         1437   \n1438   7b0d3a5b-fa68-4cc8-8fb8-707954eb026a        raw         1438   \n6720   023282c5-4848-4986-bba0-0a2797537df2        raw         6720   \n6721   c1482d19-9c06-4840-a6a3-f55933237bbf        raw         6721   \n11405  5293da84-b29c-4329-b9a1-50ebb14d7e2f        raw        11405   \n11406  5ea2a796-409b-4818-8ac2-66e2af58e00b        raw        11406   \n11407  0eefad2b-4161-41ea-a330-f107939bebce        raw        11407   \n12268  40bed4a9-ad36-429a-a9bc-078e578bef8c        raw        12268   \n12269  1fe940b3-a3c4-4001-9908-667fbe220fb2        raw        12269   \n15010  c28a513d-1fc3-415c-bbb2-e32d5e16d162        raw        15010   \n15011  73cfb7e5-b284-4e6a-91d9-ad5780e4ffab        raw        15011   \n15688  343f89ce-e6d7-46e7-9c6b-46f2cbcb695e        raw        15688   \n15715  90248bab-19bf-41d8-b969-8393e56b5b04        raw        15715   \n15716  545b8093-39f9-4d35-9945-79a6ec35b6fa        raw        15716   \n15717  38b7f0d2-0eee-404c-980a-f46705c9c33d        raw        15717   \n15718  9c61945b-559e-4338-ab34-2fdf0213ee15        raw        15718   \n15719  d6fd28f5-fabf-4481-b4bf-b8b945043777        raw        15719   \n15720  09f9a2be-14bd-4322-8193-41f74957ceaa        raw        15720   \n15721  6794b22c-94d5-4fbc-9ab8-083d3c12e967       lost        15721   \n\n             event_name            event_timestamp      user_id  \n7                  main 2019-11-01 22:28:54.791683  629881394.0  \n9               catalog 2019-11-01 22:29:01.049513  629881394.0  \n11              catalog 2019-11-01 22:29:32.322458  629881394.0  \n13              catalog 2019-11-01 22:30:09.450839  629881394.0  \n14              catalog 2019-11-01 22:31:05.565762  629881394.0  \n15                 main 2019-11-01 22:31:08.333560  629881394.0  \n16              catalog 2019-11-01 22:31:09.010626  629881394.0  \n17             product1 2019-11-01 22:31:10.416231  629881394.0  \n18              catalog 2019-11-01 22:31:43.019527  629881394.0  \n19              catalog 2019-11-01 22:32:01.596163  629881394.0  \n20             product1 2019-11-01 22:32:07.348536  629881394.0  \n21              catalog 2019-11-01 22:32:10.165568  629881394.0  \n22             product2 2019-11-01 22:32:16.496241  629881394.0  \n23              catalog 2019-11-01 22:33:17.682468  629881394.0  \n24             product1 2019-11-01 22:33:19.961115  629881394.0  \n25              catalog 2019-11-01 22:33:35.460345  629881394.0  \n27              catalog 2019-11-01 22:34:02.301293  629881394.0  \n29             product2 2019-11-01 22:34:32.362386  629881394.0  \n31              catalog 2019-11-01 22:35:01.462515  629881394.0  \n33             product2 2019-11-01 22:35:33.142711  629881394.0  \n36                 cart 2019-11-01 22:35:50.437706  629881394.0  \n38      delivery_choice 2019-11-01 22:35:57.649549  629881394.0  \n39     delivery_courier 2019-11-01 22:36:02.009271  629881394.0  \n42       payment_choice 2019-11-01 22:36:02.243274  629881394.0  \n44         payment_cash 2019-11-01 22:36:03.415201  629881394.0  \n45         payment_done 2019-11-01 22:36:03.999697  629881394.0  \n365                main 2019-11-07 12:40:46.004674  629881394.0  \n367             catalog 2019-11-07 12:40:55.724185  629881394.0  \n370                cart 2019-11-07 12:41:04.107187  629881394.0  \n1436               main 2019-11-25 23:16:56.317624  629881394.0  \n1437            catalog 2019-11-25 23:17:16.266242  629881394.0  \n1438            catalog 2019-11-25 23:17:48.747304  629881394.0  \n6720               main 2020-01-23 18:56:23.445236  629881394.0  \n6721            catalog 2020-01-23 18:56:30.461624  629881394.0  \n11405              main 2020-03-01 23:23:43.392597  629881394.0  \n11406           catalog 2020-03-01 23:23:44.755693  629881394.0  \n11407              main 2020-03-01 23:23:51.625991  629881394.0  \n12268              main 2020-03-07 12:05:23.938242  629881394.0  \n12269           catalog 2020-03-07 12:05:32.476046  629881394.0  \n15010              main 2020-03-26 13:00:47.844886  629881394.0  \n15011           catalog 2020-03-26 13:00:49.531644  629881394.0  \n15688              main 2020-03-30 00:11:47.920536  629881394.0  \n15715              main 2020-03-30 03:17:46.909845  629881394.0  \n15716           catalog 2020-03-30 03:17:49.918774  629881394.0  \n15717           catalog 2020-03-30 03:18:17.835191  629881394.0  \n15718           catalog 2020-03-30 03:18:53.715887  629881394.0  \n15719           catalog 2020-03-30 03:19:36.034262  629881394.0  \n15720           catalog 2020-03-30 03:19:59.515094  629881394.0  \n15721              lost 2020-03-30 03:19:59.515094  629881394.0  ",
      "text/html": "<div>\n<style scoped>\n    .dataframe tbody tr th:only-of-type {\n        vertical-align: middle;\n    }\n\n    .dataframe tbody tr th {\n        vertical-align: top;\n    }\n\n    .dataframe thead th {\n        text-align: right;\n    }\n</style>\n<table border=\"1\" class=\"dataframe\">\n  <thead>\n    <tr style=\"text-align: right;\">\n      <th></th>\n      <th>event_id</th>\n      <th>event_type</th>\n      <th>event_index</th>\n      <th>event_name</th>\n      <th>event_timestamp</th>\n      <th>user_id</th>\n    </tr>\n  </thead>\n  <tbody>\n    <tr>\n      <th>7</th>\n      <td>7a389bd2-7b5c-4cf0-b365-70142206e0e4</td>\n      <td>raw</td>\n      <td>7</td>\n      <td>main</td>\n      <td>2019-11-01 22:28:54.791683</td>\n      <td>629881394.0</td>\n    </tr>\n    <tr>\n      <th>9</th>\n      <td>455e891e-10df-4944-914a-7a297ce2ca92</td>\n      <td>raw</td>\n      <td>9</td>\n      <td>catalog</td>\n      <td>2019-11-01 22:29:01.049513</td>\n      <td>629881394.0</td>\n    </tr>\n    <tr>\n      <th>11</th>\n      <td>dc5cde8f-1a46-452a-ba0b-2cbd2fbde31d</td>\n      <td>raw</td>\n      <td>11</td>\n      <td>catalog</td>\n      <td>2019-11-01 22:29:32.322458</td>\n      <td>629881394.0</td>\n    </tr>\n    <tr>\n      <th>13</th>\n      <td>44be1b16-584b-42a0-b403-6d7b0b723589</td>\n      <td>raw</td>\n      <td>13</td>\n      <td>catalog</td>\n      <td>2019-11-01 22:30:09.450839</td>\n      <td>629881394.0</td>\n    </tr>\n    <tr>\n      <th>14</th>\n      <td>a2580166-2c15-4369-ad25-1cb60f254d17</td>\n      <td>raw</td>\n      <td>14</td>\n      <td>catalog</td>\n      <td>2019-11-01 22:31:05.565762</td>\n      <td>629881394.0</td>\n    </tr>\n    <tr>\n      <th>15</th>\n      <td>51cbfd8d-5226-4926-8033-6c3e18c3d342</td>\n      <td>raw</td>\n      <td>15</td>\n      <td>main</td>\n      <td>2019-11-01 22:31:08.333560</td>\n      <td>629881394.0</td>\n    </tr>\n    <tr>\n      <th>16</th>\n      <td>7360850e-da7e-40f1-8c2a-d08d964559ba</td>\n      <td>raw</td>\n      <td>16</td>\n      <td>catalog</td>\n      <td>2019-11-01 22:31:09.010626</td>\n      <td>629881394.0</td>\n    </tr>\n    <tr>\n      <th>17</th>\n      <td>edcf275b-2fca-4a42-81fb-3c7050f7aaa7</td>\n      <td>raw</td>\n      <td>17</td>\n      <td>product1</td>\n      <td>2019-11-01 22:31:10.416231</td>\n      <td>629881394.0</td>\n    </tr>\n    <tr>\n      <th>18</th>\n      <td>1d29c4bf-90f3-4497-bd4f-2a75ac532258</td>\n      <td>raw</td>\n      <td>18</td>\n      <td>catalog</td>\n      <td>2019-11-01 22:31:43.019527</td>\n      <td>629881394.0</td>\n    </tr>\n    <tr>\n      <th>19</th>\n      <td>586f4b40-268b-4835-a63e-a947e26d3847</td>\n      <td>raw</td>\n      <td>19</td>\n      <td>catalog</td>\n      <td>2019-11-01 22:32:01.596163</td>\n      <td>629881394.0</td>\n    </tr>\n    <tr>\n      <th>20</th>\n      <td>39a65d24-17d1-482c-908e-3d9b11cf5d51</td>\n      <td>raw</td>\n      <td>20</td>\n      <td>product1</td>\n      <td>2019-11-01 22:32:07.348536</td>\n      <td>629881394.0</td>\n    </tr>\n    <tr>\n      <th>21</th>\n      <td>8ccab9d0-f768-479a-8379-1abb5a26d412</td>\n      <td>raw</td>\n      <td>21</td>\n      <td>catalog</td>\n      <td>2019-11-01 22:32:10.165568</td>\n      <td>629881394.0</td>\n    </tr>\n    <tr>\n      <th>22</th>\n      <td>68448bb0-8a99-4e60-bb4b-c8ccc621fbe9</td>\n      <td>raw</td>\n      <td>22</td>\n      <td>product2</td>\n      <td>2019-11-01 22:32:16.496241</td>\n      <td>629881394.0</td>\n    </tr>\n    <tr>\n      <th>23</th>\n      <td>99219a78-a28b-4337-9162-50c62fd60d3a</td>\n      <td>raw</td>\n      <td>23</td>\n      <td>catalog</td>\n      <td>2019-11-01 22:33:17.682468</td>\n      <td>629881394.0</td>\n    </tr>\n    <tr>\n      <th>24</th>\n      <td>b5642490-32b7-421b-9d87-11c25f689e92</td>\n      <td>raw</td>\n      <td>24</td>\n      <td>product1</td>\n      <td>2019-11-01 22:33:19.961115</td>\n      <td>629881394.0</td>\n    </tr>\n    <tr>\n      <th>25</th>\n      <td>5e25b9df-c033-4d33-b683-36d2e1418921</td>\n      <td>raw</td>\n      <td>25</td>\n      <td>catalog</td>\n      <td>2019-11-01 22:33:35.460345</td>\n      <td>629881394.0</td>\n    </tr>\n    <tr>\n      <th>27</th>\n      <td>48c0bd0d-a51d-4f5b-95f2-3d3ea3d41d65</td>\n      <td>raw</td>\n      <td>27</td>\n      <td>catalog</td>\n      <td>2019-11-01 22:34:02.301293</td>\n      <td>629881394.0</td>\n    </tr>\n    <tr>\n      <th>29</th>\n      <td>d163087a-86e2-4582-87b2-937b08b19750</td>\n      <td>raw</td>\n      <td>29</td>\n      <td>product2</td>\n      <td>2019-11-01 22:34:32.362386</td>\n      <td>629881394.0</td>\n    </tr>\n    <tr>\n      <th>31</th>\n      <td>f190503c-49ea-4f1e-a942-afc7ae7a1932</td>\n      <td>raw</td>\n      <td>31</td>\n      <td>catalog</td>\n      <td>2019-11-01 22:35:01.462515</td>\n      <td>629881394.0</td>\n    </tr>\n    <tr>\n      <th>33</th>\n      <td>deb386c9-272e-4fa4-9290-7323bdd87301</td>\n      <td>raw</td>\n      <td>33</td>\n      <td>product2</td>\n      <td>2019-11-01 22:35:33.142711</td>\n      <td>629881394.0</td>\n    </tr>\n    <tr>\n      <th>36</th>\n      <td>66e50d9d-396d-4e1e-8114-1b6b839054b6</td>\n      <td>raw</td>\n      <td>36</td>\n      <td>cart</td>\n      <td>2019-11-01 22:35:50.437706</td>\n      <td>629881394.0</td>\n    </tr>\n    <tr>\n      <th>38</th>\n      <td>75883115-b1ab-4d54-bde4-eff16b79c7df</td>\n      <td>raw</td>\n      <td>38</td>\n      <td>delivery_choice</td>\n      <td>2019-11-01 22:35:57.649549</td>\n      <td>629881394.0</td>\n    </tr>\n    <tr>\n      <th>39</th>\n      <td>68461009-edaf-429b-928f-20feec66e30d</td>\n      <td>raw</td>\n      <td>39</td>\n      <td>delivery_courier</td>\n      <td>2019-11-01 22:36:02.009271</td>\n      <td>629881394.0</td>\n    </tr>\n    <tr>\n      <th>42</th>\n      <td>a5c770f9-af16-43a0-9d7c-c503c6518c80</td>\n      <td>raw</td>\n      <td>42</td>\n      <td>payment_choice</td>\n      <td>2019-11-01 22:36:02.243274</td>\n      <td>629881394.0</td>\n    </tr>\n    <tr>\n      <th>44</th>\n      <td>b0c1c171-8158-41ff-ba8f-b79c9e4f5f4a</td>\n      <td>raw</td>\n      <td>44</td>\n      <td>payment_cash</td>\n      <td>2019-11-01 22:36:03.415201</td>\n      <td>629881394.0</td>\n    </tr>\n    <tr>\n      <th>45</th>\n      <td>46b2fd2d-5ab2-4843-ae58-30b538369bb5</td>\n      <td>raw</td>\n      <td>45</td>\n      <td>payment_done</td>\n      <td>2019-11-01 22:36:03.999697</td>\n      <td>629881394.0</td>\n    </tr>\n    <tr>\n      <th>365</th>\n      <td>624d7f0c-f8d8-4624-bfa7-27cc1f601247</td>\n      <td>raw</td>\n      <td>365</td>\n      <td>main</td>\n      <td>2019-11-07 12:40:46.004674</td>\n      <td>629881394.0</td>\n    </tr>\n    <tr>\n      <th>367</th>\n      <td>a0359799-cd9a-4058-933f-c812ef8b77db</td>\n      <td>raw</td>\n      <td>367</td>\n      <td>catalog</td>\n      <td>2019-11-07 12:40:55.724185</td>\n      <td>629881394.0</td>\n    </tr>\n    <tr>\n      <th>370</th>\n      <td>51483b62-05a2-4c24-aa33-80557562151c</td>\n      <td>raw</td>\n      <td>370</td>\n      <td>cart</td>\n      <td>2019-11-07 12:41:04.107187</td>\n      <td>629881394.0</td>\n    </tr>\n    <tr>\n      <th>1436</th>\n      <td>3749eebe-4e88-4674-809d-eb7c1d99742b</td>\n      <td>raw</td>\n      <td>1436</td>\n      <td>main</td>\n      <td>2019-11-25 23:16:56.317624</td>\n      <td>629881394.0</td>\n    </tr>\n    <tr>\n      <th>1437</th>\n      <td>9b85cdbd-3f0a-4ab7-9f9d-1c2de77fb518</td>\n      <td>raw</td>\n      <td>1437</td>\n      <td>catalog</td>\n      <td>2019-11-25 23:17:16.266242</td>\n      <td>629881394.0</td>\n    </tr>\n    <tr>\n      <th>1438</th>\n      <td>7b0d3a5b-fa68-4cc8-8fb8-707954eb026a</td>\n      <td>raw</td>\n      <td>1438</td>\n      <td>catalog</td>\n      <td>2019-11-25 23:17:48.747304</td>\n      <td>629881394.0</td>\n    </tr>\n    <tr>\n      <th>6720</th>\n      <td>023282c5-4848-4986-bba0-0a2797537df2</td>\n      <td>raw</td>\n      <td>6720</td>\n      <td>main</td>\n      <td>2020-01-23 18:56:23.445236</td>\n      <td>629881394.0</td>\n    </tr>\n    <tr>\n      <th>6721</th>\n      <td>c1482d19-9c06-4840-a6a3-f55933237bbf</td>\n      <td>raw</td>\n      <td>6721</td>\n      <td>catalog</td>\n      <td>2020-01-23 18:56:30.461624</td>\n      <td>629881394.0</td>\n    </tr>\n    <tr>\n      <th>11405</th>\n      <td>5293da84-b29c-4329-b9a1-50ebb14d7e2f</td>\n      <td>raw</td>\n      <td>11405</td>\n      <td>main</td>\n      <td>2020-03-01 23:23:43.392597</td>\n      <td>629881394.0</td>\n    </tr>\n    <tr>\n      <th>11406</th>\n      <td>5ea2a796-409b-4818-8ac2-66e2af58e00b</td>\n      <td>raw</td>\n      <td>11406</td>\n      <td>catalog</td>\n      <td>2020-03-01 23:23:44.755693</td>\n      <td>629881394.0</td>\n    </tr>\n    <tr>\n      <th>11407</th>\n      <td>0eefad2b-4161-41ea-a330-f107939bebce</td>\n      <td>raw</td>\n      <td>11407</td>\n      <td>main</td>\n      <td>2020-03-01 23:23:51.625991</td>\n      <td>629881394.0</td>\n    </tr>\n    <tr>\n      <th>12268</th>\n      <td>40bed4a9-ad36-429a-a9bc-078e578bef8c</td>\n      <td>raw</td>\n      <td>12268</td>\n      <td>main</td>\n      <td>2020-03-07 12:05:23.938242</td>\n      <td>629881394.0</td>\n    </tr>\n    <tr>\n      <th>12269</th>\n      <td>1fe940b3-a3c4-4001-9908-667fbe220fb2</td>\n      <td>raw</td>\n      <td>12269</td>\n      <td>catalog</td>\n      <td>2020-03-07 12:05:32.476046</td>\n      <td>629881394.0</td>\n    </tr>\n    <tr>\n      <th>15010</th>\n      <td>c28a513d-1fc3-415c-bbb2-e32d5e16d162</td>\n      <td>raw</td>\n      <td>15010</td>\n      <td>main</td>\n      <td>2020-03-26 13:00:47.844886</td>\n      <td>629881394.0</td>\n    </tr>\n    <tr>\n      <th>15011</th>\n      <td>73cfb7e5-b284-4e6a-91d9-ad5780e4ffab</td>\n      <td>raw</td>\n      <td>15011</td>\n      <td>catalog</td>\n      <td>2020-03-26 13:00:49.531644</td>\n      <td>629881394.0</td>\n    </tr>\n    <tr>\n      <th>15688</th>\n      <td>343f89ce-e6d7-46e7-9c6b-46f2cbcb695e</td>\n      <td>raw</td>\n      <td>15688</td>\n      <td>main</td>\n      <td>2020-03-30 00:11:47.920536</td>\n      <td>629881394.0</td>\n    </tr>\n    <tr>\n      <th>15715</th>\n      <td>90248bab-19bf-41d8-b969-8393e56b5b04</td>\n      <td>raw</td>\n      <td>15715</td>\n      <td>main</td>\n      <td>2020-03-30 03:17:46.909845</td>\n      <td>629881394.0</td>\n    </tr>\n    <tr>\n      <th>15716</th>\n      <td>545b8093-39f9-4d35-9945-79a6ec35b6fa</td>\n      <td>raw</td>\n      <td>15716</td>\n      <td>catalog</td>\n      <td>2020-03-30 03:17:49.918774</td>\n      <td>629881394.0</td>\n    </tr>\n    <tr>\n      <th>15717</th>\n      <td>38b7f0d2-0eee-404c-980a-f46705c9c33d</td>\n      <td>raw</td>\n      <td>15717</td>\n      <td>catalog</td>\n      <td>2020-03-30 03:18:17.835191</td>\n      <td>629881394.0</td>\n    </tr>\n    <tr>\n      <th>15718</th>\n      <td>9c61945b-559e-4338-ab34-2fdf0213ee15</td>\n      <td>raw</td>\n      <td>15718</td>\n      <td>catalog</td>\n      <td>2020-03-30 03:18:53.715887</td>\n      <td>629881394.0</td>\n    </tr>\n    <tr>\n      <th>15719</th>\n      <td>d6fd28f5-fabf-4481-b4bf-b8b945043777</td>\n      <td>raw</td>\n      <td>15719</td>\n      <td>catalog</td>\n      <td>2020-03-30 03:19:36.034262</td>\n      <td>629881394.0</td>\n    </tr>\n    <tr>\n      <th>15720</th>\n      <td>09f9a2be-14bd-4322-8193-41f74957ceaa</td>\n      <td>raw</td>\n      <td>15720</td>\n      <td>catalog</td>\n      <td>2020-03-30 03:19:59.515094</td>\n      <td>629881394.0</td>\n    </tr>\n    <tr>\n      <th>15721</th>\n      <td>6794b22c-94d5-4fbc-9ab8-083d3c12e967</td>\n      <td>lost</td>\n      <td>15721</td>\n      <td>lost</td>\n      <td>2020-03-30 03:19:59.515094</td>\n      <td>629881394.0</td>\n    </tr>\n  </tbody>\n</table>\n</div>"
     },
     "execution_count": 56,
     "metadata": {},
     "output_type": "execute_result"
    }
   ],
   "source": [
    "print(len(source_df[source_df['user_id'] == 629881394]))\n",
    "# source_df[source_df['user_id'] == 629881394]\n",
    "print(len(df4[df4['user_id'] == 629881394]))\n",
    "df4[df4['user_id'] == 629881394]"
   ],
   "metadata": {
    "collapsed": false,
    "pycharm": {
     "name": "#%%\n"
    }
   }
  },
  {
   "cell_type": "code",
   "execution_count": 57,
   "outputs": [
    {
     "data": {
      "text/plain": "Timedelta('30 days 09:28:08.080296')"
     },
     "execution_count": 57,
     "metadata": {},
     "output_type": "execute_result"
    }
   ],
   "source": [
    "source_df['event_timestamp'].max() - df4[df4['user_id'] == 629881394]['event_timestamp'].max()"
   ],
   "metadata": {
    "collapsed": false,
    "pycharm": {
     "name": "#%%\n"
    }
   }
  },
  {
   "cell_type": "code",
   "execution_count": 58,
   "outputs": [
    {
     "data": {
      "text/plain": "(35381, 39132)"
     },
     "execution_count": 58,
     "metadata": {},
     "output_type": "execute_result"
    }
   ],
   "source": [
    "len(source_df), len(df4)"
   ],
   "metadata": {
    "collapsed": false,
    "pycharm": {
     "name": "#%%\n"
    }
   }
  },
  {
   "cell_type": "code",
   "execution_count": 59,
   "outputs": [
    {
     "data": {
      "text/plain": "raw    35381\nName: event_type, dtype: int64"
     },
     "execution_count": 59,
     "metadata": {},
     "output_type": "execute_result"
    }
   ],
   "source": [
    "source_df['event_type'].value_counts()"
   ],
   "metadata": {
    "collapsed": false,
    "pycharm": {
     "name": "#%%\n"
    }
   }
  },
  {
   "cell_type": "code",
   "execution_count": 60,
   "outputs": [
    {
     "data": {
      "text/plain": "event_type\nraw           35381\nlost           3744\npause             7\ndtype: int64"
     },
     "execution_count": 60,
     "metadata": {},
     "output_type": "execute_result"
    }
   ],
   "source": [
    "df4.value_counts(['event_type'])"
   ],
   "metadata": {
    "collapsed": false,
    "pycharm": {
     "name": "#%%\n"
    }
   }
  },
  {
   "cell_type": "code",
   "execution_count": 61,
   "outputs": [
    {
     "name": "stdout",
     "output_type": "stream",
     "text": [
      "18\n"
     ]
    },
    {
     "data": {
      "text/plain": "                                  event_id event_type  event_index event_name  \\\n0     30da1d31-8f65-4bf1-86c9-aaa1a47e8a71        raw            0    catalog   \n1     6f2c3bf9-69db-4ffb-81ba-1b051271c3c9        raw            1   product1   \n2     349c1446-7269-45ab-9244-684fc1964aca        raw            2       cart   \n3     1ffa7501-52c2-46de-bdd2-41ad74e1c82d        raw            3    catalog   \n2407  ffded02c-06f9-4ea3-9b70-56a0da773386        raw         2407       main   \n2408  637903fe-65bf-44fc-889c-85d762779ed8        raw         2408    catalog   \n2409  0d68bc03-1973-4da4-98ed-6b2e8dc6e7cc        raw         2409    catalog   \n5169  2c0113a6-b8ca-4642-9f35-db788b230514        raw         5169       main   \n5170  50bed9be-5a02-40d0-ae5f-608d24f429ff        raw         5170    catalog   \n5171  172510a1-d8ca-4c5b-a4d9-888b94ba01c4        raw         5171       cart   \n5172  9fb29db5-3b10-4add-b15c-2fa513e303dc        raw         5172    catalog   \n5173  80b614e4-5702-4199-a185-07f94f689492        raw         5173   product1   \n5174  38c0a788-2200-4a5a-83b9-0453aaef1748        raw         5174    catalog   \n5175  c2daea87-2f32-4ec9-96c8-888bf6d3e03c        raw         5175    catalog   \n9329  7de17d66-9c1c-4ad8-88cb-33345fe23785        raw         9329       main   \n9330  7a723d01-ac10-40a7-ab25-8023d0c62664        raw         9330    catalog   \n9331  838d02ed-7c72-444b-bb14-a4426c9f41b9        raw         9331       lost   \n9332  a0307e46-8162-496b-89f0-117b38656bff       lost         9332       lost   \n\n                event_timestamp      user_id  \n0    2019-11-01 17:59:13.273932  219483890.0  \n1    2019-11-01 17:59:28.459271  219483890.0  \n2    2019-11-01 17:59:29.502214  219483890.0  \n3    2019-11-01 17:59:32.557029  219483890.0  \n2407 2019-12-06 16:22:57.484842  219483890.0  \n2408 2019-12-06 16:23:01.331109  219483890.0  \n2409 2019-12-06 16:23:48.116617  219483890.0  \n5169 2020-01-06 22:10:13.635011  219483890.0  \n5170 2020-01-06 22:10:15.228575  219483890.0  \n5171 2020-01-06 22:10:42.309028  219483890.0  \n5172 2020-01-06 22:10:52.255859  219483890.0  \n5173 2020-01-06 22:11:01.709800  219483890.0  \n5174 2020-01-06 22:11:02.899490  219483890.0  \n5175 2020-01-06 22:11:28.271366  219483890.0  \n9329 2020-02-14 21:04:49.450696  219483890.0  \n9330 2020-02-14 21:04:51.717127  219483890.0  \n9331 2020-02-14 21:04:52.717127  219483890.0  \n9332 2020-02-14 21:04:52.717127  219483890.0  ",
      "text/html": "<div>\n<style scoped>\n    .dataframe tbody tr th:only-of-type {\n        vertical-align: middle;\n    }\n\n    .dataframe tbody tr th {\n        vertical-align: top;\n    }\n\n    .dataframe thead th {\n        text-align: right;\n    }\n</style>\n<table border=\"1\" class=\"dataframe\">\n  <thead>\n    <tr style=\"text-align: right;\">\n      <th></th>\n      <th>event_id</th>\n      <th>event_type</th>\n      <th>event_index</th>\n      <th>event_name</th>\n      <th>event_timestamp</th>\n      <th>user_id</th>\n    </tr>\n  </thead>\n  <tbody>\n    <tr>\n      <th>0</th>\n      <td>30da1d31-8f65-4bf1-86c9-aaa1a47e8a71</td>\n      <td>raw</td>\n      <td>0</td>\n      <td>catalog</td>\n      <td>2019-11-01 17:59:13.273932</td>\n      <td>219483890.0</td>\n    </tr>\n    <tr>\n      <th>1</th>\n      <td>6f2c3bf9-69db-4ffb-81ba-1b051271c3c9</td>\n      <td>raw</td>\n      <td>1</td>\n      <td>product1</td>\n      <td>2019-11-01 17:59:28.459271</td>\n      <td>219483890.0</td>\n    </tr>\n    <tr>\n      <th>2</th>\n      <td>349c1446-7269-45ab-9244-684fc1964aca</td>\n      <td>raw</td>\n      <td>2</td>\n      <td>cart</td>\n      <td>2019-11-01 17:59:29.502214</td>\n      <td>219483890.0</td>\n    </tr>\n    <tr>\n      <th>3</th>\n      <td>1ffa7501-52c2-46de-bdd2-41ad74e1c82d</td>\n      <td>raw</td>\n      <td>3</td>\n      <td>catalog</td>\n      <td>2019-11-01 17:59:32.557029</td>\n      <td>219483890.0</td>\n    </tr>\n    <tr>\n      <th>2407</th>\n      <td>ffded02c-06f9-4ea3-9b70-56a0da773386</td>\n      <td>raw</td>\n      <td>2407</td>\n      <td>main</td>\n      <td>2019-12-06 16:22:57.484842</td>\n      <td>219483890.0</td>\n    </tr>\n    <tr>\n      <th>2408</th>\n      <td>637903fe-65bf-44fc-889c-85d762779ed8</td>\n      <td>raw</td>\n      <td>2408</td>\n      <td>catalog</td>\n      <td>2019-12-06 16:23:01.331109</td>\n      <td>219483890.0</td>\n    </tr>\n    <tr>\n      <th>2409</th>\n      <td>0d68bc03-1973-4da4-98ed-6b2e8dc6e7cc</td>\n      <td>raw</td>\n      <td>2409</td>\n      <td>catalog</td>\n      <td>2019-12-06 16:23:48.116617</td>\n      <td>219483890.0</td>\n    </tr>\n    <tr>\n      <th>5169</th>\n      <td>2c0113a6-b8ca-4642-9f35-db788b230514</td>\n      <td>raw</td>\n      <td>5169</td>\n      <td>main</td>\n      <td>2020-01-06 22:10:13.635011</td>\n      <td>219483890.0</td>\n    </tr>\n    <tr>\n      <th>5170</th>\n      <td>50bed9be-5a02-40d0-ae5f-608d24f429ff</td>\n      <td>raw</td>\n      <td>5170</td>\n      <td>catalog</td>\n      <td>2020-01-06 22:10:15.228575</td>\n      <td>219483890.0</td>\n    </tr>\n    <tr>\n      <th>5171</th>\n      <td>172510a1-d8ca-4c5b-a4d9-888b94ba01c4</td>\n      <td>raw</td>\n      <td>5171</td>\n      <td>cart</td>\n      <td>2020-01-06 22:10:42.309028</td>\n      <td>219483890.0</td>\n    </tr>\n    <tr>\n      <th>5172</th>\n      <td>9fb29db5-3b10-4add-b15c-2fa513e303dc</td>\n      <td>raw</td>\n      <td>5172</td>\n      <td>catalog</td>\n      <td>2020-01-06 22:10:52.255859</td>\n      <td>219483890.0</td>\n    </tr>\n    <tr>\n      <th>5173</th>\n      <td>80b614e4-5702-4199-a185-07f94f689492</td>\n      <td>raw</td>\n      <td>5173</td>\n      <td>product1</td>\n      <td>2020-01-06 22:11:01.709800</td>\n      <td>219483890.0</td>\n    </tr>\n    <tr>\n      <th>5174</th>\n      <td>38c0a788-2200-4a5a-83b9-0453aaef1748</td>\n      <td>raw</td>\n      <td>5174</td>\n      <td>catalog</td>\n      <td>2020-01-06 22:11:02.899490</td>\n      <td>219483890.0</td>\n    </tr>\n    <tr>\n      <th>5175</th>\n      <td>c2daea87-2f32-4ec9-96c8-888bf6d3e03c</td>\n      <td>raw</td>\n      <td>5175</td>\n      <td>catalog</td>\n      <td>2020-01-06 22:11:28.271366</td>\n      <td>219483890.0</td>\n    </tr>\n    <tr>\n      <th>9329</th>\n      <td>7de17d66-9c1c-4ad8-88cb-33345fe23785</td>\n      <td>raw</td>\n      <td>9329</td>\n      <td>main</td>\n      <td>2020-02-14 21:04:49.450696</td>\n      <td>219483890.0</td>\n    </tr>\n    <tr>\n      <th>9330</th>\n      <td>7a723d01-ac10-40a7-ab25-8023d0c62664</td>\n      <td>raw</td>\n      <td>9330</td>\n      <td>catalog</td>\n      <td>2020-02-14 21:04:51.717127</td>\n      <td>219483890.0</td>\n    </tr>\n    <tr>\n      <th>9331</th>\n      <td>838d02ed-7c72-444b-bb14-a4426c9f41b9</td>\n      <td>raw</td>\n      <td>9331</td>\n      <td>lost</td>\n      <td>2020-02-14 21:04:52.717127</td>\n      <td>219483890.0</td>\n    </tr>\n    <tr>\n      <th>9332</th>\n      <td>a0307e46-8162-496b-89f0-117b38656bff</td>\n      <td>lost</td>\n      <td>9332</td>\n      <td>lost</td>\n      <td>2020-02-14 21:04:52.717127</td>\n      <td>219483890.0</td>\n    </tr>\n  </tbody>\n</table>\n</div>"
     },
     "execution_count": 61,
     "metadata": {},
     "output_type": "execute_result"
    }
   ],
   "source": [
    "print(len(df4[df4['user_id'] == 219483890]))\n",
    "df4[df4['user_id'] == 219483890].sort_values('event_timestamp')"
   ],
   "metadata": {
    "collapsed": false,
    "pycharm": {
     "name": "#%%\n"
    }
   }
  },
  {
   "cell_type": "code",
   "execution_count": 62,
   "outputs": [
    {
     "name": "stdout",
     "output_type": "stream",
     "text": [
      "17\n"
     ]
    },
    {
     "data": {
      "text/plain": "                                  event_id event_type  event_index event_name  \\\n0     30da1d31-8f65-4bf1-86c9-aaa1a47e8a71        raw            0    catalog   \n1     6f2c3bf9-69db-4ffb-81ba-1b051271c3c9        raw            1   product1   \n2     349c1446-7269-45ab-9244-684fc1964aca        raw            2       cart   \n3     1ffa7501-52c2-46de-bdd2-41ad74e1c82d        raw            3    catalog   \n2245  ffded02c-06f9-4ea3-9b70-56a0da773386        raw         2245       main   \n2246  637903fe-65bf-44fc-889c-85d762779ed8        raw         2246    catalog   \n2247  0d68bc03-1973-4da4-98ed-6b2e8dc6e7cc        raw         2247    catalog   \n4836  2c0113a6-b8ca-4642-9f35-db788b230514        raw         4836       main   \n4837  50bed9be-5a02-40d0-ae5f-608d24f429ff        raw         4837    catalog   \n4838  172510a1-d8ca-4c5b-a4d9-888b94ba01c4        raw         4838       cart   \n4839  9fb29db5-3b10-4add-b15c-2fa513e303dc        raw         4839    catalog   \n4840  80b614e4-5702-4199-a185-07f94f689492        raw         4840   product1   \n4841  38c0a788-2200-4a5a-83b9-0453aaef1748        raw         4841    catalog   \n4842  c2daea87-2f32-4ec9-96c8-888bf6d3e03c        raw         4842    catalog   \n8736  7de17d66-9c1c-4ad8-88cb-33345fe23785        raw         8736       main   \n8737  7a723d01-ac10-40a7-ab25-8023d0c62664        raw         8737    catalog   \n8738  838d02ed-7c72-444b-bb14-a4426c9f41b9        raw         8738       lost   \n\n                event_timestamp    user_id  \n0    2019-11-01 17:59:13.273932  219483890  \n1    2019-11-01 17:59:28.459271  219483890  \n2    2019-11-01 17:59:29.502214  219483890  \n3    2019-11-01 17:59:32.557029  219483890  \n2245 2019-12-06 16:22:57.484842  219483890  \n2246 2019-12-06 16:23:01.331109  219483890  \n2247 2019-12-06 16:23:48.116617  219483890  \n4836 2020-01-06 22:10:13.635011  219483890  \n4837 2020-01-06 22:10:15.228575  219483890  \n4838 2020-01-06 22:10:42.309028  219483890  \n4839 2020-01-06 22:10:52.255859  219483890  \n4840 2020-01-06 22:11:01.709800  219483890  \n4841 2020-01-06 22:11:02.899490  219483890  \n4842 2020-01-06 22:11:28.271366  219483890  \n8736 2020-02-14 21:04:49.450696  219483890  \n8737 2020-02-14 21:04:51.717127  219483890  \n8738 2020-02-14 21:04:52.717127  219483890  ",
      "text/html": "<div>\n<style scoped>\n    .dataframe tbody tr th:only-of-type {\n        vertical-align: middle;\n    }\n\n    .dataframe tbody tr th {\n        vertical-align: top;\n    }\n\n    .dataframe thead th {\n        text-align: right;\n    }\n</style>\n<table border=\"1\" class=\"dataframe\">\n  <thead>\n    <tr style=\"text-align: right;\">\n      <th></th>\n      <th>event_id</th>\n      <th>event_type</th>\n      <th>event_index</th>\n      <th>event_name</th>\n      <th>event_timestamp</th>\n      <th>user_id</th>\n    </tr>\n  </thead>\n  <tbody>\n    <tr>\n      <th>0</th>\n      <td>30da1d31-8f65-4bf1-86c9-aaa1a47e8a71</td>\n      <td>raw</td>\n      <td>0</td>\n      <td>catalog</td>\n      <td>2019-11-01 17:59:13.273932</td>\n      <td>219483890</td>\n    </tr>\n    <tr>\n      <th>1</th>\n      <td>6f2c3bf9-69db-4ffb-81ba-1b051271c3c9</td>\n      <td>raw</td>\n      <td>1</td>\n      <td>product1</td>\n      <td>2019-11-01 17:59:28.459271</td>\n      <td>219483890</td>\n    </tr>\n    <tr>\n      <th>2</th>\n      <td>349c1446-7269-45ab-9244-684fc1964aca</td>\n      <td>raw</td>\n      <td>2</td>\n      <td>cart</td>\n      <td>2019-11-01 17:59:29.502214</td>\n      <td>219483890</td>\n    </tr>\n    <tr>\n      <th>3</th>\n      <td>1ffa7501-52c2-46de-bdd2-41ad74e1c82d</td>\n      <td>raw</td>\n      <td>3</td>\n      <td>catalog</td>\n      <td>2019-11-01 17:59:32.557029</td>\n      <td>219483890</td>\n    </tr>\n    <tr>\n      <th>2245</th>\n      <td>ffded02c-06f9-4ea3-9b70-56a0da773386</td>\n      <td>raw</td>\n      <td>2245</td>\n      <td>main</td>\n      <td>2019-12-06 16:22:57.484842</td>\n      <td>219483890</td>\n    </tr>\n    <tr>\n      <th>2246</th>\n      <td>637903fe-65bf-44fc-889c-85d762779ed8</td>\n      <td>raw</td>\n      <td>2246</td>\n      <td>catalog</td>\n      <td>2019-12-06 16:23:01.331109</td>\n      <td>219483890</td>\n    </tr>\n    <tr>\n      <th>2247</th>\n      <td>0d68bc03-1973-4da4-98ed-6b2e8dc6e7cc</td>\n      <td>raw</td>\n      <td>2247</td>\n      <td>catalog</td>\n      <td>2019-12-06 16:23:48.116617</td>\n      <td>219483890</td>\n    </tr>\n    <tr>\n      <th>4836</th>\n      <td>2c0113a6-b8ca-4642-9f35-db788b230514</td>\n      <td>raw</td>\n      <td>4836</td>\n      <td>main</td>\n      <td>2020-01-06 22:10:13.635011</td>\n      <td>219483890</td>\n    </tr>\n    <tr>\n      <th>4837</th>\n      <td>50bed9be-5a02-40d0-ae5f-608d24f429ff</td>\n      <td>raw</td>\n      <td>4837</td>\n      <td>catalog</td>\n      <td>2020-01-06 22:10:15.228575</td>\n      <td>219483890</td>\n    </tr>\n    <tr>\n      <th>4838</th>\n      <td>172510a1-d8ca-4c5b-a4d9-888b94ba01c4</td>\n      <td>raw</td>\n      <td>4838</td>\n      <td>cart</td>\n      <td>2020-01-06 22:10:42.309028</td>\n      <td>219483890</td>\n    </tr>\n    <tr>\n      <th>4839</th>\n      <td>9fb29db5-3b10-4add-b15c-2fa513e303dc</td>\n      <td>raw</td>\n      <td>4839</td>\n      <td>catalog</td>\n      <td>2020-01-06 22:10:52.255859</td>\n      <td>219483890</td>\n    </tr>\n    <tr>\n      <th>4840</th>\n      <td>80b614e4-5702-4199-a185-07f94f689492</td>\n      <td>raw</td>\n      <td>4840</td>\n      <td>product1</td>\n      <td>2020-01-06 22:11:01.709800</td>\n      <td>219483890</td>\n    </tr>\n    <tr>\n      <th>4841</th>\n      <td>38c0a788-2200-4a5a-83b9-0453aaef1748</td>\n      <td>raw</td>\n      <td>4841</td>\n      <td>catalog</td>\n      <td>2020-01-06 22:11:02.899490</td>\n      <td>219483890</td>\n    </tr>\n    <tr>\n      <th>4842</th>\n      <td>c2daea87-2f32-4ec9-96c8-888bf6d3e03c</td>\n      <td>raw</td>\n      <td>4842</td>\n      <td>catalog</td>\n      <td>2020-01-06 22:11:28.271366</td>\n      <td>219483890</td>\n    </tr>\n    <tr>\n      <th>8736</th>\n      <td>7de17d66-9c1c-4ad8-88cb-33345fe23785</td>\n      <td>raw</td>\n      <td>8736</td>\n      <td>main</td>\n      <td>2020-02-14 21:04:49.450696</td>\n      <td>219483890</td>\n    </tr>\n    <tr>\n      <th>8737</th>\n      <td>7a723d01-ac10-40a7-ab25-8023d0c62664</td>\n      <td>raw</td>\n      <td>8737</td>\n      <td>catalog</td>\n      <td>2020-02-14 21:04:51.717127</td>\n      <td>219483890</td>\n    </tr>\n    <tr>\n      <th>8738</th>\n      <td>838d02ed-7c72-444b-bb14-a4426c9f41b9</td>\n      <td>raw</td>\n      <td>8738</td>\n      <td>lost</td>\n      <td>2020-02-14 21:04:52.717127</td>\n      <td>219483890</td>\n    </tr>\n  </tbody>\n</table>\n</div>"
     },
     "execution_count": 62,
     "metadata": {},
     "output_type": "execute_result"
    }
   ],
   "source": [
    "print(len(source_df[source_df['user_id'] == 219483890]))\n",
    "source_df[source_df['user_id'] == 219483890]"
   ],
   "metadata": {
    "collapsed": false,
    "pycharm": {
     "name": "#%%\n"
    }
   }
  },
  {
   "cell_type": "markdown",
   "source": [
    "### ПРоверим параметры"
   ],
   "metadata": {
    "collapsed": false,
    "pycharm": {
     "name": "#%% md\n"
    }
   }
  },
  {
   "cell_type": "code",
   "execution_count": 63,
   "outputs": [
    {
     "ename": "ValueError",
     "evalue": "lost_cutoff and lost_users_list parameters cannot be used at the same time!",
     "output_type": "error",
     "traceback": [
      "\u001B[0;31m---------------------------------------------------------------------------\u001B[0m",
      "\u001B[0;31mValueError\u001B[0m                                Traceback (most recent call last)",
      "Input \u001B[0;32mIn [63]\u001B[0m, in \u001B[0;36m<cell line: 14>\u001B[0;34m()\u001B[0m\n\u001B[1;32m      6\u001B[0m lost_pause_events \u001B[38;5;241m=\u001B[39m EventsNode(\n\u001B[1;32m      7\u001B[0m     LostPauseEvents(params\u001B[38;5;241m=\u001B[39mLostPauseParams(\u001B[38;5;241m*\u001B[39m\u001B[38;5;241m*\u001B[39mparams)))\n\u001B[1;32m      9\u001B[0m graph\u001B[38;5;241m.\u001B[39madd_node(\n\u001B[1;32m     10\u001B[0m     node\u001B[38;5;241m=\u001B[39mlost_pause_events,\n\u001B[1;32m     11\u001B[0m     parents\u001B[38;5;241m=\u001B[39m[graph\u001B[38;5;241m.\u001B[39mroot]\n\u001B[1;32m     12\u001B[0m )\n\u001B[0;32m---> 14\u001B[0m result \u001B[38;5;241m=\u001B[39m \u001B[43mgraph\u001B[49m\u001B[38;5;241;43m.\u001B[39;49m\u001B[43mcombine\u001B[49m\u001B[43m(\u001B[49m\n\u001B[1;32m     15\u001B[0m \u001B[43m    \u001B[49m\u001B[43mnode\u001B[49m\u001B[38;5;241;43m=\u001B[39;49m\u001B[43mlost_pause_events\u001B[49m\n\u001B[1;32m     16\u001B[0m \u001B[43m)\u001B[49m\n\u001B[1;32m     17\u001B[0m df3 \u001B[38;5;241m=\u001B[39m result\u001B[38;5;241m.\u001B[39mto_dataframe()\n",
      "File \u001B[0;32m~/Dev/Retentioneering/retentioneering-tools-new-arch/examples/../src/graph/p_graph.py:69\u001B[0m, in \u001B[0;36mPGraph.combine\u001B[0;34m(self, node)\u001B[0m\n\u001B[1;32m     66\u001B[0m     \u001B[38;5;28;01mreturn\u001B[39;00m node\u001B[38;5;241m.\u001B[39mevents\u001B[38;5;241m.\u001B[39mcopy()\n\u001B[1;32m     68\u001B[0m \u001B[38;5;28;01mif\u001B[39;00m \u001B[38;5;28misinstance\u001B[39m(node, EventsNode):\n\u001B[0;32m---> 69\u001B[0m     \u001B[38;5;28;01mreturn\u001B[39;00m \u001B[38;5;28;43mself\u001B[39;49m\u001B[38;5;241;43m.\u001B[39;49m\u001B[43mcombine_events_node\u001B[49m\u001B[43m(\u001B[49m\u001B[43mnode\u001B[49m\u001B[43m)\u001B[49m\n\u001B[1;32m     71\u001B[0m \u001B[38;5;28;01mreturn\u001B[39;00m \u001B[38;5;28mself\u001B[39m\u001B[38;5;241m.\u001B[39mcombine_merge_node(node)\n",
      "File \u001B[0;32m~/Dev/Retentioneering/retentioneering-tools-new-arch/examples/../src/graph/p_graph.py:76\u001B[0m, in \u001B[0;36mPGraph.combine_events_node\u001B[0;34m(self, node)\u001B[0m\n\u001B[1;32m     74\u001B[0m parent \u001B[38;5;241m=\u001B[39m \u001B[38;5;28mself\u001B[39m\u001B[38;5;241m.\u001B[39mget_events_node_parent(node)\n\u001B[1;32m     75\u001B[0m parent_events \u001B[38;5;241m=\u001B[39m \u001B[38;5;28mself\u001B[39m\u001B[38;5;241m.\u001B[39mcombine(parent)\n\u001B[0;32m---> 76\u001B[0m events \u001B[38;5;241m=\u001B[39m \u001B[43mnode\u001B[49m\u001B[38;5;241;43m.\u001B[39;49m\u001B[43mprocessor\u001B[49m\u001B[38;5;241;43m.\u001B[39;49m\u001B[43mapply\u001B[49m\u001B[43m(\u001B[49m\u001B[43mparent_events\u001B[49m\u001B[43m)\u001B[49m\n\u001B[1;32m     77\u001B[0m parent_events\u001B[38;5;241m.\u001B[39mjoin_eventstream(events)\n\u001B[1;32m     78\u001B[0m \u001B[38;5;28;01mreturn\u001B[39;00m parent_events\n",
      "File \u001B[0;32m~/Dev/Retentioneering/retentioneering-tools-new-arch/examples/../src/data_processors_lib/rete/lost_pause_events.py:39\u001B[0m, in \u001B[0;36mLostPauseEvents.apply\u001B[0;34m(self, eventstream)\u001B[0m\n\u001B[1;32m     36\u001B[0m lost_users_list \u001B[38;5;241m=\u001B[39m \u001B[38;5;28mself\u001B[39m\u001B[38;5;241m.\u001B[39mparams\u001B[38;5;241m.\u001B[39mlost_users_list\n\u001B[1;32m     38\u001B[0m \u001B[38;5;28;01mif\u001B[39;00m lost_cutoff \u001B[38;5;129;01mand\u001B[39;00m lost_users_list:\n\u001B[0;32m---> 39\u001B[0m     \u001B[38;5;28;01mraise\u001B[39;00m \u001B[38;5;167;01mValueError\u001B[39;00m(\u001B[38;5;124m\"\u001B[39m\u001B[38;5;124mlost_cutoff and lost_users_list parameters cannot be used at the same time!\u001B[39m\u001B[38;5;124m\"\u001B[39m)\n\u001B[1;32m     40\u001B[0m \u001B[38;5;66;03m# TODO dasha нужна сформулировать нормальную отбивку\u001B[39;00m\n\u001B[1;32m     41\u001B[0m \u001B[38;5;28;01mif\u001B[39;00m \u001B[38;5;129;01mnot\u001B[39;00m lost_cutoff \u001B[38;5;129;01mand\u001B[39;00m \u001B[38;5;129;01mnot\u001B[39;00m lost_users_list:\n",
      "\u001B[0;31mValueError\u001B[0m: lost_cutoff and lost_users_list parameters cannot be used at the same time!"
     ]
    }
   ],
   "source": [
    "from src.data_processors_lib.rete import LostPauseEvents, LostPauseParams\n",
    "params ={\n",
    "            'lost_users_list' : [964964743],\n",
    "                'lost_cutoff' : (3000, 's')}\n",
    "\n",
    "lost_pause_events = EventsNode(\n",
    "    LostPauseEvents(params=LostPauseParams(**params)))\n",
    "\n",
    "graph.add_node(\n",
    "    node=lost_pause_events,\n",
    "    parents=[graph.root]\n",
    ")\n",
    "\n",
    "result = graph.combine(\n",
    "    node=lost_pause_events\n",
    ")\n",
    "df3 = result.to_dataframe()"
   ],
   "metadata": {
    "collapsed": false,
    "pycharm": {
     "name": "#%%\n"
    }
   }
  },
  {
   "cell_type": "code",
   "execution_count": 64,
   "outputs": [
    {
     "ename": "ValueError",
     "evalue": "lost_cutoff or lost_users_list should be specified!",
     "output_type": "error",
     "traceback": [
      "\u001B[0;31m---------------------------------------------------------------------------\u001B[0m",
      "\u001B[0;31mValueError\u001B[0m                                Traceback (most recent call last)",
      "Input \u001B[0;32mIn [64]\u001B[0m, in \u001B[0;36m<cell line: 15>\u001B[0;34m()\u001B[0m\n\u001B[1;32m      7\u001B[0m lost_pause_events \u001B[38;5;241m=\u001B[39m EventsNode(\n\u001B[1;32m      8\u001B[0m     LostPauseEvents(params\u001B[38;5;241m=\u001B[39mLostPauseParams(\u001B[38;5;241m*\u001B[39m\u001B[38;5;241m*\u001B[39mparams)))\n\u001B[1;32m     10\u001B[0m graph\u001B[38;5;241m.\u001B[39madd_node(\n\u001B[1;32m     11\u001B[0m     node\u001B[38;5;241m=\u001B[39mlost_pause_events,\n\u001B[1;32m     12\u001B[0m     parents\u001B[38;5;241m=\u001B[39m[graph\u001B[38;5;241m.\u001B[39mroot]\n\u001B[1;32m     13\u001B[0m )\n\u001B[0;32m---> 15\u001B[0m result \u001B[38;5;241m=\u001B[39m \u001B[43mgraph\u001B[49m\u001B[38;5;241;43m.\u001B[39;49m\u001B[43mcombine\u001B[49m\u001B[43m(\u001B[49m\n\u001B[1;32m     16\u001B[0m \u001B[43m    \u001B[49m\u001B[43mnode\u001B[49m\u001B[38;5;241;43m=\u001B[39;49m\u001B[43mlost_pause_events\u001B[49m\n\u001B[1;32m     17\u001B[0m \u001B[43m)\u001B[49m\n\u001B[1;32m     18\u001B[0m df3 \u001B[38;5;241m=\u001B[39m result\u001B[38;5;241m.\u001B[39mto_dataframe()\n",
      "File \u001B[0;32m~/Dev/Retentioneering/retentioneering-tools-new-arch/examples/../src/graph/p_graph.py:69\u001B[0m, in \u001B[0;36mPGraph.combine\u001B[0;34m(self, node)\u001B[0m\n\u001B[1;32m     66\u001B[0m     \u001B[38;5;28;01mreturn\u001B[39;00m node\u001B[38;5;241m.\u001B[39mevents\u001B[38;5;241m.\u001B[39mcopy()\n\u001B[1;32m     68\u001B[0m \u001B[38;5;28;01mif\u001B[39;00m \u001B[38;5;28misinstance\u001B[39m(node, EventsNode):\n\u001B[0;32m---> 69\u001B[0m     \u001B[38;5;28;01mreturn\u001B[39;00m \u001B[38;5;28;43mself\u001B[39;49m\u001B[38;5;241;43m.\u001B[39;49m\u001B[43mcombine_events_node\u001B[49m\u001B[43m(\u001B[49m\u001B[43mnode\u001B[49m\u001B[43m)\u001B[49m\n\u001B[1;32m     71\u001B[0m \u001B[38;5;28;01mreturn\u001B[39;00m \u001B[38;5;28mself\u001B[39m\u001B[38;5;241m.\u001B[39mcombine_merge_node(node)\n",
      "File \u001B[0;32m~/Dev/Retentioneering/retentioneering-tools-new-arch/examples/../src/graph/p_graph.py:76\u001B[0m, in \u001B[0;36mPGraph.combine_events_node\u001B[0;34m(self, node)\u001B[0m\n\u001B[1;32m     74\u001B[0m parent \u001B[38;5;241m=\u001B[39m \u001B[38;5;28mself\u001B[39m\u001B[38;5;241m.\u001B[39mget_events_node_parent(node)\n\u001B[1;32m     75\u001B[0m parent_events \u001B[38;5;241m=\u001B[39m \u001B[38;5;28mself\u001B[39m\u001B[38;5;241m.\u001B[39mcombine(parent)\n\u001B[0;32m---> 76\u001B[0m events \u001B[38;5;241m=\u001B[39m \u001B[43mnode\u001B[49m\u001B[38;5;241;43m.\u001B[39;49m\u001B[43mprocessor\u001B[49m\u001B[38;5;241;43m.\u001B[39;49m\u001B[43mapply\u001B[49m\u001B[43m(\u001B[49m\u001B[43mparent_events\u001B[49m\u001B[43m)\u001B[49m\n\u001B[1;32m     77\u001B[0m parent_events\u001B[38;5;241m.\u001B[39mjoin_eventstream(events)\n\u001B[1;32m     78\u001B[0m \u001B[38;5;28;01mreturn\u001B[39;00m parent_events\n",
      "File \u001B[0;32m~/Dev/Retentioneering/retentioneering-tools-new-arch/examples/../src/data_processors_lib/rete/lost_pause_events.py:42\u001B[0m, in \u001B[0;36mLostPauseEvents.apply\u001B[0;34m(self, eventstream)\u001B[0m\n\u001B[1;32m     40\u001B[0m \u001B[38;5;66;03m# TODO dasha нужна сформулировать нормальную отбивку\u001B[39;00m\n\u001B[1;32m     41\u001B[0m \u001B[38;5;28;01mif\u001B[39;00m \u001B[38;5;129;01mnot\u001B[39;00m lost_cutoff \u001B[38;5;129;01mand\u001B[39;00m \u001B[38;5;129;01mnot\u001B[39;00m lost_users_list:\n\u001B[0;32m---> 42\u001B[0m     \u001B[38;5;28;01mraise\u001B[39;00m \u001B[38;5;167;01mValueError\u001B[39;00m(\u001B[38;5;124m'\u001B[39m\u001B[38;5;124mlost_cutoff or lost_users_list should be specified!\u001B[39m\u001B[38;5;124m'\u001B[39m)\n\u001B[1;32m     44\u001B[0m df \u001B[38;5;241m=\u001B[39m eventstream\u001B[38;5;241m.\u001B[39mto_dataframe(copy\u001B[38;5;241m=\u001B[39m\u001B[38;5;28;01mTrue\u001B[39;00m)\n\u001B[1;32m     46\u001B[0m \u001B[38;5;28;01mif\u001B[39;00m lost_cutoff:\n",
      "\u001B[0;31mValueError\u001B[0m: lost_cutoff or lost_users_list should be specified!"
     ]
    }
   ],
   "source": [
    "from src.data_processors_lib.rete import LostPauseEvents, LostPauseParams\n",
    "params ={\n",
    "             # 'lost_users_list' : [964964743],\n",
    "            #     'lost_cutoff' : (3000, 's')\n",
    "    }\n",
    "\n",
    "lost_pause_events = EventsNode(\n",
    "    LostPauseEvents(params=LostPauseParams(**params)))\n",
    "\n",
    "graph.add_node(\n",
    "    node=lost_pause_events,\n",
    "    parents=[graph.root]\n",
    ")\n",
    "\n",
    "result = graph.combine(\n",
    "    node=lost_pause_events\n",
    ")\n",
    "df3 = result.to_dataframe()"
   ],
   "metadata": {
    "collapsed": false,
    "pycharm": {
     "name": "#%%\n"
    }
   }
  },
  {
   "cell_type": "markdown",
   "source": [
    "### Результат"
   ],
   "metadata": {
    "collapsed": false,
    "pycharm": {
     "name": "#%% md\n"
    }
   }
  },
  {
   "cell_type": "markdown",
   "source": [
    "1) [DONE] Нельзя задать единицу измерения отсечки, сейчас тип - lost_cutoff: Optional[List[int]]\n",
    "2) [DONE] - ломается на этапе импорта из-за параметра функции, если\n",
    "3) [DONE] Combine - часть событий задваивается, но не очень понятно по какой логике\n",
    "4) [TODO] Локально возникает ошибка TypeError: _default_func_positive() takes 2 positional arguments but 3 were given -  не актуально, так как убрали эту функцию\n",
    "5) [TODO_analytics] Продумать общую логику работы - сейчас можно проставить lost/pause или по отсечке, или по списку и функции. И то и другое задавать нельзя.\n",
    "    - По отсечке - Если от последнего события в траектории прошло больше времени отсечки, то добавляется событие lost, если меньше - pause\n",
    "    - lost_users_list - список юзеров, которым проставляется событие lost, остальным - pause, Сейчас по списку проставляется - pause"
   ],
   "metadata": {
    "collapsed": false,
    "pycharm": {
     "name": "#%% md\n"
    }
   }
  },
  {
   "cell_type": "markdown",
   "source": [
    "## Truncated"
   ],
   "metadata": {
    "collapsed": false,
    "pycharm": {
     "name": "#%% md\n"
    }
   }
  },
  {
   "cell_type": "markdown",
   "source": [
    "### Описание работы функции"
   ],
   "metadata": {
    "collapsed": false,
    "pycharm": {
     "name": "#%% md\n"
    }
   }
  },
  {
   "cell_type": "markdown",
   "source": [
    "Для ```left_truncated_cutoff``` добавляет событие ```event_type=truncated_left, event=truncated_left``` в начало траектории пользователя, если последнее событие пользователя отстоит от конца датасета больше, чем на ```left_truncated_cutoff```.\n",
    " <br>\n",
    "Для ```right_truncated_cutoff``` добавляет события ```event_type=truncated_right, event=truncated_right``` в конец траектории пользователя, если первое событие пользователя отстоит от начала датасета больше, чем на ```right_truncated_cutoff```.\n",
    " <br>\n",
    "Отсечки удобно определять с помощью гистограмм ```preprocessing.plot_time_delta```"
   ],
   "metadata": {
    "collapsed": false,
    "pycharm": {
     "name": "#%% md\n"
    }
   }
  },
  {
   "cell_type": "code",
   "execution_count": 65,
   "outputs": [],
   "source": [
    "import seaborn as sns\n",
    "import matplotlib.pyplot as plt\n",
    "import pandas as pd\n",
    "from datetime import datetime as dt\n",
    "import time\n",
    "\n",
    "def plot_time_delta(df: pd.DataFrame,\n",
    "                    dataset_event='start', #'dataset_users_diff=('start', 'end')\n",
    "                    users_event='end',\n",
    "                    cutoff=None,\n",
    "                    uom='s',\n",
    "                    bins='auto',\n",
    "                    log_scale=(False, False),\n",
    "                    figsize=(15,10),\n",
    "                    l_bound = 1,\n",
    "                    r_bound = None,\n",
    "                    alpha: float = 0.4\n",
    "                    ):\n",
    "\n",
    "    uom_dict = {'s': 1,\n",
    "                'm': 60,\n",
    "                'h': 3600,\n",
    "                 'd': 24*3600}\n",
    "\n",
    "    user_col = 'user_id'\n",
    "    time_col = 'event_timestamp'\n",
    "\n",
    "    df_time = df.groupby(user_col)[[time_col]].agg({min, max})\n",
    "    df_time.columns = df_time.columns.get_level_values(1)\n",
    "    df_time = df_time.reset_index()\n",
    "\n",
    "    if dataset_event == 'start' and  users_event == 'start':\n",
    "    #'start_start'\n",
    "        df_time['time_diff'] = (df_time['min'] - df_time['min'].min())\n",
    "\n",
    "    elif dataset_event == 'end' and  users_event == 'end':\n",
    "    #'end_end'\n",
    "        df_time['time_diff'] = (df_time['max'].max() - df_time['max'])\n",
    "\n",
    "    elif dataset_event == 'start' and  users_event == 'end':\n",
    "    #'start_endu'\n",
    "        df_time['time_diff'] = (df_time['max'] - df_time['min'].min())\n",
    "\n",
    "    elif dataset_event == 'end' and  users_event == 'start':\n",
    "    #'end_startu'\n",
    "        df_time['time_diff'] = (df_time['max'].max() - df_time['min'])\n",
    "\n",
    "    df_time = df_time[df_time['time_diff'] != 0]\n",
    "    df_time['time_diff'] = df_time['time_diff'].dt.total_seconds()\n",
    "\n",
    "    if uom!= 's':\n",
    "        df_time['time_diff'] = df_time['time_diff']/uom_dict[uom]\n",
    "\n",
    "    df_time = df_time[(df_time['time_diff'] > l_bound)]\n",
    "\n",
    "    if r_bound != None:\n",
    "        df_time = df_time[(df_time['time_diff'] < r_bound)]\n",
    "\n",
    "    plt.figure(figsize=figsize)\n",
    "\n",
    "    ax = sns.histplot(x=df_time['time_diff'],\n",
    "             bins=bins, #'auto',\n",
    "             log_scale=log_scale,\n",
    "             color='tab:blue',\n",
    "             alpha = alpha, # прозрачность\n",
    "             edgecolor='black',\n",
    "                     )\n",
    "\n",
    "    if log_scale[0]:\n",
    "        plt.xlabel(f'time, {uom}, log_scale ')\n",
    "    else:\n",
    "        plt.xlabel(f'time, {uom}')\n",
    "\n",
    "    if log_scale[1]:\n",
    "        plt.ylabel('Count users, log_scale ')\n",
    "    else:\n",
    "        plt.ylabel('Count users')\n",
    "    if cutoff:\n",
    "        plt.axvline(x=cutoff, linewidth=1, color = 'r', linestyle='--', label = 'cutoff')\n",
    "    plt.title(f'Time between {dataset_event} event of full dataset and {users_event} event of each user')\n",
    "    plt.show()"
   ],
   "metadata": {
    "collapsed": false,
    "pycharm": {
     "name": "#%%\n"
    }
   }
  },
  {
   "cell_type": "code",
   "execution_count": 66,
   "outputs": [
    {
     "data": {
      "text/plain": "                               event_id event_type  event_index event_name  \\\n0  30da1d31-8f65-4bf1-86c9-aaa1a47e8a71        raw            0    catalog   \n\n             event_timestamp    user_id  \n0 2019-11-01 17:59:13.273932  219483890  ",
      "text/html": "<div>\n<style scoped>\n    .dataframe tbody tr th:only-of-type {\n        vertical-align: middle;\n    }\n\n    .dataframe tbody tr th {\n        vertical-align: top;\n    }\n\n    .dataframe thead th {\n        text-align: right;\n    }\n</style>\n<table border=\"1\" class=\"dataframe\">\n  <thead>\n    <tr style=\"text-align: right;\">\n      <th></th>\n      <th>event_id</th>\n      <th>event_type</th>\n      <th>event_index</th>\n      <th>event_name</th>\n      <th>event_timestamp</th>\n      <th>user_id</th>\n    </tr>\n  </thead>\n  <tbody>\n    <tr>\n      <th>0</th>\n      <td>30da1d31-8f65-4bf1-86c9-aaa1a47e8a71</td>\n      <td>raw</td>\n      <td>0</td>\n      <td>catalog</td>\n      <td>2019-11-01 17:59:13.273932</td>\n      <td>219483890</td>\n    </tr>\n  </tbody>\n</table>\n</div>"
     },
     "execution_count": 66,
     "metadata": {},
     "output_type": "execute_result"
    }
   ],
   "source": [
    "source_df.head(1)"
   ],
   "metadata": {
    "collapsed": false,
    "pycharm": {
     "name": "#%%\n"
    }
   }
  },
  {
   "cell_type": "code",
   "execution_count": 67,
   "outputs": [
    {
     "data": {
      "text/plain": "<Figure size 720x360 with 1 Axes>",
      "image/png": "[encoded data removed]"
     },
     "metadata": {
      "needs_background": "light"
     },
     "output_type": "display_data"
    }
   ],
   "source": [
    "# задавать с какой стороны отсчитывать отсечку - справа или слева\n",
    "\n",
    "plot_time_delta(source_df,\n",
    "                    dataset_event='start', #'dataset_users_diff=('start', 'end')\n",
    "                    users_event='start',\n",
    "                    cutoff=4500,\n",
    "                    uom='h',\n",
    "                    bins=40,\n",
    "                    log_scale=(False, False),\n",
    "                    figsize=(10,5),\n",
    "                    l_bound = 1,\n",
    "                    r_bound = None\n",
    "                    )"
   ],
   "metadata": {
    "collapsed": false,
    "pycharm": {
     "name": "#%%\n"
    }
   }
  },
  {
   "cell_type": "code",
   "execution_count": 68,
   "outputs": [
    {
     "data": {
      "text/plain": "                               event_id      event_type  event_index  \\\n0  37498fc5-7307-4d84-b91b-4ba045975c8b  truncated_left            0   \n1  30da1d31-8f65-4bf1-86c9-aaa1a47e8a71             raw            1   \n2  6f2c3bf9-69db-4ffb-81ba-1b051271c3c9             raw            2   \n3  349c1446-7269-45ab-9244-684fc1964aca             raw            3   \n4  1ffa7501-52c2-46de-bdd2-41ad74e1c82d             raw            4   \n5  795c7d50-fb8b-4236-8513-e54c7a7f68fb  truncated_left            5   \n6  15adbed9-861d-44b7-9ed9-ee039b82774c             raw            6   \n7  502b9da4-9fb2-49c0-a26b-b8fce7a4a7d4             raw            7   \n\n       event_name            event_timestamp      user_id  \n0  truncated_left 2019-11-01 17:59:13.273932  219483890.0  \n1         catalog 2019-11-01 17:59:13.273932  219483890.0  \n2        product1 2019-11-01 17:59:28.459271  219483890.0  \n3            cart 2019-11-01 17:59:29.502214  219483890.0  \n4         catalog 2019-11-01 17:59:32.557029  219483890.0  \n5  truncated_left 2019-11-01 21:38:19.283663  964964743.0  \n6         catalog 2019-11-01 21:38:19.283663  964964743.0  \n7            cart 2019-11-01 21:38:36.761221  964964743.0  ",
      "text/html": "<div>\n<style scoped>\n    .dataframe tbody tr th:only-of-type {\n        vertical-align: middle;\n    }\n\n    .dataframe tbody tr th {\n        vertical-align: top;\n    }\n\n    .dataframe thead th {\n        text-align: right;\n    }\n</style>\n<table border=\"1\" class=\"dataframe\">\n  <thead>\n    <tr style=\"text-align: right;\">\n      <th></th>\n      <th>event_id</th>\n      <th>event_type</th>\n      <th>event_index</th>\n      <th>event_name</th>\n      <th>event_timestamp</th>\n      <th>user_id</th>\n    </tr>\n  </thead>\n  <tbody>\n    <tr>\n      <th>0</th>\n      <td>37498fc5-7307-4d84-b91b-4ba045975c8b</td>\n      <td>truncated_left</td>\n      <td>0</td>\n      <td>truncated_left</td>\n      <td>2019-11-01 17:59:13.273932</td>\n      <td>219483890.0</td>\n    </tr>\n    <tr>\n      <th>1</th>\n      <td>30da1d31-8f65-4bf1-86c9-aaa1a47e8a71</td>\n      <td>raw</td>\n      <td>1</td>\n      <td>catalog</td>\n      <td>2019-11-01 17:59:13.273932</td>\n      <td>219483890.0</td>\n    </tr>\n    <tr>\n      <th>2</th>\n      <td>6f2c3bf9-69db-4ffb-81ba-1b051271c3c9</td>\n      <td>raw</td>\n      <td>2</td>\n      <td>product1</td>\n      <td>2019-11-01 17:59:28.459271</td>\n      <td>219483890.0</td>\n    </tr>\n    <tr>\n      <th>3</th>\n      <td>349c1446-7269-45ab-9244-684fc1964aca</td>\n      <td>raw</td>\n      <td>3</td>\n      <td>cart</td>\n      <td>2019-11-01 17:59:29.502214</td>\n      <td>219483890.0</td>\n    </tr>\n    <tr>\n      <th>4</th>\n      <td>1ffa7501-52c2-46de-bdd2-41ad74e1c82d</td>\n      <td>raw</td>\n      <td>4</td>\n      <td>catalog</td>\n      <td>2019-11-01 17:59:32.557029</td>\n      <td>219483890.0</td>\n    </tr>\n    <tr>\n      <th>5</th>\n      <td>795c7d50-fb8b-4236-8513-e54c7a7f68fb</td>\n      <td>truncated_left</td>\n      <td>5</td>\n      <td>truncated_left</td>\n      <td>2019-11-01 21:38:19.283663</td>\n      <td>964964743.0</td>\n    </tr>\n    <tr>\n      <th>6</th>\n      <td>15adbed9-861d-44b7-9ed9-ee039b82774c</td>\n      <td>raw</td>\n      <td>6</td>\n      <td>catalog</td>\n      <td>2019-11-01 21:38:19.283663</td>\n      <td>964964743.0</td>\n    </tr>\n    <tr>\n      <th>7</th>\n      <td>502b9da4-9fb2-49c0-a26b-b8fce7a4a7d4</td>\n      <td>raw</td>\n      <td>7</td>\n      <td>cart</td>\n      <td>2019-11-01 21:38:36.761221</td>\n      <td>964964743.0</td>\n    </tr>\n  </tbody>\n</table>\n</div>"
     },
     "execution_count": 68,
     "metadata": {},
     "output_type": "execute_result"
    }
   ],
   "source": [
    "from src.data_processors_lib.rete import TruncatedEvents, TruncatedParams\n",
    "params = {\n",
    "    'left_truncated_cutoff': (1000, 'h'),\n",
    "    'right_truncated_cutoff': (4000, 'h')\n",
    "}\n",
    "\n",
    "truncated_events = EventsNode(\n",
    "    TruncatedEvents(params=TruncatedParams(**params)))\n",
    "\n",
    "\n",
    "graph.add_node(\n",
    "    node=truncated_events,\n",
    "    parents=[graph.root]\n",
    ")\n",
    "\n",
    "result = graph.combine(\n",
    "    node=truncated_events\n",
    ")\n",
    "result.to_dataframe().head(8)"
   ],
   "metadata": {
    "collapsed": false,
    "pycharm": {
     "name": "#%%\n"
    }
   }
  },
  {
   "cell_type": "code",
   "execution_count": 69,
   "outputs": [
    {
     "name": "stdout",
     "output_type": "stream",
     "text": [
      "0\n"
     ]
    },
    {
     "data": {
      "text/plain": "0"
     },
     "execution_count": 69,
     "metadata": {},
     "output_type": "execute_result"
    }
   ],
   "source": [
    "df5 = result.to_dataframe()\n",
    "print(source_df.duplicated(['event_name', 'event_timestamp', 'user_id']).sum())\n",
    "df5.duplicated(['event_name', 'event_timestamp', 'user_id']).sum()"
   ],
   "metadata": {
    "collapsed": false,
    "pycharm": {
     "name": "#%%\n"
    }
   }
  },
  {
   "cell_type": "code",
   "execution_count": 70,
   "outputs": [
    {
     "data": {
      "text/plain": "3751"
     },
     "execution_count": 70,
     "metadata": {},
     "output_type": "execute_result"
    }
   ],
   "source": [
    "df5['user_id'].nunique()"
   ],
   "metadata": {
    "collapsed": false,
    "pycharm": {
     "name": "#%%\n"
    }
   }
  },
  {
   "cell_type": "code",
   "execution_count": 71,
   "outputs": [
    {
     "data": {
      "text/plain": "event_type\nraw                35381\ntruncated_right     1080\ntruncated_left       967\ndtype: int64"
     },
     "execution_count": 71,
     "metadata": {},
     "output_type": "execute_result"
    }
   ],
   "source": [
    "df5.value_counts('event_type')"
   ],
   "metadata": {
    "collapsed": false,
    "pycharm": {
     "name": "#%%\n"
    }
   }
  },
  {
   "cell_type": "code",
   "execution_count": 72,
   "outputs": [
    {
     "data": {
      "text/plain": "25577    973860052.0\n25599    102919503.0\n25625    146993449.0\n25633    169208046.0\n25644    147898568.0\n            ...     \n37383    125426031.0\n37391     26773318.0\n37396    965024600.0\n37403    831491833.0\n37419    962761227.0\nName: user_id, Length: 1080, dtype: float64"
     },
     "execution_count": 72,
     "metadata": {},
     "output_type": "execute_result"
    }
   ],
   "source": [
    "df5[df5['event_type'] == 'truncated_right']['user_id']"
   ],
   "metadata": {
    "collapsed": false,
    "pycharm": {
     "name": "#%%\n"
    }
   }
  },
  {
   "cell_type": "code",
   "execution_count": 73,
   "outputs": [
    {
     "name": "stdout",
     "output_type": "stream",
     "text": [
      "9\n"
     ]
    },
    {
     "data": {
      "text/plain": "                                   event_id       event_type  event_index  \\\n25569  b5c78950-a1fe-4b89-a9b6-a9bff098a6b8              raw        25569   \n25570  cc6eb97b-de32-426e-8445-94b762b469aa              raw        25570   \n25571  4b9a8123-1dd0-431f-a48b-e7d312ee8761              raw        25571   \n25572  d38f350d-177f-48d8-9a09-4c0ef89978b8              raw        25572   \n25573  314405a0-a691-4504-aaa8-6de9214236cd              raw        25573   \n25574  267671ed-8e1d-45ff-9818-a6b1bdee62f9              raw        25574   \n25575  06e945c7-5b61-4cc0-a0b4-a25cea6a31e8              raw        25575   \n25576  265448d5-1ec9-4492-90c8-bf4395f7b6d0              raw        25576   \n25577  f040bc81-3ac8-4b29-93cc-592b8ac44345  truncated_right        25577   \n\n             event_name            event_timestamp      user_id  \n25569              main 2020-04-16 10:01:27.881445  973860052.0  \n25570           catalog 2020-04-16 10:01:32.436962  973860052.0  \n25571          product2 2020-04-16 10:01:35.561178  973860052.0  \n25572              cart 2020-04-16 10:01:51.293357  973860052.0  \n25573   delivery_choice 2020-04-16 10:01:58.276434  973860052.0  \n25574  delivery_courier 2020-04-16 10:01:59.070049  973860052.0  \n25575    payment_choice 2020-04-16 10:01:59.221387  973860052.0  \n25576      payment_done 2020-04-16 10:02:00.771862  973860052.0  \n25577   truncated_right 2020-04-16 10:02:00.771862  973860052.0  ",
      "text/html": "<div>\n<style scoped>\n    .dataframe tbody tr th:only-of-type {\n        vertical-align: middle;\n    }\n\n    .dataframe tbody tr th {\n        vertical-align: top;\n    }\n\n    .dataframe thead th {\n        text-align: right;\n    }\n</style>\n<table border=\"1\" class=\"dataframe\">\n  <thead>\n    <tr style=\"text-align: right;\">\n      <th></th>\n      <th>event_id</th>\n      <th>event_type</th>\n      <th>event_index</th>\n      <th>event_name</th>\n      <th>event_timestamp</th>\n      <th>user_id</th>\n    </tr>\n  </thead>\n  <tbody>\n    <tr>\n      <th>25569</th>\n      <td>b5c78950-a1fe-4b89-a9b6-a9bff098a6b8</td>\n      <td>raw</td>\n      <td>25569</td>\n      <td>main</td>\n      <td>2020-04-16 10:01:27.881445</td>\n      <td>973860052.0</td>\n    </tr>\n    <tr>\n      <th>25570</th>\n      <td>cc6eb97b-de32-426e-8445-94b762b469aa</td>\n      <td>raw</td>\n      <td>25570</td>\n      <td>catalog</td>\n      <td>2020-04-16 10:01:32.436962</td>\n      <td>973860052.0</td>\n    </tr>\n    <tr>\n      <th>25571</th>\n      <td>4b9a8123-1dd0-431f-a48b-e7d312ee8761</td>\n      <td>raw</td>\n      <td>25571</td>\n      <td>product2</td>\n      <td>2020-04-16 10:01:35.561178</td>\n      <td>973860052.0</td>\n    </tr>\n    <tr>\n      <th>25572</th>\n      <td>d38f350d-177f-48d8-9a09-4c0ef89978b8</td>\n      <td>raw</td>\n      <td>25572</td>\n      <td>cart</td>\n      <td>2020-04-16 10:01:51.293357</td>\n      <td>973860052.0</td>\n    </tr>\n    <tr>\n      <th>25573</th>\n      <td>314405a0-a691-4504-aaa8-6de9214236cd</td>\n      <td>raw</td>\n      <td>25573</td>\n      <td>delivery_choice</td>\n      <td>2020-04-16 10:01:58.276434</td>\n      <td>973860052.0</td>\n    </tr>\n    <tr>\n      <th>25574</th>\n      <td>267671ed-8e1d-45ff-9818-a6b1bdee62f9</td>\n      <td>raw</td>\n      <td>25574</td>\n      <td>delivery_courier</td>\n      <td>2020-04-16 10:01:59.070049</td>\n      <td>973860052.0</td>\n    </tr>\n    <tr>\n      <th>25575</th>\n      <td>06e945c7-5b61-4cc0-a0b4-a25cea6a31e8</td>\n      <td>raw</td>\n      <td>25575</td>\n      <td>payment_choice</td>\n      <td>2020-04-16 10:01:59.221387</td>\n      <td>973860052.0</td>\n    </tr>\n    <tr>\n      <th>25576</th>\n      <td>265448d5-1ec9-4492-90c8-bf4395f7b6d0</td>\n      <td>raw</td>\n      <td>25576</td>\n      <td>payment_done</td>\n      <td>2020-04-16 10:02:00.771862</td>\n      <td>973860052.0</td>\n    </tr>\n    <tr>\n      <th>25577</th>\n      <td>f040bc81-3ac8-4b29-93cc-592b8ac44345</td>\n      <td>truncated_right</td>\n      <td>25577</td>\n      <td>truncated_right</td>\n      <td>2020-04-16 10:02:00.771862</td>\n      <td>973860052.0</td>\n    </tr>\n  </tbody>\n</table>\n</div>"
     },
     "execution_count": 73,
     "metadata": {},
     "output_type": "execute_result"
    }
   ],
   "source": [
    "print(len(df5[df5['user_id'] == 973860052]))\n",
    "df5[df5['user_id'] == 973860052]"
   ],
   "metadata": {
    "collapsed": false,
    "pycharm": {
     "name": "#%%\n"
    }
   }
  },
  {
   "cell_type": "code",
   "execution_count": 74,
   "outputs": [
    {
     "name": "stdout",
     "output_type": "stream",
     "text": [
      "8\n"
     ]
    },
    {
     "data": {
      "text/plain": "                                   event_id event_type  event_index  \\\n24602  b5c78950-a1fe-4b89-a9b6-a9bff098a6b8        raw        24602   \n24603  cc6eb97b-de32-426e-8445-94b762b469aa        raw        24603   \n24604  4b9a8123-1dd0-431f-a48b-e7d312ee8761        raw        24604   \n24605  d38f350d-177f-48d8-9a09-4c0ef89978b8        raw        24605   \n24606  314405a0-a691-4504-aaa8-6de9214236cd        raw        24606   \n24607  267671ed-8e1d-45ff-9818-a6b1bdee62f9        raw        24607   \n24608  06e945c7-5b61-4cc0-a0b4-a25cea6a31e8        raw        24608   \n24609  265448d5-1ec9-4492-90c8-bf4395f7b6d0        raw        24609   \n\n             event_name            event_timestamp    user_id  \n24602              main 2020-04-16 10:01:27.881445  973860052  \n24603           catalog 2020-04-16 10:01:32.436962  973860052  \n24604          product2 2020-04-16 10:01:35.561178  973860052  \n24605              cart 2020-04-16 10:01:51.293357  973860052  \n24606   delivery_choice 2020-04-16 10:01:58.276434  973860052  \n24607  delivery_courier 2020-04-16 10:01:59.070049  973860052  \n24608    payment_choice 2020-04-16 10:01:59.221387  973860052  \n24609      payment_done 2020-04-16 10:02:00.771862  973860052  ",
      "text/html": "<div>\n<style scoped>\n    .dataframe tbody tr th:only-of-type {\n        vertical-align: middle;\n    }\n\n    .dataframe tbody tr th {\n        vertical-align: top;\n    }\n\n    .dataframe thead th {\n        text-align: right;\n    }\n</style>\n<table border=\"1\" class=\"dataframe\">\n  <thead>\n    <tr style=\"text-align: right;\">\n      <th></th>\n      <th>event_id</th>\n      <th>event_type</th>\n      <th>event_index</th>\n      <th>event_name</th>\n      <th>event_timestamp</th>\n      <th>user_id</th>\n    </tr>\n  </thead>\n  <tbody>\n    <tr>\n      <th>24602</th>\n      <td>b5c78950-a1fe-4b89-a9b6-a9bff098a6b8</td>\n      <td>raw</td>\n      <td>24602</td>\n      <td>main</td>\n      <td>2020-04-16 10:01:27.881445</td>\n      <td>973860052</td>\n    </tr>\n    <tr>\n      <th>24603</th>\n      <td>cc6eb97b-de32-426e-8445-94b762b469aa</td>\n      <td>raw</td>\n      <td>24603</td>\n      <td>catalog</td>\n      <td>2020-04-16 10:01:32.436962</td>\n      <td>973860052</td>\n    </tr>\n    <tr>\n      <th>24604</th>\n      <td>4b9a8123-1dd0-431f-a48b-e7d312ee8761</td>\n      <td>raw</td>\n      <td>24604</td>\n      <td>product2</td>\n      <td>2020-04-16 10:01:35.561178</td>\n      <td>973860052</td>\n    </tr>\n    <tr>\n      <th>24605</th>\n      <td>d38f350d-177f-48d8-9a09-4c0ef89978b8</td>\n      <td>raw</td>\n      <td>24605</td>\n      <td>cart</td>\n      <td>2020-04-16 10:01:51.293357</td>\n      <td>973860052</td>\n    </tr>\n    <tr>\n      <th>24606</th>\n      <td>314405a0-a691-4504-aaa8-6de9214236cd</td>\n      <td>raw</td>\n      <td>24606</td>\n      <td>delivery_choice</td>\n      <td>2020-04-16 10:01:58.276434</td>\n      <td>973860052</td>\n    </tr>\n    <tr>\n      <th>24607</th>\n      <td>267671ed-8e1d-45ff-9818-a6b1bdee62f9</td>\n      <td>raw</td>\n      <td>24607</td>\n      <td>delivery_courier</td>\n      <td>2020-04-16 10:01:59.070049</td>\n      <td>973860052</td>\n    </tr>\n    <tr>\n      <th>24608</th>\n      <td>06e945c7-5b61-4cc0-a0b4-a25cea6a31e8</td>\n      <td>raw</td>\n      <td>24608</td>\n      <td>payment_choice</td>\n      <td>2020-04-16 10:01:59.221387</td>\n      <td>973860052</td>\n    </tr>\n    <tr>\n      <th>24609</th>\n      <td>265448d5-1ec9-4492-90c8-bf4395f7b6d0</td>\n      <td>raw</td>\n      <td>24609</td>\n      <td>payment_done</td>\n      <td>2020-04-16 10:02:00.771862</td>\n      <td>973860052</td>\n    </tr>\n  </tbody>\n</table>\n</div>"
     },
     "execution_count": 74,
     "metadata": {},
     "output_type": "execute_result"
    }
   ],
   "source": [
    "print(len(source_df[source_df['user_id'] == 973860052]))\n",
    "source_df[source_df['user_id'] == 973860052]"
   ],
   "metadata": {
    "collapsed": false,
    "pycharm": {
     "name": "#%%\n"
    }
   }
  },
  {
   "cell_type": "code",
   "execution_count": 75,
   "outputs": [
    {
     "data": {
      "text/plain": "4000.037390975833"
     },
     "execution_count": 75,
     "metadata": {},
     "output_type": "execute_result"
    }
   ],
   "source": [
    "df5['event_timestamp'].min(), df5[df5['user_id'] == 973860052]['event_timestamp'].min()\n",
    "(df5[df5['user_id'] == 973860052]['event_timestamp'].min() - df5['event_timestamp'].min()).total_seconds()/3600"
   ],
   "metadata": {
    "collapsed": false,
    "pycharm": {
     "name": "#%%\n"
    }
   }
  },
  {
   "cell_type": "code",
   "execution_count": 76,
   "outputs": [
    {
     "data": {
      "text/plain": "15.999999984"
     },
     "execution_count": 76,
     "metadata": {},
     "output_type": "execute_result"
    }
   ],
   "source": [
    "24*0.666666666"
   ],
   "metadata": {
    "collapsed": false,
    "pycharm": {
     "name": "#%%\n"
    }
   }
  },
  {
   "cell_type": "code",
   "execution_count": 77,
   "outputs": [
    {
     "data": {
      "text/plain": "166.66666666666666"
     },
     "execution_count": 77,
     "metadata": {},
     "output_type": "execute_result"
    }
   ],
   "source": [
    "4000/24"
   ],
   "metadata": {
    "collapsed": false,
    "pycharm": {
     "name": "#%%\n"
    }
   }
  },
  {
   "cell_type": "code",
   "execution_count": 78,
   "outputs": [
    {
     "name": "stdout",
     "output_type": "stream",
     "text": [
      "14\n"
     ]
    },
    {
     "data": {
      "text/plain": "                                  event_id      event_type  event_index  \\\n5     795c7d50-fb8b-4236-8513-e54c7a7f68fb  truncated_left            5   \n6     15adbed9-861d-44b7-9ed9-ee039b82774c             raw            6   \n7     502b9da4-9fb2-49c0-a26b-b8fce7a4a7d4             raw            7   \n8     b69c702b-2856-45c8-aa60-013eb6743217             raw            8   \n2728  2fe1838a-4876-418b-bd15-9ed67896529f             raw         2728   \n2729  df188c43-ff63-4113-95f4-6ba2d9bfc03c             raw         2729   \n2730  45fb4377-11f4-4eb3-b71b-8c42e3eac81b             raw         2730   \n2731  33554711-cd56-4af8-b242-53b521232a63             raw         2731   \n2732  60fe9b0e-03ac-487b-8b4a-e7566ca93187             raw         2732   \n2733  b4609a5f-7662-4048-98fa-b03191a30d64             raw         2733   \n2734  e50da712-8b2a-464a-b5e7-9ef59834c43b             raw         2734   \n2735  496c384d-3cee-4aff-aab4-2e8d58d4e01c             raw         2735   \n2736  cf4e8d54-dcb3-48de-998a-ac8002d2c104             raw         2736   \n2737  2ff9dcd0-30c0-4e84-bb8b-e0040d245e2d             raw         2737   \n\n           event_name            event_timestamp      user_id  \n5      truncated_left 2019-11-01 21:38:19.283663  964964743.0  \n6             catalog 2019-11-01 21:38:19.283663  964964743.0  \n7                cart 2019-11-01 21:38:36.761221  964964743.0  \n8     delivery_choice 2019-11-01 21:38:37.564693  964964743.0  \n2728             main 2019-12-09 01:42:22.801831  964964743.0  \n2729          catalog 2019-12-09 01:42:23.617764  964964743.0  \n2730         product2 2019-12-09 01:42:56.877340  964964743.0  \n2731          catalog 2019-12-09 01:43:05.436223  964964743.0  \n2732          catalog 2019-12-09 01:43:36.923178  964964743.0  \n2733         product2 2019-12-09 01:43:41.174195  964964743.0  \n2734             cart 2019-12-09 01:43:57.325569  964964743.0  \n2735  delivery_choice 2019-12-09 01:43:57.486518  964964743.0  \n2736  delivery_pickup 2019-12-09 01:43:57.766850  964964743.0  \n2737             lost 2019-12-09 01:43:58.766850  964964743.0  ",
      "text/html": "<div>\n<style scoped>\n    .dataframe tbody tr th:only-of-type {\n        vertical-align: middle;\n    }\n\n    .dataframe tbody tr th {\n        vertical-align: top;\n    }\n\n    .dataframe thead th {\n        text-align: right;\n    }\n</style>\n<table border=\"1\" class=\"dataframe\">\n  <thead>\n    <tr style=\"text-align: right;\">\n      <th></th>\n      <th>event_id</th>\n      <th>event_type</th>\n      <th>event_index</th>\n      <th>event_name</th>\n      <th>event_timestamp</th>\n      <th>user_id</th>\n    </tr>\n  </thead>\n  <tbody>\n    <tr>\n      <th>5</th>\n      <td>795c7d50-fb8b-4236-8513-e54c7a7f68fb</td>\n      <td>truncated_left</td>\n      <td>5</td>\n      <td>truncated_left</td>\n      <td>2019-11-01 21:38:19.283663</td>\n      <td>964964743.0</td>\n    </tr>\n    <tr>\n      <th>6</th>\n      <td>15adbed9-861d-44b7-9ed9-ee039b82774c</td>\n      <td>raw</td>\n      <td>6</td>\n      <td>catalog</td>\n      <td>2019-11-01 21:38:19.283663</td>\n      <td>964964743.0</td>\n    </tr>\n    <tr>\n      <th>7</th>\n      <td>502b9da4-9fb2-49c0-a26b-b8fce7a4a7d4</td>\n      <td>raw</td>\n      <td>7</td>\n      <td>cart</td>\n      <td>2019-11-01 21:38:36.761221</td>\n      <td>964964743.0</td>\n    </tr>\n    <tr>\n      <th>8</th>\n      <td>b69c702b-2856-45c8-aa60-013eb6743217</td>\n      <td>raw</td>\n      <td>8</td>\n      <td>delivery_choice</td>\n      <td>2019-11-01 21:38:37.564693</td>\n      <td>964964743.0</td>\n    </tr>\n    <tr>\n      <th>2728</th>\n      <td>2fe1838a-4876-418b-bd15-9ed67896529f</td>\n      <td>raw</td>\n      <td>2728</td>\n      <td>main</td>\n      <td>2019-12-09 01:42:22.801831</td>\n      <td>964964743.0</td>\n    </tr>\n    <tr>\n      <th>2729</th>\n      <td>df188c43-ff63-4113-95f4-6ba2d9bfc03c</td>\n      <td>raw</td>\n      <td>2729</td>\n      <td>catalog</td>\n      <td>2019-12-09 01:42:23.617764</td>\n      <td>964964743.0</td>\n    </tr>\n    <tr>\n      <th>2730</th>\n      <td>45fb4377-11f4-4eb3-b71b-8c42e3eac81b</td>\n      <td>raw</td>\n      <td>2730</td>\n      <td>product2</td>\n      <td>2019-12-09 01:42:56.877340</td>\n      <td>964964743.0</td>\n    </tr>\n    <tr>\n      <th>2731</th>\n      <td>33554711-cd56-4af8-b242-53b521232a63</td>\n      <td>raw</td>\n      <td>2731</td>\n      <td>catalog</td>\n      <td>2019-12-09 01:43:05.436223</td>\n      <td>964964743.0</td>\n    </tr>\n    <tr>\n      <th>2732</th>\n      <td>60fe9b0e-03ac-487b-8b4a-e7566ca93187</td>\n      <td>raw</td>\n      <td>2732</td>\n      <td>catalog</td>\n      <td>2019-12-09 01:43:36.923178</td>\n      <td>964964743.0</td>\n    </tr>\n    <tr>\n      <th>2733</th>\n      <td>b4609a5f-7662-4048-98fa-b03191a30d64</td>\n      <td>raw</td>\n      <td>2733</td>\n      <td>product2</td>\n      <td>2019-12-09 01:43:41.174195</td>\n      <td>964964743.0</td>\n    </tr>\n    <tr>\n      <th>2734</th>\n      <td>e50da712-8b2a-464a-b5e7-9ef59834c43b</td>\n      <td>raw</td>\n      <td>2734</td>\n      <td>cart</td>\n      <td>2019-12-09 01:43:57.325569</td>\n      <td>964964743.0</td>\n    </tr>\n    <tr>\n      <th>2735</th>\n      <td>496c384d-3cee-4aff-aab4-2e8d58d4e01c</td>\n      <td>raw</td>\n      <td>2735</td>\n      <td>delivery_choice</td>\n      <td>2019-12-09 01:43:57.486518</td>\n      <td>964964743.0</td>\n    </tr>\n    <tr>\n      <th>2736</th>\n      <td>cf4e8d54-dcb3-48de-998a-ac8002d2c104</td>\n      <td>raw</td>\n      <td>2736</td>\n      <td>delivery_pickup</td>\n      <td>2019-12-09 01:43:57.766850</td>\n      <td>964964743.0</td>\n    </tr>\n    <tr>\n      <th>2737</th>\n      <td>2ff9dcd0-30c0-4e84-bb8b-e0040d245e2d</td>\n      <td>raw</td>\n      <td>2737</td>\n      <td>lost</td>\n      <td>2019-12-09 01:43:58.766850</td>\n      <td>964964743.0</td>\n    </tr>\n  </tbody>\n</table>\n</div>"
     },
     "execution_count": 78,
     "metadata": {},
     "output_type": "execute_result"
    }
   ],
   "source": [
    "print(len(df5[df5['user_id'] == 964964743]))\n",
    "df5[df5['user_id'] == 964964743]"
   ],
   "metadata": {
    "collapsed": false,
    "pycharm": {
     "name": "#%%\n"
    }
   }
  },
  {
   "cell_type": "code",
   "execution_count": 79,
   "outputs": [
    {
     "name": "stdout",
     "output_type": "stream",
     "text": [
      "142 days 11:04:08.828540\n"
     ]
    }
   ],
   "source": [
    "df5['event_timestamp'].max(), df5[df5['user_id'] == 964964743]['event_timestamp'].max()\n",
    "print(df5['event_timestamp'].max() - df5[df5['user_id'] == 964964743]['event_timestamp'].max())"
   ],
   "metadata": {
    "collapsed": false,
    "pycharm": {
     "name": "#%%\n"
    }
   }
  },
  {
   "cell_type": "code",
   "execution_count": 80,
   "outputs": [
    {
     "data": {
      "text/plain": "Timedelta('179 days 18:48:54.321458')"
     },
     "execution_count": 80,
     "metadata": {},
     "output_type": "execute_result"
    }
   ],
   "source": [
    "df5['event_timestamp'].max() - df5['event_timestamp'].min()"
   ],
   "metadata": {
    "collapsed": false,
    "pycharm": {
     "name": "#%%\n"
    }
   }
  },
  {
   "cell_type": "code",
   "execution_count": 81,
   "outputs": [
    {
     "data": {
      "text/plain": "41.666666666666664"
     },
     "execution_count": 81,
     "metadata": {},
     "output_type": "execute_result"
    }
   ],
   "source": [
    "# отсечка 1000 часов\n",
    "1000/24"
   ],
   "metadata": {
    "collapsed": false,
    "pycharm": {
     "name": "#%%\n"
    }
   }
  },
  {
   "cell_type": "code",
   "execution_count": 82,
   "outputs": [
    {
     "name": "stdout",
     "output_type": "stream",
     "text": [
      "13\n"
     ]
    },
    {
     "data": {
      "text/plain": "                                  event_id event_type  event_index  \\\n4     15adbed9-861d-44b7-9ed9-ee039b82774c        raw            4   \n5     502b9da4-9fb2-49c0-a26b-b8fce7a4a7d4        raw            5   \n6     b69c702b-2856-45c8-aa60-013eb6743217        raw            6   \n2439  2fe1838a-4876-418b-bd15-9ed67896529f        raw         2439   \n2440  df188c43-ff63-4113-95f4-6ba2d9bfc03c        raw         2440   \n2441  45fb4377-11f4-4eb3-b71b-8c42e3eac81b        raw         2441   \n2442  33554711-cd56-4af8-b242-53b521232a63        raw         2442   \n2443  60fe9b0e-03ac-487b-8b4a-e7566ca93187        raw         2443   \n2444  b4609a5f-7662-4048-98fa-b03191a30d64        raw         2444   \n2445  e50da712-8b2a-464a-b5e7-9ef59834c43b        raw         2445   \n2446  496c384d-3cee-4aff-aab4-2e8d58d4e01c        raw         2446   \n2447  cf4e8d54-dcb3-48de-998a-ac8002d2c104        raw         2447   \n2448  2ff9dcd0-30c0-4e84-bb8b-e0040d245e2d        raw         2448   \n\n           event_name            event_timestamp    user_id  \n4             catalog 2019-11-01 21:38:19.283663  964964743  \n5                cart 2019-11-01 21:38:36.761221  964964743  \n6     delivery_choice 2019-11-01 21:38:37.564693  964964743  \n2439             main 2019-12-09 01:42:22.801831  964964743  \n2440          catalog 2019-12-09 01:42:23.617764  964964743  \n2441         product2 2019-12-09 01:42:56.877340  964964743  \n2442          catalog 2019-12-09 01:43:05.436223  964964743  \n2443          catalog 2019-12-09 01:43:36.923178  964964743  \n2444         product2 2019-12-09 01:43:41.174195  964964743  \n2445             cart 2019-12-09 01:43:57.325569  964964743  \n2446  delivery_choice 2019-12-09 01:43:57.486518  964964743  \n2447  delivery_pickup 2019-12-09 01:43:57.766850  964964743  \n2448             lost 2019-12-09 01:43:58.766850  964964743  ",
      "text/html": "<div>\n<style scoped>\n    .dataframe tbody tr th:only-of-type {\n        vertical-align: middle;\n    }\n\n    .dataframe tbody tr th {\n        vertical-align: top;\n    }\n\n    .dataframe thead th {\n        text-align: right;\n    }\n</style>\n<table border=\"1\" class=\"dataframe\">\n  <thead>\n    <tr style=\"text-align: right;\">\n      <th></th>\n      <th>event_id</th>\n      <th>event_type</th>\n      <th>event_index</th>\n      <th>event_name</th>\n      <th>event_timestamp</th>\n      <th>user_id</th>\n    </tr>\n  </thead>\n  <tbody>\n    <tr>\n      <th>4</th>\n      <td>15adbed9-861d-44b7-9ed9-ee039b82774c</td>\n      <td>raw</td>\n      <td>4</td>\n      <td>catalog</td>\n      <td>2019-11-01 21:38:19.283663</td>\n      <td>964964743</td>\n    </tr>\n    <tr>\n      <th>5</th>\n      <td>502b9da4-9fb2-49c0-a26b-b8fce7a4a7d4</td>\n      <td>raw</td>\n      <td>5</td>\n      <td>cart</td>\n      <td>2019-11-01 21:38:36.761221</td>\n      <td>964964743</td>\n    </tr>\n    <tr>\n      <th>6</th>\n      <td>b69c702b-2856-45c8-aa60-013eb6743217</td>\n      <td>raw</td>\n      <td>6</td>\n      <td>delivery_choice</td>\n      <td>2019-11-01 21:38:37.564693</td>\n      <td>964964743</td>\n    </tr>\n    <tr>\n      <th>2439</th>\n      <td>2fe1838a-4876-418b-bd15-9ed67896529f</td>\n      <td>raw</td>\n      <td>2439</td>\n      <td>main</td>\n      <td>2019-12-09 01:42:22.801831</td>\n      <td>964964743</td>\n    </tr>\n    <tr>\n      <th>2440</th>\n      <td>df188c43-ff63-4113-95f4-6ba2d9bfc03c</td>\n      <td>raw</td>\n      <td>2440</td>\n      <td>catalog</td>\n      <td>2019-12-09 01:42:23.617764</td>\n      <td>964964743</td>\n    </tr>\n    <tr>\n      <th>2441</th>\n      <td>45fb4377-11f4-4eb3-b71b-8c42e3eac81b</td>\n      <td>raw</td>\n      <td>2441</td>\n      <td>product2</td>\n      <td>2019-12-09 01:42:56.877340</td>\n      <td>964964743</td>\n    </tr>\n    <tr>\n      <th>2442</th>\n      <td>33554711-cd56-4af8-b242-53b521232a63</td>\n      <td>raw</td>\n      <td>2442</td>\n      <td>catalog</td>\n      <td>2019-12-09 01:43:05.436223</td>\n      <td>964964743</td>\n    </tr>\n    <tr>\n      <th>2443</th>\n      <td>60fe9b0e-03ac-487b-8b4a-e7566ca93187</td>\n      <td>raw</td>\n      <td>2443</td>\n      <td>catalog</td>\n      <td>2019-12-09 01:43:36.923178</td>\n      <td>964964743</td>\n    </tr>\n    <tr>\n      <th>2444</th>\n      <td>b4609a5f-7662-4048-98fa-b03191a30d64</td>\n      <td>raw</td>\n      <td>2444</td>\n      <td>product2</td>\n      <td>2019-12-09 01:43:41.174195</td>\n      <td>964964743</td>\n    </tr>\n    <tr>\n      <th>2445</th>\n      <td>e50da712-8b2a-464a-b5e7-9ef59834c43b</td>\n      <td>raw</td>\n      <td>2445</td>\n      <td>cart</td>\n      <td>2019-12-09 01:43:57.325569</td>\n      <td>964964743</td>\n    </tr>\n    <tr>\n      <th>2446</th>\n      <td>496c384d-3cee-4aff-aab4-2e8d58d4e01c</td>\n      <td>raw</td>\n      <td>2446</td>\n      <td>delivery_choice</td>\n      <td>2019-12-09 01:43:57.486518</td>\n      <td>964964743</td>\n    </tr>\n    <tr>\n      <th>2447</th>\n      <td>cf4e8d54-dcb3-48de-998a-ac8002d2c104</td>\n      <td>raw</td>\n      <td>2447</td>\n      <td>delivery_pickup</td>\n      <td>2019-12-09 01:43:57.766850</td>\n      <td>964964743</td>\n    </tr>\n    <tr>\n      <th>2448</th>\n      <td>2ff9dcd0-30c0-4e84-bb8b-e0040d245e2d</td>\n      <td>raw</td>\n      <td>2448</td>\n      <td>lost</td>\n      <td>2019-12-09 01:43:58.766850</td>\n      <td>964964743</td>\n    </tr>\n  </tbody>\n</table>\n</div>"
     },
     "execution_count": 82,
     "metadata": {},
     "output_type": "execute_result"
    }
   ],
   "source": [
    "print(len(source_df[source_df['user_id'] == 964964743]))\n",
    "source_df[source_df['user_id'] == 964964743]"
   ],
   "metadata": {
    "collapsed": false,
    "pycharm": {
     "name": "#%%\n"
    }
   }
  },
  {
   "cell_type": "code",
   "execution_count": 83,
   "outputs": [
    {
     "data": {
      "text/plain": "                                  event_id      event_type  event_index  \\\n5     795c7d50-fb8b-4236-8513-e54c7a7f68fb  truncated_left            5   \n6     15adbed9-861d-44b7-9ed9-ee039b82774c             raw            6   \n7     502b9da4-9fb2-49c0-a26b-b8fce7a4a7d4             raw            7   \n8     b69c702b-2856-45c8-aa60-013eb6743217             raw            8   \n2728  2fe1838a-4876-418b-bd15-9ed67896529f             raw         2728   \n2729  df188c43-ff63-4113-95f4-6ba2d9bfc03c             raw         2729   \n2730  45fb4377-11f4-4eb3-b71b-8c42e3eac81b             raw         2730   \n2731  33554711-cd56-4af8-b242-53b521232a63             raw         2731   \n2732  60fe9b0e-03ac-487b-8b4a-e7566ca93187             raw         2732   \n2733  b4609a5f-7662-4048-98fa-b03191a30d64             raw         2733   \n2734  e50da712-8b2a-464a-b5e7-9ef59834c43b             raw         2734   \n2735  496c384d-3cee-4aff-aab4-2e8d58d4e01c             raw         2735   \n2736  cf4e8d54-dcb3-48de-998a-ac8002d2c104             raw         2736   \n2737  2ff9dcd0-30c0-4e84-bb8b-e0040d245e2d             raw         2737   \n\n           event_name            event_timestamp      user_id  \n5      truncated_left 2019-11-01 21:38:19.283663  964964743.0  \n6             catalog 2019-11-01 21:38:19.283663  964964743.0  \n7                cart 2019-11-01 21:38:36.761221  964964743.0  \n8     delivery_choice 2019-11-01 21:38:37.564693  964964743.0  \n2728             main 2019-12-09 01:42:22.801831  964964743.0  \n2729          catalog 2019-12-09 01:42:23.617764  964964743.0  \n2730         product2 2019-12-09 01:42:56.877340  964964743.0  \n2731          catalog 2019-12-09 01:43:05.436223  964964743.0  \n2732          catalog 2019-12-09 01:43:36.923178  964964743.0  \n2733         product2 2019-12-09 01:43:41.174195  964964743.0  \n2734             cart 2019-12-09 01:43:57.325569  964964743.0  \n2735  delivery_choice 2019-12-09 01:43:57.486518  964964743.0  \n2736  delivery_pickup 2019-12-09 01:43:57.766850  964964743.0  \n2737             lost 2019-12-09 01:43:58.766850  964964743.0  ",
      "text/html": "<div>\n<style scoped>\n    .dataframe tbody tr th:only-of-type {\n        vertical-align: middle;\n    }\n\n    .dataframe tbody tr th {\n        vertical-align: top;\n    }\n\n    .dataframe thead th {\n        text-align: right;\n    }\n</style>\n<table border=\"1\" class=\"dataframe\">\n  <thead>\n    <tr style=\"text-align: right;\">\n      <th></th>\n      <th>event_id</th>\n      <th>event_type</th>\n      <th>event_index</th>\n      <th>event_name</th>\n      <th>event_timestamp</th>\n      <th>user_id</th>\n    </tr>\n  </thead>\n  <tbody>\n    <tr>\n      <th>5</th>\n      <td>795c7d50-fb8b-4236-8513-e54c7a7f68fb</td>\n      <td>truncated_left</td>\n      <td>5</td>\n      <td>truncated_left</td>\n      <td>2019-11-01 21:38:19.283663</td>\n      <td>964964743.0</td>\n    </tr>\n    <tr>\n      <th>6</th>\n      <td>15adbed9-861d-44b7-9ed9-ee039b82774c</td>\n      <td>raw</td>\n      <td>6</td>\n      <td>catalog</td>\n      <td>2019-11-01 21:38:19.283663</td>\n      <td>964964743.0</td>\n    </tr>\n    <tr>\n      <th>7</th>\n      <td>502b9da4-9fb2-49c0-a26b-b8fce7a4a7d4</td>\n      <td>raw</td>\n      <td>7</td>\n      <td>cart</td>\n      <td>2019-11-01 21:38:36.761221</td>\n      <td>964964743.0</td>\n    </tr>\n    <tr>\n      <th>8</th>\n      <td>b69c702b-2856-45c8-aa60-013eb6743217</td>\n      <td>raw</td>\n      <td>8</td>\n      <td>delivery_choice</td>\n      <td>2019-11-01 21:38:37.564693</td>\n      <td>964964743.0</td>\n    </tr>\n    <tr>\n      <th>2728</th>\n      <td>2fe1838a-4876-418b-bd15-9ed67896529f</td>\n      <td>raw</td>\n      <td>2728</td>\n      <td>main</td>\n      <td>2019-12-09 01:42:22.801831</td>\n      <td>964964743.0</td>\n    </tr>\n    <tr>\n      <th>2729</th>\n      <td>df188c43-ff63-4113-95f4-6ba2d9bfc03c</td>\n      <td>raw</td>\n      <td>2729</td>\n      <td>catalog</td>\n      <td>2019-12-09 01:42:23.617764</td>\n      <td>964964743.0</td>\n    </tr>\n    <tr>\n      <th>2730</th>\n      <td>45fb4377-11f4-4eb3-b71b-8c42e3eac81b</td>\n      <td>raw</td>\n      <td>2730</td>\n      <td>product2</td>\n      <td>2019-12-09 01:42:56.877340</td>\n      <td>964964743.0</td>\n    </tr>\n    <tr>\n      <th>2731</th>\n      <td>33554711-cd56-4af8-b242-53b521232a63</td>\n      <td>raw</td>\n      <td>2731</td>\n      <td>catalog</td>\n      <td>2019-12-09 01:43:05.436223</td>\n      <td>964964743.0</td>\n    </tr>\n    <tr>\n      <th>2732</th>\n      <td>60fe9b0e-03ac-487b-8b4a-e7566ca93187</td>\n      <td>raw</td>\n      <td>2732</td>\n      <td>catalog</td>\n      <td>2019-12-09 01:43:36.923178</td>\n      <td>964964743.0</td>\n    </tr>\n    <tr>\n      <th>2733</th>\n      <td>b4609a5f-7662-4048-98fa-b03191a30d64</td>\n      <td>raw</td>\n      <td>2733</td>\n      <td>product2</td>\n      <td>2019-12-09 01:43:41.174195</td>\n      <td>964964743.0</td>\n    </tr>\n    <tr>\n      <th>2734</th>\n      <td>e50da712-8b2a-464a-b5e7-9ef59834c43b</td>\n      <td>raw</td>\n      <td>2734</td>\n      <td>cart</td>\n      <td>2019-12-09 01:43:57.325569</td>\n      <td>964964743.0</td>\n    </tr>\n    <tr>\n      <th>2735</th>\n      <td>496c384d-3cee-4aff-aab4-2e8d58d4e01c</td>\n      <td>raw</td>\n      <td>2735</td>\n      <td>delivery_choice</td>\n      <td>2019-12-09 01:43:57.486518</td>\n      <td>964964743.0</td>\n    </tr>\n    <tr>\n      <th>2736</th>\n      <td>cf4e8d54-dcb3-48de-998a-ac8002d2c104</td>\n      <td>raw</td>\n      <td>2736</td>\n      <td>delivery_pickup</td>\n      <td>2019-12-09 01:43:57.766850</td>\n      <td>964964743.0</td>\n    </tr>\n    <tr>\n      <th>2737</th>\n      <td>2ff9dcd0-30c0-4e84-bb8b-e0040d245e2d</td>\n      <td>raw</td>\n      <td>2737</td>\n      <td>lost</td>\n      <td>2019-12-09 01:43:58.766850</td>\n      <td>964964743.0</td>\n    </tr>\n  </tbody>\n</table>\n</div>"
     },
     "execution_count": 83,
     "metadata": {},
     "output_type": "execute_result"
    }
   ],
   "source": [
    "df5[df5['user_id'] == 964964743]"
   ],
   "metadata": {
    "collapsed": false,
    "pycharm": {
     "name": "#%%\n"
    }
   }
  },
  {
   "cell_type": "markdown",
   "source": [
    "### Результат"
   ],
   "metadata": {
    "collapsed": false,
    "pycharm": {
     "name": "#%% md\n"
    }
   }
  },
  {
   "cell_type": "markdown",
   "source": [
    "1) [DONE] Дубликаты - 27880\n",
    "2) [DONE] перепутаны местами truncated_left и truncated_right\n",
    "3) [DONE] проверить расчет более детально\n",
    "4) [DONE] Неправильно проставляются truncated события - для всех юзеров\n",
    "5) [TODO_analytics] DEFAULT_INDEX_ORDER нет типа события truncated_left и  truncated_right\n",
    "6) [TODO_analytics] строгое/не строгое сравнение с отсечкой"
   ],
   "metadata": {
    "collapsed": false,
    "pycharm": {
     "name": "#%% md\n"
    }
   }
  },
  {
   "cell_type": "markdown",
   "source": [
    "## PositiveTarget"
   ],
   "metadata": {
    "collapsed": false,
    "pycharm": {
     "name": "#%% md\n"
    }
   }
  },
  {
   "cell_type": "markdown",
   "source": [
    "### Описание работы функции"
   ],
   "metadata": {
    "collapsed": false,
    "pycharm": {
     "name": "#%% md\n"
    }
   }
  },
  {
   "cell_type": "markdown",
   "source": [
    "Принимает на вход список событий ```positive_target_events``` и приклеивает к этим событиям в ивентстриме синтетическое событие\n",
    "```event_type=positive_target, event=positive_target_ORIGINAL_EVENT_NAME```.\n",
    "Если в ивентстриме пользователя встречается более, чем одно таргетное событие, то positive_target по дефолту приклеивается к первому из встреченных событий.\n",
    "\n",
    "Также в параметры можно передать кастомную функцию для определения positive\n",
    "\n",
    "В кастомную функцию передается ивентстрим и список событий, на выходе датафрейм с новым таргетным событием и timestamp.\n",
    "type_col и event_col проставляются уже внутри функции\n"
   ],
   "metadata": {
    "collapsed": false,
    "pycharm": {
     "name": "#%% md\n"
    }
   }
  },
  {
   "cell_type": "code",
   "execution_count": 84,
   "outputs": [
    {
     "ename": "TypeError",
     "evalue": "_default_func_positive() takes 2 positional arguments but 3 were given",
     "output_type": "error",
     "traceback": [
      "\u001B[0;31m---------------------------------------------------------------------------\u001B[0m",
      "\u001B[0;31mTypeError\u001B[0m                                 Traceback (most recent call last)",
      "Input \u001B[0;32mIn [84]\u001B[0m, in \u001B[0;36m<cell line: 14>\u001B[0;34m()\u001B[0m\n\u001B[1;32m      6\u001B[0m positive_targets \u001B[38;5;241m=\u001B[39m EventsNode(\n\u001B[1;32m      7\u001B[0m     PositiveTarget(params\u001B[38;5;241m=\u001B[39mPositiveTargetParams(\u001B[38;5;241m*\u001B[39m\u001B[38;5;241m*\u001B[39mparams)))\n\u001B[1;32m      9\u001B[0m graph\u001B[38;5;241m.\u001B[39madd_node(\n\u001B[1;32m     10\u001B[0m     node\u001B[38;5;241m=\u001B[39mpositive_targets,\n\u001B[1;32m     11\u001B[0m     parents\u001B[38;5;241m=\u001B[39m[graph\u001B[38;5;241m.\u001B[39mroot]\n\u001B[1;32m     12\u001B[0m )\n\u001B[0;32m---> 14\u001B[0m result \u001B[38;5;241m=\u001B[39m \u001B[43mgraph\u001B[49m\u001B[38;5;241;43m.\u001B[39;49m\u001B[43mcombine\u001B[49m\u001B[43m(\u001B[49m\n\u001B[1;32m     15\u001B[0m \u001B[43m    \u001B[49m\u001B[43mnode\u001B[49m\u001B[38;5;241;43m=\u001B[39;49m\u001B[43mpositive_targets\u001B[49m\n\u001B[1;32m     16\u001B[0m \u001B[43m)\u001B[49m\n\u001B[1;32m     17\u001B[0m result\u001B[38;5;241m.\u001B[39mto_dataframe()\u001B[38;5;241m.\u001B[39mhead(\u001B[38;5;241m8\u001B[39m)\n",
      "File \u001B[0;32m~/Dev/Retentioneering/retentioneering-tools-new-arch/examples/../src/graph/p_graph.py:69\u001B[0m, in \u001B[0;36mPGraph.combine\u001B[0;34m(self, node)\u001B[0m\n\u001B[1;32m     66\u001B[0m     \u001B[38;5;28;01mreturn\u001B[39;00m node\u001B[38;5;241m.\u001B[39mevents\u001B[38;5;241m.\u001B[39mcopy()\n\u001B[1;32m     68\u001B[0m \u001B[38;5;28;01mif\u001B[39;00m \u001B[38;5;28misinstance\u001B[39m(node, EventsNode):\n\u001B[0;32m---> 69\u001B[0m     \u001B[38;5;28;01mreturn\u001B[39;00m \u001B[38;5;28;43mself\u001B[39;49m\u001B[38;5;241;43m.\u001B[39;49m\u001B[43mcombine_events_node\u001B[49m\u001B[43m(\u001B[49m\u001B[43mnode\u001B[49m\u001B[43m)\u001B[49m\n\u001B[1;32m     71\u001B[0m \u001B[38;5;28;01mreturn\u001B[39;00m \u001B[38;5;28mself\u001B[39m\u001B[38;5;241m.\u001B[39mcombine_merge_node(node)\n",
      "File \u001B[0;32m~/Dev/Retentioneering/retentioneering-tools-new-arch/examples/../src/graph/p_graph.py:76\u001B[0m, in \u001B[0;36mPGraph.combine_events_node\u001B[0;34m(self, node)\u001B[0m\n\u001B[1;32m     74\u001B[0m parent \u001B[38;5;241m=\u001B[39m \u001B[38;5;28mself\u001B[39m\u001B[38;5;241m.\u001B[39mget_events_node_parent(node)\n\u001B[1;32m     75\u001B[0m parent_events \u001B[38;5;241m=\u001B[39m \u001B[38;5;28mself\u001B[39m\u001B[38;5;241m.\u001B[39mcombine(parent)\n\u001B[0;32m---> 76\u001B[0m events \u001B[38;5;241m=\u001B[39m \u001B[43mnode\u001B[49m\u001B[38;5;241;43m.\u001B[39;49m\u001B[43mprocessor\u001B[49m\u001B[38;5;241;43m.\u001B[39;49m\u001B[43mapply\u001B[49m\u001B[43m(\u001B[49m\u001B[43mparent_events\u001B[49m\u001B[43m)\u001B[49m\n\u001B[1;32m     77\u001B[0m parent_events\u001B[38;5;241m.\u001B[39mjoin_eventstream(events)\n\u001B[1;32m     78\u001B[0m \u001B[38;5;28;01mreturn\u001B[39;00m parent_events\n",
      "File \u001B[0;32m~/Dev/Retentioneering/retentioneering-tools-new-arch/examples/../src/data_processors_lib/rete/positive_target.py:51\u001B[0m, in \u001B[0;36mPositiveTarget.apply\u001B[0;34m(self, eventstream)\u001B[0m\n\u001B[1;32m     48\u001B[0m positive_function: Callable[[Eventstream, \u001B[38;5;28mlist\u001B[39m[\u001B[38;5;28mstr\u001B[39m]], pd\u001B[38;5;241m.\u001B[39mDataFrame] \u001B[38;5;241m=\u001B[39m \u001B[38;5;28mself\u001B[39m\u001B[38;5;241m.\u001B[39mparams\u001B[38;5;241m.\u001B[39mpositive_function\n\u001B[1;32m     49\u001B[0m positive_target_events \u001B[38;5;241m=\u001B[39m \u001B[38;5;28mself\u001B[39m\u001B[38;5;241m.\u001B[39mparams\u001B[38;5;241m.\u001B[39mpositive_target_events\n\u001B[0;32m---> 51\u001B[0m positive_targets \u001B[38;5;241m=\u001B[39m \u001B[43mpositive_function\u001B[49m\u001B[43m(\u001B[49m\u001B[43meventstream\u001B[49m\u001B[43m,\u001B[49m\u001B[43m \u001B[49m\u001B[43mpositive_target_events\u001B[49m\u001B[43m)\u001B[49m\n\u001B[1;32m     52\u001B[0m positive_targets[type_col] \u001B[38;5;241m=\u001B[39m \u001B[38;5;124m\"\u001B[39m\u001B[38;5;124mpositive_target\u001B[39m\u001B[38;5;124m\"\u001B[39m\n\u001B[1;32m     53\u001B[0m positive_targets[event_col] \u001B[38;5;241m=\u001B[39m \u001B[38;5;124m\"\u001B[39m\u001B[38;5;124mpositive_target_\u001B[39m\u001B[38;5;124m\"\u001B[39m \u001B[38;5;241m+\u001B[39m positive_targets[event_col]\n",
      "\u001B[0;31mTypeError\u001B[0m: _default_func_positive() takes 2 positional arguments but 3 were given"
     ]
    }
   ],
   "source": [
    "from src.data_processors_lib.rete import PositiveTarget, PositiveTargetParams\n",
    "params = {\n",
    "    'positive_target_events': ['payment_done']\n",
    "}\n",
    "\n",
    "positive_targets = EventsNode(\n",
    "    PositiveTarget(params=PositiveTargetParams(**params)))\n",
    "\n",
    "graph.add_node(\n",
    "    node=positive_targets,\n",
    "    parents=[graph.root]\n",
    ")\n",
    "\n",
    "result = graph.combine(\n",
    "    node=positive_targets\n",
    ")\n",
    "result.to_dataframe().head(8)"
   ],
   "metadata": {
    "collapsed": false,
    "pycharm": {
     "name": "#%%\n"
    }
   }
  },
  {
   "cell_type": "code",
   "execution_count": null,
   "outputs": [],
   "source": [
    "df6 = result.to_dataframe()\n",
    "print(source_df.duplicated(['event_name', 'event_timestamp', 'user_id']).sum())\n",
    "df6.duplicated(['event_name', 'event_timestamp', 'user_id']).sum()"
   ],
   "metadata": {
    "collapsed": false,
    "pycharm": {
     "name": "#%%\n"
    }
   }
  },
  {
   "cell_type": "code",
   "execution_count": null,
   "outputs": [],
   "source": [
    "df6['event_type'].value_counts()"
   ],
   "metadata": {
    "collapsed": false,
    "pycharm": {
     "name": "#%%\n"
    }
   }
  },
  {
   "cell_type": "code",
   "execution_count": null,
   "outputs": [],
   "source": [
    "source_df['event_type'].value_counts()"
   ],
   "metadata": {
    "collapsed": false,
    "pycharm": {
     "name": "#%%\n"
    }
   }
  },
  {
   "cell_type": "code",
   "execution_count": null,
   "outputs": [],
   "source": [
    "source_df[source_df['event_name'] == 'payment_done']['user_id'].nunique()"
   ],
   "metadata": {
    "collapsed": false,
    "pycharm": {
     "name": "#%%\n"
    }
   }
  },
  {
   "cell_type": "code",
   "execution_count": null,
   "outputs": [],
   "source": [
    "print(len(df6[df6['user_id'] == 629881394]))\n",
    "df6[df6['user_id'] == 629881394]"
   ],
   "metadata": {
    "collapsed": false,
    "pycharm": {
     "name": "#%%\n"
    }
   }
  },
  {
   "cell_type": "code",
   "execution_count": null,
   "outputs": [],
   "source": [
    "print(len(source_df[source_df['user_id'] == 629881394]))\n"
   ],
   "metadata": {
    "collapsed": false,
    "pycharm": {
     "name": "#%%\n"
    }
   }
  },
  {
   "cell_type": "markdown",
   "source": [
    "### Несколько событий"
   ],
   "metadata": {
    "collapsed": false,
    "pycharm": {
     "name": "#%% md\n"
    }
   }
  },
  {
   "cell_type": "code",
   "execution_count": null,
   "outputs": [],
   "source": [
    "from src.data_processors_lib.rete import PositiveTarget, PositiveTargetParams\n",
    "params = {\n",
    "    'positive_target_events': ['payment_done', 'payment_cash']\n",
    "}\n",
    "\n",
    "positive_targets = EventsNode(\n",
    "    PositiveTarget(params=PositiveTargetParams(**params)))\n",
    "\n",
    "graph.add_node(\n",
    "    node=positive_targets,\n",
    "    parents=[graph.root]\n",
    ")\n",
    "\n",
    "result = graph.combine(\n",
    "    node=positive_targets\n",
    ")"
   ],
   "metadata": {
    "collapsed": false,
    "pycharm": {
     "name": "#%%\n"
    }
   }
  },
  {
   "cell_type": "code",
   "execution_count": null,
   "outputs": [],
   "source": [
    "df61 = result.to_dataframe()\n",
    "print(source_df.duplicated(['event_name', 'event_timestamp', 'user_id']).sum())\n",
    "df61.duplicated(['event_name', 'event_timestamp', 'user_id']).sum()"
   ],
   "metadata": {
    "collapsed": false,
    "pycharm": {
     "name": "#%%\n"
    }
   }
  },
  {
   "cell_type": "code",
   "execution_count": null,
   "outputs": [],
   "source": [
    "df61['event_type'].value_counts()"
   ],
   "metadata": {
    "collapsed": false,
    "pycharm": {
     "name": "#%%\n"
    }
   }
  },
  {
   "cell_type": "code",
   "execution_count": null,
   "outputs": [],
   "source": [
    "source_df['event_type'].value_counts()"
   ],
   "metadata": {
    "collapsed": false,
    "pycharm": {
     "name": "#%%\n"
    }
   }
  },
  {
   "cell_type": "code",
   "execution_count": null,
   "outputs": [],
   "source": [
    "source_df[(source_df['event_name'] == 'payment_done') |\n",
    "          (source_df['event_name'] == 'payment_cash')\n",
    "         ]['user_id'].nunique()"
   ],
   "metadata": {
    "collapsed": false,
    "pycharm": {
     "name": "#%%\n"
    }
   }
  },
  {
   "cell_type": "code",
   "execution_count": null,
   "outputs": [],
   "source": [
    "print(len(df61[df61['user_id'] == 629881394]))\n",
    "df61[df61['user_id'] == 629881394]"
   ],
   "metadata": {
    "collapsed": false,
    "pycharm": {
     "name": "#%%\n"
    }
   }
  },
  {
   "cell_type": "code",
   "execution_count": null,
   "outputs": [],
   "source": [],
   "metadata": {
    "collapsed": false,
    "pycharm": {
     "name": "#%%\n"
    }
   }
  },
  {
   "cell_type": "code",
   "execution_count": null,
   "outputs": [],
   "source": [],
   "metadata": {
    "collapsed": false,
    "pycharm": {
     "name": "#%%\n"
    }
   }
  },
  {
   "cell_type": "markdown",
   "source": [
    "### Результат"
   ],
   "metadata": {
    "collapsed": false,
    "pycharm": {
     "name": "#%% md\n"
    }
   }
  },
  {
   "cell_type": "markdown",
   "source": [
    "1) [DONE] Дубликаты\n",
    "2) [TODO] Локально возникает ошибка TypeError: _default_func_positive() takes 2 positional arguments but 3 were given\n",
    "3) [DONE] Нужен кейс по тестированию 2 событий\n",
    "4) [TODO] Нужен кейс по тестированию пользовательской функции, продумать какие они вообще могут быть"
   ],
   "metadata": {
    "collapsed": false,
    "pycharm": {
     "name": "#%% md\n"
    }
   }
  },
  {
   "cell_type": "code",
   "execution_count": null,
   "outputs": [],
   "source": [],
   "metadata": {
    "collapsed": false,
    "pycharm": {
     "name": "#%%\n"
    }
   }
  },
  {
   "cell_type": "markdown",
   "source": [
    "## NegativeTarget"
   ],
   "metadata": {
    "collapsed": false,
    "pycharm": {
     "name": "#%% md\n"
    }
   }
  },
  {
   "cell_type": "markdown",
   "source": [
    "### Описание работы функции"
   ],
   "metadata": {
    "collapsed": false,
    "pycharm": {
     "name": "#%% md\n"
    }
   }
  },
  {
   "cell_type": "markdown",
   "source": [
    "Принимает на вход список событий ```negative_target_events``` и приклеивает к этим событиям в ивентстриме синтетическое событие\n",
    "```event_type=negative_target, event=negative_target_ORIGINAL_EVENT_NAME```.\n",
    "Если в траектории пользователя встречается более, чем одно таргетное событие, то negative_target по дефолту приклеивается к первому из встреченных событий.\n",
    "\n",
    "Также в параметры можно передать кастомную функцию для определения negative\n",
    "\n",
    "В кастомную функцию передаётся eventstream и список событий, на выходе - датафрейм с новым таргетным событием и timestamp.\n",
    "type_col и event_col проставляются уже внутри функции"
   ],
   "metadata": {
    "collapsed": false,
    "pycharm": {
     "name": "#%% md\n"
    }
   }
  },
  {
   "cell_type": "code",
   "execution_count": null,
   "outputs": [],
   "source": [
    "from src.data_processors_lib.rete import NegativeTarget, NegativeTargetParams\n",
    "params = {\n",
    "    'negative_target_events': ['payment_cash']\n",
    "}\n",
    "\n",
    "negative_targets = EventsNode(\n",
    "    NegativeTarget(params=NegativeTargetParams(**params)))\n",
    "\n",
    "graph.add_node(\n",
    "    node=negative_targets,\n",
    "    parents=[graph.root]\n",
    ")\n",
    "\n",
    "result = graph.combine(\n",
    "    node=negative_targets\n",
    ")\n"
   ],
   "metadata": {
    "collapsed": false,
    "pycharm": {
     "name": "#%%\n"
    }
   }
  },
  {
   "cell_type": "code",
   "execution_count": null,
   "outputs": [],
   "source": [
    "df7 = result.to_dataframe()\n",
    "print(source_df.duplicated(['event_name', 'event_timestamp', 'user_id']).sum())\n",
    "df6.duplicated(['event_name', 'event_timestamp', 'user_id']).sum()"
   ],
   "metadata": {
    "collapsed": false,
    "pycharm": {
     "name": "#%%\n"
    }
   }
  },
  {
   "cell_type": "code",
   "execution_count": null,
   "outputs": [],
   "source": [
    "df7['event_type'].value_counts()"
   ],
   "metadata": {
    "collapsed": false,
    "pycharm": {
     "name": "#%%\n"
    }
   }
  },
  {
   "cell_type": "code",
   "execution_count": null,
   "outputs": [],
   "source": [
    "source_df['event_type'].value_counts()"
   ],
   "metadata": {
    "collapsed": false,
    "pycharm": {
     "name": "#%%\n"
    }
   }
  },
  {
   "cell_type": "code",
   "execution_count": null,
   "outputs": [],
   "source": [
    "source_df[source_df['event_name'] == 'payment_cash']['user_id'].nunique()"
   ],
   "metadata": {
    "collapsed": false,
    "pycharm": {
     "name": "#%%\n"
    }
   }
  },
  {
   "cell_type": "code",
   "execution_count": null,
   "outputs": [],
   "source": [
    "print(len(df7[df7['user_id'] == 629881394]))\n",
    "df7[df7['user_id'] == 629881394]"
   ],
   "metadata": {
    "collapsed": false,
    "pycharm": {
     "name": "#%%\n"
    }
   }
  },
  {
   "cell_type": "code",
   "execution_count": null,
   "outputs": [],
   "source": [
    "print(len(source_df[source_df['user_id'] == 629881394]))\n",
    "source_df[source_df['user_id'] == 629881394]"
   ],
   "metadata": {
    "collapsed": false,
    "pycharm": {
     "name": "#%%\n"
    }
   }
  },
  {
   "cell_type": "markdown",
   "source": [
    "### Несколько событий"
   ],
   "metadata": {
    "collapsed": false,
    "pycharm": {
     "name": "#%% md\n"
    }
   }
  },
  {
   "cell_type": "code",
   "execution_count": null,
   "outputs": [],
   "source": [
    "from src.data_processors_lib.rete import NegativeTarget, NegativeTargetParams\n",
    "params = {\n",
    "    'negative_target_events': ['payment_cash', 'product2']\n",
    "}\n",
    "\n",
    "negative_targets = EventsNode(\n",
    "    NegativeTarget(params=NegativeTargetParams(**params)))\n",
    "\n",
    "graph.add_node(\n",
    "    node=negative_targets,\n",
    "    parents=[graph.root]\n",
    ")\n",
    "\n",
    "result = graph.combine(\n",
    "    node=negative_targets\n",
    ")"
   ],
   "metadata": {
    "collapsed": false,
    "pycharm": {
     "name": "#%%\n"
    }
   }
  },
  {
   "cell_type": "code",
   "execution_count": null,
   "outputs": [],
   "source": [
    "df71 = result.to_dataframe()\n",
    "print(source_df.duplicated(['event_name', 'event_timestamp', 'user_id']).sum())\n",
    "df6.duplicated(['event_name', 'event_timestamp', 'user_id']).sum()"
   ],
   "metadata": {
    "collapsed": false,
    "pycharm": {
     "name": "#%%\n"
    }
   }
  },
  {
   "cell_type": "code",
   "execution_count": null,
   "outputs": [],
   "source": [
    "df71['event_type'].value_counts()"
   ],
   "metadata": {
    "collapsed": false,
    "pycharm": {
     "name": "#%%\n"
    }
   }
  },
  {
   "cell_type": "code",
   "execution_count": null,
   "outputs": [],
   "source": [
    "source_df['event_type'].value_counts()"
   ],
   "metadata": {
    "collapsed": false,
    "pycharm": {
     "name": "#%%\n"
    }
   }
  },
  {
   "cell_type": "code",
   "execution_count": null,
   "outputs": [],
   "source": [
    "source_df[(source_df['event_name'] == 'payment_cash') |\n",
    "         (source_df['event_name'] == 'product2')\n",
    "         ]['user_id'].nunique()"
   ],
   "metadata": {
    "collapsed": false,
    "pycharm": {
     "name": "#%%\n"
    }
   }
  },
  {
   "cell_type": "code",
   "execution_count": null,
   "outputs": [],
   "source": [
    "print(len(df71[df71['user_id'] == 629881394]))\n",
    "df71[df71['user_id'] == 629881394]"
   ],
   "metadata": {
    "collapsed": false,
    "pycharm": {
     "name": "#%%\n"
    }
   }
  },
  {
   "cell_type": "code",
   "execution_count": null,
   "outputs": [],
   "source": [
    "print(len(source_df[source_df['user_id'] == 629881394]))\n",
    "source_df[source_df['user_id'] == 629881394]"
   ],
   "metadata": {
    "collapsed": false,
    "pycharm": {
     "name": "#%%\n"
    }
   }
  },
  {
   "cell_type": "code",
   "execution_count": null,
   "outputs": [],
   "source": [],
   "metadata": {
    "collapsed": false,
    "pycharm": {
     "name": "#%%\n"
    }
   }
  },
  {
   "cell_type": "markdown",
   "source": [
    "### Результат"
   ],
   "metadata": {
    "collapsed": false,
    "pycharm": {
     "name": "#%% md\n"
    }
   }
  },
  {
   "cell_type": "markdown",
   "source": [
    "1) [DONE] Дубликаты\n",
    "2) [TODO] Локально возникает ошибка TypeError: _default_func_negative() takes 2 positional arguments but 3 were given\n",
    "3) [DONE] Нужен кейс по тестированию 2 событий\n",
    "4) [TODO] Нужен кейс по тестированию пользовательской функции"
   ],
   "metadata": {
    "collapsed": false,
    "pycharm": {
     "name": "#%% md\n"
    }
   }
  },
  {
   "cell_type": "code",
   "execution_count": null,
   "outputs": [],
   "source": [],
   "metadata": {
    "collapsed": false,
    "pycharm": {
     "name": "#%%\n"
    }
   }
  },
  {
   "cell_type": "markdown",
   "source": [],
   "metadata": {
    "collapsed": false,
    "pycharm": {
     "name": "#%% md\n"
    }
   }
  },
  {
   "cell_type": "code",
   "execution_count": null,
   "outputs": [],
   "source": [],
   "metadata": {
    "collapsed": false,
    "pycharm": {
     "name": "#%%\n"
    }
   }
  },
  {
   "cell_type": "code",
   "execution_count": null,
   "outputs": [],
   "source": [],
   "metadata": {
    "collapsed": false,
    "pycharm": {
     "name": "#%%\n"
    }
   }
  },
  {
   "cell_type": "code",
   "execution_count": null,
   "id": "cfb34890-afca-497a-a308-9b12b511920a",
   "metadata": {
    "pycharm": {
     "name": "#%%\n"
    }
   },
   "outputs": [],
   "source": []
  }
 ],
 "metadata": {
  "kernelspec": {
   "name": "rete_pycharm",
   "language": "python",
   "display_name": "rete_pycharm"
  },
  "language_info": {
   "codemirror_mode": {
    "name": "ipython",
    "version": 3
   },
   "file_extension": ".py",
   "mimetype": "text/x-python",
   "name": "python",
   "nbconvert_exporter": "python",
   "pygments_lexer": "ipython3",
   "version": "3.8.10"
  }
 },
 "nbformat": 4,
 "nbformat_minor": 5
}
