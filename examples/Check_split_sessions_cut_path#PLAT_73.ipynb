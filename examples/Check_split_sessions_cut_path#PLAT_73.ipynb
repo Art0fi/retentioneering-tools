{
 "cells": [
  {
   "cell_type": "code",
   "execution_count": 1,
   "metadata": {
    "collapsed": true,
    "pycharm": {
     "name": "#%%\n"
    }
   },
   "outputs": [],
   "source": [
    "import sys\n",
    "sys.path.insert(0, '..')"
   ]
  },
  {
   "cell_type": "markdown",
   "source": [
    "# Инициализируем граф"
   ],
   "metadata": {
    "collapsed": false,
    "pycharm": {
     "name": "#%% md\n"
    }
   }
  },
  {
   "cell_type": "code",
   "execution_count": 2,
   "outputs": [],
   "source": [
    "import pandas as pd\n",
    "\n",
    "from src.eventstream.eventstream import Eventstream\n",
    "from src.eventstream.schema import RawDataSchema, EventstreamSchema\n",
    "from src.graph.p_graph import PGraph, EventsNode\n",
    "\n",
    "raw_data = pd.read_csv('simple-onlineshop.csv')\n",
    "\n",
    "raw_data_schema = RawDataSchema(\n",
    "                            event_name=\"event\",\n",
    "                            event_timestamp=\"timestamp\",\n",
    "                            user_id=\"user_id\")\n",
    "\n",
    "source = Eventstream(\n",
    "    raw_data=raw_data,\n",
    "    raw_data_schema=raw_data_schema,\n",
    "    schema=EventstreamSchema()\n",
    ")\n",
    "\n",
    "graph = PGraph(source_stream=source)"
   ],
   "metadata": {
    "collapsed": false,
    "pycharm": {
     "name": "#%%\n"
    }
   }
  },
  {
   "cell_type": "code",
   "execution_count": 3,
   "outputs": [],
   "source": [
    "source_df = source.to_dataframe()"
   ],
   "metadata": {
    "collapsed": false,
    "pycharm": {
     "name": "#%%\n"
    }
   }
  },
  {
   "cell_type": "markdown",
   "source": [
    "## CutPathAfter"
   ],
   "metadata": {
    "collapsed": false,
    "pycharm": {
     "name": "#%% md\n"
    }
   }
  },
  {
   "cell_type": "markdown",
   "source": [
    "### Описание работы функции"
   ],
   "metadata": {
    "collapsed": false,
    "pycharm": {
     "name": "#%% md\n"
    }
   }
  },
  {
   "cell_type": "markdown",
   "source": [
    "Обрезает eventstream сразу после одного из событий, указанных в списке cutoff_events (первого в траектории). Остается часть траектории до первого найденного события из списка включительно. Само событие остается в траектории.\n",
    "\n",
    "Параметры:\n",
    "```cut_shift``` - смещение относительно обозначенного события в сторону сокращения траектории (влево)\n",
    "```min_cjm``` - минимальное кол-во событий в траектории, которые надо оставить, если в траектории меньшее количество событий, то они будут удалены\n",
    "\n"
   ],
   "metadata": {
    "collapsed": false,
    "pycharm": {
     "name": "#%% md\n"
    }
   }
  },
  {
   "cell_type": "markdown",
   "source": [
    "### 1 событие"
   ],
   "metadata": {
    "collapsed": false,
    "pycharm": {
     "name": "#%% md\n"
    }
   }
  },
  {
   "cell_type": "code",
   "execution_count": 4,
   "outputs": [
    {
     "name": "stderr",
     "output_type": "stream",
     "text": [
      "/Users/Daria/Dev/Retentioneering/retentioneering-tools-new-arch/examples/../src/data_processors_lib/rete/cut_path_after_event.py:59: SettingWithCopyWarning: \n",
      "A value is trying to be set on a copy of a slice from a DataFrame.\n",
      "Try using .loc[row_indexer,col_indexer] = value instead\n",
      "\n",
      "See the caveats in the documentation: https://pandas.pydata.org/pandas-docs/stable/user_guide/indexing.html#returning-a-view-versus-a-copy\n",
      "  df_cut['rw_cumsum'] = df_cut.loc[::-1].groupby([user_col])[time_col].transform(\n",
      "/Users/Daria/Dev/Retentioneering/retentioneering-tools-new-arch/examples/../src/data_processors_lib/rete/cut_path_after_event.py:76: SettingWithCopyWarning: \n",
      "A value is trying to be set on a copy of a slice from a DataFrame.\n",
      "Try using .loc[row_indexer,col_indexer] = value instead\n",
      "\n",
      "See the caveats in the documentation: https://pandas.pydata.org/pandas-docs/stable/user_guide/indexing.html#returning-a-view-versus-a-copy\n",
      "  df_to_del['ref'] = df_to_del[eventstream.schema.event_id]\n"
     ]
    }
   ],
   "source": [
    "from src.data_processors_lib.rete import CutPathAfterEvent, CutPathAfterEventParams\n",
    "params = {\n",
    "    'cutoff_events': ['payment_done'],\n",
    "    'cut_shift': 0,\n",
    "    'min_cjm': 0\n",
    "}\n",
    "\n",
    "cut_after = EventsNode(\n",
    "    CutPathAfterEvent(params=CutPathAfterEventParams(**params)))\n",
    "\n",
    "graph.add_node(\n",
    "    node=cut_after,\n",
    "    parents=[graph.root]\n",
    ")\n",
    "\n",
    "result = graph.combine(\n",
    "    node=cut_after\n",
    ")\n"
   ],
   "metadata": {
    "collapsed": false,
    "pycharm": {
     "name": "#%%\n"
    }
   }
  },
  {
   "cell_type": "code",
   "execution_count": 5,
   "outputs": [
    {
     "name": "stdout",
     "output_type": "stream",
     "text": [
      "0\n"
     ]
    },
    {
     "data": {
      "text/plain": "0"
     },
     "execution_count": 5,
     "metadata": {},
     "output_type": "execute_result"
    }
   ],
   "source": [
    "df8 = result.to_dataframe()\n",
    "print(source_df.duplicated(['event_name', 'event_timestamp', 'user_id']).sum())\n",
    "df8.duplicated(['event_name', 'event_timestamp', 'user_id']).sum()"
   ],
   "metadata": {
    "collapsed": false,
    "pycharm": {
     "name": "#%%\n"
    }
   }
  },
  {
   "cell_type": "code",
   "execution_count": 6,
   "outputs": [
    {
     "data": {
      "text/plain": "raw    32666\nName: event_type, dtype: int64"
     },
     "execution_count": 6,
     "metadata": {},
     "output_type": "execute_result"
    }
   ],
   "source": [
    "df8['event_type'].value_counts()"
   ],
   "metadata": {
    "collapsed": false,
    "pycharm": {
     "name": "#%%\n"
    }
   }
  },
  {
   "cell_type": "code",
   "execution_count": 7,
   "outputs": [
    {
     "data": {
      "text/plain": "raw    35381\nName: event_type, dtype: int64"
     },
     "execution_count": 7,
     "metadata": {},
     "output_type": "execute_result"
    }
   ],
   "source": [
    "source_df['event_type'].value_counts()"
   ],
   "metadata": {
    "collapsed": false,
    "pycharm": {
     "name": "#%%\n"
    }
   }
  },
  {
   "cell_type": "code",
   "execution_count": 8,
   "outputs": [
    {
     "data": {
      "text/plain": "653"
     },
     "execution_count": 8,
     "metadata": {},
     "output_type": "execute_result"
    }
   ],
   "source": [
    "source_df[source_df['event_name'] == 'payment_done']['user_id'].nunique()"
   ],
   "metadata": {
    "collapsed": false,
    "pycharm": {
     "name": "#%%\n"
    }
   }
  },
  {
   "cell_type": "code",
   "execution_count": 9,
   "outputs": [
    {
     "name": "stdout",
     "output_type": "stream",
     "text": [
      "26\n"
     ]
    }
   ],
   "source": [
    "check_id = 629881394\n",
    "print(len(df8[df8['user_id'] == check_id]))\n",
    "event_time = source_df[(source_df['user_id'] == check_id) & \\\n",
    "    (source_df['event_name'] == 'payment_done')]['event_timestamp'].values[0]"
   ],
   "metadata": {
    "collapsed": false,
    "pycharm": {
     "name": "#%%\n"
    }
   }
  },
  {
   "cell_type": "code",
   "execution_count": 10,
   "outputs": [
    {
     "data": {
      "text/plain": "                                event_id event_type  event_index  \\\n7   80f39ba7-6fe7-4807-b861-0bf310b0d3f8        raw            7   \n9   c96cfae1-7f00-49a1-a401-06a5ca509a9c        raw            9   \n11  897d59ef-4def-473d-b8b8-90bd2895b536        raw           11   \n13  7b720f69-6562-482e-bcd0-01b5085e9237        raw           13   \n14  70daf76a-ed57-416c-aed8-17d8daa480d7        raw           14   \n15  d659ac91-37e2-46bc-9423-d1f3c96865d2        raw           15   \n16  a6d20675-a8e0-4fc6-8343-53c95540abf6        raw           16   \n17  9fb7119e-2e18-43d8-9fe5-6e11fe3ff33c        raw           17   \n18  8731ceb0-5f4c-439d-ba1d-49b827b7bc84        raw           18   \n19  5ecf46bc-aa9c-4d0a-ab93-e7bc557cd26d        raw           19   \n20  7d87dd79-2232-47ba-a18d-8e8387f193ac        raw           20   \n21  bf4e0878-125c-471a-8946-8996188557ee        raw           21   \n22  a2743119-14b8-498e-abba-fe8f40021b53        raw           22   \n23  36a74849-c923-434b-ab1b-c49c813d6b14        raw           23   \n24  b9e72bd3-b08d-4107-bb3d-c85cb02ccead        raw           24   \n25  7c0023c7-cc16-4089-9f80-f42077e34d98        raw           25   \n27  aaf77e10-0adf-4b3f-9f41-4c7cd66b5b4e        raw           27   \n29  83db7c69-1bfe-4cb0-a40a-bffc5d24159d        raw           29   \n31  ad448920-16e6-4a36-975a-abec4b3e0e6c        raw           31   \n33  a9e4d43c-5a97-442b-88c0-9afa15380323        raw           33   \n36  ba54d47e-8105-4e04-a055-ef473719a441        raw           36   \n38  e980bc98-8cee-4ca5-a062-887f1be61956        raw           38   \n39  0675c4c2-7948-4f09-8d8c-40a70d2e4e09        raw           39   \n42  4059ef03-5ad5-4875-aa0d-5b26e4975b0a        raw           42   \n44  5364be2e-1b37-4be6-a64a-a228f66a791f        raw           44   \n45  b4820e2f-bab8-43e7-9e01-685c40f2afd4        raw           45   \n\n          event_name            event_timestamp    user_id  \n7               main 2019-11-01 22:28:54.791683  629881394  \n9            catalog 2019-11-01 22:29:01.049513  629881394  \n11           catalog 2019-11-01 22:29:32.322458  629881394  \n13           catalog 2019-11-01 22:30:09.450839  629881394  \n14           catalog 2019-11-01 22:31:05.565762  629881394  \n15              main 2019-11-01 22:31:08.333560  629881394  \n16           catalog 2019-11-01 22:31:09.010626  629881394  \n17          product1 2019-11-01 22:31:10.416231  629881394  \n18           catalog 2019-11-01 22:31:43.019527  629881394  \n19           catalog 2019-11-01 22:32:01.596163  629881394  \n20          product1 2019-11-01 22:32:07.348536  629881394  \n21           catalog 2019-11-01 22:32:10.165568  629881394  \n22          product2 2019-11-01 22:32:16.496241  629881394  \n23           catalog 2019-11-01 22:33:17.682468  629881394  \n24          product1 2019-11-01 22:33:19.961115  629881394  \n25           catalog 2019-11-01 22:33:35.460345  629881394  \n27           catalog 2019-11-01 22:34:02.301293  629881394  \n29          product2 2019-11-01 22:34:32.362386  629881394  \n31           catalog 2019-11-01 22:35:01.462515  629881394  \n33          product2 2019-11-01 22:35:33.142711  629881394  \n36              cart 2019-11-01 22:35:50.437706  629881394  \n38   delivery_choice 2019-11-01 22:35:57.649549  629881394  \n39  delivery_courier 2019-11-01 22:36:02.009271  629881394  \n42    payment_choice 2019-11-01 22:36:02.243274  629881394  \n44      payment_cash 2019-11-01 22:36:03.415201  629881394  \n45      payment_done 2019-11-01 22:36:03.999697  629881394  ",
      "text/html": "<div>\n<style scoped>\n    .dataframe tbody tr th:only-of-type {\n        vertical-align: middle;\n    }\n\n    .dataframe tbody tr th {\n        vertical-align: top;\n    }\n\n    .dataframe thead th {\n        text-align: right;\n    }\n</style>\n<table border=\"1\" class=\"dataframe\">\n  <thead>\n    <tr style=\"text-align: right;\">\n      <th></th>\n      <th>event_id</th>\n      <th>event_type</th>\n      <th>event_index</th>\n      <th>event_name</th>\n      <th>event_timestamp</th>\n      <th>user_id</th>\n    </tr>\n  </thead>\n  <tbody>\n    <tr>\n      <th>7</th>\n      <td>80f39ba7-6fe7-4807-b861-0bf310b0d3f8</td>\n      <td>raw</td>\n      <td>7</td>\n      <td>main</td>\n      <td>2019-11-01 22:28:54.791683</td>\n      <td>629881394</td>\n    </tr>\n    <tr>\n      <th>9</th>\n      <td>c96cfae1-7f00-49a1-a401-06a5ca509a9c</td>\n      <td>raw</td>\n      <td>9</td>\n      <td>catalog</td>\n      <td>2019-11-01 22:29:01.049513</td>\n      <td>629881394</td>\n    </tr>\n    <tr>\n      <th>11</th>\n      <td>897d59ef-4def-473d-b8b8-90bd2895b536</td>\n      <td>raw</td>\n      <td>11</td>\n      <td>catalog</td>\n      <td>2019-11-01 22:29:32.322458</td>\n      <td>629881394</td>\n    </tr>\n    <tr>\n      <th>13</th>\n      <td>7b720f69-6562-482e-bcd0-01b5085e9237</td>\n      <td>raw</td>\n      <td>13</td>\n      <td>catalog</td>\n      <td>2019-11-01 22:30:09.450839</td>\n      <td>629881394</td>\n    </tr>\n    <tr>\n      <th>14</th>\n      <td>70daf76a-ed57-416c-aed8-17d8daa480d7</td>\n      <td>raw</td>\n      <td>14</td>\n      <td>catalog</td>\n      <td>2019-11-01 22:31:05.565762</td>\n      <td>629881394</td>\n    </tr>\n    <tr>\n      <th>15</th>\n      <td>d659ac91-37e2-46bc-9423-d1f3c96865d2</td>\n      <td>raw</td>\n      <td>15</td>\n      <td>main</td>\n      <td>2019-11-01 22:31:08.333560</td>\n      <td>629881394</td>\n    </tr>\n    <tr>\n      <th>16</th>\n      <td>a6d20675-a8e0-4fc6-8343-53c95540abf6</td>\n      <td>raw</td>\n      <td>16</td>\n      <td>catalog</td>\n      <td>2019-11-01 22:31:09.010626</td>\n      <td>629881394</td>\n    </tr>\n    <tr>\n      <th>17</th>\n      <td>9fb7119e-2e18-43d8-9fe5-6e11fe3ff33c</td>\n      <td>raw</td>\n      <td>17</td>\n      <td>product1</td>\n      <td>2019-11-01 22:31:10.416231</td>\n      <td>629881394</td>\n    </tr>\n    <tr>\n      <th>18</th>\n      <td>8731ceb0-5f4c-439d-ba1d-49b827b7bc84</td>\n      <td>raw</td>\n      <td>18</td>\n      <td>catalog</td>\n      <td>2019-11-01 22:31:43.019527</td>\n      <td>629881394</td>\n    </tr>\n    <tr>\n      <th>19</th>\n      <td>5ecf46bc-aa9c-4d0a-ab93-e7bc557cd26d</td>\n      <td>raw</td>\n      <td>19</td>\n      <td>catalog</td>\n      <td>2019-11-01 22:32:01.596163</td>\n      <td>629881394</td>\n    </tr>\n    <tr>\n      <th>20</th>\n      <td>7d87dd79-2232-47ba-a18d-8e8387f193ac</td>\n      <td>raw</td>\n      <td>20</td>\n      <td>product1</td>\n      <td>2019-11-01 22:32:07.348536</td>\n      <td>629881394</td>\n    </tr>\n    <tr>\n      <th>21</th>\n      <td>bf4e0878-125c-471a-8946-8996188557ee</td>\n      <td>raw</td>\n      <td>21</td>\n      <td>catalog</td>\n      <td>2019-11-01 22:32:10.165568</td>\n      <td>629881394</td>\n    </tr>\n    <tr>\n      <th>22</th>\n      <td>a2743119-14b8-498e-abba-fe8f40021b53</td>\n      <td>raw</td>\n      <td>22</td>\n      <td>product2</td>\n      <td>2019-11-01 22:32:16.496241</td>\n      <td>629881394</td>\n    </tr>\n    <tr>\n      <th>23</th>\n      <td>36a74849-c923-434b-ab1b-c49c813d6b14</td>\n      <td>raw</td>\n      <td>23</td>\n      <td>catalog</td>\n      <td>2019-11-01 22:33:17.682468</td>\n      <td>629881394</td>\n    </tr>\n    <tr>\n      <th>24</th>\n      <td>b9e72bd3-b08d-4107-bb3d-c85cb02ccead</td>\n      <td>raw</td>\n      <td>24</td>\n      <td>product1</td>\n      <td>2019-11-01 22:33:19.961115</td>\n      <td>629881394</td>\n    </tr>\n    <tr>\n      <th>25</th>\n      <td>7c0023c7-cc16-4089-9f80-f42077e34d98</td>\n      <td>raw</td>\n      <td>25</td>\n      <td>catalog</td>\n      <td>2019-11-01 22:33:35.460345</td>\n      <td>629881394</td>\n    </tr>\n    <tr>\n      <th>27</th>\n      <td>aaf77e10-0adf-4b3f-9f41-4c7cd66b5b4e</td>\n      <td>raw</td>\n      <td>27</td>\n      <td>catalog</td>\n      <td>2019-11-01 22:34:02.301293</td>\n      <td>629881394</td>\n    </tr>\n    <tr>\n      <th>29</th>\n      <td>83db7c69-1bfe-4cb0-a40a-bffc5d24159d</td>\n      <td>raw</td>\n      <td>29</td>\n      <td>product2</td>\n      <td>2019-11-01 22:34:32.362386</td>\n      <td>629881394</td>\n    </tr>\n    <tr>\n      <th>31</th>\n      <td>ad448920-16e6-4a36-975a-abec4b3e0e6c</td>\n      <td>raw</td>\n      <td>31</td>\n      <td>catalog</td>\n      <td>2019-11-01 22:35:01.462515</td>\n      <td>629881394</td>\n    </tr>\n    <tr>\n      <th>33</th>\n      <td>a9e4d43c-5a97-442b-88c0-9afa15380323</td>\n      <td>raw</td>\n      <td>33</td>\n      <td>product2</td>\n      <td>2019-11-01 22:35:33.142711</td>\n      <td>629881394</td>\n    </tr>\n    <tr>\n      <th>36</th>\n      <td>ba54d47e-8105-4e04-a055-ef473719a441</td>\n      <td>raw</td>\n      <td>36</td>\n      <td>cart</td>\n      <td>2019-11-01 22:35:50.437706</td>\n      <td>629881394</td>\n    </tr>\n    <tr>\n      <th>38</th>\n      <td>e980bc98-8cee-4ca5-a062-887f1be61956</td>\n      <td>raw</td>\n      <td>38</td>\n      <td>delivery_choice</td>\n      <td>2019-11-01 22:35:57.649549</td>\n      <td>629881394</td>\n    </tr>\n    <tr>\n      <th>39</th>\n      <td>0675c4c2-7948-4f09-8d8c-40a70d2e4e09</td>\n      <td>raw</td>\n      <td>39</td>\n      <td>delivery_courier</td>\n      <td>2019-11-01 22:36:02.009271</td>\n      <td>629881394</td>\n    </tr>\n    <tr>\n      <th>42</th>\n      <td>4059ef03-5ad5-4875-aa0d-5b26e4975b0a</td>\n      <td>raw</td>\n      <td>42</td>\n      <td>payment_choice</td>\n      <td>2019-11-01 22:36:02.243274</td>\n      <td>629881394</td>\n    </tr>\n    <tr>\n      <th>44</th>\n      <td>5364be2e-1b37-4be6-a64a-a228f66a791f</td>\n      <td>raw</td>\n      <td>44</td>\n      <td>payment_cash</td>\n      <td>2019-11-01 22:36:03.415201</td>\n      <td>629881394</td>\n    </tr>\n    <tr>\n      <th>45</th>\n      <td>b4820e2f-bab8-43e7-9e01-685c40f2afd4</td>\n      <td>raw</td>\n      <td>45</td>\n      <td>payment_done</td>\n      <td>2019-11-01 22:36:03.999697</td>\n      <td>629881394</td>\n    </tr>\n  </tbody>\n</table>\n</div>"
     },
     "execution_count": 10,
     "metadata": {},
     "output_type": "execute_result"
    }
   ],
   "source": [
    "source_df[(source_df['user_id'] == check_id) &\\\n",
    "          (source_df['event_timestamp'] <= event_time)]"
   ],
   "metadata": {
    "collapsed": false,
    "pycharm": {
     "name": "#%%\n"
    }
   }
  },
  {
   "cell_type": "code",
   "execution_count": 11,
   "outputs": [
    {
     "name": "stdout",
     "output_type": "stream",
     "text": [
      "48\n"
     ]
    },
    {
     "data": {
      "text/plain": "                                   event_id event_type  event_index  \\\n7      80f39ba7-6fe7-4807-b861-0bf310b0d3f8        raw            7   \n9      c96cfae1-7f00-49a1-a401-06a5ca509a9c        raw            9   \n11     897d59ef-4def-473d-b8b8-90bd2895b536        raw           11   \n13     7b720f69-6562-482e-bcd0-01b5085e9237        raw           13   \n14     70daf76a-ed57-416c-aed8-17d8daa480d7        raw           14   \n15     d659ac91-37e2-46bc-9423-d1f3c96865d2        raw           15   \n16     a6d20675-a8e0-4fc6-8343-53c95540abf6        raw           16   \n17     9fb7119e-2e18-43d8-9fe5-6e11fe3ff33c        raw           17   \n18     8731ceb0-5f4c-439d-ba1d-49b827b7bc84        raw           18   \n19     5ecf46bc-aa9c-4d0a-ab93-e7bc557cd26d        raw           19   \n20     7d87dd79-2232-47ba-a18d-8e8387f193ac        raw           20   \n21     bf4e0878-125c-471a-8946-8996188557ee        raw           21   \n22     a2743119-14b8-498e-abba-fe8f40021b53        raw           22   \n23     36a74849-c923-434b-ab1b-c49c813d6b14        raw           23   \n24     b9e72bd3-b08d-4107-bb3d-c85cb02ccead        raw           24   \n25     7c0023c7-cc16-4089-9f80-f42077e34d98        raw           25   \n27     aaf77e10-0adf-4b3f-9f41-4c7cd66b5b4e        raw           27   \n29     83db7c69-1bfe-4cb0-a40a-bffc5d24159d        raw           29   \n31     ad448920-16e6-4a36-975a-abec4b3e0e6c        raw           31   \n33     a9e4d43c-5a97-442b-88c0-9afa15380323        raw           33   \n36     ba54d47e-8105-4e04-a055-ef473719a441        raw           36   \n38     e980bc98-8cee-4ca5-a062-887f1be61956        raw           38   \n39     0675c4c2-7948-4f09-8d8c-40a70d2e4e09        raw           39   \n42     4059ef03-5ad5-4875-aa0d-5b26e4975b0a        raw           42   \n44     5364be2e-1b37-4be6-a64a-a228f66a791f        raw           44   \n45     b4820e2f-bab8-43e7-9e01-685c40f2afd4        raw           45   \n340    bee80162-926b-4415-8c7d-9b32e2e73c4a        raw          340   \n342    07ef4506-038c-4a9f-8dc6-2ef0efad6155        raw          342   \n345    313d0215-ffb5-4ad2-a46d-cf2030b0a6f0        raw          345   \n1330   617be453-f58e-4f3f-8666-2ac66802e4e5        raw         1330   \n1331   fdb704b6-50be-46c6-9e70-f22e14ffd60c        raw         1331   \n1332   623656eb-27f8-4793-9bc9-b38bcefc2115        raw         1332   \n6292   121b2ff8-260b-4761-bcea-34e1d80e725f        raw         6292   \n6293   7a5bfa80-0439-4329-8001-8ad06dd2e966        raw         6293   \n10660  9061906d-35dd-4dc1-91c4-94f3ab40c403        raw        10660   \n10661  c6459098-290e-4f4c-b555-1d82c972caa3        raw        10661   \n10662  6cc80b7b-98b8-4e8a-9e1f-358811079426        raw        10662   \n11455  7e83e766-edd7-4f67-ae94-b9d8cdc58c3f        raw        11455   \n11456  8873103c-edcd-45d2-990e-d501b4032988        raw        11456   \n13881  c5e7f62d-bf2f-44cf-b2da-449a140afd2e        raw        13881   \n13882  85b596b0-bbc0-49b6-b418-0bad3ab50944        raw        13882   \n14458  9893a16a-2418-49c0-a191-67bee3aff406        raw        14458   \n14481  39a85524-7c26-42b4-a24e-d70d89671624        raw        14481   \n14482  b45a14fa-4afa-4a0d-b7b1-c3feba876b82        raw        14482   \n14483  539e36de-0913-4b8e-abf3-2be5ea76a608        raw        14483   \n14484  7313ce4e-130b-466a-bb71-2a07baaae179        raw        14484   \n14485  660dcf90-3a7d-4d50-9e28-b7082f8eb522        raw        14485   \n14486  3f4f61d6-9fb8-489f-ab34-f3de85919fce        raw        14486   \n\n             event_name            event_timestamp    user_id  \n7                  main 2019-11-01 22:28:54.791683  629881394  \n9               catalog 2019-11-01 22:29:01.049513  629881394  \n11              catalog 2019-11-01 22:29:32.322458  629881394  \n13              catalog 2019-11-01 22:30:09.450839  629881394  \n14              catalog 2019-11-01 22:31:05.565762  629881394  \n15                 main 2019-11-01 22:31:08.333560  629881394  \n16              catalog 2019-11-01 22:31:09.010626  629881394  \n17             product1 2019-11-01 22:31:10.416231  629881394  \n18              catalog 2019-11-01 22:31:43.019527  629881394  \n19              catalog 2019-11-01 22:32:01.596163  629881394  \n20             product1 2019-11-01 22:32:07.348536  629881394  \n21              catalog 2019-11-01 22:32:10.165568  629881394  \n22             product2 2019-11-01 22:32:16.496241  629881394  \n23              catalog 2019-11-01 22:33:17.682468  629881394  \n24             product1 2019-11-01 22:33:19.961115  629881394  \n25              catalog 2019-11-01 22:33:35.460345  629881394  \n27              catalog 2019-11-01 22:34:02.301293  629881394  \n29             product2 2019-11-01 22:34:32.362386  629881394  \n31              catalog 2019-11-01 22:35:01.462515  629881394  \n33             product2 2019-11-01 22:35:33.142711  629881394  \n36                 cart 2019-11-01 22:35:50.437706  629881394  \n38      delivery_choice 2019-11-01 22:35:57.649549  629881394  \n39     delivery_courier 2019-11-01 22:36:02.009271  629881394  \n42       payment_choice 2019-11-01 22:36:02.243274  629881394  \n44         payment_cash 2019-11-01 22:36:03.415201  629881394  \n45         payment_done 2019-11-01 22:36:03.999697  629881394  \n340                main 2019-11-07 12:40:46.004674  629881394  \n342             catalog 2019-11-07 12:40:55.724185  629881394  \n345                cart 2019-11-07 12:41:04.107187  629881394  \n1330               main 2019-11-25 23:16:56.317624  629881394  \n1331            catalog 2019-11-25 23:17:16.266242  629881394  \n1332            catalog 2019-11-25 23:17:48.747304  629881394  \n6292               main 2020-01-23 18:56:23.445236  629881394  \n6293            catalog 2020-01-23 18:56:30.461624  629881394  \n10660              main 2020-03-01 23:23:43.392597  629881394  \n10661           catalog 2020-03-01 23:23:44.755693  629881394  \n10662              main 2020-03-01 23:23:51.625991  629881394  \n11455              main 2020-03-07 12:05:23.938242  629881394  \n11456           catalog 2020-03-07 12:05:32.476046  629881394  \n13881              main 2020-03-26 13:00:47.844886  629881394  \n13882           catalog 2020-03-26 13:00:49.531644  629881394  \n14458              main 2020-03-30 00:11:47.920536  629881394  \n14481              main 2020-03-30 03:17:46.909845  629881394  \n14482           catalog 2020-03-30 03:17:49.918774  629881394  \n14483           catalog 2020-03-30 03:18:17.835191  629881394  \n14484           catalog 2020-03-30 03:18:53.715887  629881394  \n14485           catalog 2020-03-30 03:19:36.034262  629881394  \n14486           catalog 2020-03-30 03:19:59.515094  629881394  ",
      "text/html": "<div>\n<style scoped>\n    .dataframe tbody tr th:only-of-type {\n        vertical-align: middle;\n    }\n\n    .dataframe tbody tr th {\n        vertical-align: top;\n    }\n\n    .dataframe thead th {\n        text-align: right;\n    }\n</style>\n<table border=\"1\" class=\"dataframe\">\n  <thead>\n    <tr style=\"text-align: right;\">\n      <th></th>\n      <th>event_id</th>\n      <th>event_type</th>\n      <th>event_index</th>\n      <th>event_name</th>\n      <th>event_timestamp</th>\n      <th>user_id</th>\n    </tr>\n  </thead>\n  <tbody>\n    <tr>\n      <th>7</th>\n      <td>80f39ba7-6fe7-4807-b861-0bf310b0d3f8</td>\n      <td>raw</td>\n      <td>7</td>\n      <td>main</td>\n      <td>2019-11-01 22:28:54.791683</td>\n      <td>629881394</td>\n    </tr>\n    <tr>\n      <th>9</th>\n      <td>c96cfae1-7f00-49a1-a401-06a5ca509a9c</td>\n      <td>raw</td>\n      <td>9</td>\n      <td>catalog</td>\n      <td>2019-11-01 22:29:01.049513</td>\n      <td>629881394</td>\n    </tr>\n    <tr>\n      <th>11</th>\n      <td>897d59ef-4def-473d-b8b8-90bd2895b536</td>\n      <td>raw</td>\n      <td>11</td>\n      <td>catalog</td>\n      <td>2019-11-01 22:29:32.322458</td>\n      <td>629881394</td>\n    </tr>\n    <tr>\n      <th>13</th>\n      <td>7b720f69-6562-482e-bcd0-01b5085e9237</td>\n      <td>raw</td>\n      <td>13</td>\n      <td>catalog</td>\n      <td>2019-11-01 22:30:09.450839</td>\n      <td>629881394</td>\n    </tr>\n    <tr>\n      <th>14</th>\n      <td>70daf76a-ed57-416c-aed8-17d8daa480d7</td>\n      <td>raw</td>\n      <td>14</td>\n      <td>catalog</td>\n      <td>2019-11-01 22:31:05.565762</td>\n      <td>629881394</td>\n    </tr>\n    <tr>\n      <th>15</th>\n      <td>d659ac91-37e2-46bc-9423-d1f3c96865d2</td>\n      <td>raw</td>\n      <td>15</td>\n      <td>main</td>\n      <td>2019-11-01 22:31:08.333560</td>\n      <td>629881394</td>\n    </tr>\n    <tr>\n      <th>16</th>\n      <td>a6d20675-a8e0-4fc6-8343-53c95540abf6</td>\n      <td>raw</td>\n      <td>16</td>\n      <td>catalog</td>\n      <td>2019-11-01 22:31:09.010626</td>\n      <td>629881394</td>\n    </tr>\n    <tr>\n      <th>17</th>\n      <td>9fb7119e-2e18-43d8-9fe5-6e11fe3ff33c</td>\n      <td>raw</td>\n      <td>17</td>\n      <td>product1</td>\n      <td>2019-11-01 22:31:10.416231</td>\n      <td>629881394</td>\n    </tr>\n    <tr>\n      <th>18</th>\n      <td>8731ceb0-5f4c-439d-ba1d-49b827b7bc84</td>\n      <td>raw</td>\n      <td>18</td>\n      <td>catalog</td>\n      <td>2019-11-01 22:31:43.019527</td>\n      <td>629881394</td>\n    </tr>\n    <tr>\n      <th>19</th>\n      <td>5ecf46bc-aa9c-4d0a-ab93-e7bc557cd26d</td>\n      <td>raw</td>\n      <td>19</td>\n      <td>catalog</td>\n      <td>2019-11-01 22:32:01.596163</td>\n      <td>629881394</td>\n    </tr>\n    <tr>\n      <th>20</th>\n      <td>7d87dd79-2232-47ba-a18d-8e8387f193ac</td>\n      <td>raw</td>\n      <td>20</td>\n      <td>product1</td>\n      <td>2019-11-01 22:32:07.348536</td>\n      <td>629881394</td>\n    </tr>\n    <tr>\n      <th>21</th>\n      <td>bf4e0878-125c-471a-8946-8996188557ee</td>\n      <td>raw</td>\n      <td>21</td>\n      <td>catalog</td>\n      <td>2019-11-01 22:32:10.165568</td>\n      <td>629881394</td>\n    </tr>\n    <tr>\n      <th>22</th>\n      <td>a2743119-14b8-498e-abba-fe8f40021b53</td>\n      <td>raw</td>\n      <td>22</td>\n      <td>product2</td>\n      <td>2019-11-01 22:32:16.496241</td>\n      <td>629881394</td>\n    </tr>\n    <tr>\n      <th>23</th>\n      <td>36a74849-c923-434b-ab1b-c49c813d6b14</td>\n      <td>raw</td>\n      <td>23</td>\n      <td>catalog</td>\n      <td>2019-11-01 22:33:17.682468</td>\n      <td>629881394</td>\n    </tr>\n    <tr>\n      <th>24</th>\n      <td>b9e72bd3-b08d-4107-bb3d-c85cb02ccead</td>\n      <td>raw</td>\n      <td>24</td>\n      <td>product1</td>\n      <td>2019-11-01 22:33:19.961115</td>\n      <td>629881394</td>\n    </tr>\n    <tr>\n      <th>25</th>\n      <td>7c0023c7-cc16-4089-9f80-f42077e34d98</td>\n      <td>raw</td>\n      <td>25</td>\n      <td>catalog</td>\n      <td>2019-11-01 22:33:35.460345</td>\n      <td>629881394</td>\n    </tr>\n    <tr>\n      <th>27</th>\n      <td>aaf77e10-0adf-4b3f-9f41-4c7cd66b5b4e</td>\n      <td>raw</td>\n      <td>27</td>\n      <td>catalog</td>\n      <td>2019-11-01 22:34:02.301293</td>\n      <td>629881394</td>\n    </tr>\n    <tr>\n      <th>29</th>\n      <td>83db7c69-1bfe-4cb0-a40a-bffc5d24159d</td>\n      <td>raw</td>\n      <td>29</td>\n      <td>product2</td>\n      <td>2019-11-01 22:34:32.362386</td>\n      <td>629881394</td>\n    </tr>\n    <tr>\n      <th>31</th>\n      <td>ad448920-16e6-4a36-975a-abec4b3e0e6c</td>\n      <td>raw</td>\n      <td>31</td>\n      <td>catalog</td>\n      <td>2019-11-01 22:35:01.462515</td>\n      <td>629881394</td>\n    </tr>\n    <tr>\n      <th>33</th>\n      <td>a9e4d43c-5a97-442b-88c0-9afa15380323</td>\n      <td>raw</td>\n      <td>33</td>\n      <td>product2</td>\n      <td>2019-11-01 22:35:33.142711</td>\n      <td>629881394</td>\n    </tr>\n    <tr>\n      <th>36</th>\n      <td>ba54d47e-8105-4e04-a055-ef473719a441</td>\n      <td>raw</td>\n      <td>36</td>\n      <td>cart</td>\n      <td>2019-11-01 22:35:50.437706</td>\n      <td>629881394</td>\n    </tr>\n    <tr>\n      <th>38</th>\n      <td>e980bc98-8cee-4ca5-a062-887f1be61956</td>\n      <td>raw</td>\n      <td>38</td>\n      <td>delivery_choice</td>\n      <td>2019-11-01 22:35:57.649549</td>\n      <td>629881394</td>\n    </tr>\n    <tr>\n      <th>39</th>\n      <td>0675c4c2-7948-4f09-8d8c-40a70d2e4e09</td>\n      <td>raw</td>\n      <td>39</td>\n      <td>delivery_courier</td>\n      <td>2019-11-01 22:36:02.009271</td>\n      <td>629881394</td>\n    </tr>\n    <tr>\n      <th>42</th>\n      <td>4059ef03-5ad5-4875-aa0d-5b26e4975b0a</td>\n      <td>raw</td>\n      <td>42</td>\n      <td>payment_choice</td>\n      <td>2019-11-01 22:36:02.243274</td>\n      <td>629881394</td>\n    </tr>\n    <tr>\n      <th>44</th>\n      <td>5364be2e-1b37-4be6-a64a-a228f66a791f</td>\n      <td>raw</td>\n      <td>44</td>\n      <td>payment_cash</td>\n      <td>2019-11-01 22:36:03.415201</td>\n      <td>629881394</td>\n    </tr>\n    <tr>\n      <th>45</th>\n      <td>b4820e2f-bab8-43e7-9e01-685c40f2afd4</td>\n      <td>raw</td>\n      <td>45</td>\n      <td>payment_done</td>\n      <td>2019-11-01 22:36:03.999697</td>\n      <td>629881394</td>\n    </tr>\n    <tr>\n      <th>340</th>\n      <td>bee80162-926b-4415-8c7d-9b32e2e73c4a</td>\n      <td>raw</td>\n      <td>340</td>\n      <td>main</td>\n      <td>2019-11-07 12:40:46.004674</td>\n      <td>629881394</td>\n    </tr>\n    <tr>\n      <th>342</th>\n      <td>07ef4506-038c-4a9f-8dc6-2ef0efad6155</td>\n      <td>raw</td>\n      <td>342</td>\n      <td>catalog</td>\n      <td>2019-11-07 12:40:55.724185</td>\n      <td>629881394</td>\n    </tr>\n    <tr>\n      <th>345</th>\n      <td>313d0215-ffb5-4ad2-a46d-cf2030b0a6f0</td>\n      <td>raw</td>\n      <td>345</td>\n      <td>cart</td>\n      <td>2019-11-07 12:41:04.107187</td>\n      <td>629881394</td>\n    </tr>\n    <tr>\n      <th>1330</th>\n      <td>617be453-f58e-4f3f-8666-2ac66802e4e5</td>\n      <td>raw</td>\n      <td>1330</td>\n      <td>main</td>\n      <td>2019-11-25 23:16:56.317624</td>\n      <td>629881394</td>\n    </tr>\n    <tr>\n      <th>1331</th>\n      <td>fdb704b6-50be-46c6-9e70-f22e14ffd60c</td>\n      <td>raw</td>\n      <td>1331</td>\n      <td>catalog</td>\n      <td>2019-11-25 23:17:16.266242</td>\n      <td>629881394</td>\n    </tr>\n    <tr>\n      <th>1332</th>\n      <td>623656eb-27f8-4793-9bc9-b38bcefc2115</td>\n      <td>raw</td>\n      <td>1332</td>\n      <td>catalog</td>\n      <td>2019-11-25 23:17:48.747304</td>\n      <td>629881394</td>\n    </tr>\n    <tr>\n      <th>6292</th>\n      <td>121b2ff8-260b-4761-bcea-34e1d80e725f</td>\n      <td>raw</td>\n      <td>6292</td>\n      <td>main</td>\n      <td>2020-01-23 18:56:23.445236</td>\n      <td>629881394</td>\n    </tr>\n    <tr>\n      <th>6293</th>\n      <td>7a5bfa80-0439-4329-8001-8ad06dd2e966</td>\n      <td>raw</td>\n      <td>6293</td>\n      <td>catalog</td>\n      <td>2020-01-23 18:56:30.461624</td>\n      <td>629881394</td>\n    </tr>\n    <tr>\n      <th>10660</th>\n      <td>9061906d-35dd-4dc1-91c4-94f3ab40c403</td>\n      <td>raw</td>\n      <td>10660</td>\n      <td>main</td>\n      <td>2020-03-01 23:23:43.392597</td>\n      <td>629881394</td>\n    </tr>\n    <tr>\n      <th>10661</th>\n      <td>c6459098-290e-4f4c-b555-1d82c972caa3</td>\n      <td>raw</td>\n      <td>10661</td>\n      <td>catalog</td>\n      <td>2020-03-01 23:23:44.755693</td>\n      <td>629881394</td>\n    </tr>\n    <tr>\n      <th>10662</th>\n      <td>6cc80b7b-98b8-4e8a-9e1f-358811079426</td>\n      <td>raw</td>\n      <td>10662</td>\n      <td>main</td>\n      <td>2020-03-01 23:23:51.625991</td>\n      <td>629881394</td>\n    </tr>\n    <tr>\n      <th>11455</th>\n      <td>7e83e766-edd7-4f67-ae94-b9d8cdc58c3f</td>\n      <td>raw</td>\n      <td>11455</td>\n      <td>main</td>\n      <td>2020-03-07 12:05:23.938242</td>\n      <td>629881394</td>\n    </tr>\n    <tr>\n      <th>11456</th>\n      <td>8873103c-edcd-45d2-990e-d501b4032988</td>\n      <td>raw</td>\n      <td>11456</td>\n      <td>catalog</td>\n      <td>2020-03-07 12:05:32.476046</td>\n      <td>629881394</td>\n    </tr>\n    <tr>\n      <th>13881</th>\n      <td>c5e7f62d-bf2f-44cf-b2da-449a140afd2e</td>\n      <td>raw</td>\n      <td>13881</td>\n      <td>main</td>\n      <td>2020-03-26 13:00:47.844886</td>\n      <td>629881394</td>\n    </tr>\n    <tr>\n      <th>13882</th>\n      <td>85b596b0-bbc0-49b6-b418-0bad3ab50944</td>\n      <td>raw</td>\n      <td>13882</td>\n      <td>catalog</td>\n      <td>2020-03-26 13:00:49.531644</td>\n      <td>629881394</td>\n    </tr>\n    <tr>\n      <th>14458</th>\n      <td>9893a16a-2418-49c0-a191-67bee3aff406</td>\n      <td>raw</td>\n      <td>14458</td>\n      <td>main</td>\n      <td>2020-03-30 00:11:47.920536</td>\n      <td>629881394</td>\n    </tr>\n    <tr>\n      <th>14481</th>\n      <td>39a85524-7c26-42b4-a24e-d70d89671624</td>\n      <td>raw</td>\n      <td>14481</td>\n      <td>main</td>\n      <td>2020-03-30 03:17:46.909845</td>\n      <td>629881394</td>\n    </tr>\n    <tr>\n      <th>14482</th>\n      <td>b45a14fa-4afa-4a0d-b7b1-c3feba876b82</td>\n      <td>raw</td>\n      <td>14482</td>\n      <td>catalog</td>\n      <td>2020-03-30 03:17:49.918774</td>\n      <td>629881394</td>\n    </tr>\n    <tr>\n      <th>14483</th>\n      <td>539e36de-0913-4b8e-abf3-2be5ea76a608</td>\n      <td>raw</td>\n      <td>14483</td>\n      <td>catalog</td>\n      <td>2020-03-30 03:18:17.835191</td>\n      <td>629881394</td>\n    </tr>\n    <tr>\n      <th>14484</th>\n      <td>7313ce4e-130b-466a-bb71-2a07baaae179</td>\n      <td>raw</td>\n      <td>14484</td>\n      <td>catalog</td>\n      <td>2020-03-30 03:18:53.715887</td>\n      <td>629881394</td>\n    </tr>\n    <tr>\n      <th>14485</th>\n      <td>660dcf90-3a7d-4d50-9e28-b7082f8eb522</td>\n      <td>raw</td>\n      <td>14485</td>\n      <td>catalog</td>\n      <td>2020-03-30 03:19:36.034262</td>\n      <td>629881394</td>\n    </tr>\n    <tr>\n      <th>14486</th>\n      <td>3f4f61d6-9fb8-489f-ab34-f3de85919fce</td>\n      <td>raw</td>\n      <td>14486</td>\n      <td>catalog</td>\n      <td>2020-03-30 03:19:59.515094</td>\n      <td>629881394</td>\n    </tr>\n  </tbody>\n</table>\n</div>"
     },
     "execution_count": 11,
     "metadata": {},
     "output_type": "execute_result"
    }
   ],
   "source": [
    "print(len(source_df[source_df['user_id'] == check_id]))\n",
    "source_df[source_df['user_id'] == check_id]"
   ],
   "metadata": {
    "collapsed": false,
    "pycharm": {
     "name": "#%%\n"
    }
   }
  },
  {
   "cell_type": "markdown",
   "source": [
    "User_id = 47562303\n",
    "Событие ```payment_done``` встречается дважды\n"
   ],
   "metadata": {
    "collapsed": false,
    "pycharm": {
     "name": "#%% md\n"
    }
   }
  },
  {
   "cell_type": "code",
   "execution_count": 12,
   "outputs": [
    {
     "name": "stdout",
     "output_type": "stream",
     "text": [
      "7\n"
     ]
    }
   ],
   "source": [
    "check_id = 47562303\n",
    "print(len(df8[df8['user_id'] == check_id]))\n",
    "event_time = source_df[(source_df['user_id'] == check_id) & \\\n",
    "    (source_df['event_name'] == 'payment_done')]['event_timestamp'].min()"
   ],
   "metadata": {
    "collapsed": false,
    "pycharm": {
     "name": "#%%\n"
    }
   }
  },
  {
   "cell_type": "code",
   "execution_count": 13,
   "outputs": [
    {
     "data": {
      "text/plain": "                                  event_id event_type  event_index  \\\n4029  4c22eb44-8ebb-4cea-98ae-b3de787268dc        raw         4029   \n4030  7f3209a7-e4b7-4429-a807-5fd0e7a4c408        raw         4030   \n4031  a8bab30c-ec6a-40ab-b298-22938d728013        raw         4031   \n4032  c07192ca-168b-4e91-9d36-601e3f7aab33        raw         4032   \n4033  2cbf4c7a-2aeb-4f06-b85a-9d0111abd287        raw         4033   \n4034  a972d9ff-8d45-4fcc-bc75-4b16989e5a0a        raw         4034   \n4035  078233c6-40d1-4cbe-91cc-81c87414d6a1        raw         4035   \n\n            event_name            event_timestamp   user_id  \n4029           catalog 2019-12-29 16:55:27.897130  47562303  \n4030              cart 2019-12-29 16:55:41.539826  47562303  \n4031   delivery_choice 2019-12-29 16:55:44.747151  47562303  \n4032  delivery_courier 2019-12-29 16:55:49.061226  47562303  \n4033    payment_choice 2019-12-29 16:55:49.201853  47562303  \n4034      payment_cash 2019-12-29 16:55:52.004250  47562303  \n4035      payment_done 2019-12-29 16:55:52.350396  47562303  ",
      "text/html": "<div>\n<style scoped>\n    .dataframe tbody tr th:only-of-type {\n        vertical-align: middle;\n    }\n\n    .dataframe tbody tr th {\n        vertical-align: top;\n    }\n\n    .dataframe thead th {\n        text-align: right;\n    }\n</style>\n<table border=\"1\" class=\"dataframe\">\n  <thead>\n    <tr style=\"text-align: right;\">\n      <th></th>\n      <th>event_id</th>\n      <th>event_type</th>\n      <th>event_index</th>\n      <th>event_name</th>\n      <th>event_timestamp</th>\n      <th>user_id</th>\n    </tr>\n  </thead>\n  <tbody>\n    <tr>\n      <th>4029</th>\n      <td>4c22eb44-8ebb-4cea-98ae-b3de787268dc</td>\n      <td>raw</td>\n      <td>4029</td>\n      <td>catalog</td>\n      <td>2019-12-29 16:55:27.897130</td>\n      <td>47562303</td>\n    </tr>\n    <tr>\n      <th>4030</th>\n      <td>7f3209a7-e4b7-4429-a807-5fd0e7a4c408</td>\n      <td>raw</td>\n      <td>4030</td>\n      <td>cart</td>\n      <td>2019-12-29 16:55:41.539826</td>\n      <td>47562303</td>\n    </tr>\n    <tr>\n      <th>4031</th>\n      <td>a8bab30c-ec6a-40ab-b298-22938d728013</td>\n      <td>raw</td>\n      <td>4031</td>\n      <td>delivery_choice</td>\n      <td>2019-12-29 16:55:44.747151</td>\n      <td>47562303</td>\n    </tr>\n    <tr>\n      <th>4032</th>\n      <td>c07192ca-168b-4e91-9d36-601e3f7aab33</td>\n      <td>raw</td>\n      <td>4032</td>\n      <td>delivery_courier</td>\n      <td>2019-12-29 16:55:49.061226</td>\n      <td>47562303</td>\n    </tr>\n    <tr>\n      <th>4033</th>\n      <td>2cbf4c7a-2aeb-4f06-b85a-9d0111abd287</td>\n      <td>raw</td>\n      <td>4033</td>\n      <td>payment_choice</td>\n      <td>2019-12-29 16:55:49.201853</td>\n      <td>47562303</td>\n    </tr>\n    <tr>\n      <th>4034</th>\n      <td>a972d9ff-8d45-4fcc-bc75-4b16989e5a0a</td>\n      <td>raw</td>\n      <td>4034</td>\n      <td>payment_cash</td>\n      <td>2019-12-29 16:55:52.004250</td>\n      <td>47562303</td>\n    </tr>\n    <tr>\n      <th>4035</th>\n      <td>078233c6-40d1-4cbe-91cc-81c87414d6a1</td>\n      <td>raw</td>\n      <td>4035</td>\n      <td>payment_done</td>\n      <td>2019-12-29 16:55:52.350396</td>\n      <td>47562303</td>\n    </tr>\n  </tbody>\n</table>\n</div>"
     },
     "execution_count": 13,
     "metadata": {},
     "output_type": "execute_result"
    }
   ],
   "source": [
    "source_df[(source_df['user_id'] == check_id) &\\\n",
    "          (source_df['event_timestamp'] <= event_time)]"
   ],
   "metadata": {
    "collapsed": false,
    "pycharm": {
     "name": "#%%\n"
    }
   }
  },
  {
   "cell_type": "code",
   "execution_count": 14,
   "outputs": [
    {
     "data": {
      "text/plain": "user_id\n168688753    2\n830731696    2\n849341362    2\n845778461    2\n652347392    2\n            ..\n355840584    1\n358346667    1\n363256580    1\n365193081    1\n999642905    1\nName: event_name, Length: 730, dtype: int64"
     },
     "execution_count": 14,
     "metadata": {},
     "output_type": "execute_result"
    }
   ],
   "source": [
    "source_df[(source_df['event_name'] == 'payment_done') | \\\n",
    "          (source_df['event_name'] == 'payment_cash') ]\\\n",
    "    .groupby('user_id')['event_name'].nunique().sort_values(ascending=False)"
   ],
   "metadata": {
    "collapsed": false,
    "pycharm": {
     "name": "#%%\n"
    }
   }
  },
  {
   "cell_type": "code",
   "execution_count": 15,
   "outputs": [
    {
     "data": {
      "text/plain": "catalog             14518\nmain                 5635\nlost                 3098\ncart                 2842\nproduct2             2172\ndelivery_choice      1686\nproduct1             1515\npayment_choice       1107\ndelivery_courier      834\npayment_done          706\npayment_card          565\ndelivery_pickup       506\npayment_cash          197\nName: event_name, dtype: int64"
     },
     "execution_count": 15,
     "metadata": {},
     "output_type": "execute_result"
    }
   ],
   "source": [
    "source_df['event_name'].value_counts()"
   ],
   "metadata": {
    "collapsed": false,
    "pycharm": {
     "name": "#%%\n"
    }
   }
  },
  {
   "cell_type": "markdown",
   "source": [
    "### сдвиг"
   ],
   "metadata": {
    "collapsed": false,
    "pycharm": {
     "name": "#%% md\n"
    }
   }
  },
  {
   "cell_type": "code",
   "execution_count": 16,
   "outputs": [
    {
     "name": "stderr",
     "output_type": "stream",
     "text": [
      "/Users/Daria/Dev/Retentioneering/retentioneering-tools-new-arch/examples/../src/data_processors_lib/rete/cut_path_after_event.py:59: SettingWithCopyWarning: \n",
      "A value is trying to be set on a copy of a slice from a DataFrame.\n",
      "Try using .loc[row_indexer,col_indexer] = value instead\n",
      "\n",
      "See the caveats in the documentation: https://pandas.pydata.org/pandas-docs/stable/user_guide/indexing.html#returning-a-view-versus-a-copy\n",
      "  df_cut['rw_cumsum'] = df_cut.loc[::-1].groupby([user_col])[time_col].transform(\n",
      "/Users/Daria/Dev/Retentioneering/retentioneering-tools-new-arch/examples/../src/data_processors_lib/rete/cut_path_after_event.py:76: SettingWithCopyWarning: \n",
      "A value is trying to be set on a copy of a slice from a DataFrame.\n",
      "Try using .loc[row_indexer,col_indexer] = value instead\n",
      "\n",
      "See the caveats in the documentation: https://pandas.pydata.org/pandas-docs/stable/user_guide/indexing.html#returning-a-view-versus-a-copy\n",
      "  df_to_del['ref'] = df_to_del[eventstream.schema.event_id]\n"
     ]
    }
   ],
   "source": [
    "from src.data_processors_lib.rete import CutPathAfterEvent, CutPathAfterEventParams\n",
    "params = {\n",
    "    'cutoff_events': ['payment_done'],\n",
    "    'cut_shift': 1,\n",
    "    'min_cjm': 0\n",
    "}\n",
    "\n",
    "cut_after = EventsNode(\n",
    "    CutPathAfterEvent(params=CutPathAfterEventParams(**params)))\n",
    "\n",
    "graph.add_node(\n",
    "    node=cut_after,\n",
    "    parents=[graph.root]\n",
    ")\n",
    "\n",
    "result = graph.combine(\n",
    "    node=cut_after\n",
    ")"
   ],
   "metadata": {
    "collapsed": false,
    "pycharm": {
     "name": "#%%\n"
    }
   }
  },
  {
   "cell_type": "code",
   "execution_count": 17,
   "outputs": [
    {
     "name": "stdout",
     "output_type": "stream",
     "text": [
      "0\n"
     ]
    },
    {
     "data": {
      "text/plain": "0"
     },
     "execution_count": 17,
     "metadata": {},
     "output_type": "execute_result"
    }
   ],
   "source": [
    "df81 = result.to_dataframe()\n",
    "print(source_df.duplicated(['event_name', 'event_timestamp', 'user_id']).sum())\n",
    "df81.duplicated(['event_name', 'event_timestamp', 'user_id']).sum()"
   ],
   "metadata": {
    "collapsed": false,
    "pycharm": {
     "name": "#%%\n"
    }
   }
  },
  {
   "cell_type": "code",
   "execution_count": 18,
   "outputs": [
    {
     "data": {
      "text/plain": "raw    28915\nName: event_type, dtype: int64"
     },
     "execution_count": 18,
     "metadata": {},
     "output_type": "execute_result"
    }
   ],
   "source": [
    "df81['event_type'].value_counts()"
   ],
   "metadata": {
    "collapsed": false,
    "pycharm": {
     "name": "#%%\n"
    }
   }
  },
  {
   "cell_type": "code",
   "execution_count": 19,
   "outputs": [
    {
     "data": {
      "text/plain": "raw    35381\nName: event_type, dtype: int64"
     },
     "execution_count": 19,
     "metadata": {},
     "output_type": "execute_result"
    }
   ],
   "source": [
    "source_df['event_type'].value_counts()"
   ],
   "metadata": {
    "collapsed": false,
    "pycharm": {
     "name": "#%%\n"
    }
   }
  },
  {
   "cell_type": "code",
   "execution_count": 20,
   "outputs": [
    {
     "data": {
      "text/plain": "653"
     },
     "execution_count": 20,
     "metadata": {},
     "output_type": "execute_result"
    }
   ],
   "source": [
    "source_df[source_df['event_name'] == 'payment_done']['user_id'].nunique()"
   ],
   "metadata": {
    "collapsed": false,
    "pycharm": {
     "name": "#%%\n"
    }
   }
  },
  {
   "cell_type": "code",
   "execution_count": 21,
   "outputs": [
    {
     "name": "stdout",
     "output_type": "stream",
     "text": [
      "Длина отрезанной траектории -  25\n"
     ]
    },
    {
     "data": {
      "text/plain": "                                event_id event_type  event_index  \\\n7   80f39ba7-6fe7-4807-b861-0bf310b0d3f8        raw            7   \n9   c96cfae1-7f00-49a1-a401-06a5ca509a9c        raw            9   \n11  897d59ef-4def-473d-b8b8-90bd2895b536        raw           11   \n13  7b720f69-6562-482e-bcd0-01b5085e9237        raw           13   \n14  70daf76a-ed57-416c-aed8-17d8daa480d7        raw           14   \n15  d659ac91-37e2-46bc-9423-d1f3c96865d2        raw           15   \n16  a6d20675-a8e0-4fc6-8343-53c95540abf6        raw           16   \n17  9fb7119e-2e18-43d8-9fe5-6e11fe3ff33c        raw           17   \n18  8731ceb0-5f4c-439d-ba1d-49b827b7bc84        raw           18   \n19  5ecf46bc-aa9c-4d0a-ab93-e7bc557cd26d        raw           19   \n20  7d87dd79-2232-47ba-a18d-8e8387f193ac        raw           20   \n21  bf4e0878-125c-471a-8946-8996188557ee        raw           21   \n22  a2743119-14b8-498e-abba-fe8f40021b53        raw           22   \n23  36a74849-c923-434b-ab1b-c49c813d6b14        raw           23   \n24  b9e72bd3-b08d-4107-bb3d-c85cb02ccead        raw           24   \n25  7c0023c7-cc16-4089-9f80-f42077e34d98        raw           25   \n27  aaf77e10-0adf-4b3f-9f41-4c7cd66b5b4e        raw           27   \n29  83db7c69-1bfe-4cb0-a40a-bffc5d24159d        raw           29   \n31  ad448920-16e6-4a36-975a-abec4b3e0e6c        raw           31   \n33  a9e4d43c-5a97-442b-88c0-9afa15380323        raw           33   \n36  ba54d47e-8105-4e04-a055-ef473719a441        raw           36   \n38  e980bc98-8cee-4ca5-a062-887f1be61956        raw           38   \n39  0675c4c2-7948-4f09-8d8c-40a70d2e4e09        raw           39   \n42  4059ef03-5ad5-4875-aa0d-5b26e4975b0a        raw           42   \n44  5364be2e-1b37-4be6-a64a-a228f66a791f        raw           44   \n\n          event_name            event_timestamp      user_id  \n7               main 2019-11-01 22:28:54.791683  629881394.0  \n9            catalog 2019-11-01 22:29:01.049513  629881394.0  \n11           catalog 2019-11-01 22:29:32.322458  629881394.0  \n13           catalog 2019-11-01 22:30:09.450839  629881394.0  \n14           catalog 2019-11-01 22:31:05.565762  629881394.0  \n15              main 2019-11-01 22:31:08.333560  629881394.0  \n16           catalog 2019-11-01 22:31:09.010626  629881394.0  \n17          product1 2019-11-01 22:31:10.416231  629881394.0  \n18           catalog 2019-11-01 22:31:43.019527  629881394.0  \n19           catalog 2019-11-01 22:32:01.596163  629881394.0  \n20          product1 2019-11-01 22:32:07.348536  629881394.0  \n21           catalog 2019-11-01 22:32:10.165568  629881394.0  \n22          product2 2019-11-01 22:32:16.496241  629881394.0  \n23           catalog 2019-11-01 22:33:17.682468  629881394.0  \n24          product1 2019-11-01 22:33:19.961115  629881394.0  \n25           catalog 2019-11-01 22:33:35.460345  629881394.0  \n27           catalog 2019-11-01 22:34:02.301293  629881394.0  \n29          product2 2019-11-01 22:34:32.362386  629881394.0  \n31           catalog 2019-11-01 22:35:01.462515  629881394.0  \n33          product2 2019-11-01 22:35:33.142711  629881394.0  \n36              cart 2019-11-01 22:35:50.437706  629881394.0  \n38   delivery_choice 2019-11-01 22:35:57.649549  629881394.0  \n39  delivery_courier 2019-11-01 22:36:02.009271  629881394.0  \n42    payment_choice 2019-11-01 22:36:02.243274  629881394.0  \n44      payment_cash 2019-11-01 22:36:03.415201  629881394.0  ",
      "text/html": "<div>\n<style scoped>\n    .dataframe tbody tr th:only-of-type {\n        vertical-align: middle;\n    }\n\n    .dataframe tbody tr th {\n        vertical-align: top;\n    }\n\n    .dataframe thead th {\n        text-align: right;\n    }\n</style>\n<table border=\"1\" class=\"dataframe\">\n  <thead>\n    <tr style=\"text-align: right;\">\n      <th></th>\n      <th>event_id</th>\n      <th>event_type</th>\n      <th>event_index</th>\n      <th>event_name</th>\n      <th>event_timestamp</th>\n      <th>user_id</th>\n    </tr>\n  </thead>\n  <tbody>\n    <tr>\n      <th>7</th>\n      <td>80f39ba7-6fe7-4807-b861-0bf310b0d3f8</td>\n      <td>raw</td>\n      <td>7</td>\n      <td>main</td>\n      <td>2019-11-01 22:28:54.791683</td>\n      <td>629881394.0</td>\n    </tr>\n    <tr>\n      <th>9</th>\n      <td>c96cfae1-7f00-49a1-a401-06a5ca509a9c</td>\n      <td>raw</td>\n      <td>9</td>\n      <td>catalog</td>\n      <td>2019-11-01 22:29:01.049513</td>\n      <td>629881394.0</td>\n    </tr>\n    <tr>\n      <th>11</th>\n      <td>897d59ef-4def-473d-b8b8-90bd2895b536</td>\n      <td>raw</td>\n      <td>11</td>\n      <td>catalog</td>\n      <td>2019-11-01 22:29:32.322458</td>\n      <td>629881394.0</td>\n    </tr>\n    <tr>\n      <th>13</th>\n      <td>7b720f69-6562-482e-bcd0-01b5085e9237</td>\n      <td>raw</td>\n      <td>13</td>\n      <td>catalog</td>\n      <td>2019-11-01 22:30:09.450839</td>\n      <td>629881394.0</td>\n    </tr>\n    <tr>\n      <th>14</th>\n      <td>70daf76a-ed57-416c-aed8-17d8daa480d7</td>\n      <td>raw</td>\n      <td>14</td>\n      <td>catalog</td>\n      <td>2019-11-01 22:31:05.565762</td>\n      <td>629881394.0</td>\n    </tr>\n    <tr>\n      <th>15</th>\n      <td>d659ac91-37e2-46bc-9423-d1f3c96865d2</td>\n      <td>raw</td>\n      <td>15</td>\n      <td>main</td>\n      <td>2019-11-01 22:31:08.333560</td>\n      <td>629881394.0</td>\n    </tr>\n    <tr>\n      <th>16</th>\n      <td>a6d20675-a8e0-4fc6-8343-53c95540abf6</td>\n      <td>raw</td>\n      <td>16</td>\n      <td>catalog</td>\n      <td>2019-11-01 22:31:09.010626</td>\n      <td>629881394.0</td>\n    </tr>\n    <tr>\n      <th>17</th>\n      <td>9fb7119e-2e18-43d8-9fe5-6e11fe3ff33c</td>\n      <td>raw</td>\n      <td>17</td>\n      <td>product1</td>\n      <td>2019-11-01 22:31:10.416231</td>\n      <td>629881394.0</td>\n    </tr>\n    <tr>\n      <th>18</th>\n      <td>8731ceb0-5f4c-439d-ba1d-49b827b7bc84</td>\n      <td>raw</td>\n      <td>18</td>\n      <td>catalog</td>\n      <td>2019-11-01 22:31:43.019527</td>\n      <td>629881394.0</td>\n    </tr>\n    <tr>\n      <th>19</th>\n      <td>5ecf46bc-aa9c-4d0a-ab93-e7bc557cd26d</td>\n      <td>raw</td>\n      <td>19</td>\n      <td>catalog</td>\n      <td>2019-11-01 22:32:01.596163</td>\n      <td>629881394.0</td>\n    </tr>\n    <tr>\n      <th>20</th>\n      <td>7d87dd79-2232-47ba-a18d-8e8387f193ac</td>\n      <td>raw</td>\n      <td>20</td>\n      <td>product1</td>\n      <td>2019-11-01 22:32:07.348536</td>\n      <td>629881394.0</td>\n    </tr>\n    <tr>\n      <th>21</th>\n      <td>bf4e0878-125c-471a-8946-8996188557ee</td>\n      <td>raw</td>\n      <td>21</td>\n      <td>catalog</td>\n      <td>2019-11-01 22:32:10.165568</td>\n      <td>629881394.0</td>\n    </tr>\n    <tr>\n      <th>22</th>\n      <td>a2743119-14b8-498e-abba-fe8f40021b53</td>\n      <td>raw</td>\n      <td>22</td>\n      <td>product2</td>\n      <td>2019-11-01 22:32:16.496241</td>\n      <td>629881394.0</td>\n    </tr>\n    <tr>\n      <th>23</th>\n      <td>36a74849-c923-434b-ab1b-c49c813d6b14</td>\n      <td>raw</td>\n      <td>23</td>\n      <td>catalog</td>\n      <td>2019-11-01 22:33:17.682468</td>\n      <td>629881394.0</td>\n    </tr>\n    <tr>\n      <th>24</th>\n      <td>b9e72bd3-b08d-4107-bb3d-c85cb02ccead</td>\n      <td>raw</td>\n      <td>24</td>\n      <td>product1</td>\n      <td>2019-11-01 22:33:19.961115</td>\n      <td>629881394.0</td>\n    </tr>\n    <tr>\n      <th>25</th>\n      <td>7c0023c7-cc16-4089-9f80-f42077e34d98</td>\n      <td>raw</td>\n      <td>25</td>\n      <td>catalog</td>\n      <td>2019-11-01 22:33:35.460345</td>\n      <td>629881394.0</td>\n    </tr>\n    <tr>\n      <th>27</th>\n      <td>aaf77e10-0adf-4b3f-9f41-4c7cd66b5b4e</td>\n      <td>raw</td>\n      <td>27</td>\n      <td>catalog</td>\n      <td>2019-11-01 22:34:02.301293</td>\n      <td>629881394.0</td>\n    </tr>\n    <tr>\n      <th>29</th>\n      <td>83db7c69-1bfe-4cb0-a40a-bffc5d24159d</td>\n      <td>raw</td>\n      <td>29</td>\n      <td>product2</td>\n      <td>2019-11-01 22:34:32.362386</td>\n      <td>629881394.0</td>\n    </tr>\n    <tr>\n      <th>31</th>\n      <td>ad448920-16e6-4a36-975a-abec4b3e0e6c</td>\n      <td>raw</td>\n      <td>31</td>\n      <td>catalog</td>\n      <td>2019-11-01 22:35:01.462515</td>\n      <td>629881394.0</td>\n    </tr>\n    <tr>\n      <th>33</th>\n      <td>a9e4d43c-5a97-442b-88c0-9afa15380323</td>\n      <td>raw</td>\n      <td>33</td>\n      <td>product2</td>\n      <td>2019-11-01 22:35:33.142711</td>\n      <td>629881394.0</td>\n    </tr>\n    <tr>\n      <th>36</th>\n      <td>ba54d47e-8105-4e04-a055-ef473719a441</td>\n      <td>raw</td>\n      <td>36</td>\n      <td>cart</td>\n      <td>2019-11-01 22:35:50.437706</td>\n      <td>629881394.0</td>\n    </tr>\n    <tr>\n      <th>38</th>\n      <td>e980bc98-8cee-4ca5-a062-887f1be61956</td>\n      <td>raw</td>\n      <td>38</td>\n      <td>delivery_choice</td>\n      <td>2019-11-01 22:35:57.649549</td>\n      <td>629881394.0</td>\n    </tr>\n    <tr>\n      <th>39</th>\n      <td>0675c4c2-7948-4f09-8d8c-40a70d2e4e09</td>\n      <td>raw</td>\n      <td>39</td>\n      <td>delivery_courier</td>\n      <td>2019-11-01 22:36:02.009271</td>\n      <td>629881394.0</td>\n    </tr>\n    <tr>\n      <th>42</th>\n      <td>4059ef03-5ad5-4875-aa0d-5b26e4975b0a</td>\n      <td>raw</td>\n      <td>42</td>\n      <td>payment_choice</td>\n      <td>2019-11-01 22:36:02.243274</td>\n      <td>629881394.0</td>\n    </tr>\n    <tr>\n      <th>44</th>\n      <td>5364be2e-1b37-4be6-a64a-a228f66a791f</td>\n      <td>raw</td>\n      <td>44</td>\n      <td>payment_cash</td>\n      <td>2019-11-01 22:36:03.415201</td>\n      <td>629881394.0</td>\n    </tr>\n  </tbody>\n</table>\n</div>"
     },
     "execution_count": 21,
     "metadata": {},
     "output_type": "execute_result"
    }
   ],
   "source": [
    "check_id = 629881394\n",
    "print('Длина отрезанной траектории - ', len(df81[df81['user_id'] == check_id]))\n",
    "df81[df81['user_id'] == check_id]"
   ],
   "metadata": {
    "collapsed": false,
    "pycharm": {
     "name": "#%%\n"
    }
   }
  },
  {
   "cell_type": "code",
   "execution_count": 22,
   "outputs": [],
   "source": [
    "# Время, по которому обрезается траектория, здесь задаем конкретное событие payment_cash, для теста надо будет автоматизировать\n",
    "\n",
    "event_time = source_df[(source_df['user_id'] == check_id) & \\\n",
    "    (source_df['event_name'] == 'payment_cash')]['event_timestamp'].values[0]"
   ],
   "metadata": {
    "collapsed": false,
    "pycharm": {
     "name": "#%%\n"
    }
   }
  },
  {
   "cell_type": "code",
   "execution_count": 23,
   "outputs": [
    {
     "name": "stdout",
     "output_type": "stream",
     "text": [
      "Длина обрезанной траектории из изначального датасета -  25\n"
     ]
    },
    {
     "data": {
      "text/plain": "                                event_id event_type  event_index  \\\n7   80f39ba7-6fe7-4807-b861-0bf310b0d3f8        raw            7   \n9   c96cfae1-7f00-49a1-a401-06a5ca509a9c        raw            9   \n11  897d59ef-4def-473d-b8b8-90bd2895b536        raw           11   \n13  7b720f69-6562-482e-bcd0-01b5085e9237        raw           13   \n14  70daf76a-ed57-416c-aed8-17d8daa480d7        raw           14   \n15  d659ac91-37e2-46bc-9423-d1f3c96865d2        raw           15   \n16  a6d20675-a8e0-4fc6-8343-53c95540abf6        raw           16   \n17  9fb7119e-2e18-43d8-9fe5-6e11fe3ff33c        raw           17   \n18  8731ceb0-5f4c-439d-ba1d-49b827b7bc84        raw           18   \n19  5ecf46bc-aa9c-4d0a-ab93-e7bc557cd26d        raw           19   \n20  7d87dd79-2232-47ba-a18d-8e8387f193ac        raw           20   \n21  bf4e0878-125c-471a-8946-8996188557ee        raw           21   \n22  a2743119-14b8-498e-abba-fe8f40021b53        raw           22   \n23  36a74849-c923-434b-ab1b-c49c813d6b14        raw           23   \n24  b9e72bd3-b08d-4107-bb3d-c85cb02ccead        raw           24   \n25  7c0023c7-cc16-4089-9f80-f42077e34d98        raw           25   \n27  aaf77e10-0adf-4b3f-9f41-4c7cd66b5b4e        raw           27   \n29  83db7c69-1bfe-4cb0-a40a-bffc5d24159d        raw           29   \n31  ad448920-16e6-4a36-975a-abec4b3e0e6c        raw           31   \n33  a9e4d43c-5a97-442b-88c0-9afa15380323        raw           33   \n36  ba54d47e-8105-4e04-a055-ef473719a441        raw           36   \n38  e980bc98-8cee-4ca5-a062-887f1be61956        raw           38   \n39  0675c4c2-7948-4f09-8d8c-40a70d2e4e09        raw           39   \n42  4059ef03-5ad5-4875-aa0d-5b26e4975b0a        raw           42   \n44  5364be2e-1b37-4be6-a64a-a228f66a791f        raw           44   \n\n          event_name            event_timestamp    user_id  \n7               main 2019-11-01 22:28:54.791683  629881394  \n9            catalog 2019-11-01 22:29:01.049513  629881394  \n11           catalog 2019-11-01 22:29:32.322458  629881394  \n13           catalog 2019-11-01 22:30:09.450839  629881394  \n14           catalog 2019-11-01 22:31:05.565762  629881394  \n15              main 2019-11-01 22:31:08.333560  629881394  \n16           catalog 2019-11-01 22:31:09.010626  629881394  \n17          product1 2019-11-01 22:31:10.416231  629881394  \n18           catalog 2019-11-01 22:31:43.019527  629881394  \n19           catalog 2019-11-01 22:32:01.596163  629881394  \n20          product1 2019-11-01 22:32:07.348536  629881394  \n21           catalog 2019-11-01 22:32:10.165568  629881394  \n22          product2 2019-11-01 22:32:16.496241  629881394  \n23           catalog 2019-11-01 22:33:17.682468  629881394  \n24          product1 2019-11-01 22:33:19.961115  629881394  \n25           catalog 2019-11-01 22:33:35.460345  629881394  \n27           catalog 2019-11-01 22:34:02.301293  629881394  \n29          product2 2019-11-01 22:34:32.362386  629881394  \n31           catalog 2019-11-01 22:35:01.462515  629881394  \n33          product2 2019-11-01 22:35:33.142711  629881394  \n36              cart 2019-11-01 22:35:50.437706  629881394  \n38   delivery_choice 2019-11-01 22:35:57.649549  629881394  \n39  delivery_courier 2019-11-01 22:36:02.009271  629881394  \n42    payment_choice 2019-11-01 22:36:02.243274  629881394  \n44      payment_cash 2019-11-01 22:36:03.415201  629881394  ",
      "text/html": "<div>\n<style scoped>\n    .dataframe tbody tr th:only-of-type {\n        vertical-align: middle;\n    }\n\n    .dataframe tbody tr th {\n        vertical-align: top;\n    }\n\n    .dataframe thead th {\n        text-align: right;\n    }\n</style>\n<table border=\"1\" class=\"dataframe\">\n  <thead>\n    <tr style=\"text-align: right;\">\n      <th></th>\n      <th>event_id</th>\n      <th>event_type</th>\n      <th>event_index</th>\n      <th>event_name</th>\n      <th>event_timestamp</th>\n      <th>user_id</th>\n    </tr>\n  </thead>\n  <tbody>\n    <tr>\n      <th>7</th>\n      <td>80f39ba7-6fe7-4807-b861-0bf310b0d3f8</td>\n      <td>raw</td>\n      <td>7</td>\n      <td>main</td>\n      <td>2019-11-01 22:28:54.791683</td>\n      <td>629881394</td>\n    </tr>\n    <tr>\n      <th>9</th>\n      <td>c96cfae1-7f00-49a1-a401-06a5ca509a9c</td>\n      <td>raw</td>\n      <td>9</td>\n      <td>catalog</td>\n      <td>2019-11-01 22:29:01.049513</td>\n      <td>629881394</td>\n    </tr>\n    <tr>\n      <th>11</th>\n      <td>897d59ef-4def-473d-b8b8-90bd2895b536</td>\n      <td>raw</td>\n      <td>11</td>\n      <td>catalog</td>\n      <td>2019-11-01 22:29:32.322458</td>\n      <td>629881394</td>\n    </tr>\n    <tr>\n      <th>13</th>\n      <td>7b720f69-6562-482e-bcd0-01b5085e9237</td>\n      <td>raw</td>\n      <td>13</td>\n      <td>catalog</td>\n      <td>2019-11-01 22:30:09.450839</td>\n      <td>629881394</td>\n    </tr>\n    <tr>\n      <th>14</th>\n      <td>70daf76a-ed57-416c-aed8-17d8daa480d7</td>\n      <td>raw</td>\n      <td>14</td>\n      <td>catalog</td>\n      <td>2019-11-01 22:31:05.565762</td>\n      <td>629881394</td>\n    </tr>\n    <tr>\n      <th>15</th>\n      <td>d659ac91-37e2-46bc-9423-d1f3c96865d2</td>\n      <td>raw</td>\n      <td>15</td>\n      <td>main</td>\n      <td>2019-11-01 22:31:08.333560</td>\n      <td>629881394</td>\n    </tr>\n    <tr>\n      <th>16</th>\n      <td>a6d20675-a8e0-4fc6-8343-53c95540abf6</td>\n      <td>raw</td>\n      <td>16</td>\n      <td>catalog</td>\n      <td>2019-11-01 22:31:09.010626</td>\n      <td>629881394</td>\n    </tr>\n    <tr>\n      <th>17</th>\n      <td>9fb7119e-2e18-43d8-9fe5-6e11fe3ff33c</td>\n      <td>raw</td>\n      <td>17</td>\n      <td>product1</td>\n      <td>2019-11-01 22:31:10.416231</td>\n      <td>629881394</td>\n    </tr>\n    <tr>\n      <th>18</th>\n      <td>8731ceb0-5f4c-439d-ba1d-49b827b7bc84</td>\n      <td>raw</td>\n      <td>18</td>\n      <td>catalog</td>\n      <td>2019-11-01 22:31:43.019527</td>\n      <td>629881394</td>\n    </tr>\n    <tr>\n      <th>19</th>\n      <td>5ecf46bc-aa9c-4d0a-ab93-e7bc557cd26d</td>\n      <td>raw</td>\n      <td>19</td>\n      <td>catalog</td>\n      <td>2019-11-01 22:32:01.596163</td>\n      <td>629881394</td>\n    </tr>\n    <tr>\n      <th>20</th>\n      <td>7d87dd79-2232-47ba-a18d-8e8387f193ac</td>\n      <td>raw</td>\n      <td>20</td>\n      <td>product1</td>\n      <td>2019-11-01 22:32:07.348536</td>\n      <td>629881394</td>\n    </tr>\n    <tr>\n      <th>21</th>\n      <td>bf4e0878-125c-471a-8946-8996188557ee</td>\n      <td>raw</td>\n      <td>21</td>\n      <td>catalog</td>\n      <td>2019-11-01 22:32:10.165568</td>\n      <td>629881394</td>\n    </tr>\n    <tr>\n      <th>22</th>\n      <td>a2743119-14b8-498e-abba-fe8f40021b53</td>\n      <td>raw</td>\n      <td>22</td>\n      <td>product2</td>\n      <td>2019-11-01 22:32:16.496241</td>\n      <td>629881394</td>\n    </tr>\n    <tr>\n      <th>23</th>\n      <td>36a74849-c923-434b-ab1b-c49c813d6b14</td>\n      <td>raw</td>\n      <td>23</td>\n      <td>catalog</td>\n      <td>2019-11-01 22:33:17.682468</td>\n      <td>629881394</td>\n    </tr>\n    <tr>\n      <th>24</th>\n      <td>b9e72bd3-b08d-4107-bb3d-c85cb02ccead</td>\n      <td>raw</td>\n      <td>24</td>\n      <td>product1</td>\n      <td>2019-11-01 22:33:19.961115</td>\n      <td>629881394</td>\n    </tr>\n    <tr>\n      <th>25</th>\n      <td>7c0023c7-cc16-4089-9f80-f42077e34d98</td>\n      <td>raw</td>\n      <td>25</td>\n      <td>catalog</td>\n      <td>2019-11-01 22:33:35.460345</td>\n      <td>629881394</td>\n    </tr>\n    <tr>\n      <th>27</th>\n      <td>aaf77e10-0adf-4b3f-9f41-4c7cd66b5b4e</td>\n      <td>raw</td>\n      <td>27</td>\n      <td>catalog</td>\n      <td>2019-11-01 22:34:02.301293</td>\n      <td>629881394</td>\n    </tr>\n    <tr>\n      <th>29</th>\n      <td>83db7c69-1bfe-4cb0-a40a-bffc5d24159d</td>\n      <td>raw</td>\n      <td>29</td>\n      <td>product2</td>\n      <td>2019-11-01 22:34:32.362386</td>\n      <td>629881394</td>\n    </tr>\n    <tr>\n      <th>31</th>\n      <td>ad448920-16e6-4a36-975a-abec4b3e0e6c</td>\n      <td>raw</td>\n      <td>31</td>\n      <td>catalog</td>\n      <td>2019-11-01 22:35:01.462515</td>\n      <td>629881394</td>\n    </tr>\n    <tr>\n      <th>33</th>\n      <td>a9e4d43c-5a97-442b-88c0-9afa15380323</td>\n      <td>raw</td>\n      <td>33</td>\n      <td>product2</td>\n      <td>2019-11-01 22:35:33.142711</td>\n      <td>629881394</td>\n    </tr>\n    <tr>\n      <th>36</th>\n      <td>ba54d47e-8105-4e04-a055-ef473719a441</td>\n      <td>raw</td>\n      <td>36</td>\n      <td>cart</td>\n      <td>2019-11-01 22:35:50.437706</td>\n      <td>629881394</td>\n    </tr>\n    <tr>\n      <th>38</th>\n      <td>e980bc98-8cee-4ca5-a062-887f1be61956</td>\n      <td>raw</td>\n      <td>38</td>\n      <td>delivery_choice</td>\n      <td>2019-11-01 22:35:57.649549</td>\n      <td>629881394</td>\n    </tr>\n    <tr>\n      <th>39</th>\n      <td>0675c4c2-7948-4f09-8d8c-40a70d2e4e09</td>\n      <td>raw</td>\n      <td>39</td>\n      <td>delivery_courier</td>\n      <td>2019-11-01 22:36:02.009271</td>\n      <td>629881394</td>\n    </tr>\n    <tr>\n      <th>42</th>\n      <td>4059ef03-5ad5-4875-aa0d-5b26e4975b0a</td>\n      <td>raw</td>\n      <td>42</td>\n      <td>payment_choice</td>\n      <td>2019-11-01 22:36:02.243274</td>\n      <td>629881394</td>\n    </tr>\n    <tr>\n      <th>44</th>\n      <td>5364be2e-1b37-4be6-a64a-a228f66a791f</td>\n      <td>raw</td>\n      <td>44</td>\n      <td>payment_cash</td>\n      <td>2019-11-01 22:36:03.415201</td>\n      <td>629881394</td>\n    </tr>\n  </tbody>\n</table>\n</div>"
     },
     "execution_count": 23,
     "metadata": {},
     "output_type": "execute_result"
    }
   ],
   "source": [
    "print('Длина обрезанной траектории из изначального датасета - ', len(source_df[(source_df['user_id'] == check_id) &\\\n",
    "          (source_df['event_timestamp'] <= event_time)]))\n",
    "source_df[(source_df['user_id'] == check_id) &\\\n",
    "          (source_df['event_timestamp'] <= event_time)]"
   ],
   "metadata": {
    "collapsed": false,
    "pycharm": {
     "name": "#%%\n"
    }
   }
  },
  {
   "cell_type": "code",
   "execution_count": 24,
   "outputs": [
    {
     "name": "stdout",
     "output_type": "stream",
     "text": [
      "48\n"
     ]
    },
    {
     "data": {
      "text/plain": "                                   event_id event_type  event_index  \\\n7      80f39ba7-6fe7-4807-b861-0bf310b0d3f8        raw            7   \n9      c96cfae1-7f00-49a1-a401-06a5ca509a9c        raw            9   \n11     897d59ef-4def-473d-b8b8-90bd2895b536        raw           11   \n13     7b720f69-6562-482e-bcd0-01b5085e9237        raw           13   \n14     70daf76a-ed57-416c-aed8-17d8daa480d7        raw           14   \n15     d659ac91-37e2-46bc-9423-d1f3c96865d2        raw           15   \n16     a6d20675-a8e0-4fc6-8343-53c95540abf6        raw           16   \n17     9fb7119e-2e18-43d8-9fe5-6e11fe3ff33c        raw           17   \n18     8731ceb0-5f4c-439d-ba1d-49b827b7bc84        raw           18   \n19     5ecf46bc-aa9c-4d0a-ab93-e7bc557cd26d        raw           19   \n20     7d87dd79-2232-47ba-a18d-8e8387f193ac        raw           20   \n21     bf4e0878-125c-471a-8946-8996188557ee        raw           21   \n22     a2743119-14b8-498e-abba-fe8f40021b53        raw           22   \n23     36a74849-c923-434b-ab1b-c49c813d6b14        raw           23   \n24     b9e72bd3-b08d-4107-bb3d-c85cb02ccead        raw           24   \n25     7c0023c7-cc16-4089-9f80-f42077e34d98        raw           25   \n27     aaf77e10-0adf-4b3f-9f41-4c7cd66b5b4e        raw           27   \n29     83db7c69-1bfe-4cb0-a40a-bffc5d24159d        raw           29   \n31     ad448920-16e6-4a36-975a-abec4b3e0e6c        raw           31   \n33     a9e4d43c-5a97-442b-88c0-9afa15380323        raw           33   \n36     ba54d47e-8105-4e04-a055-ef473719a441        raw           36   \n38     e980bc98-8cee-4ca5-a062-887f1be61956        raw           38   \n39     0675c4c2-7948-4f09-8d8c-40a70d2e4e09        raw           39   \n42     4059ef03-5ad5-4875-aa0d-5b26e4975b0a        raw           42   \n44     5364be2e-1b37-4be6-a64a-a228f66a791f        raw           44   \n45     b4820e2f-bab8-43e7-9e01-685c40f2afd4        raw           45   \n340    bee80162-926b-4415-8c7d-9b32e2e73c4a        raw          340   \n342    07ef4506-038c-4a9f-8dc6-2ef0efad6155        raw          342   \n345    313d0215-ffb5-4ad2-a46d-cf2030b0a6f0        raw          345   \n1330   617be453-f58e-4f3f-8666-2ac66802e4e5        raw         1330   \n1331   fdb704b6-50be-46c6-9e70-f22e14ffd60c        raw         1331   \n1332   623656eb-27f8-4793-9bc9-b38bcefc2115        raw         1332   \n6292   121b2ff8-260b-4761-bcea-34e1d80e725f        raw         6292   \n6293   7a5bfa80-0439-4329-8001-8ad06dd2e966        raw         6293   \n10660  9061906d-35dd-4dc1-91c4-94f3ab40c403        raw        10660   \n10661  c6459098-290e-4f4c-b555-1d82c972caa3        raw        10661   \n10662  6cc80b7b-98b8-4e8a-9e1f-358811079426        raw        10662   \n11455  7e83e766-edd7-4f67-ae94-b9d8cdc58c3f        raw        11455   \n11456  8873103c-edcd-45d2-990e-d501b4032988        raw        11456   \n13881  c5e7f62d-bf2f-44cf-b2da-449a140afd2e        raw        13881   \n13882  85b596b0-bbc0-49b6-b418-0bad3ab50944        raw        13882   \n14458  9893a16a-2418-49c0-a191-67bee3aff406        raw        14458   \n14481  39a85524-7c26-42b4-a24e-d70d89671624        raw        14481   \n14482  b45a14fa-4afa-4a0d-b7b1-c3feba876b82        raw        14482   \n14483  539e36de-0913-4b8e-abf3-2be5ea76a608        raw        14483   \n14484  7313ce4e-130b-466a-bb71-2a07baaae179        raw        14484   \n14485  660dcf90-3a7d-4d50-9e28-b7082f8eb522        raw        14485   \n14486  3f4f61d6-9fb8-489f-ab34-f3de85919fce        raw        14486   \n\n             event_name            event_timestamp    user_id  \n7                  main 2019-11-01 22:28:54.791683  629881394  \n9               catalog 2019-11-01 22:29:01.049513  629881394  \n11              catalog 2019-11-01 22:29:32.322458  629881394  \n13              catalog 2019-11-01 22:30:09.450839  629881394  \n14              catalog 2019-11-01 22:31:05.565762  629881394  \n15                 main 2019-11-01 22:31:08.333560  629881394  \n16              catalog 2019-11-01 22:31:09.010626  629881394  \n17             product1 2019-11-01 22:31:10.416231  629881394  \n18              catalog 2019-11-01 22:31:43.019527  629881394  \n19              catalog 2019-11-01 22:32:01.596163  629881394  \n20             product1 2019-11-01 22:32:07.348536  629881394  \n21              catalog 2019-11-01 22:32:10.165568  629881394  \n22             product2 2019-11-01 22:32:16.496241  629881394  \n23              catalog 2019-11-01 22:33:17.682468  629881394  \n24             product1 2019-11-01 22:33:19.961115  629881394  \n25              catalog 2019-11-01 22:33:35.460345  629881394  \n27              catalog 2019-11-01 22:34:02.301293  629881394  \n29             product2 2019-11-01 22:34:32.362386  629881394  \n31              catalog 2019-11-01 22:35:01.462515  629881394  \n33             product2 2019-11-01 22:35:33.142711  629881394  \n36                 cart 2019-11-01 22:35:50.437706  629881394  \n38      delivery_choice 2019-11-01 22:35:57.649549  629881394  \n39     delivery_courier 2019-11-01 22:36:02.009271  629881394  \n42       payment_choice 2019-11-01 22:36:02.243274  629881394  \n44         payment_cash 2019-11-01 22:36:03.415201  629881394  \n45         payment_done 2019-11-01 22:36:03.999697  629881394  \n340                main 2019-11-07 12:40:46.004674  629881394  \n342             catalog 2019-11-07 12:40:55.724185  629881394  \n345                cart 2019-11-07 12:41:04.107187  629881394  \n1330               main 2019-11-25 23:16:56.317624  629881394  \n1331            catalog 2019-11-25 23:17:16.266242  629881394  \n1332            catalog 2019-11-25 23:17:48.747304  629881394  \n6292               main 2020-01-23 18:56:23.445236  629881394  \n6293            catalog 2020-01-23 18:56:30.461624  629881394  \n10660              main 2020-03-01 23:23:43.392597  629881394  \n10661           catalog 2020-03-01 23:23:44.755693  629881394  \n10662              main 2020-03-01 23:23:51.625991  629881394  \n11455              main 2020-03-07 12:05:23.938242  629881394  \n11456           catalog 2020-03-07 12:05:32.476046  629881394  \n13881              main 2020-03-26 13:00:47.844886  629881394  \n13882           catalog 2020-03-26 13:00:49.531644  629881394  \n14458              main 2020-03-30 00:11:47.920536  629881394  \n14481              main 2020-03-30 03:17:46.909845  629881394  \n14482           catalog 2020-03-30 03:17:49.918774  629881394  \n14483           catalog 2020-03-30 03:18:17.835191  629881394  \n14484           catalog 2020-03-30 03:18:53.715887  629881394  \n14485           catalog 2020-03-30 03:19:36.034262  629881394  \n14486           catalog 2020-03-30 03:19:59.515094  629881394  ",
      "text/html": "<div>\n<style scoped>\n    .dataframe tbody tr th:only-of-type {\n        vertical-align: middle;\n    }\n\n    .dataframe tbody tr th {\n        vertical-align: top;\n    }\n\n    .dataframe thead th {\n        text-align: right;\n    }\n</style>\n<table border=\"1\" class=\"dataframe\">\n  <thead>\n    <tr style=\"text-align: right;\">\n      <th></th>\n      <th>event_id</th>\n      <th>event_type</th>\n      <th>event_index</th>\n      <th>event_name</th>\n      <th>event_timestamp</th>\n      <th>user_id</th>\n    </tr>\n  </thead>\n  <tbody>\n    <tr>\n      <th>7</th>\n      <td>80f39ba7-6fe7-4807-b861-0bf310b0d3f8</td>\n      <td>raw</td>\n      <td>7</td>\n      <td>main</td>\n      <td>2019-11-01 22:28:54.791683</td>\n      <td>629881394</td>\n    </tr>\n    <tr>\n      <th>9</th>\n      <td>c96cfae1-7f00-49a1-a401-06a5ca509a9c</td>\n      <td>raw</td>\n      <td>9</td>\n      <td>catalog</td>\n      <td>2019-11-01 22:29:01.049513</td>\n      <td>629881394</td>\n    </tr>\n    <tr>\n      <th>11</th>\n      <td>897d59ef-4def-473d-b8b8-90bd2895b536</td>\n      <td>raw</td>\n      <td>11</td>\n      <td>catalog</td>\n      <td>2019-11-01 22:29:32.322458</td>\n      <td>629881394</td>\n    </tr>\n    <tr>\n      <th>13</th>\n      <td>7b720f69-6562-482e-bcd0-01b5085e9237</td>\n      <td>raw</td>\n      <td>13</td>\n      <td>catalog</td>\n      <td>2019-11-01 22:30:09.450839</td>\n      <td>629881394</td>\n    </tr>\n    <tr>\n      <th>14</th>\n      <td>70daf76a-ed57-416c-aed8-17d8daa480d7</td>\n      <td>raw</td>\n      <td>14</td>\n      <td>catalog</td>\n      <td>2019-11-01 22:31:05.565762</td>\n      <td>629881394</td>\n    </tr>\n    <tr>\n      <th>15</th>\n      <td>d659ac91-37e2-46bc-9423-d1f3c96865d2</td>\n      <td>raw</td>\n      <td>15</td>\n      <td>main</td>\n      <td>2019-11-01 22:31:08.333560</td>\n      <td>629881394</td>\n    </tr>\n    <tr>\n      <th>16</th>\n      <td>a6d20675-a8e0-4fc6-8343-53c95540abf6</td>\n      <td>raw</td>\n      <td>16</td>\n      <td>catalog</td>\n      <td>2019-11-01 22:31:09.010626</td>\n      <td>629881394</td>\n    </tr>\n    <tr>\n      <th>17</th>\n      <td>9fb7119e-2e18-43d8-9fe5-6e11fe3ff33c</td>\n      <td>raw</td>\n      <td>17</td>\n      <td>product1</td>\n      <td>2019-11-01 22:31:10.416231</td>\n      <td>629881394</td>\n    </tr>\n    <tr>\n      <th>18</th>\n      <td>8731ceb0-5f4c-439d-ba1d-49b827b7bc84</td>\n      <td>raw</td>\n      <td>18</td>\n      <td>catalog</td>\n      <td>2019-11-01 22:31:43.019527</td>\n      <td>629881394</td>\n    </tr>\n    <tr>\n      <th>19</th>\n      <td>5ecf46bc-aa9c-4d0a-ab93-e7bc557cd26d</td>\n      <td>raw</td>\n      <td>19</td>\n      <td>catalog</td>\n      <td>2019-11-01 22:32:01.596163</td>\n      <td>629881394</td>\n    </tr>\n    <tr>\n      <th>20</th>\n      <td>7d87dd79-2232-47ba-a18d-8e8387f193ac</td>\n      <td>raw</td>\n      <td>20</td>\n      <td>product1</td>\n      <td>2019-11-01 22:32:07.348536</td>\n      <td>629881394</td>\n    </tr>\n    <tr>\n      <th>21</th>\n      <td>bf4e0878-125c-471a-8946-8996188557ee</td>\n      <td>raw</td>\n      <td>21</td>\n      <td>catalog</td>\n      <td>2019-11-01 22:32:10.165568</td>\n      <td>629881394</td>\n    </tr>\n    <tr>\n      <th>22</th>\n      <td>a2743119-14b8-498e-abba-fe8f40021b53</td>\n      <td>raw</td>\n      <td>22</td>\n      <td>product2</td>\n      <td>2019-11-01 22:32:16.496241</td>\n      <td>629881394</td>\n    </tr>\n    <tr>\n      <th>23</th>\n      <td>36a74849-c923-434b-ab1b-c49c813d6b14</td>\n      <td>raw</td>\n      <td>23</td>\n      <td>catalog</td>\n      <td>2019-11-01 22:33:17.682468</td>\n      <td>629881394</td>\n    </tr>\n    <tr>\n      <th>24</th>\n      <td>b9e72bd3-b08d-4107-bb3d-c85cb02ccead</td>\n      <td>raw</td>\n      <td>24</td>\n      <td>product1</td>\n      <td>2019-11-01 22:33:19.961115</td>\n      <td>629881394</td>\n    </tr>\n    <tr>\n      <th>25</th>\n      <td>7c0023c7-cc16-4089-9f80-f42077e34d98</td>\n      <td>raw</td>\n      <td>25</td>\n      <td>catalog</td>\n      <td>2019-11-01 22:33:35.460345</td>\n      <td>629881394</td>\n    </tr>\n    <tr>\n      <th>27</th>\n      <td>aaf77e10-0adf-4b3f-9f41-4c7cd66b5b4e</td>\n      <td>raw</td>\n      <td>27</td>\n      <td>catalog</td>\n      <td>2019-11-01 22:34:02.301293</td>\n      <td>629881394</td>\n    </tr>\n    <tr>\n      <th>29</th>\n      <td>83db7c69-1bfe-4cb0-a40a-bffc5d24159d</td>\n      <td>raw</td>\n      <td>29</td>\n      <td>product2</td>\n      <td>2019-11-01 22:34:32.362386</td>\n      <td>629881394</td>\n    </tr>\n    <tr>\n      <th>31</th>\n      <td>ad448920-16e6-4a36-975a-abec4b3e0e6c</td>\n      <td>raw</td>\n      <td>31</td>\n      <td>catalog</td>\n      <td>2019-11-01 22:35:01.462515</td>\n      <td>629881394</td>\n    </tr>\n    <tr>\n      <th>33</th>\n      <td>a9e4d43c-5a97-442b-88c0-9afa15380323</td>\n      <td>raw</td>\n      <td>33</td>\n      <td>product2</td>\n      <td>2019-11-01 22:35:33.142711</td>\n      <td>629881394</td>\n    </tr>\n    <tr>\n      <th>36</th>\n      <td>ba54d47e-8105-4e04-a055-ef473719a441</td>\n      <td>raw</td>\n      <td>36</td>\n      <td>cart</td>\n      <td>2019-11-01 22:35:50.437706</td>\n      <td>629881394</td>\n    </tr>\n    <tr>\n      <th>38</th>\n      <td>e980bc98-8cee-4ca5-a062-887f1be61956</td>\n      <td>raw</td>\n      <td>38</td>\n      <td>delivery_choice</td>\n      <td>2019-11-01 22:35:57.649549</td>\n      <td>629881394</td>\n    </tr>\n    <tr>\n      <th>39</th>\n      <td>0675c4c2-7948-4f09-8d8c-40a70d2e4e09</td>\n      <td>raw</td>\n      <td>39</td>\n      <td>delivery_courier</td>\n      <td>2019-11-01 22:36:02.009271</td>\n      <td>629881394</td>\n    </tr>\n    <tr>\n      <th>42</th>\n      <td>4059ef03-5ad5-4875-aa0d-5b26e4975b0a</td>\n      <td>raw</td>\n      <td>42</td>\n      <td>payment_choice</td>\n      <td>2019-11-01 22:36:02.243274</td>\n      <td>629881394</td>\n    </tr>\n    <tr>\n      <th>44</th>\n      <td>5364be2e-1b37-4be6-a64a-a228f66a791f</td>\n      <td>raw</td>\n      <td>44</td>\n      <td>payment_cash</td>\n      <td>2019-11-01 22:36:03.415201</td>\n      <td>629881394</td>\n    </tr>\n    <tr>\n      <th>45</th>\n      <td>b4820e2f-bab8-43e7-9e01-685c40f2afd4</td>\n      <td>raw</td>\n      <td>45</td>\n      <td>payment_done</td>\n      <td>2019-11-01 22:36:03.999697</td>\n      <td>629881394</td>\n    </tr>\n    <tr>\n      <th>340</th>\n      <td>bee80162-926b-4415-8c7d-9b32e2e73c4a</td>\n      <td>raw</td>\n      <td>340</td>\n      <td>main</td>\n      <td>2019-11-07 12:40:46.004674</td>\n      <td>629881394</td>\n    </tr>\n    <tr>\n      <th>342</th>\n      <td>07ef4506-038c-4a9f-8dc6-2ef0efad6155</td>\n      <td>raw</td>\n      <td>342</td>\n      <td>catalog</td>\n      <td>2019-11-07 12:40:55.724185</td>\n      <td>629881394</td>\n    </tr>\n    <tr>\n      <th>345</th>\n      <td>313d0215-ffb5-4ad2-a46d-cf2030b0a6f0</td>\n      <td>raw</td>\n      <td>345</td>\n      <td>cart</td>\n      <td>2019-11-07 12:41:04.107187</td>\n      <td>629881394</td>\n    </tr>\n    <tr>\n      <th>1330</th>\n      <td>617be453-f58e-4f3f-8666-2ac66802e4e5</td>\n      <td>raw</td>\n      <td>1330</td>\n      <td>main</td>\n      <td>2019-11-25 23:16:56.317624</td>\n      <td>629881394</td>\n    </tr>\n    <tr>\n      <th>1331</th>\n      <td>fdb704b6-50be-46c6-9e70-f22e14ffd60c</td>\n      <td>raw</td>\n      <td>1331</td>\n      <td>catalog</td>\n      <td>2019-11-25 23:17:16.266242</td>\n      <td>629881394</td>\n    </tr>\n    <tr>\n      <th>1332</th>\n      <td>623656eb-27f8-4793-9bc9-b38bcefc2115</td>\n      <td>raw</td>\n      <td>1332</td>\n      <td>catalog</td>\n      <td>2019-11-25 23:17:48.747304</td>\n      <td>629881394</td>\n    </tr>\n    <tr>\n      <th>6292</th>\n      <td>121b2ff8-260b-4761-bcea-34e1d80e725f</td>\n      <td>raw</td>\n      <td>6292</td>\n      <td>main</td>\n      <td>2020-01-23 18:56:23.445236</td>\n      <td>629881394</td>\n    </tr>\n    <tr>\n      <th>6293</th>\n      <td>7a5bfa80-0439-4329-8001-8ad06dd2e966</td>\n      <td>raw</td>\n      <td>6293</td>\n      <td>catalog</td>\n      <td>2020-01-23 18:56:30.461624</td>\n      <td>629881394</td>\n    </tr>\n    <tr>\n      <th>10660</th>\n      <td>9061906d-35dd-4dc1-91c4-94f3ab40c403</td>\n      <td>raw</td>\n      <td>10660</td>\n      <td>main</td>\n      <td>2020-03-01 23:23:43.392597</td>\n      <td>629881394</td>\n    </tr>\n    <tr>\n      <th>10661</th>\n      <td>c6459098-290e-4f4c-b555-1d82c972caa3</td>\n      <td>raw</td>\n      <td>10661</td>\n      <td>catalog</td>\n      <td>2020-03-01 23:23:44.755693</td>\n      <td>629881394</td>\n    </tr>\n    <tr>\n      <th>10662</th>\n      <td>6cc80b7b-98b8-4e8a-9e1f-358811079426</td>\n      <td>raw</td>\n      <td>10662</td>\n      <td>main</td>\n      <td>2020-03-01 23:23:51.625991</td>\n      <td>629881394</td>\n    </tr>\n    <tr>\n      <th>11455</th>\n      <td>7e83e766-edd7-4f67-ae94-b9d8cdc58c3f</td>\n      <td>raw</td>\n      <td>11455</td>\n      <td>main</td>\n      <td>2020-03-07 12:05:23.938242</td>\n      <td>629881394</td>\n    </tr>\n    <tr>\n      <th>11456</th>\n      <td>8873103c-edcd-45d2-990e-d501b4032988</td>\n      <td>raw</td>\n      <td>11456</td>\n      <td>catalog</td>\n      <td>2020-03-07 12:05:32.476046</td>\n      <td>629881394</td>\n    </tr>\n    <tr>\n      <th>13881</th>\n      <td>c5e7f62d-bf2f-44cf-b2da-449a140afd2e</td>\n      <td>raw</td>\n      <td>13881</td>\n      <td>main</td>\n      <td>2020-03-26 13:00:47.844886</td>\n      <td>629881394</td>\n    </tr>\n    <tr>\n      <th>13882</th>\n      <td>85b596b0-bbc0-49b6-b418-0bad3ab50944</td>\n      <td>raw</td>\n      <td>13882</td>\n      <td>catalog</td>\n      <td>2020-03-26 13:00:49.531644</td>\n      <td>629881394</td>\n    </tr>\n    <tr>\n      <th>14458</th>\n      <td>9893a16a-2418-49c0-a191-67bee3aff406</td>\n      <td>raw</td>\n      <td>14458</td>\n      <td>main</td>\n      <td>2020-03-30 00:11:47.920536</td>\n      <td>629881394</td>\n    </tr>\n    <tr>\n      <th>14481</th>\n      <td>39a85524-7c26-42b4-a24e-d70d89671624</td>\n      <td>raw</td>\n      <td>14481</td>\n      <td>main</td>\n      <td>2020-03-30 03:17:46.909845</td>\n      <td>629881394</td>\n    </tr>\n    <tr>\n      <th>14482</th>\n      <td>b45a14fa-4afa-4a0d-b7b1-c3feba876b82</td>\n      <td>raw</td>\n      <td>14482</td>\n      <td>catalog</td>\n      <td>2020-03-30 03:17:49.918774</td>\n      <td>629881394</td>\n    </tr>\n    <tr>\n      <th>14483</th>\n      <td>539e36de-0913-4b8e-abf3-2be5ea76a608</td>\n      <td>raw</td>\n      <td>14483</td>\n      <td>catalog</td>\n      <td>2020-03-30 03:18:17.835191</td>\n      <td>629881394</td>\n    </tr>\n    <tr>\n      <th>14484</th>\n      <td>7313ce4e-130b-466a-bb71-2a07baaae179</td>\n      <td>raw</td>\n      <td>14484</td>\n      <td>catalog</td>\n      <td>2020-03-30 03:18:53.715887</td>\n      <td>629881394</td>\n    </tr>\n    <tr>\n      <th>14485</th>\n      <td>660dcf90-3a7d-4d50-9e28-b7082f8eb522</td>\n      <td>raw</td>\n      <td>14485</td>\n      <td>catalog</td>\n      <td>2020-03-30 03:19:36.034262</td>\n      <td>629881394</td>\n    </tr>\n    <tr>\n      <th>14486</th>\n      <td>3f4f61d6-9fb8-489f-ab34-f3de85919fce</td>\n      <td>raw</td>\n      <td>14486</td>\n      <td>catalog</td>\n      <td>2020-03-30 03:19:59.515094</td>\n      <td>629881394</td>\n    </tr>\n  </tbody>\n</table>\n</div>"
     },
     "execution_count": 24,
     "metadata": {},
     "output_type": "execute_result"
    }
   ],
   "source": [
    "print(len(source_df[source_df['user_id'] == check_id]))\n",
    "source_df[source_df['user_id'] == check_id]"
   ],
   "metadata": {
    "collapsed": false,
    "pycharm": {
     "name": "#%%\n"
    }
   }
  },
  {
   "cell_type": "markdown",
   "source": [
    "User_id = 47562303\n",
    "Событие встречается дважды\n"
   ],
   "metadata": {
    "collapsed": false,
    "pycharm": {
     "name": "#%% md\n"
    }
   }
  },
  {
   "cell_type": "code",
   "execution_count": 25,
   "outputs": [
    {
     "name": "stdout",
     "output_type": "stream",
     "text": [
      "6\n"
     ]
    }
   ],
   "source": [
    "check_id = 47562303\n",
    "print(len(df81[df81['user_id'] == check_id]))\n",
    "event_time = source_df[(source_df['user_id'] == check_id) & \\\n",
    "    (source_df['event_name'] == 'payment_done')]['event_timestamp'].min()"
   ],
   "metadata": {
    "collapsed": false,
    "pycharm": {
     "name": "#%%\n"
    }
   }
  },
  {
   "cell_type": "code",
   "execution_count": 26,
   "outputs": [
    {
     "data": {
      "text/plain": "                                  event_id event_type  event_index  \\\n4029  4c22eb44-8ebb-4cea-98ae-b3de787268dc        raw         4029   \n4030  7f3209a7-e4b7-4429-a807-5fd0e7a4c408        raw         4030   \n4031  a8bab30c-ec6a-40ab-b298-22938d728013        raw         4031   \n4032  c07192ca-168b-4e91-9d36-601e3f7aab33        raw         4032   \n4033  2cbf4c7a-2aeb-4f06-b85a-9d0111abd287        raw         4033   \n4034  a972d9ff-8d45-4fcc-bc75-4b16989e5a0a        raw         4034   \n4035  078233c6-40d1-4cbe-91cc-81c87414d6a1        raw         4035   \n\n            event_name            event_timestamp   user_id  \n4029           catalog 2019-12-29 16:55:27.897130  47562303  \n4030              cart 2019-12-29 16:55:41.539826  47562303  \n4031   delivery_choice 2019-12-29 16:55:44.747151  47562303  \n4032  delivery_courier 2019-12-29 16:55:49.061226  47562303  \n4033    payment_choice 2019-12-29 16:55:49.201853  47562303  \n4034      payment_cash 2019-12-29 16:55:52.004250  47562303  \n4035      payment_done 2019-12-29 16:55:52.350396  47562303  ",
      "text/html": "<div>\n<style scoped>\n    .dataframe tbody tr th:only-of-type {\n        vertical-align: middle;\n    }\n\n    .dataframe tbody tr th {\n        vertical-align: top;\n    }\n\n    .dataframe thead th {\n        text-align: right;\n    }\n</style>\n<table border=\"1\" class=\"dataframe\">\n  <thead>\n    <tr style=\"text-align: right;\">\n      <th></th>\n      <th>event_id</th>\n      <th>event_type</th>\n      <th>event_index</th>\n      <th>event_name</th>\n      <th>event_timestamp</th>\n      <th>user_id</th>\n    </tr>\n  </thead>\n  <tbody>\n    <tr>\n      <th>4029</th>\n      <td>4c22eb44-8ebb-4cea-98ae-b3de787268dc</td>\n      <td>raw</td>\n      <td>4029</td>\n      <td>catalog</td>\n      <td>2019-12-29 16:55:27.897130</td>\n      <td>47562303</td>\n    </tr>\n    <tr>\n      <th>4030</th>\n      <td>7f3209a7-e4b7-4429-a807-5fd0e7a4c408</td>\n      <td>raw</td>\n      <td>4030</td>\n      <td>cart</td>\n      <td>2019-12-29 16:55:41.539826</td>\n      <td>47562303</td>\n    </tr>\n    <tr>\n      <th>4031</th>\n      <td>a8bab30c-ec6a-40ab-b298-22938d728013</td>\n      <td>raw</td>\n      <td>4031</td>\n      <td>delivery_choice</td>\n      <td>2019-12-29 16:55:44.747151</td>\n      <td>47562303</td>\n    </tr>\n    <tr>\n      <th>4032</th>\n      <td>c07192ca-168b-4e91-9d36-601e3f7aab33</td>\n      <td>raw</td>\n      <td>4032</td>\n      <td>delivery_courier</td>\n      <td>2019-12-29 16:55:49.061226</td>\n      <td>47562303</td>\n    </tr>\n    <tr>\n      <th>4033</th>\n      <td>2cbf4c7a-2aeb-4f06-b85a-9d0111abd287</td>\n      <td>raw</td>\n      <td>4033</td>\n      <td>payment_choice</td>\n      <td>2019-12-29 16:55:49.201853</td>\n      <td>47562303</td>\n    </tr>\n    <tr>\n      <th>4034</th>\n      <td>a972d9ff-8d45-4fcc-bc75-4b16989e5a0a</td>\n      <td>raw</td>\n      <td>4034</td>\n      <td>payment_cash</td>\n      <td>2019-12-29 16:55:52.004250</td>\n      <td>47562303</td>\n    </tr>\n    <tr>\n      <th>4035</th>\n      <td>078233c6-40d1-4cbe-91cc-81c87414d6a1</td>\n      <td>raw</td>\n      <td>4035</td>\n      <td>payment_done</td>\n      <td>2019-12-29 16:55:52.350396</td>\n      <td>47562303</td>\n    </tr>\n  </tbody>\n</table>\n</div>"
     },
     "execution_count": 26,
     "metadata": {},
     "output_type": "execute_result"
    }
   ],
   "source": [
    "source_df[(source_df['user_id'] == check_id) &\\\n",
    "          (source_df['event_timestamp'] <= event_time)]"
   ],
   "metadata": {
    "collapsed": false,
    "pycharm": {
     "name": "#%%\n"
    }
   }
  },
  {
   "cell_type": "code",
   "execution_count": 27,
   "outputs": [
    {
     "data": {
      "text/plain": "user_id\n168688753    2\n830731696    2\n849341362    2\n845778461    2\n652347392    2\n            ..\n355840584    1\n358346667    1\n363256580    1\n365193081    1\n999642905    1\nName: event_name, Length: 730, dtype: int64"
     },
     "execution_count": 27,
     "metadata": {},
     "output_type": "execute_result"
    }
   ],
   "source": [
    "source_df[(source_df['event_name'] == 'payment_done') | \\\n",
    "          (source_df['event_name'] == 'payment_cash') ]\\\n",
    "    .groupby('user_id')['event_name'].nunique().sort_values(ascending=False)"
   ],
   "metadata": {
    "collapsed": false,
    "pycharm": {
     "name": "#%%\n"
    }
   }
  },
  {
   "cell_type": "code",
   "execution_count": 28,
   "outputs": [
    {
     "data": {
      "text/plain": "catalog             14518\nmain                 5635\nlost                 3098\ncart                 2842\nproduct2             2172\ndelivery_choice      1686\nproduct1             1515\npayment_choice       1107\ndelivery_courier      834\npayment_done          706\npayment_card          565\ndelivery_pickup       506\npayment_cash          197\nName: event_name, dtype: int64"
     },
     "execution_count": 28,
     "metadata": {},
     "output_type": "execute_result"
    }
   ],
   "source": [
    "source_df['event_name'].value_counts()"
   ],
   "metadata": {
    "collapsed": false,
    "pycharm": {
     "name": "#%%\n"
    }
   }
  },
  {
   "cell_type": "code",
   "execution_count": 28,
   "outputs": [],
   "source": [],
   "metadata": {
    "collapsed": false,
    "pycharm": {
     "name": "#%%\n"
    }
   }
  },
  {
   "cell_type": "markdown",
   "source": [
    "### min_cjm"
   ],
   "metadata": {
    "collapsed": false,
    "pycharm": {
     "name": "#%% md\n"
    }
   }
  },
  {
   "cell_type": "code",
   "execution_count": 29,
   "outputs": [
    {
     "name": "stderr",
     "output_type": "stream",
     "text": [
      "/Users/Daria/Dev/Retentioneering/retentioneering-tools-new-arch/examples/../src/data_processors_lib/rete/cut_path_after_event.py:59: SettingWithCopyWarning: \n",
      "A value is trying to be set on a copy of a slice from a DataFrame.\n",
      "Try using .loc[row_indexer,col_indexer] = value instead\n",
      "\n",
      "See the caveats in the documentation: https://pandas.pydata.org/pandas-docs/stable/user_guide/indexing.html#returning-a-view-versus-a-copy\n",
      "  df_cut['rw_cumsum'] = df_cut.loc[::-1].groupby([user_col])[time_col].transform(\n"
     ]
    }
   ],
   "source": [
    "from src.data_processors_lib.rete import CutPathAfterEvent, CutPathAfterEventParams\n",
    "params = {\n",
    "    'cutoff_events': ['payment_done'],\n",
    "    'cut_shift': 0,\n",
    "    'min_cjm': 3\n",
    "}\n",
    "\n",
    "cut_after = EventsNode(\n",
    "    CutPathAfterEvent(params=CutPathAfterEventParams(**params)))\n",
    "\n",
    "graph.add_node(\n",
    "    node=cut_after,\n",
    "    parents=[graph.root]\n",
    ")\n",
    "\n",
    "result = graph.combine(\n",
    "    node=cut_after\n",
    ")"
   ],
   "metadata": {
    "collapsed": false,
    "pycharm": {
     "name": "#%%\n"
    }
   }
  },
  {
   "cell_type": "code",
   "execution_count": 30,
   "outputs": [
    {
     "name": "stdout",
     "output_type": "stream",
     "text": [
      "0\n"
     ]
    },
    {
     "data": {
      "text/plain": "0"
     },
     "execution_count": 30,
     "metadata": {},
     "output_type": "execute_result"
    }
   ],
   "source": [
    "df82 = result.to_dataframe()\n",
    "print(source_df.duplicated(['event_name', 'event_timestamp', 'user_id']).sum())\n",
    "df82.duplicated(['event_name', 'event_timestamp', 'user_id']).sum()"
   ],
   "metadata": {
    "collapsed": false,
    "pycharm": {
     "name": "#%%\n"
    }
   }
  },
  {
   "cell_type": "code",
   "execution_count": 31,
   "outputs": [
    {
     "data": {
      "text/plain": "raw    31780\nName: event_type, dtype: int64"
     },
     "execution_count": 31,
     "metadata": {},
     "output_type": "execute_result"
    }
   ],
   "source": [
    "df82['event_type'].value_counts()"
   ],
   "metadata": {
    "collapsed": false,
    "pycharm": {
     "name": "#%%\n"
    }
   }
  },
  {
   "cell_type": "code",
   "execution_count": 32,
   "outputs": [
    {
     "data": {
      "text/plain": "raw    35381\nName: event_type, dtype: int64"
     },
     "execution_count": 32,
     "metadata": {},
     "output_type": "execute_result"
    }
   ],
   "source": [
    "source_df['event_type'].value_counts()"
   ],
   "metadata": {
    "collapsed": false,
    "pycharm": {
     "name": "#%%\n"
    }
   }
  },
  {
   "cell_type": "code",
   "execution_count": 33,
   "outputs": [
    {
     "data": {
      "text/plain": "653"
     },
     "execution_count": 33,
     "metadata": {},
     "output_type": "execute_result"
    }
   ],
   "source": [
    "source_df[source_df['event_name'] == 'payment_done']['user_id'].nunique()"
   ],
   "metadata": {
    "collapsed": false,
    "pycharm": {
     "name": "#%%\n"
    }
   }
  },
  {
   "cell_type": "code",
   "execution_count": 34,
   "outputs": [
    {
     "data": {
      "text/plain": "2     443\n3     380\n4     352\n7     321\n8     297\n5     282\n6     265\n9     221\n10    190\n11    137\n12    123\n13    102\n14     97\n15     70\n18     56\n16     56\n17     47\n19     40\n20     39\n21     32\n22     28\n23     26\n27     18\n24     14\n25     12\n28     11\n26     10\n32     10\n34      9\n31      8\n35      8\n29      6\n45      4\n36      4\n30      4\n33      3\n51      3\n37      3\n46      2\n49      2\n38      2\n75      1\n43      1\n39      1\n47      1\n55      1\n63      1\n57      1\n48      1\n42      1\n44      1\n50      1\n62      1\n73      1\n85      1\nName: event_id, dtype: int64"
     },
     "execution_count": 34,
     "metadata": {},
     "output_type": "execute_result"
    }
   ],
   "source": [
    "df8.groupby(['user_id']).count()['event_id'].value_counts()"
   ],
   "metadata": {
    "collapsed": false,
    "pycharm": {
     "name": "#%%\n"
    }
   }
  },
  {
   "cell_type": "code",
   "execution_count": 35,
   "outputs": [
    {
     "data": {
      "text/plain": "3     380\n4     352\n7     321\n8     297\n5     282\n6     265\n9     221\n10    190\n11    137\n12    123\n13    102\n14     97\n15     70\n18     56\n16     56\n17     47\n19     40\n20     39\n21     32\n22     28\n23     26\n27     18\n24     14\n25     12\n28     11\n32     10\n26     10\n34      9\n31      8\n35      8\n29      6\n45      4\n36      4\n30      4\n33      3\n51      3\n37      3\n46      2\n49      2\n38      2\n75      1\n43      1\n39      1\n47      1\n55      1\n63      1\n57      1\n48      1\n42      1\n44      1\n50      1\n62      1\n73      1\n85      1\nName: event_id, dtype: int64"
     },
     "execution_count": 35,
     "metadata": {},
     "output_type": "execute_result"
    }
   ],
   "source": [
    "df82.groupby(['user_id']).count()['event_id'].value_counts()"
   ],
   "metadata": {
    "collapsed": false,
    "pycharm": {
     "name": "#%%\n"
    }
   }
  },
  {
   "cell_type": "code",
   "execution_count": 35,
   "outputs": [],
   "source": [],
   "metadata": {
    "collapsed": false,
    "pycharm": {
     "name": "#%%\n"
    }
   }
  },
  {
   "cell_type": "markdown",
   "source": [
    "### Несколько событий"
   ],
   "metadata": {
    "collapsed": false,
    "pycharm": {
     "name": "#%% md\n"
    }
   }
  },
  {
   "cell_type": "code",
   "execution_count": 36,
   "outputs": [
    {
     "name": "stderr",
     "output_type": "stream",
     "text": [
      "/Users/Daria/Dev/Retentioneering/retentioneering-tools-new-arch/examples/../src/data_processors_lib/rete/cut_path_after_event.py:59: SettingWithCopyWarning: \n",
      "A value is trying to be set on a copy of a slice from a DataFrame.\n",
      "Try using .loc[row_indexer,col_indexer] = value instead\n",
      "\n",
      "See the caveats in the documentation: https://pandas.pydata.org/pandas-docs/stable/user_guide/indexing.html#returning-a-view-versus-a-copy\n",
      "  df_cut['rw_cumsum'] = df_cut.loc[::-1].groupby([user_col])[time_col].transform(\n",
      "/Users/Daria/Dev/Retentioneering/retentioneering-tools-new-arch/examples/../src/data_processors_lib/rete/cut_path_after_event.py:76: SettingWithCopyWarning: \n",
      "A value is trying to be set on a copy of a slice from a DataFrame.\n",
      "Try using .loc[row_indexer,col_indexer] = value instead\n",
      "\n",
      "See the caveats in the documentation: https://pandas.pydata.org/pandas-docs/stable/user_guide/indexing.html#returning-a-view-versus-a-copy\n",
      "  df_to_del['ref'] = df_to_del[eventstream.schema.event_id]\n"
     ]
    }
   ],
   "source": [
    "from src.data_processors_lib.rete import CutPathAfterEvent, CutPathAfterEventParams\n",
    "params = {\n",
    "    'cutoff_events': ['payment_done', 'payment_cash', 'delivery_choice'],\n",
    "    'cut_shift': 0,\n",
    "    'min_cjm': 0\n",
    "}\n",
    "\n",
    "cut_after = EventsNode(\n",
    "    CutPathAfterEvent(params=CutPathAfterEventParams(**params)))\n",
    "\n",
    "graph.add_node(\n",
    "    node=cut_after,\n",
    "    parents=[graph.root]\n",
    ")\n",
    "\n",
    "result = graph.combine(\n",
    "    node=cut_after\n",
    ")"
   ],
   "metadata": {
    "collapsed": false,
    "pycharm": {
     "name": "#%%\n"
    }
   }
  },
  {
   "cell_type": "code",
   "execution_count": 37,
   "outputs": [
    {
     "name": "stdout",
     "output_type": "stream",
     "text": [
      "0\n"
     ]
    },
    {
     "data": {
      "text/plain": "0"
     },
     "execution_count": 37,
     "metadata": {},
     "output_type": "execute_result"
    }
   ],
   "source": [
    "df83 = result.to_dataframe()\n",
    "print(source_df.duplicated(['event_name', 'event_timestamp', 'user_id']).sum())\n",
    "df83.duplicated(['event_name', 'event_timestamp', 'user_id']).sum()"
   ],
   "metadata": {
    "collapsed": false,
    "pycharm": {
     "name": "#%%\n"
    }
   }
  },
  {
   "cell_type": "code",
   "execution_count": 38,
   "outputs": [
    {
     "name": "stdout",
     "output_type": "stream",
     "text": [
      "14\n"
     ]
    },
    {
     "data": {
      "text/plain": "Timestamp('2019-12-14 06:33:57.636413')"
     },
     "execution_count": 38,
     "metadata": {},
     "output_type": "execute_result"
    }
   ],
   "source": [
    "check_id = 168688753\n",
    "print(len(df83[df83['user_id'] == check_id]))\n",
    "event_time = source_df[(source_df['user_id'] == check_id) & \\\n",
    "    ((source_df['event_name'] == 'payment_done') | \\\n",
    "    (source_df['event_name'] == 'payment_cash') | \\\n",
    "     (source_df['event_name'] == 'delivery_choice')\n",
    "     )]['event_timestamp'].min()\n",
    "event_time"
   ],
   "metadata": {
    "collapsed": false,
    "pycharm": {
     "name": "#%%\n"
    }
   }
  },
  {
   "cell_type": "code",
   "execution_count": 39,
   "outputs": [
    {
     "data": {
      "text/plain": "                                  event_id event_type  event_index  \\\n842   76d27684-4d79-43ce-8121-aca4201e83b9        raw          842   \n843   ceeba921-ed60-4b33-913a-f71dfab1a8d9        raw          843   \n844   60b2f7f8-2cad-4032-ad5a-837c4b91e1a8        raw          844   \n2286  9e761508-e35b-4446-9ca0-ed16119de3af        raw         2286   \n2833  a911c4b1-7f93-4293-9d40-5473bc32b735        raw         2833   \n2834  fbfef058-98ee-4d36-b4b8-4a6694a70a23        raw         2834   \n2835  eed893b3-2fd0-4fc5-bea2-5dba99793dea        raw         2835   \n2836  91a68e89-d3dd-4db3-801d-753382905882        raw         2836   \n2837  cd5ab612-1fa3-4963-9c08-ed84498a901b        raw         2837   \n2838  762c30cb-3469-44cc-89e0-55366d21df93        raw         2838   \n2839  370c8e37-253a-4d3c-9fef-d557a86b0ec2        raw         2839   \n2840  b0fa96f9-8785-4c47-85fe-d0ef55dd634e        raw         2840   \n2841  86d2eba2-f69c-42c5-a719-cf6b157445bc        raw         2841   \n2842  1e4e6e0e-10f9-4123-ac18-5637a8b1d08d        raw         2842   \n\n           event_name            event_timestamp    user_id  \n842           catalog 2019-11-16 22:30:05.735414  168688753  \n843           catalog 2019-11-16 22:30:15.425342  168688753  \n844           catalog 2019-11-16 22:30:40.187585  168688753  \n2286             main 2019-12-06 21:40:31.972558  168688753  \n2833             main 2019-12-14 06:32:50.934854  168688753  \n2834          catalog 2019-12-14 06:32:56.369665  168688753  \n2835          catalog 2019-12-14 06:33:12.102891  168688753  \n2836          catalog 2019-12-14 06:33:28.660860  168688753  \n2837         product2 2019-12-14 06:33:29.294200  168688753  \n2838          catalog 2019-12-14 06:33:30.657942  168688753  \n2839          catalog 2019-12-14 06:33:38.687904  168688753  \n2840         product1 2019-12-14 06:33:54.105418  168688753  \n2841             cart 2019-12-14 06:33:57.608245  168688753  \n2842  delivery_choice 2019-12-14 06:33:57.636413  168688753  ",
      "text/html": "<div>\n<style scoped>\n    .dataframe tbody tr th:only-of-type {\n        vertical-align: middle;\n    }\n\n    .dataframe tbody tr th {\n        vertical-align: top;\n    }\n\n    .dataframe thead th {\n        text-align: right;\n    }\n</style>\n<table border=\"1\" class=\"dataframe\">\n  <thead>\n    <tr style=\"text-align: right;\">\n      <th></th>\n      <th>event_id</th>\n      <th>event_type</th>\n      <th>event_index</th>\n      <th>event_name</th>\n      <th>event_timestamp</th>\n      <th>user_id</th>\n    </tr>\n  </thead>\n  <tbody>\n    <tr>\n      <th>842</th>\n      <td>76d27684-4d79-43ce-8121-aca4201e83b9</td>\n      <td>raw</td>\n      <td>842</td>\n      <td>catalog</td>\n      <td>2019-11-16 22:30:05.735414</td>\n      <td>168688753</td>\n    </tr>\n    <tr>\n      <th>843</th>\n      <td>ceeba921-ed60-4b33-913a-f71dfab1a8d9</td>\n      <td>raw</td>\n      <td>843</td>\n      <td>catalog</td>\n      <td>2019-11-16 22:30:15.425342</td>\n      <td>168688753</td>\n    </tr>\n    <tr>\n      <th>844</th>\n      <td>60b2f7f8-2cad-4032-ad5a-837c4b91e1a8</td>\n      <td>raw</td>\n      <td>844</td>\n      <td>catalog</td>\n      <td>2019-11-16 22:30:40.187585</td>\n      <td>168688753</td>\n    </tr>\n    <tr>\n      <th>2286</th>\n      <td>9e761508-e35b-4446-9ca0-ed16119de3af</td>\n      <td>raw</td>\n      <td>2286</td>\n      <td>main</td>\n      <td>2019-12-06 21:40:31.972558</td>\n      <td>168688753</td>\n    </tr>\n    <tr>\n      <th>2833</th>\n      <td>a911c4b1-7f93-4293-9d40-5473bc32b735</td>\n      <td>raw</td>\n      <td>2833</td>\n      <td>main</td>\n      <td>2019-12-14 06:32:50.934854</td>\n      <td>168688753</td>\n    </tr>\n    <tr>\n      <th>2834</th>\n      <td>fbfef058-98ee-4d36-b4b8-4a6694a70a23</td>\n      <td>raw</td>\n      <td>2834</td>\n      <td>catalog</td>\n      <td>2019-12-14 06:32:56.369665</td>\n      <td>168688753</td>\n    </tr>\n    <tr>\n      <th>2835</th>\n      <td>eed893b3-2fd0-4fc5-bea2-5dba99793dea</td>\n      <td>raw</td>\n      <td>2835</td>\n      <td>catalog</td>\n      <td>2019-12-14 06:33:12.102891</td>\n      <td>168688753</td>\n    </tr>\n    <tr>\n      <th>2836</th>\n      <td>91a68e89-d3dd-4db3-801d-753382905882</td>\n      <td>raw</td>\n      <td>2836</td>\n      <td>catalog</td>\n      <td>2019-12-14 06:33:28.660860</td>\n      <td>168688753</td>\n    </tr>\n    <tr>\n      <th>2837</th>\n      <td>cd5ab612-1fa3-4963-9c08-ed84498a901b</td>\n      <td>raw</td>\n      <td>2837</td>\n      <td>product2</td>\n      <td>2019-12-14 06:33:29.294200</td>\n      <td>168688753</td>\n    </tr>\n    <tr>\n      <th>2838</th>\n      <td>762c30cb-3469-44cc-89e0-55366d21df93</td>\n      <td>raw</td>\n      <td>2838</td>\n      <td>catalog</td>\n      <td>2019-12-14 06:33:30.657942</td>\n      <td>168688753</td>\n    </tr>\n    <tr>\n      <th>2839</th>\n      <td>370c8e37-253a-4d3c-9fef-d557a86b0ec2</td>\n      <td>raw</td>\n      <td>2839</td>\n      <td>catalog</td>\n      <td>2019-12-14 06:33:38.687904</td>\n      <td>168688753</td>\n    </tr>\n    <tr>\n      <th>2840</th>\n      <td>b0fa96f9-8785-4c47-85fe-d0ef55dd634e</td>\n      <td>raw</td>\n      <td>2840</td>\n      <td>product1</td>\n      <td>2019-12-14 06:33:54.105418</td>\n      <td>168688753</td>\n    </tr>\n    <tr>\n      <th>2841</th>\n      <td>86d2eba2-f69c-42c5-a719-cf6b157445bc</td>\n      <td>raw</td>\n      <td>2841</td>\n      <td>cart</td>\n      <td>2019-12-14 06:33:57.608245</td>\n      <td>168688753</td>\n    </tr>\n    <tr>\n      <th>2842</th>\n      <td>1e4e6e0e-10f9-4123-ac18-5637a8b1d08d</td>\n      <td>raw</td>\n      <td>2842</td>\n      <td>delivery_choice</td>\n      <td>2019-12-14 06:33:57.636413</td>\n      <td>168688753</td>\n    </tr>\n  </tbody>\n</table>\n</div>"
     },
     "execution_count": 39,
     "metadata": {},
     "output_type": "execute_result"
    }
   ],
   "source": [
    "source_df[(source_df['user_id'] == check_id) &\\\n",
    "          (source_df['event_timestamp'] <= event_time)]"
   ],
   "metadata": {
    "collapsed": false,
    "pycharm": {
     "name": "#%%\n"
    }
   }
  },
  {
   "cell_type": "code",
   "execution_count": 40,
   "outputs": [
    {
     "data": {
      "text/plain": "                                  event_id event_type  event_index  \\\n986   76d27684-4d79-43ce-8121-aca4201e83b9        raw          986   \n987   ceeba921-ed60-4b33-913a-f71dfab1a8d9        raw          987   \n988   60b2f7f8-2cad-4032-ad5a-837c4b91e1a8        raw          988   \n2859  9e761508-e35b-4446-9ca0-ed16119de3af        raw         2859   \n3535  a911c4b1-7f93-4293-9d40-5473bc32b735        raw         3535   \n3536  fbfef058-98ee-4d36-b4b8-4a6694a70a23        raw         3536   \n3537  eed893b3-2fd0-4fc5-bea2-5dba99793dea        raw         3537   \n3538  91a68e89-d3dd-4db3-801d-753382905882        raw         3538   \n3539  cd5ab612-1fa3-4963-9c08-ed84498a901b        raw         3539   \n3540  762c30cb-3469-44cc-89e0-55366d21df93        raw         3540   \n3541  370c8e37-253a-4d3c-9fef-d557a86b0ec2        raw         3541   \n3542  b0fa96f9-8785-4c47-85fe-d0ef55dd634e        raw         3542   \n3543  86d2eba2-f69c-42c5-a719-cf6b157445bc        raw         3543   \n3544  1e4e6e0e-10f9-4123-ac18-5637a8b1d08d        raw         3544   \n\n           event_name            event_timestamp      user_id  \n986           catalog 2019-11-16 22:30:05.735414  168688753.0  \n987           catalog 2019-11-16 22:30:15.425342  168688753.0  \n988           catalog 2019-11-16 22:30:40.187585  168688753.0  \n2859             main 2019-12-06 21:40:31.972558  168688753.0  \n3535             main 2019-12-14 06:32:50.934854  168688753.0  \n3536          catalog 2019-12-14 06:32:56.369665  168688753.0  \n3537          catalog 2019-12-14 06:33:12.102891  168688753.0  \n3538          catalog 2019-12-14 06:33:28.660860  168688753.0  \n3539         product2 2019-12-14 06:33:29.294200  168688753.0  \n3540          catalog 2019-12-14 06:33:30.657942  168688753.0  \n3541          catalog 2019-12-14 06:33:38.687904  168688753.0  \n3542         product1 2019-12-14 06:33:54.105418  168688753.0  \n3543             cart 2019-12-14 06:33:57.608245  168688753.0  \n3544  delivery_choice 2019-12-14 06:33:57.636413  168688753.0  ",
      "text/html": "<div>\n<style scoped>\n    .dataframe tbody tr th:only-of-type {\n        vertical-align: middle;\n    }\n\n    .dataframe tbody tr th {\n        vertical-align: top;\n    }\n\n    .dataframe thead th {\n        text-align: right;\n    }\n</style>\n<table border=\"1\" class=\"dataframe\">\n  <thead>\n    <tr style=\"text-align: right;\">\n      <th></th>\n      <th>event_id</th>\n      <th>event_type</th>\n      <th>event_index</th>\n      <th>event_name</th>\n      <th>event_timestamp</th>\n      <th>user_id</th>\n    </tr>\n  </thead>\n  <tbody>\n    <tr>\n      <th>986</th>\n      <td>76d27684-4d79-43ce-8121-aca4201e83b9</td>\n      <td>raw</td>\n      <td>986</td>\n      <td>catalog</td>\n      <td>2019-11-16 22:30:05.735414</td>\n      <td>168688753.0</td>\n    </tr>\n    <tr>\n      <th>987</th>\n      <td>ceeba921-ed60-4b33-913a-f71dfab1a8d9</td>\n      <td>raw</td>\n      <td>987</td>\n      <td>catalog</td>\n      <td>2019-11-16 22:30:15.425342</td>\n      <td>168688753.0</td>\n    </tr>\n    <tr>\n      <th>988</th>\n      <td>60b2f7f8-2cad-4032-ad5a-837c4b91e1a8</td>\n      <td>raw</td>\n      <td>988</td>\n      <td>catalog</td>\n      <td>2019-11-16 22:30:40.187585</td>\n      <td>168688753.0</td>\n    </tr>\n    <tr>\n      <th>2859</th>\n      <td>9e761508-e35b-4446-9ca0-ed16119de3af</td>\n      <td>raw</td>\n      <td>2859</td>\n      <td>main</td>\n      <td>2019-12-06 21:40:31.972558</td>\n      <td>168688753.0</td>\n    </tr>\n    <tr>\n      <th>3535</th>\n      <td>a911c4b1-7f93-4293-9d40-5473bc32b735</td>\n      <td>raw</td>\n      <td>3535</td>\n      <td>main</td>\n      <td>2019-12-14 06:32:50.934854</td>\n      <td>168688753.0</td>\n    </tr>\n    <tr>\n      <th>3536</th>\n      <td>fbfef058-98ee-4d36-b4b8-4a6694a70a23</td>\n      <td>raw</td>\n      <td>3536</td>\n      <td>catalog</td>\n      <td>2019-12-14 06:32:56.369665</td>\n      <td>168688753.0</td>\n    </tr>\n    <tr>\n      <th>3537</th>\n      <td>eed893b3-2fd0-4fc5-bea2-5dba99793dea</td>\n      <td>raw</td>\n      <td>3537</td>\n      <td>catalog</td>\n      <td>2019-12-14 06:33:12.102891</td>\n      <td>168688753.0</td>\n    </tr>\n    <tr>\n      <th>3538</th>\n      <td>91a68e89-d3dd-4db3-801d-753382905882</td>\n      <td>raw</td>\n      <td>3538</td>\n      <td>catalog</td>\n      <td>2019-12-14 06:33:28.660860</td>\n      <td>168688753.0</td>\n    </tr>\n    <tr>\n      <th>3539</th>\n      <td>cd5ab612-1fa3-4963-9c08-ed84498a901b</td>\n      <td>raw</td>\n      <td>3539</td>\n      <td>product2</td>\n      <td>2019-12-14 06:33:29.294200</td>\n      <td>168688753.0</td>\n    </tr>\n    <tr>\n      <th>3540</th>\n      <td>762c30cb-3469-44cc-89e0-55366d21df93</td>\n      <td>raw</td>\n      <td>3540</td>\n      <td>catalog</td>\n      <td>2019-12-14 06:33:30.657942</td>\n      <td>168688753.0</td>\n    </tr>\n    <tr>\n      <th>3541</th>\n      <td>370c8e37-253a-4d3c-9fef-d557a86b0ec2</td>\n      <td>raw</td>\n      <td>3541</td>\n      <td>catalog</td>\n      <td>2019-12-14 06:33:38.687904</td>\n      <td>168688753.0</td>\n    </tr>\n    <tr>\n      <th>3542</th>\n      <td>b0fa96f9-8785-4c47-85fe-d0ef55dd634e</td>\n      <td>raw</td>\n      <td>3542</td>\n      <td>product1</td>\n      <td>2019-12-14 06:33:54.105418</td>\n      <td>168688753.0</td>\n    </tr>\n    <tr>\n      <th>3543</th>\n      <td>86d2eba2-f69c-42c5-a719-cf6b157445bc</td>\n      <td>raw</td>\n      <td>3543</td>\n      <td>cart</td>\n      <td>2019-12-14 06:33:57.608245</td>\n      <td>168688753.0</td>\n    </tr>\n    <tr>\n      <th>3544</th>\n      <td>1e4e6e0e-10f9-4123-ac18-5637a8b1d08d</td>\n      <td>raw</td>\n      <td>3544</td>\n      <td>delivery_choice</td>\n      <td>2019-12-14 06:33:57.636413</td>\n      <td>168688753.0</td>\n    </tr>\n  </tbody>\n</table>\n</div>"
     },
     "execution_count": 40,
     "metadata": {},
     "output_type": "execute_result"
    }
   ],
   "source": [
    "df83[df83['user_id'] == check_id]"
   ],
   "metadata": {
    "collapsed": false,
    "pycharm": {
     "name": "#%%\n"
    }
   }
  },
  {
   "cell_type": "code",
   "execution_count": 41,
   "outputs": [
    {
     "data": {
      "text/plain": "                                   event_id event_type  event_index  \\\n842    76d27684-4d79-43ce-8121-aca4201e83b9        raw          842   \n843    ceeba921-ed60-4b33-913a-f71dfab1a8d9        raw          843   \n844    60b2f7f8-2cad-4032-ad5a-837c4b91e1a8        raw          844   \n2286   9e761508-e35b-4446-9ca0-ed16119de3af        raw         2286   \n2833   a911c4b1-7f93-4293-9d40-5473bc32b735        raw         2833   \n2834   fbfef058-98ee-4d36-b4b8-4a6694a70a23        raw         2834   \n2835   eed893b3-2fd0-4fc5-bea2-5dba99793dea        raw         2835   \n2836   91a68e89-d3dd-4db3-801d-753382905882        raw         2836   \n2837   cd5ab612-1fa3-4963-9c08-ed84498a901b        raw         2837   \n2838   762c30cb-3469-44cc-89e0-55366d21df93        raw         2838   \n2839   370c8e37-253a-4d3c-9fef-d557a86b0ec2        raw         2839   \n2840   b0fa96f9-8785-4c47-85fe-d0ef55dd634e        raw         2840   \n2841   86d2eba2-f69c-42c5-a719-cf6b157445bc        raw         2841   \n2842   1e4e6e0e-10f9-4123-ac18-5637a8b1d08d        raw         2842   \n2843   7b03dfb9-6846-4520-b5f2-0214f2a97c85        raw         2843   \n2844   7ecdf64d-727e-4b44-a46e-6357a295096c        raw         2844   \n2845   504a50d5-1f62-4855-8d85-e78b39c0255d        raw         2845   \n2846   0e448096-c477-4094-ab96-21bcef15c4c4        raw         2846   \n2847   e9d93c61-3300-4754-b2cc-8c686685af7a        raw         2847   \n2848   f3aeb7dd-9f66-42c0-87e6-58b7e3871b4e        raw         2848   \n2849   baa8b826-5304-4e3a-bc13-8d7e6a5becf3        raw         2849   \n4607   4354bdce-5966-4c93-8dee-4817a2bc1fb9        raw         4607   \n5245   23ce69dd-943a-4d01-9c9f-3721804a3964        raw         5245   \n5246   9bf140ad-53d7-4bcc-8444-2886ec3bdabd        raw         5246   \n5247   ae5d2eb3-d41d-4257-89c0-95cac6063a3c        raw         5247   \n5248   da40d57b-3d3c-42aa-8384-86bea3c6dcf0        raw         5248   \n5249   32bf4941-200d-460e-94aa-e41a9e6b1044        raw         5249   \n5250   362c5434-a36f-41c7-9270-de5c967876cd        raw         5250   \n5251   ba85bda4-f4c9-4292-bffa-7da1b927d148        raw         5251   \n5252   af9c4f24-7971-48d7-88e1-36e4eb2bf2aa        raw         5252   \n8326   32d4af90-9082-44b6-ad5c-b593b0ec740d        raw         8326   \n8327   e4896098-e8b3-4071-9dc3-4ed808896f65        raw         8327   \n8328   53fa162a-0c45-4286-8c38-d8a73b1bceb2        raw         8328   \n8329   97532287-7792-4ed8-a18e-6bb4e4d778af        raw         8329   \n8330   e1d46d14-ff66-4fa0-a32f-084d65576532        raw         8330   \n8331   080190c8-9bf5-42e4-bb18-a48780aaa970        raw         8331   \n8332   96bea595-0069-4fbf-9738-65836b77de78        raw         8332   \n8333   b8a13e7a-3479-4b1d-b4fb-e2252cc79940        raw         8333   \n8334   a6fa2c61-fa2b-46a4-a92b-4cc8c14043b7        raw         8334   \n12501  f1fa94ff-cf42-4730-95ec-5e44cd4551ad        raw        12501   \n12502  90a488ae-dced-4c27-aa01-3af6e0974935        raw        12502   \n12503  2840922a-7e88-42b5-b3d4-3b3cdb02b25a        raw        12503   \n12504  5a2a1831-9de7-42e9-b490-f7263fa5d23e        raw        12504   \n12505  e4dbffdf-2fd0-44df-81f6-0b7f48dc8c5b        raw        12505   \n12506  4bc16ad5-94a4-49b6-bc07-739c99955abd        raw        12506   \n\n             event_name            event_timestamp    user_id  \n842             catalog 2019-11-16 22:30:05.735414  168688753  \n843             catalog 2019-11-16 22:30:15.425342  168688753  \n844             catalog 2019-11-16 22:30:40.187585  168688753  \n2286               main 2019-12-06 21:40:31.972558  168688753  \n2833               main 2019-12-14 06:32:50.934854  168688753  \n2834            catalog 2019-12-14 06:32:56.369665  168688753  \n2835            catalog 2019-12-14 06:33:12.102891  168688753  \n2836            catalog 2019-12-14 06:33:28.660860  168688753  \n2837           product2 2019-12-14 06:33:29.294200  168688753  \n2838            catalog 2019-12-14 06:33:30.657942  168688753  \n2839            catalog 2019-12-14 06:33:38.687904  168688753  \n2840           product1 2019-12-14 06:33:54.105418  168688753  \n2841               cart 2019-12-14 06:33:57.608245  168688753  \n2842    delivery_choice 2019-12-14 06:33:57.636413  168688753  \n2843            catalog 2019-12-14 06:34:04.620721  168688753  \n2844            catalog 2019-12-14 06:34:09.161217  168688753  \n2845            catalog 2019-12-14 06:34:12.994666  168688753  \n2846            catalog 2019-12-14 06:34:37.431860  168688753  \n2847            catalog 2019-12-14 06:34:52.331349  168688753  \n2848           product1 2019-12-14 06:35:04.950946  168688753  \n2849            catalog 2019-12-14 06:35:23.378459  168688753  \n4607               main 2020-01-05 01:12:20.088207  168688753  \n5245               main 2020-01-11 07:17:34.083275  168688753  \n5246            catalog 2020-01-11 07:17:38.576581  168688753  \n5247               cart 2020-01-11 07:18:06.285462  168688753  \n5248    delivery_choice 2020-01-11 07:18:08.718102  168688753  \n5249   delivery_courier 2020-01-11 07:18:11.881274  168688753  \n5250     payment_choice 2020-01-11 07:18:13.902151  168688753  \n5251       payment_cash 2020-01-11 07:18:14.144647  168688753  \n5252       payment_done 2020-01-11 07:18:15.298737  168688753  \n8326               main 2020-02-11 16:21:29.539728  168688753  \n8327            catalog 2020-02-11 16:21:29.835502  168688753  \n8328           product2 2020-02-11 16:21:34.035051  168688753  \n8329            catalog 2020-02-11 16:21:46.686609  168688753  \n8330               main 2020-02-11 16:21:56.387275  168688753  \n8331            catalog 2020-02-11 16:22:03.651007  168688753  \n8332               main 2020-02-11 16:22:19.734515  168688753  \n8333            catalog 2020-02-11 16:22:23.720972  168688753  \n8334            catalog 2020-02-11 16:23:41.190643  168688753  \n12501              main 2020-03-15 06:02:34.952325  168688753  \n12502           catalog 2020-03-15 06:02:38.509449  168688753  \n12503           catalog 2020-03-15 06:02:50.447875  168688753  \n12504           catalog 2020-03-15 06:02:51.679230  168688753  \n12505          product1 2020-03-15 06:02:52.571970  168688753  \n12506              cart 2020-03-15 06:03:09.277120  168688753  ",
      "text/html": "<div>\n<style scoped>\n    .dataframe tbody tr th:only-of-type {\n        vertical-align: middle;\n    }\n\n    .dataframe tbody tr th {\n        vertical-align: top;\n    }\n\n    .dataframe thead th {\n        text-align: right;\n    }\n</style>\n<table border=\"1\" class=\"dataframe\">\n  <thead>\n    <tr style=\"text-align: right;\">\n      <th></th>\n      <th>event_id</th>\n      <th>event_type</th>\n      <th>event_index</th>\n      <th>event_name</th>\n      <th>event_timestamp</th>\n      <th>user_id</th>\n    </tr>\n  </thead>\n  <tbody>\n    <tr>\n      <th>842</th>\n      <td>76d27684-4d79-43ce-8121-aca4201e83b9</td>\n      <td>raw</td>\n      <td>842</td>\n      <td>catalog</td>\n      <td>2019-11-16 22:30:05.735414</td>\n      <td>168688753</td>\n    </tr>\n    <tr>\n      <th>843</th>\n      <td>ceeba921-ed60-4b33-913a-f71dfab1a8d9</td>\n      <td>raw</td>\n      <td>843</td>\n      <td>catalog</td>\n      <td>2019-11-16 22:30:15.425342</td>\n      <td>168688753</td>\n    </tr>\n    <tr>\n      <th>844</th>\n      <td>60b2f7f8-2cad-4032-ad5a-837c4b91e1a8</td>\n      <td>raw</td>\n      <td>844</td>\n      <td>catalog</td>\n      <td>2019-11-16 22:30:40.187585</td>\n      <td>168688753</td>\n    </tr>\n    <tr>\n      <th>2286</th>\n      <td>9e761508-e35b-4446-9ca0-ed16119de3af</td>\n      <td>raw</td>\n      <td>2286</td>\n      <td>main</td>\n      <td>2019-12-06 21:40:31.972558</td>\n      <td>168688753</td>\n    </tr>\n    <tr>\n      <th>2833</th>\n      <td>a911c4b1-7f93-4293-9d40-5473bc32b735</td>\n      <td>raw</td>\n      <td>2833</td>\n      <td>main</td>\n      <td>2019-12-14 06:32:50.934854</td>\n      <td>168688753</td>\n    </tr>\n    <tr>\n      <th>2834</th>\n      <td>fbfef058-98ee-4d36-b4b8-4a6694a70a23</td>\n      <td>raw</td>\n      <td>2834</td>\n      <td>catalog</td>\n      <td>2019-12-14 06:32:56.369665</td>\n      <td>168688753</td>\n    </tr>\n    <tr>\n      <th>2835</th>\n      <td>eed893b3-2fd0-4fc5-bea2-5dba99793dea</td>\n      <td>raw</td>\n      <td>2835</td>\n      <td>catalog</td>\n      <td>2019-12-14 06:33:12.102891</td>\n      <td>168688753</td>\n    </tr>\n    <tr>\n      <th>2836</th>\n      <td>91a68e89-d3dd-4db3-801d-753382905882</td>\n      <td>raw</td>\n      <td>2836</td>\n      <td>catalog</td>\n      <td>2019-12-14 06:33:28.660860</td>\n      <td>168688753</td>\n    </tr>\n    <tr>\n      <th>2837</th>\n      <td>cd5ab612-1fa3-4963-9c08-ed84498a901b</td>\n      <td>raw</td>\n      <td>2837</td>\n      <td>product2</td>\n      <td>2019-12-14 06:33:29.294200</td>\n      <td>168688753</td>\n    </tr>\n    <tr>\n      <th>2838</th>\n      <td>762c30cb-3469-44cc-89e0-55366d21df93</td>\n      <td>raw</td>\n      <td>2838</td>\n      <td>catalog</td>\n      <td>2019-12-14 06:33:30.657942</td>\n      <td>168688753</td>\n    </tr>\n    <tr>\n      <th>2839</th>\n      <td>370c8e37-253a-4d3c-9fef-d557a86b0ec2</td>\n      <td>raw</td>\n      <td>2839</td>\n      <td>catalog</td>\n      <td>2019-12-14 06:33:38.687904</td>\n      <td>168688753</td>\n    </tr>\n    <tr>\n      <th>2840</th>\n      <td>b0fa96f9-8785-4c47-85fe-d0ef55dd634e</td>\n      <td>raw</td>\n      <td>2840</td>\n      <td>product1</td>\n      <td>2019-12-14 06:33:54.105418</td>\n      <td>168688753</td>\n    </tr>\n    <tr>\n      <th>2841</th>\n      <td>86d2eba2-f69c-42c5-a719-cf6b157445bc</td>\n      <td>raw</td>\n      <td>2841</td>\n      <td>cart</td>\n      <td>2019-12-14 06:33:57.608245</td>\n      <td>168688753</td>\n    </tr>\n    <tr>\n      <th>2842</th>\n      <td>1e4e6e0e-10f9-4123-ac18-5637a8b1d08d</td>\n      <td>raw</td>\n      <td>2842</td>\n      <td>delivery_choice</td>\n      <td>2019-12-14 06:33:57.636413</td>\n      <td>168688753</td>\n    </tr>\n    <tr>\n      <th>2843</th>\n      <td>7b03dfb9-6846-4520-b5f2-0214f2a97c85</td>\n      <td>raw</td>\n      <td>2843</td>\n      <td>catalog</td>\n      <td>2019-12-14 06:34:04.620721</td>\n      <td>168688753</td>\n    </tr>\n    <tr>\n      <th>2844</th>\n      <td>7ecdf64d-727e-4b44-a46e-6357a295096c</td>\n      <td>raw</td>\n      <td>2844</td>\n      <td>catalog</td>\n      <td>2019-12-14 06:34:09.161217</td>\n      <td>168688753</td>\n    </tr>\n    <tr>\n      <th>2845</th>\n      <td>504a50d5-1f62-4855-8d85-e78b39c0255d</td>\n      <td>raw</td>\n      <td>2845</td>\n      <td>catalog</td>\n      <td>2019-12-14 06:34:12.994666</td>\n      <td>168688753</td>\n    </tr>\n    <tr>\n      <th>2846</th>\n      <td>0e448096-c477-4094-ab96-21bcef15c4c4</td>\n      <td>raw</td>\n      <td>2846</td>\n      <td>catalog</td>\n      <td>2019-12-14 06:34:37.431860</td>\n      <td>168688753</td>\n    </tr>\n    <tr>\n      <th>2847</th>\n      <td>e9d93c61-3300-4754-b2cc-8c686685af7a</td>\n      <td>raw</td>\n      <td>2847</td>\n      <td>catalog</td>\n      <td>2019-12-14 06:34:52.331349</td>\n      <td>168688753</td>\n    </tr>\n    <tr>\n      <th>2848</th>\n      <td>f3aeb7dd-9f66-42c0-87e6-58b7e3871b4e</td>\n      <td>raw</td>\n      <td>2848</td>\n      <td>product1</td>\n      <td>2019-12-14 06:35:04.950946</td>\n      <td>168688753</td>\n    </tr>\n    <tr>\n      <th>2849</th>\n      <td>baa8b826-5304-4e3a-bc13-8d7e6a5becf3</td>\n      <td>raw</td>\n      <td>2849</td>\n      <td>catalog</td>\n      <td>2019-12-14 06:35:23.378459</td>\n      <td>168688753</td>\n    </tr>\n    <tr>\n      <th>4607</th>\n      <td>4354bdce-5966-4c93-8dee-4817a2bc1fb9</td>\n      <td>raw</td>\n      <td>4607</td>\n      <td>main</td>\n      <td>2020-01-05 01:12:20.088207</td>\n      <td>168688753</td>\n    </tr>\n    <tr>\n      <th>5245</th>\n      <td>23ce69dd-943a-4d01-9c9f-3721804a3964</td>\n      <td>raw</td>\n      <td>5245</td>\n      <td>main</td>\n      <td>2020-01-11 07:17:34.083275</td>\n      <td>168688753</td>\n    </tr>\n    <tr>\n      <th>5246</th>\n      <td>9bf140ad-53d7-4bcc-8444-2886ec3bdabd</td>\n      <td>raw</td>\n      <td>5246</td>\n      <td>catalog</td>\n      <td>2020-01-11 07:17:38.576581</td>\n      <td>168688753</td>\n    </tr>\n    <tr>\n      <th>5247</th>\n      <td>ae5d2eb3-d41d-4257-89c0-95cac6063a3c</td>\n      <td>raw</td>\n      <td>5247</td>\n      <td>cart</td>\n      <td>2020-01-11 07:18:06.285462</td>\n      <td>168688753</td>\n    </tr>\n    <tr>\n      <th>5248</th>\n      <td>da40d57b-3d3c-42aa-8384-86bea3c6dcf0</td>\n      <td>raw</td>\n      <td>5248</td>\n      <td>delivery_choice</td>\n      <td>2020-01-11 07:18:08.718102</td>\n      <td>168688753</td>\n    </tr>\n    <tr>\n      <th>5249</th>\n      <td>32bf4941-200d-460e-94aa-e41a9e6b1044</td>\n      <td>raw</td>\n      <td>5249</td>\n      <td>delivery_courier</td>\n      <td>2020-01-11 07:18:11.881274</td>\n      <td>168688753</td>\n    </tr>\n    <tr>\n      <th>5250</th>\n      <td>362c5434-a36f-41c7-9270-de5c967876cd</td>\n      <td>raw</td>\n      <td>5250</td>\n      <td>payment_choice</td>\n      <td>2020-01-11 07:18:13.902151</td>\n      <td>168688753</td>\n    </tr>\n    <tr>\n      <th>5251</th>\n      <td>ba85bda4-f4c9-4292-bffa-7da1b927d148</td>\n      <td>raw</td>\n      <td>5251</td>\n      <td>payment_cash</td>\n      <td>2020-01-11 07:18:14.144647</td>\n      <td>168688753</td>\n    </tr>\n    <tr>\n      <th>5252</th>\n      <td>af9c4f24-7971-48d7-88e1-36e4eb2bf2aa</td>\n      <td>raw</td>\n      <td>5252</td>\n      <td>payment_done</td>\n      <td>2020-01-11 07:18:15.298737</td>\n      <td>168688753</td>\n    </tr>\n    <tr>\n      <th>8326</th>\n      <td>32d4af90-9082-44b6-ad5c-b593b0ec740d</td>\n      <td>raw</td>\n      <td>8326</td>\n      <td>main</td>\n      <td>2020-02-11 16:21:29.539728</td>\n      <td>168688753</td>\n    </tr>\n    <tr>\n      <th>8327</th>\n      <td>e4896098-e8b3-4071-9dc3-4ed808896f65</td>\n      <td>raw</td>\n      <td>8327</td>\n      <td>catalog</td>\n      <td>2020-02-11 16:21:29.835502</td>\n      <td>168688753</td>\n    </tr>\n    <tr>\n      <th>8328</th>\n      <td>53fa162a-0c45-4286-8c38-d8a73b1bceb2</td>\n      <td>raw</td>\n      <td>8328</td>\n      <td>product2</td>\n      <td>2020-02-11 16:21:34.035051</td>\n      <td>168688753</td>\n    </tr>\n    <tr>\n      <th>8329</th>\n      <td>97532287-7792-4ed8-a18e-6bb4e4d778af</td>\n      <td>raw</td>\n      <td>8329</td>\n      <td>catalog</td>\n      <td>2020-02-11 16:21:46.686609</td>\n      <td>168688753</td>\n    </tr>\n    <tr>\n      <th>8330</th>\n      <td>e1d46d14-ff66-4fa0-a32f-084d65576532</td>\n      <td>raw</td>\n      <td>8330</td>\n      <td>main</td>\n      <td>2020-02-11 16:21:56.387275</td>\n      <td>168688753</td>\n    </tr>\n    <tr>\n      <th>8331</th>\n      <td>080190c8-9bf5-42e4-bb18-a48780aaa970</td>\n      <td>raw</td>\n      <td>8331</td>\n      <td>catalog</td>\n      <td>2020-02-11 16:22:03.651007</td>\n      <td>168688753</td>\n    </tr>\n    <tr>\n      <th>8332</th>\n      <td>96bea595-0069-4fbf-9738-65836b77de78</td>\n      <td>raw</td>\n      <td>8332</td>\n      <td>main</td>\n      <td>2020-02-11 16:22:19.734515</td>\n      <td>168688753</td>\n    </tr>\n    <tr>\n      <th>8333</th>\n      <td>b8a13e7a-3479-4b1d-b4fb-e2252cc79940</td>\n      <td>raw</td>\n      <td>8333</td>\n      <td>catalog</td>\n      <td>2020-02-11 16:22:23.720972</td>\n      <td>168688753</td>\n    </tr>\n    <tr>\n      <th>8334</th>\n      <td>a6fa2c61-fa2b-46a4-a92b-4cc8c14043b7</td>\n      <td>raw</td>\n      <td>8334</td>\n      <td>catalog</td>\n      <td>2020-02-11 16:23:41.190643</td>\n      <td>168688753</td>\n    </tr>\n    <tr>\n      <th>12501</th>\n      <td>f1fa94ff-cf42-4730-95ec-5e44cd4551ad</td>\n      <td>raw</td>\n      <td>12501</td>\n      <td>main</td>\n      <td>2020-03-15 06:02:34.952325</td>\n      <td>168688753</td>\n    </tr>\n    <tr>\n      <th>12502</th>\n      <td>90a488ae-dced-4c27-aa01-3af6e0974935</td>\n      <td>raw</td>\n      <td>12502</td>\n      <td>catalog</td>\n      <td>2020-03-15 06:02:38.509449</td>\n      <td>168688753</td>\n    </tr>\n    <tr>\n      <th>12503</th>\n      <td>2840922a-7e88-42b5-b3d4-3b3cdb02b25a</td>\n      <td>raw</td>\n      <td>12503</td>\n      <td>catalog</td>\n      <td>2020-03-15 06:02:50.447875</td>\n      <td>168688753</td>\n    </tr>\n    <tr>\n      <th>12504</th>\n      <td>5a2a1831-9de7-42e9-b490-f7263fa5d23e</td>\n      <td>raw</td>\n      <td>12504</td>\n      <td>catalog</td>\n      <td>2020-03-15 06:02:51.679230</td>\n      <td>168688753</td>\n    </tr>\n    <tr>\n      <th>12505</th>\n      <td>e4dbffdf-2fd0-44df-81f6-0b7f48dc8c5b</td>\n      <td>raw</td>\n      <td>12505</td>\n      <td>product1</td>\n      <td>2020-03-15 06:02:52.571970</td>\n      <td>168688753</td>\n    </tr>\n    <tr>\n      <th>12506</th>\n      <td>4bc16ad5-94a4-49b6-bc07-739c99955abd</td>\n      <td>raw</td>\n      <td>12506</td>\n      <td>cart</td>\n      <td>2020-03-15 06:03:09.277120</td>\n      <td>168688753</td>\n    </tr>\n  </tbody>\n</table>\n</div>"
     },
     "execution_count": 41,
     "metadata": {},
     "output_type": "execute_result"
    }
   ],
   "source": [
    "source_df[(source_df['user_id'] == check_id) ]"
   ],
   "metadata": {
    "collapsed": false,
    "pycharm": {
     "name": "#%%\n"
    }
   }
  },
  {
   "cell_type": "code",
   "execution_count": 41,
   "outputs": [],
   "source": [],
   "metadata": {
    "collapsed": false,
    "pycharm": {
     "name": "#%%\n"
    }
   }
  },
  {
   "cell_type": "markdown",
   "source": [
    "### Результат"
   ],
   "metadata": {
    "collapsed": false,
    "pycharm": {
     "name": "#%% md\n"
    }
   }
  },
  {
   "cell_type": "markdown",
   "source": [
    "1) [TODO] Ворнинги\n",
    "2) [DONE] Не работает обрезка\n",
    "3) [TODO] Медленная работа - оптимизация кода?\n",
    "4) [DONE] Неправильная работа, если задать несколько событий, обрезка происходит по последнему, а не по первому событию\n",
    "5) [DONE] протестировать сдвиги и минимальные траектории\n",
    "6) [TODO] неправильная работа soft_delete и создание ивентстрима (при копировании не пробрасываются старые айдишники у ивентов, а создаются новые, поэтому невозможно применить soft_delete к новому eventstream)"
   ],
   "metadata": {
    "collapsed": false,
    "pycharm": {
     "name": "#%% md\n"
    }
   }
  },
  {
   "cell_type": "code",
   "execution_count": 41,
   "outputs": [],
   "source": [],
   "metadata": {
    "collapsed": false,
    "pycharm": {
     "name": "#%%\n"
    }
   }
  },
  {
   "cell_type": "markdown",
   "source": [
    "# SplitSessions"
   ],
   "metadata": {
    "collapsed": false,
    "pycharm": {
     "name": "#%% md\n"
    }
   }
  },
  {
   "cell_type": "code",
   "execution_count": 42,
   "outputs": [
    {
     "name": "stderr",
     "output_type": "stream",
     "text": [
      "/Users/Daria/Dev/Retentioneering/retentioneering-tools-new-arch/examples/../src/data_processors_lib/rete/split_sessions.py:106: SettingWithCopyWarning: \n",
      "A value is trying to be set on a copy of a slice from a DataFrame.\n",
      "Try using .loc[row_indexer,col_indexer] = value instead\n",
      "\n",
      "See the caveats in the documentation: https://pandas.pydata.org/pandas-docs/stable/user_guide/indexing.html#returning-a-view-versus-a-copy\n",
      "  df_to_del_start.loc[:, 'ref'] = df_to_del_start.loc[:, eventstream.schema.event_id]\n",
      "/Users/Daria/Dev/Retentioneering/retentioneering-tools-new-arch/examples/../src/data_processors_lib/rete/split_sessions.py:107: SettingWithCopyWarning: \n",
      "A value is trying to be set on a copy of a slice from a DataFrame.\n",
      "Try using .loc[row_indexer,col_indexer] = value instead\n",
      "\n",
      "See the caveats in the documentation: https://pandas.pydata.org/pandas-docs/stable/user_guide/indexing.html#returning-a-view-versus-a-copy\n",
      "  df_to_del_end.loc[:, 'ref'] = df_to_del_end[eventstream.schema.event_id]\n"
     ]
    }
   ],
   "source": [
    "from src.data_processors_lib.rete import SplitSessions, SplitSessionsParams\n",
    "params = {\n",
    "    'session_cutoff': (1000, 's'),\n",
    "    'mark_truncated': True,\n",
    "    'session_col': 'session_id'\n",
    "}\n",
    "\n",
    "split_sessions = EventsNode(\n",
    "    SplitSessions(params=SplitSessionsParams(**params)))\n",
    "\n",
    "graph.add_node(\n",
    "    node=split_sessions,\n",
    "    parents=[graph.root]\n",
    ")\n",
    "\n",
    "result = graph.combine(\n",
    "    node=split_sessions\n",
    ")\n"
   ],
   "metadata": {
    "collapsed": false,
    "pycharm": {
     "name": "#%%\n"
    }
   }
  },
  {
   "cell_type": "code",
   "execution_count": 43,
   "outputs": [
    {
     "name": "stdout",
     "output_type": "stream",
     "text": [
      "0\n"
     ]
    },
    {
     "data": {
      "text/plain": "0"
     },
     "execution_count": 43,
     "metadata": {},
     "output_type": "execute_result"
    }
   ],
   "source": [
    "df10 = result.to_dataframe()\n",
    "print(source_df.duplicated(['event_name', 'event_timestamp', 'user_id']).sum())\n",
    "df10.duplicated(['event_name', 'event_timestamp', 'user_id']).sum()"
   ],
   "metadata": {
    "collapsed": false,
    "pycharm": {
     "name": "#%%\n"
    }
   }
  },
  {
   "cell_type": "code",
   "execution_count": 44,
   "outputs": [
    {
     "data": {
      "text/plain": "                                event_id     event_type  event_index  \\\n8   a04e65b5-5ff8-4d59-a739-9a7f0d0b2be8    session_end            8   \n9   17953bd4-a7e5-4e51-8b8d-551e70a6396d  session_start            9   \n10  ebf50876-5ca8-4e0f-9eb0-219f0119c12e            raw           10   \n11  f7aa792d-9ca6-4395-906f-1384b6564513            raw           11   \n12  03f2c95e-8880-4b92-afc0-c59f67b35274            raw           12   \n\n         event_name            event_timestamp      user_id  \n8       session_end 2019-11-01 17:59:32.557029  219483890.0  \n9     session_start 2019-11-01 21:38:19.283663  964964743.0  \n10          catalog 2019-11-01 21:38:19.283663  964964743.0  \n11             cart 2019-11-01 21:38:36.761221  964964743.0  \n12  delivery_choice 2019-11-01 21:38:37.564693  964964743.0  ",
      "text/html": "<div>\n<style scoped>\n    .dataframe tbody tr th:only-of-type {\n        vertical-align: middle;\n    }\n\n    .dataframe tbody tr th {\n        vertical-align: top;\n    }\n\n    .dataframe thead th {\n        text-align: right;\n    }\n</style>\n<table border=\"1\" class=\"dataframe\">\n  <thead>\n    <tr style=\"text-align: right;\">\n      <th></th>\n      <th>event_id</th>\n      <th>event_type</th>\n      <th>event_index</th>\n      <th>event_name</th>\n      <th>event_timestamp</th>\n      <th>user_id</th>\n    </tr>\n  </thead>\n  <tbody>\n    <tr>\n      <th>8</th>\n      <td>a04e65b5-5ff8-4d59-a739-9a7f0d0b2be8</td>\n      <td>session_end</td>\n      <td>8</td>\n      <td>session_end</td>\n      <td>2019-11-01 17:59:32.557029</td>\n      <td>219483890.0</td>\n    </tr>\n    <tr>\n      <th>9</th>\n      <td>17953bd4-a7e5-4e51-8b8d-551e70a6396d</td>\n      <td>session_start</td>\n      <td>9</td>\n      <td>session_start</td>\n      <td>2019-11-01 21:38:19.283663</td>\n      <td>964964743.0</td>\n    </tr>\n    <tr>\n      <th>10</th>\n      <td>ebf50876-5ca8-4e0f-9eb0-219f0119c12e</td>\n      <td>raw</td>\n      <td>10</td>\n      <td>catalog</td>\n      <td>2019-11-01 21:38:19.283663</td>\n      <td>964964743.0</td>\n    </tr>\n    <tr>\n      <th>11</th>\n      <td>f7aa792d-9ca6-4395-906f-1384b6564513</td>\n      <td>raw</td>\n      <td>11</td>\n      <td>cart</td>\n      <td>2019-11-01 21:38:36.761221</td>\n      <td>964964743.0</td>\n    </tr>\n    <tr>\n      <th>12</th>\n      <td>03f2c95e-8880-4b92-afc0-c59f67b35274</td>\n      <td>raw</td>\n      <td>12</td>\n      <td>delivery_choice</td>\n      <td>2019-11-01 21:38:37.564693</td>\n      <td>964964743.0</td>\n    </tr>\n  </tbody>\n</table>\n</div>"
     },
     "execution_count": 44,
     "metadata": {},
     "output_type": "execute_result"
    }
   ],
   "source": [
    "df10.head()"
   ],
   "metadata": {
    "collapsed": false,
    "pycharm": {
     "name": "#%%\n"
    }
   }
  },
  {
   "cell_type": "code",
   "execution_count": 45,
   "outputs": [
    {
     "data": {
      "text/plain": "raw              35358\nsession_start     6454\nsession_end       6452\nName: event_type, dtype: int64"
     },
     "execution_count": 45,
     "metadata": {},
     "output_type": "execute_result"
    }
   ],
   "source": [
    "df10['event_type'].value_counts()"
   ],
   "metadata": {
    "collapsed": false,
    "pycharm": {
     "name": "#%%\n"
    }
   }
  },
  {
   "cell_type": "code",
   "execution_count": 46,
   "outputs": [
    {
     "data": {
      "text/plain": "raw    35381\nName: event_type, dtype: int64"
     },
     "execution_count": 46,
     "metadata": {},
     "output_type": "execute_result"
    }
   ],
   "source": [
    "source_df['event_type'].value_counts()"
   ],
   "metadata": {
    "collapsed": false,
    "pycharm": {
     "name": "#%%\n"
    }
   }
  },
  {
   "cell_type": "code",
   "execution_count": 47,
   "outputs": [
    {
     "name": "stdout",
     "output_type": "stream",
     "text": [
      "20\n"
     ]
    },
    {
     "data": {
      "text/plain": "                                   event_id     event_type  event_index  \\\n8      a04e65b5-5ff8-4d59-a739-9a7f0d0b2be8    session_end            8   \n3074   9d6d4da6-5d3d-4acf-84ef-d1a8b6a88ce0  session_start         3074   \n3075   805c6238-8394-4d40-83b3-eb92788098b3            raw         3075   \n3076   c999843d-0bb9-4310-aacf-90f38d8ef845            raw         3076   \n3077   9c781fb1-495d-44a7-bf2e-a22f66738199            raw         3077   \n3078   c53b9014-8b05-4f57-b39a-7d864db1dc0a    session_end         3078   \n6723   67e015e2-61b4-4ff0-9a69-98f20248c655  session_start         6723   \n6724   ecc135b6-90e7-4e4d-aa4f-c23f4cf1faf6            raw         6724   \n6725   1eafc70e-220a-402a-8e30-fbede35d929f            raw         6725   \n6726   13113d76-04ae-4e6a-bd0b-3a19a148cd76            raw         6726   \n6727   4b308b86-3e86-4522-97be-9bb93aa6e5e5            raw         6727   \n6728   3c984611-3aea-491a-b3c1-527b273f9a18            raw         6728   \n6729   e210616e-f142-49d1-9669-445281705d9e            raw         6729   \n6730   ce364747-7f97-4471-a03a-938cfdf26598            raw         6730   \n6731   4ffe3a55-f9fc-4103-a572-961aaf2576b4    session_end         6731   \n12309  5e757f29-7ef8-4b66-8245-d9a97640b241  session_start        12309   \n12310  0bebb3ee-159c-46ce-b2a9-0d7f6e03258e            raw        12310   \n12311  6c9f5d65-320d-40a0-a4a7-ac176acf6fed            raw        12311   \n12312  c57198d7-7367-43ca-a99b-8511a59e91cf            raw        12312   \n12313  d60f043f-3977-4cef-b364-27c1709268cc    session_end        12313   \n\n          event_name            event_timestamp      user_id  \n8        session_end 2019-11-01 17:59:32.557029  219483890.0  \n3074   session_start 2019-12-06 16:22:57.484842  219483890.0  \n3075            main 2019-12-06 16:22:57.484842  219483890.0  \n3076         catalog 2019-12-06 16:23:01.331109  219483890.0  \n3077         catalog 2019-12-06 16:23:48.116617  219483890.0  \n3078     session_end 2019-12-06 16:23:48.116617  219483890.0  \n6723   session_start 2020-01-06 22:10:13.635011  219483890.0  \n6724            main 2020-01-06 22:10:13.635011  219483890.0  \n6725         catalog 2020-01-06 22:10:15.228575  219483890.0  \n6726            cart 2020-01-06 22:10:42.309028  219483890.0  \n6727         catalog 2020-01-06 22:10:52.255859  219483890.0  \n6728        product1 2020-01-06 22:11:01.709800  219483890.0  \n6729         catalog 2020-01-06 22:11:02.899490  219483890.0  \n6730         catalog 2020-01-06 22:11:28.271366  219483890.0  \n6731     session_end 2020-01-06 22:11:28.271366  219483890.0  \n12309  session_start 2020-02-14 21:04:49.450696  219483890.0  \n12310           main 2020-02-14 21:04:49.450696  219483890.0  \n12311        catalog 2020-02-14 21:04:51.717127  219483890.0  \n12312           lost 2020-02-14 21:04:52.717127  219483890.0  \n12313    session_end 2020-02-14 21:04:52.717127  219483890.0  ",
      "text/html": "<div>\n<style scoped>\n    .dataframe tbody tr th:only-of-type {\n        vertical-align: middle;\n    }\n\n    .dataframe tbody tr th {\n        vertical-align: top;\n    }\n\n    .dataframe thead th {\n        text-align: right;\n    }\n</style>\n<table border=\"1\" class=\"dataframe\">\n  <thead>\n    <tr style=\"text-align: right;\">\n      <th></th>\n      <th>event_id</th>\n      <th>event_type</th>\n      <th>event_index</th>\n      <th>event_name</th>\n      <th>event_timestamp</th>\n      <th>user_id</th>\n    </tr>\n  </thead>\n  <tbody>\n    <tr>\n      <th>8</th>\n      <td>a04e65b5-5ff8-4d59-a739-9a7f0d0b2be8</td>\n      <td>session_end</td>\n      <td>8</td>\n      <td>session_end</td>\n      <td>2019-11-01 17:59:32.557029</td>\n      <td>219483890.0</td>\n    </tr>\n    <tr>\n      <th>3074</th>\n      <td>9d6d4da6-5d3d-4acf-84ef-d1a8b6a88ce0</td>\n      <td>session_start</td>\n      <td>3074</td>\n      <td>session_start</td>\n      <td>2019-12-06 16:22:57.484842</td>\n      <td>219483890.0</td>\n    </tr>\n    <tr>\n      <th>3075</th>\n      <td>805c6238-8394-4d40-83b3-eb92788098b3</td>\n      <td>raw</td>\n      <td>3075</td>\n      <td>main</td>\n      <td>2019-12-06 16:22:57.484842</td>\n      <td>219483890.0</td>\n    </tr>\n    <tr>\n      <th>3076</th>\n      <td>c999843d-0bb9-4310-aacf-90f38d8ef845</td>\n      <td>raw</td>\n      <td>3076</td>\n      <td>catalog</td>\n      <td>2019-12-06 16:23:01.331109</td>\n      <td>219483890.0</td>\n    </tr>\n    <tr>\n      <th>3077</th>\n      <td>9c781fb1-495d-44a7-bf2e-a22f66738199</td>\n      <td>raw</td>\n      <td>3077</td>\n      <td>catalog</td>\n      <td>2019-12-06 16:23:48.116617</td>\n      <td>219483890.0</td>\n    </tr>\n    <tr>\n      <th>3078</th>\n      <td>c53b9014-8b05-4f57-b39a-7d864db1dc0a</td>\n      <td>session_end</td>\n      <td>3078</td>\n      <td>session_end</td>\n      <td>2019-12-06 16:23:48.116617</td>\n      <td>219483890.0</td>\n    </tr>\n    <tr>\n      <th>6723</th>\n      <td>67e015e2-61b4-4ff0-9a69-98f20248c655</td>\n      <td>session_start</td>\n      <td>6723</td>\n      <td>session_start</td>\n      <td>2020-01-06 22:10:13.635011</td>\n      <td>219483890.0</td>\n    </tr>\n    <tr>\n      <th>6724</th>\n      <td>ecc135b6-90e7-4e4d-aa4f-c23f4cf1faf6</td>\n      <td>raw</td>\n      <td>6724</td>\n      <td>main</td>\n      <td>2020-01-06 22:10:13.635011</td>\n      <td>219483890.0</td>\n    </tr>\n    <tr>\n      <th>6725</th>\n      <td>1eafc70e-220a-402a-8e30-fbede35d929f</td>\n      <td>raw</td>\n      <td>6725</td>\n      <td>catalog</td>\n      <td>2020-01-06 22:10:15.228575</td>\n      <td>219483890.0</td>\n    </tr>\n    <tr>\n      <th>6726</th>\n      <td>13113d76-04ae-4e6a-bd0b-3a19a148cd76</td>\n      <td>raw</td>\n      <td>6726</td>\n      <td>cart</td>\n      <td>2020-01-06 22:10:42.309028</td>\n      <td>219483890.0</td>\n    </tr>\n    <tr>\n      <th>6727</th>\n      <td>4b308b86-3e86-4522-97be-9bb93aa6e5e5</td>\n      <td>raw</td>\n      <td>6727</td>\n      <td>catalog</td>\n      <td>2020-01-06 22:10:52.255859</td>\n      <td>219483890.0</td>\n    </tr>\n    <tr>\n      <th>6728</th>\n      <td>3c984611-3aea-491a-b3c1-527b273f9a18</td>\n      <td>raw</td>\n      <td>6728</td>\n      <td>product1</td>\n      <td>2020-01-06 22:11:01.709800</td>\n      <td>219483890.0</td>\n    </tr>\n    <tr>\n      <th>6729</th>\n      <td>e210616e-f142-49d1-9669-445281705d9e</td>\n      <td>raw</td>\n      <td>6729</td>\n      <td>catalog</td>\n      <td>2020-01-06 22:11:02.899490</td>\n      <td>219483890.0</td>\n    </tr>\n    <tr>\n      <th>6730</th>\n      <td>ce364747-7f97-4471-a03a-938cfdf26598</td>\n      <td>raw</td>\n      <td>6730</td>\n      <td>catalog</td>\n      <td>2020-01-06 22:11:28.271366</td>\n      <td>219483890.0</td>\n    </tr>\n    <tr>\n      <th>6731</th>\n      <td>4ffe3a55-f9fc-4103-a572-961aaf2576b4</td>\n      <td>session_end</td>\n      <td>6731</td>\n      <td>session_end</td>\n      <td>2020-01-06 22:11:28.271366</td>\n      <td>219483890.0</td>\n    </tr>\n    <tr>\n      <th>12309</th>\n      <td>5e757f29-7ef8-4b66-8245-d9a97640b241</td>\n      <td>session_start</td>\n      <td>12309</td>\n      <td>session_start</td>\n      <td>2020-02-14 21:04:49.450696</td>\n      <td>219483890.0</td>\n    </tr>\n    <tr>\n      <th>12310</th>\n      <td>0bebb3ee-159c-46ce-b2a9-0d7f6e03258e</td>\n      <td>raw</td>\n      <td>12310</td>\n      <td>main</td>\n      <td>2020-02-14 21:04:49.450696</td>\n      <td>219483890.0</td>\n    </tr>\n    <tr>\n      <th>12311</th>\n      <td>6c9f5d65-320d-40a0-a4a7-ac176acf6fed</td>\n      <td>raw</td>\n      <td>12311</td>\n      <td>catalog</td>\n      <td>2020-02-14 21:04:51.717127</td>\n      <td>219483890.0</td>\n    </tr>\n    <tr>\n      <th>12312</th>\n      <td>c57198d7-7367-43ca-a99b-8511a59e91cf</td>\n      <td>raw</td>\n      <td>12312</td>\n      <td>lost</td>\n      <td>2020-02-14 21:04:52.717127</td>\n      <td>219483890.0</td>\n    </tr>\n    <tr>\n      <th>12313</th>\n      <td>d60f043f-3977-4cef-b364-27c1709268cc</td>\n      <td>session_end</td>\n      <td>12313</td>\n      <td>session_end</td>\n      <td>2020-02-14 21:04:52.717127</td>\n      <td>219483890.0</td>\n    </tr>\n  </tbody>\n</table>\n</div>"
     },
     "execution_count": 47,
     "metadata": {},
     "output_type": "execute_result"
    }
   ],
   "source": [
    "print(len(df10[df10['user_id'] == 219483890]))\n",
    "df10[df10['user_id'] == 219483890]"
   ],
   "metadata": {
    "collapsed": false,
    "pycharm": {
     "name": "#%%\n"
    }
   }
  },
  {
   "cell_type": "code",
   "execution_count": 48,
   "outputs": [
    {
     "name": "stdout",
     "output_type": "stream",
     "text": [
      "17\n"
     ]
    },
    {
     "data": {
      "text/plain": "                                  event_id event_type  event_index event_name  \\\n0     f7ebd5ed-9760-4227-a33b-01520d8a69fa        raw            0    catalog   \n1     5388c1af-b299-43a0-835d-486413372dca        raw            1   product1   \n2     0fd67b09-1bab-4a6a-a8b1-c5a53bd1758a        raw            2       cart   \n3     798c2959-32bd-43f5-8f6b-3e1739395624        raw            3    catalog   \n2245  805c6238-8394-4d40-83b3-eb92788098b3        raw         2245       main   \n2246  c999843d-0bb9-4310-aacf-90f38d8ef845        raw         2246    catalog   \n2247  9c781fb1-495d-44a7-bf2e-a22f66738199        raw         2247    catalog   \n4836  ecc135b6-90e7-4e4d-aa4f-c23f4cf1faf6        raw         4836       main   \n4837  1eafc70e-220a-402a-8e30-fbede35d929f        raw         4837    catalog   \n4838  13113d76-04ae-4e6a-bd0b-3a19a148cd76        raw         4838       cart   \n4839  4b308b86-3e86-4522-97be-9bb93aa6e5e5        raw         4839    catalog   \n4840  3c984611-3aea-491a-b3c1-527b273f9a18        raw         4840   product1   \n4841  e210616e-f142-49d1-9669-445281705d9e        raw         4841    catalog   \n4842  ce364747-7f97-4471-a03a-938cfdf26598        raw         4842    catalog   \n8736  0bebb3ee-159c-46ce-b2a9-0d7f6e03258e        raw         8736       main   \n8737  6c9f5d65-320d-40a0-a4a7-ac176acf6fed        raw         8737    catalog   \n8738  c57198d7-7367-43ca-a99b-8511a59e91cf        raw         8738       lost   \n\n                event_timestamp    user_id  \n0    2019-11-01 17:59:13.273932  219483890  \n1    2019-11-01 17:59:28.459271  219483890  \n2    2019-11-01 17:59:29.502214  219483890  \n3    2019-11-01 17:59:32.557029  219483890  \n2245 2019-12-06 16:22:57.484842  219483890  \n2246 2019-12-06 16:23:01.331109  219483890  \n2247 2019-12-06 16:23:48.116617  219483890  \n4836 2020-01-06 22:10:13.635011  219483890  \n4837 2020-01-06 22:10:15.228575  219483890  \n4838 2020-01-06 22:10:42.309028  219483890  \n4839 2020-01-06 22:10:52.255859  219483890  \n4840 2020-01-06 22:11:01.709800  219483890  \n4841 2020-01-06 22:11:02.899490  219483890  \n4842 2020-01-06 22:11:28.271366  219483890  \n8736 2020-02-14 21:04:49.450696  219483890  \n8737 2020-02-14 21:04:51.717127  219483890  \n8738 2020-02-14 21:04:52.717127  219483890  ",
      "text/html": "<div>\n<style scoped>\n    .dataframe tbody tr th:only-of-type {\n        vertical-align: middle;\n    }\n\n    .dataframe tbody tr th {\n        vertical-align: top;\n    }\n\n    .dataframe thead th {\n        text-align: right;\n    }\n</style>\n<table border=\"1\" class=\"dataframe\">\n  <thead>\n    <tr style=\"text-align: right;\">\n      <th></th>\n      <th>event_id</th>\n      <th>event_type</th>\n      <th>event_index</th>\n      <th>event_name</th>\n      <th>event_timestamp</th>\n      <th>user_id</th>\n    </tr>\n  </thead>\n  <tbody>\n    <tr>\n      <th>0</th>\n      <td>f7ebd5ed-9760-4227-a33b-01520d8a69fa</td>\n      <td>raw</td>\n      <td>0</td>\n      <td>catalog</td>\n      <td>2019-11-01 17:59:13.273932</td>\n      <td>219483890</td>\n    </tr>\n    <tr>\n      <th>1</th>\n      <td>5388c1af-b299-43a0-835d-486413372dca</td>\n      <td>raw</td>\n      <td>1</td>\n      <td>product1</td>\n      <td>2019-11-01 17:59:28.459271</td>\n      <td>219483890</td>\n    </tr>\n    <tr>\n      <th>2</th>\n      <td>0fd67b09-1bab-4a6a-a8b1-c5a53bd1758a</td>\n      <td>raw</td>\n      <td>2</td>\n      <td>cart</td>\n      <td>2019-11-01 17:59:29.502214</td>\n      <td>219483890</td>\n    </tr>\n    <tr>\n      <th>3</th>\n      <td>798c2959-32bd-43f5-8f6b-3e1739395624</td>\n      <td>raw</td>\n      <td>3</td>\n      <td>catalog</td>\n      <td>2019-11-01 17:59:32.557029</td>\n      <td>219483890</td>\n    </tr>\n    <tr>\n      <th>2245</th>\n      <td>805c6238-8394-4d40-83b3-eb92788098b3</td>\n      <td>raw</td>\n      <td>2245</td>\n      <td>main</td>\n      <td>2019-12-06 16:22:57.484842</td>\n      <td>219483890</td>\n    </tr>\n    <tr>\n      <th>2246</th>\n      <td>c999843d-0bb9-4310-aacf-90f38d8ef845</td>\n      <td>raw</td>\n      <td>2246</td>\n      <td>catalog</td>\n      <td>2019-12-06 16:23:01.331109</td>\n      <td>219483890</td>\n    </tr>\n    <tr>\n      <th>2247</th>\n      <td>9c781fb1-495d-44a7-bf2e-a22f66738199</td>\n      <td>raw</td>\n      <td>2247</td>\n      <td>catalog</td>\n      <td>2019-12-06 16:23:48.116617</td>\n      <td>219483890</td>\n    </tr>\n    <tr>\n      <th>4836</th>\n      <td>ecc135b6-90e7-4e4d-aa4f-c23f4cf1faf6</td>\n      <td>raw</td>\n      <td>4836</td>\n      <td>main</td>\n      <td>2020-01-06 22:10:13.635011</td>\n      <td>219483890</td>\n    </tr>\n    <tr>\n      <th>4837</th>\n      <td>1eafc70e-220a-402a-8e30-fbede35d929f</td>\n      <td>raw</td>\n      <td>4837</td>\n      <td>catalog</td>\n      <td>2020-01-06 22:10:15.228575</td>\n      <td>219483890</td>\n    </tr>\n    <tr>\n      <th>4838</th>\n      <td>13113d76-04ae-4e6a-bd0b-3a19a148cd76</td>\n      <td>raw</td>\n      <td>4838</td>\n      <td>cart</td>\n      <td>2020-01-06 22:10:42.309028</td>\n      <td>219483890</td>\n    </tr>\n    <tr>\n      <th>4839</th>\n      <td>4b308b86-3e86-4522-97be-9bb93aa6e5e5</td>\n      <td>raw</td>\n      <td>4839</td>\n      <td>catalog</td>\n      <td>2020-01-06 22:10:52.255859</td>\n      <td>219483890</td>\n    </tr>\n    <tr>\n      <th>4840</th>\n      <td>3c984611-3aea-491a-b3c1-527b273f9a18</td>\n      <td>raw</td>\n      <td>4840</td>\n      <td>product1</td>\n      <td>2020-01-06 22:11:01.709800</td>\n      <td>219483890</td>\n    </tr>\n    <tr>\n      <th>4841</th>\n      <td>e210616e-f142-49d1-9669-445281705d9e</td>\n      <td>raw</td>\n      <td>4841</td>\n      <td>catalog</td>\n      <td>2020-01-06 22:11:02.899490</td>\n      <td>219483890</td>\n    </tr>\n    <tr>\n      <th>4842</th>\n      <td>ce364747-7f97-4471-a03a-938cfdf26598</td>\n      <td>raw</td>\n      <td>4842</td>\n      <td>catalog</td>\n      <td>2020-01-06 22:11:28.271366</td>\n      <td>219483890</td>\n    </tr>\n    <tr>\n      <th>8736</th>\n      <td>0bebb3ee-159c-46ce-b2a9-0d7f6e03258e</td>\n      <td>raw</td>\n      <td>8736</td>\n      <td>main</td>\n      <td>2020-02-14 21:04:49.450696</td>\n      <td>219483890</td>\n    </tr>\n    <tr>\n      <th>8737</th>\n      <td>6c9f5d65-320d-40a0-a4a7-ac176acf6fed</td>\n      <td>raw</td>\n      <td>8737</td>\n      <td>catalog</td>\n      <td>2020-02-14 21:04:51.717127</td>\n      <td>219483890</td>\n    </tr>\n    <tr>\n      <th>8738</th>\n      <td>c57198d7-7367-43ca-a99b-8511a59e91cf</td>\n      <td>raw</td>\n      <td>8738</td>\n      <td>lost</td>\n      <td>2020-02-14 21:04:52.717127</td>\n      <td>219483890</td>\n    </tr>\n  </tbody>\n</table>\n</div>"
     },
     "execution_count": 48,
     "metadata": {},
     "output_type": "execute_result"
    }
   ],
   "source": [
    "print(len(source_df[source_df['user_id'] == 219483890]))\n",
    "source_df[source_df['user_id'] == 219483890]"
   ],
   "metadata": {
    "collapsed": false,
    "pycharm": {
     "name": "#%%\n"
    }
   }
  },
  {
   "cell_type": "code",
   "execution_count": 49,
   "outputs": [
    {
     "data": {
      "text/plain": "                                   event_id event_type  event_index  \\\n0      f7ebd5ed-9760-4227-a33b-01520d8a69fa        raw            0   \n1      5388c1af-b299-43a0-835d-486413372dca        raw            1   \n2      0fd67b09-1bab-4a6a-a8b1-c5a53bd1758a        raw            2   \n3      798c2959-32bd-43f5-8f6b-3e1739395624        raw            3   \n4      ebf50876-5ca8-4e0f-9eb0-219f0119c12e        raw            4   \n...                                     ...        ...          ...   \n35376  17405fa6-fcec-42b7-90e1-2367fbb8be4a        raw        35376   \n35377  9f8236d4-e5b2-431e-b578-38cc9b6f071c        raw        35377   \n35378  bf0c7d44-984e-4c0f-9664-0839ba3ce05e        raw        35378   \n35379  9f9bb713-b3b2-481b-9751-8b9f53abaedf        raw        35379   \n35380  859169f3-0676-4d20-8e1d-175cea33da80        raw        35380   \n\n      event_name            event_timestamp    user_id  \n0        catalog 2019-11-01 17:59:13.273932  219483890  \n1       product1 2019-11-01 17:59:28.459271  219483890  \n2           cart 2019-11-01 17:59:29.502214  219483890  \n3        catalog 2019-11-01 17:59:32.557029  219483890  \n4        catalog 2019-11-01 21:38:19.283663  964964743  \n...          ...                        ...        ...  \n35376    catalog 2020-04-29 12:47:40.975732  501098384  \n35377    catalog 2020-04-29 12:48:01.809577  501098384  \n35378       main 2020-04-29 12:48:01.938488  501098384  \n35379    catalog 2020-04-29 12:48:06.595390  501098384  \n35380       lost 2020-04-29 12:48:07.595390  501098384  \n\n[35381 rows x 6 columns]",
      "text/html": "<div>\n<style scoped>\n    .dataframe tbody tr th:only-of-type {\n        vertical-align: middle;\n    }\n\n    .dataframe tbody tr th {\n        vertical-align: top;\n    }\n\n    .dataframe thead th {\n        text-align: right;\n    }\n</style>\n<table border=\"1\" class=\"dataframe\">\n  <thead>\n    <tr style=\"text-align: right;\">\n      <th></th>\n      <th>event_id</th>\n      <th>event_type</th>\n      <th>event_index</th>\n      <th>event_name</th>\n      <th>event_timestamp</th>\n      <th>user_id</th>\n    </tr>\n  </thead>\n  <tbody>\n    <tr>\n      <th>0</th>\n      <td>f7ebd5ed-9760-4227-a33b-01520d8a69fa</td>\n      <td>raw</td>\n      <td>0</td>\n      <td>catalog</td>\n      <td>2019-11-01 17:59:13.273932</td>\n      <td>219483890</td>\n    </tr>\n    <tr>\n      <th>1</th>\n      <td>5388c1af-b299-43a0-835d-486413372dca</td>\n      <td>raw</td>\n      <td>1</td>\n      <td>product1</td>\n      <td>2019-11-01 17:59:28.459271</td>\n      <td>219483890</td>\n    </tr>\n    <tr>\n      <th>2</th>\n      <td>0fd67b09-1bab-4a6a-a8b1-c5a53bd1758a</td>\n      <td>raw</td>\n      <td>2</td>\n      <td>cart</td>\n      <td>2019-11-01 17:59:29.502214</td>\n      <td>219483890</td>\n    </tr>\n    <tr>\n      <th>3</th>\n      <td>798c2959-32bd-43f5-8f6b-3e1739395624</td>\n      <td>raw</td>\n      <td>3</td>\n      <td>catalog</td>\n      <td>2019-11-01 17:59:32.557029</td>\n      <td>219483890</td>\n    </tr>\n    <tr>\n      <th>4</th>\n      <td>ebf50876-5ca8-4e0f-9eb0-219f0119c12e</td>\n      <td>raw</td>\n      <td>4</td>\n      <td>catalog</td>\n      <td>2019-11-01 21:38:19.283663</td>\n      <td>964964743</td>\n    </tr>\n    <tr>\n      <th>...</th>\n      <td>...</td>\n      <td>...</td>\n      <td>...</td>\n      <td>...</td>\n      <td>...</td>\n      <td>...</td>\n    </tr>\n    <tr>\n      <th>35376</th>\n      <td>17405fa6-fcec-42b7-90e1-2367fbb8be4a</td>\n      <td>raw</td>\n      <td>35376</td>\n      <td>catalog</td>\n      <td>2020-04-29 12:47:40.975732</td>\n      <td>501098384</td>\n    </tr>\n    <tr>\n      <th>35377</th>\n      <td>9f8236d4-e5b2-431e-b578-38cc9b6f071c</td>\n      <td>raw</td>\n      <td>35377</td>\n      <td>catalog</td>\n      <td>2020-04-29 12:48:01.809577</td>\n      <td>501098384</td>\n    </tr>\n    <tr>\n      <th>35378</th>\n      <td>bf0c7d44-984e-4c0f-9664-0839ba3ce05e</td>\n      <td>raw</td>\n      <td>35378</td>\n      <td>main</td>\n      <td>2020-04-29 12:48:01.938488</td>\n      <td>501098384</td>\n    </tr>\n    <tr>\n      <th>35379</th>\n      <td>9f9bb713-b3b2-481b-9751-8b9f53abaedf</td>\n      <td>raw</td>\n      <td>35379</td>\n      <td>catalog</td>\n      <td>2020-04-29 12:48:06.595390</td>\n      <td>501098384</td>\n    </tr>\n    <tr>\n      <th>35380</th>\n      <td>859169f3-0676-4d20-8e1d-175cea33da80</td>\n      <td>raw</td>\n      <td>35380</td>\n      <td>lost</td>\n      <td>2020-04-29 12:48:07.595390</td>\n      <td>501098384</td>\n    </tr>\n  </tbody>\n</table>\n<p>35381 rows × 6 columns</p>\n</div>"
     },
     "execution_count": 49,
     "metadata": {},
     "output_type": "execute_result"
    }
   ],
   "source": [
    "source.to_dataframe()"
   ],
   "metadata": {
    "collapsed": false,
    "pycharm": {
     "name": "#%%\n"
    }
   }
  },
  {
   "cell_type": "markdown",
   "source": [
    "## Результат"
   ],
   "metadata": {
    "collapsed": false,
    "pycharm": {
     "name": "#%% md\n"
    }
   }
  },
  {
   "cell_type": "markdown",
   "source": [
    "1) [DONE] Дубликаты\n",
    "2) [DONE] Некорректно работает параметр \"Mark_truncated\" - должны удалиться все события, кроме Start и end_session для сессий обрезанных сначала и end и start_session для сессий обрезанных в конце\n",
    "3) [TODO] Не добавляется колонка session_id\n",
    "4) [TODO] более точно проверить разбивку на сессии\n",
    "5) [TODO] Ворнинги\n",
    "6) [TODO] Протестить при последовательном добавлении\n",
    "7) [TODO] неправильная работа soft_delete и создание ивентстрима (при копировании не пробрасываются старые айдишники у ивентов, а создаются новые, поэтому невозможно применить soft_delete к новому eventstream)\n",
    "\n",
    "Обсудить с ВОлодей\n",
    "- нужен ли параметр - какие типы событий удалять?\n"
   ],
   "metadata": {
    "collapsed": false,
    "pycharm": {
     "name": "#%% md\n"
    }
   }
  },
  {
   "cell_type": "markdown",
   "source": [
    "# CutPathBefore"
   ],
   "metadata": {
    "collapsed": false,
    "pycharm": {
     "name": "#%% md\n"
    }
   }
  },
  {
   "cell_type": "markdown",
   "source": [
    "### Описание работы функции"
   ],
   "metadata": {
    "collapsed": false,
    "pycharm": {
     "name": "#%% md\n"
    }
   }
  },
  {
   "cell_type": "markdown",
   "source": [
    "Обрезает eventstream сразу после одного из событий, указанных в списке cutoff_events (первого в траектории). Остается часть траектории, после первого найденного события из списка включительно.\n",
    "\n",
    "Параметры:\n",
    "```cut_shift``` - смещение относительно обозначенного в сторону сокращения  (вправо)\n",
    "```min_cjm``` - минимальное кол-во событий в траектории, которые надо оставить, если в траектории меньшее количество событий, то они будут удалены\n"
   ],
   "metadata": {
    "collapsed": false,
    "pycharm": {
     "name": "#%% md\n"
    }
   }
  },
  {
   "cell_type": "markdown",
   "source": [
    "### 1 событие"
   ],
   "metadata": {
    "collapsed": false,
    "pycharm": {
     "name": "#%% md\n"
    }
   }
  },
  {
   "cell_type": "code",
   "execution_count": 50,
   "outputs": [
    {
     "name": "stderr",
     "output_type": "stream",
     "text": [
      "/Users/Daria/Dev/Retentioneering/retentioneering-tools-new-arch/examples/../src/data_processors_lib/rete/cut_path_before_event.py:52: SettingWithCopyWarning: \n",
      "A value is trying to be set on a copy of a slice from a DataFrame.\n",
      "Try using .loc[row_indexer,col_indexer] = value instead\n",
      "\n",
      "See the caveats in the documentation: https://pandas.pydata.org/pandas-docs/stable/user_guide/indexing.html#returning-a-view-versus-a-copy\n",
      "  df_cut['num_groups'] = df_cut.groupby([user_col])[time_col].transform(\n",
      "/Users/Daria/Dev/Retentioneering/retentioneering-tools-new-arch/examples/../src/data_processors_lib/rete/cut_path_before_event.py:68: SettingWithCopyWarning: \n",
      "A value is trying to be set on a copy of a slice from a DataFrame.\n",
      "Try using .loc[row_indexer,col_indexer] = value instead\n",
      "\n",
      "See the caveats in the documentation: https://pandas.pydata.org/pandas-docs/stable/user_guide/indexing.html#returning-a-view-versus-a-copy\n",
      "  df_to_del['ref'] = df_to_del[eventstream.schema.event_id]\n"
     ]
    }
   ],
   "source": [
    "from src.data_processors_lib.rete import CutPathBeforeEvent, CutPathBeforeEventParams\n",
    "params = {\n",
    "    'cutoff_events': ['product2'],\n",
    "    'cut_shift': 0,\n",
    "    'min_cjm': 0\n",
    "}\n",
    "\n",
    "cut_before = EventsNode(\n",
    "    CutPathBeforeEvent(params=CutPathBeforeEventParams(**params)))\n",
    "\n",
    "graph.add_node(\n",
    "    node=cut_before,\n",
    "    parents=[graph.root]\n",
    ")\n",
    "\n",
    "result = graph.combine(\n",
    "    node=cut_before\n",
    ")\n"
   ],
   "metadata": {
    "collapsed": false,
    "pycharm": {
     "name": "#%%\n"
    }
   }
  },
  {
   "cell_type": "code",
   "execution_count": 51,
   "outputs": [
    {
     "name": "stdout",
     "output_type": "stream",
     "text": [
      "0\n"
     ]
    },
    {
     "data": {
      "text/plain": "0"
     },
     "execution_count": 51,
     "metadata": {},
     "output_type": "execute_result"
    }
   ],
   "source": [
    "df91 = result.to_dataframe()\n",
    "print(source_df.duplicated(['event_name', 'event_timestamp', 'user_id']).sum())\n",
    "df91.duplicated(['event_name', 'event_timestamp', 'user_id']).sum()"
   ],
   "metadata": {
    "collapsed": false,
    "pycharm": {
     "name": "#%%\n"
    }
   }
  },
  {
   "cell_type": "code",
   "execution_count": 52,
   "outputs": [
    {
     "data": {
      "text/plain": "raw    14669\nName: event_type, dtype: int64"
     },
     "execution_count": 52,
     "metadata": {},
     "output_type": "execute_result"
    }
   ],
   "source": [
    "df91['event_type'].value_counts()"
   ],
   "metadata": {
    "collapsed": false,
    "pycharm": {
     "name": "#%%\n"
    }
   }
  },
  {
   "cell_type": "code",
   "execution_count": 53,
   "outputs": [
    {
     "data": {
      "text/plain": "raw    35381\nName: event_type, dtype: int64"
     },
     "execution_count": 53,
     "metadata": {},
     "output_type": "execute_result"
    }
   ],
   "source": [
    "source_df['event_type'].value_counts()"
   ],
   "metadata": {
    "collapsed": false,
    "pycharm": {
     "name": "#%%\n"
    }
   }
  },
  {
   "cell_type": "code",
   "execution_count": 54,
   "outputs": [
    {
     "data": {
      "text/plain": "1430"
     },
     "execution_count": 54,
     "metadata": {},
     "output_type": "execute_result"
    }
   ],
   "source": [
    "source_df[source_df['event_name'] == 'product2']['user_id'].nunique()"
   ],
   "metadata": {
    "collapsed": false,
    "pycharm": {
     "name": "#%%\n"
    }
   }
  },
  {
   "cell_type": "code",
   "execution_count": 55,
   "outputs": [
    {
     "name": "stdout",
     "output_type": "stream",
     "text": [
      "Новая длина траектории -  48\n",
      "Старая длина траектории -  36\n"
     ]
    }
   ],
   "source": [
    "check_id = 629881394\n",
    "# product2 встречается дважды\n",
    "print('Новая длина траектории - ', len(source_df[source_df['user_id'] == check_id]))\n",
    "print('Старая длина траектории - ', len(df91[df91['user_id'] == check_id]))\n",
    "\n",
    "event_time = source_df[(source_df['user_id'] == check_id) & \\\n",
    "    (source_df['event_name'] == 'product2')]['event_timestamp'].min()"
   ],
   "metadata": {
    "collapsed": false,
    "pycharm": {
     "name": "#%%\n"
    }
   }
  },
  {
   "cell_type": "code",
   "execution_count": 56,
   "outputs": [
    {
     "data": {
      "text/plain": "                                   event_id event_type  event_index  \\\n44     a2743119-14b8-498e-abba-fe8f40021b53        raw           44   \n45     36a74849-c923-434b-ab1b-c49c813d6b14        raw           45   \n46     b9e72bd3-b08d-4107-bb3d-c85cb02ccead        raw           46   \n47     7c0023c7-cc16-4089-9f80-f42077e34d98        raw           47   \n50     aaf77e10-0adf-4b3f-9f41-4c7cd66b5b4e        raw           50   \n53     83db7c69-1bfe-4cb0-a40a-bffc5d24159d        raw           53   \n55     ad448920-16e6-4a36-975a-abec4b3e0e6c        raw           55   \n57     a9e4d43c-5a97-442b-88c0-9afa15380323        raw           57   \n60     ba54d47e-8105-4e04-a055-ef473719a441        raw           60   \n62     e980bc98-8cee-4ca5-a062-887f1be61956        raw           62   \n63     0675c4c2-7948-4f09-8d8c-40a70d2e4e09        raw           63   \n66     4059ef03-5ad5-4875-aa0d-5b26e4975b0a        raw           66   \n68     5364be2e-1b37-4be6-a64a-a228f66a791f        raw           68   \n69     b4820e2f-bab8-43e7-9e01-685c40f2afd4        raw           69   \n535    bee80162-926b-4415-8c7d-9b32e2e73c4a        raw          535   \n537    07ef4506-038c-4a9f-8dc6-2ef0efad6155        raw          537   \n540    313d0215-ffb5-4ad2-a46d-cf2030b0a6f0        raw          540   \n2236   617be453-f58e-4f3f-8666-2ac66802e4e5        raw         2236   \n2237   fdb704b6-50be-46c6-9e70-f22e14ffd60c        raw         2237   \n2238   623656eb-27f8-4793-9bc9-b38bcefc2115        raw         2238   \n9999   121b2ff8-260b-4761-bcea-34e1d80e725f        raw         9999   \n10000  7a5bfa80-0439-4329-8001-8ad06dd2e966        raw        10000   \n16570  9061906d-35dd-4dc1-91c4-94f3ab40c403        raw        16570   \n16571  c6459098-290e-4f4c-b555-1d82c972caa3        raw        16571   \n16572  6cc80b7b-98b8-4e8a-9e1f-358811079426        raw        16572   \n17722  7e83e766-edd7-4f67-ae94-b9d8cdc58c3f        raw        17722   \n17723  8873103c-edcd-45d2-990e-d501b4032988        raw        17723   \n21231  c5e7f62d-bf2f-44cf-b2da-449a140afd2e        raw        21231   \n21232  85b596b0-bbc0-49b6-b418-0bad3ab50944        raw        21232   \n22027  9893a16a-2418-49c0-a191-67bee3aff406        raw        22027   \n22072  39a85524-7c26-42b4-a24e-d70d89671624        raw        22072   \n22073  b45a14fa-4afa-4a0d-b7b1-c3feba876b82        raw        22073   \n22074  539e36de-0913-4b8e-abf3-2be5ea76a608        raw        22074   \n22075  7313ce4e-130b-466a-bb71-2a07baaae179        raw        22075   \n22076  660dcf90-3a7d-4d50-9e28-b7082f8eb522        raw        22076   \n22077  3f4f61d6-9fb8-489f-ab34-f3de85919fce        raw        22077   \n\n             event_name            event_timestamp      user_id  \n44             product2 2019-11-01 22:32:16.496241  629881394.0  \n45              catalog 2019-11-01 22:33:17.682468  629881394.0  \n46             product1 2019-11-01 22:33:19.961115  629881394.0  \n47              catalog 2019-11-01 22:33:35.460345  629881394.0  \n50              catalog 2019-11-01 22:34:02.301293  629881394.0  \n53             product2 2019-11-01 22:34:32.362386  629881394.0  \n55              catalog 2019-11-01 22:35:01.462515  629881394.0  \n57             product2 2019-11-01 22:35:33.142711  629881394.0  \n60                 cart 2019-11-01 22:35:50.437706  629881394.0  \n62      delivery_choice 2019-11-01 22:35:57.649549  629881394.0  \n63     delivery_courier 2019-11-01 22:36:02.009271  629881394.0  \n66       payment_choice 2019-11-01 22:36:02.243274  629881394.0  \n68         payment_cash 2019-11-01 22:36:03.415201  629881394.0  \n69         payment_done 2019-11-01 22:36:03.999697  629881394.0  \n535                main 2019-11-07 12:40:46.004674  629881394.0  \n537             catalog 2019-11-07 12:40:55.724185  629881394.0  \n540                cart 2019-11-07 12:41:04.107187  629881394.0  \n2236               main 2019-11-25 23:16:56.317624  629881394.0  \n2237            catalog 2019-11-25 23:17:16.266242  629881394.0  \n2238            catalog 2019-11-25 23:17:48.747304  629881394.0  \n9999               main 2020-01-23 18:56:23.445236  629881394.0  \n10000           catalog 2020-01-23 18:56:30.461624  629881394.0  \n16570              main 2020-03-01 23:23:43.392597  629881394.0  \n16571           catalog 2020-03-01 23:23:44.755693  629881394.0  \n16572              main 2020-03-01 23:23:51.625991  629881394.0  \n17722              main 2020-03-07 12:05:23.938242  629881394.0  \n17723           catalog 2020-03-07 12:05:32.476046  629881394.0  \n21231              main 2020-03-26 13:00:47.844886  629881394.0  \n21232           catalog 2020-03-26 13:00:49.531644  629881394.0  \n22027              main 2020-03-30 00:11:47.920536  629881394.0  \n22072              main 2020-03-30 03:17:46.909845  629881394.0  \n22073           catalog 2020-03-30 03:17:49.918774  629881394.0  \n22074           catalog 2020-03-30 03:18:17.835191  629881394.0  \n22075           catalog 2020-03-30 03:18:53.715887  629881394.0  \n22076           catalog 2020-03-30 03:19:36.034262  629881394.0  \n22077           catalog 2020-03-30 03:19:59.515094  629881394.0  ",
      "text/html": "<div>\n<style scoped>\n    .dataframe tbody tr th:only-of-type {\n        vertical-align: middle;\n    }\n\n    .dataframe tbody tr th {\n        vertical-align: top;\n    }\n\n    .dataframe thead th {\n        text-align: right;\n    }\n</style>\n<table border=\"1\" class=\"dataframe\">\n  <thead>\n    <tr style=\"text-align: right;\">\n      <th></th>\n      <th>event_id</th>\n      <th>event_type</th>\n      <th>event_index</th>\n      <th>event_name</th>\n      <th>event_timestamp</th>\n      <th>user_id</th>\n    </tr>\n  </thead>\n  <tbody>\n    <tr>\n      <th>44</th>\n      <td>a2743119-14b8-498e-abba-fe8f40021b53</td>\n      <td>raw</td>\n      <td>44</td>\n      <td>product2</td>\n      <td>2019-11-01 22:32:16.496241</td>\n      <td>629881394.0</td>\n    </tr>\n    <tr>\n      <th>45</th>\n      <td>36a74849-c923-434b-ab1b-c49c813d6b14</td>\n      <td>raw</td>\n      <td>45</td>\n      <td>catalog</td>\n      <td>2019-11-01 22:33:17.682468</td>\n      <td>629881394.0</td>\n    </tr>\n    <tr>\n      <th>46</th>\n      <td>b9e72bd3-b08d-4107-bb3d-c85cb02ccead</td>\n      <td>raw</td>\n      <td>46</td>\n      <td>product1</td>\n      <td>2019-11-01 22:33:19.961115</td>\n      <td>629881394.0</td>\n    </tr>\n    <tr>\n      <th>47</th>\n      <td>7c0023c7-cc16-4089-9f80-f42077e34d98</td>\n      <td>raw</td>\n      <td>47</td>\n      <td>catalog</td>\n      <td>2019-11-01 22:33:35.460345</td>\n      <td>629881394.0</td>\n    </tr>\n    <tr>\n      <th>50</th>\n      <td>aaf77e10-0adf-4b3f-9f41-4c7cd66b5b4e</td>\n      <td>raw</td>\n      <td>50</td>\n      <td>catalog</td>\n      <td>2019-11-01 22:34:02.301293</td>\n      <td>629881394.0</td>\n    </tr>\n    <tr>\n      <th>53</th>\n      <td>83db7c69-1bfe-4cb0-a40a-bffc5d24159d</td>\n      <td>raw</td>\n      <td>53</td>\n      <td>product2</td>\n      <td>2019-11-01 22:34:32.362386</td>\n      <td>629881394.0</td>\n    </tr>\n    <tr>\n      <th>55</th>\n      <td>ad448920-16e6-4a36-975a-abec4b3e0e6c</td>\n      <td>raw</td>\n      <td>55</td>\n      <td>catalog</td>\n      <td>2019-11-01 22:35:01.462515</td>\n      <td>629881394.0</td>\n    </tr>\n    <tr>\n      <th>57</th>\n      <td>a9e4d43c-5a97-442b-88c0-9afa15380323</td>\n      <td>raw</td>\n      <td>57</td>\n      <td>product2</td>\n      <td>2019-11-01 22:35:33.142711</td>\n      <td>629881394.0</td>\n    </tr>\n    <tr>\n      <th>60</th>\n      <td>ba54d47e-8105-4e04-a055-ef473719a441</td>\n      <td>raw</td>\n      <td>60</td>\n      <td>cart</td>\n      <td>2019-11-01 22:35:50.437706</td>\n      <td>629881394.0</td>\n    </tr>\n    <tr>\n      <th>62</th>\n      <td>e980bc98-8cee-4ca5-a062-887f1be61956</td>\n      <td>raw</td>\n      <td>62</td>\n      <td>delivery_choice</td>\n      <td>2019-11-01 22:35:57.649549</td>\n      <td>629881394.0</td>\n    </tr>\n    <tr>\n      <th>63</th>\n      <td>0675c4c2-7948-4f09-8d8c-40a70d2e4e09</td>\n      <td>raw</td>\n      <td>63</td>\n      <td>delivery_courier</td>\n      <td>2019-11-01 22:36:02.009271</td>\n      <td>629881394.0</td>\n    </tr>\n    <tr>\n      <th>66</th>\n      <td>4059ef03-5ad5-4875-aa0d-5b26e4975b0a</td>\n      <td>raw</td>\n      <td>66</td>\n      <td>payment_choice</td>\n      <td>2019-11-01 22:36:02.243274</td>\n      <td>629881394.0</td>\n    </tr>\n    <tr>\n      <th>68</th>\n      <td>5364be2e-1b37-4be6-a64a-a228f66a791f</td>\n      <td>raw</td>\n      <td>68</td>\n      <td>payment_cash</td>\n      <td>2019-11-01 22:36:03.415201</td>\n      <td>629881394.0</td>\n    </tr>\n    <tr>\n      <th>69</th>\n      <td>b4820e2f-bab8-43e7-9e01-685c40f2afd4</td>\n      <td>raw</td>\n      <td>69</td>\n      <td>payment_done</td>\n      <td>2019-11-01 22:36:03.999697</td>\n      <td>629881394.0</td>\n    </tr>\n    <tr>\n      <th>535</th>\n      <td>bee80162-926b-4415-8c7d-9b32e2e73c4a</td>\n      <td>raw</td>\n      <td>535</td>\n      <td>main</td>\n      <td>2019-11-07 12:40:46.004674</td>\n      <td>629881394.0</td>\n    </tr>\n    <tr>\n      <th>537</th>\n      <td>07ef4506-038c-4a9f-8dc6-2ef0efad6155</td>\n      <td>raw</td>\n      <td>537</td>\n      <td>catalog</td>\n      <td>2019-11-07 12:40:55.724185</td>\n      <td>629881394.0</td>\n    </tr>\n    <tr>\n      <th>540</th>\n      <td>313d0215-ffb5-4ad2-a46d-cf2030b0a6f0</td>\n      <td>raw</td>\n      <td>540</td>\n      <td>cart</td>\n      <td>2019-11-07 12:41:04.107187</td>\n      <td>629881394.0</td>\n    </tr>\n    <tr>\n      <th>2236</th>\n      <td>617be453-f58e-4f3f-8666-2ac66802e4e5</td>\n      <td>raw</td>\n      <td>2236</td>\n      <td>main</td>\n      <td>2019-11-25 23:16:56.317624</td>\n      <td>629881394.0</td>\n    </tr>\n    <tr>\n      <th>2237</th>\n      <td>fdb704b6-50be-46c6-9e70-f22e14ffd60c</td>\n      <td>raw</td>\n      <td>2237</td>\n      <td>catalog</td>\n      <td>2019-11-25 23:17:16.266242</td>\n      <td>629881394.0</td>\n    </tr>\n    <tr>\n      <th>2238</th>\n      <td>623656eb-27f8-4793-9bc9-b38bcefc2115</td>\n      <td>raw</td>\n      <td>2238</td>\n      <td>catalog</td>\n      <td>2019-11-25 23:17:48.747304</td>\n      <td>629881394.0</td>\n    </tr>\n    <tr>\n      <th>9999</th>\n      <td>121b2ff8-260b-4761-bcea-34e1d80e725f</td>\n      <td>raw</td>\n      <td>9999</td>\n      <td>main</td>\n      <td>2020-01-23 18:56:23.445236</td>\n      <td>629881394.0</td>\n    </tr>\n    <tr>\n      <th>10000</th>\n      <td>7a5bfa80-0439-4329-8001-8ad06dd2e966</td>\n      <td>raw</td>\n      <td>10000</td>\n      <td>catalog</td>\n      <td>2020-01-23 18:56:30.461624</td>\n      <td>629881394.0</td>\n    </tr>\n    <tr>\n      <th>16570</th>\n      <td>9061906d-35dd-4dc1-91c4-94f3ab40c403</td>\n      <td>raw</td>\n      <td>16570</td>\n      <td>main</td>\n      <td>2020-03-01 23:23:43.392597</td>\n      <td>629881394.0</td>\n    </tr>\n    <tr>\n      <th>16571</th>\n      <td>c6459098-290e-4f4c-b555-1d82c972caa3</td>\n      <td>raw</td>\n      <td>16571</td>\n      <td>catalog</td>\n      <td>2020-03-01 23:23:44.755693</td>\n      <td>629881394.0</td>\n    </tr>\n    <tr>\n      <th>16572</th>\n      <td>6cc80b7b-98b8-4e8a-9e1f-358811079426</td>\n      <td>raw</td>\n      <td>16572</td>\n      <td>main</td>\n      <td>2020-03-01 23:23:51.625991</td>\n      <td>629881394.0</td>\n    </tr>\n    <tr>\n      <th>17722</th>\n      <td>7e83e766-edd7-4f67-ae94-b9d8cdc58c3f</td>\n      <td>raw</td>\n      <td>17722</td>\n      <td>main</td>\n      <td>2020-03-07 12:05:23.938242</td>\n      <td>629881394.0</td>\n    </tr>\n    <tr>\n      <th>17723</th>\n      <td>8873103c-edcd-45d2-990e-d501b4032988</td>\n      <td>raw</td>\n      <td>17723</td>\n      <td>catalog</td>\n      <td>2020-03-07 12:05:32.476046</td>\n      <td>629881394.0</td>\n    </tr>\n    <tr>\n      <th>21231</th>\n      <td>c5e7f62d-bf2f-44cf-b2da-449a140afd2e</td>\n      <td>raw</td>\n      <td>21231</td>\n      <td>main</td>\n      <td>2020-03-26 13:00:47.844886</td>\n      <td>629881394.0</td>\n    </tr>\n    <tr>\n      <th>21232</th>\n      <td>85b596b0-bbc0-49b6-b418-0bad3ab50944</td>\n      <td>raw</td>\n      <td>21232</td>\n      <td>catalog</td>\n      <td>2020-03-26 13:00:49.531644</td>\n      <td>629881394.0</td>\n    </tr>\n    <tr>\n      <th>22027</th>\n      <td>9893a16a-2418-49c0-a191-67bee3aff406</td>\n      <td>raw</td>\n      <td>22027</td>\n      <td>main</td>\n      <td>2020-03-30 00:11:47.920536</td>\n      <td>629881394.0</td>\n    </tr>\n    <tr>\n      <th>22072</th>\n      <td>39a85524-7c26-42b4-a24e-d70d89671624</td>\n      <td>raw</td>\n      <td>22072</td>\n      <td>main</td>\n      <td>2020-03-30 03:17:46.909845</td>\n      <td>629881394.0</td>\n    </tr>\n    <tr>\n      <th>22073</th>\n      <td>b45a14fa-4afa-4a0d-b7b1-c3feba876b82</td>\n      <td>raw</td>\n      <td>22073</td>\n      <td>catalog</td>\n      <td>2020-03-30 03:17:49.918774</td>\n      <td>629881394.0</td>\n    </tr>\n    <tr>\n      <th>22074</th>\n      <td>539e36de-0913-4b8e-abf3-2be5ea76a608</td>\n      <td>raw</td>\n      <td>22074</td>\n      <td>catalog</td>\n      <td>2020-03-30 03:18:17.835191</td>\n      <td>629881394.0</td>\n    </tr>\n    <tr>\n      <th>22075</th>\n      <td>7313ce4e-130b-466a-bb71-2a07baaae179</td>\n      <td>raw</td>\n      <td>22075</td>\n      <td>catalog</td>\n      <td>2020-03-30 03:18:53.715887</td>\n      <td>629881394.0</td>\n    </tr>\n    <tr>\n      <th>22076</th>\n      <td>660dcf90-3a7d-4d50-9e28-b7082f8eb522</td>\n      <td>raw</td>\n      <td>22076</td>\n      <td>catalog</td>\n      <td>2020-03-30 03:19:36.034262</td>\n      <td>629881394.0</td>\n    </tr>\n    <tr>\n      <th>22077</th>\n      <td>3f4f61d6-9fb8-489f-ab34-f3de85919fce</td>\n      <td>raw</td>\n      <td>22077</td>\n      <td>catalog</td>\n      <td>2020-03-30 03:19:59.515094</td>\n      <td>629881394.0</td>\n    </tr>\n  </tbody>\n</table>\n</div>"
     },
     "execution_count": 56,
     "metadata": {},
     "output_type": "execute_result"
    }
   ],
   "source": [
    "df91[df91['user_id'] == check_id]"
   ],
   "metadata": {
    "collapsed": false,
    "pycharm": {
     "name": "#%%\n"
    }
   }
  },
  {
   "cell_type": "code",
   "execution_count": 57,
   "outputs": [
    {
     "data": {
      "text/plain": "                                   event_id event_type  event_index  \\\n22     a2743119-14b8-498e-abba-fe8f40021b53        raw           22   \n23     36a74849-c923-434b-ab1b-c49c813d6b14        raw           23   \n24     b9e72bd3-b08d-4107-bb3d-c85cb02ccead        raw           24   \n25     7c0023c7-cc16-4089-9f80-f42077e34d98        raw           25   \n27     aaf77e10-0adf-4b3f-9f41-4c7cd66b5b4e        raw           27   \n29     83db7c69-1bfe-4cb0-a40a-bffc5d24159d        raw           29   \n31     ad448920-16e6-4a36-975a-abec4b3e0e6c        raw           31   \n33     a9e4d43c-5a97-442b-88c0-9afa15380323        raw           33   \n36     ba54d47e-8105-4e04-a055-ef473719a441        raw           36   \n38     e980bc98-8cee-4ca5-a062-887f1be61956        raw           38   \n39     0675c4c2-7948-4f09-8d8c-40a70d2e4e09        raw           39   \n42     4059ef03-5ad5-4875-aa0d-5b26e4975b0a        raw           42   \n44     5364be2e-1b37-4be6-a64a-a228f66a791f        raw           44   \n45     b4820e2f-bab8-43e7-9e01-685c40f2afd4        raw           45   \n340    bee80162-926b-4415-8c7d-9b32e2e73c4a        raw          340   \n342    07ef4506-038c-4a9f-8dc6-2ef0efad6155        raw          342   \n345    313d0215-ffb5-4ad2-a46d-cf2030b0a6f0        raw          345   \n1330   617be453-f58e-4f3f-8666-2ac66802e4e5        raw         1330   \n1331   fdb704b6-50be-46c6-9e70-f22e14ffd60c        raw         1331   \n1332   623656eb-27f8-4793-9bc9-b38bcefc2115        raw         1332   \n6292   121b2ff8-260b-4761-bcea-34e1d80e725f        raw         6292   \n6293   7a5bfa80-0439-4329-8001-8ad06dd2e966        raw         6293   \n10660  9061906d-35dd-4dc1-91c4-94f3ab40c403        raw        10660   \n10661  c6459098-290e-4f4c-b555-1d82c972caa3        raw        10661   \n10662  6cc80b7b-98b8-4e8a-9e1f-358811079426        raw        10662   \n11455  7e83e766-edd7-4f67-ae94-b9d8cdc58c3f        raw        11455   \n11456  8873103c-edcd-45d2-990e-d501b4032988        raw        11456   \n13881  c5e7f62d-bf2f-44cf-b2da-449a140afd2e        raw        13881   \n13882  85b596b0-bbc0-49b6-b418-0bad3ab50944        raw        13882   \n14458  9893a16a-2418-49c0-a191-67bee3aff406        raw        14458   \n14481  39a85524-7c26-42b4-a24e-d70d89671624        raw        14481   \n14482  b45a14fa-4afa-4a0d-b7b1-c3feba876b82        raw        14482   \n14483  539e36de-0913-4b8e-abf3-2be5ea76a608        raw        14483   \n14484  7313ce4e-130b-466a-bb71-2a07baaae179        raw        14484   \n14485  660dcf90-3a7d-4d50-9e28-b7082f8eb522        raw        14485   \n14486  3f4f61d6-9fb8-489f-ab34-f3de85919fce        raw        14486   \n\n             event_name            event_timestamp    user_id  \n22             product2 2019-11-01 22:32:16.496241  629881394  \n23              catalog 2019-11-01 22:33:17.682468  629881394  \n24             product1 2019-11-01 22:33:19.961115  629881394  \n25              catalog 2019-11-01 22:33:35.460345  629881394  \n27              catalog 2019-11-01 22:34:02.301293  629881394  \n29             product2 2019-11-01 22:34:32.362386  629881394  \n31              catalog 2019-11-01 22:35:01.462515  629881394  \n33             product2 2019-11-01 22:35:33.142711  629881394  \n36                 cart 2019-11-01 22:35:50.437706  629881394  \n38      delivery_choice 2019-11-01 22:35:57.649549  629881394  \n39     delivery_courier 2019-11-01 22:36:02.009271  629881394  \n42       payment_choice 2019-11-01 22:36:02.243274  629881394  \n44         payment_cash 2019-11-01 22:36:03.415201  629881394  \n45         payment_done 2019-11-01 22:36:03.999697  629881394  \n340                main 2019-11-07 12:40:46.004674  629881394  \n342             catalog 2019-11-07 12:40:55.724185  629881394  \n345                cart 2019-11-07 12:41:04.107187  629881394  \n1330               main 2019-11-25 23:16:56.317624  629881394  \n1331            catalog 2019-11-25 23:17:16.266242  629881394  \n1332            catalog 2019-11-25 23:17:48.747304  629881394  \n6292               main 2020-01-23 18:56:23.445236  629881394  \n6293            catalog 2020-01-23 18:56:30.461624  629881394  \n10660              main 2020-03-01 23:23:43.392597  629881394  \n10661           catalog 2020-03-01 23:23:44.755693  629881394  \n10662              main 2020-03-01 23:23:51.625991  629881394  \n11455              main 2020-03-07 12:05:23.938242  629881394  \n11456           catalog 2020-03-07 12:05:32.476046  629881394  \n13881              main 2020-03-26 13:00:47.844886  629881394  \n13882           catalog 2020-03-26 13:00:49.531644  629881394  \n14458              main 2020-03-30 00:11:47.920536  629881394  \n14481              main 2020-03-30 03:17:46.909845  629881394  \n14482           catalog 2020-03-30 03:17:49.918774  629881394  \n14483           catalog 2020-03-30 03:18:17.835191  629881394  \n14484           catalog 2020-03-30 03:18:53.715887  629881394  \n14485           catalog 2020-03-30 03:19:36.034262  629881394  \n14486           catalog 2020-03-30 03:19:59.515094  629881394  ",
      "text/html": "<div>\n<style scoped>\n    .dataframe tbody tr th:only-of-type {\n        vertical-align: middle;\n    }\n\n    .dataframe tbody tr th {\n        vertical-align: top;\n    }\n\n    .dataframe thead th {\n        text-align: right;\n    }\n</style>\n<table border=\"1\" class=\"dataframe\">\n  <thead>\n    <tr style=\"text-align: right;\">\n      <th></th>\n      <th>event_id</th>\n      <th>event_type</th>\n      <th>event_index</th>\n      <th>event_name</th>\n      <th>event_timestamp</th>\n      <th>user_id</th>\n    </tr>\n  </thead>\n  <tbody>\n    <tr>\n      <th>22</th>\n      <td>a2743119-14b8-498e-abba-fe8f40021b53</td>\n      <td>raw</td>\n      <td>22</td>\n      <td>product2</td>\n      <td>2019-11-01 22:32:16.496241</td>\n      <td>629881394</td>\n    </tr>\n    <tr>\n      <th>23</th>\n      <td>36a74849-c923-434b-ab1b-c49c813d6b14</td>\n      <td>raw</td>\n      <td>23</td>\n      <td>catalog</td>\n      <td>2019-11-01 22:33:17.682468</td>\n      <td>629881394</td>\n    </tr>\n    <tr>\n      <th>24</th>\n      <td>b9e72bd3-b08d-4107-bb3d-c85cb02ccead</td>\n      <td>raw</td>\n      <td>24</td>\n      <td>product1</td>\n      <td>2019-11-01 22:33:19.961115</td>\n      <td>629881394</td>\n    </tr>\n    <tr>\n      <th>25</th>\n      <td>7c0023c7-cc16-4089-9f80-f42077e34d98</td>\n      <td>raw</td>\n      <td>25</td>\n      <td>catalog</td>\n      <td>2019-11-01 22:33:35.460345</td>\n      <td>629881394</td>\n    </tr>\n    <tr>\n      <th>27</th>\n      <td>aaf77e10-0adf-4b3f-9f41-4c7cd66b5b4e</td>\n      <td>raw</td>\n      <td>27</td>\n      <td>catalog</td>\n      <td>2019-11-01 22:34:02.301293</td>\n      <td>629881394</td>\n    </tr>\n    <tr>\n      <th>29</th>\n      <td>83db7c69-1bfe-4cb0-a40a-bffc5d24159d</td>\n      <td>raw</td>\n      <td>29</td>\n      <td>product2</td>\n      <td>2019-11-01 22:34:32.362386</td>\n      <td>629881394</td>\n    </tr>\n    <tr>\n      <th>31</th>\n      <td>ad448920-16e6-4a36-975a-abec4b3e0e6c</td>\n      <td>raw</td>\n      <td>31</td>\n      <td>catalog</td>\n      <td>2019-11-01 22:35:01.462515</td>\n      <td>629881394</td>\n    </tr>\n    <tr>\n      <th>33</th>\n      <td>a9e4d43c-5a97-442b-88c0-9afa15380323</td>\n      <td>raw</td>\n      <td>33</td>\n      <td>product2</td>\n      <td>2019-11-01 22:35:33.142711</td>\n      <td>629881394</td>\n    </tr>\n    <tr>\n      <th>36</th>\n      <td>ba54d47e-8105-4e04-a055-ef473719a441</td>\n      <td>raw</td>\n      <td>36</td>\n      <td>cart</td>\n      <td>2019-11-01 22:35:50.437706</td>\n      <td>629881394</td>\n    </tr>\n    <tr>\n      <th>38</th>\n      <td>e980bc98-8cee-4ca5-a062-887f1be61956</td>\n      <td>raw</td>\n      <td>38</td>\n      <td>delivery_choice</td>\n      <td>2019-11-01 22:35:57.649549</td>\n      <td>629881394</td>\n    </tr>\n    <tr>\n      <th>39</th>\n      <td>0675c4c2-7948-4f09-8d8c-40a70d2e4e09</td>\n      <td>raw</td>\n      <td>39</td>\n      <td>delivery_courier</td>\n      <td>2019-11-01 22:36:02.009271</td>\n      <td>629881394</td>\n    </tr>\n    <tr>\n      <th>42</th>\n      <td>4059ef03-5ad5-4875-aa0d-5b26e4975b0a</td>\n      <td>raw</td>\n      <td>42</td>\n      <td>payment_choice</td>\n      <td>2019-11-01 22:36:02.243274</td>\n      <td>629881394</td>\n    </tr>\n    <tr>\n      <th>44</th>\n      <td>5364be2e-1b37-4be6-a64a-a228f66a791f</td>\n      <td>raw</td>\n      <td>44</td>\n      <td>payment_cash</td>\n      <td>2019-11-01 22:36:03.415201</td>\n      <td>629881394</td>\n    </tr>\n    <tr>\n      <th>45</th>\n      <td>b4820e2f-bab8-43e7-9e01-685c40f2afd4</td>\n      <td>raw</td>\n      <td>45</td>\n      <td>payment_done</td>\n      <td>2019-11-01 22:36:03.999697</td>\n      <td>629881394</td>\n    </tr>\n    <tr>\n      <th>340</th>\n      <td>bee80162-926b-4415-8c7d-9b32e2e73c4a</td>\n      <td>raw</td>\n      <td>340</td>\n      <td>main</td>\n      <td>2019-11-07 12:40:46.004674</td>\n      <td>629881394</td>\n    </tr>\n    <tr>\n      <th>342</th>\n      <td>07ef4506-038c-4a9f-8dc6-2ef0efad6155</td>\n      <td>raw</td>\n      <td>342</td>\n      <td>catalog</td>\n      <td>2019-11-07 12:40:55.724185</td>\n      <td>629881394</td>\n    </tr>\n    <tr>\n      <th>345</th>\n      <td>313d0215-ffb5-4ad2-a46d-cf2030b0a6f0</td>\n      <td>raw</td>\n      <td>345</td>\n      <td>cart</td>\n      <td>2019-11-07 12:41:04.107187</td>\n      <td>629881394</td>\n    </tr>\n    <tr>\n      <th>1330</th>\n      <td>617be453-f58e-4f3f-8666-2ac66802e4e5</td>\n      <td>raw</td>\n      <td>1330</td>\n      <td>main</td>\n      <td>2019-11-25 23:16:56.317624</td>\n      <td>629881394</td>\n    </tr>\n    <tr>\n      <th>1331</th>\n      <td>fdb704b6-50be-46c6-9e70-f22e14ffd60c</td>\n      <td>raw</td>\n      <td>1331</td>\n      <td>catalog</td>\n      <td>2019-11-25 23:17:16.266242</td>\n      <td>629881394</td>\n    </tr>\n    <tr>\n      <th>1332</th>\n      <td>623656eb-27f8-4793-9bc9-b38bcefc2115</td>\n      <td>raw</td>\n      <td>1332</td>\n      <td>catalog</td>\n      <td>2019-11-25 23:17:48.747304</td>\n      <td>629881394</td>\n    </tr>\n    <tr>\n      <th>6292</th>\n      <td>121b2ff8-260b-4761-bcea-34e1d80e725f</td>\n      <td>raw</td>\n      <td>6292</td>\n      <td>main</td>\n      <td>2020-01-23 18:56:23.445236</td>\n      <td>629881394</td>\n    </tr>\n    <tr>\n      <th>6293</th>\n      <td>7a5bfa80-0439-4329-8001-8ad06dd2e966</td>\n      <td>raw</td>\n      <td>6293</td>\n      <td>catalog</td>\n      <td>2020-01-23 18:56:30.461624</td>\n      <td>629881394</td>\n    </tr>\n    <tr>\n      <th>10660</th>\n      <td>9061906d-35dd-4dc1-91c4-94f3ab40c403</td>\n      <td>raw</td>\n      <td>10660</td>\n      <td>main</td>\n      <td>2020-03-01 23:23:43.392597</td>\n      <td>629881394</td>\n    </tr>\n    <tr>\n      <th>10661</th>\n      <td>c6459098-290e-4f4c-b555-1d82c972caa3</td>\n      <td>raw</td>\n      <td>10661</td>\n      <td>catalog</td>\n      <td>2020-03-01 23:23:44.755693</td>\n      <td>629881394</td>\n    </tr>\n    <tr>\n      <th>10662</th>\n      <td>6cc80b7b-98b8-4e8a-9e1f-358811079426</td>\n      <td>raw</td>\n      <td>10662</td>\n      <td>main</td>\n      <td>2020-03-01 23:23:51.625991</td>\n      <td>629881394</td>\n    </tr>\n    <tr>\n      <th>11455</th>\n      <td>7e83e766-edd7-4f67-ae94-b9d8cdc58c3f</td>\n      <td>raw</td>\n      <td>11455</td>\n      <td>main</td>\n      <td>2020-03-07 12:05:23.938242</td>\n      <td>629881394</td>\n    </tr>\n    <tr>\n      <th>11456</th>\n      <td>8873103c-edcd-45d2-990e-d501b4032988</td>\n      <td>raw</td>\n      <td>11456</td>\n      <td>catalog</td>\n      <td>2020-03-07 12:05:32.476046</td>\n      <td>629881394</td>\n    </tr>\n    <tr>\n      <th>13881</th>\n      <td>c5e7f62d-bf2f-44cf-b2da-449a140afd2e</td>\n      <td>raw</td>\n      <td>13881</td>\n      <td>main</td>\n      <td>2020-03-26 13:00:47.844886</td>\n      <td>629881394</td>\n    </tr>\n    <tr>\n      <th>13882</th>\n      <td>85b596b0-bbc0-49b6-b418-0bad3ab50944</td>\n      <td>raw</td>\n      <td>13882</td>\n      <td>catalog</td>\n      <td>2020-03-26 13:00:49.531644</td>\n      <td>629881394</td>\n    </tr>\n    <tr>\n      <th>14458</th>\n      <td>9893a16a-2418-49c0-a191-67bee3aff406</td>\n      <td>raw</td>\n      <td>14458</td>\n      <td>main</td>\n      <td>2020-03-30 00:11:47.920536</td>\n      <td>629881394</td>\n    </tr>\n    <tr>\n      <th>14481</th>\n      <td>39a85524-7c26-42b4-a24e-d70d89671624</td>\n      <td>raw</td>\n      <td>14481</td>\n      <td>main</td>\n      <td>2020-03-30 03:17:46.909845</td>\n      <td>629881394</td>\n    </tr>\n    <tr>\n      <th>14482</th>\n      <td>b45a14fa-4afa-4a0d-b7b1-c3feba876b82</td>\n      <td>raw</td>\n      <td>14482</td>\n      <td>catalog</td>\n      <td>2020-03-30 03:17:49.918774</td>\n      <td>629881394</td>\n    </tr>\n    <tr>\n      <th>14483</th>\n      <td>539e36de-0913-4b8e-abf3-2be5ea76a608</td>\n      <td>raw</td>\n      <td>14483</td>\n      <td>catalog</td>\n      <td>2020-03-30 03:18:17.835191</td>\n      <td>629881394</td>\n    </tr>\n    <tr>\n      <th>14484</th>\n      <td>7313ce4e-130b-466a-bb71-2a07baaae179</td>\n      <td>raw</td>\n      <td>14484</td>\n      <td>catalog</td>\n      <td>2020-03-30 03:18:53.715887</td>\n      <td>629881394</td>\n    </tr>\n    <tr>\n      <th>14485</th>\n      <td>660dcf90-3a7d-4d50-9e28-b7082f8eb522</td>\n      <td>raw</td>\n      <td>14485</td>\n      <td>catalog</td>\n      <td>2020-03-30 03:19:36.034262</td>\n      <td>629881394</td>\n    </tr>\n    <tr>\n      <th>14486</th>\n      <td>3f4f61d6-9fb8-489f-ab34-f3de85919fce</td>\n      <td>raw</td>\n      <td>14486</td>\n      <td>catalog</td>\n      <td>2020-03-30 03:19:59.515094</td>\n      <td>629881394</td>\n    </tr>\n  </tbody>\n</table>\n</div>"
     },
     "execution_count": 57,
     "metadata": {},
     "output_type": "execute_result"
    }
   ],
   "source": [
    "source_df[(source_df['user_id'] == check_id) &\\\n",
    "          (source_df['event_timestamp'] >= event_time)]"
   ],
   "metadata": {
    "collapsed": false,
    "pycharm": {
     "name": "#%%\n"
    }
   }
  },
  {
   "cell_type": "code",
   "execution_count": 58,
   "outputs": [
    {
     "name": "stdout",
     "output_type": "stream",
     "text": [
      "48\n"
     ]
    },
    {
     "data": {
      "text/plain": "                                   event_id event_type  event_index  \\\n7      80f39ba7-6fe7-4807-b861-0bf310b0d3f8        raw            7   \n9      c96cfae1-7f00-49a1-a401-06a5ca509a9c        raw            9   \n11     897d59ef-4def-473d-b8b8-90bd2895b536        raw           11   \n13     7b720f69-6562-482e-bcd0-01b5085e9237        raw           13   \n14     70daf76a-ed57-416c-aed8-17d8daa480d7        raw           14   \n15     d659ac91-37e2-46bc-9423-d1f3c96865d2        raw           15   \n16     a6d20675-a8e0-4fc6-8343-53c95540abf6        raw           16   \n17     9fb7119e-2e18-43d8-9fe5-6e11fe3ff33c        raw           17   \n18     8731ceb0-5f4c-439d-ba1d-49b827b7bc84        raw           18   \n19     5ecf46bc-aa9c-4d0a-ab93-e7bc557cd26d        raw           19   \n20     7d87dd79-2232-47ba-a18d-8e8387f193ac        raw           20   \n21     bf4e0878-125c-471a-8946-8996188557ee        raw           21   \n22     a2743119-14b8-498e-abba-fe8f40021b53        raw           22   \n23     36a74849-c923-434b-ab1b-c49c813d6b14        raw           23   \n24     b9e72bd3-b08d-4107-bb3d-c85cb02ccead        raw           24   \n25     7c0023c7-cc16-4089-9f80-f42077e34d98        raw           25   \n27     aaf77e10-0adf-4b3f-9f41-4c7cd66b5b4e        raw           27   \n29     83db7c69-1bfe-4cb0-a40a-bffc5d24159d        raw           29   \n31     ad448920-16e6-4a36-975a-abec4b3e0e6c        raw           31   \n33     a9e4d43c-5a97-442b-88c0-9afa15380323        raw           33   \n36     ba54d47e-8105-4e04-a055-ef473719a441        raw           36   \n38     e980bc98-8cee-4ca5-a062-887f1be61956        raw           38   \n39     0675c4c2-7948-4f09-8d8c-40a70d2e4e09        raw           39   \n42     4059ef03-5ad5-4875-aa0d-5b26e4975b0a        raw           42   \n44     5364be2e-1b37-4be6-a64a-a228f66a791f        raw           44   \n45     b4820e2f-bab8-43e7-9e01-685c40f2afd4        raw           45   \n340    bee80162-926b-4415-8c7d-9b32e2e73c4a        raw          340   \n342    07ef4506-038c-4a9f-8dc6-2ef0efad6155        raw          342   \n345    313d0215-ffb5-4ad2-a46d-cf2030b0a6f0        raw          345   \n1330   617be453-f58e-4f3f-8666-2ac66802e4e5        raw         1330   \n1331   fdb704b6-50be-46c6-9e70-f22e14ffd60c        raw         1331   \n1332   623656eb-27f8-4793-9bc9-b38bcefc2115        raw         1332   \n6292   121b2ff8-260b-4761-bcea-34e1d80e725f        raw         6292   \n6293   7a5bfa80-0439-4329-8001-8ad06dd2e966        raw         6293   \n10660  9061906d-35dd-4dc1-91c4-94f3ab40c403        raw        10660   \n10661  c6459098-290e-4f4c-b555-1d82c972caa3        raw        10661   \n10662  6cc80b7b-98b8-4e8a-9e1f-358811079426        raw        10662   \n11455  7e83e766-edd7-4f67-ae94-b9d8cdc58c3f        raw        11455   \n11456  8873103c-edcd-45d2-990e-d501b4032988        raw        11456   \n13881  c5e7f62d-bf2f-44cf-b2da-449a140afd2e        raw        13881   \n13882  85b596b0-bbc0-49b6-b418-0bad3ab50944        raw        13882   \n14458  9893a16a-2418-49c0-a191-67bee3aff406        raw        14458   \n14481  39a85524-7c26-42b4-a24e-d70d89671624        raw        14481   \n14482  b45a14fa-4afa-4a0d-b7b1-c3feba876b82        raw        14482   \n14483  539e36de-0913-4b8e-abf3-2be5ea76a608        raw        14483   \n14484  7313ce4e-130b-466a-bb71-2a07baaae179        raw        14484   \n14485  660dcf90-3a7d-4d50-9e28-b7082f8eb522        raw        14485   \n14486  3f4f61d6-9fb8-489f-ab34-f3de85919fce        raw        14486   \n\n             event_name            event_timestamp    user_id  \n7                  main 2019-11-01 22:28:54.791683  629881394  \n9               catalog 2019-11-01 22:29:01.049513  629881394  \n11              catalog 2019-11-01 22:29:32.322458  629881394  \n13              catalog 2019-11-01 22:30:09.450839  629881394  \n14              catalog 2019-11-01 22:31:05.565762  629881394  \n15                 main 2019-11-01 22:31:08.333560  629881394  \n16              catalog 2019-11-01 22:31:09.010626  629881394  \n17             product1 2019-11-01 22:31:10.416231  629881394  \n18              catalog 2019-11-01 22:31:43.019527  629881394  \n19              catalog 2019-11-01 22:32:01.596163  629881394  \n20             product1 2019-11-01 22:32:07.348536  629881394  \n21              catalog 2019-11-01 22:32:10.165568  629881394  \n22             product2 2019-11-01 22:32:16.496241  629881394  \n23              catalog 2019-11-01 22:33:17.682468  629881394  \n24             product1 2019-11-01 22:33:19.961115  629881394  \n25              catalog 2019-11-01 22:33:35.460345  629881394  \n27              catalog 2019-11-01 22:34:02.301293  629881394  \n29             product2 2019-11-01 22:34:32.362386  629881394  \n31              catalog 2019-11-01 22:35:01.462515  629881394  \n33             product2 2019-11-01 22:35:33.142711  629881394  \n36                 cart 2019-11-01 22:35:50.437706  629881394  \n38      delivery_choice 2019-11-01 22:35:57.649549  629881394  \n39     delivery_courier 2019-11-01 22:36:02.009271  629881394  \n42       payment_choice 2019-11-01 22:36:02.243274  629881394  \n44         payment_cash 2019-11-01 22:36:03.415201  629881394  \n45         payment_done 2019-11-01 22:36:03.999697  629881394  \n340                main 2019-11-07 12:40:46.004674  629881394  \n342             catalog 2019-11-07 12:40:55.724185  629881394  \n345                cart 2019-11-07 12:41:04.107187  629881394  \n1330               main 2019-11-25 23:16:56.317624  629881394  \n1331            catalog 2019-11-25 23:17:16.266242  629881394  \n1332            catalog 2019-11-25 23:17:48.747304  629881394  \n6292               main 2020-01-23 18:56:23.445236  629881394  \n6293            catalog 2020-01-23 18:56:30.461624  629881394  \n10660              main 2020-03-01 23:23:43.392597  629881394  \n10661           catalog 2020-03-01 23:23:44.755693  629881394  \n10662              main 2020-03-01 23:23:51.625991  629881394  \n11455              main 2020-03-07 12:05:23.938242  629881394  \n11456           catalog 2020-03-07 12:05:32.476046  629881394  \n13881              main 2020-03-26 13:00:47.844886  629881394  \n13882           catalog 2020-03-26 13:00:49.531644  629881394  \n14458              main 2020-03-30 00:11:47.920536  629881394  \n14481              main 2020-03-30 03:17:46.909845  629881394  \n14482           catalog 2020-03-30 03:17:49.918774  629881394  \n14483           catalog 2020-03-30 03:18:17.835191  629881394  \n14484           catalog 2020-03-30 03:18:53.715887  629881394  \n14485           catalog 2020-03-30 03:19:36.034262  629881394  \n14486           catalog 2020-03-30 03:19:59.515094  629881394  ",
      "text/html": "<div>\n<style scoped>\n    .dataframe tbody tr th:only-of-type {\n        vertical-align: middle;\n    }\n\n    .dataframe tbody tr th {\n        vertical-align: top;\n    }\n\n    .dataframe thead th {\n        text-align: right;\n    }\n</style>\n<table border=\"1\" class=\"dataframe\">\n  <thead>\n    <tr style=\"text-align: right;\">\n      <th></th>\n      <th>event_id</th>\n      <th>event_type</th>\n      <th>event_index</th>\n      <th>event_name</th>\n      <th>event_timestamp</th>\n      <th>user_id</th>\n    </tr>\n  </thead>\n  <tbody>\n    <tr>\n      <th>7</th>\n      <td>80f39ba7-6fe7-4807-b861-0bf310b0d3f8</td>\n      <td>raw</td>\n      <td>7</td>\n      <td>main</td>\n      <td>2019-11-01 22:28:54.791683</td>\n      <td>629881394</td>\n    </tr>\n    <tr>\n      <th>9</th>\n      <td>c96cfae1-7f00-49a1-a401-06a5ca509a9c</td>\n      <td>raw</td>\n      <td>9</td>\n      <td>catalog</td>\n      <td>2019-11-01 22:29:01.049513</td>\n      <td>629881394</td>\n    </tr>\n    <tr>\n      <th>11</th>\n      <td>897d59ef-4def-473d-b8b8-90bd2895b536</td>\n      <td>raw</td>\n      <td>11</td>\n      <td>catalog</td>\n      <td>2019-11-01 22:29:32.322458</td>\n      <td>629881394</td>\n    </tr>\n    <tr>\n      <th>13</th>\n      <td>7b720f69-6562-482e-bcd0-01b5085e9237</td>\n      <td>raw</td>\n      <td>13</td>\n      <td>catalog</td>\n      <td>2019-11-01 22:30:09.450839</td>\n      <td>629881394</td>\n    </tr>\n    <tr>\n      <th>14</th>\n      <td>70daf76a-ed57-416c-aed8-17d8daa480d7</td>\n      <td>raw</td>\n      <td>14</td>\n      <td>catalog</td>\n      <td>2019-11-01 22:31:05.565762</td>\n      <td>629881394</td>\n    </tr>\n    <tr>\n      <th>15</th>\n      <td>d659ac91-37e2-46bc-9423-d1f3c96865d2</td>\n      <td>raw</td>\n      <td>15</td>\n      <td>main</td>\n      <td>2019-11-01 22:31:08.333560</td>\n      <td>629881394</td>\n    </tr>\n    <tr>\n      <th>16</th>\n      <td>a6d20675-a8e0-4fc6-8343-53c95540abf6</td>\n      <td>raw</td>\n      <td>16</td>\n      <td>catalog</td>\n      <td>2019-11-01 22:31:09.010626</td>\n      <td>629881394</td>\n    </tr>\n    <tr>\n      <th>17</th>\n      <td>9fb7119e-2e18-43d8-9fe5-6e11fe3ff33c</td>\n      <td>raw</td>\n      <td>17</td>\n      <td>product1</td>\n      <td>2019-11-01 22:31:10.416231</td>\n      <td>629881394</td>\n    </tr>\n    <tr>\n      <th>18</th>\n      <td>8731ceb0-5f4c-439d-ba1d-49b827b7bc84</td>\n      <td>raw</td>\n      <td>18</td>\n      <td>catalog</td>\n      <td>2019-11-01 22:31:43.019527</td>\n      <td>629881394</td>\n    </tr>\n    <tr>\n      <th>19</th>\n      <td>5ecf46bc-aa9c-4d0a-ab93-e7bc557cd26d</td>\n      <td>raw</td>\n      <td>19</td>\n      <td>catalog</td>\n      <td>2019-11-01 22:32:01.596163</td>\n      <td>629881394</td>\n    </tr>\n    <tr>\n      <th>20</th>\n      <td>7d87dd79-2232-47ba-a18d-8e8387f193ac</td>\n      <td>raw</td>\n      <td>20</td>\n      <td>product1</td>\n      <td>2019-11-01 22:32:07.348536</td>\n      <td>629881394</td>\n    </tr>\n    <tr>\n      <th>21</th>\n      <td>bf4e0878-125c-471a-8946-8996188557ee</td>\n      <td>raw</td>\n      <td>21</td>\n      <td>catalog</td>\n      <td>2019-11-01 22:32:10.165568</td>\n      <td>629881394</td>\n    </tr>\n    <tr>\n      <th>22</th>\n      <td>a2743119-14b8-498e-abba-fe8f40021b53</td>\n      <td>raw</td>\n      <td>22</td>\n      <td>product2</td>\n      <td>2019-11-01 22:32:16.496241</td>\n      <td>629881394</td>\n    </tr>\n    <tr>\n      <th>23</th>\n      <td>36a74849-c923-434b-ab1b-c49c813d6b14</td>\n      <td>raw</td>\n      <td>23</td>\n      <td>catalog</td>\n      <td>2019-11-01 22:33:17.682468</td>\n      <td>629881394</td>\n    </tr>\n    <tr>\n      <th>24</th>\n      <td>b9e72bd3-b08d-4107-bb3d-c85cb02ccead</td>\n      <td>raw</td>\n      <td>24</td>\n      <td>product1</td>\n      <td>2019-11-01 22:33:19.961115</td>\n      <td>629881394</td>\n    </tr>\n    <tr>\n      <th>25</th>\n      <td>7c0023c7-cc16-4089-9f80-f42077e34d98</td>\n      <td>raw</td>\n      <td>25</td>\n      <td>catalog</td>\n      <td>2019-11-01 22:33:35.460345</td>\n      <td>629881394</td>\n    </tr>\n    <tr>\n      <th>27</th>\n      <td>aaf77e10-0adf-4b3f-9f41-4c7cd66b5b4e</td>\n      <td>raw</td>\n      <td>27</td>\n      <td>catalog</td>\n      <td>2019-11-01 22:34:02.301293</td>\n      <td>629881394</td>\n    </tr>\n    <tr>\n      <th>29</th>\n      <td>83db7c69-1bfe-4cb0-a40a-bffc5d24159d</td>\n      <td>raw</td>\n      <td>29</td>\n      <td>product2</td>\n      <td>2019-11-01 22:34:32.362386</td>\n      <td>629881394</td>\n    </tr>\n    <tr>\n      <th>31</th>\n      <td>ad448920-16e6-4a36-975a-abec4b3e0e6c</td>\n      <td>raw</td>\n      <td>31</td>\n      <td>catalog</td>\n      <td>2019-11-01 22:35:01.462515</td>\n      <td>629881394</td>\n    </tr>\n    <tr>\n      <th>33</th>\n      <td>a9e4d43c-5a97-442b-88c0-9afa15380323</td>\n      <td>raw</td>\n      <td>33</td>\n      <td>product2</td>\n      <td>2019-11-01 22:35:33.142711</td>\n      <td>629881394</td>\n    </tr>\n    <tr>\n      <th>36</th>\n      <td>ba54d47e-8105-4e04-a055-ef473719a441</td>\n      <td>raw</td>\n      <td>36</td>\n      <td>cart</td>\n      <td>2019-11-01 22:35:50.437706</td>\n      <td>629881394</td>\n    </tr>\n    <tr>\n      <th>38</th>\n      <td>e980bc98-8cee-4ca5-a062-887f1be61956</td>\n      <td>raw</td>\n      <td>38</td>\n      <td>delivery_choice</td>\n      <td>2019-11-01 22:35:57.649549</td>\n      <td>629881394</td>\n    </tr>\n    <tr>\n      <th>39</th>\n      <td>0675c4c2-7948-4f09-8d8c-40a70d2e4e09</td>\n      <td>raw</td>\n      <td>39</td>\n      <td>delivery_courier</td>\n      <td>2019-11-01 22:36:02.009271</td>\n      <td>629881394</td>\n    </tr>\n    <tr>\n      <th>42</th>\n      <td>4059ef03-5ad5-4875-aa0d-5b26e4975b0a</td>\n      <td>raw</td>\n      <td>42</td>\n      <td>payment_choice</td>\n      <td>2019-11-01 22:36:02.243274</td>\n      <td>629881394</td>\n    </tr>\n    <tr>\n      <th>44</th>\n      <td>5364be2e-1b37-4be6-a64a-a228f66a791f</td>\n      <td>raw</td>\n      <td>44</td>\n      <td>payment_cash</td>\n      <td>2019-11-01 22:36:03.415201</td>\n      <td>629881394</td>\n    </tr>\n    <tr>\n      <th>45</th>\n      <td>b4820e2f-bab8-43e7-9e01-685c40f2afd4</td>\n      <td>raw</td>\n      <td>45</td>\n      <td>payment_done</td>\n      <td>2019-11-01 22:36:03.999697</td>\n      <td>629881394</td>\n    </tr>\n    <tr>\n      <th>340</th>\n      <td>bee80162-926b-4415-8c7d-9b32e2e73c4a</td>\n      <td>raw</td>\n      <td>340</td>\n      <td>main</td>\n      <td>2019-11-07 12:40:46.004674</td>\n      <td>629881394</td>\n    </tr>\n    <tr>\n      <th>342</th>\n      <td>07ef4506-038c-4a9f-8dc6-2ef0efad6155</td>\n      <td>raw</td>\n      <td>342</td>\n      <td>catalog</td>\n      <td>2019-11-07 12:40:55.724185</td>\n      <td>629881394</td>\n    </tr>\n    <tr>\n      <th>345</th>\n      <td>313d0215-ffb5-4ad2-a46d-cf2030b0a6f0</td>\n      <td>raw</td>\n      <td>345</td>\n      <td>cart</td>\n      <td>2019-11-07 12:41:04.107187</td>\n      <td>629881394</td>\n    </tr>\n    <tr>\n      <th>1330</th>\n      <td>617be453-f58e-4f3f-8666-2ac66802e4e5</td>\n      <td>raw</td>\n      <td>1330</td>\n      <td>main</td>\n      <td>2019-11-25 23:16:56.317624</td>\n      <td>629881394</td>\n    </tr>\n    <tr>\n      <th>1331</th>\n      <td>fdb704b6-50be-46c6-9e70-f22e14ffd60c</td>\n      <td>raw</td>\n      <td>1331</td>\n      <td>catalog</td>\n      <td>2019-11-25 23:17:16.266242</td>\n      <td>629881394</td>\n    </tr>\n    <tr>\n      <th>1332</th>\n      <td>623656eb-27f8-4793-9bc9-b38bcefc2115</td>\n      <td>raw</td>\n      <td>1332</td>\n      <td>catalog</td>\n      <td>2019-11-25 23:17:48.747304</td>\n      <td>629881394</td>\n    </tr>\n    <tr>\n      <th>6292</th>\n      <td>121b2ff8-260b-4761-bcea-34e1d80e725f</td>\n      <td>raw</td>\n      <td>6292</td>\n      <td>main</td>\n      <td>2020-01-23 18:56:23.445236</td>\n      <td>629881394</td>\n    </tr>\n    <tr>\n      <th>6293</th>\n      <td>7a5bfa80-0439-4329-8001-8ad06dd2e966</td>\n      <td>raw</td>\n      <td>6293</td>\n      <td>catalog</td>\n      <td>2020-01-23 18:56:30.461624</td>\n      <td>629881394</td>\n    </tr>\n    <tr>\n      <th>10660</th>\n      <td>9061906d-35dd-4dc1-91c4-94f3ab40c403</td>\n      <td>raw</td>\n      <td>10660</td>\n      <td>main</td>\n      <td>2020-03-01 23:23:43.392597</td>\n      <td>629881394</td>\n    </tr>\n    <tr>\n      <th>10661</th>\n      <td>c6459098-290e-4f4c-b555-1d82c972caa3</td>\n      <td>raw</td>\n      <td>10661</td>\n      <td>catalog</td>\n      <td>2020-03-01 23:23:44.755693</td>\n      <td>629881394</td>\n    </tr>\n    <tr>\n      <th>10662</th>\n      <td>6cc80b7b-98b8-4e8a-9e1f-358811079426</td>\n      <td>raw</td>\n      <td>10662</td>\n      <td>main</td>\n      <td>2020-03-01 23:23:51.625991</td>\n      <td>629881394</td>\n    </tr>\n    <tr>\n      <th>11455</th>\n      <td>7e83e766-edd7-4f67-ae94-b9d8cdc58c3f</td>\n      <td>raw</td>\n      <td>11455</td>\n      <td>main</td>\n      <td>2020-03-07 12:05:23.938242</td>\n      <td>629881394</td>\n    </tr>\n    <tr>\n      <th>11456</th>\n      <td>8873103c-edcd-45d2-990e-d501b4032988</td>\n      <td>raw</td>\n      <td>11456</td>\n      <td>catalog</td>\n      <td>2020-03-07 12:05:32.476046</td>\n      <td>629881394</td>\n    </tr>\n    <tr>\n      <th>13881</th>\n      <td>c5e7f62d-bf2f-44cf-b2da-449a140afd2e</td>\n      <td>raw</td>\n      <td>13881</td>\n      <td>main</td>\n      <td>2020-03-26 13:00:47.844886</td>\n      <td>629881394</td>\n    </tr>\n    <tr>\n      <th>13882</th>\n      <td>85b596b0-bbc0-49b6-b418-0bad3ab50944</td>\n      <td>raw</td>\n      <td>13882</td>\n      <td>catalog</td>\n      <td>2020-03-26 13:00:49.531644</td>\n      <td>629881394</td>\n    </tr>\n    <tr>\n      <th>14458</th>\n      <td>9893a16a-2418-49c0-a191-67bee3aff406</td>\n      <td>raw</td>\n      <td>14458</td>\n      <td>main</td>\n      <td>2020-03-30 00:11:47.920536</td>\n      <td>629881394</td>\n    </tr>\n    <tr>\n      <th>14481</th>\n      <td>39a85524-7c26-42b4-a24e-d70d89671624</td>\n      <td>raw</td>\n      <td>14481</td>\n      <td>main</td>\n      <td>2020-03-30 03:17:46.909845</td>\n      <td>629881394</td>\n    </tr>\n    <tr>\n      <th>14482</th>\n      <td>b45a14fa-4afa-4a0d-b7b1-c3feba876b82</td>\n      <td>raw</td>\n      <td>14482</td>\n      <td>catalog</td>\n      <td>2020-03-30 03:17:49.918774</td>\n      <td>629881394</td>\n    </tr>\n    <tr>\n      <th>14483</th>\n      <td>539e36de-0913-4b8e-abf3-2be5ea76a608</td>\n      <td>raw</td>\n      <td>14483</td>\n      <td>catalog</td>\n      <td>2020-03-30 03:18:17.835191</td>\n      <td>629881394</td>\n    </tr>\n    <tr>\n      <th>14484</th>\n      <td>7313ce4e-130b-466a-bb71-2a07baaae179</td>\n      <td>raw</td>\n      <td>14484</td>\n      <td>catalog</td>\n      <td>2020-03-30 03:18:53.715887</td>\n      <td>629881394</td>\n    </tr>\n    <tr>\n      <th>14485</th>\n      <td>660dcf90-3a7d-4d50-9e28-b7082f8eb522</td>\n      <td>raw</td>\n      <td>14485</td>\n      <td>catalog</td>\n      <td>2020-03-30 03:19:36.034262</td>\n      <td>629881394</td>\n    </tr>\n    <tr>\n      <th>14486</th>\n      <td>3f4f61d6-9fb8-489f-ab34-f3de85919fce</td>\n      <td>raw</td>\n      <td>14486</td>\n      <td>catalog</td>\n      <td>2020-03-30 03:19:59.515094</td>\n      <td>629881394</td>\n    </tr>\n  </tbody>\n</table>\n</div>"
     },
     "execution_count": 58,
     "metadata": {},
     "output_type": "execute_result"
    }
   ],
   "source": [
    "print(len(source_df[source_df['user_id'] == check_id]))\n",
    "source_df[source_df['user_id'] == check_id]"
   ],
   "metadata": {
    "collapsed": false,
    "pycharm": {
     "name": "#%%\n"
    }
   }
  },
  {
   "cell_type": "markdown",
   "source": [
    "### сдвиг"
   ],
   "metadata": {
    "collapsed": false,
    "pycharm": {
     "name": "#%% md\n"
    }
   }
  },
  {
   "cell_type": "code",
   "execution_count": 59,
   "outputs": [
    {
     "name": "stderr",
     "output_type": "stream",
     "text": [
      "/Users/Daria/Dev/Retentioneering/retentioneering-tools-new-arch/examples/../src/data_processors_lib/rete/cut_path_before_event.py:52: SettingWithCopyWarning: \n",
      "A value is trying to be set on a copy of a slice from a DataFrame.\n",
      "Try using .loc[row_indexer,col_indexer] = value instead\n",
      "\n",
      "See the caveats in the documentation: https://pandas.pydata.org/pandas-docs/stable/user_guide/indexing.html#returning-a-view-versus-a-copy\n",
      "  df_cut['num_groups'] = df_cut.groupby([user_col])[time_col].transform(\n",
      "/Users/Daria/Dev/Retentioneering/retentioneering-tools-new-arch/examples/../src/data_processors_lib/rete/cut_path_before_event.py:68: SettingWithCopyWarning: \n",
      "A value is trying to be set on a copy of a slice from a DataFrame.\n",
      "Try using .loc[row_indexer,col_indexer] = value instead\n",
      "\n",
      "See the caveats in the documentation: https://pandas.pydata.org/pandas-docs/stable/user_guide/indexing.html#returning-a-view-versus-a-copy\n",
      "  df_to_del['ref'] = df_to_del[eventstream.schema.event_id]\n"
     ]
    }
   ],
   "source": [
    "from src.data_processors_lib.rete import CutPathBeforeEvent, CutPathBeforeEventParams\n",
    "params = {\n",
    "    'cutoff_events': ['product2'],\n",
    "    'cut_shift': 1,\n",
    "    'min_cjm': 0\n",
    "}\n",
    "\n",
    "cut_before = EventsNode(\n",
    "    CutPathBeforeEvent(params=CutPathBeforeEventParams(**params)))\n",
    "\n",
    "graph.add_node(\n",
    "    node=cut_before,\n",
    "    parents=[graph.root]\n",
    ")\n",
    "\n",
    "result = graph.combine(\n",
    "    node=cut_before\n",
    ")\n"
   ],
   "metadata": {
    "collapsed": false,
    "pycharm": {
     "name": "#%%\n"
    }
   }
  },
  {
   "cell_type": "code",
   "execution_count": 60,
   "outputs": [
    {
     "name": "stdout",
     "output_type": "stream",
     "text": [
      "0\n"
     ]
    },
    {
     "data": {
      "text/plain": "0"
     },
     "execution_count": 60,
     "metadata": {},
     "output_type": "execute_result"
    }
   ],
   "source": [
    "df92 = result.to_dataframe()\n",
    "print(source_df.duplicated(['event_name', 'event_timestamp', 'user_id']).sum())\n",
    "df92.duplicated(['event_name', 'event_timestamp', 'user_id']).sum()"
   ],
   "metadata": {
    "collapsed": false,
    "pycharm": {
     "name": "#%%\n"
    }
   }
  },
  {
   "cell_type": "code",
   "execution_count": 61,
   "outputs": [
    {
     "data": {
      "text/plain": "raw    13239\nName: event_type, dtype: int64"
     },
     "execution_count": 61,
     "metadata": {},
     "output_type": "execute_result"
    }
   ],
   "source": [
    "df92['event_type'].value_counts()"
   ],
   "metadata": {
    "collapsed": false,
    "pycharm": {
     "name": "#%%\n"
    }
   }
  },
  {
   "cell_type": "code",
   "execution_count": 62,
   "outputs": [
    {
     "data": {
      "text/plain": "raw    35381\nName: event_type, dtype: int64"
     },
     "execution_count": 62,
     "metadata": {},
     "output_type": "execute_result"
    }
   ],
   "source": [
    "source_df['event_type'].value_counts()"
   ],
   "metadata": {
    "collapsed": false,
    "pycharm": {
     "name": "#%%\n"
    }
   }
  },
  {
   "cell_type": "code",
   "execution_count": 63,
   "outputs": [
    {
     "data": {
      "text/plain": "1430"
     },
     "execution_count": 63,
     "metadata": {},
     "output_type": "execute_result"
    }
   ],
   "source": [
    "source_df[source_df['event_name'] == 'product2']['user_id'].nunique()"
   ],
   "metadata": {
    "collapsed": false,
    "pycharm": {
     "name": "#%%\n"
    }
   }
  },
  {
   "cell_type": "code",
   "execution_count": 64,
   "outputs": [
    {
     "name": "stdout",
     "output_type": "stream",
     "text": [
      "Длина отрезанной траектории для пользователя 629881394 -  35\n"
     ]
    },
    {
     "data": {
      "text/plain": "                                   event_id event_type  event_index  \\\n46     36a74849-c923-434b-ab1b-c49c813d6b14        raw           46   \n47     b9e72bd3-b08d-4107-bb3d-c85cb02ccead        raw           47   \n48     7c0023c7-cc16-4089-9f80-f42077e34d98        raw           48   \n51     aaf77e10-0adf-4b3f-9f41-4c7cd66b5b4e        raw           51   \n54     83db7c69-1bfe-4cb0-a40a-bffc5d24159d        raw           54   \n57     ad448920-16e6-4a36-975a-abec4b3e0e6c        raw           57   \n59     a9e4d43c-5a97-442b-88c0-9afa15380323        raw           59   \n62     ba54d47e-8105-4e04-a055-ef473719a441        raw           62   \n64     e980bc98-8cee-4ca5-a062-887f1be61956        raw           64   \n65     0675c4c2-7948-4f09-8d8c-40a70d2e4e09        raw           65   \n68     4059ef03-5ad5-4875-aa0d-5b26e4975b0a        raw           68   \n70     5364be2e-1b37-4be6-a64a-a228f66a791f        raw           70   \n71     b4820e2f-bab8-43e7-9e01-685c40f2afd4        raw           71   \n557    bee80162-926b-4415-8c7d-9b32e2e73c4a        raw          557   \n559    07ef4506-038c-4a9f-8dc6-2ef0efad6155        raw          559   \n562    313d0215-ffb5-4ad2-a46d-cf2030b0a6f0        raw          562   \n2299   617be453-f58e-4f3f-8666-2ac66802e4e5        raw         2299   \n2300   fdb704b6-50be-46c6-9e70-f22e14ffd60c        raw         2300   \n2301   623656eb-27f8-4793-9bc9-b38bcefc2115        raw         2301   \n10237  121b2ff8-260b-4761-bcea-34e1d80e725f        raw        10237   \n10238  7a5bfa80-0439-4329-8001-8ad06dd2e966        raw        10238   \n16944  9061906d-35dd-4dc1-91c4-94f3ab40c403        raw        16944   \n16945  c6459098-290e-4f4c-b555-1d82c972caa3        raw        16945   \n16946  6cc80b7b-98b8-4e8a-9e1f-358811079426        raw        16946   \n18120  7e83e766-edd7-4f67-ae94-b9d8cdc58c3f        raw        18120   \n18121  8873103c-edcd-45d2-990e-d501b4032988        raw        18121   \n21699  c5e7f62d-bf2f-44cf-b2da-449a140afd2e        raw        21699   \n21700  85b596b0-bbc0-49b6-b418-0bad3ab50944        raw        21700   \n22514  9893a16a-2418-49c0-a191-67bee3aff406        raw        22514   \n22559  39a85524-7c26-42b4-a24e-d70d89671624        raw        22559   \n22560  b45a14fa-4afa-4a0d-b7b1-c3feba876b82        raw        22560   \n22561  539e36de-0913-4b8e-abf3-2be5ea76a608        raw        22561   \n22562  7313ce4e-130b-466a-bb71-2a07baaae179        raw        22562   \n22563  660dcf90-3a7d-4d50-9e28-b7082f8eb522        raw        22563   \n22564  3f4f61d6-9fb8-489f-ab34-f3de85919fce        raw        22564   \n\n             event_name            event_timestamp      user_id  \n46              catalog 2019-11-01 22:33:17.682468  629881394.0  \n47             product1 2019-11-01 22:33:19.961115  629881394.0  \n48              catalog 2019-11-01 22:33:35.460345  629881394.0  \n51              catalog 2019-11-01 22:34:02.301293  629881394.0  \n54             product2 2019-11-01 22:34:32.362386  629881394.0  \n57              catalog 2019-11-01 22:35:01.462515  629881394.0  \n59             product2 2019-11-01 22:35:33.142711  629881394.0  \n62                 cart 2019-11-01 22:35:50.437706  629881394.0  \n64      delivery_choice 2019-11-01 22:35:57.649549  629881394.0  \n65     delivery_courier 2019-11-01 22:36:02.009271  629881394.0  \n68       payment_choice 2019-11-01 22:36:02.243274  629881394.0  \n70         payment_cash 2019-11-01 22:36:03.415201  629881394.0  \n71         payment_done 2019-11-01 22:36:03.999697  629881394.0  \n557                main 2019-11-07 12:40:46.004674  629881394.0  \n559             catalog 2019-11-07 12:40:55.724185  629881394.0  \n562                cart 2019-11-07 12:41:04.107187  629881394.0  \n2299               main 2019-11-25 23:16:56.317624  629881394.0  \n2300            catalog 2019-11-25 23:17:16.266242  629881394.0  \n2301            catalog 2019-11-25 23:17:48.747304  629881394.0  \n10237              main 2020-01-23 18:56:23.445236  629881394.0  \n10238           catalog 2020-01-23 18:56:30.461624  629881394.0  \n16944              main 2020-03-01 23:23:43.392597  629881394.0  \n16945           catalog 2020-03-01 23:23:44.755693  629881394.0  \n16946              main 2020-03-01 23:23:51.625991  629881394.0  \n18120              main 2020-03-07 12:05:23.938242  629881394.0  \n18121           catalog 2020-03-07 12:05:32.476046  629881394.0  \n21699              main 2020-03-26 13:00:47.844886  629881394.0  \n21700           catalog 2020-03-26 13:00:49.531644  629881394.0  \n22514              main 2020-03-30 00:11:47.920536  629881394.0  \n22559              main 2020-03-30 03:17:46.909845  629881394.0  \n22560           catalog 2020-03-30 03:17:49.918774  629881394.0  \n22561           catalog 2020-03-30 03:18:17.835191  629881394.0  \n22562           catalog 2020-03-30 03:18:53.715887  629881394.0  \n22563           catalog 2020-03-30 03:19:36.034262  629881394.0  \n22564           catalog 2020-03-30 03:19:59.515094  629881394.0  ",
      "text/html": "<div>\n<style scoped>\n    .dataframe tbody tr th:only-of-type {\n        vertical-align: middle;\n    }\n\n    .dataframe tbody tr th {\n        vertical-align: top;\n    }\n\n    .dataframe thead th {\n        text-align: right;\n    }\n</style>\n<table border=\"1\" class=\"dataframe\">\n  <thead>\n    <tr style=\"text-align: right;\">\n      <th></th>\n      <th>event_id</th>\n      <th>event_type</th>\n      <th>event_index</th>\n      <th>event_name</th>\n      <th>event_timestamp</th>\n      <th>user_id</th>\n    </tr>\n  </thead>\n  <tbody>\n    <tr>\n      <th>46</th>\n      <td>36a74849-c923-434b-ab1b-c49c813d6b14</td>\n      <td>raw</td>\n      <td>46</td>\n      <td>catalog</td>\n      <td>2019-11-01 22:33:17.682468</td>\n      <td>629881394.0</td>\n    </tr>\n    <tr>\n      <th>47</th>\n      <td>b9e72bd3-b08d-4107-bb3d-c85cb02ccead</td>\n      <td>raw</td>\n      <td>47</td>\n      <td>product1</td>\n      <td>2019-11-01 22:33:19.961115</td>\n      <td>629881394.0</td>\n    </tr>\n    <tr>\n      <th>48</th>\n      <td>7c0023c7-cc16-4089-9f80-f42077e34d98</td>\n      <td>raw</td>\n      <td>48</td>\n      <td>catalog</td>\n      <td>2019-11-01 22:33:35.460345</td>\n      <td>629881394.0</td>\n    </tr>\n    <tr>\n      <th>51</th>\n      <td>aaf77e10-0adf-4b3f-9f41-4c7cd66b5b4e</td>\n      <td>raw</td>\n      <td>51</td>\n      <td>catalog</td>\n      <td>2019-11-01 22:34:02.301293</td>\n      <td>629881394.0</td>\n    </tr>\n    <tr>\n      <th>54</th>\n      <td>83db7c69-1bfe-4cb0-a40a-bffc5d24159d</td>\n      <td>raw</td>\n      <td>54</td>\n      <td>product2</td>\n      <td>2019-11-01 22:34:32.362386</td>\n      <td>629881394.0</td>\n    </tr>\n    <tr>\n      <th>57</th>\n      <td>ad448920-16e6-4a36-975a-abec4b3e0e6c</td>\n      <td>raw</td>\n      <td>57</td>\n      <td>catalog</td>\n      <td>2019-11-01 22:35:01.462515</td>\n      <td>629881394.0</td>\n    </tr>\n    <tr>\n      <th>59</th>\n      <td>a9e4d43c-5a97-442b-88c0-9afa15380323</td>\n      <td>raw</td>\n      <td>59</td>\n      <td>product2</td>\n      <td>2019-11-01 22:35:33.142711</td>\n      <td>629881394.0</td>\n    </tr>\n    <tr>\n      <th>62</th>\n      <td>ba54d47e-8105-4e04-a055-ef473719a441</td>\n      <td>raw</td>\n      <td>62</td>\n      <td>cart</td>\n      <td>2019-11-01 22:35:50.437706</td>\n      <td>629881394.0</td>\n    </tr>\n    <tr>\n      <th>64</th>\n      <td>e980bc98-8cee-4ca5-a062-887f1be61956</td>\n      <td>raw</td>\n      <td>64</td>\n      <td>delivery_choice</td>\n      <td>2019-11-01 22:35:57.649549</td>\n      <td>629881394.0</td>\n    </tr>\n    <tr>\n      <th>65</th>\n      <td>0675c4c2-7948-4f09-8d8c-40a70d2e4e09</td>\n      <td>raw</td>\n      <td>65</td>\n      <td>delivery_courier</td>\n      <td>2019-11-01 22:36:02.009271</td>\n      <td>629881394.0</td>\n    </tr>\n    <tr>\n      <th>68</th>\n      <td>4059ef03-5ad5-4875-aa0d-5b26e4975b0a</td>\n      <td>raw</td>\n      <td>68</td>\n      <td>payment_choice</td>\n      <td>2019-11-01 22:36:02.243274</td>\n      <td>629881394.0</td>\n    </tr>\n    <tr>\n      <th>70</th>\n      <td>5364be2e-1b37-4be6-a64a-a228f66a791f</td>\n      <td>raw</td>\n      <td>70</td>\n      <td>payment_cash</td>\n      <td>2019-11-01 22:36:03.415201</td>\n      <td>629881394.0</td>\n    </tr>\n    <tr>\n      <th>71</th>\n      <td>b4820e2f-bab8-43e7-9e01-685c40f2afd4</td>\n      <td>raw</td>\n      <td>71</td>\n      <td>payment_done</td>\n      <td>2019-11-01 22:36:03.999697</td>\n      <td>629881394.0</td>\n    </tr>\n    <tr>\n      <th>557</th>\n      <td>bee80162-926b-4415-8c7d-9b32e2e73c4a</td>\n      <td>raw</td>\n      <td>557</td>\n      <td>main</td>\n      <td>2019-11-07 12:40:46.004674</td>\n      <td>629881394.0</td>\n    </tr>\n    <tr>\n      <th>559</th>\n      <td>07ef4506-038c-4a9f-8dc6-2ef0efad6155</td>\n      <td>raw</td>\n      <td>559</td>\n      <td>catalog</td>\n      <td>2019-11-07 12:40:55.724185</td>\n      <td>629881394.0</td>\n    </tr>\n    <tr>\n      <th>562</th>\n      <td>313d0215-ffb5-4ad2-a46d-cf2030b0a6f0</td>\n      <td>raw</td>\n      <td>562</td>\n      <td>cart</td>\n      <td>2019-11-07 12:41:04.107187</td>\n      <td>629881394.0</td>\n    </tr>\n    <tr>\n      <th>2299</th>\n      <td>617be453-f58e-4f3f-8666-2ac66802e4e5</td>\n      <td>raw</td>\n      <td>2299</td>\n      <td>main</td>\n      <td>2019-11-25 23:16:56.317624</td>\n      <td>629881394.0</td>\n    </tr>\n    <tr>\n      <th>2300</th>\n      <td>fdb704b6-50be-46c6-9e70-f22e14ffd60c</td>\n      <td>raw</td>\n      <td>2300</td>\n      <td>catalog</td>\n      <td>2019-11-25 23:17:16.266242</td>\n      <td>629881394.0</td>\n    </tr>\n    <tr>\n      <th>2301</th>\n      <td>623656eb-27f8-4793-9bc9-b38bcefc2115</td>\n      <td>raw</td>\n      <td>2301</td>\n      <td>catalog</td>\n      <td>2019-11-25 23:17:48.747304</td>\n      <td>629881394.0</td>\n    </tr>\n    <tr>\n      <th>10237</th>\n      <td>121b2ff8-260b-4761-bcea-34e1d80e725f</td>\n      <td>raw</td>\n      <td>10237</td>\n      <td>main</td>\n      <td>2020-01-23 18:56:23.445236</td>\n      <td>629881394.0</td>\n    </tr>\n    <tr>\n      <th>10238</th>\n      <td>7a5bfa80-0439-4329-8001-8ad06dd2e966</td>\n      <td>raw</td>\n      <td>10238</td>\n      <td>catalog</td>\n      <td>2020-01-23 18:56:30.461624</td>\n      <td>629881394.0</td>\n    </tr>\n    <tr>\n      <th>16944</th>\n      <td>9061906d-35dd-4dc1-91c4-94f3ab40c403</td>\n      <td>raw</td>\n      <td>16944</td>\n      <td>main</td>\n      <td>2020-03-01 23:23:43.392597</td>\n      <td>629881394.0</td>\n    </tr>\n    <tr>\n      <th>16945</th>\n      <td>c6459098-290e-4f4c-b555-1d82c972caa3</td>\n      <td>raw</td>\n      <td>16945</td>\n      <td>catalog</td>\n      <td>2020-03-01 23:23:44.755693</td>\n      <td>629881394.0</td>\n    </tr>\n    <tr>\n      <th>16946</th>\n      <td>6cc80b7b-98b8-4e8a-9e1f-358811079426</td>\n      <td>raw</td>\n      <td>16946</td>\n      <td>main</td>\n      <td>2020-03-01 23:23:51.625991</td>\n      <td>629881394.0</td>\n    </tr>\n    <tr>\n      <th>18120</th>\n      <td>7e83e766-edd7-4f67-ae94-b9d8cdc58c3f</td>\n      <td>raw</td>\n      <td>18120</td>\n      <td>main</td>\n      <td>2020-03-07 12:05:23.938242</td>\n      <td>629881394.0</td>\n    </tr>\n    <tr>\n      <th>18121</th>\n      <td>8873103c-edcd-45d2-990e-d501b4032988</td>\n      <td>raw</td>\n      <td>18121</td>\n      <td>catalog</td>\n      <td>2020-03-07 12:05:32.476046</td>\n      <td>629881394.0</td>\n    </tr>\n    <tr>\n      <th>21699</th>\n      <td>c5e7f62d-bf2f-44cf-b2da-449a140afd2e</td>\n      <td>raw</td>\n      <td>21699</td>\n      <td>main</td>\n      <td>2020-03-26 13:00:47.844886</td>\n      <td>629881394.0</td>\n    </tr>\n    <tr>\n      <th>21700</th>\n      <td>85b596b0-bbc0-49b6-b418-0bad3ab50944</td>\n      <td>raw</td>\n      <td>21700</td>\n      <td>catalog</td>\n      <td>2020-03-26 13:00:49.531644</td>\n      <td>629881394.0</td>\n    </tr>\n    <tr>\n      <th>22514</th>\n      <td>9893a16a-2418-49c0-a191-67bee3aff406</td>\n      <td>raw</td>\n      <td>22514</td>\n      <td>main</td>\n      <td>2020-03-30 00:11:47.920536</td>\n      <td>629881394.0</td>\n    </tr>\n    <tr>\n      <th>22559</th>\n      <td>39a85524-7c26-42b4-a24e-d70d89671624</td>\n      <td>raw</td>\n      <td>22559</td>\n      <td>main</td>\n      <td>2020-03-30 03:17:46.909845</td>\n      <td>629881394.0</td>\n    </tr>\n    <tr>\n      <th>22560</th>\n      <td>b45a14fa-4afa-4a0d-b7b1-c3feba876b82</td>\n      <td>raw</td>\n      <td>22560</td>\n      <td>catalog</td>\n      <td>2020-03-30 03:17:49.918774</td>\n      <td>629881394.0</td>\n    </tr>\n    <tr>\n      <th>22561</th>\n      <td>539e36de-0913-4b8e-abf3-2be5ea76a608</td>\n      <td>raw</td>\n      <td>22561</td>\n      <td>catalog</td>\n      <td>2020-03-30 03:18:17.835191</td>\n      <td>629881394.0</td>\n    </tr>\n    <tr>\n      <th>22562</th>\n      <td>7313ce4e-130b-466a-bb71-2a07baaae179</td>\n      <td>raw</td>\n      <td>22562</td>\n      <td>catalog</td>\n      <td>2020-03-30 03:18:53.715887</td>\n      <td>629881394.0</td>\n    </tr>\n    <tr>\n      <th>22563</th>\n      <td>660dcf90-3a7d-4d50-9e28-b7082f8eb522</td>\n      <td>raw</td>\n      <td>22563</td>\n      <td>catalog</td>\n      <td>2020-03-30 03:19:36.034262</td>\n      <td>629881394.0</td>\n    </tr>\n    <tr>\n      <th>22564</th>\n      <td>3f4f61d6-9fb8-489f-ab34-f3de85919fce</td>\n      <td>raw</td>\n      <td>22564</td>\n      <td>catalog</td>\n      <td>2020-03-30 03:19:59.515094</td>\n      <td>629881394.0</td>\n    </tr>\n  </tbody>\n</table>\n</div>"
     },
     "execution_count": 64,
     "metadata": {},
     "output_type": "execute_result"
    }
   ],
   "source": [
    "check_id = 629881394\n",
    "print(f'Длина отрезанной траектории для пользователя {check_id} - ',\n",
    "      len(df92[df92['user_id'] == check_id]))\n",
    "df92[df92['user_id'] == check_id]"
   ],
   "metadata": {
    "collapsed": false,
    "pycharm": {
     "name": "#%%\n"
    }
   }
  },
  {
   "cell_type": "code",
   "execution_count": 65,
   "outputs": [],
   "source": [
    "# Время, по которому обрезается траектория, здесь задаем конкретное событие payment_cash, для теста надо будет автоматизировать\n",
    "\n",
    "event_time = source_df[(source_df['user_id'] == check_id) & \\\n",
    "    (source_df['event_name'] == 'product2')]['event_timestamp'].min()"
   ],
   "metadata": {
    "collapsed": false,
    "pycharm": {
     "name": "#%%\n"
    }
   }
  },
  {
   "cell_type": "code",
   "execution_count": 66,
   "outputs": [
    {
     "name": "stdout",
     "output_type": "stream",
     "text": [
      "Длина обрезанной траектории из source_df для пользователя  629881394 -  35\n"
     ]
    },
    {
     "data": {
      "text/plain": "                                   event_id event_type  event_index  \\\n23     36a74849-c923-434b-ab1b-c49c813d6b14        raw           23   \n24     b9e72bd3-b08d-4107-bb3d-c85cb02ccead        raw           24   \n25     7c0023c7-cc16-4089-9f80-f42077e34d98        raw           25   \n27     aaf77e10-0adf-4b3f-9f41-4c7cd66b5b4e        raw           27   \n29     83db7c69-1bfe-4cb0-a40a-bffc5d24159d        raw           29   \n31     ad448920-16e6-4a36-975a-abec4b3e0e6c        raw           31   \n33     a9e4d43c-5a97-442b-88c0-9afa15380323        raw           33   \n36     ba54d47e-8105-4e04-a055-ef473719a441        raw           36   \n38     e980bc98-8cee-4ca5-a062-887f1be61956        raw           38   \n39     0675c4c2-7948-4f09-8d8c-40a70d2e4e09        raw           39   \n42     4059ef03-5ad5-4875-aa0d-5b26e4975b0a        raw           42   \n44     5364be2e-1b37-4be6-a64a-a228f66a791f        raw           44   \n45     b4820e2f-bab8-43e7-9e01-685c40f2afd4        raw           45   \n340    bee80162-926b-4415-8c7d-9b32e2e73c4a        raw          340   \n342    07ef4506-038c-4a9f-8dc6-2ef0efad6155        raw          342   \n345    313d0215-ffb5-4ad2-a46d-cf2030b0a6f0        raw          345   \n1330   617be453-f58e-4f3f-8666-2ac66802e4e5        raw         1330   \n1331   fdb704b6-50be-46c6-9e70-f22e14ffd60c        raw         1331   \n1332   623656eb-27f8-4793-9bc9-b38bcefc2115        raw         1332   \n6292   121b2ff8-260b-4761-bcea-34e1d80e725f        raw         6292   \n6293   7a5bfa80-0439-4329-8001-8ad06dd2e966        raw         6293   \n10660  9061906d-35dd-4dc1-91c4-94f3ab40c403        raw        10660   \n10661  c6459098-290e-4f4c-b555-1d82c972caa3        raw        10661   \n10662  6cc80b7b-98b8-4e8a-9e1f-358811079426        raw        10662   \n11455  7e83e766-edd7-4f67-ae94-b9d8cdc58c3f        raw        11455   \n11456  8873103c-edcd-45d2-990e-d501b4032988        raw        11456   \n13881  c5e7f62d-bf2f-44cf-b2da-449a140afd2e        raw        13881   \n13882  85b596b0-bbc0-49b6-b418-0bad3ab50944        raw        13882   \n14458  9893a16a-2418-49c0-a191-67bee3aff406        raw        14458   \n14481  39a85524-7c26-42b4-a24e-d70d89671624        raw        14481   \n14482  b45a14fa-4afa-4a0d-b7b1-c3feba876b82        raw        14482   \n14483  539e36de-0913-4b8e-abf3-2be5ea76a608        raw        14483   \n14484  7313ce4e-130b-466a-bb71-2a07baaae179        raw        14484   \n14485  660dcf90-3a7d-4d50-9e28-b7082f8eb522        raw        14485   \n14486  3f4f61d6-9fb8-489f-ab34-f3de85919fce        raw        14486   \n\n             event_name            event_timestamp    user_id  \n23              catalog 2019-11-01 22:33:17.682468  629881394  \n24             product1 2019-11-01 22:33:19.961115  629881394  \n25              catalog 2019-11-01 22:33:35.460345  629881394  \n27              catalog 2019-11-01 22:34:02.301293  629881394  \n29             product2 2019-11-01 22:34:32.362386  629881394  \n31              catalog 2019-11-01 22:35:01.462515  629881394  \n33             product2 2019-11-01 22:35:33.142711  629881394  \n36                 cart 2019-11-01 22:35:50.437706  629881394  \n38      delivery_choice 2019-11-01 22:35:57.649549  629881394  \n39     delivery_courier 2019-11-01 22:36:02.009271  629881394  \n42       payment_choice 2019-11-01 22:36:02.243274  629881394  \n44         payment_cash 2019-11-01 22:36:03.415201  629881394  \n45         payment_done 2019-11-01 22:36:03.999697  629881394  \n340                main 2019-11-07 12:40:46.004674  629881394  \n342             catalog 2019-11-07 12:40:55.724185  629881394  \n345                cart 2019-11-07 12:41:04.107187  629881394  \n1330               main 2019-11-25 23:16:56.317624  629881394  \n1331            catalog 2019-11-25 23:17:16.266242  629881394  \n1332            catalog 2019-11-25 23:17:48.747304  629881394  \n6292               main 2020-01-23 18:56:23.445236  629881394  \n6293            catalog 2020-01-23 18:56:30.461624  629881394  \n10660              main 2020-03-01 23:23:43.392597  629881394  \n10661           catalog 2020-03-01 23:23:44.755693  629881394  \n10662              main 2020-03-01 23:23:51.625991  629881394  \n11455              main 2020-03-07 12:05:23.938242  629881394  \n11456           catalog 2020-03-07 12:05:32.476046  629881394  \n13881              main 2020-03-26 13:00:47.844886  629881394  \n13882           catalog 2020-03-26 13:00:49.531644  629881394  \n14458              main 2020-03-30 00:11:47.920536  629881394  \n14481              main 2020-03-30 03:17:46.909845  629881394  \n14482           catalog 2020-03-30 03:17:49.918774  629881394  \n14483           catalog 2020-03-30 03:18:17.835191  629881394  \n14484           catalog 2020-03-30 03:18:53.715887  629881394  \n14485           catalog 2020-03-30 03:19:36.034262  629881394  \n14486           catalog 2020-03-30 03:19:59.515094  629881394  ",
      "text/html": "<div>\n<style scoped>\n    .dataframe tbody tr th:only-of-type {\n        vertical-align: middle;\n    }\n\n    .dataframe tbody tr th {\n        vertical-align: top;\n    }\n\n    .dataframe thead th {\n        text-align: right;\n    }\n</style>\n<table border=\"1\" class=\"dataframe\">\n  <thead>\n    <tr style=\"text-align: right;\">\n      <th></th>\n      <th>event_id</th>\n      <th>event_type</th>\n      <th>event_index</th>\n      <th>event_name</th>\n      <th>event_timestamp</th>\n      <th>user_id</th>\n    </tr>\n  </thead>\n  <tbody>\n    <tr>\n      <th>23</th>\n      <td>36a74849-c923-434b-ab1b-c49c813d6b14</td>\n      <td>raw</td>\n      <td>23</td>\n      <td>catalog</td>\n      <td>2019-11-01 22:33:17.682468</td>\n      <td>629881394</td>\n    </tr>\n    <tr>\n      <th>24</th>\n      <td>b9e72bd3-b08d-4107-bb3d-c85cb02ccead</td>\n      <td>raw</td>\n      <td>24</td>\n      <td>product1</td>\n      <td>2019-11-01 22:33:19.961115</td>\n      <td>629881394</td>\n    </tr>\n    <tr>\n      <th>25</th>\n      <td>7c0023c7-cc16-4089-9f80-f42077e34d98</td>\n      <td>raw</td>\n      <td>25</td>\n      <td>catalog</td>\n      <td>2019-11-01 22:33:35.460345</td>\n      <td>629881394</td>\n    </tr>\n    <tr>\n      <th>27</th>\n      <td>aaf77e10-0adf-4b3f-9f41-4c7cd66b5b4e</td>\n      <td>raw</td>\n      <td>27</td>\n      <td>catalog</td>\n      <td>2019-11-01 22:34:02.301293</td>\n      <td>629881394</td>\n    </tr>\n    <tr>\n      <th>29</th>\n      <td>83db7c69-1bfe-4cb0-a40a-bffc5d24159d</td>\n      <td>raw</td>\n      <td>29</td>\n      <td>product2</td>\n      <td>2019-11-01 22:34:32.362386</td>\n      <td>629881394</td>\n    </tr>\n    <tr>\n      <th>31</th>\n      <td>ad448920-16e6-4a36-975a-abec4b3e0e6c</td>\n      <td>raw</td>\n      <td>31</td>\n      <td>catalog</td>\n      <td>2019-11-01 22:35:01.462515</td>\n      <td>629881394</td>\n    </tr>\n    <tr>\n      <th>33</th>\n      <td>a9e4d43c-5a97-442b-88c0-9afa15380323</td>\n      <td>raw</td>\n      <td>33</td>\n      <td>product2</td>\n      <td>2019-11-01 22:35:33.142711</td>\n      <td>629881394</td>\n    </tr>\n    <tr>\n      <th>36</th>\n      <td>ba54d47e-8105-4e04-a055-ef473719a441</td>\n      <td>raw</td>\n      <td>36</td>\n      <td>cart</td>\n      <td>2019-11-01 22:35:50.437706</td>\n      <td>629881394</td>\n    </tr>\n    <tr>\n      <th>38</th>\n      <td>e980bc98-8cee-4ca5-a062-887f1be61956</td>\n      <td>raw</td>\n      <td>38</td>\n      <td>delivery_choice</td>\n      <td>2019-11-01 22:35:57.649549</td>\n      <td>629881394</td>\n    </tr>\n    <tr>\n      <th>39</th>\n      <td>0675c4c2-7948-4f09-8d8c-40a70d2e4e09</td>\n      <td>raw</td>\n      <td>39</td>\n      <td>delivery_courier</td>\n      <td>2019-11-01 22:36:02.009271</td>\n      <td>629881394</td>\n    </tr>\n    <tr>\n      <th>42</th>\n      <td>4059ef03-5ad5-4875-aa0d-5b26e4975b0a</td>\n      <td>raw</td>\n      <td>42</td>\n      <td>payment_choice</td>\n      <td>2019-11-01 22:36:02.243274</td>\n      <td>629881394</td>\n    </tr>\n    <tr>\n      <th>44</th>\n      <td>5364be2e-1b37-4be6-a64a-a228f66a791f</td>\n      <td>raw</td>\n      <td>44</td>\n      <td>payment_cash</td>\n      <td>2019-11-01 22:36:03.415201</td>\n      <td>629881394</td>\n    </tr>\n    <tr>\n      <th>45</th>\n      <td>b4820e2f-bab8-43e7-9e01-685c40f2afd4</td>\n      <td>raw</td>\n      <td>45</td>\n      <td>payment_done</td>\n      <td>2019-11-01 22:36:03.999697</td>\n      <td>629881394</td>\n    </tr>\n    <tr>\n      <th>340</th>\n      <td>bee80162-926b-4415-8c7d-9b32e2e73c4a</td>\n      <td>raw</td>\n      <td>340</td>\n      <td>main</td>\n      <td>2019-11-07 12:40:46.004674</td>\n      <td>629881394</td>\n    </tr>\n    <tr>\n      <th>342</th>\n      <td>07ef4506-038c-4a9f-8dc6-2ef0efad6155</td>\n      <td>raw</td>\n      <td>342</td>\n      <td>catalog</td>\n      <td>2019-11-07 12:40:55.724185</td>\n      <td>629881394</td>\n    </tr>\n    <tr>\n      <th>345</th>\n      <td>313d0215-ffb5-4ad2-a46d-cf2030b0a6f0</td>\n      <td>raw</td>\n      <td>345</td>\n      <td>cart</td>\n      <td>2019-11-07 12:41:04.107187</td>\n      <td>629881394</td>\n    </tr>\n    <tr>\n      <th>1330</th>\n      <td>617be453-f58e-4f3f-8666-2ac66802e4e5</td>\n      <td>raw</td>\n      <td>1330</td>\n      <td>main</td>\n      <td>2019-11-25 23:16:56.317624</td>\n      <td>629881394</td>\n    </tr>\n    <tr>\n      <th>1331</th>\n      <td>fdb704b6-50be-46c6-9e70-f22e14ffd60c</td>\n      <td>raw</td>\n      <td>1331</td>\n      <td>catalog</td>\n      <td>2019-11-25 23:17:16.266242</td>\n      <td>629881394</td>\n    </tr>\n    <tr>\n      <th>1332</th>\n      <td>623656eb-27f8-4793-9bc9-b38bcefc2115</td>\n      <td>raw</td>\n      <td>1332</td>\n      <td>catalog</td>\n      <td>2019-11-25 23:17:48.747304</td>\n      <td>629881394</td>\n    </tr>\n    <tr>\n      <th>6292</th>\n      <td>121b2ff8-260b-4761-bcea-34e1d80e725f</td>\n      <td>raw</td>\n      <td>6292</td>\n      <td>main</td>\n      <td>2020-01-23 18:56:23.445236</td>\n      <td>629881394</td>\n    </tr>\n    <tr>\n      <th>6293</th>\n      <td>7a5bfa80-0439-4329-8001-8ad06dd2e966</td>\n      <td>raw</td>\n      <td>6293</td>\n      <td>catalog</td>\n      <td>2020-01-23 18:56:30.461624</td>\n      <td>629881394</td>\n    </tr>\n    <tr>\n      <th>10660</th>\n      <td>9061906d-35dd-4dc1-91c4-94f3ab40c403</td>\n      <td>raw</td>\n      <td>10660</td>\n      <td>main</td>\n      <td>2020-03-01 23:23:43.392597</td>\n      <td>629881394</td>\n    </tr>\n    <tr>\n      <th>10661</th>\n      <td>c6459098-290e-4f4c-b555-1d82c972caa3</td>\n      <td>raw</td>\n      <td>10661</td>\n      <td>catalog</td>\n      <td>2020-03-01 23:23:44.755693</td>\n      <td>629881394</td>\n    </tr>\n    <tr>\n      <th>10662</th>\n      <td>6cc80b7b-98b8-4e8a-9e1f-358811079426</td>\n      <td>raw</td>\n      <td>10662</td>\n      <td>main</td>\n      <td>2020-03-01 23:23:51.625991</td>\n      <td>629881394</td>\n    </tr>\n    <tr>\n      <th>11455</th>\n      <td>7e83e766-edd7-4f67-ae94-b9d8cdc58c3f</td>\n      <td>raw</td>\n      <td>11455</td>\n      <td>main</td>\n      <td>2020-03-07 12:05:23.938242</td>\n      <td>629881394</td>\n    </tr>\n    <tr>\n      <th>11456</th>\n      <td>8873103c-edcd-45d2-990e-d501b4032988</td>\n      <td>raw</td>\n      <td>11456</td>\n      <td>catalog</td>\n      <td>2020-03-07 12:05:32.476046</td>\n      <td>629881394</td>\n    </tr>\n    <tr>\n      <th>13881</th>\n      <td>c5e7f62d-bf2f-44cf-b2da-449a140afd2e</td>\n      <td>raw</td>\n      <td>13881</td>\n      <td>main</td>\n      <td>2020-03-26 13:00:47.844886</td>\n      <td>629881394</td>\n    </tr>\n    <tr>\n      <th>13882</th>\n      <td>85b596b0-bbc0-49b6-b418-0bad3ab50944</td>\n      <td>raw</td>\n      <td>13882</td>\n      <td>catalog</td>\n      <td>2020-03-26 13:00:49.531644</td>\n      <td>629881394</td>\n    </tr>\n    <tr>\n      <th>14458</th>\n      <td>9893a16a-2418-49c0-a191-67bee3aff406</td>\n      <td>raw</td>\n      <td>14458</td>\n      <td>main</td>\n      <td>2020-03-30 00:11:47.920536</td>\n      <td>629881394</td>\n    </tr>\n    <tr>\n      <th>14481</th>\n      <td>39a85524-7c26-42b4-a24e-d70d89671624</td>\n      <td>raw</td>\n      <td>14481</td>\n      <td>main</td>\n      <td>2020-03-30 03:17:46.909845</td>\n      <td>629881394</td>\n    </tr>\n    <tr>\n      <th>14482</th>\n      <td>b45a14fa-4afa-4a0d-b7b1-c3feba876b82</td>\n      <td>raw</td>\n      <td>14482</td>\n      <td>catalog</td>\n      <td>2020-03-30 03:17:49.918774</td>\n      <td>629881394</td>\n    </tr>\n    <tr>\n      <th>14483</th>\n      <td>539e36de-0913-4b8e-abf3-2be5ea76a608</td>\n      <td>raw</td>\n      <td>14483</td>\n      <td>catalog</td>\n      <td>2020-03-30 03:18:17.835191</td>\n      <td>629881394</td>\n    </tr>\n    <tr>\n      <th>14484</th>\n      <td>7313ce4e-130b-466a-bb71-2a07baaae179</td>\n      <td>raw</td>\n      <td>14484</td>\n      <td>catalog</td>\n      <td>2020-03-30 03:18:53.715887</td>\n      <td>629881394</td>\n    </tr>\n    <tr>\n      <th>14485</th>\n      <td>660dcf90-3a7d-4d50-9e28-b7082f8eb522</td>\n      <td>raw</td>\n      <td>14485</td>\n      <td>catalog</td>\n      <td>2020-03-30 03:19:36.034262</td>\n      <td>629881394</td>\n    </tr>\n    <tr>\n      <th>14486</th>\n      <td>3f4f61d6-9fb8-489f-ab34-f3de85919fce</td>\n      <td>raw</td>\n      <td>14486</td>\n      <td>catalog</td>\n      <td>2020-03-30 03:19:59.515094</td>\n      <td>629881394</td>\n    </tr>\n  </tbody>\n</table>\n</div>"
     },
     "execution_count": 66,
     "metadata": {},
     "output_type": "execute_result"
    }
   ],
   "source": [
    "print(f'Длина обрезанной траектории из source_df для пользователя  {check_id} - ', len(source_df[(source_df['user_id'] == check_id) &\\\n",
    "          (source_df['event_timestamp'] > event_time)]))\n",
    "source_df[(source_df['user_id'] == check_id) &\\\n",
    "          (source_df['event_timestamp'] > event_time)]"
   ],
   "metadata": {
    "collapsed": false,
    "pycharm": {
     "name": "#%%\n"
    }
   }
  },
  {
   "cell_type": "code",
   "execution_count": 67,
   "outputs": [
    {
     "name": "stdout",
     "output_type": "stream",
     "text": [
      "48\n"
     ]
    },
    {
     "data": {
      "text/plain": "                                   event_id event_type  event_index  \\\n7      80f39ba7-6fe7-4807-b861-0bf310b0d3f8        raw            7   \n9      c96cfae1-7f00-49a1-a401-06a5ca509a9c        raw            9   \n11     897d59ef-4def-473d-b8b8-90bd2895b536        raw           11   \n13     7b720f69-6562-482e-bcd0-01b5085e9237        raw           13   \n14     70daf76a-ed57-416c-aed8-17d8daa480d7        raw           14   \n15     d659ac91-37e2-46bc-9423-d1f3c96865d2        raw           15   \n16     a6d20675-a8e0-4fc6-8343-53c95540abf6        raw           16   \n17     9fb7119e-2e18-43d8-9fe5-6e11fe3ff33c        raw           17   \n18     8731ceb0-5f4c-439d-ba1d-49b827b7bc84        raw           18   \n19     5ecf46bc-aa9c-4d0a-ab93-e7bc557cd26d        raw           19   \n20     7d87dd79-2232-47ba-a18d-8e8387f193ac        raw           20   \n21     bf4e0878-125c-471a-8946-8996188557ee        raw           21   \n22     a2743119-14b8-498e-abba-fe8f40021b53        raw           22   \n23     36a74849-c923-434b-ab1b-c49c813d6b14        raw           23   \n24     b9e72bd3-b08d-4107-bb3d-c85cb02ccead        raw           24   \n25     7c0023c7-cc16-4089-9f80-f42077e34d98        raw           25   \n27     aaf77e10-0adf-4b3f-9f41-4c7cd66b5b4e        raw           27   \n29     83db7c69-1bfe-4cb0-a40a-bffc5d24159d        raw           29   \n31     ad448920-16e6-4a36-975a-abec4b3e0e6c        raw           31   \n33     a9e4d43c-5a97-442b-88c0-9afa15380323        raw           33   \n36     ba54d47e-8105-4e04-a055-ef473719a441        raw           36   \n38     e980bc98-8cee-4ca5-a062-887f1be61956        raw           38   \n39     0675c4c2-7948-4f09-8d8c-40a70d2e4e09        raw           39   \n42     4059ef03-5ad5-4875-aa0d-5b26e4975b0a        raw           42   \n44     5364be2e-1b37-4be6-a64a-a228f66a791f        raw           44   \n45     b4820e2f-bab8-43e7-9e01-685c40f2afd4        raw           45   \n340    bee80162-926b-4415-8c7d-9b32e2e73c4a        raw          340   \n342    07ef4506-038c-4a9f-8dc6-2ef0efad6155        raw          342   \n345    313d0215-ffb5-4ad2-a46d-cf2030b0a6f0        raw          345   \n1330   617be453-f58e-4f3f-8666-2ac66802e4e5        raw         1330   \n1331   fdb704b6-50be-46c6-9e70-f22e14ffd60c        raw         1331   \n1332   623656eb-27f8-4793-9bc9-b38bcefc2115        raw         1332   \n6292   121b2ff8-260b-4761-bcea-34e1d80e725f        raw         6292   \n6293   7a5bfa80-0439-4329-8001-8ad06dd2e966        raw         6293   \n10660  9061906d-35dd-4dc1-91c4-94f3ab40c403        raw        10660   \n10661  c6459098-290e-4f4c-b555-1d82c972caa3        raw        10661   \n10662  6cc80b7b-98b8-4e8a-9e1f-358811079426        raw        10662   \n11455  7e83e766-edd7-4f67-ae94-b9d8cdc58c3f        raw        11455   \n11456  8873103c-edcd-45d2-990e-d501b4032988        raw        11456   \n13881  c5e7f62d-bf2f-44cf-b2da-449a140afd2e        raw        13881   \n13882  85b596b0-bbc0-49b6-b418-0bad3ab50944        raw        13882   \n14458  9893a16a-2418-49c0-a191-67bee3aff406        raw        14458   \n14481  39a85524-7c26-42b4-a24e-d70d89671624        raw        14481   \n14482  b45a14fa-4afa-4a0d-b7b1-c3feba876b82        raw        14482   \n14483  539e36de-0913-4b8e-abf3-2be5ea76a608        raw        14483   \n14484  7313ce4e-130b-466a-bb71-2a07baaae179        raw        14484   \n14485  660dcf90-3a7d-4d50-9e28-b7082f8eb522        raw        14485   \n14486  3f4f61d6-9fb8-489f-ab34-f3de85919fce        raw        14486   \n\n             event_name            event_timestamp    user_id  \n7                  main 2019-11-01 22:28:54.791683  629881394  \n9               catalog 2019-11-01 22:29:01.049513  629881394  \n11              catalog 2019-11-01 22:29:32.322458  629881394  \n13              catalog 2019-11-01 22:30:09.450839  629881394  \n14              catalog 2019-11-01 22:31:05.565762  629881394  \n15                 main 2019-11-01 22:31:08.333560  629881394  \n16              catalog 2019-11-01 22:31:09.010626  629881394  \n17             product1 2019-11-01 22:31:10.416231  629881394  \n18              catalog 2019-11-01 22:31:43.019527  629881394  \n19              catalog 2019-11-01 22:32:01.596163  629881394  \n20             product1 2019-11-01 22:32:07.348536  629881394  \n21              catalog 2019-11-01 22:32:10.165568  629881394  \n22             product2 2019-11-01 22:32:16.496241  629881394  \n23              catalog 2019-11-01 22:33:17.682468  629881394  \n24             product1 2019-11-01 22:33:19.961115  629881394  \n25              catalog 2019-11-01 22:33:35.460345  629881394  \n27              catalog 2019-11-01 22:34:02.301293  629881394  \n29             product2 2019-11-01 22:34:32.362386  629881394  \n31              catalog 2019-11-01 22:35:01.462515  629881394  \n33             product2 2019-11-01 22:35:33.142711  629881394  \n36                 cart 2019-11-01 22:35:50.437706  629881394  \n38      delivery_choice 2019-11-01 22:35:57.649549  629881394  \n39     delivery_courier 2019-11-01 22:36:02.009271  629881394  \n42       payment_choice 2019-11-01 22:36:02.243274  629881394  \n44         payment_cash 2019-11-01 22:36:03.415201  629881394  \n45         payment_done 2019-11-01 22:36:03.999697  629881394  \n340                main 2019-11-07 12:40:46.004674  629881394  \n342             catalog 2019-11-07 12:40:55.724185  629881394  \n345                cart 2019-11-07 12:41:04.107187  629881394  \n1330               main 2019-11-25 23:16:56.317624  629881394  \n1331            catalog 2019-11-25 23:17:16.266242  629881394  \n1332            catalog 2019-11-25 23:17:48.747304  629881394  \n6292               main 2020-01-23 18:56:23.445236  629881394  \n6293            catalog 2020-01-23 18:56:30.461624  629881394  \n10660              main 2020-03-01 23:23:43.392597  629881394  \n10661           catalog 2020-03-01 23:23:44.755693  629881394  \n10662              main 2020-03-01 23:23:51.625991  629881394  \n11455              main 2020-03-07 12:05:23.938242  629881394  \n11456           catalog 2020-03-07 12:05:32.476046  629881394  \n13881              main 2020-03-26 13:00:47.844886  629881394  \n13882           catalog 2020-03-26 13:00:49.531644  629881394  \n14458              main 2020-03-30 00:11:47.920536  629881394  \n14481              main 2020-03-30 03:17:46.909845  629881394  \n14482           catalog 2020-03-30 03:17:49.918774  629881394  \n14483           catalog 2020-03-30 03:18:17.835191  629881394  \n14484           catalog 2020-03-30 03:18:53.715887  629881394  \n14485           catalog 2020-03-30 03:19:36.034262  629881394  \n14486           catalog 2020-03-30 03:19:59.515094  629881394  ",
      "text/html": "<div>\n<style scoped>\n    .dataframe tbody tr th:only-of-type {\n        vertical-align: middle;\n    }\n\n    .dataframe tbody tr th {\n        vertical-align: top;\n    }\n\n    .dataframe thead th {\n        text-align: right;\n    }\n</style>\n<table border=\"1\" class=\"dataframe\">\n  <thead>\n    <tr style=\"text-align: right;\">\n      <th></th>\n      <th>event_id</th>\n      <th>event_type</th>\n      <th>event_index</th>\n      <th>event_name</th>\n      <th>event_timestamp</th>\n      <th>user_id</th>\n    </tr>\n  </thead>\n  <tbody>\n    <tr>\n      <th>7</th>\n      <td>80f39ba7-6fe7-4807-b861-0bf310b0d3f8</td>\n      <td>raw</td>\n      <td>7</td>\n      <td>main</td>\n      <td>2019-11-01 22:28:54.791683</td>\n      <td>629881394</td>\n    </tr>\n    <tr>\n      <th>9</th>\n      <td>c96cfae1-7f00-49a1-a401-06a5ca509a9c</td>\n      <td>raw</td>\n      <td>9</td>\n      <td>catalog</td>\n      <td>2019-11-01 22:29:01.049513</td>\n      <td>629881394</td>\n    </tr>\n    <tr>\n      <th>11</th>\n      <td>897d59ef-4def-473d-b8b8-90bd2895b536</td>\n      <td>raw</td>\n      <td>11</td>\n      <td>catalog</td>\n      <td>2019-11-01 22:29:32.322458</td>\n      <td>629881394</td>\n    </tr>\n    <tr>\n      <th>13</th>\n      <td>7b720f69-6562-482e-bcd0-01b5085e9237</td>\n      <td>raw</td>\n      <td>13</td>\n      <td>catalog</td>\n      <td>2019-11-01 22:30:09.450839</td>\n      <td>629881394</td>\n    </tr>\n    <tr>\n      <th>14</th>\n      <td>70daf76a-ed57-416c-aed8-17d8daa480d7</td>\n      <td>raw</td>\n      <td>14</td>\n      <td>catalog</td>\n      <td>2019-11-01 22:31:05.565762</td>\n      <td>629881394</td>\n    </tr>\n    <tr>\n      <th>15</th>\n      <td>d659ac91-37e2-46bc-9423-d1f3c96865d2</td>\n      <td>raw</td>\n      <td>15</td>\n      <td>main</td>\n      <td>2019-11-01 22:31:08.333560</td>\n      <td>629881394</td>\n    </tr>\n    <tr>\n      <th>16</th>\n      <td>a6d20675-a8e0-4fc6-8343-53c95540abf6</td>\n      <td>raw</td>\n      <td>16</td>\n      <td>catalog</td>\n      <td>2019-11-01 22:31:09.010626</td>\n      <td>629881394</td>\n    </tr>\n    <tr>\n      <th>17</th>\n      <td>9fb7119e-2e18-43d8-9fe5-6e11fe3ff33c</td>\n      <td>raw</td>\n      <td>17</td>\n      <td>product1</td>\n      <td>2019-11-01 22:31:10.416231</td>\n      <td>629881394</td>\n    </tr>\n    <tr>\n      <th>18</th>\n      <td>8731ceb0-5f4c-439d-ba1d-49b827b7bc84</td>\n      <td>raw</td>\n      <td>18</td>\n      <td>catalog</td>\n      <td>2019-11-01 22:31:43.019527</td>\n      <td>629881394</td>\n    </tr>\n    <tr>\n      <th>19</th>\n      <td>5ecf46bc-aa9c-4d0a-ab93-e7bc557cd26d</td>\n      <td>raw</td>\n      <td>19</td>\n      <td>catalog</td>\n      <td>2019-11-01 22:32:01.596163</td>\n      <td>629881394</td>\n    </tr>\n    <tr>\n      <th>20</th>\n      <td>7d87dd79-2232-47ba-a18d-8e8387f193ac</td>\n      <td>raw</td>\n      <td>20</td>\n      <td>product1</td>\n      <td>2019-11-01 22:32:07.348536</td>\n      <td>629881394</td>\n    </tr>\n    <tr>\n      <th>21</th>\n      <td>bf4e0878-125c-471a-8946-8996188557ee</td>\n      <td>raw</td>\n      <td>21</td>\n      <td>catalog</td>\n      <td>2019-11-01 22:32:10.165568</td>\n      <td>629881394</td>\n    </tr>\n    <tr>\n      <th>22</th>\n      <td>a2743119-14b8-498e-abba-fe8f40021b53</td>\n      <td>raw</td>\n      <td>22</td>\n      <td>product2</td>\n      <td>2019-11-01 22:32:16.496241</td>\n      <td>629881394</td>\n    </tr>\n    <tr>\n      <th>23</th>\n      <td>36a74849-c923-434b-ab1b-c49c813d6b14</td>\n      <td>raw</td>\n      <td>23</td>\n      <td>catalog</td>\n      <td>2019-11-01 22:33:17.682468</td>\n      <td>629881394</td>\n    </tr>\n    <tr>\n      <th>24</th>\n      <td>b9e72bd3-b08d-4107-bb3d-c85cb02ccead</td>\n      <td>raw</td>\n      <td>24</td>\n      <td>product1</td>\n      <td>2019-11-01 22:33:19.961115</td>\n      <td>629881394</td>\n    </tr>\n    <tr>\n      <th>25</th>\n      <td>7c0023c7-cc16-4089-9f80-f42077e34d98</td>\n      <td>raw</td>\n      <td>25</td>\n      <td>catalog</td>\n      <td>2019-11-01 22:33:35.460345</td>\n      <td>629881394</td>\n    </tr>\n    <tr>\n      <th>27</th>\n      <td>aaf77e10-0adf-4b3f-9f41-4c7cd66b5b4e</td>\n      <td>raw</td>\n      <td>27</td>\n      <td>catalog</td>\n      <td>2019-11-01 22:34:02.301293</td>\n      <td>629881394</td>\n    </tr>\n    <tr>\n      <th>29</th>\n      <td>83db7c69-1bfe-4cb0-a40a-bffc5d24159d</td>\n      <td>raw</td>\n      <td>29</td>\n      <td>product2</td>\n      <td>2019-11-01 22:34:32.362386</td>\n      <td>629881394</td>\n    </tr>\n    <tr>\n      <th>31</th>\n      <td>ad448920-16e6-4a36-975a-abec4b3e0e6c</td>\n      <td>raw</td>\n      <td>31</td>\n      <td>catalog</td>\n      <td>2019-11-01 22:35:01.462515</td>\n      <td>629881394</td>\n    </tr>\n    <tr>\n      <th>33</th>\n      <td>a9e4d43c-5a97-442b-88c0-9afa15380323</td>\n      <td>raw</td>\n      <td>33</td>\n      <td>product2</td>\n      <td>2019-11-01 22:35:33.142711</td>\n      <td>629881394</td>\n    </tr>\n    <tr>\n      <th>36</th>\n      <td>ba54d47e-8105-4e04-a055-ef473719a441</td>\n      <td>raw</td>\n      <td>36</td>\n      <td>cart</td>\n      <td>2019-11-01 22:35:50.437706</td>\n      <td>629881394</td>\n    </tr>\n    <tr>\n      <th>38</th>\n      <td>e980bc98-8cee-4ca5-a062-887f1be61956</td>\n      <td>raw</td>\n      <td>38</td>\n      <td>delivery_choice</td>\n      <td>2019-11-01 22:35:57.649549</td>\n      <td>629881394</td>\n    </tr>\n    <tr>\n      <th>39</th>\n      <td>0675c4c2-7948-4f09-8d8c-40a70d2e4e09</td>\n      <td>raw</td>\n      <td>39</td>\n      <td>delivery_courier</td>\n      <td>2019-11-01 22:36:02.009271</td>\n      <td>629881394</td>\n    </tr>\n    <tr>\n      <th>42</th>\n      <td>4059ef03-5ad5-4875-aa0d-5b26e4975b0a</td>\n      <td>raw</td>\n      <td>42</td>\n      <td>payment_choice</td>\n      <td>2019-11-01 22:36:02.243274</td>\n      <td>629881394</td>\n    </tr>\n    <tr>\n      <th>44</th>\n      <td>5364be2e-1b37-4be6-a64a-a228f66a791f</td>\n      <td>raw</td>\n      <td>44</td>\n      <td>payment_cash</td>\n      <td>2019-11-01 22:36:03.415201</td>\n      <td>629881394</td>\n    </tr>\n    <tr>\n      <th>45</th>\n      <td>b4820e2f-bab8-43e7-9e01-685c40f2afd4</td>\n      <td>raw</td>\n      <td>45</td>\n      <td>payment_done</td>\n      <td>2019-11-01 22:36:03.999697</td>\n      <td>629881394</td>\n    </tr>\n    <tr>\n      <th>340</th>\n      <td>bee80162-926b-4415-8c7d-9b32e2e73c4a</td>\n      <td>raw</td>\n      <td>340</td>\n      <td>main</td>\n      <td>2019-11-07 12:40:46.004674</td>\n      <td>629881394</td>\n    </tr>\n    <tr>\n      <th>342</th>\n      <td>07ef4506-038c-4a9f-8dc6-2ef0efad6155</td>\n      <td>raw</td>\n      <td>342</td>\n      <td>catalog</td>\n      <td>2019-11-07 12:40:55.724185</td>\n      <td>629881394</td>\n    </tr>\n    <tr>\n      <th>345</th>\n      <td>313d0215-ffb5-4ad2-a46d-cf2030b0a6f0</td>\n      <td>raw</td>\n      <td>345</td>\n      <td>cart</td>\n      <td>2019-11-07 12:41:04.107187</td>\n      <td>629881394</td>\n    </tr>\n    <tr>\n      <th>1330</th>\n      <td>617be453-f58e-4f3f-8666-2ac66802e4e5</td>\n      <td>raw</td>\n      <td>1330</td>\n      <td>main</td>\n      <td>2019-11-25 23:16:56.317624</td>\n      <td>629881394</td>\n    </tr>\n    <tr>\n      <th>1331</th>\n      <td>fdb704b6-50be-46c6-9e70-f22e14ffd60c</td>\n      <td>raw</td>\n      <td>1331</td>\n      <td>catalog</td>\n      <td>2019-11-25 23:17:16.266242</td>\n      <td>629881394</td>\n    </tr>\n    <tr>\n      <th>1332</th>\n      <td>623656eb-27f8-4793-9bc9-b38bcefc2115</td>\n      <td>raw</td>\n      <td>1332</td>\n      <td>catalog</td>\n      <td>2019-11-25 23:17:48.747304</td>\n      <td>629881394</td>\n    </tr>\n    <tr>\n      <th>6292</th>\n      <td>121b2ff8-260b-4761-bcea-34e1d80e725f</td>\n      <td>raw</td>\n      <td>6292</td>\n      <td>main</td>\n      <td>2020-01-23 18:56:23.445236</td>\n      <td>629881394</td>\n    </tr>\n    <tr>\n      <th>6293</th>\n      <td>7a5bfa80-0439-4329-8001-8ad06dd2e966</td>\n      <td>raw</td>\n      <td>6293</td>\n      <td>catalog</td>\n      <td>2020-01-23 18:56:30.461624</td>\n      <td>629881394</td>\n    </tr>\n    <tr>\n      <th>10660</th>\n      <td>9061906d-35dd-4dc1-91c4-94f3ab40c403</td>\n      <td>raw</td>\n      <td>10660</td>\n      <td>main</td>\n      <td>2020-03-01 23:23:43.392597</td>\n      <td>629881394</td>\n    </tr>\n    <tr>\n      <th>10661</th>\n      <td>c6459098-290e-4f4c-b555-1d82c972caa3</td>\n      <td>raw</td>\n      <td>10661</td>\n      <td>catalog</td>\n      <td>2020-03-01 23:23:44.755693</td>\n      <td>629881394</td>\n    </tr>\n    <tr>\n      <th>10662</th>\n      <td>6cc80b7b-98b8-4e8a-9e1f-358811079426</td>\n      <td>raw</td>\n      <td>10662</td>\n      <td>main</td>\n      <td>2020-03-01 23:23:51.625991</td>\n      <td>629881394</td>\n    </tr>\n    <tr>\n      <th>11455</th>\n      <td>7e83e766-edd7-4f67-ae94-b9d8cdc58c3f</td>\n      <td>raw</td>\n      <td>11455</td>\n      <td>main</td>\n      <td>2020-03-07 12:05:23.938242</td>\n      <td>629881394</td>\n    </tr>\n    <tr>\n      <th>11456</th>\n      <td>8873103c-edcd-45d2-990e-d501b4032988</td>\n      <td>raw</td>\n      <td>11456</td>\n      <td>catalog</td>\n      <td>2020-03-07 12:05:32.476046</td>\n      <td>629881394</td>\n    </tr>\n    <tr>\n      <th>13881</th>\n      <td>c5e7f62d-bf2f-44cf-b2da-449a140afd2e</td>\n      <td>raw</td>\n      <td>13881</td>\n      <td>main</td>\n      <td>2020-03-26 13:00:47.844886</td>\n      <td>629881394</td>\n    </tr>\n    <tr>\n      <th>13882</th>\n      <td>85b596b0-bbc0-49b6-b418-0bad3ab50944</td>\n      <td>raw</td>\n      <td>13882</td>\n      <td>catalog</td>\n      <td>2020-03-26 13:00:49.531644</td>\n      <td>629881394</td>\n    </tr>\n    <tr>\n      <th>14458</th>\n      <td>9893a16a-2418-49c0-a191-67bee3aff406</td>\n      <td>raw</td>\n      <td>14458</td>\n      <td>main</td>\n      <td>2020-03-30 00:11:47.920536</td>\n      <td>629881394</td>\n    </tr>\n    <tr>\n      <th>14481</th>\n      <td>39a85524-7c26-42b4-a24e-d70d89671624</td>\n      <td>raw</td>\n      <td>14481</td>\n      <td>main</td>\n      <td>2020-03-30 03:17:46.909845</td>\n      <td>629881394</td>\n    </tr>\n    <tr>\n      <th>14482</th>\n      <td>b45a14fa-4afa-4a0d-b7b1-c3feba876b82</td>\n      <td>raw</td>\n      <td>14482</td>\n      <td>catalog</td>\n      <td>2020-03-30 03:17:49.918774</td>\n      <td>629881394</td>\n    </tr>\n    <tr>\n      <th>14483</th>\n      <td>539e36de-0913-4b8e-abf3-2be5ea76a608</td>\n      <td>raw</td>\n      <td>14483</td>\n      <td>catalog</td>\n      <td>2020-03-30 03:18:17.835191</td>\n      <td>629881394</td>\n    </tr>\n    <tr>\n      <th>14484</th>\n      <td>7313ce4e-130b-466a-bb71-2a07baaae179</td>\n      <td>raw</td>\n      <td>14484</td>\n      <td>catalog</td>\n      <td>2020-03-30 03:18:53.715887</td>\n      <td>629881394</td>\n    </tr>\n    <tr>\n      <th>14485</th>\n      <td>660dcf90-3a7d-4d50-9e28-b7082f8eb522</td>\n      <td>raw</td>\n      <td>14485</td>\n      <td>catalog</td>\n      <td>2020-03-30 03:19:36.034262</td>\n      <td>629881394</td>\n    </tr>\n    <tr>\n      <th>14486</th>\n      <td>3f4f61d6-9fb8-489f-ab34-f3de85919fce</td>\n      <td>raw</td>\n      <td>14486</td>\n      <td>catalog</td>\n      <td>2020-03-30 03:19:59.515094</td>\n      <td>629881394</td>\n    </tr>\n  </tbody>\n</table>\n</div>"
     },
     "execution_count": 67,
     "metadata": {},
     "output_type": "execute_result"
    }
   ],
   "source": [
    "print(len(source_df[source_df['user_id'] == check_id]))\n",
    "source_df[source_df['user_id'] == check_id]"
   ],
   "metadata": {
    "collapsed": false,
    "pycharm": {
     "name": "#%%\n"
    }
   }
  },
  {
   "cell_type": "markdown",
   "source": [
    "### min_cjm"
   ],
   "metadata": {
    "collapsed": false,
    "pycharm": {
     "name": "#%% md\n"
    }
   }
  },
  {
   "cell_type": "code",
   "execution_count": 68,
   "outputs": [
    {
     "name": "stderr",
     "output_type": "stream",
     "text": [
      "/Users/Daria/Dev/Retentioneering/retentioneering-tools-new-arch/examples/../src/data_processors_lib/rete/cut_path_before_event.py:52: SettingWithCopyWarning: \n",
      "A value is trying to be set on a copy of a slice from a DataFrame.\n",
      "Try using .loc[row_indexer,col_indexer] = value instead\n",
      "\n",
      "See the caveats in the documentation: https://pandas.pydata.org/pandas-docs/stable/user_guide/indexing.html#returning-a-view-versus-a-copy\n",
      "  df_cut['num_groups'] = df_cut.groupby([user_col])[time_col].transform(\n"
     ]
    }
   ],
   "source": [
    "from src.data_processors_lib.rete import CutPathBeforeEvent, CutPathBeforeEventParams\n",
    "params = {\n",
    "    'cutoff_events': ['product2'],\n",
    "    'cut_shift': 0,\n",
    "    'min_cjm': 3\n",
    "}\n",
    "\n",
    "cut_before = EventsNode(\n",
    "    CutPathBeforeEvent(params=CutPathBeforeEventParams(**params)))\n",
    "\n",
    "graph.add_node(\n",
    "    node=cut_before,\n",
    "    parents=[graph.root]\n",
    ")\n",
    "\n",
    "result = graph.combine(\n",
    "    node=cut_before\n",
    ")\n"
   ],
   "metadata": {
    "collapsed": false,
    "pycharm": {
     "name": "#%%\n"
    }
   }
  },
  {
   "cell_type": "code",
   "execution_count": 69,
   "outputs": [
    {
     "name": "stdout",
     "output_type": "stream",
     "text": [
      "0\n"
     ]
    },
    {
     "data": {
      "text/plain": "0"
     },
     "execution_count": 69,
     "metadata": {},
     "output_type": "execute_result"
    }
   ],
   "source": [
    "df93 = result.to_dataframe()\n",
    "print(source_df.duplicated(['event_name', 'event_timestamp', 'user_id']).sum())\n",
    "df93.duplicated(['event_name', 'event_timestamp', 'user_id']).sum()"
   ],
   "metadata": {
    "collapsed": false,
    "pycharm": {
     "name": "#%%\n"
    }
   }
  },
  {
   "cell_type": "code",
   "execution_count": 70,
   "outputs": [
    {
     "data": {
      "text/plain": "raw    14487\nName: event_type, dtype: int64"
     },
     "execution_count": 70,
     "metadata": {},
     "output_type": "execute_result"
    }
   ],
   "source": [
    "df93['event_type'].value_counts()"
   ],
   "metadata": {
    "collapsed": false,
    "pycharm": {
     "name": "#%%\n"
    }
   }
  },
  {
   "cell_type": "code",
   "execution_count": 71,
   "outputs": [
    {
     "data": {
      "text/plain": "raw    35381\nName: event_type, dtype: int64"
     },
     "execution_count": 71,
     "metadata": {},
     "output_type": "execute_result"
    }
   ],
   "source": [
    "source_df['event_type'].value_counts()"
   ],
   "metadata": {
    "collapsed": false,
    "pycharm": {
     "name": "#%%\n"
    }
   }
  },
  {
   "cell_type": "code",
   "execution_count": 72,
   "outputs": [
    {
     "data": {
      "text/plain": "2      91\n3     171\n4     128\n5     106\n6     124\n7     137\n8      97\n9      57\n10     55\n11     63\n12     50\n13     38\n14     24\n15     31\n16     33\n17     23\n18     22\n19     23\n20     18\n21     13\n22     13\n23      6\n24      8\n25      5\n26      5\n27     13\n28      7\n29      5\n30      6\n31      3\n32      5\n33      4\n34      3\n35      4\n36      2\n37      2\n38      2\n39      3\n40      1\n41      4\n42      2\n44      2\n46      1\n48      3\n49      1\n50      1\n52      1\n55      1\n60      1\n62      1\n67      1\n68      3\n69      1\n71      1\n73      1\n77      1\n81      1\n84      1\n88      1\nName: event_id, dtype: int64"
     },
     "execution_count": 72,
     "metadata": {},
     "output_type": "execute_result"
    }
   ],
   "source": [
    "df91.groupby(['user_id']).count()['event_id'].value_counts().sort_index()"
   ],
   "metadata": {
    "collapsed": false,
    "pycharm": {
     "name": "#%%\n"
    }
   }
  },
  {
   "cell_type": "code",
   "execution_count": 80,
   "outputs": [
    {
     "data": {
      "text/plain": "3     171\n4     128\n5     106\n6     124\n7     137\n8      97\n9      57\n10     55\n11     63\n12     50\n13     38\n14     24\n15     31\n16     33\n17     23\n18     22\n19     23\n20     18\n21     13\n22     13\n23      6\n24      8\n25      5\n26      5\n27     13\n28      7\n29      5\n30      6\n31      3\n32      5\n33      4\n34      3\n35      4\n36      2\n37      2\n38      2\n39      3\n40      1\n41      4\n42      2\n44      2\n46      1\n48      3\n49      1\n50      1\n52      1\n55      1\n60      1\n62      1\n67      1\n68      3\n69      1\n71      1\n73      1\n77      1\n81      1\n84      1\n88      1\nName: event_id, dtype: int64"
     },
     "execution_count": 80,
     "metadata": {},
     "output_type": "execute_result"
    }
   ],
   "source": [
    "df93.groupby(['user_id']).count()['event_id'].value_counts().sort_index()"
   ],
   "metadata": {
    "collapsed": false,
    "pycharm": {
     "name": "#%%\n"
    }
   }
  },
  {
   "cell_type": "code",
   "execution_count": 73,
   "outputs": [],
   "source": [],
   "metadata": {
    "collapsed": false,
    "pycharm": {
     "name": "#%%\n"
    }
   }
  },
  {
   "cell_type": "markdown",
   "source": [
    "### Несколько событий"
   ],
   "metadata": {
    "collapsed": false,
    "pycharm": {
     "name": "#%% md\n"
    }
   }
  },
  {
   "cell_type": "code",
   "execution_count": 81,
   "outputs": [
    {
     "name": "stderr",
     "output_type": "stream",
     "text": [
      "/Users/Daria/Dev/Retentioneering/retentioneering-tools-new-arch/examples/../src/data_processors_lib/rete/cut_path_before_event.py:52: SettingWithCopyWarning: \n",
      "A value is trying to be set on a copy of a slice from a DataFrame.\n",
      "Try using .loc[row_indexer,col_indexer] = value instead\n",
      "\n",
      "See the caveats in the documentation: https://pandas.pydata.org/pandas-docs/stable/user_guide/indexing.html#returning-a-view-versus-a-copy\n",
      "  df_cut['num_groups'] = df_cut.groupby([user_col])[time_col].transform(\n",
      "/Users/Daria/Dev/Retentioneering/retentioneering-tools-new-arch/examples/../src/data_processors_lib/rete/cut_path_before_event.py:68: SettingWithCopyWarning: \n",
      "A value is trying to be set on a copy of a slice from a DataFrame.\n",
      "Try using .loc[row_indexer,col_indexer] = value instead\n",
      "\n",
      "See the caveats in the documentation: https://pandas.pydata.org/pandas-docs/stable/user_guide/indexing.html#returning-a-view-versus-a-copy\n",
      "  df_to_del['ref'] = df_to_del[eventstream.schema.event_id]\n"
     ]
    }
   ],
   "source": [
    "from src.data_processors_lib.rete import CutPathBeforeEvent, CutPathBeforeEventParams\n",
    "params = {\n",
    "    'cutoff_events': ['product2', 'product1'],\n",
    "    'cut_shift': 0,\n",
    "    'min_cjm': 0\n",
    "}\n",
    "\n",
    "cut_before = EventsNode(\n",
    "    CutPathBeforeEvent(params=CutPathBeforeEventParams(**params)))\n",
    "\n",
    "graph.add_node(\n",
    "    node=cut_before,\n",
    "    parents=[graph.root]\n",
    ")\n",
    "\n",
    "result = graph.combine(\n",
    "    node=cut_before\n",
    ")\n"
   ],
   "metadata": {
    "collapsed": false,
    "pycharm": {
     "name": "#%%\n"
    }
   }
  },
  {
   "cell_type": "code",
   "execution_count": 83,
   "outputs": [
    {
     "name": "stdout",
     "output_type": "stream",
     "text": [
      "0\n"
     ]
    },
    {
     "data": {
      "text/plain": "0"
     },
     "execution_count": 82,
     "metadata": {},
     "output_type": "execute_result"
    },
    {
     "name": "stdout",
     "output_type": "stream",
     "text": [
      "0\n"
     ]
    },
    {
     "data": {
      "text/plain": "0"
     },
     "execution_count": 83,
     "metadata": {},
     "output_type": "execute_result"
    }
   ],
   "source": [
    "df94 = result.to_dataframe()\n",
    "print(source_df.duplicated(['event_name', 'event_timestamp', 'user_id']).sum())\n",
    "df94.duplicated(['event_name', 'event_timestamp', 'user_id']).sum()"
   ],
   "metadata": {
    "collapsed": false,
    "pycharm": {
     "name": "#%%\n"
    }
   }
  },
  {
   "cell_type": "code",
   "execution_count": 86,
   "outputs": [
    {
     "name": "stdout",
     "output_type": "stream",
     "text": [
      "37\n"
     ]
    },
    {
     "data": {
      "text/plain": "Timestamp('2019-12-14 06:33:29.294200')"
     },
     "execution_count": 86,
     "metadata": {},
     "output_type": "execute_result"
    }
   ],
   "source": [
    "check_id = 168688753\n",
    "print(len(df94[df94['user_id'] == check_id]))\n",
    "event_time = source_df[(source_df['user_id'] == check_id) & \\\n",
    "    ((source_df['event_name'] == 'product1') | \\\n",
    "    (source_df['event_name'] == 'product2')\n",
    "     )]['event_timestamp'].min()\n",
    "event_time"
   ],
   "metadata": {
    "collapsed": false,
    "pycharm": {
     "name": "#%%\n"
    }
   }
  },
  {
   "cell_type": "code",
   "execution_count": 87,
   "outputs": [
    {
     "data": {
      "text/plain": "                                   event_id event_type  event_index  \\\n2837   cd5ab612-1fa3-4963-9c08-ed84498a901b        raw         2837   \n2838   762c30cb-3469-44cc-89e0-55366d21df93        raw         2838   \n2839   370c8e37-253a-4d3c-9fef-d557a86b0ec2        raw         2839   \n2840   b0fa96f9-8785-4c47-85fe-d0ef55dd634e        raw         2840   \n2841   86d2eba2-f69c-42c5-a719-cf6b157445bc        raw         2841   \n2842   1e4e6e0e-10f9-4123-ac18-5637a8b1d08d        raw         2842   \n2843   7b03dfb9-6846-4520-b5f2-0214f2a97c85        raw         2843   \n2844   7ecdf64d-727e-4b44-a46e-6357a295096c        raw         2844   \n2845   504a50d5-1f62-4855-8d85-e78b39c0255d        raw         2845   \n2846   0e448096-c477-4094-ab96-21bcef15c4c4        raw         2846   \n2847   e9d93c61-3300-4754-b2cc-8c686685af7a        raw         2847   \n2848   f3aeb7dd-9f66-42c0-87e6-58b7e3871b4e        raw         2848   \n2849   baa8b826-5304-4e3a-bc13-8d7e6a5becf3        raw         2849   \n4607   4354bdce-5966-4c93-8dee-4817a2bc1fb9        raw         4607   \n5245   23ce69dd-943a-4d01-9c9f-3721804a3964        raw         5245   \n5246   9bf140ad-53d7-4bcc-8444-2886ec3bdabd        raw         5246   \n5247   ae5d2eb3-d41d-4257-89c0-95cac6063a3c        raw         5247   \n5248   da40d57b-3d3c-42aa-8384-86bea3c6dcf0        raw         5248   \n5249   32bf4941-200d-460e-94aa-e41a9e6b1044        raw         5249   \n5250   362c5434-a36f-41c7-9270-de5c967876cd        raw         5250   \n5251   ba85bda4-f4c9-4292-bffa-7da1b927d148        raw         5251   \n5252   af9c4f24-7971-48d7-88e1-36e4eb2bf2aa        raw         5252   \n8326   32d4af90-9082-44b6-ad5c-b593b0ec740d        raw         8326   \n8327   e4896098-e8b3-4071-9dc3-4ed808896f65        raw         8327   \n8328   53fa162a-0c45-4286-8c38-d8a73b1bceb2        raw         8328   \n8329   97532287-7792-4ed8-a18e-6bb4e4d778af        raw         8329   \n8330   e1d46d14-ff66-4fa0-a32f-084d65576532        raw         8330   \n8331   080190c8-9bf5-42e4-bb18-a48780aaa970        raw         8331   \n8332   96bea595-0069-4fbf-9738-65836b77de78        raw         8332   \n8333   b8a13e7a-3479-4b1d-b4fb-e2252cc79940        raw         8333   \n8334   a6fa2c61-fa2b-46a4-a92b-4cc8c14043b7        raw         8334   \n12501  f1fa94ff-cf42-4730-95ec-5e44cd4551ad        raw        12501   \n12502  90a488ae-dced-4c27-aa01-3af6e0974935        raw        12502   \n12503  2840922a-7e88-42b5-b3d4-3b3cdb02b25a        raw        12503   \n12504  5a2a1831-9de7-42e9-b490-f7263fa5d23e        raw        12504   \n12505  e4dbffdf-2fd0-44df-81f6-0b7f48dc8c5b        raw        12505   \n12506  4bc16ad5-94a4-49b6-bc07-739c99955abd        raw        12506   \n\n             event_name            event_timestamp    user_id  \n2837           product2 2019-12-14 06:33:29.294200  168688753  \n2838            catalog 2019-12-14 06:33:30.657942  168688753  \n2839            catalog 2019-12-14 06:33:38.687904  168688753  \n2840           product1 2019-12-14 06:33:54.105418  168688753  \n2841               cart 2019-12-14 06:33:57.608245  168688753  \n2842    delivery_choice 2019-12-14 06:33:57.636413  168688753  \n2843            catalog 2019-12-14 06:34:04.620721  168688753  \n2844            catalog 2019-12-14 06:34:09.161217  168688753  \n2845            catalog 2019-12-14 06:34:12.994666  168688753  \n2846            catalog 2019-12-14 06:34:37.431860  168688753  \n2847            catalog 2019-12-14 06:34:52.331349  168688753  \n2848           product1 2019-12-14 06:35:04.950946  168688753  \n2849            catalog 2019-12-14 06:35:23.378459  168688753  \n4607               main 2020-01-05 01:12:20.088207  168688753  \n5245               main 2020-01-11 07:17:34.083275  168688753  \n5246            catalog 2020-01-11 07:17:38.576581  168688753  \n5247               cart 2020-01-11 07:18:06.285462  168688753  \n5248    delivery_choice 2020-01-11 07:18:08.718102  168688753  \n5249   delivery_courier 2020-01-11 07:18:11.881274  168688753  \n5250     payment_choice 2020-01-11 07:18:13.902151  168688753  \n5251       payment_cash 2020-01-11 07:18:14.144647  168688753  \n5252       payment_done 2020-01-11 07:18:15.298737  168688753  \n8326               main 2020-02-11 16:21:29.539728  168688753  \n8327            catalog 2020-02-11 16:21:29.835502  168688753  \n8328           product2 2020-02-11 16:21:34.035051  168688753  \n8329            catalog 2020-02-11 16:21:46.686609  168688753  \n8330               main 2020-02-11 16:21:56.387275  168688753  \n8331            catalog 2020-02-11 16:22:03.651007  168688753  \n8332               main 2020-02-11 16:22:19.734515  168688753  \n8333            catalog 2020-02-11 16:22:23.720972  168688753  \n8334            catalog 2020-02-11 16:23:41.190643  168688753  \n12501              main 2020-03-15 06:02:34.952325  168688753  \n12502           catalog 2020-03-15 06:02:38.509449  168688753  \n12503           catalog 2020-03-15 06:02:50.447875  168688753  \n12504           catalog 2020-03-15 06:02:51.679230  168688753  \n12505          product1 2020-03-15 06:02:52.571970  168688753  \n12506              cart 2020-03-15 06:03:09.277120  168688753  ",
      "text/html": "<div>\n<style scoped>\n    .dataframe tbody tr th:only-of-type {\n        vertical-align: middle;\n    }\n\n    .dataframe tbody tr th {\n        vertical-align: top;\n    }\n\n    .dataframe thead th {\n        text-align: right;\n    }\n</style>\n<table border=\"1\" class=\"dataframe\">\n  <thead>\n    <tr style=\"text-align: right;\">\n      <th></th>\n      <th>event_id</th>\n      <th>event_type</th>\n      <th>event_index</th>\n      <th>event_name</th>\n      <th>event_timestamp</th>\n      <th>user_id</th>\n    </tr>\n  </thead>\n  <tbody>\n    <tr>\n      <th>2837</th>\n      <td>cd5ab612-1fa3-4963-9c08-ed84498a901b</td>\n      <td>raw</td>\n      <td>2837</td>\n      <td>product2</td>\n      <td>2019-12-14 06:33:29.294200</td>\n      <td>168688753</td>\n    </tr>\n    <tr>\n      <th>2838</th>\n      <td>762c30cb-3469-44cc-89e0-55366d21df93</td>\n      <td>raw</td>\n      <td>2838</td>\n      <td>catalog</td>\n      <td>2019-12-14 06:33:30.657942</td>\n      <td>168688753</td>\n    </tr>\n    <tr>\n      <th>2839</th>\n      <td>370c8e37-253a-4d3c-9fef-d557a86b0ec2</td>\n      <td>raw</td>\n      <td>2839</td>\n      <td>catalog</td>\n      <td>2019-12-14 06:33:38.687904</td>\n      <td>168688753</td>\n    </tr>\n    <tr>\n      <th>2840</th>\n      <td>b0fa96f9-8785-4c47-85fe-d0ef55dd634e</td>\n      <td>raw</td>\n      <td>2840</td>\n      <td>product1</td>\n      <td>2019-12-14 06:33:54.105418</td>\n      <td>168688753</td>\n    </tr>\n    <tr>\n      <th>2841</th>\n      <td>86d2eba2-f69c-42c5-a719-cf6b157445bc</td>\n      <td>raw</td>\n      <td>2841</td>\n      <td>cart</td>\n      <td>2019-12-14 06:33:57.608245</td>\n      <td>168688753</td>\n    </tr>\n    <tr>\n      <th>2842</th>\n      <td>1e4e6e0e-10f9-4123-ac18-5637a8b1d08d</td>\n      <td>raw</td>\n      <td>2842</td>\n      <td>delivery_choice</td>\n      <td>2019-12-14 06:33:57.636413</td>\n      <td>168688753</td>\n    </tr>\n    <tr>\n      <th>2843</th>\n      <td>7b03dfb9-6846-4520-b5f2-0214f2a97c85</td>\n      <td>raw</td>\n      <td>2843</td>\n      <td>catalog</td>\n      <td>2019-12-14 06:34:04.620721</td>\n      <td>168688753</td>\n    </tr>\n    <tr>\n      <th>2844</th>\n      <td>7ecdf64d-727e-4b44-a46e-6357a295096c</td>\n      <td>raw</td>\n      <td>2844</td>\n      <td>catalog</td>\n      <td>2019-12-14 06:34:09.161217</td>\n      <td>168688753</td>\n    </tr>\n    <tr>\n      <th>2845</th>\n      <td>504a50d5-1f62-4855-8d85-e78b39c0255d</td>\n      <td>raw</td>\n      <td>2845</td>\n      <td>catalog</td>\n      <td>2019-12-14 06:34:12.994666</td>\n      <td>168688753</td>\n    </tr>\n    <tr>\n      <th>2846</th>\n      <td>0e448096-c477-4094-ab96-21bcef15c4c4</td>\n      <td>raw</td>\n      <td>2846</td>\n      <td>catalog</td>\n      <td>2019-12-14 06:34:37.431860</td>\n      <td>168688753</td>\n    </tr>\n    <tr>\n      <th>2847</th>\n      <td>e9d93c61-3300-4754-b2cc-8c686685af7a</td>\n      <td>raw</td>\n      <td>2847</td>\n      <td>catalog</td>\n      <td>2019-12-14 06:34:52.331349</td>\n      <td>168688753</td>\n    </tr>\n    <tr>\n      <th>2848</th>\n      <td>f3aeb7dd-9f66-42c0-87e6-58b7e3871b4e</td>\n      <td>raw</td>\n      <td>2848</td>\n      <td>product1</td>\n      <td>2019-12-14 06:35:04.950946</td>\n      <td>168688753</td>\n    </tr>\n    <tr>\n      <th>2849</th>\n      <td>baa8b826-5304-4e3a-bc13-8d7e6a5becf3</td>\n      <td>raw</td>\n      <td>2849</td>\n      <td>catalog</td>\n      <td>2019-12-14 06:35:23.378459</td>\n      <td>168688753</td>\n    </tr>\n    <tr>\n      <th>4607</th>\n      <td>4354bdce-5966-4c93-8dee-4817a2bc1fb9</td>\n      <td>raw</td>\n      <td>4607</td>\n      <td>main</td>\n      <td>2020-01-05 01:12:20.088207</td>\n      <td>168688753</td>\n    </tr>\n    <tr>\n      <th>5245</th>\n      <td>23ce69dd-943a-4d01-9c9f-3721804a3964</td>\n      <td>raw</td>\n      <td>5245</td>\n      <td>main</td>\n      <td>2020-01-11 07:17:34.083275</td>\n      <td>168688753</td>\n    </tr>\n    <tr>\n      <th>5246</th>\n      <td>9bf140ad-53d7-4bcc-8444-2886ec3bdabd</td>\n      <td>raw</td>\n      <td>5246</td>\n      <td>catalog</td>\n      <td>2020-01-11 07:17:38.576581</td>\n      <td>168688753</td>\n    </tr>\n    <tr>\n      <th>5247</th>\n      <td>ae5d2eb3-d41d-4257-89c0-95cac6063a3c</td>\n      <td>raw</td>\n      <td>5247</td>\n      <td>cart</td>\n      <td>2020-01-11 07:18:06.285462</td>\n      <td>168688753</td>\n    </tr>\n    <tr>\n      <th>5248</th>\n      <td>da40d57b-3d3c-42aa-8384-86bea3c6dcf0</td>\n      <td>raw</td>\n      <td>5248</td>\n      <td>delivery_choice</td>\n      <td>2020-01-11 07:18:08.718102</td>\n      <td>168688753</td>\n    </tr>\n    <tr>\n      <th>5249</th>\n      <td>32bf4941-200d-460e-94aa-e41a9e6b1044</td>\n      <td>raw</td>\n      <td>5249</td>\n      <td>delivery_courier</td>\n      <td>2020-01-11 07:18:11.881274</td>\n      <td>168688753</td>\n    </tr>\n    <tr>\n      <th>5250</th>\n      <td>362c5434-a36f-41c7-9270-de5c967876cd</td>\n      <td>raw</td>\n      <td>5250</td>\n      <td>payment_choice</td>\n      <td>2020-01-11 07:18:13.902151</td>\n      <td>168688753</td>\n    </tr>\n    <tr>\n      <th>5251</th>\n      <td>ba85bda4-f4c9-4292-bffa-7da1b927d148</td>\n      <td>raw</td>\n      <td>5251</td>\n      <td>payment_cash</td>\n      <td>2020-01-11 07:18:14.144647</td>\n      <td>168688753</td>\n    </tr>\n    <tr>\n      <th>5252</th>\n      <td>af9c4f24-7971-48d7-88e1-36e4eb2bf2aa</td>\n      <td>raw</td>\n      <td>5252</td>\n      <td>payment_done</td>\n      <td>2020-01-11 07:18:15.298737</td>\n      <td>168688753</td>\n    </tr>\n    <tr>\n      <th>8326</th>\n      <td>32d4af90-9082-44b6-ad5c-b593b0ec740d</td>\n      <td>raw</td>\n      <td>8326</td>\n      <td>main</td>\n      <td>2020-02-11 16:21:29.539728</td>\n      <td>168688753</td>\n    </tr>\n    <tr>\n      <th>8327</th>\n      <td>e4896098-e8b3-4071-9dc3-4ed808896f65</td>\n      <td>raw</td>\n      <td>8327</td>\n      <td>catalog</td>\n      <td>2020-02-11 16:21:29.835502</td>\n      <td>168688753</td>\n    </tr>\n    <tr>\n      <th>8328</th>\n      <td>53fa162a-0c45-4286-8c38-d8a73b1bceb2</td>\n      <td>raw</td>\n      <td>8328</td>\n      <td>product2</td>\n      <td>2020-02-11 16:21:34.035051</td>\n      <td>168688753</td>\n    </tr>\n    <tr>\n      <th>8329</th>\n      <td>97532287-7792-4ed8-a18e-6bb4e4d778af</td>\n      <td>raw</td>\n      <td>8329</td>\n      <td>catalog</td>\n      <td>2020-02-11 16:21:46.686609</td>\n      <td>168688753</td>\n    </tr>\n    <tr>\n      <th>8330</th>\n      <td>e1d46d14-ff66-4fa0-a32f-084d65576532</td>\n      <td>raw</td>\n      <td>8330</td>\n      <td>main</td>\n      <td>2020-02-11 16:21:56.387275</td>\n      <td>168688753</td>\n    </tr>\n    <tr>\n      <th>8331</th>\n      <td>080190c8-9bf5-42e4-bb18-a48780aaa970</td>\n      <td>raw</td>\n      <td>8331</td>\n      <td>catalog</td>\n      <td>2020-02-11 16:22:03.651007</td>\n      <td>168688753</td>\n    </tr>\n    <tr>\n      <th>8332</th>\n      <td>96bea595-0069-4fbf-9738-65836b77de78</td>\n      <td>raw</td>\n      <td>8332</td>\n      <td>main</td>\n      <td>2020-02-11 16:22:19.734515</td>\n      <td>168688753</td>\n    </tr>\n    <tr>\n      <th>8333</th>\n      <td>b8a13e7a-3479-4b1d-b4fb-e2252cc79940</td>\n      <td>raw</td>\n      <td>8333</td>\n      <td>catalog</td>\n      <td>2020-02-11 16:22:23.720972</td>\n      <td>168688753</td>\n    </tr>\n    <tr>\n      <th>8334</th>\n      <td>a6fa2c61-fa2b-46a4-a92b-4cc8c14043b7</td>\n      <td>raw</td>\n      <td>8334</td>\n      <td>catalog</td>\n      <td>2020-02-11 16:23:41.190643</td>\n      <td>168688753</td>\n    </tr>\n    <tr>\n      <th>12501</th>\n      <td>f1fa94ff-cf42-4730-95ec-5e44cd4551ad</td>\n      <td>raw</td>\n      <td>12501</td>\n      <td>main</td>\n      <td>2020-03-15 06:02:34.952325</td>\n      <td>168688753</td>\n    </tr>\n    <tr>\n      <th>12502</th>\n      <td>90a488ae-dced-4c27-aa01-3af6e0974935</td>\n      <td>raw</td>\n      <td>12502</td>\n      <td>catalog</td>\n      <td>2020-03-15 06:02:38.509449</td>\n      <td>168688753</td>\n    </tr>\n    <tr>\n      <th>12503</th>\n      <td>2840922a-7e88-42b5-b3d4-3b3cdb02b25a</td>\n      <td>raw</td>\n      <td>12503</td>\n      <td>catalog</td>\n      <td>2020-03-15 06:02:50.447875</td>\n      <td>168688753</td>\n    </tr>\n    <tr>\n      <th>12504</th>\n      <td>5a2a1831-9de7-42e9-b490-f7263fa5d23e</td>\n      <td>raw</td>\n      <td>12504</td>\n      <td>catalog</td>\n      <td>2020-03-15 06:02:51.679230</td>\n      <td>168688753</td>\n    </tr>\n    <tr>\n      <th>12505</th>\n      <td>e4dbffdf-2fd0-44df-81f6-0b7f48dc8c5b</td>\n      <td>raw</td>\n      <td>12505</td>\n      <td>product1</td>\n      <td>2020-03-15 06:02:52.571970</td>\n      <td>168688753</td>\n    </tr>\n    <tr>\n      <th>12506</th>\n      <td>4bc16ad5-94a4-49b6-bc07-739c99955abd</td>\n      <td>raw</td>\n      <td>12506</td>\n      <td>cart</td>\n      <td>2020-03-15 06:03:09.277120</td>\n      <td>168688753</td>\n    </tr>\n  </tbody>\n</table>\n</div>"
     },
     "execution_count": 87,
     "metadata": {},
     "output_type": "execute_result"
    }
   ],
   "source": [
    "source_df[(source_df['user_id'] == check_id) &\\\n",
    "          (source_df['event_timestamp'] >= event_time)]"
   ],
   "metadata": {
    "collapsed": false,
    "pycharm": {
     "name": "#%%\n"
    }
   }
  },
  {
   "cell_type": "code",
   "execution_count": 85,
   "outputs": [
    {
     "data": {
      "text/plain": "                                   event_id event_type  event_index  \\\n4241   cd5ab612-1fa3-4963-9c08-ed84498a901b        raw         4241   \n4242   762c30cb-3469-44cc-89e0-55366d21df93        raw         4242   \n4243   370c8e37-253a-4d3c-9fef-d557a86b0ec2        raw         4243   \n4244   b0fa96f9-8785-4c47-85fe-d0ef55dd634e        raw         4244   \n4245   86d2eba2-f69c-42c5-a719-cf6b157445bc        raw         4245   \n4246   1e4e6e0e-10f9-4123-ac18-5637a8b1d08d        raw         4246   \n4247   7b03dfb9-6846-4520-b5f2-0214f2a97c85        raw         4247   \n4248   7ecdf64d-727e-4b44-a46e-6357a295096c        raw         4248   \n4249   504a50d5-1f62-4855-8d85-e78b39c0255d        raw         4249   \n4250   0e448096-c477-4094-ab96-21bcef15c4c4        raw         4250   \n4251   e9d93c61-3300-4754-b2cc-8c686685af7a        raw         4251   \n4252   f3aeb7dd-9f66-42c0-87e6-58b7e3871b4e        raw         4252   \n4253   baa8b826-5304-4e3a-bc13-8d7e6a5becf3        raw         4253   \n6714   4354bdce-5966-4c93-8dee-4817a2bc1fb9        raw         6714   \n7620   23ce69dd-943a-4d01-9c9f-3721804a3964        raw         7620   \n7621   9bf140ad-53d7-4bcc-8444-2886ec3bdabd        raw         7621   \n7622   ae5d2eb3-d41d-4257-89c0-95cac6063a3c        raw         7622   \n7623   da40d57b-3d3c-42aa-8384-86bea3c6dcf0        raw         7623   \n7624   32bf4941-200d-460e-94aa-e41a9e6b1044        raw         7624   \n7625   362c5434-a36f-41c7-9270-de5c967876cd        raw         7625   \n7626   ba85bda4-f4c9-4292-bffa-7da1b927d148        raw         7626   \n7627   af9c4f24-7971-48d7-88e1-36e4eb2bf2aa        raw         7627   \n11888  32d4af90-9082-44b6-ad5c-b593b0ec740d        raw        11888   \n11889  e4896098-e8b3-4071-9dc3-4ed808896f65        raw        11889   \n11890  53fa162a-0c45-4286-8c38-d8a73b1bceb2        raw        11890   \n11891  97532287-7792-4ed8-a18e-6bb4e4d778af        raw        11891   \n11892  e1d46d14-ff66-4fa0-a32f-084d65576532        raw        11892   \n11893  080190c8-9bf5-42e4-bb18-a48780aaa970        raw        11893   \n11894  96bea595-0069-4fbf-9738-65836b77de78        raw        11894   \n11895  b8a13e7a-3479-4b1d-b4fb-e2252cc79940        raw        11895   \n11896  a6fa2c61-fa2b-46a4-a92b-4cc8c14043b7        raw        11896   \n17445  f1fa94ff-cf42-4730-95ec-5e44cd4551ad        raw        17445   \n17446  90a488ae-dced-4c27-aa01-3af6e0974935        raw        17446   \n17447  2840922a-7e88-42b5-b3d4-3b3cdb02b25a        raw        17447   \n17448  5a2a1831-9de7-42e9-b490-f7263fa5d23e        raw        17448   \n17449  e4dbffdf-2fd0-44df-81f6-0b7f48dc8c5b        raw        17449   \n17450  4bc16ad5-94a4-49b6-bc07-739c99955abd        raw        17450   \n\n             event_name            event_timestamp      user_id  \n4241           product2 2019-12-14 06:33:29.294200  168688753.0  \n4242            catalog 2019-12-14 06:33:30.657942  168688753.0  \n4243            catalog 2019-12-14 06:33:38.687904  168688753.0  \n4244           product1 2019-12-14 06:33:54.105418  168688753.0  \n4245               cart 2019-12-14 06:33:57.608245  168688753.0  \n4246    delivery_choice 2019-12-14 06:33:57.636413  168688753.0  \n4247            catalog 2019-12-14 06:34:04.620721  168688753.0  \n4248            catalog 2019-12-14 06:34:09.161217  168688753.0  \n4249            catalog 2019-12-14 06:34:12.994666  168688753.0  \n4250            catalog 2019-12-14 06:34:37.431860  168688753.0  \n4251            catalog 2019-12-14 06:34:52.331349  168688753.0  \n4252           product1 2019-12-14 06:35:04.950946  168688753.0  \n4253            catalog 2019-12-14 06:35:23.378459  168688753.0  \n6714               main 2020-01-05 01:12:20.088207  168688753.0  \n7620               main 2020-01-11 07:17:34.083275  168688753.0  \n7621            catalog 2020-01-11 07:17:38.576581  168688753.0  \n7622               cart 2020-01-11 07:18:06.285462  168688753.0  \n7623    delivery_choice 2020-01-11 07:18:08.718102  168688753.0  \n7624   delivery_courier 2020-01-11 07:18:11.881274  168688753.0  \n7625     payment_choice 2020-01-11 07:18:13.902151  168688753.0  \n7626       payment_cash 2020-01-11 07:18:14.144647  168688753.0  \n7627       payment_done 2020-01-11 07:18:15.298737  168688753.0  \n11888              main 2020-02-11 16:21:29.539728  168688753.0  \n11889           catalog 2020-02-11 16:21:29.835502  168688753.0  \n11890          product2 2020-02-11 16:21:34.035051  168688753.0  \n11891           catalog 2020-02-11 16:21:46.686609  168688753.0  \n11892              main 2020-02-11 16:21:56.387275  168688753.0  \n11893           catalog 2020-02-11 16:22:03.651007  168688753.0  \n11894              main 2020-02-11 16:22:19.734515  168688753.0  \n11895           catalog 2020-02-11 16:22:23.720972  168688753.0  \n11896           catalog 2020-02-11 16:23:41.190643  168688753.0  \n17445              main 2020-03-15 06:02:34.952325  168688753.0  \n17446           catalog 2020-03-15 06:02:38.509449  168688753.0  \n17447           catalog 2020-03-15 06:02:50.447875  168688753.0  \n17448           catalog 2020-03-15 06:02:51.679230  168688753.0  \n17449          product1 2020-03-15 06:02:52.571970  168688753.0  \n17450              cart 2020-03-15 06:03:09.277120  168688753.0  ",
      "text/html": "<div>\n<style scoped>\n    .dataframe tbody tr th:only-of-type {\n        vertical-align: middle;\n    }\n\n    .dataframe tbody tr th {\n        vertical-align: top;\n    }\n\n    .dataframe thead th {\n        text-align: right;\n    }\n</style>\n<table border=\"1\" class=\"dataframe\">\n  <thead>\n    <tr style=\"text-align: right;\">\n      <th></th>\n      <th>event_id</th>\n      <th>event_type</th>\n      <th>event_index</th>\n      <th>event_name</th>\n      <th>event_timestamp</th>\n      <th>user_id</th>\n    </tr>\n  </thead>\n  <tbody>\n    <tr>\n      <th>4241</th>\n      <td>cd5ab612-1fa3-4963-9c08-ed84498a901b</td>\n      <td>raw</td>\n      <td>4241</td>\n      <td>product2</td>\n      <td>2019-12-14 06:33:29.294200</td>\n      <td>168688753.0</td>\n    </tr>\n    <tr>\n      <th>4242</th>\n      <td>762c30cb-3469-44cc-89e0-55366d21df93</td>\n      <td>raw</td>\n      <td>4242</td>\n      <td>catalog</td>\n      <td>2019-12-14 06:33:30.657942</td>\n      <td>168688753.0</td>\n    </tr>\n    <tr>\n      <th>4243</th>\n      <td>370c8e37-253a-4d3c-9fef-d557a86b0ec2</td>\n      <td>raw</td>\n      <td>4243</td>\n      <td>catalog</td>\n      <td>2019-12-14 06:33:38.687904</td>\n      <td>168688753.0</td>\n    </tr>\n    <tr>\n      <th>4244</th>\n      <td>b0fa96f9-8785-4c47-85fe-d0ef55dd634e</td>\n      <td>raw</td>\n      <td>4244</td>\n      <td>product1</td>\n      <td>2019-12-14 06:33:54.105418</td>\n      <td>168688753.0</td>\n    </tr>\n    <tr>\n      <th>4245</th>\n      <td>86d2eba2-f69c-42c5-a719-cf6b157445bc</td>\n      <td>raw</td>\n      <td>4245</td>\n      <td>cart</td>\n      <td>2019-12-14 06:33:57.608245</td>\n      <td>168688753.0</td>\n    </tr>\n    <tr>\n      <th>4246</th>\n      <td>1e4e6e0e-10f9-4123-ac18-5637a8b1d08d</td>\n      <td>raw</td>\n      <td>4246</td>\n      <td>delivery_choice</td>\n      <td>2019-12-14 06:33:57.636413</td>\n      <td>168688753.0</td>\n    </tr>\n    <tr>\n      <th>4247</th>\n      <td>7b03dfb9-6846-4520-b5f2-0214f2a97c85</td>\n      <td>raw</td>\n      <td>4247</td>\n      <td>catalog</td>\n      <td>2019-12-14 06:34:04.620721</td>\n      <td>168688753.0</td>\n    </tr>\n    <tr>\n      <th>4248</th>\n      <td>7ecdf64d-727e-4b44-a46e-6357a295096c</td>\n      <td>raw</td>\n      <td>4248</td>\n      <td>catalog</td>\n      <td>2019-12-14 06:34:09.161217</td>\n      <td>168688753.0</td>\n    </tr>\n    <tr>\n      <th>4249</th>\n      <td>504a50d5-1f62-4855-8d85-e78b39c0255d</td>\n      <td>raw</td>\n      <td>4249</td>\n      <td>catalog</td>\n      <td>2019-12-14 06:34:12.994666</td>\n      <td>168688753.0</td>\n    </tr>\n    <tr>\n      <th>4250</th>\n      <td>0e448096-c477-4094-ab96-21bcef15c4c4</td>\n      <td>raw</td>\n      <td>4250</td>\n      <td>catalog</td>\n      <td>2019-12-14 06:34:37.431860</td>\n      <td>168688753.0</td>\n    </tr>\n    <tr>\n      <th>4251</th>\n      <td>e9d93c61-3300-4754-b2cc-8c686685af7a</td>\n      <td>raw</td>\n      <td>4251</td>\n      <td>catalog</td>\n      <td>2019-12-14 06:34:52.331349</td>\n      <td>168688753.0</td>\n    </tr>\n    <tr>\n      <th>4252</th>\n      <td>f3aeb7dd-9f66-42c0-87e6-58b7e3871b4e</td>\n      <td>raw</td>\n      <td>4252</td>\n      <td>product1</td>\n      <td>2019-12-14 06:35:04.950946</td>\n      <td>168688753.0</td>\n    </tr>\n    <tr>\n      <th>4253</th>\n      <td>baa8b826-5304-4e3a-bc13-8d7e6a5becf3</td>\n      <td>raw</td>\n      <td>4253</td>\n      <td>catalog</td>\n      <td>2019-12-14 06:35:23.378459</td>\n      <td>168688753.0</td>\n    </tr>\n    <tr>\n      <th>6714</th>\n      <td>4354bdce-5966-4c93-8dee-4817a2bc1fb9</td>\n      <td>raw</td>\n      <td>6714</td>\n      <td>main</td>\n      <td>2020-01-05 01:12:20.088207</td>\n      <td>168688753.0</td>\n    </tr>\n    <tr>\n      <th>7620</th>\n      <td>23ce69dd-943a-4d01-9c9f-3721804a3964</td>\n      <td>raw</td>\n      <td>7620</td>\n      <td>main</td>\n      <td>2020-01-11 07:17:34.083275</td>\n      <td>168688753.0</td>\n    </tr>\n    <tr>\n      <th>7621</th>\n      <td>9bf140ad-53d7-4bcc-8444-2886ec3bdabd</td>\n      <td>raw</td>\n      <td>7621</td>\n      <td>catalog</td>\n      <td>2020-01-11 07:17:38.576581</td>\n      <td>168688753.0</td>\n    </tr>\n    <tr>\n      <th>7622</th>\n      <td>ae5d2eb3-d41d-4257-89c0-95cac6063a3c</td>\n      <td>raw</td>\n      <td>7622</td>\n      <td>cart</td>\n      <td>2020-01-11 07:18:06.285462</td>\n      <td>168688753.0</td>\n    </tr>\n    <tr>\n      <th>7623</th>\n      <td>da40d57b-3d3c-42aa-8384-86bea3c6dcf0</td>\n      <td>raw</td>\n      <td>7623</td>\n      <td>delivery_choice</td>\n      <td>2020-01-11 07:18:08.718102</td>\n      <td>168688753.0</td>\n    </tr>\n    <tr>\n      <th>7624</th>\n      <td>32bf4941-200d-460e-94aa-e41a9e6b1044</td>\n      <td>raw</td>\n      <td>7624</td>\n      <td>delivery_courier</td>\n      <td>2020-01-11 07:18:11.881274</td>\n      <td>168688753.0</td>\n    </tr>\n    <tr>\n      <th>7625</th>\n      <td>362c5434-a36f-41c7-9270-de5c967876cd</td>\n      <td>raw</td>\n      <td>7625</td>\n      <td>payment_choice</td>\n      <td>2020-01-11 07:18:13.902151</td>\n      <td>168688753.0</td>\n    </tr>\n    <tr>\n      <th>7626</th>\n      <td>ba85bda4-f4c9-4292-bffa-7da1b927d148</td>\n      <td>raw</td>\n      <td>7626</td>\n      <td>payment_cash</td>\n      <td>2020-01-11 07:18:14.144647</td>\n      <td>168688753.0</td>\n    </tr>\n    <tr>\n      <th>7627</th>\n      <td>af9c4f24-7971-48d7-88e1-36e4eb2bf2aa</td>\n      <td>raw</td>\n      <td>7627</td>\n      <td>payment_done</td>\n      <td>2020-01-11 07:18:15.298737</td>\n      <td>168688753.0</td>\n    </tr>\n    <tr>\n      <th>11888</th>\n      <td>32d4af90-9082-44b6-ad5c-b593b0ec740d</td>\n      <td>raw</td>\n      <td>11888</td>\n      <td>main</td>\n      <td>2020-02-11 16:21:29.539728</td>\n      <td>168688753.0</td>\n    </tr>\n    <tr>\n      <th>11889</th>\n      <td>e4896098-e8b3-4071-9dc3-4ed808896f65</td>\n      <td>raw</td>\n      <td>11889</td>\n      <td>catalog</td>\n      <td>2020-02-11 16:21:29.835502</td>\n      <td>168688753.0</td>\n    </tr>\n    <tr>\n      <th>11890</th>\n      <td>53fa162a-0c45-4286-8c38-d8a73b1bceb2</td>\n      <td>raw</td>\n      <td>11890</td>\n      <td>product2</td>\n      <td>2020-02-11 16:21:34.035051</td>\n      <td>168688753.0</td>\n    </tr>\n    <tr>\n      <th>11891</th>\n      <td>97532287-7792-4ed8-a18e-6bb4e4d778af</td>\n      <td>raw</td>\n      <td>11891</td>\n      <td>catalog</td>\n      <td>2020-02-11 16:21:46.686609</td>\n      <td>168688753.0</td>\n    </tr>\n    <tr>\n      <th>11892</th>\n      <td>e1d46d14-ff66-4fa0-a32f-084d65576532</td>\n      <td>raw</td>\n      <td>11892</td>\n      <td>main</td>\n      <td>2020-02-11 16:21:56.387275</td>\n      <td>168688753.0</td>\n    </tr>\n    <tr>\n      <th>11893</th>\n      <td>080190c8-9bf5-42e4-bb18-a48780aaa970</td>\n      <td>raw</td>\n      <td>11893</td>\n      <td>catalog</td>\n      <td>2020-02-11 16:22:03.651007</td>\n      <td>168688753.0</td>\n    </tr>\n    <tr>\n      <th>11894</th>\n      <td>96bea595-0069-4fbf-9738-65836b77de78</td>\n      <td>raw</td>\n      <td>11894</td>\n      <td>main</td>\n      <td>2020-02-11 16:22:19.734515</td>\n      <td>168688753.0</td>\n    </tr>\n    <tr>\n      <th>11895</th>\n      <td>b8a13e7a-3479-4b1d-b4fb-e2252cc79940</td>\n      <td>raw</td>\n      <td>11895</td>\n      <td>catalog</td>\n      <td>2020-02-11 16:22:23.720972</td>\n      <td>168688753.0</td>\n    </tr>\n    <tr>\n      <th>11896</th>\n      <td>a6fa2c61-fa2b-46a4-a92b-4cc8c14043b7</td>\n      <td>raw</td>\n      <td>11896</td>\n      <td>catalog</td>\n      <td>2020-02-11 16:23:41.190643</td>\n      <td>168688753.0</td>\n    </tr>\n    <tr>\n      <th>17445</th>\n      <td>f1fa94ff-cf42-4730-95ec-5e44cd4551ad</td>\n      <td>raw</td>\n      <td>17445</td>\n      <td>main</td>\n      <td>2020-03-15 06:02:34.952325</td>\n      <td>168688753.0</td>\n    </tr>\n    <tr>\n      <th>17446</th>\n      <td>90a488ae-dced-4c27-aa01-3af6e0974935</td>\n      <td>raw</td>\n      <td>17446</td>\n      <td>catalog</td>\n      <td>2020-03-15 06:02:38.509449</td>\n      <td>168688753.0</td>\n    </tr>\n    <tr>\n      <th>17447</th>\n      <td>2840922a-7e88-42b5-b3d4-3b3cdb02b25a</td>\n      <td>raw</td>\n      <td>17447</td>\n      <td>catalog</td>\n      <td>2020-03-15 06:02:50.447875</td>\n      <td>168688753.0</td>\n    </tr>\n    <tr>\n      <th>17448</th>\n      <td>5a2a1831-9de7-42e9-b490-f7263fa5d23e</td>\n      <td>raw</td>\n      <td>17448</td>\n      <td>catalog</td>\n      <td>2020-03-15 06:02:51.679230</td>\n      <td>168688753.0</td>\n    </tr>\n    <tr>\n      <th>17449</th>\n      <td>e4dbffdf-2fd0-44df-81f6-0b7f48dc8c5b</td>\n      <td>raw</td>\n      <td>17449</td>\n      <td>product1</td>\n      <td>2020-03-15 06:02:52.571970</td>\n      <td>168688753.0</td>\n    </tr>\n    <tr>\n      <th>17450</th>\n      <td>4bc16ad5-94a4-49b6-bc07-739c99955abd</td>\n      <td>raw</td>\n      <td>17450</td>\n      <td>cart</td>\n      <td>2020-03-15 06:03:09.277120</td>\n      <td>168688753.0</td>\n    </tr>\n  </tbody>\n</table>\n</div>"
     },
     "execution_count": 85,
     "metadata": {},
     "output_type": "execute_result"
    }
   ],
   "source": [
    "df94[df94['user_id'] == check_id]"
   ],
   "metadata": {
    "collapsed": false,
    "pycharm": {
     "name": "#%%\n"
    }
   }
  },
  {
   "cell_type": "code",
   "execution_count": 79,
   "outputs": [
    {
     "data": {
      "text/plain": "                                   event_id event_type  event_index  \\\n842    76d27684-4d79-43ce-8121-aca4201e83b9        raw          842   \n843    ceeba921-ed60-4b33-913a-f71dfab1a8d9        raw          843   \n844    60b2f7f8-2cad-4032-ad5a-837c4b91e1a8        raw          844   \n2286   9e761508-e35b-4446-9ca0-ed16119de3af        raw         2286   \n2833   a911c4b1-7f93-4293-9d40-5473bc32b735        raw         2833   \n2834   fbfef058-98ee-4d36-b4b8-4a6694a70a23        raw         2834   \n2835   eed893b3-2fd0-4fc5-bea2-5dba99793dea        raw         2835   \n2836   91a68e89-d3dd-4db3-801d-753382905882        raw         2836   \n2837   cd5ab612-1fa3-4963-9c08-ed84498a901b        raw         2837   \n2838   762c30cb-3469-44cc-89e0-55366d21df93        raw         2838   \n2839   370c8e37-253a-4d3c-9fef-d557a86b0ec2        raw         2839   \n2840   b0fa96f9-8785-4c47-85fe-d0ef55dd634e        raw         2840   \n2841   86d2eba2-f69c-42c5-a719-cf6b157445bc        raw         2841   \n2842   1e4e6e0e-10f9-4123-ac18-5637a8b1d08d        raw         2842   \n2843   7b03dfb9-6846-4520-b5f2-0214f2a97c85        raw         2843   \n2844   7ecdf64d-727e-4b44-a46e-6357a295096c        raw         2844   \n2845   504a50d5-1f62-4855-8d85-e78b39c0255d        raw         2845   \n2846   0e448096-c477-4094-ab96-21bcef15c4c4        raw         2846   \n2847   e9d93c61-3300-4754-b2cc-8c686685af7a        raw         2847   \n2848   f3aeb7dd-9f66-42c0-87e6-58b7e3871b4e        raw         2848   \n2849   baa8b826-5304-4e3a-bc13-8d7e6a5becf3        raw         2849   \n4607   4354bdce-5966-4c93-8dee-4817a2bc1fb9        raw         4607   \n5245   23ce69dd-943a-4d01-9c9f-3721804a3964        raw         5245   \n5246   9bf140ad-53d7-4bcc-8444-2886ec3bdabd        raw         5246   \n5247   ae5d2eb3-d41d-4257-89c0-95cac6063a3c        raw         5247   \n5248   da40d57b-3d3c-42aa-8384-86bea3c6dcf0        raw         5248   \n5249   32bf4941-200d-460e-94aa-e41a9e6b1044        raw         5249   \n5250   362c5434-a36f-41c7-9270-de5c967876cd        raw         5250   \n5251   ba85bda4-f4c9-4292-bffa-7da1b927d148        raw         5251   \n5252   af9c4f24-7971-48d7-88e1-36e4eb2bf2aa        raw         5252   \n8326   32d4af90-9082-44b6-ad5c-b593b0ec740d        raw         8326   \n8327   e4896098-e8b3-4071-9dc3-4ed808896f65        raw         8327   \n8328   53fa162a-0c45-4286-8c38-d8a73b1bceb2        raw         8328   \n8329   97532287-7792-4ed8-a18e-6bb4e4d778af        raw         8329   \n8330   e1d46d14-ff66-4fa0-a32f-084d65576532        raw         8330   \n8331   080190c8-9bf5-42e4-bb18-a48780aaa970        raw         8331   \n8332   96bea595-0069-4fbf-9738-65836b77de78        raw         8332   \n8333   b8a13e7a-3479-4b1d-b4fb-e2252cc79940        raw         8333   \n8334   a6fa2c61-fa2b-46a4-a92b-4cc8c14043b7        raw         8334   \n12501  f1fa94ff-cf42-4730-95ec-5e44cd4551ad        raw        12501   \n12502  90a488ae-dced-4c27-aa01-3af6e0974935        raw        12502   \n12503  2840922a-7e88-42b5-b3d4-3b3cdb02b25a        raw        12503   \n12504  5a2a1831-9de7-42e9-b490-f7263fa5d23e        raw        12504   \n12505  e4dbffdf-2fd0-44df-81f6-0b7f48dc8c5b        raw        12505   \n12506  4bc16ad5-94a4-49b6-bc07-739c99955abd        raw        12506   \n\n             event_name            event_timestamp    user_id  \n842             catalog 2019-11-16 22:30:05.735414  168688753  \n843             catalog 2019-11-16 22:30:15.425342  168688753  \n844             catalog 2019-11-16 22:30:40.187585  168688753  \n2286               main 2019-12-06 21:40:31.972558  168688753  \n2833               main 2019-12-14 06:32:50.934854  168688753  \n2834            catalog 2019-12-14 06:32:56.369665  168688753  \n2835            catalog 2019-12-14 06:33:12.102891  168688753  \n2836            catalog 2019-12-14 06:33:28.660860  168688753  \n2837           product2 2019-12-14 06:33:29.294200  168688753  \n2838            catalog 2019-12-14 06:33:30.657942  168688753  \n2839            catalog 2019-12-14 06:33:38.687904  168688753  \n2840           product1 2019-12-14 06:33:54.105418  168688753  \n2841               cart 2019-12-14 06:33:57.608245  168688753  \n2842    delivery_choice 2019-12-14 06:33:57.636413  168688753  \n2843            catalog 2019-12-14 06:34:04.620721  168688753  \n2844            catalog 2019-12-14 06:34:09.161217  168688753  \n2845            catalog 2019-12-14 06:34:12.994666  168688753  \n2846            catalog 2019-12-14 06:34:37.431860  168688753  \n2847            catalog 2019-12-14 06:34:52.331349  168688753  \n2848           product1 2019-12-14 06:35:04.950946  168688753  \n2849            catalog 2019-12-14 06:35:23.378459  168688753  \n4607               main 2020-01-05 01:12:20.088207  168688753  \n5245               main 2020-01-11 07:17:34.083275  168688753  \n5246            catalog 2020-01-11 07:17:38.576581  168688753  \n5247               cart 2020-01-11 07:18:06.285462  168688753  \n5248    delivery_choice 2020-01-11 07:18:08.718102  168688753  \n5249   delivery_courier 2020-01-11 07:18:11.881274  168688753  \n5250     payment_choice 2020-01-11 07:18:13.902151  168688753  \n5251       payment_cash 2020-01-11 07:18:14.144647  168688753  \n5252       payment_done 2020-01-11 07:18:15.298737  168688753  \n8326               main 2020-02-11 16:21:29.539728  168688753  \n8327            catalog 2020-02-11 16:21:29.835502  168688753  \n8328           product2 2020-02-11 16:21:34.035051  168688753  \n8329            catalog 2020-02-11 16:21:46.686609  168688753  \n8330               main 2020-02-11 16:21:56.387275  168688753  \n8331            catalog 2020-02-11 16:22:03.651007  168688753  \n8332               main 2020-02-11 16:22:19.734515  168688753  \n8333            catalog 2020-02-11 16:22:23.720972  168688753  \n8334            catalog 2020-02-11 16:23:41.190643  168688753  \n12501              main 2020-03-15 06:02:34.952325  168688753  \n12502           catalog 2020-03-15 06:02:38.509449  168688753  \n12503           catalog 2020-03-15 06:02:50.447875  168688753  \n12504           catalog 2020-03-15 06:02:51.679230  168688753  \n12505          product1 2020-03-15 06:02:52.571970  168688753  \n12506              cart 2020-03-15 06:03:09.277120  168688753  ",
      "text/html": "<div>\n<style scoped>\n    .dataframe tbody tr th:only-of-type {\n        vertical-align: middle;\n    }\n\n    .dataframe tbody tr th {\n        vertical-align: top;\n    }\n\n    .dataframe thead th {\n        text-align: right;\n    }\n</style>\n<table border=\"1\" class=\"dataframe\">\n  <thead>\n    <tr style=\"text-align: right;\">\n      <th></th>\n      <th>event_id</th>\n      <th>event_type</th>\n      <th>event_index</th>\n      <th>event_name</th>\n      <th>event_timestamp</th>\n      <th>user_id</th>\n    </tr>\n  </thead>\n  <tbody>\n    <tr>\n      <th>842</th>\n      <td>76d27684-4d79-43ce-8121-aca4201e83b9</td>\n      <td>raw</td>\n      <td>842</td>\n      <td>catalog</td>\n      <td>2019-11-16 22:30:05.735414</td>\n      <td>168688753</td>\n    </tr>\n    <tr>\n      <th>843</th>\n      <td>ceeba921-ed60-4b33-913a-f71dfab1a8d9</td>\n      <td>raw</td>\n      <td>843</td>\n      <td>catalog</td>\n      <td>2019-11-16 22:30:15.425342</td>\n      <td>168688753</td>\n    </tr>\n    <tr>\n      <th>844</th>\n      <td>60b2f7f8-2cad-4032-ad5a-837c4b91e1a8</td>\n      <td>raw</td>\n      <td>844</td>\n      <td>catalog</td>\n      <td>2019-11-16 22:30:40.187585</td>\n      <td>168688753</td>\n    </tr>\n    <tr>\n      <th>2286</th>\n      <td>9e761508-e35b-4446-9ca0-ed16119de3af</td>\n      <td>raw</td>\n      <td>2286</td>\n      <td>main</td>\n      <td>2019-12-06 21:40:31.972558</td>\n      <td>168688753</td>\n    </tr>\n    <tr>\n      <th>2833</th>\n      <td>a911c4b1-7f93-4293-9d40-5473bc32b735</td>\n      <td>raw</td>\n      <td>2833</td>\n      <td>main</td>\n      <td>2019-12-14 06:32:50.934854</td>\n      <td>168688753</td>\n    </tr>\n    <tr>\n      <th>2834</th>\n      <td>fbfef058-98ee-4d36-b4b8-4a6694a70a23</td>\n      <td>raw</td>\n      <td>2834</td>\n      <td>catalog</td>\n      <td>2019-12-14 06:32:56.369665</td>\n      <td>168688753</td>\n    </tr>\n    <tr>\n      <th>2835</th>\n      <td>eed893b3-2fd0-4fc5-bea2-5dba99793dea</td>\n      <td>raw</td>\n      <td>2835</td>\n      <td>catalog</td>\n      <td>2019-12-14 06:33:12.102891</td>\n      <td>168688753</td>\n    </tr>\n    <tr>\n      <th>2836</th>\n      <td>91a68e89-d3dd-4db3-801d-753382905882</td>\n      <td>raw</td>\n      <td>2836</td>\n      <td>catalog</td>\n      <td>2019-12-14 06:33:28.660860</td>\n      <td>168688753</td>\n    </tr>\n    <tr>\n      <th>2837</th>\n      <td>cd5ab612-1fa3-4963-9c08-ed84498a901b</td>\n      <td>raw</td>\n      <td>2837</td>\n      <td>product2</td>\n      <td>2019-12-14 06:33:29.294200</td>\n      <td>168688753</td>\n    </tr>\n    <tr>\n      <th>2838</th>\n      <td>762c30cb-3469-44cc-89e0-55366d21df93</td>\n      <td>raw</td>\n      <td>2838</td>\n      <td>catalog</td>\n      <td>2019-12-14 06:33:30.657942</td>\n      <td>168688753</td>\n    </tr>\n    <tr>\n      <th>2839</th>\n      <td>370c8e37-253a-4d3c-9fef-d557a86b0ec2</td>\n      <td>raw</td>\n      <td>2839</td>\n      <td>catalog</td>\n      <td>2019-12-14 06:33:38.687904</td>\n      <td>168688753</td>\n    </tr>\n    <tr>\n      <th>2840</th>\n      <td>b0fa96f9-8785-4c47-85fe-d0ef55dd634e</td>\n      <td>raw</td>\n      <td>2840</td>\n      <td>product1</td>\n      <td>2019-12-14 06:33:54.105418</td>\n      <td>168688753</td>\n    </tr>\n    <tr>\n      <th>2841</th>\n      <td>86d2eba2-f69c-42c5-a719-cf6b157445bc</td>\n      <td>raw</td>\n      <td>2841</td>\n      <td>cart</td>\n      <td>2019-12-14 06:33:57.608245</td>\n      <td>168688753</td>\n    </tr>\n    <tr>\n      <th>2842</th>\n      <td>1e4e6e0e-10f9-4123-ac18-5637a8b1d08d</td>\n      <td>raw</td>\n      <td>2842</td>\n      <td>delivery_choice</td>\n      <td>2019-12-14 06:33:57.636413</td>\n      <td>168688753</td>\n    </tr>\n    <tr>\n      <th>2843</th>\n      <td>7b03dfb9-6846-4520-b5f2-0214f2a97c85</td>\n      <td>raw</td>\n      <td>2843</td>\n      <td>catalog</td>\n      <td>2019-12-14 06:34:04.620721</td>\n      <td>168688753</td>\n    </tr>\n    <tr>\n      <th>2844</th>\n      <td>7ecdf64d-727e-4b44-a46e-6357a295096c</td>\n      <td>raw</td>\n      <td>2844</td>\n      <td>catalog</td>\n      <td>2019-12-14 06:34:09.161217</td>\n      <td>168688753</td>\n    </tr>\n    <tr>\n      <th>2845</th>\n      <td>504a50d5-1f62-4855-8d85-e78b39c0255d</td>\n      <td>raw</td>\n      <td>2845</td>\n      <td>catalog</td>\n      <td>2019-12-14 06:34:12.994666</td>\n      <td>168688753</td>\n    </tr>\n    <tr>\n      <th>2846</th>\n      <td>0e448096-c477-4094-ab96-21bcef15c4c4</td>\n      <td>raw</td>\n      <td>2846</td>\n      <td>catalog</td>\n      <td>2019-12-14 06:34:37.431860</td>\n      <td>168688753</td>\n    </tr>\n    <tr>\n      <th>2847</th>\n      <td>e9d93c61-3300-4754-b2cc-8c686685af7a</td>\n      <td>raw</td>\n      <td>2847</td>\n      <td>catalog</td>\n      <td>2019-12-14 06:34:52.331349</td>\n      <td>168688753</td>\n    </tr>\n    <tr>\n      <th>2848</th>\n      <td>f3aeb7dd-9f66-42c0-87e6-58b7e3871b4e</td>\n      <td>raw</td>\n      <td>2848</td>\n      <td>product1</td>\n      <td>2019-12-14 06:35:04.950946</td>\n      <td>168688753</td>\n    </tr>\n    <tr>\n      <th>2849</th>\n      <td>baa8b826-5304-4e3a-bc13-8d7e6a5becf3</td>\n      <td>raw</td>\n      <td>2849</td>\n      <td>catalog</td>\n      <td>2019-12-14 06:35:23.378459</td>\n      <td>168688753</td>\n    </tr>\n    <tr>\n      <th>4607</th>\n      <td>4354bdce-5966-4c93-8dee-4817a2bc1fb9</td>\n      <td>raw</td>\n      <td>4607</td>\n      <td>main</td>\n      <td>2020-01-05 01:12:20.088207</td>\n      <td>168688753</td>\n    </tr>\n    <tr>\n      <th>5245</th>\n      <td>23ce69dd-943a-4d01-9c9f-3721804a3964</td>\n      <td>raw</td>\n      <td>5245</td>\n      <td>main</td>\n      <td>2020-01-11 07:17:34.083275</td>\n      <td>168688753</td>\n    </tr>\n    <tr>\n      <th>5246</th>\n      <td>9bf140ad-53d7-4bcc-8444-2886ec3bdabd</td>\n      <td>raw</td>\n      <td>5246</td>\n      <td>catalog</td>\n      <td>2020-01-11 07:17:38.576581</td>\n      <td>168688753</td>\n    </tr>\n    <tr>\n      <th>5247</th>\n      <td>ae5d2eb3-d41d-4257-89c0-95cac6063a3c</td>\n      <td>raw</td>\n      <td>5247</td>\n      <td>cart</td>\n      <td>2020-01-11 07:18:06.285462</td>\n      <td>168688753</td>\n    </tr>\n    <tr>\n      <th>5248</th>\n      <td>da40d57b-3d3c-42aa-8384-86bea3c6dcf0</td>\n      <td>raw</td>\n      <td>5248</td>\n      <td>delivery_choice</td>\n      <td>2020-01-11 07:18:08.718102</td>\n      <td>168688753</td>\n    </tr>\n    <tr>\n      <th>5249</th>\n      <td>32bf4941-200d-460e-94aa-e41a9e6b1044</td>\n      <td>raw</td>\n      <td>5249</td>\n      <td>delivery_courier</td>\n      <td>2020-01-11 07:18:11.881274</td>\n      <td>168688753</td>\n    </tr>\n    <tr>\n      <th>5250</th>\n      <td>362c5434-a36f-41c7-9270-de5c967876cd</td>\n      <td>raw</td>\n      <td>5250</td>\n      <td>payment_choice</td>\n      <td>2020-01-11 07:18:13.902151</td>\n      <td>168688753</td>\n    </tr>\n    <tr>\n      <th>5251</th>\n      <td>ba85bda4-f4c9-4292-bffa-7da1b927d148</td>\n      <td>raw</td>\n      <td>5251</td>\n      <td>payment_cash</td>\n      <td>2020-01-11 07:18:14.144647</td>\n      <td>168688753</td>\n    </tr>\n    <tr>\n      <th>5252</th>\n      <td>af9c4f24-7971-48d7-88e1-36e4eb2bf2aa</td>\n      <td>raw</td>\n      <td>5252</td>\n      <td>payment_done</td>\n      <td>2020-01-11 07:18:15.298737</td>\n      <td>168688753</td>\n    </tr>\n    <tr>\n      <th>8326</th>\n      <td>32d4af90-9082-44b6-ad5c-b593b0ec740d</td>\n      <td>raw</td>\n      <td>8326</td>\n      <td>main</td>\n      <td>2020-02-11 16:21:29.539728</td>\n      <td>168688753</td>\n    </tr>\n    <tr>\n      <th>8327</th>\n      <td>e4896098-e8b3-4071-9dc3-4ed808896f65</td>\n      <td>raw</td>\n      <td>8327</td>\n      <td>catalog</td>\n      <td>2020-02-11 16:21:29.835502</td>\n      <td>168688753</td>\n    </tr>\n    <tr>\n      <th>8328</th>\n      <td>53fa162a-0c45-4286-8c38-d8a73b1bceb2</td>\n      <td>raw</td>\n      <td>8328</td>\n      <td>product2</td>\n      <td>2020-02-11 16:21:34.035051</td>\n      <td>168688753</td>\n    </tr>\n    <tr>\n      <th>8329</th>\n      <td>97532287-7792-4ed8-a18e-6bb4e4d778af</td>\n      <td>raw</td>\n      <td>8329</td>\n      <td>catalog</td>\n      <td>2020-02-11 16:21:46.686609</td>\n      <td>168688753</td>\n    </tr>\n    <tr>\n      <th>8330</th>\n      <td>e1d46d14-ff66-4fa0-a32f-084d65576532</td>\n      <td>raw</td>\n      <td>8330</td>\n      <td>main</td>\n      <td>2020-02-11 16:21:56.387275</td>\n      <td>168688753</td>\n    </tr>\n    <tr>\n      <th>8331</th>\n      <td>080190c8-9bf5-42e4-bb18-a48780aaa970</td>\n      <td>raw</td>\n      <td>8331</td>\n      <td>catalog</td>\n      <td>2020-02-11 16:22:03.651007</td>\n      <td>168688753</td>\n    </tr>\n    <tr>\n      <th>8332</th>\n      <td>96bea595-0069-4fbf-9738-65836b77de78</td>\n      <td>raw</td>\n      <td>8332</td>\n      <td>main</td>\n      <td>2020-02-11 16:22:19.734515</td>\n      <td>168688753</td>\n    </tr>\n    <tr>\n      <th>8333</th>\n      <td>b8a13e7a-3479-4b1d-b4fb-e2252cc79940</td>\n      <td>raw</td>\n      <td>8333</td>\n      <td>catalog</td>\n      <td>2020-02-11 16:22:23.720972</td>\n      <td>168688753</td>\n    </tr>\n    <tr>\n      <th>8334</th>\n      <td>a6fa2c61-fa2b-46a4-a92b-4cc8c14043b7</td>\n      <td>raw</td>\n      <td>8334</td>\n      <td>catalog</td>\n      <td>2020-02-11 16:23:41.190643</td>\n      <td>168688753</td>\n    </tr>\n    <tr>\n      <th>12501</th>\n      <td>f1fa94ff-cf42-4730-95ec-5e44cd4551ad</td>\n      <td>raw</td>\n      <td>12501</td>\n      <td>main</td>\n      <td>2020-03-15 06:02:34.952325</td>\n      <td>168688753</td>\n    </tr>\n    <tr>\n      <th>12502</th>\n      <td>90a488ae-dced-4c27-aa01-3af6e0974935</td>\n      <td>raw</td>\n      <td>12502</td>\n      <td>catalog</td>\n      <td>2020-03-15 06:02:38.509449</td>\n      <td>168688753</td>\n    </tr>\n    <tr>\n      <th>12503</th>\n      <td>2840922a-7e88-42b5-b3d4-3b3cdb02b25a</td>\n      <td>raw</td>\n      <td>12503</td>\n      <td>catalog</td>\n      <td>2020-03-15 06:02:50.447875</td>\n      <td>168688753</td>\n    </tr>\n    <tr>\n      <th>12504</th>\n      <td>5a2a1831-9de7-42e9-b490-f7263fa5d23e</td>\n      <td>raw</td>\n      <td>12504</td>\n      <td>catalog</td>\n      <td>2020-03-15 06:02:51.679230</td>\n      <td>168688753</td>\n    </tr>\n    <tr>\n      <th>12505</th>\n      <td>e4dbffdf-2fd0-44df-81f6-0b7f48dc8c5b</td>\n      <td>raw</td>\n      <td>12505</td>\n      <td>product1</td>\n      <td>2020-03-15 06:02:52.571970</td>\n      <td>168688753</td>\n    </tr>\n    <tr>\n      <th>12506</th>\n      <td>4bc16ad5-94a4-49b6-bc07-739c99955abd</td>\n      <td>raw</td>\n      <td>12506</td>\n      <td>cart</td>\n      <td>2020-03-15 06:03:09.277120</td>\n      <td>168688753</td>\n    </tr>\n  </tbody>\n</table>\n</div>"
     },
     "execution_count": 79,
     "metadata": {},
     "output_type": "execute_result"
    }
   ],
   "source": [
    "source_df[(source_df['user_id'] == check_id) ]"
   ],
   "metadata": {
    "collapsed": false,
    "pycharm": {
     "name": "#%%\n"
    }
   }
  },
  {
   "cell_type": "code",
   "execution_count": 79,
   "outputs": [],
   "source": [],
   "metadata": {
    "collapsed": false,
    "pycharm": {
     "name": "#%%\n"
    }
   }
  },
  {
   "cell_type": "markdown",
   "source": [
    "### Результат"
   ],
   "metadata": {
    "collapsed": false,
    "pycharm": {
     "name": "#%% md\n"
    }
   }
  },
  {
   "cell_type": "markdown",
   "source": [
    "1) [TODO] Ворнинги\n",
    "2) [DONE] Не работает обрезка\n",
    "3) [TODO] Медленная работа - оптимизация кода?\n",
    "4) [DONE] Неправильная работа, если задать несколько событий, обрезка происходит по последнему, а не по первому событию\n",
    "5) [DONE] протестировать сдвиги и минимальные траектории\n",
    "6) [TODO] неправильная работа soft_delete и создание eventstream (при копировании не пробрасываются старые айдишники у ивентов, а создаются новые, поэтому невозможно применить soft_delete к новому eventstream)"
   ],
   "metadata": {
    "collapsed": false,
    "pycharm": {
     "name": "#%% md\n"
    }
   }
  }
 ],
 "metadata": {
  "kernelspec": {
   "display_name": "Python 3",
   "language": "python",
   "name": "python3"
  },
  "language_info": {
   "codemirror_mode": {
    "name": "ipython",
    "version": 2
   },
   "file_extension": ".py",
   "mimetype": "text/x-python",
   "name": "python",
   "nbconvert_exporter": "python",
   "pygments_lexer": "ipython2",
   "version": "2.7.6"
  }
 },
 "nbformat": 4,
 "nbformat_minor": 0
}