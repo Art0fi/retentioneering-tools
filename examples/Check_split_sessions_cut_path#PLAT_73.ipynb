{
 "cells": [
  {
   "cell_type": "code",
   "execution_count": 1,
   "metadata": {
    "collapsed": true,
    "pycharm": {
     "name": "#%%\n"
    }
   },
   "outputs": [],
   "source": [
    "import sys\n",
    "sys.path.insert(0, '..')"
   ]
  },
  {
   "cell_type": "markdown",
   "source": [
    "# Инициализируем граф"
   ],
   "metadata": {
    "collapsed": false,
    "pycharm": {
     "name": "#%% md\n"
    }
   }
  },
  {
   "cell_type": "code",
   "execution_count": 2,
   "outputs": [],
   "source": [
    "import pandas as pd\n",
    "\n",
    "from src.eventstream.eventstream import Eventstream\n",
    "from src.eventstream.schema import RawDataSchema, EventstreamSchema\n",
    "from src.graph.p_graph import PGraph, EventsNode\n",
    "\n",
    "raw_data = pd.read_csv('simple-onlineshop.csv')\n",
    "\n",
    "raw_data_schema = RawDataSchema(\n",
    "                            event_name=\"event\",\n",
    "                            event_timestamp=\"timestamp\",\n",
    "                            user_id=\"user_id\")\n",
    "\n",
    "source = Eventstream(\n",
    "    raw_data=raw_data,\n",
    "    raw_data_schema=raw_data_schema,\n",
    "    schema=EventstreamSchema()\n",
    ")\n",
    "\n",
    "graph = PGraph(source_stream=source)"
   ],
   "metadata": {
    "collapsed": false,
    "pycharm": {
     "name": "#%%\n"
    }
   }
  },
  {
   "cell_type": "code",
   "execution_count": 3,
   "outputs": [],
   "source": [
    "source_df = source.to_dataframe()"
   ],
   "metadata": {
    "collapsed": false,
    "pycharm": {
     "name": "#%%\n"
    }
   }
  },
  {
   "cell_type": "markdown",
   "source": [
    "## CutPathAfter"
   ],
   "metadata": {
    "collapsed": false,
    "pycharm": {
     "name": "#%% md\n"
    }
   }
  },
  {
   "cell_type": "markdown",
   "source": [
    "### Описание работы функции"
   ],
   "metadata": {
    "collapsed": false,
    "pycharm": {
     "name": "#%% md\n"
    }
   }
  },
  {
   "cell_type": "markdown",
   "source": [
    "Обрезает eventstream сразу после одного из событий, указанных в списке cutoff_events (первого в траектории). Остается часть траектории до первого найденного события из списка включительно. Само событие остается в траектории.\n",
    "\n",
    "Параметры:\n",
    "```cut_shift``` - смещение относительно обозначенного события в сторону сокращения траектории (влево)\n",
    "```min_cjm``` - минимальное кол-во событий в траектории, которые надо оставить, если в траектории меньшее количество событий, то они будут удалены\n",
    "\n"
   ],
   "metadata": {
    "collapsed": false,
    "pycharm": {
     "name": "#%% md\n"
    }
   }
  },
  {
   "cell_type": "markdown",
   "source": [
    "### 1 событие"
   ],
   "metadata": {
    "collapsed": false,
    "pycharm": {
     "name": "#%% md\n"
    }
   }
  },
  {
   "cell_type": "code",
   "execution_count": 4,
   "outputs": [
    {
     "name": "stderr",
     "output_type": "stream",
     "text": [
      "/Users/Daria/Dev/Retentioneering/retentioneering-tools-new-arch/examples/../src/data_processors_lib/rete/cut_path_after_event.py:59: SettingWithCopyWarning: \n",
      "A value is trying to be set on a copy of a slice from a DataFrame.\n",
      "Try using .loc[row_indexer,col_indexer] = value instead\n",
      "\n",
      "See the caveats in the documentation: https://pandas.pydata.org/pandas-docs/stable/user_guide/indexing.html#returning-a-view-versus-a-copy\n",
      "  df_cut[\"rw_cumsum\"] = df_cut.loc[::-1].groupby([user_col])[time_col].transform(\n",
      "/Users/Daria/Dev/Retentioneering/retentioneering-tools-new-arch/examples/../src/data_processors_lib/rete/cut_path_after_event.py:76: SettingWithCopyWarning: \n",
      "A value is trying to be set on a copy of a slice from a DataFrame.\n",
      "Try using .loc[row_indexer,col_indexer] = value instead\n",
      "\n",
      "See the caveats in the documentation: https://pandas.pydata.org/pandas-docs/stable/user_guide/indexing.html#returning-a-view-versus-a-copy\n",
      "  df_to_del[\"ref\"] = df_to_del[eventstream.schema.event_id]\n"
     ]
    }
   ],
   "source": [
    "from src.data_processors_lib.rete import CutPathAfterEvent, CutPathAfterEventParams\n",
    "params = {\n",
    "    'cutoff_events': ['payment_done'],\n",
    "    'cut_shift': 0,\n",
    "    'min_cjm': 0\n",
    "}\n",
    "\n",
    "cut_after = EventsNode(\n",
    "    CutPathAfterEvent(params=CutPathAfterEventParams(**params)))\n",
    "\n",
    "graph.add_node(\n",
    "    node=cut_after,\n",
    "    parents=[graph.root]\n",
    ")\n",
    "\n",
    "result = graph.combine(\n",
    "    node=cut_after\n",
    ")\n"
   ],
   "metadata": {
    "collapsed": false,
    "pycharm": {
     "name": "#%%\n"
    }
   }
  },
  {
   "cell_type": "code",
   "execution_count": 5,
   "outputs": [
    {
     "name": "stdout",
     "output_type": "stream",
     "text": [
      "0\n"
     ]
    },
    {
     "data": {
      "text/plain": "0"
     },
     "execution_count": 5,
     "metadata": {},
     "output_type": "execute_result"
    }
   ],
   "source": [
    "df8 = result.to_dataframe()\n",
    "print(source_df.duplicated(['event_name', 'event_timestamp', 'user_id']).sum())\n",
    "df8.duplicated(['event_name', 'event_timestamp', 'user_id']).sum()"
   ],
   "metadata": {
    "collapsed": false,
    "pycharm": {
     "name": "#%%\n"
    }
   }
  },
  {
   "cell_type": "code",
   "execution_count": 6,
   "outputs": [
    {
     "data": {
      "text/plain": "raw    32666\nName: event_type, dtype: int64"
     },
     "execution_count": 6,
     "metadata": {},
     "output_type": "execute_result"
    }
   ],
   "source": [
    "df8['event_type'].value_counts()"
   ],
   "metadata": {
    "collapsed": false,
    "pycharm": {
     "name": "#%%\n"
    }
   }
  },
  {
   "cell_type": "code",
   "execution_count": 7,
   "outputs": [
    {
     "data": {
      "text/plain": "raw    35381\nName: event_type, dtype: int64"
     },
     "execution_count": 7,
     "metadata": {},
     "output_type": "execute_result"
    }
   ],
   "source": [
    "source_df['event_type'].value_counts()"
   ],
   "metadata": {
    "collapsed": false,
    "pycharm": {
     "name": "#%%\n"
    }
   }
  },
  {
   "cell_type": "code",
   "execution_count": 8,
   "outputs": [
    {
     "data": {
      "text/plain": "653"
     },
     "execution_count": 8,
     "metadata": {},
     "output_type": "execute_result"
    }
   ],
   "source": [
    "source_df[source_df['event_name'] == 'payment_done']['user_id'].nunique()"
   ],
   "metadata": {
    "collapsed": false,
    "pycharm": {
     "name": "#%%\n"
    }
   }
  },
  {
   "cell_type": "code",
   "execution_count": 9,
   "outputs": [
    {
     "name": "stdout",
     "output_type": "stream",
     "text": [
      "26\n"
     ]
    }
   ],
   "source": [
    "check_id = 629881394\n",
    "print(len(df8[df8['user_id'] == check_id]))\n",
    "event_time = source_df[(source_df['user_id'] == check_id) & \\\n",
    "    (source_df['event_name'] == 'payment_done')]['event_timestamp'].values[0]"
   ],
   "metadata": {
    "collapsed": false,
    "pycharm": {
     "name": "#%%\n"
    }
   }
  },
  {
   "cell_type": "code",
   "execution_count": 10,
   "outputs": [
    {
     "data": {
      "text/plain": "                                event_id event_type  event_index  \\\n7   6a803b23-1ea7-4497-92f6-a515e7437fba        raw            7   \n9   4beaced5-47d8-426c-ab68-c7e767de8c99        raw            9   \n11  16d3a1fd-9cc6-490d-91eb-44d25f18991f        raw           11   \n13  8a34d475-66bf-41c4-b64b-912ae8192933        raw           13   \n14  2576ca38-e122-46e5-a0b3-aabda5e36d76        raw           14   \n15  16107705-9742-4cb2-a25d-ba1614f4b0bc        raw           15   \n16  57e49264-658b-4de5-ac89-56d94c97d41c        raw           16   \n17  852dccfc-08c5-4c76-9090-7fc37e7a43dc        raw           17   \n18  a7fa9624-bcb9-4005-b7c5-7a168bbd88cf        raw           18   \n19  b7096391-1ff2-4560-a85d-9b1c35533003        raw           19   \n20  b700f925-73e9-4d27-8917-74d8a9340551        raw           20   \n21  10a54349-0ddd-4e21-9be0-e4923913a86e        raw           21   \n22  d862b969-c71f-4191-b952-03045ab1cc82        raw           22   \n23  8107b099-43bf-4159-89cf-cc6ec36951e2        raw           23   \n24  bece7048-2d10-45e5-8140-f10e61acb784        raw           24   \n25  ba26b00f-4b10-4efe-b435-20a5fc4f054b        raw           25   \n27  6689538f-db3c-40db-8d79-e786904d6b20        raw           27   \n29  8e8874b4-f16c-46ec-ae9d-cddae28ff817        raw           29   \n31  cf1990b2-1793-41c7-b45f-c9da5fdcd15b        raw           31   \n33  a57aa6f6-b0ae-4fb9-9ae9-e3f327e2a212        raw           33   \n36  4e79d3a6-d70c-454a-9707-02ceb5dd9100        raw           36   \n38  3cf46b8e-bd39-410f-9f37-9d1624395e46        raw           38   \n39  d9210450-103e-4f56-9709-cca01f25ac05        raw           39   \n42  84445617-0870-48dd-a828-b1ef33c9d326        raw           42   \n44  3c07f347-d084-4752-ae79-f114ce38dffa        raw           44   \n45  5b7c27d7-dfdc-41f2-9275-8e5bcad319e9        raw           45   \n\n          event_name            event_timestamp    user_id  \n7               main 2019-11-01 22:28:54.791683  629881394  \n9            catalog 2019-11-01 22:29:01.049513  629881394  \n11           catalog 2019-11-01 22:29:32.322458  629881394  \n13           catalog 2019-11-01 22:30:09.450839  629881394  \n14           catalog 2019-11-01 22:31:05.565762  629881394  \n15              main 2019-11-01 22:31:08.333560  629881394  \n16           catalog 2019-11-01 22:31:09.010626  629881394  \n17          product1 2019-11-01 22:31:10.416231  629881394  \n18           catalog 2019-11-01 22:31:43.019527  629881394  \n19           catalog 2019-11-01 22:32:01.596163  629881394  \n20          product1 2019-11-01 22:32:07.348536  629881394  \n21           catalog 2019-11-01 22:32:10.165568  629881394  \n22          product2 2019-11-01 22:32:16.496241  629881394  \n23           catalog 2019-11-01 22:33:17.682468  629881394  \n24          product1 2019-11-01 22:33:19.961115  629881394  \n25           catalog 2019-11-01 22:33:35.460345  629881394  \n27           catalog 2019-11-01 22:34:02.301293  629881394  \n29          product2 2019-11-01 22:34:32.362386  629881394  \n31           catalog 2019-11-01 22:35:01.462515  629881394  \n33          product2 2019-11-01 22:35:33.142711  629881394  \n36              cart 2019-11-01 22:35:50.437706  629881394  \n38   delivery_choice 2019-11-01 22:35:57.649549  629881394  \n39  delivery_courier 2019-11-01 22:36:02.009271  629881394  \n42    payment_choice 2019-11-01 22:36:02.243274  629881394  \n44      payment_cash 2019-11-01 22:36:03.415201  629881394  \n45      payment_done 2019-11-01 22:36:03.999697  629881394  ",
      "text/html": "<div>\n<style scoped>\n    .dataframe tbody tr th:only-of-type {\n        vertical-align: middle;\n    }\n\n    .dataframe tbody tr th {\n        vertical-align: top;\n    }\n\n    .dataframe thead th {\n        text-align: right;\n    }\n</style>\n<table border=\"1\" class=\"dataframe\">\n  <thead>\n    <tr style=\"text-align: right;\">\n      <th></th>\n      <th>event_id</th>\n      <th>event_type</th>\n      <th>event_index</th>\n      <th>event_name</th>\n      <th>event_timestamp</th>\n      <th>user_id</th>\n    </tr>\n  </thead>\n  <tbody>\n    <tr>\n      <th>7</th>\n      <td>6a803b23-1ea7-4497-92f6-a515e7437fba</td>\n      <td>raw</td>\n      <td>7</td>\n      <td>main</td>\n      <td>2019-11-01 22:28:54.791683</td>\n      <td>629881394</td>\n    </tr>\n    <tr>\n      <th>9</th>\n      <td>4beaced5-47d8-426c-ab68-c7e767de8c99</td>\n      <td>raw</td>\n      <td>9</td>\n      <td>catalog</td>\n      <td>2019-11-01 22:29:01.049513</td>\n      <td>629881394</td>\n    </tr>\n    <tr>\n      <th>11</th>\n      <td>16d3a1fd-9cc6-490d-91eb-44d25f18991f</td>\n      <td>raw</td>\n      <td>11</td>\n      <td>catalog</td>\n      <td>2019-11-01 22:29:32.322458</td>\n      <td>629881394</td>\n    </tr>\n    <tr>\n      <th>13</th>\n      <td>8a34d475-66bf-41c4-b64b-912ae8192933</td>\n      <td>raw</td>\n      <td>13</td>\n      <td>catalog</td>\n      <td>2019-11-01 22:30:09.450839</td>\n      <td>629881394</td>\n    </tr>\n    <tr>\n      <th>14</th>\n      <td>2576ca38-e122-46e5-a0b3-aabda5e36d76</td>\n      <td>raw</td>\n      <td>14</td>\n      <td>catalog</td>\n      <td>2019-11-01 22:31:05.565762</td>\n      <td>629881394</td>\n    </tr>\n    <tr>\n      <th>15</th>\n      <td>16107705-9742-4cb2-a25d-ba1614f4b0bc</td>\n      <td>raw</td>\n      <td>15</td>\n      <td>main</td>\n      <td>2019-11-01 22:31:08.333560</td>\n      <td>629881394</td>\n    </tr>\n    <tr>\n      <th>16</th>\n      <td>57e49264-658b-4de5-ac89-56d94c97d41c</td>\n      <td>raw</td>\n      <td>16</td>\n      <td>catalog</td>\n      <td>2019-11-01 22:31:09.010626</td>\n      <td>629881394</td>\n    </tr>\n    <tr>\n      <th>17</th>\n      <td>852dccfc-08c5-4c76-9090-7fc37e7a43dc</td>\n      <td>raw</td>\n      <td>17</td>\n      <td>product1</td>\n      <td>2019-11-01 22:31:10.416231</td>\n      <td>629881394</td>\n    </tr>\n    <tr>\n      <th>18</th>\n      <td>a7fa9624-bcb9-4005-b7c5-7a168bbd88cf</td>\n      <td>raw</td>\n      <td>18</td>\n      <td>catalog</td>\n      <td>2019-11-01 22:31:43.019527</td>\n      <td>629881394</td>\n    </tr>\n    <tr>\n      <th>19</th>\n      <td>b7096391-1ff2-4560-a85d-9b1c35533003</td>\n      <td>raw</td>\n      <td>19</td>\n      <td>catalog</td>\n      <td>2019-11-01 22:32:01.596163</td>\n      <td>629881394</td>\n    </tr>\n    <tr>\n      <th>20</th>\n      <td>b700f925-73e9-4d27-8917-74d8a9340551</td>\n      <td>raw</td>\n      <td>20</td>\n      <td>product1</td>\n      <td>2019-11-01 22:32:07.348536</td>\n      <td>629881394</td>\n    </tr>\n    <tr>\n      <th>21</th>\n      <td>10a54349-0ddd-4e21-9be0-e4923913a86e</td>\n      <td>raw</td>\n      <td>21</td>\n      <td>catalog</td>\n      <td>2019-11-01 22:32:10.165568</td>\n      <td>629881394</td>\n    </tr>\n    <tr>\n      <th>22</th>\n      <td>d862b969-c71f-4191-b952-03045ab1cc82</td>\n      <td>raw</td>\n      <td>22</td>\n      <td>product2</td>\n      <td>2019-11-01 22:32:16.496241</td>\n      <td>629881394</td>\n    </tr>\n    <tr>\n      <th>23</th>\n      <td>8107b099-43bf-4159-89cf-cc6ec36951e2</td>\n      <td>raw</td>\n      <td>23</td>\n      <td>catalog</td>\n      <td>2019-11-01 22:33:17.682468</td>\n      <td>629881394</td>\n    </tr>\n    <tr>\n      <th>24</th>\n      <td>bece7048-2d10-45e5-8140-f10e61acb784</td>\n      <td>raw</td>\n      <td>24</td>\n      <td>product1</td>\n      <td>2019-11-01 22:33:19.961115</td>\n      <td>629881394</td>\n    </tr>\n    <tr>\n      <th>25</th>\n      <td>ba26b00f-4b10-4efe-b435-20a5fc4f054b</td>\n      <td>raw</td>\n      <td>25</td>\n      <td>catalog</td>\n      <td>2019-11-01 22:33:35.460345</td>\n      <td>629881394</td>\n    </tr>\n    <tr>\n      <th>27</th>\n      <td>6689538f-db3c-40db-8d79-e786904d6b20</td>\n      <td>raw</td>\n      <td>27</td>\n      <td>catalog</td>\n      <td>2019-11-01 22:34:02.301293</td>\n      <td>629881394</td>\n    </tr>\n    <tr>\n      <th>29</th>\n      <td>8e8874b4-f16c-46ec-ae9d-cddae28ff817</td>\n      <td>raw</td>\n      <td>29</td>\n      <td>product2</td>\n      <td>2019-11-01 22:34:32.362386</td>\n      <td>629881394</td>\n    </tr>\n    <tr>\n      <th>31</th>\n      <td>cf1990b2-1793-41c7-b45f-c9da5fdcd15b</td>\n      <td>raw</td>\n      <td>31</td>\n      <td>catalog</td>\n      <td>2019-11-01 22:35:01.462515</td>\n      <td>629881394</td>\n    </tr>\n    <tr>\n      <th>33</th>\n      <td>a57aa6f6-b0ae-4fb9-9ae9-e3f327e2a212</td>\n      <td>raw</td>\n      <td>33</td>\n      <td>product2</td>\n      <td>2019-11-01 22:35:33.142711</td>\n      <td>629881394</td>\n    </tr>\n    <tr>\n      <th>36</th>\n      <td>4e79d3a6-d70c-454a-9707-02ceb5dd9100</td>\n      <td>raw</td>\n      <td>36</td>\n      <td>cart</td>\n      <td>2019-11-01 22:35:50.437706</td>\n      <td>629881394</td>\n    </tr>\n    <tr>\n      <th>38</th>\n      <td>3cf46b8e-bd39-410f-9f37-9d1624395e46</td>\n      <td>raw</td>\n      <td>38</td>\n      <td>delivery_choice</td>\n      <td>2019-11-01 22:35:57.649549</td>\n      <td>629881394</td>\n    </tr>\n    <tr>\n      <th>39</th>\n      <td>d9210450-103e-4f56-9709-cca01f25ac05</td>\n      <td>raw</td>\n      <td>39</td>\n      <td>delivery_courier</td>\n      <td>2019-11-01 22:36:02.009271</td>\n      <td>629881394</td>\n    </tr>\n    <tr>\n      <th>42</th>\n      <td>84445617-0870-48dd-a828-b1ef33c9d326</td>\n      <td>raw</td>\n      <td>42</td>\n      <td>payment_choice</td>\n      <td>2019-11-01 22:36:02.243274</td>\n      <td>629881394</td>\n    </tr>\n    <tr>\n      <th>44</th>\n      <td>3c07f347-d084-4752-ae79-f114ce38dffa</td>\n      <td>raw</td>\n      <td>44</td>\n      <td>payment_cash</td>\n      <td>2019-11-01 22:36:03.415201</td>\n      <td>629881394</td>\n    </tr>\n    <tr>\n      <th>45</th>\n      <td>5b7c27d7-dfdc-41f2-9275-8e5bcad319e9</td>\n      <td>raw</td>\n      <td>45</td>\n      <td>payment_done</td>\n      <td>2019-11-01 22:36:03.999697</td>\n      <td>629881394</td>\n    </tr>\n  </tbody>\n</table>\n</div>"
     },
     "execution_count": 10,
     "metadata": {},
     "output_type": "execute_result"
    }
   ],
   "source": [
    "source_df[(source_df['user_id'] == check_id) &\\\n",
    "          (source_df['event_timestamp'] <= event_time)]"
   ],
   "metadata": {
    "collapsed": false,
    "pycharm": {
     "name": "#%%\n"
    }
   }
  },
  {
   "cell_type": "code",
   "execution_count": 11,
   "outputs": [
    {
     "name": "stdout",
     "output_type": "stream",
     "text": [
      "48\n"
     ]
    },
    {
     "data": {
      "text/plain": "                                   event_id event_type  event_index  \\\n7      6a803b23-1ea7-4497-92f6-a515e7437fba        raw            7   \n9      4beaced5-47d8-426c-ab68-c7e767de8c99        raw            9   \n11     16d3a1fd-9cc6-490d-91eb-44d25f18991f        raw           11   \n13     8a34d475-66bf-41c4-b64b-912ae8192933        raw           13   \n14     2576ca38-e122-46e5-a0b3-aabda5e36d76        raw           14   \n15     16107705-9742-4cb2-a25d-ba1614f4b0bc        raw           15   \n16     57e49264-658b-4de5-ac89-56d94c97d41c        raw           16   \n17     852dccfc-08c5-4c76-9090-7fc37e7a43dc        raw           17   \n18     a7fa9624-bcb9-4005-b7c5-7a168bbd88cf        raw           18   \n19     b7096391-1ff2-4560-a85d-9b1c35533003        raw           19   \n20     b700f925-73e9-4d27-8917-74d8a9340551        raw           20   \n21     10a54349-0ddd-4e21-9be0-e4923913a86e        raw           21   \n22     d862b969-c71f-4191-b952-03045ab1cc82        raw           22   \n23     8107b099-43bf-4159-89cf-cc6ec36951e2        raw           23   \n24     bece7048-2d10-45e5-8140-f10e61acb784        raw           24   \n25     ba26b00f-4b10-4efe-b435-20a5fc4f054b        raw           25   \n27     6689538f-db3c-40db-8d79-e786904d6b20        raw           27   \n29     8e8874b4-f16c-46ec-ae9d-cddae28ff817        raw           29   \n31     cf1990b2-1793-41c7-b45f-c9da5fdcd15b        raw           31   \n33     a57aa6f6-b0ae-4fb9-9ae9-e3f327e2a212        raw           33   \n36     4e79d3a6-d70c-454a-9707-02ceb5dd9100        raw           36   \n38     3cf46b8e-bd39-410f-9f37-9d1624395e46        raw           38   \n39     d9210450-103e-4f56-9709-cca01f25ac05        raw           39   \n42     84445617-0870-48dd-a828-b1ef33c9d326        raw           42   \n44     3c07f347-d084-4752-ae79-f114ce38dffa        raw           44   \n45     5b7c27d7-dfdc-41f2-9275-8e5bcad319e9        raw           45   \n340    0e583b7f-bffe-4c67-b8e7-bd7ad34a2012        raw          340   \n342    d7d570a5-045a-474b-9c3d-7ed4f217a3f7        raw          342   \n345    190e4013-6089-4ae6-8c19-b07dac0db6f5        raw          345   \n1330   928b8636-1f79-42b6-9560-e1c5e262ee3c        raw         1330   \n1331   4d7a85bd-6a48-47f2-9263-ae0369d1fb7c        raw         1331   \n1332   fd1d6f2f-1700-4632-a109-3ff62b577d3e        raw         1332   \n6292   23bcbfbd-8e2d-4f85-8f2a-18d37f571784        raw         6292   \n6293   81881b20-92e5-4b78-88ed-a30d235e4a97        raw         6293   \n10660  3307f4de-06d5-46ac-a44b-55373fb2f3d1        raw        10660   \n10661  a4207a72-3268-4e75-b74e-518efccfdcc0        raw        10661   \n10662  faf9a33c-fcd8-4db1-a358-16945e00c74c        raw        10662   \n11455  b9c73670-e418-4ed8-ab89-bf75b3a06bf8        raw        11455   \n11456  4d32c8ab-1a6e-4314-a1aa-9dbea3a2e830        raw        11456   \n13881  eb4caf21-5c6d-44ac-a6d0-d2febafd56a9        raw        13881   \n13882  a0fd45d7-3132-4188-9e85-2bc70e80dc3b        raw        13882   \n14458  e43d9967-35e0-46ef-ab11-662dc8a5f929        raw        14458   \n14481  ea48a895-2951-4761-abcf-e0f4f2a63a18        raw        14481   \n14482  5b45712c-3cc2-49ab-866e-5f92a686c54b        raw        14482   \n14483  7d224aea-9640-4087-9196-c22718771002        raw        14483   \n14484  916c8973-54bf-4069-be86-b06f97d69d4b        raw        14484   \n14485  447cf94c-defc-4c01-ad50-6b9af7a6bc76        raw        14485   \n14486  6540b820-0562-4d2c-8664-1587542e57a5        raw        14486   \n\n             event_name            event_timestamp    user_id  \n7                  main 2019-11-01 22:28:54.791683  629881394  \n9               catalog 2019-11-01 22:29:01.049513  629881394  \n11              catalog 2019-11-01 22:29:32.322458  629881394  \n13              catalog 2019-11-01 22:30:09.450839  629881394  \n14              catalog 2019-11-01 22:31:05.565762  629881394  \n15                 main 2019-11-01 22:31:08.333560  629881394  \n16              catalog 2019-11-01 22:31:09.010626  629881394  \n17             product1 2019-11-01 22:31:10.416231  629881394  \n18              catalog 2019-11-01 22:31:43.019527  629881394  \n19              catalog 2019-11-01 22:32:01.596163  629881394  \n20             product1 2019-11-01 22:32:07.348536  629881394  \n21              catalog 2019-11-01 22:32:10.165568  629881394  \n22             product2 2019-11-01 22:32:16.496241  629881394  \n23              catalog 2019-11-01 22:33:17.682468  629881394  \n24             product1 2019-11-01 22:33:19.961115  629881394  \n25              catalog 2019-11-01 22:33:35.460345  629881394  \n27              catalog 2019-11-01 22:34:02.301293  629881394  \n29             product2 2019-11-01 22:34:32.362386  629881394  \n31              catalog 2019-11-01 22:35:01.462515  629881394  \n33             product2 2019-11-01 22:35:33.142711  629881394  \n36                 cart 2019-11-01 22:35:50.437706  629881394  \n38      delivery_choice 2019-11-01 22:35:57.649549  629881394  \n39     delivery_courier 2019-11-01 22:36:02.009271  629881394  \n42       payment_choice 2019-11-01 22:36:02.243274  629881394  \n44         payment_cash 2019-11-01 22:36:03.415201  629881394  \n45         payment_done 2019-11-01 22:36:03.999697  629881394  \n340                main 2019-11-07 12:40:46.004674  629881394  \n342             catalog 2019-11-07 12:40:55.724185  629881394  \n345                cart 2019-11-07 12:41:04.107187  629881394  \n1330               main 2019-11-25 23:16:56.317624  629881394  \n1331            catalog 2019-11-25 23:17:16.266242  629881394  \n1332            catalog 2019-11-25 23:17:48.747304  629881394  \n6292               main 2020-01-23 18:56:23.445236  629881394  \n6293            catalog 2020-01-23 18:56:30.461624  629881394  \n10660              main 2020-03-01 23:23:43.392597  629881394  \n10661           catalog 2020-03-01 23:23:44.755693  629881394  \n10662              main 2020-03-01 23:23:51.625991  629881394  \n11455              main 2020-03-07 12:05:23.938242  629881394  \n11456           catalog 2020-03-07 12:05:32.476046  629881394  \n13881              main 2020-03-26 13:00:47.844886  629881394  \n13882           catalog 2020-03-26 13:00:49.531644  629881394  \n14458              main 2020-03-30 00:11:47.920536  629881394  \n14481              main 2020-03-30 03:17:46.909845  629881394  \n14482           catalog 2020-03-30 03:17:49.918774  629881394  \n14483           catalog 2020-03-30 03:18:17.835191  629881394  \n14484           catalog 2020-03-30 03:18:53.715887  629881394  \n14485           catalog 2020-03-30 03:19:36.034262  629881394  \n14486           catalog 2020-03-30 03:19:59.515094  629881394  ",
      "text/html": "<div>\n<style scoped>\n    .dataframe tbody tr th:only-of-type {\n        vertical-align: middle;\n    }\n\n    .dataframe tbody tr th {\n        vertical-align: top;\n    }\n\n    .dataframe thead th {\n        text-align: right;\n    }\n</style>\n<table border=\"1\" class=\"dataframe\">\n  <thead>\n    <tr style=\"text-align: right;\">\n      <th></th>\n      <th>event_id</th>\n      <th>event_type</th>\n      <th>event_index</th>\n      <th>event_name</th>\n      <th>event_timestamp</th>\n      <th>user_id</th>\n    </tr>\n  </thead>\n  <tbody>\n    <tr>\n      <th>7</th>\n      <td>6a803b23-1ea7-4497-92f6-a515e7437fba</td>\n      <td>raw</td>\n      <td>7</td>\n      <td>main</td>\n      <td>2019-11-01 22:28:54.791683</td>\n      <td>629881394</td>\n    </tr>\n    <tr>\n      <th>9</th>\n      <td>4beaced5-47d8-426c-ab68-c7e767de8c99</td>\n      <td>raw</td>\n      <td>9</td>\n      <td>catalog</td>\n      <td>2019-11-01 22:29:01.049513</td>\n      <td>629881394</td>\n    </tr>\n    <tr>\n      <th>11</th>\n      <td>16d3a1fd-9cc6-490d-91eb-44d25f18991f</td>\n      <td>raw</td>\n      <td>11</td>\n      <td>catalog</td>\n      <td>2019-11-01 22:29:32.322458</td>\n      <td>629881394</td>\n    </tr>\n    <tr>\n      <th>13</th>\n      <td>8a34d475-66bf-41c4-b64b-912ae8192933</td>\n      <td>raw</td>\n      <td>13</td>\n      <td>catalog</td>\n      <td>2019-11-01 22:30:09.450839</td>\n      <td>629881394</td>\n    </tr>\n    <tr>\n      <th>14</th>\n      <td>2576ca38-e122-46e5-a0b3-aabda5e36d76</td>\n      <td>raw</td>\n      <td>14</td>\n      <td>catalog</td>\n      <td>2019-11-01 22:31:05.565762</td>\n      <td>629881394</td>\n    </tr>\n    <tr>\n      <th>15</th>\n      <td>16107705-9742-4cb2-a25d-ba1614f4b0bc</td>\n      <td>raw</td>\n      <td>15</td>\n      <td>main</td>\n      <td>2019-11-01 22:31:08.333560</td>\n      <td>629881394</td>\n    </tr>\n    <tr>\n      <th>16</th>\n      <td>57e49264-658b-4de5-ac89-56d94c97d41c</td>\n      <td>raw</td>\n      <td>16</td>\n      <td>catalog</td>\n      <td>2019-11-01 22:31:09.010626</td>\n      <td>629881394</td>\n    </tr>\n    <tr>\n      <th>17</th>\n      <td>852dccfc-08c5-4c76-9090-7fc37e7a43dc</td>\n      <td>raw</td>\n      <td>17</td>\n      <td>product1</td>\n      <td>2019-11-01 22:31:10.416231</td>\n      <td>629881394</td>\n    </tr>\n    <tr>\n      <th>18</th>\n      <td>a7fa9624-bcb9-4005-b7c5-7a168bbd88cf</td>\n      <td>raw</td>\n      <td>18</td>\n      <td>catalog</td>\n      <td>2019-11-01 22:31:43.019527</td>\n      <td>629881394</td>\n    </tr>\n    <tr>\n      <th>19</th>\n      <td>b7096391-1ff2-4560-a85d-9b1c35533003</td>\n      <td>raw</td>\n      <td>19</td>\n      <td>catalog</td>\n      <td>2019-11-01 22:32:01.596163</td>\n      <td>629881394</td>\n    </tr>\n    <tr>\n      <th>20</th>\n      <td>b700f925-73e9-4d27-8917-74d8a9340551</td>\n      <td>raw</td>\n      <td>20</td>\n      <td>product1</td>\n      <td>2019-11-01 22:32:07.348536</td>\n      <td>629881394</td>\n    </tr>\n    <tr>\n      <th>21</th>\n      <td>10a54349-0ddd-4e21-9be0-e4923913a86e</td>\n      <td>raw</td>\n      <td>21</td>\n      <td>catalog</td>\n      <td>2019-11-01 22:32:10.165568</td>\n      <td>629881394</td>\n    </tr>\n    <tr>\n      <th>22</th>\n      <td>d862b969-c71f-4191-b952-03045ab1cc82</td>\n      <td>raw</td>\n      <td>22</td>\n      <td>product2</td>\n      <td>2019-11-01 22:32:16.496241</td>\n      <td>629881394</td>\n    </tr>\n    <tr>\n      <th>23</th>\n      <td>8107b099-43bf-4159-89cf-cc6ec36951e2</td>\n      <td>raw</td>\n      <td>23</td>\n      <td>catalog</td>\n      <td>2019-11-01 22:33:17.682468</td>\n      <td>629881394</td>\n    </tr>\n    <tr>\n      <th>24</th>\n      <td>bece7048-2d10-45e5-8140-f10e61acb784</td>\n      <td>raw</td>\n      <td>24</td>\n      <td>product1</td>\n      <td>2019-11-01 22:33:19.961115</td>\n      <td>629881394</td>\n    </tr>\n    <tr>\n      <th>25</th>\n      <td>ba26b00f-4b10-4efe-b435-20a5fc4f054b</td>\n      <td>raw</td>\n      <td>25</td>\n      <td>catalog</td>\n      <td>2019-11-01 22:33:35.460345</td>\n      <td>629881394</td>\n    </tr>\n    <tr>\n      <th>27</th>\n      <td>6689538f-db3c-40db-8d79-e786904d6b20</td>\n      <td>raw</td>\n      <td>27</td>\n      <td>catalog</td>\n      <td>2019-11-01 22:34:02.301293</td>\n      <td>629881394</td>\n    </tr>\n    <tr>\n      <th>29</th>\n      <td>8e8874b4-f16c-46ec-ae9d-cddae28ff817</td>\n      <td>raw</td>\n      <td>29</td>\n      <td>product2</td>\n      <td>2019-11-01 22:34:32.362386</td>\n      <td>629881394</td>\n    </tr>\n    <tr>\n      <th>31</th>\n      <td>cf1990b2-1793-41c7-b45f-c9da5fdcd15b</td>\n      <td>raw</td>\n      <td>31</td>\n      <td>catalog</td>\n      <td>2019-11-01 22:35:01.462515</td>\n      <td>629881394</td>\n    </tr>\n    <tr>\n      <th>33</th>\n      <td>a57aa6f6-b0ae-4fb9-9ae9-e3f327e2a212</td>\n      <td>raw</td>\n      <td>33</td>\n      <td>product2</td>\n      <td>2019-11-01 22:35:33.142711</td>\n      <td>629881394</td>\n    </tr>\n    <tr>\n      <th>36</th>\n      <td>4e79d3a6-d70c-454a-9707-02ceb5dd9100</td>\n      <td>raw</td>\n      <td>36</td>\n      <td>cart</td>\n      <td>2019-11-01 22:35:50.437706</td>\n      <td>629881394</td>\n    </tr>\n    <tr>\n      <th>38</th>\n      <td>3cf46b8e-bd39-410f-9f37-9d1624395e46</td>\n      <td>raw</td>\n      <td>38</td>\n      <td>delivery_choice</td>\n      <td>2019-11-01 22:35:57.649549</td>\n      <td>629881394</td>\n    </tr>\n    <tr>\n      <th>39</th>\n      <td>d9210450-103e-4f56-9709-cca01f25ac05</td>\n      <td>raw</td>\n      <td>39</td>\n      <td>delivery_courier</td>\n      <td>2019-11-01 22:36:02.009271</td>\n      <td>629881394</td>\n    </tr>\n    <tr>\n      <th>42</th>\n      <td>84445617-0870-48dd-a828-b1ef33c9d326</td>\n      <td>raw</td>\n      <td>42</td>\n      <td>payment_choice</td>\n      <td>2019-11-01 22:36:02.243274</td>\n      <td>629881394</td>\n    </tr>\n    <tr>\n      <th>44</th>\n      <td>3c07f347-d084-4752-ae79-f114ce38dffa</td>\n      <td>raw</td>\n      <td>44</td>\n      <td>payment_cash</td>\n      <td>2019-11-01 22:36:03.415201</td>\n      <td>629881394</td>\n    </tr>\n    <tr>\n      <th>45</th>\n      <td>5b7c27d7-dfdc-41f2-9275-8e5bcad319e9</td>\n      <td>raw</td>\n      <td>45</td>\n      <td>payment_done</td>\n      <td>2019-11-01 22:36:03.999697</td>\n      <td>629881394</td>\n    </tr>\n    <tr>\n      <th>340</th>\n      <td>0e583b7f-bffe-4c67-b8e7-bd7ad34a2012</td>\n      <td>raw</td>\n      <td>340</td>\n      <td>main</td>\n      <td>2019-11-07 12:40:46.004674</td>\n      <td>629881394</td>\n    </tr>\n    <tr>\n      <th>342</th>\n      <td>d7d570a5-045a-474b-9c3d-7ed4f217a3f7</td>\n      <td>raw</td>\n      <td>342</td>\n      <td>catalog</td>\n      <td>2019-11-07 12:40:55.724185</td>\n      <td>629881394</td>\n    </tr>\n    <tr>\n      <th>345</th>\n      <td>190e4013-6089-4ae6-8c19-b07dac0db6f5</td>\n      <td>raw</td>\n      <td>345</td>\n      <td>cart</td>\n      <td>2019-11-07 12:41:04.107187</td>\n      <td>629881394</td>\n    </tr>\n    <tr>\n      <th>1330</th>\n      <td>928b8636-1f79-42b6-9560-e1c5e262ee3c</td>\n      <td>raw</td>\n      <td>1330</td>\n      <td>main</td>\n      <td>2019-11-25 23:16:56.317624</td>\n      <td>629881394</td>\n    </tr>\n    <tr>\n      <th>1331</th>\n      <td>4d7a85bd-6a48-47f2-9263-ae0369d1fb7c</td>\n      <td>raw</td>\n      <td>1331</td>\n      <td>catalog</td>\n      <td>2019-11-25 23:17:16.266242</td>\n      <td>629881394</td>\n    </tr>\n    <tr>\n      <th>1332</th>\n      <td>fd1d6f2f-1700-4632-a109-3ff62b577d3e</td>\n      <td>raw</td>\n      <td>1332</td>\n      <td>catalog</td>\n      <td>2019-11-25 23:17:48.747304</td>\n      <td>629881394</td>\n    </tr>\n    <tr>\n      <th>6292</th>\n      <td>23bcbfbd-8e2d-4f85-8f2a-18d37f571784</td>\n      <td>raw</td>\n      <td>6292</td>\n      <td>main</td>\n      <td>2020-01-23 18:56:23.445236</td>\n      <td>629881394</td>\n    </tr>\n    <tr>\n      <th>6293</th>\n      <td>81881b20-92e5-4b78-88ed-a30d235e4a97</td>\n      <td>raw</td>\n      <td>6293</td>\n      <td>catalog</td>\n      <td>2020-01-23 18:56:30.461624</td>\n      <td>629881394</td>\n    </tr>\n    <tr>\n      <th>10660</th>\n      <td>3307f4de-06d5-46ac-a44b-55373fb2f3d1</td>\n      <td>raw</td>\n      <td>10660</td>\n      <td>main</td>\n      <td>2020-03-01 23:23:43.392597</td>\n      <td>629881394</td>\n    </tr>\n    <tr>\n      <th>10661</th>\n      <td>a4207a72-3268-4e75-b74e-518efccfdcc0</td>\n      <td>raw</td>\n      <td>10661</td>\n      <td>catalog</td>\n      <td>2020-03-01 23:23:44.755693</td>\n      <td>629881394</td>\n    </tr>\n    <tr>\n      <th>10662</th>\n      <td>faf9a33c-fcd8-4db1-a358-16945e00c74c</td>\n      <td>raw</td>\n      <td>10662</td>\n      <td>main</td>\n      <td>2020-03-01 23:23:51.625991</td>\n      <td>629881394</td>\n    </tr>\n    <tr>\n      <th>11455</th>\n      <td>b9c73670-e418-4ed8-ab89-bf75b3a06bf8</td>\n      <td>raw</td>\n      <td>11455</td>\n      <td>main</td>\n      <td>2020-03-07 12:05:23.938242</td>\n      <td>629881394</td>\n    </tr>\n    <tr>\n      <th>11456</th>\n      <td>4d32c8ab-1a6e-4314-a1aa-9dbea3a2e830</td>\n      <td>raw</td>\n      <td>11456</td>\n      <td>catalog</td>\n      <td>2020-03-07 12:05:32.476046</td>\n      <td>629881394</td>\n    </tr>\n    <tr>\n      <th>13881</th>\n      <td>eb4caf21-5c6d-44ac-a6d0-d2febafd56a9</td>\n      <td>raw</td>\n      <td>13881</td>\n      <td>main</td>\n      <td>2020-03-26 13:00:47.844886</td>\n      <td>629881394</td>\n    </tr>\n    <tr>\n      <th>13882</th>\n      <td>a0fd45d7-3132-4188-9e85-2bc70e80dc3b</td>\n      <td>raw</td>\n      <td>13882</td>\n      <td>catalog</td>\n      <td>2020-03-26 13:00:49.531644</td>\n      <td>629881394</td>\n    </tr>\n    <tr>\n      <th>14458</th>\n      <td>e43d9967-35e0-46ef-ab11-662dc8a5f929</td>\n      <td>raw</td>\n      <td>14458</td>\n      <td>main</td>\n      <td>2020-03-30 00:11:47.920536</td>\n      <td>629881394</td>\n    </tr>\n    <tr>\n      <th>14481</th>\n      <td>ea48a895-2951-4761-abcf-e0f4f2a63a18</td>\n      <td>raw</td>\n      <td>14481</td>\n      <td>main</td>\n      <td>2020-03-30 03:17:46.909845</td>\n      <td>629881394</td>\n    </tr>\n    <tr>\n      <th>14482</th>\n      <td>5b45712c-3cc2-49ab-866e-5f92a686c54b</td>\n      <td>raw</td>\n      <td>14482</td>\n      <td>catalog</td>\n      <td>2020-03-30 03:17:49.918774</td>\n      <td>629881394</td>\n    </tr>\n    <tr>\n      <th>14483</th>\n      <td>7d224aea-9640-4087-9196-c22718771002</td>\n      <td>raw</td>\n      <td>14483</td>\n      <td>catalog</td>\n      <td>2020-03-30 03:18:17.835191</td>\n      <td>629881394</td>\n    </tr>\n    <tr>\n      <th>14484</th>\n      <td>916c8973-54bf-4069-be86-b06f97d69d4b</td>\n      <td>raw</td>\n      <td>14484</td>\n      <td>catalog</td>\n      <td>2020-03-30 03:18:53.715887</td>\n      <td>629881394</td>\n    </tr>\n    <tr>\n      <th>14485</th>\n      <td>447cf94c-defc-4c01-ad50-6b9af7a6bc76</td>\n      <td>raw</td>\n      <td>14485</td>\n      <td>catalog</td>\n      <td>2020-03-30 03:19:36.034262</td>\n      <td>629881394</td>\n    </tr>\n    <tr>\n      <th>14486</th>\n      <td>6540b820-0562-4d2c-8664-1587542e57a5</td>\n      <td>raw</td>\n      <td>14486</td>\n      <td>catalog</td>\n      <td>2020-03-30 03:19:59.515094</td>\n      <td>629881394</td>\n    </tr>\n  </tbody>\n</table>\n</div>"
     },
     "execution_count": 11,
     "metadata": {},
     "output_type": "execute_result"
    }
   ],
   "source": [
    "print(len(source_df[source_df['user_id'] == check_id]))\n",
    "source_df[source_df['user_id'] == check_id]"
   ],
   "metadata": {
    "collapsed": false,
    "pycharm": {
     "name": "#%%\n"
    }
   }
  },
  {
   "cell_type": "markdown",
   "source": [
    "User_id = 47562303\n",
    "Событие ```payment_done``` встречается дважды\n"
   ],
   "metadata": {
    "collapsed": false,
    "pycharm": {
     "name": "#%% md\n"
    }
   }
  },
  {
   "cell_type": "code",
   "execution_count": 12,
   "outputs": [
    {
     "name": "stdout",
     "output_type": "stream",
     "text": [
      "7\n"
     ]
    }
   ],
   "source": [
    "check_id = 47562303\n",
    "print(len(df8[df8['user_id'] == check_id]))\n",
    "event_time = source_df[(source_df['user_id'] == check_id) & \\\n",
    "    (source_df['event_name'] == 'payment_done')]['event_timestamp'].min()"
   ],
   "metadata": {
    "collapsed": false,
    "pycharm": {
     "name": "#%%\n"
    }
   }
  },
  {
   "cell_type": "code",
   "execution_count": 13,
   "outputs": [
    {
     "data": {
      "text/plain": "                                  event_id event_type  event_index  \\\n4029  0d8a5e7f-fb77-4787-8716-7fe87da1022a        raw         4029   \n4030  7cfd0385-c4af-4145-9a47-1715939eea1b        raw         4030   \n4031  9fe9f988-6215-4743-ae10-a49715fa189a        raw         4031   \n4032  5b65e18c-1960-4e30-ac3c-2d9ad97468e5        raw         4032   \n4033  f700e45c-3c1e-4e05-b422-9a82a3667d9d        raw         4033   \n4034  3d28cc24-bde7-47be-b1de-b74c5aaa9450        raw         4034   \n4035  f7fb76a8-de9f-4cee-ba39-3ee8d2826e49        raw         4035   \n\n            event_name            event_timestamp   user_id  \n4029           catalog 2019-12-29 16:55:27.897130  47562303  \n4030              cart 2019-12-29 16:55:41.539826  47562303  \n4031   delivery_choice 2019-12-29 16:55:44.747151  47562303  \n4032  delivery_courier 2019-12-29 16:55:49.061226  47562303  \n4033    payment_choice 2019-12-29 16:55:49.201853  47562303  \n4034      payment_cash 2019-12-29 16:55:52.004250  47562303  \n4035      payment_done 2019-12-29 16:55:52.350396  47562303  ",
      "text/html": "<div>\n<style scoped>\n    .dataframe tbody tr th:only-of-type {\n        vertical-align: middle;\n    }\n\n    .dataframe tbody tr th {\n        vertical-align: top;\n    }\n\n    .dataframe thead th {\n        text-align: right;\n    }\n</style>\n<table border=\"1\" class=\"dataframe\">\n  <thead>\n    <tr style=\"text-align: right;\">\n      <th></th>\n      <th>event_id</th>\n      <th>event_type</th>\n      <th>event_index</th>\n      <th>event_name</th>\n      <th>event_timestamp</th>\n      <th>user_id</th>\n    </tr>\n  </thead>\n  <tbody>\n    <tr>\n      <th>4029</th>\n      <td>0d8a5e7f-fb77-4787-8716-7fe87da1022a</td>\n      <td>raw</td>\n      <td>4029</td>\n      <td>catalog</td>\n      <td>2019-12-29 16:55:27.897130</td>\n      <td>47562303</td>\n    </tr>\n    <tr>\n      <th>4030</th>\n      <td>7cfd0385-c4af-4145-9a47-1715939eea1b</td>\n      <td>raw</td>\n      <td>4030</td>\n      <td>cart</td>\n      <td>2019-12-29 16:55:41.539826</td>\n      <td>47562303</td>\n    </tr>\n    <tr>\n      <th>4031</th>\n      <td>9fe9f988-6215-4743-ae10-a49715fa189a</td>\n      <td>raw</td>\n      <td>4031</td>\n      <td>delivery_choice</td>\n      <td>2019-12-29 16:55:44.747151</td>\n      <td>47562303</td>\n    </tr>\n    <tr>\n      <th>4032</th>\n      <td>5b65e18c-1960-4e30-ac3c-2d9ad97468e5</td>\n      <td>raw</td>\n      <td>4032</td>\n      <td>delivery_courier</td>\n      <td>2019-12-29 16:55:49.061226</td>\n      <td>47562303</td>\n    </tr>\n    <tr>\n      <th>4033</th>\n      <td>f700e45c-3c1e-4e05-b422-9a82a3667d9d</td>\n      <td>raw</td>\n      <td>4033</td>\n      <td>payment_choice</td>\n      <td>2019-12-29 16:55:49.201853</td>\n      <td>47562303</td>\n    </tr>\n    <tr>\n      <th>4034</th>\n      <td>3d28cc24-bde7-47be-b1de-b74c5aaa9450</td>\n      <td>raw</td>\n      <td>4034</td>\n      <td>payment_cash</td>\n      <td>2019-12-29 16:55:52.004250</td>\n      <td>47562303</td>\n    </tr>\n    <tr>\n      <th>4035</th>\n      <td>f7fb76a8-de9f-4cee-ba39-3ee8d2826e49</td>\n      <td>raw</td>\n      <td>4035</td>\n      <td>payment_done</td>\n      <td>2019-12-29 16:55:52.350396</td>\n      <td>47562303</td>\n    </tr>\n  </tbody>\n</table>\n</div>"
     },
     "execution_count": 13,
     "metadata": {},
     "output_type": "execute_result"
    }
   ],
   "source": [
    "source_df[(source_df['user_id'] == check_id) &\\\n",
    "          (source_df['event_timestamp'] <= event_time)]"
   ],
   "metadata": {
    "collapsed": false,
    "pycharm": {
     "name": "#%%\n"
    }
   }
  },
  {
   "cell_type": "code",
   "execution_count": 14,
   "outputs": [
    {
     "data": {
      "text/plain": "user_id\n168688753    2\n830731696    2\n849341362    2\n845778461    2\n652347392    2\n            ..\n355840584    1\n358346667    1\n363256580    1\n365193081    1\n999642905    1\nName: event_name, Length: 730, dtype: int64"
     },
     "execution_count": 14,
     "metadata": {},
     "output_type": "execute_result"
    }
   ],
   "source": [
    "source_df[(source_df['event_name'] == 'payment_done') | \\\n",
    "          (source_df['event_name'] == 'payment_cash') ]\\\n",
    "    .groupby('user_id')['event_name'].nunique().sort_values(ascending=False)"
   ],
   "metadata": {
    "collapsed": false,
    "pycharm": {
     "name": "#%%\n"
    }
   }
  },
  {
   "cell_type": "code",
   "execution_count": 15,
   "outputs": [
    {
     "data": {
      "text/plain": "catalog             14518\nmain                 5635\nlost                 3098\ncart                 2842\nproduct2             2172\ndelivery_choice      1686\nproduct1             1515\npayment_choice       1107\ndelivery_courier      834\npayment_done          706\npayment_card          565\ndelivery_pickup       506\npayment_cash          197\nName: event_name, dtype: int64"
     },
     "execution_count": 15,
     "metadata": {},
     "output_type": "execute_result"
    }
   ],
   "source": [
    "source_df['event_name'].value_counts()"
   ],
   "metadata": {
    "collapsed": false,
    "pycharm": {
     "name": "#%%\n"
    }
   }
  },
  {
   "cell_type": "markdown",
   "source": [
    "### сдвиг"
   ],
   "metadata": {
    "collapsed": false,
    "pycharm": {
     "name": "#%% md\n"
    }
   }
  },
  {
   "cell_type": "code",
   "execution_count": 16,
   "outputs": [
    {
     "name": "stderr",
     "output_type": "stream",
     "text": [
      "/Users/Daria/Dev/Retentioneering/retentioneering-tools-new-arch/examples/../src/data_processors_lib/rete/cut_path_after_event.py:59: SettingWithCopyWarning: \n",
      "A value is trying to be set on a copy of a slice from a DataFrame.\n",
      "Try using .loc[row_indexer,col_indexer] = value instead\n",
      "\n",
      "See the caveats in the documentation: https://pandas.pydata.org/pandas-docs/stable/user_guide/indexing.html#returning-a-view-versus-a-copy\n",
      "  df_cut[\"rw_cumsum\"] = df_cut.loc[::-1].groupby([user_col])[time_col].transform(\n",
      "/Users/Daria/Dev/Retentioneering/retentioneering-tools-new-arch/examples/../src/data_processors_lib/rete/cut_path_after_event.py:76: SettingWithCopyWarning: \n",
      "A value is trying to be set on a copy of a slice from a DataFrame.\n",
      "Try using .loc[row_indexer,col_indexer] = value instead\n",
      "\n",
      "See the caveats in the documentation: https://pandas.pydata.org/pandas-docs/stable/user_guide/indexing.html#returning-a-view-versus-a-copy\n",
      "  df_to_del[\"ref\"] = df_to_del[eventstream.schema.event_id]\n"
     ]
    }
   ],
   "source": [
    "from src.data_processors_lib.rete import CutPathAfterEvent, CutPathAfterEventParams\n",
    "params = {\n",
    "    'cutoff_events': ['payment_done'],\n",
    "    'cut_shift': 1,\n",
    "    'min_cjm': 0\n",
    "}\n",
    "\n",
    "cut_after = EventsNode(\n",
    "    CutPathAfterEvent(params=CutPathAfterEventParams(**params)))\n",
    "\n",
    "graph.add_node(\n",
    "    node=cut_after,\n",
    "    parents=[graph.root]\n",
    ")\n",
    "\n",
    "result = graph.combine(\n",
    "    node=cut_after\n",
    ")"
   ],
   "metadata": {
    "collapsed": false,
    "pycharm": {
     "name": "#%%\n"
    }
   }
  },
  {
   "cell_type": "code",
   "execution_count": 17,
   "outputs": [
    {
     "name": "stdout",
     "output_type": "stream",
     "text": [
      "0\n"
     ]
    },
    {
     "data": {
      "text/plain": "0"
     },
     "execution_count": 17,
     "metadata": {},
     "output_type": "execute_result"
    }
   ],
   "source": [
    "df81 = result.to_dataframe()\n",
    "print(source_df.duplicated(['event_name', 'event_timestamp', 'user_id']).sum())\n",
    "df81.duplicated(['event_name', 'event_timestamp', 'user_id']).sum()"
   ],
   "metadata": {
    "collapsed": false,
    "pycharm": {
     "name": "#%%\n"
    }
   }
  },
  {
   "cell_type": "code",
   "execution_count": 18,
   "outputs": [
    {
     "data": {
      "text/plain": "raw    28915\nName: event_type, dtype: int64"
     },
     "execution_count": 18,
     "metadata": {},
     "output_type": "execute_result"
    }
   ],
   "source": [
    "df81['event_type'].value_counts()"
   ],
   "metadata": {
    "collapsed": false,
    "pycharm": {
     "name": "#%%\n"
    }
   }
  },
  {
   "cell_type": "code",
   "execution_count": 19,
   "outputs": [
    {
     "data": {
      "text/plain": "raw    35381\nName: event_type, dtype: int64"
     },
     "execution_count": 19,
     "metadata": {},
     "output_type": "execute_result"
    }
   ],
   "source": [
    "source_df['event_type'].value_counts()"
   ],
   "metadata": {
    "collapsed": false,
    "pycharm": {
     "name": "#%%\n"
    }
   }
  },
  {
   "cell_type": "code",
   "execution_count": 20,
   "outputs": [
    {
     "data": {
      "text/plain": "653"
     },
     "execution_count": 20,
     "metadata": {},
     "output_type": "execute_result"
    }
   ],
   "source": [
    "source_df[source_df['event_name'] == 'payment_done']['user_id'].nunique()"
   ],
   "metadata": {
    "collapsed": false,
    "pycharm": {
     "name": "#%%\n"
    }
   }
  },
  {
   "cell_type": "code",
   "execution_count": 21,
   "outputs": [
    {
     "name": "stdout",
     "output_type": "stream",
     "text": [
      "Длина отрезанной траектории -  25\n"
     ]
    },
    {
     "data": {
      "text/plain": "                                event_id event_type  event_index  \\\n7   9863622f-3251-4e1f-a28d-2cfb9889736b        raw            7   \n9   3ce21b73-8cd5-445a-ac87-dca35447093c        raw            9   \n11  9e74c251-b5d9-41f5-9178-55b869221bcd        raw           11   \n13  7519f116-53fd-43a5-9408-b39aee3e2e91        raw           13   \n14  e3efa4db-637e-4f7d-97ca-47627452e66e        raw           14   \n15  33fd2fec-0669-4448-b679-a61166ddeed5        raw           15   \n16  13a72e04-a34e-4efc-b2bb-2b280c76498d        raw           16   \n17  4d6b8867-1543-48ed-b9a6-fffdd5f66f57        raw           17   \n18  af71ac16-aca0-41df-b073-4055d2b1951a        raw           18   \n19  c0935c1a-64af-4b5e-a297-fc9b8ba15c77        raw           19   \n20  de5bb387-e5d1-4e1c-890f-8ea47efd9c57        raw           20   \n21  29cb632e-3108-4a15-8517-948347eb9c37        raw           21   \n22  5acb3cba-b641-43dc-9422-72cecbc435e4        raw           22   \n23  4ae55fdc-beb3-42de-834f-1e958153d510        raw           23   \n24  f65ac25a-ae05-4294-aab1-6c57bf7cd4f8        raw           24   \n25  43cdf470-32ae-4108-ab22-1942497fe773        raw           25   \n27  f822d087-d4af-4572-bff8-66b49f70f8b3        raw           27   \n29  3f050d42-2416-4ddc-baac-cc4c4a28aa87        raw           29   \n31  e11b1664-d137-449d-8910-a642167834f2        raw           31   \n33  b143afc9-c6e9-42a6-afcc-dfe4e82e803e        raw           33   \n36  12224283-faa9-410e-9da0-4ed25f431c43        raw           36   \n38  91a769a8-9bde-4b98-8312-b753410b48fa        raw           38   \n39  d2a1e54e-0780-4678-ae3c-6251110c1b53        raw           39   \n42  7b38c485-989b-4bda-ac14-378ee0150421        raw           42   \n44  7eb22cd4-2007-492a-8ddc-c9a123c2544d        raw           44   \n\n          event_name            event_timestamp      user_id  \n7               main 2019-11-01 22:28:54.791683  629881394.0  \n9            catalog 2019-11-01 22:29:01.049513  629881394.0  \n11           catalog 2019-11-01 22:29:32.322458  629881394.0  \n13           catalog 2019-11-01 22:30:09.450839  629881394.0  \n14           catalog 2019-11-01 22:31:05.565762  629881394.0  \n15              main 2019-11-01 22:31:08.333560  629881394.0  \n16           catalog 2019-11-01 22:31:09.010626  629881394.0  \n17          product1 2019-11-01 22:31:10.416231  629881394.0  \n18           catalog 2019-11-01 22:31:43.019527  629881394.0  \n19           catalog 2019-11-01 22:32:01.596163  629881394.0  \n20          product1 2019-11-01 22:32:07.348536  629881394.0  \n21           catalog 2019-11-01 22:32:10.165568  629881394.0  \n22          product2 2019-11-01 22:32:16.496241  629881394.0  \n23           catalog 2019-11-01 22:33:17.682468  629881394.0  \n24          product1 2019-11-01 22:33:19.961115  629881394.0  \n25           catalog 2019-11-01 22:33:35.460345  629881394.0  \n27           catalog 2019-11-01 22:34:02.301293  629881394.0  \n29          product2 2019-11-01 22:34:32.362386  629881394.0  \n31           catalog 2019-11-01 22:35:01.462515  629881394.0  \n33          product2 2019-11-01 22:35:33.142711  629881394.0  \n36              cart 2019-11-01 22:35:50.437706  629881394.0  \n38   delivery_choice 2019-11-01 22:35:57.649549  629881394.0  \n39  delivery_courier 2019-11-01 22:36:02.009271  629881394.0  \n42    payment_choice 2019-11-01 22:36:02.243274  629881394.0  \n44      payment_cash 2019-11-01 22:36:03.415201  629881394.0  ",
      "text/html": "<div>\n<style scoped>\n    .dataframe tbody tr th:only-of-type {\n        vertical-align: middle;\n    }\n\n    .dataframe tbody tr th {\n        vertical-align: top;\n    }\n\n    .dataframe thead th {\n        text-align: right;\n    }\n</style>\n<table border=\"1\" class=\"dataframe\">\n  <thead>\n    <tr style=\"text-align: right;\">\n      <th></th>\n      <th>event_id</th>\n      <th>event_type</th>\n      <th>event_index</th>\n      <th>event_name</th>\n      <th>event_timestamp</th>\n      <th>user_id</th>\n    </tr>\n  </thead>\n  <tbody>\n    <tr>\n      <th>7</th>\n      <td>9863622f-3251-4e1f-a28d-2cfb9889736b</td>\n      <td>raw</td>\n      <td>7</td>\n      <td>main</td>\n      <td>2019-11-01 22:28:54.791683</td>\n      <td>629881394.0</td>\n    </tr>\n    <tr>\n      <th>9</th>\n      <td>3ce21b73-8cd5-445a-ac87-dca35447093c</td>\n      <td>raw</td>\n      <td>9</td>\n      <td>catalog</td>\n      <td>2019-11-01 22:29:01.049513</td>\n      <td>629881394.0</td>\n    </tr>\n    <tr>\n      <th>11</th>\n      <td>9e74c251-b5d9-41f5-9178-55b869221bcd</td>\n      <td>raw</td>\n      <td>11</td>\n      <td>catalog</td>\n      <td>2019-11-01 22:29:32.322458</td>\n      <td>629881394.0</td>\n    </tr>\n    <tr>\n      <th>13</th>\n      <td>7519f116-53fd-43a5-9408-b39aee3e2e91</td>\n      <td>raw</td>\n      <td>13</td>\n      <td>catalog</td>\n      <td>2019-11-01 22:30:09.450839</td>\n      <td>629881394.0</td>\n    </tr>\n    <tr>\n      <th>14</th>\n      <td>e3efa4db-637e-4f7d-97ca-47627452e66e</td>\n      <td>raw</td>\n      <td>14</td>\n      <td>catalog</td>\n      <td>2019-11-01 22:31:05.565762</td>\n      <td>629881394.0</td>\n    </tr>\n    <tr>\n      <th>15</th>\n      <td>33fd2fec-0669-4448-b679-a61166ddeed5</td>\n      <td>raw</td>\n      <td>15</td>\n      <td>main</td>\n      <td>2019-11-01 22:31:08.333560</td>\n      <td>629881394.0</td>\n    </tr>\n    <tr>\n      <th>16</th>\n      <td>13a72e04-a34e-4efc-b2bb-2b280c76498d</td>\n      <td>raw</td>\n      <td>16</td>\n      <td>catalog</td>\n      <td>2019-11-01 22:31:09.010626</td>\n      <td>629881394.0</td>\n    </tr>\n    <tr>\n      <th>17</th>\n      <td>4d6b8867-1543-48ed-b9a6-fffdd5f66f57</td>\n      <td>raw</td>\n      <td>17</td>\n      <td>product1</td>\n      <td>2019-11-01 22:31:10.416231</td>\n      <td>629881394.0</td>\n    </tr>\n    <tr>\n      <th>18</th>\n      <td>af71ac16-aca0-41df-b073-4055d2b1951a</td>\n      <td>raw</td>\n      <td>18</td>\n      <td>catalog</td>\n      <td>2019-11-01 22:31:43.019527</td>\n      <td>629881394.0</td>\n    </tr>\n    <tr>\n      <th>19</th>\n      <td>c0935c1a-64af-4b5e-a297-fc9b8ba15c77</td>\n      <td>raw</td>\n      <td>19</td>\n      <td>catalog</td>\n      <td>2019-11-01 22:32:01.596163</td>\n      <td>629881394.0</td>\n    </tr>\n    <tr>\n      <th>20</th>\n      <td>de5bb387-e5d1-4e1c-890f-8ea47efd9c57</td>\n      <td>raw</td>\n      <td>20</td>\n      <td>product1</td>\n      <td>2019-11-01 22:32:07.348536</td>\n      <td>629881394.0</td>\n    </tr>\n    <tr>\n      <th>21</th>\n      <td>29cb632e-3108-4a15-8517-948347eb9c37</td>\n      <td>raw</td>\n      <td>21</td>\n      <td>catalog</td>\n      <td>2019-11-01 22:32:10.165568</td>\n      <td>629881394.0</td>\n    </tr>\n    <tr>\n      <th>22</th>\n      <td>5acb3cba-b641-43dc-9422-72cecbc435e4</td>\n      <td>raw</td>\n      <td>22</td>\n      <td>product2</td>\n      <td>2019-11-01 22:32:16.496241</td>\n      <td>629881394.0</td>\n    </tr>\n    <tr>\n      <th>23</th>\n      <td>4ae55fdc-beb3-42de-834f-1e958153d510</td>\n      <td>raw</td>\n      <td>23</td>\n      <td>catalog</td>\n      <td>2019-11-01 22:33:17.682468</td>\n      <td>629881394.0</td>\n    </tr>\n    <tr>\n      <th>24</th>\n      <td>f65ac25a-ae05-4294-aab1-6c57bf7cd4f8</td>\n      <td>raw</td>\n      <td>24</td>\n      <td>product1</td>\n      <td>2019-11-01 22:33:19.961115</td>\n      <td>629881394.0</td>\n    </tr>\n    <tr>\n      <th>25</th>\n      <td>43cdf470-32ae-4108-ab22-1942497fe773</td>\n      <td>raw</td>\n      <td>25</td>\n      <td>catalog</td>\n      <td>2019-11-01 22:33:35.460345</td>\n      <td>629881394.0</td>\n    </tr>\n    <tr>\n      <th>27</th>\n      <td>f822d087-d4af-4572-bff8-66b49f70f8b3</td>\n      <td>raw</td>\n      <td>27</td>\n      <td>catalog</td>\n      <td>2019-11-01 22:34:02.301293</td>\n      <td>629881394.0</td>\n    </tr>\n    <tr>\n      <th>29</th>\n      <td>3f050d42-2416-4ddc-baac-cc4c4a28aa87</td>\n      <td>raw</td>\n      <td>29</td>\n      <td>product2</td>\n      <td>2019-11-01 22:34:32.362386</td>\n      <td>629881394.0</td>\n    </tr>\n    <tr>\n      <th>31</th>\n      <td>e11b1664-d137-449d-8910-a642167834f2</td>\n      <td>raw</td>\n      <td>31</td>\n      <td>catalog</td>\n      <td>2019-11-01 22:35:01.462515</td>\n      <td>629881394.0</td>\n    </tr>\n    <tr>\n      <th>33</th>\n      <td>b143afc9-c6e9-42a6-afcc-dfe4e82e803e</td>\n      <td>raw</td>\n      <td>33</td>\n      <td>product2</td>\n      <td>2019-11-01 22:35:33.142711</td>\n      <td>629881394.0</td>\n    </tr>\n    <tr>\n      <th>36</th>\n      <td>12224283-faa9-410e-9da0-4ed25f431c43</td>\n      <td>raw</td>\n      <td>36</td>\n      <td>cart</td>\n      <td>2019-11-01 22:35:50.437706</td>\n      <td>629881394.0</td>\n    </tr>\n    <tr>\n      <th>38</th>\n      <td>91a769a8-9bde-4b98-8312-b753410b48fa</td>\n      <td>raw</td>\n      <td>38</td>\n      <td>delivery_choice</td>\n      <td>2019-11-01 22:35:57.649549</td>\n      <td>629881394.0</td>\n    </tr>\n    <tr>\n      <th>39</th>\n      <td>d2a1e54e-0780-4678-ae3c-6251110c1b53</td>\n      <td>raw</td>\n      <td>39</td>\n      <td>delivery_courier</td>\n      <td>2019-11-01 22:36:02.009271</td>\n      <td>629881394.0</td>\n    </tr>\n    <tr>\n      <th>42</th>\n      <td>7b38c485-989b-4bda-ac14-378ee0150421</td>\n      <td>raw</td>\n      <td>42</td>\n      <td>payment_choice</td>\n      <td>2019-11-01 22:36:02.243274</td>\n      <td>629881394.0</td>\n    </tr>\n    <tr>\n      <th>44</th>\n      <td>7eb22cd4-2007-492a-8ddc-c9a123c2544d</td>\n      <td>raw</td>\n      <td>44</td>\n      <td>payment_cash</td>\n      <td>2019-11-01 22:36:03.415201</td>\n      <td>629881394.0</td>\n    </tr>\n  </tbody>\n</table>\n</div>"
     },
     "execution_count": 21,
     "metadata": {},
     "output_type": "execute_result"
    }
   ],
   "source": [
    "check_id = 629881394\n",
    "print('Длина отрезанной траектории - ', len(df81[df81['user_id'] == check_id]))\n",
    "df81[df81['user_id'] == check_id]"
   ],
   "metadata": {
    "collapsed": false,
    "pycharm": {
     "name": "#%%\n"
    }
   }
  },
  {
   "cell_type": "code",
   "execution_count": 22,
   "outputs": [],
   "source": [
    "# Время, по которому обрезается траектория, здесь задаем конкретное событие payment_cash, для теста надо будет автоматизировать\n",
    "\n",
    "event_time = source_df[(source_df['user_id'] == check_id) & \\\n",
    "    (source_df['event_name'] == 'payment_cash')]['event_timestamp'].values[0]"
   ],
   "metadata": {
    "collapsed": false,
    "pycharm": {
     "name": "#%%\n"
    }
   }
  },
  {
   "cell_type": "code",
   "execution_count": 23,
   "outputs": [
    {
     "name": "stdout",
     "output_type": "stream",
     "text": [
      "Длина обрезанной траектории из изначального датасета -  25\n"
     ]
    },
    {
     "data": {
      "text/plain": "                                event_id event_type  event_index  \\\n7   9863622f-3251-4e1f-a28d-2cfb9889736b        raw            7   \n9   3ce21b73-8cd5-445a-ac87-dca35447093c        raw            9   \n11  9e74c251-b5d9-41f5-9178-55b869221bcd        raw           11   \n13  7519f116-53fd-43a5-9408-b39aee3e2e91        raw           13   \n14  e3efa4db-637e-4f7d-97ca-47627452e66e        raw           14   \n15  33fd2fec-0669-4448-b679-a61166ddeed5        raw           15   \n16  13a72e04-a34e-4efc-b2bb-2b280c76498d        raw           16   \n17  4d6b8867-1543-48ed-b9a6-fffdd5f66f57        raw           17   \n18  af71ac16-aca0-41df-b073-4055d2b1951a        raw           18   \n19  c0935c1a-64af-4b5e-a297-fc9b8ba15c77        raw           19   \n20  de5bb387-e5d1-4e1c-890f-8ea47efd9c57        raw           20   \n21  29cb632e-3108-4a15-8517-948347eb9c37        raw           21   \n22  5acb3cba-b641-43dc-9422-72cecbc435e4        raw           22   \n23  4ae55fdc-beb3-42de-834f-1e958153d510        raw           23   \n24  f65ac25a-ae05-4294-aab1-6c57bf7cd4f8        raw           24   \n25  43cdf470-32ae-4108-ab22-1942497fe773        raw           25   \n27  f822d087-d4af-4572-bff8-66b49f70f8b3        raw           27   \n29  3f050d42-2416-4ddc-baac-cc4c4a28aa87        raw           29   \n31  e11b1664-d137-449d-8910-a642167834f2        raw           31   \n33  b143afc9-c6e9-42a6-afcc-dfe4e82e803e        raw           33   \n36  12224283-faa9-410e-9da0-4ed25f431c43        raw           36   \n38  91a769a8-9bde-4b98-8312-b753410b48fa        raw           38   \n39  d2a1e54e-0780-4678-ae3c-6251110c1b53        raw           39   \n42  7b38c485-989b-4bda-ac14-378ee0150421        raw           42   \n44  7eb22cd4-2007-492a-8ddc-c9a123c2544d        raw           44   \n\n          event_name            event_timestamp    user_id  \n7               main 2019-11-01 22:28:54.791683  629881394  \n9            catalog 2019-11-01 22:29:01.049513  629881394  \n11           catalog 2019-11-01 22:29:32.322458  629881394  \n13           catalog 2019-11-01 22:30:09.450839  629881394  \n14           catalog 2019-11-01 22:31:05.565762  629881394  \n15              main 2019-11-01 22:31:08.333560  629881394  \n16           catalog 2019-11-01 22:31:09.010626  629881394  \n17          product1 2019-11-01 22:31:10.416231  629881394  \n18           catalog 2019-11-01 22:31:43.019527  629881394  \n19           catalog 2019-11-01 22:32:01.596163  629881394  \n20          product1 2019-11-01 22:32:07.348536  629881394  \n21           catalog 2019-11-01 22:32:10.165568  629881394  \n22          product2 2019-11-01 22:32:16.496241  629881394  \n23           catalog 2019-11-01 22:33:17.682468  629881394  \n24          product1 2019-11-01 22:33:19.961115  629881394  \n25           catalog 2019-11-01 22:33:35.460345  629881394  \n27           catalog 2019-11-01 22:34:02.301293  629881394  \n29          product2 2019-11-01 22:34:32.362386  629881394  \n31           catalog 2019-11-01 22:35:01.462515  629881394  \n33          product2 2019-11-01 22:35:33.142711  629881394  \n36              cart 2019-11-01 22:35:50.437706  629881394  \n38   delivery_choice 2019-11-01 22:35:57.649549  629881394  \n39  delivery_courier 2019-11-01 22:36:02.009271  629881394  \n42    payment_choice 2019-11-01 22:36:02.243274  629881394  \n44      payment_cash 2019-11-01 22:36:03.415201  629881394  ",
      "text/html": "<div>\n<style scoped>\n    .dataframe tbody tr th:only-of-type {\n        vertical-align: middle;\n    }\n\n    .dataframe tbody tr th {\n        vertical-align: top;\n    }\n\n    .dataframe thead th {\n        text-align: right;\n    }\n</style>\n<table border=\"1\" class=\"dataframe\">\n  <thead>\n    <tr style=\"text-align: right;\">\n      <th></th>\n      <th>event_id</th>\n      <th>event_type</th>\n      <th>event_index</th>\n      <th>event_name</th>\n      <th>event_timestamp</th>\n      <th>user_id</th>\n    </tr>\n  </thead>\n  <tbody>\n    <tr>\n      <th>7</th>\n      <td>9863622f-3251-4e1f-a28d-2cfb9889736b</td>\n      <td>raw</td>\n      <td>7</td>\n      <td>main</td>\n      <td>2019-11-01 22:28:54.791683</td>\n      <td>629881394</td>\n    </tr>\n    <tr>\n      <th>9</th>\n      <td>3ce21b73-8cd5-445a-ac87-dca35447093c</td>\n      <td>raw</td>\n      <td>9</td>\n      <td>catalog</td>\n      <td>2019-11-01 22:29:01.049513</td>\n      <td>629881394</td>\n    </tr>\n    <tr>\n      <th>11</th>\n      <td>9e74c251-b5d9-41f5-9178-55b869221bcd</td>\n      <td>raw</td>\n      <td>11</td>\n      <td>catalog</td>\n      <td>2019-11-01 22:29:32.322458</td>\n      <td>629881394</td>\n    </tr>\n    <tr>\n      <th>13</th>\n      <td>7519f116-53fd-43a5-9408-b39aee3e2e91</td>\n      <td>raw</td>\n      <td>13</td>\n      <td>catalog</td>\n      <td>2019-11-01 22:30:09.450839</td>\n      <td>629881394</td>\n    </tr>\n    <tr>\n      <th>14</th>\n      <td>e3efa4db-637e-4f7d-97ca-47627452e66e</td>\n      <td>raw</td>\n      <td>14</td>\n      <td>catalog</td>\n      <td>2019-11-01 22:31:05.565762</td>\n      <td>629881394</td>\n    </tr>\n    <tr>\n      <th>15</th>\n      <td>33fd2fec-0669-4448-b679-a61166ddeed5</td>\n      <td>raw</td>\n      <td>15</td>\n      <td>main</td>\n      <td>2019-11-01 22:31:08.333560</td>\n      <td>629881394</td>\n    </tr>\n    <tr>\n      <th>16</th>\n      <td>13a72e04-a34e-4efc-b2bb-2b280c76498d</td>\n      <td>raw</td>\n      <td>16</td>\n      <td>catalog</td>\n      <td>2019-11-01 22:31:09.010626</td>\n      <td>629881394</td>\n    </tr>\n    <tr>\n      <th>17</th>\n      <td>4d6b8867-1543-48ed-b9a6-fffdd5f66f57</td>\n      <td>raw</td>\n      <td>17</td>\n      <td>product1</td>\n      <td>2019-11-01 22:31:10.416231</td>\n      <td>629881394</td>\n    </tr>\n    <tr>\n      <th>18</th>\n      <td>af71ac16-aca0-41df-b073-4055d2b1951a</td>\n      <td>raw</td>\n      <td>18</td>\n      <td>catalog</td>\n      <td>2019-11-01 22:31:43.019527</td>\n      <td>629881394</td>\n    </tr>\n    <tr>\n      <th>19</th>\n      <td>c0935c1a-64af-4b5e-a297-fc9b8ba15c77</td>\n      <td>raw</td>\n      <td>19</td>\n      <td>catalog</td>\n      <td>2019-11-01 22:32:01.596163</td>\n      <td>629881394</td>\n    </tr>\n    <tr>\n      <th>20</th>\n      <td>de5bb387-e5d1-4e1c-890f-8ea47efd9c57</td>\n      <td>raw</td>\n      <td>20</td>\n      <td>product1</td>\n      <td>2019-11-01 22:32:07.348536</td>\n      <td>629881394</td>\n    </tr>\n    <tr>\n      <th>21</th>\n      <td>29cb632e-3108-4a15-8517-948347eb9c37</td>\n      <td>raw</td>\n      <td>21</td>\n      <td>catalog</td>\n      <td>2019-11-01 22:32:10.165568</td>\n      <td>629881394</td>\n    </tr>\n    <tr>\n      <th>22</th>\n      <td>5acb3cba-b641-43dc-9422-72cecbc435e4</td>\n      <td>raw</td>\n      <td>22</td>\n      <td>product2</td>\n      <td>2019-11-01 22:32:16.496241</td>\n      <td>629881394</td>\n    </tr>\n    <tr>\n      <th>23</th>\n      <td>4ae55fdc-beb3-42de-834f-1e958153d510</td>\n      <td>raw</td>\n      <td>23</td>\n      <td>catalog</td>\n      <td>2019-11-01 22:33:17.682468</td>\n      <td>629881394</td>\n    </tr>\n    <tr>\n      <th>24</th>\n      <td>f65ac25a-ae05-4294-aab1-6c57bf7cd4f8</td>\n      <td>raw</td>\n      <td>24</td>\n      <td>product1</td>\n      <td>2019-11-01 22:33:19.961115</td>\n      <td>629881394</td>\n    </tr>\n    <tr>\n      <th>25</th>\n      <td>43cdf470-32ae-4108-ab22-1942497fe773</td>\n      <td>raw</td>\n      <td>25</td>\n      <td>catalog</td>\n      <td>2019-11-01 22:33:35.460345</td>\n      <td>629881394</td>\n    </tr>\n    <tr>\n      <th>27</th>\n      <td>f822d087-d4af-4572-bff8-66b49f70f8b3</td>\n      <td>raw</td>\n      <td>27</td>\n      <td>catalog</td>\n      <td>2019-11-01 22:34:02.301293</td>\n      <td>629881394</td>\n    </tr>\n    <tr>\n      <th>29</th>\n      <td>3f050d42-2416-4ddc-baac-cc4c4a28aa87</td>\n      <td>raw</td>\n      <td>29</td>\n      <td>product2</td>\n      <td>2019-11-01 22:34:32.362386</td>\n      <td>629881394</td>\n    </tr>\n    <tr>\n      <th>31</th>\n      <td>e11b1664-d137-449d-8910-a642167834f2</td>\n      <td>raw</td>\n      <td>31</td>\n      <td>catalog</td>\n      <td>2019-11-01 22:35:01.462515</td>\n      <td>629881394</td>\n    </tr>\n    <tr>\n      <th>33</th>\n      <td>b143afc9-c6e9-42a6-afcc-dfe4e82e803e</td>\n      <td>raw</td>\n      <td>33</td>\n      <td>product2</td>\n      <td>2019-11-01 22:35:33.142711</td>\n      <td>629881394</td>\n    </tr>\n    <tr>\n      <th>36</th>\n      <td>12224283-faa9-410e-9da0-4ed25f431c43</td>\n      <td>raw</td>\n      <td>36</td>\n      <td>cart</td>\n      <td>2019-11-01 22:35:50.437706</td>\n      <td>629881394</td>\n    </tr>\n    <tr>\n      <th>38</th>\n      <td>91a769a8-9bde-4b98-8312-b753410b48fa</td>\n      <td>raw</td>\n      <td>38</td>\n      <td>delivery_choice</td>\n      <td>2019-11-01 22:35:57.649549</td>\n      <td>629881394</td>\n    </tr>\n    <tr>\n      <th>39</th>\n      <td>d2a1e54e-0780-4678-ae3c-6251110c1b53</td>\n      <td>raw</td>\n      <td>39</td>\n      <td>delivery_courier</td>\n      <td>2019-11-01 22:36:02.009271</td>\n      <td>629881394</td>\n    </tr>\n    <tr>\n      <th>42</th>\n      <td>7b38c485-989b-4bda-ac14-378ee0150421</td>\n      <td>raw</td>\n      <td>42</td>\n      <td>payment_choice</td>\n      <td>2019-11-01 22:36:02.243274</td>\n      <td>629881394</td>\n    </tr>\n    <tr>\n      <th>44</th>\n      <td>7eb22cd4-2007-492a-8ddc-c9a123c2544d</td>\n      <td>raw</td>\n      <td>44</td>\n      <td>payment_cash</td>\n      <td>2019-11-01 22:36:03.415201</td>\n      <td>629881394</td>\n    </tr>\n  </tbody>\n</table>\n</div>"
     },
     "execution_count": 23,
     "metadata": {},
     "output_type": "execute_result"
    }
   ],
   "source": [
    "print('Длина обрезанной траектории из изначального датасета - ', len(source_df[(source_df['user_id'] == check_id) &\\\n",
    "          (source_df['event_timestamp'] <= event_time)]))\n",
    "source_df[(source_df['user_id'] == check_id) &\\\n",
    "          (source_df['event_timestamp'] <= event_time)]"
   ],
   "metadata": {
    "collapsed": false,
    "pycharm": {
     "name": "#%%\n"
    }
   }
  },
  {
   "cell_type": "code",
   "execution_count": 24,
   "outputs": [
    {
     "name": "stdout",
     "output_type": "stream",
     "text": [
      "48\n"
     ]
    },
    {
     "data": {
      "text/plain": "                                   event_id event_type  event_index  \\\n7      9863622f-3251-4e1f-a28d-2cfb9889736b        raw            7   \n9      3ce21b73-8cd5-445a-ac87-dca35447093c        raw            9   \n11     9e74c251-b5d9-41f5-9178-55b869221bcd        raw           11   \n13     7519f116-53fd-43a5-9408-b39aee3e2e91        raw           13   \n14     e3efa4db-637e-4f7d-97ca-47627452e66e        raw           14   \n15     33fd2fec-0669-4448-b679-a61166ddeed5        raw           15   \n16     13a72e04-a34e-4efc-b2bb-2b280c76498d        raw           16   \n17     4d6b8867-1543-48ed-b9a6-fffdd5f66f57        raw           17   \n18     af71ac16-aca0-41df-b073-4055d2b1951a        raw           18   \n19     c0935c1a-64af-4b5e-a297-fc9b8ba15c77        raw           19   \n20     de5bb387-e5d1-4e1c-890f-8ea47efd9c57        raw           20   \n21     29cb632e-3108-4a15-8517-948347eb9c37        raw           21   \n22     5acb3cba-b641-43dc-9422-72cecbc435e4        raw           22   \n23     4ae55fdc-beb3-42de-834f-1e958153d510        raw           23   \n24     f65ac25a-ae05-4294-aab1-6c57bf7cd4f8        raw           24   \n25     43cdf470-32ae-4108-ab22-1942497fe773        raw           25   \n27     f822d087-d4af-4572-bff8-66b49f70f8b3        raw           27   \n29     3f050d42-2416-4ddc-baac-cc4c4a28aa87        raw           29   \n31     e11b1664-d137-449d-8910-a642167834f2        raw           31   \n33     b143afc9-c6e9-42a6-afcc-dfe4e82e803e        raw           33   \n36     12224283-faa9-410e-9da0-4ed25f431c43        raw           36   \n38     91a769a8-9bde-4b98-8312-b753410b48fa        raw           38   \n39     d2a1e54e-0780-4678-ae3c-6251110c1b53        raw           39   \n42     7b38c485-989b-4bda-ac14-378ee0150421        raw           42   \n44     7eb22cd4-2007-492a-8ddc-c9a123c2544d        raw           44   \n45     0a076f3a-8e35-476e-a446-32c329d3c2f5        raw           45   \n340    42354a37-f429-4770-82ab-8c370f5b2115        raw          340   \n342    2cab4a65-dc9b-4bf2-8206-2e8ea1ac61be        raw          342   \n345    bfe1a52f-1ae0-4a3c-84fd-586c0c9a3067        raw          345   \n1330   56a8d15b-3cd8-4a07-8e98-53a255ec569d        raw         1330   \n1331   197334b3-7b3c-4f4b-9ac9-ec7c61fb6f2f        raw         1331   \n1332   644ca5c4-9f43-4ce2-86de-f449738cf93a        raw         1332   \n6292   3c0ea358-b2d7-4113-b65a-c1e34319676b        raw         6292   \n6293   5de8841f-472b-468d-a561-04d918424923        raw         6293   \n10660  f2af8036-5bdd-4dda-8208-8fc1d18bb985        raw        10660   \n10661  eb5471ed-2f02-427e-bfe4-3934b98fe3b8        raw        10661   \n10662  d2852ca3-585a-4972-8aa7-ef50e07ede02        raw        10662   \n11455  b1d64df6-7cff-4f7a-8d4d-a2c16a412e40        raw        11455   \n11456  ae14eacf-bac9-40c8-9bf4-45655343f29c        raw        11456   \n13881  ccd780bc-7067-4724-890f-179fa4c1a0c4        raw        13881   \n13882  ffe86993-194c-4bb2-b111-122009b90626        raw        13882   \n14458  a924e670-416b-493c-8e1a-e5957e7a2545        raw        14458   \n14481  6b0eef49-ce43-45bb-a291-d29e2e38c3ad        raw        14481   \n14482  dcda9ac9-c933-4d70-a3e0-d04eaaf6814c        raw        14482   \n14483  55ce0ff8-8790-4e2f-a0fe-ad99b558fb9c        raw        14483   \n14484  b8eb4223-905e-4358-a1a5-41860d380d62        raw        14484   \n14485  359134c5-559d-4f28-be34-af3420e5caeb        raw        14485   \n14486  a8d0af4f-28d2-4f9a-903f-fda51c854026        raw        14486   \n\n             event_name            event_timestamp    user_id  \n7                  main 2019-11-01 22:28:54.791683  629881394  \n9               catalog 2019-11-01 22:29:01.049513  629881394  \n11              catalog 2019-11-01 22:29:32.322458  629881394  \n13              catalog 2019-11-01 22:30:09.450839  629881394  \n14              catalog 2019-11-01 22:31:05.565762  629881394  \n15                 main 2019-11-01 22:31:08.333560  629881394  \n16              catalog 2019-11-01 22:31:09.010626  629881394  \n17             product1 2019-11-01 22:31:10.416231  629881394  \n18              catalog 2019-11-01 22:31:43.019527  629881394  \n19              catalog 2019-11-01 22:32:01.596163  629881394  \n20             product1 2019-11-01 22:32:07.348536  629881394  \n21              catalog 2019-11-01 22:32:10.165568  629881394  \n22             product2 2019-11-01 22:32:16.496241  629881394  \n23              catalog 2019-11-01 22:33:17.682468  629881394  \n24             product1 2019-11-01 22:33:19.961115  629881394  \n25              catalog 2019-11-01 22:33:35.460345  629881394  \n27              catalog 2019-11-01 22:34:02.301293  629881394  \n29             product2 2019-11-01 22:34:32.362386  629881394  \n31              catalog 2019-11-01 22:35:01.462515  629881394  \n33             product2 2019-11-01 22:35:33.142711  629881394  \n36                 cart 2019-11-01 22:35:50.437706  629881394  \n38      delivery_choice 2019-11-01 22:35:57.649549  629881394  \n39     delivery_courier 2019-11-01 22:36:02.009271  629881394  \n42       payment_choice 2019-11-01 22:36:02.243274  629881394  \n44         payment_cash 2019-11-01 22:36:03.415201  629881394  \n45         payment_done 2019-11-01 22:36:03.999697  629881394  \n340                main 2019-11-07 12:40:46.004674  629881394  \n342             catalog 2019-11-07 12:40:55.724185  629881394  \n345                cart 2019-11-07 12:41:04.107187  629881394  \n1330               main 2019-11-25 23:16:56.317624  629881394  \n1331            catalog 2019-11-25 23:17:16.266242  629881394  \n1332            catalog 2019-11-25 23:17:48.747304  629881394  \n6292               main 2020-01-23 18:56:23.445236  629881394  \n6293            catalog 2020-01-23 18:56:30.461624  629881394  \n10660              main 2020-03-01 23:23:43.392597  629881394  \n10661           catalog 2020-03-01 23:23:44.755693  629881394  \n10662              main 2020-03-01 23:23:51.625991  629881394  \n11455              main 2020-03-07 12:05:23.938242  629881394  \n11456           catalog 2020-03-07 12:05:32.476046  629881394  \n13881              main 2020-03-26 13:00:47.844886  629881394  \n13882           catalog 2020-03-26 13:00:49.531644  629881394  \n14458              main 2020-03-30 00:11:47.920536  629881394  \n14481              main 2020-03-30 03:17:46.909845  629881394  \n14482           catalog 2020-03-30 03:17:49.918774  629881394  \n14483           catalog 2020-03-30 03:18:17.835191  629881394  \n14484           catalog 2020-03-30 03:18:53.715887  629881394  \n14485           catalog 2020-03-30 03:19:36.034262  629881394  \n14486           catalog 2020-03-30 03:19:59.515094  629881394  ",
      "text/html": "<div>\n<style scoped>\n    .dataframe tbody tr th:only-of-type {\n        vertical-align: middle;\n    }\n\n    .dataframe tbody tr th {\n        vertical-align: top;\n    }\n\n    .dataframe thead th {\n        text-align: right;\n    }\n</style>\n<table border=\"1\" class=\"dataframe\">\n  <thead>\n    <tr style=\"text-align: right;\">\n      <th></th>\n      <th>event_id</th>\n      <th>event_type</th>\n      <th>event_index</th>\n      <th>event_name</th>\n      <th>event_timestamp</th>\n      <th>user_id</th>\n    </tr>\n  </thead>\n  <tbody>\n    <tr>\n      <th>7</th>\n      <td>9863622f-3251-4e1f-a28d-2cfb9889736b</td>\n      <td>raw</td>\n      <td>7</td>\n      <td>main</td>\n      <td>2019-11-01 22:28:54.791683</td>\n      <td>629881394</td>\n    </tr>\n    <tr>\n      <th>9</th>\n      <td>3ce21b73-8cd5-445a-ac87-dca35447093c</td>\n      <td>raw</td>\n      <td>9</td>\n      <td>catalog</td>\n      <td>2019-11-01 22:29:01.049513</td>\n      <td>629881394</td>\n    </tr>\n    <tr>\n      <th>11</th>\n      <td>9e74c251-b5d9-41f5-9178-55b869221bcd</td>\n      <td>raw</td>\n      <td>11</td>\n      <td>catalog</td>\n      <td>2019-11-01 22:29:32.322458</td>\n      <td>629881394</td>\n    </tr>\n    <tr>\n      <th>13</th>\n      <td>7519f116-53fd-43a5-9408-b39aee3e2e91</td>\n      <td>raw</td>\n      <td>13</td>\n      <td>catalog</td>\n      <td>2019-11-01 22:30:09.450839</td>\n      <td>629881394</td>\n    </tr>\n    <tr>\n      <th>14</th>\n      <td>e3efa4db-637e-4f7d-97ca-47627452e66e</td>\n      <td>raw</td>\n      <td>14</td>\n      <td>catalog</td>\n      <td>2019-11-01 22:31:05.565762</td>\n      <td>629881394</td>\n    </tr>\n    <tr>\n      <th>15</th>\n      <td>33fd2fec-0669-4448-b679-a61166ddeed5</td>\n      <td>raw</td>\n      <td>15</td>\n      <td>main</td>\n      <td>2019-11-01 22:31:08.333560</td>\n      <td>629881394</td>\n    </tr>\n    <tr>\n      <th>16</th>\n      <td>13a72e04-a34e-4efc-b2bb-2b280c76498d</td>\n      <td>raw</td>\n      <td>16</td>\n      <td>catalog</td>\n      <td>2019-11-01 22:31:09.010626</td>\n      <td>629881394</td>\n    </tr>\n    <tr>\n      <th>17</th>\n      <td>4d6b8867-1543-48ed-b9a6-fffdd5f66f57</td>\n      <td>raw</td>\n      <td>17</td>\n      <td>product1</td>\n      <td>2019-11-01 22:31:10.416231</td>\n      <td>629881394</td>\n    </tr>\n    <tr>\n      <th>18</th>\n      <td>af71ac16-aca0-41df-b073-4055d2b1951a</td>\n      <td>raw</td>\n      <td>18</td>\n      <td>catalog</td>\n      <td>2019-11-01 22:31:43.019527</td>\n      <td>629881394</td>\n    </tr>\n    <tr>\n      <th>19</th>\n      <td>c0935c1a-64af-4b5e-a297-fc9b8ba15c77</td>\n      <td>raw</td>\n      <td>19</td>\n      <td>catalog</td>\n      <td>2019-11-01 22:32:01.596163</td>\n      <td>629881394</td>\n    </tr>\n    <tr>\n      <th>20</th>\n      <td>de5bb387-e5d1-4e1c-890f-8ea47efd9c57</td>\n      <td>raw</td>\n      <td>20</td>\n      <td>product1</td>\n      <td>2019-11-01 22:32:07.348536</td>\n      <td>629881394</td>\n    </tr>\n    <tr>\n      <th>21</th>\n      <td>29cb632e-3108-4a15-8517-948347eb9c37</td>\n      <td>raw</td>\n      <td>21</td>\n      <td>catalog</td>\n      <td>2019-11-01 22:32:10.165568</td>\n      <td>629881394</td>\n    </tr>\n    <tr>\n      <th>22</th>\n      <td>5acb3cba-b641-43dc-9422-72cecbc435e4</td>\n      <td>raw</td>\n      <td>22</td>\n      <td>product2</td>\n      <td>2019-11-01 22:32:16.496241</td>\n      <td>629881394</td>\n    </tr>\n    <tr>\n      <th>23</th>\n      <td>4ae55fdc-beb3-42de-834f-1e958153d510</td>\n      <td>raw</td>\n      <td>23</td>\n      <td>catalog</td>\n      <td>2019-11-01 22:33:17.682468</td>\n      <td>629881394</td>\n    </tr>\n    <tr>\n      <th>24</th>\n      <td>f65ac25a-ae05-4294-aab1-6c57bf7cd4f8</td>\n      <td>raw</td>\n      <td>24</td>\n      <td>product1</td>\n      <td>2019-11-01 22:33:19.961115</td>\n      <td>629881394</td>\n    </tr>\n    <tr>\n      <th>25</th>\n      <td>43cdf470-32ae-4108-ab22-1942497fe773</td>\n      <td>raw</td>\n      <td>25</td>\n      <td>catalog</td>\n      <td>2019-11-01 22:33:35.460345</td>\n      <td>629881394</td>\n    </tr>\n    <tr>\n      <th>27</th>\n      <td>f822d087-d4af-4572-bff8-66b49f70f8b3</td>\n      <td>raw</td>\n      <td>27</td>\n      <td>catalog</td>\n      <td>2019-11-01 22:34:02.301293</td>\n      <td>629881394</td>\n    </tr>\n    <tr>\n      <th>29</th>\n      <td>3f050d42-2416-4ddc-baac-cc4c4a28aa87</td>\n      <td>raw</td>\n      <td>29</td>\n      <td>product2</td>\n      <td>2019-11-01 22:34:32.362386</td>\n      <td>629881394</td>\n    </tr>\n    <tr>\n      <th>31</th>\n      <td>e11b1664-d137-449d-8910-a642167834f2</td>\n      <td>raw</td>\n      <td>31</td>\n      <td>catalog</td>\n      <td>2019-11-01 22:35:01.462515</td>\n      <td>629881394</td>\n    </tr>\n    <tr>\n      <th>33</th>\n      <td>b143afc9-c6e9-42a6-afcc-dfe4e82e803e</td>\n      <td>raw</td>\n      <td>33</td>\n      <td>product2</td>\n      <td>2019-11-01 22:35:33.142711</td>\n      <td>629881394</td>\n    </tr>\n    <tr>\n      <th>36</th>\n      <td>12224283-faa9-410e-9da0-4ed25f431c43</td>\n      <td>raw</td>\n      <td>36</td>\n      <td>cart</td>\n      <td>2019-11-01 22:35:50.437706</td>\n      <td>629881394</td>\n    </tr>\n    <tr>\n      <th>38</th>\n      <td>91a769a8-9bde-4b98-8312-b753410b48fa</td>\n      <td>raw</td>\n      <td>38</td>\n      <td>delivery_choice</td>\n      <td>2019-11-01 22:35:57.649549</td>\n      <td>629881394</td>\n    </tr>\n    <tr>\n      <th>39</th>\n      <td>d2a1e54e-0780-4678-ae3c-6251110c1b53</td>\n      <td>raw</td>\n      <td>39</td>\n      <td>delivery_courier</td>\n      <td>2019-11-01 22:36:02.009271</td>\n      <td>629881394</td>\n    </tr>\n    <tr>\n      <th>42</th>\n      <td>7b38c485-989b-4bda-ac14-378ee0150421</td>\n      <td>raw</td>\n      <td>42</td>\n      <td>payment_choice</td>\n      <td>2019-11-01 22:36:02.243274</td>\n      <td>629881394</td>\n    </tr>\n    <tr>\n      <th>44</th>\n      <td>7eb22cd4-2007-492a-8ddc-c9a123c2544d</td>\n      <td>raw</td>\n      <td>44</td>\n      <td>payment_cash</td>\n      <td>2019-11-01 22:36:03.415201</td>\n      <td>629881394</td>\n    </tr>\n    <tr>\n      <th>45</th>\n      <td>0a076f3a-8e35-476e-a446-32c329d3c2f5</td>\n      <td>raw</td>\n      <td>45</td>\n      <td>payment_done</td>\n      <td>2019-11-01 22:36:03.999697</td>\n      <td>629881394</td>\n    </tr>\n    <tr>\n      <th>340</th>\n      <td>42354a37-f429-4770-82ab-8c370f5b2115</td>\n      <td>raw</td>\n      <td>340</td>\n      <td>main</td>\n      <td>2019-11-07 12:40:46.004674</td>\n      <td>629881394</td>\n    </tr>\n    <tr>\n      <th>342</th>\n      <td>2cab4a65-dc9b-4bf2-8206-2e8ea1ac61be</td>\n      <td>raw</td>\n      <td>342</td>\n      <td>catalog</td>\n      <td>2019-11-07 12:40:55.724185</td>\n      <td>629881394</td>\n    </tr>\n    <tr>\n      <th>345</th>\n      <td>bfe1a52f-1ae0-4a3c-84fd-586c0c9a3067</td>\n      <td>raw</td>\n      <td>345</td>\n      <td>cart</td>\n      <td>2019-11-07 12:41:04.107187</td>\n      <td>629881394</td>\n    </tr>\n    <tr>\n      <th>1330</th>\n      <td>56a8d15b-3cd8-4a07-8e98-53a255ec569d</td>\n      <td>raw</td>\n      <td>1330</td>\n      <td>main</td>\n      <td>2019-11-25 23:16:56.317624</td>\n      <td>629881394</td>\n    </tr>\n    <tr>\n      <th>1331</th>\n      <td>197334b3-7b3c-4f4b-9ac9-ec7c61fb6f2f</td>\n      <td>raw</td>\n      <td>1331</td>\n      <td>catalog</td>\n      <td>2019-11-25 23:17:16.266242</td>\n      <td>629881394</td>\n    </tr>\n    <tr>\n      <th>1332</th>\n      <td>644ca5c4-9f43-4ce2-86de-f449738cf93a</td>\n      <td>raw</td>\n      <td>1332</td>\n      <td>catalog</td>\n      <td>2019-11-25 23:17:48.747304</td>\n      <td>629881394</td>\n    </tr>\n    <tr>\n      <th>6292</th>\n      <td>3c0ea358-b2d7-4113-b65a-c1e34319676b</td>\n      <td>raw</td>\n      <td>6292</td>\n      <td>main</td>\n      <td>2020-01-23 18:56:23.445236</td>\n      <td>629881394</td>\n    </tr>\n    <tr>\n      <th>6293</th>\n      <td>5de8841f-472b-468d-a561-04d918424923</td>\n      <td>raw</td>\n      <td>6293</td>\n      <td>catalog</td>\n      <td>2020-01-23 18:56:30.461624</td>\n      <td>629881394</td>\n    </tr>\n    <tr>\n      <th>10660</th>\n      <td>f2af8036-5bdd-4dda-8208-8fc1d18bb985</td>\n      <td>raw</td>\n      <td>10660</td>\n      <td>main</td>\n      <td>2020-03-01 23:23:43.392597</td>\n      <td>629881394</td>\n    </tr>\n    <tr>\n      <th>10661</th>\n      <td>eb5471ed-2f02-427e-bfe4-3934b98fe3b8</td>\n      <td>raw</td>\n      <td>10661</td>\n      <td>catalog</td>\n      <td>2020-03-01 23:23:44.755693</td>\n      <td>629881394</td>\n    </tr>\n    <tr>\n      <th>10662</th>\n      <td>d2852ca3-585a-4972-8aa7-ef50e07ede02</td>\n      <td>raw</td>\n      <td>10662</td>\n      <td>main</td>\n      <td>2020-03-01 23:23:51.625991</td>\n      <td>629881394</td>\n    </tr>\n    <tr>\n      <th>11455</th>\n      <td>b1d64df6-7cff-4f7a-8d4d-a2c16a412e40</td>\n      <td>raw</td>\n      <td>11455</td>\n      <td>main</td>\n      <td>2020-03-07 12:05:23.938242</td>\n      <td>629881394</td>\n    </tr>\n    <tr>\n      <th>11456</th>\n      <td>ae14eacf-bac9-40c8-9bf4-45655343f29c</td>\n      <td>raw</td>\n      <td>11456</td>\n      <td>catalog</td>\n      <td>2020-03-07 12:05:32.476046</td>\n      <td>629881394</td>\n    </tr>\n    <tr>\n      <th>13881</th>\n      <td>ccd780bc-7067-4724-890f-179fa4c1a0c4</td>\n      <td>raw</td>\n      <td>13881</td>\n      <td>main</td>\n      <td>2020-03-26 13:00:47.844886</td>\n      <td>629881394</td>\n    </tr>\n    <tr>\n      <th>13882</th>\n      <td>ffe86993-194c-4bb2-b111-122009b90626</td>\n      <td>raw</td>\n      <td>13882</td>\n      <td>catalog</td>\n      <td>2020-03-26 13:00:49.531644</td>\n      <td>629881394</td>\n    </tr>\n    <tr>\n      <th>14458</th>\n      <td>a924e670-416b-493c-8e1a-e5957e7a2545</td>\n      <td>raw</td>\n      <td>14458</td>\n      <td>main</td>\n      <td>2020-03-30 00:11:47.920536</td>\n      <td>629881394</td>\n    </tr>\n    <tr>\n      <th>14481</th>\n      <td>6b0eef49-ce43-45bb-a291-d29e2e38c3ad</td>\n      <td>raw</td>\n      <td>14481</td>\n      <td>main</td>\n      <td>2020-03-30 03:17:46.909845</td>\n      <td>629881394</td>\n    </tr>\n    <tr>\n      <th>14482</th>\n      <td>dcda9ac9-c933-4d70-a3e0-d04eaaf6814c</td>\n      <td>raw</td>\n      <td>14482</td>\n      <td>catalog</td>\n      <td>2020-03-30 03:17:49.918774</td>\n      <td>629881394</td>\n    </tr>\n    <tr>\n      <th>14483</th>\n      <td>55ce0ff8-8790-4e2f-a0fe-ad99b558fb9c</td>\n      <td>raw</td>\n      <td>14483</td>\n      <td>catalog</td>\n      <td>2020-03-30 03:18:17.835191</td>\n      <td>629881394</td>\n    </tr>\n    <tr>\n      <th>14484</th>\n      <td>b8eb4223-905e-4358-a1a5-41860d380d62</td>\n      <td>raw</td>\n      <td>14484</td>\n      <td>catalog</td>\n      <td>2020-03-30 03:18:53.715887</td>\n      <td>629881394</td>\n    </tr>\n    <tr>\n      <th>14485</th>\n      <td>359134c5-559d-4f28-be34-af3420e5caeb</td>\n      <td>raw</td>\n      <td>14485</td>\n      <td>catalog</td>\n      <td>2020-03-30 03:19:36.034262</td>\n      <td>629881394</td>\n    </tr>\n    <tr>\n      <th>14486</th>\n      <td>a8d0af4f-28d2-4f9a-903f-fda51c854026</td>\n      <td>raw</td>\n      <td>14486</td>\n      <td>catalog</td>\n      <td>2020-03-30 03:19:59.515094</td>\n      <td>629881394</td>\n    </tr>\n  </tbody>\n</table>\n</div>"
     },
     "execution_count": 24,
     "metadata": {},
     "output_type": "execute_result"
    }
   ],
   "source": [
    "print(len(source_df[source_df['user_id'] == check_id]))\n",
    "source_df[source_df['user_id'] == check_id]"
   ],
   "metadata": {
    "collapsed": false,
    "pycharm": {
     "name": "#%%\n"
    }
   }
  },
  {
   "cell_type": "markdown",
   "source": [
    "User_id = 47562303\n",
    "Событие встречается дважды\n"
   ],
   "metadata": {
    "collapsed": false,
    "pycharm": {
     "name": "#%% md\n"
    }
   }
  },
  {
   "cell_type": "code",
   "execution_count": 25,
   "outputs": [
    {
     "name": "stdout",
     "output_type": "stream",
     "text": [
      "6\n"
     ]
    }
   ],
   "source": [
    "check_id = 47562303\n",
    "print(len(df81[df81['user_id'] == check_id]))\n",
    "event_time = source_df[(source_df['user_id'] == check_id) & \\\n",
    "    (source_df['event_name'] == 'payment_done')]['event_timestamp'].min()"
   ],
   "metadata": {
    "collapsed": false,
    "pycharm": {
     "name": "#%%\n"
    }
   }
  },
  {
   "cell_type": "code",
   "execution_count": 26,
   "outputs": [
    {
     "data": {
      "text/plain": "                                  event_id event_type  event_index  \\\n4029  f3cd424d-7e21-425e-b465-8d40553ce09f        raw         4029   \n4030  e4016cf1-1e50-481e-ad8b-9cb3f90ce812        raw         4030   \n4031  c31a4539-db04-4f50-81b2-1e33ae87d974        raw         4031   \n4032  632bf62b-15ce-40aa-809d-afbb74ed6790        raw         4032   \n4033  9819bcbc-ee39-4f05-9ff7-64081cba2977        raw         4033   \n4034  ce4619bc-a4fe-4400-8971-fc943892b5e2        raw         4034   \n4035  b5f21859-def2-4daa-84d5-8804e75dc1e4        raw         4035   \n\n            event_name            event_timestamp   user_id  \n4029           catalog 2019-12-29 16:55:27.897130  47562303  \n4030              cart 2019-12-29 16:55:41.539826  47562303  \n4031   delivery_choice 2019-12-29 16:55:44.747151  47562303  \n4032  delivery_courier 2019-12-29 16:55:49.061226  47562303  \n4033    payment_choice 2019-12-29 16:55:49.201853  47562303  \n4034      payment_cash 2019-12-29 16:55:52.004250  47562303  \n4035      payment_done 2019-12-29 16:55:52.350396  47562303  ",
      "text/html": "<div>\n<style scoped>\n    .dataframe tbody tr th:only-of-type {\n        vertical-align: middle;\n    }\n\n    .dataframe tbody tr th {\n        vertical-align: top;\n    }\n\n    .dataframe thead th {\n        text-align: right;\n    }\n</style>\n<table border=\"1\" class=\"dataframe\">\n  <thead>\n    <tr style=\"text-align: right;\">\n      <th></th>\n      <th>event_id</th>\n      <th>event_type</th>\n      <th>event_index</th>\n      <th>event_name</th>\n      <th>event_timestamp</th>\n      <th>user_id</th>\n    </tr>\n  </thead>\n  <tbody>\n    <tr>\n      <th>4029</th>\n      <td>f3cd424d-7e21-425e-b465-8d40553ce09f</td>\n      <td>raw</td>\n      <td>4029</td>\n      <td>catalog</td>\n      <td>2019-12-29 16:55:27.897130</td>\n      <td>47562303</td>\n    </tr>\n    <tr>\n      <th>4030</th>\n      <td>e4016cf1-1e50-481e-ad8b-9cb3f90ce812</td>\n      <td>raw</td>\n      <td>4030</td>\n      <td>cart</td>\n      <td>2019-12-29 16:55:41.539826</td>\n      <td>47562303</td>\n    </tr>\n    <tr>\n      <th>4031</th>\n      <td>c31a4539-db04-4f50-81b2-1e33ae87d974</td>\n      <td>raw</td>\n      <td>4031</td>\n      <td>delivery_choice</td>\n      <td>2019-12-29 16:55:44.747151</td>\n      <td>47562303</td>\n    </tr>\n    <tr>\n      <th>4032</th>\n      <td>632bf62b-15ce-40aa-809d-afbb74ed6790</td>\n      <td>raw</td>\n      <td>4032</td>\n      <td>delivery_courier</td>\n      <td>2019-12-29 16:55:49.061226</td>\n      <td>47562303</td>\n    </tr>\n    <tr>\n      <th>4033</th>\n      <td>9819bcbc-ee39-4f05-9ff7-64081cba2977</td>\n      <td>raw</td>\n      <td>4033</td>\n      <td>payment_choice</td>\n      <td>2019-12-29 16:55:49.201853</td>\n      <td>47562303</td>\n    </tr>\n    <tr>\n      <th>4034</th>\n      <td>ce4619bc-a4fe-4400-8971-fc943892b5e2</td>\n      <td>raw</td>\n      <td>4034</td>\n      <td>payment_cash</td>\n      <td>2019-12-29 16:55:52.004250</td>\n      <td>47562303</td>\n    </tr>\n    <tr>\n      <th>4035</th>\n      <td>b5f21859-def2-4daa-84d5-8804e75dc1e4</td>\n      <td>raw</td>\n      <td>4035</td>\n      <td>payment_done</td>\n      <td>2019-12-29 16:55:52.350396</td>\n      <td>47562303</td>\n    </tr>\n  </tbody>\n</table>\n</div>"
     },
     "execution_count": 26,
     "metadata": {},
     "output_type": "execute_result"
    }
   ],
   "source": [
    "source_df[(source_df['user_id'] == check_id) &\\\n",
    "          (source_df['event_timestamp'] <= event_time)]"
   ],
   "metadata": {
    "collapsed": false,
    "pycharm": {
     "name": "#%%\n"
    }
   }
  },
  {
   "cell_type": "code",
   "execution_count": 27,
   "outputs": [
    {
     "data": {
      "text/plain": "user_id\n168688753    2\n830731696    2\n849341362    2\n845778461    2\n652347392    2\n            ..\n355840584    1\n358346667    1\n363256580    1\n365193081    1\n999642905    1\nName: event_name, Length: 730, dtype: int64"
     },
     "execution_count": 27,
     "metadata": {},
     "output_type": "execute_result"
    }
   ],
   "source": [
    "source_df[(source_df['event_name'] == 'payment_done') | \\\n",
    "          (source_df['event_name'] == 'payment_cash') ]\\\n",
    "    .groupby('user_id')['event_name'].nunique().sort_values(ascending=False)"
   ],
   "metadata": {
    "collapsed": false,
    "pycharm": {
     "name": "#%%\n"
    }
   }
  },
  {
   "cell_type": "code",
   "execution_count": 28,
   "outputs": [
    {
     "data": {
      "text/plain": "catalog             14518\nmain                 5635\nlost                 3098\ncart                 2842\nproduct2             2172\ndelivery_choice      1686\nproduct1             1515\npayment_choice       1107\ndelivery_courier      834\npayment_done          706\npayment_card          565\ndelivery_pickup       506\npayment_cash          197\nName: event_name, dtype: int64"
     },
     "execution_count": 28,
     "metadata": {},
     "output_type": "execute_result"
    }
   ],
   "source": [
    "source_df['event_name'].value_counts()"
   ],
   "metadata": {
    "collapsed": false,
    "pycharm": {
     "name": "#%%\n"
    }
   }
  },
  {
   "cell_type": "code",
   "execution_count": 28,
   "outputs": [],
   "source": [],
   "metadata": {
    "collapsed": false,
    "pycharm": {
     "name": "#%%\n"
    }
   }
  },
  {
   "cell_type": "markdown",
   "source": [
    "### min_cjm"
   ],
   "metadata": {
    "collapsed": false,
    "pycharm": {
     "name": "#%% md\n"
    }
   }
  },
  {
   "cell_type": "code",
   "execution_count": 29,
   "outputs": [
    {
     "name": "stderr",
     "output_type": "stream",
     "text": [
      "/Users/Daria/Dev/Retentioneering/retentioneering-tools-new-arch/examples/../src/data_processors_lib/rete/cut_path_after_event.py:59: SettingWithCopyWarning: \n",
      "A value is trying to be set on a copy of a slice from a DataFrame.\n",
      "Try using .loc[row_indexer,col_indexer] = value instead\n",
      "\n",
      "See the caveats in the documentation: https://pandas.pydata.org/pandas-docs/stable/user_guide/indexing.html#returning-a-view-versus-a-copy\n",
      "  df_cut[\"rw_cumsum\"] = df_cut.loc[::-1].groupby([user_col])[time_col].transform(\n"
     ]
    }
   ],
   "source": [
    "from src.data_processors_lib.rete import CutPathAfterEvent, CutPathAfterEventParams\n",
    "params = {\n",
    "    'cutoff_events': ['payment_done'],\n",
    "    'cut_shift': 0,\n",
    "    'min_cjm': 3\n",
    "}\n",
    "\n",
    "cut_after = EventsNode(\n",
    "    CutPathAfterEvent(params=CutPathAfterEventParams(**params)))\n",
    "\n",
    "graph.add_node(\n",
    "    node=cut_after,\n",
    "    parents=[graph.root]\n",
    ")\n",
    "\n",
    "result = graph.combine(\n",
    "    node=cut_after\n",
    ")"
   ],
   "metadata": {
    "collapsed": false,
    "pycharm": {
     "name": "#%%\n"
    }
   }
  },
  {
   "cell_type": "code",
   "execution_count": 30,
   "outputs": [
    {
     "name": "stdout",
     "output_type": "stream",
     "text": [
      "0\n"
     ]
    },
    {
     "data": {
      "text/plain": "0"
     },
     "execution_count": 30,
     "metadata": {},
     "output_type": "execute_result"
    }
   ],
   "source": [
    "df82 = result.to_dataframe()\n",
    "print(source_df.duplicated(['event_name', 'event_timestamp', 'user_id']).sum())\n",
    "df82.duplicated(['event_name', 'event_timestamp', 'user_id']).sum()"
   ],
   "metadata": {
    "collapsed": false,
    "pycharm": {
     "name": "#%%\n"
    }
   }
  },
  {
   "cell_type": "code",
   "execution_count": 31,
   "outputs": [
    {
     "data": {
      "text/plain": "raw    31780\nName: event_type, dtype: int64"
     },
     "execution_count": 31,
     "metadata": {},
     "output_type": "execute_result"
    }
   ],
   "source": [
    "df82['event_type'].value_counts()"
   ],
   "metadata": {
    "collapsed": false,
    "pycharm": {
     "name": "#%%\n"
    }
   }
  },
  {
   "cell_type": "code",
   "execution_count": 32,
   "outputs": [
    {
     "data": {
      "text/plain": "raw    35381\nName: event_type, dtype: int64"
     },
     "execution_count": 32,
     "metadata": {},
     "output_type": "execute_result"
    }
   ],
   "source": [
    "source_df['event_type'].value_counts()"
   ],
   "metadata": {
    "collapsed": false,
    "pycharm": {
     "name": "#%%\n"
    }
   }
  },
  {
   "cell_type": "code",
   "execution_count": 33,
   "outputs": [
    {
     "data": {
      "text/plain": "653"
     },
     "execution_count": 33,
     "metadata": {},
     "output_type": "execute_result"
    }
   ],
   "source": [
    "source_df[source_df['event_name'] == 'payment_done']['user_id'].nunique()"
   ],
   "metadata": {
    "collapsed": false,
    "pycharm": {
     "name": "#%%\n"
    }
   }
  },
  {
   "cell_type": "code",
   "execution_count": 34,
   "outputs": [
    {
     "data": {
      "text/plain": "2     443\n3     380\n4     352\n7     321\n8     297\n5     282\n6     265\n9     221\n10    190\n11    137\n12    123\n13    102\n14     97\n15     70\n18     56\n16     56\n17     47\n19     40\n20     39\n21     32\n22     28\n23     26\n27     18\n24     14\n25     12\n28     11\n26     10\n32     10\n34      9\n31      8\n35      8\n29      6\n45      4\n36      4\n30      4\n33      3\n51      3\n37      3\n46      2\n49      2\n38      2\n75      1\n43      1\n39      1\n47      1\n55      1\n63      1\n57      1\n48      1\n42      1\n44      1\n50      1\n62      1\n73      1\n85      1\nName: event_id, dtype: int64"
     },
     "execution_count": 34,
     "metadata": {},
     "output_type": "execute_result"
    }
   ],
   "source": [
    "df8.groupby(['user_id']).count()['event_id'].value_counts()"
   ],
   "metadata": {
    "collapsed": false,
    "pycharm": {
     "name": "#%%\n"
    }
   }
  },
  {
   "cell_type": "code",
   "execution_count": 35,
   "outputs": [
    {
     "data": {
      "text/plain": "3     380\n4     352\n7     321\n8     297\n5     282\n6     265\n9     221\n10    190\n11    137\n12    123\n13    102\n14     97\n15     70\n18     56\n16     56\n17     47\n19     40\n20     39\n21     32\n22     28\n23     26\n27     18\n24     14\n25     12\n28     11\n32     10\n26     10\n34      9\n31      8\n35      8\n29      6\n45      4\n36      4\n30      4\n33      3\n51      3\n37      3\n46      2\n49      2\n38      2\n75      1\n43      1\n39      1\n47      1\n55      1\n63      1\n57      1\n48      1\n42      1\n44      1\n50      1\n62      1\n73      1\n85      1\nName: event_id, dtype: int64"
     },
     "execution_count": 35,
     "metadata": {},
     "output_type": "execute_result"
    }
   ],
   "source": [
    "df82.groupby(['user_id']).count()['event_id'].value_counts()"
   ],
   "metadata": {
    "collapsed": false,
    "pycharm": {
     "name": "#%%\n"
    }
   }
  },
  {
   "cell_type": "code",
   "execution_count": 35,
   "outputs": [],
   "source": [],
   "metadata": {
    "collapsed": false,
    "pycharm": {
     "name": "#%%\n"
    }
   }
  },
  {
   "cell_type": "markdown",
   "source": [
    "### Несколько событий"
   ],
   "metadata": {
    "collapsed": false,
    "pycharm": {
     "name": "#%% md\n"
    }
   }
  },
  {
   "cell_type": "code",
   "execution_count": 36,
   "outputs": [
    {
     "name": "stderr",
     "output_type": "stream",
     "text": [
      "/Users/Daria/Dev/Retentioneering/retentioneering-tools-new-arch/examples/../src/data_processors_lib/rete/cut_path_after_event.py:59: SettingWithCopyWarning: \n",
      "A value is trying to be set on a copy of a slice from a DataFrame.\n",
      "Try using .loc[row_indexer,col_indexer] = value instead\n",
      "\n",
      "See the caveats in the documentation: https://pandas.pydata.org/pandas-docs/stable/user_guide/indexing.html#returning-a-view-versus-a-copy\n",
      "  df_cut[\"rw_cumsum\"] = df_cut.loc[::-1].groupby([user_col])[time_col].transform(\n",
      "/Users/Daria/Dev/Retentioneering/retentioneering-tools-new-arch/examples/../src/data_processors_lib/rete/cut_path_after_event.py:76: SettingWithCopyWarning: \n",
      "A value is trying to be set on a copy of a slice from a DataFrame.\n",
      "Try using .loc[row_indexer,col_indexer] = value instead\n",
      "\n",
      "See the caveats in the documentation: https://pandas.pydata.org/pandas-docs/stable/user_guide/indexing.html#returning-a-view-versus-a-copy\n",
      "  df_to_del[\"ref\"] = df_to_del[eventstream.schema.event_id]\n"
     ]
    }
   ],
   "source": [
    "from src.data_processors_lib.rete import CutPathAfterEvent, CutPathAfterEventParams\n",
    "params = {\n",
    "    'cutoff_events': ['payment_done', 'payment_cash', 'delivery_choice'],\n",
    "    'cut_shift': 0,\n",
    "    'min_cjm': 0\n",
    "}\n",
    "\n",
    "cut_after = EventsNode(\n",
    "    CutPathAfterEvent(params=CutPathAfterEventParams(**params)))\n",
    "\n",
    "graph.add_node(\n",
    "    node=cut_after,\n",
    "    parents=[graph.root]\n",
    ")\n",
    "\n",
    "result = graph.combine(\n",
    "    node=cut_after\n",
    ")"
   ],
   "metadata": {
    "collapsed": false,
    "pycharm": {
     "name": "#%%\n"
    }
   }
  },
  {
   "cell_type": "code",
   "execution_count": 37,
   "outputs": [
    {
     "name": "stdout",
     "output_type": "stream",
     "text": [
      "0\n"
     ]
    },
    {
     "data": {
      "text/plain": "0"
     },
     "execution_count": 37,
     "metadata": {},
     "output_type": "execute_result"
    }
   ],
   "source": [
    "df83 = result.to_dataframe()\n",
    "print(source_df.duplicated(['event_name', 'event_timestamp', 'user_id']).sum())\n",
    "df83.duplicated(['event_name', 'event_timestamp', 'user_id']).sum()"
   ],
   "metadata": {
    "collapsed": false,
    "pycharm": {
     "name": "#%%\n"
    }
   }
  },
  {
   "cell_type": "code",
   "execution_count": 38,
   "outputs": [
    {
     "name": "stdout",
     "output_type": "stream",
     "text": [
      "14\n"
     ]
    },
    {
     "data": {
      "text/plain": "Timestamp('2019-12-14 06:33:57.636413')"
     },
     "execution_count": 38,
     "metadata": {},
     "output_type": "execute_result"
    }
   ],
   "source": [
    "check_id = 168688753\n",
    "print(len(df83[df83['user_id'] == check_id]))\n",
    "event_time = source_df[(source_df['user_id'] == check_id) & \\\n",
    "    ((source_df['event_name'] == 'payment_done') | \\\n",
    "    (source_df['event_name'] == 'payment_cash') | \\\n",
    "     (source_df['event_name'] == 'delivery_choice')\n",
    "     )]['event_timestamp'].min()\n",
    "event_time"
   ],
   "metadata": {
    "collapsed": false,
    "pycharm": {
     "name": "#%%\n"
    }
   }
  },
  {
   "cell_type": "code",
   "execution_count": 39,
   "outputs": [
    {
     "data": {
      "text/plain": "                                  event_id event_type  event_index  \\\n842   a9a95b69-4698-4c93-ab8c-2ce6b33663a1        raw          842   \n843   569bc5ea-db2f-4386-b916-81b32d505768        raw          843   \n844   5c340007-da4f-4ff5-a31b-3622515b0eef        raw          844   \n2286  7460e6f4-97fe-4b29-afa3-7f342dca936d        raw         2286   \n2833  d06d2b60-2950-4828-be8f-447ef58d2cb0        raw         2833   \n2834  9df8289f-17bb-435d-8747-701598f47c9e        raw         2834   \n2835  be3c28b6-9f54-44cc-ad8d-6ebbf0cd55f0        raw         2835   \n2836  6525687a-7b66-4f6e-95a7-6821f0c6454c        raw         2836   \n2837  68e9e510-8c67-409f-a2fa-77a411cdd4b3        raw         2837   \n2838  2a898844-b111-4ba6-b479-fa25db67e7a5        raw         2838   \n2839  bc881ab5-8617-4856-a96d-c0c698759522        raw         2839   \n2840  8c847d22-b586-4597-9a82-6d459efc5cb3        raw         2840   \n2841  35eb5b52-d0e6-444b-b776-be021e23edf6        raw         2841   \n2842  5afc23b3-e1ff-4ceb-82da-66e0f204eefd        raw         2842   \n\n           event_name            event_timestamp    user_id  \n842           catalog 2019-11-16 22:30:05.735414  168688753  \n843           catalog 2019-11-16 22:30:15.425342  168688753  \n844           catalog 2019-11-16 22:30:40.187585  168688753  \n2286             main 2019-12-06 21:40:31.972558  168688753  \n2833             main 2019-12-14 06:32:50.934854  168688753  \n2834          catalog 2019-12-14 06:32:56.369665  168688753  \n2835          catalog 2019-12-14 06:33:12.102891  168688753  \n2836          catalog 2019-12-14 06:33:28.660860  168688753  \n2837         product2 2019-12-14 06:33:29.294200  168688753  \n2838          catalog 2019-12-14 06:33:30.657942  168688753  \n2839          catalog 2019-12-14 06:33:38.687904  168688753  \n2840         product1 2019-12-14 06:33:54.105418  168688753  \n2841             cart 2019-12-14 06:33:57.608245  168688753  \n2842  delivery_choice 2019-12-14 06:33:57.636413  168688753  ",
      "text/html": "<div>\n<style scoped>\n    .dataframe tbody tr th:only-of-type {\n        vertical-align: middle;\n    }\n\n    .dataframe tbody tr th {\n        vertical-align: top;\n    }\n\n    .dataframe thead th {\n        text-align: right;\n    }\n</style>\n<table border=\"1\" class=\"dataframe\">\n  <thead>\n    <tr style=\"text-align: right;\">\n      <th></th>\n      <th>event_id</th>\n      <th>event_type</th>\n      <th>event_index</th>\n      <th>event_name</th>\n      <th>event_timestamp</th>\n      <th>user_id</th>\n    </tr>\n  </thead>\n  <tbody>\n    <tr>\n      <th>842</th>\n      <td>a9a95b69-4698-4c93-ab8c-2ce6b33663a1</td>\n      <td>raw</td>\n      <td>842</td>\n      <td>catalog</td>\n      <td>2019-11-16 22:30:05.735414</td>\n      <td>168688753</td>\n    </tr>\n    <tr>\n      <th>843</th>\n      <td>569bc5ea-db2f-4386-b916-81b32d505768</td>\n      <td>raw</td>\n      <td>843</td>\n      <td>catalog</td>\n      <td>2019-11-16 22:30:15.425342</td>\n      <td>168688753</td>\n    </tr>\n    <tr>\n      <th>844</th>\n      <td>5c340007-da4f-4ff5-a31b-3622515b0eef</td>\n      <td>raw</td>\n      <td>844</td>\n      <td>catalog</td>\n      <td>2019-11-16 22:30:40.187585</td>\n      <td>168688753</td>\n    </tr>\n    <tr>\n      <th>2286</th>\n      <td>7460e6f4-97fe-4b29-afa3-7f342dca936d</td>\n      <td>raw</td>\n      <td>2286</td>\n      <td>main</td>\n      <td>2019-12-06 21:40:31.972558</td>\n      <td>168688753</td>\n    </tr>\n    <tr>\n      <th>2833</th>\n      <td>d06d2b60-2950-4828-be8f-447ef58d2cb0</td>\n      <td>raw</td>\n      <td>2833</td>\n      <td>main</td>\n      <td>2019-12-14 06:32:50.934854</td>\n      <td>168688753</td>\n    </tr>\n    <tr>\n      <th>2834</th>\n      <td>9df8289f-17bb-435d-8747-701598f47c9e</td>\n      <td>raw</td>\n      <td>2834</td>\n      <td>catalog</td>\n      <td>2019-12-14 06:32:56.369665</td>\n      <td>168688753</td>\n    </tr>\n    <tr>\n      <th>2835</th>\n      <td>be3c28b6-9f54-44cc-ad8d-6ebbf0cd55f0</td>\n      <td>raw</td>\n      <td>2835</td>\n      <td>catalog</td>\n      <td>2019-12-14 06:33:12.102891</td>\n      <td>168688753</td>\n    </tr>\n    <tr>\n      <th>2836</th>\n      <td>6525687a-7b66-4f6e-95a7-6821f0c6454c</td>\n      <td>raw</td>\n      <td>2836</td>\n      <td>catalog</td>\n      <td>2019-12-14 06:33:28.660860</td>\n      <td>168688753</td>\n    </tr>\n    <tr>\n      <th>2837</th>\n      <td>68e9e510-8c67-409f-a2fa-77a411cdd4b3</td>\n      <td>raw</td>\n      <td>2837</td>\n      <td>product2</td>\n      <td>2019-12-14 06:33:29.294200</td>\n      <td>168688753</td>\n    </tr>\n    <tr>\n      <th>2838</th>\n      <td>2a898844-b111-4ba6-b479-fa25db67e7a5</td>\n      <td>raw</td>\n      <td>2838</td>\n      <td>catalog</td>\n      <td>2019-12-14 06:33:30.657942</td>\n      <td>168688753</td>\n    </tr>\n    <tr>\n      <th>2839</th>\n      <td>bc881ab5-8617-4856-a96d-c0c698759522</td>\n      <td>raw</td>\n      <td>2839</td>\n      <td>catalog</td>\n      <td>2019-12-14 06:33:38.687904</td>\n      <td>168688753</td>\n    </tr>\n    <tr>\n      <th>2840</th>\n      <td>8c847d22-b586-4597-9a82-6d459efc5cb3</td>\n      <td>raw</td>\n      <td>2840</td>\n      <td>product1</td>\n      <td>2019-12-14 06:33:54.105418</td>\n      <td>168688753</td>\n    </tr>\n    <tr>\n      <th>2841</th>\n      <td>35eb5b52-d0e6-444b-b776-be021e23edf6</td>\n      <td>raw</td>\n      <td>2841</td>\n      <td>cart</td>\n      <td>2019-12-14 06:33:57.608245</td>\n      <td>168688753</td>\n    </tr>\n    <tr>\n      <th>2842</th>\n      <td>5afc23b3-e1ff-4ceb-82da-66e0f204eefd</td>\n      <td>raw</td>\n      <td>2842</td>\n      <td>delivery_choice</td>\n      <td>2019-12-14 06:33:57.636413</td>\n      <td>168688753</td>\n    </tr>\n  </tbody>\n</table>\n</div>"
     },
     "execution_count": 39,
     "metadata": {},
     "output_type": "execute_result"
    }
   ],
   "source": [
    "source_df[(source_df['user_id'] == check_id) &\\\n",
    "          (source_df['event_timestamp'] <= event_time)]"
   ],
   "metadata": {
    "collapsed": false,
    "pycharm": {
     "name": "#%%\n"
    }
   }
  },
  {
   "cell_type": "code",
   "execution_count": 40,
   "outputs": [
    {
     "data": {
      "text/plain": "                                  event_id event_type  event_index  \\\n986   a9a95b69-4698-4c93-ab8c-2ce6b33663a1        raw          986   \n987   569bc5ea-db2f-4386-b916-81b32d505768        raw          987   \n988   5c340007-da4f-4ff5-a31b-3622515b0eef        raw          988   \n2859  7460e6f4-97fe-4b29-afa3-7f342dca936d        raw         2859   \n3535  d06d2b60-2950-4828-be8f-447ef58d2cb0        raw         3535   \n3536  9df8289f-17bb-435d-8747-701598f47c9e        raw         3536   \n3537  be3c28b6-9f54-44cc-ad8d-6ebbf0cd55f0        raw         3537   \n3538  6525687a-7b66-4f6e-95a7-6821f0c6454c        raw         3538   \n3539  68e9e510-8c67-409f-a2fa-77a411cdd4b3        raw         3539   \n3540  2a898844-b111-4ba6-b479-fa25db67e7a5        raw         3540   \n3541  bc881ab5-8617-4856-a96d-c0c698759522        raw         3541   \n3542  8c847d22-b586-4597-9a82-6d459efc5cb3        raw         3542   \n3543  35eb5b52-d0e6-444b-b776-be021e23edf6        raw         3543   \n3544  5afc23b3-e1ff-4ceb-82da-66e0f204eefd        raw         3544   \n\n           event_name            event_timestamp      user_id  \n986           catalog 2019-11-16 22:30:05.735414  168688753.0  \n987           catalog 2019-11-16 22:30:15.425342  168688753.0  \n988           catalog 2019-11-16 22:30:40.187585  168688753.0  \n2859             main 2019-12-06 21:40:31.972558  168688753.0  \n3535             main 2019-12-14 06:32:50.934854  168688753.0  \n3536          catalog 2019-12-14 06:32:56.369665  168688753.0  \n3537          catalog 2019-12-14 06:33:12.102891  168688753.0  \n3538          catalog 2019-12-14 06:33:28.660860  168688753.0  \n3539         product2 2019-12-14 06:33:29.294200  168688753.0  \n3540          catalog 2019-12-14 06:33:30.657942  168688753.0  \n3541          catalog 2019-12-14 06:33:38.687904  168688753.0  \n3542         product1 2019-12-14 06:33:54.105418  168688753.0  \n3543             cart 2019-12-14 06:33:57.608245  168688753.0  \n3544  delivery_choice 2019-12-14 06:33:57.636413  168688753.0  ",
      "text/html": "<div>\n<style scoped>\n    .dataframe tbody tr th:only-of-type {\n        vertical-align: middle;\n    }\n\n    .dataframe tbody tr th {\n        vertical-align: top;\n    }\n\n    .dataframe thead th {\n        text-align: right;\n    }\n</style>\n<table border=\"1\" class=\"dataframe\">\n  <thead>\n    <tr style=\"text-align: right;\">\n      <th></th>\n      <th>event_id</th>\n      <th>event_type</th>\n      <th>event_index</th>\n      <th>event_name</th>\n      <th>event_timestamp</th>\n      <th>user_id</th>\n    </tr>\n  </thead>\n  <tbody>\n    <tr>\n      <th>986</th>\n      <td>a9a95b69-4698-4c93-ab8c-2ce6b33663a1</td>\n      <td>raw</td>\n      <td>986</td>\n      <td>catalog</td>\n      <td>2019-11-16 22:30:05.735414</td>\n      <td>168688753.0</td>\n    </tr>\n    <tr>\n      <th>987</th>\n      <td>569bc5ea-db2f-4386-b916-81b32d505768</td>\n      <td>raw</td>\n      <td>987</td>\n      <td>catalog</td>\n      <td>2019-11-16 22:30:15.425342</td>\n      <td>168688753.0</td>\n    </tr>\n    <tr>\n      <th>988</th>\n      <td>5c340007-da4f-4ff5-a31b-3622515b0eef</td>\n      <td>raw</td>\n      <td>988</td>\n      <td>catalog</td>\n      <td>2019-11-16 22:30:40.187585</td>\n      <td>168688753.0</td>\n    </tr>\n    <tr>\n      <th>2859</th>\n      <td>7460e6f4-97fe-4b29-afa3-7f342dca936d</td>\n      <td>raw</td>\n      <td>2859</td>\n      <td>main</td>\n      <td>2019-12-06 21:40:31.972558</td>\n      <td>168688753.0</td>\n    </tr>\n    <tr>\n      <th>3535</th>\n      <td>d06d2b60-2950-4828-be8f-447ef58d2cb0</td>\n      <td>raw</td>\n      <td>3535</td>\n      <td>main</td>\n      <td>2019-12-14 06:32:50.934854</td>\n      <td>168688753.0</td>\n    </tr>\n    <tr>\n      <th>3536</th>\n      <td>9df8289f-17bb-435d-8747-701598f47c9e</td>\n      <td>raw</td>\n      <td>3536</td>\n      <td>catalog</td>\n      <td>2019-12-14 06:32:56.369665</td>\n      <td>168688753.0</td>\n    </tr>\n    <tr>\n      <th>3537</th>\n      <td>be3c28b6-9f54-44cc-ad8d-6ebbf0cd55f0</td>\n      <td>raw</td>\n      <td>3537</td>\n      <td>catalog</td>\n      <td>2019-12-14 06:33:12.102891</td>\n      <td>168688753.0</td>\n    </tr>\n    <tr>\n      <th>3538</th>\n      <td>6525687a-7b66-4f6e-95a7-6821f0c6454c</td>\n      <td>raw</td>\n      <td>3538</td>\n      <td>catalog</td>\n      <td>2019-12-14 06:33:28.660860</td>\n      <td>168688753.0</td>\n    </tr>\n    <tr>\n      <th>3539</th>\n      <td>68e9e510-8c67-409f-a2fa-77a411cdd4b3</td>\n      <td>raw</td>\n      <td>3539</td>\n      <td>product2</td>\n      <td>2019-12-14 06:33:29.294200</td>\n      <td>168688753.0</td>\n    </tr>\n    <tr>\n      <th>3540</th>\n      <td>2a898844-b111-4ba6-b479-fa25db67e7a5</td>\n      <td>raw</td>\n      <td>3540</td>\n      <td>catalog</td>\n      <td>2019-12-14 06:33:30.657942</td>\n      <td>168688753.0</td>\n    </tr>\n    <tr>\n      <th>3541</th>\n      <td>bc881ab5-8617-4856-a96d-c0c698759522</td>\n      <td>raw</td>\n      <td>3541</td>\n      <td>catalog</td>\n      <td>2019-12-14 06:33:38.687904</td>\n      <td>168688753.0</td>\n    </tr>\n    <tr>\n      <th>3542</th>\n      <td>8c847d22-b586-4597-9a82-6d459efc5cb3</td>\n      <td>raw</td>\n      <td>3542</td>\n      <td>product1</td>\n      <td>2019-12-14 06:33:54.105418</td>\n      <td>168688753.0</td>\n    </tr>\n    <tr>\n      <th>3543</th>\n      <td>35eb5b52-d0e6-444b-b776-be021e23edf6</td>\n      <td>raw</td>\n      <td>3543</td>\n      <td>cart</td>\n      <td>2019-12-14 06:33:57.608245</td>\n      <td>168688753.0</td>\n    </tr>\n    <tr>\n      <th>3544</th>\n      <td>5afc23b3-e1ff-4ceb-82da-66e0f204eefd</td>\n      <td>raw</td>\n      <td>3544</td>\n      <td>delivery_choice</td>\n      <td>2019-12-14 06:33:57.636413</td>\n      <td>168688753.0</td>\n    </tr>\n  </tbody>\n</table>\n</div>"
     },
     "execution_count": 40,
     "metadata": {},
     "output_type": "execute_result"
    }
   ],
   "source": [
    "df83[df83['user_id'] == check_id]"
   ],
   "metadata": {
    "collapsed": false,
    "pycharm": {
     "name": "#%%\n"
    }
   }
  },
  {
   "cell_type": "code",
   "execution_count": 41,
   "outputs": [
    {
     "data": {
      "text/plain": "                                   event_id event_type  event_index  \\\n842    a9a95b69-4698-4c93-ab8c-2ce6b33663a1        raw          842   \n843    569bc5ea-db2f-4386-b916-81b32d505768        raw          843   \n844    5c340007-da4f-4ff5-a31b-3622515b0eef        raw          844   \n2286   7460e6f4-97fe-4b29-afa3-7f342dca936d        raw         2286   \n2833   d06d2b60-2950-4828-be8f-447ef58d2cb0        raw         2833   \n2834   9df8289f-17bb-435d-8747-701598f47c9e        raw         2834   \n2835   be3c28b6-9f54-44cc-ad8d-6ebbf0cd55f0        raw         2835   \n2836   6525687a-7b66-4f6e-95a7-6821f0c6454c        raw         2836   \n2837   68e9e510-8c67-409f-a2fa-77a411cdd4b3        raw         2837   \n2838   2a898844-b111-4ba6-b479-fa25db67e7a5        raw         2838   \n2839   bc881ab5-8617-4856-a96d-c0c698759522        raw         2839   \n2840   8c847d22-b586-4597-9a82-6d459efc5cb3        raw         2840   \n2841   35eb5b52-d0e6-444b-b776-be021e23edf6        raw         2841   \n2842   5afc23b3-e1ff-4ceb-82da-66e0f204eefd        raw         2842   \n2843   fba69e20-eeb0-4f72-8727-36d5dcb6fe8e        raw         2843   \n2844   599d8d97-803d-49aa-9e05-910060140189        raw         2844   \n2845   ef7e67a8-4465-445b-a6b5-1bca6bc2f0eb        raw         2845   \n2846   c9e897a1-7dd7-463c-80f7-6a7bcb408170        raw         2846   \n2847   ca2316b2-8007-4746-9199-f7536035bb26        raw         2847   \n2848   07cdba85-81fb-4e1f-ab7e-e6b05b898d23        raw         2848   \n2849   0d465c98-ccf6-4314-b549-34bdd9df3bee        raw         2849   \n4607   8abd4fcf-6e3a-462e-9a1d-01ad978b1ca5        raw         4607   \n5245   6070835c-7893-45c2-aca8-75e7eaae2ccc        raw         5245   \n5246   4cc6058d-1df1-4271-9875-a622c98626c1        raw         5246   \n5247   fb11161f-0baa-4087-b93d-e4355429ad63        raw         5247   \n5248   7bc67f78-8156-4775-8401-e96b1d72c18a        raw         5248   \n5249   197de745-06c3-47ad-98c9-6d3afc922ede        raw         5249   \n5250   acd4d123-108b-4c33-9264-eda5abdbf844        raw         5250   \n5251   34d34e03-513c-475e-9890-d6b4fdb97283        raw         5251   \n5252   4732c7ec-5321-42bf-9456-bbc872affe28        raw         5252   \n8326   e50a57a8-b26a-48e9-9785-729740e74951        raw         8326   \n8327   622aaa39-3c30-4b92-80d1-f0897d960afd        raw         8327   \n8328   3999d90e-eb44-417e-b604-437ad8919322        raw         8328   \n8329   47d126f4-1355-4623-8317-5fca8b0a363e        raw         8329   \n8330   2cf9f257-8912-4ec9-9064-de7a9cf0d311        raw         8330   \n8331   18ba3a42-2e78-4594-acfb-80eb13962d3b        raw         8331   \n8332   f4c9558b-e9da-4b81-be3c-0ab28762dbc4        raw         8332   \n8333   88c28b7c-e922-443c-b557-47013bd4ea3e        raw         8333   \n8334   913bc4ef-1852-4b6f-8f49-b90aa3e609ec        raw         8334   \n12501  604eb1d6-66f7-4761-b223-fb29cfd3e962        raw        12501   \n12502  ebf86a1f-dc24-4cbc-94a0-b11dd2639e11        raw        12502   \n12503  a2ef3773-c4d6-4e31-9024-f8e4d297558c        raw        12503   \n12504  ce5d8b02-596e-46a7-8081-2d98e45dd4d8        raw        12504   \n12505  24dfbd21-bf16-4156-9954-1321936c73ef        raw        12505   \n12506  bf3f6ab2-e24e-49f2-9d9e-c79e429c0708        raw        12506   \n\n             event_name            event_timestamp    user_id  \n842             catalog 2019-11-16 22:30:05.735414  168688753  \n843             catalog 2019-11-16 22:30:15.425342  168688753  \n844             catalog 2019-11-16 22:30:40.187585  168688753  \n2286               main 2019-12-06 21:40:31.972558  168688753  \n2833               main 2019-12-14 06:32:50.934854  168688753  \n2834            catalog 2019-12-14 06:32:56.369665  168688753  \n2835            catalog 2019-12-14 06:33:12.102891  168688753  \n2836            catalog 2019-12-14 06:33:28.660860  168688753  \n2837           product2 2019-12-14 06:33:29.294200  168688753  \n2838            catalog 2019-12-14 06:33:30.657942  168688753  \n2839            catalog 2019-12-14 06:33:38.687904  168688753  \n2840           product1 2019-12-14 06:33:54.105418  168688753  \n2841               cart 2019-12-14 06:33:57.608245  168688753  \n2842    delivery_choice 2019-12-14 06:33:57.636413  168688753  \n2843            catalog 2019-12-14 06:34:04.620721  168688753  \n2844            catalog 2019-12-14 06:34:09.161217  168688753  \n2845            catalog 2019-12-14 06:34:12.994666  168688753  \n2846            catalog 2019-12-14 06:34:37.431860  168688753  \n2847            catalog 2019-12-14 06:34:52.331349  168688753  \n2848           product1 2019-12-14 06:35:04.950946  168688753  \n2849            catalog 2019-12-14 06:35:23.378459  168688753  \n4607               main 2020-01-05 01:12:20.088207  168688753  \n5245               main 2020-01-11 07:17:34.083275  168688753  \n5246            catalog 2020-01-11 07:17:38.576581  168688753  \n5247               cart 2020-01-11 07:18:06.285462  168688753  \n5248    delivery_choice 2020-01-11 07:18:08.718102  168688753  \n5249   delivery_courier 2020-01-11 07:18:11.881274  168688753  \n5250     payment_choice 2020-01-11 07:18:13.902151  168688753  \n5251       payment_cash 2020-01-11 07:18:14.144647  168688753  \n5252       payment_done 2020-01-11 07:18:15.298737  168688753  \n8326               main 2020-02-11 16:21:29.539728  168688753  \n8327            catalog 2020-02-11 16:21:29.835502  168688753  \n8328           product2 2020-02-11 16:21:34.035051  168688753  \n8329            catalog 2020-02-11 16:21:46.686609  168688753  \n8330               main 2020-02-11 16:21:56.387275  168688753  \n8331            catalog 2020-02-11 16:22:03.651007  168688753  \n8332               main 2020-02-11 16:22:19.734515  168688753  \n8333            catalog 2020-02-11 16:22:23.720972  168688753  \n8334            catalog 2020-02-11 16:23:41.190643  168688753  \n12501              main 2020-03-15 06:02:34.952325  168688753  \n12502           catalog 2020-03-15 06:02:38.509449  168688753  \n12503           catalog 2020-03-15 06:02:50.447875  168688753  \n12504           catalog 2020-03-15 06:02:51.679230  168688753  \n12505          product1 2020-03-15 06:02:52.571970  168688753  \n12506              cart 2020-03-15 06:03:09.277120  168688753  ",
      "text/html": "<div>\n<style scoped>\n    .dataframe tbody tr th:only-of-type {\n        vertical-align: middle;\n    }\n\n    .dataframe tbody tr th {\n        vertical-align: top;\n    }\n\n    .dataframe thead th {\n        text-align: right;\n    }\n</style>\n<table border=\"1\" class=\"dataframe\">\n  <thead>\n    <tr style=\"text-align: right;\">\n      <th></th>\n      <th>event_id</th>\n      <th>event_type</th>\n      <th>event_index</th>\n      <th>event_name</th>\n      <th>event_timestamp</th>\n      <th>user_id</th>\n    </tr>\n  </thead>\n  <tbody>\n    <tr>\n      <th>842</th>\n      <td>a9a95b69-4698-4c93-ab8c-2ce6b33663a1</td>\n      <td>raw</td>\n      <td>842</td>\n      <td>catalog</td>\n      <td>2019-11-16 22:30:05.735414</td>\n      <td>168688753</td>\n    </tr>\n    <tr>\n      <th>843</th>\n      <td>569bc5ea-db2f-4386-b916-81b32d505768</td>\n      <td>raw</td>\n      <td>843</td>\n      <td>catalog</td>\n      <td>2019-11-16 22:30:15.425342</td>\n      <td>168688753</td>\n    </tr>\n    <tr>\n      <th>844</th>\n      <td>5c340007-da4f-4ff5-a31b-3622515b0eef</td>\n      <td>raw</td>\n      <td>844</td>\n      <td>catalog</td>\n      <td>2019-11-16 22:30:40.187585</td>\n      <td>168688753</td>\n    </tr>\n    <tr>\n      <th>2286</th>\n      <td>7460e6f4-97fe-4b29-afa3-7f342dca936d</td>\n      <td>raw</td>\n      <td>2286</td>\n      <td>main</td>\n      <td>2019-12-06 21:40:31.972558</td>\n      <td>168688753</td>\n    </tr>\n    <tr>\n      <th>2833</th>\n      <td>d06d2b60-2950-4828-be8f-447ef58d2cb0</td>\n      <td>raw</td>\n      <td>2833</td>\n      <td>main</td>\n      <td>2019-12-14 06:32:50.934854</td>\n      <td>168688753</td>\n    </tr>\n    <tr>\n      <th>2834</th>\n      <td>9df8289f-17bb-435d-8747-701598f47c9e</td>\n      <td>raw</td>\n      <td>2834</td>\n      <td>catalog</td>\n      <td>2019-12-14 06:32:56.369665</td>\n      <td>168688753</td>\n    </tr>\n    <tr>\n      <th>2835</th>\n      <td>be3c28b6-9f54-44cc-ad8d-6ebbf0cd55f0</td>\n      <td>raw</td>\n      <td>2835</td>\n      <td>catalog</td>\n      <td>2019-12-14 06:33:12.102891</td>\n      <td>168688753</td>\n    </tr>\n    <tr>\n      <th>2836</th>\n      <td>6525687a-7b66-4f6e-95a7-6821f0c6454c</td>\n      <td>raw</td>\n      <td>2836</td>\n      <td>catalog</td>\n      <td>2019-12-14 06:33:28.660860</td>\n      <td>168688753</td>\n    </tr>\n    <tr>\n      <th>2837</th>\n      <td>68e9e510-8c67-409f-a2fa-77a411cdd4b3</td>\n      <td>raw</td>\n      <td>2837</td>\n      <td>product2</td>\n      <td>2019-12-14 06:33:29.294200</td>\n      <td>168688753</td>\n    </tr>\n    <tr>\n      <th>2838</th>\n      <td>2a898844-b111-4ba6-b479-fa25db67e7a5</td>\n      <td>raw</td>\n      <td>2838</td>\n      <td>catalog</td>\n      <td>2019-12-14 06:33:30.657942</td>\n      <td>168688753</td>\n    </tr>\n    <tr>\n      <th>2839</th>\n      <td>bc881ab5-8617-4856-a96d-c0c698759522</td>\n      <td>raw</td>\n      <td>2839</td>\n      <td>catalog</td>\n      <td>2019-12-14 06:33:38.687904</td>\n      <td>168688753</td>\n    </tr>\n    <tr>\n      <th>2840</th>\n      <td>8c847d22-b586-4597-9a82-6d459efc5cb3</td>\n      <td>raw</td>\n      <td>2840</td>\n      <td>product1</td>\n      <td>2019-12-14 06:33:54.105418</td>\n      <td>168688753</td>\n    </tr>\n    <tr>\n      <th>2841</th>\n      <td>35eb5b52-d0e6-444b-b776-be021e23edf6</td>\n      <td>raw</td>\n      <td>2841</td>\n      <td>cart</td>\n      <td>2019-12-14 06:33:57.608245</td>\n      <td>168688753</td>\n    </tr>\n    <tr>\n      <th>2842</th>\n      <td>5afc23b3-e1ff-4ceb-82da-66e0f204eefd</td>\n      <td>raw</td>\n      <td>2842</td>\n      <td>delivery_choice</td>\n      <td>2019-12-14 06:33:57.636413</td>\n      <td>168688753</td>\n    </tr>\n    <tr>\n      <th>2843</th>\n      <td>fba69e20-eeb0-4f72-8727-36d5dcb6fe8e</td>\n      <td>raw</td>\n      <td>2843</td>\n      <td>catalog</td>\n      <td>2019-12-14 06:34:04.620721</td>\n      <td>168688753</td>\n    </tr>\n    <tr>\n      <th>2844</th>\n      <td>599d8d97-803d-49aa-9e05-910060140189</td>\n      <td>raw</td>\n      <td>2844</td>\n      <td>catalog</td>\n      <td>2019-12-14 06:34:09.161217</td>\n      <td>168688753</td>\n    </tr>\n    <tr>\n      <th>2845</th>\n      <td>ef7e67a8-4465-445b-a6b5-1bca6bc2f0eb</td>\n      <td>raw</td>\n      <td>2845</td>\n      <td>catalog</td>\n      <td>2019-12-14 06:34:12.994666</td>\n      <td>168688753</td>\n    </tr>\n    <tr>\n      <th>2846</th>\n      <td>c9e897a1-7dd7-463c-80f7-6a7bcb408170</td>\n      <td>raw</td>\n      <td>2846</td>\n      <td>catalog</td>\n      <td>2019-12-14 06:34:37.431860</td>\n      <td>168688753</td>\n    </tr>\n    <tr>\n      <th>2847</th>\n      <td>ca2316b2-8007-4746-9199-f7536035bb26</td>\n      <td>raw</td>\n      <td>2847</td>\n      <td>catalog</td>\n      <td>2019-12-14 06:34:52.331349</td>\n      <td>168688753</td>\n    </tr>\n    <tr>\n      <th>2848</th>\n      <td>07cdba85-81fb-4e1f-ab7e-e6b05b898d23</td>\n      <td>raw</td>\n      <td>2848</td>\n      <td>product1</td>\n      <td>2019-12-14 06:35:04.950946</td>\n      <td>168688753</td>\n    </tr>\n    <tr>\n      <th>2849</th>\n      <td>0d465c98-ccf6-4314-b549-34bdd9df3bee</td>\n      <td>raw</td>\n      <td>2849</td>\n      <td>catalog</td>\n      <td>2019-12-14 06:35:23.378459</td>\n      <td>168688753</td>\n    </tr>\n    <tr>\n      <th>4607</th>\n      <td>8abd4fcf-6e3a-462e-9a1d-01ad978b1ca5</td>\n      <td>raw</td>\n      <td>4607</td>\n      <td>main</td>\n      <td>2020-01-05 01:12:20.088207</td>\n      <td>168688753</td>\n    </tr>\n    <tr>\n      <th>5245</th>\n      <td>6070835c-7893-45c2-aca8-75e7eaae2ccc</td>\n      <td>raw</td>\n      <td>5245</td>\n      <td>main</td>\n      <td>2020-01-11 07:17:34.083275</td>\n      <td>168688753</td>\n    </tr>\n    <tr>\n      <th>5246</th>\n      <td>4cc6058d-1df1-4271-9875-a622c98626c1</td>\n      <td>raw</td>\n      <td>5246</td>\n      <td>catalog</td>\n      <td>2020-01-11 07:17:38.576581</td>\n      <td>168688753</td>\n    </tr>\n    <tr>\n      <th>5247</th>\n      <td>fb11161f-0baa-4087-b93d-e4355429ad63</td>\n      <td>raw</td>\n      <td>5247</td>\n      <td>cart</td>\n      <td>2020-01-11 07:18:06.285462</td>\n      <td>168688753</td>\n    </tr>\n    <tr>\n      <th>5248</th>\n      <td>7bc67f78-8156-4775-8401-e96b1d72c18a</td>\n      <td>raw</td>\n      <td>5248</td>\n      <td>delivery_choice</td>\n      <td>2020-01-11 07:18:08.718102</td>\n      <td>168688753</td>\n    </tr>\n    <tr>\n      <th>5249</th>\n      <td>197de745-06c3-47ad-98c9-6d3afc922ede</td>\n      <td>raw</td>\n      <td>5249</td>\n      <td>delivery_courier</td>\n      <td>2020-01-11 07:18:11.881274</td>\n      <td>168688753</td>\n    </tr>\n    <tr>\n      <th>5250</th>\n      <td>acd4d123-108b-4c33-9264-eda5abdbf844</td>\n      <td>raw</td>\n      <td>5250</td>\n      <td>payment_choice</td>\n      <td>2020-01-11 07:18:13.902151</td>\n      <td>168688753</td>\n    </tr>\n    <tr>\n      <th>5251</th>\n      <td>34d34e03-513c-475e-9890-d6b4fdb97283</td>\n      <td>raw</td>\n      <td>5251</td>\n      <td>payment_cash</td>\n      <td>2020-01-11 07:18:14.144647</td>\n      <td>168688753</td>\n    </tr>\n    <tr>\n      <th>5252</th>\n      <td>4732c7ec-5321-42bf-9456-bbc872affe28</td>\n      <td>raw</td>\n      <td>5252</td>\n      <td>payment_done</td>\n      <td>2020-01-11 07:18:15.298737</td>\n      <td>168688753</td>\n    </tr>\n    <tr>\n      <th>8326</th>\n      <td>e50a57a8-b26a-48e9-9785-729740e74951</td>\n      <td>raw</td>\n      <td>8326</td>\n      <td>main</td>\n      <td>2020-02-11 16:21:29.539728</td>\n      <td>168688753</td>\n    </tr>\n    <tr>\n      <th>8327</th>\n      <td>622aaa39-3c30-4b92-80d1-f0897d960afd</td>\n      <td>raw</td>\n      <td>8327</td>\n      <td>catalog</td>\n      <td>2020-02-11 16:21:29.835502</td>\n      <td>168688753</td>\n    </tr>\n    <tr>\n      <th>8328</th>\n      <td>3999d90e-eb44-417e-b604-437ad8919322</td>\n      <td>raw</td>\n      <td>8328</td>\n      <td>product2</td>\n      <td>2020-02-11 16:21:34.035051</td>\n      <td>168688753</td>\n    </tr>\n    <tr>\n      <th>8329</th>\n      <td>47d126f4-1355-4623-8317-5fca8b0a363e</td>\n      <td>raw</td>\n      <td>8329</td>\n      <td>catalog</td>\n      <td>2020-02-11 16:21:46.686609</td>\n      <td>168688753</td>\n    </tr>\n    <tr>\n      <th>8330</th>\n      <td>2cf9f257-8912-4ec9-9064-de7a9cf0d311</td>\n      <td>raw</td>\n      <td>8330</td>\n      <td>main</td>\n      <td>2020-02-11 16:21:56.387275</td>\n      <td>168688753</td>\n    </tr>\n    <tr>\n      <th>8331</th>\n      <td>18ba3a42-2e78-4594-acfb-80eb13962d3b</td>\n      <td>raw</td>\n      <td>8331</td>\n      <td>catalog</td>\n      <td>2020-02-11 16:22:03.651007</td>\n      <td>168688753</td>\n    </tr>\n    <tr>\n      <th>8332</th>\n      <td>f4c9558b-e9da-4b81-be3c-0ab28762dbc4</td>\n      <td>raw</td>\n      <td>8332</td>\n      <td>main</td>\n      <td>2020-02-11 16:22:19.734515</td>\n      <td>168688753</td>\n    </tr>\n    <tr>\n      <th>8333</th>\n      <td>88c28b7c-e922-443c-b557-47013bd4ea3e</td>\n      <td>raw</td>\n      <td>8333</td>\n      <td>catalog</td>\n      <td>2020-02-11 16:22:23.720972</td>\n      <td>168688753</td>\n    </tr>\n    <tr>\n      <th>8334</th>\n      <td>913bc4ef-1852-4b6f-8f49-b90aa3e609ec</td>\n      <td>raw</td>\n      <td>8334</td>\n      <td>catalog</td>\n      <td>2020-02-11 16:23:41.190643</td>\n      <td>168688753</td>\n    </tr>\n    <tr>\n      <th>12501</th>\n      <td>604eb1d6-66f7-4761-b223-fb29cfd3e962</td>\n      <td>raw</td>\n      <td>12501</td>\n      <td>main</td>\n      <td>2020-03-15 06:02:34.952325</td>\n      <td>168688753</td>\n    </tr>\n    <tr>\n      <th>12502</th>\n      <td>ebf86a1f-dc24-4cbc-94a0-b11dd2639e11</td>\n      <td>raw</td>\n      <td>12502</td>\n      <td>catalog</td>\n      <td>2020-03-15 06:02:38.509449</td>\n      <td>168688753</td>\n    </tr>\n    <tr>\n      <th>12503</th>\n      <td>a2ef3773-c4d6-4e31-9024-f8e4d297558c</td>\n      <td>raw</td>\n      <td>12503</td>\n      <td>catalog</td>\n      <td>2020-03-15 06:02:50.447875</td>\n      <td>168688753</td>\n    </tr>\n    <tr>\n      <th>12504</th>\n      <td>ce5d8b02-596e-46a7-8081-2d98e45dd4d8</td>\n      <td>raw</td>\n      <td>12504</td>\n      <td>catalog</td>\n      <td>2020-03-15 06:02:51.679230</td>\n      <td>168688753</td>\n    </tr>\n    <tr>\n      <th>12505</th>\n      <td>24dfbd21-bf16-4156-9954-1321936c73ef</td>\n      <td>raw</td>\n      <td>12505</td>\n      <td>product1</td>\n      <td>2020-03-15 06:02:52.571970</td>\n      <td>168688753</td>\n    </tr>\n    <tr>\n      <th>12506</th>\n      <td>bf3f6ab2-e24e-49f2-9d9e-c79e429c0708</td>\n      <td>raw</td>\n      <td>12506</td>\n      <td>cart</td>\n      <td>2020-03-15 06:03:09.277120</td>\n      <td>168688753</td>\n    </tr>\n  </tbody>\n</table>\n</div>"
     },
     "execution_count": 41,
     "metadata": {},
     "output_type": "execute_result"
    }
   ],
   "source": [
    "source_df[(source_df['user_id'] == check_id) ]"
   ],
   "metadata": {
    "collapsed": false,
    "pycharm": {
     "name": "#%%\n"
    }
   }
  },
  {
   "cell_type": "code",
   "execution_count": 41,
   "outputs": [],
   "source": [],
   "metadata": {
    "collapsed": false,
    "pycharm": {
     "name": "#%%\n"
    }
   }
  },
  {
   "cell_type": "markdown",
   "source": [
    "### Результат"
   ],
   "metadata": {
    "collapsed": false,
    "pycharm": {
     "name": "#%% md\n"
    }
   }
  },
  {
   "cell_type": "markdown",
   "source": [
    "1) [TODO] Ворнинги\n",
    "2) [DONE] Не работает обрезка\n",
    "3) [TODO] Медленная работа - оптимизация кода?\n",
    "4) [DONE] Неправильная работа, если задать несколько событий, обрезка происходит по последнему, а не по первому событию\n",
    "5) [DONE] протестировать сдвиги и минимальные траектории\n",
    "6) [DONE] неправильная работа soft_delete и создание ивентстрима (при копировании не пробрасываются старые айдишники у ивентов, а создаются новые, поэтому невозможно применить soft_delete к новому eventstream)"
   ],
   "metadata": {
    "collapsed": false,
    "pycharm": {
     "name": "#%% md\n"
    }
   }
  },
  {
   "cell_type": "code",
   "execution_count": 41,
   "outputs": [],
   "source": [],
   "metadata": {
    "collapsed": false,
    "pycharm": {
     "name": "#%%\n"
    }
   }
  },
  {
   "cell_type": "markdown",
   "source": [
    "# SplitSessions"
   ],
   "metadata": {
    "collapsed": false,
    "pycharm": {
     "name": "#%% md\n"
    }
   }
  },
  {
   "cell_type": "markdown",
   "source": [
    "### Описание работы функции"
   ],
   "metadata": {
    "collapsed": false,
    "pycharm": {
     "name": "#%% md\n"
    }
   }
  },
  {
   "cell_type": "markdown",
   "source": [
    "Функция разделяет траектории пользователя не сессии\n",
    "По заданному порогу ```session_cutoff``` добавляет в eventstream события session_start и session_end\n",
    "\n",
    "Если между двумя соседними событиями одного пользователя проходит больше, чем ```session_cutoff``` времени, то добавляет события session_end c timestamp последнего события в этом периоде и session_start. При этом добавляется колонка session_id со значениями вида user_id_session_id. Пороговое значение можно определить на глаз с помощью гистограммы ```preprocessing.plot_time_delta_between_2_events```\n",
    "\n",
    "Если установлен параметр - mark_truncated=False\n",
    "То сравнивается время 1 события всего датасета и время 1 события каждого пользователя (и также последнее событие в траектории каждого пользователя с последним событием в датасете).\n",
    "Если полученное время меньше, чем заданная отсечка, то мы считаем сессию разорванной и из нее удаляются все события кроме: старта/окончания траектории и:\n",
    "- Start и session_end (если разорвана слева)\n",
    "- End и session_start (если разорвана справа)\n"
   ],
   "metadata": {
    "collapsed": false,
    "pycharm": {
     "name": "#%% md\n"
    }
   }
  },
  {
   "cell_type": "code",
   "execution_count": 8,
   "outputs": [],
   "source": [
    "from src.data_processors_lib.rete import SplitSessions, SplitSessionsParams\n",
    "params = {\n",
    "    'session_cutoff': (1000, 's'),\n",
    "    # 'mark_truncated': ,\n",
    "    'session_col': 'session_id'\n",
    "}\n",
    "\n",
    "split_sessions = EventsNode(\n",
    "    SplitSessions(params=SplitSessionsParams(**params)))\n",
    "\n",
    "graph.add_node(\n",
    "    node=split_sessions,\n",
    "    parents=[graph.root]\n",
    ")\n",
    "\n",
    "result = graph.combine(\n",
    "    node=split_sessions\n",
    ")\n"
   ],
   "metadata": {
    "collapsed": false,
    "pycharm": {
     "name": "#%%\n"
    }
   }
  },
  {
   "cell_type": "code",
   "execution_count": 9,
   "outputs": [
    {
     "name": "stdout",
     "output_type": "stream",
     "text": [
      "0\n"
     ]
    },
    {
     "data": {
      "text/plain": "0"
     },
     "execution_count": 9,
     "metadata": {},
     "output_type": "execute_result"
    }
   ],
   "source": [
    "df10 = result.to_dataframe()\n",
    "print(source_df.duplicated(['event_name', 'event_timestamp', 'user_id']).sum())\n",
    "df10.duplicated(['event_name', 'event_timestamp', 'user_id']).sum()"
   ],
   "metadata": {
    "collapsed": false,
    "pycharm": {
     "name": "#%%\n"
    }
   }
  },
  {
   "cell_type": "code",
   "execution_count": 10,
   "outputs": [
    {
     "data": {
      "text/plain": "                               event_id     event_type  event_index  \\\n0  9cfad64e-0190-4d9a-8a66-b19e8f75da45  session_start            0   \n1  dec4c9c8-322e-48c0-9771-4abe32065f82            raw            1   \n3  57fdc854-78eb-4886-a58a-feca5d52cce4            raw            3   \n5  0f3eccee-71df-4b11-a402-852ad80fd5fa            raw            5   \n7  7bcfca26-66ac-44bd-ab54-94c0fc2bc35c            raw            7   \n\n      event_name            event_timestamp      user_id   session_id  \n0  session_start 2019-11-01 17:59:13.273932  219483890.0  219483890_0  \n1        catalog 2019-11-01 17:59:13.273932  219483890.0  219483890_0  \n3       product1 2019-11-01 17:59:28.459271  219483890.0  219483890_0  \n5           cart 2019-11-01 17:59:29.502214  219483890.0  219483890_0  \n7        catalog 2019-11-01 17:59:32.557029  219483890.0  219483890_0  ",
      "text/html": "<div>\n<style scoped>\n    .dataframe tbody tr th:only-of-type {\n        vertical-align: middle;\n    }\n\n    .dataframe tbody tr th {\n        vertical-align: top;\n    }\n\n    .dataframe thead th {\n        text-align: right;\n    }\n</style>\n<table border=\"1\" class=\"dataframe\">\n  <thead>\n    <tr style=\"text-align: right;\">\n      <th></th>\n      <th>event_id</th>\n      <th>event_type</th>\n      <th>event_index</th>\n      <th>event_name</th>\n      <th>event_timestamp</th>\n      <th>user_id</th>\n      <th>session_id</th>\n    </tr>\n  </thead>\n  <tbody>\n    <tr>\n      <th>0</th>\n      <td>9cfad64e-0190-4d9a-8a66-b19e8f75da45</td>\n      <td>session_start</td>\n      <td>0</td>\n      <td>session_start</td>\n      <td>2019-11-01 17:59:13.273932</td>\n      <td>219483890.0</td>\n      <td>219483890_0</td>\n    </tr>\n    <tr>\n      <th>1</th>\n      <td>dec4c9c8-322e-48c0-9771-4abe32065f82</td>\n      <td>raw</td>\n      <td>1</td>\n      <td>catalog</td>\n      <td>2019-11-01 17:59:13.273932</td>\n      <td>219483890.0</td>\n      <td>219483890_0</td>\n    </tr>\n    <tr>\n      <th>3</th>\n      <td>57fdc854-78eb-4886-a58a-feca5d52cce4</td>\n      <td>raw</td>\n      <td>3</td>\n      <td>product1</td>\n      <td>2019-11-01 17:59:28.459271</td>\n      <td>219483890.0</td>\n      <td>219483890_0</td>\n    </tr>\n    <tr>\n      <th>5</th>\n      <td>0f3eccee-71df-4b11-a402-852ad80fd5fa</td>\n      <td>raw</td>\n      <td>5</td>\n      <td>cart</td>\n      <td>2019-11-01 17:59:29.502214</td>\n      <td>219483890.0</td>\n      <td>219483890_0</td>\n    </tr>\n    <tr>\n      <th>7</th>\n      <td>7bcfca26-66ac-44bd-ab54-94c0fc2bc35c</td>\n      <td>raw</td>\n      <td>7</td>\n      <td>catalog</td>\n      <td>2019-11-01 17:59:32.557029</td>\n      <td>219483890.0</td>\n      <td>219483890_0</td>\n    </tr>\n  </tbody>\n</table>\n</div>"
     },
     "execution_count": 10,
     "metadata": {},
     "output_type": "execute_result"
    }
   ],
   "source": [
    "df10.head()"
   ],
   "metadata": {
    "collapsed": false,
    "pycharm": {
     "name": "#%%\n"
    }
   }
  },
  {
   "cell_type": "code",
   "execution_count": 11,
   "outputs": [
    {
     "data": {
      "text/plain": "raw              35381\nsession_start     6455\nsession_end       6455\nName: event_type, dtype: int64"
     },
     "execution_count": 11,
     "metadata": {},
     "output_type": "execute_result"
    }
   ],
   "source": [
    "df10['event_type'].value_counts()"
   ],
   "metadata": {
    "collapsed": false,
    "pycharm": {
     "name": "#%%\n"
    }
   }
  },
  {
   "cell_type": "code",
   "execution_count": 8,
   "outputs": [
    {
     "data": {
      "text/plain": "raw    35381\nName: event_type, dtype: int64"
     },
     "execution_count": 8,
     "metadata": {},
     "output_type": "execute_result"
    }
   ],
   "source": [
    "source_df['event_type'].value_counts()"
   ],
   "metadata": {
    "collapsed": false,
    "pycharm": {
     "name": "#%%\n"
    }
   }
  },
  {
   "cell_type": "code",
   "execution_count": 9,
   "outputs": [
    {
     "name": "stdout",
     "output_type": "stream",
     "text": [
      "25\n"
     ]
    },
    {
     "data": {
      "text/plain": "                                   event_id     event_type  event_index  \\\n0      e29ad367-5e8f-448c-800b-95bf158e68f6  session_start            0   \n1      97a3d279-cf55-4c8d-ab1f-03ab68d744cb            raw            1   \n3      dd002364-9ccb-4bad-abae-6411908ba90d            raw            3   \n5      c473af50-b4bc-4fc9-9094-b922ac133149            raw            5   \n7      35a10406-c994-4e01-ba55-68aa410d7b7f            raw            7   \n9      3047487d-5495-4124-b7c0-3c40ff54be16    session_end            9   \n5316   82c34beb-c343-4834-b51e-ac1a036bf1ad  session_start         5316   \n5317   f1af8eec-df09-41fd-bd34-f0e7cc9e1c80            raw         5317   \n5319   36ed82a1-5e86-41a7-8919-ed13d8971959            raw         5319   \n5321   ccf6bd07-4069-406e-a478-83a0add9f127            raw         5321   \n5323   e49aca0e-6b78-4249-9c35-d430d19efde7    session_end         5323   \n11556  b3c0cc65-23b1-47a2-9d8b-4b43c0554729  session_start        11556   \n11557  7b8e7e41-5925-4779-8b74-8d89bbec3a7a            raw        11557   \n11559  67a4dd90-f1c4-4eb9-aa72-43362b14ff23            raw        11559   \n11561  fbd3951c-fd35-41fc-a059-c4ea8cc3534e            raw        11561   \n11563  48d9257e-db8c-4aba-9ed9-476a4db87ec2            raw        11563   \n11565  6e27a68b-ba43-45a9-9fd8-5416fd1ea6e9            raw        11565   \n11567  e030472c-28f7-49f9-b511-ac1fb3fe88d5            raw        11567   \n11569  35d05237-622c-4d2b-86c6-8a745a699632            raw        11569   \n11571  9ba555b8-aea5-43b9-b2c7-2b0ff6be2a82    session_end        11571   \n21042  45387056-79d8-4841-bab1-2302a13afef2  session_start        21042   \n21043  c61f1284-7453-402b-8ea5-ab2b5b6c08e5            raw        21043   \n21045  06673b28-0541-4636-898a-230173efc81d            raw        21045   \n21047  49009998-d484-4f5a-9139-c9edcd96fbbc            raw        21047   \n21049  c35d84e4-63c4-4b48-874d-ae9ba9eb00c5    session_end        21049   \n\n          event_name            event_timestamp      user_id  \n0      session_start 2019-11-01 17:59:13.273932  219483890.0  \n1            catalog 2019-11-01 17:59:13.273932  219483890.0  \n3           product1 2019-11-01 17:59:28.459271  219483890.0  \n5               cart 2019-11-01 17:59:29.502214  219483890.0  \n7            catalog 2019-11-01 17:59:32.557029  219483890.0  \n9        session_end 2019-11-01 17:59:32.557029  219483890.0  \n5316   session_start 2019-12-06 16:22:57.484842  219483890.0  \n5317            main 2019-12-06 16:22:57.484842  219483890.0  \n5319         catalog 2019-12-06 16:23:01.331109  219483890.0  \n5321         catalog 2019-12-06 16:23:48.116617  219483890.0  \n5323     session_end 2019-12-06 16:23:48.116617  219483890.0  \n11556  session_start 2020-01-06 22:10:13.635011  219483890.0  \n11557           main 2020-01-06 22:10:13.635011  219483890.0  \n11559        catalog 2020-01-06 22:10:15.228575  219483890.0  \n11561           cart 2020-01-06 22:10:42.309028  219483890.0  \n11563        catalog 2020-01-06 22:10:52.255859  219483890.0  \n11565       product1 2020-01-06 22:11:01.709800  219483890.0  \n11567        catalog 2020-01-06 22:11:02.899490  219483890.0  \n11569        catalog 2020-01-06 22:11:28.271366  219483890.0  \n11571    session_end 2020-01-06 22:11:28.271366  219483890.0  \n21042  session_start 2020-02-14 21:04:49.450696  219483890.0  \n21043           main 2020-02-14 21:04:49.450696  219483890.0  \n21045        catalog 2020-02-14 21:04:51.717127  219483890.0  \n21047           lost 2020-02-14 21:04:52.717127  219483890.0  \n21049    session_end 2020-02-14 21:04:52.717127  219483890.0  ",
      "text/html": "<div>\n<style scoped>\n    .dataframe tbody tr th:only-of-type {\n        vertical-align: middle;\n    }\n\n    .dataframe tbody tr th {\n        vertical-align: top;\n    }\n\n    .dataframe thead th {\n        text-align: right;\n    }\n</style>\n<table border=\"1\" class=\"dataframe\">\n  <thead>\n    <tr style=\"text-align: right;\">\n      <th></th>\n      <th>event_id</th>\n      <th>event_type</th>\n      <th>event_index</th>\n      <th>event_name</th>\n      <th>event_timestamp</th>\n      <th>user_id</th>\n    </tr>\n  </thead>\n  <tbody>\n    <tr>\n      <th>0</th>\n      <td>e29ad367-5e8f-448c-800b-95bf158e68f6</td>\n      <td>session_start</td>\n      <td>0</td>\n      <td>session_start</td>\n      <td>2019-11-01 17:59:13.273932</td>\n      <td>219483890.0</td>\n    </tr>\n    <tr>\n      <th>1</th>\n      <td>97a3d279-cf55-4c8d-ab1f-03ab68d744cb</td>\n      <td>raw</td>\n      <td>1</td>\n      <td>catalog</td>\n      <td>2019-11-01 17:59:13.273932</td>\n      <td>219483890.0</td>\n    </tr>\n    <tr>\n      <th>3</th>\n      <td>dd002364-9ccb-4bad-abae-6411908ba90d</td>\n      <td>raw</td>\n      <td>3</td>\n      <td>product1</td>\n      <td>2019-11-01 17:59:28.459271</td>\n      <td>219483890.0</td>\n    </tr>\n    <tr>\n      <th>5</th>\n      <td>c473af50-b4bc-4fc9-9094-b922ac133149</td>\n      <td>raw</td>\n      <td>5</td>\n      <td>cart</td>\n      <td>2019-11-01 17:59:29.502214</td>\n      <td>219483890.0</td>\n    </tr>\n    <tr>\n      <th>7</th>\n      <td>35a10406-c994-4e01-ba55-68aa410d7b7f</td>\n      <td>raw</td>\n      <td>7</td>\n      <td>catalog</td>\n      <td>2019-11-01 17:59:32.557029</td>\n      <td>219483890.0</td>\n    </tr>\n    <tr>\n      <th>9</th>\n      <td>3047487d-5495-4124-b7c0-3c40ff54be16</td>\n      <td>session_end</td>\n      <td>9</td>\n      <td>session_end</td>\n      <td>2019-11-01 17:59:32.557029</td>\n      <td>219483890.0</td>\n    </tr>\n    <tr>\n      <th>5316</th>\n      <td>82c34beb-c343-4834-b51e-ac1a036bf1ad</td>\n      <td>session_start</td>\n      <td>5316</td>\n      <td>session_start</td>\n      <td>2019-12-06 16:22:57.484842</td>\n      <td>219483890.0</td>\n    </tr>\n    <tr>\n      <th>5317</th>\n      <td>f1af8eec-df09-41fd-bd34-f0e7cc9e1c80</td>\n      <td>raw</td>\n      <td>5317</td>\n      <td>main</td>\n      <td>2019-12-06 16:22:57.484842</td>\n      <td>219483890.0</td>\n    </tr>\n    <tr>\n      <th>5319</th>\n      <td>36ed82a1-5e86-41a7-8919-ed13d8971959</td>\n      <td>raw</td>\n      <td>5319</td>\n      <td>catalog</td>\n      <td>2019-12-06 16:23:01.331109</td>\n      <td>219483890.0</td>\n    </tr>\n    <tr>\n      <th>5321</th>\n      <td>ccf6bd07-4069-406e-a478-83a0add9f127</td>\n      <td>raw</td>\n      <td>5321</td>\n      <td>catalog</td>\n      <td>2019-12-06 16:23:48.116617</td>\n      <td>219483890.0</td>\n    </tr>\n    <tr>\n      <th>5323</th>\n      <td>e49aca0e-6b78-4249-9c35-d430d19efde7</td>\n      <td>session_end</td>\n      <td>5323</td>\n      <td>session_end</td>\n      <td>2019-12-06 16:23:48.116617</td>\n      <td>219483890.0</td>\n    </tr>\n    <tr>\n      <th>11556</th>\n      <td>b3c0cc65-23b1-47a2-9d8b-4b43c0554729</td>\n      <td>session_start</td>\n      <td>11556</td>\n      <td>session_start</td>\n      <td>2020-01-06 22:10:13.635011</td>\n      <td>219483890.0</td>\n    </tr>\n    <tr>\n      <th>11557</th>\n      <td>7b8e7e41-5925-4779-8b74-8d89bbec3a7a</td>\n      <td>raw</td>\n      <td>11557</td>\n      <td>main</td>\n      <td>2020-01-06 22:10:13.635011</td>\n      <td>219483890.0</td>\n    </tr>\n    <tr>\n      <th>11559</th>\n      <td>67a4dd90-f1c4-4eb9-aa72-43362b14ff23</td>\n      <td>raw</td>\n      <td>11559</td>\n      <td>catalog</td>\n      <td>2020-01-06 22:10:15.228575</td>\n      <td>219483890.0</td>\n    </tr>\n    <tr>\n      <th>11561</th>\n      <td>fbd3951c-fd35-41fc-a059-c4ea8cc3534e</td>\n      <td>raw</td>\n      <td>11561</td>\n      <td>cart</td>\n      <td>2020-01-06 22:10:42.309028</td>\n      <td>219483890.0</td>\n    </tr>\n    <tr>\n      <th>11563</th>\n      <td>48d9257e-db8c-4aba-9ed9-476a4db87ec2</td>\n      <td>raw</td>\n      <td>11563</td>\n      <td>catalog</td>\n      <td>2020-01-06 22:10:52.255859</td>\n      <td>219483890.0</td>\n    </tr>\n    <tr>\n      <th>11565</th>\n      <td>6e27a68b-ba43-45a9-9fd8-5416fd1ea6e9</td>\n      <td>raw</td>\n      <td>11565</td>\n      <td>product1</td>\n      <td>2020-01-06 22:11:01.709800</td>\n      <td>219483890.0</td>\n    </tr>\n    <tr>\n      <th>11567</th>\n      <td>e030472c-28f7-49f9-b511-ac1fb3fe88d5</td>\n      <td>raw</td>\n      <td>11567</td>\n      <td>catalog</td>\n      <td>2020-01-06 22:11:02.899490</td>\n      <td>219483890.0</td>\n    </tr>\n    <tr>\n      <th>11569</th>\n      <td>35d05237-622c-4d2b-86c6-8a745a699632</td>\n      <td>raw</td>\n      <td>11569</td>\n      <td>catalog</td>\n      <td>2020-01-06 22:11:28.271366</td>\n      <td>219483890.0</td>\n    </tr>\n    <tr>\n      <th>11571</th>\n      <td>9ba555b8-aea5-43b9-b2c7-2b0ff6be2a82</td>\n      <td>session_end</td>\n      <td>11571</td>\n      <td>session_end</td>\n      <td>2020-01-06 22:11:28.271366</td>\n      <td>219483890.0</td>\n    </tr>\n    <tr>\n      <th>21042</th>\n      <td>45387056-79d8-4841-bab1-2302a13afef2</td>\n      <td>session_start</td>\n      <td>21042</td>\n      <td>session_start</td>\n      <td>2020-02-14 21:04:49.450696</td>\n      <td>219483890.0</td>\n    </tr>\n    <tr>\n      <th>21043</th>\n      <td>c61f1284-7453-402b-8ea5-ab2b5b6c08e5</td>\n      <td>raw</td>\n      <td>21043</td>\n      <td>main</td>\n      <td>2020-02-14 21:04:49.450696</td>\n      <td>219483890.0</td>\n    </tr>\n    <tr>\n      <th>21045</th>\n      <td>06673b28-0541-4636-898a-230173efc81d</td>\n      <td>raw</td>\n      <td>21045</td>\n      <td>catalog</td>\n      <td>2020-02-14 21:04:51.717127</td>\n      <td>219483890.0</td>\n    </tr>\n    <tr>\n      <th>21047</th>\n      <td>49009998-d484-4f5a-9139-c9edcd96fbbc</td>\n      <td>raw</td>\n      <td>21047</td>\n      <td>lost</td>\n      <td>2020-02-14 21:04:52.717127</td>\n      <td>219483890.0</td>\n    </tr>\n    <tr>\n      <th>21049</th>\n      <td>c35d84e4-63c4-4b48-874d-ae9ba9eb00c5</td>\n      <td>session_end</td>\n      <td>21049</td>\n      <td>session_end</td>\n      <td>2020-02-14 21:04:52.717127</td>\n      <td>219483890.0</td>\n    </tr>\n  </tbody>\n</table>\n</div>"
     },
     "execution_count": 9,
     "metadata": {},
     "output_type": "execute_result"
    }
   ],
   "source": [
    "print(len(df10[df10['user_id'] == 219483890]))\n",
    "df10[df10['user_id'] == 219483890]"
   ],
   "metadata": {
    "collapsed": false,
    "pycharm": {
     "name": "#%%\n"
    }
   }
  },
  {
   "cell_type": "code",
   "execution_count": 48,
   "outputs": [
    {
     "name": "stdout",
     "output_type": "stream",
     "text": [
      "17\n"
     ]
    },
    {
     "data": {
      "text/plain": "                                  event_id event_type  event_index event_name  \\\n0     c877e23b-b6ce-4205-a406-48d254f10fcd        raw            0    catalog   \n1     2a4981b5-6743-4354-be5a-cb9ae05370a4        raw            1   product1   \n2     2b56b533-1551-4b91-8666-de51c42ebe77        raw            2       cart   \n3     43f3a11e-1a91-4e44-a800-64288fa37a60        raw            3    catalog   \n2245  eb33dd58-e204-49d2-831f-f1a0d168d643        raw         2245       main   \n2246  0d2e4b90-4d99-4fb0-bf23-00e5a34a1be1        raw         2246    catalog   \n2247  b5f75133-6ee4-4fe3-bb76-198cdcbabe71        raw         2247    catalog   \n4836  ad3ecc26-36f8-49dc-a45a-98de3929fd49        raw         4836       main   \n4837  0f96ff74-03fb-44ee-8eb9-9c9bf6c8ff7a        raw         4837    catalog   \n4838  529d938c-f07c-45d3-bf1b-ccd07ee19cf8        raw         4838       cart   \n4839  d8807cf2-d86f-45e9-965a-85f77cdac1f9        raw         4839    catalog   \n4840  224cd60c-8639-403e-8fe4-777b61a35f04        raw         4840   product1   \n4841  f2ce8c1d-ff43-4cff-bdc9-20bb3b5a740f        raw         4841    catalog   \n4842  c1650cc0-79ef-4768-98b2-c05a43b5cb16        raw         4842    catalog   \n8736  504537a4-8045-450b-a441-5fc1bfa8a0a7        raw         8736       main   \n8737  0ef33af0-4067-42c6-ada6-530c04fcec02        raw         8737    catalog   \n8738  c7f7c686-1df1-40fc-8f4d-0f46f8e7313c        raw         8738       lost   \n\n                event_timestamp    user_id  \n0    2019-11-01 17:59:13.273932  219483890  \n1    2019-11-01 17:59:28.459271  219483890  \n2    2019-11-01 17:59:29.502214  219483890  \n3    2019-11-01 17:59:32.557029  219483890  \n2245 2019-12-06 16:22:57.484842  219483890  \n2246 2019-12-06 16:23:01.331109  219483890  \n2247 2019-12-06 16:23:48.116617  219483890  \n4836 2020-01-06 22:10:13.635011  219483890  \n4837 2020-01-06 22:10:15.228575  219483890  \n4838 2020-01-06 22:10:42.309028  219483890  \n4839 2020-01-06 22:10:52.255859  219483890  \n4840 2020-01-06 22:11:01.709800  219483890  \n4841 2020-01-06 22:11:02.899490  219483890  \n4842 2020-01-06 22:11:28.271366  219483890  \n8736 2020-02-14 21:04:49.450696  219483890  \n8737 2020-02-14 21:04:51.717127  219483890  \n8738 2020-02-14 21:04:52.717127  219483890  ",
      "text/html": "<div>\n<style scoped>\n    .dataframe tbody tr th:only-of-type {\n        vertical-align: middle;\n    }\n\n    .dataframe tbody tr th {\n        vertical-align: top;\n    }\n\n    .dataframe thead th {\n        text-align: right;\n    }\n</style>\n<table border=\"1\" class=\"dataframe\">\n  <thead>\n    <tr style=\"text-align: right;\">\n      <th></th>\n      <th>event_id</th>\n      <th>event_type</th>\n      <th>event_index</th>\n      <th>event_name</th>\n      <th>event_timestamp</th>\n      <th>user_id</th>\n    </tr>\n  </thead>\n  <tbody>\n    <tr>\n      <th>0</th>\n      <td>c877e23b-b6ce-4205-a406-48d254f10fcd</td>\n      <td>raw</td>\n      <td>0</td>\n      <td>catalog</td>\n      <td>2019-11-01 17:59:13.273932</td>\n      <td>219483890</td>\n    </tr>\n    <tr>\n      <th>1</th>\n      <td>2a4981b5-6743-4354-be5a-cb9ae05370a4</td>\n      <td>raw</td>\n      <td>1</td>\n      <td>product1</td>\n      <td>2019-11-01 17:59:28.459271</td>\n      <td>219483890</td>\n    </tr>\n    <tr>\n      <th>2</th>\n      <td>2b56b533-1551-4b91-8666-de51c42ebe77</td>\n      <td>raw</td>\n      <td>2</td>\n      <td>cart</td>\n      <td>2019-11-01 17:59:29.502214</td>\n      <td>219483890</td>\n    </tr>\n    <tr>\n      <th>3</th>\n      <td>43f3a11e-1a91-4e44-a800-64288fa37a60</td>\n      <td>raw</td>\n      <td>3</td>\n      <td>catalog</td>\n      <td>2019-11-01 17:59:32.557029</td>\n      <td>219483890</td>\n    </tr>\n    <tr>\n      <th>2245</th>\n      <td>eb33dd58-e204-49d2-831f-f1a0d168d643</td>\n      <td>raw</td>\n      <td>2245</td>\n      <td>main</td>\n      <td>2019-12-06 16:22:57.484842</td>\n      <td>219483890</td>\n    </tr>\n    <tr>\n      <th>2246</th>\n      <td>0d2e4b90-4d99-4fb0-bf23-00e5a34a1be1</td>\n      <td>raw</td>\n      <td>2246</td>\n      <td>catalog</td>\n      <td>2019-12-06 16:23:01.331109</td>\n      <td>219483890</td>\n    </tr>\n    <tr>\n      <th>2247</th>\n      <td>b5f75133-6ee4-4fe3-bb76-198cdcbabe71</td>\n      <td>raw</td>\n      <td>2247</td>\n      <td>catalog</td>\n      <td>2019-12-06 16:23:48.116617</td>\n      <td>219483890</td>\n    </tr>\n    <tr>\n      <th>4836</th>\n      <td>ad3ecc26-36f8-49dc-a45a-98de3929fd49</td>\n      <td>raw</td>\n      <td>4836</td>\n      <td>main</td>\n      <td>2020-01-06 22:10:13.635011</td>\n      <td>219483890</td>\n    </tr>\n    <tr>\n      <th>4837</th>\n      <td>0f96ff74-03fb-44ee-8eb9-9c9bf6c8ff7a</td>\n      <td>raw</td>\n      <td>4837</td>\n      <td>catalog</td>\n      <td>2020-01-06 22:10:15.228575</td>\n      <td>219483890</td>\n    </tr>\n    <tr>\n      <th>4838</th>\n      <td>529d938c-f07c-45d3-bf1b-ccd07ee19cf8</td>\n      <td>raw</td>\n      <td>4838</td>\n      <td>cart</td>\n      <td>2020-01-06 22:10:42.309028</td>\n      <td>219483890</td>\n    </tr>\n    <tr>\n      <th>4839</th>\n      <td>d8807cf2-d86f-45e9-965a-85f77cdac1f9</td>\n      <td>raw</td>\n      <td>4839</td>\n      <td>catalog</td>\n      <td>2020-01-06 22:10:52.255859</td>\n      <td>219483890</td>\n    </tr>\n    <tr>\n      <th>4840</th>\n      <td>224cd60c-8639-403e-8fe4-777b61a35f04</td>\n      <td>raw</td>\n      <td>4840</td>\n      <td>product1</td>\n      <td>2020-01-06 22:11:01.709800</td>\n      <td>219483890</td>\n    </tr>\n    <tr>\n      <th>4841</th>\n      <td>f2ce8c1d-ff43-4cff-bdc9-20bb3b5a740f</td>\n      <td>raw</td>\n      <td>4841</td>\n      <td>catalog</td>\n      <td>2020-01-06 22:11:02.899490</td>\n      <td>219483890</td>\n    </tr>\n    <tr>\n      <th>4842</th>\n      <td>c1650cc0-79ef-4768-98b2-c05a43b5cb16</td>\n      <td>raw</td>\n      <td>4842</td>\n      <td>catalog</td>\n      <td>2020-01-06 22:11:28.271366</td>\n      <td>219483890</td>\n    </tr>\n    <tr>\n      <th>8736</th>\n      <td>504537a4-8045-450b-a441-5fc1bfa8a0a7</td>\n      <td>raw</td>\n      <td>8736</td>\n      <td>main</td>\n      <td>2020-02-14 21:04:49.450696</td>\n      <td>219483890</td>\n    </tr>\n    <tr>\n      <th>8737</th>\n      <td>0ef33af0-4067-42c6-ada6-530c04fcec02</td>\n      <td>raw</td>\n      <td>8737</td>\n      <td>catalog</td>\n      <td>2020-02-14 21:04:51.717127</td>\n      <td>219483890</td>\n    </tr>\n    <tr>\n      <th>8738</th>\n      <td>c7f7c686-1df1-40fc-8f4d-0f46f8e7313c</td>\n      <td>raw</td>\n      <td>8738</td>\n      <td>lost</td>\n      <td>2020-02-14 21:04:52.717127</td>\n      <td>219483890</td>\n    </tr>\n  </tbody>\n</table>\n</div>"
     },
     "execution_count": 48,
     "metadata": {},
     "output_type": "execute_result"
    }
   ],
   "source": [
    "print(len(source_df[source_df['user_id'] == 219483890]))\n",
    "source_df[source_df['user_id'] == 219483890]"
   ],
   "metadata": {
    "collapsed": false,
    "pycharm": {
     "name": "#%%\n"
    }
   }
  },
  {
   "cell_type": "code",
   "execution_count": 49,
   "outputs": [
    {
     "data": {
      "text/plain": "                                   event_id event_type  event_index  \\\n0      c877e23b-b6ce-4205-a406-48d254f10fcd        raw            0   \n1      2a4981b5-6743-4354-be5a-cb9ae05370a4        raw            1   \n2      2b56b533-1551-4b91-8666-de51c42ebe77        raw            2   \n3      43f3a11e-1a91-4e44-a800-64288fa37a60        raw            3   \n4      8d8f00c5-3014-4a3d-8ab2-bc46554fc783        raw            4   \n...                                     ...        ...          ...   \n35376  7d75ea22-bc84-4fed-9828-983679c94492        raw        35376   \n35377  5e0ab82f-0065-4f62-9f24-f2687b1a2eda        raw        35377   \n35378  bad842c4-00af-49d0-8ce1-26cb0be9a57d        raw        35378   \n35379  01c0b81e-c98e-4369-9482-561ad97120af        raw        35379   \n35380  1d50dbee-77f3-4f96-9845-c0aef06374f3        raw        35380   \n\n      event_name            event_timestamp    user_id  \n0        catalog 2019-11-01 17:59:13.273932  219483890  \n1       product1 2019-11-01 17:59:28.459271  219483890  \n2           cart 2019-11-01 17:59:29.502214  219483890  \n3        catalog 2019-11-01 17:59:32.557029  219483890  \n4        catalog 2019-11-01 21:38:19.283663  964964743  \n...          ...                        ...        ...  \n35376    catalog 2020-04-29 12:47:40.975732  501098384  \n35377    catalog 2020-04-29 12:48:01.809577  501098384  \n35378       main 2020-04-29 12:48:01.938488  501098384  \n35379    catalog 2020-04-29 12:48:06.595390  501098384  \n35380       lost 2020-04-29 12:48:07.595390  501098384  \n\n[35381 rows x 6 columns]",
      "text/html": "<div>\n<style scoped>\n    .dataframe tbody tr th:only-of-type {\n        vertical-align: middle;\n    }\n\n    .dataframe tbody tr th {\n        vertical-align: top;\n    }\n\n    .dataframe thead th {\n        text-align: right;\n    }\n</style>\n<table border=\"1\" class=\"dataframe\">\n  <thead>\n    <tr style=\"text-align: right;\">\n      <th></th>\n      <th>event_id</th>\n      <th>event_type</th>\n      <th>event_index</th>\n      <th>event_name</th>\n      <th>event_timestamp</th>\n      <th>user_id</th>\n    </tr>\n  </thead>\n  <tbody>\n    <tr>\n      <th>0</th>\n      <td>c877e23b-b6ce-4205-a406-48d254f10fcd</td>\n      <td>raw</td>\n      <td>0</td>\n      <td>catalog</td>\n      <td>2019-11-01 17:59:13.273932</td>\n      <td>219483890</td>\n    </tr>\n    <tr>\n      <th>1</th>\n      <td>2a4981b5-6743-4354-be5a-cb9ae05370a4</td>\n      <td>raw</td>\n      <td>1</td>\n      <td>product1</td>\n      <td>2019-11-01 17:59:28.459271</td>\n      <td>219483890</td>\n    </tr>\n    <tr>\n      <th>2</th>\n      <td>2b56b533-1551-4b91-8666-de51c42ebe77</td>\n      <td>raw</td>\n      <td>2</td>\n      <td>cart</td>\n      <td>2019-11-01 17:59:29.502214</td>\n      <td>219483890</td>\n    </tr>\n    <tr>\n      <th>3</th>\n      <td>43f3a11e-1a91-4e44-a800-64288fa37a60</td>\n      <td>raw</td>\n      <td>3</td>\n      <td>catalog</td>\n      <td>2019-11-01 17:59:32.557029</td>\n      <td>219483890</td>\n    </tr>\n    <tr>\n      <th>4</th>\n      <td>8d8f00c5-3014-4a3d-8ab2-bc46554fc783</td>\n      <td>raw</td>\n      <td>4</td>\n      <td>catalog</td>\n      <td>2019-11-01 21:38:19.283663</td>\n      <td>964964743</td>\n    </tr>\n    <tr>\n      <th>...</th>\n      <td>...</td>\n      <td>...</td>\n      <td>...</td>\n      <td>...</td>\n      <td>...</td>\n      <td>...</td>\n    </tr>\n    <tr>\n      <th>35376</th>\n      <td>7d75ea22-bc84-4fed-9828-983679c94492</td>\n      <td>raw</td>\n      <td>35376</td>\n      <td>catalog</td>\n      <td>2020-04-29 12:47:40.975732</td>\n      <td>501098384</td>\n    </tr>\n    <tr>\n      <th>35377</th>\n      <td>5e0ab82f-0065-4f62-9f24-f2687b1a2eda</td>\n      <td>raw</td>\n      <td>35377</td>\n      <td>catalog</td>\n      <td>2020-04-29 12:48:01.809577</td>\n      <td>501098384</td>\n    </tr>\n    <tr>\n      <th>35378</th>\n      <td>bad842c4-00af-49d0-8ce1-26cb0be9a57d</td>\n      <td>raw</td>\n      <td>35378</td>\n      <td>main</td>\n      <td>2020-04-29 12:48:01.938488</td>\n      <td>501098384</td>\n    </tr>\n    <tr>\n      <th>35379</th>\n      <td>01c0b81e-c98e-4369-9482-561ad97120af</td>\n      <td>raw</td>\n      <td>35379</td>\n      <td>catalog</td>\n      <td>2020-04-29 12:48:06.595390</td>\n      <td>501098384</td>\n    </tr>\n    <tr>\n      <th>35380</th>\n      <td>1d50dbee-77f3-4f96-9845-c0aef06374f3</td>\n      <td>raw</td>\n      <td>35380</td>\n      <td>lost</td>\n      <td>2020-04-29 12:48:07.595390</td>\n      <td>501098384</td>\n    </tr>\n  </tbody>\n</table>\n<p>35381 rows × 6 columns</p>\n</div>"
     },
     "execution_count": 49,
     "metadata": {},
     "output_type": "execute_result"
    }
   ],
   "source": [
    "source.to_dataframe()"
   ],
   "metadata": {
    "collapsed": false,
    "pycharm": {
     "name": "#%%\n"
    }
   }
  },
  {
   "cell_type": "markdown",
   "source": [
    "## Результат"
   ],
   "metadata": {
    "collapsed": false,
    "pycharm": {
     "name": "#%% md\n"
    }
   }
  },
  {
   "cell_type": "markdown",
   "source": [
    "1) [DONE] Дубликаты\n",
    "2) [DONE] Некорректно работает параметр \"Mark_truncated\" - должны удалиться все события, кроме Start и end_session для сессий обрезанных сначала и end и start_session для сессий обрезанных в конце\n",
    "3) [DONE] Не добавляется колонка session_id\n",
    "4) [TODO_analytics] более точно проверить разбивку на сессии\n",
    "5) [TODO] Ворнинги\n",
    "6) [TODO] Протестить при последовательном добавлении\n",
    "7) [DONE] неправильная работа soft_delete и создание ивентстрима (при копировании не пробрасываются старые айдишники у ивентов, а создаются новые, поэтому невозможно применить soft_delete к новому eventstream)\n",
    "8) [TODO_analytics] Продумать - нужен ли параметр - какие типы событий удалять?\n",
    "9) [TODO_analytics] Нужны ли свои отсечки для прометки truncated?\n",
    "10) [TODO] Обсудить - как добавляется новая колонка\n"
   ],
   "metadata": {
    "collapsed": false,
    "pycharm": {
     "name": "#%% md\n"
    }
   }
  },
  {
   "cell_type": "markdown",
   "source": [
    "# CutPathBefore"
   ],
   "metadata": {
    "collapsed": false,
    "pycharm": {
     "name": "#%% md\n"
    }
   }
  },
  {
   "cell_type": "markdown",
   "source": [
    "### Описание работы функции"
   ],
   "metadata": {
    "collapsed": false,
    "pycharm": {
     "name": "#%% md\n"
    }
   }
  },
  {
   "cell_type": "markdown",
   "source": [
    "Обрезает eventstream сразу после одного из событий, указанных в списке cutoff_events (первого в траектории). Остается часть траектории, после первого найденного события из списка включительно.\n",
    "\n",
    "Параметры:\n",
    "```cut_shift``` - смещение относительно обозначенного в сторону сокращения  (вправо)\n",
    "```min_cjm``` - минимальное кол-во событий в траектории, которые надо оставить, если в траектории меньшее количество событий, то они будут удалены\n"
   ],
   "metadata": {
    "collapsed": false,
    "pycharm": {
     "name": "#%% md\n"
    }
   }
  },
  {
   "cell_type": "markdown",
   "source": [
    "### 1 событие"
   ],
   "metadata": {
    "collapsed": false,
    "pycharm": {
     "name": "#%% md\n"
    }
   }
  },
  {
   "cell_type": "code",
   "execution_count": 50,
   "outputs": [
    {
     "name": "stderr",
     "output_type": "stream",
     "text": [
      "/Users/Daria/Dev/Retentioneering/retentioneering-tools-new-arch/examples/../src/data_processors_lib/rete/cut_path_before_event.py:50: SettingWithCopyWarning: \n",
      "A value is trying to be set on a copy of a slice from a DataFrame.\n",
      "Try using .loc[row_indexer,col_indexer] = value instead\n",
      "\n",
      "See the caveats in the documentation: https://pandas.pydata.org/pandas-docs/stable/user_guide/indexing.html#returning-a-view-versus-a-copy\n",
      "  df_cut[\"num_groups\"] = df_cut.groupby([user_col])[time_col].transform(\n",
      "/Users/Daria/Dev/Retentioneering/retentioneering-tools-new-arch/examples/../src/data_processors_lib/rete/cut_path_before_event.py:67: SettingWithCopyWarning: \n",
      "A value is trying to be set on a copy of a slice from a DataFrame.\n",
      "Try using .loc[row_indexer,col_indexer] = value instead\n",
      "\n",
      "See the caveats in the documentation: https://pandas.pydata.org/pandas-docs/stable/user_guide/indexing.html#returning-a-view-versus-a-copy\n",
      "  df_to_del[\"ref\"] = df_to_del[eventstream.schema.event_id]\n"
     ]
    }
   ],
   "source": [
    "from src.data_processors_lib.rete import CutPathBeforeEvent, CutPathBeforeEventParams\n",
    "params = {\n",
    "    'cutoff_events': ['product2'],\n",
    "    'cut_shift': 0,\n",
    "    'min_cjm': 0\n",
    "}\n",
    "\n",
    "cut_before = EventsNode(\n",
    "    CutPathBeforeEvent(params=CutPathBeforeEventParams(**params)))\n",
    "\n",
    "graph.add_node(\n",
    "    node=cut_before,\n",
    "    parents=[graph.root]\n",
    ")\n",
    "\n",
    "result = graph.combine(\n",
    "    node=cut_before\n",
    ")\n"
   ],
   "metadata": {
    "collapsed": false,
    "pycharm": {
     "name": "#%%\n"
    }
   }
  },
  {
   "cell_type": "code",
   "execution_count": 51,
   "outputs": [
    {
     "name": "stdout",
     "output_type": "stream",
     "text": [
      "0\n"
     ]
    },
    {
     "data": {
      "text/plain": "0"
     },
     "execution_count": 51,
     "metadata": {},
     "output_type": "execute_result"
    }
   ],
   "source": [
    "df91 = result.to_dataframe()\n",
    "print(source_df.duplicated(['event_name', 'event_timestamp', 'user_id']).sum())\n",
    "df91.duplicated(['event_name', 'event_timestamp', 'user_id']).sum()"
   ],
   "metadata": {
    "collapsed": false,
    "pycharm": {
     "name": "#%%\n"
    }
   }
  },
  {
   "cell_type": "code",
   "execution_count": 52,
   "outputs": [
    {
     "data": {
      "text/plain": "raw    14669\nName: event_type, dtype: int64"
     },
     "execution_count": 52,
     "metadata": {},
     "output_type": "execute_result"
    }
   ],
   "source": [
    "df91['event_type'].value_counts()"
   ],
   "metadata": {
    "collapsed": false,
    "pycharm": {
     "name": "#%%\n"
    }
   }
  },
  {
   "cell_type": "code",
   "execution_count": 53,
   "outputs": [
    {
     "data": {
      "text/plain": "raw    35381\nName: event_type, dtype: int64"
     },
     "execution_count": 53,
     "metadata": {},
     "output_type": "execute_result"
    }
   ],
   "source": [
    "source_df['event_type'].value_counts()"
   ],
   "metadata": {
    "collapsed": false,
    "pycharm": {
     "name": "#%%\n"
    }
   }
  },
  {
   "cell_type": "code",
   "execution_count": 54,
   "outputs": [
    {
     "data": {
      "text/plain": "1430"
     },
     "execution_count": 54,
     "metadata": {},
     "output_type": "execute_result"
    }
   ],
   "source": [
    "source_df[source_df['event_name'] == 'product2']['user_id'].nunique()"
   ],
   "metadata": {
    "collapsed": false,
    "pycharm": {
     "name": "#%%\n"
    }
   }
  },
  {
   "cell_type": "code",
   "execution_count": null,
   "outputs": [],
   "source": [
    "check_id = 629881394\n",
    "# product2 встречается дважды\n",
    "print('Старая длина траектории - ', len(source_df[source_df['user_id'] == check_id]))\n",
    "print('Новая длина траектории - ', len(df91[df91['user_id'] == check_id]))\n",
    "\n",
    "event_time = source_df[(source_df['user_id'] == check_id) & \\\n",
    "    (source_df['event_name'] == 'product2')]['event_timestamp'].min()"
   ],
   "metadata": {
    "collapsed": false,
    "pycharm": {
     "name": "#%%\n"
    }
   }
  },
  {
   "cell_type": "code",
   "execution_count": 56,
   "outputs": [
    {
     "data": {
      "text/plain": "                                   event_id event_type  event_index  \\\n44     5acb3cba-b641-43dc-9422-72cecbc435e4        raw           44   \n45     4ae55fdc-beb3-42de-834f-1e958153d510        raw           45   \n46     f65ac25a-ae05-4294-aab1-6c57bf7cd4f8        raw           46   \n47     43cdf470-32ae-4108-ab22-1942497fe773        raw           47   \n50     f822d087-d4af-4572-bff8-66b49f70f8b3        raw           50   \n53     3f050d42-2416-4ddc-baac-cc4c4a28aa87        raw           53   \n55     e11b1664-d137-449d-8910-a642167834f2        raw           55   \n57     b143afc9-c6e9-42a6-afcc-dfe4e82e803e        raw           57   \n60     12224283-faa9-410e-9da0-4ed25f431c43        raw           60   \n62     91a769a8-9bde-4b98-8312-b753410b48fa        raw           62   \n63     d2a1e54e-0780-4678-ae3c-6251110c1b53        raw           63   \n66     7b38c485-989b-4bda-ac14-378ee0150421        raw           66   \n68     7eb22cd4-2007-492a-8ddc-c9a123c2544d        raw           68   \n69     0a076f3a-8e35-476e-a446-32c329d3c2f5        raw           69   \n535    42354a37-f429-4770-82ab-8c370f5b2115        raw          535   \n537    2cab4a65-dc9b-4bf2-8206-2e8ea1ac61be        raw          537   \n540    bfe1a52f-1ae0-4a3c-84fd-586c0c9a3067        raw          540   \n2236   56a8d15b-3cd8-4a07-8e98-53a255ec569d        raw         2236   \n2237   197334b3-7b3c-4f4b-9ac9-ec7c61fb6f2f        raw         2237   \n2238   644ca5c4-9f43-4ce2-86de-f449738cf93a        raw         2238   \n9999   3c0ea358-b2d7-4113-b65a-c1e34319676b        raw         9999   \n10000  5de8841f-472b-468d-a561-04d918424923        raw        10000   \n16570  f2af8036-5bdd-4dda-8208-8fc1d18bb985        raw        16570   \n16571  eb5471ed-2f02-427e-bfe4-3934b98fe3b8        raw        16571   \n16572  d2852ca3-585a-4972-8aa7-ef50e07ede02        raw        16572   \n17722  b1d64df6-7cff-4f7a-8d4d-a2c16a412e40        raw        17722   \n17723  ae14eacf-bac9-40c8-9bf4-45655343f29c        raw        17723   \n21231  ccd780bc-7067-4724-890f-179fa4c1a0c4        raw        21231   \n21232  ffe86993-194c-4bb2-b111-122009b90626        raw        21232   \n22027  a924e670-416b-493c-8e1a-e5957e7a2545        raw        22027   \n22072  6b0eef49-ce43-45bb-a291-d29e2e38c3ad        raw        22072   \n22073  dcda9ac9-c933-4d70-a3e0-d04eaaf6814c        raw        22073   \n22074  55ce0ff8-8790-4e2f-a0fe-ad99b558fb9c        raw        22074   \n22075  b8eb4223-905e-4358-a1a5-41860d380d62        raw        22075   \n22076  359134c5-559d-4f28-be34-af3420e5caeb        raw        22076   \n22077  a8d0af4f-28d2-4f9a-903f-fda51c854026        raw        22077   \n\n             event_name            event_timestamp      user_id  \n44             product2 2019-11-01 22:32:16.496241  629881394.0  \n45              catalog 2019-11-01 22:33:17.682468  629881394.0  \n46             product1 2019-11-01 22:33:19.961115  629881394.0  \n47              catalog 2019-11-01 22:33:35.460345  629881394.0  \n50              catalog 2019-11-01 22:34:02.301293  629881394.0  \n53             product2 2019-11-01 22:34:32.362386  629881394.0  \n55              catalog 2019-11-01 22:35:01.462515  629881394.0  \n57             product2 2019-11-01 22:35:33.142711  629881394.0  \n60                 cart 2019-11-01 22:35:50.437706  629881394.0  \n62      delivery_choice 2019-11-01 22:35:57.649549  629881394.0  \n63     delivery_courier 2019-11-01 22:36:02.009271  629881394.0  \n66       payment_choice 2019-11-01 22:36:02.243274  629881394.0  \n68         payment_cash 2019-11-01 22:36:03.415201  629881394.0  \n69         payment_done 2019-11-01 22:36:03.999697  629881394.0  \n535                main 2019-11-07 12:40:46.004674  629881394.0  \n537             catalog 2019-11-07 12:40:55.724185  629881394.0  \n540                cart 2019-11-07 12:41:04.107187  629881394.0  \n2236               main 2019-11-25 23:16:56.317624  629881394.0  \n2237            catalog 2019-11-25 23:17:16.266242  629881394.0  \n2238            catalog 2019-11-25 23:17:48.747304  629881394.0  \n9999               main 2020-01-23 18:56:23.445236  629881394.0  \n10000           catalog 2020-01-23 18:56:30.461624  629881394.0  \n16570              main 2020-03-01 23:23:43.392597  629881394.0  \n16571           catalog 2020-03-01 23:23:44.755693  629881394.0  \n16572              main 2020-03-01 23:23:51.625991  629881394.0  \n17722              main 2020-03-07 12:05:23.938242  629881394.0  \n17723           catalog 2020-03-07 12:05:32.476046  629881394.0  \n21231              main 2020-03-26 13:00:47.844886  629881394.0  \n21232           catalog 2020-03-26 13:00:49.531644  629881394.0  \n22027              main 2020-03-30 00:11:47.920536  629881394.0  \n22072              main 2020-03-30 03:17:46.909845  629881394.0  \n22073           catalog 2020-03-30 03:17:49.918774  629881394.0  \n22074           catalog 2020-03-30 03:18:17.835191  629881394.0  \n22075           catalog 2020-03-30 03:18:53.715887  629881394.0  \n22076           catalog 2020-03-30 03:19:36.034262  629881394.0  \n22077           catalog 2020-03-30 03:19:59.515094  629881394.0  ",
      "text/html": "<div>\n<style scoped>\n    .dataframe tbody tr th:only-of-type {\n        vertical-align: middle;\n    }\n\n    .dataframe tbody tr th {\n        vertical-align: top;\n    }\n\n    .dataframe thead th {\n        text-align: right;\n    }\n</style>\n<table border=\"1\" class=\"dataframe\">\n  <thead>\n    <tr style=\"text-align: right;\">\n      <th></th>\n      <th>event_id</th>\n      <th>event_type</th>\n      <th>event_index</th>\n      <th>event_name</th>\n      <th>event_timestamp</th>\n      <th>user_id</th>\n    </tr>\n  </thead>\n  <tbody>\n    <tr>\n      <th>44</th>\n      <td>5acb3cba-b641-43dc-9422-72cecbc435e4</td>\n      <td>raw</td>\n      <td>44</td>\n      <td>product2</td>\n      <td>2019-11-01 22:32:16.496241</td>\n      <td>629881394.0</td>\n    </tr>\n    <tr>\n      <th>45</th>\n      <td>4ae55fdc-beb3-42de-834f-1e958153d510</td>\n      <td>raw</td>\n      <td>45</td>\n      <td>catalog</td>\n      <td>2019-11-01 22:33:17.682468</td>\n      <td>629881394.0</td>\n    </tr>\n    <tr>\n      <th>46</th>\n      <td>f65ac25a-ae05-4294-aab1-6c57bf7cd4f8</td>\n      <td>raw</td>\n      <td>46</td>\n      <td>product1</td>\n      <td>2019-11-01 22:33:19.961115</td>\n      <td>629881394.0</td>\n    </tr>\n    <tr>\n      <th>47</th>\n      <td>43cdf470-32ae-4108-ab22-1942497fe773</td>\n      <td>raw</td>\n      <td>47</td>\n      <td>catalog</td>\n      <td>2019-11-01 22:33:35.460345</td>\n      <td>629881394.0</td>\n    </tr>\n    <tr>\n      <th>50</th>\n      <td>f822d087-d4af-4572-bff8-66b49f70f8b3</td>\n      <td>raw</td>\n      <td>50</td>\n      <td>catalog</td>\n      <td>2019-11-01 22:34:02.301293</td>\n      <td>629881394.0</td>\n    </tr>\n    <tr>\n      <th>53</th>\n      <td>3f050d42-2416-4ddc-baac-cc4c4a28aa87</td>\n      <td>raw</td>\n      <td>53</td>\n      <td>product2</td>\n      <td>2019-11-01 22:34:32.362386</td>\n      <td>629881394.0</td>\n    </tr>\n    <tr>\n      <th>55</th>\n      <td>e11b1664-d137-449d-8910-a642167834f2</td>\n      <td>raw</td>\n      <td>55</td>\n      <td>catalog</td>\n      <td>2019-11-01 22:35:01.462515</td>\n      <td>629881394.0</td>\n    </tr>\n    <tr>\n      <th>57</th>\n      <td>b143afc9-c6e9-42a6-afcc-dfe4e82e803e</td>\n      <td>raw</td>\n      <td>57</td>\n      <td>product2</td>\n      <td>2019-11-01 22:35:33.142711</td>\n      <td>629881394.0</td>\n    </tr>\n    <tr>\n      <th>60</th>\n      <td>12224283-faa9-410e-9da0-4ed25f431c43</td>\n      <td>raw</td>\n      <td>60</td>\n      <td>cart</td>\n      <td>2019-11-01 22:35:50.437706</td>\n      <td>629881394.0</td>\n    </tr>\n    <tr>\n      <th>62</th>\n      <td>91a769a8-9bde-4b98-8312-b753410b48fa</td>\n      <td>raw</td>\n      <td>62</td>\n      <td>delivery_choice</td>\n      <td>2019-11-01 22:35:57.649549</td>\n      <td>629881394.0</td>\n    </tr>\n    <tr>\n      <th>63</th>\n      <td>d2a1e54e-0780-4678-ae3c-6251110c1b53</td>\n      <td>raw</td>\n      <td>63</td>\n      <td>delivery_courier</td>\n      <td>2019-11-01 22:36:02.009271</td>\n      <td>629881394.0</td>\n    </tr>\n    <tr>\n      <th>66</th>\n      <td>7b38c485-989b-4bda-ac14-378ee0150421</td>\n      <td>raw</td>\n      <td>66</td>\n      <td>payment_choice</td>\n      <td>2019-11-01 22:36:02.243274</td>\n      <td>629881394.0</td>\n    </tr>\n    <tr>\n      <th>68</th>\n      <td>7eb22cd4-2007-492a-8ddc-c9a123c2544d</td>\n      <td>raw</td>\n      <td>68</td>\n      <td>payment_cash</td>\n      <td>2019-11-01 22:36:03.415201</td>\n      <td>629881394.0</td>\n    </tr>\n    <tr>\n      <th>69</th>\n      <td>0a076f3a-8e35-476e-a446-32c329d3c2f5</td>\n      <td>raw</td>\n      <td>69</td>\n      <td>payment_done</td>\n      <td>2019-11-01 22:36:03.999697</td>\n      <td>629881394.0</td>\n    </tr>\n    <tr>\n      <th>535</th>\n      <td>42354a37-f429-4770-82ab-8c370f5b2115</td>\n      <td>raw</td>\n      <td>535</td>\n      <td>main</td>\n      <td>2019-11-07 12:40:46.004674</td>\n      <td>629881394.0</td>\n    </tr>\n    <tr>\n      <th>537</th>\n      <td>2cab4a65-dc9b-4bf2-8206-2e8ea1ac61be</td>\n      <td>raw</td>\n      <td>537</td>\n      <td>catalog</td>\n      <td>2019-11-07 12:40:55.724185</td>\n      <td>629881394.0</td>\n    </tr>\n    <tr>\n      <th>540</th>\n      <td>bfe1a52f-1ae0-4a3c-84fd-586c0c9a3067</td>\n      <td>raw</td>\n      <td>540</td>\n      <td>cart</td>\n      <td>2019-11-07 12:41:04.107187</td>\n      <td>629881394.0</td>\n    </tr>\n    <tr>\n      <th>2236</th>\n      <td>56a8d15b-3cd8-4a07-8e98-53a255ec569d</td>\n      <td>raw</td>\n      <td>2236</td>\n      <td>main</td>\n      <td>2019-11-25 23:16:56.317624</td>\n      <td>629881394.0</td>\n    </tr>\n    <tr>\n      <th>2237</th>\n      <td>197334b3-7b3c-4f4b-9ac9-ec7c61fb6f2f</td>\n      <td>raw</td>\n      <td>2237</td>\n      <td>catalog</td>\n      <td>2019-11-25 23:17:16.266242</td>\n      <td>629881394.0</td>\n    </tr>\n    <tr>\n      <th>2238</th>\n      <td>644ca5c4-9f43-4ce2-86de-f449738cf93a</td>\n      <td>raw</td>\n      <td>2238</td>\n      <td>catalog</td>\n      <td>2019-11-25 23:17:48.747304</td>\n      <td>629881394.0</td>\n    </tr>\n    <tr>\n      <th>9999</th>\n      <td>3c0ea358-b2d7-4113-b65a-c1e34319676b</td>\n      <td>raw</td>\n      <td>9999</td>\n      <td>main</td>\n      <td>2020-01-23 18:56:23.445236</td>\n      <td>629881394.0</td>\n    </tr>\n    <tr>\n      <th>10000</th>\n      <td>5de8841f-472b-468d-a561-04d918424923</td>\n      <td>raw</td>\n      <td>10000</td>\n      <td>catalog</td>\n      <td>2020-01-23 18:56:30.461624</td>\n      <td>629881394.0</td>\n    </tr>\n    <tr>\n      <th>16570</th>\n      <td>f2af8036-5bdd-4dda-8208-8fc1d18bb985</td>\n      <td>raw</td>\n      <td>16570</td>\n      <td>main</td>\n      <td>2020-03-01 23:23:43.392597</td>\n      <td>629881394.0</td>\n    </tr>\n    <tr>\n      <th>16571</th>\n      <td>eb5471ed-2f02-427e-bfe4-3934b98fe3b8</td>\n      <td>raw</td>\n      <td>16571</td>\n      <td>catalog</td>\n      <td>2020-03-01 23:23:44.755693</td>\n      <td>629881394.0</td>\n    </tr>\n    <tr>\n      <th>16572</th>\n      <td>d2852ca3-585a-4972-8aa7-ef50e07ede02</td>\n      <td>raw</td>\n      <td>16572</td>\n      <td>main</td>\n      <td>2020-03-01 23:23:51.625991</td>\n      <td>629881394.0</td>\n    </tr>\n    <tr>\n      <th>17722</th>\n      <td>b1d64df6-7cff-4f7a-8d4d-a2c16a412e40</td>\n      <td>raw</td>\n      <td>17722</td>\n      <td>main</td>\n      <td>2020-03-07 12:05:23.938242</td>\n      <td>629881394.0</td>\n    </tr>\n    <tr>\n      <th>17723</th>\n      <td>ae14eacf-bac9-40c8-9bf4-45655343f29c</td>\n      <td>raw</td>\n      <td>17723</td>\n      <td>catalog</td>\n      <td>2020-03-07 12:05:32.476046</td>\n      <td>629881394.0</td>\n    </tr>\n    <tr>\n      <th>21231</th>\n      <td>ccd780bc-7067-4724-890f-179fa4c1a0c4</td>\n      <td>raw</td>\n      <td>21231</td>\n      <td>main</td>\n      <td>2020-03-26 13:00:47.844886</td>\n      <td>629881394.0</td>\n    </tr>\n    <tr>\n      <th>21232</th>\n      <td>ffe86993-194c-4bb2-b111-122009b90626</td>\n      <td>raw</td>\n      <td>21232</td>\n      <td>catalog</td>\n      <td>2020-03-26 13:00:49.531644</td>\n      <td>629881394.0</td>\n    </tr>\n    <tr>\n      <th>22027</th>\n      <td>a924e670-416b-493c-8e1a-e5957e7a2545</td>\n      <td>raw</td>\n      <td>22027</td>\n      <td>main</td>\n      <td>2020-03-30 00:11:47.920536</td>\n      <td>629881394.0</td>\n    </tr>\n    <tr>\n      <th>22072</th>\n      <td>6b0eef49-ce43-45bb-a291-d29e2e38c3ad</td>\n      <td>raw</td>\n      <td>22072</td>\n      <td>main</td>\n      <td>2020-03-30 03:17:46.909845</td>\n      <td>629881394.0</td>\n    </tr>\n    <tr>\n      <th>22073</th>\n      <td>dcda9ac9-c933-4d70-a3e0-d04eaaf6814c</td>\n      <td>raw</td>\n      <td>22073</td>\n      <td>catalog</td>\n      <td>2020-03-30 03:17:49.918774</td>\n      <td>629881394.0</td>\n    </tr>\n    <tr>\n      <th>22074</th>\n      <td>55ce0ff8-8790-4e2f-a0fe-ad99b558fb9c</td>\n      <td>raw</td>\n      <td>22074</td>\n      <td>catalog</td>\n      <td>2020-03-30 03:18:17.835191</td>\n      <td>629881394.0</td>\n    </tr>\n    <tr>\n      <th>22075</th>\n      <td>b8eb4223-905e-4358-a1a5-41860d380d62</td>\n      <td>raw</td>\n      <td>22075</td>\n      <td>catalog</td>\n      <td>2020-03-30 03:18:53.715887</td>\n      <td>629881394.0</td>\n    </tr>\n    <tr>\n      <th>22076</th>\n      <td>359134c5-559d-4f28-be34-af3420e5caeb</td>\n      <td>raw</td>\n      <td>22076</td>\n      <td>catalog</td>\n      <td>2020-03-30 03:19:36.034262</td>\n      <td>629881394.0</td>\n    </tr>\n    <tr>\n      <th>22077</th>\n      <td>a8d0af4f-28d2-4f9a-903f-fda51c854026</td>\n      <td>raw</td>\n      <td>22077</td>\n      <td>catalog</td>\n      <td>2020-03-30 03:19:59.515094</td>\n      <td>629881394.0</td>\n    </tr>\n  </tbody>\n</table>\n</div>"
     },
     "execution_count": 56,
     "metadata": {},
     "output_type": "execute_result"
    }
   ],
   "source": [
    "df91[df91['user_id'] == check_id]"
   ],
   "metadata": {
    "collapsed": false,
    "pycharm": {
     "name": "#%%\n"
    }
   }
  },
  {
   "cell_type": "code",
   "execution_count": 57,
   "outputs": [
    {
     "data": {
      "text/plain": "                                   event_id event_type  event_index  \\\n22     5acb3cba-b641-43dc-9422-72cecbc435e4        raw           22   \n23     4ae55fdc-beb3-42de-834f-1e958153d510        raw           23   \n24     f65ac25a-ae05-4294-aab1-6c57bf7cd4f8        raw           24   \n25     43cdf470-32ae-4108-ab22-1942497fe773        raw           25   \n27     f822d087-d4af-4572-bff8-66b49f70f8b3        raw           27   \n29     3f050d42-2416-4ddc-baac-cc4c4a28aa87        raw           29   \n31     e11b1664-d137-449d-8910-a642167834f2        raw           31   \n33     b143afc9-c6e9-42a6-afcc-dfe4e82e803e        raw           33   \n36     12224283-faa9-410e-9da0-4ed25f431c43        raw           36   \n38     91a769a8-9bde-4b98-8312-b753410b48fa        raw           38   \n39     d2a1e54e-0780-4678-ae3c-6251110c1b53        raw           39   \n42     7b38c485-989b-4bda-ac14-378ee0150421        raw           42   \n44     7eb22cd4-2007-492a-8ddc-c9a123c2544d        raw           44   \n45     0a076f3a-8e35-476e-a446-32c329d3c2f5        raw           45   \n340    42354a37-f429-4770-82ab-8c370f5b2115        raw          340   \n342    2cab4a65-dc9b-4bf2-8206-2e8ea1ac61be        raw          342   \n345    bfe1a52f-1ae0-4a3c-84fd-586c0c9a3067        raw          345   \n1330   56a8d15b-3cd8-4a07-8e98-53a255ec569d        raw         1330   \n1331   197334b3-7b3c-4f4b-9ac9-ec7c61fb6f2f        raw         1331   \n1332   644ca5c4-9f43-4ce2-86de-f449738cf93a        raw         1332   \n6292   3c0ea358-b2d7-4113-b65a-c1e34319676b        raw         6292   \n6293   5de8841f-472b-468d-a561-04d918424923        raw         6293   \n10660  f2af8036-5bdd-4dda-8208-8fc1d18bb985        raw        10660   \n10661  eb5471ed-2f02-427e-bfe4-3934b98fe3b8        raw        10661   \n10662  d2852ca3-585a-4972-8aa7-ef50e07ede02        raw        10662   \n11455  b1d64df6-7cff-4f7a-8d4d-a2c16a412e40        raw        11455   \n11456  ae14eacf-bac9-40c8-9bf4-45655343f29c        raw        11456   \n13881  ccd780bc-7067-4724-890f-179fa4c1a0c4        raw        13881   \n13882  ffe86993-194c-4bb2-b111-122009b90626        raw        13882   \n14458  a924e670-416b-493c-8e1a-e5957e7a2545        raw        14458   \n14481  6b0eef49-ce43-45bb-a291-d29e2e38c3ad        raw        14481   \n14482  dcda9ac9-c933-4d70-a3e0-d04eaaf6814c        raw        14482   \n14483  55ce0ff8-8790-4e2f-a0fe-ad99b558fb9c        raw        14483   \n14484  b8eb4223-905e-4358-a1a5-41860d380d62        raw        14484   \n14485  359134c5-559d-4f28-be34-af3420e5caeb        raw        14485   \n14486  a8d0af4f-28d2-4f9a-903f-fda51c854026        raw        14486   \n\n             event_name            event_timestamp    user_id  \n22             product2 2019-11-01 22:32:16.496241  629881394  \n23              catalog 2019-11-01 22:33:17.682468  629881394  \n24             product1 2019-11-01 22:33:19.961115  629881394  \n25              catalog 2019-11-01 22:33:35.460345  629881394  \n27              catalog 2019-11-01 22:34:02.301293  629881394  \n29             product2 2019-11-01 22:34:32.362386  629881394  \n31              catalog 2019-11-01 22:35:01.462515  629881394  \n33             product2 2019-11-01 22:35:33.142711  629881394  \n36                 cart 2019-11-01 22:35:50.437706  629881394  \n38      delivery_choice 2019-11-01 22:35:57.649549  629881394  \n39     delivery_courier 2019-11-01 22:36:02.009271  629881394  \n42       payment_choice 2019-11-01 22:36:02.243274  629881394  \n44         payment_cash 2019-11-01 22:36:03.415201  629881394  \n45         payment_done 2019-11-01 22:36:03.999697  629881394  \n340                main 2019-11-07 12:40:46.004674  629881394  \n342             catalog 2019-11-07 12:40:55.724185  629881394  \n345                cart 2019-11-07 12:41:04.107187  629881394  \n1330               main 2019-11-25 23:16:56.317624  629881394  \n1331            catalog 2019-11-25 23:17:16.266242  629881394  \n1332            catalog 2019-11-25 23:17:48.747304  629881394  \n6292               main 2020-01-23 18:56:23.445236  629881394  \n6293            catalog 2020-01-23 18:56:30.461624  629881394  \n10660              main 2020-03-01 23:23:43.392597  629881394  \n10661           catalog 2020-03-01 23:23:44.755693  629881394  \n10662              main 2020-03-01 23:23:51.625991  629881394  \n11455              main 2020-03-07 12:05:23.938242  629881394  \n11456           catalog 2020-03-07 12:05:32.476046  629881394  \n13881              main 2020-03-26 13:00:47.844886  629881394  \n13882           catalog 2020-03-26 13:00:49.531644  629881394  \n14458              main 2020-03-30 00:11:47.920536  629881394  \n14481              main 2020-03-30 03:17:46.909845  629881394  \n14482           catalog 2020-03-30 03:17:49.918774  629881394  \n14483           catalog 2020-03-30 03:18:17.835191  629881394  \n14484           catalog 2020-03-30 03:18:53.715887  629881394  \n14485           catalog 2020-03-30 03:19:36.034262  629881394  \n14486           catalog 2020-03-30 03:19:59.515094  629881394  ",
      "text/html": "<div>\n<style scoped>\n    .dataframe tbody tr th:only-of-type {\n        vertical-align: middle;\n    }\n\n    .dataframe tbody tr th {\n        vertical-align: top;\n    }\n\n    .dataframe thead th {\n        text-align: right;\n    }\n</style>\n<table border=\"1\" class=\"dataframe\">\n  <thead>\n    <tr style=\"text-align: right;\">\n      <th></th>\n      <th>event_id</th>\n      <th>event_type</th>\n      <th>event_index</th>\n      <th>event_name</th>\n      <th>event_timestamp</th>\n      <th>user_id</th>\n    </tr>\n  </thead>\n  <tbody>\n    <tr>\n      <th>22</th>\n      <td>5acb3cba-b641-43dc-9422-72cecbc435e4</td>\n      <td>raw</td>\n      <td>22</td>\n      <td>product2</td>\n      <td>2019-11-01 22:32:16.496241</td>\n      <td>629881394</td>\n    </tr>\n    <tr>\n      <th>23</th>\n      <td>4ae55fdc-beb3-42de-834f-1e958153d510</td>\n      <td>raw</td>\n      <td>23</td>\n      <td>catalog</td>\n      <td>2019-11-01 22:33:17.682468</td>\n      <td>629881394</td>\n    </tr>\n    <tr>\n      <th>24</th>\n      <td>f65ac25a-ae05-4294-aab1-6c57bf7cd4f8</td>\n      <td>raw</td>\n      <td>24</td>\n      <td>product1</td>\n      <td>2019-11-01 22:33:19.961115</td>\n      <td>629881394</td>\n    </tr>\n    <tr>\n      <th>25</th>\n      <td>43cdf470-32ae-4108-ab22-1942497fe773</td>\n      <td>raw</td>\n      <td>25</td>\n      <td>catalog</td>\n      <td>2019-11-01 22:33:35.460345</td>\n      <td>629881394</td>\n    </tr>\n    <tr>\n      <th>27</th>\n      <td>f822d087-d4af-4572-bff8-66b49f70f8b3</td>\n      <td>raw</td>\n      <td>27</td>\n      <td>catalog</td>\n      <td>2019-11-01 22:34:02.301293</td>\n      <td>629881394</td>\n    </tr>\n    <tr>\n      <th>29</th>\n      <td>3f050d42-2416-4ddc-baac-cc4c4a28aa87</td>\n      <td>raw</td>\n      <td>29</td>\n      <td>product2</td>\n      <td>2019-11-01 22:34:32.362386</td>\n      <td>629881394</td>\n    </tr>\n    <tr>\n      <th>31</th>\n      <td>e11b1664-d137-449d-8910-a642167834f2</td>\n      <td>raw</td>\n      <td>31</td>\n      <td>catalog</td>\n      <td>2019-11-01 22:35:01.462515</td>\n      <td>629881394</td>\n    </tr>\n    <tr>\n      <th>33</th>\n      <td>b143afc9-c6e9-42a6-afcc-dfe4e82e803e</td>\n      <td>raw</td>\n      <td>33</td>\n      <td>product2</td>\n      <td>2019-11-01 22:35:33.142711</td>\n      <td>629881394</td>\n    </tr>\n    <tr>\n      <th>36</th>\n      <td>12224283-faa9-410e-9da0-4ed25f431c43</td>\n      <td>raw</td>\n      <td>36</td>\n      <td>cart</td>\n      <td>2019-11-01 22:35:50.437706</td>\n      <td>629881394</td>\n    </tr>\n    <tr>\n      <th>38</th>\n      <td>91a769a8-9bde-4b98-8312-b753410b48fa</td>\n      <td>raw</td>\n      <td>38</td>\n      <td>delivery_choice</td>\n      <td>2019-11-01 22:35:57.649549</td>\n      <td>629881394</td>\n    </tr>\n    <tr>\n      <th>39</th>\n      <td>d2a1e54e-0780-4678-ae3c-6251110c1b53</td>\n      <td>raw</td>\n      <td>39</td>\n      <td>delivery_courier</td>\n      <td>2019-11-01 22:36:02.009271</td>\n      <td>629881394</td>\n    </tr>\n    <tr>\n      <th>42</th>\n      <td>7b38c485-989b-4bda-ac14-378ee0150421</td>\n      <td>raw</td>\n      <td>42</td>\n      <td>payment_choice</td>\n      <td>2019-11-01 22:36:02.243274</td>\n      <td>629881394</td>\n    </tr>\n    <tr>\n      <th>44</th>\n      <td>7eb22cd4-2007-492a-8ddc-c9a123c2544d</td>\n      <td>raw</td>\n      <td>44</td>\n      <td>payment_cash</td>\n      <td>2019-11-01 22:36:03.415201</td>\n      <td>629881394</td>\n    </tr>\n    <tr>\n      <th>45</th>\n      <td>0a076f3a-8e35-476e-a446-32c329d3c2f5</td>\n      <td>raw</td>\n      <td>45</td>\n      <td>payment_done</td>\n      <td>2019-11-01 22:36:03.999697</td>\n      <td>629881394</td>\n    </tr>\n    <tr>\n      <th>340</th>\n      <td>42354a37-f429-4770-82ab-8c370f5b2115</td>\n      <td>raw</td>\n      <td>340</td>\n      <td>main</td>\n      <td>2019-11-07 12:40:46.004674</td>\n      <td>629881394</td>\n    </tr>\n    <tr>\n      <th>342</th>\n      <td>2cab4a65-dc9b-4bf2-8206-2e8ea1ac61be</td>\n      <td>raw</td>\n      <td>342</td>\n      <td>catalog</td>\n      <td>2019-11-07 12:40:55.724185</td>\n      <td>629881394</td>\n    </tr>\n    <tr>\n      <th>345</th>\n      <td>bfe1a52f-1ae0-4a3c-84fd-586c0c9a3067</td>\n      <td>raw</td>\n      <td>345</td>\n      <td>cart</td>\n      <td>2019-11-07 12:41:04.107187</td>\n      <td>629881394</td>\n    </tr>\n    <tr>\n      <th>1330</th>\n      <td>56a8d15b-3cd8-4a07-8e98-53a255ec569d</td>\n      <td>raw</td>\n      <td>1330</td>\n      <td>main</td>\n      <td>2019-11-25 23:16:56.317624</td>\n      <td>629881394</td>\n    </tr>\n    <tr>\n      <th>1331</th>\n      <td>197334b3-7b3c-4f4b-9ac9-ec7c61fb6f2f</td>\n      <td>raw</td>\n      <td>1331</td>\n      <td>catalog</td>\n      <td>2019-11-25 23:17:16.266242</td>\n      <td>629881394</td>\n    </tr>\n    <tr>\n      <th>1332</th>\n      <td>644ca5c4-9f43-4ce2-86de-f449738cf93a</td>\n      <td>raw</td>\n      <td>1332</td>\n      <td>catalog</td>\n      <td>2019-11-25 23:17:48.747304</td>\n      <td>629881394</td>\n    </tr>\n    <tr>\n      <th>6292</th>\n      <td>3c0ea358-b2d7-4113-b65a-c1e34319676b</td>\n      <td>raw</td>\n      <td>6292</td>\n      <td>main</td>\n      <td>2020-01-23 18:56:23.445236</td>\n      <td>629881394</td>\n    </tr>\n    <tr>\n      <th>6293</th>\n      <td>5de8841f-472b-468d-a561-04d918424923</td>\n      <td>raw</td>\n      <td>6293</td>\n      <td>catalog</td>\n      <td>2020-01-23 18:56:30.461624</td>\n      <td>629881394</td>\n    </tr>\n    <tr>\n      <th>10660</th>\n      <td>f2af8036-5bdd-4dda-8208-8fc1d18bb985</td>\n      <td>raw</td>\n      <td>10660</td>\n      <td>main</td>\n      <td>2020-03-01 23:23:43.392597</td>\n      <td>629881394</td>\n    </tr>\n    <tr>\n      <th>10661</th>\n      <td>eb5471ed-2f02-427e-bfe4-3934b98fe3b8</td>\n      <td>raw</td>\n      <td>10661</td>\n      <td>catalog</td>\n      <td>2020-03-01 23:23:44.755693</td>\n      <td>629881394</td>\n    </tr>\n    <tr>\n      <th>10662</th>\n      <td>d2852ca3-585a-4972-8aa7-ef50e07ede02</td>\n      <td>raw</td>\n      <td>10662</td>\n      <td>main</td>\n      <td>2020-03-01 23:23:51.625991</td>\n      <td>629881394</td>\n    </tr>\n    <tr>\n      <th>11455</th>\n      <td>b1d64df6-7cff-4f7a-8d4d-a2c16a412e40</td>\n      <td>raw</td>\n      <td>11455</td>\n      <td>main</td>\n      <td>2020-03-07 12:05:23.938242</td>\n      <td>629881394</td>\n    </tr>\n    <tr>\n      <th>11456</th>\n      <td>ae14eacf-bac9-40c8-9bf4-45655343f29c</td>\n      <td>raw</td>\n      <td>11456</td>\n      <td>catalog</td>\n      <td>2020-03-07 12:05:32.476046</td>\n      <td>629881394</td>\n    </tr>\n    <tr>\n      <th>13881</th>\n      <td>ccd780bc-7067-4724-890f-179fa4c1a0c4</td>\n      <td>raw</td>\n      <td>13881</td>\n      <td>main</td>\n      <td>2020-03-26 13:00:47.844886</td>\n      <td>629881394</td>\n    </tr>\n    <tr>\n      <th>13882</th>\n      <td>ffe86993-194c-4bb2-b111-122009b90626</td>\n      <td>raw</td>\n      <td>13882</td>\n      <td>catalog</td>\n      <td>2020-03-26 13:00:49.531644</td>\n      <td>629881394</td>\n    </tr>\n    <tr>\n      <th>14458</th>\n      <td>a924e670-416b-493c-8e1a-e5957e7a2545</td>\n      <td>raw</td>\n      <td>14458</td>\n      <td>main</td>\n      <td>2020-03-30 00:11:47.920536</td>\n      <td>629881394</td>\n    </tr>\n    <tr>\n      <th>14481</th>\n      <td>6b0eef49-ce43-45bb-a291-d29e2e38c3ad</td>\n      <td>raw</td>\n      <td>14481</td>\n      <td>main</td>\n      <td>2020-03-30 03:17:46.909845</td>\n      <td>629881394</td>\n    </tr>\n    <tr>\n      <th>14482</th>\n      <td>dcda9ac9-c933-4d70-a3e0-d04eaaf6814c</td>\n      <td>raw</td>\n      <td>14482</td>\n      <td>catalog</td>\n      <td>2020-03-30 03:17:49.918774</td>\n      <td>629881394</td>\n    </tr>\n    <tr>\n      <th>14483</th>\n      <td>55ce0ff8-8790-4e2f-a0fe-ad99b558fb9c</td>\n      <td>raw</td>\n      <td>14483</td>\n      <td>catalog</td>\n      <td>2020-03-30 03:18:17.835191</td>\n      <td>629881394</td>\n    </tr>\n    <tr>\n      <th>14484</th>\n      <td>b8eb4223-905e-4358-a1a5-41860d380d62</td>\n      <td>raw</td>\n      <td>14484</td>\n      <td>catalog</td>\n      <td>2020-03-30 03:18:53.715887</td>\n      <td>629881394</td>\n    </tr>\n    <tr>\n      <th>14485</th>\n      <td>359134c5-559d-4f28-be34-af3420e5caeb</td>\n      <td>raw</td>\n      <td>14485</td>\n      <td>catalog</td>\n      <td>2020-03-30 03:19:36.034262</td>\n      <td>629881394</td>\n    </tr>\n    <tr>\n      <th>14486</th>\n      <td>a8d0af4f-28d2-4f9a-903f-fda51c854026</td>\n      <td>raw</td>\n      <td>14486</td>\n      <td>catalog</td>\n      <td>2020-03-30 03:19:59.515094</td>\n      <td>629881394</td>\n    </tr>\n  </tbody>\n</table>\n</div>"
     },
     "execution_count": 57,
     "metadata": {},
     "output_type": "execute_result"
    }
   ],
   "source": [
    "source_df[(source_df['user_id'] == check_id) &\\\n",
    "          (source_df['event_timestamp'] >= event_time)]"
   ],
   "metadata": {
    "collapsed": false,
    "pycharm": {
     "name": "#%%\n"
    }
   }
  },
  {
   "cell_type": "code",
   "execution_count": 58,
   "outputs": [
    {
     "name": "stdout",
     "output_type": "stream",
     "text": [
      "48\n"
     ]
    },
    {
     "data": {
      "text/plain": "                                   event_id event_type  event_index  \\\n7      9863622f-3251-4e1f-a28d-2cfb9889736b        raw            7   \n9      3ce21b73-8cd5-445a-ac87-dca35447093c        raw            9   \n11     9e74c251-b5d9-41f5-9178-55b869221bcd        raw           11   \n13     7519f116-53fd-43a5-9408-b39aee3e2e91        raw           13   \n14     e3efa4db-637e-4f7d-97ca-47627452e66e        raw           14   \n15     33fd2fec-0669-4448-b679-a61166ddeed5        raw           15   \n16     13a72e04-a34e-4efc-b2bb-2b280c76498d        raw           16   \n17     4d6b8867-1543-48ed-b9a6-fffdd5f66f57        raw           17   \n18     af71ac16-aca0-41df-b073-4055d2b1951a        raw           18   \n19     c0935c1a-64af-4b5e-a297-fc9b8ba15c77        raw           19   \n20     de5bb387-e5d1-4e1c-890f-8ea47efd9c57        raw           20   \n21     29cb632e-3108-4a15-8517-948347eb9c37        raw           21   \n22     5acb3cba-b641-43dc-9422-72cecbc435e4        raw           22   \n23     4ae55fdc-beb3-42de-834f-1e958153d510        raw           23   \n24     f65ac25a-ae05-4294-aab1-6c57bf7cd4f8        raw           24   \n25     43cdf470-32ae-4108-ab22-1942497fe773        raw           25   \n27     f822d087-d4af-4572-bff8-66b49f70f8b3        raw           27   \n29     3f050d42-2416-4ddc-baac-cc4c4a28aa87        raw           29   \n31     e11b1664-d137-449d-8910-a642167834f2        raw           31   \n33     b143afc9-c6e9-42a6-afcc-dfe4e82e803e        raw           33   \n36     12224283-faa9-410e-9da0-4ed25f431c43        raw           36   \n38     91a769a8-9bde-4b98-8312-b753410b48fa        raw           38   \n39     d2a1e54e-0780-4678-ae3c-6251110c1b53        raw           39   \n42     7b38c485-989b-4bda-ac14-378ee0150421        raw           42   \n44     7eb22cd4-2007-492a-8ddc-c9a123c2544d        raw           44   \n45     0a076f3a-8e35-476e-a446-32c329d3c2f5        raw           45   \n340    42354a37-f429-4770-82ab-8c370f5b2115        raw          340   \n342    2cab4a65-dc9b-4bf2-8206-2e8ea1ac61be        raw          342   \n345    bfe1a52f-1ae0-4a3c-84fd-586c0c9a3067        raw          345   \n1330   56a8d15b-3cd8-4a07-8e98-53a255ec569d        raw         1330   \n1331   197334b3-7b3c-4f4b-9ac9-ec7c61fb6f2f        raw         1331   \n1332   644ca5c4-9f43-4ce2-86de-f449738cf93a        raw         1332   \n6292   3c0ea358-b2d7-4113-b65a-c1e34319676b        raw         6292   \n6293   5de8841f-472b-468d-a561-04d918424923        raw         6293   \n10660  f2af8036-5bdd-4dda-8208-8fc1d18bb985        raw        10660   \n10661  eb5471ed-2f02-427e-bfe4-3934b98fe3b8        raw        10661   \n10662  d2852ca3-585a-4972-8aa7-ef50e07ede02        raw        10662   \n11455  b1d64df6-7cff-4f7a-8d4d-a2c16a412e40        raw        11455   \n11456  ae14eacf-bac9-40c8-9bf4-45655343f29c        raw        11456   \n13881  ccd780bc-7067-4724-890f-179fa4c1a0c4        raw        13881   \n13882  ffe86993-194c-4bb2-b111-122009b90626        raw        13882   \n14458  a924e670-416b-493c-8e1a-e5957e7a2545        raw        14458   \n14481  6b0eef49-ce43-45bb-a291-d29e2e38c3ad        raw        14481   \n14482  dcda9ac9-c933-4d70-a3e0-d04eaaf6814c        raw        14482   \n14483  55ce0ff8-8790-4e2f-a0fe-ad99b558fb9c        raw        14483   \n14484  b8eb4223-905e-4358-a1a5-41860d380d62        raw        14484   \n14485  359134c5-559d-4f28-be34-af3420e5caeb        raw        14485   \n14486  a8d0af4f-28d2-4f9a-903f-fda51c854026        raw        14486   \n\n             event_name            event_timestamp    user_id  \n7                  main 2019-11-01 22:28:54.791683  629881394  \n9               catalog 2019-11-01 22:29:01.049513  629881394  \n11              catalog 2019-11-01 22:29:32.322458  629881394  \n13              catalog 2019-11-01 22:30:09.450839  629881394  \n14              catalog 2019-11-01 22:31:05.565762  629881394  \n15                 main 2019-11-01 22:31:08.333560  629881394  \n16              catalog 2019-11-01 22:31:09.010626  629881394  \n17             product1 2019-11-01 22:31:10.416231  629881394  \n18              catalog 2019-11-01 22:31:43.019527  629881394  \n19              catalog 2019-11-01 22:32:01.596163  629881394  \n20             product1 2019-11-01 22:32:07.348536  629881394  \n21              catalog 2019-11-01 22:32:10.165568  629881394  \n22             product2 2019-11-01 22:32:16.496241  629881394  \n23              catalog 2019-11-01 22:33:17.682468  629881394  \n24             product1 2019-11-01 22:33:19.961115  629881394  \n25              catalog 2019-11-01 22:33:35.460345  629881394  \n27              catalog 2019-11-01 22:34:02.301293  629881394  \n29             product2 2019-11-01 22:34:32.362386  629881394  \n31              catalog 2019-11-01 22:35:01.462515  629881394  \n33             product2 2019-11-01 22:35:33.142711  629881394  \n36                 cart 2019-11-01 22:35:50.437706  629881394  \n38      delivery_choice 2019-11-01 22:35:57.649549  629881394  \n39     delivery_courier 2019-11-01 22:36:02.009271  629881394  \n42       payment_choice 2019-11-01 22:36:02.243274  629881394  \n44         payment_cash 2019-11-01 22:36:03.415201  629881394  \n45         payment_done 2019-11-01 22:36:03.999697  629881394  \n340                main 2019-11-07 12:40:46.004674  629881394  \n342             catalog 2019-11-07 12:40:55.724185  629881394  \n345                cart 2019-11-07 12:41:04.107187  629881394  \n1330               main 2019-11-25 23:16:56.317624  629881394  \n1331            catalog 2019-11-25 23:17:16.266242  629881394  \n1332            catalog 2019-11-25 23:17:48.747304  629881394  \n6292               main 2020-01-23 18:56:23.445236  629881394  \n6293            catalog 2020-01-23 18:56:30.461624  629881394  \n10660              main 2020-03-01 23:23:43.392597  629881394  \n10661           catalog 2020-03-01 23:23:44.755693  629881394  \n10662              main 2020-03-01 23:23:51.625991  629881394  \n11455              main 2020-03-07 12:05:23.938242  629881394  \n11456           catalog 2020-03-07 12:05:32.476046  629881394  \n13881              main 2020-03-26 13:00:47.844886  629881394  \n13882           catalog 2020-03-26 13:00:49.531644  629881394  \n14458              main 2020-03-30 00:11:47.920536  629881394  \n14481              main 2020-03-30 03:17:46.909845  629881394  \n14482           catalog 2020-03-30 03:17:49.918774  629881394  \n14483           catalog 2020-03-30 03:18:17.835191  629881394  \n14484           catalog 2020-03-30 03:18:53.715887  629881394  \n14485           catalog 2020-03-30 03:19:36.034262  629881394  \n14486           catalog 2020-03-30 03:19:59.515094  629881394  ",
      "text/html": "<div>\n<style scoped>\n    .dataframe tbody tr th:only-of-type {\n        vertical-align: middle;\n    }\n\n    .dataframe tbody tr th {\n        vertical-align: top;\n    }\n\n    .dataframe thead th {\n        text-align: right;\n    }\n</style>\n<table border=\"1\" class=\"dataframe\">\n  <thead>\n    <tr style=\"text-align: right;\">\n      <th></th>\n      <th>event_id</th>\n      <th>event_type</th>\n      <th>event_index</th>\n      <th>event_name</th>\n      <th>event_timestamp</th>\n      <th>user_id</th>\n    </tr>\n  </thead>\n  <tbody>\n    <tr>\n      <th>7</th>\n      <td>9863622f-3251-4e1f-a28d-2cfb9889736b</td>\n      <td>raw</td>\n      <td>7</td>\n      <td>main</td>\n      <td>2019-11-01 22:28:54.791683</td>\n      <td>629881394</td>\n    </tr>\n    <tr>\n      <th>9</th>\n      <td>3ce21b73-8cd5-445a-ac87-dca35447093c</td>\n      <td>raw</td>\n      <td>9</td>\n      <td>catalog</td>\n      <td>2019-11-01 22:29:01.049513</td>\n      <td>629881394</td>\n    </tr>\n    <tr>\n      <th>11</th>\n      <td>9e74c251-b5d9-41f5-9178-55b869221bcd</td>\n      <td>raw</td>\n      <td>11</td>\n      <td>catalog</td>\n      <td>2019-11-01 22:29:32.322458</td>\n      <td>629881394</td>\n    </tr>\n    <tr>\n      <th>13</th>\n      <td>7519f116-53fd-43a5-9408-b39aee3e2e91</td>\n      <td>raw</td>\n      <td>13</td>\n      <td>catalog</td>\n      <td>2019-11-01 22:30:09.450839</td>\n      <td>629881394</td>\n    </tr>\n    <tr>\n      <th>14</th>\n      <td>e3efa4db-637e-4f7d-97ca-47627452e66e</td>\n      <td>raw</td>\n      <td>14</td>\n      <td>catalog</td>\n      <td>2019-11-01 22:31:05.565762</td>\n      <td>629881394</td>\n    </tr>\n    <tr>\n      <th>15</th>\n      <td>33fd2fec-0669-4448-b679-a61166ddeed5</td>\n      <td>raw</td>\n      <td>15</td>\n      <td>main</td>\n      <td>2019-11-01 22:31:08.333560</td>\n      <td>629881394</td>\n    </tr>\n    <tr>\n      <th>16</th>\n      <td>13a72e04-a34e-4efc-b2bb-2b280c76498d</td>\n      <td>raw</td>\n      <td>16</td>\n      <td>catalog</td>\n      <td>2019-11-01 22:31:09.010626</td>\n      <td>629881394</td>\n    </tr>\n    <tr>\n      <th>17</th>\n      <td>4d6b8867-1543-48ed-b9a6-fffdd5f66f57</td>\n      <td>raw</td>\n      <td>17</td>\n      <td>product1</td>\n      <td>2019-11-01 22:31:10.416231</td>\n      <td>629881394</td>\n    </tr>\n    <tr>\n      <th>18</th>\n      <td>af71ac16-aca0-41df-b073-4055d2b1951a</td>\n      <td>raw</td>\n      <td>18</td>\n      <td>catalog</td>\n      <td>2019-11-01 22:31:43.019527</td>\n      <td>629881394</td>\n    </tr>\n    <tr>\n      <th>19</th>\n      <td>c0935c1a-64af-4b5e-a297-fc9b8ba15c77</td>\n      <td>raw</td>\n      <td>19</td>\n      <td>catalog</td>\n      <td>2019-11-01 22:32:01.596163</td>\n      <td>629881394</td>\n    </tr>\n    <tr>\n      <th>20</th>\n      <td>de5bb387-e5d1-4e1c-890f-8ea47efd9c57</td>\n      <td>raw</td>\n      <td>20</td>\n      <td>product1</td>\n      <td>2019-11-01 22:32:07.348536</td>\n      <td>629881394</td>\n    </tr>\n    <tr>\n      <th>21</th>\n      <td>29cb632e-3108-4a15-8517-948347eb9c37</td>\n      <td>raw</td>\n      <td>21</td>\n      <td>catalog</td>\n      <td>2019-11-01 22:32:10.165568</td>\n      <td>629881394</td>\n    </tr>\n    <tr>\n      <th>22</th>\n      <td>5acb3cba-b641-43dc-9422-72cecbc435e4</td>\n      <td>raw</td>\n      <td>22</td>\n      <td>product2</td>\n      <td>2019-11-01 22:32:16.496241</td>\n      <td>629881394</td>\n    </tr>\n    <tr>\n      <th>23</th>\n      <td>4ae55fdc-beb3-42de-834f-1e958153d510</td>\n      <td>raw</td>\n      <td>23</td>\n      <td>catalog</td>\n      <td>2019-11-01 22:33:17.682468</td>\n      <td>629881394</td>\n    </tr>\n    <tr>\n      <th>24</th>\n      <td>f65ac25a-ae05-4294-aab1-6c57bf7cd4f8</td>\n      <td>raw</td>\n      <td>24</td>\n      <td>product1</td>\n      <td>2019-11-01 22:33:19.961115</td>\n      <td>629881394</td>\n    </tr>\n    <tr>\n      <th>25</th>\n      <td>43cdf470-32ae-4108-ab22-1942497fe773</td>\n      <td>raw</td>\n      <td>25</td>\n      <td>catalog</td>\n      <td>2019-11-01 22:33:35.460345</td>\n      <td>629881394</td>\n    </tr>\n    <tr>\n      <th>27</th>\n      <td>f822d087-d4af-4572-bff8-66b49f70f8b3</td>\n      <td>raw</td>\n      <td>27</td>\n      <td>catalog</td>\n      <td>2019-11-01 22:34:02.301293</td>\n      <td>629881394</td>\n    </tr>\n    <tr>\n      <th>29</th>\n      <td>3f050d42-2416-4ddc-baac-cc4c4a28aa87</td>\n      <td>raw</td>\n      <td>29</td>\n      <td>product2</td>\n      <td>2019-11-01 22:34:32.362386</td>\n      <td>629881394</td>\n    </tr>\n    <tr>\n      <th>31</th>\n      <td>e11b1664-d137-449d-8910-a642167834f2</td>\n      <td>raw</td>\n      <td>31</td>\n      <td>catalog</td>\n      <td>2019-11-01 22:35:01.462515</td>\n      <td>629881394</td>\n    </tr>\n    <tr>\n      <th>33</th>\n      <td>b143afc9-c6e9-42a6-afcc-dfe4e82e803e</td>\n      <td>raw</td>\n      <td>33</td>\n      <td>product2</td>\n      <td>2019-11-01 22:35:33.142711</td>\n      <td>629881394</td>\n    </tr>\n    <tr>\n      <th>36</th>\n      <td>12224283-faa9-410e-9da0-4ed25f431c43</td>\n      <td>raw</td>\n      <td>36</td>\n      <td>cart</td>\n      <td>2019-11-01 22:35:50.437706</td>\n      <td>629881394</td>\n    </tr>\n    <tr>\n      <th>38</th>\n      <td>91a769a8-9bde-4b98-8312-b753410b48fa</td>\n      <td>raw</td>\n      <td>38</td>\n      <td>delivery_choice</td>\n      <td>2019-11-01 22:35:57.649549</td>\n      <td>629881394</td>\n    </tr>\n    <tr>\n      <th>39</th>\n      <td>d2a1e54e-0780-4678-ae3c-6251110c1b53</td>\n      <td>raw</td>\n      <td>39</td>\n      <td>delivery_courier</td>\n      <td>2019-11-01 22:36:02.009271</td>\n      <td>629881394</td>\n    </tr>\n    <tr>\n      <th>42</th>\n      <td>7b38c485-989b-4bda-ac14-378ee0150421</td>\n      <td>raw</td>\n      <td>42</td>\n      <td>payment_choice</td>\n      <td>2019-11-01 22:36:02.243274</td>\n      <td>629881394</td>\n    </tr>\n    <tr>\n      <th>44</th>\n      <td>7eb22cd4-2007-492a-8ddc-c9a123c2544d</td>\n      <td>raw</td>\n      <td>44</td>\n      <td>payment_cash</td>\n      <td>2019-11-01 22:36:03.415201</td>\n      <td>629881394</td>\n    </tr>\n    <tr>\n      <th>45</th>\n      <td>0a076f3a-8e35-476e-a446-32c329d3c2f5</td>\n      <td>raw</td>\n      <td>45</td>\n      <td>payment_done</td>\n      <td>2019-11-01 22:36:03.999697</td>\n      <td>629881394</td>\n    </tr>\n    <tr>\n      <th>340</th>\n      <td>42354a37-f429-4770-82ab-8c370f5b2115</td>\n      <td>raw</td>\n      <td>340</td>\n      <td>main</td>\n      <td>2019-11-07 12:40:46.004674</td>\n      <td>629881394</td>\n    </tr>\n    <tr>\n      <th>342</th>\n      <td>2cab4a65-dc9b-4bf2-8206-2e8ea1ac61be</td>\n      <td>raw</td>\n      <td>342</td>\n      <td>catalog</td>\n      <td>2019-11-07 12:40:55.724185</td>\n      <td>629881394</td>\n    </tr>\n    <tr>\n      <th>345</th>\n      <td>bfe1a52f-1ae0-4a3c-84fd-586c0c9a3067</td>\n      <td>raw</td>\n      <td>345</td>\n      <td>cart</td>\n      <td>2019-11-07 12:41:04.107187</td>\n      <td>629881394</td>\n    </tr>\n    <tr>\n      <th>1330</th>\n      <td>56a8d15b-3cd8-4a07-8e98-53a255ec569d</td>\n      <td>raw</td>\n      <td>1330</td>\n      <td>main</td>\n      <td>2019-11-25 23:16:56.317624</td>\n      <td>629881394</td>\n    </tr>\n    <tr>\n      <th>1331</th>\n      <td>197334b3-7b3c-4f4b-9ac9-ec7c61fb6f2f</td>\n      <td>raw</td>\n      <td>1331</td>\n      <td>catalog</td>\n      <td>2019-11-25 23:17:16.266242</td>\n      <td>629881394</td>\n    </tr>\n    <tr>\n      <th>1332</th>\n      <td>644ca5c4-9f43-4ce2-86de-f449738cf93a</td>\n      <td>raw</td>\n      <td>1332</td>\n      <td>catalog</td>\n      <td>2019-11-25 23:17:48.747304</td>\n      <td>629881394</td>\n    </tr>\n    <tr>\n      <th>6292</th>\n      <td>3c0ea358-b2d7-4113-b65a-c1e34319676b</td>\n      <td>raw</td>\n      <td>6292</td>\n      <td>main</td>\n      <td>2020-01-23 18:56:23.445236</td>\n      <td>629881394</td>\n    </tr>\n    <tr>\n      <th>6293</th>\n      <td>5de8841f-472b-468d-a561-04d918424923</td>\n      <td>raw</td>\n      <td>6293</td>\n      <td>catalog</td>\n      <td>2020-01-23 18:56:30.461624</td>\n      <td>629881394</td>\n    </tr>\n    <tr>\n      <th>10660</th>\n      <td>f2af8036-5bdd-4dda-8208-8fc1d18bb985</td>\n      <td>raw</td>\n      <td>10660</td>\n      <td>main</td>\n      <td>2020-03-01 23:23:43.392597</td>\n      <td>629881394</td>\n    </tr>\n    <tr>\n      <th>10661</th>\n      <td>eb5471ed-2f02-427e-bfe4-3934b98fe3b8</td>\n      <td>raw</td>\n      <td>10661</td>\n      <td>catalog</td>\n      <td>2020-03-01 23:23:44.755693</td>\n      <td>629881394</td>\n    </tr>\n    <tr>\n      <th>10662</th>\n      <td>d2852ca3-585a-4972-8aa7-ef50e07ede02</td>\n      <td>raw</td>\n      <td>10662</td>\n      <td>main</td>\n      <td>2020-03-01 23:23:51.625991</td>\n      <td>629881394</td>\n    </tr>\n    <tr>\n      <th>11455</th>\n      <td>b1d64df6-7cff-4f7a-8d4d-a2c16a412e40</td>\n      <td>raw</td>\n      <td>11455</td>\n      <td>main</td>\n      <td>2020-03-07 12:05:23.938242</td>\n      <td>629881394</td>\n    </tr>\n    <tr>\n      <th>11456</th>\n      <td>ae14eacf-bac9-40c8-9bf4-45655343f29c</td>\n      <td>raw</td>\n      <td>11456</td>\n      <td>catalog</td>\n      <td>2020-03-07 12:05:32.476046</td>\n      <td>629881394</td>\n    </tr>\n    <tr>\n      <th>13881</th>\n      <td>ccd780bc-7067-4724-890f-179fa4c1a0c4</td>\n      <td>raw</td>\n      <td>13881</td>\n      <td>main</td>\n      <td>2020-03-26 13:00:47.844886</td>\n      <td>629881394</td>\n    </tr>\n    <tr>\n      <th>13882</th>\n      <td>ffe86993-194c-4bb2-b111-122009b90626</td>\n      <td>raw</td>\n      <td>13882</td>\n      <td>catalog</td>\n      <td>2020-03-26 13:00:49.531644</td>\n      <td>629881394</td>\n    </tr>\n    <tr>\n      <th>14458</th>\n      <td>a924e670-416b-493c-8e1a-e5957e7a2545</td>\n      <td>raw</td>\n      <td>14458</td>\n      <td>main</td>\n      <td>2020-03-30 00:11:47.920536</td>\n      <td>629881394</td>\n    </tr>\n    <tr>\n      <th>14481</th>\n      <td>6b0eef49-ce43-45bb-a291-d29e2e38c3ad</td>\n      <td>raw</td>\n      <td>14481</td>\n      <td>main</td>\n      <td>2020-03-30 03:17:46.909845</td>\n      <td>629881394</td>\n    </tr>\n    <tr>\n      <th>14482</th>\n      <td>dcda9ac9-c933-4d70-a3e0-d04eaaf6814c</td>\n      <td>raw</td>\n      <td>14482</td>\n      <td>catalog</td>\n      <td>2020-03-30 03:17:49.918774</td>\n      <td>629881394</td>\n    </tr>\n    <tr>\n      <th>14483</th>\n      <td>55ce0ff8-8790-4e2f-a0fe-ad99b558fb9c</td>\n      <td>raw</td>\n      <td>14483</td>\n      <td>catalog</td>\n      <td>2020-03-30 03:18:17.835191</td>\n      <td>629881394</td>\n    </tr>\n    <tr>\n      <th>14484</th>\n      <td>b8eb4223-905e-4358-a1a5-41860d380d62</td>\n      <td>raw</td>\n      <td>14484</td>\n      <td>catalog</td>\n      <td>2020-03-30 03:18:53.715887</td>\n      <td>629881394</td>\n    </tr>\n    <tr>\n      <th>14485</th>\n      <td>359134c5-559d-4f28-be34-af3420e5caeb</td>\n      <td>raw</td>\n      <td>14485</td>\n      <td>catalog</td>\n      <td>2020-03-30 03:19:36.034262</td>\n      <td>629881394</td>\n    </tr>\n    <tr>\n      <th>14486</th>\n      <td>a8d0af4f-28d2-4f9a-903f-fda51c854026</td>\n      <td>raw</td>\n      <td>14486</td>\n      <td>catalog</td>\n      <td>2020-03-30 03:19:59.515094</td>\n      <td>629881394</td>\n    </tr>\n  </tbody>\n</table>\n</div>"
     },
     "execution_count": 58,
     "metadata": {},
     "output_type": "execute_result"
    }
   ],
   "source": [
    "print(len(source_df[source_df['user_id'] == check_id]))\n",
    "source_df[source_df['user_id'] == check_id]"
   ],
   "metadata": {
    "collapsed": false,
    "pycharm": {
     "name": "#%%\n"
    }
   }
  },
  {
   "cell_type": "markdown",
   "source": [
    "### сдвиг"
   ],
   "metadata": {
    "collapsed": false,
    "pycharm": {
     "name": "#%% md\n"
    }
   }
  },
  {
   "cell_type": "code",
   "execution_count": 59,
   "outputs": [
    {
     "name": "stderr",
     "output_type": "stream",
     "text": [
      "/Users/Daria/Dev/Retentioneering/retentioneering-tools-new-arch/examples/../src/data_processors_lib/rete/cut_path_before_event.py:50: SettingWithCopyWarning: \n",
      "A value is trying to be set on a copy of a slice from a DataFrame.\n",
      "Try using .loc[row_indexer,col_indexer] = value instead\n",
      "\n",
      "See the caveats in the documentation: https://pandas.pydata.org/pandas-docs/stable/user_guide/indexing.html#returning-a-view-versus-a-copy\n",
      "  df_cut[\"num_groups\"] = df_cut.groupby([user_col])[time_col].transform(\n",
      "/Users/Daria/Dev/Retentioneering/retentioneering-tools-new-arch/examples/../src/data_processors_lib/rete/cut_path_before_event.py:67: SettingWithCopyWarning: \n",
      "A value is trying to be set on a copy of a slice from a DataFrame.\n",
      "Try using .loc[row_indexer,col_indexer] = value instead\n",
      "\n",
      "See the caveats in the documentation: https://pandas.pydata.org/pandas-docs/stable/user_guide/indexing.html#returning-a-view-versus-a-copy\n",
      "  df_to_del[\"ref\"] = df_to_del[eventstream.schema.event_id]\n"
     ]
    }
   ],
   "source": [
    "from src.data_processors_lib.rete import CutPathBeforeEvent, CutPathBeforeEventParams\n",
    "params = {\n",
    "    'cutoff_events': ['product2'],\n",
    "    'cut_shift': 1,\n",
    "    'min_cjm': 0\n",
    "}\n",
    "\n",
    "cut_before = EventsNode(\n",
    "    CutPathBeforeEvent(params=CutPathBeforeEventParams(**params)))\n",
    "\n",
    "graph.add_node(\n",
    "    node=cut_before,\n",
    "    parents=[graph.root]\n",
    ")\n",
    "\n",
    "result = graph.combine(\n",
    "    node=cut_before\n",
    ")\n"
   ],
   "metadata": {
    "collapsed": false,
    "pycharm": {
     "name": "#%%\n"
    }
   }
  },
  {
   "cell_type": "code",
   "execution_count": 60,
   "outputs": [
    {
     "name": "stdout",
     "output_type": "stream",
     "text": [
      "0\n"
     ]
    },
    {
     "data": {
      "text/plain": "0"
     },
     "execution_count": 60,
     "metadata": {},
     "output_type": "execute_result"
    }
   ],
   "source": [
    "df92 = result.to_dataframe()\n",
    "print(source_df.duplicated(['event_name', 'event_timestamp', 'user_id']).sum())\n",
    "df92.duplicated(['event_name', 'event_timestamp', 'user_id']).sum()"
   ],
   "metadata": {
    "collapsed": false,
    "pycharm": {
     "name": "#%%\n"
    }
   }
  },
  {
   "cell_type": "code",
   "execution_count": 61,
   "outputs": [
    {
     "data": {
      "text/plain": "raw    13239\nName: event_type, dtype: int64"
     },
     "execution_count": 61,
     "metadata": {},
     "output_type": "execute_result"
    }
   ],
   "source": [
    "df92['event_type'].value_counts()"
   ],
   "metadata": {
    "collapsed": false,
    "pycharm": {
     "name": "#%%\n"
    }
   }
  },
  {
   "cell_type": "code",
   "execution_count": 62,
   "outputs": [
    {
     "data": {
      "text/plain": "raw    35381\nName: event_type, dtype: int64"
     },
     "execution_count": 62,
     "metadata": {},
     "output_type": "execute_result"
    }
   ],
   "source": [
    "source_df['event_type'].value_counts()"
   ],
   "metadata": {
    "collapsed": false,
    "pycharm": {
     "name": "#%%\n"
    }
   }
  },
  {
   "cell_type": "code",
   "execution_count": 63,
   "outputs": [
    {
     "data": {
      "text/plain": "1430"
     },
     "execution_count": 63,
     "metadata": {},
     "output_type": "execute_result"
    }
   ],
   "source": [
    "source_df[source_df['event_name'] == 'product2']['user_id'].nunique()"
   ],
   "metadata": {
    "collapsed": false,
    "pycharm": {
     "name": "#%%\n"
    }
   }
  },
  {
   "cell_type": "code",
   "execution_count": 64,
   "outputs": [
    {
     "name": "stdout",
     "output_type": "stream",
     "text": [
      "Длина отрезанной траектории для пользователя 629881394 -  35\n"
     ]
    },
    {
     "data": {
      "text/plain": "                                   event_id event_type  event_index  \\\n46     4ae55fdc-beb3-42de-834f-1e958153d510        raw           46   \n47     f65ac25a-ae05-4294-aab1-6c57bf7cd4f8        raw           47   \n48     43cdf470-32ae-4108-ab22-1942497fe773        raw           48   \n51     f822d087-d4af-4572-bff8-66b49f70f8b3        raw           51   \n54     3f050d42-2416-4ddc-baac-cc4c4a28aa87        raw           54   \n57     e11b1664-d137-449d-8910-a642167834f2        raw           57   \n59     b143afc9-c6e9-42a6-afcc-dfe4e82e803e        raw           59   \n62     12224283-faa9-410e-9da0-4ed25f431c43        raw           62   \n64     91a769a8-9bde-4b98-8312-b753410b48fa        raw           64   \n65     d2a1e54e-0780-4678-ae3c-6251110c1b53        raw           65   \n68     7b38c485-989b-4bda-ac14-378ee0150421        raw           68   \n70     7eb22cd4-2007-492a-8ddc-c9a123c2544d        raw           70   \n71     0a076f3a-8e35-476e-a446-32c329d3c2f5        raw           71   \n557    42354a37-f429-4770-82ab-8c370f5b2115        raw          557   \n559    2cab4a65-dc9b-4bf2-8206-2e8ea1ac61be        raw          559   \n562    bfe1a52f-1ae0-4a3c-84fd-586c0c9a3067        raw          562   \n2299   56a8d15b-3cd8-4a07-8e98-53a255ec569d        raw         2299   \n2300   197334b3-7b3c-4f4b-9ac9-ec7c61fb6f2f        raw         2300   \n2301   644ca5c4-9f43-4ce2-86de-f449738cf93a        raw         2301   \n10237  3c0ea358-b2d7-4113-b65a-c1e34319676b        raw        10237   \n10238  5de8841f-472b-468d-a561-04d918424923        raw        10238   \n16944  f2af8036-5bdd-4dda-8208-8fc1d18bb985        raw        16944   \n16945  eb5471ed-2f02-427e-bfe4-3934b98fe3b8        raw        16945   \n16946  d2852ca3-585a-4972-8aa7-ef50e07ede02        raw        16946   \n18120  b1d64df6-7cff-4f7a-8d4d-a2c16a412e40        raw        18120   \n18121  ae14eacf-bac9-40c8-9bf4-45655343f29c        raw        18121   \n21699  ccd780bc-7067-4724-890f-179fa4c1a0c4        raw        21699   \n21700  ffe86993-194c-4bb2-b111-122009b90626        raw        21700   \n22514  a924e670-416b-493c-8e1a-e5957e7a2545        raw        22514   \n22559  6b0eef49-ce43-45bb-a291-d29e2e38c3ad        raw        22559   \n22560  dcda9ac9-c933-4d70-a3e0-d04eaaf6814c        raw        22560   \n22561  55ce0ff8-8790-4e2f-a0fe-ad99b558fb9c        raw        22561   \n22562  b8eb4223-905e-4358-a1a5-41860d380d62        raw        22562   \n22563  359134c5-559d-4f28-be34-af3420e5caeb        raw        22563   \n22564  a8d0af4f-28d2-4f9a-903f-fda51c854026        raw        22564   \n\n             event_name            event_timestamp      user_id  \n46              catalog 2019-11-01 22:33:17.682468  629881394.0  \n47             product1 2019-11-01 22:33:19.961115  629881394.0  \n48              catalog 2019-11-01 22:33:35.460345  629881394.0  \n51              catalog 2019-11-01 22:34:02.301293  629881394.0  \n54             product2 2019-11-01 22:34:32.362386  629881394.0  \n57              catalog 2019-11-01 22:35:01.462515  629881394.0  \n59             product2 2019-11-01 22:35:33.142711  629881394.0  \n62                 cart 2019-11-01 22:35:50.437706  629881394.0  \n64      delivery_choice 2019-11-01 22:35:57.649549  629881394.0  \n65     delivery_courier 2019-11-01 22:36:02.009271  629881394.0  \n68       payment_choice 2019-11-01 22:36:02.243274  629881394.0  \n70         payment_cash 2019-11-01 22:36:03.415201  629881394.0  \n71         payment_done 2019-11-01 22:36:03.999697  629881394.0  \n557                main 2019-11-07 12:40:46.004674  629881394.0  \n559             catalog 2019-11-07 12:40:55.724185  629881394.0  \n562                cart 2019-11-07 12:41:04.107187  629881394.0  \n2299               main 2019-11-25 23:16:56.317624  629881394.0  \n2300            catalog 2019-11-25 23:17:16.266242  629881394.0  \n2301            catalog 2019-11-25 23:17:48.747304  629881394.0  \n10237              main 2020-01-23 18:56:23.445236  629881394.0  \n10238           catalog 2020-01-23 18:56:30.461624  629881394.0  \n16944              main 2020-03-01 23:23:43.392597  629881394.0  \n16945           catalog 2020-03-01 23:23:44.755693  629881394.0  \n16946              main 2020-03-01 23:23:51.625991  629881394.0  \n18120              main 2020-03-07 12:05:23.938242  629881394.0  \n18121           catalog 2020-03-07 12:05:32.476046  629881394.0  \n21699              main 2020-03-26 13:00:47.844886  629881394.0  \n21700           catalog 2020-03-26 13:00:49.531644  629881394.0  \n22514              main 2020-03-30 00:11:47.920536  629881394.0  \n22559              main 2020-03-30 03:17:46.909845  629881394.0  \n22560           catalog 2020-03-30 03:17:49.918774  629881394.0  \n22561           catalog 2020-03-30 03:18:17.835191  629881394.0  \n22562           catalog 2020-03-30 03:18:53.715887  629881394.0  \n22563           catalog 2020-03-30 03:19:36.034262  629881394.0  \n22564           catalog 2020-03-30 03:19:59.515094  629881394.0  ",
      "text/html": "<div>\n<style scoped>\n    .dataframe tbody tr th:only-of-type {\n        vertical-align: middle;\n    }\n\n    .dataframe tbody tr th {\n        vertical-align: top;\n    }\n\n    .dataframe thead th {\n        text-align: right;\n    }\n</style>\n<table border=\"1\" class=\"dataframe\">\n  <thead>\n    <tr style=\"text-align: right;\">\n      <th></th>\n      <th>event_id</th>\n      <th>event_type</th>\n      <th>event_index</th>\n      <th>event_name</th>\n      <th>event_timestamp</th>\n      <th>user_id</th>\n    </tr>\n  </thead>\n  <tbody>\n    <tr>\n      <th>46</th>\n      <td>4ae55fdc-beb3-42de-834f-1e958153d510</td>\n      <td>raw</td>\n      <td>46</td>\n      <td>catalog</td>\n      <td>2019-11-01 22:33:17.682468</td>\n      <td>629881394.0</td>\n    </tr>\n    <tr>\n      <th>47</th>\n      <td>f65ac25a-ae05-4294-aab1-6c57bf7cd4f8</td>\n      <td>raw</td>\n      <td>47</td>\n      <td>product1</td>\n      <td>2019-11-01 22:33:19.961115</td>\n      <td>629881394.0</td>\n    </tr>\n    <tr>\n      <th>48</th>\n      <td>43cdf470-32ae-4108-ab22-1942497fe773</td>\n      <td>raw</td>\n      <td>48</td>\n      <td>catalog</td>\n      <td>2019-11-01 22:33:35.460345</td>\n      <td>629881394.0</td>\n    </tr>\n    <tr>\n      <th>51</th>\n      <td>f822d087-d4af-4572-bff8-66b49f70f8b3</td>\n      <td>raw</td>\n      <td>51</td>\n      <td>catalog</td>\n      <td>2019-11-01 22:34:02.301293</td>\n      <td>629881394.0</td>\n    </tr>\n    <tr>\n      <th>54</th>\n      <td>3f050d42-2416-4ddc-baac-cc4c4a28aa87</td>\n      <td>raw</td>\n      <td>54</td>\n      <td>product2</td>\n      <td>2019-11-01 22:34:32.362386</td>\n      <td>629881394.0</td>\n    </tr>\n    <tr>\n      <th>57</th>\n      <td>e11b1664-d137-449d-8910-a642167834f2</td>\n      <td>raw</td>\n      <td>57</td>\n      <td>catalog</td>\n      <td>2019-11-01 22:35:01.462515</td>\n      <td>629881394.0</td>\n    </tr>\n    <tr>\n      <th>59</th>\n      <td>b143afc9-c6e9-42a6-afcc-dfe4e82e803e</td>\n      <td>raw</td>\n      <td>59</td>\n      <td>product2</td>\n      <td>2019-11-01 22:35:33.142711</td>\n      <td>629881394.0</td>\n    </tr>\n    <tr>\n      <th>62</th>\n      <td>12224283-faa9-410e-9da0-4ed25f431c43</td>\n      <td>raw</td>\n      <td>62</td>\n      <td>cart</td>\n      <td>2019-11-01 22:35:50.437706</td>\n      <td>629881394.0</td>\n    </tr>\n    <tr>\n      <th>64</th>\n      <td>91a769a8-9bde-4b98-8312-b753410b48fa</td>\n      <td>raw</td>\n      <td>64</td>\n      <td>delivery_choice</td>\n      <td>2019-11-01 22:35:57.649549</td>\n      <td>629881394.0</td>\n    </tr>\n    <tr>\n      <th>65</th>\n      <td>d2a1e54e-0780-4678-ae3c-6251110c1b53</td>\n      <td>raw</td>\n      <td>65</td>\n      <td>delivery_courier</td>\n      <td>2019-11-01 22:36:02.009271</td>\n      <td>629881394.0</td>\n    </tr>\n    <tr>\n      <th>68</th>\n      <td>7b38c485-989b-4bda-ac14-378ee0150421</td>\n      <td>raw</td>\n      <td>68</td>\n      <td>payment_choice</td>\n      <td>2019-11-01 22:36:02.243274</td>\n      <td>629881394.0</td>\n    </tr>\n    <tr>\n      <th>70</th>\n      <td>7eb22cd4-2007-492a-8ddc-c9a123c2544d</td>\n      <td>raw</td>\n      <td>70</td>\n      <td>payment_cash</td>\n      <td>2019-11-01 22:36:03.415201</td>\n      <td>629881394.0</td>\n    </tr>\n    <tr>\n      <th>71</th>\n      <td>0a076f3a-8e35-476e-a446-32c329d3c2f5</td>\n      <td>raw</td>\n      <td>71</td>\n      <td>payment_done</td>\n      <td>2019-11-01 22:36:03.999697</td>\n      <td>629881394.0</td>\n    </tr>\n    <tr>\n      <th>557</th>\n      <td>42354a37-f429-4770-82ab-8c370f5b2115</td>\n      <td>raw</td>\n      <td>557</td>\n      <td>main</td>\n      <td>2019-11-07 12:40:46.004674</td>\n      <td>629881394.0</td>\n    </tr>\n    <tr>\n      <th>559</th>\n      <td>2cab4a65-dc9b-4bf2-8206-2e8ea1ac61be</td>\n      <td>raw</td>\n      <td>559</td>\n      <td>catalog</td>\n      <td>2019-11-07 12:40:55.724185</td>\n      <td>629881394.0</td>\n    </tr>\n    <tr>\n      <th>562</th>\n      <td>bfe1a52f-1ae0-4a3c-84fd-586c0c9a3067</td>\n      <td>raw</td>\n      <td>562</td>\n      <td>cart</td>\n      <td>2019-11-07 12:41:04.107187</td>\n      <td>629881394.0</td>\n    </tr>\n    <tr>\n      <th>2299</th>\n      <td>56a8d15b-3cd8-4a07-8e98-53a255ec569d</td>\n      <td>raw</td>\n      <td>2299</td>\n      <td>main</td>\n      <td>2019-11-25 23:16:56.317624</td>\n      <td>629881394.0</td>\n    </tr>\n    <tr>\n      <th>2300</th>\n      <td>197334b3-7b3c-4f4b-9ac9-ec7c61fb6f2f</td>\n      <td>raw</td>\n      <td>2300</td>\n      <td>catalog</td>\n      <td>2019-11-25 23:17:16.266242</td>\n      <td>629881394.0</td>\n    </tr>\n    <tr>\n      <th>2301</th>\n      <td>644ca5c4-9f43-4ce2-86de-f449738cf93a</td>\n      <td>raw</td>\n      <td>2301</td>\n      <td>catalog</td>\n      <td>2019-11-25 23:17:48.747304</td>\n      <td>629881394.0</td>\n    </tr>\n    <tr>\n      <th>10237</th>\n      <td>3c0ea358-b2d7-4113-b65a-c1e34319676b</td>\n      <td>raw</td>\n      <td>10237</td>\n      <td>main</td>\n      <td>2020-01-23 18:56:23.445236</td>\n      <td>629881394.0</td>\n    </tr>\n    <tr>\n      <th>10238</th>\n      <td>5de8841f-472b-468d-a561-04d918424923</td>\n      <td>raw</td>\n      <td>10238</td>\n      <td>catalog</td>\n      <td>2020-01-23 18:56:30.461624</td>\n      <td>629881394.0</td>\n    </tr>\n    <tr>\n      <th>16944</th>\n      <td>f2af8036-5bdd-4dda-8208-8fc1d18bb985</td>\n      <td>raw</td>\n      <td>16944</td>\n      <td>main</td>\n      <td>2020-03-01 23:23:43.392597</td>\n      <td>629881394.0</td>\n    </tr>\n    <tr>\n      <th>16945</th>\n      <td>eb5471ed-2f02-427e-bfe4-3934b98fe3b8</td>\n      <td>raw</td>\n      <td>16945</td>\n      <td>catalog</td>\n      <td>2020-03-01 23:23:44.755693</td>\n      <td>629881394.0</td>\n    </tr>\n    <tr>\n      <th>16946</th>\n      <td>d2852ca3-585a-4972-8aa7-ef50e07ede02</td>\n      <td>raw</td>\n      <td>16946</td>\n      <td>main</td>\n      <td>2020-03-01 23:23:51.625991</td>\n      <td>629881394.0</td>\n    </tr>\n    <tr>\n      <th>18120</th>\n      <td>b1d64df6-7cff-4f7a-8d4d-a2c16a412e40</td>\n      <td>raw</td>\n      <td>18120</td>\n      <td>main</td>\n      <td>2020-03-07 12:05:23.938242</td>\n      <td>629881394.0</td>\n    </tr>\n    <tr>\n      <th>18121</th>\n      <td>ae14eacf-bac9-40c8-9bf4-45655343f29c</td>\n      <td>raw</td>\n      <td>18121</td>\n      <td>catalog</td>\n      <td>2020-03-07 12:05:32.476046</td>\n      <td>629881394.0</td>\n    </tr>\n    <tr>\n      <th>21699</th>\n      <td>ccd780bc-7067-4724-890f-179fa4c1a0c4</td>\n      <td>raw</td>\n      <td>21699</td>\n      <td>main</td>\n      <td>2020-03-26 13:00:47.844886</td>\n      <td>629881394.0</td>\n    </tr>\n    <tr>\n      <th>21700</th>\n      <td>ffe86993-194c-4bb2-b111-122009b90626</td>\n      <td>raw</td>\n      <td>21700</td>\n      <td>catalog</td>\n      <td>2020-03-26 13:00:49.531644</td>\n      <td>629881394.0</td>\n    </tr>\n    <tr>\n      <th>22514</th>\n      <td>a924e670-416b-493c-8e1a-e5957e7a2545</td>\n      <td>raw</td>\n      <td>22514</td>\n      <td>main</td>\n      <td>2020-03-30 00:11:47.920536</td>\n      <td>629881394.0</td>\n    </tr>\n    <tr>\n      <th>22559</th>\n      <td>6b0eef49-ce43-45bb-a291-d29e2e38c3ad</td>\n      <td>raw</td>\n      <td>22559</td>\n      <td>main</td>\n      <td>2020-03-30 03:17:46.909845</td>\n      <td>629881394.0</td>\n    </tr>\n    <tr>\n      <th>22560</th>\n      <td>dcda9ac9-c933-4d70-a3e0-d04eaaf6814c</td>\n      <td>raw</td>\n      <td>22560</td>\n      <td>catalog</td>\n      <td>2020-03-30 03:17:49.918774</td>\n      <td>629881394.0</td>\n    </tr>\n    <tr>\n      <th>22561</th>\n      <td>55ce0ff8-8790-4e2f-a0fe-ad99b558fb9c</td>\n      <td>raw</td>\n      <td>22561</td>\n      <td>catalog</td>\n      <td>2020-03-30 03:18:17.835191</td>\n      <td>629881394.0</td>\n    </tr>\n    <tr>\n      <th>22562</th>\n      <td>b8eb4223-905e-4358-a1a5-41860d380d62</td>\n      <td>raw</td>\n      <td>22562</td>\n      <td>catalog</td>\n      <td>2020-03-30 03:18:53.715887</td>\n      <td>629881394.0</td>\n    </tr>\n    <tr>\n      <th>22563</th>\n      <td>359134c5-559d-4f28-be34-af3420e5caeb</td>\n      <td>raw</td>\n      <td>22563</td>\n      <td>catalog</td>\n      <td>2020-03-30 03:19:36.034262</td>\n      <td>629881394.0</td>\n    </tr>\n    <tr>\n      <th>22564</th>\n      <td>a8d0af4f-28d2-4f9a-903f-fda51c854026</td>\n      <td>raw</td>\n      <td>22564</td>\n      <td>catalog</td>\n      <td>2020-03-30 03:19:59.515094</td>\n      <td>629881394.0</td>\n    </tr>\n  </tbody>\n</table>\n</div>"
     },
     "execution_count": 64,
     "metadata": {},
     "output_type": "execute_result"
    }
   ],
   "source": [
    "check_id = 629881394\n",
    "print(f'Длина отрезанной траектории для пользователя {check_id} - ',\n",
    "      len(df92[df92['user_id'] == check_id]))\n",
    "df92[df92['user_id'] == check_id]"
   ],
   "metadata": {
    "collapsed": false,
    "pycharm": {
     "name": "#%%\n"
    }
   }
  },
  {
   "cell_type": "code",
   "execution_count": 65,
   "outputs": [],
   "source": [
    "# Время, по которому обрезается траектория, здесь задаем конкретное событие payment_cash, для теста надо будет автоматизировать\n",
    "\n",
    "event_time = source_df[(source_df['user_id'] == check_id) & \\\n",
    "    (source_df['event_name'] == 'product2')]['event_timestamp'].min()"
   ],
   "metadata": {
    "collapsed": false,
    "pycharm": {
     "name": "#%%\n"
    }
   }
  },
  {
   "cell_type": "code",
   "execution_count": 66,
   "outputs": [
    {
     "name": "stdout",
     "output_type": "stream",
     "text": [
      "Длина обрезанной траектории из source_df для пользователя  629881394 -  35\n"
     ]
    },
    {
     "data": {
      "text/plain": "                                   event_id event_type  event_index  \\\n23     4ae55fdc-beb3-42de-834f-1e958153d510        raw           23   \n24     f65ac25a-ae05-4294-aab1-6c57bf7cd4f8        raw           24   \n25     43cdf470-32ae-4108-ab22-1942497fe773        raw           25   \n27     f822d087-d4af-4572-bff8-66b49f70f8b3        raw           27   \n29     3f050d42-2416-4ddc-baac-cc4c4a28aa87        raw           29   \n31     e11b1664-d137-449d-8910-a642167834f2        raw           31   \n33     b143afc9-c6e9-42a6-afcc-dfe4e82e803e        raw           33   \n36     12224283-faa9-410e-9da0-4ed25f431c43        raw           36   \n38     91a769a8-9bde-4b98-8312-b753410b48fa        raw           38   \n39     d2a1e54e-0780-4678-ae3c-6251110c1b53        raw           39   \n42     7b38c485-989b-4bda-ac14-378ee0150421        raw           42   \n44     7eb22cd4-2007-492a-8ddc-c9a123c2544d        raw           44   \n45     0a076f3a-8e35-476e-a446-32c329d3c2f5        raw           45   \n340    42354a37-f429-4770-82ab-8c370f5b2115        raw          340   \n342    2cab4a65-dc9b-4bf2-8206-2e8ea1ac61be        raw          342   \n345    bfe1a52f-1ae0-4a3c-84fd-586c0c9a3067        raw          345   \n1330   56a8d15b-3cd8-4a07-8e98-53a255ec569d        raw         1330   \n1331   197334b3-7b3c-4f4b-9ac9-ec7c61fb6f2f        raw         1331   \n1332   644ca5c4-9f43-4ce2-86de-f449738cf93a        raw         1332   \n6292   3c0ea358-b2d7-4113-b65a-c1e34319676b        raw         6292   \n6293   5de8841f-472b-468d-a561-04d918424923        raw         6293   \n10660  f2af8036-5bdd-4dda-8208-8fc1d18bb985        raw        10660   \n10661  eb5471ed-2f02-427e-bfe4-3934b98fe3b8        raw        10661   \n10662  d2852ca3-585a-4972-8aa7-ef50e07ede02        raw        10662   \n11455  b1d64df6-7cff-4f7a-8d4d-a2c16a412e40        raw        11455   \n11456  ae14eacf-bac9-40c8-9bf4-45655343f29c        raw        11456   \n13881  ccd780bc-7067-4724-890f-179fa4c1a0c4        raw        13881   \n13882  ffe86993-194c-4bb2-b111-122009b90626        raw        13882   \n14458  a924e670-416b-493c-8e1a-e5957e7a2545        raw        14458   \n14481  6b0eef49-ce43-45bb-a291-d29e2e38c3ad        raw        14481   \n14482  dcda9ac9-c933-4d70-a3e0-d04eaaf6814c        raw        14482   \n14483  55ce0ff8-8790-4e2f-a0fe-ad99b558fb9c        raw        14483   \n14484  b8eb4223-905e-4358-a1a5-41860d380d62        raw        14484   \n14485  359134c5-559d-4f28-be34-af3420e5caeb        raw        14485   \n14486  a8d0af4f-28d2-4f9a-903f-fda51c854026        raw        14486   \n\n             event_name            event_timestamp    user_id  \n23              catalog 2019-11-01 22:33:17.682468  629881394  \n24             product1 2019-11-01 22:33:19.961115  629881394  \n25              catalog 2019-11-01 22:33:35.460345  629881394  \n27              catalog 2019-11-01 22:34:02.301293  629881394  \n29             product2 2019-11-01 22:34:32.362386  629881394  \n31              catalog 2019-11-01 22:35:01.462515  629881394  \n33             product2 2019-11-01 22:35:33.142711  629881394  \n36                 cart 2019-11-01 22:35:50.437706  629881394  \n38      delivery_choice 2019-11-01 22:35:57.649549  629881394  \n39     delivery_courier 2019-11-01 22:36:02.009271  629881394  \n42       payment_choice 2019-11-01 22:36:02.243274  629881394  \n44         payment_cash 2019-11-01 22:36:03.415201  629881394  \n45         payment_done 2019-11-01 22:36:03.999697  629881394  \n340                main 2019-11-07 12:40:46.004674  629881394  \n342             catalog 2019-11-07 12:40:55.724185  629881394  \n345                cart 2019-11-07 12:41:04.107187  629881394  \n1330               main 2019-11-25 23:16:56.317624  629881394  \n1331            catalog 2019-11-25 23:17:16.266242  629881394  \n1332            catalog 2019-11-25 23:17:48.747304  629881394  \n6292               main 2020-01-23 18:56:23.445236  629881394  \n6293            catalog 2020-01-23 18:56:30.461624  629881394  \n10660              main 2020-03-01 23:23:43.392597  629881394  \n10661           catalog 2020-03-01 23:23:44.755693  629881394  \n10662              main 2020-03-01 23:23:51.625991  629881394  \n11455              main 2020-03-07 12:05:23.938242  629881394  \n11456           catalog 2020-03-07 12:05:32.476046  629881394  \n13881              main 2020-03-26 13:00:47.844886  629881394  \n13882           catalog 2020-03-26 13:00:49.531644  629881394  \n14458              main 2020-03-30 00:11:47.920536  629881394  \n14481              main 2020-03-30 03:17:46.909845  629881394  \n14482           catalog 2020-03-30 03:17:49.918774  629881394  \n14483           catalog 2020-03-30 03:18:17.835191  629881394  \n14484           catalog 2020-03-30 03:18:53.715887  629881394  \n14485           catalog 2020-03-30 03:19:36.034262  629881394  \n14486           catalog 2020-03-30 03:19:59.515094  629881394  ",
      "text/html": "<div>\n<style scoped>\n    .dataframe tbody tr th:only-of-type {\n        vertical-align: middle;\n    }\n\n    .dataframe tbody tr th {\n        vertical-align: top;\n    }\n\n    .dataframe thead th {\n        text-align: right;\n    }\n</style>\n<table border=\"1\" class=\"dataframe\">\n  <thead>\n    <tr style=\"text-align: right;\">\n      <th></th>\n      <th>event_id</th>\n      <th>event_type</th>\n      <th>event_index</th>\n      <th>event_name</th>\n      <th>event_timestamp</th>\n      <th>user_id</th>\n    </tr>\n  </thead>\n  <tbody>\n    <tr>\n      <th>23</th>\n      <td>4ae55fdc-beb3-42de-834f-1e958153d510</td>\n      <td>raw</td>\n      <td>23</td>\n      <td>catalog</td>\n      <td>2019-11-01 22:33:17.682468</td>\n      <td>629881394</td>\n    </tr>\n    <tr>\n      <th>24</th>\n      <td>f65ac25a-ae05-4294-aab1-6c57bf7cd4f8</td>\n      <td>raw</td>\n      <td>24</td>\n      <td>product1</td>\n      <td>2019-11-01 22:33:19.961115</td>\n      <td>629881394</td>\n    </tr>\n    <tr>\n      <th>25</th>\n      <td>43cdf470-32ae-4108-ab22-1942497fe773</td>\n      <td>raw</td>\n      <td>25</td>\n      <td>catalog</td>\n      <td>2019-11-01 22:33:35.460345</td>\n      <td>629881394</td>\n    </tr>\n    <tr>\n      <th>27</th>\n      <td>f822d087-d4af-4572-bff8-66b49f70f8b3</td>\n      <td>raw</td>\n      <td>27</td>\n      <td>catalog</td>\n      <td>2019-11-01 22:34:02.301293</td>\n      <td>629881394</td>\n    </tr>\n    <tr>\n      <th>29</th>\n      <td>3f050d42-2416-4ddc-baac-cc4c4a28aa87</td>\n      <td>raw</td>\n      <td>29</td>\n      <td>product2</td>\n      <td>2019-11-01 22:34:32.362386</td>\n      <td>629881394</td>\n    </tr>\n    <tr>\n      <th>31</th>\n      <td>e11b1664-d137-449d-8910-a642167834f2</td>\n      <td>raw</td>\n      <td>31</td>\n      <td>catalog</td>\n      <td>2019-11-01 22:35:01.462515</td>\n      <td>629881394</td>\n    </tr>\n    <tr>\n      <th>33</th>\n      <td>b143afc9-c6e9-42a6-afcc-dfe4e82e803e</td>\n      <td>raw</td>\n      <td>33</td>\n      <td>product2</td>\n      <td>2019-11-01 22:35:33.142711</td>\n      <td>629881394</td>\n    </tr>\n    <tr>\n      <th>36</th>\n      <td>12224283-faa9-410e-9da0-4ed25f431c43</td>\n      <td>raw</td>\n      <td>36</td>\n      <td>cart</td>\n      <td>2019-11-01 22:35:50.437706</td>\n      <td>629881394</td>\n    </tr>\n    <tr>\n      <th>38</th>\n      <td>91a769a8-9bde-4b98-8312-b753410b48fa</td>\n      <td>raw</td>\n      <td>38</td>\n      <td>delivery_choice</td>\n      <td>2019-11-01 22:35:57.649549</td>\n      <td>629881394</td>\n    </tr>\n    <tr>\n      <th>39</th>\n      <td>d2a1e54e-0780-4678-ae3c-6251110c1b53</td>\n      <td>raw</td>\n      <td>39</td>\n      <td>delivery_courier</td>\n      <td>2019-11-01 22:36:02.009271</td>\n      <td>629881394</td>\n    </tr>\n    <tr>\n      <th>42</th>\n      <td>7b38c485-989b-4bda-ac14-378ee0150421</td>\n      <td>raw</td>\n      <td>42</td>\n      <td>payment_choice</td>\n      <td>2019-11-01 22:36:02.243274</td>\n      <td>629881394</td>\n    </tr>\n    <tr>\n      <th>44</th>\n      <td>7eb22cd4-2007-492a-8ddc-c9a123c2544d</td>\n      <td>raw</td>\n      <td>44</td>\n      <td>payment_cash</td>\n      <td>2019-11-01 22:36:03.415201</td>\n      <td>629881394</td>\n    </tr>\n    <tr>\n      <th>45</th>\n      <td>0a076f3a-8e35-476e-a446-32c329d3c2f5</td>\n      <td>raw</td>\n      <td>45</td>\n      <td>payment_done</td>\n      <td>2019-11-01 22:36:03.999697</td>\n      <td>629881394</td>\n    </tr>\n    <tr>\n      <th>340</th>\n      <td>42354a37-f429-4770-82ab-8c370f5b2115</td>\n      <td>raw</td>\n      <td>340</td>\n      <td>main</td>\n      <td>2019-11-07 12:40:46.004674</td>\n      <td>629881394</td>\n    </tr>\n    <tr>\n      <th>342</th>\n      <td>2cab4a65-dc9b-4bf2-8206-2e8ea1ac61be</td>\n      <td>raw</td>\n      <td>342</td>\n      <td>catalog</td>\n      <td>2019-11-07 12:40:55.724185</td>\n      <td>629881394</td>\n    </tr>\n    <tr>\n      <th>345</th>\n      <td>bfe1a52f-1ae0-4a3c-84fd-586c0c9a3067</td>\n      <td>raw</td>\n      <td>345</td>\n      <td>cart</td>\n      <td>2019-11-07 12:41:04.107187</td>\n      <td>629881394</td>\n    </tr>\n    <tr>\n      <th>1330</th>\n      <td>56a8d15b-3cd8-4a07-8e98-53a255ec569d</td>\n      <td>raw</td>\n      <td>1330</td>\n      <td>main</td>\n      <td>2019-11-25 23:16:56.317624</td>\n      <td>629881394</td>\n    </tr>\n    <tr>\n      <th>1331</th>\n      <td>197334b3-7b3c-4f4b-9ac9-ec7c61fb6f2f</td>\n      <td>raw</td>\n      <td>1331</td>\n      <td>catalog</td>\n      <td>2019-11-25 23:17:16.266242</td>\n      <td>629881394</td>\n    </tr>\n    <tr>\n      <th>1332</th>\n      <td>644ca5c4-9f43-4ce2-86de-f449738cf93a</td>\n      <td>raw</td>\n      <td>1332</td>\n      <td>catalog</td>\n      <td>2019-11-25 23:17:48.747304</td>\n      <td>629881394</td>\n    </tr>\n    <tr>\n      <th>6292</th>\n      <td>3c0ea358-b2d7-4113-b65a-c1e34319676b</td>\n      <td>raw</td>\n      <td>6292</td>\n      <td>main</td>\n      <td>2020-01-23 18:56:23.445236</td>\n      <td>629881394</td>\n    </tr>\n    <tr>\n      <th>6293</th>\n      <td>5de8841f-472b-468d-a561-04d918424923</td>\n      <td>raw</td>\n      <td>6293</td>\n      <td>catalog</td>\n      <td>2020-01-23 18:56:30.461624</td>\n      <td>629881394</td>\n    </tr>\n    <tr>\n      <th>10660</th>\n      <td>f2af8036-5bdd-4dda-8208-8fc1d18bb985</td>\n      <td>raw</td>\n      <td>10660</td>\n      <td>main</td>\n      <td>2020-03-01 23:23:43.392597</td>\n      <td>629881394</td>\n    </tr>\n    <tr>\n      <th>10661</th>\n      <td>eb5471ed-2f02-427e-bfe4-3934b98fe3b8</td>\n      <td>raw</td>\n      <td>10661</td>\n      <td>catalog</td>\n      <td>2020-03-01 23:23:44.755693</td>\n      <td>629881394</td>\n    </tr>\n    <tr>\n      <th>10662</th>\n      <td>d2852ca3-585a-4972-8aa7-ef50e07ede02</td>\n      <td>raw</td>\n      <td>10662</td>\n      <td>main</td>\n      <td>2020-03-01 23:23:51.625991</td>\n      <td>629881394</td>\n    </tr>\n    <tr>\n      <th>11455</th>\n      <td>b1d64df6-7cff-4f7a-8d4d-a2c16a412e40</td>\n      <td>raw</td>\n      <td>11455</td>\n      <td>main</td>\n      <td>2020-03-07 12:05:23.938242</td>\n      <td>629881394</td>\n    </tr>\n    <tr>\n      <th>11456</th>\n      <td>ae14eacf-bac9-40c8-9bf4-45655343f29c</td>\n      <td>raw</td>\n      <td>11456</td>\n      <td>catalog</td>\n      <td>2020-03-07 12:05:32.476046</td>\n      <td>629881394</td>\n    </tr>\n    <tr>\n      <th>13881</th>\n      <td>ccd780bc-7067-4724-890f-179fa4c1a0c4</td>\n      <td>raw</td>\n      <td>13881</td>\n      <td>main</td>\n      <td>2020-03-26 13:00:47.844886</td>\n      <td>629881394</td>\n    </tr>\n    <tr>\n      <th>13882</th>\n      <td>ffe86993-194c-4bb2-b111-122009b90626</td>\n      <td>raw</td>\n      <td>13882</td>\n      <td>catalog</td>\n      <td>2020-03-26 13:00:49.531644</td>\n      <td>629881394</td>\n    </tr>\n    <tr>\n      <th>14458</th>\n      <td>a924e670-416b-493c-8e1a-e5957e7a2545</td>\n      <td>raw</td>\n      <td>14458</td>\n      <td>main</td>\n      <td>2020-03-30 00:11:47.920536</td>\n      <td>629881394</td>\n    </tr>\n    <tr>\n      <th>14481</th>\n      <td>6b0eef49-ce43-45bb-a291-d29e2e38c3ad</td>\n      <td>raw</td>\n      <td>14481</td>\n      <td>main</td>\n      <td>2020-03-30 03:17:46.909845</td>\n      <td>629881394</td>\n    </tr>\n    <tr>\n      <th>14482</th>\n      <td>dcda9ac9-c933-4d70-a3e0-d04eaaf6814c</td>\n      <td>raw</td>\n      <td>14482</td>\n      <td>catalog</td>\n      <td>2020-03-30 03:17:49.918774</td>\n      <td>629881394</td>\n    </tr>\n    <tr>\n      <th>14483</th>\n      <td>55ce0ff8-8790-4e2f-a0fe-ad99b558fb9c</td>\n      <td>raw</td>\n      <td>14483</td>\n      <td>catalog</td>\n      <td>2020-03-30 03:18:17.835191</td>\n      <td>629881394</td>\n    </tr>\n    <tr>\n      <th>14484</th>\n      <td>b8eb4223-905e-4358-a1a5-41860d380d62</td>\n      <td>raw</td>\n      <td>14484</td>\n      <td>catalog</td>\n      <td>2020-03-30 03:18:53.715887</td>\n      <td>629881394</td>\n    </tr>\n    <tr>\n      <th>14485</th>\n      <td>359134c5-559d-4f28-be34-af3420e5caeb</td>\n      <td>raw</td>\n      <td>14485</td>\n      <td>catalog</td>\n      <td>2020-03-30 03:19:36.034262</td>\n      <td>629881394</td>\n    </tr>\n    <tr>\n      <th>14486</th>\n      <td>a8d0af4f-28d2-4f9a-903f-fda51c854026</td>\n      <td>raw</td>\n      <td>14486</td>\n      <td>catalog</td>\n      <td>2020-03-30 03:19:59.515094</td>\n      <td>629881394</td>\n    </tr>\n  </tbody>\n</table>\n</div>"
     },
     "execution_count": 66,
     "metadata": {},
     "output_type": "execute_result"
    }
   ],
   "source": [
    "print(f'Длина обрезанной траектории из source_df для пользователя  {check_id} - ', len(source_df[(source_df['user_id'] == check_id) &\\\n",
    "          (source_df['event_timestamp'] > event_time)]))\n",
    "source_df[(source_df['user_id'] == check_id) &\\\n",
    "          (source_df['event_timestamp'] > event_time)]"
   ],
   "metadata": {
    "collapsed": false,
    "pycharm": {
     "name": "#%%\n"
    }
   }
  },
  {
   "cell_type": "code",
   "execution_count": 67,
   "outputs": [
    {
     "name": "stdout",
     "output_type": "stream",
     "text": [
      "48\n"
     ]
    },
    {
     "data": {
      "text/plain": "                                   event_id event_type  event_index  \\\n7      9863622f-3251-4e1f-a28d-2cfb9889736b        raw            7   \n9      3ce21b73-8cd5-445a-ac87-dca35447093c        raw            9   \n11     9e74c251-b5d9-41f5-9178-55b869221bcd        raw           11   \n13     7519f116-53fd-43a5-9408-b39aee3e2e91        raw           13   \n14     e3efa4db-637e-4f7d-97ca-47627452e66e        raw           14   \n15     33fd2fec-0669-4448-b679-a61166ddeed5        raw           15   \n16     13a72e04-a34e-4efc-b2bb-2b280c76498d        raw           16   \n17     4d6b8867-1543-48ed-b9a6-fffdd5f66f57        raw           17   \n18     af71ac16-aca0-41df-b073-4055d2b1951a        raw           18   \n19     c0935c1a-64af-4b5e-a297-fc9b8ba15c77        raw           19   \n20     de5bb387-e5d1-4e1c-890f-8ea47efd9c57        raw           20   \n21     29cb632e-3108-4a15-8517-948347eb9c37        raw           21   \n22     5acb3cba-b641-43dc-9422-72cecbc435e4        raw           22   \n23     4ae55fdc-beb3-42de-834f-1e958153d510        raw           23   \n24     f65ac25a-ae05-4294-aab1-6c57bf7cd4f8        raw           24   \n25     43cdf470-32ae-4108-ab22-1942497fe773        raw           25   \n27     f822d087-d4af-4572-bff8-66b49f70f8b3        raw           27   \n29     3f050d42-2416-4ddc-baac-cc4c4a28aa87        raw           29   \n31     e11b1664-d137-449d-8910-a642167834f2        raw           31   \n33     b143afc9-c6e9-42a6-afcc-dfe4e82e803e        raw           33   \n36     12224283-faa9-410e-9da0-4ed25f431c43        raw           36   \n38     91a769a8-9bde-4b98-8312-b753410b48fa        raw           38   \n39     d2a1e54e-0780-4678-ae3c-6251110c1b53        raw           39   \n42     7b38c485-989b-4bda-ac14-378ee0150421        raw           42   \n44     7eb22cd4-2007-492a-8ddc-c9a123c2544d        raw           44   \n45     0a076f3a-8e35-476e-a446-32c329d3c2f5        raw           45   \n340    42354a37-f429-4770-82ab-8c370f5b2115        raw          340   \n342    2cab4a65-dc9b-4bf2-8206-2e8ea1ac61be        raw          342   \n345    bfe1a52f-1ae0-4a3c-84fd-586c0c9a3067        raw          345   \n1330   56a8d15b-3cd8-4a07-8e98-53a255ec569d        raw         1330   \n1331   197334b3-7b3c-4f4b-9ac9-ec7c61fb6f2f        raw         1331   \n1332   644ca5c4-9f43-4ce2-86de-f449738cf93a        raw         1332   \n6292   3c0ea358-b2d7-4113-b65a-c1e34319676b        raw         6292   \n6293   5de8841f-472b-468d-a561-04d918424923        raw         6293   \n10660  f2af8036-5bdd-4dda-8208-8fc1d18bb985        raw        10660   \n10661  eb5471ed-2f02-427e-bfe4-3934b98fe3b8        raw        10661   \n10662  d2852ca3-585a-4972-8aa7-ef50e07ede02        raw        10662   \n11455  b1d64df6-7cff-4f7a-8d4d-a2c16a412e40        raw        11455   \n11456  ae14eacf-bac9-40c8-9bf4-45655343f29c        raw        11456   \n13881  ccd780bc-7067-4724-890f-179fa4c1a0c4        raw        13881   \n13882  ffe86993-194c-4bb2-b111-122009b90626        raw        13882   \n14458  a924e670-416b-493c-8e1a-e5957e7a2545        raw        14458   \n14481  6b0eef49-ce43-45bb-a291-d29e2e38c3ad        raw        14481   \n14482  dcda9ac9-c933-4d70-a3e0-d04eaaf6814c        raw        14482   \n14483  55ce0ff8-8790-4e2f-a0fe-ad99b558fb9c        raw        14483   \n14484  b8eb4223-905e-4358-a1a5-41860d380d62        raw        14484   \n14485  359134c5-559d-4f28-be34-af3420e5caeb        raw        14485   \n14486  a8d0af4f-28d2-4f9a-903f-fda51c854026        raw        14486   \n\n             event_name            event_timestamp    user_id  \n7                  main 2019-11-01 22:28:54.791683  629881394  \n9               catalog 2019-11-01 22:29:01.049513  629881394  \n11              catalog 2019-11-01 22:29:32.322458  629881394  \n13              catalog 2019-11-01 22:30:09.450839  629881394  \n14              catalog 2019-11-01 22:31:05.565762  629881394  \n15                 main 2019-11-01 22:31:08.333560  629881394  \n16              catalog 2019-11-01 22:31:09.010626  629881394  \n17             product1 2019-11-01 22:31:10.416231  629881394  \n18              catalog 2019-11-01 22:31:43.019527  629881394  \n19              catalog 2019-11-01 22:32:01.596163  629881394  \n20             product1 2019-11-01 22:32:07.348536  629881394  \n21              catalog 2019-11-01 22:32:10.165568  629881394  \n22             product2 2019-11-01 22:32:16.496241  629881394  \n23              catalog 2019-11-01 22:33:17.682468  629881394  \n24             product1 2019-11-01 22:33:19.961115  629881394  \n25              catalog 2019-11-01 22:33:35.460345  629881394  \n27              catalog 2019-11-01 22:34:02.301293  629881394  \n29             product2 2019-11-01 22:34:32.362386  629881394  \n31              catalog 2019-11-01 22:35:01.462515  629881394  \n33             product2 2019-11-01 22:35:33.142711  629881394  \n36                 cart 2019-11-01 22:35:50.437706  629881394  \n38      delivery_choice 2019-11-01 22:35:57.649549  629881394  \n39     delivery_courier 2019-11-01 22:36:02.009271  629881394  \n42       payment_choice 2019-11-01 22:36:02.243274  629881394  \n44         payment_cash 2019-11-01 22:36:03.415201  629881394  \n45         payment_done 2019-11-01 22:36:03.999697  629881394  \n340                main 2019-11-07 12:40:46.004674  629881394  \n342             catalog 2019-11-07 12:40:55.724185  629881394  \n345                cart 2019-11-07 12:41:04.107187  629881394  \n1330               main 2019-11-25 23:16:56.317624  629881394  \n1331            catalog 2019-11-25 23:17:16.266242  629881394  \n1332            catalog 2019-11-25 23:17:48.747304  629881394  \n6292               main 2020-01-23 18:56:23.445236  629881394  \n6293            catalog 2020-01-23 18:56:30.461624  629881394  \n10660              main 2020-03-01 23:23:43.392597  629881394  \n10661           catalog 2020-03-01 23:23:44.755693  629881394  \n10662              main 2020-03-01 23:23:51.625991  629881394  \n11455              main 2020-03-07 12:05:23.938242  629881394  \n11456           catalog 2020-03-07 12:05:32.476046  629881394  \n13881              main 2020-03-26 13:00:47.844886  629881394  \n13882           catalog 2020-03-26 13:00:49.531644  629881394  \n14458              main 2020-03-30 00:11:47.920536  629881394  \n14481              main 2020-03-30 03:17:46.909845  629881394  \n14482           catalog 2020-03-30 03:17:49.918774  629881394  \n14483           catalog 2020-03-30 03:18:17.835191  629881394  \n14484           catalog 2020-03-30 03:18:53.715887  629881394  \n14485           catalog 2020-03-30 03:19:36.034262  629881394  \n14486           catalog 2020-03-30 03:19:59.515094  629881394  ",
      "text/html": "<div>\n<style scoped>\n    .dataframe tbody tr th:only-of-type {\n        vertical-align: middle;\n    }\n\n    .dataframe tbody tr th {\n        vertical-align: top;\n    }\n\n    .dataframe thead th {\n        text-align: right;\n    }\n</style>\n<table border=\"1\" class=\"dataframe\">\n  <thead>\n    <tr style=\"text-align: right;\">\n      <th></th>\n      <th>event_id</th>\n      <th>event_type</th>\n      <th>event_index</th>\n      <th>event_name</th>\n      <th>event_timestamp</th>\n      <th>user_id</th>\n    </tr>\n  </thead>\n  <tbody>\n    <tr>\n      <th>7</th>\n      <td>9863622f-3251-4e1f-a28d-2cfb9889736b</td>\n      <td>raw</td>\n      <td>7</td>\n      <td>main</td>\n      <td>2019-11-01 22:28:54.791683</td>\n      <td>629881394</td>\n    </tr>\n    <tr>\n      <th>9</th>\n      <td>3ce21b73-8cd5-445a-ac87-dca35447093c</td>\n      <td>raw</td>\n      <td>9</td>\n      <td>catalog</td>\n      <td>2019-11-01 22:29:01.049513</td>\n      <td>629881394</td>\n    </tr>\n    <tr>\n      <th>11</th>\n      <td>9e74c251-b5d9-41f5-9178-55b869221bcd</td>\n      <td>raw</td>\n      <td>11</td>\n      <td>catalog</td>\n      <td>2019-11-01 22:29:32.322458</td>\n      <td>629881394</td>\n    </tr>\n    <tr>\n      <th>13</th>\n      <td>7519f116-53fd-43a5-9408-b39aee3e2e91</td>\n      <td>raw</td>\n      <td>13</td>\n      <td>catalog</td>\n      <td>2019-11-01 22:30:09.450839</td>\n      <td>629881394</td>\n    </tr>\n    <tr>\n      <th>14</th>\n      <td>e3efa4db-637e-4f7d-97ca-47627452e66e</td>\n      <td>raw</td>\n      <td>14</td>\n      <td>catalog</td>\n      <td>2019-11-01 22:31:05.565762</td>\n      <td>629881394</td>\n    </tr>\n    <tr>\n      <th>15</th>\n      <td>33fd2fec-0669-4448-b679-a61166ddeed5</td>\n      <td>raw</td>\n      <td>15</td>\n      <td>main</td>\n      <td>2019-11-01 22:31:08.333560</td>\n      <td>629881394</td>\n    </tr>\n    <tr>\n      <th>16</th>\n      <td>13a72e04-a34e-4efc-b2bb-2b280c76498d</td>\n      <td>raw</td>\n      <td>16</td>\n      <td>catalog</td>\n      <td>2019-11-01 22:31:09.010626</td>\n      <td>629881394</td>\n    </tr>\n    <tr>\n      <th>17</th>\n      <td>4d6b8867-1543-48ed-b9a6-fffdd5f66f57</td>\n      <td>raw</td>\n      <td>17</td>\n      <td>product1</td>\n      <td>2019-11-01 22:31:10.416231</td>\n      <td>629881394</td>\n    </tr>\n    <tr>\n      <th>18</th>\n      <td>af71ac16-aca0-41df-b073-4055d2b1951a</td>\n      <td>raw</td>\n      <td>18</td>\n      <td>catalog</td>\n      <td>2019-11-01 22:31:43.019527</td>\n      <td>629881394</td>\n    </tr>\n    <tr>\n      <th>19</th>\n      <td>c0935c1a-64af-4b5e-a297-fc9b8ba15c77</td>\n      <td>raw</td>\n      <td>19</td>\n      <td>catalog</td>\n      <td>2019-11-01 22:32:01.596163</td>\n      <td>629881394</td>\n    </tr>\n    <tr>\n      <th>20</th>\n      <td>de5bb387-e5d1-4e1c-890f-8ea47efd9c57</td>\n      <td>raw</td>\n      <td>20</td>\n      <td>product1</td>\n      <td>2019-11-01 22:32:07.348536</td>\n      <td>629881394</td>\n    </tr>\n    <tr>\n      <th>21</th>\n      <td>29cb632e-3108-4a15-8517-948347eb9c37</td>\n      <td>raw</td>\n      <td>21</td>\n      <td>catalog</td>\n      <td>2019-11-01 22:32:10.165568</td>\n      <td>629881394</td>\n    </tr>\n    <tr>\n      <th>22</th>\n      <td>5acb3cba-b641-43dc-9422-72cecbc435e4</td>\n      <td>raw</td>\n      <td>22</td>\n      <td>product2</td>\n      <td>2019-11-01 22:32:16.496241</td>\n      <td>629881394</td>\n    </tr>\n    <tr>\n      <th>23</th>\n      <td>4ae55fdc-beb3-42de-834f-1e958153d510</td>\n      <td>raw</td>\n      <td>23</td>\n      <td>catalog</td>\n      <td>2019-11-01 22:33:17.682468</td>\n      <td>629881394</td>\n    </tr>\n    <tr>\n      <th>24</th>\n      <td>f65ac25a-ae05-4294-aab1-6c57bf7cd4f8</td>\n      <td>raw</td>\n      <td>24</td>\n      <td>product1</td>\n      <td>2019-11-01 22:33:19.961115</td>\n      <td>629881394</td>\n    </tr>\n    <tr>\n      <th>25</th>\n      <td>43cdf470-32ae-4108-ab22-1942497fe773</td>\n      <td>raw</td>\n      <td>25</td>\n      <td>catalog</td>\n      <td>2019-11-01 22:33:35.460345</td>\n      <td>629881394</td>\n    </tr>\n    <tr>\n      <th>27</th>\n      <td>f822d087-d4af-4572-bff8-66b49f70f8b3</td>\n      <td>raw</td>\n      <td>27</td>\n      <td>catalog</td>\n      <td>2019-11-01 22:34:02.301293</td>\n      <td>629881394</td>\n    </tr>\n    <tr>\n      <th>29</th>\n      <td>3f050d42-2416-4ddc-baac-cc4c4a28aa87</td>\n      <td>raw</td>\n      <td>29</td>\n      <td>product2</td>\n      <td>2019-11-01 22:34:32.362386</td>\n      <td>629881394</td>\n    </tr>\n    <tr>\n      <th>31</th>\n      <td>e11b1664-d137-449d-8910-a642167834f2</td>\n      <td>raw</td>\n      <td>31</td>\n      <td>catalog</td>\n      <td>2019-11-01 22:35:01.462515</td>\n      <td>629881394</td>\n    </tr>\n    <tr>\n      <th>33</th>\n      <td>b143afc9-c6e9-42a6-afcc-dfe4e82e803e</td>\n      <td>raw</td>\n      <td>33</td>\n      <td>product2</td>\n      <td>2019-11-01 22:35:33.142711</td>\n      <td>629881394</td>\n    </tr>\n    <tr>\n      <th>36</th>\n      <td>12224283-faa9-410e-9da0-4ed25f431c43</td>\n      <td>raw</td>\n      <td>36</td>\n      <td>cart</td>\n      <td>2019-11-01 22:35:50.437706</td>\n      <td>629881394</td>\n    </tr>\n    <tr>\n      <th>38</th>\n      <td>91a769a8-9bde-4b98-8312-b753410b48fa</td>\n      <td>raw</td>\n      <td>38</td>\n      <td>delivery_choice</td>\n      <td>2019-11-01 22:35:57.649549</td>\n      <td>629881394</td>\n    </tr>\n    <tr>\n      <th>39</th>\n      <td>d2a1e54e-0780-4678-ae3c-6251110c1b53</td>\n      <td>raw</td>\n      <td>39</td>\n      <td>delivery_courier</td>\n      <td>2019-11-01 22:36:02.009271</td>\n      <td>629881394</td>\n    </tr>\n    <tr>\n      <th>42</th>\n      <td>7b38c485-989b-4bda-ac14-378ee0150421</td>\n      <td>raw</td>\n      <td>42</td>\n      <td>payment_choice</td>\n      <td>2019-11-01 22:36:02.243274</td>\n      <td>629881394</td>\n    </tr>\n    <tr>\n      <th>44</th>\n      <td>7eb22cd4-2007-492a-8ddc-c9a123c2544d</td>\n      <td>raw</td>\n      <td>44</td>\n      <td>payment_cash</td>\n      <td>2019-11-01 22:36:03.415201</td>\n      <td>629881394</td>\n    </tr>\n    <tr>\n      <th>45</th>\n      <td>0a076f3a-8e35-476e-a446-32c329d3c2f5</td>\n      <td>raw</td>\n      <td>45</td>\n      <td>payment_done</td>\n      <td>2019-11-01 22:36:03.999697</td>\n      <td>629881394</td>\n    </tr>\n    <tr>\n      <th>340</th>\n      <td>42354a37-f429-4770-82ab-8c370f5b2115</td>\n      <td>raw</td>\n      <td>340</td>\n      <td>main</td>\n      <td>2019-11-07 12:40:46.004674</td>\n      <td>629881394</td>\n    </tr>\n    <tr>\n      <th>342</th>\n      <td>2cab4a65-dc9b-4bf2-8206-2e8ea1ac61be</td>\n      <td>raw</td>\n      <td>342</td>\n      <td>catalog</td>\n      <td>2019-11-07 12:40:55.724185</td>\n      <td>629881394</td>\n    </tr>\n    <tr>\n      <th>345</th>\n      <td>bfe1a52f-1ae0-4a3c-84fd-586c0c9a3067</td>\n      <td>raw</td>\n      <td>345</td>\n      <td>cart</td>\n      <td>2019-11-07 12:41:04.107187</td>\n      <td>629881394</td>\n    </tr>\n    <tr>\n      <th>1330</th>\n      <td>56a8d15b-3cd8-4a07-8e98-53a255ec569d</td>\n      <td>raw</td>\n      <td>1330</td>\n      <td>main</td>\n      <td>2019-11-25 23:16:56.317624</td>\n      <td>629881394</td>\n    </tr>\n    <tr>\n      <th>1331</th>\n      <td>197334b3-7b3c-4f4b-9ac9-ec7c61fb6f2f</td>\n      <td>raw</td>\n      <td>1331</td>\n      <td>catalog</td>\n      <td>2019-11-25 23:17:16.266242</td>\n      <td>629881394</td>\n    </tr>\n    <tr>\n      <th>1332</th>\n      <td>644ca5c4-9f43-4ce2-86de-f449738cf93a</td>\n      <td>raw</td>\n      <td>1332</td>\n      <td>catalog</td>\n      <td>2019-11-25 23:17:48.747304</td>\n      <td>629881394</td>\n    </tr>\n    <tr>\n      <th>6292</th>\n      <td>3c0ea358-b2d7-4113-b65a-c1e34319676b</td>\n      <td>raw</td>\n      <td>6292</td>\n      <td>main</td>\n      <td>2020-01-23 18:56:23.445236</td>\n      <td>629881394</td>\n    </tr>\n    <tr>\n      <th>6293</th>\n      <td>5de8841f-472b-468d-a561-04d918424923</td>\n      <td>raw</td>\n      <td>6293</td>\n      <td>catalog</td>\n      <td>2020-01-23 18:56:30.461624</td>\n      <td>629881394</td>\n    </tr>\n    <tr>\n      <th>10660</th>\n      <td>f2af8036-5bdd-4dda-8208-8fc1d18bb985</td>\n      <td>raw</td>\n      <td>10660</td>\n      <td>main</td>\n      <td>2020-03-01 23:23:43.392597</td>\n      <td>629881394</td>\n    </tr>\n    <tr>\n      <th>10661</th>\n      <td>eb5471ed-2f02-427e-bfe4-3934b98fe3b8</td>\n      <td>raw</td>\n      <td>10661</td>\n      <td>catalog</td>\n      <td>2020-03-01 23:23:44.755693</td>\n      <td>629881394</td>\n    </tr>\n    <tr>\n      <th>10662</th>\n      <td>d2852ca3-585a-4972-8aa7-ef50e07ede02</td>\n      <td>raw</td>\n      <td>10662</td>\n      <td>main</td>\n      <td>2020-03-01 23:23:51.625991</td>\n      <td>629881394</td>\n    </tr>\n    <tr>\n      <th>11455</th>\n      <td>b1d64df6-7cff-4f7a-8d4d-a2c16a412e40</td>\n      <td>raw</td>\n      <td>11455</td>\n      <td>main</td>\n      <td>2020-03-07 12:05:23.938242</td>\n      <td>629881394</td>\n    </tr>\n    <tr>\n      <th>11456</th>\n      <td>ae14eacf-bac9-40c8-9bf4-45655343f29c</td>\n      <td>raw</td>\n      <td>11456</td>\n      <td>catalog</td>\n      <td>2020-03-07 12:05:32.476046</td>\n      <td>629881394</td>\n    </tr>\n    <tr>\n      <th>13881</th>\n      <td>ccd780bc-7067-4724-890f-179fa4c1a0c4</td>\n      <td>raw</td>\n      <td>13881</td>\n      <td>main</td>\n      <td>2020-03-26 13:00:47.844886</td>\n      <td>629881394</td>\n    </tr>\n    <tr>\n      <th>13882</th>\n      <td>ffe86993-194c-4bb2-b111-122009b90626</td>\n      <td>raw</td>\n      <td>13882</td>\n      <td>catalog</td>\n      <td>2020-03-26 13:00:49.531644</td>\n      <td>629881394</td>\n    </tr>\n    <tr>\n      <th>14458</th>\n      <td>a924e670-416b-493c-8e1a-e5957e7a2545</td>\n      <td>raw</td>\n      <td>14458</td>\n      <td>main</td>\n      <td>2020-03-30 00:11:47.920536</td>\n      <td>629881394</td>\n    </tr>\n    <tr>\n      <th>14481</th>\n      <td>6b0eef49-ce43-45bb-a291-d29e2e38c3ad</td>\n      <td>raw</td>\n      <td>14481</td>\n      <td>main</td>\n      <td>2020-03-30 03:17:46.909845</td>\n      <td>629881394</td>\n    </tr>\n    <tr>\n      <th>14482</th>\n      <td>dcda9ac9-c933-4d70-a3e0-d04eaaf6814c</td>\n      <td>raw</td>\n      <td>14482</td>\n      <td>catalog</td>\n      <td>2020-03-30 03:17:49.918774</td>\n      <td>629881394</td>\n    </tr>\n    <tr>\n      <th>14483</th>\n      <td>55ce0ff8-8790-4e2f-a0fe-ad99b558fb9c</td>\n      <td>raw</td>\n      <td>14483</td>\n      <td>catalog</td>\n      <td>2020-03-30 03:18:17.835191</td>\n      <td>629881394</td>\n    </tr>\n    <tr>\n      <th>14484</th>\n      <td>b8eb4223-905e-4358-a1a5-41860d380d62</td>\n      <td>raw</td>\n      <td>14484</td>\n      <td>catalog</td>\n      <td>2020-03-30 03:18:53.715887</td>\n      <td>629881394</td>\n    </tr>\n    <tr>\n      <th>14485</th>\n      <td>359134c5-559d-4f28-be34-af3420e5caeb</td>\n      <td>raw</td>\n      <td>14485</td>\n      <td>catalog</td>\n      <td>2020-03-30 03:19:36.034262</td>\n      <td>629881394</td>\n    </tr>\n    <tr>\n      <th>14486</th>\n      <td>a8d0af4f-28d2-4f9a-903f-fda51c854026</td>\n      <td>raw</td>\n      <td>14486</td>\n      <td>catalog</td>\n      <td>2020-03-30 03:19:59.515094</td>\n      <td>629881394</td>\n    </tr>\n  </tbody>\n</table>\n</div>"
     },
     "execution_count": 67,
     "metadata": {},
     "output_type": "execute_result"
    }
   ],
   "source": [
    "print(len(source_df[source_df['user_id'] == check_id]))\n",
    "source_df[source_df['user_id'] == check_id]"
   ],
   "metadata": {
    "collapsed": false,
    "pycharm": {
     "name": "#%%\n"
    }
   }
  },
  {
   "cell_type": "markdown",
   "source": [
    "### min_cjm"
   ],
   "metadata": {
    "collapsed": false,
    "pycharm": {
     "name": "#%% md\n"
    }
   }
  },
  {
   "cell_type": "code",
   "execution_count": 68,
   "outputs": [
    {
     "name": "stderr",
     "output_type": "stream",
     "text": [
      "/Users/Daria/Dev/Retentioneering/retentioneering-tools-new-arch/examples/../src/data_processors_lib/rete/cut_path_before_event.py:50: SettingWithCopyWarning: \n",
      "A value is trying to be set on a copy of a slice from a DataFrame.\n",
      "Try using .loc[row_indexer,col_indexer] = value instead\n",
      "\n",
      "See the caveats in the documentation: https://pandas.pydata.org/pandas-docs/stable/user_guide/indexing.html#returning-a-view-versus-a-copy\n",
      "  df_cut[\"num_groups\"] = df_cut.groupby([user_col])[time_col].transform(\n"
     ]
    },
    {
     "ename": "NameError",
     "evalue": "name 'pd' is not defined",
     "output_type": "error",
     "traceback": [
      "\u001B[0;31m---------------------------------------------------------------------------\u001B[0m",
      "\u001B[0;31mNameError\u001B[0m                                 Traceback (most recent call last)",
      "Input \u001B[0;32mIn [68]\u001B[0m, in \u001B[0;36m<cell line: 16>\u001B[0;34m()\u001B[0m\n\u001B[1;32m      8\u001B[0m cut_before \u001B[38;5;241m=\u001B[39m EventsNode(\n\u001B[1;32m      9\u001B[0m     CutPathBeforeEvent(params\u001B[38;5;241m=\u001B[39mCutPathBeforeEventParams(\u001B[38;5;241m*\u001B[39m\u001B[38;5;241m*\u001B[39mparams)))\n\u001B[1;32m     11\u001B[0m graph\u001B[38;5;241m.\u001B[39madd_node(\n\u001B[1;32m     12\u001B[0m     node\u001B[38;5;241m=\u001B[39mcut_before,\n\u001B[1;32m     13\u001B[0m     parents\u001B[38;5;241m=\u001B[39m[graph\u001B[38;5;241m.\u001B[39mroot]\n\u001B[1;32m     14\u001B[0m )\n\u001B[0;32m---> 16\u001B[0m result \u001B[38;5;241m=\u001B[39m \u001B[43mgraph\u001B[49m\u001B[38;5;241;43m.\u001B[39;49m\u001B[43mcombine\u001B[49m\u001B[43m(\u001B[49m\n\u001B[1;32m     17\u001B[0m \u001B[43m    \u001B[49m\u001B[43mnode\u001B[49m\u001B[38;5;241;43m=\u001B[39;49m\u001B[43mcut_before\u001B[49m\n\u001B[1;32m     18\u001B[0m \u001B[43m)\u001B[49m\n",
      "File \u001B[0;32m~/Dev/Retentioneering/retentioneering-tools-new-arch/examples/../src/graph/p_graph.py:69\u001B[0m, in \u001B[0;36mPGraph.combine\u001B[0;34m(self, node)\u001B[0m\n\u001B[1;32m     66\u001B[0m     \u001B[38;5;28;01mreturn\u001B[39;00m node\u001B[38;5;241m.\u001B[39mevents\u001B[38;5;241m.\u001B[39mcopy()\n\u001B[1;32m     68\u001B[0m \u001B[38;5;28;01mif\u001B[39;00m \u001B[38;5;28misinstance\u001B[39m(node, EventsNode):\n\u001B[0;32m---> 69\u001B[0m     \u001B[38;5;28;01mreturn\u001B[39;00m \u001B[38;5;28;43mself\u001B[39;49m\u001B[38;5;241;43m.\u001B[39;49m\u001B[43mcombine_events_node\u001B[49m\u001B[43m(\u001B[49m\u001B[43mnode\u001B[49m\u001B[43m)\u001B[49m\n\u001B[1;32m     71\u001B[0m \u001B[38;5;28;01mreturn\u001B[39;00m \u001B[38;5;28mself\u001B[39m\u001B[38;5;241m.\u001B[39mcombine_merge_node(node)\n",
      "File \u001B[0;32m~/Dev/Retentioneering/retentioneering-tools-new-arch/examples/../src/graph/p_graph.py:76\u001B[0m, in \u001B[0;36mPGraph.combine_events_node\u001B[0;34m(self, node)\u001B[0m\n\u001B[1;32m     74\u001B[0m parent \u001B[38;5;241m=\u001B[39m \u001B[38;5;28mself\u001B[39m\u001B[38;5;241m.\u001B[39mget_events_node_parent(node)\n\u001B[1;32m     75\u001B[0m parent_events \u001B[38;5;241m=\u001B[39m \u001B[38;5;28mself\u001B[39m\u001B[38;5;241m.\u001B[39mcombine(parent)\n\u001B[0;32m---> 76\u001B[0m events \u001B[38;5;241m=\u001B[39m \u001B[43mnode\u001B[49m\u001B[38;5;241;43m.\u001B[39;49m\u001B[43mprocessor\u001B[49m\u001B[38;5;241;43m.\u001B[39;49m\u001B[43mapply\u001B[49m\u001B[43m(\u001B[49m\u001B[43mparent_events\u001B[49m\u001B[43m)\u001B[49m\n\u001B[1;32m     77\u001B[0m parent_events\u001B[38;5;241m.\u001B[39mjoin_eventstream(events)\n\u001B[1;32m     78\u001B[0m \u001B[38;5;28;01mreturn\u001B[39;00m parent_events\n",
      "File \u001B[0;32m~/Dev/Retentioneering/retentioneering-tools-new-arch/examples/../src/data_processors_lib/rete/cut_path_before_event.py:64\u001B[0m, in \u001B[0;36mCutPathBeforeEvent.apply\u001B[0;34m(self, eventstream)\u001B[0m\n\u001B[1;32m     62\u001B[0m     users_to_del \u001B[38;5;241m=\u001B[39m df_cut[df_cut[\u001B[38;5;124m\"\u001B[39m\u001B[38;5;124mnum_groups\u001B[39m\u001B[38;5;124m\"\u001B[39m] \u001B[38;5;241m<\u001B[39m min_cjm][user_col]\u001B[38;5;241m.\u001B[39mto_list()\n\u001B[1;32m     63\u001B[0m     df_users_to_del \u001B[38;5;241m=\u001B[39m df\u001B[38;5;241m.\u001B[39mloc[df[user_col]\u001B[38;5;241m.\u001B[39mapply(\u001B[38;5;28;01mlambda\u001B[39;00m x: x \u001B[38;5;129;01min\u001B[39;00m users_to_del)]\n\u001B[0;32m---> 64\u001B[0m     df_to_del \u001B[38;5;241m=\u001B[39m \u001B[43mpd\u001B[49m\u001B[38;5;241m.\u001B[39mconcat([df_to_del, df_users_to_del])\n\u001B[1;32m     65\u001B[0m     df_to_del\u001B[38;5;241m.\u001B[39mdrop_duplicates(inplace\u001B[38;5;241m=\u001B[39m\u001B[38;5;28;01mTrue\u001B[39;00m)\n\u001B[1;32m     67\u001B[0m df_to_del[\u001B[38;5;124m\"\u001B[39m\u001B[38;5;124mref\u001B[39m\u001B[38;5;124m\"\u001B[39m] \u001B[38;5;241m=\u001B[39m df_to_del[eventstream\u001B[38;5;241m.\u001B[39mschema\u001B[38;5;241m.\u001B[39mevent_id]\n",
      "\u001B[0;31mNameError\u001B[0m: name 'pd' is not defined"
     ]
    }
   ],
   "source": [
    "from src.data_processors_lib.rete import CutPathBeforeEvent, CutPathBeforeEventParams\n",
    "params = {\n",
    "    'cutoff_events': ['product2'],\n",
    "    'cut_shift': 0,\n",
    "    'min_cjm': 3\n",
    "}\n",
    "\n",
    "cut_before = EventsNode(\n",
    "    CutPathBeforeEvent(params=CutPathBeforeEventParams(**params)))\n",
    "\n",
    "graph.add_node(\n",
    "    node=cut_before,\n",
    "    parents=[graph.root]\n",
    ")\n",
    "\n",
    "result = graph.combine(\n",
    "    node=cut_before\n",
    ")\n"
   ],
   "metadata": {
    "collapsed": false,
    "pycharm": {
     "name": "#%%\n"
    }
   }
  },
  {
   "cell_type": "code",
   "execution_count": null,
   "outputs": [],
   "source": [
    "df93 = result.to_dataframe()\n",
    "print(source_df.duplicated(['event_name', 'event_timestamp', 'user_id']).sum())\n",
    "df93.duplicated(['event_name', 'event_timestamp', 'user_id']).sum()"
   ],
   "metadata": {
    "collapsed": false,
    "pycharm": {
     "name": "#%%\n"
    }
   }
  },
  {
   "cell_type": "code",
   "execution_count": null,
   "outputs": [],
   "source": [
    "df93['event_type'].value_counts()"
   ],
   "metadata": {
    "collapsed": false,
    "pycharm": {
     "name": "#%%\n"
    }
   }
  },
  {
   "cell_type": "code",
   "execution_count": null,
   "outputs": [],
   "source": [
    "source_df['event_type'].value_counts()"
   ],
   "metadata": {
    "collapsed": false,
    "pycharm": {
     "name": "#%%\n"
    }
   }
  },
  {
   "cell_type": "code",
   "execution_count": null,
   "outputs": [],
   "source": [
    "df91.groupby(['user_id']).count()['event_id'].value_counts().sort_index()"
   ],
   "metadata": {
    "collapsed": false,
    "pycharm": {
     "name": "#%%\n"
    }
   }
  },
  {
   "cell_type": "code",
   "execution_count": null,
   "outputs": [],
   "source": [
    "df93.groupby(['user_id']).count()['event_id'].value_counts().sort_index()"
   ],
   "metadata": {
    "collapsed": false,
    "pycharm": {
     "name": "#%%\n"
    }
   }
  },
  {
   "cell_type": "code",
   "execution_count": null,
   "outputs": [],
   "source": [],
   "metadata": {
    "collapsed": false,
    "pycharm": {
     "name": "#%%\n"
    }
   }
  },
  {
   "cell_type": "markdown",
   "source": [
    "### Несколько событий"
   ],
   "metadata": {
    "collapsed": false,
    "pycharm": {
     "name": "#%% md\n"
    }
   }
  },
  {
   "cell_type": "code",
   "execution_count": null,
   "outputs": [],
   "source": [
    "from src.data_processors_lib.rete import CutPathBeforeEvent, CutPathBeforeEventParams\n",
    "params = {\n",
    "    'cutoff_events': ['product2', 'product1'],\n",
    "    'cut_shift': 0,\n",
    "    'min_cjm': 0\n",
    "}\n",
    "\n",
    "cut_before = EventsNode(\n",
    "    CutPathBeforeEvent(params=CutPathBeforeEventParams(**params)))\n",
    "\n",
    "graph.add_node(\n",
    "    node=cut_before,\n",
    "    parents=[graph.root]\n",
    ")\n",
    "\n",
    "result = graph.combine(\n",
    "    node=cut_before\n",
    ")\n"
   ],
   "metadata": {
    "collapsed": false,
    "pycharm": {
     "name": "#%%\n"
    }
   }
  },
  {
   "cell_type": "code",
   "execution_count": null,
   "outputs": [],
   "source": [
    "df94 = result.to_dataframe()\n",
    "print(source_df.duplicated(['event_name', 'event_timestamp', 'user_id']).sum())\n",
    "df94.duplicated(['event_name', 'event_timestamp', 'user_id']).sum()"
   ],
   "metadata": {
    "collapsed": false,
    "pycharm": {
     "name": "#%%\n"
    }
   }
  },
  {
   "cell_type": "code",
   "execution_count": null,
   "outputs": [],
   "source": [
    "check_id = 168688753\n",
    "print(len(df94[df94['user_id'] == check_id]))\n",
    "event_time = source_df[(source_df['user_id'] == check_id) & \\\n",
    "    ((source_df['event_name'] == 'product1') | \\\n",
    "    (source_df['event_name'] == 'product2')\n",
    "     )]['event_timestamp'].min()\n",
    "event_time"
   ],
   "metadata": {
    "collapsed": false,
    "pycharm": {
     "name": "#%%\n"
    }
   }
  },
  {
   "cell_type": "code",
   "execution_count": null,
   "outputs": [],
   "source": [
    "source_df[(source_df['user_id'] == check_id) &\\\n",
    "          (source_df['event_timestamp'] >= event_time)]"
   ],
   "metadata": {
    "collapsed": false,
    "pycharm": {
     "name": "#%%\n"
    }
   }
  },
  {
   "cell_type": "code",
   "execution_count": null,
   "outputs": [],
   "source": [
    "df94[df94['user_id'] == check_id]"
   ],
   "metadata": {
    "collapsed": false,
    "pycharm": {
     "name": "#%%\n"
    }
   }
  },
  {
   "cell_type": "code",
   "execution_count": null,
   "outputs": [],
   "source": [
    "source_df[(source_df['user_id'] == check_id) ]"
   ],
   "metadata": {
    "collapsed": false,
    "pycharm": {
     "name": "#%%\n"
    }
   }
  },
  {
   "cell_type": "code",
   "execution_count": null,
   "outputs": [],
   "source": [],
   "metadata": {
    "collapsed": false,
    "pycharm": {
     "name": "#%%\n"
    }
   }
  },
  {
   "cell_type": "markdown",
   "source": [
    "### Результат"
   ],
   "metadata": {
    "collapsed": false,
    "pycharm": {
     "name": "#%% md\n"
    }
   }
  },
  {
   "cell_type": "markdown",
   "source": [
    "1) [TODO] Ворнинги\n",
    "2) [DONE] Не работает обрезка\n",
    "3) [TODO] Медленная работа - оптимизация кода?\n",
    "4) [DONE] Неправильная работа, если задать несколько событий, обрезка происходит по последнему, а не по первому событию\n",
    "5) [DONE] протестировать сдвиги и минимальные траектории\n",
    "6) [DONE] неправильная работа soft_delete и создание eventstream (при копировании не пробрасываются старые айдишники у ивентов, а создаются новые, поэтому невозможно применить soft_delete к новому eventstream)"
   ],
   "metadata": {
    "collapsed": false,
    "pycharm": {
     "name": "#%% md\n"
    }
   }
  }
 ],
 "metadata": {
  "kernelspec": {
   "display_name": "Python 3",
   "language": "python",
   "name": "python3"
  },
  "language_info": {
   "codemirror_mode": {
    "name": "ipython",
    "version": 2
   },
   "file_extension": ".py",
   "mimetype": "text/x-python",
   "name": "python",
   "nbconvert_exporter": "python",
   "pygments_lexer": "ipython2",
   "version": "2.7.6"
  }
 },
 "nbformat": 4,
 "nbformat_minor": 0
}