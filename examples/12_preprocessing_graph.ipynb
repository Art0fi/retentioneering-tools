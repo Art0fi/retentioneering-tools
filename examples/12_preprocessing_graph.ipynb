{
 "cells": [
  {
   "cell_type": "code",
   "execution_count": 1,
   "id": "421ba1c9",
   "metadata": {},
   "outputs": [],
   "source": [
    "import sys\n",
    "sys.path.insert(0, '..')"
   ]
  },
  {
   "cell_type": "code",
   "execution_count": 2,
   "id": "d98e14a7",
   "metadata": {},
   "outputs": [
    {
     "name": "stderr",
     "output_type": "stream",
     "text": [
      "../retentioneering/params_model/params_model.py:73: UserWarning: Callable func was excluded from schema since JSON schema has no equivalent type.\n",
      "  params_schema: dict[str, Any] = cls.schema()\n"
     ]
    }
   ],
   "source": [
    "from retentioneering.eventstream.schema import RawDataSchema, EventstreamSchema\n",
    "from retentioneering.eventstream.eventstream import Eventstream\n",
    "\n",
    "import pandas as pd\n",
    "\n",
    "df0 = pd.read_csv('./sample.gz', compression='gzip')\n",
    "\n",
    "raw_data_schema = RawDataSchema(\n",
    "    event_name='event', \n",
    "    event_timestamp='timestamp', \n",
    "    user_id='user_id'\n",
    ")\n",
    "\n",
    "stream = Eventstream(\n",
    "    raw_data=df0,\n",
    "    raw_data_schema=raw_data_schema,\n",
    "    schema=EventstreamSchema(),\n",
    "    user_sample_size=500,\n",
    ")"
   ]
  },
  {
   "cell_type": "code",
   "execution_count": 3,
   "id": "6a1bec51",
   "metadata": {
    "scrolled": false
   },
   "outputs": [],
   "source": [
    "from retentioneering.graph.p_graph import PGraph, EventsNode, MergeNode\n",
    "from retentioneering.data_processors_lib import CollapseLoops, CollapseLoopsParams\n",
    "from retentioneering.data_processors_lib import DeleteUsersByPathLength, DeleteUsersByPathLengthParams\n",
    "from retentioneering.data_processors_lib import FilterEvents, FilterEventsParams\n",
    "from retentioneering.data_processors_lib import GroupEvents, GroupEventsParams\n",
    "from retentioneering.data_processors_lib import NewUsersEvents, NewUsersParams\n",
    "from retentioneering.data_processors_lib import SplitSessions, SplitSessionsParams\n",
    "from retentioneering.data_processors_lib import StartEndEvents, StartEndEventsParams\n",
    "from retentioneering.data_processors_lib import TruncatePath, TruncatePathParams\n",
    "from retentioneering.data_processors_lib import TruncatedEvents, TruncatedEventsParams\n",
    "from retentioneering.graph.p_graph import PGraph, EventsNode\n",
    "\n",
    "\n",
    "TARGET_EVENT = 'finances/deposit/<payment_name>/success'\n",
    "\n",
    "def users_with_target_event(df, schema) -> pd.DataFrame:\n",
    "    event_name = schema.event_name\n",
    "    user_id = schema.user_id\n",
    "    \n",
    "    target_users = df[df[event_name] == TARGET_EVENT][user_id].unique()\n",
    "    return df[user_id].isin(target_users)\n",
    "\n",
    "def first_session_filter(df, schema)  -> pd.DataFrame:\n",
    "    return df['session_id'].str.endswith('_1')\n",
    "\n",
    "def new_and_not_truncated_users(df, schema)  -> pd.DataFrame:\n",
    "    import numpy as np\n",
    "    event_name = schema.event_name\n",
    "    user_id = schema.user_id\n",
    "\n",
    "    truncated_users = df[(df[event_name] == 'truncated_right')][user_id].unique()\n",
    "    new_users = df[(df[event_name] == 'new_user')][user_id].unique()\n",
    "    target_users = np.setdiff1d(new_users, truncated_users)\n",
    "    return df[user_id].isin(target_users)\n",
    "\n",
    "\n",
    "def create_graph():\n",
    "    graph = PGraph(source_stream=stream)\n",
    "\n",
    "    node0 = EventsNode(CollapseLoops(params=CollapseLoopsParams(**{})))\n",
    "    node1 = EventsNode(StartEndEvents(params=StartEndEventsParams(**{})))\n",
    "    node2 = EventsNode(NewUsersEvents(params=NewUsersParams(new_users_list=\"all\")))\n",
    "    node3 = EventsNode(TruncatedEvents(params=TruncatedEventsParams(right_truncated_cutoff=(12, 'D'))))\n",
    "    node4 = EventsNode(FilterEvents(params=FilterEventsParams(func=new_and_not_truncated_users)))\n",
    "    node5 = EventsNode(SplitSessions(params=SplitSessionsParams(\n",
    "        session_cutoff=(1, 'h'),\n",
    "        session_col='session_id'\n",
    "    )))\n",
    "    node6 = EventsNode(FilterEvents(params=FilterEventsParams(func=first_session_filter)))\n",
    "\n",
    "    node7 = EventsNode(FilterEvents(params=FilterEventsParams(func=users_with_target_event)))\n",
    "    node8 = EventsNode(TruncatePath(params=TruncatePathParams(drop_after=TARGET_EVENT)))\n",
    "    node9 = EventsNode(FilterEvents(params=FilterEventsParams(func=first_session_filter)))\n",
    "\n",
    "    graph.add_node(node=node0, parents=[graph.root])\n",
    "    graph.add_node(node=node1, parents=[graph.root])\n",
    "    graph.add_node(node=node2, parents=[node1])\n",
    "    graph.add_node(node=node3, parents=[node2])\n",
    "    graph.add_node(node=node4, parents=[node3])\n",
    "    graph.add_node(node=node5, parents=[node4])\n",
    "\n",
    "    graph.add_node(node=node6, parents=[node5])\n",
    "    graph.add_node(node=node7, parents=[node6])\n",
    "\n",
    "    graph.add_node(node=node8, parents=[node5])\n",
    "    graph.add_node(node=node9, parents=[node8])\n",
    "\n",
    "    return graph\n",
    "\n",
    "\n"
   ]
  },
  {
   "cell_type": "code",
   "execution_count": 5,
   "id": "dd2fff7a",
   "metadata": {
    "scrolled": false
   },
   "outputs": [
    {
     "data": {
      "text/html": [
       "<div id=\"970f1f06-377a-4c20-ab50-f5cbe8d70ae7\">\n",
       "</div>\n",
       "<script>\n",
       "  (function () {\n",
       "    const width = Number(\"960\") // 960\n",
       "    const height = Number(\"900\") // 900\n",
       "\n",
       "    const iframe = document.createElement(\"iframe\")\n",
       "    iframe.src = \"about:blank\"\n",
       "    iframe.width = width\n",
       "    iframe.height = height\n",
       "\n",
       "    const renderBlock = document.getElementById(\"970f1f06-377a-4c20-ab50-f5cbe8d70ae7\")\n",
       "    renderBlock.appendChild(iframe)\n",
       "\n",
       "    iframe.contentWindow.__SERVER_ID__ = \"e32fdc9a-c54c-4391-9e85-76e5b1123039\"\n",
       "    iframe.contentWindow.__ENV__ = \"classic\"\n",
       "    iframe.contentWindow.__WIDTH__ = width\n",
       "    iframe.contentWindow.__HEIGHT__ = height\n",
       "\n",
       "    const fDocument = iframe.contentDocument\n",
       "    const container = fDocument.createElement(\"div\")\n",
       "    container.id = \"root\"\n",
       "\n",
       "    const script = fDocument.createElement(\"script\")\n",
       "    script.src = \"http://localhost:8080/preprocessing-graph.umd.js?block=970f1f06-377a-4c20-ab50-f5cbe8d70ae7\"\n",
       "    script.type = \"text/javascript\"\n",
       "\n",
       "    const link = fDocument.createElement(\"link\")\n",
       "    link.rel = \"stylesheet\"\n",
       "    link.href = \"http://localhost:8080/style.css?block=970f1f06-377a-4c20-ab50-f5cbe8d70ae7\"\n",
       "\n",
       "    const font1 = fDocument.createElement(\"link\")\n",
       "    font1.rel = \"stylesheet\"\n",
       "    font1.href = \"https://fonts.googleapis.com/css2?family=Open+Sans:wght@400;600&display=swap\"\n",
       "\n",
       "    const font2 = fDocument.createElement(\"link\")\n",
       "    font2.rel = \"stylesheet\"\n",
       "    font2.href = \"https://fonts.googleapis.com/css2?family=Source+Code+Pro:wght@300;400&display=swap\"\n",
       "\n",
       "    fDocument.body.appendChild(container)\n",
       "    fDocument.body.appendChild(script)\n",
       "    fDocument.body.appendChild(link)\n",
       "    fDocument.body.appendChild(font1)\n",
       "    fDocument.body.appendChild(font2)\n",
       "  })()\n",
       "</script>"
      ],
      "text/plain": [
       "<IPython.core.display.HTML object>"
      ]
     },
     "metadata": {},
     "output_type": "display_data"
    }
   ],
   "source": [
    "graph = create_graph()\n",
    "graph.display()"
   ]
  },
  {
   "cell_type": "code",
   "execution_count": 7,
   "id": "b3549d99",
   "metadata": {},
   "outputs": [
    {
     "data": {
      "text/plain": [
       "<retentioneering.eventstream.eventstream.Eventstream at 0x10390e2e0>"
      ]
     },
     "execution_count": 7,
     "metadata": {},
     "output_type": "execute_result"
    }
   ],
   "source": [
    "graph.combine_result"
   ]
  }
 ],
 "metadata": {
  "kernelspec": {
   "display_name": "Python 3 (ipykernel)",
   "language": "python",
   "name": "python3"
  },
  "language_info": {
   "codemirror_mode": {
    "name": "ipython",
    "version": 3
   },
   "file_extension": ".py",
   "mimetype": "text/x-python",
   "name": "python",
   "nbconvert_exporter": "python",
   "pygments_lexer": "ipython3",
   "version": "3.8.9"
  },
  "vscode": {
   "interpreter": {
    "hash": "b0fa6594d8f4cbf19f97940f81e996739fb7646882a419484c72d19e05852a7e"
   }
  }
 },
 "nbformat": 4,
 "nbformat_minor": 5
}
