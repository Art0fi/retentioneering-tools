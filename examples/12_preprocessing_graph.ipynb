{
 "cells": [
  {
   "cell_type": "code",
   "execution_count": 1,
   "id": "421ba1c9",
   "metadata": {},
   "outputs": [],
   "source": [
    "import sys\n",
    "sys.path.insert(0, '..')"
   ]
  },
  {
   "cell_type": "code",
   "execution_count": 2,
   "id": "d98e14a7",
   "metadata": {},
   "outputs": [],
   "source": [
    "from src.eventstream.schema import RawDataSchema, EventstreamSchema\n",
    "from src.eventstream.eventstream import Eventstream\n",
    "\n",
    "import pandas as pd\n",
    "\n",
    "df0 = pd.read_csv('./fbs_2022-06-01_2022-08-31_sample.gz', compression='gzip')\n",
    "\n",
    "raw_data_schema = RawDataSchema(\n",
    "    event_name='event', \n",
    "    event_timestamp='timestamp', \n",
    "    user_id='user_id'\n",
    ")\n",
    "\n",
    "stream = Eventstream(\n",
    "    raw_data=df0,\n",
    "    raw_data_schema=raw_data_schema,\n",
    "    schema=EventstreamSchema(),\n",
    "    user_sample_size=500,\n",
    ")"
   ]
  },
  {
   "cell_type": "code",
   "execution_count": 3,
   "id": "6a1bec51",
   "metadata": {
    "scrolled": false
   },
   "outputs": [
    {
     "name": "stderr",
     "output_type": "stream",
     "text": [
      "/Users/alexeyavramenko/projects/rete/retentioneering-tools-new-arch/examples/../src/params_model/params_model.py:73: UserWarning: Callable func was excluded from schema since JSON schema has no equivalent type.\n",
      "  params_schema: dict[str, Any] = cls.schema()\n",
      "/Users/alexeyavramenko/projects/rete/retentioneering-tools-new-arch/examples/../src/params_model/params_model.py:73: UserWarning: Callable negative_function was excluded from schema since JSON schema has no equivalent type.\n",
      "  params_schema: dict[str, Any] = cls.schema()\n",
      "/Users/alexeyavramenko/projects/rete/retentioneering-tools-new-arch/examples/../src/params_model/params_model.py:73: UserWarning: Callable positive_function was excluded from schema since JSON schema has no equivalent type.\n",
      "  params_schema: dict[str, Any] = cls.schema()\n"
     ]
    }
   ],
   "source": [
    "from src.graph.p_graph import PGraph, EventsNode, MergeNode\n",
    "from src.data_processors_lib import CollapseLoops, CollapseLoopsParams\n",
    "from src.data_processors_lib import DeleteUsersByPathLength, DeleteUsersByPathLengthParams\n",
    "from src.data_processors_lib import FilterEvents, FilterEventsParams\n",
    "from src.data_processors_lib import GroupEvents, GroupEventsParams\n",
    "from src.data_processors_lib import NewUsersEvents, NewUsersParams\n",
    "from src.data_processors_lib import SplitSessions, SplitSessionsParams\n",
    "from src.data_processors_lib import StartEndEvents, StartEndEventsParams\n",
    "from src.data_processors_lib import TruncatePath, TruncatePathParams\n",
    "from src.data_processors_lib import TruncatedEvents, TruncatedEventsParams\n",
    "from src.graph.p_graph import PGraph, EventsNode\n",
    "\n",
    "\n",
    "TARGET_EVENT = 'finances/deposit/<payment_name>/success'\n",
    "\n",
    "def users_with_target_event(df, schema) -> pd.DataFrame:\n",
    "    event_name = schema.event_name\n",
    "    user_id = schema.user_id\n",
    "    \n",
    "    target_users = df[df[event_name] == TARGET_EVENT][user_id].unique()\n",
    "    return df[user_id].isin(target_users)\n",
    "\n",
    "def first_session_filter(df, schema)  -> pd.DataFrame:\n",
    "    return df['session_id'].str.endswith('_1')\n",
    "\n",
    "def new_and_not_truncated_users(df, schema)  -> pd.DataFrame:\n",
    "    import numpy as np\n",
    "    event_name = schema.event_name\n",
    "    user_id = schema.user_id\n",
    "\n",
    "    truncated_users = df[(df[event_name] == 'truncated_right')][user_id].unique()\n",
    "    new_users = df[(df[event_name] == 'new_user')][user_id].unique()\n",
    "    target_users = np.setdiff1d(new_users, truncated_users)\n",
    "    return df[user_id].isin(target_users)\n",
    "\n",
    "\n",
    "def create_graph():\n",
    "    graph = PGraph(source_stream=stream)\n",
    "\n",
    "    node0 = EventsNode(CollapseLoops(params=CollapseLoopsParams(**{})))\n",
    "    node1 = EventsNode(StartEndEvents(params=StartEndEventsParams(**{})))\n",
    "    node2 = EventsNode(NewUsersEvents(params=NewUsersParams(new_users_list=\"all\")))\n",
    "    node3 = EventsNode(TruncatedEvents(params=TruncatedEventsParams(right_truncated_cutoff=(12, 'D'))))\n",
    "    node4 = EventsNode(FilterEvents(params=FilterEventsParams(func=new_and_not_truncated_users)))\n",
    "    node5 = EventsNode(SplitSessions(params=SplitSessionsParams(\n",
    "        session_cutoff=(1, 'h'),\n",
    "        session_col='session_id'\n",
    "    )))\n",
    "    node6 = EventsNode(FilterEvents(params=FilterEventsParams(func=first_session_filter)))\n",
    "\n",
    "    node7 = EventsNode(FilterEvents(params=FilterEventsParams(func=users_with_target_event)))\n",
    "    node8 = EventsNode(TruncatePath(params=TruncatePathParams(drop_after=TARGET_EVENT)))\n",
    "    node9 = EventsNode(FilterEvents(params=FilterEventsParams(func=first_session_filter)))\n",
    "\n",
    "    graph.add_node(node=node0, parents=[graph.root])\n",
    "    graph.add_node(node=node1, parents=[graph.root])\n",
    "    graph.add_node(node=node2, parents=[node1])\n",
    "    graph.add_node(node=node3, parents=[node2])\n",
    "    graph.add_node(node=node4, parents=[node3])\n",
    "    graph.add_node(node=node5, parents=[node4])\n",
    "\n",
    "    graph.add_node(node=node6, parents=[node5])\n",
    "    graph.add_node(node=node7, parents=[node6])\n",
    "\n",
    "    graph.add_node(node=node8, parents=[node5])\n",
    "    graph.add_node(node=node9, parents=[node8])\n",
    "\n",
    "    return graph\n",
    "\n",
    "\n"
   ]
  },
  {
   "cell_type": "code",
   "execution_count": 4,
   "id": "dd2fff7a",
   "metadata": {
    "scrolled": false
   },
   "outputs": [
    {
     "data": {
      "text/html": [
       "<div id=\"72c7768d-9751-4274-8fb1-d521ee3a3cb3\">\n",
       "</div>\n",
       "<script>\n",
       "  (function () {\n",
       "    const width = 960\n",
       "    const height = 900\n",
       "\n",
       "    const iframe = document.createElement(\"iframe\")\n",
       "    iframe.src = \"about:blank\"\n",
       "    iframe.width = width\n",
       "    iframe.height = height\n",
       "\n",
       "    const renderBlock = document.getElementById(\"72c7768d-9751-4274-8fb1-d521ee3a3cb3\")\n",
       "    renderBlock.appendChild(iframe)\n",
       "\n",
       "    iframe.contentWindow.__SERVER_ID__ = \"87237fb1-0ad7-4bc2-b7ca-0ad342a615c2\"\n",
       "    iframe.contentWindow.__ENV__ = \"classic\"\n",
       "    iframe.contentWindow.__WIDTH__ = width\n",
       "    iframe.contentWindow.__HEIGHT__ = height\n",
       "\n",
       "    const fDocument = iframe.contentDocument\n",
       "    const container = fDocument.createElement(\"div\")\n",
       "    container.id = \"root\"\n",
       "\n",
       "    const script = fDocument.createElement(\"script\")\n",
       "    script.src = \"http://localhost:8080/preprocessing-graph.umd.js?id=72c7768d-9751-4274-8fb1-d521ee3a3cb3\"\n",
       "    script.type = \"text/javascript\"\n",
       "\n",
       "    const link = fDocument.createElement(\"link\")\n",
       "    link.rel = \"stylesheet\"\n",
       "    link.href = \"http://localhost:8080/style.css?id=72c7768d-9751-4274-8fb1-d521ee3a3cb3\"\n",
       "\n",
       "    fDocument.body.appendChild(container)\n",
       "    fDocument.body.appendChild(script)\n",
       "    fDocument.body.appendChild(link)\n",
       "  })()\n",
       "</script>"
      ],
      "text/plain": [
       "<IPython.core.display.HTML object>"
      ]
     },
     "metadata": {},
     "output_type": "display_data"
    }
   ],
   "source": [
    "graph = create_graph()\n",
    "graph.display()"
   ]
  },
  {
   "cell_type": "code",
   "execution_count": 6,
   "id": "b3549d99",
   "metadata": {},
   "outputs": [
    {
     "data": {
      "text/html": [
       "<iframe id=\"elA8XR1C\" src=\"about:blank\" width=\"960\" height=\"900\"\n",
       "        onload=\"window.reteLoadedIframes = window.reteLoadedIframes || []; window.reteLoadedIframes.push('elA8XR1C')\">\n",
       "</iframe>\n",
       "\n",
       "<script>\n",
       "  (function() {\n",
       "    console.info('Initialize graph IFRAME')\n",
       "\n",
       "    const iframe = document.getElementById('elA8XR1C')\n",
       "    const iframeLoaded = window.reteLoadedIframes && window.reteLoadedIframes.includes('elA8XR1C')\n",
       "\n",
       "    const init = () => {\n",
       "      console.info('Graph IFRAME loaded')\n",
       "\n",
       "      const iframeDocument = document.getElementById('elA8XR1C').contentDocument\n",
       "\n",
       "      iframeDocument.body.innerHTML = '<div id=\"root\"></div>'\n",
       "\n",
       "      const graphScript = iframeDocument.createElement('script')\n",
       "\n",
       "      graphScript.src = `https://static.server.retentioneering.com/viztools/transition-graph/v3/transition-graph.umd.js?id=elK5IGKM`\n",
       "\n",
       "      graphScript.addEventListener('load', () => {\n",
       "        console.info('JavaScript library loaded')\n",
       "\n",
       "        const initGraph = iframeDocument.createElement('script')\n",
       "\n",
       "        initGraph.innerHTML = `\n",
       "    initialize({\n",
       "    serverId: '20084105-f2ec-4590-8d32-5fd616600738',\n",
       "    env: 'classic',\n",
       "    configNodes: [{\"index\": 0, \"name\": \"/\", \"degree\": {\"number_of_events\": {\"degree\": 11.5, \"source\": 2}, \"session_id\": {\"degree\": 19.0, \"source\": 2}}, \"type\": \"suit_node\", \"active\": true, \"alias\": false, \"parent\": null, \"changed_name\": null, \"x\": 418.85511596459304, \"y\": 636.7406614211877}, {\"index\": 1, \"name\": \"path_end\", \"degree\": {\"number_of_events\": {\"degree\": 15.25, \"source\": 3}, \"session_id\": {\"degree\": 26.5, \"source\": 3}}, \"type\": \"suit_node\", \"active\": true, \"alias\": false, \"parent\": null, \"changed_name\": null, \"x\": 885.0, \"y\": 50.0}, {\"index\": 2, \"name\": \"finances/*transfer*\", \"degree\": {\"number_of_events\": {\"degree\": 7.75, \"source\": 1}, \"session_id\": {\"degree\": 11.5, \"source\": 1}}, \"type\": \"suit_node\", \"active\": true, \"alias\": false, \"parent\": null, \"changed_name\": null, \"x\": 801.4134079744274, \"y\": 611.4635590824331}, {\"index\": 3, \"name\": \"finances/deposit/<payment_name>/fail\", \"degree\": {\"number_of_events\": {\"degree\": 7.75, \"source\": 1}, \"session_id\": {\"degree\": 11.5, \"source\": 1}}, \"type\": \"suit_node\", \"active\": true, \"alias\": false, \"parent\": null, \"changed_name\": null, \"x\": 336.43291305776097, \"y\": 491.7855241002699}, {\"index\": 4, \"name\": \"finances/withdrawal_*\", \"degree\": {\"number_of_events\": {\"degree\": 11.5, \"source\": 2}, \"session_id\": {\"degree\": 11.5, \"source\": 1}}, \"type\": \"suit_node\", \"active\": true, \"alias\": false, \"parent\": null, \"changed_name\": null, \"x\": 717.4402707903135, \"y\": 404.33163608838083}, {\"index\": 5, \"name\": \"cabinet/recovery_*\", \"degree\": {\"number_of_events\": {\"degree\": 15.25, \"source\": 3}, \"session_id\": {\"degree\": 11.5, \"source\": 1}}, \"type\": \"suit_node\", \"active\": true, \"alias\": false, \"parent\": null, \"changed_name\": null, \"x\": 372.1821466733358, \"y\": 850.0}, {\"index\": 6, \"name\": \"path_start\", \"degree\": {\"number_of_events\": {\"degree\": 19.0, \"source\": 4}, \"session_id\": {\"degree\": 34.0, \"source\": 4}}, \"type\": \"suit_node\", \"active\": true, \"alias\": false, \"parent\": null, \"changed_name\": null, \"x\": 792.5293656945158, \"y\": 563.0442276933269}, {\"index\": 7, \"name\": \"registration/account/<id>/certificate\", \"degree\": {\"number_of_events\": {\"degree\": 15.25, \"source\": 3}, \"session_id\": {\"degree\": 11.5, \"source\": 1}}, \"type\": \"suit_node\", \"active\": true, \"alias\": false, \"parent\": null, \"changed_name\": null, \"x\": 416.19991116120985, \"y\": 567.3666026353052}, {\"index\": 8, \"name\": \"new_user\", \"degree\": {\"number_of_events\": {\"degree\": 19.0, \"source\": 4}, \"session_id\": {\"degree\": 34.0, \"source\": 4}}, \"type\": \"suit_node\", \"active\": true, \"alias\": false, \"parent\": null, \"changed_name\": null, \"x\": 678.3803253474997, \"y\": 532.0418908259152}, {\"index\": 9, \"name\": \"finances/deposit/<payment_name>/success\", \"degree\": {\"number_of_events\": {\"degree\": 26.5, \"source\": 6}, \"session_id\": {\"degree\": 34.0, \"source\": 4}}, \"type\": \"suit_node\", \"active\": true, \"alias\": false, \"parent\": null, \"changed_name\": null, \"x\": 697.3132619523021, \"y\": 364.59142174819135}, {\"index\": 10, \"name\": \"finances/deposit\", \"degree\": {\"number_of_events\": {\"degree\": 30.25, \"source\": 7}, \"session_id\": {\"degree\": 19.0, \"source\": 2}}, \"type\": \"suit_node\", \"active\": true, \"alias\": false, \"parent\": null, \"changed_name\": null, \"x\": 621.7806141501559, \"y\": 501.9848903298636}, {\"index\": 11, \"name\": \"registration/account/real\", \"degree\": {\"number_of_events\": {\"degree\": 11.5, \"source\": 2}, \"session_id\": {\"degree\": 11.5, \"source\": 1}}, \"type\": \"suit_node\", \"active\": true, \"alias\": false, \"parent\": null, \"changed_name\": null, \"x\": 224.685791155653, \"y\": 633.2975870022659}, {\"index\": 12, \"name\": \"promotions/*\", \"degree\": {\"number_of_events\": {\"degree\": 30.25, \"source\": 7}, \"session_id\": {\"degree\": 11.5, \"source\": 1}}, \"type\": \"suit_node\", \"active\": true, \"alias\": false, \"parent\": null, \"changed_name\": null, \"x\": 342.93009114590734, \"y\": 777.9247498617136}, {\"index\": 13, \"name\": \"/cabinet/subs/*\", \"degree\": {\"number_of_events\": {\"degree\": 7.75, \"source\": 1}, \"session_id\": {\"degree\": 11.5, \"source\": 1}}, \"type\": \"suit_node\", \"active\": true, \"alias\": false, \"parent\": null, \"changed_name\": null, \"x\": 868.0598695121544, \"y\": 782.6608648381002}, {\"index\": 14, \"name\": \"session_start\", \"degree\": {\"number_of_events\": {\"degree\": 19.0, \"source\": 4}, \"session_id\": {\"degree\": 34.0, \"source\": 4}}, \"type\": \"suit_node\", \"active\": true, \"alias\": false, \"parent\": null, \"changed_name\": null, \"x\": 552.8592492894627, \"y\": 514.6650134908778}, {\"index\": 15, \"name\": \"dashboard\", \"degree\": {\"number_of_events\": {\"degree\": 11.5, \"source\": 2}, \"session_id\": {\"degree\": 11.5, \"source\": 1}}, \"type\": \"suit_node\", \"active\": true, \"alias\": false, \"parent\": null, \"changed_name\": null, \"x\": 479.5318806090294, \"y\": 537.9734718838936}, {\"index\": 16, \"name\": \"session_end\", \"degree\": {\"number_of_events\": {\"degree\": 19.0, \"source\": 4}, \"session_id\": {\"degree\": 34.0, \"source\": 4}}, \"type\": \"suit_node\", \"active\": true, \"alias\": false, \"parent\": null, \"changed_name\": null, \"x\": 796.6342551773082, \"y\": 225.1954455100889}, {\"index\": 17, \"name\": \"profile/* \", \"degree\": {\"number_of_events\": {\"degree\": 15.25, \"source\": 3}, \"session_id\": {\"degree\": 11.5, \"source\": 1}}, \"type\": \"suit_node\", \"active\": true, \"alias\": false, \"parent\": null, \"changed_name\": null, \"x\": 693.9317066262398, \"y\": 778.2590392773243}, {\"index\": 18, \"name\": \"profile\", \"degree\": {\"number_of_events\": {\"degree\": 22.75, \"source\": 5}, \"session_id\": {\"degree\": 11.5, \"source\": 1}}, \"type\": \"suit_node\", \"active\": true, \"alias\": false, \"parent\": null, \"changed_name\": null, \"x\": 692.6505429697723, \"y\": 721.2373324030158}, {\"index\": 19, \"name\": \"/promo/*\", \"degree\": {\"number_of_events\": {\"degree\": 7.75, \"source\": 1}, \"session_id\": {\"degree\": 11.5, \"source\": 1}}, \"type\": \"suit_node\", \"active\": true, \"alias\": false, \"parent\": null, \"changed_name\": null, \"x\": 203.71113804258115, \"y\": 843.4513540280451}, {\"index\": 20, \"name\": \"login\", \"degree\": {\"number_of_events\": {\"degree\": 15.25, \"source\": 3}, \"session_id\": {\"degree\": 11.5, \"source\": 1}}, \"type\": \"suit_node\", \"active\": true, \"alias\": false, \"parent\": null, \"changed_name\": null, \"x\": 618.0944961407018, \"y\": 390.38282113631624}, {\"index\": 21, \"name\": \"finances\", \"degree\": {\"number_of_events\": {\"degree\": 22.75, \"source\": 5}, \"session_id\": {\"degree\": 11.5, \"source\": 1}}, \"type\": \"suit_node\", \"active\": true, \"alias\": false, \"parent\": null, \"changed_name\": null, \"x\": 594.1255914207545, \"y\": 569.5154490574698}, {\"index\": 22, \"name\": \"finances/deposit/<payment_name> \", \"degree\": {\"number_of_events\": {\"degree\": 34.0, \"source\": 8}, \"session_id\": {\"degree\": 26.5, \"source\": 3}}, \"type\": \"suit_node\", \"active\": true, \"alias\": false, \"parent\": null, \"changed_name\": null, \"x\": 608.4394744307281, \"y\": 450.1779153834066}, {\"index\": 23, \"name\": \"registration/trader\", \"degree\": {\"number_of_events\": {\"degree\": 7.75, \"source\": 1}, \"session_id\": {\"degree\": 11.5, \"source\": 1}}, \"type\": \"suit_node\", \"active\": true, \"alias\": false, \"parent\": null, \"changed_name\": null, \"x\": 75.0, \"y\": 700.6850887365766}],\n",
       "    configLinks: [{\"sourceIndex\": 0, \"targetIndex\": 19, \"weights\": {\"number_of_events\": {\"weight_norm\": 0.2, \"weight\": 1}, \"session_id\": {\"weight_norm\": 0.25, \"weight\": 1}}, \"type\": \"suit\"}, {\"sourceIndex\": 0, \"targetIndex\": 20, \"weights\": {\"number_of_events\": {\"weight_norm\": 0.2, \"weight\": 1}, \"session_id\": {\"weight_norm\": 0.25, \"weight\": 1}}, \"type\": \"suit\"}, {\"sourceIndex\": 13, \"targetIndex\": 18, \"weights\": {\"number_of_events\": {\"weight_norm\": 0.2, \"weight\": 1}, \"session_id\": {\"weight_norm\": 0.25, \"weight\": 1}}, \"type\": \"suit\"}, {\"sourceIndex\": 19, \"targetIndex\": 12, \"weights\": {\"number_of_events\": {\"weight_norm\": 0.2, \"weight\": 1}, \"session_id\": {\"weight_norm\": 0.25, \"weight\": 1}}, \"type\": \"suit\"}, {\"sourceIndex\": 5, \"targetIndex\": 5, \"weights\": {\"number_of_events\": {\"weight_norm\": 0.4, \"weight\": 2}, \"session_id\": {\"weight_norm\": 0.25, \"weight\": 1}}, \"type\": \"suit\"}, {\"sourceIndex\": 5, \"targetIndex\": 12, \"weights\": {\"number_of_events\": {\"weight_norm\": 0.2, \"weight\": 1}, \"session_id\": {\"weight_norm\": 0.25, \"weight\": 1}}, \"type\": \"suit\"}, {\"sourceIndex\": 15, \"targetIndex\": 10, \"weights\": {\"number_of_events\": {\"weight_norm\": 0.4, \"weight\": 2}, \"session_id\": {\"weight_norm\": 0.25, \"weight\": 1}}, \"type\": \"suit\"}, {\"sourceIndex\": 21, \"targetIndex\": 2, \"weights\": {\"number_of_events\": {\"weight_norm\": 0.2, \"weight\": 1}, \"session_id\": {\"weight_norm\": 0.25, \"weight\": 1}}, \"type\": \"suit\"}, {\"sourceIndex\": 21, \"targetIndex\": 10, \"weights\": {\"number_of_events\": {\"weight_norm\": 0.2, \"weight\": 1}, \"session_id\": {\"weight_norm\": 0.25, \"weight\": 1}}, \"type\": \"suit\"}, {\"sourceIndex\": 21, \"targetIndex\": 4, \"weights\": {\"number_of_events\": {\"weight_norm\": 0.4, \"weight\": 2}, \"session_id\": {\"weight_norm\": 0.25, \"weight\": 1}}, \"type\": \"suit\"}, {\"sourceIndex\": 21, \"targetIndex\": 12, \"weights\": {\"number_of_events\": {\"weight_norm\": 0.2, \"weight\": 1}, \"session_id\": {\"weight_norm\": 0.25, \"weight\": 1}}, \"type\": \"suit\"}, {\"sourceIndex\": 2, \"targetIndex\": 21, \"weights\": {\"number_of_events\": {\"weight_norm\": 0.2, \"weight\": 1}, \"session_id\": {\"weight_norm\": 0.25, \"weight\": 1}}, \"type\": \"suit\"}, {\"sourceIndex\": 10, \"targetIndex\": 21, \"weights\": {\"number_of_events\": {\"weight_norm\": 0.4, \"weight\": 2}, \"session_id\": {\"weight_norm\": 0.25, \"weight\": 1}}, \"type\": \"suit\"}, {\"sourceIndex\": 10, \"targetIndex\": 22, \"weights\": {\"number_of_events\": {\"weight_norm\": 1.0, \"weight\": 5}, \"session_id\": {\"weight_norm\": 0.5, \"weight\": 2}}, \"type\": \"suit\"}, {\"sourceIndex\": 22, \"targetIndex\": 15, \"weights\": {\"number_of_events\": {\"weight_norm\": 0.2, \"weight\": 1}, \"session_id\": {\"weight_norm\": 0.25, \"weight\": 1}}, \"type\": \"suit\"}, {\"sourceIndex\": 22, \"targetIndex\": 10, \"weights\": {\"number_of_events\": {\"weight_norm\": 0.4, \"weight\": 2}, \"session_id\": {\"weight_norm\": 0.25, \"weight\": 1}}, \"type\": \"suit\"}, {\"sourceIndex\": 22, \"targetIndex\": 3, \"weights\": {\"number_of_events\": {\"weight_norm\": 0.2, \"weight\": 1}, \"session_id\": {\"weight_norm\": 0.25, \"weight\": 1}}, \"type\": \"suit\"}, {\"sourceIndex\": 22, \"targetIndex\": 9, \"weights\": {\"number_of_events\": {\"weight_norm\": 0.8, \"weight\": 4}, \"session_id\": {\"weight_norm\": 0.75, \"weight\": 3}}, \"type\": \"suit\"}, {\"sourceIndex\": 3, \"targetIndex\": 22, \"weights\": {\"number_of_events\": {\"weight_norm\": 0.2, \"weight\": 1}, \"session_id\": {\"weight_norm\": 0.25, \"weight\": 1}}, \"type\": \"suit\"}, {\"sourceIndex\": 9, \"targetIndex\": 10, \"weights\": {\"number_of_events\": {\"weight_norm\": 0.2, \"weight\": 1}, \"session_id\": {\"weight_norm\": 0.25, \"weight\": 1}}, \"type\": \"suit\"}, {\"sourceIndex\": 9, \"targetIndex\": 22, \"weights\": {\"number_of_events\": {\"weight_norm\": 0.4, \"weight\": 2}, \"session_id\": {\"weight_norm\": 0.25, \"weight\": 1}}, \"type\": \"suit\"}, {\"sourceIndex\": 9, \"targetIndex\": 20, \"weights\": {\"number_of_events\": {\"weight_norm\": 0.2, \"weight\": 1}, \"session_id\": {\"weight_norm\": 0.25, \"weight\": 1}}, \"type\": \"suit\"}, {\"sourceIndex\": 9, \"targetIndex\": 16, \"weights\": {\"number_of_events\": {\"weight_norm\": 0.4, \"weight\": 2}, \"session_id\": {\"weight_norm\": 0.5, \"weight\": 2}}, \"type\": \"suit\"}, {\"sourceIndex\": 4, \"targetIndex\": 21, \"weights\": {\"number_of_events\": {\"weight_norm\": 0.2, \"weight\": 1}, \"session_id\": {\"weight_norm\": 0.25, \"weight\": 1}}, \"type\": \"suit\"}, {\"sourceIndex\": 4, \"targetIndex\": 16, \"weights\": {\"number_of_events\": {\"weight_norm\": 0.2, \"weight\": 1}, \"session_id\": {\"weight_norm\": 0.25, \"weight\": 1}}, \"type\": \"suit\"}, {\"sourceIndex\": 20, \"targetIndex\": 15, \"weights\": {\"number_of_events\": {\"weight_norm\": 0.2, \"weight\": 1}, \"session_id\": {\"weight_norm\": 0.25, \"weight\": 1}}, \"type\": \"suit\"}, {\"sourceIndex\": 20, \"targetIndex\": 20, \"weights\": {\"number_of_events\": {\"weight_norm\": 0.2, \"weight\": 1}, \"session_id\": {\"weight_norm\": 0.25, \"weight\": 1}}, \"type\": \"suit\"}, {\"sourceIndex\": 20, \"targetIndex\": 16, \"weights\": {\"number_of_events\": {\"weight_norm\": 0.2, \"weight\": 1}, \"session_id\": {\"weight_norm\": 0.25, \"weight\": 1}}, \"type\": \"suit\"}, {\"sourceIndex\": 8, \"targetIndex\": 14, \"weights\": {\"number_of_events\": {\"weight_norm\": 0.8, \"weight\": 4}, \"session_id\": {\"weight_norm\": 1.0, \"weight\": 4}}, \"type\": \"suit\"}, {\"sourceIndex\": 6, \"targetIndex\": 8, \"weights\": {\"number_of_events\": {\"weight_norm\": 0.8, \"weight\": 4}, \"session_id\": {\"weight_norm\": 1.0, \"weight\": 4}}, \"type\": \"suit\"}, {\"sourceIndex\": 18, \"targetIndex\": 13, \"weights\": {\"number_of_events\": {\"weight_norm\": 0.2, \"weight\": 1}, \"session_id\": {\"weight_norm\": 0.25, \"weight\": 1}}, \"type\": \"suit\"}, {\"sourceIndex\": 18, \"targetIndex\": 21, \"weights\": {\"number_of_events\": {\"weight_norm\": 0.2, \"weight\": 1}, \"session_id\": {\"weight_norm\": 0.25, \"weight\": 1}}, \"type\": \"suit\"}, {\"sourceIndex\": 18, \"targetIndex\": 17, \"weights\": {\"number_of_events\": {\"weight_norm\": 0.6, \"weight\": 3}, \"session_id\": {\"weight_norm\": 0.25, \"weight\": 1}}, \"type\": \"suit\"}, {\"sourceIndex\": 17, \"targetIndex\": 18, \"weights\": {\"number_of_events\": {\"weight_norm\": 0.6, \"weight\": 3}, \"session_id\": {\"weight_norm\": 0.25, \"weight\": 1}}, \"type\": \"suit\"}, {\"sourceIndex\": 12, \"targetIndex\": 5, \"weights\": {\"number_of_events\": {\"weight_norm\": 0.2, \"weight\": 1}, \"session_id\": {\"weight_norm\": 0.25, \"weight\": 1}}, \"type\": \"suit\"}, {\"sourceIndex\": 12, \"targetIndex\": 18, \"weights\": {\"number_of_events\": {\"weight_norm\": 0.2, \"weight\": 1}, \"session_id\": {\"weight_norm\": 0.25, \"weight\": 1}}, \"type\": \"suit\"}, {\"sourceIndex\": 12, \"targetIndex\": 12, \"weights\": {\"number_of_events\": {\"weight_norm\": 0.8, \"weight\": 4}, \"session_id\": {\"weight_norm\": 0.25, \"weight\": 1}}, \"type\": \"suit\"}, {\"sourceIndex\": 12, \"targetIndex\": 23, \"weights\": {\"number_of_events\": {\"weight_norm\": 0.2, \"weight\": 1}, \"session_id\": {\"weight_norm\": 0.25, \"weight\": 1}}, \"type\": \"suit\"}, {\"sourceIndex\": 7, \"targetIndex\": 10, \"weights\": {\"number_of_events\": {\"weight_norm\": 0.2, \"weight\": 1}, \"session_id\": {\"weight_norm\": 0.25, \"weight\": 1}}, \"type\": \"suit\"}, {\"sourceIndex\": 7, \"targetIndex\": 7, \"weights\": {\"number_of_events\": {\"weight_norm\": 0.4, \"weight\": 2}, \"session_id\": {\"weight_norm\": 0.25, \"weight\": 1}}, \"type\": \"suit\"}, {\"sourceIndex\": 11, \"targetIndex\": 7, \"weights\": {\"number_of_events\": {\"weight_norm\": 0.2, \"weight\": 1}, \"session_id\": {\"weight_norm\": 0.25, \"weight\": 1}}, \"type\": \"suit\"}, {\"sourceIndex\": 11, \"targetIndex\": 11, \"weights\": {\"number_of_events\": {\"weight_norm\": 0.2, \"weight\": 1}, \"session_id\": {\"weight_norm\": 0.25, \"weight\": 1}}, \"type\": \"suit\"}, {\"sourceIndex\": 23, \"targetIndex\": 11, \"weights\": {\"number_of_events\": {\"weight_norm\": 0.2, \"weight\": 1}, \"session_id\": {\"weight_norm\": 0.25, \"weight\": 1}}, \"type\": \"suit\"}, {\"sourceIndex\": 16, \"targetIndex\": 1, \"weights\": {\"number_of_events\": {\"weight_norm\": 0.6, \"weight\": 3}, \"session_id\": {\"weight_norm\": 0.75, \"weight\": 3}}, \"type\": \"suit\"}, {\"sourceIndex\": 14, \"targetIndex\": 0, \"weights\": {\"number_of_events\": {\"weight_norm\": 0.4, \"weight\": 2}, \"session_id\": {\"weight_norm\": 0.5, \"weight\": 2}}, \"type\": \"suit\"}, {\"sourceIndex\": 14, \"targetIndex\": 9, \"weights\": {\"number_of_events\": {\"weight_norm\": 0.4, \"weight\": 2}, \"session_id\": {\"weight_norm\": 0.5, \"weight\": 2}}, \"type\": \"suit\"}],\n",
       "    nodesColsNames: ['number_of_events', 'session_id'],\n",
       "    linksWeightsNames: ['number_of_events', 'session_id'],\n",
       "    nodesThreshold: undefined,\n",
       "    linksThreshold: undefined,\n",
       "    showWeights: undefined,\n",
       "    showPercents: undefined,\n",
       "    showNodesNames: undefined,\n",
       "    showAllEdgesForTargets: undefined,\n",
       "    showNodesWithoutLinks: undefined,\n",
       "    useLayoutDump: Boolean(0),\n",
       "    weightTemplate: undefined\n",
       "})\n",
       "`\n",
       "        iframeDocument.body.appendChild(initGraph)\n",
       "      })\n",
       "\n",
       "      iframeDocument.head.appendChild(graphScript)\n",
       "      iframeDocument.body.dataset.templateId = 'elA8XR1C_template'\n",
       "\n",
       "      console.info('Graph IFRAME initialized')\n",
       "    }\n",
       "\n",
       "    console.log(`Graph IFRAME loaded: ` + iframeLoaded)\n",
       "\n",
       "    if (iframeLoaded) {\n",
       "      init()\n",
       "      return\n",
       "    }\n",
       "\n",
       "    iframe.onload = () => {\n",
       "      init()\n",
       "      window.reteLoadedIframes.push('elA8XR1C')\n",
       "    }\n",
       "  })()\n",
       "</script>\n",
       "\n",
       "<template id=\"elA8XR1C_template\">\n",
       "    <!DOCTYPE html>\n",
       "<html lang=\"en\">\n",
       "<head>\n",
       "    <meta charset=\"UTF-8\"/>\n",
       "    <meta name=\"viewport\" content=\"width=device-width, initial-scale=1.0, maximum-scale=1.0, user-scalable=no\"/>\n",
       "    <meta name=\"theme-color\" content=\"#000000\"/>\n",
       "    <link rel=\"preconnect\" href=\"https://fonts.googleapis.com\"/>\n",
       "    <link crossorigin rel=\"preconnect\" href=\"https://fonts.gstatic.com\"/>\n",
       "    <link\n",
       "            crossorigin\n",
       "            href=\"https://fonts.googleapis.com/css2?family=Open+Sans:wght@400;600&display=swap\"\n",
       "            rel=\"stylesheet\"\n",
       "    />\n",
       "    <title>Retentioneering Transition Graph Application</title>\n",
       "</head>\n",
       "\n",
       "<body>\n",
       "<noscript>You need to enable JavaScript to run this app.</noscript>\n",
       "{content}\n",
       "</body>\n",
       "</html>\n",
       "</template>"
      ],
      "text/plain": [
       "<IPython.core.display.HTML object>"
      ]
     },
     "metadata": {},
     "output_type": "display_data"
    },
    {
     "data": {
      "text/plain": [
       "<src.transition_graph.transition_graph.TransitionGraph at 0x29591f280>"
      ]
     },
     "execution_count": 6,
     "metadata": {},
     "output_type": "execute_result"
    }
   ],
   "source": [
    "graph.combine_result.transition_graph()"
   ]
  }
 ],
 "metadata": {
  "kernelspec": {
   "display_name": "Python 3 (ipykernel)",
   "language": "python",
   "name": "python3"
  },
  "language_info": {
   "codemirror_mode": {
    "name": "ipython",
    "version": 3
   },
   "file_extension": ".py",
   "mimetype": "text/x-python",
   "name": "python",
   "nbconvert_exporter": "python",
   "pygments_lexer": "ipython3",
   "version": "3.10.8"
  },
  "vscode": {
   "interpreter": {
    "hash": "b0fa6594d8f4cbf19f97940f81e996739fb7646882a419484c72d19e05852a7e"
   }
  }
 },
 "nbformat": 4,
 "nbformat_minor": 5
}
