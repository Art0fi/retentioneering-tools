{
 "cells": [
  {
   "cell_type": "code",
   "execution_count": 1,
   "metadata": {
    "collapsed": true
   },
   "outputs": [],
   "source": [
    "import sys\n",
    "sys.path.insert(0, '..')"
   ]
  },
  {
   "cell_type": "code",
   "execution_count": 2,
   "metadata": {},
   "outputs": [
    {
     "name": "stdout",
     "output_type": "stream",
     "text": [
      "field.default = <function _default_func_negative at 0x7fa5ca0f9dc0>\n",
      "field.default = <function _default_func_positive at 0x7fa5c9ff1790>\n",
      "[{'CollapseLoops': {'name': 'CollapseLoops', 'params': {'full_collapse': {'name': 'full_collapse', 'optional': True, 'widget': 'boolean'}, 'timestamp_aggregation_type': {'name': 'timestamp_aggregation_type', 'optional': True, 'widget': 'string'}}}}, {'DeleteUsersByPathLength': {'name': 'DeleteUsersByPathLength', 'params': {'events_num': {'name': 'events_num', 'optional': True, 'widget': 'integer'}, 'cutoff': {'name': 'cutoff', 'optional': True, 'widget': 'time_widget', 'params': [{'widget': 'float'}, {'widget': 'enum', 'params': ['Y', 'M', 'W', 'D', 'h', 'm', 's', 'ms', 'us', 'μs', 'ns', 'ps', 'fs', 'as']}]}}}}, {'LostUsersEvents': {'name': 'LostUsersEvents', 'params': {'lost_cutoff': {'name': 'lost_cutoff', 'optional': True, 'widget': 'time_widget', 'params': [{'widget': 'float'}, {'widget': 'enum', 'params': ['Y', 'M', 'W', 'D', 'h', 'm', 's', 'ms', 'us', 'μs', 'ns', 'ps', 'fs', 'as']}]}, 'lost_users_list': {'name': 'lost_users_list', 'optional': True, 'default': None, 'type': 'array', 'widget': 'array'}}}}, {'NegativeTarget': {'name': 'NegativeTarget', 'params': {'negative_target_events': {'name': 'negative_target_events', 'optional': False, 'default': None, 'type': 'array', 'widget': 'array'}, 'negative_function': {'name': 'negative_function', 'optional': True, 'widget': 'function', '_source_code': ''}}}}, {'NewUsersEvents': {'name': 'NewUsersEvents', 'params': {'new_users_list': {'name': 'New Users List', 'optional': False, 'default': None, 'type': <class 'str'>, 'widget': 'array'}}}}, {'PositiveTarget': {'name': 'PositiveTarget', 'params': {'positive_target_events': {'name': 'positive_target_events', 'optional': False, 'default': None, 'type': 'array', 'widget': 'array'}, 'positive_function': {'name': 'positive_function', 'optional': True, 'widget': 'function', '_source_code': ''}}}}, {'SplitSessions': {'name': 'SplitSessions', 'params': {'session_cutoff': {'name': 'session_cutoff', 'optional': False, 'widget': 'time_widget', 'params': [{'widget': 'float'}, {'widget': 'enum', 'params': ['Y', 'M', 'W', 'D', 'h', 'm', 's', 'ms', 'us', 'μs', 'ns', 'ps', 'fs', 'as']}]}, 'mark_truncated': {'name': 'mark_truncated', 'optional': True, 'widget': 'boolean'}, 'session_col': {'name': 'session_col', 'optional': False, 'widget': 'string'}}}}, {'StartEndEvents': {'name': 'StartEndEvents', 'params': {}}}, {'TruncatePath': {'name': 'TruncatePath', 'params': {'drop_before': {'name': 'drop_before', 'optional': True, 'widget': 'string'}, 'drop_after': {'name': 'drop_after', 'optional': True, 'widget': 'string'}, 'occurrence_before': {'name': 'occurrence_before', 'optional': True, 'widget': 'string'}, 'occurrence_after': {'name': 'occurrence_after', 'optional': True, 'widget': 'string'}, 'shift_before': {'name': 'shift_before', 'optional': True, 'widget': 'integer'}, 'shift_after': {'name': 'shift_after', 'optional': True, 'widget': 'integer'}}}}, {'TruncatedEvents': {'name': 'TruncatedEvents', 'params': {'left_truncated_cutoff': {'name': 'left_truncated_cutoff', 'optional': True, 'widget': 'time_widget', 'params': [{'widget': 'float'}, {'widget': 'enum', 'params': ['Y', 'M', 'W', 'D', 'h', 'm', 's', 'ms', 'us', 'μs', 'ns', 'ps', 'fs', 'as']}]}, 'right_truncated_cutoff': {'name': 'right_truncated_cutoff', 'optional': True, 'widget': 'time_widget', 'params': [{'widget': 'float'}, {'widget': 'enum', 'params': ['Y', 'M', 'W', 'D', 'h', 'm', 's', 'ms', 'us', 'μs', 'ns', 'ps', 'fs', 'as']}]}}}}]\n"
     ]
    },
    {
     "name": "stderr",
     "output_type": "stream",
     "text": [
      "/home/vladimir/Workspace/retentioneering/retentioneering-tools-new-arch/examples/../src/params_model/params_model.py:68: UserWarning: Callable negative_function was excluded from schema since JSON schema has no equivalent type.\n",
      "  params_schema: dict[str, Any] = cls.schema()\n",
      "/home/vladimir/Workspace/retentioneering/retentioneering-tools-new-arch/examples/../src/params_model/params_model.py:68: UserWarning: Callable positive_function was excluded from schema since JSON schema has no equivalent type.\n",
      "  params_schema: dict[str, Any] = cls.schema()\n"
     ]
    }
   ],
   "source": [
    "from src.data_processor.registry import dataprocessor_view_registry\n",
    "from src.data_processors_lib.rete import StartEndEvents, StartEndEventsParams\n",
    "print(dataprocessor_view_registry.get_registry())\n"
   ]
  }
 ],
 "metadata": {
  "kernelspec": {
   "display_name": "Python 3 (ipykernel)",
   "language": "python",
   "name": "python3"
  },
  "language_info": {
   "codemirror_mode": {
    "name": "ipython",
    "version": 3
   },
   "file_extension": ".py",
   "mimetype": "text/x-python",
   "name": "python",
   "nbconvert_exporter": "python",
   "pygments_lexer": "ipython3",
   "version": "3.8.13"
  }
 },
 "nbformat": 4,
 "nbformat_minor": 1
}
