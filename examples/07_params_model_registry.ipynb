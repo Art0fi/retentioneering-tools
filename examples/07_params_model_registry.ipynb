{
 "cells": [
  {
   "cell_type": "code",
   "execution_count": 1,
   "metadata": {
    "collapsed": true
   },
   "outputs": [],
   "source": [
    "import sys\n",
    "sys.path.insert(0, '..')"
   ]
  },
  {
   "cell_type": "code",
   "execution_count": 2,
   "outputs": [
    {
     "name": "stdout",
     "output_type": "stream",
     "text": [
      "{}\n"
     ]
    }
   ],
   "source": [
    "from src.params_model.registry import params_model_registry\n",
    "print(params_model_registry.get_registry())"
   ],
   "metadata": {
    "collapsed": false
   }
  },
  {
   "cell_type": "code",
   "execution_count": 3,
   "outputs": [],
   "source": [
    "from src.data_processors_lib.rete import StartEndEvents, StartEndEventsParams"
   ],
   "metadata": {
    "collapsed": false
   }
  },
  {
   "cell_type": "code",
   "execution_count": 4,
   "outputs": [
    {
     "name": "stdout",
     "output_type": "stream",
     "text": [
      "{'CollapseLoopsParams': <class 'src.data_processors_lib.rete.collapse_loops.CollapseLoopsParams'>, 'CutPathAfterEventParams': <class 'src.data_processors_lib.rete.cut_path_after_event.CutPathAfterEventParams'>, 'CutPathBeforeEventParams': <class 'src.data_processors_lib.rete.cut_path_before_event.CutPathBeforeEventParams'>, 'LostUsersParams': <class 'src.data_processors_lib.rete.lost_users.LostUsersParams'>, 'NegativeTargetParams': <class 'src.data_processors_lib.rete.negative_target.NegativeTargetParams'>, 'NewUsersParams': <class 'src.data_processors_lib.rete.new_users.NewUsersParams'>, 'PositiveTargetParams': <class 'src.data_processors_lib.rete.positive_target.PositiveTargetParams'>, 'SplitSessionsParams': <class 'src.data_processors_lib.rete.split_sessions.SplitSessionsParams'>, 'StartEndEventsParams': <class 'src.data_processors_lib.rete.start_end_events.StartEndEventsParams'>, 'TruncatePathParams': <class 'src.data_processors_lib.rete.truncate_path.TruncatePathParams'>, 'TruncatedParams': <class 'src.data_processors_lib.rete.truncated_events.TruncatedParams'>}\n"
     ]
    }
   ],
   "source": [
    "print(params_model_registry.get_registry())\n"
   ],
   "metadata": {
    "collapsed": false
   }
  }
 ],
 "metadata": {
  "kernelspec": {
   "display_name": "Python 3",
   "language": "python",
   "name": "python3"
  },
  "language_info": {
   "codemirror_mode": {
    "name": "ipython",
    "version": 2
   },
   "file_extension": ".py",
   "mimetype": "text/x-python",
   "name": "python",
   "nbconvert_exporter": "python",
   "pygments_lexer": "ipython2",
   "version": "2.7.6"
  }
 },
 "nbformat": 4,
 "nbformat_minor": 0
}
