{
 "cells": [
  {
   "cell_type": "code",
   "execution_count": 1,
   "metadata": {
    "collapsed": true
   },
   "outputs": [],
   "source": [
    "import sys\n",
    "sys.path.insert(0, '..')"
   ]
  },
  {
   "cell_type": "code",
   "execution_count": 2,
   "outputs": [
    {
     "name": "stdout",
     "output_type": "stream",
     "text": [
      "[{'CollapseLoops': {'name': 'CollapseLoops', 'params': {'full_collapse': {'name': 'full_collapse', 'optional': True, 'default': True, 'type': 'boolean', 'widget': 'boolean'}, 'timestamp_aggregation_type': {'name': 'timestamp_aggregation_type', 'optional': True, 'widget': 'string'}}}}, {'CutPathAfterEvent': {'name': 'CutPathAfterEvent', 'params': {'cutoff_events': {'name': 'cutoff_events', 'optional': False, 'default': None, 'type': 'array', 'widget': 'array'}, 'cut_shift': {'name': 'cut_shift', 'optional': False, 'widget': 'integer'}, 'min_cjm': {'name': 'min_cjm', 'optional': False, 'widget': 'integer'}}}}, {'CutPathBeforeEvent': {'name': 'CutPathBeforeEvent', 'params': {'cutoff_events': {'name': 'cutoff_events', 'optional': False, 'default': None, 'type': 'array', 'widget': 'array'}, 'cut_shift': {'name': 'cut_shift', 'optional': False, 'widget': 'integer'}, 'min_cjm': {'name': 'min_cjm', 'optional': False, 'widget': 'integer'}}}}, {'LostUsersEvents': {'name': 'LostUsersEvents', 'params': {'lost_cutoff': {'name': 'lost_cutoff', 'optional': True, 'default': None, 'params': ['Y', 'M', 'W', 'D', 'h', 'm', 's', 'ms', 'us', 'μs', 'ns', 'ps', 'fs', 'as'], 'widget': 'array'}, 'lost_users_list': {'name': 'lost_users_list', 'optional': True, 'default': None, 'type': 'array', 'widget': 'array'}}}}, {'NegativeTarget': {'name': 'NegativeTarget', 'params': {'negative_target_events': {'name': 'negative_target_events', 'optional': False, 'default': None, 'type': 'array', 'widget': 'array'}}}}, {'NewUsersEvents': {'name': 'NewUsersEvents', 'params': {'new_users_list': {'name': 'New Users List', 'optional': False, 'default': None, 'type': <class 'str'>, 'widget': 'array'}}}}, {'PositiveTarget': {'name': 'PositiveTarget', 'params': {'positive_target_events': {'name': 'positive_target_events', 'optional': False, 'default': None, 'type': 'array', 'widget': 'array'}}}}, {'SplitSessions': {'name': 'SplitSessions', 'params': {'session_cutoff': {'name': 'session_cutoff', 'optional': False, 'default': None, 'params': ['Y', 'M', 'W', 'D', 'h', 'm', 's', 'ms', 'us', 'μs', 'ns', 'ps', 'fs', 'as'], 'widget': 'array'}, 'mark_truncated': {'name': 'mark_truncated', 'optional': True, 'default': False, 'type': 'boolean', 'widget': 'boolean'}, 'session_col': {'name': 'session_col', 'optional': False, 'widget': 'string'}}}}, {'StartEndEvents': {'name': 'StartEndEvents', 'params': {}}}, {'TruncatePath': {'name': 'TruncatePath', 'params': {'drop_before': {'name': 'drop_before', 'optional': True, 'widget': 'string'}, 'drop_after': {'name': 'drop_after', 'optional': True, 'widget': 'string'}, 'occurrence_before': {'name': 'occurrence_before', 'optional': True, 'widget': 'string'}, 'occurrence_after': {'name': 'occurrence_after', 'optional': True, 'widget': 'string'}, 'shift_before': {'name': 'shift_before', 'optional': True, 'widget': 'integer'}, 'shift_after': {'name': 'shift_after', 'optional': True, 'widget': 'integer'}}}}, {'TruncatedEvents': {'name': 'TruncatedEvents', 'params': {'left_truncated_cutoff': {'name': 'left_truncated_cutoff', 'optional': True, 'default': None, 'params': ['Y', 'M', 'W', 'D', 'h', 'm', 's', 'ms', 'us', 'μs', 'ns', 'ps', 'fs', 'as'], 'widget': 'array'}, 'right_truncated_cutoff': {'name': 'right_truncated_cutoff', 'optional': True, 'default': None, 'params': ['Y', 'M', 'W', 'D', 'h', 'm', 's', 'ms', 'us', 'μs', 'ns', 'ps', 'fs', 'as'], 'widget': 'array'}}}}]\n"
     ]
    },
    {
     "name": "stderr",
     "output_type": "stream",
     "text": [
      "/home/vladimir/Workspace/retentioneering/retentioneering-tools-new-arch/examples/../src/params_model/params_model.py:60: UserWarning: Callable negative_function was excluded from schema since JSON schema has no equivalent type.\n",
      "  params_schema: dict[str, Any] = cls.schema()\n",
      "/home/vladimir/Workspace/retentioneering/retentioneering-tools-new-arch/examples/../src/params_model/params_model.py:60: UserWarning: Callable positive_function was excluded from schema since JSON schema has no equivalent type.\n",
      "  params_schema: dict[str, Any] = cls.schema()\n"
     ]
    }
   ],
   "source": [
    "from src.data_processor.registry import dataprocessor_registry\n",
    "from src.data_processors_lib.rete import StartEndEvents, StartEndEventsParams\n",
    "print(dataprocessor_registry.get_registry())\n"
   ],
   "metadata": {
    "collapsed": false
   }
  }
 ],
 "metadata": {
  "kernelspec": {
   "display_name": "Python 3",
   "language": "python",
   "name": "python3"
  },
  "language_info": {
   "codemirror_mode": {
    "name": "ipython",
    "version": 2
   },
   "file_extension": ".py",
   "mimetype": "text/x-python",
   "name": "python",
   "nbconvert_exporter": "python",
   "pygments_lexer": "ipython2",
   "version": "2.7.6"
  }
 },
 "nbformat": 4,
 "nbformat_minor": 0
}
