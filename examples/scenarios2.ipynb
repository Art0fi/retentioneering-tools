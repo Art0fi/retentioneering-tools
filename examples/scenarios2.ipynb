{
 "cells": [
  {
   "cell_type": "markdown",
   "id": "c2ac16fa-0515-4264-9354-79e98c87a271",
   "metadata": {},
   "source": [
    "# 1. Motivation. Why preprocessing module."
   ]
  },
  {
   "cell_type": "markdown",
   "id": "431ef4cb-aae7-41df-a424-f5fdf805c50f",
   "metadata": {},
   "source": [
    "This demo notebook describes the benefits of using Retentioneering preprocessing module in real-life scenarios. It uses [rete_preprocessing_demo](https://drive.google.com/file/d/1pZsFXm_xuwWM6CGbq5mo2dVEd8LNM-NO/view?usp=sharing) dataset originated by some production system. This clickstream covers <span style=\"color:red\">TODO: fill the exact numbers</span> \\*\\*\\* users and \\*\\*\\* unique events, \\*\\*\\* event per user on average. The data encompasses the date range from YYYY-MM-DD to YYYY-MM-DD.\n",
    "\n",
    "<span style=\"color:red\">TODO: rename original event names</span>\n",
    "\n",
    "Let's look what transition graph is associated with the given clickstream."
   ]
  },
  {
   "cell_type": "code",
   "execution_count": 1,
   "id": "31610429-6611-47ee-9c10-090a742623f4",
   "metadata": {},
   "outputs": [],
   "source": [
    "import numpy as np\n",
    "import pandas as pd"
   ]
  },
  {
   "cell_type": "code",
   "execution_count": 2,
   "id": "009e7453-ebb4-4967-822f-1db5fce50ff6",
   "metadata": {},
   "outputs": [],
   "source": [
    "# download_url = 'https://drive.google.com/uc?id=1P-qUosoQMgTb52iWtawKoBGXI4I3PUJv&export=download&confirm=t'\n",
    "download_url = 'https://drive.google.com/uc?id=1tY-4xg6m_dv6IaVPIcd4oC1bK1lW5Tr9&export=download&confirm=t'\n",
    "df0 = pd.read_csv(download_url, compression='gzip')"
   ]
  },
  {
   "cell_type": "code",
   "execution_count": 2,
   "id": "809663d2-c997-415f-9b86-4141bbcea12f",
   "metadata": {},
   "outputs": [],
   "source": [
    "import retentioneering\n",
    "\n",
    "retentioneering.config.update({\n",
    "    'user_col': 'user_id',    \n",
    "    'event_col': 'event',\n",
    "    'event_time_col': 'timestamp'\n",
    "})\n",
    "# df0.rete.plot_graph()"
   ]
  },
  {
   "cell_type": "code",
   "execution_count": 5,
   "id": "cff38a69-91bd-4584-9796-71c718df1a26",
   "metadata": {},
   "outputs": [
    {
     "data": {
      "text/html": [
       "<img src=\"enormous_transition_graph.png\"/>"
      ],
      "text/plain": [
       "<IPython.core.display.Image object>"
      ]
     },
     "execution_count": 5,
     "metadata": {},
     "output_type": "execute_result"
    }
   ],
   "source": [
    "from IPython.display import Image\n",
    "Image(url='enormous_transition_graph.png')"
   ]
  },
  {
   "cell_type": "markdown",
   "id": "e2bc7497-13f7-43f0-baf4-1c46d1f7d3e9",
   "metadata": {},
   "source": [
    "Obviously, it's impossible to figure out what's going on in this diagram, so we have to find the ways to unravel this tangle. The basic idea of any simplification is that we need to reduce the number of the events in the clickstream. Retentioneering preprocessing module efficiently cope with this problem. It contains multiple functions which facilitates the clickstream analysis.\n",
    "\n",
    "Besides this straightforward benefit, the module helps to organize the clickstream research. It's a common situation when you create many similar data frames (like df1, df2, df3, etc) during the exploration process. Essentially, these data frames are variations of the original data frame, and they represent it from different perspectives. The problem of these manupulations is that they are poorly structured. As a result, your Jupyter notebook turns into a messy pile of code. \n",
    "\n",
    "Here's an example. Suppose you want to drop the users whose paths are too short. You're not sure what \"short\" really means, so you start experimenting sequentially dropping the users whose paths are shorter than, say, 5 events, 10 events, 1 minute, 10 minutes, etc. Each time you obtain a new data frame after the dropping, you want to compare it with some previous version and look what's been changed. So you have to keep all these data frames in the notebook, and in the future it will be hard to reproduce what was going on here.\n",
    "\n",
    "Retentioneering preprocessing module keep all the manipulations with the original clickstream in a calculation graph. Each node of the graph is associated with a particular manipulation (like dropping the users whose path is shorter than 5 event in the example above), and the edges are associated with the execution sequences. As a result, the calculation graph makes all the data manipulations **structured and reproducable**, which is crucial for the data analysis.\n",
    "\n",
    "Below we provide some real-world cases when preprocessing module could help to manage your analytical process applied to the same ```rete_preprocessing_demo``` dataset introduced in the beginning of this document."
   ]
  },
  {
   "cell_type": "markdown",
   "id": "738768fe-381e-426d-8cb4-f3a6431ecc90",
   "metadata": {},
   "source": [
    "# 2 - General clickstream exploration\n",
    "\n",
    "Suppose you've just downloaded your clickstream dataset, and so far you have no idea how the users behave. As we've seen in the previous section, looking at the data straighforwardly makes no sense often. Intuitevely, it urges you to simplify the eventstream. There are multiple ways do to so, but we focus on the following particular steps:\n",
    "\n",
    "- Leave 10% random users.\n",
    "- Remove users whose path is too short (i.e. remove their paths entirely).\n",
    "- Drop a list of events <span style=\"color:red\">TODO: list the particular events</span>.\n",
    "- Collapse all the identical consequent events.\n",
    "- Group similar events <span style=\"color:red\">TODO: list the particular events</span> and treat them as a single event.\n",
    "\n",
    "<span style=\"color:red\">TODO: mention that all the original events are kept in an eventstream object, but they are kept invisible since there's no hard delete option.</span>"
   ]
  },
  {
   "cell_type": "code",
   "execution_count": 1,
   "id": "7c085dac",
   "metadata": {},
   "outputs": [],
   "source": [
    "import sys\n",
    "sys.path.insert(0, '..')"
   ]
  },
  {
   "cell_type": "code",
   "execution_count": 2,
   "id": "624d312f-ffda-40c1-9335-e216503b92e4",
   "metadata": {},
   "outputs": [
    {
     "name": "stderr",
     "output_type": "stream",
     "text": [
      "/Users/alexeyavramenko/projects/rete/retentioneering-tools-new-arch/examples/../src/params_model/params_model.py:68: UserWarning: Callable filter was excluded from schema since JSON schema has no equivalent type.\n",
      "  params_schema: dict[str, Any] = cls.schema()\n",
      "/Users/alexeyavramenko/projects/rete/retentioneering-tools-new-arch/examples/../src/params_model/params_model.py:68: UserWarning: Callable negative_function was excluded from schema since JSON schema has no equivalent type.\n",
      "  params_schema: dict[str, Any] = cls.schema()\n",
      "/Users/alexeyavramenko/projects/rete/retentioneering-tools-new-arch/examples/../src/params_model/params_model.py:68: UserWarning: Callable positive_function was excluded from schema since JSON schema has no equivalent type.\n",
      "  params_schema: dict[str, Any] = cls.schema()\n"
     ]
    }
   ],
   "source": [
    "import numpy as np\n",
    "import sys\n",
    "\n",
    "from src.eventstream.eventstream import Eventstream\n",
    "from src.eventstream.schema import RawDataSchema, EventstreamSchema\n",
    "from src.graph.p_graph import PGraph, EventsNode\n",
    "from src.data_processors_lib.rete import CollapseLoops, CollapseLoopsParams\n",
    "from src.data_processors_lib.rete import DeleteUsersByPathLength, DeleteUsersByPathLengthParams\n",
    "from src.data_processors_lib.rete import FilterEvents, FilterEventsParams\n",
    "from src.data_processors_lib.rete import GroupEvents, GroupEventsParams\n",
    "from src.data_processors_lib.rete import NewUsersEvents, NewUsersParams\n",
    "from src.data_processors_lib.rete import SplitSessions, SplitSessionsParams\n",
    "from src.data_processors_lib.rete import StartEndEvents, StartEndEventsParams\n",
    "from src.data_processors_lib.rete import TruncatePath, TruncatePathParams\n",
    "from src.data_processors_lib.rete import TruncatedEvents, TruncatedEventsParams"
   ]
  },
  {
   "cell_type": "code",
   "execution_count": 3,
   "id": "c56e1058-1905-4bad-b5a6-7928c59528cf",
   "metadata": {},
   "outputs": [
    {
     "ename": "NameError",
     "evalue": "name 'df0' is not defined",
     "output_type": "error",
     "traceback": [
      "\u001B[0;31m---------------------------------------------------------------------------\u001B[0m",
      "\u001B[0;31mNameError\u001B[0m                                 Traceback (most recent call last)",
      "Cell \u001B[0;32mIn [3], line 8\u001B[0m\n\u001B[1;32m      1\u001B[0m raw_data_schema \u001B[38;5;241m=\u001B[39m RawDataSchema(\n\u001B[1;32m      2\u001B[0m     event_name\u001B[38;5;241m=\u001B[39m\u001B[38;5;124m'\u001B[39m\u001B[38;5;124mevent\u001B[39m\u001B[38;5;124m'\u001B[39m, \n\u001B[1;32m      3\u001B[0m     event_timestamp\u001B[38;5;241m=\u001B[39m\u001B[38;5;124m'\u001B[39m\u001B[38;5;124mtimestamp\u001B[39m\u001B[38;5;124m'\u001B[39m, \n\u001B[1;32m      4\u001B[0m     user_id\u001B[38;5;241m=\u001B[39m\u001B[38;5;124m'\u001B[39m\u001B[38;5;124muser_id\u001B[39m\u001B[38;5;124m'\u001B[39m\n\u001B[1;32m      5\u001B[0m )\n\u001B[1;32m      7\u001B[0m stream \u001B[38;5;241m=\u001B[39m Eventstream(\n\u001B[0;32m----> 8\u001B[0m     raw_data\u001B[38;5;241m=\u001B[39m\u001B[43mdf0\u001B[49m,\n\u001B[1;32m      9\u001B[0m     raw_data_schema\u001B[38;5;241m=\u001B[39mraw_data_schema,\n\u001B[1;32m     10\u001B[0m     schema\u001B[38;5;241m=\u001B[39mEventstreamSchema()\n\u001B[1;32m     11\u001B[0m )\n",
      "\u001B[0;31mNameError\u001B[0m: name 'df0' is not defined"
     ]
    }
   ],
   "source": [
    "raw_data_schema = RawDataSchema(\n",
    "    event_name='event', \n",
    "    event_timestamp='timestamp', \n",
    "    user_id='user_id'\n",
    ")\n",
    "\n",
    "stream = Eventstream(\n",
    "    raw_data=df0,\n",
    "    raw_data_schema=raw_data_schema,\n",
    "    schema=EventstreamSchema()\n",
    ")"
   ]
  },
  {
   "cell_type": "code",
   "execution_count": null,
   "id": "065db4ce-9439-45e8-a689-311f3127a340",
   "metadata": {},
   "outputs": [],
   "source": [
    "def user_sample(df, schema):\n",
    "    users = df['user_id'].unique()\n",
    "    sample_size = int(0.1 * len(users))\n",
    "    np.random.seed(42)\n",
    "    sampled_users = np.random.choice(users, size=sample_size, replace=False)\n",
    "    return df['user_id'].isin(sampled_users)\n",
    "\n",
    "\n",
    "def exclude_events(df, schema):\n",
    "    events_to_exclude = ['site/*', 'landing/*', '/promo/*', '/trading/*', '/', '/content/education/*', '/analytics/*']\n",
    "    return ~df['event_name'].isin(events_to_exclude)\n",
    "\n",
    "def group_profile(df, schema):\n",
    "    return df[schema.event_name].isin(['profile', 'profile/*', 'profile/identity'])\n",
    "\n",
    "def group_finances(df, schema):\n",
    "    return df[schema.event_name].isin(['finances', 'finances/*transfer*', 'finances/deposit'])\n",
    "\n",
    "def group_cabinet1(df, schema):\n",
    "    return df[schema.event_name].isin(['cabinet/partner_*', 'cabinet/recovery_*'])\n",
    "\n",
    "def group_cabinet2(df, schema):\n",
    "    return df[schema.event_name].isin(['/cabinet/content/*', '/cabinet/loyalty_*', '/cabinet/subs/*'])\n",
    "\n",
    "stream = stream\\\n",
    "    .filter(filter=user_sample)\\\n",
    "    .delete_users(cutoff=(1, 'h'))\\\n",
    "    .filter(filter=exclude_events)\\\n",
    "    .group(event_name='profile', filter=group_profile)\\\n",
    "    .group(event_name='finances', filter=group_finances)\\\n",
    "    .group(event_name='cabinet1', filter=group_cabinet1)\\\n",
    "    .group(event_name='cabinet2', filter=group_cabinet2)"
   ]
  },
  {
   "cell_type": "code",
   "execution_count": null,
   "id": "714bfc6b-284c-48ae-8c15-e61d2acc0fd3",
   "metadata": {},
   "outputs": [],
   "source": [
    "def user_sample(df, schema):\n",
    "    users = df['user_id'].unique()\n",
    "    sample_size = int(0.1 * len(users))\n",
    "    np.random.seed(42)\n",
    "    sampled_users = np.random.choice(users, size=sample_size, replace=False)\n",
    "    return df['user_id'].isin(sampled_users)\n",
    "\n",
    "\n",
    "def exclude_events(df, schema):\n",
    "    events_to_exclude = [\n",
    "        'site/*',\n",
    "        'landing/*',\n",
    "        '/promo/*',\n",
    "        '/trading/*',\n",
    "        '/',\n",
    "        '/content/education/*',\n",
    "        '/analytics/*'\n",
    "    ]\n",
    "    return ~df['event_name'].isin(events_to_exclude)\n",
    "\n",
    "def group_profile(df, schema):\n",
    "    return df[schema.event_name].isin(['profile', 'profile/*', 'profile/identity'])\n",
    "\n",
    "def group_finances(df, schema):\n",
    "    return df[schema.event_name].isin(['finances', 'finances/*transfer*', 'finances/deposit'])\n",
    "\n",
    "def group_cabinet1(df, schema):\n",
    "    return df[schema.event_name].isin(['cabinet/partner_*', 'cabinet/recovery_*'])\n",
    "\n",
    "def group_cabinet2(df, schema):\n",
    "    return df[schema.event_name].isin(['/cabinet/content/*', '/cabinet/loyalty_*', '/cabinet/subs/*'])\n",
    "\n",
    "stream = stream\\\n",
    "    .filter(filter=user_sample)\\\n",
    "    .delete_users(cutoff=(1, 'h'))\\\n",
    "    .filter(filter=exclude_events)\\\n",
    "    .group(event_name='profile', filter=group_profile)\\\n",
    "    .group(event_name='finances', filter=group_finances)\\\n",
    "    .group(event_name='cabinet1', filter=group_cabinet1)\\\n",
    "    .group(event_name='cabinet2', filter=group_cabinet2)"
   ]
  },
  {
   "cell_type": "code",
   "execution_count": 20,
   "id": "7b8528da-911f-43c5-a610-42f978074811",
   "metadata": {},
   "outputs": [
    {
     "data": {
      "text/html": [
       "\n",
       "        <iframe\n",
       "            width=\"1000\"\n",
       "            height=\"700\"\n",
       "            src=\"experiments/graph_2022-11-14 22_13_35_493310.html\"\n",
       "            frameborder=\"0\"\n",
       "            allowfullscreen\n",
       "            \n",
       "        ></iframe>\n",
       "        "
      ],
      "text/plain": [
       "<IPython.lib.display.IFrame at 0x7fcd354b7cd0>"
      ]
     },
     "metadata": {},
     "output_type": "display_data"
    },
    {
     "data": {
      "text/plain": [
       "'experiments/graph_2022-11-14 22_13_35_493310.html'"
      ]
     },
     "execution_count": 20,
     "metadata": {},
     "output_type": "execute_result"
    }
   ],
   "source": [
    "stream.to_dataframe().rete.plot_graph()"
   ]
  },
  {
   "cell_type": "markdown",
   "id": "bb3a632d-9bed-4716-8b28-fe901198ecaf",
   "metadata": {},
   "source": [
    "So we see that the diagram has become less messy but still it's impossible to understand what's going on here, how the users behave. So the described steps could be used for general simplification, but for a more detailed research we need to break the data into smaller parts. These techniques will be presented in the next section."
   ]
  },
  {
   "cell_type": "markdown",
   "id": "94e97334-36cb-4dfe-ad9d-6a4dda34fb49",
   "metadata": {},
   "source": [
    "# 3 - Exploring the beginning of the paths\n",
    "\n",
    "For many IT products, such as apps or websites, the first steps of a user within the system are crusial from the churn point of view. That's why product analytics pay much attention especially to the beginning of a user's path.\n",
    "\n",
    "One might define beginning of a user path in different ways: first N actions, first day, first session. All the interpretations are possible, but for a data analyst, especially for a one who perform the exploratory analysis for the first time, it's often not clear what option is preferable. If you never try you'll never know. In this section we demonstrate how retentioneering preprocessing module alleviates the testing of these options."
   ]
  },
  {
   "cell_type": "code",
   "execution_count": 51,
   "id": "58abe5a3-5371-4312-b865-0b4b9be78a95",
   "metadata": {},
   "outputs": [
    {
     "data": {
      "text/html": [
       "<img src=\"path_beginning_research.png\" width=\"600\"/>"
      ],
      "text/plain": [
       "<IPython.core.display.Image object>"
      ]
     },
     "execution_count": 51,
     "metadata": {},
     "output_type": "execute_result"
    }
   ],
   "source": [
    "Image(url='path_beginning_research.png', width=600)"
   ]
  },
  {
   "cell_type": "code",
   "execution_count": 8,
   "id": "89b9f27f-98df-45d8-83ae-5831f2daa5e9",
   "metadata": {},
   "outputs": [
    {
     "ename": "FileNotFoundError",
     "evalue": "[Errno 2] No such file or directory: 'tmp.csv'",
     "output_type": "error",
     "traceback": [
      "\u001B[0;31m---------------------------------------------------------------------------\u001B[0m",
      "\u001B[0;31mFileNotFoundError\u001B[0m                         Traceback (most recent call last)",
      "Cell \u001B[0;32mIn [8], line 14\u001B[0m\n\u001B[1;32m      3\u001B[0m raw_data_schema \u001B[38;5;241m=\u001B[39m RawDataSchema(\n\u001B[1;32m      4\u001B[0m     event_name\u001B[38;5;241m=\u001B[39m\u001B[38;5;124m'\u001B[39m\u001B[38;5;124mevent_name\u001B[39m\u001B[38;5;124m'\u001B[39m, \n\u001B[1;32m      5\u001B[0m     event_timestamp\u001B[38;5;241m=\u001B[39m\u001B[38;5;124m'\u001B[39m\u001B[38;5;124mevent_timestamp\u001B[39m\u001B[38;5;124m'\u001B[39m, \n\u001B[1;32m      6\u001B[0m     user_id\u001B[38;5;241m=\u001B[39m\u001B[38;5;124m'\u001B[39m\u001B[38;5;124muser_id\u001B[39m\u001B[38;5;124m'\u001B[39m\n\u001B[1;32m      7\u001B[0m )\n\u001B[1;32m     10\u001B[0m \u001B[38;5;66;03m# df0.rete.plot_graph()\u001B[39;00m\n\u001B[1;32m     12\u001B[0m stream \u001B[38;5;241m=\u001B[39m Eventstream(\n\u001B[1;32m     13\u001B[0m     \u001B[38;5;66;03m# raw_data=stream.to_dataframe(),\u001B[39;00m\n\u001B[0;32m---> 14\u001B[0m     raw_data\u001B[38;5;241m=\u001B[39m\u001B[43mpd\u001B[49m\u001B[38;5;241;43m.\u001B[39;49m\u001B[43mread_csv\u001B[49m\u001B[43m(\u001B[49m\u001B[38;5;124;43m'\u001B[39;49m\u001B[38;5;124;43mtmp.csv\u001B[39;49m\u001B[38;5;124;43m'\u001B[39;49m\u001B[43m)\u001B[49m,\n\u001B[1;32m     15\u001B[0m     raw_data_schema\u001B[38;5;241m=\u001B[39mraw_data_schema,\n\u001B[1;32m     16\u001B[0m     schema\u001B[38;5;241m=\u001B[39mEventstreamSchema()\n\u001B[1;32m     17\u001B[0m )\n",
      "File \u001B[0;32m/opt/homebrew/lib/python3.10/site-packages/pandas/util/_decorators.py:211\u001B[0m, in \u001B[0;36mdeprecate_kwarg.<locals>._deprecate_kwarg.<locals>.wrapper\u001B[0;34m(*args, **kwargs)\u001B[0m\n\u001B[1;32m    209\u001B[0m     \u001B[38;5;28;01melse\u001B[39;00m:\n\u001B[1;32m    210\u001B[0m         kwargs[new_arg_name] \u001B[38;5;241m=\u001B[39m new_arg_value\n\u001B[0;32m--> 211\u001B[0m \u001B[38;5;28;01mreturn\u001B[39;00m \u001B[43mfunc\u001B[49m\u001B[43m(\u001B[49m\u001B[38;5;241;43m*\u001B[39;49m\u001B[43margs\u001B[49m\u001B[43m,\u001B[49m\u001B[43m \u001B[49m\u001B[38;5;241;43m*\u001B[39;49m\u001B[38;5;241;43m*\u001B[39;49m\u001B[43mkwargs\u001B[49m\u001B[43m)\u001B[49m\n",
      "File \u001B[0;32m/opt/homebrew/lib/python3.10/site-packages/pandas/util/_decorators.py:317\u001B[0m, in \u001B[0;36mdeprecate_nonkeyword_arguments.<locals>.decorate.<locals>.wrapper\u001B[0;34m(*args, **kwargs)\u001B[0m\n\u001B[1;32m    311\u001B[0m \u001B[38;5;28;01mif\u001B[39;00m \u001B[38;5;28mlen\u001B[39m(args) \u001B[38;5;241m>\u001B[39m num_allow_args:\n\u001B[1;32m    312\u001B[0m     warnings\u001B[38;5;241m.\u001B[39mwarn(\n\u001B[1;32m    313\u001B[0m         msg\u001B[38;5;241m.\u001B[39mformat(arguments\u001B[38;5;241m=\u001B[39marguments),\n\u001B[1;32m    314\u001B[0m         \u001B[38;5;167;01mFutureWarning\u001B[39;00m,\n\u001B[1;32m    315\u001B[0m         stacklevel\u001B[38;5;241m=\u001B[39mfind_stack_level(inspect\u001B[38;5;241m.\u001B[39mcurrentframe()),\n\u001B[1;32m    316\u001B[0m     )\n\u001B[0;32m--> 317\u001B[0m \u001B[38;5;28;01mreturn\u001B[39;00m \u001B[43mfunc\u001B[49m\u001B[43m(\u001B[49m\u001B[38;5;241;43m*\u001B[39;49m\u001B[43margs\u001B[49m\u001B[43m,\u001B[49m\u001B[43m \u001B[49m\u001B[38;5;241;43m*\u001B[39;49m\u001B[38;5;241;43m*\u001B[39;49m\u001B[43mkwargs\u001B[49m\u001B[43m)\u001B[49m\n",
      "File \u001B[0;32m/opt/homebrew/lib/python3.10/site-packages/pandas/io/parsers/readers.py:950\u001B[0m, in \u001B[0;36mread_csv\u001B[0;34m(filepath_or_buffer, sep, delimiter, header, names, index_col, usecols, squeeze, prefix, mangle_dupe_cols, dtype, engine, converters, true_values, false_values, skipinitialspace, skiprows, skipfooter, nrows, na_values, keep_default_na, na_filter, verbose, skip_blank_lines, parse_dates, infer_datetime_format, keep_date_col, date_parser, dayfirst, cache_dates, iterator, chunksize, compression, thousands, decimal, lineterminator, quotechar, quoting, doublequote, escapechar, comment, encoding, encoding_errors, dialect, error_bad_lines, warn_bad_lines, on_bad_lines, delim_whitespace, low_memory, memory_map, float_precision, storage_options)\u001B[0m\n\u001B[1;32m    935\u001B[0m kwds_defaults \u001B[38;5;241m=\u001B[39m _refine_defaults_read(\n\u001B[1;32m    936\u001B[0m     dialect,\n\u001B[1;32m    937\u001B[0m     delimiter,\n\u001B[0;32m   (...)\u001B[0m\n\u001B[1;32m    946\u001B[0m     defaults\u001B[38;5;241m=\u001B[39m{\u001B[38;5;124m\"\u001B[39m\u001B[38;5;124mdelimiter\u001B[39m\u001B[38;5;124m\"\u001B[39m: \u001B[38;5;124m\"\u001B[39m\u001B[38;5;124m,\u001B[39m\u001B[38;5;124m\"\u001B[39m},\n\u001B[1;32m    947\u001B[0m )\n\u001B[1;32m    948\u001B[0m kwds\u001B[38;5;241m.\u001B[39mupdate(kwds_defaults)\n\u001B[0;32m--> 950\u001B[0m \u001B[38;5;28;01mreturn\u001B[39;00m \u001B[43m_read\u001B[49m\u001B[43m(\u001B[49m\u001B[43mfilepath_or_buffer\u001B[49m\u001B[43m,\u001B[49m\u001B[43m \u001B[49m\u001B[43mkwds\u001B[49m\u001B[43m)\u001B[49m\n",
      "File \u001B[0;32m/opt/homebrew/lib/python3.10/site-packages/pandas/io/parsers/readers.py:605\u001B[0m, in \u001B[0;36m_read\u001B[0;34m(filepath_or_buffer, kwds)\u001B[0m\n\u001B[1;32m    602\u001B[0m _validate_names(kwds\u001B[38;5;241m.\u001B[39mget(\u001B[38;5;124m\"\u001B[39m\u001B[38;5;124mnames\u001B[39m\u001B[38;5;124m\"\u001B[39m, \u001B[38;5;28;01mNone\u001B[39;00m))\n\u001B[1;32m    604\u001B[0m \u001B[38;5;66;03m# Create the parser.\u001B[39;00m\n\u001B[0;32m--> 605\u001B[0m parser \u001B[38;5;241m=\u001B[39m \u001B[43mTextFileReader\u001B[49m\u001B[43m(\u001B[49m\u001B[43mfilepath_or_buffer\u001B[49m\u001B[43m,\u001B[49m\u001B[43m \u001B[49m\u001B[38;5;241;43m*\u001B[39;49m\u001B[38;5;241;43m*\u001B[39;49m\u001B[43mkwds\u001B[49m\u001B[43m)\u001B[49m\n\u001B[1;32m    607\u001B[0m \u001B[38;5;28;01mif\u001B[39;00m chunksize \u001B[38;5;129;01mor\u001B[39;00m iterator:\n\u001B[1;32m    608\u001B[0m     \u001B[38;5;28;01mreturn\u001B[39;00m parser\n",
      "File \u001B[0;32m/opt/homebrew/lib/python3.10/site-packages/pandas/io/parsers/readers.py:1442\u001B[0m, in \u001B[0;36mTextFileReader.__init__\u001B[0;34m(self, f, engine, **kwds)\u001B[0m\n\u001B[1;32m   1439\u001B[0m     \u001B[38;5;28mself\u001B[39m\u001B[38;5;241m.\u001B[39moptions[\u001B[38;5;124m\"\u001B[39m\u001B[38;5;124mhas_index_names\u001B[39m\u001B[38;5;124m\"\u001B[39m] \u001B[38;5;241m=\u001B[39m kwds[\u001B[38;5;124m\"\u001B[39m\u001B[38;5;124mhas_index_names\u001B[39m\u001B[38;5;124m\"\u001B[39m]\n\u001B[1;32m   1441\u001B[0m \u001B[38;5;28mself\u001B[39m\u001B[38;5;241m.\u001B[39mhandles: IOHandles \u001B[38;5;241m|\u001B[39m \u001B[38;5;28;01mNone\u001B[39;00m \u001B[38;5;241m=\u001B[39m \u001B[38;5;28;01mNone\u001B[39;00m\n\u001B[0;32m-> 1442\u001B[0m \u001B[38;5;28mself\u001B[39m\u001B[38;5;241m.\u001B[39m_engine \u001B[38;5;241m=\u001B[39m \u001B[38;5;28;43mself\u001B[39;49m\u001B[38;5;241;43m.\u001B[39;49m\u001B[43m_make_engine\u001B[49m\u001B[43m(\u001B[49m\u001B[43mf\u001B[49m\u001B[43m,\u001B[49m\u001B[43m \u001B[49m\u001B[38;5;28;43mself\u001B[39;49m\u001B[38;5;241;43m.\u001B[39;49m\u001B[43mengine\u001B[49m\u001B[43m)\u001B[49m\n",
      "File \u001B[0;32m/opt/homebrew/lib/python3.10/site-packages/pandas/io/parsers/readers.py:1729\u001B[0m, in \u001B[0;36mTextFileReader._make_engine\u001B[0;34m(self, f, engine)\u001B[0m\n\u001B[1;32m   1727\u001B[0m     is_text \u001B[38;5;241m=\u001B[39m \u001B[38;5;28;01mFalse\u001B[39;00m\n\u001B[1;32m   1728\u001B[0m     mode \u001B[38;5;241m=\u001B[39m \u001B[38;5;124m\"\u001B[39m\u001B[38;5;124mrb\u001B[39m\u001B[38;5;124m\"\u001B[39m\n\u001B[0;32m-> 1729\u001B[0m \u001B[38;5;28mself\u001B[39m\u001B[38;5;241m.\u001B[39mhandles \u001B[38;5;241m=\u001B[39m \u001B[43mget_handle\u001B[49m\u001B[43m(\u001B[49m\n\u001B[1;32m   1730\u001B[0m \u001B[43m    \u001B[49m\u001B[43mf\u001B[49m\u001B[43m,\u001B[49m\n\u001B[1;32m   1731\u001B[0m \u001B[43m    \u001B[49m\u001B[43mmode\u001B[49m\u001B[43m,\u001B[49m\n\u001B[1;32m   1732\u001B[0m \u001B[43m    \u001B[49m\u001B[43mencoding\u001B[49m\u001B[38;5;241;43m=\u001B[39;49m\u001B[38;5;28;43mself\u001B[39;49m\u001B[38;5;241;43m.\u001B[39;49m\u001B[43moptions\u001B[49m\u001B[38;5;241;43m.\u001B[39;49m\u001B[43mget\u001B[49m\u001B[43m(\u001B[49m\u001B[38;5;124;43m\"\u001B[39;49m\u001B[38;5;124;43mencoding\u001B[39;49m\u001B[38;5;124;43m\"\u001B[39;49m\u001B[43m,\u001B[49m\u001B[43m \u001B[49m\u001B[38;5;28;43;01mNone\u001B[39;49;00m\u001B[43m)\u001B[49m\u001B[43m,\u001B[49m\n\u001B[1;32m   1733\u001B[0m \u001B[43m    \u001B[49m\u001B[43mcompression\u001B[49m\u001B[38;5;241;43m=\u001B[39;49m\u001B[38;5;28;43mself\u001B[39;49m\u001B[38;5;241;43m.\u001B[39;49m\u001B[43moptions\u001B[49m\u001B[38;5;241;43m.\u001B[39;49m\u001B[43mget\u001B[49m\u001B[43m(\u001B[49m\u001B[38;5;124;43m\"\u001B[39;49m\u001B[38;5;124;43mcompression\u001B[39;49m\u001B[38;5;124;43m\"\u001B[39;49m\u001B[43m,\u001B[49m\u001B[43m \u001B[49m\u001B[38;5;28;43;01mNone\u001B[39;49;00m\u001B[43m)\u001B[49m\u001B[43m,\u001B[49m\n\u001B[1;32m   1734\u001B[0m \u001B[43m    \u001B[49m\u001B[43mmemory_map\u001B[49m\u001B[38;5;241;43m=\u001B[39;49m\u001B[38;5;28;43mself\u001B[39;49m\u001B[38;5;241;43m.\u001B[39;49m\u001B[43moptions\u001B[49m\u001B[38;5;241;43m.\u001B[39;49m\u001B[43mget\u001B[49m\u001B[43m(\u001B[49m\u001B[38;5;124;43m\"\u001B[39;49m\u001B[38;5;124;43mmemory_map\u001B[39;49m\u001B[38;5;124;43m\"\u001B[39;49m\u001B[43m,\u001B[49m\u001B[43m \u001B[49m\u001B[38;5;28;43;01mFalse\u001B[39;49;00m\u001B[43m)\u001B[49m\u001B[43m,\u001B[49m\n\u001B[1;32m   1735\u001B[0m \u001B[43m    \u001B[49m\u001B[43mis_text\u001B[49m\u001B[38;5;241;43m=\u001B[39;49m\u001B[43mis_text\u001B[49m\u001B[43m,\u001B[49m\n\u001B[1;32m   1736\u001B[0m \u001B[43m    \u001B[49m\u001B[43merrors\u001B[49m\u001B[38;5;241;43m=\u001B[39;49m\u001B[38;5;28;43mself\u001B[39;49m\u001B[38;5;241;43m.\u001B[39;49m\u001B[43moptions\u001B[49m\u001B[38;5;241;43m.\u001B[39;49m\u001B[43mget\u001B[49m\u001B[43m(\u001B[49m\u001B[38;5;124;43m\"\u001B[39;49m\u001B[38;5;124;43mencoding_errors\u001B[39;49m\u001B[38;5;124;43m\"\u001B[39;49m\u001B[43m,\u001B[49m\u001B[43m \u001B[49m\u001B[38;5;124;43m\"\u001B[39;49m\u001B[38;5;124;43mstrict\u001B[39;49m\u001B[38;5;124;43m\"\u001B[39;49m\u001B[43m)\u001B[49m\u001B[43m,\u001B[49m\n\u001B[1;32m   1737\u001B[0m \u001B[43m    \u001B[49m\u001B[43mstorage_options\u001B[49m\u001B[38;5;241;43m=\u001B[39;49m\u001B[38;5;28;43mself\u001B[39;49m\u001B[38;5;241;43m.\u001B[39;49m\u001B[43moptions\u001B[49m\u001B[38;5;241;43m.\u001B[39;49m\u001B[43mget\u001B[49m\u001B[43m(\u001B[49m\u001B[38;5;124;43m\"\u001B[39;49m\u001B[38;5;124;43mstorage_options\u001B[39;49m\u001B[38;5;124;43m\"\u001B[39;49m\u001B[43m,\u001B[49m\u001B[43m \u001B[49m\u001B[38;5;28;43;01mNone\u001B[39;49;00m\u001B[43m)\u001B[49m\u001B[43m,\u001B[49m\n\u001B[1;32m   1738\u001B[0m \u001B[43m\u001B[49m\u001B[43m)\u001B[49m\n\u001B[1;32m   1739\u001B[0m \u001B[38;5;28;01massert\u001B[39;00m \u001B[38;5;28mself\u001B[39m\u001B[38;5;241m.\u001B[39mhandles \u001B[38;5;129;01mis\u001B[39;00m \u001B[38;5;129;01mnot\u001B[39;00m \u001B[38;5;28;01mNone\u001B[39;00m\n\u001B[1;32m   1740\u001B[0m f \u001B[38;5;241m=\u001B[39m \u001B[38;5;28mself\u001B[39m\u001B[38;5;241m.\u001B[39mhandles\u001B[38;5;241m.\u001B[39mhandle\n",
      "File \u001B[0;32m/opt/homebrew/lib/python3.10/site-packages/pandas/io/common.py:857\u001B[0m, in \u001B[0;36mget_handle\u001B[0;34m(path_or_buf, mode, encoding, compression, memory_map, is_text, errors, storage_options)\u001B[0m\n\u001B[1;32m    852\u001B[0m \u001B[38;5;28;01melif\u001B[39;00m \u001B[38;5;28misinstance\u001B[39m(handle, \u001B[38;5;28mstr\u001B[39m):\n\u001B[1;32m    853\u001B[0m     \u001B[38;5;66;03m# Check whether the filename is to be opened in binary mode.\u001B[39;00m\n\u001B[1;32m    854\u001B[0m     \u001B[38;5;66;03m# Binary mode does not support 'encoding' and 'newline'.\u001B[39;00m\n\u001B[1;32m    855\u001B[0m     \u001B[38;5;28;01mif\u001B[39;00m ioargs\u001B[38;5;241m.\u001B[39mencoding \u001B[38;5;129;01mand\u001B[39;00m \u001B[38;5;124m\"\u001B[39m\u001B[38;5;124mb\u001B[39m\u001B[38;5;124m\"\u001B[39m \u001B[38;5;129;01mnot\u001B[39;00m \u001B[38;5;129;01min\u001B[39;00m ioargs\u001B[38;5;241m.\u001B[39mmode:\n\u001B[1;32m    856\u001B[0m         \u001B[38;5;66;03m# Encoding\u001B[39;00m\n\u001B[0;32m--> 857\u001B[0m         handle \u001B[38;5;241m=\u001B[39m \u001B[38;5;28;43mopen\u001B[39;49m\u001B[43m(\u001B[49m\n\u001B[1;32m    858\u001B[0m \u001B[43m            \u001B[49m\u001B[43mhandle\u001B[49m\u001B[43m,\u001B[49m\n\u001B[1;32m    859\u001B[0m \u001B[43m            \u001B[49m\u001B[43mioargs\u001B[49m\u001B[38;5;241;43m.\u001B[39;49m\u001B[43mmode\u001B[49m\u001B[43m,\u001B[49m\n\u001B[1;32m    860\u001B[0m \u001B[43m            \u001B[49m\u001B[43mencoding\u001B[49m\u001B[38;5;241;43m=\u001B[39;49m\u001B[43mioargs\u001B[49m\u001B[38;5;241;43m.\u001B[39;49m\u001B[43mencoding\u001B[49m\u001B[43m,\u001B[49m\n\u001B[1;32m    861\u001B[0m \u001B[43m            \u001B[49m\u001B[43merrors\u001B[49m\u001B[38;5;241;43m=\u001B[39;49m\u001B[43merrors\u001B[49m\u001B[43m,\u001B[49m\n\u001B[1;32m    862\u001B[0m \u001B[43m            \u001B[49m\u001B[43mnewline\u001B[49m\u001B[38;5;241;43m=\u001B[39;49m\u001B[38;5;124;43m\"\u001B[39;49m\u001B[38;5;124;43m\"\u001B[39;49m\u001B[43m,\u001B[49m\n\u001B[1;32m    863\u001B[0m \u001B[43m        \u001B[49m\u001B[43m)\u001B[49m\n\u001B[1;32m    864\u001B[0m     \u001B[38;5;28;01melse\u001B[39;00m:\n\u001B[1;32m    865\u001B[0m         \u001B[38;5;66;03m# Binary mode\u001B[39;00m\n\u001B[1;32m    866\u001B[0m         handle \u001B[38;5;241m=\u001B[39m \u001B[38;5;28mopen\u001B[39m(handle, ioargs\u001B[38;5;241m.\u001B[39mmode)\n",
      "\u001B[0;31mFileNotFoundError\u001B[0m: [Errno 2] No such file or directory: 'tmp.csv'"
     ]
    }
   ],
   "source": [
    "import pandas as pd\n",
    "\n",
    "raw_data_schema = RawDataSchema(\n",
    "    event_name='event_name', \n",
    "    event_timestamp='event_timestamp', \n",
    "    user_id='user_id'\n",
    ")\n",
    "\n",
    "\n",
    "# df0.rete.plot_graph()\n",
    "\n",
    "stream = Eventstream(\n",
    "    # raw_data=stream.to_dataframe(),\n",
    "    raw_data=pd.read_csv('tmp.csv'),\n",
    "    raw_data_schema=raw_data_schema,\n",
    "    schema=EventstreamSchema()\n",
    ")"
   ]
  },
  {
   "cell_type": "code",
   "execution_count": 28,
   "id": "f7932bc1-0d3a-41b7-bc63-de110e1ab3c7",
   "metadata": {},
   "outputs": [
    {
     "data": {
      "text/plain": [
       "<src.eventstream.eventstream.Eventstream at 0x7fcdc44e6fa0>"
      ]
     },
     "execution_count": 28,
     "metadata": {},
     "output_type": "execute_result"
    }
   ],
   "source": [
    "graph.combine(node=node4)"
   ]
  },
  {
   "cell_type": "code",
   "execution_count": 1,
   "id": "32898bb1",
   "metadata": {},
   "outputs": [],
   "source": [
    "import sys\n",
    "sys.path.insert(0, '..')"
   ]
  },
  {
   "cell_type": "code",
   "execution_count": 2,
   "id": "f95bfe35",
   "metadata": {},
   "outputs": [
    {
     "data": {
      "text/html": [
       "<div>\n",
       "<style scoped>\n",
       "    .dataframe tbody tr th:only-of-type {\n",
       "        vertical-align: middle;\n",
       "    }\n",
       "\n",
       "    .dataframe tbody tr th {\n",
       "        vertical-align: top;\n",
       "    }\n",
       "\n",
       "    .dataframe thead th {\n",
       "        text-align: right;\n",
       "    }\n",
       "</style>\n",
       "<table border=\"1\" class=\"dataframe\">\n",
       "  <thead>\n",
       "    <tr style=\"text-align: right;\">\n",
       "      <th></th>\n",
       "      <th>event</th>\n",
       "      <th>timestamp</th>\n",
       "      <th>user_id</th>\n",
       "    </tr>\n",
       "  </thead>\n",
       "  <tbody>\n",
       "  </tbody>\n",
       "</table>\n",
       "</div>"
      ],
      "text/plain": [
       "Empty DataFrame\n",
       "Columns: [event, timestamp, user_id]\n",
       "Index: []"
      ]
     },
     "execution_count": 2,
     "metadata": {},
     "output_type": "execute_result"
    }
   ],
   "source": [
    "import pandas as pd\n",
    "\n",
    "# download_url = 'https://drive.google.com/uc?id=1tY-4xg6m_dv6IaVPIcd4oC1bK1lW5Tr9&export=download&confirm=t'\n",
    "# df0 = pd.read_csv(download_url, compression='gzip')\n",
    "df0 = pd.DataFrame(data=[], columns=['event', 'timestamp', 'user_id'])\n",
    "df0"
   ]
  },
  {
   "cell_type": "code",
   "execution_count": 3,
   "id": "61bf2f42-2f9b-4d31-9549-b01007a068b6",
   "metadata": {},
   "outputs": [
    {
     "name": "stderr",
     "output_type": "stream",
     "text": [
      "/Users/alexeyavramenko/projects/rete/retentioneering-tools-new-arch/examples/../src/params_model/params_model.py:68: UserWarning: Callable filter was excluded from schema since JSON schema has no equivalent type.\n",
      "  params_schema: dict[str, Any] = cls.schema()\n",
      "/Users/alexeyavramenko/projects/rete/retentioneering-tools-new-arch/examples/../src/params_model/params_model.py:68: UserWarning: Callable negative_function was excluded from schema since JSON schema has no equivalent type.\n",
      "  params_schema: dict[str, Any] = cls.schema()\n",
      "/Users/alexeyavramenko/projects/rete/retentioneering-tools-new-arch/examples/../src/params_model/params_model.py:68: UserWarning: Callable positive_function was excluded from schema since JSON schema has no equivalent type.\n",
      "  params_schema: dict[str, Any] = cls.schema()\n"
     ]
    },
    {
     "data": {
      "text/html": [
       "<div id=\"6bcf62a3-ac76-42cd-be19-a8b7f72be523\">\n",
       "</div>\n",
       "<script>\n",
       "  (function () {\n",
       "    const iframe = document.createElement(\"iframe\")\n",
       "    iframe.src = \"about:blank\"\n",
       "    iframe.width = 960\n",
       "    iframe.height = 900\n",
       "\n",
       "    const renderBlock = document.getElementById(\"6bcf62a3-ac76-42cd-be19-a8b7f72be523\")\n",
       "    renderBlock.appendChild(iframe)\n",
       "\n",
       "    iframe.contentWindow.__SERVER_ID__ = \"0f78c806-7786-46b1-a7c3-db511cd6ed17\"\n",
       "    iframe.contentWindow.__ENV__ = \"classic\"\n",
       "    const fDocument = iframe.contentDocument\n",
       "    const container = fDocument.createElement(\"div\")\n",
       "    container.id = \"root\"\n",
       "\n",
       "    const script = fDocument.createElement(\"script\")\n",
       "    script.src = \"http://localhost:8080/preprocessing-graph.umd.js?id=6bcf62a3-ac76-42cd-be19-a8b7f72be523\"\n",
       "    script.type = \"text/javascript\"\n",
       "\n",
       "    fDocument.body.appendChild(container)\n",
       "    fDocument.body.appendChild(script)\n",
       "  })()\n",
       "</script>"
      ],
      "text/plain": [
       "<IPython.core.display.HTML object>"
      ]
     },
     "metadata": {},
     "output_type": "display_data"
    }
   ],
   "source": [
    "from src.eventstream.schema import RawDataSchema, EventstreamSchema\n",
    "from src.eventstream.eventstream import Eventstream\n",
    "from src.graph.p_graph import PGraph, EventsNode\n",
    "from src.data_processors_lib.rete import CollapseLoops, CollapseLoopsParams\n",
    "from src.data_processors_lib.rete import DeleteUsersByPathLength, DeleteUsersByPathLengthParams\n",
    "from src.data_processors_lib.rete import FilterEvents, FilterEventsParams\n",
    "from src.data_processors_lib.rete import GroupEvents, GroupEventsParams\n",
    "from src.data_processors_lib.rete import NewUsersEvents, NewUsersParams\n",
    "from src.data_processors_lib.rete import SplitSessions, SplitSessionsParams\n",
    "from src.data_processors_lib.rete import StartEndEvents, StartEndEventsParams\n",
    "from src.data_processors_lib.rete import TruncatePath, TruncatePathParams\n",
    "from src.data_processors_lib.rete import TruncatedEvents, TruncatedEventsParams\n",
    "from src.graph.p_graph import PGraph, EventsNode\n",
    "import inspect\n",
    "\n",
    "\n",
    "raw_data_schema = RawDataSchema(\n",
    "    event_name='event', \n",
    "    event_timestamp='timestamp', \n",
    "    user_id='user_id'\n",
    ")\n",
    "\n",
    "stream = Eventstream(\n",
    "    raw_data=df0,\n",
    "    raw_data_schema=raw_data_schema,\n",
    "    schema=EventstreamSchema()\n",
    ")\n",
    "\n",
    "graph = PGraph(source_stream=stream)\n",
    "\n",
    "TARGET_EVENT = 'finances/deposit/<payment_name>/success'\n",
    "\n",
    "def users_with_target_event(df, schema):\n",
    "    target_users = df[df['event_name'] == TARGET_EVENT]['user_id'].unique()\n",
    "    return df['user_id'].isin(target_users)\n",
    "\n",
    "def first_session_filter(df, schema):\n",
    "    return df['session_id'].str.endswith('_1')\n",
    "\n",
    "def new_and_not_truncated_users(df, schema):\n",
    "    truncated_users = df[(df['event_name'] == 'truncated_right')]['user_id'].unique()\n",
    "    new_users = df[(df['event_name'] == 'new_user')]['user_id'].unique()\n",
    "    target_users = np.setdiff1d(new_users, truncated_users)\n",
    "    return df['user_id'].isin(target_users)\n",
    "\n",
    "def first_session_filter(df, schema):\n",
    "    return df['session_id'].str.endswith('_1')\n",
    "\n",
    "\n",
    "node1 = EventsNode(StartEndEvents(params=StartEndEventsParams(**{})))\n",
    "node2 = EventsNode(NewUsersEvents(params=NewUsersParams(new_users_list=\"all\")))\n",
    "node3 = EventsNode(TruncatedEvents(params=TruncatedEventsParams(right_truncated_cutoff=(12, 'D'))))\n",
    "node4 = EventsNode(FilterEvents(params=FilterEventsParams(filter=new_and_not_truncated_users)))\n",
    "node5 = EventsNode(SplitSessions(params=SplitSessionsParams(\n",
    "    session_cutoff=(1, 'h'),\n",
    "    session_col='session_id'\n",
    ")))\n",
    "node6 = EventsNode(FilterEvents(params=FilterEventsParams(filter=first_session_filter)))\n",
    "\n",
    "node7 = EventsNode(FilterEvents(params=FilterEventsParams(filter=users_with_target_event)))\n",
    "node8 = EventsNode(TruncatePath(params=TruncatePathParams(drop_after=TARGET_EVENT)))\n",
    "node9 = EventsNode(FilterEvents(params=FilterEventsParams(filter=first_session_filter)))\n",
    "\n",
    "\n",
    "graph.add_node(node=node1, parents=[graph.root])\n",
    "graph.add_node(node=node2, parents=[node1])\n",
    "graph.add_node(node=node3, parents=[node2])\n",
    "graph.add_node(node=node4, parents=[node3])\n",
    "graph.add_node(node=node5, parents=[node4])\n",
    "\n",
    "graph.add_node(node=node6, parents=[node5])\n",
    "graph.add_node(node=node7, parents=[node6])\n",
    "\n",
    "graph.add_node(node=node8, parents=[node5])\n",
    "graph.add_node(node=node9, parents=[node8])\n",
    "\n",
    "graph.display()"
   ]
  },
  {
   "cell_type": "code",
   "execution_count": 28,
   "id": "903b613c",
   "metadata": {},
   "outputs": [
    {
     "data": {
      "text/html": [
       "<div id=\"fc550838-ad7d-4dc0-8c66-ab7cbb363f39\">\n",
       "</div>\n",
       "<script>\n",
       "  (function () {\n",
       "    const iframe = document.createElement(\"iframe\")\n",
       "    iframe.src = \"about:blank\"\n",
       "    iframe.width = 960\n",
       "    iframe.height = 900\n",
       "\n",
       "    const renderBlock = document.getElementById(\"fc550838-ad7d-4dc0-8c66-ab7cbb363f39\")\n",
       "    renderBlock.appendChild(iframe)\n",
       "\n",
       "    iframe.contentWindow.__SERVER_ID__ = \"f6d6f2ee-ae0f-4730-af6d-5e7bf50fc85a\"\n",
       "    iframe.contentWindow.__ENV__ = \"classic\"\n",
       "    const fDocument = iframe.contentDocument\n",
       "    const container = fDocument.createElement(\"div\")\n",
       "    container.id = \"root\"\n",
       "\n",
       "    const script = fDocument.createElement(\"script\")\n",
       "    script.src = \"http://localhost:8080/preprocessing-graph.umd.js?id=fc550838-ad7d-4dc0-8c66-ab7cbb363f39\"\n",
       "    script.type = \"text/javascript\"\n",
       "\n",
       "    fDocument.body.appendChild(container)\n",
       "    fDocument.body.appendChild(script)\n",
       "  })()\n",
       "</script>"
      ],
      "text/plain": [
       "<IPython.core.display.HTML object>"
      ]
     },
     "metadata": {},
     "output_type": "display_data"
    }
   ],
   "source": [
    "graph.display()"
   ]
  },
  {
   "cell_type": "code",
   "execution_count": 5,
   "id": "c222489b",
   "metadata": {},
   "outputs": [
    {
     "ename": "AttributeError",
     "evalue": "'PGraph' object has no attribute 'error'",
     "output_type": "error",
     "traceback": [
      "\u001B[0;31m---------------------------------------------------------------------------\u001B[0m",
      "\u001B[0;31mAttributeError\u001B[0m                            Traceback (most recent call last)",
      "Cell \u001B[0;32mIn [5], line 1\u001B[0m\n\u001B[0;32m----> 1\u001B[0m \u001B[38;5;28;01mraise\u001B[39;00m \u001B[43mgraph\u001B[49m\u001B[38;5;241;43m.\u001B[39;49m\u001B[43merror\u001B[49m\n",
      "\u001B[0;31mAttributeError\u001B[0m: 'PGraph' object has no attribute 'error'"
     ]
    }
   ],
   "source": [
    "raise graph.error"
   ]
  },
  {
   "cell_type": "code",
   "execution_count": 12,
   "id": "fbda16e0-1a4f-4f61-97d0-28fce40bad51",
   "metadata": {},
   "outputs": [
    {
     "data": {
      "text/html": [
       "\n",
       "        <iframe\n",
       "            width=\"1000\"\n",
       "            height=\"700\"\n",
       "            src=\"experiments/graph_2022-10-27 12_46_29_857943.html\"\n",
       "            frameborder=\"0\"\n",
       "            allowfullscreen\n",
       "            \n",
       "        ></iframe>\n",
       "        "
      ],
      "text/plain": [
       "<IPython.lib.display.IFrame at 0x7fbcfa1d4100>"
      ]
     },
     "metadata": {},
     "output_type": "display_data"
    },
    {
     "data": {
      "text/plain": [
       "'experiments/graph_2022-10-27 12_46_29_857943.html'"
      ]
     },
     "execution_count": 12,
     "metadata": {},
     "output_type": "execute_result"
    }
   ],
   "source": [
    "graph.combine(node=node6).to_dataframe().rete.plot_graph()"
   ]
  },
  {
   "cell_type": "code",
   "execution_count": 22,
   "id": "295a3a08-134b-4d2b-8500-e5bb75665955",
   "metadata": {},
   "outputs": [
    {
     "data": {
      "text/html": [
       "\n",
       "        <iframe\n",
       "            width=\"1000\"\n",
       "            height=\"700\"\n",
       "            src=\"experiments/graph_2022-10-27 13_00_20_715993.html\"\n",
       "            frameborder=\"0\"\n",
       "            allowfullscreen\n",
       "            \n",
       "        ></iframe>\n",
       "        "
      ],
      "text/plain": [
       "<IPython.lib.display.IFrame at 0x7fbcd8922df0>"
      ]
     },
     "metadata": {},
     "output_type": "display_data"
    },
    {
     "data": {
      "text/plain": [
       "'experiments/graph_2022-10-27 13_00_20_715993.html'"
      ]
     },
     "execution_count": 22,
     "metadata": {},
     "output_type": "execute_result"
    }
   ],
   "source": [
    "graph.combine(node=node8).to_dataframe().rete.plot_graph()"
   ]
  },
  {
   "cell_type": "code",
   "execution_count": null,
   "id": "7d8f4a17-f20b-4c5d-9eeb-17066fad83e2",
   "metadata": {},
   "outputs": [],
   "source": []
  },
  {
   "cell_type": "code",
   "execution_count": null,
   "id": "ad42fdbe-09dc-41a6-9bb9-b4807d4e9cea",
   "metadata": {},
   "outputs": [],
   "source": []
  },
  {
   "cell_type": "code",
   "execution_count": null,
   "id": "48c0c114-0ffe-477a-b2cc-d11840bca66d",
   "metadata": {},
   "outputs": [],
   "source": []
  },
  {
   "cell_type": "code",
   "execution_count": null,
   "id": "a85d287f-8550-4569-9531-f418f77e4780",
   "metadata": {},
   "outputs": [],
   "source": []
  },
  {
   "cell_type": "code",
   "execution_count": 8,
   "id": "ac05c413-1366-44e0-b35d-e3a53c026cc4",
   "metadata": {},
   "outputs": [],
   "source": [
    "raw_data_schema = RawDataSchema(\n",
    "    event_name='event_name', \n",
    "    event_timestamp='event_timestamp', \n",
    "    user_id='user_id'\n",
    ")\n",
    "\n",
    "retentioneering.config.update({\n",
    "    'user_col': 'user_id',    \n",
    "    'event_col': 'event_name',\n",
    "    'event_time_col': 'event_timestamp'\n",
    "})\n",
    "# df0.rete.plot_graph()\n",
    "\n",
    "stream = Eventstream(\n",
    "    # raw_data=stream.to_dataframe(),\n",
    "    raw_data=pd.read_csv('tmp.csv'),\n",
    "    raw_data_schema=raw_data_schema,\n",
    "    schema=EventstreamSchema()\n",
    ")"
   ]
  },
  {
   "cell_type": "code",
   "execution_count": 11,
   "id": "4b0f8fef-b402-416e-8c71-1a71ff099e84",
   "metadata": {},
   "outputs": [],
   "source": [
    "TARGET_EVENT = 'finances/deposit/<payment_name>/success'\n",
    "\n",
    "def new_and_not_truncated_users(df, schema):\n",
    "    truncated_users = df[(df['event_name'] == 'truncated_right')]['user_id'].unique()\n",
    "    new_users = df[(df['event_name'] == 'new_user')]['user_id'].unique()\n",
    "    target_users = np.setdiff1d(new_users, truncated_users)\n",
    "    return df['user_id'].isin(target_users)\n",
    "\n",
    "def users_with_target_event(df, schema):\n",
    "    target_users = df[df['event_name'] == TARGET_EVENT]['user_id'].unique()\n",
    "    return df['user_id'].isin(target_users)\n",
    "\n",
    "def first_session_filter(df, schema):\n",
    "    return df['session_id'].str.endswith('_1')\n",
    "\n",
    "node1 = EventsNode(StartEndEvents(params=StartEndEventsParams(**{})))\n",
    "node2 = EventsNode(NewUsersEvents(params=NewUsersParams(new_users_list=new_users)))\n",
    "node3 = EventsNode(TruncatedEvents(params=TruncatedEventsParams(right_truncated_cutoff=(12, 'D'))))\n",
    "node4 = EventsNode(FilterEvents(params=FilterEventsParams(filter=new_and_not_truncated_users)))\n",
    "node5 = EventsNode(CollapseLoops(params=CollapseLoopsParams(suffix=None)))\n",
    "node6 = EventsNode(FilterEvents(params=FilterEventsParams(filter=users_with_target_event)))\n",
    "node7 = EventsNode(TruncatePath(params=TruncatePathParams(drop_after=TARGET_EVENT)))\n",
    "node8 = EventsNode(SplitSessions(params=SplitSessionsParams(session_cutoff=(1, 'h'), session_col='session_id')))\n",
    "node9 = EventsNode(FilterEvents(params=FilterEventsParams(filter=first_session_filter)))\n",
    "\n",
    "graph = PGraph(source_stream=stream)\n",
    "graph.add_node(node=node1, parents=[graph.root])\n",
    "graph.add_node(node=node2, parents=[node1])\n",
    "graph.add_node(node=node3, parents=[node2])\n",
    "graph.add_node(node=node4, parents=[node3])\n",
    "graph.add_node(node=node5, parents=[node4])\n",
    "\n",
    "graph.add_node(node=node6, parents=[node5])\n",
    "graph.add_node(node=node7, parents=[node6])\n",
    "\n",
    "graph.add_node(node=node8, parents=[node5])\n",
    "graph.add_node(node=node9, parents=[node8])\n"
   ]
  },
  {
   "cell_type": "code",
   "execution_count": 15,
   "id": "79898d07-8190-4679-ad3a-b6a54e36ebee",
   "metadata": {},
   "outputs": [
    {
     "data": {
      "text/html": [
       "\n",
       "        <iframe\n",
       "            width=\"1000\"\n",
       "            height=\"700\"\n",
       "            src=\"experiments/graph_2022-11-15 15_41_57_402853.html\"\n",
       "            frameborder=\"0\"\n",
       "            allowfullscreen\n",
       "            \n",
       "        ></iframe>\n",
       "        "
      ],
      "text/plain": [
       "<IPython.lib.display.IFrame at 0x7faca18dcb50>"
      ]
     },
     "metadata": {},
     "output_type": "display_data"
    },
    {
     "data": {
      "text/plain": [
       "'experiments/graph_2022-11-15 15_41_57_402853.html'"
      ]
     },
     "execution_count": 15,
     "metadata": {},
     "output_type": "execute_result"
    }
   ],
   "source": [
    "graph.combine(node=node7).to_dataframe().rete.plot_graph(\n",
    "    targets={TARGET_EVENT: 'green'}\n",
    ")"
   ]
  }
 ],
 "metadata": {
  "kernelspec": {
   "display_name": "Python 3 (ipykernel)",
   "language": "python",
   "name": "python3"
  },
  "language_info": {
   "codemirror_mode": {
    "name": "ipython",
    "version": 3
   },
   "file_extension": ".py",
   "mimetype": "text/x-python",
   "name": "python",
   "nbconvert_exporter": "python",
   "pygments_lexer": "ipython3",
   "version": "3.10.8"
  },
  "vscode": {
   "interpreter": {
    "hash": "b0fa6594d8f4cbf19f97940f81e996739fb7646882a419484c72d19e05852a7e"
   }
  }
 },
 "nbformat": 4,
 "nbformat_minor": 5
}
