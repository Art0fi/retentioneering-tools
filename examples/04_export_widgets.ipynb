{
 "cells": [
  {
   "cell_type": "code",
   "execution_count": 1,
   "metadata": {
    "collapsed": true,
    "pycharm": {
     "name": "#%%\n"
    }
   },
   "outputs": [],
   "source": [
    "from typing import Optional\n",
    "\n",
    "from src.data_processor.data_processor import DataProcessor\n",
    "from src.params_model.params_model import ParamsModel"
   ]
  },
  {
   "cell_type": "code",
   "execution_count": 2,
   "outputs": [],
   "source": [
    "from eventstream import Eventstream\n",
    "from typing import AnyStr\n",
    "\n",
    "from enum import Enum\n",
    "\n",
    "class Color(Enum):\n",
    "    RED = 'red'\n",
    "    GREEN = 'green'\n",
    "    BLUE = 'blue'\n",
    "\n",
    "class SimpleParams(ParamsModel):\n",
    "    a: str\n",
    "    b: int\n",
    "    c: Optional[str]\n",
    "    d: Color\n",
    "    e: Color = Color.RED\n",
    "\n",
    "\n",
    "class SimpleProcessor(DataProcessor):\n",
    "    params: SimpleParams\n",
    "\n",
    "    def __init__(self, params: SimpleParams) -> None:\n",
    "        super().__init__(params=params)\n",
    "\n",
    "    def apply(self, eventstream: Eventstream) -> Eventstream:\n",
    "        return eventstream\n"
   ],
   "metadata": {
    "collapsed": false,
    "pycharm": {
     "name": "#%%\n"
    }
   }
  },
  {
   "cell_type": "code",
   "execution_count": 3,
   "outputs": [
    {
     "data": {
      "text/plain": "{'name': 'SimpleProcessor',\n 'pk': '285db00c-7309-49f1-b05c-5d3e752c7301',\n 'schema': {'title': 'SimpleParams',\n  'type': 'object',\n  'properties': {'a': {'title': 'A', 'type': 'string'},\n   'b': {'title': 'B', 'type': 'integer'},\n   'c': {'title': 'C', 'type': 'string'},\n   'd': {'$ref': '#/definitions/Color'},\n   'e': {'default': 'red', 'allOf': [{'$ref': '#/definitions/Color'}]}},\n  'required': ['a', 'b', 'd'],\n  'definitions': {'Color': {'title': 'Color',\n    'description': 'An enumeration.',\n    'enum': ['red', 'green', 'blue']}}},\n 'widgets': {'a': {'name': 'a', 'optional': False, 'widget': 'string'},\n  'b': {'name': 'b', 'optional': False, 'widget': 'integer'},\n  'c': {'name': 'c', 'optional': True, 'widget': 'string'},\n  'd': {'name': 'Color',\n   'optional': False,\n   'default': None,\n   'params': ['red', 'green', 'blue'],\n   'widget': 'enum'},\n  'e': {'name': 'Color',\n   'optional': True,\n   'default': 'red',\n   'params': ['red', 'green', 'blue'],\n   'widget': 'enum'}}}"
     },
     "execution_count": 3,
     "metadata": {},
     "output_type": "execute_result"
    }
   ],
   "source": [
    "processor = SimpleProcessor(params=SimpleParams(a='asd', b=10, d=Color.RED))\n",
    "\n",
    "processor.export()"
   ],
   "metadata": {
    "collapsed": false,
    "pycharm": {
     "name": "#%%\n"
    }
   }
  }
 ],
 "metadata": {
  "kernelspec": {
   "display_name": "Python 3",
   "language": "python",
   "name": "python3"
  },
  "language_info": {
   "codemirror_mode": {
    "name": "ipython",
    "version": 2
   },
   "file_extension": ".py",
   "mimetype": "text/x-python",
   "name": "python",
   "nbconvert_exporter": "python",
   "pygments_lexer": "ipython2",
   "version": "2.7.6"
  }
 },
 "nbformat": 4,
 "nbformat_minor": 0
}
