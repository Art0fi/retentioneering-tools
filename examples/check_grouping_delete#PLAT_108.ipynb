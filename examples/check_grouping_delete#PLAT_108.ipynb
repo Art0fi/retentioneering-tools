{
 "cells": [
  {
   "cell_type": "code",
   "execution_count": 1,
   "metadata": {
    "collapsed": true,
    "pycharm": {
     "name": "#%%\n"
    }
   },
   "outputs": [],
   "source": [
    "import sys\n",
    "sys.path.insert(0, '..')"
   ]
  },
  {
   "cell_type": "markdown",
   "source": [
    "# Инициализируем граф"
   ],
   "metadata": {
    "collapsed": false,
    "pycharm": {
     "name": "#%% md\n"
    }
   }
  },
  {
   "cell_type": "code",
   "execution_count": 2,
   "outputs": [],
   "source": [
    "import pandas as pd\n",
    "\n",
    "from src.eventstream.eventstream import Eventstream\n",
    "from src.eventstream.schema import RawDataSchema, EventstreamSchema\n",
    "from src.graph.p_graph import PGraph, EventsNode\n",
    "\n",
    "raw_data = pd.read_csv('simple-onlineshop.csv')\n",
    "# для теста кастомной колонки\n",
    "cash_users = raw_data[raw_data['event'].str.contains('cash')]['user_id'].to_list()\n",
    "raw_data['user_type'] = raw_data['user_id'].apply(\n",
    "                lambda x: 'cash' if x in cash_users else 'not_cash')\n",
    "\n",
    "custom_cols = ['user_type']\n",
    "\n",
    "\n",
    "raw_data_schema = RawDataSchema(\n",
    "                            event_name=\"event\",\n",
    "                            event_timestamp=\"timestamp\",\n",
    "                            user_id=\"user_id\",\n",
    "                            custom_cols = [{\"custom_col\": 'user_type',\n",
    "                                           \"raw_data_col\": \"user_type\"}]\n",
    "                                )\n",
    "\n",
    "source = Eventstream(\n",
    "    raw_data=raw_data,\n",
    "    raw_data_schema=raw_data_schema,\n",
    "    schema=EventstreamSchema(custom_cols=custom_cols)\n",
    ")\n",
    "\n",
    "graph = PGraph(source_stream=source)"
   ],
   "metadata": {
    "collapsed": false,
    "pycharm": {
     "name": "#%%\n"
    }
   }
  },
  {
   "cell_type": "code",
   "execution_count": 3,
   "outputs": [
    {
     "data": {
      "text/plain": "         user_id     event                   timestamp user_type\n0      219483890   catalog  2019-11-01 17:59:13.273932  not_cash\n1      219483890  product1  2019-11-01 17:59:28.459271  not_cash\n2      219483890      cart  2019-11-01 17:59:29.502214  not_cash\n3      219483890   catalog  2019-11-01 17:59:32.557029  not_cash\n4      964964743   catalog  2019-11-01 21:38:19.283663  not_cash\n...          ...       ...                         ...       ...\n35376  501098384   catalog  2020-04-29 12:47:40.975732  not_cash\n35377  501098384   catalog  2020-04-29 12:48:01.809577  not_cash\n35378  501098384      main  2020-04-29 12:48:01.938488  not_cash\n35379  501098384   catalog  2020-04-29 12:48:06.595390  not_cash\n35380  501098384      lost  2020-04-29 12:48:07.595390  not_cash\n\n[35381 rows x 4 columns]",
      "text/html": "<div>\n<style scoped>\n    .dataframe tbody tr th:only-of-type {\n        vertical-align: middle;\n    }\n\n    .dataframe tbody tr th {\n        vertical-align: top;\n    }\n\n    .dataframe thead th {\n        text-align: right;\n    }\n</style>\n<table border=\"1\" class=\"dataframe\">\n  <thead>\n    <tr style=\"text-align: right;\">\n      <th></th>\n      <th>user_id</th>\n      <th>event</th>\n      <th>timestamp</th>\n      <th>user_type</th>\n    </tr>\n  </thead>\n  <tbody>\n    <tr>\n      <th>0</th>\n      <td>219483890</td>\n      <td>catalog</td>\n      <td>2019-11-01 17:59:13.273932</td>\n      <td>not_cash</td>\n    </tr>\n    <tr>\n      <th>1</th>\n      <td>219483890</td>\n      <td>product1</td>\n      <td>2019-11-01 17:59:28.459271</td>\n      <td>not_cash</td>\n    </tr>\n    <tr>\n      <th>2</th>\n      <td>219483890</td>\n      <td>cart</td>\n      <td>2019-11-01 17:59:29.502214</td>\n      <td>not_cash</td>\n    </tr>\n    <tr>\n      <th>3</th>\n      <td>219483890</td>\n      <td>catalog</td>\n      <td>2019-11-01 17:59:32.557029</td>\n      <td>not_cash</td>\n    </tr>\n    <tr>\n      <th>4</th>\n      <td>964964743</td>\n      <td>catalog</td>\n      <td>2019-11-01 21:38:19.283663</td>\n      <td>not_cash</td>\n    </tr>\n    <tr>\n      <th>...</th>\n      <td>...</td>\n      <td>...</td>\n      <td>...</td>\n      <td>...</td>\n    </tr>\n    <tr>\n      <th>35376</th>\n      <td>501098384</td>\n      <td>catalog</td>\n      <td>2020-04-29 12:47:40.975732</td>\n      <td>not_cash</td>\n    </tr>\n    <tr>\n      <th>35377</th>\n      <td>501098384</td>\n      <td>catalog</td>\n      <td>2020-04-29 12:48:01.809577</td>\n      <td>not_cash</td>\n    </tr>\n    <tr>\n      <th>35378</th>\n      <td>501098384</td>\n      <td>main</td>\n      <td>2020-04-29 12:48:01.938488</td>\n      <td>not_cash</td>\n    </tr>\n    <tr>\n      <th>35379</th>\n      <td>501098384</td>\n      <td>catalog</td>\n      <td>2020-04-29 12:48:06.595390</td>\n      <td>not_cash</td>\n    </tr>\n    <tr>\n      <th>35380</th>\n      <td>501098384</td>\n      <td>lost</td>\n      <td>2020-04-29 12:48:07.595390</td>\n      <td>not_cash</td>\n    </tr>\n  </tbody>\n</table>\n<p>35381 rows × 4 columns</p>\n</div>"
     },
     "execution_count": 3,
     "metadata": {},
     "output_type": "execute_result"
    }
   ],
   "source": [
    "raw_data"
   ],
   "metadata": {
    "collapsed": false,
    "pycharm": {
     "name": "#%%\n"
    }
   }
  },
  {
   "cell_type": "code",
   "execution_count": 4,
   "outputs": [],
   "source": [
    "source_df = source.to_dataframe()"
   ],
   "metadata": {
    "collapsed": false,
    "pycharm": {
     "name": "#%%\n"
    }
   }
  },
  {
   "cell_type": "code",
   "execution_count": 5,
   "outputs": [
    {
     "data": {
      "text/plain": "                               event_id event_type  event_index event_name  \\\n0  0a29f2d8-fc00-4702-9f49-654bed8f4cca        raw            0    catalog   \n1  738cb153-2447-496f-8a45-6275a785ca27        raw            1   product1   \n2  2896bed2-d0c8-461d-9640-4a72c95c7fd7        raw            2       cart   \n\n             event_timestamp    user_id user_type  \n0 2019-11-01 17:59:13.273932  219483890  not_cash  \n1 2019-11-01 17:59:28.459271  219483890  not_cash  \n2 2019-11-01 17:59:29.502214  219483890  not_cash  ",
      "text/html": "<div>\n<style scoped>\n    .dataframe tbody tr th:only-of-type {\n        vertical-align: middle;\n    }\n\n    .dataframe tbody tr th {\n        vertical-align: top;\n    }\n\n    .dataframe thead th {\n        text-align: right;\n    }\n</style>\n<table border=\"1\" class=\"dataframe\">\n  <thead>\n    <tr style=\"text-align: right;\">\n      <th></th>\n      <th>event_id</th>\n      <th>event_type</th>\n      <th>event_index</th>\n      <th>event_name</th>\n      <th>event_timestamp</th>\n      <th>user_id</th>\n      <th>user_type</th>\n    </tr>\n  </thead>\n  <tbody>\n    <tr>\n      <th>0</th>\n      <td>0a29f2d8-fc00-4702-9f49-654bed8f4cca</td>\n      <td>raw</td>\n      <td>0</td>\n      <td>catalog</td>\n      <td>2019-11-01 17:59:13.273932</td>\n      <td>219483890</td>\n      <td>not_cash</td>\n    </tr>\n    <tr>\n      <th>1</th>\n      <td>738cb153-2447-496f-8a45-6275a785ca27</td>\n      <td>raw</td>\n      <td>1</td>\n      <td>product1</td>\n      <td>2019-11-01 17:59:28.459271</td>\n      <td>219483890</td>\n      <td>not_cash</td>\n    </tr>\n    <tr>\n      <th>2</th>\n      <td>2896bed2-d0c8-461d-9640-4a72c95c7fd7</td>\n      <td>raw</td>\n      <td>2</td>\n      <td>cart</td>\n      <td>2019-11-01 17:59:29.502214</td>\n      <td>219483890</td>\n      <td>not_cash</td>\n    </tr>\n  </tbody>\n</table>\n</div>"
     },
     "execution_count": 5,
     "metadata": {},
     "output_type": "execute_result"
    }
   ],
   "source": [
    "source_df.head(3)"
   ],
   "metadata": {
    "collapsed": false,
    "pycharm": {
     "name": "#%%\n"
    }
   }
  },
  {
   "cell_type": "code",
   "execution_count": 6,
   "outputs": [
    {
     "data": {
      "text/plain": "catalog             14518\nmain                 5635\nlost                 3098\ncart                 2842\nproduct2             2172\ndelivery_choice      1686\nproduct1             1515\npayment_choice       1107\ndelivery_courier      834\npayment_done          706\npayment_card          565\ndelivery_pickup       506\npayment_cash          197\nName: event_name, dtype: int64"
     },
     "execution_count": 6,
     "metadata": {},
     "output_type": "execute_result"
    }
   ],
   "source": [
    "source_df['event_name'].value_counts()"
   ],
   "metadata": {
    "collapsed": false,
    "pycharm": {
     "name": "#%%\n"
    }
   }
  },
  {
   "cell_type": "code",
   "execution_count": 7,
   "outputs": [
    {
     "data": {
      "text/plain": "                                   event_id event_type  event_index  \\\n18665  29590ebf-c60a-4fab-ab5e-cfb4f4ffdca7        raw        18665   \n18666  ebd75f99-0a92-4ce3-a772-3f59d6a9bf5e        raw        18666   \n18667  6cb7c292-b0ab-4e56-88cc-b6d0bc91a57c        raw        18667   \n18668  c0c94665-03de-4f39-8531-7092f75ebf95        raw        18668   \n18669  33f18cfe-d278-40b1-acce-666bf91483a5        raw        18669   \n18670  3017ac29-e873-428f-b62e-88b5b4c35613        raw        18670   \n18671  99b23181-546e-4418-bb7b-167b62a1e6ae        raw        18671   \n18672  f65cd5cb-faf3-48c7-bd28-a96a3e40ba91        raw        18672   \n18673  72f19b62-789a-4e06-8ce9-6bd8f8884e98        raw        18673   \n18674  e3ce3247-7688-44a1-a08e-29b1083650fa        raw        18674   \n18675  9a3ee766-d39b-4362-8b31-0dcef6708d20        raw        18675   \n18678  7a070266-610b-47f0-a82b-3bf4a979ca7c        raw        18678   \n18680  d5b1f0f2-5b2d-45cf-a355-b538ac7dca36        raw        18680   \n18681  3903c3e4-5f7b-4e3d-bc14-0d0945bb46a8        raw        18681   \n18682  2a16d825-29c9-4245-9dbd-e6080219ef12        raw        18682   \n18683  394ec6a4-de71-46e5-9beb-b99d2b0d1918        raw        18683   \n18684  798eb974-a766-4f0f-90a9-614ef9b36609        raw        18684   \n18685  86448bf9-252b-4c93-81cf-2fedd1f1af4e        raw        18685   \n18686  21b59f6f-3629-4a46-84c2-1b4e6871bcee        raw        18686   \n18687  63d9481a-fbf8-4691-9e9a-c5cffede7f13        raw        18687   \n18688  2c640b07-4524-4326-86e2-44507dbd6c13        raw        18688   \n18689  6cb89061-9113-4b4b-8aa1-229efe7080d7        raw        18689   \n18690  bec2227e-8c71-42e6-afa4-ae9182ff2212        raw        18690   \n18691  2b70f84b-4d3d-4cec-bc11-0452f08cc5a7        raw        18691   \n18692  d54619f0-c0fb-425e-a711-99781345ec7a        raw        18692   \n22649  74fb4187-da91-4cfd-bc72-57612bc3820f        raw        22649   \n22650  4ddae1fc-f01e-4bd7-8820-b6fc07cddfa4        raw        22650   \n22651  070c5d90-8bf8-479c-b316-10f2cef7e910        raw        22651   \n22652  0dfd8115-f702-4362-a428-aa888c3bfc21        raw        22652   \n22653  db5707a6-d80e-453a-bd4f-02f19e2085eb        raw        22653   \n22654  d8116e02-c14f-43d2-b70c-dc3bd5fa6e78        raw        22654   \n22655  987c795b-f9bb-4bc7-8a83-ff41c9af691c        raw        22655   \n22656  9ddcc6e5-81cc-48c3-ba7e-789fa6d40c3a        raw        22656   \n\n      event_name            event_timestamp  user_id user_type  \n18665       main 2020-04-07 03:27:32.806542   122915  not_cash  \n18666    catalog 2020-04-07 03:27:49.914239   122915  not_cash  \n18667       main 2020-04-07 03:27:57.320839   122915  not_cash  \n18668       main 2020-04-07 03:28:00.580589   122915  not_cash  \n18669    catalog 2020-04-07 03:28:01.815559   122915  not_cash  \n18670    catalog 2020-04-07 03:28:45.697560   122915  not_cash  \n18671   product2 2020-04-07 03:29:04.983348   122915  not_cash  \n18672    catalog 2020-04-07 03:29:44.892554   122915  not_cash  \n18673    catalog 2020-04-07 03:30:28.058167   122915  not_cash  \n18674    catalog 2020-04-07 03:30:58.013806   122915  not_cash  \n18675   product1 2020-04-07 03:31:00.362128   122915  not_cash  \n18678    catalog 2020-04-07 03:31:31.961962   122915  not_cash  \n18680       main 2020-04-07 03:31:47.521356   122915  not_cash  \n18681    catalog 2020-04-07 03:31:48.584153   122915  not_cash  \n18682       main 2020-04-07 03:32:07.520619   122915  not_cash  \n18683    catalog 2020-04-07 03:32:11.464439   122915  not_cash  \n18684   product1 2020-04-07 03:32:17.947379   122915  not_cash  \n18685    catalog 2020-04-07 03:32:30.365254   122915  not_cash  \n18686       main 2020-04-07 03:32:56.330660   122915  not_cash  \n18687    catalog 2020-04-07 03:32:57.470668   122915  not_cash  \n18688    catalog 2020-04-07 03:33:23.211429   122915  not_cash  \n18689   product1 2020-04-07 03:33:33.316584   122915  not_cash  \n18690    catalog 2020-04-07 03:33:52.115426   122915  not_cash  \n18691    catalog 2020-04-07 03:34:31.829710   122915  not_cash  \n18692    catalog 2020-04-07 03:34:36.437043   122915  not_cash  \n22649       main 2020-04-13 04:48:48.722240   122915  not_cash  \n22650    catalog 2020-04-13 04:48:53.163630   122915  not_cash  \n22651   product1 2020-04-13 04:48:57.461080   122915  not_cash  \n22652    catalog 2020-04-13 04:49:14.600710   122915  not_cash  \n22653   product2 2020-04-13 04:49:15.703455   122915  not_cash  \n22654    catalog 2020-04-13 04:49:30.640668   122915  not_cash  \n22655       cart 2020-04-13 04:50:11.896964   122915  not_cash  \n22656       lost 2020-04-13 04:50:12.896964   122915  not_cash  ",
      "text/html": "<div>\n<style scoped>\n    .dataframe tbody tr th:only-of-type {\n        vertical-align: middle;\n    }\n\n    .dataframe tbody tr th {\n        vertical-align: top;\n    }\n\n    .dataframe thead th {\n        text-align: right;\n    }\n</style>\n<table border=\"1\" class=\"dataframe\">\n  <thead>\n    <tr style=\"text-align: right;\">\n      <th></th>\n      <th>event_id</th>\n      <th>event_type</th>\n      <th>event_index</th>\n      <th>event_name</th>\n      <th>event_timestamp</th>\n      <th>user_id</th>\n      <th>user_type</th>\n    </tr>\n  </thead>\n  <tbody>\n    <tr>\n      <th>18665</th>\n      <td>29590ebf-c60a-4fab-ab5e-cfb4f4ffdca7</td>\n      <td>raw</td>\n      <td>18665</td>\n      <td>main</td>\n      <td>2020-04-07 03:27:32.806542</td>\n      <td>122915</td>\n      <td>not_cash</td>\n    </tr>\n    <tr>\n      <th>18666</th>\n      <td>ebd75f99-0a92-4ce3-a772-3f59d6a9bf5e</td>\n      <td>raw</td>\n      <td>18666</td>\n      <td>catalog</td>\n      <td>2020-04-07 03:27:49.914239</td>\n      <td>122915</td>\n      <td>not_cash</td>\n    </tr>\n    <tr>\n      <th>18667</th>\n      <td>6cb7c292-b0ab-4e56-88cc-b6d0bc91a57c</td>\n      <td>raw</td>\n      <td>18667</td>\n      <td>main</td>\n      <td>2020-04-07 03:27:57.320839</td>\n      <td>122915</td>\n      <td>not_cash</td>\n    </tr>\n    <tr>\n      <th>18668</th>\n      <td>c0c94665-03de-4f39-8531-7092f75ebf95</td>\n      <td>raw</td>\n      <td>18668</td>\n      <td>main</td>\n      <td>2020-04-07 03:28:00.580589</td>\n      <td>122915</td>\n      <td>not_cash</td>\n    </tr>\n    <tr>\n      <th>18669</th>\n      <td>33f18cfe-d278-40b1-acce-666bf91483a5</td>\n      <td>raw</td>\n      <td>18669</td>\n      <td>catalog</td>\n      <td>2020-04-07 03:28:01.815559</td>\n      <td>122915</td>\n      <td>not_cash</td>\n    </tr>\n    <tr>\n      <th>18670</th>\n      <td>3017ac29-e873-428f-b62e-88b5b4c35613</td>\n      <td>raw</td>\n      <td>18670</td>\n      <td>catalog</td>\n      <td>2020-04-07 03:28:45.697560</td>\n      <td>122915</td>\n      <td>not_cash</td>\n    </tr>\n    <tr>\n      <th>18671</th>\n      <td>99b23181-546e-4418-bb7b-167b62a1e6ae</td>\n      <td>raw</td>\n      <td>18671</td>\n      <td>product2</td>\n      <td>2020-04-07 03:29:04.983348</td>\n      <td>122915</td>\n      <td>not_cash</td>\n    </tr>\n    <tr>\n      <th>18672</th>\n      <td>f65cd5cb-faf3-48c7-bd28-a96a3e40ba91</td>\n      <td>raw</td>\n      <td>18672</td>\n      <td>catalog</td>\n      <td>2020-04-07 03:29:44.892554</td>\n      <td>122915</td>\n      <td>not_cash</td>\n    </tr>\n    <tr>\n      <th>18673</th>\n      <td>72f19b62-789a-4e06-8ce9-6bd8f8884e98</td>\n      <td>raw</td>\n      <td>18673</td>\n      <td>catalog</td>\n      <td>2020-04-07 03:30:28.058167</td>\n      <td>122915</td>\n      <td>not_cash</td>\n    </tr>\n    <tr>\n      <th>18674</th>\n      <td>e3ce3247-7688-44a1-a08e-29b1083650fa</td>\n      <td>raw</td>\n      <td>18674</td>\n      <td>catalog</td>\n      <td>2020-04-07 03:30:58.013806</td>\n      <td>122915</td>\n      <td>not_cash</td>\n    </tr>\n    <tr>\n      <th>18675</th>\n      <td>9a3ee766-d39b-4362-8b31-0dcef6708d20</td>\n      <td>raw</td>\n      <td>18675</td>\n      <td>product1</td>\n      <td>2020-04-07 03:31:00.362128</td>\n      <td>122915</td>\n      <td>not_cash</td>\n    </tr>\n    <tr>\n      <th>18678</th>\n      <td>7a070266-610b-47f0-a82b-3bf4a979ca7c</td>\n      <td>raw</td>\n      <td>18678</td>\n      <td>catalog</td>\n      <td>2020-04-07 03:31:31.961962</td>\n      <td>122915</td>\n      <td>not_cash</td>\n    </tr>\n    <tr>\n      <th>18680</th>\n      <td>d5b1f0f2-5b2d-45cf-a355-b538ac7dca36</td>\n      <td>raw</td>\n      <td>18680</td>\n      <td>main</td>\n      <td>2020-04-07 03:31:47.521356</td>\n      <td>122915</td>\n      <td>not_cash</td>\n    </tr>\n    <tr>\n      <th>18681</th>\n      <td>3903c3e4-5f7b-4e3d-bc14-0d0945bb46a8</td>\n      <td>raw</td>\n      <td>18681</td>\n      <td>catalog</td>\n      <td>2020-04-07 03:31:48.584153</td>\n      <td>122915</td>\n      <td>not_cash</td>\n    </tr>\n    <tr>\n      <th>18682</th>\n      <td>2a16d825-29c9-4245-9dbd-e6080219ef12</td>\n      <td>raw</td>\n      <td>18682</td>\n      <td>main</td>\n      <td>2020-04-07 03:32:07.520619</td>\n      <td>122915</td>\n      <td>not_cash</td>\n    </tr>\n    <tr>\n      <th>18683</th>\n      <td>394ec6a4-de71-46e5-9beb-b99d2b0d1918</td>\n      <td>raw</td>\n      <td>18683</td>\n      <td>catalog</td>\n      <td>2020-04-07 03:32:11.464439</td>\n      <td>122915</td>\n      <td>not_cash</td>\n    </tr>\n    <tr>\n      <th>18684</th>\n      <td>798eb974-a766-4f0f-90a9-614ef9b36609</td>\n      <td>raw</td>\n      <td>18684</td>\n      <td>product1</td>\n      <td>2020-04-07 03:32:17.947379</td>\n      <td>122915</td>\n      <td>not_cash</td>\n    </tr>\n    <tr>\n      <th>18685</th>\n      <td>86448bf9-252b-4c93-81cf-2fedd1f1af4e</td>\n      <td>raw</td>\n      <td>18685</td>\n      <td>catalog</td>\n      <td>2020-04-07 03:32:30.365254</td>\n      <td>122915</td>\n      <td>not_cash</td>\n    </tr>\n    <tr>\n      <th>18686</th>\n      <td>21b59f6f-3629-4a46-84c2-1b4e6871bcee</td>\n      <td>raw</td>\n      <td>18686</td>\n      <td>main</td>\n      <td>2020-04-07 03:32:56.330660</td>\n      <td>122915</td>\n      <td>not_cash</td>\n    </tr>\n    <tr>\n      <th>18687</th>\n      <td>63d9481a-fbf8-4691-9e9a-c5cffede7f13</td>\n      <td>raw</td>\n      <td>18687</td>\n      <td>catalog</td>\n      <td>2020-04-07 03:32:57.470668</td>\n      <td>122915</td>\n      <td>not_cash</td>\n    </tr>\n    <tr>\n      <th>18688</th>\n      <td>2c640b07-4524-4326-86e2-44507dbd6c13</td>\n      <td>raw</td>\n      <td>18688</td>\n      <td>catalog</td>\n      <td>2020-04-07 03:33:23.211429</td>\n      <td>122915</td>\n      <td>not_cash</td>\n    </tr>\n    <tr>\n      <th>18689</th>\n      <td>6cb89061-9113-4b4b-8aa1-229efe7080d7</td>\n      <td>raw</td>\n      <td>18689</td>\n      <td>product1</td>\n      <td>2020-04-07 03:33:33.316584</td>\n      <td>122915</td>\n      <td>not_cash</td>\n    </tr>\n    <tr>\n      <th>18690</th>\n      <td>bec2227e-8c71-42e6-afa4-ae9182ff2212</td>\n      <td>raw</td>\n      <td>18690</td>\n      <td>catalog</td>\n      <td>2020-04-07 03:33:52.115426</td>\n      <td>122915</td>\n      <td>not_cash</td>\n    </tr>\n    <tr>\n      <th>18691</th>\n      <td>2b70f84b-4d3d-4cec-bc11-0452f08cc5a7</td>\n      <td>raw</td>\n      <td>18691</td>\n      <td>catalog</td>\n      <td>2020-04-07 03:34:31.829710</td>\n      <td>122915</td>\n      <td>not_cash</td>\n    </tr>\n    <tr>\n      <th>18692</th>\n      <td>d54619f0-c0fb-425e-a711-99781345ec7a</td>\n      <td>raw</td>\n      <td>18692</td>\n      <td>catalog</td>\n      <td>2020-04-07 03:34:36.437043</td>\n      <td>122915</td>\n      <td>not_cash</td>\n    </tr>\n    <tr>\n      <th>22649</th>\n      <td>74fb4187-da91-4cfd-bc72-57612bc3820f</td>\n      <td>raw</td>\n      <td>22649</td>\n      <td>main</td>\n      <td>2020-04-13 04:48:48.722240</td>\n      <td>122915</td>\n      <td>not_cash</td>\n    </tr>\n    <tr>\n      <th>22650</th>\n      <td>4ddae1fc-f01e-4bd7-8820-b6fc07cddfa4</td>\n      <td>raw</td>\n      <td>22650</td>\n      <td>catalog</td>\n      <td>2020-04-13 04:48:53.163630</td>\n      <td>122915</td>\n      <td>not_cash</td>\n    </tr>\n    <tr>\n      <th>22651</th>\n      <td>070c5d90-8bf8-479c-b316-10f2cef7e910</td>\n      <td>raw</td>\n      <td>22651</td>\n      <td>product1</td>\n      <td>2020-04-13 04:48:57.461080</td>\n      <td>122915</td>\n      <td>not_cash</td>\n    </tr>\n    <tr>\n      <th>22652</th>\n      <td>0dfd8115-f702-4362-a428-aa888c3bfc21</td>\n      <td>raw</td>\n      <td>22652</td>\n      <td>catalog</td>\n      <td>2020-04-13 04:49:14.600710</td>\n      <td>122915</td>\n      <td>not_cash</td>\n    </tr>\n    <tr>\n      <th>22653</th>\n      <td>db5707a6-d80e-453a-bd4f-02f19e2085eb</td>\n      <td>raw</td>\n      <td>22653</td>\n      <td>product2</td>\n      <td>2020-04-13 04:49:15.703455</td>\n      <td>122915</td>\n      <td>not_cash</td>\n    </tr>\n    <tr>\n      <th>22654</th>\n      <td>d8116e02-c14f-43d2-b70c-dc3bd5fa6e78</td>\n      <td>raw</td>\n      <td>22654</td>\n      <td>catalog</td>\n      <td>2020-04-13 04:49:30.640668</td>\n      <td>122915</td>\n      <td>not_cash</td>\n    </tr>\n    <tr>\n      <th>22655</th>\n      <td>987c795b-f9bb-4bc7-8a83-ff41c9af691c</td>\n      <td>raw</td>\n      <td>22655</td>\n      <td>cart</td>\n      <td>2020-04-13 04:50:11.896964</td>\n      <td>122915</td>\n      <td>not_cash</td>\n    </tr>\n    <tr>\n      <th>22656</th>\n      <td>9ddcc6e5-81cc-48c3-ba7e-789fa6d40c3a</td>\n      <td>raw</td>\n      <td>22656</td>\n      <td>lost</td>\n      <td>2020-04-13 04:50:12.896964</td>\n      <td>122915</td>\n      <td>not_cash</td>\n    </tr>\n  </tbody>\n</table>\n</div>"
     },
     "execution_count": 7,
     "metadata": {},
     "output_type": "execute_result"
    }
   ],
   "source": [
    "source_df[source_df['user_id'] == 122915]"
   ],
   "metadata": {
    "collapsed": false,
    "pycharm": {
     "name": "#%%\n"
    }
   }
  },
  {
   "cell_type": "code",
   "execution_count": 8,
   "outputs": [
    {
     "data": {
      "text/plain": "0        False\n1         True\n2        False\n3        False\n4        False\n         ...  \n35376    False\n35377    False\n35378    False\n35379    False\n35380    False\nName: event_name, Length: 35381, dtype: bool"
     },
     "execution_count": 8,
     "metadata": {},
     "output_type": "execute_result"
    }
   ],
   "source": [
    "source_df['event_name'].isin(['product1', 'product2'])"
   ],
   "metadata": {
    "collapsed": false,
    "pycharm": {
     "name": "#%%\n"
    }
   }
  },
  {
   "cell_type": "markdown",
   "source": [
    "# Grouping"
   ],
   "metadata": {
    "collapsed": false,
    "pycharm": {
     "name": "#%% md\n"
    }
   }
  },
  {
   "cell_type": "markdown",
   "source": [
    "## Описание работы функции"
   ],
   "metadata": {
    "collapsed": false,
    "pycharm": {
     "name": "#%% md\n"
    }
   }
  },
  {
   "cell_type": "markdown",
   "source": [
    "Датапроцессор переименовывает события по заданному условию.\n",
    "Новых событий не добавляется, у переименованных событий изменяется ```event_name``` и ```event_type```\n",
    "\n",
    "\n",
    "Параметры:\n",
    "```event_name: str```\n",
    "Новое имя для событий, которые подойдут под условие из параметра ```filter```\n",
    "\n",
    "```filter: EventstreamFilter```\n",
    "EventstreamFilter = Callable[[DataFrame, EventstreamSchema], Any]\n",
    "Кастомная функция, в которую передается датафрейм, схема и на выходе она дает маску (условие) для текущего eventstream.\n",
    "Событие для которых условие = True -- > переименовывается\n",
    "\n",
    "```event_type: Optional[str] = \"group_alias\"```\n",
    "По дефолту новый тип события - group_alias, но можно задать свой\n",
    "Изменение типа события происходит также по условию из функции filter"
   ],
   "metadata": {
    "collapsed": false,
    "pycharm": {
     "name": "#%% md\n"
    }
   }
  },
  {
   "cell_type": "markdown",
   "source": [
    " ## Простое переименование 2-ух событий в одно"
   ],
   "metadata": {
    "collapsed": false,
    "pycharm": {
     "name": "#%% md\n"
    }
   }
  },
  {
   "cell_type": "code",
   "execution_count": 9,
   "outputs": [],
   "source": [
    "# Объединим в группу product события product1 и product2\n",
    "from src.data_processors_lib.simple_processors import SimpleGroup, SimpleGroupParams\n",
    "\n",
    "product_agg = EventsNode(\n",
    "    SimpleGroup(params=SimpleGroupParams(**{\n",
    "        'event_name': 'product1',\n",
    "        'filter': lambda df, schema: df[schema.event_name].isin(['product1', 'product2']),\n",
    "        'event_type' : 'lalala'\n",
    "    }))\n",
    ")\n",
    "\n",
    "graph.add_node(\n",
    "    node=product_agg,\n",
    "    parents=[graph.root]\n",
    ")\n",
    "\n",
    "result = graph.combine(\n",
    "    node=product_agg\n",
    ")"
   ],
   "metadata": {
    "collapsed": false,
    "pycharm": {
     "name": "#%%\n"
    }
   }
  },
  {
   "cell_type": "code",
   "execution_count": 10,
   "outputs": [],
   "source": [
    "product_agg_df = result.to_dataframe()"
   ],
   "metadata": {
    "collapsed": false,
    "pycharm": {
     "name": "#%%\n"
    }
   }
  },
  {
   "cell_type": "code",
   "execution_count": 11,
   "outputs": [
    {
     "data": {
      "text/plain": "                                   event_id event_type  event_index  \\\n20596  29590ebf-c60a-4fab-ab5e-cfb4f4ffdca7        raw        20596   \n20597  ebd75f99-0a92-4ce3-a772-3f59d6a9bf5e        raw        20597   \n20598  6cb7c292-b0ab-4e56-88cc-b6d0bc91a57c        raw        20598   \n20599  c0c94665-03de-4f39-8531-7092f75ebf95        raw        20599   \n20600  33f18cfe-d278-40b1-acce-666bf91483a5        raw        20600   \n20601  3017ac29-e873-428f-b62e-88b5b4c35613        raw        20601   \n20603  1d3038b5-353a-46a0-9d2e-e290ee91622a     lalala        20603   \n20604  f65cd5cb-faf3-48c7-bd28-a96a3e40ba91        raw        20604   \n20605  72f19b62-789a-4e06-8ce9-6bd8f8884e98        raw        20605   \n20606  e3ce3247-7688-44a1-a08e-29b1083650fa        raw        20606   \n20608  2fd98e6a-dadf-48c9-8d59-d378f3549b3f     lalala        20608   \n20611  7a070266-610b-47f0-a82b-3bf4a979ca7c        raw        20611   \n20613  d5b1f0f2-5b2d-45cf-a355-b538ac7dca36        raw        20613   \n20614  3903c3e4-5f7b-4e3d-bc14-0d0945bb46a8        raw        20614   \n20615  2a16d825-29c9-4245-9dbd-e6080219ef12        raw        20615   \n20616  394ec6a4-de71-46e5-9beb-b99d2b0d1918        raw        20616   \n20618  50cd1319-7bda-435e-8be3-6564670fb902     lalala        20618   \n20619  86448bf9-252b-4c93-81cf-2fedd1f1af4e        raw        20619   \n20620  21b59f6f-3629-4a46-84c2-1b4e6871bcee        raw        20620   \n20621  63d9481a-fbf8-4691-9e9a-c5cffede7f13        raw        20621   \n20622  2c640b07-4524-4326-86e2-44507dbd6c13        raw        20622   \n20624  485f9a17-a36d-4e78-9ec5-1844f131c68b     lalala        20624   \n20625  bec2227e-8c71-42e6-afa4-ae9182ff2212        raw        20625   \n20626  2b70f84b-4d3d-4cec-bc11-0452f08cc5a7        raw        20626   \n20627  d54619f0-c0fb-425e-a711-99781345ec7a        raw        20627   \n25011  74fb4187-da91-4cfd-bc72-57612bc3820f        raw        25011   \n25012  4ddae1fc-f01e-4bd7-8820-b6fc07cddfa4        raw        25012   \n25014  00911c1a-3ef4-4ca0-88d2-8d86797898ae     lalala        25014   \n25015  0dfd8115-f702-4362-a428-aa888c3bfc21        raw        25015   \n25017  b32dd350-4a85-4162-a8f4-24f9836a509c     lalala        25017   \n25018  d8116e02-c14f-43d2-b70c-dc3bd5fa6e78        raw        25018   \n25019  987c795b-f9bb-4bc7-8a83-ff41c9af691c        raw        25019   \n25020  9ddcc6e5-81cc-48c3-ba7e-789fa6d40c3a        raw        25020   \n\n      event_name            event_timestamp   user_id user_type  \n20596       main 2020-04-07 03:27:32.806542  122915.0  not_cash  \n20597    catalog 2020-04-07 03:27:49.914239  122915.0  not_cash  \n20598       main 2020-04-07 03:27:57.320839  122915.0  not_cash  \n20599       main 2020-04-07 03:28:00.580589  122915.0  not_cash  \n20600    catalog 2020-04-07 03:28:01.815559  122915.0  not_cash  \n20601    catalog 2020-04-07 03:28:45.697560  122915.0  not_cash  \n20603   product1 2020-04-07 03:29:04.983348  122915.0  not_cash  \n20604    catalog 2020-04-07 03:29:44.892554  122915.0  not_cash  \n20605    catalog 2020-04-07 03:30:28.058167  122915.0  not_cash  \n20606    catalog 2020-04-07 03:30:58.013806  122915.0  not_cash  \n20608   product1 2020-04-07 03:31:00.362128  122915.0  not_cash  \n20611    catalog 2020-04-07 03:31:31.961962  122915.0  not_cash  \n20613       main 2020-04-07 03:31:47.521356  122915.0  not_cash  \n20614    catalog 2020-04-07 03:31:48.584153  122915.0  not_cash  \n20615       main 2020-04-07 03:32:07.520619  122915.0  not_cash  \n20616    catalog 2020-04-07 03:32:11.464439  122915.0  not_cash  \n20618   product1 2020-04-07 03:32:17.947379  122915.0  not_cash  \n20619    catalog 2020-04-07 03:32:30.365254  122915.0  not_cash  \n20620       main 2020-04-07 03:32:56.330660  122915.0  not_cash  \n20621    catalog 2020-04-07 03:32:57.470668  122915.0  not_cash  \n20622    catalog 2020-04-07 03:33:23.211429  122915.0  not_cash  \n20624   product1 2020-04-07 03:33:33.316584  122915.0  not_cash  \n20625    catalog 2020-04-07 03:33:52.115426  122915.0  not_cash  \n20626    catalog 2020-04-07 03:34:31.829710  122915.0  not_cash  \n20627    catalog 2020-04-07 03:34:36.437043  122915.0  not_cash  \n25011       main 2020-04-13 04:48:48.722240  122915.0  not_cash  \n25012    catalog 2020-04-13 04:48:53.163630  122915.0  not_cash  \n25014   product1 2020-04-13 04:48:57.461080  122915.0  not_cash  \n25015    catalog 2020-04-13 04:49:14.600710  122915.0  not_cash  \n25017   product1 2020-04-13 04:49:15.703455  122915.0  not_cash  \n25018    catalog 2020-04-13 04:49:30.640668  122915.0  not_cash  \n25019       cart 2020-04-13 04:50:11.896964  122915.0  not_cash  \n25020       lost 2020-04-13 04:50:12.896964  122915.0  not_cash  ",
      "text/html": "<div>\n<style scoped>\n    .dataframe tbody tr th:only-of-type {\n        vertical-align: middle;\n    }\n\n    .dataframe tbody tr th {\n        vertical-align: top;\n    }\n\n    .dataframe thead th {\n        text-align: right;\n    }\n</style>\n<table border=\"1\" class=\"dataframe\">\n  <thead>\n    <tr style=\"text-align: right;\">\n      <th></th>\n      <th>event_id</th>\n      <th>event_type</th>\n      <th>event_index</th>\n      <th>event_name</th>\n      <th>event_timestamp</th>\n      <th>user_id</th>\n      <th>user_type</th>\n    </tr>\n  </thead>\n  <tbody>\n    <tr>\n      <th>20596</th>\n      <td>29590ebf-c60a-4fab-ab5e-cfb4f4ffdca7</td>\n      <td>raw</td>\n      <td>20596</td>\n      <td>main</td>\n      <td>2020-04-07 03:27:32.806542</td>\n      <td>122915.0</td>\n      <td>not_cash</td>\n    </tr>\n    <tr>\n      <th>20597</th>\n      <td>ebd75f99-0a92-4ce3-a772-3f59d6a9bf5e</td>\n      <td>raw</td>\n      <td>20597</td>\n      <td>catalog</td>\n      <td>2020-04-07 03:27:49.914239</td>\n      <td>122915.0</td>\n      <td>not_cash</td>\n    </tr>\n    <tr>\n      <th>20598</th>\n      <td>6cb7c292-b0ab-4e56-88cc-b6d0bc91a57c</td>\n      <td>raw</td>\n      <td>20598</td>\n      <td>main</td>\n      <td>2020-04-07 03:27:57.320839</td>\n      <td>122915.0</td>\n      <td>not_cash</td>\n    </tr>\n    <tr>\n      <th>20599</th>\n      <td>c0c94665-03de-4f39-8531-7092f75ebf95</td>\n      <td>raw</td>\n      <td>20599</td>\n      <td>main</td>\n      <td>2020-04-07 03:28:00.580589</td>\n      <td>122915.0</td>\n      <td>not_cash</td>\n    </tr>\n    <tr>\n      <th>20600</th>\n      <td>33f18cfe-d278-40b1-acce-666bf91483a5</td>\n      <td>raw</td>\n      <td>20600</td>\n      <td>catalog</td>\n      <td>2020-04-07 03:28:01.815559</td>\n      <td>122915.0</td>\n      <td>not_cash</td>\n    </tr>\n    <tr>\n      <th>20601</th>\n      <td>3017ac29-e873-428f-b62e-88b5b4c35613</td>\n      <td>raw</td>\n      <td>20601</td>\n      <td>catalog</td>\n      <td>2020-04-07 03:28:45.697560</td>\n      <td>122915.0</td>\n      <td>not_cash</td>\n    </tr>\n    <tr>\n      <th>20603</th>\n      <td>1d3038b5-353a-46a0-9d2e-e290ee91622a</td>\n      <td>lalala</td>\n      <td>20603</td>\n      <td>product1</td>\n      <td>2020-04-07 03:29:04.983348</td>\n      <td>122915.0</td>\n      <td>not_cash</td>\n    </tr>\n    <tr>\n      <th>20604</th>\n      <td>f65cd5cb-faf3-48c7-bd28-a96a3e40ba91</td>\n      <td>raw</td>\n      <td>20604</td>\n      <td>catalog</td>\n      <td>2020-04-07 03:29:44.892554</td>\n      <td>122915.0</td>\n      <td>not_cash</td>\n    </tr>\n    <tr>\n      <th>20605</th>\n      <td>72f19b62-789a-4e06-8ce9-6bd8f8884e98</td>\n      <td>raw</td>\n      <td>20605</td>\n      <td>catalog</td>\n      <td>2020-04-07 03:30:28.058167</td>\n      <td>122915.0</td>\n      <td>not_cash</td>\n    </tr>\n    <tr>\n      <th>20606</th>\n      <td>e3ce3247-7688-44a1-a08e-29b1083650fa</td>\n      <td>raw</td>\n      <td>20606</td>\n      <td>catalog</td>\n      <td>2020-04-07 03:30:58.013806</td>\n      <td>122915.0</td>\n      <td>not_cash</td>\n    </tr>\n    <tr>\n      <th>20608</th>\n      <td>2fd98e6a-dadf-48c9-8d59-d378f3549b3f</td>\n      <td>lalala</td>\n      <td>20608</td>\n      <td>product1</td>\n      <td>2020-04-07 03:31:00.362128</td>\n      <td>122915.0</td>\n      <td>not_cash</td>\n    </tr>\n    <tr>\n      <th>20611</th>\n      <td>7a070266-610b-47f0-a82b-3bf4a979ca7c</td>\n      <td>raw</td>\n      <td>20611</td>\n      <td>catalog</td>\n      <td>2020-04-07 03:31:31.961962</td>\n      <td>122915.0</td>\n      <td>not_cash</td>\n    </tr>\n    <tr>\n      <th>20613</th>\n      <td>d5b1f0f2-5b2d-45cf-a355-b538ac7dca36</td>\n      <td>raw</td>\n      <td>20613</td>\n      <td>main</td>\n      <td>2020-04-07 03:31:47.521356</td>\n      <td>122915.0</td>\n      <td>not_cash</td>\n    </tr>\n    <tr>\n      <th>20614</th>\n      <td>3903c3e4-5f7b-4e3d-bc14-0d0945bb46a8</td>\n      <td>raw</td>\n      <td>20614</td>\n      <td>catalog</td>\n      <td>2020-04-07 03:31:48.584153</td>\n      <td>122915.0</td>\n      <td>not_cash</td>\n    </tr>\n    <tr>\n      <th>20615</th>\n      <td>2a16d825-29c9-4245-9dbd-e6080219ef12</td>\n      <td>raw</td>\n      <td>20615</td>\n      <td>main</td>\n      <td>2020-04-07 03:32:07.520619</td>\n      <td>122915.0</td>\n      <td>not_cash</td>\n    </tr>\n    <tr>\n      <th>20616</th>\n      <td>394ec6a4-de71-46e5-9beb-b99d2b0d1918</td>\n      <td>raw</td>\n      <td>20616</td>\n      <td>catalog</td>\n      <td>2020-04-07 03:32:11.464439</td>\n      <td>122915.0</td>\n      <td>not_cash</td>\n    </tr>\n    <tr>\n      <th>20618</th>\n      <td>50cd1319-7bda-435e-8be3-6564670fb902</td>\n      <td>lalala</td>\n      <td>20618</td>\n      <td>product1</td>\n      <td>2020-04-07 03:32:17.947379</td>\n      <td>122915.0</td>\n      <td>not_cash</td>\n    </tr>\n    <tr>\n      <th>20619</th>\n      <td>86448bf9-252b-4c93-81cf-2fedd1f1af4e</td>\n      <td>raw</td>\n      <td>20619</td>\n      <td>catalog</td>\n      <td>2020-04-07 03:32:30.365254</td>\n      <td>122915.0</td>\n      <td>not_cash</td>\n    </tr>\n    <tr>\n      <th>20620</th>\n      <td>21b59f6f-3629-4a46-84c2-1b4e6871bcee</td>\n      <td>raw</td>\n      <td>20620</td>\n      <td>main</td>\n      <td>2020-04-07 03:32:56.330660</td>\n      <td>122915.0</td>\n      <td>not_cash</td>\n    </tr>\n    <tr>\n      <th>20621</th>\n      <td>63d9481a-fbf8-4691-9e9a-c5cffede7f13</td>\n      <td>raw</td>\n      <td>20621</td>\n      <td>catalog</td>\n      <td>2020-04-07 03:32:57.470668</td>\n      <td>122915.0</td>\n      <td>not_cash</td>\n    </tr>\n    <tr>\n      <th>20622</th>\n      <td>2c640b07-4524-4326-86e2-44507dbd6c13</td>\n      <td>raw</td>\n      <td>20622</td>\n      <td>catalog</td>\n      <td>2020-04-07 03:33:23.211429</td>\n      <td>122915.0</td>\n      <td>not_cash</td>\n    </tr>\n    <tr>\n      <th>20624</th>\n      <td>485f9a17-a36d-4e78-9ec5-1844f131c68b</td>\n      <td>lalala</td>\n      <td>20624</td>\n      <td>product1</td>\n      <td>2020-04-07 03:33:33.316584</td>\n      <td>122915.0</td>\n      <td>not_cash</td>\n    </tr>\n    <tr>\n      <th>20625</th>\n      <td>bec2227e-8c71-42e6-afa4-ae9182ff2212</td>\n      <td>raw</td>\n      <td>20625</td>\n      <td>catalog</td>\n      <td>2020-04-07 03:33:52.115426</td>\n      <td>122915.0</td>\n      <td>not_cash</td>\n    </tr>\n    <tr>\n      <th>20626</th>\n      <td>2b70f84b-4d3d-4cec-bc11-0452f08cc5a7</td>\n      <td>raw</td>\n      <td>20626</td>\n      <td>catalog</td>\n      <td>2020-04-07 03:34:31.829710</td>\n      <td>122915.0</td>\n      <td>not_cash</td>\n    </tr>\n    <tr>\n      <th>20627</th>\n      <td>d54619f0-c0fb-425e-a711-99781345ec7a</td>\n      <td>raw</td>\n      <td>20627</td>\n      <td>catalog</td>\n      <td>2020-04-07 03:34:36.437043</td>\n      <td>122915.0</td>\n      <td>not_cash</td>\n    </tr>\n    <tr>\n      <th>25011</th>\n      <td>74fb4187-da91-4cfd-bc72-57612bc3820f</td>\n      <td>raw</td>\n      <td>25011</td>\n      <td>main</td>\n      <td>2020-04-13 04:48:48.722240</td>\n      <td>122915.0</td>\n      <td>not_cash</td>\n    </tr>\n    <tr>\n      <th>25012</th>\n      <td>4ddae1fc-f01e-4bd7-8820-b6fc07cddfa4</td>\n      <td>raw</td>\n      <td>25012</td>\n      <td>catalog</td>\n      <td>2020-04-13 04:48:53.163630</td>\n      <td>122915.0</td>\n      <td>not_cash</td>\n    </tr>\n    <tr>\n      <th>25014</th>\n      <td>00911c1a-3ef4-4ca0-88d2-8d86797898ae</td>\n      <td>lalala</td>\n      <td>25014</td>\n      <td>product1</td>\n      <td>2020-04-13 04:48:57.461080</td>\n      <td>122915.0</td>\n      <td>not_cash</td>\n    </tr>\n    <tr>\n      <th>25015</th>\n      <td>0dfd8115-f702-4362-a428-aa888c3bfc21</td>\n      <td>raw</td>\n      <td>25015</td>\n      <td>catalog</td>\n      <td>2020-04-13 04:49:14.600710</td>\n      <td>122915.0</td>\n      <td>not_cash</td>\n    </tr>\n    <tr>\n      <th>25017</th>\n      <td>b32dd350-4a85-4162-a8f4-24f9836a509c</td>\n      <td>lalala</td>\n      <td>25017</td>\n      <td>product1</td>\n      <td>2020-04-13 04:49:15.703455</td>\n      <td>122915.0</td>\n      <td>not_cash</td>\n    </tr>\n    <tr>\n      <th>25018</th>\n      <td>d8116e02-c14f-43d2-b70c-dc3bd5fa6e78</td>\n      <td>raw</td>\n      <td>25018</td>\n      <td>catalog</td>\n      <td>2020-04-13 04:49:30.640668</td>\n      <td>122915.0</td>\n      <td>not_cash</td>\n    </tr>\n    <tr>\n      <th>25019</th>\n      <td>987c795b-f9bb-4bc7-8a83-ff41c9af691c</td>\n      <td>raw</td>\n      <td>25019</td>\n      <td>cart</td>\n      <td>2020-04-13 04:50:11.896964</td>\n      <td>122915.0</td>\n      <td>not_cash</td>\n    </tr>\n    <tr>\n      <th>25020</th>\n      <td>9ddcc6e5-81cc-48c3-ba7e-789fa6d40c3a</td>\n      <td>raw</td>\n      <td>25020</td>\n      <td>lost</td>\n      <td>2020-04-13 04:50:12.896964</td>\n      <td>122915.0</td>\n      <td>not_cash</td>\n    </tr>\n  </tbody>\n</table>\n</div>"
     },
     "execution_count": 11,
     "metadata": {},
     "output_type": "execute_result"
    }
   ],
   "source": [
    "product_agg_df[product_agg_df['user_id'] == 122915]"
   ],
   "metadata": {
    "collapsed": false,
    "pycharm": {
     "name": "#%%\n"
    }
   }
  },
  {
   "cell_type": "code",
   "execution_count": 12,
   "outputs": [
    {
     "data": {
      "text/plain": "                                   event_id event_type  event_index  \\\n18665  29590ebf-c60a-4fab-ab5e-cfb4f4ffdca7        raw        18665   \n18666  ebd75f99-0a92-4ce3-a772-3f59d6a9bf5e        raw        18666   \n18667  6cb7c292-b0ab-4e56-88cc-b6d0bc91a57c        raw        18667   \n18668  c0c94665-03de-4f39-8531-7092f75ebf95        raw        18668   \n18669  33f18cfe-d278-40b1-acce-666bf91483a5        raw        18669   \n18670  3017ac29-e873-428f-b62e-88b5b4c35613        raw        18670   \n18671  99b23181-546e-4418-bb7b-167b62a1e6ae        raw        18671   \n18672  f65cd5cb-faf3-48c7-bd28-a96a3e40ba91        raw        18672   \n18673  72f19b62-789a-4e06-8ce9-6bd8f8884e98        raw        18673   \n18674  e3ce3247-7688-44a1-a08e-29b1083650fa        raw        18674   \n18675  9a3ee766-d39b-4362-8b31-0dcef6708d20        raw        18675   \n18678  7a070266-610b-47f0-a82b-3bf4a979ca7c        raw        18678   \n18680  d5b1f0f2-5b2d-45cf-a355-b538ac7dca36        raw        18680   \n18681  3903c3e4-5f7b-4e3d-bc14-0d0945bb46a8        raw        18681   \n18682  2a16d825-29c9-4245-9dbd-e6080219ef12        raw        18682   \n18683  394ec6a4-de71-46e5-9beb-b99d2b0d1918        raw        18683   \n18684  798eb974-a766-4f0f-90a9-614ef9b36609        raw        18684   \n18685  86448bf9-252b-4c93-81cf-2fedd1f1af4e        raw        18685   \n18686  21b59f6f-3629-4a46-84c2-1b4e6871bcee        raw        18686   \n18687  63d9481a-fbf8-4691-9e9a-c5cffede7f13        raw        18687   \n18688  2c640b07-4524-4326-86e2-44507dbd6c13        raw        18688   \n18689  6cb89061-9113-4b4b-8aa1-229efe7080d7        raw        18689   \n18690  bec2227e-8c71-42e6-afa4-ae9182ff2212        raw        18690   \n18691  2b70f84b-4d3d-4cec-bc11-0452f08cc5a7        raw        18691   \n18692  d54619f0-c0fb-425e-a711-99781345ec7a        raw        18692   \n22649  74fb4187-da91-4cfd-bc72-57612bc3820f        raw        22649   \n22650  4ddae1fc-f01e-4bd7-8820-b6fc07cddfa4        raw        22650   \n22651  070c5d90-8bf8-479c-b316-10f2cef7e910        raw        22651   \n22652  0dfd8115-f702-4362-a428-aa888c3bfc21        raw        22652   \n22653  db5707a6-d80e-453a-bd4f-02f19e2085eb        raw        22653   \n22654  d8116e02-c14f-43d2-b70c-dc3bd5fa6e78        raw        22654   \n22655  987c795b-f9bb-4bc7-8a83-ff41c9af691c        raw        22655   \n22656  9ddcc6e5-81cc-48c3-ba7e-789fa6d40c3a        raw        22656   \n\n      event_name            event_timestamp  user_id user_type  \n18665       main 2020-04-07 03:27:32.806542   122915  not_cash  \n18666    catalog 2020-04-07 03:27:49.914239   122915  not_cash  \n18667       main 2020-04-07 03:27:57.320839   122915  not_cash  \n18668       main 2020-04-07 03:28:00.580589   122915  not_cash  \n18669    catalog 2020-04-07 03:28:01.815559   122915  not_cash  \n18670    catalog 2020-04-07 03:28:45.697560   122915  not_cash  \n18671   product2 2020-04-07 03:29:04.983348   122915  not_cash  \n18672    catalog 2020-04-07 03:29:44.892554   122915  not_cash  \n18673    catalog 2020-04-07 03:30:28.058167   122915  not_cash  \n18674    catalog 2020-04-07 03:30:58.013806   122915  not_cash  \n18675   product1 2020-04-07 03:31:00.362128   122915  not_cash  \n18678    catalog 2020-04-07 03:31:31.961962   122915  not_cash  \n18680       main 2020-04-07 03:31:47.521356   122915  not_cash  \n18681    catalog 2020-04-07 03:31:48.584153   122915  not_cash  \n18682       main 2020-04-07 03:32:07.520619   122915  not_cash  \n18683    catalog 2020-04-07 03:32:11.464439   122915  not_cash  \n18684   product1 2020-04-07 03:32:17.947379   122915  not_cash  \n18685    catalog 2020-04-07 03:32:30.365254   122915  not_cash  \n18686       main 2020-04-07 03:32:56.330660   122915  not_cash  \n18687    catalog 2020-04-07 03:32:57.470668   122915  not_cash  \n18688    catalog 2020-04-07 03:33:23.211429   122915  not_cash  \n18689   product1 2020-04-07 03:33:33.316584   122915  not_cash  \n18690    catalog 2020-04-07 03:33:52.115426   122915  not_cash  \n18691    catalog 2020-04-07 03:34:31.829710   122915  not_cash  \n18692    catalog 2020-04-07 03:34:36.437043   122915  not_cash  \n22649       main 2020-04-13 04:48:48.722240   122915  not_cash  \n22650    catalog 2020-04-13 04:48:53.163630   122915  not_cash  \n22651   product1 2020-04-13 04:48:57.461080   122915  not_cash  \n22652    catalog 2020-04-13 04:49:14.600710   122915  not_cash  \n22653   product2 2020-04-13 04:49:15.703455   122915  not_cash  \n22654    catalog 2020-04-13 04:49:30.640668   122915  not_cash  \n22655       cart 2020-04-13 04:50:11.896964   122915  not_cash  \n22656       lost 2020-04-13 04:50:12.896964   122915  not_cash  ",
      "text/html": "<div>\n<style scoped>\n    .dataframe tbody tr th:only-of-type {\n        vertical-align: middle;\n    }\n\n    .dataframe tbody tr th {\n        vertical-align: top;\n    }\n\n    .dataframe thead th {\n        text-align: right;\n    }\n</style>\n<table border=\"1\" class=\"dataframe\">\n  <thead>\n    <tr style=\"text-align: right;\">\n      <th></th>\n      <th>event_id</th>\n      <th>event_type</th>\n      <th>event_index</th>\n      <th>event_name</th>\n      <th>event_timestamp</th>\n      <th>user_id</th>\n      <th>user_type</th>\n    </tr>\n  </thead>\n  <tbody>\n    <tr>\n      <th>18665</th>\n      <td>29590ebf-c60a-4fab-ab5e-cfb4f4ffdca7</td>\n      <td>raw</td>\n      <td>18665</td>\n      <td>main</td>\n      <td>2020-04-07 03:27:32.806542</td>\n      <td>122915</td>\n      <td>not_cash</td>\n    </tr>\n    <tr>\n      <th>18666</th>\n      <td>ebd75f99-0a92-4ce3-a772-3f59d6a9bf5e</td>\n      <td>raw</td>\n      <td>18666</td>\n      <td>catalog</td>\n      <td>2020-04-07 03:27:49.914239</td>\n      <td>122915</td>\n      <td>not_cash</td>\n    </tr>\n    <tr>\n      <th>18667</th>\n      <td>6cb7c292-b0ab-4e56-88cc-b6d0bc91a57c</td>\n      <td>raw</td>\n      <td>18667</td>\n      <td>main</td>\n      <td>2020-04-07 03:27:57.320839</td>\n      <td>122915</td>\n      <td>not_cash</td>\n    </tr>\n    <tr>\n      <th>18668</th>\n      <td>c0c94665-03de-4f39-8531-7092f75ebf95</td>\n      <td>raw</td>\n      <td>18668</td>\n      <td>main</td>\n      <td>2020-04-07 03:28:00.580589</td>\n      <td>122915</td>\n      <td>not_cash</td>\n    </tr>\n    <tr>\n      <th>18669</th>\n      <td>33f18cfe-d278-40b1-acce-666bf91483a5</td>\n      <td>raw</td>\n      <td>18669</td>\n      <td>catalog</td>\n      <td>2020-04-07 03:28:01.815559</td>\n      <td>122915</td>\n      <td>not_cash</td>\n    </tr>\n    <tr>\n      <th>18670</th>\n      <td>3017ac29-e873-428f-b62e-88b5b4c35613</td>\n      <td>raw</td>\n      <td>18670</td>\n      <td>catalog</td>\n      <td>2020-04-07 03:28:45.697560</td>\n      <td>122915</td>\n      <td>not_cash</td>\n    </tr>\n    <tr>\n      <th>18671</th>\n      <td>99b23181-546e-4418-bb7b-167b62a1e6ae</td>\n      <td>raw</td>\n      <td>18671</td>\n      <td>product2</td>\n      <td>2020-04-07 03:29:04.983348</td>\n      <td>122915</td>\n      <td>not_cash</td>\n    </tr>\n    <tr>\n      <th>18672</th>\n      <td>f65cd5cb-faf3-48c7-bd28-a96a3e40ba91</td>\n      <td>raw</td>\n      <td>18672</td>\n      <td>catalog</td>\n      <td>2020-04-07 03:29:44.892554</td>\n      <td>122915</td>\n      <td>not_cash</td>\n    </tr>\n    <tr>\n      <th>18673</th>\n      <td>72f19b62-789a-4e06-8ce9-6bd8f8884e98</td>\n      <td>raw</td>\n      <td>18673</td>\n      <td>catalog</td>\n      <td>2020-04-07 03:30:28.058167</td>\n      <td>122915</td>\n      <td>not_cash</td>\n    </tr>\n    <tr>\n      <th>18674</th>\n      <td>e3ce3247-7688-44a1-a08e-29b1083650fa</td>\n      <td>raw</td>\n      <td>18674</td>\n      <td>catalog</td>\n      <td>2020-04-07 03:30:58.013806</td>\n      <td>122915</td>\n      <td>not_cash</td>\n    </tr>\n    <tr>\n      <th>18675</th>\n      <td>9a3ee766-d39b-4362-8b31-0dcef6708d20</td>\n      <td>raw</td>\n      <td>18675</td>\n      <td>product1</td>\n      <td>2020-04-07 03:31:00.362128</td>\n      <td>122915</td>\n      <td>not_cash</td>\n    </tr>\n    <tr>\n      <th>18678</th>\n      <td>7a070266-610b-47f0-a82b-3bf4a979ca7c</td>\n      <td>raw</td>\n      <td>18678</td>\n      <td>catalog</td>\n      <td>2020-04-07 03:31:31.961962</td>\n      <td>122915</td>\n      <td>not_cash</td>\n    </tr>\n    <tr>\n      <th>18680</th>\n      <td>d5b1f0f2-5b2d-45cf-a355-b538ac7dca36</td>\n      <td>raw</td>\n      <td>18680</td>\n      <td>main</td>\n      <td>2020-04-07 03:31:47.521356</td>\n      <td>122915</td>\n      <td>not_cash</td>\n    </tr>\n    <tr>\n      <th>18681</th>\n      <td>3903c3e4-5f7b-4e3d-bc14-0d0945bb46a8</td>\n      <td>raw</td>\n      <td>18681</td>\n      <td>catalog</td>\n      <td>2020-04-07 03:31:48.584153</td>\n      <td>122915</td>\n      <td>not_cash</td>\n    </tr>\n    <tr>\n      <th>18682</th>\n      <td>2a16d825-29c9-4245-9dbd-e6080219ef12</td>\n      <td>raw</td>\n      <td>18682</td>\n      <td>main</td>\n      <td>2020-04-07 03:32:07.520619</td>\n      <td>122915</td>\n      <td>not_cash</td>\n    </tr>\n    <tr>\n      <th>18683</th>\n      <td>394ec6a4-de71-46e5-9beb-b99d2b0d1918</td>\n      <td>raw</td>\n      <td>18683</td>\n      <td>catalog</td>\n      <td>2020-04-07 03:32:11.464439</td>\n      <td>122915</td>\n      <td>not_cash</td>\n    </tr>\n    <tr>\n      <th>18684</th>\n      <td>798eb974-a766-4f0f-90a9-614ef9b36609</td>\n      <td>raw</td>\n      <td>18684</td>\n      <td>product1</td>\n      <td>2020-04-07 03:32:17.947379</td>\n      <td>122915</td>\n      <td>not_cash</td>\n    </tr>\n    <tr>\n      <th>18685</th>\n      <td>86448bf9-252b-4c93-81cf-2fedd1f1af4e</td>\n      <td>raw</td>\n      <td>18685</td>\n      <td>catalog</td>\n      <td>2020-04-07 03:32:30.365254</td>\n      <td>122915</td>\n      <td>not_cash</td>\n    </tr>\n    <tr>\n      <th>18686</th>\n      <td>21b59f6f-3629-4a46-84c2-1b4e6871bcee</td>\n      <td>raw</td>\n      <td>18686</td>\n      <td>main</td>\n      <td>2020-04-07 03:32:56.330660</td>\n      <td>122915</td>\n      <td>not_cash</td>\n    </tr>\n    <tr>\n      <th>18687</th>\n      <td>63d9481a-fbf8-4691-9e9a-c5cffede7f13</td>\n      <td>raw</td>\n      <td>18687</td>\n      <td>catalog</td>\n      <td>2020-04-07 03:32:57.470668</td>\n      <td>122915</td>\n      <td>not_cash</td>\n    </tr>\n    <tr>\n      <th>18688</th>\n      <td>2c640b07-4524-4326-86e2-44507dbd6c13</td>\n      <td>raw</td>\n      <td>18688</td>\n      <td>catalog</td>\n      <td>2020-04-07 03:33:23.211429</td>\n      <td>122915</td>\n      <td>not_cash</td>\n    </tr>\n    <tr>\n      <th>18689</th>\n      <td>6cb89061-9113-4b4b-8aa1-229efe7080d7</td>\n      <td>raw</td>\n      <td>18689</td>\n      <td>product1</td>\n      <td>2020-04-07 03:33:33.316584</td>\n      <td>122915</td>\n      <td>not_cash</td>\n    </tr>\n    <tr>\n      <th>18690</th>\n      <td>bec2227e-8c71-42e6-afa4-ae9182ff2212</td>\n      <td>raw</td>\n      <td>18690</td>\n      <td>catalog</td>\n      <td>2020-04-07 03:33:52.115426</td>\n      <td>122915</td>\n      <td>not_cash</td>\n    </tr>\n    <tr>\n      <th>18691</th>\n      <td>2b70f84b-4d3d-4cec-bc11-0452f08cc5a7</td>\n      <td>raw</td>\n      <td>18691</td>\n      <td>catalog</td>\n      <td>2020-04-07 03:34:31.829710</td>\n      <td>122915</td>\n      <td>not_cash</td>\n    </tr>\n    <tr>\n      <th>18692</th>\n      <td>d54619f0-c0fb-425e-a711-99781345ec7a</td>\n      <td>raw</td>\n      <td>18692</td>\n      <td>catalog</td>\n      <td>2020-04-07 03:34:36.437043</td>\n      <td>122915</td>\n      <td>not_cash</td>\n    </tr>\n    <tr>\n      <th>22649</th>\n      <td>74fb4187-da91-4cfd-bc72-57612bc3820f</td>\n      <td>raw</td>\n      <td>22649</td>\n      <td>main</td>\n      <td>2020-04-13 04:48:48.722240</td>\n      <td>122915</td>\n      <td>not_cash</td>\n    </tr>\n    <tr>\n      <th>22650</th>\n      <td>4ddae1fc-f01e-4bd7-8820-b6fc07cddfa4</td>\n      <td>raw</td>\n      <td>22650</td>\n      <td>catalog</td>\n      <td>2020-04-13 04:48:53.163630</td>\n      <td>122915</td>\n      <td>not_cash</td>\n    </tr>\n    <tr>\n      <th>22651</th>\n      <td>070c5d90-8bf8-479c-b316-10f2cef7e910</td>\n      <td>raw</td>\n      <td>22651</td>\n      <td>product1</td>\n      <td>2020-04-13 04:48:57.461080</td>\n      <td>122915</td>\n      <td>not_cash</td>\n    </tr>\n    <tr>\n      <th>22652</th>\n      <td>0dfd8115-f702-4362-a428-aa888c3bfc21</td>\n      <td>raw</td>\n      <td>22652</td>\n      <td>catalog</td>\n      <td>2020-04-13 04:49:14.600710</td>\n      <td>122915</td>\n      <td>not_cash</td>\n    </tr>\n    <tr>\n      <th>22653</th>\n      <td>db5707a6-d80e-453a-bd4f-02f19e2085eb</td>\n      <td>raw</td>\n      <td>22653</td>\n      <td>product2</td>\n      <td>2020-04-13 04:49:15.703455</td>\n      <td>122915</td>\n      <td>not_cash</td>\n    </tr>\n    <tr>\n      <th>22654</th>\n      <td>d8116e02-c14f-43d2-b70c-dc3bd5fa6e78</td>\n      <td>raw</td>\n      <td>22654</td>\n      <td>catalog</td>\n      <td>2020-04-13 04:49:30.640668</td>\n      <td>122915</td>\n      <td>not_cash</td>\n    </tr>\n    <tr>\n      <th>22655</th>\n      <td>987c795b-f9bb-4bc7-8a83-ff41c9af691c</td>\n      <td>raw</td>\n      <td>22655</td>\n      <td>cart</td>\n      <td>2020-04-13 04:50:11.896964</td>\n      <td>122915</td>\n      <td>not_cash</td>\n    </tr>\n    <tr>\n      <th>22656</th>\n      <td>9ddcc6e5-81cc-48c3-ba7e-789fa6d40c3a</td>\n      <td>raw</td>\n      <td>22656</td>\n      <td>lost</td>\n      <td>2020-04-13 04:50:12.896964</td>\n      <td>122915</td>\n      <td>not_cash</td>\n    </tr>\n  </tbody>\n</table>\n</div>"
     },
     "execution_count": 12,
     "metadata": {},
     "output_type": "execute_result"
    }
   ],
   "source": [
    "source_df[source_df['user_id'] == 122915]"
   ],
   "metadata": {
    "collapsed": false,
    "pycharm": {
     "name": "#%%\n"
    }
   }
  },
  {
   "cell_type": "code",
   "execution_count": 13,
   "outputs": [
    {
     "data": {
      "text/plain": "True"
     },
     "execution_count": 13,
     "metadata": {},
     "output_type": "execute_result"
    }
   ],
   "source": [
    "(len(product_agg_df[product_agg_df['user_id'] == 122915]) ==\n",
    "len(source_df[source_df['user_id'] == 122915]))"
   ],
   "metadata": {
    "collapsed": false,
    "pycharm": {
     "name": "#%%\n"
    }
   }
  },
  {
   "cell_type": "code",
   "execution_count": 14,
   "outputs": [
    {
     "data": {
      "text/plain": "catalog     18\nmain         7\nproduct1     6\ncart         1\nlost         1\nName: event_name, dtype: int64"
     },
     "execution_count": 14,
     "metadata": {},
     "output_type": "execute_result"
    }
   ],
   "source": [
    "product_agg_df[product_agg_df['user_id'] == 122915]['event_name'].value_counts()"
   ],
   "metadata": {
    "collapsed": false,
    "pycharm": {
     "name": "#%%\n"
    }
   }
  },
  {
   "cell_type": "code",
   "execution_count": 15,
   "outputs": [
    {
     "data": {
      "text/plain": "catalog     18\nmain         7\nproduct1     4\nproduct2     2\ncart         1\nlost         1\nName: event_name, dtype: int64"
     },
     "execution_count": 15,
     "metadata": {},
     "output_type": "execute_result"
    }
   ],
   "source": [
    "source_df[source_df['user_id'] == 122915]['event_name'].value_counts()"
   ],
   "metadata": {
    "collapsed": false,
    "pycharm": {
     "name": "#%%\n"
    }
   }
  },
  {
   "cell_type": "code",
   "execution_count": 16,
   "outputs": [
    {
     "data": {
      "text/plain": "False"
     },
     "execution_count": 16,
     "metadata": {},
     "output_type": "execute_result"
    }
   ],
   "source": [
    "(source_df[source_df['event_name'].isin(['product1', 'product2'])]['event_name'].count() == product_agg_df[product_agg_df['event_name'].isin(['product'])]['event_name'].count())"
   ],
   "metadata": {
    "collapsed": false,
    "pycharm": {
     "name": "#%%\n"
    }
   }
  },
  {
   "cell_type": "code",
   "execution_count": 16,
   "outputs": [],
   "source": [],
   "metadata": {
    "collapsed": false,
    "pycharm": {
     "name": "#%%\n"
    }
   }
  },
  {
   "cell_type": "markdown",
   "source": [
    "## По 2 условиям из 2 колонок"
   ],
   "metadata": {
    "collapsed": false,
    "pycharm": {
     "name": "#%% md\n"
    }
   }
  },
  {
   "cell_type": "code",
   "execution_count": 17,
   "outputs": [],
   "source": [
    "# Объединим в группу product события product1 и product2\n",
    "\n",
    "def filter_(df, schema):\n",
    "    return ((df[schema.user_id].isin([122915])) |\n",
    "            (df.event_name.str.contains('product')))\n",
    "\n",
    "\n",
    "product_agg = EventsNode(\n",
    "    SimpleGroup(params=SimpleGroupParams(**{\n",
    "        'event_name': 'product',\n",
    "        'filter': filter_\n",
    "    }))\n",
    ")\n",
    "\n",
    "graph.add_node(\n",
    "    node=product_agg,\n",
    "    parents=[graph.root]\n",
    ")\n",
    "\n",
    "result = graph.combine(\n",
    "    node=product_agg\n",
    ")"
   ],
   "metadata": {
    "collapsed": false,
    "pycharm": {
     "name": "#%%\n"
    }
   }
  },
  {
   "cell_type": "code",
   "execution_count": 18,
   "outputs": [
    {
     "data": {
      "text/plain": "0        False\n1         True\n2        False\n3        False\n4        False\n         ...  \n35376    False\n35377    False\n35378    False\n35379    False\n35380    False\nName: event_name, Length: 35381, dtype: bool"
     },
     "execution_count": 18,
     "metadata": {},
     "output_type": "execute_result"
    }
   ],
   "source": [
    "source_df['event_name'].str.contains('product')"
   ],
   "metadata": {
    "collapsed": false,
    "pycharm": {
     "name": "#%%\n"
    }
   }
  },
  {
   "cell_type": "code",
   "execution_count": 19,
   "outputs": [
    {
     "data": {
      "text/plain": "0        False\n1        False\n2        False\n3        False\n4        False\n         ...  \n35376    False\n35377    False\n35378    False\n35379    False\n35380    False\nName: user_type, Length: 35381, dtype: bool"
     },
     "execution_count": 19,
     "metadata": {},
     "output_type": "execute_result"
    }
   ],
   "source": [
    "source_df['user_type'] == 'cash'"
   ],
   "metadata": {
    "collapsed": false,
    "pycharm": {
     "name": "#%%\n"
    }
   }
  },
  {
   "cell_type": "code",
   "execution_count": 20,
   "outputs": [
    {
     "data": {
      "text/plain": "                                   event_id   event_type  event_index  \\\n20596  8b5f1c2d-8776-4fe1-9a9b-60f5f3d2a03e  group_alias        20596   \n20598  bd33513a-6bb8-4172-9e77-15d355a67338  group_alias        20598   \n20600  6368870f-e10f-4f84-b2ff-c15cdacfd9fd  group_alias        20600   \n20602  19292c06-2495-4578-ada5-26dfedbcb03c  group_alias        20602   \n20604  39b49656-030f-4092-84fe-91039c4f4646  group_alias        20604   \n20606  ba9e29e1-dc46-4b84-9d51-3633c600a290  group_alias        20606   \n20608  e1e8e107-4efe-40b3-8759-d04458e5301e  group_alias        20608   \n20610  af645065-3a6f-4aa9-98f8-3c0a6035a910  group_alias        20610   \n20612  3f26544b-4eb5-49c3-bb2c-aedcf6c68191  group_alias        20612   \n20614  4c7225ae-1537-4908-9bd5-3f7e8238697e  group_alias        20614   \n20616  dcb8b36d-d5bf-4a35-a037-03d02d26ccd2  group_alias        20616   \n20620  6f1aa05f-de87-4b49-8b28-167648fdd463  group_alias        20620   \n20623  7a428ff8-dd59-4c0e-abc7-2b258ed00535  group_alias        20623   \n20625  ba2f4014-82a3-46e7-98f1-70155000a5a3  group_alias        20625   \n20627  01505d48-5867-4aa8-b540-52e57a3287f6  group_alias        20627   \n20629  ee4687ae-4ee7-4358-ae41-22bc52ee5069  group_alias        20629   \n20631  0632c501-876c-4061-9253-8412b685892b  group_alias        20631   \n20633  43de1746-3d0f-4888-9f56-4b5792cc426b  group_alias        20633   \n20635  94ae14bc-9441-4b5f-9777-bd26c11efb09  group_alias        20635   \n20637  09787c1c-bba0-4706-9b4b-275958a95037  group_alias        20637   \n20639  586dd17a-9253-4c43-b721-8746c1daf1e6  group_alias        20639   \n20641  e9acf139-55e3-4d92-9be4-372892332988  group_alias        20641   \n20643  1a504c0e-35b8-4de1-a121-03a8ec483a4a  group_alias        20643   \n20645  e7e05dd5-4bb9-4922-9b0c-fc3dc0005862  group_alias        20645   \n20647  2aeee812-fd58-45b9-8473-2a2c98bcac0f  group_alias        20647   \n25032  0466874c-dd91-415f-9f80-ccf947d280fb  group_alias        25032   \n25034  d934e0bc-31f0-4655-96d0-b9ed2eab6c33  group_alias        25034   \n25036  7b5443d1-620a-492b-b5f6-6ddd16d24869  group_alias        25036   \n25038  d59dcd71-cc9e-485b-9872-379d8dc822ab  group_alias        25038   \n25040  aa1ce46c-1ada-45dd-bfce-dd53f5234d5f  group_alias        25040   \n25042  dfc5e13d-9241-400b-b8cb-dd16832c4220  group_alias        25042   \n25044  4eedcd78-fee0-42cb-afa0-14173b2d844e  group_alias        25044   \n25046  a07928e4-0bb5-477b-8f18-b51c7e50bdab  group_alias        25046   \n\n      event_name            event_timestamp   user_id user_type  \n20596    product 2020-04-07 03:27:32.806542  122915.0  not_cash  \n20598    product 2020-04-07 03:27:49.914239  122915.0  not_cash  \n20600    product 2020-04-07 03:27:57.320839  122915.0  not_cash  \n20602    product 2020-04-07 03:28:00.580589  122915.0  not_cash  \n20604    product 2020-04-07 03:28:01.815559  122915.0  not_cash  \n20606    product 2020-04-07 03:28:45.697560  122915.0  not_cash  \n20608    product 2020-04-07 03:29:04.983348  122915.0  not_cash  \n20610    product 2020-04-07 03:29:44.892554  122915.0  not_cash  \n20612    product 2020-04-07 03:30:28.058167  122915.0  not_cash  \n20614    product 2020-04-07 03:30:58.013806  122915.0  not_cash  \n20616    product 2020-04-07 03:31:00.362128  122915.0  not_cash  \n20620    product 2020-04-07 03:31:31.961962  122915.0  not_cash  \n20623    product 2020-04-07 03:31:47.521356  122915.0  not_cash  \n20625    product 2020-04-07 03:31:48.584153  122915.0  not_cash  \n20627    product 2020-04-07 03:32:07.520619  122915.0  not_cash  \n20629    product 2020-04-07 03:32:11.464439  122915.0  not_cash  \n20631    product 2020-04-07 03:32:17.947379  122915.0  not_cash  \n20633    product 2020-04-07 03:32:30.365254  122915.0  not_cash  \n20635    product 2020-04-07 03:32:56.330660  122915.0  not_cash  \n20637    product 2020-04-07 03:32:57.470668  122915.0  not_cash  \n20639    product 2020-04-07 03:33:23.211429  122915.0  not_cash  \n20641    product 2020-04-07 03:33:33.316584  122915.0  not_cash  \n20643    product 2020-04-07 03:33:52.115426  122915.0  not_cash  \n20645    product 2020-04-07 03:34:31.829710  122915.0  not_cash  \n20647    product 2020-04-07 03:34:36.437043  122915.0  not_cash  \n25032    product 2020-04-13 04:48:48.722240  122915.0  not_cash  \n25034    product 2020-04-13 04:48:53.163630  122915.0  not_cash  \n25036    product 2020-04-13 04:48:57.461080  122915.0  not_cash  \n25038    product 2020-04-13 04:49:14.600710  122915.0  not_cash  \n25040    product 2020-04-13 04:49:15.703455  122915.0  not_cash  \n25042    product 2020-04-13 04:49:30.640668  122915.0  not_cash  \n25044    product 2020-04-13 04:50:11.896964  122915.0  not_cash  \n25046    product 2020-04-13 04:50:12.896964  122915.0  not_cash  ",
      "text/html": "<div>\n<style scoped>\n    .dataframe tbody tr th:only-of-type {\n        vertical-align: middle;\n    }\n\n    .dataframe tbody tr th {\n        vertical-align: top;\n    }\n\n    .dataframe thead th {\n        text-align: right;\n    }\n</style>\n<table border=\"1\" class=\"dataframe\">\n  <thead>\n    <tr style=\"text-align: right;\">\n      <th></th>\n      <th>event_id</th>\n      <th>event_type</th>\n      <th>event_index</th>\n      <th>event_name</th>\n      <th>event_timestamp</th>\n      <th>user_id</th>\n      <th>user_type</th>\n    </tr>\n  </thead>\n  <tbody>\n    <tr>\n      <th>20596</th>\n      <td>8b5f1c2d-8776-4fe1-9a9b-60f5f3d2a03e</td>\n      <td>group_alias</td>\n      <td>20596</td>\n      <td>product</td>\n      <td>2020-04-07 03:27:32.806542</td>\n      <td>122915.0</td>\n      <td>not_cash</td>\n    </tr>\n    <tr>\n      <th>20598</th>\n      <td>bd33513a-6bb8-4172-9e77-15d355a67338</td>\n      <td>group_alias</td>\n      <td>20598</td>\n      <td>product</td>\n      <td>2020-04-07 03:27:49.914239</td>\n      <td>122915.0</td>\n      <td>not_cash</td>\n    </tr>\n    <tr>\n      <th>20600</th>\n      <td>6368870f-e10f-4f84-b2ff-c15cdacfd9fd</td>\n      <td>group_alias</td>\n      <td>20600</td>\n      <td>product</td>\n      <td>2020-04-07 03:27:57.320839</td>\n      <td>122915.0</td>\n      <td>not_cash</td>\n    </tr>\n    <tr>\n      <th>20602</th>\n      <td>19292c06-2495-4578-ada5-26dfedbcb03c</td>\n      <td>group_alias</td>\n      <td>20602</td>\n      <td>product</td>\n      <td>2020-04-07 03:28:00.580589</td>\n      <td>122915.0</td>\n      <td>not_cash</td>\n    </tr>\n    <tr>\n      <th>20604</th>\n      <td>39b49656-030f-4092-84fe-91039c4f4646</td>\n      <td>group_alias</td>\n      <td>20604</td>\n      <td>product</td>\n      <td>2020-04-07 03:28:01.815559</td>\n      <td>122915.0</td>\n      <td>not_cash</td>\n    </tr>\n    <tr>\n      <th>20606</th>\n      <td>ba9e29e1-dc46-4b84-9d51-3633c600a290</td>\n      <td>group_alias</td>\n      <td>20606</td>\n      <td>product</td>\n      <td>2020-04-07 03:28:45.697560</td>\n      <td>122915.0</td>\n      <td>not_cash</td>\n    </tr>\n    <tr>\n      <th>20608</th>\n      <td>e1e8e107-4efe-40b3-8759-d04458e5301e</td>\n      <td>group_alias</td>\n      <td>20608</td>\n      <td>product</td>\n      <td>2020-04-07 03:29:04.983348</td>\n      <td>122915.0</td>\n      <td>not_cash</td>\n    </tr>\n    <tr>\n      <th>20610</th>\n      <td>af645065-3a6f-4aa9-98f8-3c0a6035a910</td>\n      <td>group_alias</td>\n      <td>20610</td>\n      <td>product</td>\n      <td>2020-04-07 03:29:44.892554</td>\n      <td>122915.0</td>\n      <td>not_cash</td>\n    </tr>\n    <tr>\n      <th>20612</th>\n      <td>3f26544b-4eb5-49c3-bb2c-aedcf6c68191</td>\n      <td>group_alias</td>\n      <td>20612</td>\n      <td>product</td>\n      <td>2020-04-07 03:30:28.058167</td>\n      <td>122915.0</td>\n      <td>not_cash</td>\n    </tr>\n    <tr>\n      <th>20614</th>\n      <td>4c7225ae-1537-4908-9bd5-3f7e8238697e</td>\n      <td>group_alias</td>\n      <td>20614</td>\n      <td>product</td>\n      <td>2020-04-07 03:30:58.013806</td>\n      <td>122915.0</td>\n      <td>not_cash</td>\n    </tr>\n    <tr>\n      <th>20616</th>\n      <td>dcb8b36d-d5bf-4a35-a037-03d02d26ccd2</td>\n      <td>group_alias</td>\n      <td>20616</td>\n      <td>product</td>\n      <td>2020-04-07 03:31:00.362128</td>\n      <td>122915.0</td>\n      <td>not_cash</td>\n    </tr>\n    <tr>\n      <th>20620</th>\n      <td>6f1aa05f-de87-4b49-8b28-167648fdd463</td>\n      <td>group_alias</td>\n      <td>20620</td>\n      <td>product</td>\n      <td>2020-04-07 03:31:31.961962</td>\n      <td>122915.0</td>\n      <td>not_cash</td>\n    </tr>\n    <tr>\n      <th>20623</th>\n      <td>7a428ff8-dd59-4c0e-abc7-2b258ed00535</td>\n      <td>group_alias</td>\n      <td>20623</td>\n      <td>product</td>\n      <td>2020-04-07 03:31:47.521356</td>\n      <td>122915.0</td>\n      <td>not_cash</td>\n    </tr>\n    <tr>\n      <th>20625</th>\n      <td>ba2f4014-82a3-46e7-98f1-70155000a5a3</td>\n      <td>group_alias</td>\n      <td>20625</td>\n      <td>product</td>\n      <td>2020-04-07 03:31:48.584153</td>\n      <td>122915.0</td>\n      <td>not_cash</td>\n    </tr>\n    <tr>\n      <th>20627</th>\n      <td>01505d48-5867-4aa8-b540-52e57a3287f6</td>\n      <td>group_alias</td>\n      <td>20627</td>\n      <td>product</td>\n      <td>2020-04-07 03:32:07.520619</td>\n      <td>122915.0</td>\n      <td>not_cash</td>\n    </tr>\n    <tr>\n      <th>20629</th>\n      <td>ee4687ae-4ee7-4358-ae41-22bc52ee5069</td>\n      <td>group_alias</td>\n      <td>20629</td>\n      <td>product</td>\n      <td>2020-04-07 03:32:11.464439</td>\n      <td>122915.0</td>\n      <td>not_cash</td>\n    </tr>\n    <tr>\n      <th>20631</th>\n      <td>0632c501-876c-4061-9253-8412b685892b</td>\n      <td>group_alias</td>\n      <td>20631</td>\n      <td>product</td>\n      <td>2020-04-07 03:32:17.947379</td>\n      <td>122915.0</td>\n      <td>not_cash</td>\n    </tr>\n    <tr>\n      <th>20633</th>\n      <td>43de1746-3d0f-4888-9f56-4b5792cc426b</td>\n      <td>group_alias</td>\n      <td>20633</td>\n      <td>product</td>\n      <td>2020-04-07 03:32:30.365254</td>\n      <td>122915.0</td>\n      <td>not_cash</td>\n    </tr>\n    <tr>\n      <th>20635</th>\n      <td>94ae14bc-9441-4b5f-9777-bd26c11efb09</td>\n      <td>group_alias</td>\n      <td>20635</td>\n      <td>product</td>\n      <td>2020-04-07 03:32:56.330660</td>\n      <td>122915.0</td>\n      <td>not_cash</td>\n    </tr>\n    <tr>\n      <th>20637</th>\n      <td>09787c1c-bba0-4706-9b4b-275958a95037</td>\n      <td>group_alias</td>\n      <td>20637</td>\n      <td>product</td>\n      <td>2020-04-07 03:32:57.470668</td>\n      <td>122915.0</td>\n      <td>not_cash</td>\n    </tr>\n    <tr>\n      <th>20639</th>\n      <td>586dd17a-9253-4c43-b721-8746c1daf1e6</td>\n      <td>group_alias</td>\n      <td>20639</td>\n      <td>product</td>\n      <td>2020-04-07 03:33:23.211429</td>\n      <td>122915.0</td>\n      <td>not_cash</td>\n    </tr>\n    <tr>\n      <th>20641</th>\n      <td>e9acf139-55e3-4d92-9be4-372892332988</td>\n      <td>group_alias</td>\n      <td>20641</td>\n      <td>product</td>\n      <td>2020-04-07 03:33:33.316584</td>\n      <td>122915.0</td>\n      <td>not_cash</td>\n    </tr>\n    <tr>\n      <th>20643</th>\n      <td>1a504c0e-35b8-4de1-a121-03a8ec483a4a</td>\n      <td>group_alias</td>\n      <td>20643</td>\n      <td>product</td>\n      <td>2020-04-07 03:33:52.115426</td>\n      <td>122915.0</td>\n      <td>not_cash</td>\n    </tr>\n    <tr>\n      <th>20645</th>\n      <td>e7e05dd5-4bb9-4922-9b0c-fc3dc0005862</td>\n      <td>group_alias</td>\n      <td>20645</td>\n      <td>product</td>\n      <td>2020-04-07 03:34:31.829710</td>\n      <td>122915.0</td>\n      <td>not_cash</td>\n    </tr>\n    <tr>\n      <th>20647</th>\n      <td>2aeee812-fd58-45b9-8473-2a2c98bcac0f</td>\n      <td>group_alias</td>\n      <td>20647</td>\n      <td>product</td>\n      <td>2020-04-07 03:34:36.437043</td>\n      <td>122915.0</td>\n      <td>not_cash</td>\n    </tr>\n    <tr>\n      <th>25032</th>\n      <td>0466874c-dd91-415f-9f80-ccf947d280fb</td>\n      <td>group_alias</td>\n      <td>25032</td>\n      <td>product</td>\n      <td>2020-04-13 04:48:48.722240</td>\n      <td>122915.0</td>\n      <td>not_cash</td>\n    </tr>\n    <tr>\n      <th>25034</th>\n      <td>d934e0bc-31f0-4655-96d0-b9ed2eab6c33</td>\n      <td>group_alias</td>\n      <td>25034</td>\n      <td>product</td>\n      <td>2020-04-13 04:48:53.163630</td>\n      <td>122915.0</td>\n      <td>not_cash</td>\n    </tr>\n    <tr>\n      <th>25036</th>\n      <td>7b5443d1-620a-492b-b5f6-6ddd16d24869</td>\n      <td>group_alias</td>\n      <td>25036</td>\n      <td>product</td>\n      <td>2020-04-13 04:48:57.461080</td>\n      <td>122915.0</td>\n      <td>not_cash</td>\n    </tr>\n    <tr>\n      <th>25038</th>\n      <td>d59dcd71-cc9e-485b-9872-379d8dc822ab</td>\n      <td>group_alias</td>\n      <td>25038</td>\n      <td>product</td>\n      <td>2020-04-13 04:49:14.600710</td>\n      <td>122915.0</td>\n      <td>not_cash</td>\n    </tr>\n    <tr>\n      <th>25040</th>\n      <td>aa1ce46c-1ada-45dd-bfce-dd53f5234d5f</td>\n      <td>group_alias</td>\n      <td>25040</td>\n      <td>product</td>\n      <td>2020-04-13 04:49:15.703455</td>\n      <td>122915.0</td>\n      <td>not_cash</td>\n    </tr>\n    <tr>\n      <th>25042</th>\n      <td>dfc5e13d-9241-400b-b8cb-dd16832c4220</td>\n      <td>group_alias</td>\n      <td>25042</td>\n      <td>product</td>\n      <td>2020-04-13 04:49:30.640668</td>\n      <td>122915.0</td>\n      <td>not_cash</td>\n    </tr>\n    <tr>\n      <th>25044</th>\n      <td>4eedcd78-fee0-42cb-afa0-14173b2d844e</td>\n      <td>group_alias</td>\n      <td>25044</td>\n      <td>product</td>\n      <td>2020-04-13 04:50:11.896964</td>\n      <td>122915.0</td>\n      <td>not_cash</td>\n    </tr>\n    <tr>\n      <th>25046</th>\n      <td>a07928e4-0bb5-477b-8f18-b51c7e50bdab</td>\n      <td>group_alias</td>\n      <td>25046</td>\n      <td>product</td>\n      <td>2020-04-13 04:50:12.896964</td>\n      <td>122915.0</td>\n      <td>not_cash</td>\n    </tr>\n  </tbody>\n</table>\n</div>"
     },
     "execution_count": 20,
     "metadata": {},
     "output_type": "execute_result"
    }
   ],
   "source": [
    "result.to_dataframe()[result.to_dataframe()['user_id'] == 122915]"
   ],
   "metadata": {
    "collapsed": false,
    "pycharm": {
     "name": "#%%\n"
    }
   }
  },
  {
   "cell_type": "code",
   "execution_count": 21,
   "outputs": [
    {
     "data": {
      "text/plain": "catalog             14500\nmain                 5628\nproduct              3714\nlost                 3097\ncart                 2841\ndelivery_choice      1686\npayment_choice       1107\ndelivery_courier      834\npayment_done          706\npayment_card          565\ndelivery_pickup       506\npayment_cash          197\nName: event_name, dtype: int64"
     },
     "execution_count": 21,
     "metadata": {},
     "output_type": "execute_result"
    }
   ],
   "source": [
    "result.to_dataframe()['event_name'].value_counts()"
   ],
   "metadata": {
    "collapsed": false,
    "pycharm": {
     "name": "#%%\n"
    }
   }
  },
  {
   "cell_type": "markdown",
   "source": [
    "# Delete"
   ],
   "metadata": {
    "collapsed": false,
    "pycharm": {
     "name": "#%% md\n"
    }
   }
  },
  {
   "cell_type": "markdown",
   "source": [
    "## Описание работы функции"
   ],
   "metadata": {
    "collapsed": false,
    "pycharm": {
     "name": "#%% md\n"
    }
   }
  },
  {
   "cell_type": "markdown",
   "source": [
    "Датапроцессор фильрует события по заданному условию (проставляет метку delete=True)\n",
    "\n",
    "Параметры:\n",
    "```filter: EventstreamFilter```\n",
    "EventstreamFilter = Callable[[DataFrame, EventstreamSchema], Any]\n",
    "Кастомная функция, в которую передается датафрейм, схема и на выходе она дает маску (условие) для текущего eventstream.\n",
    "Событие для которых условие = True -- > отфильтровываются\n"
   ],
   "metadata": {
    "collapsed": false,
    "pycharm": {
     "name": "#%% md\n"
    }
   }
  },
  {
   "cell_type": "code",
   "execution_count": 22,
   "outputs": [],
   "source": [
    "from src.data_processors_lib.simple_processors import DeleteEvents, DeleteEventsParams\n",
    "\n",
    "def filter_1(df, schema):\n",
    "    return (df['event_name'] == 'lost')\n",
    "\n",
    "delete_lost = EventsNode(DeleteEvents(\n",
    "                    params=DeleteEventsParams(filter=filter_1)))\n",
    "\n",
    "graph.add_node(\n",
    "    node=delete_lost,\n",
    "    parents=[product_agg]\n",
    ")\n",
    "\n",
    "result = graph.combine(\n",
    "    node=delete_lost\n",
    ")"
   ],
   "metadata": {
    "collapsed": false,
    "pycharm": {
     "name": "#%%\n"
    }
   }
  },
  {
   "cell_type": "code",
   "execution_count": 23,
   "outputs": [
    {
     "data": {
      "text/plain": "catalog             14500\nmain                 5628\nproduct              3714\ncart                 2841\ndelivery_choice      1686\npayment_choice       1107\ndelivery_courier      834\npayment_done          706\npayment_card          565\ndelivery_pickup       506\npayment_cash          197\nName: event_name, dtype: int64"
     },
     "execution_count": 23,
     "metadata": {},
     "output_type": "execute_result"
    }
   ],
   "source": [
    "result.to_dataframe()['event_name'].value_counts()"
   ],
   "metadata": {
    "collapsed": false,
    "pycharm": {
     "name": "#%%\n"
    }
   }
  },
  {
   "cell_type": "markdown",
   "source": [
    "Удалились события lost"
   ],
   "metadata": {
    "collapsed": false,
    "pycharm": {
     "name": "#%% md\n"
    }
   }
  },
  {
   "cell_type": "code",
   "execution_count": 24,
   "outputs": [
    {
     "data": {
      "text/plain": "                                   event_id   event_type  event_index  \\\n0      0a29f2d8-fc00-4702-9f49-654bed8f4cca          raw            0   \n1      25345d44-b56a-43e3-ba88-5f15d79955ba  group_alias            1   \n3      2896bed2-d0c8-461d-9640-4a72c95c7fd7          raw            3   \n4      103ffb37-51ca-4948-84f2-88870199b83d          raw            4   \n5      8fa40a59-9c87-455c-82c4-e079206f88c8          raw            5   \n...                                     ...          ...          ...   \n42185  f4f75a6a-a878-4dd3-b759-8ac29e0d9573          raw        42185   \n42186  ebb8e0b2-3e31-47a4-8bd2-e1cfaef78128          raw        42186   \n42187  7b31064b-2de4-4480-85de-ae2cf4ccc2e4          raw        42187   \n42188  1b09d736-d4b3-4a45-9ace-53a8fa440b65          raw        42188   \n42189  4580c6c9-9494-40d2-be1b-173bfd021c55          raw        42189   \n\n      event_name            event_timestamp      user_id user_type  \n0        catalog 2019-11-01 17:59:13.273932  219483890.0  not_cash  \n1        product 2019-11-01 17:59:28.459271  219483890.0  not_cash  \n3           cart 2019-11-01 17:59:29.502214  219483890.0  not_cash  \n4        catalog 2019-11-01 17:59:32.557029  219483890.0  not_cash  \n5        catalog 2019-11-01 21:38:19.283663  964964743.0  not_cash  \n...          ...                        ...          ...       ...  \n42185       main 2020-04-29 12:47:39.956925  501098384.0  not_cash  \n42186    catalog 2020-04-29 12:47:40.975732  501098384.0  not_cash  \n42187    catalog 2020-04-29 12:48:01.809577  501098384.0  not_cash  \n42188       main 2020-04-29 12:48:01.938488  501098384.0  not_cash  \n42189    catalog 2020-04-29 12:48:06.595390  501098384.0  not_cash  \n\n[32284 rows x 7 columns]",
      "text/html": "<div>\n<style scoped>\n    .dataframe tbody tr th:only-of-type {\n        vertical-align: middle;\n    }\n\n    .dataframe tbody tr th {\n        vertical-align: top;\n    }\n\n    .dataframe thead th {\n        text-align: right;\n    }\n</style>\n<table border=\"1\" class=\"dataframe\">\n  <thead>\n    <tr style=\"text-align: right;\">\n      <th></th>\n      <th>event_id</th>\n      <th>event_type</th>\n      <th>event_index</th>\n      <th>event_name</th>\n      <th>event_timestamp</th>\n      <th>user_id</th>\n      <th>user_type</th>\n    </tr>\n  </thead>\n  <tbody>\n    <tr>\n      <th>0</th>\n      <td>0a29f2d8-fc00-4702-9f49-654bed8f4cca</td>\n      <td>raw</td>\n      <td>0</td>\n      <td>catalog</td>\n      <td>2019-11-01 17:59:13.273932</td>\n      <td>219483890.0</td>\n      <td>not_cash</td>\n    </tr>\n    <tr>\n      <th>1</th>\n      <td>25345d44-b56a-43e3-ba88-5f15d79955ba</td>\n      <td>group_alias</td>\n      <td>1</td>\n      <td>product</td>\n      <td>2019-11-01 17:59:28.459271</td>\n      <td>219483890.0</td>\n      <td>not_cash</td>\n    </tr>\n    <tr>\n      <th>3</th>\n      <td>2896bed2-d0c8-461d-9640-4a72c95c7fd7</td>\n      <td>raw</td>\n      <td>3</td>\n      <td>cart</td>\n      <td>2019-11-01 17:59:29.502214</td>\n      <td>219483890.0</td>\n      <td>not_cash</td>\n    </tr>\n    <tr>\n      <th>4</th>\n      <td>103ffb37-51ca-4948-84f2-88870199b83d</td>\n      <td>raw</td>\n      <td>4</td>\n      <td>catalog</td>\n      <td>2019-11-01 17:59:32.557029</td>\n      <td>219483890.0</td>\n      <td>not_cash</td>\n    </tr>\n    <tr>\n      <th>5</th>\n      <td>8fa40a59-9c87-455c-82c4-e079206f88c8</td>\n      <td>raw</td>\n      <td>5</td>\n      <td>catalog</td>\n      <td>2019-11-01 21:38:19.283663</td>\n      <td>964964743.0</td>\n      <td>not_cash</td>\n    </tr>\n    <tr>\n      <th>...</th>\n      <td>...</td>\n      <td>...</td>\n      <td>...</td>\n      <td>...</td>\n      <td>...</td>\n      <td>...</td>\n      <td>...</td>\n    </tr>\n    <tr>\n      <th>42185</th>\n      <td>f4f75a6a-a878-4dd3-b759-8ac29e0d9573</td>\n      <td>raw</td>\n      <td>42185</td>\n      <td>main</td>\n      <td>2020-04-29 12:47:39.956925</td>\n      <td>501098384.0</td>\n      <td>not_cash</td>\n    </tr>\n    <tr>\n      <th>42186</th>\n      <td>ebb8e0b2-3e31-47a4-8bd2-e1cfaef78128</td>\n      <td>raw</td>\n      <td>42186</td>\n      <td>catalog</td>\n      <td>2020-04-29 12:47:40.975732</td>\n      <td>501098384.0</td>\n      <td>not_cash</td>\n    </tr>\n    <tr>\n      <th>42187</th>\n      <td>7b31064b-2de4-4480-85de-ae2cf4ccc2e4</td>\n      <td>raw</td>\n      <td>42187</td>\n      <td>catalog</td>\n      <td>2020-04-29 12:48:01.809577</td>\n      <td>501098384.0</td>\n      <td>not_cash</td>\n    </tr>\n    <tr>\n      <th>42188</th>\n      <td>1b09d736-d4b3-4a45-9ace-53a8fa440b65</td>\n      <td>raw</td>\n      <td>42188</td>\n      <td>main</td>\n      <td>2020-04-29 12:48:01.938488</td>\n      <td>501098384.0</td>\n      <td>not_cash</td>\n    </tr>\n    <tr>\n      <th>42189</th>\n      <td>4580c6c9-9494-40d2-be1b-173bfd021c55</td>\n      <td>raw</td>\n      <td>42189</td>\n      <td>catalog</td>\n      <td>2020-04-29 12:48:06.595390</td>\n      <td>501098384.0</td>\n      <td>not_cash</td>\n    </tr>\n  </tbody>\n</table>\n<p>32284 rows × 7 columns</p>\n</div>"
     },
     "execution_count": 24,
     "metadata": {},
     "output_type": "execute_result"
    }
   ],
   "source": [
    "result.to_dataframe()"
   ],
   "metadata": {
    "collapsed": false,
    "pycharm": {
     "name": "#%%\n"
    }
   }
  },
  {
   "cell_type": "markdown",
   "source": [
    "# Последовательное применение нод"
   ],
   "metadata": {
    "collapsed": false,
    "pycharm": {
     "name": "#%% md\n"
    }
   }
  },
  {
   "cell_type": "code",
   "execution_count": 25,
   "outputs": [],
   "source": [
    "# Объединим в группу delivery события:\n",
    "# delivery_choice, delivery_courier, delivery_pickup\n",
    "\n",
    "def filter_delivery(df, schema):\n",
    "    return ((df['user_type'] == 'cash') |\n",
    "            (df['event_name'].str.contains('delivery')))\n",
    "\n",
    "\n",
    "delivery_agg = EventsNode(\n",
    "    SimpleGroup(params=SimpleGroupParams(**{\n",
    "        'event_name': 'delivery',\n",
    "        'filter': filter_delivery\n",
    "    })))\n",
    "\n",
    "graph.add_node(\n",
    "    node=delivery_agg,\n",
    "    parents=[delete_lost]\n",
    ")\n",
    "\n",
    "result = graph.combine(\n",
    "    node=delivery_agg\n",
    ")"
   ],
   "metadata": {
    "collapsed": false,
    "pycharm": {
     "name": "#%%\n"
    }
   }
  },
  {
   "cell_type": "code",
   "execution_count": 26,
   "outputs": [],
   "source": [
    "df_res = result.to_dataframe()"
   ],
   "metadata": {
    "collapsed": false,
    "pycharm": {
     "name": "#%%\n"
    }
   }
  },
  {
   "cell_type": "code",
   "execution_count": 27,
   "outputs": [
    {
     "data": {
      "text/plain": "catalog           12911\ndelivery           6757\nmain               4939\nproduct            3267\ncart               2452\npayment_choice      854\npayment_done        571\npayment_card        533\nName: event_name, dtype: int64"
     },
     "execution_count": 27,
     "metadata": {},
     "output_type": "execute_result"
    }
   ],
   "source": [
    "df_res['event_name'].value_counts()"
   ],
   "metadata": {
    "collapsed": false,
    "pycharm": {
     "name": "#%%\n"
    }
   }
  },
  {
   "cell_type": "code",
   "execution_count": 31,
   "outputs": [
    {
     "data": {
      "text/plain": "6834"
     },
     "execution_count": 31,
     "metadata": {},
     "output_type": "execute_result"
    }
   ],
   "source": [
    "len(source_df[(source_df['user_type'] == 'cash') |\n",
    "            (source_df['event_name'].str.contains('delivery'))])"
   ],
   "metadata": {
    "collapsed": false,
    "pycharm": {
     "name": "#%%\n"
    }
   }
  },
  {
   "cell_type": "code",
   "execution_count": 28,
   "outputs": [
    {
     "data": {
      "text/plain": "catalog             14518\nmain                 5635\nlost                 3098\ncart                 2842\nproduct2             2172\ndelivery_choice      1686\nproduct1             1515\npayment_choice       1107\ndelivery_courier      834\npayment_done          706\npayment_card          565\ndelivery_pickup       506\npayment_cash          197\nName: event_name, dtype: int64"
     },
     "execution_count": 28,
     "metadata": {},
     "output_type": "execute_result"
    }
   ],
   "source": [
    "source_df['event_name'].value_counts()"
   ],
   "metadata": {
    "collapsed": false,
    "pycharm": {
     "name": "#%%\n"
    }
   }
  },
  {
   "cell_type": "code",
   "execution_count": 36,
   "outputs": [
    {
     "data": {
      "text/plain": "(32284, 32284)"
     },
     "execution_count": 36,
     "metadata": {},
     "output_type": "execute_result"
    }
   ],
   "source": [
    "len(df_res), \\\n",
    "len(source_df[(source_df['event_name'] != 'lost')|((source_df['event_name'] == 'lost')\n",
    "    & (source_df['user_id'] == 122915)\n",
    "                                            )\n",
    "    ]\n",
    ")"
   ],
   "metadata": {
    "collapsed": false,
    "pycharm": {
     "name": "#%%\n"
    }
   }
  },
  {
   "cell_type": "code",
   "execution_count": null,
   "outputs": [],
   "source": [],
   "metadata": {
    "collapsed": false,
    "pycharm": {
     "name": "#%%\n"
    }
   }
  },
  {
   "cell_type": "markdown",
   "source": [
    "# Результаты тестирования"
   ],
   "metadata": {
    "collapsed": false,
    "pycharm": {
     "name": "#%% md\n"
    }
   }
  },
  {
   "cell_type": "markdown",
   "source": [
    "<b>Grouping\n",
    "\n",
    "1) Зачем мы передаем параметр \"schema\" в функцию фильтра?\n",
    "2) [TODO] Если мы можем задать кастомный тип события - то как оно отсортируется? - надо бы менять список сортировки здесь же?\n",
    "\n",
    "\n",
    "<b>Delete\n",
    "\n",
    "1) [TO_Discuss] Надо подумать про переименование в Filter или что-то в этом роде, тогда не нужно отдельного\n",
    "датапроцессора для фильтрации\n",
    "\n",
    "<b>Общее\n",
    "\n",
    "1) [TO_Discuss] Хорошо бы иметь метод, который выводит граф от текущей вершины (последовательность нод)"
   ],
   "metadata": {
    "collapsed": false,
    "pycharm": {
     "name": "#%% md\n"
    }
   }
  },
  {
   "cell_type": "markdown",
   "source": [
    "\n"
   ],
   "metadata": {
    "collapsed": false,
    "pycharm": {
     "name": "#%% md\n"
    }
   }
  },
  {
   "cell_type": "code",
   "execution_count": null,
   "outputs": [],
   "source": [],
   "metadata": {
    "collapsed": false,
    "pycharm": {
     "name": "#%%\n"
    }
   }
  },
  {
   "cell_type": "code",
   "execution_count": 55,
   "outputs": [],
   "source": [
    "source_df = pd.DataFrame([\n",
    "            [1, 'event1', '2022-01-01 00:00:00'],\n",
    "            [1, 'event2', '2022-01-01 00:00:01'],\n",
    "            [1, 'event3', '2022-01-01 00:00:02'],\n",
    "            [2, 'event4', '2022-01-02 00:00:00'],\n",
    "        ], columns=['user_id', 'event', 'timestamp']\n",
    "        )\n",
    "\n",
    "correct_result_columns = ['user_id', 'event_name', 'event_type', 'event_timestamp']\n",
    "correct_result = pd.DataFrame([\n",
    "            [1, 'event1', 'raw', '2022-01-01 00:00:00'],\n",
    "            [1, 'event3', 'raw', '2022-01-01 00:00:02'],\n",
    "        ], columns=correct_result_columns\n",
    "        )"
   ],
   "metadata": {
    "collapsed": false,
    "pycharm": {
     "name": "#%%\n"
    }
   }
  },
  {
   "cell_type": "code",
   "execution_count": 56,
   "outputs": [
    {
     "data": {
      "text/plain": "True"
     },
     "execution_count": 56,
     "metadata": {},
     "output_type": "execute_result"
    }
   ],
   "source": [
    "stream = Eventstream(\n",
    "            raw_data_schema=RawDataSchema(\n",
    "                event_name='event', event_timestamp='timestamp', user_id='user_id'\n",
    "            ),\n",
    "            raw_data=source_df,\n",
    "            schema=EventstreamSchema(),\n",
    "        )\n",
    "def filter_(df, schema):\n",
    "    return ((df[schema.user_id].isin([2])) |\n",
    "            (df.event_name.str.contains('event2')))\n",
    "graph = PGraph(source_stream=stream)\n",
    "\n",
    "delete_conditional = EventsNode(DeleteEvents(\n",
    "                    params=DeleteEventsParams(filter=filter_)))\n",
    "\n",
    "graph.add_node(node=delete_conditional, parents=[graph.root])\n",
    "res = graph.combine(node=delete_conditional).to_dataframe()[correct_result_columns].reset_index(drop=True)\n",
    "\n",
    "res.compare(correct_result).shape == (0, 0)"
   ],
   "metadata": {
    "collapsed": false,
    "pycharm": {
     "name": "#%%\n"
    }
   }
  }
 ],
 "metadata": {
  "kernelspec": {
   "display_name": "Python 3",
   "language": "python",
   "name": "python3"
  },
  "language_info": {
   "codemirror_mode": {
    "name": "ipython",
    "version": 2
   },
   "file_extension": ".py",
   "mimetype": "text/x-python",
   "name": "python",
   "nbconvert_exporter": "python",
   "pygments_lexer": "ipython2",
   "version": "2.7.6"
  }
 },
 "nbformat": 4,
 "nbformat_minor": 0
}