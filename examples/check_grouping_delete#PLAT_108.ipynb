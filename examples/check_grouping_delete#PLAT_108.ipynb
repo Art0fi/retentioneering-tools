{
 "cells": [
  {
   "cell_type": "code",
   "execution_count": 1,
   "metadata": {
    "collapsed": true,
    "pycharm": {
     "name": "#%%\n"
    }
   },
   "outputs": [],
   "source": [
    "import sys\n",
    "sys.path.insert(0, '..')"
   ]
  },
  {
   "cell_type": "markdown",
   "source": [
    "# Инициализируем граф"
   ],
   "metadata": {
    "collapsed": false,
    "pycharm": {
     "name": "#%% md\n"
    }
   }
  },
  {
   "cell_type": "code",
   "execution_count": 2,
   "outputs": [],
   "source": [
    "import pandas as pd\n",
    "\n",
    "from src.eventstream.eventstream import Eventstream\n",
    "from src.eventstream.schema import RawDataSchema, EventstreamSchema\n",
    "from src.graph.p_graph import PGraph, EventsNode\n",
    "\n",
    "raw_data = pd.read_csv('simple-onlineshop.csv')\n",
    "# для теста кастомной колонки\n",
    "cash_users = raw_data[raw_data['event'].str.contains('cash')]['user_id'].to_list()\n",
    "raw_data['user_type'] = raw_data['user_id'].apply(\n",
    "                lambda x: 'cash' if x in cash_users else 'not_cash')\n",
    "\n",
    "custom_cols = ['user_type']\n",
    "\n",
    "\n",
    "raw_data_schema = RawDataSchema(\n",
    "                            event_name=\"event\",\n",
    "                            event_timestamp=\"timestamp\",\n",
    "                            user_id=\"user_id\",\n",
    "                            custom_cols = [{\"custom_col\": 'user_type',\n",
    "                                           \"raw_data_col\": \"user_type\"}]\n",
    "                                )\n",
    "\n",
    "source = Eventstream(\n",
    "    raw_data=raw_data,\n",
    "    raw_data_schema=raw_data_schema,\n",
    "    schema=EventstreamSchema(custom_cols=custom_cols)\n",
    ")\n",
    "\n",
    "graph = PGraph(source_stream=source)"
   ],
   "metadata": {
    "collapsed": false,
    "pycharm": {
     "name": "#%%\n"
    }
   }
  },
  {
   "cell_type": "code",
   "execution_count": 3,
   "outputs": [
    {
     "data": {
      "text/plain": "         user_id     event                   timestamp user_type\n0      219483890   catalog  2019-11-01 17:59:13.273932  not_cash\n1      219483890  product1  2019-11-01 17:59:28.459271  not_cash\n2      219483890      cart  2019-11-01 17:59:29.502214  not_cash\n3      219483890   catalog  2019-11-01 17:59:32.557029  not_cash\n4      964964743   catalog  2019-11-01 21:38:19.283663  not_cash\n...          ...       ...                         ...       ...\n35376  501098384   catalog  2020-04-29 12:47:40.975732  not_cash\n35377  501098384   catalog  2020-04-29 12:48:01.809577  not_cash\n35378  501098384      main  2020-04-29 12:48:01.938488  not_cash\n35379  501098384   catalog  2020-04-29 12:48:06.595390  not_cash\n35380  501098384      lost  2020-04-29 12:48:07.595390  not_cash\n\n[35381 rows x 4 columns]",
      "text/html": "<div>\n<style scoped>\n    .dataframe tbody tr th:only-of-type {\n        vertical-align: middle;\n    }\n\n    .dataframe tbody tr th {\n        vertical-align: top;\n    }\n\n    .dataframe thead th {\n        text-align: right;\n    }\n</style>\n<table border=\"1\" class=\"dataframe\">\n  <thead>\n    <tr style=\"text-align: right;\">\n      <th></th>\n      <th>user_id</th>\n      <th>event</th>\n      <th>timestamp</th>\n      <th>user_type</th>\n    </tr>\n  </thead>\n  <tbody>\n    <tr>\n      <th>0</th>\n      <td>219483890</td>\n      <td>catalog</td>\n      <td>2019-11-01 17:59:13.273932</td>\n      <td>not_cash</td>\n    </tr>\n    <tr>\n      <th>1</th>\n      <td>219483890</td>\n      <td>product1</td>\n      <td>2019-11-01 17:59:28.459271</td>\n      <td>not_cash</td>\n    </tr>\n    <tr>\n      <th>2</th>\n      <td>219483890</td>\n      <td>cart</td>\n      <td>2019-11-01 17:59:29.502214</td>\n      <td>not_cash</td>\n    </tr>\n    <tr>\n      <th>3</th>\n      <td>219483890</td>\n      <td>catalog</td>\n      <td>2019-11-01 17:59:32.557029</td>\n      <td>not_cash</td>\n    </tr>\n    <tr>\n      <th>4</th>\n      <td>964964743</td>\n      <td>catalog</td>\n      <td>2019-11-01 21:38:19.283663</td>\n      <td>not_cash</td>\n    </tr>\n    <tr>\n      <th>...</th>\n      <td>...</td>\n      <td>...</td>\n      <td>...</td>\n      <td>...</td>\n    </tr>\n    <tr>\n      <th>35376</th>\n      <td>501098384</td>\n      <td>catalog</td>\n      <td>2020-04-29 12:47:40.975732</td>\n      <td>not_cash</td>\n    </tr>\n    <tr>\n      <th>35377</th>\n      <td>501098384</td>\n      <td>catalog</td>\n      <td>2020-04-29 12:48:01.809577</td>\n      <td>not_cash</td>\n    </tr>\n    <tr>\n      <th>35378</th>\n      <td>501098384</td>\n      <td>main</td>\n      <td>2020-04-29 12:48:01.938488</td>\n      <td>not_cash</td>\n    </tr>\n    <tr>\n      <th>35379</th>\n      <td>501098384</td>\n      <td>catalog</td>\n      <td>2020-04-29 12:48:06.595390</td>\n      <td>not_cash</td>\n    </tr>\n    <tr>\n      <th>35380</th>\n      <td>501098384</td>\n      <td>lost</td>\n      <td>2020-04-29 12:48:07.595390</td>\n      <td>not_cash</td>\n    </tr>\n  </tbody>\n</table>\n<p>35381 rows × 4 columns</p>\n</div>"
     },
     "execution_count": 3,
     "metadata": {},
     "output_type": "execute_result"
    }
   ],
   "source": [
    "raw_data"
   ],
   "metadata": {
    "collapsed": false,
    "pycharm": {
     "name": "#%%\n"
    }
   }
  },
  {
   "cell_type": "code",
   "execution_count": 4,
   "outputs": [],
   "source": [
    "source_df = source.to_dataframe()"
   ],
   "metadata": {
    "collapsed": false,
    "pycharm": {
     "name": "#%%\n"
    }
   }
  },
  {
   "cell_type": "code",
   "execution_count": 5,
   "outputs": [
    {
     "data": {
      "text/plain": "                               event_id event_type  event_index event_name  \\\n0  1e7ea0f9-c14d-47ba-a370-5e8a3083ce78        raw            0    catalog   \n1  b6e568ca-4ffe-400d-9c2e-5493395a9968        raw            1   product1   \n2  6ce87735-cd86-4c85-93e6-ed39cc47dbed        raw            2       cart   \n\n             event_timestamp    user_id user_type  \n0 2019-11-01 17:59:13.273932  219483890  not_cash  \n1 2019-11-01 17:59:28.459271  219483890  not_cash  \n2 2019-11-01 17:59:29.502214  219483890  not_cash  ",
      "text/html": "<div>\n<style scoped>\n    .dataframe tbody tr th:only-of-type {\n        vertical-align: middle;\n    }\n\n    .dataframe tbody tr th {\n        vertical-align: top;\n    }\n\n    .dataframe thead th {\n        text-align: right;\n    }\n</style>\n<table border=\"1\" class=\"dataframe\">\n  <thead>\n    <tr style=\"text-align: right;\">\n      <th></th>\n      <th>event_id</th>\n      <th>event_type</th>\n      <th>event_index</th>\n      <th>event_name</th>\n      <th>event_timestamp</th>\n      <th>user_id</th>\n      <th>user_type</th>\n    </tr>\n  </thead>\n  <tbody>\n    <tr>\n      <th>0</th>\n      <td>1e7ea0f9-c14d-47ba-a370-5e8a3083ce78</td>\n      <td>raw</td>\n      <td>0</td>\n      <td>catalog</td>\n      <td>2019-11-01 17:59:13.273932</td>\n      <td>219483890</td>\n      <td>not_cash</td>\n    </tr>\n    <tr>\n      <th>1</th>\n      <td>b6e568ca-4ffe-400d-9c2e-5493395a9968</td>\n      <td>raw</td>\n      <td>1</td>\n      <td>product1</td>\n      <td>2019-11-01 17:59:28.459271</td>\n      <td>219483890</td>\n      <td>not_cash</td>\n    </tr>\n    <tr>\n      <th>2</th>\n      <td>6ce87735-cd86-4c85-93e6-ed39cc47dbed</td>\n      <td>raw</td>\n      <td>2</td>\n      <td>cart</td>\n      <td>2019-11-01 17:59:29.502214</td>\n      <td>219483890</td>\n      <td>not_cash</td>\n    </tr>\n  </tbody>\n</table>\n</div>"
     },
     "execution_count": 5,
     "metadata": {},
     "output_type": "execute_result"
    }
   ],
   "source": [
    "source_df.head(3)"
   ],
   "metadata": {
    "collapsed": false,
    "pycharm": {
     "name": "#%%\n"
    }
   }
  },
  {
   "cell_type": "code",
   "execution_count": 6,
   "outputs": [
    {
     "data": {
      "text/plain": "catalog             14518\nmain                 5635\nlost                 3098\ncart                 2842\nproduct2             2172\ndelivery_choice      1686\nproduct1             1515\npayment_choice       1107\ndelivery_courier      834\npayment_done          706\npayment_card          565\ndelivery_pickup       506\npayment_cash          197\nName: event_name, dtype: int64"
     },
     "execution_count": 6,
     "metadata": {},
     "output_type": "execute_result"
    }
   ],
   "source": [
    "source_df['event_name'].value_counts()"
   ],
   "metadata": {
    "collapsed": false,
    "pycharm": {
     "name": "#%%\n"
    }
   }
  },
  {
   "cell_type": "code",
   "execution_count": 7,
   "outputs": [
    {
     "data": {
      "text/plain": "                                   event_id event_type  event_index  \\\n18665  77083c8f-a7d0-408c-8e02-b62f67d89b71        raw        18665   \n18666  e23b66d5-377e-4ec5-a48a-c9cc9e6634d3        raw        18666   \n18667  ae1959d1-ae1a-4852-a4d3-cdec80b4a57f        raw        18667   \n18668  ae1632ab-e235-4b2c-ab4b-9d18fb5bfac3        raw        18668   \n18669  ffe79f34-4ca1-4638-a896-69d166348c2c        raw        18669   \n18670  83f5d369-cf25-4e0c-b3d2-a2f1b9ec9d08        raw        18670   \n18671  651dd375-c026-4caa-9952-9700675825d6        raw        18671   \n18672  72ebbf1f-58ea-43fc-9609-07f17584d538        raw        18672   \n18673  dbf58ad4-397f-4b81-951c-5ee5b3706a1b        raw        18673   \n18674  7650d504-6c8e-44a4-8485-906d59744e54        raw        18674   \n18675  ebe362c1-7a9c-493d-96c8-7d60c3fd175c        raw        18675   \n18678  efb76f85-f4ed-4ed5-bdb8-d9bf42f42182        raw        18678   \n18680  700a0b7c-4dec-4054-8173-340d7ca381ad        raw        18680   \n18681  bfeff211-c72a-44b8-bfbd-609b25a5d267        raw        18681   \n18682  ba018570-8b9b-43ad-a13f-937c9f129b64        raw        18682   \n18683  d743fa73-0f92-4dd9-a328-5e08184efa16        raw        18683   \n18684  b933820c-0e28-48ed-bd57-007065edab14        raw        18684   \n18685  2cf70fcb-d5ad-4873-ba3f-b9f3031777bc        raw        18685   \n18686  e2428908-dbad-4b24-a7dd-9e8d26de830e        raw        18686   \n18687  5a9d457b-c27d-4bc1-842a-36e88c4a0a97        raw        18687   \n18688  cf249dba-852f-46f8-aa9b-aef96fb5c747        raw        18688   \n18689  b86437e5-3ea7-419c-b1f8-7b5b938d800a        raw        18689   \n18690  9ad4f899-270a-45d6-a738-42d9d4f4ff8b        raw        18690   \n18691  68655153-9770-45dd-a386-1f627dcf742c        raw        18691   \n18692  0fdf791f-c01e-4742-ad70-4caecd6ec621        raw        18692   \n22649  335738d8-9e46-42e8-847c-30ba6c9baaa4        raw        22649   \n22650  2fbfd28a-ff96-4363-b8e4-14096ab483b1        raw        22650   \n22651  6195e687-b6a3-46a4-a27f-31fff4b6ec1b        raw        22651   \n22652  9af21ca9-711e-4a5f-a931-610ea46e32cc        raw        22652   \n22653  3fff122c-e149-4860-ad9e-84b50deacdb1        raw        22653   \n22654  78b7634a-256b-45f2-9cb4-681c5b2d3504        raw        22654   \n22655  7b029b80-6bf7-4b61-ac20-580bf773d384        raw        22655   \n22656  f9ce311a-401b-4130-a901-87be08d913ea        raw        22656   \n\n      event_name            event_timestamp  user_id user_type  \n18665       main 2020-04-07 03:27:32.806542   122915  not_cash  \n18666    catalog 2020-04-07 03:27:49.914239   122915  not_cash  \n18667       main 2020-04-07 03:27:57.320839   122915  not_cash  \n18668       main 2020-04-07 03:28:00.580589   122915  not_cash  \n18669    catalog 2020-04-07 03:28:01.815559   122915  not_cash  \n18670    catalog 2020-04-07 03:28:45.697560   122915  not_cash  \n18671   product2 2020-04-07 03:29:04.983348   122915  not_cash  \n18672    catalog 2020-04-07 03:29:44.892554   122915  not_cash  \n18673    catalog 2020-04-07 03:30:28.058167   122915  not_cash  \n18674    catalog 2020-04-07 03:30:58.013806   122915  not_cash  \n18675   product1 2020-04-07 03:31:00.362128   122915  not_cash  \n18678    catalog 2020-04-07 03:31:31.961962   122915  not_cash  \n18680       main 2020-04-07 03:31:47.521356   122915  not_cash  \n18681    catalog 2020-04-07 03:31:48.584153   122915  not_cash  \n18682       main 2020-04-07 03:32:07.520619   122915  not_cash  \n18683    catalog 2020-04-07 03:32:11.464439   122915  not_cash  \n18684   product1 2020-04-07 03:32:17.947379   122915  not_cash  \n18685    catalog 2020-04-07 03:32:30.365254   122915  not_cash  \n18686       main 2020-04-07 03:32:56.330660   122915  not_cash  \n18687    catalog 2020-04-07 03:32:57.470668   122915  not_cash  \n18688    catalog 2020-04-07 03:33:23.211429   122915  not_cash  \n18689   product1 2020-04-07 03:33:33.316584   122915  not_cash  \n18690    catalog 2020-04-07 03:33:52.115426   122915  not_cash  \n18691    catalog 2020-04-07 03:34:31.829710   122915  not_cash  \n18692    catalog 2020-04-07 03:34:36.437043   122915  not_cash  \n22649       main 2020-04-13 04:48:48.722240   122915  not_cash  \n22650    catalog 2020-04-13 04:48:53.163630   122915  not_cash  \n22651   product1 2020-04-13 04:48:57.461080   122915  not_cash  \n22652    catalog 2020-04-13 04:49:14.600710   122915  not_cash  \n22653   product2 2020-04-13 04:49:15.703455   122915  not_cash  \n22654    catalog 2020-04-13 04:49:30.640668   122915  not_cash  \n22655       cart 2020-04-13 04:50:11.896964   122915  not_cash  \n22656       lost 2020-04-13 04:50:12.896964   122915  not_cash  ",
      "text/html": "<div>\n<style scoped>\n    .dataframe tbody tr th:only-of-type {\n        vertical-align: middle;\n    }\n\n    .dataframe tbody tr th {\n        vertical-align: top;\n    }\n\n    .dataframe thead th {\n        text-align: right;\n    }\n</style>\n<table border=\"1\" class=\"dataframe\">\n  <thead>\n    <tr style=\"text-align: right;\">\n      <th></th>\n      <th>event_id</th>\n      <th>event_type</th>\n      <th>event_index</th>\n      <th>event_name</th>\n      <th>event_timestamp</th>\n      <th>user_id</th>\n      <th>user_type</th>\n    </tr>\n  </thead>\n  <tbody>\n    <tr>\n      <th>18665</th>\n      <td>77083c8f-a7d0-408c-8e02-b62f67d89b71</td>\n      <td>raw</td>\n      <td>18665</td>\n      <td>main</td>\n      <td>2020-04-07 03:27:32.806542</td>\n      <td>122915</td>\n      <td>not_cash</td>\n    </tr>\n    <tr>\n      <th>18666</th>\n      <td>e23b66d5-377e-4ec5-a48a-c9cc9e6634d3</td>\n      <td>raw</td>\n      <td>18666</td>\n      <td>catalog</td>\n      <td>2020-04-07 03:27:49.914239</td>\n      <td>122915</td>\n      <td>not_cash</td>\n    </tr>\n    <tr>\n      <th>18667</th>\n      <td>ae1959d1-ae1a-4852-a4d3-cdec80b4a57f</td>\n      <td>raw</td>\n      <td>18667</td>\n      <td>main</td>\n      <td>2020-04-07 03:27:57.320839</td>\n      <td>122915</td>\n      <td>not_cash</td>\n    </tr>\n    <tr>\n      <th>18668</th>\n      <td>ae1632ab-e235-4b2c-ab4b-9d18fb5bfac3</td>\n      <td>raw</td>\n      <td>18668</td>\n      <td>main</td>\n      <td>2020-04-07 03:28:00.580589</td>\n      <td>122915</td>\n      <td>not_cash</td>\n    </tr>\n    <tr>\n      <th>18669</th>\n      <td>ffe79f34-4ca1-4638-a896-69d166348c2c</td>\n      <td>raw</td>\n      <td>18669</td>\n      <td>catalog</td>\n      <td>2020-04-07 03:28:01.815559</td>\n      <td>122915</td>\n      <td>not_cash</td>\n    </tr>\n    <tr>\n      <th>18670</th>\n      <td>83f5d369-cf25-4e0c-b3d2-a2f1b9ec9d08</td>\n      <td>raw</td>\n      <td>18670</td>\n      <td>catalog</td>\n      <td>2020-04-07 03:28:45.697560</td>\n      <td>122915</td>\n      <td>not_cash</td>\n    </tr>\n    <tr>\n      <th>18671</th>\n      <td>651dd375-c026-4caa-9952-9700675825d6</td>\n      <td>raw</td>\n      <td>18671</td>\n      <td>product2</td>\n      <td>2020-04-07 03:29:04.983348</td>\n      <td>122915</td>\n      <td>not_cash</td>\n    </tr>\n    <tr>\n      <th>18672</th>\n      <td>72ebbf1f-58ea-43fc-9609-07f17584d538</td>\n      <td>raw</td>\n      <td>18672</td>\n      <td>catalog</td>\n      <td>2020-04-07 03:29:44.892554</td>\n      <td>122915</td>\n      <td>not_cash</td>\n    </tr>\n    <tr>\n      <th>18673</th>\n      <td>dbf58ad4-397f-4b81-951c-5ee5b3706a1b</td>\n      <td>raw</td>\n      <td>18673</td>\n      <td>catalog</td>\n      <td>2020-04-07 03:30:28.058167</td>\n      <td>122915</td>\n      <td>not_cash</td>\n    </tr>\n    <tr>\n      <th>18674</th>\n      <td>7650d504-6c8e-44a4-8485-906d59744e54</td>\n      <td>raw</td>\n      <td>18674</td>\n      <td>catalog</td>\n      <td>2020-04-07 03:30:58.013806</td>\n      <td>122915</td>\n      <td>not_cash</td>\n    </tr>\n    <tr>\n      <th>18675</th>\n      <td>ebe362c1-7a9c-493d-96c8-7d60c3fd175c</td>\n      <td>raw</td>\n      <td>18675</td>\n      <td>product1</td>\n      <td>2020-04-07 03:31:00.362128</td>\n      <td>122915</td>\n      <td>not_cash</td>\n    </tr>\n    <tr>\n      <th>18678</th>\n      <td>efb76f85-f4ed-4ed5-bdb8-d9bf42f42182</td>\n      <td>raw</td>\n      <td>18678</td>\n      <td>catalog</td>\n      <td>2020-04-07 03:31:31.961962</td>\n      <td>122915</td>\n      <td>not_cash</td>\n    </tr>\n    <tr>\n      <th>18680</th>\n      <td>700a0b7c-4dec-4054-8173-340d7ca381ad</td>\n      <td>raw</td>\n      <td>18680</td>\n      <td>main</td>\n      <td>2020-04-07 03:31:47.521356</td>\n      <td>122915</td>\n      <td>not_cash</td>\n    </tr>\n    <tr>\n      <th>18681</th>\n      <td>bfeff211-c72a-44b8-bfbd-609b25a5d267</td>\n      <td>raw</td>\n      <td>18681</td>\n      <td>catalog</td>\n      <td>2020-04-07 03:31:48.584153</td>\n      <td>122915</td>\n      <td>not_cash</td>\n    </tr>\n    <tr>\n      <th>18682</th>\n      <td>ba018570-8b9b-43ad-a13f-937c9f129b64</td>\n      <td>raw</td>\n      <td>18682</td>\n      <td>main</td>\n      <td>2020-04-07 03:32:07.520619</td>\n      <td>122915</td>\n      <td>not_cash</td>\n    </tr>\n    <tr>\n      <th>18683</th>\n      <td>d743fa73-0f92-4dd9-a328-5e08184efa16</td>\n      <td>raw</td>\n      <td>18683</td>\n      <td>catalog</td>\n      <td>2020-04-07 03:32:11.464439</td>\n      <td>122915</td>\n      <td>not_cash</td>\n    </tr>\n    <tr>\n      <th>18684</th>\n      <td>b933820c-0e28-48ed-bd57-007065edab14</td>\n      <td>raw</td>\n      <td>18684</td>\n      <td>product1</td>\n      <td>2020-04-07 03:32:17.947379</td>\n      <td>122915</td>\n      <td>not_cash</td>\n    </tr>\n    <tr>\n      <th>18685</th>\n      <td>2cf70fcb-d5ad-4873-ba3f-b9f3031777bc</td>\n      <td>raw</td>\n      <td>18685</td>\n      <td>catalog</td>\n      <td>2020-04-07 03:32:30.365254</td>\n      <td>122915</td>\n      <td>not_cash</td>\n    </tr>\n    <tr>\n      <th>18686</th>\n      <td>e2428908-dbad-4b24-a7dd-9e8d26de830e</td>\n      <td>raw</td>\n      <td>18686</td>\n      <td>main</td>\n      <td>2020-04-07 03:32:56.330660</td>\n      <td>122915</td>\n      <td>not_cash</td>\n    </tr>\n    <tr>\n      <th>18687</th>\n      <td>5a9d457b-c27d-4bc1-842a-36e88c4a0a97</td>\n      <td>raw</td>\n      <td>18687</td>\n      <td>catalog</td>\n      <td>2020-04-07 03:32:57.470668</td>\n      <td>122915</td>\n      <td>not_cash</td>\n    </tr>\n    <tr>\n      <th>18688</th>\n      <td>cf249dba-852f-46f8-aa9b-aef96fb5c747</td>\n      <td>raw</td>\n      <td>18688</td>\n      <td>catalog</td>\n      <td>2020-04-07 03:33:23.211429</td>\n      <td>122915</td>\n      <td>not_cash</td>\n    </tr>\n    <tr>\n      <th>18689</th>\n      <td>b86437e5-3ea7-419c-b1f8-7b5b938d800a</td>\n      <td>raw</td>\n      <td>18689</td>\n      <td>product1</td>\n      <td>2020-04-07 03:33:33.316584</td>\n      <td>122915</td>\n      <td>not_cash</td>\n    </tr>\n    <tr>\n      <th>18690</th>\n      <td>9ad4f899-270a-45d6-a738-42d9d4f4ff8b</td>\n      <td>raw</td>\n      <td>18690</td>\n      <td>catalog</td>\n      <td>2020-04-07 03:33:52.115426</td>\n      <td>122915</td>\n      <td>not_cash</td>\n    </tr>\n    <tr>\n      <th>18691</th>\n      <td>68655153-9770-45dd-a386-1f627dcf742c</td>\n      <td>raw</td>\n      <td>18691</td>\n      <td>catalog</td>\n      <td>2020-04-07 03:34:31.829710</td>\n      <td>122915</td>\n      <td>not_cash</td>\n    </tr>\n    <tr>\n      <th>18692</th>\n      <td>0fdf791f-c01e-4742-ad70-4caecd6ec621</td>\n      <td>raw</td>\n      <td>18692</td>\n      <td>catalog</td>\n      <td>2020-04-07 03:34:36.437043</td>\n      <td>122915</td>\n      <td>not_cash</td>\n    </tr>\n    <tr>\n      <th>22649</th>\n      <td>335738d8-9e46-42e8-847c-30ba6c9baaa4</td>\n      <td>raw</td>\n      <td>22649</td>\n      <td>main</td>\n      <td>2020-04-13 04:48:48.722240</td>\n      <td>122915</td>\n      <td>not_cash</td>\n    </tr>\n    <tr>\n      <th>22650</th>\n      <td>2fbfd28a-ff96-4363-b8e4-14096ab483b1</td>\n      <td>raw</td>\n      <td>22650</td>\n      <td>catalog</td>\n      <td>2020-04-13 04:48:53.163630</td>\n      <td>122915</td>\n      <td>not_cash</td>\n    </tr>\n    <tr>\n      <th>22651</th>\n      <td>6195e687-b6a3-46a4-a27f-31fff4b6ec1b</td>\n      <td>raw</td>\n      <td>22651</td>\n      <td>product1</td>\n      <td>2020-04-13 04:48:57.461080</td>\n      <td>122915</td>\n      <td>not_cash</td>\n    </tr>\n    <tr>\n      <th>22652</th>\n      <td>9af21ca9-711e-4a5f-a931-610ea46e32cc</td>\n      <td>raw</td>\n      <td>22652</td>\n      <td>catalog</td>\n      <td>2020-04-13 04:49:14.600710</td>\n      <td>122915</td>\n      <td>not_cash</td>\n    </tr>\n    <tr>\n      <th>22653</th>\n      <td>3fff122c-e149-4860-ad9e-84b50deacdb1</td>\n      <td>raw</td>\n      <td>22653</td>\n      <td>product2</td>\n      <td>2020-04-13 04:49:15.703455</td>\n      <td>122915</td>\n      <td>not_cash</td>\n    </tr>\n    <tr>\n      <th>22654</th>\n      <td>78b7634a-256b-45f2-9cb4-681c5b2d3504</td>\n      <td>raw</td>\n      <td>22654</td>\n      <td>catalog</td>\n      <td>2020-04-13 04:49:30.640668</td>\n      <td>122915</td>\n      <td>not_cash</td>\n    </tr>\n    <tr>\n      <th>22655</th>\n      <td>7b029b80-6bf7-4b61-ac20-580bf773d384</td>\n      <td>raw</td>\n      <td>22655</td>\n      <td>cart</td>\n      <td>2020-04-13 04:50:11.896964</td>\n      <td>122915</td>\n      <td>not_cash</td>\n    </tr>\n    <tr>\n      <th>22656</th>\n      <td>f9ce311a-401b-4130-a901-87be08d913ea</td>\n      <td>raw</td>\n      <td>22656</td>\n      <td>lost</td>\n      <td>2020-04-13 04:50:12.896964</td>\n      <td>122915</td>\n      <td>not_cash</td>\n    </tr>\n  </tbody>\n</table>\n</div>"
     },
     "execution_count": 7,
     "metadata": {},
     "output_type": "execute_result"
    }
   ],
   "source": [
    "source_df[source_df['user_id'] == 122915]"
   ],
   "metadata": {
    "collapsed": false,
    "pycharm": {
     "name": "#%%\n"
    }
   }
  },
  {
   "cell_type": "code",
   "execution_count": 8,
   "outputs": [
    {
     "data": {
      "text/plain": "0        False\n1         True\n2        False\n3        False\n4        False\n         ...  \n35376    False\n35377    False\n35378    False\n35379    False\n35380    False\nName: event_name, Length: 35381, dtype: bool"
     },
     "execution_count": 8,
     "metadata": {},
     "output_type": "execute_result"
    }
   ],
   "source": [
    "source_df['event_name'].isin(['product1', 'product2'])"
   ],
   "metadata": {
    "collapsed": false,
    "pycharm": {
     "name": "#%%\n"
    }
   }
  },
  {
   "cell_type": "markdown",
   "source": [
    "# Grouping"
   ],
   "metadata": {
    "collapsed": false,
    "pycharm": {
     "name": "#%% md\n"
    }
   }
  },
  {
   "cell_type": "markdown",
   "source": [
    "## Описание работы функции"
   ],
   "metadata": {
    "collapsed": false,
    "pycharm": {
     "name": "#%% md\n"
    }
   }
  },
  {
   "cell_type": "markdown",
   "source": [
    "Датапроцессор переименовывает события по заданному условию.\n",
    "Новых событий не добавляется, у переименованных событий изменяется ```event_name``` и ```event_type```\n",
    "\n",
    "\n",
    "Параметры:\n",
    "```event_name: str```\n",
    "Новое имя для событий, которые подойдут под условие из параметра ```filter```\n",
    "\n",
    "```filter: EventstreamFilter```\n",
    "EventstreamFilter = Callable[[DataFrame, EventstreamSchema], Any]\n",
    "Кастомная функция, в которую передается датафрейм, схема и на выходе она дает маску (условие) для текущего eventstream.\n",
    "Событие для которых условие = True -- > переименовывается\n",
    "\n",
    "```event_type: Optional[str] = \"group_alias\"```\n",
    "По дефолту новый тип события - group_alias, но можно задать свой\n",
    "Изменение типа события происходит также по условию из функции filter"
   ],
   "metadata": {
    "collapsed": false,
    "pycharm": {
     "name": "#%% md\n"
    }
   }
  },
  {
   "cell_type": "markdown",
   "source": [
    " ## Простое переименование 2-ух событий в одно"
   ],
   "metadata": {
    "collapsed": false,
    "pycharm": {
     "name": "#%% md\n"
    }
   }
  },
  {
   "cell_type": "code",
   "execution_count": 9,
   "outputs": [],
   "source": [
    "# Объединим в группу product события product1 и product2\n",
    "from src.data_processors_lib.simple_processors import SimpleGroup, SimpleGroupParams\n",
    "\n",
    "product_agg = EventsNode(\n",
    "    SimpleGroup(params=SimpleGroupParams(**{\n",
    "        'event_name': 'product1',\n",
    "        'filter': lambda df, schema: df[schema.event_name].isin(['product1', 'product2']),\n",
    "        'event_type' : 'lalala'\n",
    "    }))\n",
    ")\n",
    "\n",
    "graph.add_node(\n",
    "    node=product_agg,\n",
    "    parents=[graph.root]\n",
    ")\n",
    "\n",
    "result = graph.combine(\n",
    "    node=product_agg\n",
    ")"
   ],
   "metadata": {
    "collapsed": false,
    "pycharm": {
     "name": "#%%\n"
    }
   }
  },
  {
   "cell_type": "code",
   "execution_count": 10,
   "outputs": [],
   "source": [
    "product_agg_df = result.to_dataframe()"
   ],
   "metadata": {
    "collapsed": false,
    "pycharm": {
     "name": "#%%\n"
    }
   }
  },
  {
   "cell_type": "code",
   "execution_count": 11,
   "outputs": [
    {
     "data": {
      "text/plain": "                                   event_id event_type  event_index  \\\n20596  77083c8f-a7d0-408c-8e02-b62f67d89b71        raw        20596   \n20597  e23b66d5-377e-4ec5-a48a-c9cc9e6634d3        raw        20597   \n20598  ae1959d1-ae1a-4852-a4d3-cdec80b4a57f        raw        20598   \n20599  ae1632ab-e235-4b2c-ab4b-9d18fb5bfac3        raw        20599   \n20600  ffe79f34-4ca1-4638-a896-69d166348c2c        raw        20600   \n20601  83f5d369-cf25-4e0c-b3d2-a2f1b9ec9d08        raw        20601   \n20603  e097f96c-c834-46f6-8812-1e576ca608a7     lalala        20603   \n20604  72ebbf1f-58ea-43fc-9609-07f17584d538        raw        20604   \n20605  dbf58ad4-397f-4b81-951c-5ee5b3706a1b        raw        20605   \n20606  7650d504-6c8e-44a4-8485-906d59744e54        raw        20606   \n20608  e759f57f-2d33-49c3-8821-49b34a43b38f     lalala        20608   \n20611  efb76f85-f4ed-4ed5-bdb8-d9bf42f42182        raw        20611   \n20613  700a0b7c-4dec-4054-8173-340d7ca381ad        raw        20613   \n20614  bfeff211-c72a-44b8-bfbd-609b25a5d267        raw        20614   \n20615  ba018570-8b9b-43ad-a13f-937c9f129b64        raw        20615   \n20616  d743fa73-0f92-4dd9-a328-5e08184efa16        raw        20616   \n20618  333383e1-7371-4c08-b28c-983d9ee0e466     lalala        20618   \n20619  2cf70fcb-d5ad-4873-ba3f-b9f3031777bc        raw        20619   \n20620  e2428908-dbad-4b24-a7dd-9e8d26de830e        raw        20620   \n20621  5a9d457b-c27d-4bc1-842a-36e88c4a0a97        raw        20621   \n20622  cf249dba-852f-46f8-aa9b-aef96fb5c747        raw        20622   \n20624  d190770f-961f-4801-ad3a-e8e5fc9a3096     lalala        20624   \n20625  9ad4f899-270a-45d6-a738-42d9d4f4ff8b        raw        20625   \n20626  68655153-9770-45dd-a386-1f627dcf742c        raw        20626   \n20627  0fdf791f-c01e-4742-ad70-4caecd6ec621        raw        20627   \n25011  335738d8-9e46-42e8-847c-30ba6c9baaa4        raw        25011   \n25012  2fbfd28a-ff96-4363-b8e4-14096ab483b1        raw        25012   \n25014  8d542bbb-99dd-4727-8a5b-058f720d1c99     lalala        25014   \n25015  9af21ca9-711e-4a5f-a931-610ea46e32cc        raw        25015   \n25017  73fa9ec2-89c3-4ec1-ab58-2b430824117d     lalala        25017   \n25018  78b7634a-256b-45f2-9cb4-681c5b2d3504        raw        25018   \n25019  7b029b80-6bf7-4b61-ac20-580bf773d384        raw        25019   \n25020  f9ce311a-401b-4130-a901-87be08d913ea        raw        25020   \n\n      event_name            event_timestamp   user_id user_type  \n20596       main 2020-04-07 03:27:32.806542  122915.0  not_cash  \n20597    catalog 2020-04-07 03:27:49.914239  122915.0  not_cash  \n20598       main 2020-04-07 03:27:57.320839  122915.0  not_cash  \n20599       main 2020-04-07 03:28:00.580589  122915.0  not_cash  \n20600    catalog 2020-04-07 03:28:01.815559  122915.0  not_cash  \n20601    catalog 2020-04-07 03:28:45.697560  122915.0  not_cash  \n20603   product1 2020-04-07 03:29:04.983348  122915.0  not_cash  \n20604    catalog 2020-04-07 03:29:44.892554  122915.0  not_cash  \n20605    catalog 2020-04-07 03:30:28.058167  122915.0  not_cash  \n20606    catalog 2020-04-07 03:30:58.013806  122915.0  not_cash  \n20608   product1 2020-04-07 03:31:00.362128  122915.0  not_cash  \n20611    catalog 2020-04-07 03:31:31.961962  122915.0  not_cash  \n20613       main 2020-04-07 03:31:47.521356  122915.0  not_cash  \n20614    catalog 2020-04-07 03:31:48.584153  122915.0  not_cash  \n20615       main 2020-04-07 03:32:07.520619  122915.0  not_cash  \n20616    catalog 2020-04-07 03:32:11.464439  122915.0  not_cash  \n20618   product1 2020-04-07 03:32:17.947379  122915.0  not_cash  \n20619    catalog 2020-04-07 03:32:30.365254  122915.0  not_cash  \n20620       main 2020-04-07 03:32:56.330660  122915.0  not_cash  \n20621    catalog 2020-04-07 03:32:57.470668  122915.0  not_cash  \n20622    catalog 2020-04-07 03:33:23.211429  122915.0  not_cash  \n20624   product1 2020-04-07 03:33:33.316584  122915.0  not_cash  \n20625    catalog 2020-04-07 03:33:52.115426  122915.0  not_cash  \n20626    catalog 2020-04-07 03:34:31.829710  122915.0  not_cash  \n20627    catalog 2020-04-07 03:34:36.437043  122915.0  not_cash  \n25011       main 2020-04-13 04:48:48.722240  122915.0  not_cash  \n25012    catalog 2020-04-13 04:48:53.163630  122915.0  not_cash  \n25014   product1 2020-04-13 04:48:57.461080  122915.0  not_cash  \n25015    catalog 2020-04-13 04:49:14.600710  122915.0  not_cash  \n25017   product1 2020-04-13 04:49:15.703455  122915.0  not_cash  \n25018    catalog 2020-04-13 04:49:30.640668  122915.0  not_cash  \n25019       cart 2020-04-13 04:50:11.896964  122915.0  not_cash  \n25020       lost 2020-04-13 04:50:12.896964  122915.0  not_cash  ",
      "text/html": "<div>\n<style scoped>\n    .dataframe tbody tr th:only-of-type {\n        vertical-align: middle;\n    }\n\n    .dataframe tbody tr th {\n        vertical-align: top;\n    }\n\n    .dataframe thead th {\n        text-align: right;\n    }\n</style>\n<table border=\"1\" class=\"dataframe\">\n  <thead>\n    <tr style=\"text-align: right;\">\n      <th></th>\n      <th>event_id</th>\n      <th>event_type</th>\n      <th>event_index</th>\n      <th>event_name</th>\n      <th>event_timestamp</th>\n      <th>user_id</th>\n      <th>user_type</th>\n    </tr>\n  </thead>\n  <tbody>\n    <tr>\n      <th>20596</th>\n      <td>77083c8f-a7d0-408c-8e02-b62f67d89b71</td>\n      <td>raw</td>\n      <td>20596</td>\n      <td>main</td>\n      <td>2020-04-07 03:27:32.806542</td>\n      <td>122915.0</td>\n      <td>not_cash</td>\n    </tr>\n    <tr>\n      <th>20597</th>\n      <td>e23b66d5-377e-4ec5-a48a-c9cc9e6634d3</td>\n      <td>raw</td>\n      <td>20597</td>\n      <td>catalog</td>\n      <td>2020-04-07 03:27:49.914239</td>\n      <td>122915.0</td>\n      <td>not_cash</td>\n    </tr>\n    <tr>\n      <th>20598</th>\n      <td>ae1959d1-ae1a-4852-a4d3-cdec80b4a57f</td>\n      <td>raw</td>\n      <td>20598</td>\n      <td>main</td>\n      <td>2020-04-07 03:27:57.320839</td>\n      <td>122915.0</td>\n      <td>not_cash</td>\n    </tr>\n    <tr>\n      <th>20599</th>\n      <td>ae1632ab-e235-4b2c-ab4b-9d18fb5bfac3</td>\n      <td>raw</td>\n      <td>20599</td>\n      <td>main</td>\n      <td>2020-04-07 03:28:00.580589</td>\n      <td>122915.0</td>\n      <td>not_cash</td>\n    </tr>\n    <tr>\n      <th>20600</th>\n      <td>ffe79f34-4ca1-4638-a896-69d166348c2c</td>\n      <td>raw</td>\n      <td>20600</td>\n      <td>catalog</td>\n      <td>2020-04-07 03:28:01.815559</td>\n      <td>122915.0</td>\n      <td>not_cash</td>\n    </tr>\n    <tr>\n      <th>20601</th>\n      <td>83f5d369-cf25-4e0c-b3d2-a2f1b9ec9d08</td>\n      <td>raw</td>\n      <td>20601</td>\n      <td>catalog</td>\n      <td>2020-04-07 03:28:45.697560</td>\n      <td>122915.0</td>\n      <td>not_cash</td>\n    </tr>\n    <tr>\n      <th>20603</th>\n      <td>e097f96c-c834-46f6-8812-1e576ca608a7</td>\n      <td>lalala</td>\n      <td>20603</td>\n      <td>product1</td>\n      <td>2020-04-07 03:29:04.983348</td>\n      <td>122915.0</td>\n      <td>not_cash</td>\n    </tr>\n    <tr>\n      <th>20604</th>\n      <td>72ebbf1f-58ea-43fc-9609-07f17584d538</td>\n      <td>raw</td>\n      <td>20604</td>\n      <td>catalog</td>\n      <td>2020-04-07 03:29:44.892554</td>\n      <td>122915.0</td>\n      <td>not_cash</td>\n    </tr>\n    <tr>\n      <th>20605</th>\n      <td>dbf58ad4-397f-4b81-951c-5ee5b3706a1b</td>\n      <td>raw</td>\n      <td>20605</td>\n      <td>catalog</td>\n      <td>2020-04-07 03:30:28.058167</td>\n      <td>122915.0</td>\n      <td>not_cash</td>\n    </tr>\n    <tr>\n      <th>20606</th>\n      <td>7650d504-6c8e-44a4-8485-906d59744e54</td>\n      <td>raw</td>\n      <td>20606</td>\n      <td>catalog</td>\n      <td>2020-04-07 03:30:58.013806</td>\n      <td>122915.0</td>\n      <td>not_cash</td>\n    </tr>\n    <tr>\n      <th>20608</th>\n      <td>e759f57f-2d33-49c3-8821-49b34a43b38f</td>\n      <td>lalala</td>\n      <td>20608</td>\n      <td>product1</td>\n      <td>2020-04-07 03:31:00.362128</td>\n      <td>122915.0</td>\n      <td>not_cash</td>\n    </tr>\n    <tr>\n      <th>20611</th>\n      <td>efb76f85-f4ed-4ed5-bdb8-d9bf42f42182</td>\n      <td>raw</td>\n      <td>20611</td>\n      <td>catalog</td>\n      <td>2020-04-07 03:31:31.961962</td>\n      <td>122915.0</td>\n      <td>not_cash</td>\n    </tr>\n    <tr>\n      <th>20613</th>\n      <td>700a0b7c-4dec-4054-8173-340d7ca381ad</td>\n      <td>raw</td>\n      <td>20613</td>\n      <td>main</td>\n      <td>2020-04-07 03:31:47.521356</td>\n      <td>122915.0</td>\n      <td>not_cash</td>\n    </tr>\n    <tr>\n      <th>20614</th>\n      <td>bfeff211-c72a-44b8-bfbd-609b25a5d267</td>\n      <td>raw</td>\n      <td>20614</td>\n      <td>catalog</td>\n      <td>2020-04-07 03:31:48.584153</td>\n      <td>122915.0</td>\n      <td>not_cash</td>\n    </tr>\n    <tr>\n      <th>20615</th>\n      <td>ba018570-8b9b-43ad-a13f-937c9f129b64</td>\n      <td>raw</td>\n      <td>20615</td>\n      <td>main</td>\n      <td>2020-04-07 03:32:07.520619</td>\n      <td>122915.0</td>\n      <td>not_cash</td>\n    </tr>\n    <tr>\n      <th>20616</th>\n      <td>d743fa73-0f92-4dd9-a328-5e08184efa16</td>\n      <td>raw</td>\n      <td>20616</td>\n      <td>catalog</td>\n      <td>2020-04-07 03:32:11.464439</td>\n      <td>122915.0</td>\n      <td>not_cash</td>\n    </tr>\n    <tr>\n      <th>20618</th>\n      <td>333383e1-7371-4c08-b28c-983d9ee0e466</td>\n      <td>lalala</td>\n      <td>20618</td>\n      <td>product1</td>\n      <td>2020-04-07 03:32:17.947379</td>\n      <td>122915.0</td>\n      <td>not_cash</td>\n    </tr>\n    <tr>\n      <th>20619</th>\n      <td>2cf70fcb-d5ad-4873-ba3f-b9f3031777bc</td>\n      <td>raw</td>\n      <td>20619</td>\n      <td>catalog</td>\n      <td>2020-04-07 03:32:30.365254</td>\n      <td>122915.0</td>\n      <td>not_cash</td>\n    </tr>\n    <tr>\n      <th>20620</th>\n      <td>e2428908-dbad-4b24-a7dd-9e8d26de830e</td>\n      <td>raw</td>\n      <td>20620</td>\n      <td>main</td>\n      <td>2020-04-07 03:32:56.330660</td>\n      <td>122915.0</td>\n      <td>not_cash</td>\n    </tr>\n    <tr>\n      <th>20621</th>\n      <td>5a9d457b-c27d-4bc1-842a-36e88c4a0a97</td>\n      <td>raw</td>\n      <td>20621</td>\n      <td>catalog</td>\n      <td>2020-04-07 03:32:57.470668</td>\n      <td>122915.0</td>\n      <td>not_cash</td>\n    </tr>\n    <tr>\n      <th>20622</th>\n      <td>cf249dba-852f-46f8-aa9b-aef96fb5c747</td>\n      <td>raw</td>\n      <td>20622</td>\n      <td>catalog</td>\n      <td>2020-04-07 03:33:23.211429</td>\n      <td>122915.0</td>\n      <td>not_cash</td>\n    </tr>\n    <tr>\n      <th>20624</th>\n      <td>d190770f-961f-4801-ad3a-e8e5fc9a3096</td>\n      <td>lalala</td>\n      <td>20624</td>\n      <td>product1</td>\n      <td>2020-04-07 03:33:33.316584</td>\n      <td>122915.0</td>\n      <td>not_cash</td>\n    </tr>\n    <tr>\n      <th>20625</th>\n      <td>9ad4f899-270a-45d6-a738-42d9d4f4ff8b</td>\n      <td>raw</td>\n      <td>20625</td>\n      <td>catalog</td>\n      <td>2020-04-07 03:33:52.115426</td>\n      <td>122915.0</td>\n      <td>not_cash</td>\n    </tr>\n    <tr>\n      <th>20626</th>\n      <td>68655153-9770-45dd-a386-1f627dcf742c</td>\n      <td>raw</td>\n      <td>20626</td>\n      <td>catalog</td>\n      <td>2020-04-07 03:34:31.829710</td>\n      <td>122915.0</td>\n      <td>not_cash</td>\n    </tr>\n    <tr>\n      <th>20627</th>\n      <td>0fdf791f-c01e-4742-ad70-4caecd6ec621</td>\n      <td>raw</td>\n      <td>20627</td>\n      <td>catalog</td>\n      <td>2020-04-07 03:34:36.437043</td>\n      <td>122915.0</td>\n      <td>not_cash</td>\n    </tr>\n    <tr>\n      <th>25011</th>\n      <td>335738d8-9e46-42e8-847c-30ba6c9baaa4</td>\n      <td>raw</td>\n      <td>25011</td>\n      <td>main</td>\n      <td>2020-04-13 04:48:48.722240</td>\n      <td>122915.0</td>\n      <td>not_cash</td>\n    </tr>\n    <tr>\n      <th>25012</th>\n      <td>2fbfd28a-ff96-4363-b8e4-14096ab483b1</td>\n      <td>raw</td>\n      <td>25012</td>\n      <td>catalog</td>\n      <td>2020-04-13 04:48:53.163630</td>\n      <td>122915.0</td>\n      <td>not_cash</td>\n    </tr>\n    <tr>\n      <th>25014</th>\n      <td>8d542bbb-99dd-4727-8a5b-058f720d1c99</td>\n      <td>lalala</td>\n      <td>25014</td>\n      <td>product1</td>\n      <td>2020-04-13 04:48:57.461080</td>\n      <td>122915.0</td>\n      <td>not_cash</td>\n    </tr>\n    <tr>\n      <th>25015</th>\n      <td>9af21ca9-711e-4a5f-a931-610ea46e32cc</td>\n      <td>raw</td>\n      <td>25015</td>\n      <td>catalog</td>\n      <td>2020-04-13 04:49:14.600710</td>\n      <td>122915.0</td>\n      <td>not_cash</td>\n    </tr>\n    <tr>\n      <th>25017</th>\n      <td>73fa9ec2-89c3-4ec1-ab58-2b430824117d</td>\n      <td>lalala</td>\n      <td>25017</td>\n      <td>product1</td>\n      <td>2020-04-13 04:49:15.703455</td>\n      <td>122915.0</td>\n      <td>not_cash</td>\n    </tr>\n    <tr>\n      <th>25018</th>\n      <td>78b7634a-256b-45f2-9cb4-681c5b2d3504</td>\n      <td>raw</td>\n      <td>25018</td>\n      <td>catalog</td>\n      <td>2020-04-13 04:49:30.640668</td>\n      <td>122915.0</td>\n      <td>not_cash</td>\n    </tr>\n    <tr>\n      <th>25019</th>\n      <td>7b029b80-6bf7-4b61-ac20-580bf773d384</td>\n      <td>raw</td>\n      <td>25019</td>\n      <td>cart</td>\n      <td>2020-04-13 04:50:11.896964</td>\n      <td>122915.0</td>\n      <td>not_cash</td>\n    </tr>\n    <tr>\n      <th>25020</th>\n      <td>f9ce311a-401b-4130-a901-87be08d913ea</td>\n      <td>raw</td>\n      <td>25020</td>\n      <td>lost</td>\n      <td>2020-04-13 04:50:12.896964</td>\n      <td>122915.0</td>\n      <td>not_cash</td>\n    </tr>\n  </tbody>\n</table>\n</div>"
     },
     "execution_count": 11,
     "metadata": {},
     "output_type": "execute_result"
    }
   ],
   "source": [
    "product_agg_df[product_agg_df['user_id'] == 122915]"
   ],
   "metadata": {
    "collapsed": false,
    "pycharm": {
     "name": "#%%\n"
    }
   }
  },
  {
   "cell_type": "code",
   "execution_count": 12,
   "outputs": [
    {
     "data": {
      "text/plain": "                                   event_id event_type  event_index  \\\n18665  77083c8f-a7d0-408c-8e02-b62f67d89b71        raw        18665   \n18666  e23b66d5-377e-4ec5-a48a-c9cc9e6634d3        raw        18666   \n18667  ae1959d1-ae1a-4852-a4d3-cdec80b4a57f        raw        18667   \n18668  ae1632ab-e235-4b2c-ab4b-9d18fb5bfac3        raw        18668   \n18669  ffe79f34-4ca1-4638-a896-69d166348c2c        raw        18669   \n18670  83f5d369-cf25-4e0c-b3d2-a2f1b9ec9d08        raw        18670   \n18671  651dd375-c026-4caa-9952-9700675825d6        raw        18671   \n18672  72ebbf1f-58ea-43fc-9609-07f17584d538        raw        18672   \n18673  dbf58ad4-397f-4b81-951c-5ee5b3706a1b        raw        18673   \n18674  7650d504-6c8e-44a4-8485-906d59744e54        raw        18674   \n18675  ebe362c1-7a9c-493d-96c8-7d60c3fd175c        raw        18675   \n18678  efb76f85-f4ed-4ed5-bdb8-d9bf42f42182        raw        18678   \n18680  700a0b7c-4dec-4054-8173-340d7ca381ad        raw        18680   \n18681  bfeff211-c72a-44b8-bfbd-609b25a5d267        raw        18681   \n18682  ba018570-8b9b-43ad-a13f-937c9f129b64        raw        18682   \n18683  d743fa73-0f92-4dd9-a328-5e08184efa16        raw        18683   \n18684  b933820c-0e28-48ed-bd57-007065edab14        raw        18684   \n18685  2cf70fcb-d5ad-4873-ba3f-b9f3031777bc        raw        18685   \n18686  e2428908-dbad-4b24-a7dd-9e8d26de830e        raw        18686   \n18687  5a9d457b-c27d-4bc1-842a-36e88c4a0a97        raw        18687   \n18688  cf249dba-852f-46f8-aa9b-aef96fb5c747        raw        18688   \n18689  b86437e5-3ea7-419c-b1f8-7b5b938d800a        raw        18689   \n18690  9ad4f899-270a-45d6-a738-42d9d4f4ff8b        raw        18690   \n18691  68655153-9770-45dd-a386-1f627dcf742c        raw        18691   \n18692  0fdf791f-c01e-4742-ad70-4caecd6ec621        raw        18692   \n22649  335738d8-9e46-42e8-847c-30ba6c9baaa4        raw        22649   \n22650  2fbfd28a-ff96-4363-b8e4-14096ab483b1        raw        22650   \n22651  6195e687-b6a3-46a4-a27f-31fff4b6ec1b        raw        22651   \n22652  9af21ca9-711e-4a5f-a931-610ea46e32cc        raw        22652   \n22653  3fff122c-e149-4860-ad9e-84b50deacdb1        raw        22653   \n22654  78b7634a-256b-45f2-9cb4-681c5b2d3504        raw        22654   \n22655  7b029b80-6bf7-4b61-ac20-580bf773d384        raw        22655   \n22656  f9ce311a-401b-4130-a901-87be08d913ea        raw        22656   \n\n      event_name            event_timestamp  user_id user_type  \n18665       main 2020-04-07 03:27:32.806542   122915  not_cash  \n18666    catalog 2020-04-07 03:27:49.914239   122915  not_cash  \n18667       main 2020-04-07 03:27:57.320839   122915  not_cash  \n18668       main 2020-04-07 03:28:00.580589   122915  not_cash  \n18669    catalog 2020-04-07 03:28:01.815559   122915  not_cash  \n18670    catalog 2020-04-07 03:28:45.697560   122915  not_cash  \n18671   product2 2020-04-07 03:29:04.983348   122915  not_cash  \n18672    catalog 2020-04-07 03:29:44.892554   122915  not_cash  \n18673    catalog 2020-04-07 03:30:28.058167   122915  not_cash  \n18674    catalog 2020-04-07 03:30:58.013806   122915  not_cash  \n18675   product1 2020-04-07 03:31:00.362128   122915  not_cash  \n18678    catalog 2020-04-07 03:31:31.961962   122915  not_cash  \n18680       main 2020-04-07 03:31:47.521356   122915  not_cash  \n18681    catalog 2020-04-07 03:31:48.584153   122915  not_cash  \n18682       main 2020-04-07 03:32:07.520619   122915  not_cash  \n18683    catalog 2020-04-07 03:32:11.464439   122915  not_cash  \n18684   product1 2020-04-07 03:32:17.947379   122915  not_cash  \n18685    catalog 2020-04-07 03:32:30.365254   122915  not_cash  \n18686       main 2020-04-07 03:32:56.330660   122915  not_cash  \n18687    catalog 2020-04-07 03:32:57.470668   122915  not_cash  \n18688    catalog 2020-04-07 03:33:23.211429   122915  not_cash  \n18689   product1 2020-04-07 03:33:33.316584   122915  not_cash  \n18690    catalog 2020-04-07 03:33:52.115426   122915  not_cash  \n18691    catalog 2020-04-07 03:34:31.829710   122915  not_cash  \n18692    catalog 2020-04-07 03:34:36.437043   122915  not_cash  \n22649       main 2020-04-13 04:48:48.722240   122915  not_cash  \n22650    catalog 2020-04-13 04:48:53.163630   122915  not_cash  \n22651   product1 2020-04-13 04:48:57.461080   122915  not_cash  \n22652    catalog 2020-04-13 04:49:14.600710   122915  not_cash  \n22653   product2 2020-04-13 04:49:15.703455   122915  not_cash  \n22654    catalog 2020-04-13 04:49:30.640668   122915  not_cash  \n22655       cart 2020-04-13 04:50:11.896964   122915  not_cash  \n22656       lost 2020-04-13 04:50:12.896964   122915  not_cash  ",
      "text/html": "<div>\n<style scoped>\n    .dataframe tbody tr th:only-of-type {\n        vertical-align: middle;\n    }\n\n    .dataframe tbody tr th {\n        vertical-align: top;\n    }\n\n    .dataframe thead th {\n        text-align: right;\n    }\n</style>\n<table border=\"1\" class=\"dataframe\">\n  <thead>\n    <tr style=\"text-align: right;\">\n      <th></th>\n      <th>event_id</th>\n      <th>event_type</th>\n      <th>event_index</th>\n      <th>event_name</th>\n      <th>event_timestamp</th>\n      <th>user_id</th>\n      <th>user_type</th>\n    </tr>\n  </thead>\n  <tbody>\n    <tr>\n      <th>18665</th>\n      <td>77083c8f-a7d0-408c-8e02-b62f67d89b71</td>\n      <td>raw</td>\n      <td>18665</td>\n      <td>main</td>\n      <td>2020-04-07 03:27:32.806542</td>\n      <td>122915</td>\n      <td>not_cash</td>\n    </tr>\n    <tr>\n      <th>18666</th>\n      <td>e23b66d5-377e-4ec5-a48a-c9cc9e6634d3</td>\n      <td>raw</td>\n      <td>18666</td>\n      <td>catalog</td>\n      <td>2020-04-07 03:27:49.914239</td>\n      <td>122915</td>\n      <td>not_cash</td>\n    </tr>\n    <tr>\n      <th>18667</th>\n      <td>ae1959d1-ae1a-4852-a4d3-cdec80b4a57f</td>\n      <td>raw</td>\n      <td>18667</td>\n      <td>main</td>\n      <td>2020-04-07 03:27:57.320839</td>\n      <td>122915</td>\n      <td>not_cash</td>\n    </tr>\n    <tr>\n      <th>18668</th>\n      <td>ae1632ab-e235-4b2c-ab4b-9d18fb5bfac3</td>\n      <td>raw</td>\n      <td>18668</td>\n      <td>main</td>\n      <td>2020-04-07 03:28:00.580589</td>\n      <td>122915</td>\n      <td>not_cash</td>\n    </tr>\n    <tr>\n      <th>18669</th>\n      <td>ffe79f34-4ca1-4638-a896-69d166348c2c</td>\n      <td>raw</td>\n      <td>18669</td>\n      <td>catalog</td>\n      <td>2020-04-07 03:28:01.815559</td>\n      <td>122915</td>\n      <td>not_cash</td>\n    </tr>\n    <tr>\n      <th>18670</th>\n      <td>83f5d369-cf25-4e0c-b3d2-a2f1b9ec9d08</td>\n      <td>raw</td>\n      <td>18670</td>\n      <td>catalog</td>\n      <td>2020-04-07 03:28:45.697560</td>\n      <td>122915</td>\n      <td>not_cash</td>\n    </tr>\n    <tr>\n      <th>18671</th>\n      <td>651dd375-c026-4caa-9952-9700675825d6</td>\n      <td>raw</td>\n      <td>18671</td>\n      <td>product2</td>\n      <td>2020-04-07 03:29:04.983348</td>\n      <td>122915</td>\n      <td>not_cash</td>\n    </tr>\n    <tr>\n      <th>18672</th>\n      <td>72ebbf1f-58ea-43fc-9609-07f17584d538</td>\n      <td>raw</td>\n      <td>18672</td>\n      <td>catalog</td>\n      <td>2020-04-07 03:29:44.892554</td>\n      <td>122915</td>\n      <td>not_cash</td>\n    </tr>\n    <tr>\n      <th>18673</th>\n      <td>dbf58ad4-397f-4b81-951c-5ee5b3706a1b</td>\n      <td>raw</td>\n      <td>18673</td>\n      <td>catalog</td>\n      <td>2020-04-07 03:30:28.058167</td>\n      <td>122915</td>\n      <td>not_cash</td>\n    </tr>\n    <tr>\n      <th>18674</th>\n      <td>7650d504-6c8e-44a4-8485-906d59744e54</td>\n      <td>raw</td>\n      <td>18674</td>\n      <td>catalog</td>\n      <td>2020-04-07 03:30:58.013806</td>\n      <td>122915</td>\n      <td>not_cash</td>\n    </tr>\n    <tr>\n      <th>18675</th>\n      <td>ebe362c1-7a9c-493d-96c8-7d60c3fd175c</td>\n      <td>raw</td>\n      <td>18675</td>\n      <td>product1</td>\n      <td>2020-04-07 03:31:00.362128</td>\n      <td>122915</td>\n      <td>not_cash</td>\n    </tr>\n    <tr>\n      <th>18678</th>\n      <td>efb76f85-f4ed-4ed5-bdb8-d9bf42f42182</td>\n      <td>raw</td>\n      <td>18678</td>\n      <td>catalog</td>\n      <td>2020-04-07 03:31:31.961962</td>\n      <td>122915</td>\n      <td>not_cash</td>\n    </tr>\n    <tr>\n      <th>18680</th>\n      <td>700a0b7c-4dec-4054-8173-340d7ca381ad</td>\n      <td>raw</td>\n      <td>18680</td>\n      <td>main</td>\n      <td>2020-04-07 03:31:47.521356</td>\n      <td>122915</td>\n      <td>not_cash</td>\n    </tr>\n    <tr>\n      <th>18681</th>\n      <td>bfeff211-c72a-44b8-bfbd-609b25a5d267</td>\n      <td>raw</td>\n      <td>18681</td>\n      <td>catalog</td>\n      <td>2020-04-07 03:31:48.584153</td>\n      <td>122915</td>\n      <td>not_cash</td>\n    </tr>\n    <tr>\n      <th>18682</th>\n      <td>ba018570-8b9b-43ad-a13f-937c9f129b64</td>\n      <td>raw</td>\n      <td>18682</td>\n      <td>main</td>\n      <td>2020-04-07 03:32:07.520619</td>\n      <td>122915</td>\n      <td>not_cash</td>\n    </tr>\n    <tr>\n      <th>18683</th>\n      <td>d743fa73-0f92-4dd9-a328-5e08184efa16</td>\n      <td>raw</td>\n      <td>18683</td>\n      <td>catalog</td>\n      <td>2020-04-07 03:32:11.464439</td>\n      <td>122915</td>\n      <td>not_cash</td>\n    </tr>\n    <tr>\n      <th>18684</th>\n      <td>b933820c-0e28-48ed-bd57-007065edab14</td>\n      <td>raw</td>\n      <td>18684</td>\n      <td>product1</td>\n      <td>2020-04-07 03:32:17.947379</td>\n      <td>122915</td>\n      <td>not_cash</td>\n    </tr>\n    <tr>\n      <th>18685</th>\n      <td>2cf70fcb-d5ad-4873-ba3f-b9f3031777bc</td>\n      <td>raw</td>\n      <td>18685</td>\n      <td>catalog</td>\n      <td>2020-04-07 03:32:30.365254</td>\n      <td>122915</td>\n      <td>not_cash</td>\n    </tr>\n    <tr>\n      <th>18686</th>\n      <td>e2428908-dbad-4b24-a7dd-9e8d26de830e</td>\n      <td>raw</td>\n      <td>18686</td>\n      <td>main</td>\n      <td>2020-04-07 03:32:56.330660</td>\n      <td>122915</td>\n      <td>not_cash</td>\n    </tr>\n    <tr>\n      <th>18687</th>\n      <td>5a9d457b-c27d-4bc1-842a-36e88c4a0a97</td>\n      <td>raw</td>\n      <td>18687</td>\n      <td>catalog</td>\n      <td>2020-04-07 03:32:57.470668</td>\n      <td>122915</td>\n      <td>not_cash</td>\n    </tr>\n    <tr>\n      <th>18688</th>\n      <td>cf249dba-852f-46f8-aa9b-aef96fb5c747</td>\n      <td>raw</td>\n      <td>18688</td>\n      <td>catalog</td>\n      <td>2020-04-07 03:33:23.211429</td>\n      <td>122915</td>\n      <td>not_cash</td>\n    </tr>\n    <tr>\n      <th>18689</th>\n      <td>b86437e5-3ea7-419c-b1f8-7b5b938d800a</td>\n      <td>raw</td>\n      <td>18689</td>\n      <td>product1</td>\n      <td>2020-04-07 03:33:33.316584</td>\n      <td>122915</td>\n      <td>not_cash</td>\n    </tr>\n    <tr>\n      <th>18690</th>\n      <td>9ad4f899-270a-45d6-a738-42d9d4f4ff8b</td>\n      <td>raw</td>\n      <td>18690</td>\n      <td>catalog</td>\n      <td>2020-04-07 03:33:52.115426</td>\n      <td>122915</td>\n      <td>not_cash</td>\n    </tr>\n    <tr>\n      <th>18691</th>\n      <td>68655153-9770-45dd-a386-1f627dcf742c</td>\n      <td>raw</td>\n      <td>18691</td>\n      <td>catalog</td>\n      <td>2020-04-07 03:34:31.829710</td>\n      <td>122915</td>\n      <td>not_cash</td>\n    </tr>\n    <tr>\n      <th>18692</th>\n      <td>0fdf791f-c01e-4742-ad70-4caecd6ec621</td>\n      <td>raw</td>\n      <td>18692</td>\n      <td>catalog</td>\n      <td>2020-04-07 03:34:36.437043</td>\n      <td>122915</td>\n      <td>not_cash</td>\n    </tr>\n    <tr>\n      <th>22649</th>\n      <td>335738d8-9e46-42e8-847c-30ba6c9baaa4</td>\n      <td>raw</td>\n      <td>22649</td>\n      <td>main</td>\n      <td>2020-04-13 04:48:48.722240</td>\n      <td>122915</td>\n      <td>not_cash</td>\n    </tr>\n    <tr>\n      <th>22650</th>\n      <td>2fbfd28a-ff96-4363-b8e4-14096ab483b1</td>\n      <td>raw</td>\n      <td>22650</td>\n      <td>catalog</td>\n      <td>2020-04-13 04:48:53.163630</td>\n      <td>122915</td>\n      <td>not_cash</td>\n    </tr>\n    <tr>\n      <th>22651</th>\n      <td>6195e687-b6a3-46a4-a27f-31fff4b6ec1b</td>\n      <td>raw</td>\n      <td>22651</td>\n      <td>product1</td>\n      <td>2020-04-13 04:48:57.461080</td>\n      <td>122915</td>\n      <td>not_cash</td>\n    </tr>\n    <tr>\n      <th>22652</th>\n      <td>9af21ca9-711e-4a5f-a931-610ea46e32cc</td>\n      <td>raw</td>\n      <td>22652</td>\n      <td>catalog</td>\n      <td>2020-04-13 04:49:14.600710</td>\n      <td>122915</td>\n      <td>not_cash</td>\n    </tr>\n    <tr>\n      <th>22653</th>\n      <td>3fff122c-e149-4860-ad9e-84b50deacdb1</td>\n      <td>raw</td>\n      <td>22653</td>\n      <td>product2</td>\n      <td>2020-04-13 04:49:15.703455</td>\n      <td>122915</td>\n      <td>not_cash</td>\n    </tr>\n    <tr>\n      <th>22654</th>\n      <td>78b7634a-256b-45f2-9cb4-681c5b2d3504</td>\n      <td>raw</td>\n      <td>22654</td>\n      <td>catalog</td>\n      <td>2020-04-13 04:49:30.640668</td>\n      <td>122915</td>\n      <td>not_cash</td>\n    </tr>\n    <tr>\n      <th>22655</th>\n      <td>7b029b80-6bf7-4b61-ac20-580bf773d384</td>\n      <td>raw</td>\n      <td>22655</td>\n      <td>cart</td>\n      <td>2020-04-13 04:50:11.896964</td>\n      <td>122915</td>\n      <td>not_cash</td>\n    </tr>\n    <tr>\n      <th>22656</th>\n      <td>f9ce311a-401b-4130-a901-87be08d913ea</td>\n      <td>raw</td>\n      <td>22656</td>\n      <td>lost</td>\n      <td>2020-04-13 04:50:12.896964</td>\n      <td>122915</td>\n      <td>not_cash</td>\n    </tr>\n  </tbody>\n</table>\n</div>"
     },
     "execution_count": 12,
     "metadata": {},
     "output_type": "execute_result"
    }
   ],
   "source": [
    "source_df[source_df['user_id'] == 122915]"
   ],
   "metadata": {
    "collapsed": false,
    "pycharm": {
     "name": "#%%\n"
    }
   }
  },
  {
   "cell_type": "code",
   "execution_count": 13,
   "outputs": [
    {
     "data": {
      "text/plain": "True"
     },
     "execution_count": 13,
     "metadata": {},
     "output_type": "execute_result"
    }
   ],
   "source": [
    "(len(product_agg_df[product_agg_df['user_id'] == 122915]) ==\n",
    "len(source_df[source_df['user_id'] == 122915]))"
   ],
   "metadata": {
    "collapsed": false,
    "pycharm": {
     "name": "#%%\n"
    }
   }
  },
  {
   "cell_type": "code",
   "execution_count": 14,
   "outputs": [
    {
     "data": {
      "text/plain": "catalog     18\nmain         7\nproduct1     6\ncart         1\nlost         1\nName: event_name, dtype: int64"
     },
     "execution_count": 14,
     "metadata": {},
     "output_type": "execute_result"
    }
   ],
   "source": [
    "product_agg_df[product_agg_df['user_id'] == 122915]['event_name'].value_counts()"
   ],
   "metadata": {
    "collapsed": false,
    "pycharm": {
     "name": "#%%\n"
    }
   }
  },
  {
   "cell_type": "code",
   "execution_count": 15,
   "outputs": [
    {
     "data": {
      "text/plain": "catalog     18\nmain         7\nproduct1     4\nproduct2     2\ncart         1\nlost         1\nName: event_name, dtype: int64"
     },
     "execution_count": 15,
     "metadata": {},
     "output_type": "execute_result"
    }
   ],
   "source": [
    "source_df[source_df['user_id'] == 122915]['event_name'].value_counts()"
   ],
   "metadata": {
    "collapsed": false,
    "pycharm": {
     "name": "#%%\n"
    }
   }
  },
  {
   "cell_type": "code",
   "execution_count": 16,
   "outputs": [
    {
     "data": {
      "text/plain": "False"
     },
     "execution_count": 16,
     "metadata": {},
     "output_type": "execute_result"
    }
   ],
   "source": [
    "(source_df[source_df['event_name'].isin(['product1', 'product2'])]['event_name'].count() == product_agg_df[product_agg_df['event_name'].isin(['product'])]['event_name'].count())"
   ],
   "metadata": {
    "collapsed": false,
    "pycharm": {
     "name": "#%%\n"
    }
   }
  },
  {
   "cell_type": "code",
   "execution_count": 16,
   "outputs": [],
   "source": [],
   "metadata": {
    "collapsed": false,
    "pycharm": {
     "name": "#%%\n"
    }
   }
  },
  {
   "cell_type": "markdown",
   "source": [
    "## По 2 условиям из 2 колонок"
   ],
   "metadata": {
    "collapsed": false,
    "pycharm": {
     "name": "#%% md\n"
    }
   }
  },
  {
   "cell_type": "code",
   "execution_count": 17,
   "outputs": [],
   "source": [
    "# Объединим в группу product события product1 и product2\n",
    "\n",
    "def filter_(df, schema):\n",
    "    return ((df[schema.user_id].isin([122915])) |\n",
    "            (df.event_name.str.contains('product')))\n",
    "\n",
    "\n",
    "product_agg = EventsNode(\n",
    "    SimpleGroup(params=SimpleGroupParams(**{\n",
    "        'event_name': 'product',\n",
    "        'filter': filter_\n",
    "    }))\n",
    ")\n",
    "\n",
    "graph.add_node(\n",
    "    node=product_agg,\n",
    "    parents=[graph.root]\n",
    ")\n",
    "\n",
    "result = graph.combine(\n",
    "    node=product_agg\n",
    ")"
   ],
   "metadata": {
    "collapsed": false,
    "pycharm": {
     "name": "#%%\n"
    }
   }
  },
  {
   "cell_type": "code",
   "execution_count": 18,
   "outputs": [
    {
     "data": {
      "text/plain": "0        False\n1         True\n2        False\n3        False\n4        False\n         ...  \n35376    False\n35377    False\n35378    False\n35379    False\n35380    False\nName: event_name, Length: 35381, dtype: bool"
     },
     "execution_count": 18,
     "metadata": {},
     "output_type": "execute_result"
    }
   ],
   "source": [
    "source_df['event_name'].str.contains('product')"
   ],
   "metadata": {
    "collapsed": false,
    "pycharm": {
     "name": "#%%\n"
    }
   }
  },
  {
   "cell_type": "code",
   "execution_count": 19,
   "outputs": [
    {
     "data": {
      "text/plain": "0        False\n1        False\n2        False\n3        False\n4        False\n         ...  \n35376    False\n35377    False\n35378    False\n35379    False\n35380    False\nName: user_type, Length: 35381, dtype: bool"
     },
     "execution_count": 19,
     "metadata": {},
     "output_type": "execute_result"
    }
   ],
   "source": [
    "source_df['user_type'] == 'cash'"
   ],
   "metadata": {
    "collapsed": false,
    "pycharm": {
     "name": "#%%\n"
    }
   }
  },
  {
   "cell_type": "code",
   "execution_count": 20,
   "outputs": [
    {
     "data": {
      "text/plain": "                                   event_id   event_type  event_index  \\\n20596  c830491c-bd78-4e4e-b4fa-430bd81d9dc8  group_alias        20596   \n20598  f303b181-8ffb-4e75-9c2c-49bc1f4a2745  group_alias        20598   \n20600  20b821ce-9d64-4757-8846-a092ed947584  group_alias        20600   \n20602  bd64ef59-7748-48b5-a69a-272a90fb9fd7  group_alias        20602   \n20604  f9843374-8cf2-4bf3-8b29-45a0d80ddf38  group_alias        20604   \n20606  0d6c37e7-0eae-4a76-8d46-c5123b3b4058  group_alias        20606   \n20608  8aa2be81-205c-4c74-8946-43339488624f  group_alias        20608   \n20610  b2b0f158-2fac-430b-8809-161256846b1b  group_alias        20610   \n20612  c8e32b36-a966-41b1-b902-33343e9c0331  group_alias        20612   \n20614  c5367235-e913-4ace-ae9e-7f5b7de3f473  group_alias        20614   \n20616  e10e1dec-e5e4-4aa6-a7f7-aa5628bcef3c  group_alias        20616   \n20620  b5d476ae-7129-4a0d-a579-ba770ec8527b  group_alias        20620   \n20623  38b20a76-36b9-433f-be9f-30d14762a89c  group_alias        20623   \n20625  0fef2cbe-f989-4c19-a73b-6ee720b55bc6  group_alias        20625   \n20627  59bfca58-2115-4115-a002-4b833bd108a5  group_alias        20627   \n20629  c62ca17d-5e6a-4622-851a-12869e5d1171  group_alias        20629   \n20631  3b22fd94-e13a-4270-9d7b-104f7261f400  group_alias        20631   \n20633  161d8b6c-801b-45f5-b2ad-688fec1eebb0  group_alias        20633   \n20635  b565fc82-d982-4542-8497-2383334b56c2  group_alias        20635   \n20637  b3d19cba-4e93-4dcd-95c7-dbebdbe7d8ac  group_alias        20637   \n20639  4bb2a02b-3cbe-458a-90ff-7ff3c67dfdd4  group_alias        20639   \n20641  7cb74496-6acc-413e-abdb-7a72498b56a9  group_alias        20641   \n20643  02c68f0b-e579-4807-906d-e9f524a1040e  group_alias        20643   \n20645  47e7297a-1f21-4af9-9d04-e60e243ac710  group_alias        20645   \n20647  2c2ccea5-359e-4843-9653-f7809efb7983  group_alias        20647   \n25032  884237b2-94bb-4520-b786-ad9df5550c48  group_alias        25032   \n25034  ac976d9e-05b6-47ed-beb9-a2f218b3e8c6  group_alias        25034   \n25036  df209ecc-fcb1-4461-9ec4-891879d77ac7  group_alias        25036   \n25038  2d9971a9-1cfd-482c-bed1-12ff39da7b13  group_alias        25038   \n25040  d45e51b4-045e-43f2-86cc-e50b60c67788  group_alias        25040   \n25042  b1974737-652b-485e-84c9-253ef6ed43bf  group_alias        25042   \n25044  1cea286f-a3f9-4710-93ce-56eb4c107972  group_alias        25044   \n25046  b187b27c-7596-48d3-91ab-3314ccfce020  group_alias        25046   \n\n      event_name            event_timestamp   user_id user_type  \n20596    product 2020-04-07 03:27:32.806542  122915.0  not_cash  \n20598    product 2020-04-07 03:27:49.914239  122915.0  not_cash  \n20600    product 2020-04-07 03:27:57.320839  122915.0  not_cash  \n20602    product 2020-04-07 03:28:00.580589  122915.0  not_cash  \n20604    product 2020-04-07 03:28:01.815559  122915.0  not_cash  \n20606    product 2020-04-07 03:28:45.697560  122915.0  not_cash  \n20608    product 2020-04-07 03:29:04.983348  122915.0  not_cash  \n20610    product 2020-04-07 03:29:44.892554  122915.0  not_cash  \n20612    product 2020-04-07 03:30:28.058167  122915.0  not_cash  \n20614    product 2020-04-07 03:30:58.013806  122915.0  not_cash  \n20616    product 2020-04-07 03:31:00.362128  122915.0  not_cash  \n20620    product 2020-04-07 03:31:31.961962  122915.0  not_cash  \n20623    product 2020-04-07 03:31:47.521356  122915.0  not_cash  \n20625    product 2020-04-07 03:31:48.584153  122915.0  not_cash  \n20627    product 2020-04-07 03:32:07.520619  122915.0  not_cash  \n20629    product 2020-04-07 03:32:11.464439  122915.0  not_cash  \n20631    product 2020-04-07 03:32:17.947379  122915.0  not_cash  \n20633    product 2020-04-07 03:32:30.365254  122915.0  not_cash  \n20635    product 2020-04-07 03:32:56.330660  122915.0  not_cash  \n20637    product 2020-04-07 03:32:57.470668  122915.0  not_cash  \n20639    product 2020-04-07 03:33:23.211429  122915.0  not_cash  \n20641    product 2020-04-07 03:33:33.316584  122915.0  not_cash  \n20643    product 2020-04-07 03:33:52.115426  122915.0  not_cash  \n20645    product 2020-04-07 03:34:31.829710  122915.0  not_cash  \n20647    product 2020-04-07 03:34:36.437043  122915.0  not_cash  \n25032    product 2020-04-13 04:48:48.722240  122915.0  not_cash  \n25034    product 2020-04-13 04:48:53.163630  122915.0  not_cash  \n25036    product 2020-04-13 04:48:57.461080  122915.0  not_cash  \n25038    product 2020-04-13 04:49:14.600710  122915.0  not_cash  \n25040    product 2020-04-13 04:49:15.703455  122915.0  not_cash  \n25042    product 2020-04-13 04:49:30.640668  122915.0  not_cash  \n25044    product 2020-04-13 04:50:11.896964  122915.0  not_cash  \n25046    product 2020-04-13 04:50:12.896964  122915.0  not_cash  ",
      "text/html": "<div>\n<style scoped>\n    .dataframe tbody tr th:only-of-type {\n        vertical-align: middle;\n    }\n\n    .dataframe tbody tr th {\n        vertical-align: top;\n    }\n\n    .dataframe thead th {\n        text-align: right;\n    }\n</style>\n<table border=\"1\" class=\"dataframe\">\n  <thead>\n    <tr style=\"text-align: right;\">\n      <th></th>\n      <th>event_id</th>\n      <th>event_type</th>\n      <th>event_index</th>\n      <th>event_name</th>\n      <th>event_timestamp</th>\n      <th>user_id</th>\n      <th>user_type</th>\n    </tr>\n  </thead>\n  <tbody>\n    <tr>\n      <th>20596</th>\n      <td>c830491c-bd78-4e4e-b4fa-430bd81d9dc8</td>\n      <td>group_alias</td>\n      <td>20596</td>\n      <td>product</td>\n      <td>2020-04-07 03:27:32.806542</td>\n      <td>122915.0</td>\n      <td>not_cash</td>\n    </tr>\n    <tr>\n      <th>20598</th>\n      <td>f303b181-8ffb-4e75-9c2c-49bc1f4a2745</td>\n      <td>group_alias</td>\n      <td>20598</td>\n      <td>product</td>\n      <td>2020-04-07 03:27:49.914239</td>\n      <td>122915.0</td>\n      <td>not_cash</td>\n    </tr>\n    <tr>\n      <th>20600</th>\n      <td>20b821ce-9d64-4757-8846-a092ed947584</td>\n      <td>group_alias</td>\n      <td>20600</td>\n      <td>product</td>\n      <td>2020-04-07 03:27:57.320839</td>\n      <td>122915.0</td>\n      <td>not_cash</td>\n    </tr>\n    <tr>\n      <th>20602</th>\n      <td>bd64ef59-7748-48b5-a69a-272a90fb9fd7</td>\n      <td>group_alias</td>\n      <td>20602</td>\n      <td>product</td>\n      <td>2020-04-07 03:28:00.580589</td>\n      <td>122915.0</td>\n      <td>not_cash</td>\n    </tr>\n    <tr>\n      <th>20604</th>\n      <td>f9843374-8cf2-4bf3-8b29-45a0d80ddf38</td>\n      <td>group_alias</td>\n      <td>20604</td>\n      <td>product</td>\n      <td>2020-04-07 03:28:01.815559</td>\n      <td>122915.0</td>\n      <td>not_cash</td>\n    </tr>\n    <tr>\n      <th>20606</th>\n      <td>0d6c37e7-0eae-4a76-8d46-c5123b3b4058</td>\n      <td>group_alias</td>\n      <td>20606</td>\n      <td>product</td>\n      <td>2020-04-07 03:28:45.697560</td>\n      <td>122915.0</td>\n      <td>not_cash</td>\n    </tr>\n    <tr>\n      <th>20608</th>\n      <td>8aa2be81-205c-4c74-8946-43339488624f</td>\n      <td>group_alias</td>\n      <td>20608</td>\n      <td>product</td>\n      <td>2020-04-07 03:29:04.983348</td>\n      <td>122915.0</td>\n      <td>not_cash</td>\n    </tr>\n    <tr>\n      <th>20610</th>\n      <td>b2b0f158-2fac-430b-8809-161256846b1b</td>\n      <td>group_alias</td>\n      <td>20610</td>\n      <td>product</td>\n      <td>2020-04-07 03:29:44.892554</td>\n      <td>122915.0</td>\n      <td>not_cash</td>\n    </tr>\n    <tr>\n      <th>20612</th>\n      <td>c8e32b36-a966-41b1-b902-33343e9c0331</td>\n      <td>group_alias</td>\n      <td>20612</td>\n      <td>product</td>\n      <td>2020-04-07 03:30:28.058167</td>\n      <td>122915.0</td>\n      <td>not_cash</td>\n    </tr>\n    <tr>\n      <th>20614</th>\n      <td>c5367235-e913-4ace-ae9e-7f5b7de3f473</td>\n      <td>group_alias</td>\n      <td>20614</td>\n      <td>product</td>\n      <td>2020-04-07 03:30:58.013806</td>\n      <td>122915.0</td>\n      <td>not_cash</td>\n    </tr>\n    <tr>\n      <th>20616</th>\n      <td>e10e1dec-e5e4-4aa6-a7f7-aa5628bcef3c</td>\n      <td>group_alias</td>\n      <td>20616</td>\n      <td>product</td>\n      <td>2020-04-07 03:31:00.362128</td>\n      <td>122915.0</td>\n      <td>not_cash</td>\n    </tr>\n    <tr>\n      <th>20620</th>\n      <td>b5d476ae-7129-4a0d-a579-ba770ec8527b</td>\n      <td>group_alias</td>\n      <td>20620</td>\n      <td>product</td>\n      <td>2020-04-07 03:31:31.961962</td>\n      <td>122915.0</td>\n      <td>not_cash</td>\n    </tr>\n    <tr>\n      <th>20623</th>\n      <td>38b20a76-36b9-433f-be9f-30d14762a89c</td>\n      <td>group_alias</td>\n      <td>20623</td>\n      <td>product</td>\n      <td>2020-04-07 03:31:47.521356</td>\n      <td>122915.0</td>\n      <td>not_cash</td>\n    </tr>\n    <tr>\n      <th>20625</th>\n      <td>0fef2cbe-f989-4c19-a73b-6ee720b55bc6</td>\n      <td>group_alias</td>\n      <td>20625</td>\n      <td>product</td>\n      <td>2020-04-07 03:31:48.584153</td>\n      <td>122915.0</td>\n      <td>not_cash</td>\n    </tr>\n    <tr>\n      <th>20627</th>\n      <td>59bfca58-2115-4115-a002-4b833bd108a5</td>\n      <td>group_alias</td>\n      <td>20627</td>\n      <td>product</td>\n      <td>2020-04-07 03:32:07.520619</td>\n      <td>122915.0</td>\n      <td>not_cash</td>\n    </tr>\n    <tr>\n      <th>20629</th>\n      <td>c62ca17d-5e6a-4622-851a-12869e5d1171</td>\n      <td>group_alias</td>\n      <td>20629</td>\n      <td>product</td>\n      <td>2020-04-07 03:32:11.464439</td>\n      <td>122915.0</td>\n      <td>not_cash</td>\n    </tr>\n    <tr>\n      <th>20631</th>\n      <td>3b22fd94-e13a-4270-9d7b-104f7261f400</td>\n      <td>group_alias</td>\n      <td>20631</td>\n      <td>product</td>\n      <td>2020-04-07 03:32:17.947379</td>\n      <td>122915.0</td>\n      <td>not_cash</td>\n    </tr>\n    <tr>\n      <th>20633</th>\n      <td>161d8b6c-801b-45f5-b2ad-688fec1eebb0</td>\n      <td>group_alias</td>\n      <td>20633</td>\n      <td>product</td>\n      <td>2020-04-07 03:32:30.365254</td>\n      <td>122915.0</td>\n      <td>not_cash</td>\n    </tr>\n    <tr>\n      <th>20635</th>\n      <td>b565fc82-d982-4542-8497-2383334b56c2</td>\n      <td>group_alias</td>\n      <td>20635</td>\n      <td>product</td>\n      <td>2020-04-07 03:32:56.330660</td>\n      <td>122915.0</td>\n      <td>not_cash</td>\n    </tr>\n    <tr>\n      <th>20637</th>\n      <td>b3d19cba-4e93-4dcd-95c7-dbebdbe7d8ac</td>\n      <td>group_alias</td>\n      <td>20637</td>\n      <td>product</td>\n      <td>2020-04-07 03:32:57.470668</td>\n      <td>122915.0</td>\n      <td>not_cash</td>\n    </tr>\n    <tr>\n      <th>20639</th>\n      <td>4bb2a02b-3cbe-458a-90ff-7ff3c67dfdd4</td>\n      <td>group_alias</td>\n      <td>20639</td>\n      <td>product</td>\n      <td>2020-04-07 03:33:23.211429</td>\n      <td>122915.0</td>\n      <td>not_cash</td>\n    </tr>\n    <tr>\n      <th>20641</th>\n      <td>7cb74496-6acc-413e-abdb-7a72498b56a9</td>\n      <td>group_alias</td>\n      <td>20641</td>\n      <td>product</td>\n      <td>2020-04-07 03:33:33.316584</td>\n      <td>122915.0</td>\n      <td>not_cash</td>\n    </tr>\n    <tr>\n      <th>20643</th>\n      <td>02c68f0b-e579-4807-906d-e9f524a1040e</td>\n      <td>group_alias</td>\n      <td>20643</td>\n      <td>product</td>\n      <td>2020-04-07 03:33:52.115426</td>\n      <td>122915.0</td>\n      <td>not_cash</td>\n    </tr>\n    <tr>\n      <th>20645</th>\n      <td>47e7297a-1f21-4af9-9d04-e60e243ac710</td>\n      <td>group_alias</td>\n      <td>20645</td>\n      <td>product</td>\n      <td>2020-04-07 03:34:31.829710</td>\n      <td>122915.0</td>\n      <td>not_cash</td>\n    </tr>\n    <tr>\n      <th>20647</th>\n      <td>2c2ccea5-359e-4843-9653-f7809efb7983</td>\n      <td>group_alias</td>\n      <td>20647</td>\n      <td>product</td>\n      <td>2020-04-07 03:34:36.437043</td>\n      <td>122915.0</td>\n      <td>not_cash</td>\n    </tr>\n    <tr>\n      <th>25032</th>\n      <td>884237b2-94bb-4520-b786-ad9df5550c48</td>\n      <td>group_alias</td>\n      <td>25032</td>\n      <td>product</td>\n      <td>2020-04-13 04:48:48.722240</td>\n      <td>122915.0</td>\n      <td>not_cash</td>\n    </tr>\n    <tr>\n      <th>25034</th>\n      <td>ac976d9e-05b6-47ed-beb9-a2f218b3e8c6</td>\n      <td>group_alias</td>\n      <td>25034</td>\n      <td>product</td>\n      <td>2020-04-13 04:48:53.163630</td>\n      <td>122915.0</td>\n      <td>not_cash</td>\n    </tr>\n    <tr>\n      <th>25036</th>\n      <td>df209ecc-fcb1-4461-9ec4-891879d77ac7</td>\n      <td>group_alias</td>\n      <td>25036</td>\n      <td>product</td>\n      <td>2020-04-13 04:48:57.461080</td>\n      <td>122915.0</td>\n      <td>not_cash</td>\n    </tr>\n    <tr>\n      <th>25038</th>\n      <td>2d9971a9-1cfd-482c-bed1-12ff39da7b13</td>\n      <td>group_alias</td>\n      <td>25038</td>\n      <td>product</td>\n      <td>2020-04-13 04:49:14.600710</td>\n      <td>122915.0</td>\n      <td>not_cash</td>\n    </tr>\n    <tr>\n      <th>25040</th>\n      <td>d45e51b4-045e-43f2-86cc-e50b60c67788</td>\n      <td>group_alias</td>\n      <td>25040</td>\n      <td>product</td>\n      <td>2020-04-13 04:49:15.703455</td>\n      <td>122915.0</td>\n      <td>not_cash</td>\n    </tr>\n    <tr>\n      <th>25042</th>\n      <td>b1974737-652b-485e-84c9-253ef6ed43bf</td>\n      <td>group_alias</td>\n      <td>25042</td>\n      <td>product</td>\n      <td>2020-04-13 04:49:30.640668</td>\n      <td>122915.0</td>\n      <td>not_cash</td>\n    </tr>\n    <tr>\n      <th>25044</th>\n      <td>1cea286f-a3f9-4710-93ce-56eb4c107972</td>\n      <td>group_alias</td>\n      <td>25044</td>\n      <td>product</td>\n      <td>2020-04-13 04:50:11.896964</td>\n      <td>122915.0</td>\n      <td>not_cash</td>\n    </tr>\n    <tr>\n      <th>25046</th>\n      <td>b187b27c-7596-48d3-91ab-3314ccfce020</td>\n      <td>group_alias</td>\n      <td>25046</td>\n      <td>product</td>\n      <td>2020-04-13 04:50:12.896964</td>\n      <td>122915.0</td>\n      <td>not_cash</td>\n    </tr>\n  </tbody>\n</table>\n</div>"
     },
     "execution_count": 20,
     "metadata": {},
     "output_type": "execute_result"
    }
   ],
   "source": [
    "result.to_dataframe()[result.to_dataframe()['user_id'] == 122915]"
   ],
   "metadata": {
    "collapsed": false,
    "pycharm": {
     "name": "#%%\n"
    }
   }
  },
  {
   "cell_type": "code",
   "execution_count": 21,
   "outputs": [
    {
     "data": {
      "text/plain": "catalog             14500\nmain                 5628\nproduct              3714\nlost                 3097\ncart                 2841\ndelivery_choice      1686\npayment_choice       1107\ndelivery_courier      834\npayment_done          706\npayment_card          565\ndelivery_pickup       506\npayment_cash          197\nName: event_name, dtype: int64"
     },
     "execution_count": 21,
     "metadata": {},
     "output_type": "execute_result"
    }
   ],
   "source": [
    "result.to_dataframe()['event_name'].value_counts()"
   ],
   "metadata": {
    "collapsed": false,
    "pycharm": {
     "name": "#%%\n"
    }
   }
  },
  {
   "cell_type": "markdown",
   "source": [
    "# Delete"
   ],
   "metadata": {
    "collapsed": false,
    "pycharm": {
     "name": "#%% md\n"
    }
   }
  },
  {
   "cell_type": "markdown",
   "source": [
    "## Описание работы функции"
   ],
   "metadata": {
    "collapsed": false,
    "pycharm": {
     "name": "#%% md\n"
    }
   }
  },
  {
   "cell_type": "markdown",
   "source": [
    "Датапроцессор фильрует события по заданному условию (проставляет метку delete=True)\n",
    "\n",
    "Параметры:\n",
    "```filter: EventstreamFilter```\n",
    "EventstreamFilter = Callable[[DataFrame, EventstreamSchema], Any]\n",
    "Кастомная функция, в которую передается датафрейм, схема и на выходе она дает маску (условие) для текущего eventstream.\n",
    "Событие для которых условие = True -- > отфильтровываются\n"
   ],
   "metadata": {
    "collapsed": false,
    "pycharm": {
     "name": "#%% md\n"
    }
   }
  },
  {
   "cell_type": "code",
   "execution_count": 22,
   "outputs": [],
   "source": [
    "from src.data_processors_lib.simple_processors import DeleteEvents, DeleteEventsParams\n",
    "\n",
    "def filter_1(df, schema):\n",
    "    return (df['event_name'] == 'lost')\n",
    "\n",
    "delete_lost = EventsNode(DeleteEvents(\n",
    "                    params=DeleteEventsParams(filter=filter_1)))\n",
    "\n",
    "graph.add_node(\n",
    "    node=delete_lost,\n",
    "    parents=[product_agg]\n",
    ")\n",
    "\n",
    "result = graph.combine(\n",
    "    node=delete_lost\n",
    ")"
   ],
   "metadata": {
    "collapsed": false,
    "pycharm": {
     "name": "#%%\n"
    }
   }
  },
  {
   "cell_type": "code",
   "execution_count": 23,
   "outputs": [
    {
     "data": {
      "text/plain": "catalog             14500\nmain                 5628\nproduct              3714\ncart                 2841\ndelivery_choice      1686\npayment_choice       1107\ndelivery_courier      834\npayment_done          706\npayment_card          565\ndelivery_pickup       506\npayment_cash          197\nName: event_name, dtype: int64"
     },
     "execution_count": 23,
     "metadata": {},
     "output_type": "execute_result"
    }
   ],
   "source": [
    "result.to_dataframe()['event_name'].value_counts()"
   ],
   "metadata": {
    "collapsed": false,
    "pycharm": {
     "name": "#%%\n"
    }
   }
  },
  {
   "cell_type": "markdown",
   "source": [
    "Удалились события lost"
   ],
   "metadata": {
    "collapsed": false,
    "pycharm": {
     "name": "#%% md\n"
    }
   }
  },
  {
   "cell_type": "code",
   "execution_count": 24,
   "outputs": [
    {
     "data": {
      "text/plain": "                                   event_id   event_type  event_index  \\\n0      1e7ea0f9-c14d-47ba-a370-5e8a3083ce78          raw            0   \n1      8ad381d3-24c0-4592-96be-45387aeb0c7f  group_alias            1   \n3      6ce87735-cd86-4c85-93e6-ed39cc47dbed          raw            3   \n4      8da4434d-9bec-430b-b526-094350627686          raw            4   \n5      3406b9ac-b298-4369-a8c2-9978338d6899          raw            5   \n...                                     ...          ...          ...   \n42185  3cd4acba-3c4c-4302-9ad8-712c6ca4484b          raw        42185   \n42186  f60a3996-5b3d-412e-99a6-620d503c0b5f          raw        42186   \n42187  6e0d4cdb-c8ba-42a4-be84-440563b9ef51          raw        42187   \n42188  6a931876-6dba-4f9e-b06d-97087bbc0c05          raw        42188   \n42189  cc948d97-8d86-4231-8e25-5d34f1e48e1d          raw        42189   \n\n      event_name            event_timestamp      user_id user_type  \n0        catalog 2019-11-01 17:59:13.273932  219483890.0  not_cash  \n1        product 2019-11-01 17:59:28.459271  219483890.0  not_cash  \n3           cart 2019-11-01 17:59:29.502214  219483890.0  not_cash  \n4        catalog 2019-11-01 17:59:32.557029  219483890.0  not_cash  \n5        catalog 2019-11-01 21:38:19.283663  964964743.0  not_cash  \n...          ...                        ...          ...       ...  \n42185       main 2020-04-29 12:47:39.956925  501098384.0  not_cash  \n42186    catalog 2020-04-29 12:47:40.975732  501098384.0  not_cash  \n42187    catalog 2020-04-29 12:48:01.809577  501098384.0  not_cash  \n42188       main 2020-04-29 12:48:01.938488  501098384.0  not_cash  \n42189    catalog 2020-04-29 12:48:06.595390  501098384.0  not_cash  \n\n[32284 rows x 7 columns]",
      "text/html": "<div>\n<style scoped>\n    .dataframe tbody tr th:only-of-type {\n        vertical-align: middle;\n    }\n\n    .dataframe tbody tr th {\n        vertical-align: top;\n    }\n\n    .dataframe thead th {\n        text-align: right;\n    }\n</style>\n<table border=\"1\" class=\"dataframe\">\n  <thead>\n    <tr style=\"text-align: right;\">\n      <th></th>\n      <th>event_id</th>\n      <th>event_type</th>\n      <th>event_index</th>\n      <th>event_name</th>\n      <th>event_timestamp</th>\n      <th>user_id</th>\n      <th>user_type</th>\n    </tr>\n  </thead>\n  <tbody>\n    <tr>\n      <th>0</th>\n      <td>1e7ea0f9-c14d-47ba-a370-5e8a3083ce78</td>\n      <td>raw</td>\n      <td>0</td>\n      <td>catalog</td>\n      <td>2019-11-01 17:59:13.273932</td>\n      <td>219483890.0</td>\n      <td>not_cash</td>\n    </tr>\n    <tr>\n      <th>1</th>\n      <td>8ad381d3-24c0-4592-96be-45387aeb0c7f</td>\n      <td>group_alias</td>\n      <td>1</td>\n      <td>product</td>\n      <td>2019-11-01 17:59:28.459271</td>\n      <td>219483890.0</td>\n      <td>not_cash</td>\n    </tr>\n    <tr>\n      <th>3</th>\n      <td>6ce87735-cd86-4c85-93e6-ed39cc47dbed</td>\n      <td>raw</td>\n      <td>3</td>\n      <td>cart</td>\n      <td>2019-11-01 17:59:29.502214</td>\n      <td>219483890.0</td>\n      <td>not_cash</td>\n    </tr>\n    <tr>\n      <th>4</th>\n      <td>8da4434d-9bec-430b-b526-094350627686</td>\n      <td>raw</td>\n      <td>4</td>\n      <td>catalog</td>\n      <td>2019-11-01 17:59:32.557029</td>\n      <td>219483890.0</td>\n      <td>not_cash</td>\n    </tr>\n    <tr>\n      <th>5</th>\n      <td>3406b9ac-b298-4369-a8c2-9978338d6899</td>\n      <td>raw</td>\n      <td>5</td>\n      <td>catalog</td>\n      <td>2019-11-01 21:38:19.283663</td>\n      <td>964964743.0</td>\n      <td>not_cash</td>\n    </tr>\n    <tr>\n      <th>...</th>\n      <td>...</td>\n      <td>...</td>\n      <td>...</td>\n      <td>...</td>\n      <td>...</td>\n      <td>...</td>\n      <td>...</td>\n    </tr>\n    <tr>\n      <th>42185</th>\n      <td>3cd4acba-3c4c-4302-9ad8-712c6ca4484b</td>\n      <td>raw</td>\n      <td>42185</td>\n      <td>main</td>\n      <td>2020-04-29 12:47:39.956925</td>\n      <td>501098384.0</td>\n      <td>not_cash</td>\n    </tr>\n    <tr>\n      <th>42186</th>\n      <td>f60a3996-5b3d-412e-99a6-620d503c0b5f</td>\n      <td>raw</td>\n      <td>42186</td>\n      <td>catalog</td>\n      <td>2020-04-29 12:47:40.975732</td>\n      <td>501098384.0</td>\n      <td>not_cash</td>\n    </tr>\n    <tr>\n      <th>42187</th>\n      <td>6e0d4cdb-c8ba-42a4-be84-440563b9ef51</td>\n      <td>raw</td>\n      <td>42187</td>\n      <td>catalog</td>\n      <td>2020-04-29 12:48:01.809577</td>\n      <td>501098384.0</td>\n      <td>not_cash</td>\n    </tr>\n    <tr>\n      <th>42188</th>\n      <td>6a931876-6dba-4f9e-b06d-97087bbc0c05</td>\n      <td>raw</td>\n      <td>42188</td>\n      <td>main</td>\n      <td>2020-04-29 12:48:01.938488</td>\n      <td>501098384.0</td>\n      <td>not_cash</td>\n    </tr>\n    <tr>\n      <th>42189</th>\n      <td>cc948d97-8d86-4231-8e25-5d34f1e48e1d</td>\n      <td>raw</td>\n      <td>42189</td>\n      <td>catalog</td>\n      <td>2020-04-29 12:48:06.595390</td>\n      <td>501098384.0</td>\n      <td>not_cash</td>\n    </tr>\n  </tbody>\n</table>\n<p>32284 rows × 7 columns</p>\n</div>"
     },
     "execution_count": 24,
     "metadata": {},
     "output_type": "execute_result"
    }
   ],
   "source": [
    "result.to_dataframe()"
   ],
   "metadata": {
    "collapsed": false,
    "pycharm": {
     "name": "#%%\n"
    }
   }
  },
  {
   "cell_type": "markdown",
   "source": [
    "# Последовательное применение нод"
   ],
   "metadata": {
    "collapsed": false,
    "pycharm": {
     "name": "#%% md\n"
    }
   }
  },
  {
   "cell_type": "code",
   "execution_count": 25,
   "outputs": [],
   "source": [
    "# Объединим в группу delivery события:\n",
    "# delivery_choice, delivery_courier, delivery_pickup\n",
    "\n",
    "def filter_delivery(df, schema):\n",
    "    return ((df['user_type'] == 'cash') |\n",
    "            (df['event_name'].str.contains('delivery')))\n",
    "\n",
    "\n",
    "delivery_agg = EventsNode(\n",
    "    SimpleGroup(params=SimpleGroupParams(**{\n",
    "        'event_name': 'delivery',\n",
    "        'filter': filter_delivery\n",
    "    })))\n",
    "\n",
    "graph.add_node(\n",
    "    node=delivery_agg,\n",
    "    parents=[delete_lost]\n",
    ")\n",
    "\n",
    "result = graph.combine(\n",
    "    node=delivery_agg\n",
    ")"
   ],
   "metadata": {
    "collapsed": false,
    "pycharm": {
     "name": "#%%\n"
    }
   }
  },
  {
   "cell_type": "code",
   "execution_count": 26,
   "outputs": [],
   "source": [
    "df_res = result.to_dataframe()"
   ],
   "metadata": {
    "collapsed": false,
    "pycharm": {
     "name": "#%%\n"
    }
   }
  },
  {
   "cell_type": "code",
   "execution_count": 27,
   "outputs": [
    {
     "data": {
      "text/plain": "catalog           12911\ndelivery           6757\nmain               4939\nproduct            3267\ncart               2452\npayment_choice      854\npayment_done        571\npayment_card        533\nName: event_name, dtype: int64"
     },
     "execution_count": 27,
     "metadata": {},
     "output_type": "execute_result"
    }
   ],
   "source": [
    "df_res['event_name'].value_counts()"
   ],
   "metadata": {
    "collapsed": false,
    "pycharm": {
     "name": "#%%\n"
    }
   }
  },
  {
   "cell_type": "code",
   "execution_count": 28,
   "outputs": [
    {
     "data": {
      "text/plain": "6834"
     },
     "execution_count": 28,
     "metadata": {},
     "output_type": "execute_result"
    }
   ],
   "source": [
    "len(source_df[(source_df['user_type'] == 'cash') |\n",
    "            (source_df['event_name'].str.contains('delivery'))])"
   ],
   "metadata": {
    "collapsed": false,
    "pycharm": {
     "name": "#%%\n"
    }
   }
  },
  {
   "cell_type": "code",
   "execution_count": 29,
   "outputs": [
    {
     "data": {
      "text/plain": "catalog             14518\nmain                 5635\nlost                 3098\ncart                 2842\nproduct2             2172\ndelivery_choice      1686\nproduct1             1515\npayment_choice       1107\ndelivery_courier      834\npayment_done          706\npayment_card          565\ndelivery_pickup       506\npayment_cash          197\nName: event_name, dtype: int64"
     },
     "execution_count": 29,
     "metadata": {},
     "output_type": "execute_result"
    }
   ],
   "source": [
    "source_df['event_name'].value_counts()"
   ],
   "metadata": {
    "collapsed": false,
    "pycharm": {
     "name": "#%%\n"
    }
   }
  },
  {
   "cell_type": "code",
   "execution_count": 30,
   "outputs": [
    {
     "data": {
      "text/plain": "(32284, 32284)"
     },
     "execution_count": 30,
     "metadata": {},
     "output_type": "execute_result"
    }
   ],
   "source": [
    "len(df_res), \\\n",
    "len(source_df[(source_df['event_name'] != 'lost')|((source_df['event_name'] == 'lost')\n",
    "    & (source_df['user_id'] == 122915)\n",
    "                                            )\n",
    "    ]\n",
    ")"
   ],
   "metadata": {
    "collapsed": false,
    "pycharm": {
     "name": "#%%\n"
    }
   }
  },
  {
   "cell_type": "markdown",
   "source": [
    "# check change sorting"
   ],
   "metadata": {
    "collapsed": false,
    "pycharm": {
     "name": "#%% md\n"
    }
   }
  },
  {
   "cell_type": "code",
   "execution_count": 34,
   "outputs": [],
   "source": [
    "new_list = source.index_order.copy()"
   ],
   "metadata": {
    "collapsed": false,
    "pycharm": {
     "name": "#%%\n"
    }
   }
  },
  {
   "cell_type": "code",
   "execution_count": 35,
   "outputs": [
    {
     "data": {
      "text/plain": "['profile',\n 'start',\n 'new_user',\n 'resume',\n 'truncated_left',\n 'session_start',\n 'group_alias',\n 'raw',\n 'raw_sleep',\n None,\n 'synthetic',\n 'synthetic_sleep',\n 'positive_target',\n 'negative_target',\n 'session_end',\n 'session_sleep',\n 'truncated_right',\n 'pause',\n 'lost',\n 'end']"
     },
     "execution_count": 35,
     "metadata": {},
     "output_type": "execute_result"
    }
   ],
   "source": [
    "new_list"
   ],
   "metadata": {
    "collapsed": false,
    "pycharm": {
     "name": "#%%\n"
    }
   }
  },
  {
   "cell_type": "code",
   "execution_count": 36,
   "outputs": [],
   "source": [
    "new_list.insert(5, 'lalala')"
   ],
   "metadata": {
    "collapsed": false,
    "pycharm": {
     "name": "#%%\n"
    }
   }
  },
  {
   "cell_type": "code",
   "execution_count": 37,
   "outputs": [
    {
     "data": {
      "text/plain": "['profile',\n 'start',\n 'new_user',\n 'resume',\n 'truncated_left',\n 'lalala',\n 'session_start',\n 'group_alias',\n 'raw',\n 'raw_sleep',\n None,\n 'synthetic',\n 'synthetic_sleep',\n 'positive_target',\n 'negative_target',\n 'session_end',\n 'session_sleep',\n 'truncated_right',\n 'pause',\n 'lost',\n 'end']"
     },
     "execution_count": 37,
     "metadata": {},
     "output_type": "execute_result"
    }
   ],
   "source": [
    "new_list"
   ],
   "metadata": {
    "collapsed": false,
    "pycharm": {
     "name": "#%%\n"
    }
   }
  },
  {
   "cell_type": "markdown",
   "source": [
    "# Результаты тестирования"
   ],
   "metadata": {
    "collapsed": false,
    "pycharm": {
     "name": "#%% md\n"
    }
   }
  },
  {
   "cell_type": "markdown",
   "source": [
    "<b>Grouping\n",
    "\n",
    "1) Зачем мы передаем параметр \"schema\" в функцию фильтра?\n",
    "2) [TODO] Если мы можем задать кастомный тип события - то как оно отсортируется? - по идее в любом месте до комбайна нам надо изменить сортировку в классе + как этот кейс надо решать с визуальным графом?\n",
    "\n",
    "\n",
    "<b>Delete\n",
    "\n",
    "1) [TO_Discuss] Надо подумать про переименование в Filter или что-то в этом роде, тогда не нужно отдельного\n",
    "датапроцессора для фильтрации\n",
    "\n",
    "<b>Общее\n",
    "\n",
    "1) [TO_Discuss] Хорошо бы иметь метод, который выводит граф от текущей вершины (последовательность нод)\n",
    "2) [TODO_analytics] Потестить сортировку, если порядок меняется где-то посередине\n",
    "3)"
   ],
   "metadata": {
    "collapsed": false,
    "pycharm": {
     "name": "#%% md\n"
    }
   }
  },
  {
   "cell_type": "markdown",
   "source": [
    "\n"
   ],
   "metadata": {
    "collapsed": false,
    "pycharm": {
     "name": "#%% md\n"
    }
   }
  }
 ],
 "metadata": {
  "kernelspec": {
   "display_name": "Python 3",
   "language": "python",
   "name": "python3"
  },
  "language_info": {
   "codemirror_mode": {
    "name": "ipython",
    "version": 2
   },
   "file_extension": ".py",
   "mimetype": "text/x-python",
   "name": "python",
   "nbconvert_exporter": "python",
   "pygments_lexer": "ipython2",
   "version": "2.7.6"
  }
 },
 "nbformat": 4,
 "nbformat_minor": 0
}