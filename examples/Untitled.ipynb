{
 "cells": [
  {
   "cell_type": "code",
   "execution_count": 1,
   "id": "421ba1c9",
   "metadata": {},
   "outputs": [],
   "source": [
    "import sys\n",
    "sys.path.insert(0, '..')"
   ]
  },
  {
   "cell_type": "code",
   "execution_count": 2,
   "id": "d98e14a7",
   "metadata": {},
   "outputs": [
    {
     "data": {
      "text/html": [
       "<div>\n",
       "<style scoped>\n",
       "    .dataframe tbody tr th:only-of-type {\n",
       "        vertical-align: middle;\n",
       "    }\n",
       "\n",
       "    .dataframe tbody tr th {\n",
       "        vertical-align: top;\n",
       "    }\n",
       "\n",
       "    .dataframe thead th {\n",
       "        text-align: right;\n",
       "    }\n",
       "</style>\n",
       "<table border=\"1\" class=\"dataframe\">\n",
       "  <thead>\n",
       "    <tr style=\"text-align: right;\">\n",
       "      <th></th>\n",
       "      <th>event</th>\n",
       "      <th>timestamp</th>\n",
       "      <th>user_id</th>\n",
       "    </tr>\n",
       "  </thead>\n",
       "  <tbody>\n",
       "  </tbody>\n",
       "</table>\n",
       "</div>"
      ],
      "text/plain": [
       "Empty DataFrame\n",
       "Columns: [event, timestamp, user_id]\n",
       "Index: []"
      ]
     },
     "execution_count": 2,
     "metadata": {},
     "output_type": "execute_result"
    }
   ],
   "source": [
    "import pandas as pd\n",
    "\n",
    "# download_url = 'https://drive.google.com/uc?id=1tY-4xg6m_dv6IaVPIcd4oC1bK1lW5Tr9&export=download&confirm=t'\n",
    "# df0 = pd.read_csv(download_url, compression='gzip')\n",
    "df0 = pd.DataFrame(data=[], columns=['event', 'timestamp', 'user_id'])\n",
    "df0"
   ]
  },
  {
   "cell_type": "code",
   "execution_count": 3,
   "id": "6a1bec51",
   "metadata": {
    "scrolled": false
   },
   "outputs": [
    {
     "name": "stderr",
     "output_type": "stream",
     "text": [
      "/Users/alexeyavramenko/projects/rete/retentioneering-tools-new-arch/examples/../src/params_model/params_model.py:68: UserWarning: Callable filter was excluded from schema since JSON schema has no equivalent type.\n",
      "  params_schema: dict[str, Any] = cls.schema()\n",
      "/Users/alexeyavramenko/projects/rete/retentioneering-tools-new-arch/examples/../src/params_model/params_model.py:68: UserWarning: Callable negative_function was excluded from schema since JSON schema has no equivalent type.\n",
      "  params_schema: dict[str, Any] = cls.schema()\n",
      "/Users/alexeyavramenko/projects/rete/retentioneering-tools-new-arch/examples/../src/params_model/params_model.py:68: UserWarning: Callable positive_function was excluded from schema since JSON schema has no equivalent type.\n",
      "  params_schema: dict[str, Any] = cls.schema()\n"
     ]
    }
   ],
   "source": [
    "from src.eventstream.schema import RawDataSchema, EventstreamSchema\n",
    "from src.eventstream.eventstream import Eventstream\n",
    "from src.graph.p_graph import PGraph, EventsNode\n",
    "from src.data_processors_lib.rete import CollapseLoops, CollapseLoopsParams\n",
    "from src.data_processors_lib.rete import DeleteUsersByPathLength, DeleteUsersByPathLengthParams\n",
    "from src.data_processors_lib.rete import FilterEvents, FilterEventsParams\n",
    "from src.data_processors_lib.rete import GroupEvents, GroupEventsParams\n",
    "from src.data_processors_lib.rete import NewUsersEvents, NewUsersParams\n",
    "from src.data_processors_lib.rete import SplitSessions, SplitSessionsParams\n",
    "from src.data_processors_lib.rete import StartEndEvents, StartEndEventsParams\n",
    "from src.data_processors_lib.rete import TruncatePath, TruncatePathParams\n",
    "from src.data_processors_lib.rete import TruncatedEvents, TruncatedEventsParams\n",
    "from src.graph.p_graph import PGraph, EventsNode\n",
    "import inspect\n",
    "\n",
    "\n",
    "raw_data_schema = RawDataSchema(\n",
    "    event_name='event', \n",
    "    event_timestamp='timestamp', \n",
    "    user_id='user_id'\n",
    ")\n",
    "\n",
    "stream = Eventstream(\n",
    "    raw_data=df0,\n",
    "    raw_data_schema=raw_data_schema,\n",
    "    schema=EventstreamSchema()\n",
    ")\n",
    "\n",
    "graph = PGraph(source_stream=stream)\n",
    "\n",
    "TARGET_EVENT = 'finances/deposit/<payment_name>/success'\n",
    "\n",
    "def users_with_target_event(df, schema):\n",
    "    target_users = df[df['event_name'] == TARGET_EVENT]['user_id'].unique()\n",
    "    return df['user_id'].isin(target_users)\n",
    "\n",
    "def first_session_filter(df, schema):\n",
    "    return df['session_id'].str.endswith('_1')\n",
    "\n",
    "def new_and_not_truncated_users(df, schema):\n",
    "    truncated_users = df[(df['event_name'] == 'truncated_right')]['user_id'].unique()\n",
    "    new_users = df[(df['event_name'] == 'new_user')]['user_id'].unique()\n",
    "    target_users = np.setdiff1d(new_users, truncated_users)\n",
    "    return df['user_id'].isin(target_users)\n",
    "\n",
    "def first_session_filter(df, schema):\n",
    "    return df['session_id'].str.endswith('_1')\n",
    "\n",
    "\n",
    "node1 = EventsNode(StartEndEvents(params=StartEndEventsParams(**{})))\n",
    "node2 = EventsNode(NewUsersEvents(params=NewUsersParams(new_users_list=\"all\")))\n",
    "node3 = EventsNode(TruncatedEvents(params=TruncatedEventsParams(right_truncated_cutoff=(12, 'D'))))\n",
    "node4 = EventsNode(FilterEvents(params=FilterEventsParams(filter=new_and_not_truncated_users)))\n",
    "node5 = EventsNode(SplitSessions(params=SplitSessionsParams(\n",
    "    session_cutoff=(1, 'h'),\n",
    "    session_col='session_id'\n",
    ")))\n",
    "node6 = EventsNode(FilterEvents(params=FilterEventsParams(filter=first_session_filter)))\n",
    "\n",
    "node7 = EventsNode(FilterEvents(params=FilterEventsParams(filter=users_with_target_event)))\n",
    "node8 = EventsNode(TruncatePath(params=TruncatePathParams(drop_after=TARGET_EVENT)))\n",
    "node9 = EventsNode(FilterEvents(params=FilterEventsParams(filter=first_session_filter)))\n",
    "\n",
    "\n",
    "graph.add_node(node=node1, parents=[graph.root])\n",
    "graph.add_node(node=node2, parents=[node1])\n",
    "graph.add_node(node=node3, parents=[node2])\n",
    "graph.add_node(node=node4, parents=[node3])\n",
    "graph.add_node(node=node5, parents=[node4])\n",
    "\n",
    "graph.add_node(node=node6, parents=[node5])\n",
    "graph.add_node(node=node7, parents=[node6])\n",
    "\n",
    "graph.add_node(node=node8, parents=[node5])\n",
    "graph.add_node(node=node9, parents=[node8])\n",
    "\n"
   ]
  },
  {
   "cell_type": "code",
   "execution_count": 9,
   "id": "169c1bf0",
   "metadata": {},
   "outputs": [
    {
     "data": {
      "text/html": [
       "<div id=\"a50b202a-c6de-4ba8-ac4e-b9badb59b9b9\">\n",
       "</div>\n",
       "<script>\n",
       "  (function () {\n",
       "    const iframe = document.createElement(\"iframe\")\n",
       "    iframe.src = \"about:blank\"\n",
       "    iframe.width = 960\n",
       "    iframe.height = 900\n",
       "\n",
       "    const renderBlock = document.getElementById(\"a50b202a-c6de-4ba8-ac4e-b9badb59b9b9\")\n",
       "    renderBlock.appendChild(iframe)\n",
       "\n",
       "    iframe.contentWindow.__SERVER_ID__ = \"c733075f-77ab-4953-aab6-16dd53c8edc2\"\n",
       "    iframe.contentWindow.__ENV__ = \"classic\"\n",
       "    const fDocument = iframe.contentDocument\n",
       "    const container = fDocument.createElement(\"div\")\n",
       "    container.id = \"root\"\n",
       "\n",
       "    const script = fDocument.createElement(\"script\")\n",
       "    script.src = \"http://localhost:8080/preprocessing-graph.umd.js?id=a50b202a-c6de-4ba8-ac4e-b9badb59b9b9\"\n",
       "    script.type = \"text/javascript\"\n",
       "\n",
       "    const link = fDocument.createElement(\"link\")\n",
       "    link.rel = \"stylesheet\"\n",
       "    link.href = \"http://localhost:8080/style.css?id=a50b202a-c6de-4ba8-ac4e-b9badb59b9b9\"\n",
       "\n",
       "    fDocument.body.appendChild(container)\n",
       "    fDocument.body.appendChild(script)\n",
       "    fDocument.body.appendChild(link)\n",
       "  })()\n",
       "</script>"
      ],
      "text/plain": [
       "<IPython.core.display.HTML object>"
      ]
     },
     "metadata": {},
     "output_type": "display_data"
    }
   ],
   "source": [
    "from src.backend.callback import list_dataprocessor, list_dataprocessor_mock\n",
    "\n",
    "graph.display()"
   ]
  },
  {
   "cell_type": "code",
   "execution_count": 8,
   "id": "bcd69997",
   "metadata": {},
   "outputs": [],
   "source": [
    "graph.save_err = None"
   ]
  },
  {
   "cell_type": "code",
   "execution_count": null,
   "id": "a039cf92",
   "metadata": {},
   "outputs": [],
   "source": []
  }
 ],
 "metadata": {
  "kernelspec": {
   "display_name": "Python 3 (ipykernel)",
   "language": "python",
   "name": "python3"
  },
  "language_info": {
   "codemirror_mode": {
    "name": "ipython",
    "version": 3
   },
   "file_extension": ".py",
   "mimetype": "text/x-python",
   "name": "python",
   "nbconvert_exporter": "python",
   "pygments_lexer": "ipython3",
   "version": "3.10.8"
  }
 },
 "nbformat": 4,
 "nbformat_minor": 5
}
