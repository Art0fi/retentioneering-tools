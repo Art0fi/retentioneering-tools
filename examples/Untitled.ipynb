{
 "cells": [
  {
   "cell_type": "code",
   "execution_count": 6,
   "id": "421ba1c9",
   "metadata": {},
   "outputs": [],
   "source": [
    "import sys\n",
    "sys.path.insert(0, '..')"
   ]
  },
  {
   "cell_type": "code",
   "execution_count": 7,
   "id": "d98e14a7",
   "metadata": {},
   "outputs": [
    {
     "data": {
      "text/html": [
       "<div>\n",
       "<style scoped>\n",
       "    .dataframe tbody tr th:only-of-type {\n",
       "        vertical-align: middle;\n",
       "    }\n",
       "\n",
       "    .dataframe tbody tr th {\n",
       "        vertical-align: top;\n",
       "    }\n",
       "\n",
       "    .dataframe thead th {\n",
       "        text-align: right;\n",
       "    }\n",
       "</style>\n",
       "<table border=\"1\" class=\"dataframe\">\n",
       "  <thead>\n",
       "    <tr style=\"text-align: right;\">\n",
       "      <th></th>\n",
       "      <th>event</th>\n",
       "      <th>timestamp</th>\n",
       "      <th>user_id</th>\n",
       "    </tr>\n",
       "  </thead>\n",
       "  <tbody>\n",
       "  </tbody>\n",
       "</table>\n",
       "</div>"
      ],
      "text/plain": [
       "Empty DataFrame\n",
       "Columns: [event, timestamp, user_id]\n",
       "Index: []"
      ]
     },
     "execution_count": 7,
     "metadata": {},
     "output_type": "execute_result"
    }
   ],
   "source": [
    "import pandas as pd\n",
    "\n",
    "# download_url = 'https://drive.google.com/uc?id=1tY-4xg6m_dv6IaVPIcd4oC1bK1lW5Tr9&export=download&confirm=t'\n",
    "# df0 = pd.read_csv(download_url, compression='gzip')\n",
    "df0 = pd.DataFrame(data=[], columns=['event', 'timestamp', 'user_id'])\n",
    "df0"
   ]
  },
  {
   "cell_type": "code",
   "execution_count": 13,
   "id": "6a1bec51",
   "metadata": {
    "scrolled": false
   },
   "outputs": [],
   "source": [
    "from src.eventstream.schema import RawDataSchema, EventstreamSchema\n",
    "from src.eventstream.eventstream import Eventstream\n",
    "from src.graph.p_graph import PGraph, EventsNode, MergeNode\n",
    "from src.data_processors_lib import CollapseLoops, CollapseLoopsParams\n",
    "from src.data_processors_lib import DeleteUsersByPathLength, DeleteUsersByPathLengthParams\n",
    "from src.data_processors_lib import FilterEvents, FilterEventsParams\n",
    "from src.data_processors_lib import GroupEvents, GroupEventsParams\n",
    "from src.data_processors_lib import NewUsersEvents, NewUsersParams\n",
    "from src.data_processors_lib import SplitSessions, SplitSessionsParams\n",
    "from src.data_processors_lib import StartEndEvents, StartEndEventsParams\n",
    "from src.data_processors_lib import TruncatePath, TruncatePathParams\n",
    "from src.data_processors_lib import TruncatedEvents, TruncatedEventsParams\n",
    "from src.graph.p_graph import PGraph, EventsNode\n",
    "import inspect\n",
    "\n",
    "\n",
    "raw_data_schema = RawDataSchema(\n",
    "    event_name='event', \n",
    "    event_timestamp='timestamp', \n",
    "    user_id='user_id'\n",
    ")\n",
    "\n",
    "stream = Eventstream(\n",
    "    raw_data=df0,\n",
    "    raw_data_schema=raw_data_schema,\n",
    "    schema=EventstreamSchema()\n",
    ")\n",
    "\n",
    "TARGET_EVENT = 'finances/deposit/<payment_name>/success'\n",
    "\n",
    "def users_with_target_event(df, schema) -> pd.DataFrame:\n",
    "    target_users = df[df['event_name'] == TARGET_EVENT]['user_id'].unique()\n",
    "    return df['user_id'].isin(target_users)\n",
    "\n",
    "def first_session_filter(df, schema)  -> pd.DataFrame:\n",
    "    return df['session_id'].str.endswith('_1')\n",
    "\n",
    "def new_and_not_truncated_users(df, schema)  -> pd.DataFrame:\n",
    "    truncated_users = df[(df['event_name'] == 'truncated_right')]['user_id'].unique()\n",
    "    new_users = df[(df['event_name'] == 'new_user')]['user_id'].unique()\n",
    "    target_users = np.setdiff1d(new_users, truncated_users)\n",
    "    return df['user_id'].isin(target_users)\n",
    "\n",
    "\n",
    "def create_graph():\n",
    "    graph = PGraph(source_stream=stream)\n",
    "\n",
    "    node0 = EventsNode(CollapseLoops(params=CollapseLoopsParams(**{})))\n",
    "    node1 = EventsNode(StartEndEvents(params=StartEndEventsParams(**{})))\n",
    "    node2 = EventsNode(NewUsersEvents(params=NewUsersParams(new_users_list=\"all\")))\n",
    "    node3 = EventsNode(TruncatedEvents(params=TruncatedEventsParams(right_truncated_cutoff=(12, 'D'))))\n",
    "    node4 = EventsNode(FilterEvents(params=FilterEventsParams(func=new_and_not_truncated_users)))\n",
    "    node5 = EventsNode(SplitSessions(params=SplitSessionsParams(\n",
    "        session_cutoff=(1, 'h'),\n",
    "        session_col='session_id'\n",
    "    )))\n",
    "    node6 = EventsNode(FilterEvents(params=FilterEventsParams(func=first_session_filter)))\n",
    "\n",
    "    node7 = EventsNode(FilterEvents(params=FilterEventsParams(func=users_with_target_event)))\n",
    "    node8 = EventsNode(TruncatePath(params=TruncatePathParams(drop_after=TARGET_EVENT)))\n",
    "    node9 = EventsNode(FilterEvents(params=FilterEventsParams(func=first_session_filter)))\n",
    "\n",
    "    graph.add_node(node=node0, parents=[graph.root])\n",
    "    graph.add_node(node=node1, parents=[graph.root])\n",
    "    graph.add_node(node=node2, parents=[node1])\n",
    "    graph.add_node(node=node3, parents=[node2])\n",
    "    graph.add_node(node=node4, parents=[node3])\n",
    "    graph.add_node(node=node5, parents=[node4])\n",
    "\n",
    "    graph.add_node(node=node6, parents=[node5])\n",
    "    graph.add_node(node=node7, parents=[node6])\n",
    "\n",
    "    graph.add_node(node=node8, parents=[node5])\n",
    "    graph.add_node(node=node9, parents=[node8])\n",
    "    \n",
    "    merge_node1 = MergeNode()\n",
    "    merge_node2 = MergeNode()\n",
    "    graph.add_node(node=merge_node1, parents=[graph.root, node0])\n",
    "    graph.add_node(node=merge_node2, parents=[node9, node7])\n",
    "\n",
    "    return graph\n",
    "\n",
    "\n"
   ]
  },
  {
   "cell_type": "code",
   "execution_count": 14,
   "id": "dd2fff7a",
   "metadata": {},
   "outputs": [],
   "source": [
    "\n",
    "\n",
    "graph = create_graph()\n"
   ]
  },
  {
   "cell_type": "code",
   "execution_count": 32,
   "id": "092345b9",
   "metadata": {},
   "outputs": [
    {
     "data": {
      "text/html": [
       "<div id=\"e61f910a-81a6-4aa7-be4f-27c560de8283\">\n",
       "</div>\n",
       "<script>\n",
       "  (function () {\n",
       "    const width = 960\n",
       "    const height = 900\n",
       "\n",
       "    const iframe = document.createElement(\"iframe\")\n",
       "    iframe.src = \"about:blank\"\n",
       "    iframe.width = width\n",
       "    iframe.height = height\n",
       "\n",
       "    const renderBlock = document.getElementById(\"e61f910a-81a6-4aa7-be4f-27c560de8283\")\n",
       "    renderBlock.appendChild(iframe)\n",
       "\n",
       "    iframe.contentWindow.__SERVER_ID__ = \"7b76d5ac-24b5-44fd-8ca5-77cf4d3f5ce6\"\n",
       "    iframe.contentWindow.__ENV__ = \"classic\"\n",
       "    iframe.contentWindow.__WIDTH__ = width\n",
       "    iframe.contentWindow.__HEIGHT__ = height\n",
       "\n",
       "    const fDocument = iframe.contentDocument\n",
       "    const container = fDocument.createElement(\"div\")\n",
       "    container.id = \"root\"\n",
       "\n",
       "    const script = fDocument.createElement(\"script\")\n",
       "    script.src = \"http://localhost:8080/preprocessing-graph.umd.js?id=e61f910a-81a6-4aa7-be4f-27c560de8283\"\n",
       "    script.type = \"text/javascript\"\n",
       "\n",
       "    const link = fDocument.createElement(\"link\")\n",
       "    link.rel = \"stylesheet\"\n",
       "    link.href = \"http://localhost:8080/style.css?id=e61f910a-81a6-4aa7-be4f-27c560de8283\"\n",
       "\n",
       "    fDocument.body.appendChild(container)\n",
       "    fDocument.body.appendChild(script)\n",
       "    fDocument.body.appendChild(link)\n",
       "  })()\n",
       "</script>"
      ],
      "text/plain": [
       "<IPython.core.display.HTML object>"
      ]
     },
     "metadata": {},
     "output_type": "display_data"
    }
   ],
   "source": [
    "graph.display()"
   ]
  },
  {
   "cell_type": "code",
   "execution_count": 61,
   "id": "4db2e7a6",
   "metadata": {},
   "outputs": [],
   "source": [
    "from __future__ import annotations\n",
    "\n",
    "import inspect\n",
    "import types\n",
    "from dataclasses import dataclass, field\n",
    "from typing import Any, Callable, Type, Union\n",
    "\n",
    "from src.constants import DATETIME_UNITS_LIST\n",
    "from src.exceptions.widget import ParseReteFuncError\n",
    "\n",
    "def _serialize(value: Callable) -> str:\n",
    "    try:\n",
    "        code = inspect.getsource(value)\n",
    "        return code\n",
    "    except OSError:\n",
    "        return \"\"\n",
    "\n",
    "def _parse(value: str) -> Callable:  # type: ignore\n",
    "    try:\n",
    "        code_obj = compile(value, \"<string>\", \"exec\")\n",
    "    except:\n",
    "        raise ParseReteFuncError(\"parsing error. You must implement a python function here\")\n",
    "\n",
    "    new_func_type = None\n",
    "\n",
    "    for i in code_obj.co_consts:\n",
    "        try:\n",
    "            new_func_type = types.FunctionType(i, {})\n",
    "        except Exception as err:\n",
    "            continue\n",
    "\n",
    "    if new_func_type is None:\n",
    "        raise ParseReteFuncError(\"parsing error. You must implement a python function here\")\n",
    "\n",
    "    return new_func_type"
   ]
  },
  {
   "cell_type": "code",
   "execution_count": 62,
   "id": "19ddcd6d",
   "metadata": {},
   "outputs": [
    {
     "data": {
      "text/plain": [
       "<function first_session_filter(df, schema)>"
      ]
     },
     "execution_count": 62,
     "metadata": {},
     "output_type": "execute_result"
    }
   ],
   "source": [
    "def first_session_filter(df, schema)  -> pd.DataFrame:\n",
    "    return df['session_id'].str.endswith('_1')\n",
    "\n",
    "_parse(_serialize(first_session_filter))\n"
   ]
  },
  {
   "cell_type": "code",
   "execution_count": 8,
   "id": "9b8d69ce",
   "metadata": {},
   "outputs": [
    {
     "name": "stdout",
     "output_type": "stream",
     "text": [
      "init subclass called!\n"
     ]
    }
   ],
   "source": [
    "class Test():\n",
    "    @classmethod\n",
    "    def __init_subclass__(cls, **kwargs) -> None:\n",
    "        super().__init_subclass__(**kwargs)\n",
    "        print(\"init subclass called!\")\n",
    "\n",
    "class Inh(Test):\n",
    "  def __init__(self):\n",
    "    self.t = 3\n",
    "\n",
    "  "
   ]
  }
 ],
 "metadata": {
  "kernelspec": {
   "display_name": "Python 3 (ipykernel)",
   "language": "python",
   "name": "python3"
  },
  "language_info": {
   "codemirror_mode": {
    "name": "ipython",
    "version": 3
   },
   "file_extension": ".py",
   "mimetype": "text/x-python",
   "name": "python",
   "nbconvert_exporter": "python",
   "pygments_lexer": "ipython3",
   "version": "3.10.8"
  },
  "vscode": {
   "interpreter": {
    "hash": "b0fa6594d8f4cbf19f97940f81e996739fb7646882a419484c72d19e05852a7e"
   }
  }
 },
 "nbformat": 4,
 "nbformat_minor": 5
}
