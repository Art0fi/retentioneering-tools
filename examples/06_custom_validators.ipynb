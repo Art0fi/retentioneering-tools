{
 "cells": [
  {
   "cell_type": "code",
   "execution_count": 1,
   "metadata": {
    "collapsed": true
   },
   "outputs": [],
   "source": [
    "from __future__ import annotations\n",
    "from src.params_model import ParamsModel, CUSTOM_WIDGET\n",
    "\n",
    "\n",
    "def serialize(data):\n",
    "    print(data)\n",
    "    return data\n",
    "\n",
    "def parse(data):\n",
    "    print(data)\n",
    "    return data\n",
    "\n",
    "\n",
    "class TestWidgets(ParamsModel):\n",
    "    a: str\n",
    "    b: list[list[list[str]]]\n",
    "\n",
    "    custom_widgets = {\n",
    "        'a': {\n",
    "            'widget': 'string',\n",
    "            'serialize': serialize,\n",
    "            'parse': parse\n",
    "        }\n",
    "    }"
   ]
  }
 ],
 "metadata": {
  "kernelspec": {
   "display_name": "Python 3",
   "language": "python",
   "name": "python3"
  },
  "language_info": {
   "codemirror_mode": {
    "name": "ipython",
    "version": 2
   },
   "file_extension": ".py",
   "mimetype": "text/x-python",
   "name": "python",
   "nbconvert_exporter": "python",
   "pygments_lexer": "ipython2",
   "version": "2.7.6"
  }
 },
 "nbformat": 4,
 "nbformat_minor": 0
}
