{
 "cells": [
  {
   "cell_type": "code",
   "execution_count": 1,
   "metadata": {
    "collapsed": true
   },
   "outputs": [],
   "source": [
    "import sys\n",
    "\n",
    "sys.path.insert(0, '..')"
   ]
  },
  {
   "cell_type": "code",
   "execution_count": 2,
   "outputs": [
    {
     "name": "stderr",
     "output_type": "stream",
     "text": [
      "/home/vladimir/.pyenv/versions/3.8.13/envs/eering-private-3.8/lib/python3.8/site-packages/IPython/core/display.py:419: UserWarning: Consider using IPython.display.IFrame instead\n",
      "  warnings.warn(\"Consider using IPython.display.IFrame instead\")\n"
     ]
    },
    {
     "data": {
      "text/plain": "<IPython.core.display.HTML object>",
      "text/html": "<iframe  src=\"about:blank\" width=\"960\" height=\"900\">\n  <!DOCTYPE html>\n  <html lang=\"en\">\n  <head>\n    <meta charset=\"utf-8\">\n    <title>Rete Preprocessing Graph</title>\n    <meta name=\"viewport\" content=\"width=device-width, initial-scale=1\">\n  </head>\n  <body>\n    <div id=\"root\"></div>\n  </body>\n  <script>\n     init({\n          serverId: \"5128946c-43a2-4ed4-be47-f26945177c49\",\n          env: \"classic\",\n     })\n  </script>\n  </html>\n</iframe>"
     },
     "metadata": {},
     "output_type": "display_data"
    }
   ],
   "source": [
    "import pandas as pd\n",
    "from src.eventstream import Eventstream, RawDataSchema\n",
    "from src.graph.p_graph import PGraph\n",
    "\n",
    "source_df = pd.DataFrame(\n",
    "    [\n",
    "        {\"event_name\": \"pageview\", \"event_timestamp\": \"2021-10-26 12:00\", \"user_id\": \"1\"},\n",
    "        {\"event_name\": \"cart_btn_click\", \"event_timestamp\": \"2021-10-26 12:02\", \"user_id\": \"1\"},\n",
    "        {\"event_name\": \"pageview\", \"event_timestamp\": \"2021-10-26 12:03\", \"user_id\": \"1\"},\n",
    "        {\"event_name\": \"trash_event\", \"event_timestamp\": \"2021-10-26 12:03\", \"user_id\": \"1\"},\n",
    "        {\"event_name\": \"exit_btn_click\", \"event_timestamp\": \"2021-10-26 12:04\", \"user_id\": \"2\"},\n",
    "        {\"event_name\": \"plus_icon_click\", \"event_timestamp\": \"2021-10-26 12:05\", \"user_id\": \"1\"},\n",
    "    ]\n",
    ")\n",
    "\n",
    "source = Eventstream(\n",
    "    raw_data_schema=RawDataSchema(\n",
    "        event_name=\"event_name\", event_timestamp=\"event_timestamp\", user_id=\"user_id\"\n",
    "    ),\n",
    "    raw_data=source_df,\n",
    ")\n",
    "graph = PGraph(source)\n",
    "graph.display()"
   ],
   "metadata": {
    "collapsed": false
   }
  }
 ],
 "metadata": {
  "kernelspec": {
   "display_name": "Python 3",
   "language": "python",
   "name": "python3"
  },
  "language_info": {
   "codemirror_mode": {
    "name": "ipython",
    "version": 2
   },
   "file_extension": ".py",
   "mimetype": "text/x-python",
   "name": "python",
   "nbconvert_exporter": "python",
   "pygments_lexer": "ipython2",
   "version": "2.7.6"
  }
 },
 "nbformat": 4,
 "nbformat_minor": 0
}
