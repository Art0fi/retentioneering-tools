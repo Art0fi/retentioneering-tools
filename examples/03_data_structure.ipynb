{
 "cells": [
  {
   "cell_type": "code",
   "execution_count": 1,
   "metadata": {
    "collapsed": true,
    "pycharm": {
     "name": "#%%\n"
    }
   },
   "outputs": [
    {
     "data": {
      "text/plain": "                               event_id   event_type  event_index  \\\n0  11fb499d-f89f-4233-acc0-d7df5d9542fa          raw            0   \n1  eed73be5-924c-47bd-b72e-333e11d93b1b  group_alias            1   \n3  48da70e7-c67e-4a3b-b5e5-bd9a1b87d291          raw            3   \n4  0ce58445-2385-4db3-827f-5b28ab6bb1c8          raw            4   \n5  448ba406-3d89-46a2-b318-b91d0bba7f75  group_alias            5   \n7  35d81db1-ee01-4e75-b2df-928bb3e3dc4c  group_alias            7   \n\n    event_name     event_timestamp user_id  \n0     pageview 2021-10-26 12:00:00       1  \n1  add_to_cart 2021-10-26 12:02:00       1  \n3     pageview 2021-10-26 12:03:00       1  \n4  trash_event 2021-10-26 12:03:00       1  \n5       logout 2021-10-26 12:04:00       2  \n7  add_to_cart 2021-10-26 12:05:00       1  ",
      "text/html": "<div>\n<style scoped>\n    .dataframe tbody tr th:only-of-type {\n        vertical-align: middle;\n    }\n\n    .dataframe tbody tr th {\n        vertical-align: top;\n    }\n\n    .dataframe thead th {\n        text-align: right;\n    }\n</style>\n<table border=\"1\" class=\"dataframe\">\n  <thead>\n    <tr style=\"text-align: right;\">\n      <th></th>\n      <th>event_id</th>\n      <th>event_type</th>\n      <th>event_index</th>\n      <th>event_name</th>\n      <th>event_timestamp</th>\n      <th>user_id</th>\n    </tr>\n  </thead>\n  <tbody>\n    <tr>\n      <th>0</th>\n      <td>11fb499d-f89f-4233-acc0-d7df5d9542fa</td>\n      <td>raw</td>\n      <td>0</td>\n      <td>pageview</td>\n      <td>2021-10-26 12:00:00</td>\n      <td>1</td>\n    </tr>\n    <tr>\n      <th>1</th>\n      <td>eed73be5-924c-47bd-b72e-333e11d93b1b</td>\n      <td>group_alias</td>\n      <td>1</td>\n      <td>add_to_cart</td>\n      <td>2021-10-26 12:02:00</td>\n      <td>1</td>\n    </tr>\n    <tr>\n      <th>3</th>\n      <td>48da70e7-c67e-4a3b-b5e5-bd9a1b87d291</td>\n      <td>raw</td>\n      <td>3</td>\n      <td>pageview</td>\n      <td>2021-10-26 12:03:00</td>\n      <td>1</td>\n    </tr>\n    <tr>\n      <th>4</th>\n      <td>0ce58445-2385-4db3-827f-5b28ab6bb1c8</td>\n      <td>raw</td>\n      <td>4</td>\n      <td>trash_event</td>\n      <td>2021-10-26 12:03:00</td>\n      <td>1</td>\n    </tr>\n    <tr>\n      <th>5</th>\n      <td>448ba406-3d89-46a2-b318-b91d0bba7f75</td>\n      <td>group_alias</td>\n      <td>5</td>\n      <td>logout</td>\n      <td>2021-10-26 12:04:00</td>\n      <td>2</td>\n    </tr>\n    <tr>\n      <th>7</th>\n      <td>35d81db1-ee01-4e75-b2df-928bb3e3dc4c</td>\n      <td>group_alias</td>\n      <td>7</td>\n      <td>add_to_cart</td>\n      <td>2021-10-26 12:05:00</td>\n      <td>1</td>\n    </tr>\n  </tbody>\n</table>\n</div>"
     },
     "execution_count": 1,
     "metadata": {},
     "output_type": "execute_result"
    }
   ],
   "source": [
    "from __future__ import annotations\n",
    "\n",
    "import pandas as pd\n",
    "\n",
    "from src.data_processors_lib.simple_processors import SimpleGroup, SimpleGroupParams\n",
    "from src.eventstream.schema import RawDataSchema\n",
    "from src.graph.p_graph import PGraph, EventsNode, Eventstream, MergeNode\n",
    "\n",
    "source_df = pd.DataFrame([\n",
    "    {\"event_name\": \"pageview\",\n",
    "     \"event_timestamp\": \"2021-10-26 12:00\", \"user_id\": \"1\"},\n",
    "    {\"event_name\": \"cart_btn_click\",\n",
    "     \"event_timestamp\": \"2021-10-26 12:02\", \"user_id\": \"1\"},\n",
    "    {\"event_name\": \"pageview\",\n",
    "     \"event_timestamp\": \"2021-10-26 12:03\", \"user_id\": \"1\"},\n",
    "    {\"event_name\": \"trash_event\",\n",
    "     \"event_timestamp\": \"2021-10-26 12:03\", \"user_id\": \"1\"},\n",
    "    {\"event_name\": \"exit_btn_click\",\n",
    "     \"event_timestamp\": \"2021-10-26 12:04\", \"user_id\": \"2\"},\n",
    "    {\"event_name\": \"plus_icon_click\",\n",
    "     \"event_timestamp\": \"2021-10-26 12:05\", \"user_id\": \"1\"},\n",
    "])\n",
    "\n",
    "source = Eventstream(\n",
    "    raw_data=source_df,\n",
    "    raw_data_schema=RawDataSchema(\n",
    "        event_name=\"event_name\",\n",
    "        event_timestamp=\"event_timestamp\",\n",
    "        user_id=\"user_id\"\n",
    "    )\n",
    ")\n",
    "\n",
    "cart_events = EventsNode(\n",
    "    SimpleGroup(SimpleGroupParams(**{\n",
    "        \"event_name\": \"add_to_cart\",\n",
    "        \"filter\": lambda df, schema: df[schema.event_name].isin(\n",
    "            [\"cart_btn_click\", \"plus_icon_click\"])\n",
    "    }))\n",
    ")\n",
    "logout_events = EventsNode(\n",
    "    SimpleGroup(SimpleGroupParams(**{\n",
    "        \"event_name\": \"logout\",\n",
    "        \"filter\": lambda df, schema: df[schema.event_name] == \"exit_btn_click\"\n",
    "    }))\n",
    ")\n",
    "merge = MergeNode()\n",
    "\n",
    "graph = PGraph(source)\n",
    "graph.add_node(\n",
    "    node=cart_events,\n",
    "    parents=[graph.root]\n",
    ")\n",
    "graph.add_node(\n",
    "    node=logout_events,\n",
    "    parents=[graph.root]\n",
    ")\n",
    "graph.add_node(\n",
    "    node=merge,\n",
    "    parents=[\n",
    "        cart_events,\n",
    "        logout_events,\n",
    "    ]\n",
    ")\n",
    "\n",
    "result = graph.combine(merge)\n",
    "result_df = result.to_dataframe()\n",
    "\n",
    "result_df\n"
   ]
  },
  {
   "cell_type": "code",
   "execution_count": 2,
   "outputs": [
    {
     "name": "stderr",
     "output_type": "stream",
     "text": [
      "/tmp/ipykernel_1222227/1051905014.py:1: UserWarning: Callable filter was excluded from schema since JSON schema has no equivalent type.\n",
      "  cart_events.processor.params.schema_json()\n"
     ]
    },
    {
     "data": {
      "text/plain": "'{\"title\": \"SimpleGroupParams\", \"type\": \"object\", \"properties\": {\"event_name\": {\"title\": \"Event Name\", \"type\": \"string\"}, \"event_type\": {\"title\": \"Event Type\", \"default\": \"group_alias\", \"type\": \"string\"}}, \"required\": [\"event_name\"]}'"
     },
     "execution_count": 2,
     "metadata": {},
     "output_type": "execute_result"
    }
   ],
   "source": [
    "cart_events.processor.params.schema_json()"
   ],
   "metadata": {
    "collapsed": false,
    "pycharm": {
     "name": "#%%\n"
    }
   }
  },
  {
   "cell_type": "code",
   "execution_count": 3,
   "outputs": [],
   "source": [
    "# from __future__ import annotations\n",
    "#\n",
    "# from src.data_processor.data_processor import DataProcessor, ParamsModel\n",
    "# from typing import Optional\n",
    "#\n",
    "# class CustomParams(ParamsModel):\n",
    "#     name: str\n",
    "#     last_name: Optional[str]\n",
    "#     tags: list[str]\n",
    "#     numbers: list[int] | str\n",
    "#\n",
    "#\n",
    "# class CustomProcessor(DataProcessor):\n",
    "#     params: CustomParams\n",
    "#\n",
    "#     def __init__(self, params: CustomParams) -> None:\n",
    "#         super().__init__(params=params)\n",
    "#\n",
    "#     def apply(self, eventstream: Eventstream) -> Eventstream:\n",
    "#         return eventstream\n",
    "#\n",
    "#     def schema(self) -> dict[str, dict | str]:\n",
    "#         schema = {\n",
    "#             \"params\": self.params.schema(),\n",
    "#             \"values\": self.params.dict()\n",
    "#         }\n",
    "#         return schema"
   ],
   "metadata": {
    "collapsed": false,
    "pycharm": {
     "name": "#%%\n"
    }
   }
  },
  {
   "cell_type": "code",
   "execution_count": 4,
   "outputs": [
    {
     "data": {
      "text/plain": "['__class__',\n '__contains__',\n '__delattr__',\n '__dict__',\n '__dir__',\n '__doc__',\n '__eq__',\n '__format__',\n '__ge__',\n '__getattribute__',\n '__getitem__',\n '__gt__',\n '__hash__',\n '__init__',\n '__init_subclass__',\n '__iter__',\n '__le__',\n '__len__',\n '__lt__',\n '__module__',\n '__ne__',\n '__new__',\n '__reduce__',\n '__reduce_ex__',\n '__repr__',\n '__setattr__',\n '__sizeof__',\n '__str__',\n '__subclasshook__',\n '__weakref__',\n '_adj',\n '_node',\n '_pred',\n '_succ',\n 'add_edge',\n 'add_edges_from',\n 'add_node',\n 'add_nodes_from',\n 'add_weighted_edges_from',\n 'adj',\n 'adjacency',\n 'adjlist_inner_dict_factory',\n 'adjlist_outer_dict_factory',\n 'clear',\n 'clear_edges',\n 'copy',\n 'degree',\n 'edge_attr_dict_factory',\n 'edge_subgraph',\n 'edges',\n 'get_edge_data',\n 'graph',\n 'graph_attr_dict_factory',\n 'has_edge',\n 'has_node',\n 'has_predecessor',\n 'has_successor',\n 'in_degree',\n 'in_edges',\n 'is_directed',\n 'is_multigraph',\n 'name',\n 'nbunch_iter',\n 'neighbors',\n 'node_attr_dict_factory',\n 'node_dict_factory',\n 'nodes',\n 'number_of_edges',\n 'number_of_nodes',\n 'order',\n 'out_degree',\n 'out_edges',\n 'pred',\n 'predecessors',\n 'remove_edge',\n 'remove_edges_from',\n 'remove_node',\n 'remove_nodes_from',\n 'reverse',\n 'size',\n 'subgraph',\n 'succ',\n 'successors',\n 'to_directed',\n 'to_directed_class',\n 'to_undirected',\n 'to_undirected_class',\n 'update']"
     },
     "execution_count": 4,
     "metadata": {},
     "output_type": "execute_result"
    }
   ],
   "source": [
    "dir(graph._PGraph__ngraph)"
   ],
   "metadata": {
    "collapsed": false,
    "pycharm": {
     "name": "#%%\n"
    }
   }
  },
  {
   "cell_type": "code",
   "execution_count": 5,
   "outputs": [
    {
     "data": {
      "text/plain": "NodeDataView({{'name': 'SourceNode', 'pk': '759e088b-ea54-400d-9e5a-495d01e24a83'}: {}, {'name': 'EventsNode', 'pk': 'e68718d9-9322-49b2-8dfa-180eb7ba59fa'}: {}, {'name': 'EventsNode', 'pk': '3e54c45d-e684-438a-9423-e9e1de3c1be2'}: {}, {'name': 'MergeNode', 'pk': '832cdfb1-f5b5-4ca6-a378-d970b7bc278d'}: {}})"
     },
     "execution_count": 5,
     "metadata": {},
     "output_type": "execute_result"
    }
   ],
   "source": [
    "graph._PGraph__ngraph.nodes.data()"
   ],
   "metadata": {
    "collapsed": false,
    "pycharm": {
     "name": "#%%\n"
    }
   }
  },
  {
   "cell_type": "code",
   "execution_count": 5,
   "outputs": [],
   "source": [],
   "metadata": {
    "collapsed": false,
    "pycharm": {
     "name": "#%%\n"
    }
   }
  },
  {
   "cell_type": "code",
   "execution_count": 6,
   "outputs": [
    {
     "data": {
      "text/plain": "{'directed': True,\n 'nodes': [{'id': {'name': 'SourceNode',\n    'pk': '759e088b-ea54-400d-9e5a-495d01e24a83'}},\n  {'id': {'name': 'EventsNode',\n    'pk': 'e68718d9-9322-49b2-8dfa-180eb7ba59fa',\n    'processor': \"{'schema': {'title': 'SimpleGroupParams', 'type': 'object', 'properties': {'event_name': {'title': 'Event Name', 'type': 'string'}, 'event_type': {'title': 'Event Type', 'default': 'group_alias', 'type': 'string'}}, 'required': ['event_name']}, 'values': {'event_name': 'add_to_cart', 'filter': <function <lambda> at 0x7f18004bc3a0>, 'event_type': 'group_alias'}}\"}},\n  {'id': {'name': 'EventsNode',\n    'pk': '3e54c45d-e684-438a-9423-e9e1de3c1be2',\n    'processor': \"{'schema': {'title': 'SimpleGroupParams', 'type': 'object', 'properties': {'event_name': {'title': 'Event Name', 'type': 'string'}, 'event_type': {'title': 'Event Type', 'default': 'group_alias', 'type': 'string'}}, 'required': ['event_name']}, 'values': {'event_name': 'logout', 'filter': <function <lambda> at 0x7f17ad850e50>, 'event_type': 'group_alias'}}\"}},\n  {'id': {'name': 'MergeNode', 'pk': '832cdfb1-f5b5-4ca6-a378-d970b7bc278d'}}],\n 'links': [{'source': {'name': 'SourceNode', 'pk': '759e088b-ea54-400d-9e5a-495d01e24a83'},\n   'target': {'name': 'EventsNode', 'pk': 'e68718d9-9322-49b2-8dfa-180eb7ba59fa'}},\n  {'source': {'name': 'SourceNode', 'pk': '759e088b-ea54-400d-9e5a-495d01e24a83'},\n   'target': {'name': 'EventsNode', 'pk': '3e54c45d-e684-438a-9423-e9e1de3c1be2'}},\n  {'source': {'name': 'EventsNode', 'pk': 'e68718d9-9322-49b2-8dfa-180eb7ba59fa'},\n   'target': {'name': 'MergeNode', 'pk': '832cdfb1-f5b5-4ca6-a378-d970b7bc278d'}},\n  {'source': {'name': 'EventsNode', 'pk': '3e54c45d-e684-438a-9423-e9e1de3c1be2'},\n   'target': {'name': 'MergeNode', 'pk': '832cdfb1-f5b5-4ca6-a378-d970b7bc278d'}}]}"
     },
     "execution_count": 6,
     "metadata": {},
     "output_type": "execute_result"
    }
   ],
   "source": [
    "import networkx as nx\n",
    "from itertools import chain\n",
    "\n",
    "\n",
    "def node_link_data(\n",
    "        G,\n",
    "        attrs=None,\n",
    "        *,\n",
    "        source=\"source\",\n",
    "        target=\"target\",\n",
    "        name=\"id\",\n",
    "        key=\"key\",\n",
    "        link=\"links\",\n",
    "):\n",
    "    if attrs is not None:\n",
    "        import warnings\n",
    "\n",
    "        msg = (\n",
    "            \"\\n\\nThe `attrs` keyword argument of node_link_data is deprecated\\n\"\n",
    "            \"and will be removed in networkx 3.2. It is replaced with explicit\\n\"\n",
    "            \"keyword arguments: `source`, `target`, `name`, `key` and `link`.\\n\"\n",
    "            \"To make this warning go away, and ensure usage is forward\\n\"\n",
    "            \"compatible, replace `attrs` with the keywords. \"\n",
    "            \"For example:\\n\\n\"\n",
    "            \"   >>> node_link_data(G, attrs={'target': 'foo', 'name': 'bar'})\\n\\n\"\n",
    "            \"should instead be written as\\n\\n\"\n",
    "            \"   >>> node_link_data(G, target='foo', name='bar')\\n\\n\"\n",
    "            \"in networkx 3.2.\\n\"\n",
    "            \"The default values of the keywords will not change.\\n\"\n",
    "        )\n",
    "        warnings.warn(msg, DeprecationWarning, stacklevel=2)\n",
    "\n",
    "        source = attrs.get(\"source\", \"source\")\n",
    "        target = attrs.get(\"target\", \"target\")\n",
    "        name = attrs.get(\"name\", \"name\")\n",
    "        key = attrs.get(\"key\", \"key\")\n",
    "        link = attrs.get(\"link\", \"links\")\n",
    "    # -------------------------------------------------- #\n",
    "    multigraph = G.is_multigraph()\n",
    "\n",
    "    # Allow 'key' to be omitted from attrs if the graph is not a multigraph.\n",
    "    key = None if not multigraph else key\n",
    "    if len({source, target, key}) < 3:\n",
    "        raise nx.NetworkXError(\"Attribute names are not unique.\")\n",
    "    data = {\n",
    "        \"directed\": G.is_directed(),\n",
    "        # \"multigraph\": multigraph,\n",
    "        # \"graph\": G.graph,\n",
    "        \"nodes\": [\n",
    "            dict(\n",
    "                chain(\n",
    "                    G.nodes[n].items(),\n",
    "                    # [(name, n)]\n",
    "                    [(name, n.export())]\n",
    "                )\n",
    "            ) for n in G],\n",
    "    }\n",
    "    if multigraph:\n",
    "        data[link] = [\n",
    "            dict(chain(d.items(), [(source, u), (target, v), (key, k)]))\n",
    "            for u, v, k, d in G.edges(keys=True, data=True)\n",
    "        ]\n",
    "    else:\n",
    "        data[link] = [\n",
    "            dict(chain(d.items(), [(source, u), (target, v)]))\n",
    "            for u, v, d in G.edges(data=True)\n",
    "        ]\n",
    "    return data\n",
    "\n",
    "\n",
    "node_link_data(graph._PGraph__ngraph)"
   ],
   "metadata": {
    "collapsed": false,
    "pycharm": {
     "name": "#%%\n"
    }
   }
  },
  {
   "cell_type": "code",
   "execution_count": 7,
   "outputs": [
    {
     "data": {
      "text/plain": "{'directed': True,\n 'nodes': [{'id': {'name': 'SourceNode',\n    'pk': '759e088b-ea54-400d-9e5a-495d01e24a83'}},\n  {'id': {'name': 'EventsNode',\n    'pk': 'e68718d9-9322-49b2-8dfa-180eb7ba59fa',\n    'processor': \"{'schema': {'title': 'SimpleGroupParams', 'type': 'object', 'properties': {'event_name': {'title': 'Event Name', 'type': 'string'}, 'event_type': {'title': 'Event Type', 'default': 'group_alias', 'type': 'string'}}, 'required': ['event_name']}, 'values': {'event_name': 'add_to_cart', 'filter': <function <lambda> at 0x7f18004bc3a0>, 'event_type': 'group_alias'}}\"}},\n  {'id': {'name': 'EventsNode',\n    'pk': '3e54c45d-e684-438a-9423-e9e1de3c1be2',\n    'processor': \"{'schema': {'title': 'SimpleGroupParams', 'type': 'object', 'properties': {'event_name': {'title': 'Event Name', 'type': 'string'}, 'event_type': {'title': 'Event Type', 'default': 'group_alias', 'type': 'string'}}, 'required': ['event_name']}, 'values': {'event_name': 'logout', 'filter': <function <lambda> at 0x7f17ad850e50>, 'event_type': 'group_alias'}}\"}},\n  {'id': {'name': 'MergeNode', 'pk': '832cdfb1-f5b5-4ca6-a378-d970b7bc278d'}}],\n 'links': [{'source': {'name': 'SourceNode', 'pk': '759e088b-ea54-400d-9e5a-495d01e24a83'},\n   'target': {'name': 'EventsNode', 'pk': 'e68718d9-9322-49b2-8dfa-180eb7ba59fa'}},\n  {'source': {'name': 'SourceNode', 'pk': '759e088b-ea54-400d-9e5a-495d01e24a83'},\n   'target': {'name': 'EventsNode', 'pk': '3e54c45d-e684-438a-9423-e9e1de3c1be2'}},\n  {'source': {'name': 'EventsNode', 'pk': 'e68718d9-9322-49b2-8dfa-180eb7ba59fa'},\n   'target': {'name': 'MergeNode', 'pk': '832cdfb1-f5b5-4ca6-a378-d970b7bc278d'}},\n  {'source': {'name': 'EventsNode', 'pk': '3e54c45d-e684-438a-9423-e9e1de3c1be2'},\n   'target': {'name': 'MergeNode', 'pk': '832cdfb1-f5b5-4ca6-a378-d970b7bc278d'}}]}"
     },
     "execution_count": 7,
     "metadata": {},
     "output_type": "execute_result"
    }
   ],
   "source": [
    "node_link_data(graph._PGraph__ngraph)"
   ],
   "metadata": {
    "collapsed": false,
    "pycharm": {
     "name": "#%%\n"
    }
   }
  },
  {
   "cell_type": "code",
   "execution_count": 8,
   "outputs": [
    {
     "data": {
      "text/plain": "dict_items([])"
     },
     "execution_count": 8,
     "metadata": {},
     "output_type": "execute_result"
    }
   ],
   "source": [
    "g = graph._PGraph__ngraph\n",
    "\n",
    "nodes = [x for x in g]\n",
    "# dir(next(iter(g)))\n",
    "# d = next(iter(g))\n",
    "d = nodes[1]\n",
    "# [dict(chain(\n",
    "#     g.nodes[n].items(), [('name', n)]\n",
    "# )) for n in g]\n",
    "# [n for n in g]\n",
    "g.nodes[d].items()"
   ],
   "metadata": {
    "collapsed": false,
    "pycharm": {
     "name": "#%%\n"
    }
   }
  },
  {
   "cell_type": "code",
   "execution_count": 9,
   "outputs": [
    {
     "data": {
      "text/plain": "{'schema': {'title': 'SimpleGroupParams', 'type': 'object', 'properties': {'event_name': {'title': 'Event Name', 'type': 'string'}, 'event_type': {'title': 'Event Type', 'default': 'group_alias', 'type': 'string'}}, 'required': ['event_name']}, 'values': {'event_name': 'add_to_cart', 'filter': <function <lambda> at 0x7f18004bc3a0>, 'event_type': 'group_alias'}}"
     },
     "execution_count": 9,
     "metadata": {},
     "output_type": "execute_result"
    }
   ],
   "source": [
    "d.processor"
   ],
   "metadata": {
    "collapsed": false,
    "pycharm": {
     "name": "#%%\n"
    }
   }
  }
 ],
 "metadata": {
  "kernelspec": {
   "display_name": "Python 3",
   "language": "python",
   "name": "python3"
  },
  "language_info": {
   "codemirror_mode": {
    "name": "ipython",
    "version": 2
   },
   "file_extension": ".py",
   "mimetype": "text/x-python",
   "name": "python",
   "nbconvert_exporter": "python",
   "pygments_lexer": "ipython2",
   "version": "2.7.6"
  }
 },
 "nbformat": 4,
 "nbformat_minor": 0
}
