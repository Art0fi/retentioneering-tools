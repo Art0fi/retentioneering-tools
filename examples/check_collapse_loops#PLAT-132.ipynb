{
 "cells": [
  {
   "cell_type": "code",
   "execution_count": 1,
   "metadata": {
    "collapsed": true,
    "pycharm": {
     "name": "#%%\n"
    }
   },
   "outputs": [],
   "source": [
    "import sys\n",
    "sys.path.insert(0, '..')"
   ]
  },
  {
   "cell_type": "markdown",
   "source": [
    "# Инициализируем граф"
   ],
   "metadata": {
    "collapsed": false,
    "pycharm": {
     "name": "#%% md\n"
    }
   }
  },
  {
   "cell_type": "code",
   "execution_count": 2,
   "outputs": [],
   "source": [
    "import pandas as pd\n",
    "\n",
    "from src.eventstream.eventstream import Eventstream\n",
    "from src.eventstream.schema import RawDataSchema, EventstreamSchema\n",
    "from src.graph.p_graph import PGraph, EventsNode\n",
    "\n",
    "raw_data = pd.read_csv('simple-onlineshop.csv')\n",
    "\n",
    "raw_data_schema = RawDataSchema(\n",
    "                            event_name=\"event\",\n",
    "                            event_timestamp=\"timestamp\",\n",
    "                            user_id=\"user_id\")\n",
    "\n",
    "source = Eventstream(\n",
    "    raw_data=raw_data,\n",
    "    raw_data_schema=raw_data_schema,\n",
    "    schema=EventstreamSchema()\n",
    ")\n",
    "\n",
    "graph = PGraph(source_stream=source)"
   ],
   "metadata": {
    "collapsed": false,
    "pycharm": {
     "name": "#%%\n"
    }
   }
  },
  {
   "cell_type": "code",
   "execution_count": 3,
   "outputs": [
    {
     "data": {
      "text/plain": "                               event_id event_type  event_index event_name  \\\n0  fdb4f7eb-7d31-46c0-82f9-ab91e7c23b20        raw            0    catalog   \n1  e7475129-8d4e-4460-9671-a6e1e8f93002        raw            1   product1   \n2  61f973a2-282e-4a14-a390-66f880dcba36        raw            2       cart   \n3  82618fe2-be72-4e6f-b2b6-155c8e460b66        raw            3    catalog   \n4  ca3ee2de-4d37-48b1-a4fc-7d5cfea6fdf5        raw            4    catalog   \n\n             event_timestamp    user_id  \n0 2019-11-01 17:59:13.273932  219483890  \n1 2019-11-01 17:59:28.459271  219483890  \n2 2019-11-01 17:59:29.502214  219483890  \n3 2019-11-01 17:59:32.557029  219483890  \n4 2019-11-01 21:38:19.283663  964964743  ",
      "text/html": "<div>\n<style scoped>\n    .dataframe tbody tr th:only-of-type {\n        vertical-align: middle;\n    }\n\n    .dataframe tbody tr th {\n        vertical-align: top;\n    }\n\n    .dataframe thead th {\n        text-align: right;\n    }\n</style>\n<table border=\"1\" class=\"dataframe\">\n  <thead>\n    <tr style=\"text-align: right;\">\n      <th></th>\n      <th>event_id</th>\n      <th>event_type</th>\n      <th>event_index</th>\n      <th>event_name</th>\n      <th>event_timestamp</th>\n      <th>user_id</th>\n    </tr>\n  </thead>\n  <tbody>\n    <tr>\n      <th>0</th>\n      <td>fdb4f7eb-7d31-46c0-82f9-ab91e7c23b20</td>\n      <td>raw</td>\n      <td>0</td>\n      <td>catalog</td>\n      <td>2019-11-01 17:59:13.273932</td>\n      <td>219483890</td>\n    </tr>\n    <tr>\n      <th>1</th>\n      <td>e7475129-8d4e-4460-9671-a6e1e8f93002</td>\n      <td>raw</td>\n      <td>1</td>\n      <td>product1</td>\n      <td>2019-11-01 17:59:28.459271</td>\n      <td>219483890</td>\n    </tr>\n    <tr>\n      <th>2</th>\n      <td>61f973a2-282e-4a14-a390-66f880dcba36</td>\n      <td>raw</td>\n      <td>2</td>\n      <td>cart</td>\n      <td>2019-11-01 17:59:29.502214</td>\n      <td>219483890</td>\n    </tr>\n    <tr>\n      <th>3</th>\n      <td>82618fe2-be72-4e6f-b2b6-155c8e460b66</td>\n      <td>raw</td>\n      <td>3</td>\n      <td>catalog</td>\n      <td>2019-11-01 17:59:32.557029</td>\n      <td>219483890</td>\n    </tr>\n    <tr>\n      <th>4</th>\n      <td>ca3ee2de-4d37-48b1-a4fc-7d5cfea6fdf5</td>\n      <td>raw</td>\n      <td>4</td>\n      <td>catalog</td>\n      <td>2019-11-01 21:38:19.283663</td>\n      <td>964964743</td>\n    </tr>\n  </tbody>\n</table>\n</div>"
     },
     "execution_count": 3,
     "metadata": {},
     "output_type": "execute_result"
    }
   ],
   "source": [
    "source_df = source.to_dataframe()\n",
    "source_df.head()"
   ],
   "metadata": {
    "collapsed": false,
    "pycharm": {
     "name": "#%%\n"
    }
   }
  },
  {
   "cell_type": "markdown",
   "source": [
    "# collapse_loops"
   ],
   "metadata": {
    "collapsed": false,
    "pycharm": {
     "name": "#%% md\n"
    }
   }
  },
  {
   "cell_type": "markdown",
   "source": [
    "## Описание функции"
   ],
   "metadata": {
    "collapsed": false,
    "pycharm": {
     "name": "#%% md\n"
    }
   }
  },
  {
   "cell_type": "markdown",
   "source": [
    "Функция позиционной группировки\n",
    "\n",
    "В траектории каждого пользователя находит последовательности одинаковых событий (2 и больше) и группирует их в одно с прометкой “_loop”\n",
    "\n",
    "**Параметры**\n",
    "\n",
    "`full_collapse: bool = True`\n",
    "\n",
    "Если `True`, то к event_name raw события добавится “_loop”\n",
    "\n",
    "Если `False`, то к event_name raw события добавится “_loop_num”, где num - длина последовательности одинаковых событий\n",
    "\n",
    "`agg: str = 'max'`\n",
    "\n",
    "Если `'max'`, то для нового события проставится  timestamp последнего события в последовательности\n",
    "\n",
    "Если `'min'`  - то первого\n",
    "\n",
    "Если `'mean'` - рассчитается среднее время между этими событиями"
   ],
   "metadata": {
    "collapsed": false,
    "pycharm": {
     "name": "#%% md\n"
    }
   }
  },
  {
   "cell_type": "markdown",
   "source": [
    "##  'full_collapse': False, 'agg': 'min'"
   ],
   "metadata": {
    "collapsed": false,
    "pycharm": {
     "name": "#%% md\n"
    }
   }
  },
  {
   "cell_type": "code",
   "execution_count": 21,
   "outputs": [
    {
     "name": "stdout",
     "output_type": "stream",
     "text": [
      "CPU times: user 604 ms, sys: 87.1 ms, total: 692 ms\n",
      "Wall time: 745 ms\n"
     ]
    }
   ],
   "source": [
    "%%time\n",
    "from src.data_processors_lib.rete import CollapseLoops, CollapseLoopsParams\n",
    "\n",
    "params = {\n",
    "    'full_collapse': False,\n",
    "    'agg': 'min'\n",
    "}\n",
    "\n",
    "collapsed = EventsNode(\n",
    "    CollapseLoops(params=CollapseLoopsParams(**params)))\n",
    "\n",
    "graph.add_node(\n",
    "    node=collapsed,\n",
    "    parents=[graph.root]\n",
    ")\n",
    "\n",
    "result = graph.combine(\n",
    "    node=collapsed\n",
    ")\n"
   ],
   "metadata": {
    "collapsed": false,
    "pycharm": {
     "name": "#%%\n"
    }
   }
  },
  {
   "cell_type": "code",
   "execution_count": 22,
   "outputs": [],
   "source": [
    "df_false_min = result.to_dataframe()"
   ],
   "metadata": {
    "collapsed": false,
    "pycharm": {
     "name": "#%%\n"
    }
   }
  },
  {
   "cell_type": "code",
   "execution_count": 23,
   "outputs": [
    {
     "data": {
      "text/plain": "(29481, 35381)"
     },
     "execution_count": 23,
     "metadata": {},
     "output_type": "execute_result"
    }
   ],
   "source": [
    "len(df_false_min), len(source_df)"
   ],
   "metadata": {
    "collapsed": false,
    "pycharm": {
     "name": "#%%\n"
    }
   }
  },
  {
   "cell_type": "code",
   "execution_count": 24,
   "outputs": [
    {
     "data": {
      "text/plain": "                                   event_id   event_type  event_index  \\\n0      fdb4f7eb-7d31-46c0-82f9-ab91e7c23b20          raw            0   \n1      e7475129-8d4e-4460-9671-a6e1e8f93002          raw            1   \n2      61f973a2-282e-4a14-a390-66f880dcba36          raw            2   \n3      82618fe2-be72-4e6f-b2b6-155c8e460b66          raw            3   \n3220   76549528-cca8-42dd-b9d8-7916386ef49a          raw         3220   \n3221   8a6ac897-c397-492f-9470-d17ba599c348  group_alias         3221   \n6934   c263564e-8a4c-45ca-8d84-d328bdcc12fb          raw         6934   \n6935   2014e572-a73e-448b-b36a-7c7ce7155616          raw         6935   \n6936   bb01810b-6a19-482a-a797-ecce8f398a9b          raw         6936   \n6937   14609f7c-cb9f-4c1b-a7e9-0d96aeb79c91          raw         6937   \n6938   4a96f592-fae0-45ce-b5dd-e2ec39f13031          raw         6938   \n6939   db6efefd-3212-4c60-abf4-c529e446422b  group_alias         6939   \n12484  e4e563dc-73f4-4028-be84-8abda1b14c26          raw        12484   \n12485  42ad2268-d2f2-4093-b8a1-1091c4278f6b          raw        12485   \n12486  f3959a27-0ee6-48cf-8a9a-95a02d8ba4bc          raw        12486   \n\n           event_name            event_timestamp      user_id  \n0             catalog 2019-11-01 17:59:13.273932  219483890.0  \n1            product1 2019-11-01 17:59:28.459271  219483890.0  \n2                cart 2019-11-01 17:59:29.502214  219483890.0  \n3             catalog 2019-11-01 17:59:32.557029  219483890.0  \n3220             main 2019-12-06 16:22:57.484842  219483890.0  \n3221   catalog_loop_2 2019-12-06 16:23:01.331109  219483890.0  \n6934             main 2020-01-06 22:10:13.635011  219483890.0  \n6935          catalog 2020-01-06 22:10:15.228575  219483890.0  \n6936             cart 2020-01-06 22:10:42.309028  219483890.0  \n6937          catalog 2020-01-06 22:10:52.255859  219483890.0  \n6938         product1 2020-01-06 22:11:01.709800  219483890.0  \n6939   catalog_loop_2 2020-01-06 22:11:02.899490  219483890.0  \n12484            main 2020-02-14 21:04:49.450696  219483890.0  \n12485         catalog 2020-02-14 21:04:51.717127  219483890.0  \n12486            lost 2020-02-14 21:04:52.717127  219483890.0  ",
      "text/html": "<div>\n<style scoped>\n    .dataframe tbody tr th:only-of-type {\n        vertical-align: middle;\n    }\n\n    .dataframe tbody tr th {\n        vertical-align: top;\n    }\n\n    .dataframe thead th {\n        text-align: right;\n    }\n</style>\n<table border=\"1\" class=\"dataframe\">\n  <thead>\n    <tr style=\"text-align: right;\">\n      <th></th>\n      <th>event_id</th>\n      <th>event_type</th>\n      <th>event_index</th>\n      <th>event_name</th>\n      <th>event_timestamp</th>\n      <th>user_id</th>\n    </tr>\n  </thead>\n  <tbody>\n    <tr>\n      <th>0</th>\n      <td>fdb4f7eb-7d31-46c0-82f9-ab91e7c23b20</td>\n      <td>raw</td>\n      <td>0</td>\n      <td>catalog</td>\n      <td>2019-11-01 17:59:13.273932</td>\n      <td>219483890.0</td>\n    </tr>\n    <tr>\n      <th>1</th>\n      <td>e7475129-8d4e-4460-9671-a6e1e8f93002</td>\n      <td>raw</td>\n      <td>1</td>\n      <td>product1</td>\n      <td>2019-11-01 17:59:28.459271</td>\n      <td>219483890.0</td>\n    </tr>\n    <tr>\n      <th>2</th>\n      <td>61f973a2-282e-4a14-a390-66f880dcba36</td>\n      <td>raw</td>\n      <td>2</td>\n      <td>cart</td>\n      <td>2019-11-01 17:59:29.502214</td>\n      <td>219483890.0</td>\n    </tr>\n    <tr>\n      <th>3</th>\n      <td>82618fe2-be72-4e6f-b2b6-155c8e460b66</td>\n      <td>raw</td>\n      <td>3</td>\n      <td>catalog</td>\n      <td>2019-11-01 17:59:32.557029</td>\n      <td>219483890.0</td>\n    </tr>\n    <tr>\n      <th>3220</th>\n      <td>76549528-cca8-42dd-b9d8-7916386ef49a</td>\n      <td>raw</td>\n      <td>3220</td>\n      <td>main</td>\n      <td>2019-12-06 16:22:57.484842</td>\n      <td>219483890.0</td>\n    </tr>\n    <tr>\n      <th>3221</th>\n      <td>8a6ac897-c397-492f-9470-d17ba599c348</td>\n      <td>group_alias</td>\n      <td>3221</td>\n      <td>catalog_loop_2</td>\n      <td>2019-12-06 16:23:01.331109</td>\n      <td>219483890.0</td>\n    </tr>\n    <tr>\n      <th>6934</th>\n      <td>c263564e-8a4c-45ca-8d84-d328bdcc12fb</td>\n      <td>raw</td>\n      <td>6934</td>\n      <td>main</td>\n      <td>2020-01-06 22:10:13.635011</td>\n      <td>219483890.0</td>\n    </tr>\n    <tr>\n      <th>6935</th>\n      <td>2014e572-a73e-448b-b36a-7c7ce7155616</td>\n      <td>raw</td>\n      <td>6935</td>\n      <td>catalog</td>\n      <td>2020-01-06 22:10:15.228575</td>\n      <td>219483890.0</td>\n    </tr>\n    <tr>\n      <th>6936</th>\n      <td>bb01810b-6a19-482a-a797-ecce8f398a9b</td>\n      <td>raw</td>\n      <td>6936</td>\n      <td>cart</td>\n      <td>2020-01-06 22:10:42.309028</td>\n      <td>219483890.0</td>\n    </tr>\n    <tr>\n      <th>6937</th>\n      <td>14609f7c-cb9f-4c1b-a7e9-0d96aeb79c91</td>\n      <td>raw</td>\n      <td>6937</td>\n      <td>catalog</td>\n      <td>2020-01-06 22:10:52.255859</td>\n      <td>219483890.0</td>\n    </tr>\n    <tr>\n      <th>6938</th>\n      <td>4a96f592-fae0-45ce-b5dd-e2ec39f13031</td>\n      <td>raw</td>\n      <td>6938</td>\n      <td>product1</td>\n      <td>2020-01-06 22:11:01.709800</td>\n      <td>219483890.0</td>\n    </tr>\n    <tr>\n      <th>6939</th>\n      <td>db6efefd-3212-4c60-abf4-c529e446422b</td>\n      <td>group_alias</td>\n      <td>6939</td>\n      <td>catalog_loop_2</td>\n      <td>2020-01-06 22:11:02.899490</td>\n      <td>219483890.0</td>\n    </tr>\n    <tr>\n      <th>12484</th>\n      <td>e4e563dc-73f4-4028-be84-8abda1b14c26</td>\n      <td>raw</td>\n      <td>12484</td>\n      <td>main</td>\n      <td>2020-02-14 21:04:49.450696</td>\n      <td>219483890.0</td>\n    </tr>\n    <tr>\n      <th>12485</th>\n      <td>42ad2268-d2f2-4093-b8a1-1091c4278f6b</td>\n      <td>raw</td>\n      <td>12485</td>\n      <td>catalog</td>\n      <td>2020-02-14 21:04:51.717127</td>\n      <td>219483890.0</td>\n    </tr>\n    <tr>\n      <th>12486</th>\n      <td>f3959a27-0ee6-48cf-8a9a-95a02d8ba4bc</td>\n      <td>raw</td>\n      <td>12486</td>\n      <td>lost</td>\n      <td>2020-02-14 21:04:52.717127</td>\n      <td>219483890.0</td>\n    </tr>\n  </tbody>\n</table>\n</div>"
     },
     "execution_count": 24,
     "metadata": {},
     "output_type": "execute_result"
    }
   ],
   "source": [
    "check_user_id = 219483890\n",
    "df_false_min[df_false_min['user_id'] == check_user_id]"
   ],
   "metadata": {
    "collapsed": false,
    "pycharm": {
     "name": "#%%\n"
    }
   }
  },
  {
   "cell_type": "code",
   "execution_count": 25,
   "outputs": [
    {
     "data": {
      "text/plain": "                                  event_id event_type  event_index event_name  \\\n0     fdb4f7eb-7d31-46c0-82f9-ab91e7c23b20        raw            0    catalog   \n1     e7475129-8d4e-4460-9671-a6e1e8f93002        raw            1   product1   \n2     61f973a2-282e-4a14-a390-66f880dcba36        raw            2       cart   \n3     82618fe2-be72-4e6f-b2b6-155c8e460b66        raw            3    catalog   \n2245  76549528-cca8-42dd-b9d8-7916386ef49a        raw         2245       main   \n2246  de17f095-ad35-4741-988f-3faec3525cef        raw         2246    catalog   \n2247  26fbf74c-0741-4bcc-9ed0-1cc5efbd0a5e        raw         2247    catalog   \n4836  c263564e-8a4c-45ca-8d84-d328bdcc12fb        raw         4836       main   \n4837  2014e572-a73e-448b-b36a-7c7ce7155616        raw         4837    catalog   \n4838  bb01810b-6a19-482a-a797-ecce8f398a9b        raw         4838       cart   \n4839  14609f7c-cb9f-4c1b-a7e9-0d96aeb79c91        raw         4839    catalog   \n4840  4a96f592-fae0-45ce-b5dd-e2ec39f13031        raw         4840   product1   \n4841  3d338cd7-a1c0-4f33-bac8-f8c3aaf4b88d        raw         4841    catalog   \n4842  84a087a2-1228-43ed-9e8d-b0795862ef76        raw         4842    catalog   \n8736  e4e563dc-73f4-4028-be84-8abda1b14c26        raw         8736       main   \n8737  42ad2268-d2f2-4093-b8a1-1091c4278f6b        raw         8737    catalog   \n8738  f3959a27-0ee6-48cf-8a9a-95a02d8ba4bc        raw         8738       lost   \n\n                event_timestamp    user_id  \n0    2019-11-01 17:59:13.273932  219483890  \n1    2019-11-01 17:59:28.459271  219483890  \n2    2019-11-01 17:59:29.502214  219483890  \n3    2019-11-01 17:59:32.557029  219483890  \n2245 2019-12-06 16:22:57.484842  219483890  \n2246 2019-12-06 16:23:01.331109  219483890  \n2247 2019-12-06 16:23:48.116617  219483890  \n4836 2020-01-06 22:10:13.635011  219483890  \n4837 2020-01-06 22:10:15.228575  219483890  \n4838 2020-01-06 22:10:42.309028  219483890  \n4839 2020-01-06 22:10:52.255859  219483890  \n4840 2020-01-06 22:11:01.709800  219483890  \n4841 2020-01-06 22:11:02.899490  219483890  \n4842 2020-01-06 22:11:28.271366  219483890  \n8736 2020-02-14 21:04:49.450696  219483890  \n8737 2020-02-14 21:04:51.717127  219483890  \n8738 2020-02-14 21:04:52.717127  219483890  ",
      "text/html": "<div>\n<style scoped>\n    .dataframe tbody tr th:only-of-type {\n        vertical-align: middle;\n    }\n\n    .dataframe tbody tr th {\n        vertical-align: top;\n    }\n\n    .dataframe thead th {\n        text-align: right;\n    }\n</style>\n<table border=\"1\" class=\"dataframe\">\n  <thead>\n    <tr style=\"text-align: right;\">\n      <th></th>\n      <th>event_id</th>\n      <th>event_type</th>\n      <th>event_index</th>\n      <th>event_name</th>\n      <th>event_timestamp</th>\n      <th>user_id</th>\n    </tr>\n  </thead>\n  <tbody>\n    <tr>\n      <th>0</th>\n      <td>fdb4f7eb-7d31-46c0-82f9-ab91e7c23b20</td>\n      <td>raw</td>\n      <td>0</td>\n      <td>catalog</td>\n      <td>2019-11-01 17:59:13.273932</td>\n      <td>219483890</td>\n    </tr>\n    <tr>\n      <th>1</th>\n      <td>e7475129-8d4e-4460-9671-a6e1e8f93002</td>\n      <td>raw</td>\n      <td>1</td>\n      <td>product1</td>\n      <td>2019-11-01 17:59:28.459271</td>\n      <td>219483890</td>\n    </tr>\n    <tr>\n      <th>2</th>\n      <td>61f973a2-282e-4a14-a390-66f880dcba36</td>\n      <td>raw</td>\n      <td>2</td>\n      <td>cart</td>\n      <td>2019-11-01 17:59:29.502214</td>\n      <td>219483890</td>\n    </tr>\n    <tr>\n      <th>3</th>\n      <td>82618fe2-be72-4e6f-b2b6-155c8e460b66</td>\n      <td>raw</td>\n      <td>3</td>\n      <td>catalog</td>\n      <td>2019-11-01 17:59:32.557029</td>\n      <td>219483890</td>\n    </tr>\n    <tr>\n      <th>2245</th>\n      <td>76549528-cca8-42dd-b9d8-7916386ef49a</td>\n      <td>raw</td>\n      <td>2245</td>\n      <td>main</td>\n      <td>2019-12-06 16:22:57.484842</td>\n      <td>219483890</td>\n    </tr>\n    <tr>\n      <th>2246</th>\n      <td>de17f095-ad35-4741-988f-3faec3525cef</td>\n      <td>raw</td>\n      <td>2246</td>\n      <td>catalog</td>\n      <td>2019-12-06 16:23:01.331109</td>\n      <td>219483890</td>\n    </tr>\n    <tr>\n      <th>2247</th>\n      <td>26fbf74c-0741-4bcc-9ed0-1cc5efbd0a5e</td>\n      <td>raw</td>\n      <td>2247</td>\n      <td>catalog</td>\n      <td>2019-12-06 16:23:48.116617</td>\n      <td>219483890</td>\n    </tr>\n    <tr>\n      <th>4836</th>\n      <td>c263564e-8a4c-45ca-8d84-d328bdcc12fb</td>\n      <td>raw</td>\n      <td>4836</td>\n      <td>main</td>\n      <td>2020-01-06 22:10:13.635011</td>\n      <td>219483890</td>\n    </tr>\n    <tr>\n      <th>4837</th>\n      <td>2014e572-a73e-448b-b36a-7c7ce7155616</td>\n      <td>raw</td>\n      <td>4837</td>\n      <td>catalog</td>\n      <td>2020-01-06 22:10:15.228575</td>\n      <td>219483890</td>\n    </tr>\n    <tr>\n      <th>4838</th>\n      <td>bb01810b-6a19-482a-a797-ecce8f398a9b</td>\n      <td>raw</td>\n      <td>4838</td>\n      <td>cart</td>\n      <td>2020-01-06 22:10:42.309028</td>\n      <td>219483890</td>\n    </tr>\n    <tr>\n      <th>4839</th>\n      <td>14609f7c-cb9f-4c1b-a7e9-0d96aeb79c91</td>\n      <td>raw</td>\n      <td>4839</td>\n      <td>catalog</td>\n      <td>2020-01-06 22:10:52.255859</td>\n      <td>219483890</td>\n    </tr>\n    <tr>\n      <th>4840</th>\n      <td>4a96f592-fae0-45ce-b5dd-e2ec39f13031</td>\n      <td>raw</td>\n      <td>4840</td>\n      <td>product1</td>\n      <td>2020-01-06 22:11:01.709800</td>\n      <td>219483890</td>\n    </tr>\n    <tr>\n      <th>4841</th>\n      <td>3d338cd7-a1c0-4f33-bac8-f8c3aaf4b88d</td>\n      <td>raw</td>\n      <td>4841</td>\n      <td>catalog</td>\n      <td>2020-01-06 22:11:02.899490</td>\n      <td>219483890</td>\n    </tr>\n    <tr>\n      <th>4842</th>\n      <td>84a087a2-1228-43ed-9e8d-b0795862ef76</td>\n      <td>raw</td>\n      <td>4842</td>\n      <td>catalog</td>\n      <td>2020-01-06 22:11:28.271366</td>\n      <td>219483890</td>\n    </tr>\n    <tr>\n      <th>8736</th>\n      <td>e4e563dc-73f4-4028-be84-8abda1b14c26</td>\n      <td>raw</td>\n      <td>8736</td>\n      <td>main</td>\n      <td>2020-02-14 21:04:49.450696</td>\n      <td>219483890</td>\n    </tr>\n    <tr>\n      <th>8737</th>\n      <td>42ad2268-d2f2-4093-b8a1-1091c4278f6b</td>\n      <td>raw</td>\n      <td>8737</td>\n      <td>catalog</td>\n      <td>2020-02-14 21:04:51.717127</td>\n      <td>219483890</td>\n    </tr>\n    <tr>\n      <th>8738</th>\n      <td>f3959a27-0ee6-48cf-8a9a-95a02d8ba4bc</td>\n      <td>raw</td>\n      <td>8738</td>\n      <td>lost</td>\n      <td>2020-02-14 21:04:52.717127</td>\n      <td>219483890</td>\n    </tr>\n  </tbody>\n</table>\n</div>"
     },
     "execution_count": 25,
     "metadata": {},
     "output_type": "execute_result"
    }
   ],
   "source": [
    "source_df[source_df['user_id'] == check_user_id]"
   ],
   "metadata": {
    "collapsed": false,
    "pycharm": {
     "name": "#%%\n"
    }
   }
  },
  {
   "cell_type": "code",
   "execution_count": null,
   "outputs": [],
   "source": [],
   "metadata": {
    "collapsed": false,
    "pycharm": {
     "name": "#%%\n"
    }
   }
  },
  {
   "cell_type": "markdown",
   "source": [
    "##  'full_collapse': False, 'agg': 'max'"
   ],
   "metadata": {
    "collapsed": false,
    "pycharm": {
     "name": "#%% md\n"
    }
   }
  },
  {
   "cell_type": "code",
   "execution_count": 8,
   "outputs": [
    {
     "name": "stdout",
     "output_type": "stream",
     "text": [
      "CPU times: user 598 ms, sys: 36.1 ms, total: 634 ms\n",
      "Wall time: 705 ms\n"
     ]
    }
   ],
   "source": [
    "%%time\n",
    "from src.data_processors_lib.rete import CollapseLoops, CollapseLoopsParams\n",
    "\n",
    "params = {\n",
    "    'full_collapse': False,\n",
    "    'agg': 'max'\n",
    "}\n",
    "\n",
    "collapsed = EventsNode(\n",
    "    CollapseLoops(params=CollapseLoopsParams(**params)))\n",
    "\n",
    "graph.add_node(\n",
    "    node=collapsed,\n",
    "    parents=[graph.root]\n",
    ")\n",
    "\n",
    "result = graph.combine(\n",
    "    node=collapsed\n",
    ")\n"
   ],
   "metadata": {
    "collapsed": false,
    "pycharm": {
     "name": "#%%\n"
    }
   }
  },
  {
   "cell_type": "code",
   "execution_count": 10,
   "outputs": [],
   "source": [
    "df_false_max = result.to_dataframe()"
   ],
   "metadata": {
    "collapsed": false,
    "pycharm": {
     "name": "#%%\n"
    }
   }
  },
  {
   "cell_type": "code",
   "execution_count": 15,
   "outputs": [
    {
     "data": {
      "text/plain": "                                   event_id   event_type  event_index  \\\n0      fdb4f7eb-7d31-46c0-82f9-ab91e7c23b20          raw            0   \n1      e7475129-8d4e-4460-9671-a6e1e8f93002          raw            1   \n2      61f973a2-282e-4a14-a390-66f880dcba36          raw            2   \n3      82618fe2-be72-4e6f-b2b6-155c8e460b66          raw            3   \n3182   76549528-cca8-42dd-b9d8-7916386ef49a          raw         3182   \n3185   aa4624a3-f158-4c5a-b57e-f72babd8480b  group_alias         3185   \n6866   c263564e-8a4c-45ca-8d84-d328bdcc12fb          raw         6866   \n6867   2014e572-a73e-448b-b36a-7c7ce7155616          raw         6867   \n6868   bb01810b-6a19-482a-a797-ecce8f398a9b          raw         6868   \n6869   14609f7c-cb9f-4c1b-a7e9-0d96aeb79c91          raw         6869   \n6870   4a96f592-fae0-45ce-b5dd-e2ec39f13031          raw         6870   \n6873   3431c661-d9f7-4bbf-a592-ba5a244408d8  group_alias         6873   \n12383  e4e563dc-73f4-4028-be84-8abda1b14c26          raw        12383   \n12384  42ad2268-d2f2-4093-b8a1-1091c4278f6b          raw        12384   \n12385  f3959a27-0ee6-48cf-8a9a-95a02d8ba4bc          raw        12385   \n\n           event_name            event_timestamp      user_id  \n0             catalog 2019-11-01 17:59:13.273932  219483890.0  \n1            product1 2019-11-01 17:59:28.459271  219483890.0  \n2                cart 2019-11-01 17:59:29.502214  219483890.0  \n3             catalog 2019-11-01 17:59:32.557029  219483890.0  \n3182             main 2019-12-06 16:22:57.484842  219483890.0  \n3185   catalog_loop_2 2019-12-06 16:23:48.116617  219483890.0  \n6866             main 2020-01-06 22:10:13.635011  219483890.0  \n6867          catalog 2020-01-06 22:10:15.228575  219483890.0  \n6868             cart 2020-01-06 22:10:42.309028  219483890.0  \n6869          catalog 2020-01-06 22:10:52.255859  219483890.0  \n6870         product1 2020-01-06 22:11:01.709800  219483890.0  \n6873   catalog_loop_2 2020-01-06 22:11:28.271366  219483890.0  \n12383            main 2020-02-14 21:04:49.450696  219483890.0  \n12384         catalog 2020-02-14 21:04:51.717127  219483890.0  \n12385            lost 2020-02-14 21:04:52.717127  219483890.0  ",
      "text/html": "<div>\n<style scoped>\n    .dataframe tbody tr th:only-of-type {\n        vertical-align: middle;\n    }\n\n    .dataframe tbody tr th {\n        vertical-align: top;\n    }\n\n    .dataframe thead th {\n        text-align: right;\n    }\n</style>\n<table border=\"1\" class=\"dataframe\">\n  <thead>\n    <tr style=\"text-align: right;\">\n      <th></th>\n      <th>event_id</th>\n      <th>event_type</th>\n      <th>event_index</th>\n      <th>event_name</th>\n      <th>event_timestamp</th>\n      <th>user_id</th>\n    </tr>\n  </thead>\n  <tbody>\n    <tr>\n      <th>0</th>\n      <td>fdb4f7eb-7d31-46c0-82f9-ab91e7c23b20</td>\n      <td>raw</td>\n      <td>0</td>\n      <td>catalog</td>\n      <td>2019-11-01 17:59:13.273932</td>\n      <td>219483890.0</td>\n    </tr>\n    <tr>\n      <th>1</th>\n      <td>e7475129-8d4e-4460-9671-a6e1e8f93002</td>\n      <td>raw</td>\n      <td>1</td>\n      <td>product1</td>\n      <td>2019-11-01 17:59:28.459271</td>\n      <td>219483890.0</td>\n    </tr>\n    <tr>\n      <th>2</th>\n      <td>61f973a2-282e-4a14-a390-66f880dcba36</td>\n      <td>raw</td>\n      <td>2</td>\n      <td>cart</td>\n      <td>2019-11-01 17:59:29.502214</td>\n      <td>219483890.0</td>\n    </tr>\n    <tr>\n      <th>3</th>\n      <td>82618fe2-be72-4e6f-b2b6-155c8e460b66</td>\n      <td>raw</td>\n      <td>3</td>\n      <td>catalog</td>\n      <td>2019-11-01 17:59:32.557029</td>\n      <td>219483890.0</td>\n    </tr>\n    <tr>\n      <th>3182</th>\n      <td>76549528-cca8-42dd-b9d8-7916386ef49a</td>\n      <td>raw</td>\n      <td>3182</td>\n      <td>main</td>\n      <td>2019-12-06 16:22:57.484842</td>\n      <td>219483890.0</td>\n    </tr>\n    <tr>\n      <th>3185</th>\n      <td>aa4624a3-f158-4c5a-b57e-f72babd8480b</td>\n      <td>group_alias</td>\n      <td>3185</td>\n      <td>catalog_loop_2</td>\n      <td>2019-12-06 16:23:48.116617</td>\n      <td>219483890.0</td>\n    </tr>\n    <tr>\n      <th>6866</th>\n      <td>c263564e-8a4c-45ca-8d84-d328bdcc12fb</td>\n      <td>raw</td>\n      <td>6866</td>\n      <td>main</td>\n      <td>2020-01-06 22:10:13.635011</td>\n      <td>219483890.0</td>\n    </tr>\n    <tr>\n      <th>6867</th>\n      <td>2014e572-a73e-448b-b36a-7c7ce7155616</td>\n      <td>raw</td>\n      <td>6867</td>\n      <td>catalog</td>\n      <td>2020-01-06 22:10:15.228575</td>\n      <td>219483890.0</td>\n    </tr>\n    <tr>\n      <th>6868</th>\n      <td>bb01810b-6a19-482a-a797-ecce8f398a9b</td>\n      <td>raw</td>\n      <td>6868</td>\n      <td>cart</td>\n      <td>2020-01-06 22:10:42.309028</td>\n      <td>219483890.0</td>\n    </tr>\n    <tr>\n      <th>6869</th>\n      <td>14609f7c-cb9f-4c1b-a7e9-0d96aeb79c91</td>\n      <td>raw</td>\n      <td>6869</td>\n      <td>catalog</td>\n      <td>2020-01-06 22:10:52.255859</td>\n      <td>219483890.0</td>\n    </tr>\n    <tr>\n      <th>6870</th>\n      <td>4a96f592-fae0-45ce-b5dd-e2ec39f13031</td>\n      <td>raw</td>\n      <td>6870</td>\n      <td>product1</td>\n      <td>2020-01-06 22:11:01.709800</td>\n      <td>219483890.0</td>\n    </tr>\n    <tr>\n      <th>6873</th>\n      <td>3431c661-d9f7-4bbf-a592-ba5a244408d8</td>\n      <td>group_alias</td>\n      <td>6873</td>\n      <td>catalog_loop_2</td>\n      <td>2020-01-06 22:11:28.271366</td>\n      <td>219483890.0</td>\n    </tr>\n    <tr>\n      <th>12383</th>\n      <td>e4e563dc-73f4-4028-be84-8abda1b14c26</td>\n      <td>raw</td>\n      <td>12383</td>\n      <td>main</td>\n      <td>2020-02-14 21:04:49.450696</td>\n      <td>219483890.0</td>\n    </tr>\n    <tr>\n      <th>12384</th>\n      <td>42ad2268-d2f2-4093-b8a1-1091c4278f6b</td>\n      <td>raw</td>\n      <td>12384</td>\n      <td>catalog</td>\n      <td>2020-02-14 21:04:51.717127</td>\n      <td>219483890.0</td>\n    </tr>\n    <tr>\n      <th>12385</th>\n      <td>f3959a27-0ee6-48cf-8a9a-95a02d8ba4bc</td>\n      <td>raw</td>\n      <td>12385</td>\n      <td>lost</td>\n      <td>2020-02-14 21:04:52.717127</td>\n      <td>219483890.0</td>\n    </tr>\n  </tbody>\n</table>\n</div>"
     },
     "execution_count": 15,
     "metadata": {},
     "output_type": "execute_result"
    }
   ],
   "source": [
    "check_user_id = 219483890\n",
    "df_false_max[df_false_max['user_id'] == check_user_id]"
   ],
   "metadata": {
    "collapsed": false,
    "pycharm": {
     "name": "#%%\n"
    }
   }
  },
  {
   "cell_type": "code",
   "execution_count": 17,
   "outputs": [
    {
     "data": {
      "text/plain": "                                  event_id event_type  event_index event_name  \\\n0     fdb4f7eb-7d31-46c0-82f9-ab91e7c23b20        raw            0    catalog   \n1     e7475129-8d4e-4460-9671-a6e1e8f93002        raw            1   product1   \n2     61f973a2-282e-4a14-a390-66f880dcba36        raw            2       cart   \n3     82618fe2-be72-4e6f-b2b6-155c8e460b66        raw            3    catalog   \n2245  76549528-cca8-42dd-b9d8-7916386ef49a        raw         2245       main   \n2246  de17f095-ad35-4741-988f-3faec3525cef        raw         2246    catalog   \n2247  26fbf74c-0741-4bcc-9ed0-1cc5efbd0a5e        raw         2247    catalog   \n4836  c263564e-8a4c-45ca-8d84-d328bdcc12fb        raw         4836       main   \n4837  2014e572-a73e-448b-b36a-7c7ce7155616        raw         4837    catalog   \n4838  bb01810b-6a19-482a-a797-ecce8f398a9b        raw         4838       cart   \n4839  14609f7c-cb9f-4c1b-a7e9-0d96aeb79c91        raw         4839    catalog   \n4840  4a96f592-fae0-45ce-b5dd-e2ec39f13031        raw         4840   product1   \n4841  3d338cd7-a1c0-4f33-bac8-f8c3aaf4b88d        raw         4841    catalog   \n4842  84a087a2-1228-43ed-9e8d-b0795862ef76        raw         4842    catalog   \n8736  e4e563dc-73f4-4028-be84-8abda1b14c26        raw         8736       main   \n8737  42ad2268-d2f2-4093-b8a1-1091c4278f6b        raw         8737    catalog   \n8738  f3959a27-0ee6-48cf-8a9a-95a02d8ba4bc        raw         8738       lost   \n\n                event_timestamp    user_id  \n0    2019-11-01 17:59:13.273932  219483890  \n1    2019-11-01 17:59:28.459271  219483890  \n2    2019-11-01 17:59:29.502214  219483890  \n3    2019-11-01 17:59:32.557029  219483890  \n2245 2019-12-06 16:22:57.484842  219483890  \n2246 2019-12-06 16:23:01.331109  219483890  \n2247 2019-12-06 16:23:48.116617  219483890  \n4836 2020-01-06 22:10:13.635011  219483890  \n4837 2020-01-06 22:10:15.228575  219483890  \n4838 2020-01-06 22:10:42.309028  219483890  \n4839 2020-01-06 22:10:52.255859  219483890  \n4840 2020-01-06 22:11:01.709800  219483890  \n4841 2020-01-06 22:11:02.899490  219483890  \n4842 2020-01-06 22:11:28.271366  219483890  \n8736 2020-02-14 21:04:49.450696  219483890  \n8737 2020-02-14 21:04:51.717127  219483890  \n8738 2020-02-14 21:04:52.717127  219483890  ",
      "text/html": "<div>\n<style scoped>\n    .dataframe tbody tr th:only-of-type {\n        vertical-align: middle;\n    }\n\n    .dataframe tbody tr th {\n        vertical-align: top;\n    }\n\n    .dataframe thead th {\n        text-align: right;\n    }\n</style>\n<table border=\"1\" class=\"dataframe\">\n  <thead>\n    <tr style=\"text-align: right;\">\n      <th></th>\n      <th>event_id</th>\n      <th>event_type</th>\n      <th>event_index</th>\n      <th>event_name</th>\n      <th>event_timestamp</th>\n      <th>user_id</th>\n    </tr>\n  </thead>\n  <tbody>\n    <tr>\n      <th>0</th>\n      <td>fdb4f7eb-7d31-46c0-82f9-ab91e7c23b20</td>\n      <td>raw</td>\n      <td>0</td>\n      <td>catalog</td>\n      <td>2019-11-01 17:59:13.273932</td>\n      <td>219483890</td>\n    </tr>\n    <tr>\n      <th>1</th>\n      <td>e7475129-8d4e-4460-9671-a6e1e8f93002</td>\n      <td>raw</td>\n      <td>1</td>\n      <td>product1</td>\n      <td>2019-11-01 17:59:28.459271</td>\n      <td>219483890</td>\n    </tr>\n    <tr>\n      <th>2</th>\n      <td>61f973a2-282e-4a14-a390-66f880dcba36</td>\n      <td>raw</td>\n      <td>2</td>\n      <td>cart</td>\n      <td>2019-11-01 17:59:29.502214</td>\n      <td>219483890</td>\n    </tr>\n    <tr>\n      <th>3</th>\n      <td>82618fe2-be72-4e6f-b2b6-155c8e460b66</td>\n      <td>raw</td>\n      <td>3</td>\n      <td>catalog</td>\n      <td>2019-11-01 17:59:32.557029</td>\n      <td>219483890</td>\n    </tr>\n    <tr>\n      <th>2245</th>\n      <td>76549528-cca8-42dd-b9d8-7916386ef49a</td>\n      <td>raw</td>\n      <td>2245</td>\n      <td>main</td>\n      <td>2019-12-06 16:22:57.484842</td>\n      <td>219483890</td>\n    </tr>\n    <tr>\n      <th>2246</th>\n      <td>de17f095-ad35-4741-988f-3faec3525cef</td>\n      <td>raw</td>\n      <td>2246</td>\n      <td>catalog</td>\n      <td>2019-12-06 16:23:01.331109</td>\n      <td>219483890</td>\n    </tr>\n    <tr>\n      <th>2247</th>\n      <td>26fbf74c-0741-4bcc-9ed0-1cc5efbd0a5e</td>\n      <td>raw</td>\n      <td>2247</td>\n      <td>catalog</td>\n      <td>2019-12-06 16:23:48.116617</td>\n      <td>219483890</td>\n    </tr>\n    <tr>\n      <th>4836</th>\n      <td>c263564e-8a4c-45ca-8d84-d328bdcc12fb</td>\n      <td>raw</td>\n      <td>4836</td>\n      <td>main</td>\n      <td>2020-01-06 22:10:13.635011</td>\n      <td>219483890</td>\n    </tr>\n    <tr>\n      <th>4837</th>\n      <td>2014e572-a73e-448b-b36a-7c7ce7155616</td>\n      <td>raw</td>\n      <td>4837</td>\n      <td>catalog</td>\n      <td>2020-01-06 22:10:15.228575</td>\n      <td>219483890</td>\n    </tr>\n    <tr>\n      <th>4838</th>\n      <td>bb01810b-6a19-482a-a797-ecce8f398a9b</td>\n      <td>raw</td>\n      <td>4838</td>\n      <td>cart</td>\n      <td>2020-01-06 22:10:42.309028</td>\n      <td>219483890</td>\n    </tr>\n    <tr>\n      <th>4839</th>\n      <td>14609f7c-cb9f-4c1b-a7e9-0d96aeb79c91</td>\n      <td>raw</td>\n      <td>4839</td>\n      <td>catalog</td>\n      <td>2020-01-06 22:10:52.255859</td>\n      <td>219483890</td>\n    </tr>\n    <tr>\n      <th>4840</th>\n      <td>4a96f592-fae0-45ce-b5dd-e2ec39f13031</td>\n      <td>raw</td>\n      <td>4840</td>\n      <td>product1</td>\n      <td>2020-01-06 22:11:01.709800</td>\n      <td>219483890</td>\n    </tr>\n    <tr>\n      <th>4841</th>\n      <td>3d338cd7-a1c0-4f33-bac8-f8c3aaf4b88d</td>\n      <td>raw</td>\n      <td>4841</td>\n      <td>catalog</td>\n      <td>2020-01-06 22:11:02.899490</td>\n      <td>219483890</td>\n    </tr>\n    <tr>\n      <th>4842</th>\n      <td>84a087a2-1228-43ed-9e8d-b0795862ef76</td>\n      <td>raw</td>\n      <td>4842</td>\n      <td>catalog</td>\n      <td>2020-01-06 22:11:28.271366</td>\n      <td>219483890</td>\n    </tr>\n    <tr>\n      <th>8736</th>\n      <td>e4e563dc-73f4-4028-be84-8abda1b14c26</td>\n      <td>raw</td>\n      <td>8736</td>\n      <td>main</td>\n      <td>2020-02-14 21:04:49.450696</td>\n      <td>219483890</td>\n    </tr>\n    <tr>\n      <th>8737</th>\n      <td>42ad2268-d2f2-4093-b8a1-1091c4278f6b</td>\n      <td>raw</td>\n      <td>8737</td>\n      <td>catalog</td>\n      <td>2020-02-14 21:04:51.717127</td>\n      <td>219483890</td>\n    </tr>\n    <tr>\n      <th>8738</th>\n      <td>f3959a27-0ee6-48cf-8a9a-95a02d8ba4bc</td>\n      <td>raw</td>\n      <td>8738</td>\n      <td>lost</td>\n      <td>2020-02-14 21:04:52.717127</td>\n      <td>219483890</td>\n    </tr>\n  </tbody>\n</table>\n</div>"
     },
     "execution_count": 17,
     "metadata": {},
     "output_type": "execute_result"
    }
   ],
   "source": [
    "source_df[source_df['user_id'] == check_user_id]"
   ],
   "metadata": {
    "collapsed": false,
    "pycharm": {
     "name": "#%%\n"
    }
   }
  },
  {
   "cell_type": "code",
   "execution_count": null,
   "outputs": [],
   "source": [],
   "metadata": {
    "collapsed": false,
    "pycharm": {
     "name": "#%%\n"
    }
   }
  },
  {
   "cell_type": "code",
   "execution_count": null,
   "outputs": [],
   "source": [],
   "metadata": {
    "collapsed": false,
    "pycharm": {
     "name": "#%%\n"
    }
   }
  },
  {
   "cell_type": "markdown",
   "source": [
    "##  'full_collapse': True, 'agg': 'mean'"
   ],
   "metadata": {
    "collapsed": false,
    "pycharm": {
     "name": "#%% md\n"
    }
   }
  },
  {
   "cell_type": "code",
   "execution_count": 28,
   "outputs": [
    {
     "name": "stdout",
     "output_type": "stream",
     "text": [
      "CPU times: user 604 ms, sys: 65.1 ms, total: 669 ms\n",
      "Wall time: 755 ms\n"
     ]
    }
   ],
   "source": [
    "%%time\n",
    "from src.data_processors_lib.rete import CollapseLoops, CollapseLoopsParams\n",
    "\n",
    "params = {\n",
    "    'full_collapse': True,\n",
    "    'agg': 'mean'\n",
    "}\n",
    "\n",
    "collapsed = EventsNode(\n",
    "    CollapseLoops(params=CollapseLoopsParams(**params)))\n",
    "\n",
    "graph.add_node(\n",
    "    node=collapsed,\n",
    "    parents=[graph.root]\n",
    ")\n",
    "\n",
    "result = graph.combine(\n",
    "    node=collapsed\n",
    ")\n"
   ],
   "metadata": {
    "collapsed": false,
    "pycharm": {
     "name": "#%%\n"
    }
   }
  },
  {
   "cell_type": "code",
   "execution_count": 29,
   "outputs": [],
   "source": [
    "df_true_mean = result.to_dataframe()"
   ],
   "metadata": {
    "collapsed": false,
    "pycharm": {
     "name": "#%%\n"
    }
   }
  },
  {
   "cell_type": "code",
   "execution_count": 31,
   "outputs": [
    {
     "data": {
      "text/plain": "                                   event_id   event_type  event_index  \\\n0      fdb4f7eb-7d31-46c0-82f9-ab91e7c23b20          raw            0   \n1      e7475129-8d4e-4460-9671-a6e1e8f93002          raw            1   \n2      61f973a2-282e-4a14-a390-66f880dcba36          raw            2   \n3      82618fe2-be72-4e6f-b2b6-155c8e460b66          raw            3   \n3188   76549528-cca8-42dd-b9d8-7916386ef49a          raw         3188   \n3191   549fd6a6-123f-4fc3-889c-fc85ec6e8674  group_alias         3191   \n6888   c263564e-8a4c-45ca-8d84-d328bdcc12fb          raw         6888   \n6889   2014e572-a73e-448b-b36a-7c7ce7155616          raw         6889   \n6890   bb01810b-6a19-482a-a797-ecce8f398a9b          raw         6890   \n6891   14609f7c-cb9f-4c1b-a7e9-0d96aeb79c91          raw         6891   \n6892   4a96f592-fae0-45ce-b5dd-e2ec39f13031          raw         6892   \n6895   d43e9753-108a-4087-b030-0ff271ee66bd  group_alias         6895   \n12442  e4e563dc-73f4-4028-be84-8abda1b14c26          raw        12442   \n12443  42ad2268-d2f2-4093-b8a1-1091c4278f6b          raw        12443   \n12444  f3959a27-0ee6-48cf-8a9a-95a02d8ba4bc          raw        12444   \n\n         event_name               event_timestamp      user_id  \n0           catalog 2019-11-01 17:59:13.273932000  219483890.0  \n1          product1 2019-11-01 17:59:28.459271000  219483890.0  \n2              cart 2019-11-01 17:59:29.502214000  219483890.0  \n3           catalog 2019-11-01 17:59:32.557029000  219483890.0  \n3188           main 2019-12-06 16:22:57.484842000  219483890.0  \n3191   catalog_loop 2019-12-06 16:23:24.723863040  219483890.0  \n6888           main 2020-01-06 22:10:13.635011000  219483890.0  \n6889        catalog 2020-01-06 22:10:15.228575000  219483890.0  \n6890           cart 2020-01-06 22:10:42.309028000  219483890.0  \n6891        catalog 2020-01-06 22:10:52.255859000  219483890.0  \n6892       product1 2020-01-06 22:11:01.709800000  219483890.0  \n6895   catalog_loop 2020-01-06 22:11:15.585427968  219483890.0  \n12442          main 2020-02-14 21:04:49.450696000  219483890.0  \n12443       catalog 2020-02-14 21:04:51.717127000  219483890.0  \n12444          lost 2020-02-14 21:04:52.717127000  219483890.0  ",
      "text/html": "<div>\n<style scoped>\n    .dataframe tbody tr th:only-of-type {\n        vertical-align: middle;\n    }\n\n    .dataframe tbody tr th {\n        vertical-align: top;\n    }\n\n    .dataframe thead th {\n        text-align: right;\n    }\n</style>\n<table border=\"1\" class=\"dataframe\">\n  <thead>\n    <tr style=\"text-align: right;\">\n      <th></th>\n      <th>event_id</th>\n      <th>event_type</th>\n      <th>event_index</th>\n      <th>event_name</th>\n      <th>event_timestamp</th>\n      <th>user_id</th>\n    </tr>\n  </thead>\n  <tbody>\n    <tr>\n      <th>0</th>\n      <td>fdb4f7eb-7d31-46c0-82f9-ab91e7c23b20</td>\n      <td>raw</td>\n      <td>0</td>\n      <td>catalog</td>\n      <td>2019-11-01 17:59:13.273932000</td>\n      <td>219483890.0</td>\n    </tr>\n    <tr>\n      <th>1</th>\n      <td>e7475129-8d4e-4460-9671-a6e1e8f93002</td>\n      <td>raw</td>\n      <td>1</td>\n      <td>product1</td>\n      <td>2019-11-01 17:59:28.459271000</td>\n      <td>219483890.0</td>\n    </tr>\n    <tr>\n      <th>2</th>\n      <td>61f973a2-282e-4a14-a390-66f880dcba36</td>\n      <td>raw</td>\n      <td>2</td>\n      <td>cart</td>\n      <td>2019-11-01 17:59:29.502214000</td>\n      <td>219483890.0</td>\n    </tr>\n    <tr>\n      <th>3</th>\n      <td>82618fe2-be72-4e6f-b2b6-155c8e460b66</td>\n      <td>raw</td>\n      <td>3</td>\n      <td>catalog</td>\n      <td>2019-11-01 17:59:32.557029000</td>\n      <td>219483890.0</td>\n    </tr>\n    <tr>\n      <th>3188</th>\n      <td>76549528-cca8-42dd-b9d8-7916386ef49a</td>\n      <td>raw</td>\n      <td>3188</td>\n      <td>main</td>\n      <td>2019-12-06 16:22:57.484842000</td>\n      <td>219483890.0</td>\n    </tr>\n    <tr>\n      <th>3191</th>\n      <td>549fd6a6-123f-4fc3-889c-fc85ec6e8674</td>\n      <td>group_alias</td>\n      <td>3191</td>\n      <td>catalog_loop</td>\n      <td>2019-12-06 16:23:24.723863040</td>\n      <td>219483890.0</td>\n    </tr>\n    <tr>\n      <th>6888</th>\n      <td>c263564e-8a4c-45ca-8d84-d328bdcc12fb</td>\n      <td>raw</td>\n      <td>6888</td>\n      <td>main</td>\n      <td>2020-01-06 22:10:13.635011000</td>\n      <td>219483890.0</td>\n    </tr>\n    <tr>\n      <th>6889</th>\n      <td>2014e572-a73e-448b-b36a-7c7ce7155616</td>\n      <td>raw</td>\n      <td>6889</td>\n      <td>catalog</td>\n      <td>2020-01-06 22:10:15.228575000</td>\n      <td>219483890.0</td>\n    </tr>\n    <tr>\n      <th>6890</th>\n      <td>bb01810b-6a19-482a-a797-ecce8f398a9b</td>\n      <td>raw</td>\n      <td>6890</td>\n      <td>cart</td>\n      <td>2020-01-06 22:10:42.309028000</td>\n      <td>219483890.0</td>\n    </tr>\n    <tr>\n      <th>6891</th>\n      <td>14609f7c-cb9f-4c1b-a7e9-0d96aeb79c91</td>\n      <td>raw</td>\n      <td>6891</td>\n      <td>catalog</td>\n      <td>2020-01-06 22:10:52.255859000</td>\n      <td>219483890.0</td>\n    </tr>\n    <tr>\n      <th>6892</th>\n      <td>4a96f592-fae0-45ce-b5dd-e2ec39f13031</td>\n      <td>raw</td>\n      <td>6892</td>\n      <td>product1</td>\n      <td>2020-01-06 22:11:01.709800000</td>\n      <td>219483890.0</td>\n    </tr>\n    <tr>\n      <th>6895</th>\n      <td>d43e9753-108a-4087-b030-0ff271ee66bd</td>\n      <td>group_alias</td>\n      <td>6895</td>\n      <td>catalog_loop</td>\n      <td>2020-01-06 22:11:15.585427968</td>\n      <td>219483890.0</td>\n    </tr>\n    <tr>\n      <th>12442</th>\n      <td>e4e563dc-73f4-4028-be84-8abda1b14c26</td>\n      <td>raw</td>\n      <td>12442</td>\n      <td>main</td>\n      <td>2020-02-14 21:04:49.450696000</td>\n      <td>219483890.0</td>\n    </tr>\n    <tr>\n      <th>12443</th>\n      <td>42ad2268-d2f2-4093-b8a1-1091c4278f6b</td>\n      <td>raw</td>\n      <td>12443</td>\n      <td>catalog</td>\n      <td>2020-02-14 21:04:51.717127000</td>\n      <td>219483890.0</td>\n    </tr>\n    <tr>\n      <th>12444</th>\n      <td>f3959a27-0ee6-48cf-8a9a-95a02d8ba4bc</td>\n      <td>raw</td>\n      <td>12444</td>\n      <td>lost</td>\n      <td>2020-02-14 21:04:52.717127000</td>\n      <td>219483890.0</td>\n    </tr>\n  </tbody>\n</table>\n</div>"
     },
     "execution_count": 31,
     "metadata": {},
     "output_type": "execute_result"
    }
   ],
   "source": [
    "check_user_id = 219483890\n",
    "df_true_mean[df_true_mean['user_id'] == check_user_id]"
   ],
   "metadata": {
    "collapsed": false,
    "pycharm": {
     "name": "#%%\n"
    }
   }
  },
  {
   "cell_type": "code",
   "execution_count": 32,
   "outputs": [
    {
     "data": {
      "text/plain": "                                  event_id event_type  event_index event_name  \\\n0     fdb4f7eb-7d31-46c0-82f9-ab91e7c23b20        raw            0    catalog   \n1     e7475129-8d4e-4460-9671-a6e1e8f93002        raw            1   product1   \n2     61f973a2-282e-4a14-a390-66f880dcba36        raw            2       cart   \n3     82618fe2-be72-4e6f-b2b6-155c8e460b66        raw            3    catalog   \n2245  76549528-cca8-42dd-b9d8-7916386ef49a        raw         2245       main   \n2246  de17f095-ad35-4741-988f-3faec3525cef        raw         2246    catalog   \n2247  26fbf74c-0741-4bcc-9ed0-1cc5efbd0a5e        raw         2247    catalog   \n4836  c263564e-8a4c-45ca-8d84-d328bdcc12fb        raw         4836       main   \n4837  2014e572-a73e-448b-b36a-7c7ce7155616        raw         4837    catalog   \n4838  bb01810b-6a19-482a-a797-ecce8f398a9b        raw         4838       cart   \n4839  14609f7c-cb9f-4c1b-a7e9-0d96aeb79c91        raw         4839    catalog   \n4840  4a96f592-fae0-45ce-b5dd-e2ec39f13031        raw         4840   product1   \n4841  3d338cd7-a1c0-4f33-bac8-f8c3aaf4b88d        raw         4841    catalog   \n4842  84a087a2-1228-43ed-9e8d-b0795862ef76        raw         4842    catalog   \n8736  e4e563dc-73f4-4028-be84-8abda1b14c26        raw         8736       main   \n8737  42ad2268-d2f2-4093-b8a1-1091c4278f6b        raw         8737    catalog   \n8738  f3959a27-0ee6-48cf-8a9a-95a02d8ba4bc        raw         8738       lost   \n\n                event_timestamp    user_id  \n0    2019-11-01 17:59:13.273932  219483890  \n1    2019-11-01 17:59:28.459271  219483890  \n2    2019-11-01 17:59:29.502214  219483890  \n3    2019-11-01 17:59:32.557029  219483890  \n2245 2019-12-06 16:22:57.484842  219483890  \n2246 2019-12-06 16:23:01.331109  219483890  \n2247 2019-12-06 16:23:48.116617  219483890  \n4836 2020-01-06 22:10:13.635011  219483890  \n4837 2020-01-06 22:10:15.228575  219483890  \n4838 2020-01-06 22:10:42.309028  219483890  \n4839 2020-01-06 22:10:52.255859  219483890  \n4840 2020-01-06 22:11:01.709800  219483890  \n4841 2020-01-06 22:11:02.899490  219483890  \n4842 2020-01-06 22:11:28.271366  219483890  \n8736 2020-02-14 21:04:49.450696  219483890  \n8737 2020-02-14 21:04:51.717127  219483890  \n8738 2020-02-14 21:04:52.717127  219483890  ",
      "text/html": "<div>\n<style scoped>\n    .dataframe tbody tr th:only-of-type {\n        vertical-align: middle;\n    }\n\n    .dataframe tbody tr th {\n        vertical-align: top;\n    }\n\n    .dataframe thead th {\n        text-align: right;\n    }\n</style>\n<table border=\"1\" class=\"dataframe\">\n  <thead>\n    <tr style=\"text-align: right;\">\n      <th></th>\n      <th>event_id</th>\n      <th>event_type</th>\n      <th>event_index</th>\n      <th>event_name</th>\n      <th>event_timestamp</th>\n      <th>user_id</th>\n    </tr>\n  </thead>\n  <tbody>\n    <tr>\n      <th>0</th>\n      <td>fdb4f7eb-7d31-46c0-82f9-ab91e7c23b20</td>\n      <td>raw</td>\n      <td>0</td>\n      <td>catalog</td>\n      <td>2019-11-01 17:59:13.273932</td>\n      <td>219483890</td>\n    </tr>\n    <tr>\n      <th>1</th>\n      <td>e7475129-8d4e-4460-9671-a6e1e8f93002</td>\n      <td>raw</td>\n      <td>1</td>\n      <td>product1</td>\n      <td>2019-11-01 17:59:28.459271</td>\n      <td>219483890</td>\n    </tr>\n    <tr>\n      <th>2</th>\n      <td>61f973a2-282e-4a14-a390-66f880dcba36</td>\n      <td>raw</td>\n      <td>2</td>\n      <td>cart</td>\n      <td>2019-11-01 17:59:29.502214</td>\n      <td>219483890</td>\n    </tr>\n    <tr>\n      <th>3</th>\n      <td>82618fe2-be72-4e6f-b2b6-155c8e460b66</td>\n      <td>raw</td>\n      <td>3</td>\n      <td>catalog</td>\n      <td>2019-11-01 17:59:32.557029</td>\n      <td>219483890</td>\n    </tr>\n    <tr>\n      <th>2245</th>\n      <td>76549528-cca8-42dd-b9d8-7916386ef49a</td>\n      <td>raw</td>\n      <td>2245</td>\n      <td>main</td>\n      <td>2019-12-06 16:22:57.484842</td>\n      <td>219483890</td>\n    </tr>\n    <tr>\n      <th>2246</th>\n      <td>de17f095-ad35-4741-988f-3faec3525cef</td>\n      <td>raw</td>\n      <td>2246</td>\n      <td>catalog</td>\n      <td>2019-12-06 16:23:01.331109</td>\n      <td>219483890</td>\n    </tr>\n    <tr>\n      <th>2247</th>\n      <td>26fbf74c-0741-4bcc-9ed0-1cc5efbd0a5e</td>\n      <td>raw</td>\n      <td>2247</td>\n      <td>catalog</td>\n      <td>2019-12-06 16:23:48.116617</td>\n      <td>219483890</td>\n    </tr>\n    <tr>\n      <th>4836</th>\n      <td>c263564e-8a4c-45ca-8d84-d328bdcc12fb</td>\n      <td>raw</td>\n      <td>4836</td>\n      <td>main</td>\n      <td>2020-01-06 22:10:13.635011</td>\n      <td>219483890</td>\n    </tr>\n    <tr>\n      <th>4837</th>\n      <td>2014e572-a73e-448b-b36a-7c7ce7155616</td>\n      <td>raw</td>\n      <td>4837</td>\n      <td>catalog</td>\n      <td>2020-01-06 22:10:15.228575</td>\n      <td>219483890</td>\n    </tr>\n    <tr>\n      <th>4838</th>\n      <td>bb01810b-6a19-482a-a797-ecce8f398a9b</td>\n      <td>raw</td>\n      <td>4838</td>\n      <td>cart</td>\n      <td>2020-01-06 22:10:42.309028</td>\n      <td>219483890</td>\n    </tr>\n    <tr>\n      <th>4839</th>\n      <td>14609f7c-cb9f-4c1b-a7e9-0d96aeb79c91</td>\n      <td>raw</td>\n      <td>4839</td>\n      <td>catalog</td>\n      <td>2020-01-06 22:10:52.255859</td>\n      <td>219483890</td>\n    </tr>\n    <tr>\n      <th>4840</th>\n      <td>4a96f592-fae0-45ce-b5dd-e2ec39f13031</td>\n      <td>raw</td>\n      <td>4840</td>\n      <td>product1</td>\n      <td>2020-01-06 22:11:01.709800</td>\n      <td>219483890</td>\n    </tr>\n    <tr>\n      <th>4841</th>\n      <td>3d338cd7-a1c0-4f33-bac8-f8c3aaf4b88d</td>\n      <td>raw</td>\n      <td>4841</td>\n      <td>catalog</td>\n      <td>2020-01-06 22:11:02.899490</td>\n      <td>219483890</td>\n    </tr>\n    <tr>\n      <th>4842</th>\n      <td>84a087a2-1228-43ed-9e8d-b0795862ef76</td>\n      <td>raw</td>\n      <td>4842</td>\n      <td>catalog</td>\n      <td>2020-01-06 22:11:28.271366</td>\n      <td>219483890</td>\n    </tr>\n    <tr>\n      <th>8736</th>\n      <td>e4e563dc-73f4-4028-be84-8abda1b14c26</td>\n      <td>raw</td>\n      <td>8736</td>\n      <td>main</td>\n      <td>2020-02-14 21:04:49.450696</td>\n      <td>219483890</td>\n    </tr>\n    <tr>\n      <th>8737</th>\n      <td>42ad2268-d2f2-4093-b8a1-1091c4278f6b</td>\n      <td>raw</td>\n      <td>8737</td>\n      <td>catalog</td>\n      <td>2020-02-14 21:04:51.717127</td>\n      <td>219483890</td>\n    </tr>\n    <tr>\n      <th>8738</th>\n      <td>f3959a27-0ee6-48cf-8a9a-95a02d8ba4bc</td>\n      <td>raw</td>\n      <td>8738</td>\n      <td>lost</td>\n      <td>2020-02-14 21:04:52.717127</td>\n      <td>219483890</td>\n    </tr>\n  </tbody>\n</table>\n</div>"
     },
     "execution_count": 32,
     "metadata": {},
     "output_type": "execute_result"
    }
   ],
   "source": [
    "source_df[source_df['user_id'] == check_user_id]"
   ],
   "metadata": {
    "collapsed": false,
    "pycharm": {
     "name": "#%%\n"
    }
   }
  }
 ],
 "metadata": {
  "kernelspec": {
   "display_name": "Python 3",
   "language": "python",
   "name": "python3"
  },
  "language_info": {
   "codemirror_mode": {
    "name": "ipython",
    "version": 2
   },
   "file_extension": ".py",
   "mimetype": "text/x-python",
   "name": "python",
   "nbconvert_exporter": "python",
   "pygments_lexer": "ipython2",
   "version": "2.7.6"
  }
 },
 "nbformat": 4,
 "nbformat_minor": 0
}