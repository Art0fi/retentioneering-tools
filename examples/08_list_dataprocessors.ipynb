{
 "cells": [
  {
   "cell_type": "code",
   "execution_count": 2,
   "id": "8e979af2-318d-4c5d-b3c4-acafa56f9f3a",
   "metadata": {},
   "outputs": [],
   "source": [
    "import sys\n",
    "sys.path.insert(0, '..')"
   ]
  },
  {
   "cell_type": "code",
   "execution_count": null,
   "id": "9adf7bf0-0b7d-402a-beba-16cb6533a4a1",
   "metadata": {},
   "outputs": [],
   "source": [
    "# # from src.backend.\n",
    "#\n",
    "# from IPython.display import display, HTML\n",
    "#\n",
    "# CLIENT_SRC = \"http://localhost:8080/test-server.js\"\n",
    "#\n",
    "# sm = ServerManager()\n",
    "# server = sm.create_server()\n",
    "#\n",
    "# env = sm.check_env()\n",
    "# server_id = server.id\n",
    "#\n",
    "#\n",
    "# def test_method(payload):\n",
    "#     return { \"test\": \"something\" }\n",
    "#\n",
    "# server.use(\"test-method\", test_method)\n",
    "#\n",
    "#\n",
    "# html = a = \"\"\"\n",
    "# <script src=\"{client_src}\"></script>\n",
    "# <h1>\n",
    "#     TEST CLIENTˆ\n",
    "# </h1>\n",
    "# \"\"\".format(client_src=CLIENT_SRC)\n",
    "#\n",
    "#\n",
    "# display(HTML(html))\n"
   ]
  },
  {
   "cell_type": "code",
   "execution_count": 3,
   "id": "15971dea",
   "metadata": {},
   "outputs": [],
   "source": [
    "from src.graph.p_graph import PGraph\n",
    "from src.eventstream import Eventstream, EventstreamSchema, RawDataSchema\n",
    "import pandas as pd\n",
    "\n",
    "source_df = pd.DataFrame([\n",
    "    [1, 'event1', '2022-01-01 00:01:00'],\n",
    "    [1, 'event1', '2022-01-01 00:02:00'],\n",
    "    [1, 'event2', '2022-01-01 00:01:02'],\n",
    "    [1, 'event1', '2022-01-01 00:03:00'],\n",
    "    [1, 'event1', '2022-01-01 00:04:00'],\n",
    "    [1, 'event1', '2022-01-01 00:05:00'],\n",
    "    [2, 'event1', '2022-01-02 00:00:00'],\n",
    "    [2, 'event1', '2022-01-02 00:00:05'],\n",
    "    [2, 'event2', '2022-01-02 00:00:05'],\n",
    "], columns=['user_id', 'event', 'timestamp']\n",
    ")\n",
    "\n",
    "source = Eventstream(\n",
    "        raw_data=source_df,\n",
    "        raw_data_schema=RawDataSchema(\n",
    "            event_name=\"event\",\n",
    "            event_timestamp=\"timestamp\",\n",
    "            user_id=\"user_id\"),\n",
    "        schema=EventstreamSchema()\n",
    ")\n",
    "\n",
    "graph = PGraph(source_stream=source)"
   ]
  },
  {
   "cell_type": "code",
   "execution_count": 4,
   "id": "87cc3227-99ef-4643-b065-e1ddfe9a79a0",
   "metadata": {},
   "outputs": [
    {
     "name": "stdout",
     "output_type": "stream",
     "text": [
      "9ad91342-3858-4a94-ad4c-1afa54e4dfa9\n"
     ]
    },
    {
     "name": "stderr",
     "output_type": "stream",
     "text": [
      "/home/vladimir/.pyenv/versions/3.8.13/envs/eering-private-3.8/lib/python3.8/site-packages/IPython/core/display.py:419: UserWarning: Consider using IPython.display.IFrame instead\n",
      "  warnings.warn(\"Consider using IPython.display.IFrame instead\")\n"
     ]
    },
    {
     "data": {
      "text/html": [
       "<iframe  src=\"about:blank\" width=\"960\" height=\"900\">\n",
       "  <!DOCTYPE html>\n",
       "  <html lang=\"en\">\n",
       "  <head>\n",
       "    <meta charset=\"utf-8\">\n",
       "    <title>Rete Preprocessing Graph</title>\n",
       "    <meta name=\"viewport\" content=\"width=device-width, initial-scale=1\">\n",
       "  </head>\n",
       "  <body>\n",
       "    <div id=\"root\"></div>\n",
       "  </body>\n",
       "  <script>\n",
       "     init({\n",
       "          serverId: \"9ad91342-3858-4a94-ad4c-1afa54e4dfa9\",\n",
       "          env: \"classic\",\n",
       "     })\n",
       "  </script>\n",
       "  </html>\n",
       "</iframe>"
      ],
      "text/plain": [
       "<IPython.core.display.HTML object>"
      ]
     },
     "metadata": {},
     "output_type": "display_data"
    }
   ],
   "source": [
    "graph.display()"
   ]
  }
 ],
 "metadata": {
  "kernelspec": {
   "display_name": "Python 3 (ipykernel)",
   "language": "python",
   "name": "python3"
  },
  "language_info": {
   "codemirror_mode": {
    "name": "ipython",
    "version": 3
   },
   "file_extension": ".py",
   "mimetype": "text/x-python",
   "name": "python",
   "nbconvert_exporter": "python",
   "pygments_lexer": "ipython3",
   "version": "3.8.13"
  }
 },
 "nbformat": 4,
 "nbformat_minor": 5
}
