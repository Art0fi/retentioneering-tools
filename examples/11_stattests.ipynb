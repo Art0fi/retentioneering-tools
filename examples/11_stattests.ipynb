{
 "cells": [
  {
   "cell_type": "code",
   "execution_count": 1,
   "metadata": {
    "tags": []
   },
   "outputs": [
    {
     "name": "stderr",
     "output_type": "stream",
     "text": [
      "/Users/j.ostanina/miniforge3/envs/rete_tools/lib/python3.8/site-packages/tqdm/auto.py:22: TqdmWarning: IProgress not found. Please update jupyter and ipywidgets. See https://ipywidgets.readthedocs.io/en/stable/user_install.html\n",
      "  from .autonotebook import tqdm as notebook_tqdm\n"
     ]
    }
   ],
   "source": [
    "import sys\n",
    "\n",
    "import pandas as pd\n",
    "import numpy as np\n",
    "\n",
    "sys.path.insert(0, '..')\n",
    "from retentioneering.eventstream.schema import RawDataSchema, EventstreamSchema\n",
    "from scipy import stats\n",
    "from retentioneering.eventstream import Eventstream, EventstreamSchema\n",
    "from scipy.stats import chi2_contingency, fisher_exact, ks_2samp, mannwhitneyu"
   ]
  },
  {
   "cell_type": "code",
   "execution_count": 65,
   "metadata": {},
   "outputs": [],
   "source": [
    "df = pd.read_csv('../tests/datasets/tooling/stattests/01_simple_data.csv', index_col=0)\n",
    "source_stream = Eventstream(df)"
   ]
  },
  {
   "cell_type": "markdown",
   "source": [],
   "metadata": {
    "collapsed": false
   }
  },
  {
   "cell_type": "code",
   "execution_count": 66,
   "outputs": [
    {
     "data": {
      "text/plain": "                                event_id event_type  event_index  \\\n0   d0d4f15a-dabb-4034-a288-d897c7d5ad2c        raw            0   \n1   3cc215e9-2c17-42d3-be17-11364e1708ae        raw            1   \n2   060bea04-a228-4af1-b52d-9eb8b188d33b        raw            2   \n3   be612bd2-adcd-4e9f-90b1-6d375c9e1171        raw            3   \n4   c3872ada-c063-41d9-9db1-dcd77b7a9f36        raw            4   \n..                                   ...        ...          ...   \n56  6ae61bb0-4a65-4a27-8ac6-2836aea1ed72        raw           56   \n57  61fe7e9d-3cd4-4223-85f1-b273883e768f      start           57   \n58  174da413-b19e-489b-a703-40d3c1777ca0        raw           58   \n59  8ff786b8-a938-4bf7-b1c3-5e5378797b69        raw           59   \n60  425c7ff0-851e-4ee9-8c2b-495a3dba0717        raw           60   \n\n           event           timestamp  user_id  \n0        catalog 2022-01-01 00:01:00        1  \n1       product1 2022-01-01 00:01:00        3  \n2        catalog 2022-01-01 00:01:00        4  \n3       product1 2022-01-01 00:01:00        6  \n4        catalog 2022-01-01 00:01:00        7  \n..           ...                 ...      ...  \n56      product1 2022-02-01 00:01:00        2  \n57         start 2022-02-01 00:01:00        2  \n58      product2 2022-02-01 00:02:00        2  \n59          cart 2022-02-01 00:07:00        2  \n60  payment_done 2022-02-01 00:08:00        2  \n\n[61 rows x 6 columns]",
      "text/html": "<div>\n<style scoped>\n    .dataframe tbody tr th:only-of-type {\n        vertical-align: middle;\n    }\n\n    .dataframe tbody tr th {\n        vertical-align: top;\n    }\n\n    .dataframe thead th {\n        text-align: right;\n    }\n</style>\n<table border=\"1\" class=\"dataframe\">\n  <thead>\n    <tr style=\"text-align: right;\">\n      <th></th>\n      <th>event_id</th>\n      <th>event_type</th>\n      <th>event_index</th>\n      <th>event</th>\n      <th>timestamp</th>\n      <th>user_id</th>\n    </tr>\n  </thead>\n  <tbody>\n    <tr>\n      <th>0</th>\n      <td>d0d4f15a-dabb-4034-a288-d897c7d5ad2c</td>\n      <td>raw</td>\n      <td>0</td>\n      <td>catalog</td>\n      <td>2022-01-01 00:01:00</td>\n      <td>1</td>\n    </tr>\n    <tr>\n      <th>1</th>\n      <td>3cc215e9-2c17-42d3-be17-11364e1708ae</td>\n      <td>raw</td>\n      <td>1</td>\n      <td>product1</td>\n      <td>2022-01-01 00:01:00</td>\n      <td>3</td>\n    </tr>\n    <tr>\n      <th>2</th>\n      <td>060bea04-a228-4af1-b52d-9eb8b188d33b</td>\n      <td>raw</td>\n      <td>2</td>\n      <td>catalog</td>\n      <td>2022-01-01 00:01:00</td>\n      <td>4</td>\n    </tr>\n    <tr>\n      <th>3</th>\n      <td>be612bd2-adcd-4e9f-90b1-6d375c9e1171</td>\n      <td>raw</td>\n      <td>3</td>\n      <td>product1</td>\n      <td>2022-01-01 00:01:00</td>\n      <td>6</td>\n    </tr>\n    <tr>\n      <th>4</th>\n      <td>c3872ada-c063-41d9-9db1-dcd77b7a9f36</td>\n      <td>raw</td>\n      <td>4</td>\n      <td>catalog</td>\n      <td>2022-01-01 00:01:00</td>\n      <td>7</td>\n    </tr>\n    <tr>\n      <th>...</th>\n      <td>...</td>\n      <td>...</td>\n      <td>...</td>\n      <td>...</td>\n      <td>...</td>\n      <td>...</td>\n    </tr>\n    <tr>\n      <th>56</th>\n      <td>6ae61bb0-4a65-4a27-8ac6-2836aea1ed72</td>\n      <td>raw</td>\n      <td>56</td>\n      <td>product1</td>\n      <td>2022-02-01 00:01:00</td>\n      <td>2</td>\n    </tr>\n    <tr>\n      <th>57</th>\n      <td>61fe7e9d-3cd4-4223-85f1-b273883e768f</td>\n      <td>start</td>\n      <td>57</td>\n      <td>start</td>\n      <td>2022-02-01 00:01:00</td>\n      <td>2</td>\n    </tr>\n    <tr>\n      <th>58</th>\n      <td>174da413-b19e-489b-a703-40d3c1777ca0</td>\n      <td>raw</td>\n      <td>58</td>\n      <td>product2</td>\n      <td>2022-02-01 00:02:00</td>\n      <td>2</td>\n    </tr>\n    <tr>\n      <th>59</th>\n      <td>8ff786b8-a938-4bf7-b1c3-5e5378797b69</td>\n      <td>raw</td>\n      <td>59</td>\n      <td>cart</td>\n      <td>2022-02-01 00:07:00</td>\n      <td>2</td>\n    </tr>\n    <tr>\n      <th>60</th>\n      <td>425c7ff0-851e-4ee9-8c2b-495a3dba0717</td>\n      <td>raw</td>\n      <td>60</td>\n      <td>payment_done</td>\n      <td>2022-02-01 00:08:00</td>\n      <td>2</td>\n    </tr>\n  </tbody>\n</table>\n<p>61 rows × 6 columns</p>\n</div>"
     },
     "execution_count": 66,
     "metadata": {},
     "output_type": "execute_result"
    }
   ],
   "source": [
    "df_from_es = source_stream.to_dataframe()\n",
    "df_from_es"
   ],
   "metadata": {
    "collapsed": false
   }
  },
  {
   "cell_type": "markdown",
   "source": [],
   "metadata": {
    "collapsed": false
   }
  },
  {
   "cell_type": "code",
   "execution_count": 56,
   "metadata": {},
   "outputs": [
    {
     "data": {
      "text/plain": "user_id\n4    9\n7    9\n8    9\n3    8\n6    8\n5    7\n1    6\n2    5\nName: event_id, dtype: int64"
     },
     "execution_count": 56,
     "metadata": {},
     "output_type": "execute_result"
    }
   ],
   "source": [
    "users_by_event_cnt = df_from_es.groupby('user_id')['event_id'].nunique().sort_values(ascending=False)\n",
    "users_by_event_cnt"
   ]
  },
  {
   "cell_type": "code",
   "execution_count": 57,
   "metadata": {},
   "outputs": [],
   "source": [
    "most_active = users_by_event_cnt.index[:int(users_by_event_cnt.shape[0]/2)].values\n",
    "least_active = users_by_event_cnt.index.values[~np.isin(users_by_event_cnt.index.values, most_active)]"
   ]
  },
  {
   "cell_type": "markdown",
   "metadata": {},
   "source": [
    "Let us check whether the most active 50% of users are significantly more active than the least active 50%:"
   ]
  },
  {
   "cell_type": "code",
   "execution_count": 62,
   "metadata": {},
   "outputs": [
    {
     "data": {
      "text/plain": "{'group_one_name': 'most_active',\n 'group_one_size': 4,\n 'group_one_mean': 8.75,\n 'group_one_SD': 0.4330127018922193,\n 'group_two_name': 'least_active',\n 'group_two_size': 4,\n 'group_two_mean': 6.5,\n 'group_two_SD': 1.118033988749895,\n 'greatest_group_name': 'least_active',\n 'is_group_one_greatest': False,\n 'p_val': 0.008728594297886161,\n 'power_estimated': 0.8873712359977801}"
     },
     "execution_count": 62,
     "metadata": {},
     "output_type": "execute_result"
    }
   ],
   "source": [
    "test_results = source_stream.stattests(groups=(most_active, least_active),\n",
    "                                objective=lambda x: x.shape[0],\n",
    "                                group_names=('most_active', 'least_active'),\n",
    "                                test='ttest')\n",
    "test_results.values()"
   ]
  },
  {
   "cell_type": "code",
   "execution_count": 68,
   "metadata": {},
   "outputs": [
    {
     "data": {
      "text/plain": "{'group_one_name': 'group_1',\n 'group_one_size': 4,\n 'group_one_mean': 7.0,\n 'group_one_SD': 1.5811388300841898,\n 'group_two_name': 'group_2',\n 'group_two_size': 4,\n 'group_two_mean': 8.25,\n 'group_two_SD': 0.82915619758885,\n 'greatest_group_name': 'group_1',\n 'is_group_one_greatest': True,\n 'p_val': 0.13541442939197038,\n 'power_estimated': 0.4390361715046176}"
     },
     "execution_count": 68,
     "metadata": {},
     "output_type": "execute_result"
    }
   ],
   "source": [
    "test_results = source_stream.stattests( groups=([1, 2, 3, 4], [5, 6, 7, 8]),\n",
    "                                       objective=lambda x: x.shape[0],\n",
    "                                        group_names=(\"group_1\", \"group_2\"),\n",
    "                                       test='ttest', alpha=0.1)\n",
    "test_results.values()"
   ]
  },
  {
   "cell_type": "markdown",
   "metadata": {},
   "source": [
    "Same but for \"payment_done\" indicator:"
   ]
  },
  {
   "cell_type": "code",
   "execution_count": null,
   "outputs": [],
   "source": [],
   "metadata": {
    "collapsed": false
   }
  },
  {
   "cell_type": "code",
   "execution_count": 25,
   "metadata": {},
   "outputs": [
    {
     "name": "stderr",
     "output_type": "stream",
     "text": [
      "/Users/j.ostanina/miniforge3/envs/rete_tools/lib/python3.8/site-packages/statsmodels/stats/weightstats.py:650: RuntimeWarning: invalid value encountered in double_scalars\n",
      "  tstat = (value1 - value2 - diff) / std_diff\n"
     ]
    },
    {
     "data": {
      "text/plain": "{'group_one_name': 'most_active',\n 'group_one_size': 4,\n 'group_one_mean': 1.0,\n 'group_one_SD': 0.0,\n 'group_two_name': 'least_active',\n 'group_two_size': 4,\n 'group_two_mean': 1.0,\n 'group_two_SD': 0.0,\n 'greatest_group_name': 'most_active',\n 'is_group_one_greatest': True,\n 'p_val': nan,\n 'power_estimated': 0.05000000000849336}"
     },
     "execution_count": 25,
     "metadata": {},
     "output_type": "execute_result"
    }
   ],
   "source": [
    "source_stream.stattests(groups=(most_active, least_active),\n",
    "                                objective=lambda x: 'payment_done' in x['event'].values,\n",
    "                                group_names=('most_active', 'least_active'),\n",
    "                                test='ttest').values()"
   ]
  },
  {
   "cell_type": "code",
   "execution_count": 26,
   "metadata": {},
   "outputs": [
    {
     "data": {
      "text/plain": "{'group_one_name': 'most_active',\n 'group_one_size': 4,\n 'group_one_mean': 1.0,\n 'group_one_SD': 0.0,\n 'group_two_name': 'least_active',\n 'group_two_size': 4,\n 'group_two_mean': 1.0,\n 'group_two_SD': 0.0,\n 'greatest_group_name': 'most_active',\n 'is_group_one_greatest': True,\n 'p_val': 1.0,\n 'power_estimated': 0.0}"
     },
     "execution_count": 26,
     "metadata": {},
     "output_type": "execute_result"
    }
   ],
   "source": [
    "source_stream.stattests(groups=(most_active, least_active),\n",
    "                                objective=lambda x: 'payment_done' in x['event'].values,\n",
    "                                group_names=('most_active', 'least_active'),\n",
    "                                test='chi2_contingency').values()"
   ]
  },
  {
   "cell_type": "markdown",
   "metadata": {},
   "source": [
    "Same but for first 50% chronologically vs the rest:"
   ]
  },
  {
   "cell_type": "code",
   "execution_count": 28,
   "metadata": {},
   "outputs": [
    {
     "ename": "KeyError",
     "evalue": "'Column not found: event_timestamp'",
     "output_type": "error",
     "traceback": [
      "\u001B[0;31m---------------------------------------------------------------------------\u001B[0m",
      "\u001B[0;31mKeyError\u001B[0m                                  Traceback (most recent call last)",
      "Cell \u001B[0;32mIn [28], line 1\u001B[0m\n\u001B[0;32m----> 1\u001B[0m users_by_appearance \u001B[38;5;241m=\u001B[39m \u001B[43mdf\u001B[49m\u001B[38;5;241;43m.\u001B[39;49m\u001B[43mgroupby\u001B[49m\u001B[43m(\u001B[49m\u001B[38;5;124;43m'\u001B[39;49m\u001B[38;5;124;43muser_id\u001B[39;49m\u001B[38;5;124;43m'\u001B[39;49m\u001B[43m)\u001B[49m\u001B[43m[\u001B[49m\u001B[38;5;124;43m'\u001B[39;49m\u001B[38;5;124;43mevent_timestamp\u001B[39;49m\u001B[38;5;124;43m'\u001B[39;49m\u001B[43m]\u001B[49m\u001B[38;5;241m.\u001B[39mmin()\u001B[38;5;241m.\u001B[39msort_values()\n\u001B[1;32m      2\u001B[0m first_half \u001B[38;5;241m=\u001B[39m users_by_appearance\u001B[38;5;241m.\u001B[39mindex[:\u001B[38;5;28mint\u001B[39m(users_by_event_cnt\u001B[38;5;241m.\u001B[39mshape[\u001B[38;5;241m0\u001B[39m]\u001B[38;5;241m/\u001B[39m\u001B[38;5;241m2\u001B[39m)]\u001B[38;5;241m.\u001B[39mvalues\n\u001B[1;32m      3\u001B[0m second_half \u001B[38;5;241m=\u001B[39m users_by_appearance\u001B[38;5;241m.\u001B[39mindex\u001B[38;5;241m.\u001B[39mvalues[\u001B[38;5;241m~\u001B[39mnp\u001B[38;5;241m.\u001B[39misin(users_by_appearance\u001B[38;5;241m.\u001B[39mindex\u001B[38;5;241m.\u001B[39mvalues, most_active)]\n",
      "File \u001B[0;32m~/miniforge3/envs/rete_tools/lib/python3.8/site-packages/pandas/core/groupby/generic.py:1411\u001B[0m, in \u001B[0;36mDataFrameGroupBy.__getitem__\u001B[0;34m(self, key)\u001B[0m\n\u001B[1;32m   1402\u001B[0m \u001B[38;5;28;01mif\u001B[39;00m \u001B[38;5;28misinstance\u001B[39m(key, \u001B[38;5;28mtuple\u001B[39m) \u001B[38;5;129;01mand\u001B[39;00m \u001B[38;5;28mlen\u001B[39m(key) \u001B[38;5;241m>\u001B[39m \u001B[38;5;241m1\u001B[39m:\n\u001B[1;32m   1403\u001B[0m     \u001B[38;5;66;03m# if len == 1, then it becomes a SeriesGroupBy and this is actually\u001B[39;00m\n\u001B[1;32m   1404\u001B[0m     \u001B[38;5;66;03m# valid syntax, so don't raise warning\u001B[39;00m\n\u001B[1;32m   1405\u001B[0m     warnings\u001B[38;5;241m.\u001B[39mwarn(\n\u001B[1;32m   1406\u001B[0m         \u001B[38;5;124m\"\u001B[39m\u001B[38;5;124mIndexing with multiple keys (implicitly converted to a tuple \u001B[39m\u001B[38;5;124m\"\u001B[39m\n\u001B[1;32m   1407\u001B[0m         \u001B[38;5;124m\"\u001B[39m\u001B[38;5;124mof keys) will be deprecated, use a list instead.\u001B[39m\u001B[38;5;124m\"\u001B[39m,\n\u001B[1;32m   1408\u001B[0m         \u001B[38;5;167;01mFutureWarning\u001B[39;00m,\n\u001B[1;32m   1409\u001B[0m         stacklevel\u001B[38;5;241m=\u001B[39mfind_stack_level(inspect\u001B[38;5;241m.\u001B[39mcurrentframe()),\n\u001B[1;32m   1410\u001B[0m     )\n\u001B[0;32m-> 1411\u001B[0m \u001B[38;5;28;01mreturn\u001B[39;00m \u001B[38;5;28;43msuper\u001B[39;49m\u001B[43m(\u001B[49m\u001B[43m)\u001B[49m\u001B[38;5;241;43m.\u001B[39;49m\u001B[38;5;21;43m__getitem__\u001B[39;49m\u001B[43m(\u001B[49m\u001B[43mkey\u001B[49m\u001B[43m)\u001B[49m\n",
      "File \u001B[0;32m~/miniforge3/envs/rete_tools/lib/python3.8/site-packages/pandas/core/base.py:248\u001B[0m, in \u001B[0;36mSelectionMixin.__getitem__\u001B[0;34m(self, key)\u001B[0m\n\u001B[1;32m    246\u001B[0m \u001B[38;5;28;01melse\u001B[39;00m:\n\u001B[1;32m    247\u001B[0m     \u001B[38;5;28;01mif\u001B[39;00m key \u001B[38;5;129;01mnot\u001B[39;00m \u001B[38;5;129;01min\u001B[39;00m \u001B[38;5;28mself\u001B[39m\u001B[38;5;241m.\u001B[39mobj:\n\u001B[0;32m--> 248\u001B[0m         \u001B[38;5;28;01mraise\u001B[39;00m \u001B[38;5;167;01mKeyError\u001B[39;00m(\u001B[38;5;124mf\u001B[39m\u001B[38;5;124m\"\u001B[39m\u001B[38;5;124mColumn not found: \u001B[39m\u001B[38;5;132;01m{\u001B[39;00mkey\u001B[38;5;132;01m}\u001B[39;00m\u001B[38;5;124m\"\u001B[39m)\n\u001B[1;32m    249\u001B[0m     subset \u001B[38;5;241m=\u001B[39m \u001B[38;5;28mself\u001B[39m\u001B[38;5;241m.\u001B[39mobj[key]\n\u001B[1;32m    250\u001B[0m     ndim \u001B[38;5;241m=\u001B[39m subset\u001B[38;5;241m.\u001B[39mndim\n",
      "\u001B[0;31mKeyError\u001B[0m: 'Column not found: event_timestamp'"
     ]
    }
   ],
   "source": [
    "users_by_appearance = df.groupby('user_id')['event_timestamp'].min().sort_values()\n",
    "first_half = users_by_appearance.index[:int(users_by_event_cnt.shape[0]/2)].values\n",
    "second_half = users_by_appearance.index.values[~np.isin(users_by_appearance.index.values, most_active)]\n",
    "\n",
    "source_stream.stattests(groups=(first_half, second_half),\n",
    "                                objective=lambda x: 'payment_done' in x['event_name'].values,\n",
    "                                group_names=('most_active', 'least_active'),\n",
    "                                test='mannwhitneyu').values()"
   ]
  },
  {
   "cell_type": "markdown",
   "metadata": {},
   "source": [
    "Same but for random 50%:"
   ]
  },
  {
   "cell_type": "code",
   "execution_count": 184,
   "metadata": {},
   "outputs": [
    {
     "data": {
      "text/plain": "{'group_one_name': 'most_active',\n 'group_one_size': 4,\n 'group_one_mean': 1.0,\n 'group_one_SD': 0.0,\n 'group_two_name': 'least_active',\n 'group_two_size': 4,\n 'group_two_mean': 1.0,\n 'group_two_SD': 0.0,\n 'greatest_group_name': 'most_active',\n 'is_group_one_greatest': True,\n 'p_val': 1.0,\n 'power_estimated': 0.0}"
     },
     "execution_count": 184,
     "metadata": {},
     "output_type": "execute_result"
    }
   ],
   "source": [
    "users = df['user_id'].unique()\n",
    "np.random.seed(962)\n",
    "first_half = np.random.choice(users, int(users.shape[0]/2), replace=False)\n",
    "second_half = users[~np.isin(users, first_half)]\n",
    "\n",
    "test_stream.stattests(groups=(first_half, second_half),\n",
    "                                objective=lambda x: 'payment_done' in x['event'].values,\n",
    "                                group_names=('most_active', 'least_active'),\n",
    "                                test='chi2_contingency').values()"
   ]
  },
  {
   "cell_type": "code",
   "execution_count": null,
   "metadata": {},
   "outputs": [],
   "source": [
    "users = df['user_id'].unique()\n",
    "np.random.seed(962)\n",
    "first_half = np.random.choice(users, int(users.shape[0]/2), replace=False)\n",
    "second_half = users[~np.isin(users, first_half)]\n",
    "\n",
    "test_results = test_stream.stattests(groups=(first_half, second_half),\n",
    "                                objective=lambda x: 'payment_done' in x['event_name'].values,\n",
    "                                group_names=('most_active', 'least_active'),\n",
    "                                test='fisher_exact')\n",
    "test_results.values()"
   ]
  },
  {
   "cell_type": "code",
   "execution_count": null,
   "outputs": [],
   "source": [
    "test_results.plot()"
   ],
   "metadata": {
    "collapsed": false
   }
  },
  {
   "cell_type": "code",
   "execution_count": 32,
   "metadata": {},
   "outputs": [
    {
     "data": {
      "text/plain": "    user_id         event event_type            timestamp\n0         1         start      start  2022-01-01 00:01:00\n1         1       catalog        raw  2022-01-01 00:01:00\n2         1      product1        raw  2022-01-01 00:02:00\n3         1      product2        raw  2022-01-01 00:03:00\n4         1          cart        raw  2022-01-01 00:07:00\n..      ...           ...        ...                  ...\n56        8       catalog        raw  2022-01-01 00:04:00\n57        8      product1        raw  2022-01-01 00:06:00\n58        8     product18        raw  2022-01-01 00:06:30\n59        8  payment_done        raw  2022-01-01 00:07:00\n60        8          cart        raw  2022-01-01 00:08:00\n\n[61 rows x 4 columns]",
      "text/html": "<div>\n<style scoped>\n    .dataframe tbody tr th:only-of-type {\n        vertical-align: middle;\n    }\n\n    .dataframe tbody tr th {\n        vertical-align: top;\n    }\n\n    .dataframe thead th {\n        text-align: right;\n    }\n</style>\n<table border=\"1\" class=\"dataframe\">\n  <thead>\n    <tr style=\"text-align: right;\">\n      <th></th>\n      <th>user_id</th>\n      <th>event</th>\n      <th>event_type</th>\n      <th>timestamp</th>\n    </tr>\n  </thead>\n  <tbody>\n    <tr>\n      <th>0</th>\n      <td>1</td>\n      <td>start</td>\n      <td>start</td>\n      <td>2022-01-01 00:01:00</td>\n    </tr>\n    <tr>\n      <th>1</th>\n      <td>1</td>\n      <td>catalog</td>\n      <td>raw</td>\n      <td>2022-01-01 00:01:00</td>\n    </tr>\n    <tr>\n      <th>2</th>\n      <td>1</td>\n      <td>product1</td>\n      <td>raw</td>\n      <td>2022-01-01 00:02:00</td>\n    </tr>\n    <tr>\n      <th>3</th>\n      <td>1</td>\n      <td>product2</td>\n      <td>raw</td>\n      <td>2022-01-01 00:03:00</td>\n    </tr>\n    <tr>\n      <th>4</th>\n      <td>1</td>\n      <td>cart</td>\n      <td>raw</td>\n      <td>2022-01-01 00:07:00</td>\n    </tr>\n    <tr>\n      <th>...</th>\n      <td>...</td>\n      <td>...</td>\n      <td>...</td>\n      <td>...</td>\n    </tr>\n    <tr>\n      <th>56</th>\n      <td>8</td>\n      <td>catalog</td>\n      <td>raw</td>\n      <td>2022-01-01 00:04:00</td>\n    </tr>\n    <tr>\n      <th>57</th>\n      <td>8</td>\n      <td>product1</td>\n      <td>raw</td>\n      <td>2022-01-01 00:06:00</td>\n    </tr>\n    <tr>\n      <th>58</th>\n      <td>8</td>\n      <td>product18</td>\n      <td>raw</td>\n      <td>2022-01-01 00:06:30</td>\n    </tr>\n    <tr>\n      <th>59</th>\n      <td>8</td>\n      <td>payment_done</td>\n      <td>raw</td>\n      <td>2022-01-01 00:07:00</td>\n    </tr>\n    <tr>\n      <th>60</th>\n      <td>8</td>\n      <td>cart</td>\n      <td>raw</td>\n      <td>2022-01-01 00:08:00</td>\n    </tr>\n  </tbody>\n</table>\n<p>61 rows × 4 columns</p>\n</div>"
     },
     "execution_count": 32,
     "metadata": {},
     "output_type": "execute_result"
    }
   ],
   "source": [
    "df = pd.read_csv('../tests/datasets/tooling/stattests/01_simple_data.csv', index_col=0)\n",
    "df"
   ]
  },
  {
   "cell_type": "code",
   "execution_count": 31,
   "outputs": [
    {
     "data": {
      "text/plain": "    user_id         event event_type            timestamp  seconds\n0         1         start      start  2022-01-01 00:01:00        0\n1         1       catalog        raw  2022-01-01 00:01:00       60\n2         1      product1        raw  2022-01-01 00:02:00       60\n3         1      product2        raw  2022-01-01 00:03:00       60\n4         1          cart        raw  2022-01-01 00:07:00      240\n..      ...           ...        ...                  ...      ...\n56        8       catalog        raw  2022-01-01 00:04:00      120\n57        8      product1        raw  2022-01-01 00:06:00       30\n58        8     product18        raw  2022-01-01 00:06:30       30\n59        8  payment_done        raw  2022-01-01 00:07:00       60\n60        8          cart        raw  2022-01-01 00:08:00       60\n\n[61 rows x 5 columns]",
      "text/html": "<div>\n<style scoped>\n    .dataframe tbody tr th:only-of-type {\n        vertical-align: middle;\n    }\n\n    .dataframe tbody tr th {\n        vertical-align: top;\n    }\n\n    .dataframe thead th {\n        text-align: right;\n    }\n</style>\n<table border=\"1\" class=\"dataframe\">\n  <thead>\n    <tr style=\"text-align: right;\">\n      <th></th>\n      <th>user_id</th>\n      <th>event</th>\n      <th>event_type</th>\n      <th>timestamp</th>\n      <th>seconds</th>\n    </tr>\n  </thead>\n  <tbody>\n    <tr>\n      <th>0</th>\n      <td>1</td>\n      <td>start</td>\n      <td>start</td>\n      <td>2022-01-01 00:01:00</td>\n      <td>0</td>\n    </tr>\n    <tr>\n      <th>1</th>\n      <td>1</td>\n      <td>catalog</td>\n      <td>raw</td>\n      <td>2022-01-01 00:01:00</td>\n      <td>60</td>\n    </tr>\n    <tr>\n      <th>2</th>\n      <td>1</td>\n      <td>product1</td>\n      <td>raw</td>\n      <td>2022-01-01 00:02:00</td>\n      <td>60</td>\n    </tr>\n    <tr>\n      <th>3</th>\n      <td>1</td>\n      <td>product2</td>\n      <td>raw</td>\n      <td>2022-01-01 00:03:00</td>\n      <td>60</td>\n    </tr>\n    <tr>\n      <th>4</th>\n      <td>1</td>\n      <td>cart</td>\n      <td>raw</td>\n      <td>2022-01-01 00:07:00</td>\n      <td>240</td>\n    </tr>\n    <tr>\n      <th>...</th>\n      <td>...</td>\n      <td>...</td>\n      <td>...</td>\n      <td>...</td>\n      <td>...</td>\n    </tr>\n    <tr>\n      <th>56</th>\n      <td>8</td>\n      <td>catalog</td>\n      <td>raw</td>\n      <td>2022-01-01 00:04:00</td>\n      <td>120</td>\n    </tr>\n    <tr>\n      <th>57</th>\n      <td>8</td>\n      <td>product1</td>\n      <td>raw</td>\n      <td>2022-01-01 00:06:00</td>\n      <td>30</td>\n    </tr>\n    <tr>\n      <th>58</th>\n      <td>8</td>\n      <td>product18</td>\n      <td>raw</td>\n      <td>2022-01-01 00:06:30</td>\n      <td>30</td>\n    </tr>\n    <tr>\n      <th>59</th>\n      <td>8</td>\n      <td>payment_done</td>\n      <td>raw</td>\n      <td>2022-01-01 00:07:00</td>\n      <td>60</td>\n    </tr>\n    <tr>\n      <th>60</th>\n      <td>8</td>\n      <td>cart</td>\n      <td>raw</td>\n      <td>2022-01-01 00:08:00</td>\n      <td>60</td>\n    </tr>\n  </tbody>\n</table>\n<p>61 rows × 5 columns</p>\n</div>"
     },
     "execution_count": 31,
     "metadata": {},
     "output_type": "execute_result"
    }
   ],
   "source": [
    "df_cont = pd.read_csv('../tests/datasets/tooling/stattests/02_continuous_data.csv', index_col=0)\n",
    "df_cont"
   ],
   "metadata": {
    "collapsed": false
   }
  },
  {
   "cell_type": "code",
   "execution_count": 36,
   "outputs": [],
   "source": [
    "raw_data_schema = RawDataSchema(\n",
    "        event_name=\"event\",\n",
    "        event_timestamp=\"timestamp\",\n",
    "        user_id=\"user_id\",\n",
    "        custom_cols=[{\"custom_col\": \"seconds\", \"raw_data_col\": \"seconds\"}],\n",
    "    )\n",
    "source = Eventstream(\n",
    "        schema=EventstreamSchema(\n",
    "            custom_cols=[\"seconds\"], event_name=\"event\", event_timestamp=\"timestamp\", user_id=\"user_id\"\n",
    "        ),\n",
    "        raw_data_schema=raw_data_schema,\n",
    "        raw_data=df_cont,\n",
    "    )\n"
   ],
   "metadata": {
    "collapsed": false
   }
  },
  {
   "cell_type": "code",
   "execution_count": 37,
   "outputs": [
    {
     "data": {
      "text/plain": "{'group_one_name': 'group_1',\n 'group_one_size': 4,\n 'group_one_mean': 69.625,\n 'group_one_SD': 19.246347056000005,\n 'group_two_name': 'group_2',\n 'group_two_size': 4,\n 'group_two_mean': 56.964285714285715,\n 'group_two_SD': 10.111867200306975,\n 'greatest_group_name': 'group_2',\n 'is_group_one_greatest': False,\n 'p_val': 0.4,\n 'power_estimated': 0.22734318115885754}"
     },
     "execution_count": 37,
     "metadata": {},
     "output_type": "execute_result"
    }
   ],
   "source": [
    "test_results = source.stattests(groups=([1, 2, 3, 4], [5, 6, 7, 8]),\n",
    "                 objective=lambda x: x['seconds'].mean(),\n",
    "                 group_names=(\"group_1\", \"group_2\"),\n",
    "                 test=\"ks_2samp\")\n",
    "result = test_results.values()\n",
    "result"
   ],
   "metadata": {
    "collapsed": false
   }
  },
  {
   "cell_type": "code",
   "execution_count": 38,
   "outputs": [
    {
     "data": {
      "text/plain": "user_id\n1    80.0\n2    96.0\n3    52.5\n4    50.0\nName: seconds, dtype: float64"
     },
     "execution_count": 38,
     "metadata": {},
     "output_type": "execute_result"
    }
   ],
   "source": [
    "#ks_2samp\n",
    "df1 = df_cont.loc[:27][['seconds', 'user_id']].groupby('user_id').mean()\n",
    "sample1 = df1['seconds']\n",
    "sample1"
   ],
   "metadata": {
    "collapsed": false
   }
  },
  {
   "cell_type": "code",
   "execution_count": 39,
   "outputs": [
    {
     "data": {
      "text/plain": "user_id\n5    72.857143\n6    45.000000\n7    56.666667\n8    53.333333\nName: seconds, dtype: float64"
     },
     "execution_count": 39,
     "metadata": {},
     "output_type": "execute_result"
    }
   ],
   "source": [
    "df2 = df_cont.loc[28:][['seconds', 'user_id']].groupby('user_id').mean()\n",
    "sample2 = df2['seconds']\n",
    "sample2"
   ],
   "metadata": {
    "collapsed": false
   }
  },
  {
   "cell_type": "code",
   "execution_count": 40,
   "outputs": [
    {
     "data": {
      "text/plain": "KstestResult(statistic=0.5, pvalue=0.4)"
     },
     "execution_count": 40,
     "metadata": {},
     "output_type": "execute_result"
    }
   ],
   "source": [
    "stats.ks_2samp(sample1, sample2, alternative=\"less\")"
   ],
   "metadata": {
    "collapsed": false
   }
  },
  {
   "cell_type": "code",
   "execution_count": 41,
   "outputs": [
    {
     "data": {
      "text/plain": "user_id\n1    80.0\n2    96.0\n3    52.5\n4    50.0\nName: seconds, dtype: float64"
     },
     "execution_count": 41,
     "metadata": {},
     "output_type": "execute_result"
    }
   ],
   "source": [
    "sample1"
   ],
   "metadata": {
    "collapsed": false
   }
  },
  {
   "cell_type": "code",
   "execution_count": 42,
   "outputs": [
    {
     "data": {
      "text/plain": "69.625"
     },
     "execution_count": 42,
     "metadata": {},
     "output_type": "execute_result"
    }
   ],
   "source": [
    "np.array(sample1).mean()"
   ],
   "metadata": {
    "collapsed": false
   }
  },
  {
   "cell_type": "code",
   "execution_count": 43,
   "outputs": [
    {
     "data": {
      "text/plain": "10.111867200306975"
     },
     "execution_count": 43,
     "metadata": {},
     "output_type": "execute_result"
    }
   ],
   "source": [
    "np.array(sample2).std()"
   ],
   "metadata": {
    "collapsed": false
   }
  },
  {
   "cell_type": "code",
   "execution_count": 45,
   "outputs": [
    {
     "name": "stderr",
     "output_type": "stream",
     "text": [
      "/Users/j.ostanina/Rete/retentioneering-tools-new-arch/examples/../src/params_model/params_model.py:68: UserWarning: Callable filter was excluded from schema since JSON schema has no equivalent type.\n",
      "  params_schema: dict[str, Any] = cls.schema()\n",
      "/Users/j.ostanina/Rete/retentioneering-tools-new-arch/examples/../src/params_model/params_model.py:68: UserWarning: Callable negative_function was excluded from schema since JSON schema has no equivalent type.\n",
      "  params_schema: dict[str, Any] = cls.schema()\n",
      "/Users/j.ostanina/Rete/retentioneering-tools-new-arch/examples/../src/params_model/params_model.py:68: UserWarning: Callable positive_function was excluded from schema since JSON schema has no equivalent type.\n",
      "  params_schema: dict[str, Any] = cls.schema()\n",
      "/Users/j.ostanina/Rete/retentioneering-tools-new-arch/examples/../src/eventstream/eventstream.py:256: FutureWarning: In a future version, object-dtype columns with all-bool values will not be included in reductions with bool_only=True. Explicitly cast to bool dtype instead.\n",
      "  self.__events = pd.concat([result_left_part, result_right_part, result_deleted_events])\n"
     ]
    },
    {
     "data": {
      "text/plain": "                                event_id  event_type  event_index  \\\n0   79bc9e69-7ad7-415f-ae5b-770bd8177ef8  path_start            0   \n1   8ef0b503-3c7e-4aaf-9c48-948b093ae785  path_start            1   \n2   2d128b49-1f30-4e66-a796-5c364daaacbf  path_start            2   \n3   1505f549-b72f-407d-b365-7c8debec7ca3  path_start            3   \n4   1a579bde-2e40-40b2-be7c-749dcabd4855  path_start            4   \n..                                   ...         ...          ...   \n72  1bc580dd-a87b-4f59-ac69-b569c849bea8       start           72   \n73  48a5fb68-6119-4568-a752-7815e3928d54         raw           73   \n74  6344cad5-2676-4eb2-945a-8aea23e42e21         raw           74   \n75  b48ad801-f16c-4e44-bde5-86dd047d7e5c         raw           75   \n76  28000b53-74c3-4392-9d94-efe0ba5b1d41    path_end           76   \n\n           event           timestamp  user_id  \n0     path_start 2022-01-01 00:01:00      1.0  \n1     path_start 2022-01-01 00:01:00      3.0  \n2     path_start 2022-01-01 00:01:00      4.0  \n3     path_start 2022-01-01 00:01:00      5.0  \n4     path_start 2022-01-01 00:01:00      6.0  \n..           ...                 ...      ...  \n72         start 2022-02-01 00:01:00      2.0  \n73      product2 2022-02-01 00:02:00      2.0  \n74          cart 2022-02-01 00:07:00      2.0  \n75  payment_done 2022-02-01 00:08:00      2.0  \n76      path_end 2022-02-01 00:08:00      2.0  \n\n[77 rows x 6 columns]",
      "text/html": "<div>\n<style scoped>\n    .dataframe tbody tr th:only-of-type {\n        vertical-align: middle;\n    }\n\n    .dataframe tbody tr th {\n        vertical-align: top;\n    }\n\n    .dataframe thead th {\n        text-align: right;\n    }\n</style>\n<table border=\"1\" class=\"dataframe\">\n  <thead>\n    <tr style=\"text-align: right;\">\n      <th></th>\n      <th>event_id</th>\n      <th>event_type</th>\n      <th>event_index</th>\n      <th>event</th>\n      <th>timestamp</th>\n      <th>user_id</th>\n    </tr>\n  </thead>\n  <tbody>\n    <tr>\n      <th>0</th>\n      <td>79bc9e69-7ad7-415f-ae5b-770bd8177ef8</td>\n      <td>path_start</td>\n      <td>0</td>\n      <td>path_start</td>\n      <td>2022-01-01 00:01:00</td>\n      <td>1.0</td>\n    </tr>\n    <tr>\n      <th>1</th>\n      <td>8ef0b503-3c7e-4aaf-9c48-948b093ae785</td>\n      <td>path_start</td>\n      <td>1</td>\n      <td>path_start</td>\n      <td>2022-01-01 00:01:00</td>\n      <td>3.0</td>\n    </tr>\n    <tr>\n      <th>2</th>\n      <td>2d128b49-1f30-4e66-a796-5c364daaacbf</td>\n      <td>path_start</td>\n      <td>2</td>\n      <td>path_start</td>\n      <td>2022-01-01 00:01:00</td>\n      <td>4.0</td>\n    </tr>\n    <tr>\n      <th>3</th>\n      <td>1505f549-b72f-407d-b365-7c8debec7ca3</td>\n      <td>path_start</td>\n      <td>3</td>\n      <td>path_start</td>\n      <td>2022-01-01 00:01:00</td>\n      <td>5.0</td>\n    </tr>\n    <tr>\n      <th>4</th>\n      <td>1a579bde-2e40-40b2-be7c-749dcabd4855</td>\n      <td>path_start</td>\n      <td>4</td>\n      <td>path_start</td>\n      <td>2022-01-01 00:01:00</td>\n      <td>6.0</td>\n    </tr>\n    <tr>\n      <th>...</th>\n      <td>...</td>\n      <td>...</td>\n      <td>...</td>\n      <td>...</td>\n      <td>...</td>\n      <td>...</td>\n    </tr>\n    <tr>\n      <th>72</th>\n      <td>1bc580dd-a87b-4f59-ac69-b569c849bea8</td>\n      <td>start</td>\n      <td>72</td>\n      <td>start</td>\n      <td>2022-02-01 00:01:00</td>\n      <td>2.0</td>\n    </tr>\n    <tr>\n      <th>73</th>\n      <td>48a5fb68-6119-4568-a752-7815e3928d54</td>\n      <td>raw</td>\n      <td>73</td>\n      <td>product2</td>\n      <td>2022-02-01 00:02:00</td>\n      <td>2.0</td>\n    </tr>\n    <tr>\n      <th>74</th>\n      <td>6344cad5-2676-4eb2-945a-8aea23e42e21</td>\n      <td>raw</td>\n      <td>74</td>\n      <td>cart</td>\n      <td>2022-02-01 00:07:00</td>\n      <td>2.0</td>\n    </tr>\n    <tr>\n      <th>75</th>\n      <td>b48ad801-f16c-4e44-bde5-86dd047d7e5c</td>\n      <td>raw</td>\n      <td>75</td>\n      <td>payment_done</td>\n      <td>2022-02-01 00:08:00</td>\n      <td>2.0</td>\n    </tr>\n    <tr>\n      <th>76</th>\n      <td>28000b53-74c3-4392-9d94-efe0ba5b1d41</td>\n      <td>path_end</td>\n      <td>76</td>\n      <td>path_end</td>\n      <td>2022-02-01 00:08:00</td>\n      <td>2.0</td>\n    </tr>\n  </tbody>\n</table>\n<p>77 rows × 6 columns</p>\n</div>"
     },
     "execution_count": 45,
     "metadata": {},
     "output_type": "execute_result"
    }
   ],
   "source": [
    "source_stream.add_start_end().to_dataframe()"
   ],
   "metadata": {
    "collapsed": false
   }
  },
  {
   "cell_type": "code",
   "execution_count": 196,
   "outputs": [
    {
     "data": {
      "text/plain": "{'group_one_name': 'group_1',\n 'group_one_size': 4,\n 'group_one_mean': 7.0,\n 'group_one_SD': 1.5811388300841898,\n 'group_two_name': 'group_2',\n 'group_two_size': 4,\n 'group_two_mean': 8.25,\n 'group_two_SD': 0.82915619758885,\n 'greatest_group_name': 'group_1',\n 'is_group_one_greatest': True,\n 'p_val': 0.11262645318032655,\n 'power_estimated': 0.2852558170575349}"
     },
     "execution_count": 196,
     "metadata": {},
     "output_type": "execute_result"
    }
   ],
   "source": [
    "#ztest\n",
    "test_results = test_stream.stattests(groups=([1, 2, 3, 4], [5, 6, 7, 8]),\n",
    "                 objective=lambda x: x.shape[0],\n",
    "                 group_names=(\"group_1\", \"group_2\"),\n",
    "                 test=\"ztest\")\n",
    "result = test_results.values()\n",
    "result"
   ],
   "metadata": {
    "collapsed": false
   }
  },
  {
   "cell_type": "code",
   "execution_count": 14,
   "outputs": [],
   "source": [
    "df_cutted = pd.read_csv('../tests/datasets/tooling/stattests/03_сutted_data.csv', index_col=0)\n",
    "source_stream_cut = Eventstream(df_cutted)"
   ],
   "metadata": {
    "collapsed": false
   }
  },
  {
   "cell_type": "code",
   "execution_count": 26,
   "outputs": [
    {
     "data": {
      "text/plain": "    user_id         event event_type            timestamp  group  payment_done\n0         1         start      start  2022-01-01 00:01:00      1         False\n1         1       catalog        raw  2022-01-01 00:01:00      1         False\n2         1      product1        raw  2022-01-01 00:02:00      1         False\n3         1      product2        raw  2022-01-01 00:03:00      1         False\n4         1          cart        raw  2022-01-01 00:07:00      1         False\n5         1  payment_done        raw  2022-01-01 00:08:00      1          True\n6         2         start      start  2022-02-01 00:01:00      1         False\n7         2      product1        raw  2022-02-01 00:01:00      1         False\n8         2      product2        raw  2022-02-01 00:02:00      1         False\n9         2          cart        raw  2022-02-01 00:07:00      1         False\n10        2  payment_done        raw  2022-02-01 00:08:00      1          True\n11        3         start      start  2022-01-01 00:01:00      1         False\n12        3      product1        raw  2022-01-01 00:01:00      1         False\n13        3      product2        raw  2022-01-01 00:02:00      1         False\n14        3       catalog        raw  2022-01-01 00:03:00      1         False\n15        3       catalog        raw  2022-01-01 00:04:00      1         False\n16        3     product18        raw  2022-01-01 00:06:30      1         False\n17        3          cart        raw  2022-01-01 00:07:00      1         False\n18        3  payment_done        raw  2022-01-01 00:08:00      1          True\n19        4         start      start  2022-01-01 00:01:00      1         False\n20        4       catalog        raw  2022-01-01 00:01:00      1         False\n21        4      product1        raw  2022-01-01 00:02:00      1         False\n22        4      product2        raw  2022-01-01 00:03:00      1         False\n23        4       catalog        raw  2022-01-01 00:04:00      1         False\n24        4      product1        raw  2022-01-01 00:06:00      1         False\n25        4     product18        raw  2022-01-01 00:06:30      1         False\n26        4          cart        raw  2022-01-01 00:07:00      1         False\n27        4  payment_done        raw  2022-01-01 00:08:00      1          True\n28        5         start      start  2022-01-01 00:01:00      2         False\n29        5      product1        raw  2022-01-01 00:02:00      2         False\n30        5      product2        raw  2022-01-01 00:03:00      2         False\n31        5      product1        raw  2022-01-01 00:06:00      2         False\n32        5     product18        raw  2022-01-01 00:06:30      2         False\n33        5          cart        raw  2022-01-01 00:07:00      2         False\n34        5  payment_done        raw  2022-01-01 00:08:00      2          True\n35        6         start      start  2022-01-01 00:01:00      2         False\n36        6      product1        raw  2022-01-01 00:01:00      2         False\n37        6      product2        raw  2022-01-01 00:02:00      2         False\n38        6       catalog        raw  2022-01-01 00:03:00      2         False\n39        6       catalog        raw  2022-01-01 00:04:00      2         False\n40        6     product18        raw  2022-01-01 00:06:30      2         False\n41        6          cart        raw  2022-01-01 00:07:00      2         False\n42        6  payment_done        raw  2022-01-01 00:08:00      2          True\n43        7         start      start  2022-01-01 00:01:00      2         False\n44        7       catalog        raw  2022-01-01 00:01:00      2         False\n45        7      product1        raw  2022-01-01 00:02:00      2         False\n46        7      product2        raw  2022-01-01 00:03:00      2         False\n47        7       catalog        raw  2022-01-01 00:04:00      2         False\n48        7      product1        raw  2022-01-01 00:06:00      2         False\n49        7     product18        raw  2022-01-01 00:06:30      2         False\n50        7  payment_done        raw  2022-01-01 00:07:00      2          True\n51        7          cart        raw  2022-01-01 00:08:00      2         False\n52        8         start      start  2022-01-01 00:01:00      2         False\n53        8       catalog        raw  2022-01-01 00:01:00      2         False\n54        8      product1        raw  2022-01-01 00:02:00      2         False\n55        8      product2        raw  2022-01-01 00:03:00      2         False\n56        8       catalog        raw  2022-01-01 00:04:00      2         False\n57        8      product1        raw  2022-01-01 00:06:00      2         False\n58        8     product18        raw  2022-01-01 00:06:30      2         False\n59        8          cart        raw  2022-01-01 00:08:00      2         False",
      "text/html": "<div>\n<style scoped>\n    .dataframe tbody tr th:only-of-type {\n        vertical-align: middle;\n    }\n\n    .dataframe tbody tr th {\n        vertical-align: top;\n    }\n\n    .dataframe thead th {\n        text-align: right;\n    }\n</style>\n<table border=\"1\" class=\"dataframe\">\n  <thead>\n    <tr style=\"text-align: right;\">\n      <th></th>\n      <th>user_id</th>\n      <th>event</th>\n      <th>event_type</th>\n      <th>timestamp</th>\n      <th>group</th>\n      <th>payment_done</th>\n    </tr>\n  </thead>\n  <tbody>\n    <tr>\n      <th>0</th>\n      <td>1</td>\n      <td>start</td>\n      <td>start</td>\n      <td>2022-01-01 00:01:00</td>\n      <td>1</td>\n      <td>False</td>\n    </tr>\n    <tr>\n      <th>1</th>\n      <td>1</td>\n      <td>catalog</td>\n      <td>raw</td>\n      <td>2022-01-01 00:01:00</td>\n      <td>1</td>\n      <td>False</td>\n    </tr>\n    <tr>\n      <th>2</th>\n      <td>1</td>\n      <td>product1</td>\n      <td>raw</td>\n      <td>2022-01-01 00:02:00</td>\n      <td>1</td>\n      <td>False</td>\n    </tr>\n    <tr>\n      <th>3</th>\n      <td>1</td>\n      <td>product2</td>\n      <td>raw</td>\n      <td>2022-01-01 00:03:00</td>\n      <td>1</td>\n      <td>False</td>\n    </tr>\n    <tr>\n      <th>4</th>\n      <td>1</td>\n      <td>cart</td>\n      <td>raw</td>\n      <td>2022-01-01 00:07:00</td>\n      <td>1</td>\n      <td>False</td>\n    </tr>\n    <tr>\n      <th>5</th>\n      <td>1</td>\n      <td>payment_done</td>\n      <td>raw</td>\n      <td>2022-01-01 00:08:00</td>\n      <td>1</td>\n      <td>True</td>\n    </tr>\n    <tr>\n      <th>6</th>\n      <td>2</td>\n      <td>start</td>\n      <td>start</td>\n      <td>2022-02-01 00:01:00</td>\n      <td>1</td>\n      <td>False</td>\n    </tr>\n    <tr>\n      <th>7</th>\n      <td>2</td>\n      <td>product1</td>\n      <td>raw</td>\n      <td>2022-02-01 00:01:00</td>\n      <td>1</td>\n      <td>False</td>\n    </tr>\n    <tr>\n      <th>8</th>\n      <td>2</td>\n      <td>product2</td>\n      <td>raw</td>\n      <td>2022-02-01 00:02:00</td>\n      <td>1</td>\n      <td>False</td>\n    </tr>\n    <tr>\n      <th>9</th>\n      <td>2</td>\n      <td>cart</td>\n      <td>raw</td>\n      <td>2022-02-01 00:07:00</td>\n      <td>1</td>\n      <td>False</td>\n    </tr>\n    <tr>\n      <th>10</th>\n      <td>2</td>\n      <td>payment_done</td>\n      <td>raw</td>\n      <td>2022-02-01 00:08:00</td>\n      <td>1</td>\n      <td>True</td>\n    </tr>\n    <tr>\n      <th>11</th>\n      <td>3</td>\n      <td>start</td>\n      <td>start</td>\n      <td>2022-01-01 00:01:00</td>\n      <td>1</td>\n      <td>False</td>\n    </tr>\n    <tr>\n      <th>12</th>\n      <td>3</td>\n      <td>product1</td>\n      <td>raw</td>\n      <td>2022-01-01 00:01:00</td>\n      <td>1</td>\n      <td>False</td>\n    </tr>\n    <tr>\n      <th>13</th>\n      <td>3</td>\n      <td>product2</td>\n      <td>raw</td>\n      <td>2022-01-01 00:02:00</td>\n      <td>1</td>\n      <td>False</td>\n    </tr>\n    <tr>\n      <th>14</th>\n      <td>3</td>\n      <td>catalog</td>\n      <td>raw</td>\n      <td>2022-01-01 00:03:00</td>\n      <td>1</td>\n      <td>False</td>\n    </tr>\n    <tr>\n      <th>15</th>\n      <td>3</td>\n      <td>catalog</td>\n      <td>raw</td>\n      <td>2022-01-01 00:04:00</td>\n      <td>1</td>\n      <td>False</td>\n    </tr>\n    <tr>\n      <th>16</th>\n      <td>3</td>\n      <td>product18</td>\n      <td>raw</td>\n      <td>2022-01-01 00:06:30</td>\n      <td>1</td>\n      <td>False</td>\n    </tr>\n    <tr>\n      <th>17</th>\n      <td>3</td>\n      <td>cart</td>\n      <td>raw</td>\n      <td>2022-01-01 00:07:00</td>\n      <td>1</td>\n      <td>False</td>\n    </tr>\n    <tr>\n      <th>18</th>\n      <td>3</td>\n      <td>payment_done</td>\n      <td>raw</td>\n      <td>2022-01-01 00:08:00</td>\n      <td>1</td>\n      <td>True</td>\n    </tr>\n    <tr>\n      <th>19</th>\n      <td>4</td>\n      <td>start</td>\n      <td>start</td>\n      <td>2022-01-01 00:01:00</td>\n      <td>1</td>\n      <td>False</td>\n    </tr>\n    <tr>\n      <th>20</th>\n      <td>4</td>\n      <td>catalog</td>\n      <td>raw</td>\n      <td>2022-01-01 00:01:00</td>\n      <td>1</td>\n      <td>False</td>\n    </tr>\n    <tr>\n      <th>21</th>\n      <td>4</td>\n      <td>product1</td>\n      <td>raw</td>\n      <td>2022-01-01 00:02:00</td>\n      <td>1</td>\n      <td>False</td>\n    </tr>\n    <tr>\n      <th>22</th>\n      <td>4</td>\n      <td>product2</td>\n      <td>raw</td>\n      <td>2022-01-01 00:03:00</td>\n      <td>1</td>\n      <td>False</td>\n    </tr>\n    <tr>\n      <th>23</th>\n      <td>4</td>\n      <td>catalog</td>\n      <td>raw</td>\n      <td>2022-01-01 00:04:00</td>\n      <td>1</td>\n      <td>False</td>\n    </tr>\n    <tr>\n      <th>24</th>\n      <td>4</td>\n      <td>product1</td>\n      <td>raw</td>\n      <td>2022-01-01 00:06:00</td>\n      <td>1</td>\n      <td>False</td>\n    </tr>\n    <tr>\n      <th>25</th>\n      <td>4</td>\n      <td>product18</td>\n      <td>raw</td>\n      <td>2022-01-01 00:06:30</td>\n      <td>1</td>\n      <td>False</td>\n    </tr>\n    <tr>\n      <th>26</th>\n      <td>4</td>\n      <td>cart</td>\n      <td>raw</td>\n      <td>2022-01-01 00:07:00</td>\n      <td>1</td>\n      <td>False</td>\n    </tr>\n    <tr>\n      <th>27</th>\n      <td>4</td>\n      <td>payment_done</td>\n      <td>raw</td>\n      <td>2022-01-01 00:08:00</td>\n      <td>1</td>\n      <td>True</td>\n    </tr>\n    <tr>\n      <th>28</th>\n      <td>5</td>\n      <td>start</td>\n      <td>start</td>\n      <td>2022-01-01 00:01:00</td>\n      <td>2</td>\n      <td>False</td>\n    </tr>\n    <tr>\n      <th>29</th>\n      <td>5</td>\n      <td>product1</td>\n      <td>raw</td>\n      <td>2022-01-01 00:02:00</td>\n      <td>2</td>\n      <td>False</td>\n    </tr>\n    <tr>\n      <th>30</th>\n      <td>5</td>\n      <td>product2</td>\n      <td>raw</td>\n      <td>2022-01-01 00:03:00</td>\n      <td>2</td>\n      <td>False</td>\n    </tr>\n    <tr>\n      <th>31</th>\n      <td>5</td>\n      <td>product1</td>\n      <td>raw</td>\n      <td>2022-01-01 00:06:00</td>\n      <td>2</td>\n      <td>False</td>\n    </tr>\n    <tr>\n      <th>32</th>\n      <td>5</td>\n      <td>product18</td>\n      <td>raw</td>\n      <td>2022-01-01 00:06:30</td>\n      <td>2</td>\n      <td>False</td>\n    </tr>\n    <tr>\n      <th>33</th>\n      <td>5</td>\n      <td>cart</td>\n      <td>raw</td>\n      <td>2022-01-01 00:07:00</td>\n      <td>2</td>\n      <td>False</td>\n    </tr>\n    <tr>\n      <th>34</th>\n      <td>5</td>\n      <td>payment_done</td>\n      <td>raw</td>\n      <td>2022-01-01 00:08:00</td>\n      <td>2</td>\n      <td>True</td>\n    </tr>\n    <tr>\n      <th>35</th>\n      <td>6</td>\n      <td>start</td>\n      <td>start</td>\n      <td>2022-01-01 00:01:00</td>\n      <td>2</td>\n      <td>False</td>\n    </tr>\n    <tr>\n      <th>36</th>\n      <td>6</td>\n      <td>product1</td>\n      <td>raw</td>\n      <td>2022-01-01 00:01:00</td>\n      <td>2</td>\n      <td>False</td>\n    </tr>\n    <tr>\n      <th>37</th>\n      <td>6</td>\n      <td>product2</td>\n      <td>raw</td>\n      <td>2022-01-01 00:02:00</td>\n      <td>2</td>\n      <td>False</td>\n    </tr>\n    <tr>\n      <th>38</th>\n      <td>6</td>\n      <td>catalog</td>\n      <td>raw</td>\n      <td>2022-01-01 00:03:00</td>\n      <td>2</td>\n      <td>False</td>\n    </tr>\n    <tr>\n      <th>39</th>\n      <td>6</td>\n      <td>catalog</td>\n      <td>raw</td>\n      <td>2022-01-01 00:04:00</td>\n      <td>2</td>\n      <td>False</td>\n    </tr>\n    <tr>\n      <th>40</th>\n      <td>6</td>\n      <td>product18</td>\n      <td>raw</td>\n      <td>2022-01-01 00:06:30</td>\n      <td>2</td>\n      <td>False</td>\n    </tr>\n    <tr>\n      <th>41</th>\n      <td>6</td>\n      <td>cart</td>\n      <td>raw</td>\n      <td>2022-01-01 00:07:00</td>\n      <td>2</td>\n      <td>False</td>\n    </tr>\n    <tr>\n      <th>42</th>\n      <td>6</td>\n      <td>payment_done</td>\n      <td>raw</td>\n      <td>2022-01-01 00:08:00</td>\n      <td>2</td>\n      <td>True</td>\n    </tr>\n    <tr>\n      <th>43</th>\n      <td>7</td>\n      <td>start</td>\n      <td>start</td>\n      <td>2022-01-01 00:01:00</td>\n      <td>2</td>\n      <td>False</td>\n    </tr>\n    <tr>\n      <th>44</th>\n      <td>7</td>\n      <td>catalog</td>\n      <td>raw</td>\n      <td>2022-01-01 00:01:00</td>\n      <td>2</td>\n      <td>False</td>\n    </tr>\n    <tr>\n      <th>45</th>\n      <td>7</td>\n      <td>product1</td>\n      <td>raw</td>\n      <td>2022-01-01 00:02:00</td>\n      <td>2</td>\n      <td>False</td>\n    </tr>\n    <tr>\n      <th>46</th>\n      <td>7</td>\n      <td>product2</td>\n      <td>raw</td>\n      <td>2022-01-01 00:03:00</td>\n      <td>2</td>\n      <td>False</td>\n    </tr>\n    <tr>\n      <th>47</th>\n      <td>7</td>\n      <td>catalog</td>\n      <td>raw</td>\n      <td>2022-01-01 00:04:00</td>\n      <td>2</td>\n      <td>False</td>\n    </tr>\n    <tr>\n      <th>48</th>\n      <td>7</td>\n      <td>product1</td>\n      <td>raw</td>\n      <td>2022-01-01 00:06:00</td>\n      <td>2</td>\n      <td>False</td>\n    </tr>\n    <tr>\n      <th>49</th>\n      <td>7</td>\n      <td>product18</td>\n      <td>raw</td>\n      <td>2022-01-01 00:06:30</td>\n      <td>2</td>\n      <td>False</td>\n    </tr>\n    <tr>\n      <th>50</th>\n      <td>7</td>\n      <td>payment_done</td>\n      <td>raw</td>\n      <td>2022-01-01 00:07:00</td>\n      <td>2</td>\n      <td>True</td>\n    </tr>\n    <tr>\n      <th>51</th>\n      <td>7</td>\n      <td>cart</td>\n      <td>raw</td>\n      <td>2022-01-01 00:08:00</td>\n      <td>2</td>\n      <td>False</td>\n    </tr>\n    <tr>\n      <th>52</th>\n      <td>8</td>\n      <td>start</td>\n      <td>start</td>\n      <td>2022-01-01 00:01:00</td>\n      <td>2</td>\n      <td>False</td>\n    </tr>\n    <tr>\n      <th>53</th>\n      <td>8</td>\n      <td>catalog</td>\n      <td>raw</td>\n      <td>2022-01-01 00:01:00</td>\n      <td>2</td>\n      <td>False</td>\n    </tr>\n    <tr>\n      <th>54</th>\n      <td>8</td>\n      <td>product1</td>\n      <td>raw</td>\n      <td>2022-01-01 00:02:00</td>\n      <td>2</td>\n      <td>False</td>\n    </tr>\n    <tr>\n      <th>55</th>\n      <td>8</td>\n      <td>product2</td>\n      <td>raw</td>\n      <td>2022-01-01 00:03:00</td>\n      <td>2</td>\n      <td>False</td>\n    </tr>\n    <tr>\n      <th>56</th>\n      <td>8</td>\n      <td>catalog</td>\n      <td>raw</td>\n      <td>2022-01-01 00:04:00</td>\n      <td>2</td>\n      <td>False</td>\n    </tr>\n    <tr>\n      <th>57</th>\n      <td>8</td>\n      <td>product1</td>\n      <td>raw</td>\n      <td>2022-01-01 00:06:00</td>\n      <td>2</td>\n      <td>False</td>\n    </tr>\n    <tr>\n      <th>58</th>\n      <td>8</td>\n      <td>product18</td>\n      <td>raw</td>\n      <td>2022-01-01 00:06:30</td>\n      <td>2</td>\n      <td>False</td>\n    </tr>\n    <tr>\n      <th>59</th>\n      <td>8</td>\n      <td>cart</td>\n      <td>raw</td>\n      <td>2022-01-01 00:08:00</td>\n      <td>2</td>\n      <td>False</td>\n    </tr>\n  </tbody>\n</table>\n</div>"
     },
     "execution_count": 26,
     "metadata": {},
     "output_type": "execute_result"
    }
   ],
   "source": [
    "def group_col(raw):\n",
    "    if raw['user_id'] in [1, 2, 3, 4]:\n",
    "        return 1\n",
    "    else:\n",
    "        return 2\n",
    "df_cutted['group'] = df_cutted.apply(group_col, axis=1)\n",
    "df_cutted"
   ],
   "metadata": {
    "collapsed": false
   }
  },
  {
   "cell_type": "code",
   "execution_count": 27,
   "outputs": [
    {
     "data": {
      "text/plain": "    user_id         event event_type            timestamp  group  payment_done\n0         1         start      start  2022-01-01 00:01:00      1         False\n1         1       catalog        raw  2022-01-01 00:01:00      1         False\n2         1      product1        raw  2022-01-01 00:02:00      1         False\n3         1      product2        raw  2022-01-01 00:03:00      1         False\n4         1          cart        raw  2022-01-01 00:07:00      1         False\n5         1  payment_done        raw  2022-01-01 00:08:00      1          True\n6         2         start      start  2022-02-01 00:01:00      1         False\n7         2      product1        raw  2022-02-01 00:01:00      1         False\n8         2      product2        raw  2022-02-01 00:02:00      1         False\n9         2          cart        raw  2022-02-01 00:07:00      1         False\n10        2  payment_done        raw  2022-02-01 00:08:00      1          True\n11        3         start      start  2022-01-01 00:01:00      1         False\n12        3      product1        raw  2022-01-01 00:01:00      1         False\n13        3      product2        raw  2022-01-01 00:02:00      1         False\n14        3       catalog        raw  2022-01-01 00:03:00      1         False\n15        3       catalog        raw  2022-01-01 00:04:00      1         False\n16        3     product18        raw  2022-01-01 00:06:30      1         False\n17        3          cart        raw  2022-01-01 00:07:00      1         False\n18        3  payment_done        raw  2022-01-01 00:08:00      1          True\n19        4         start      start  2022-01-01 00:01:00      1         False\n20        4       catalog        raw  2022-01-01 00:01:00      1         False\n21        4      product1        raw  2022-01-01 00:02:00      1         False\n22        4      product2        raw  2022-01-01 00:03:00      1         False\n23        4       catalog        raw  2022-01-01 00:04:00      1         False\n24        4      product1        raw  2022-01-01 00:06:00      1         False\n25        4     product18        raw  2022-01-01 00:06:30      1         False\n26        4          cart        raw  2022-01-01 00:07:00      1         False\n27        4  payment_done        raw  2022-01-01 00:08:00      1          True\n28        5         start      start  2022-01-01 00:01:00      2         False\n29        5      product1        raw  2022-01-01 00:02:00      2         False\n30        5      product2        raw  2022-01-01 00:03:00      2         False\n31        5      product1        raw  2022-01-01 00:06:00      2         False\n32        5     product18        raw  2022-01-01 00:06:30      2         False\n33        5          cart        raw  2022-01-01 00:07:00      2         False\n34        5  payment_done        raw  2022-01-01 00:08:00      2          True\n35        6         start      start  2022-01-01 00:01:00      2         False\n36        6      product1        raw  2022-01-01 00:01:00      2         False\n37        6      product2        raw  2022-01-01 00:02:00      2         False\n38        6       catalog        raw  2022-01-01 00:03:00      2         False\n39        6       catalog        raw  2022-01-01 00:04:00      2         False\n40        6     product18        raw  2022-01-01 00:06:30      2         False\n41        6          cart        raw  2022-01-01 00:07:00      2         False\n42        6  payment_done        raw  2022-01-01 00:08:00      2          True\n43        7         start      start  2022-01-01 00:01:00      2         False\n44        7       catalog        raw  2022-01-01 00:01:00      2         False\n45        7      product1        raw  2022-01-01 00:02:00      2         False\n46        7      product2        raw  2022-01-01 00:03:00      2         False\n47        7       catalog        raw  2022-01-01 00:04:00      2         False\n48        7      product1        raw  2022-01-01 00:06:00      2         False\n49        7     product18        raw  2022-01-01 00:06:30      2         False\n50        7  payment_done        raw  2022-01-01 00:07:00      2          True\n51        7          cart        raw  2022-01-01 00:08:00      2         False\n52        8         start      start  2022-01-01 00:01:00      2         False\n53        8       catalog        raw  2022-01-01 00:01:00      2         False\n54        8      product1        raw  2022-01-01 00:02:00      2         False\n55        8      product2        raw  2022-01-01 00:03:00      2         False\n56        8       catalog        raw  2022-01-01 00:04:00      2         False\n57        8      product1        raw  2022-01-01 00:06:00      2         False\n58        8     product18        raw  2022-01-01 00:06:30      2         False\n59        8          cart        raw  2022-01-01 00:08:00      2         False",
      "text/html": "<div>\n<style scoped>\n    .dataframe tbody tr th:only-of-type {\n        vertical-align: middle;\n    }\n\n    .dataframe tbody tr th {\n        vertical-align: top;\n    }\n\n    .dataframe thead th {\n        text-align: right;\n    }\n</style>\n<table border=\"1\" class=\"dataframe\">\n  <thead>\n    <tr style=\"text-align: right;\">\n      <th></th>\n      <th>user_id</th>\n      <th>event</th>\n      <th>event_type</th>\n      <th>timestamp</th>\n      <th>group</th>\n      <th>payment_done</th>\n    </tr>\n  </thead>\n  <tbody>\n    <tr>\n      <th>0</th>\n      <td>1</td>\n      <td>start</td>\n      <td>start</td>\n      <td>2022-01-01 00:01:00</td>\n      <td>1</td>\n      <td>False</td>\n    </tr>\n    <tr>\n      <th>1</th>\n      <td>1</td>\n      <td>catalog</td>\n      <td>raw</td>\n      <td>2022-01-01 00:01:00</td>\n      <td>1</td>\n      <td>False</td>\n    </tr>\n    <tr>\n      <th>2</th>\n      <td>1</td>\n      <td>product1</td>\n      <td>raw</td>\n      <td>2022-01-01 00:02:00</td>\n      <td>1</td>\n      <td>False</td>\n    </tr>\n    <tr>\n      <th>3</th>\n      <td>1</td>\n      <td>product2</td>\n      <td>raw</td>\n      <td>2022-01-01 00:03:00</td>\n      <td>1</td>\n      <td>False</td>\n    </tr>\n    <tr>\n      <th>4</th>\n      <td>1</td>\n      <td>cart</td>\n      <td>raw</td>\n      <td>2022-01-01 00:07:00</td>\n      <td>1</td>\n      <td>False</td>\n    </tr>\n    <tr>\n      <th>5</th>\n      <td>1</td>\n      <td>payment_done</td>\n      <td>raw</td>\n      <td>2022-01-01 00:08:00</td>\n      <td>1</td>\n      <td>True</td>\n    </tr>\n    <tr>\n      <th>6</th>\n      <td>2</td>\n      <td>start</td>\n      <td>start</td>\n      <td>2022-02-01 00:01:00</td>\n      <td>1</td>\n      <td>False</td>\n    </tr>\n    <tr>\n      <th>7</th>\n      <td>2</td>\n      <td>product1</td>\n      <td>raw</td>\n      <td>2022-02-01 00:01:00</td>\n      <td>1</td>\n      <td>False</td>\n    </tr>\n    <tr>\n      <th>8</th>\n      <td>2</td>\n      <td>product2</td>\n      <td>raw</td>\n      <td>2022-02-01 00:02:00</td>\n      <td>1</td>\n      <td>False</td>\n    </tr>\n    <tr>\n      <th>9</th>\n      <td>2</td>\n      <td>cart</td>\n      <td>raw</td>\n      <td>2022-02-01 00:07:00</td>\n      <td>1</td>\n      <td>False</td>\n    </tr>\n    <tr>\n      <th>10</th>\n      <td>2</td>\n      <td>payment_done</td>\n      <td>raw</td>\n      <td>2022-02-01 00:08:00</td>\n      <td>1</td>\n      <td>True</td>\n    </tr>\n    <tr>\n      <th>11</th>\n      <td>3</td>\n      <td>start</td>\n      <td>start</td>\n      <td>2022-01-01 00:01:00</td>\n      <td>1</td>\n      <td>False</td>\n    </tr>\n    <tr>\n      <th>12</th>\n      <td>3</td>\n      <td>product1</td>\n      <td>raw</td>\n      <td>2022-01-01 00:01:00</td>\n      <td>1</td>\n      <td>False</td>\n    </tr>\n    <tr>\n      <th>13</th>\n      <td>3</td>\n      <td>product2</td>\n      <td>raw</td>\n      <td>2022-01-01 00:02:00</td>\n      <td>1</td>\n      <td>False</td>\n    </tr>\n    <tr>\n      <th>14</th>\n      <td>3</td>\n      <td>catalog</td>\n      <td>raw</td>\n      <td>2022-01-01 00:03:00</td>\n      <td>1</td>\n      <td>False</td>\n    </tr>\n    <tr>\n      <th>15</th>\n      <td>3</td>\n      <td>catalog</td>\n      <td>raw</td>\n      <td>2022-01-01 00:04:00</td>\n      <td>1</td>\n      <td>False</td>\n    </tr>\n    <tr>\n      <th>16</th>\n      <td>3</td>\n      <td>product18</td>\n      <td>raw</td>\n      <td>2022-01-01 00:06:30</td>\n      <td>1</td>\n      <td>False</td>\n    </tr>\n    <tr>\n      <th>17</th>\n      <td>3</td>\n      <td>cart</td>\n      <td>raw</td>\n      <td>2022-01-01 00:07:00</td>\n      <td>1</td>\n      <td>False</td>\n    </tr>\n    <tr>\n      <th>18</th>\n      <td>3</td>\n      <td>payment_done</td>\n      <td>raw</td>\n      <td>2022-01-01 00:08:00</td>\n      <td>1</td>\n      <td>True</td>\n    </tr>\n    <tr>\n      <th>19</th>\n      <td>4</td>\n      <td>start</td>\n      <td>start</td>\n      <td>2022-01-01 00:01:00</td>\n      <td>1</td>\n      <td>False</td>\n    </tr>\n    <tr>\n      <th>20</th>\n      <td>4</td>\n      <td>catalog</td>\n      <td>raw</td>\n      <td>2022-01-01 00:01:00</td>\n      <td>1</td>\n      <td>False</td>\n    </tr>\n    <tr>\n      <th>21</th>\n      <td>4</td>\n      <td>product1</td>\n      <td>raw</td>\n      <td>2022-01-01 00:02:00</td>\n      <td>1</td>\n      <td>False</td>\n    </tr>\n    <tr>\n      <th>22</th>\n      <td>4</td>\n      <td>product2</td>\n      <td>raw</td>\n      <td>2022-01-01 00:03:00</td>\n      <td>1</td>\n      <td>False</td>\n    </tr>\n    <tr>\n      <th>23</th>\n      <td>4</td>\n      <td>catalog</td>\n      <td>raw</td>\n      <td>2022-01-01 00:04:00</td>\n      <td>1</td>\n      <td>False</td>\n    </tr>\n    <tr>\n      <th>24</th>\n      <td>4</td>\n      <td>product1</td>\n      <td>raw</td>\n      <td>2022-01-01 00:06:00</td>\n      <td>1</td>\n      <td>False</td>\n    </tr>\n    <tr>\n      <th>25</th>\n      <td>4</td>\n      <td>product18</td>\n      <td>raw</td>\n      <td>2022-01-01 00:06:30</td>\n      <td>1</td>\n      <td>False</td>\n    </tr>\n    <tr>\n      <th>26</th>\n      <td>4</td>\n      <td>cart</td>\n      <td>raw</td>\n      <td>2022-01-01 00:07:00</td>\n      <td>1</td>\n      <td>False</td>\n    </tr>\n    <tr>\n      <th>27</th>\n      <td>4</td>\n      <td>payment_done</td>\n      <td>raw</td>\n      <td>2022-01-01 00:08:00</td>\n      <td>1</td>\n      <td>True</td>\n    </tr>\n    <tr>\n      <th>28</th>\n      <td>5</td>\n      <td>start</td>\n      <td>start</td>\n      <td>2022-01-01 00:01:00</td>\n      <td>2</td>\n      <td>False</td>\n    </tr>\n    <tr>\n      <th>29</th>\n      <td>5</td>\n      <td>product1</td>\n      <td>raw</td>\n      <td>2022-01-01 00:02:00</td>\n      <td>2</td>\n      <td>False</td>\n    </tr>\n    <tr>\n      <th>30</th>\n      <td>5</td>\n      <td>product2</td>\n      <td>raw</td>\n      <td>2022-01-01 00:03:00</td>\n      <td>2</td>\n      <td>False</td>\n    </tr>\n    <tr>\n      <th>31</th>\n      <td>5</td>\n      <td>product1</td>\n      <td>raw</td>\n      <td>2022-01-01 00:06:00</td>\n      <td>2</td>\n      <td>False</td>\n    </tr>\n    <tr>\n      <th>32</th>\n      <td>5</td>\n      <td>product18</td>\n      <td>raw</td>\n      <td>2022-01-01 00:06:30</td>\n      <td>2</td>\n      <td>False</td>\n    </tr>\n    <tr>\n      <th>33</th>\n      <td>5</td>\n      <td>cart</td>\n      <td>raw</td>\n      <td>2022-01-01 00:07:00</td>\n      <td>2</td>\n      <td>False</td>\n    </tr>\n    <tr>\n      <th>34</th>\n      <td>5</td>\n      <td>payment_done</td>\n      <td>raw</td>\n      <td>2022-01-01 00:08:00</td>\n      <td>2</td>\n      <td>True</td>\n    </tr>\n    <tr>\n      <th>35</th>\n      <td>6</td>\n      <td>start</td>\n      <td>start</td>\n      <td>2022-01-01 00:01:00</td>\n      <td>2</td>\n      <td>False</td>\n    </tr>\n    <tr>\n      <th>36</th>\n      <td>6</td>\n      <td>product1</td>\n      <td>raw</td>\n      <td>2022-01-01 00:01:00</td>\n      <td>2</td>\n      <td>False</td>\n    </tr>\n    <tr>\n      <th>37</th>\n      <td>6</td>\n      <td>product2</td>\n      <td>raw</td>\n      <td>2022-01-01 00:02:00</td>\n      <td>2</td>\n      <td>False</td>\n    </tr>\n    <tr>\n      <th>38</th>\n      <td>6</td>\n      <td>catalog</td>\n      <td>raw</td>\n      <td>2022-01-01 00:03:00</td>\n      <td>2</td>\n      <td>False</td>\n    </tr>\n    <tr>\n      <th>39</th>\n      <td>6</td>\n      <td>catalog</td>\n      <td>raw</td>\n      <td>2022-01-01 00:04:00</td>\n      <td>2</td>\n      <td>False</td>\n    </tr>\n    <tr>\n      <th>40</th>\n      <td>6</td>\n      <td>product18</td>\n      <td>raw</td>\n      <td>2022-01-01 00:06:30</td>\n      <td>2</td>\n      <td>False</td>\n    </tr>\n    <tr>\n      <th>41</th>\n      <td>6</td>\n      <td>cart</td>\n      <td>raw</td>\n      <td>2022-01-01 00:07:00</td>\n      <td>2</td>\n      <td>False</td>\n    </tr>\n    <tr>\n      <th>42</th>\n      <td>6</td>\n      <td>payment_done</td>\n      <td>raw</td>\n      <td>2022-01-01 00:08:00</td>\n      <td>2</td>\n      <td>True</td>\n    </tr>\n    <tr>\n      <th>43</th>\n      <td>7</td>\n      <td>start</td>\n      <td>start</td>\n      <td>2022-01-01 00:01:00</td>\n      <td>2</td>\n      <td>False</td>\n    </tr>\n    <tr>\n      <th>44</th>\n      <td>7</td>\n      <td>catalog</td>\n      <td>raw</td>\n      <td>2022-01-01 00:01:00</td>\n      <td>2</td>\n      <td>False</td>\n    </tr>\n    <tr>\n      <th>45</th>\n      <td>7</td>\n      <td>product1</td>\n      <td>raw</td>\n      <td>2022-01-01 00:02:00</td>\n      <td>2</td>\n      <td>False</td>\n    </tr>\n    <tr>\n      <th>46</th>\n      <td>7</td>\n      <td>product2</td>\n      <td>raw</td>\n      <td>2022-01-01 00:03:00</td>\n      <td>2</td>\n      <td>False</td>\n    </tr>\n    <tr>\n      <th>47</th>\n      <td>7</td>\n      <td>catalog</td>\n      <td>raw</td>\n      <td>2022-01-01 00:04:00</td>\n      <td>2</td>\n      <td>False</td>\n    </tr>\n    <tr>\n      <th>48</th>\n      <td>7</td>\n      <td>product1</td>\n      <td>raw</td>\n      <td>2022-01-01 00:06:00</td>\n      <td>2</td>\n      <td>False</td>\n    </tr>\n    <tr>\n      <th>49</th>\n      <td>7</td>\n      <td>product18</td>\n      <td>raw</td>\n      <td>2022-01-01 00:06:30</td>\n      <td>2</td>\n      <td>False</td>\n    </tr>\n    <tr>\n      <th>50</th>\n      <td>7</td>\n      <td>payment_done</td>\n      <td>raw</td>\n      <td>2022-01-01 00:07:00</td>\n      <td>2</td>\n      <td>True</td>\n    </tr>\n    <tr>\n      <th>51</th>\n      <td>7</td>\n      <td>cart</td>\n      <td>raw</td>\n      <td>2022-01-01 00:08:00</td>\n      <td>2</td>\n      <td>False</td>\n    </tr>\n    <tr>\n      <th>52</th>\n      <td>8</td>\n      <td>start</td>\n      <td>start</td>\n      <td>2022-01-01 00:01:00</td>\n      <td>2</td>\n      <td>False</td>\n    </tr>\n    <tr>\n      <th>53</th>\n      <td>8</td>\n      <td>catalog</td>\n      <td>raw</td>\n      <td>2022-01-01 00:01:00</td>\n      <td>2</td>\n      <td>False</td>\n    </tr>\n    <tr>\n      <th>54</th>\n      <td>8</td>\n      <td>product1</td>\n      <td>raw</td>\n      <td>2022-01-01 00:02:00</td>\n      <td>2</td>\n      <td>False</td>\n    </tr>\n    <tr>\n      <th>55</th>\n      <td>8</td>\n      <td>product2</td>\n      <td>raw</td>\n      <td>2022-01-01 00:03:00</td>\n      <td>2</td>\n      <td>False</td>\n    </tr>\n    <tr>\n      <th>56</th>\n      <td>8</td>\n      <td>catalog</td>\n      <td>raw</td>\n      <td>2022-01-01 00:04:00</td>\n      <td>2</td>\n      <td>False</td>\n    </tr>\n    <tr>\n      <th>57</th>\n      <td>8</td>\n      <td>product1</td>\n      <td>raw</td>\n      <td>2022-01-01 00:06:00</td>\n      <td>2</td>\n      <td>False</td>\n    </tr>\n    <tr>\n      <th>58</th>\n      <td>8</td>\n      <td>product18</td>\n      <td>raw</td>\n      <td>2022-01-01 00:06:30</td>\n      <td>2</td>\n      <td>False</td>\n    </tr>\n    <tr>\n      <th>59</th>\n      <td>8</td>\n      <td>cart</td>\n      <td>raw</td>\n      <td>2022-01-01 00:08:00</td>\n      <td>2</td>\n      <td>False</td>\n    </tr>\n  </tbody>\n</table>\n</div>"
     },
     "execution_count": 27,
     "metadata": {},
     "output_type": "execute_result"
    }
   ],
   "source": [
    "df_cutted['payment_done'] = df_cutted['event'] == 'payment_done'\n",
    "df_cutted"
   ],
   "metadata": {
    "collapsed": false
   }
  },
  {
   "cell_type": "code",
   "execution_count": 28,
   "outputs": [
    {
     "data": {
      "text/plain": "payment_done  False  True \ngroup                     \n1                24      4\n2                29      3",
      "text/html": "<div>\n<style scoped>\n    .dataframe tbody tr th:only-of-type {\n        vertical-align: middle;\n    }\n\n    .dataframe tbody tr th {\n        vertical-align: top;\n    }\n\n    .dataframe thead th {\n        text-align: right;\n    }\n</style>\n<table border=\"1\" class=\"dataframe\">\n  <thead>\n    <tr style=\"text-align: right;\">\n      <th>payment_done</th>\n      <th>False</th>\n      <th>True</th>\n    </tr>\n    <tr>\n      <th>group</th>\n      <th></th>\n      <th></th>\n    </tr>\n  </thead>\n  <tbody>\n    <tr>\n      <th>1</th>\n      <td>24</td>\n      <td>4</td>\n    </tr>\n    <tr>\n      <th>2</th>\n      <td>29</td>\n      <td>3</td>\n    </tr>\n  </tbody>\n</table>\n</div>"
     },
     "execution_count": 28,
     "metadata": {},
     "output_type": "execute_result"
    }
   ],
   "source": [
    "contigency= pd.crosstab(df_cutted['group'], df_cutted['payment_done'])\n",
    "contigency"
   ],
   "metadata": {
    "collapsed": false
   }
  },
  {
   "cell_type": "code",
   "execution_count": 29,
   "outputs": [
    {
     "data": {
      "text/plain": "0.8508071203050924"
     },
     "execution_count": 29,
     "metadata": {},
     "output_type": "execute_result"
    }
   ],
   "source": [
    "chi2_contingency(contigency)[1]"
   ],
   "metadata": {
    "collapsed": false
   }
  },
  {
   "cell_type": "code",
   "execution_count": 30,
   "outputs": [
    {
     "data": {
      "text/plain": "{'group_one_name': 'group_1',\n 'group_one_size': 4,\n 'group_one_mean': 1.0,\n 'group_one_SD': 0.0,\n 'group_two_name': 'group_2',\n 'group_two_size': 4,\n 'group_two_mean': 0.75,\n 'group_two_SD': 0.4330127018922193,\n 'greatest_group_name': 'group_1',\n 'is_group_one_greatest': True,\n 'p_val': 1.0,\n 'power_estimated': 0.0}"
     },
     "execution_count": 30,
     "metadata": {},
     "output_type": "execute_result"
    }
   ],
   "source": [
    "st = source_stream_cut.stattests(groups=([1, 2, 3, 4], [5, 6, 7, 8]),\n",
    "    objective = lambda x: 'payment_done' in x['event'].values,\n",
    "    group_names=(\"group_1\", \"group_2\"),\n",
    "    test = 'chi2_contingency')\n",
    "st.fit()\n",
    "result = st.values()\n",
    "result"
   ],
   "metadata": {
    "collapsed": false
   }
  },
  {
   "cell_type": "markdown",
   "source": [],
   "metadata": {
    "collapsed": false
   }
  },
  {
   "cell_type": "code",
   "execution_count": 31,
   "outputs": [
    {
     "data": {
      "text/plain": "0.8394989918875613"
     },
     "execution_count": 31,
     "metadata": {},
     "output_type": "execute_result"
    }
   ],
   "source": [
    "oddsr, p = stats.fisher_exact(contigency, alternative='greater')\n",
    "p"
   ],
   "metadata": {
    "collapsed": false
   }
  },
  {
   "cell_type": "code",
   "execution_count": 33,
   "outputs": [
    {
     "data": {
      "text/plain": "{'group_one_name': 'group_1',\n 'group_one_size': 4,\n 'group_one_mean': 1.0,\n 'group_one_SD': 0.0,\n 'group_two_name': 'group_2',\n 'group_two_size': 4,\n 'group_two_mean': 0.75,\n 'group_two_SD': 0.4330127018922193,\n 'greatest_group_name': 'group_1',\n 'is_group_one_greatest': True,\n 'p_val': 0.7857142857142857,\n 'power_estimated': 0.0}"
     },
     "execution_count": 33,
     "metadata": {},
     "output_type": "execute_result"
    }
   ],
   "source": [
    "#fisher_exact\n",
    "test_results = source_stream_cut.stattests(groups=([1, 2, 3, 4], [5, 6, 7, 8]),\n",
    "                 objective=lambda x: 'payment_done' in x['event'].values,\n",
    "                 group_names=(\"group_1\", \"group_2\"),\n",
    "                 test=\"fisher_exact\")\n",
    "result = test_results.values()\n",
    "result"
   ],
   "metadata": {
    "collapsed": false
   }
  },
  {
   "cell_type": "code",
   "execution_count": 66,
   "outputs": [
    {
     "data": {
      "text/plain": "    user_id         event event_type            timestamp  group  payment_done\n0         1         start      start  2022-01-01 00:01:00      1         False\n1         1       catalog        raw  2022-01-01 00:01:00      1         False\n2         1      product1        raw  2022-01-01 00:02:00      1         False\n3         1      product2        raw  2022-01-01 00:03:00      1         False\n4         1          cart        raw  2022-01-01 00:07:00      1         False\n..      ...           ...        ...                  ...    ...           ...\n56        8       catalog        raw  2022-01-01 00:04:00      2         False\n57        8      product1        raw  2022-01-01 00:06:00      2         False\n58        8     product18        raw  2022-01-01 00:06:30      2         False\n59        8  payment_done        raw  2022-01-01 00:07:00      2          True\n60        8          cart        raw  2022-01-01 00:08:00      2         False\n\n[61 rows x 6 columns]",
      "text/html": "<div>\n<style scoped>\n    .dataframe tbody tr th:only-of-type {\n        vertical-align: middle;\n    }\n\n    .dataframe tbody tr th {\n        vertical-align: top;\n    }\n\n    .dataframe thead th {\n        text-align: right;\n    }\n</style>\n<table border=\"1\" class=\"dataframe\">\n  <thead>\n    <tr style=\"text-align: right;\">\n      <th></th>\n      <th>user_id</th>\n      <th>event</th>\n      <th>event_type</th>\n      <th>timestamp</th>\n      <th>group</th>\n      <th>payment_done</th>\n    </tr>\n  </thead>\n  <tbody>\n    <tr>\n      <th>0</th>\n      <td>1</td>\n      <td>start</td>\n      <td>start</td>\n      <td>2022-01-01 00:01:00</td>\n      <td>1</td>\n      <td>False</td>\n    </tr>\n    <tr>\n      <th>1</th>\n      <td>1</td>\n      <td>catalog</td>\n      <td>raw</td>\n      <td>2022-01-01 00:01:00</td>\n      <td>1</td>\n      <td>False</td>\n    </tr>\n    <tr>\n      <th>2</th>\n      <td>1</td>\n      <td>product1</td>\n      <td>raw</td>\n      <td>2022-01-01 00:02:00</td>\n      <td>1</td>\n      <td>False</td>\n    </tr>\n    <tr>\n      <th>3</th>\n      <td>1</td>\n      <td>product2</td>\n      <td>raw</td>\n      <td>2022-01-01 00:03:00</td>\n      <td>1</td>\n      <td>False</td>\n    </tr>\n    <tr>\n      <th>4</th>\n      <td>1</td>\n      <td>cart</td>\n      <td>raw</td>\n      <td>2022-01-01 00:07:00</td>\n      <td>1</td>\n      <td>False</td>\n    </tr>\n    <tr>\n      <th>...</th>\n      <td>...</td>\n      <td>...</td>\n      <td>...</td>\n      <td>...</td>\n      <td>...</td>\n      <td>...</td>\n    </tr>\n    <tr>\n      <th>56</th>\n      <td>8</td>\n      <td>catalog</td>\n      <td>raw</td>\n      <td>2022-01-01 00:04:00</td>\n      <td>2</td>\n      <td>False</td>\n    </tr>\n    <tr>\n      <th>57</th>\n      <td>8</td>\n      <td>product1</td>\n      <td>raw</td>\n      <td>2022-01-01 00:06:00</td>\n      <td>2</td>\n      <td>False</td>\n    </tr>\n    <tr>\n      <th>58</th>\n      <td>8</td>\n      <td>product18</td>\n      <td>raw</td>\n      <td>2022-01-01 00:06:30</td>\n      <td>2</td>\n      <td>False</td>\n    </tr>\n    <tr>\n      <th>59</th>\n      <td>8</td>\n      <td>payment_done</td>\n      <td>raw</td>\n      <td>2022-01-01 00:07:00</td>\n      <td>2</td>\n      <td>True</td>\n    </tr>\n    <tr>\n      <th>60</th>\n      <td>8</td>\n      <td>cart</td>\n      <td>raw</td>\n      <td>2022-01-01 00:08:00</td>\n      <td>2</td>\n      <td>False</td>\n    </tr>\n  </tbody>\n</table>\n<p>61 rows × 6 columns</p>\n</div>"
     },
     "execution_count": 66,
     "metadata": {},
     "output_type": "execute_result"
    }
   ],
   "source": [
    "df"
   ],
   "metadata": {
    "collapsed": false
   }
  },
  {
   "cell_type": "code",
   "execution_count": 47,
   "outputs": [],
   "source": [
    "contigency_table1 = np.array([[0, 4], [1, 3]])\n",
    "contigency_table2 = np.array([[1, 3], [0, 4]])"
   ],
   "metadata": {
    "collapsed": false
   }
  },
  {
   "cell_type": "code",
   "execution_count": 49,
   "outputs": [],
   "source": [
    "_, p1 = fisher_exact(contigency_table1, alternative='greater')\n",
    "_, p2 = fisher_exact(contigency_table2, alternative='greater')"
   ],
   "metadata": {
    "collapsed": false
   }
  },
  {
   "cell_type": "code",
   "execution_count": 50,
   "outputs": [
    {
     "data": {
      "text/plain": "(1.0, 0.5)"
     },
     "execution_count": 50,
     "metadata": {},
     "output_type": "execute_result"
    }
   ],
   "source": [
    "p1, p2"
   ],
   "metadata": {
    "collapsed": false
   }
  },
  {
   "cell_type": "code",
   "execution_count": null,
   "outputs": [],
   "source": [],
   "metadata": {
    "collapsed": false
   }
  }
 ],
 "metadata": {
  "kernelspec": {
   "display_name": "Python 3 (ipykernel)",
   "language": "python",
   "name": "python3"
  },
  "language_info": {
   "codemirror_mode": {
    "name": "ipython",
    "version": 3
   },
   "file_extension": ".py",
   "mimetype": "text/x-python",
   "name": "python",
   "nbconvert_exporter": "python",
   "pygments_lexer": "ipython3",
   "version": "3.8.10"
  }
 },
 "nbformat": 4,
 "nbformat_minor": 4
}
