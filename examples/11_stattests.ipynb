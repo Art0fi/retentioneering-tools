{
 "cells": [
  {
   "cell_type": "code",
   "execution_count": 1,
   "metadata": {
    "tags": []
   },
   "outputs": [],
   "source": [
    "import sys\n",
    "sys.path.insert(0, '..')"
   ]
  },
  {
   "cell_type": "code",
   "execution_count": 2,
   "metadata": {
    "collapsed": false,
    "jupyter": {
     "outputs_hidden": false
    }
   },
   "outputs": [
    {
     "name": "stderr",
     "output_type": "stream",
     "text": [
      "/home/akorovko/retentioneering-tools-new-arch/examples/../src/params_model/params_model.py:68: UserWarning: Callable filter was excluded from schema since JSON schema has no equivalent type.\n",
      "  params_schema: dict[str, Any] = cls.schema()\n",
      "/home/akorovko/retentioneering-tools-new-arch/examples/../src/params_model/params_model.py:68: UserWarning: Callable negative_function was excluded from schema since JSON schema has no equivalent type.\n",
      "  params_schema: dict[str, Any] = cls.schema()\n",
      "/home/akorovko/retentioneering-tools-new-arch/examples/../src/params_model/params_model.py:68: UserWarning: Callable positive_function was excluded from schema since JSON schema has no equivalent type.\n",
      "  params_schema: dict[str, Any] = cls.schema()\n"
     ]
    }
   ],
   "source": [
    "import numpy as np\n",
    "from src.eventstream import Eventstream, RawDataSchema\n",
    "from src import datasets\n",
    "test_stream: Eventstream = datasets.load_simple_shop()"
   ]
  },
  {
   "cell_type": "code",
   "execution_count": 3,
   "metadata": {},
   "outputs": [
    {
     "data": {
      "text/html": [
       "<div>\n",
       "<style scoped>\n",
       "    .dataframe tbody tr th:only-of-type {\n",
       "        vertical-align: middle;\n",
       "    }\n",
       "\n",
       "    .dataframe tbody tr th {\n",
       "        vertical-align: top;\n",
       "    }\n",
       "\n",
       "    .dataframe thead th {\n",
       "        text-align: right;\n",
       "    }\n",
       "</style>\n",
       "<table border=\"1\" class=\"dataframe\">\n",
       "  <thead>\n",
       "    <tr style=\"text-align: right;\">\n",
       "      <th></th>\n",
       "      <th>event_id</th>\n",
       "      <th>event_type</th>\n",
       "      <th>event_index</th>\n",
       "      <th>event_name</th>\n",
       "      <th>event_timestamp</th>\n",
       "      <th>user_id</th>\n",
       "    </tr>\n",
       "  </thead>\n",
       "  <tbody>\n",
       "    <tr>\n",
       "      <th>0</th>\n",
       "      <td>83f236c4-f811-4fc0-b92f-d7a9c57ff0d2</td>\n",
       "      <td>raw</td>\n",
       "      <td>0</td>\n",
       "      <td>catalog</td>\n",
       "      <td>2019-11-01 17:59:13.273932</td>\n",
       "      <td>219483890</td>\n",
       "    </tr>\n",
       "    <tr>\n",
       "      <th>1</th>\n",
       "      <td>e774d58f-d636-472f-9168-bf365cecb5fa</td>\n",
       "      <td>raw</td>\n",
       "      <td>1</td>\n",
       "      <td>product1</td>\n",
       "      <td>2019-11-01 17:59:28.459271</td>\n",
       "      <td>219483890</td>\n",
       "    </tr>\n",
       "    <tr>\n",
       "      <th>2</th>\n",
       "      <td>1d91c9ea-9fdd-4d8f-91b8-c9496bae89c0</td>\n",
       "      <td>raw</td>\n",
       "      <td>2</td>\n",
       "      <td>cart</td>\n",
       "      <td>2019-11-01 17:59:29.502214</td>\n",
       "      <td>219483890</td>\n",
       "    </tr>\n",
       "    <tr>\n",
       "      <th>3</th>\n",
       "      <td>6a39ce9c-c823-4196-9b74-aeec8c20acf8</td>\n",
       "      <td>raw</td>\n",
       "      <td>3</td>\n",
       "      <td>catalog</td>\n",
       "      <td>2019-11-01 17:59:32.557029</td>\n",
       "      <td>219483890</td>\n",
       "    </tr>\n",
       "    <tr>\n",
       "      <th>4</th>\n",
       "      <td>8728dc61-dec9-438e-afa5-d75f5228077a</td>\n",
       "      <td>raw</td>\n",
       "      <td>4</td>\n",
       "      <td>catalog</td>\n",
       "      <td>2019-11-01 21:38:19.283663</td>\n",
       "      <td>964964743</td>\n",
       "    </tr>\n",
       "    <tr>\n",
       "      <th>...</th>\n",
       "      <td>...</td>\n",
       "      <td>...</td>\n",
       "      <td>...</td>\n",
       "      <td>...</td>\n",
       "      <td>...</td>\n",
       "      <td>...</td>\n",
       "    </tr>\n",
       "    <tr>\n",
       "      <th>35376</th>\n",
       "      <td>d7d60ab2-871c-4841-a02e-d36d60d55d79</td>\n",
       "      <td>raw</td>\n",
       "      <td>35376</td>\n",
       "      <td>catalog</td>\n",
       "      <td>2020-04-29 12:47:40.975732</td>\n",
       "      <td>501098384</td>\n",
       "    </tr>\n",
       "    <tr>\n",
       "      <th>35377</th>\n",
       "      <td>6213c8ce-5666-4d52-b455-72b81681a7e2</td>\n",
       "      <td>raw</td>\n",
       "      <td>35377</td>\n",
       "      <td>catalog</td>\n",
       "      <td>2020-04-29 12:48:01.809577</td>\n",
       "      <td>501098384</td>\n",
       "    </tr>\n",
       "    <tr>\n",
       "      <th>35378</th>\n",
       "      <td>05f212e3-c437-42be-9f64-263a99823f18</td>\n",
       "      <td>raw</td>\n",
       "      <td>35378</td>\n",
       "      <td>main</td>\n",
       "      <td>2020-04-29 12:48:01.938488</td>\n",
       "      <td>501098384</td>\n",
       "    </tr>\n",
       "    <tr>\n",
       "      <th>35379</th>\n",
       "      <td>914669d1-3470-4dce-996b-17939d8646b5</td>\n",
       "      <td>raw</td>\n",
       "      <td>35379</td>\n",
       "      <td>catalog</td>\n",
       "      <td>2020-04-29 12:48:06.595390</td>\n",
       "      <td>501098384</td>\n",
       "    </tr>\n",
       "    <tr>\n",
       "      <th>35380</th>\n",
       "      <td>5cab2706-10c6-4e63-b89c-1fe38a88c545</td>\n",
       "      <td>raw</td>\n",
       "      <td>35380</td>\n",
       "      <td>lost</td>\n",
       "      <td>2020-04-29 12:48:07.595390</td>\n",
       "      <td>501098384</td>\n",
       "    </tr>\n",
       "  </tbody>\n",
       "</table>\n",
       "<p>35381 rows × 6 columns</p>\n",
       "</div>"
      ],
      "text/plain": [
       "                                   event_id event_type  event_index  \\\n",
       "0      83f236c4-f811-4fc0-b92f-d7a9c57ff0d2        raw            0   \n",
       "1      e774d58f-d636-472f-9168-bf365cecb5fa        raw            1   \n",
       "2      1d91c9ea-9fdd-4d8f-91b8-c9496bae89c0        raw            2   \n",
       "3      6a39ce9c-c823-4196-9b74-aeec8c20acf8        raw            3   \n",
       "4      8728dc61-dec9-438e-afa5-d75f5228077a        raw            4   \n",
       "...                                     ...        ...          ...   \n",
       "35376  d7d60ab2-871c-4841-a02e-d36d60d55d79        raw        35376   \n",
       "35377  6213c8ce-5666-4d52-b455-72b81681a7e2        raw        35377   \n",
       "35378  05f212e3-c437-42be-9f64-263a99823f18        raw        35378   \n",
       "35379  914669d1-3470-4dce-996b-17939d8646b5        raw        35379   \n",
       "35380  5cab2706-10c6-4e63-b89c-1fe38a88c545        raw        35380   \n",
       "\n",
       "      event_name            event_timestamp    user_id  \n",
       "0        catalog 2019-11-01 17:59:13.273932  219483890  \n",
       "1       product1 2019-11-01 17:59:28.459271  219483890  \n",
       "2           cart 2019-11-01 17:59:29.502214  219483890  \n",
       "3        catalog 2019-11-01 17:59:32.557029  219483890  \n",
       "4        catalog 2019-11-01 21:38:19.283663  964964743  \n",
       "...          ...                        ...        ...  \n",
       "35376    catalog 2020-04-29 12:47:40.975732  501098384  \n",
       "35377    catalog 2020-04-29 12:48:01.809577  501098384  \n",
       "35378       main 2020-04-29 12:48:01.938488  501098384  \n",
       "35379    catalog 2020-04-29 12:48:06.595390  501098384  \n",
       "35380       lost 2020-04-29 12:48:07.595390  501098384  \n",
       "\n",
       "[35381 rows x 6 columns]"
      ]
     },
     "execution_count": 3,
     "metadata": {},
     "output_type": "execute_result"
    }
   ],
   "source": [
    "df = test_stream.to_dataframe()\n",
    "df"
   ]
  },
  {
   "cell_type": "code",
   "execution_count": 4,
   "metadata": {},
   "outputs": [
    {
     "data": {
      "text/plain": [
       "catalog             14518\n",
       "main                 5635\n",
       "lost                 3098\n",
       "cart                 2842\n",
       "product2             2172\n",
       "delivery_choice      1686\n",
       "product1             1515\n",
       "payment_choice       1107\n",
       "delivery_courier      834\n",
       "payment_done          706\n",
       "payment_card          565\n",
       "delivery_pickup       506\n",
       "payment_cash          197\n",
       "Name: event_name, dtype: int64"
      ]
     },
     "execution_count": 4,
     "metadata": {},
     "output_type": "execute_result"
    }
   ],
   "source": [
    "df['event_name'].value_counts()"
   ]
  },
  {
   "cell_type": "code",
   "execution_count": 5,
   "metadata": {},
   "outputs": [
    {
     "data": {
      "text/plain": [
       "user_id\n",
       "530349536    100\n",
       "962952209     94\n",
       "898482504     92\n",
       "78179456      83\n",
       "760510988     83\n",
       "            ... \n",
       "877370577      2\n",
       "467642580      2\n",
       "467897940      2\n",
       "471297425      2\n",
       "999941967      2\n",
       "Name: event_id, Length: 3751, dtype: int64"
      ]
     },
     "execution_count": 5,
     "metadata": {},
     "output_type": "execute_result"
    }
   ],
   "source": [
    "users_by_event_cnt = df.groupby('user_id')['event_id'].nunique().sort_values(ascending=False)\n",
    "users_by_event_cnt"
   ]
  },
  {
   "cell_type": "code",
   "execution_count": 6,
   "metadata": {},
   "outputs": [],
   "source": [
    "most_active = users_by_event_cnt.index[:int(users_by_event_cnt.shape[0]/2)].values\n",
    "least_active = users_by_event_cnt.index.values[~np.isin(users_by_event_cnt.index.values, most_active)]"
   ]
  },
  {
   "cell_type": "code",
   "execution_count": 7,
   "metadata": {},
   "outputs": [
    {
     "data": {
      "text/plain": [
       "(1875,)"
      ]
     },
     "execution_count": 7,
     "metadata": {},
     "output_type": "execute_result"
    }
   ],
   "source": [
    "most_active.shape"
   ]
  },
  {
   "cell_type": "code",
   "execution_count": 8,
   "metadata": {},
   "outputs": [
    {
     "data": {
      "text/plain": [
       "(1876,)"
      ]
     },
     "execution_count": 8,
     "metadata": {},
     "output_type": "execute_result"
    }
   ],
   "source": [
    "least_active.shape"
   ]
  },
  {
   "cell_type": "markdown",
   "metadata": {},
   "source": [
    "Let us check whether the most active 50% of users are significantly more active than the least active 50%:"
   ]
  },
  {
   "cell_type": "code",
   "execution_count": 9,
   "metadata": {},
   "outputs": [
    {
     "data": {
      "text/plain": [
       "{'group_one_name': 'most_active',\n",
       " 'group_one_size': 1875,\n",
       " 'group_one_mean': 14.8608,\n",
       " 'group_one_SD': 9.910012951219255,\n",
       " 'group_two_name': 'least_active',\n",
       " 'group_two_size': 1876,\n",
       " 'group_two_mean': 4.006929637526652,\n",
       " 'group_two_SD': 1.6169593451394413,\n",
       " 'greatest_group_name': 'least_active',\n",
       " 'is_group_one_greatest': False,\n",
       " 'p_val': 0.0,\n",
       " 'power_estimated': 1.0}"
      ]
     },
     "execution_count": 9,
     "metadata": {},
     "output_type": "execute_result"
    },
    {
     "data": {
      "image/png": "[encoded data removed]",
      "text/plain": [
       "<Figure size 456.125x360 with 1 Axes>"
      ]
     },
     "metadata": {
      "needs_background": "light"
     },
     "output_type": "display_data"
    }
   ],
   "source": [
    "test_stream.unpaired_group_test(groups=(most_active, least_active),\n",
    "                                function=lambda x: x.shape[0],\n",
    "                                group_names=('most_active', 'least_active'),\n",
    "                                test='ttest')"
   ]
  },
  {
   "cell_type": "markdown",
   "metadata": {},
   "source": [
    "Same but for \"payment_done\" indicator:"
   ]
  },
  {
   "cell_type": "code",
   "execution_count": 11,
   "metadata": {},
   "outputs": [
    {
     "data": {
      "text/plain": [
       "{'group_one_name': 'most_active',\n",
       " 'group_one_size': 1875,\n",
       " 'group_one_mean': 0.32426666666666665,\n",
       " 'group_one_SD': 0.4681001982007223,\n",
       " 'group_two_name': 'least_active',\n",
       " 'group_two_size': 1876,\n",
       " 'group_two_mean': 0.02398720682302772,\n",
       " 'group_two_SD': 0.1530092178002914,\n",
       " 'greatest_group_name': 'least_active',\n",
       " 'is_group_one_greatest': False,\n",
       " 'p_val': 2.4651106608514452e-141,\n",
       " 'power_estimated': 1.0}"
      ]
     },
     "execution_count": 11,
     "metadata": {},
     "output_type": "execute_result"
    },
    {
     "data": {
      "image/png": "[encoded data removed]",
      "text/plain": [
       "<Figure size 456.125x360 with 1 Axes>"
      ]
     },
     "metadata": {
      "needs_background": "light"
     },
     "output_type": "display_data"
    }
   ],
   "source": [
    "test_stream.unpaired_group_test(groups=(most_active, least_active),\n",
    "                                function=lambda x: 'payment_done' in x['event_name'].values,\n",
    "                                group_names=('most_active', 'least_active'),\n",
    "                                test='ttest')"
   ]
  },
  {
   "cell_type": "code",
   "execution_count": 12,
   "metadata": {},
   "outputs": [
    {
     "data": {
      "text/plain": [
       "{'group_one_name': 'most_active',\n",
       " 'group_one_size': 1875,\n",
       " 'group_one_mean': 0.32426666666666665,\n",
       " 'group_one_SD': 0.4681001982007223,\n",
       " 'group_two_name': 'least_active',\n",
       " 'group_two_size': 1876,\n",
       " 'group_two_mean': 0.02398720682302772,\n",
       " 'group_two_SD': 0.1530092178002914,\n",
       " 'greatest_group_name': 'most_active',\n",
       " 'is_group_one_greatest': True,\n",
       " 'p_val': 1.8620370399069264e-129}"
      ]
     },
     "execution_count": 12,
     "metadata": {},
     "output_type": "execute_result"
    }
   ],
   "source": [
    "test_stream.unpaired_group_test(groups=(most_active, least_active),\n",
    "                                function=lambda x: 'payment_done' in x['event_name'].values,\n",
    "                                group_names=('most_active', 'least_active'),\n",
    "                                test='chi2_contingency',\n",
    "                                plot_groups=False)"
   ]
  },
  {
   "cell_type": "code",
   "execution_count": 13,
   "metadata": {},
   "outputs": [
    {
     "data": {
      "text/plain": [
       "{'group_one_name': 'most_active',\n",
       " 'group_one_size': 1875,\n",
       " 'group_one_mean': 0.32426666666666665,\n",
       " 'group_one_SD': 0.4681001982007223,\n",
       " 'group_two_name': 'least_active',\n",
       " 'group_two_size': 1876,\n",
       " 'group_two_mean': 0.02398720682302772,\n",
       " 'group_two_SD': 0.1530092178002914,\n",
       " 'greatest_group_name': 'most_active',\n",
       " 'is_group_one_greatest': True,\n",
       " 'p_val': 9.940202050326225e-150}"
      ]
     },
     "execution_count": 13,
     "metadata": {},
     "output_type": "execute_result"
    }
   ],
   "source": [
    "test_stream.unpaired_group_test(groups=(most_active, least_active),\n",
    "                                function=lambda x: 'payment_done' in x['event_name'].values,\n",
    "                                group_names=('most_active', 'least_active'),\n",
    "                                test='fisher_exact',\n",
    "                                plot_groups=False)"
   ]
  },
  {
   "cell_type": "markdown",
   "metadata": {},
   "source": [
    "Same but for first 50% chronologically vs the rest:"
   ]
  },
  {
   "cell_type": "code",
   "execution_count": 14,
   "metadata": {},
   "outputs": [
    {
     "data": {
      "text/plain": [
       "{'group_one_name': 'most_active',\n",
       " 'group_one_size': 1875,\n",
       " 'group_one_mean': 0.17973333333333333,\n",
       " 'group_one_SD': 0.3839651836068242,\n",
       " 'group_two_name': 'least_active',\n",
       " 'group_two_size': 1876,\n",
       " 'group_two_mean': 0.02398720682302772,\n",
       " 'group_two_SD': 0.1530092178002914,\n",
       " 'greatest_group_name': 'least_active',\n",
       " 'is_group_one_greatest': False,\n",
       " 'p_val': 2.597361243028909e-56,\n",
       " 'power_estimated': 1.0}"
      ]
     },
     "execution_count": 14,
     "metadata": {},
     "output_type": "execute_result"
    }
   ],
   "source": [
    "users_by_appearance = df.groupby('user_id')['event_timestamp'].min().sort_values()\n",
    "first_half = users_by_appearance.index[:int(users_by_event_cnt.shape[0]/2)].values\n",
    "second_half = users_by_appearance.index.values[~np.isin(users_by_appearance.index.values, most_active)]\n",
    "\n",
    "test_stream.unpaired_group_test(groups=(first_half, second_half),\n",
    "                                function=lambda x: 'payment_done' in x['event_name'].values,\n",
    "                                group_names=('most_active', 'least_active'),\n",
    "                                test='mannwhitneyu',\n",
    "                                plot_groups=False)"
   ]
  },
  {
   "cell_type": "markdown",
   "metadata": {},
   "source": [
    "Same but for random 50%:"
   ]
  },
  {
   "cell_type": "code",
   "execution_count": 15,
   "metadata": {},
   "outputs": [
    {
     "data": {
      "text/plain": [
       "{'group_one_name': 'most_active',\n",
       " 'group_one_size': 1875,\n",
       " 'group_one_mean': 0.17333333333333334,\n",
       " 'group_one_SD': 0.37853518844209044,\n",
       " 'group_two_name': 'least_active',\n",
       " 'group_two_size': 1876,\n",
       " 'group_two_mean': 0.17484008528784648,\n",
       " 'group_two_SD': 0.37983026454507945,\n",
       " 'greatest_group_name': 'most_active',\n",
       " 'is_group_one_greatest': True,\n",
       " 'p_val': 0.9373315220781995}"
      ]
     },
     "execution_count": 15,
     "metadata": {},
     "output_type": "execute_result"
    },
    {
     "data": {
      "image/png": "[encoded data removed]",
      "text/plain": [
       "<Figure size 456.125x360 with 1 Axes>"
      ]
     },
     "metadata": {
      "needs_background": "light"
     },
     "output_type": "display_data"
    }
   ],
   "source": [
    "users = df['user_id'].unique()\n",
    "np.random.seed(962)\n",
    "first_half = np.random.choice(users, int(users.shape[0]/2), replace=False)\n",
    "second_half = users[~np.isin(users, first_half)]\n",
    "\n",
    "test_stream.unpaired_group_test(groups=(first_half, second_half),\n",
    "                                function=lambda x: 'payment_done' in x['event_name'].values,\n",
    "                                group_names=('most_active', 'least_active'),\n",
    "                                test='chi2_contingency',\n",
    "                                plot_groups=True)"
   ]
  },
  {
   "cell_type": "code",
   "execution_count": 16,
   "metadata": {},
   "outputs": [
    {
     "data": {
      "text/plain": [
       "{'group_one_name': 'most_active',\n",
       " 'group_one_size': 1875,\n",
       " 'group_one_mean': 0.17333333333333334,\n",
       " 'group_one_SD': 0.37853518844209044,\n",
       " 'group_two_name': 'least_active',\n",
       " 'group_two_size': 1876,\n",
       " 'group_two_mean': 0.17484008528784648,\n",
       " 'group_two_SD': 0.37983026454507945,\n",
       " 'greatest_group_name': 'least_active',\n",
       " 'is_group_one_greatest': False,\n",
       " 'p_val': 0.4686694861258803}"
      ]
     },
     "execution_count": 16,
     "metadata": {},
     "output_type": "execute_result"
    },
    {
     "data": {
      "image/png": "[encoded data removed]",
      "text/plain": [
       "<Figure size 456.125x360 with 1 Axes>"
      ]
     },
     "metadata": {
      "needs_background": "light"
     },
     "output_type": "display_data"
    }
   ],
   "source": [
    "users = df['user_id'].unique()\n",
    "np.random.seed(962)\n",
    "first_half = np.random.choice(users, int(users.shape[0]/2), replace=False)\n",
    "second_half = users[~np.isin(users, first_half)]\n",
    "\n",
    "test_stream.unpaired_group_test(groups=(first_half, second_half),\n",
    "                                function=lambda x: 'payment_done' in x['event_name'].values,\n",
    "                                group_names=('most_active', 'least_active'),\n",
    "                                test='fisher_exact',\n",
    "                                plot_groups=True)"
   ]
  },
  {
   "cell_type": "code",
   "execution_count": 17,
   "metadata": {},
   "outputs": [
    {
     "data": {
      "text/plain": [
       "{'group_one_name': 'most_active',\n",
       " 'group_one_size': 1875,\n",
       " 'group_one_mean': 0.17333333333333334,\n",
       " 'group_one_SD': 0.37853518844209044,\n",
       " 'group_two_name': 'least_active',\n",
       " 'group_two_size': 1876,\n",
       " 'group_two_mean': 0.17484008528784648,\n",
       " 'group_two_SD': 0.37983026454507945,\n",
       " 'greatest_group_name': 'most_active',\n",
       " 'is_group_one_greatest': True,\n",
       " 'p_val': 0.4515904809904342,\n",
       " 'power_estimated': 0.0638554853691331}"
      ]
     },
     "execution_count": 17,
     "metadata": {},
     "output_type": "execute_result"
    },
    {
     "data": {
      "image/png": "[encoded data removed]",
      "text/plain": [
       "<Figure size 456.125x360 with 1 Axes>"
      ]
     },
     "metadata": {
      "needs_background": "light"
     },
     "output_type": "display_data"
    }
   ],
   "source": [
    "users = df['user_id'].unique()\n",
    "np.random.seed(962)\n",
    "first_half = np.random.choice(users, int(users.shape[0]/2), replace=False)\n",
    "second_half = users[~np.isin(users, first_half)]\n",
    "\n",
    "test_stream.unpaired_group_test(groups=(first_half, second_half),\n",
    "                                function=lambda x: 'payment_done' in x['event_name'].values,\n",
    "                                group_names=('most_active', 'least_active'),\n",
    "                                test='ttest',\n",
    "                                plot_groups=True)"
   ]
  },
  {
   "cell_type": "code",
   "execution_count": null,
   "metadata": {},
   "outputs": [],
   "source": []
  }
 ],
 "metadata": {
  "kernelspec": {
   "display_name": "Python 3 (ipykernel)",
   "language": "python",
   "name": "python3"
  },
  "language_info": {
   "codemirror_mode": {
    "name": "ipython",
    "version": 3
   },
   "file_extension": ".py",
   "mimetype": "text/x-python",
   "name": "python",
   "nbconvert_exporter": "python",
   "pygments_lexer": "ipython3",
   "version": "3.8.10"
  }
 },
 "nbformat": 4,
 "nbformat_minor": 4
}
