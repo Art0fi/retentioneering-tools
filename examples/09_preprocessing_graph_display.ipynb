{
 "cells": [
  {
   "cell_type": "code",
   "execution_count": 1,
   "metadata": {
    "pycharm": {
     "name": "#%%\n"
    }
   },
   "outputs": [],
   "source": [
    "# При запуске ноутбука рабочей директорией ставится не папка проекта, а папка examples, а в ней нет src, \n",
    "# соответственно импорты не работают. Эта строчка фиксит такое поведение для тестирования, у пользователей будет\n",
    "# свой путь установки, в котором этой проблемы не будет. \n",
    "import sys\n",
    "sys.path.insert(0, '..')"
   ]
  },
  {
   "cell_type": "code",
   "execution_count": 2,
   "metadata": {
    "pycharm": {
     "name": "#%%\n"
    }
   },
   "outputs": [
    {
     "name": "stderr",
     "output_type": "stream",
     "text": [
      "../src/params_model/params_model.py:68: UserWarning: Callable filter was excluded from schema since JSON schema has no equivalent type.\n",
      "  params_schema: dict[str, Any] = cls.schema()\n",
      "../src/params_model/params_model.py:68: UserWarning: Callable negative_function was excluded from schema since JSON schema has no equivalent type.\n",
      "  params_schema: dict[str, Any] = cls.schema()\n",
      "../src/params_model/params_model.py:68: UserWarning: Callable positive_function was excluded from schema since JSON schema has no equivalent type.\n",
      "  params_schema: dict[str, Any] = cls.schema()\n"
     ]
    }
   ],
   "source": [
    "import pandas as pd\n",
    "\n",
    "from src.eventstream.eventstream import Eventstream\n",
    "from src.eventstream.schema import RawDataSchema, EventstreamSchema\n",
    "from src.graph.p_graph import PGraph, EventsNode, MergeNode\n",
    "\n",
    "raw_data = pd.read_csv('simple-onlineshop.csv')\n",
    "\n",
    "raw_data_schema = RawDataSchema(\n",
    "    event_name=\"event\", event_timestamp=\"timestamp\", user_id=\"user_id\")\n",
    "\n",
    "source = Eventstream(\n",
    "    raw_data=raw_data,\n",
    "    raw_data_schema=raw_data_schema,\n",
    "    schema=EventstreamSchema()\n",
    ")\n",
    "\n",
    "graph = PGraph(source_stream=source)"
   ]
  },
  {
   "cell_type": "code",
   "execution_count": 3,
   "metadata": {
    "pycharm": {
     "name": "#%%\n"
    }
   },
   "outputs": [
    {
     "data": {
      "text/html": [
       "<div id=\"30d4ff60-b16e-46d2-bbab-44d8e0b02d82\">\n",
       "</div>\n",
       "<script>\n",
       "  (function () {\n",
       "    const iframe = document.createElement(\"iframe\")\n",
       "    iframe.src = \"about:blank\"\n",
       "    iframe.width = 960\n",
       "    iframe.height = 900\n",
       "\n",
       "    const renderBlock = document.getElementById(\"30d4ff60-b16e-46d2-bbab-44d8e0b02d82\")\n",
       "    renderBlock.appendChild(iframe)\n",
       "\n",
       "    iframe.contentWindow.__SERVER_ID__ = \"0f18db78-02fb-4afe-bcca-eda2d271bc24\"\n",
       "    iframe.contentWindow.__ENV__ = \"classic\"\n",
       "    const fDocument = iframe.contentDocument\n",
       "    const container = fDocument.createElement(\"div\")\n",
       "    container.id = \"root\"\n",
       "\n",
       "    const script = fDocument.createElement(\"script\")\n",
       "    script.src = \"https://static.server.retentioneering.com/viztools/preprocessing-graph/preprocessing-graph.js\"\n",
       "    script.type = \"text/javascript\"\n",
       "\n",
       "    fDocument.body.appendChild(container)\n",
       "    fDocument.body.appendChild(script)\n",
       "  })()\n",
       "  /*\n",
       "  init({\n",
       "    blockId: \"30d4ff60-b16e-46d2-bbab-44d8e0b02d82\",\n",
       "    serverId: \"0f18db78-02fb-4afe-bcca-eda2d271bc24\",\n",
       "    env: \"classic\",\n",
       "  })\n",
       "  */\n",
       "</script>"
      ],
      "text/plain": [
       "<IPython.core.display.HTML object>"
      ]
     },
     "metadata": {},
     "output_type": "display_data"
    }
   ],
   "source": [
    "from src.data_processors_lib.rete import StartEndEvents, StartEndEventsParams, NegativeTarget, NegativeTargetParams\n",
    "\n",
    "start_end_events = EventsNode(\n",
    "    StartEndEvents(params=StartEndEventsParams(**{}))\n",
    ")\n",
    "\n",
    "negative_target = EventsNode(\n",
    "    NegativeTarget(params=NegativeTargetParams(**{\n",
    "        \"negative_target_events\": ['sdfsdf', '234234']\n",
    "    }))\n",
    ")\n",
    "\n",
    "graph.add_node(\n",
    "    node=start_end_events,\n",
    "    parents=[graph.root]\n",
    ")\n",
    "\n",
    "graph.add_node(\n",
    "    node=negative_target,\n",
    "    parents=[graph.root]\n",
    ")\n",
    "\n",
    "graph.add_node(\n",
    "    node=MergeNode(),\n",
    "    parents=[start_end_events, negative_target]\n",
    ")\n",
    "\n",
    "# result = graph.combine(\n",
    "#    node=start_end_events\n",
    "# )\n",
    "# result.to_dataframe().head(n=20)\n",
    "\n",
    "graph.display()\n"
   ]
  }
 ],
 "metadata": {
  "kernelspec": {
   "display_name": "Python 3.8.9 64-bit",
   "language": "python",
   "name": "python3"
  },
  "language_info": {
   "codemirror_mode": {
    "name": "ipython",
    "version": 3
   },
   "file_extension": ".py",
   "mimetype": "text/x-python",
   "name": "python",
   "nbconvert_exporter": "python",
   "pygments_lexer": "ipython3",
   "version": "3.8.9"
  },
  "vscode": {
   "interpreter": {
    "hash": "31f2aee4e71d21fbe5cf8b01ff0e069b9275f58929596ceb00d14d90e3e16cd6"
   }
  }
 },
 "nbformat": 4,
 "nbformat_minor": 1
}
