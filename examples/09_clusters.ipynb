{
 "cells": [
  {
   "cell_type": "code",
   "execution_count": 1,
   "metadata": {
    "collapsed": true
   },
   "outputs": [],
   "source": [
    "import sys\n",
    "sys.path.insert(0, '..')\n"
   ]
  },
  {
   "cell_type": "code",
   "execution_count": 2,
   "outputs": [
    {
     "name": "stderr",
     "output_type": "stream",
     "text": [
      "/home/vladimir/Workspace/retentioneering/retentioneering-tools-new-arch/examples/../src/params_model/params_model.py:68: UserWarning: Callable filter was excluded from schema since JSON schema has no equivalent type.\n",
      "  params_schema: dict[str, Any] = cls.schema()\n",
      "/home/vladimir/Workspace/retentioneering/retentioneering-tools-new-arch/examples/../src/params_model/params_model.py:68: UserWarning: Callable negative_function was excluded from schema since JSON schema has no equivalent type.\n",
      "  params_schema: dict[str, Any] = cls.schema()\n",
      "/home/vladimir/Workspace/retentioneering/retentioneering-tools-new-arch/examples/../src/params_model/params_model.py:68: UserWarning: Callable positive_function was excluded from schema since JSON schema has no equivalent type.\n",
      "  params_schema: dict[str, Any] = cls.schema()\n"
     ]
    }
   ],
   "source": [
    "from src.eventstream import Eventstream, RawDataSchema\n",
    "from src import datasets\n",
    "test_stream: Eventstream = datasets.load_simple_shop()\n",
    "\n"
   ],
   "metadata": {
    "collapsed": false
   }
  },
  {
   "cell_type": "code",
   "execution_count": 4,
   "outputs": [
    {
     "data": {
      "text/plain": "           cart_tfidf  catalog_tfidf  delivery_choice_tfidf  \\\nuser_id                                                       \n122915       0.071095       0.796693               0.000000   \n463458       0.000000       0.950397               0.000000   \n1475907      0.190821       0.593985               0.230837   \n1576626      0.000000       0.000000               0.000000   \n2112338      0.000000       0.704163               0.000000   \n...               ...            ...                    ...   \n999275109    0.355102       0.442142               0.429567   \n999642905    0.289277       0.360183               0.349939   \n999914554    0.128042       0.797132               0.000000   \n999916163    0.812397       0.505763               0.000000   \n999941967    0.000000       0.656969               0.000000   \n\n           delivery_courier_tfidf  delivery_pickup_tfidf  lost_tfidf  \\\nuser_id                                                                \n122915                   0.000000               0.000000    0.050792   \n463458                   0.000000               0.000000    0.136331   \n1475907                  0.298851               0.000000    0.136328   \n1576626                  0.000000               0.000000    0.634086   \n2112338                  0.000000               0.000000    0.269359   \n...                           ...                    ...         ...   \n999275109                0.000000               0.655381    0.253694   \n999642905                0.453045               0.000000    0.000000   \n999914554                0.000000               0.000000    0.091477   \n999916163                0.000000               0.000000    0.290199   \n999941967                0.000000               0.000000    0.753918   \n\n           main_tfidf  payment_card_tfidf  payment_cash_tfidf  \\\nuser_id                                                         \n122915       0.433586                 0.0                 0.0   \n463458       0.166254                 0.0                 0.0   \n1475907      0.332502                 0.0                 0.0   \n1576626      0.773263                 0.0                 0.0   \n2112338      0.656962                 0.0                 0.0   \n...               ...                 ...                 ...   \n999275109    0.000000                 0.0                 0.0   \n999642905    0.252029                 0.0                 0.0   \n999914554    0.557774                 0.0                 0.0   \n999916163    0.000000                 0.0                 0.0   \n999941967    0.000000                 0.0                 0.0   \n\n           payment_choice_tfidf  payment_done_tfidf  product1_tfidf  \\\nuser_id                                                               \n122915                 0.000000            0.000000        0.376298   \n463458                 0.000000            0.000000        0.000000   \n1475907                0.270565            0.000000        0.252498   \n1576626                0.000000            0.000000        0.000000   \n2112338                0.000000            0.000000        0.000000   \n...                         ...                 ...             ...   \n999275109              0.000000            0.000000        0.000000   \n999642905              0.410166            0.476576        0.000000   \n999914554              0.000000            0.000000        0.169427   \n999916163              0.000000            0.000000        0.000000   \n999941967              0.000000            0.000000        0.000000   \n\n           product2_tfidf  \nuser_id                    \n122915           0.167480  \n463458           0.224765  \n1475907          0.449520  \n1576626          0.000000  \n2112338          0.000000  \n...                   ...  \n999275109        0.000000  \n999642905        0.000000  \n999914554        0.000000  \n999916163        0.000000  \n999941967        0.000000  \n\n[3751 rows x 13 columns]",
      "text/html": "<div>\n<style scoped>\n    .dataframe tbody tr th:only-of-type {\n        vertical-align: middle;\n    }\n\n    .dataframe tbody tr th {\n        vertical-align: top;\n    }\n\n    .dataframe thead th {\n        text-align: right;\n    }\n</style>\n<table border=\"1\" class=\"dataframe\">\n  <thead>\n    <tr style=\"text-align: right;\">\n      <th></th>\n      <th>cart_tfidf</th>\n      <th>catalog_tfidf</th>\n      <th>delivery_choice_tfidf</th>\n      <th>delivery_courier_tfidf</th>\n      <th>delivery_pickup_tfidf</th>\n      <th>lost_tfidf</th>\n      <th>main_tfidf</th>\n      <th>payment_card_tfidf</th>\n      <th>payment_cash_tfidf</th>\n      <th>payment_choice_tfidf</th>\n      <th>payment_done_tfidf</th>\n      <th>product1_tfidf</th>\n      <th>product2_tfidf</th>\n    </tr>\n    <tr>\n      <th>user_id</th>\n      <th></th>\n      <th></th>\n      <th></th>\n      <th></th>\n      <th></th>\n      <th></th>\n      <th></th>\n      <th></th>\n      <th></th>\n      <th></th>\n      <th></th>\n      <th></th>\n      <th></th>\n    </tr>\n  </thead>\n  <tbody>\n    <tr>\n      <th>122915</th>\n      <td>0.071095</td>\n      <td>0.796693</td>\n      <td>0.000000</td>\n      <td>0.000000</td>\n      <td>0.000000</td>\n      <td>0.050792</td>\n      <td>0.433586</td>\n      <td>0.0</td>\n      <td>0.0</td>\n      <td>0.000000</td>\n      <td>0.000000</td>\n      <td>0.376298</td>\n      <td>0.167480</td>\n    </tr>\n    <tr>\n      <th>463458</th>\n      <td>0.000000</td>\n      <td>0.950397</td>\n      <td>0.000000</td>\n      <td>0.000000</td>\n      <td>0.000000</td>\n      <td>0.136331</td>\n      <td>0.166254</td>\n      <td>0.0</td>\n      <td>0.0</td>\n      <td>0.000000</td>\n      <td>0.000000</td>\n      <td>0.000000</td>\n      <td>0.224765</td>\n    </tr>\n    <tr>\n      <th>1475907</th>\n      <td>0.190821</td>\n      <td>0.593985</td>\n      <td>0.230837</td>\n      <td>0.298851</td>\n      <td>0.000000</td>\n      <td>0.136328</td>\n      <td>0.332502</td>\n      <td>0.0</td>\n      <td>0.0</td>\n      <td>0.270565</td>\n      <td>0.000000</td>\n      <td>0.252498</td>\n      <td>0.449520</td>\n    </tr>\n    <tr>\n      <th>1576626</th>\n      <td>0.000000</td>\n      <td>0.000000</td>\n      <td>0.000000</td>\n      <td>0.000000</td>\n      <td>0.000000</td>\n      <td>0.634086</td>\n      <td>0.773263</td>\n      <td>0.0</td>\n      <td>0.0</td>\n      <td>0.000000</td>\n      <td>0.000000</td>\n      <td>0.000000</td>\n      <td>0.000000</td>\n    </tr>\n    <tr>\n      <th>2112338</th>\n      <td>0.000000</td>\n      <td>0.704163</td>\n      <td>0.000000</td>\n      <td>0.000000</td>\n      <td>0.000000</td>\n      <td>0.269359</td>\n      <td>0.656962</td>\n      <td>0.0</td>\n      <td>0.0</td>\n      <td>0.000000</td>\n      <td>0.000000</td>\n      <td>0.000000</td>\n      <td>0.000000</td>\n    </tr>\n    <tr>\n      <th>...</th>\n      <td>...</td>\n      <td>...</td>\n      <td>...</td>\n      <td>...</td>\n      <td>...</td>\n      <td>...</td>\n      <td>...</td>\n      <td>...</td>\n      <td>...</td>\n      <td>...</td>\n      <td>...</td>\n      <td>...</td>\n      <td>...</td>\n    </tr>\n    <tr>\n      <th>999275109</th>\n      <td>0.355102</td>\n      <td>0.442142</td>\n      <td>0.429567</td>\n      <td>0.000000</td>\n      <td>0.655381</td>\n      <td>0.253694</td>\n      <td>0.000000</td>\n      <td>0.0</td>\n      <td>0.0</td>\n      <td>0.000000</td>\n      <td>0.000000</td>\n      <td>0.000000</td>\n      <td>0.000000</td>\n    </tr>\n    <tr>\n      <th>999642905</th>\n      <td>0.289277</td>\n      <td>0.360183</td>\n      <td>0.349939</td>\n      <td>0.453045</td>\n      <td>0.000000</td>\n      <td>0.000000</td>\n      <td>0.252029</td>\n      <td>0.0</td>\n      <td>0.0</td>\n      <td>0.410166</td>\n      <td>0.476576</td>\n      <td>0.000000</td>\n      <td>0.000000</td>\n    </tr>\n    <tr>\n      <th>999914554</th>\n      <td>0.128042</td>\n      <td>0.797132</td>\n      <td>0.000000</td>\n      <td>0.000000</td>\n      <td>0.000000</td>\n      <td>0.091477</td>\n      <td>0.557774</td>\n      <td>0.0</td>\n      <td>0.0</td>\n      <td>0.000000</td>\n      <td>0.000000</td>\n      <td>0.169427</td>\n      <td>0.000000</td>\n    </tr>\n    <tr>\n      <th>999916163</th>\n      <td>0.812397</td>\n      <td>0.505763</td>\n      <td>0.000000</td>\n      <td>0.000000</td>\n      <td>0.000000</td>\n      <td>0.290199</td>\n      <td>0.000000</td>\n      <td>0.0</td>\n      <td>0.0</td>\n      <td>0.000000</td>\n      <td>0.000000</td>\n      <td>0.000000</td>\n      <td>0.000000</td>\n    </tr>\n    <tr>\n      <th>999941967</th>\n      <td>0.000000</td>\n      <td>0.656969</td>\n      <td>0.000000</td>\n      <td>0.000000</td>\n      <td>0.000000</td>\n      <td>0.753918</td>\n      <td>0.000000</td>\n      <td>0.0</td>\n      <td>0.0</td>\n      <td>0.000000</td>\n      <td>0.000000</td>\n      <td>0.000000</td>\n      <td>0.000000</td>\n    </tr>\n  </tbody>\n</table>\n<p>3751 rows × 13 columns</p>\n</div>"
     },
     "execution_count": 4,
     "metadata": {},
     "output_type": "execute_result"
    }
   ],
   "source": [
    "test_stream.clusters.extract_features()"
   ],
   "metadata": {
    "collapsed": false
   }
  }
 ],
 "metadata": {
  "kernelspec": {
   "display_name": "Python 3",
   "language": "python",
   "name": "python3"
  },
  "language_info": {
   "codemirror_mode": {
    "name": "ipython",
    "version": 2
   },
   "file_extension": ".py",
   "mimetype": "text/x-python",
   "name": "python",
   "nbconvert_exporter": "python",
   "pygments_lexer": "ipython2",
   "version": "2.7.6"
  }
 },
 "nbformat": 4,
 "nbformat_minor": 0
}
