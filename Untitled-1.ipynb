{
 "cells": [
  {
   "cell_type": "code",
   "execution_count": 1,
   "metadata": {},
   "outputs": [
    {
     "ename": "ModuleNotFoundError",
     "evalue": "No module named 'eventstream'",
     "output_type": "error",
     "traceback": [
      "\u001b[0;31m---------------------------------------------------------------------------\u001b[0m",
      "\u001b[0;31mModuleNotFoundError\u001b[0m                       Traceback (most recent call last)",
      "\u001b[0;32m/tmp/ipykernel_145926/3918858347.py\u001b[0m in \u001b[0;36m<module>\u001b[0;34m\u001b[0m\n\u001b[0;32m----> 1\u001b[0;31m \u001b[0;32mfrom\u001b[0m \u001b[0meventstream\u001b[0m\u001b[0;34m.\u001b[0m\u001b[0meventstream\u001b[0m \u001b[0;32mimport\u001b[0m \u001b[0mEventstream\u001b[0m\u001b[0;34m\u001b[0m\u001b[0;34m\u001b[0m\u001b[0m\n\u001b[0m\u001b[1;32m      2\u001b[0m \u001b[0;32mfrom\u001b[0m \u001b[0meventstream\u001b[0m\u001b[0;34m.\u001b[0m\u001b[0mschema\u001b[0m \u001b[0;32mimport\u001b[0m \u001b[0mRawDataSchema\u001b[0m\u001b[0;34m,\u001b[0m \u001b[0mEventstreamSchema\u001b[0m\u001b[0;34m\u001b[0m\u001b[0;34m\u001b[0m\u001b[0m\n\u001b[1;32m      3\u001b[0m \u001b[0;32mimport\u001b[0m \u001b[0mpandas\u001b[0m \u001b[0;32mas\u001b[0m \u001b[0mpd\u001b[0m\u001b[0;34m\u001b[0m\u001b[0;34m\u001b[0m\u001b[0m\n\u001b[1;32m      4\u001b[0m \u001b[0;34m\u001b[0m\u001b[0m\n\u001b[1;32m      5\u001b[0m \u001b[0mstart_timestamp\u001b[0m \u001b[0;34m=\u001b[0m \u001b[0;36m1649436481\u001b[0m\u001b[0;34m\u001b[0m\u001b[0;34m\u001b[0m\u001b[0m\n",
      "\u001b[0;31mModuleNotFoundError\u001b[0m: No module named 'eventstream'"
     ]
    }
   ],
   "source": [
    "from src.eventstream.eventstream import Eventstream\n",
    "from src.eventstream.schema import RawDataSchema, EventstreamSchema\n",
    "import pandas as pd\n",
    "\n",
    "start_timestamp = 1649436481\n",
    "raw_data = pd.DataFrame([\n",
    "  { \"name\": \"pageview\", \"event_timestamp\": start_timestamp, \"user_id\": \"1\" },\n",
    "  { \"name\": \"click_1\", \"event_timestamp\": start_timestamp + 1, \"user_id\": \"1\" },\n",
    "  { \"name\": \"click_2\", \"event_timestamp\": start_timestamp + 2, \"user_id\": \"1\" },\n",
    "])\n",
    "raw_data_schema = RawDataSchema(event_name=\"name\", event_timestamp=\"event_timestamp\", user_id=\"user_id\")\n",
    "\n",
    "es = Eventstream(\n",
    "  raw_data=raw_data,\n",
    "  raw_data_schema=raw_data_schema,\n",
    "  schema=EventstreamSchema()\n",
    ")\n",
    "\n",
    "es.to_dataframe()\n"
   ]
  },
  {
   "cell_type": "code",
   "execution_count": 2,
   "metadata": {},
   "outputs": [
    {
     "data": {
      "text/plain": [
       "False"
      ]
     },
     "execution_count": 2,
     "metadata": {},
     "output_type": "execute_result"
    }
   ],
   "source": [
    "import networkx as nx\n",
    "import pandas as pd\n",
    "\n",
    "\n",
    "\n",
    "graph = nx.DiGraph()\n",
    "\n",
    "graph.add_nodes_from([1,2,3,4,5])\n",
    "graph.add_edge(1, 2)\n",
    "graph.add_edge(1, 3)\n",
    "graph.add_edge(3, 4)\n",
    "graph.add_edge(5, 4)\n",
    "\n",
    "\n",
    "for i in graph.predecessors(1):\n",
    "  print(i)\n",
    "\n",
    "\n",
    "df = pd.DataFrame([\n",
    "  { \"a\": 3, \"b\": 4 },\n",
    "  { \"a\": 32, \"b\": 33 },\n",
    "])\n",
    "\n",
    "\"dd\" in df.columns\n",
    "  "
   ]
  }
 ],
 "metadata": {
  "interpreter": {
   "hash": "916dbcbb3f70747c44a77c7bcd40155683ae19c65e1c03b4aa3499c5328201f1"
  },
  "kernelspec": {
   "display_name": "Python 3.8.10 64-bit",
   "language": "python",
   "name": "python3"
  },
  "language_info": {
   "codemirror_mode": {
    "name": "ipython",
    "version": 3
   },
   "file_extension": ".py",
   "mimetype": "text/x-python",
   "name": "python",
   "nbconvert_exporter": "python",
   "pygments_lexer": "ipython3",
   "version": "3.8.10"
  },
  "orig_nbformat": 4
 },
 "nbformat": 4,
 "nbformat_minor": 2
}
